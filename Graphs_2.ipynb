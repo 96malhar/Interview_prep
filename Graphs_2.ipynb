{
 "cells": [
  {
   "cell_type": "markdown",
   "metadata": {},
   "source": [
    "## Cycle Detection"
   ]
  },
  {
   "cell_type": "markdown",
   "metadata": {},
   "source": [
    "### Given a directed graph detect if there is a cycle"
   ]
  },
  {
   "cell_type": "code",
   "execution_count": 22,
   "metadata": {},
   "outputs": [],
   "source": [
    "class Graph:\n",
    "    def __init__(self, node_list):\n",
    "        self.node_list = node_list\n",
    "    \n",
    "    def add_node(self, node):\n",
    "        self.node_list.append(node)\n",
    "\n",
    "class Node:\n",
    "    def __init__(self, neighbors, data):\n",
    "        self.neighbors = neighbors\n",
    "        self.data = data\n",
    "    \n",
    "    def add_neighbor(self, node):\n",
    "        self.neighbors.append(node)"
   ]
  },
  {
   "cell_type": "code",
   "execution_count": 2,
   "metadata": {},
   "outputs": [],
   "source": [
    "node1 = Node([],1)\n",
    "node2 = Node([],2)\n",
    "node3 = Node([],3)\n",
    "node4 = Node([],4)\n",
    "node5 = Node([],5)\n",
    "\n",
    "node1.neighbors = [node2, node3]\n",
    "node2.neighbors = [node5]\n",
    "node5.neighbors = [node4]\n",
    "node4.neighbors = [node2, node3]\n",
    "\n",
    "graph = Graph([node1, node2, node3, node4, node5])"
   ]
  },
  {
   "cell_type": "code",
   "execution_count": 4,
   "metadata": {},
   "outputs": [
    {
     "data": {
      "text/plain": [
       "True"
      ]
     },
     "execution_count": 4,
     "metadata": {},
     "output_type": "execute_result"
    }
   ],
   "source": [
    "def has_cycle(graph):\n",
    "    state = {}\n",
    "    for node in graph.node_list:\n",
    "        if node not in state and has_cycle_dfs(node, state):\n",
    "            return True\n",
    "    return False\n",
    "\n",
    "def has_cycle_dfs(node, state):\n",
    "    state[node] = 'visiting'\n",
    "    for neighbor in node.neighbors:\n",
    "        if neighbor not in state and has_cycle_dfs(neighbor, state):\n",
    "            return True\n",
    "        elif state[neighbor] == 'visiting':\n",
    "            return True\n",
    "    state[node] = 'visited'\n",
    "    return False\n",
    "        \n",
    "has_cycle(graph)        "
   ]
  },
  {
   "cell_type": "markdown",
   "metadata": {},
   "source": [
    "### Course Schedule II\n",
    "There are a total of n courses you have to take, labeled from 0 to n-1.\n",
    "\n",
    "Some courses may have prerequisites, for example to take course 0 you have to first take course 1, which is expressed as a pair: [0,1]\n",
    "\n",
    "Given the total number of courses and a list of prerequisite pairs, return the ordering of courses you should take to finish all courses.\n",
    "* Input: 4, [[1,0],[2,0],[3,1],[3,2]]\n",
    "* Output: [0,1,2,3] or [0,2,1,3]"
   ]
  },
  {
   "cell_type": "code",
   "execution_count": 1,
   "metadata": {},
   "outputs": [
    {
     "data": {
      "text/plain": [
       "[0, 2, 1, 3]"
      ]
     },
     "execution_count": 1,
     "metadata": {},
     "output_type": "execute_result"
    }
   ],
   "source": [
    "class Solution:\n",
    "    def findOrder(self, numCourses, prerequisites):\n",
    "        from collections import defaultdict\n",
    "        self.adjlist = defaultdict(list)\n",
    "        for x,y in prerequisites:\n",
    "            self.adjlist[y].append(x)\n",
    "        \n",
    "        state = {}; result = []\n",
    "        for node in range(numCourses):\n",
    "            if node not in state and self.has_cycle(node, state, result):\n",
    "                return []\n",
    "        return result\n",
    "    \n",
    "    def has_cycle(self, node, state, result):\n",
    "        state[node] = 'visiting'\n",
    "        for neighbor in self.adjlist[node]:\n",
    "            if neighbor not in state and self.has_cycle(neighbor, state, result):\n",
    "                return True\n",
    "            elif state[neighbor] == 'visiting':\n",
    "                return True\n",
    "        state[node] = 'visited'\n",
    "        result.insert(0,node)\n",
    "        return False\n",
    "    \n",
    "obj = Solution()\n",
    "obj.findOrder(4, [[1,0],[2,0],[3,1],[3,2]])"
   ]
  },
  {
   "cell_type": "markdown",
   "metadata": {},
   "source": [
    "## Bipartite Graph"
   ]
  },
  {
   "cell_type": "markdown",
   "metadata": {},
   "source": [
    "### Possible Bipartion"
   ]
  },
  {
   "cell_type": "markdown",
   "metadata": {},
   "source": [
    "Given a set of N people (numbered 1, 2, ..., N), we would like to split everyone into two groups of any size.\n",
    "\n",
    "Each person may dislike some other people, and they should not go into the same group. \n",
    "\n",
    "Formally, if dislikes[i] = [a, b], it means it is not allowed to put the people numbered a and b into the same group.\n",
    "\n",
    "Return true if and only if it is possible to split everyone into two groups in this way.\n",
    "\n",
    "* Input: N = 4, dislikes = [[1,2],[1,3],[2,4]]\n",
    "* Output: true\n",
    "* Explanation: group1 [1,4], group2 [2,3]"
   ]
  },
  {
   "cell_type": "code",
   "execution_count": 17,
   "metadata": {},
   "outputs": [],
   "source": [
    "class Solution:\n",
    "    def possibleBipartition(self, N, dislikes):\n",
    "        from collections import defaultdict\n",
    "        self.adjlist = defaultdict(list)\n",
    "        for x, y in dislikes:\n",
    "            self.adjlist[x].append(y)\n",
    "            self.adjlist[y].append(x)\n",
    "        state = {}; group1 = []; group2 = []\n",
    "        for node in range(1,N+1):\n",
    "            if node not in state :\n",
    "                groups = self.get_bipartite_groups(node, state)\n",
    "                if groups is None:\n",
    "                    return []\n",
    "                group1 += groups[0]\n",
    "                group2 += groups[1]\n",
    "        return group1, group2 \n",
    "    \n",
    "    def get_bipartite_groups(self, node, state):\n",
    "        state[node] = 'visiting'; level = {node:0}; queue = [node]; even = []; odd = []\n",
    "        \n",
    "        while len(queue):\n",
    "            curr = queue.pop(0)\n",
    "            if level[curr]%2==0:\n",
    "                even.append(curr)\n",
    "            else:\n",
    "                odd.append(curr)\n",
    "            for neighbor in self.adjlist[curr]:\n",
    "                if neighbor not in state:\n",
    "                    state[neighbor] = 'visiting'\n",
    "                    level[neighbor] = level[curr] + 1\n",
    "                    queue.append(neighbor)\n",
    "                elif level[neighbor] == level[curr]:\n",
    "                    return None\n",
    "            state[curr] = 'visited'\n",
    "        return even, odd"
   ]
  },
  {
   "cell_type": "code",
   "execution_count": 20,
   "metadata": {},
   "outputs": [
    {
     "data": {
      "text/plain": [
       "([1, 4], [2, 3])"
      ]
     },
     "execution_count": 20,
     "metadata": {},
     "output_type": "execute_result"
    }
   ],
   "source": [
    "obj = Solution()\n",
    "obj.possibleBipartition(4, [[1,2],[1,3],[2,4]])"
   ]
  },
  {
   "cell_type": "markdown",
   "metadata": {},
   "source": [
    "## Connected Components in undirected Graph"
   ]
  },
  {
   "cell_type": "markdown",
   "metadata": {},
   "source": [
    "### Given a graph, mark each connected component with a different color\n"
   ]
  },
  {
   "cell_type": "code",
   "execution_count": 23,
   "metadata": {},
   "outputs": [],
   "source": [
    "node1 = Node([],1)\n",
    "node2 = Node([],2)\n",
    "node3 = Node([],3)\n",
    "node4 = Node([],4)\n",
    "node5 = Node([],5)\n",
    "node6 = Node([],6)\n",
    "node7 = Node([],7)\n",
    "node8 = Node([],8)\n",
    "\n",
    "node1.neighbors = [node2, node3]\n",
    "node2.neighbors = [node4]\n",
    "node3.neighbors = [node4, node5, node6]\n",
    "node4.neighbors = [node6]\n",
    "node5.neighbors = [node6]\n",
    "node7.neighbors = [node8]\n",
    "\n",
    "graph = Graph([node1, node2, node3, node4, node5, node6, node7, node8])"
   ]
  },
  {
   "cell_type": "code",
   "execution_count": 28,
   "metadata": {},
   "outputs": [],
   "source": [
    "def color_graph(graph):\n",
    "    color = {}; state = {}; color_val = 0\n",
    "    for node in graph.node_list:\n",
    "        if node not in state:\n",
    "            dfs_visit(node, color, state, color_val)\n",
    "            color_val += 1\n",
    "    return color\n",
    "\n",
    "def dfs_visit(node, color, state, color_val):\n",
    "    state[node] = 'visiting'\n",
    "    color[node] = color_val\n",
    "    \n",
    "    for neighbor in node.neighbors:\n",
    "        if neighbor not in state:\n",
    "            dfs_visit(neighbor, color, state, color_val)\n",
    "    state[node] = 'visited'"
   ]
  },
  {
   "cell_type": "code",
   "execution_count": 30,
   "metadata": {},
   "outputs": [
    {
     "data": {
      "text/plain": [
       "{<__main__.Node at 0x7fa8dc21a2e8>: 0,\n",
       " <__main__.Node at 0x7fa8dc21a2b0>: 0,\n",
       " <__main__.Node at 0x7fa8dc21a358>: 0,\n",
       " <__main__.Node at 0x7fa8dc21a3c8>: 0,\n",
       " <__main__.Node at 0x7fa8dc21a320>: 0,\n",
       " <__main__.Node at 0x7fa8dc21a390>: 0,\n",
       " <__main__.Node at 0x7fa8dc21a400>: 1,\n",
       " <__main__.Node at 0x7fa8dc21a438>: 1}"
      ]
     },
     "execution_count": 30,
     "metadata": {},
     "output_type": "execute_result"
    }
   ],
   "source": [
    "color = color_graph(graph)\n",
    "color"
   ]
  }
 ],
 "metadata": {
  "kernelspec": {
   "display_name": "Python 3",
   "language": "python",
   "name": "python3"
  },
  "language_info": {
   "codemirror_mode": {
    "name": "ipython",
    "version": 3
   },
   "file_extension": ".py",
   "mimetype": "text/x-python",
   "name": "python",
   "nbconvert_exporter": "python",
   "pygments_lexer": "ipython3",
   "version": "3.6.8"
  }
 },
 "nbformat": 4,
 "nbformat_minor": 2
}
