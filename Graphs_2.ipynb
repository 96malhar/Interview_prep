{
 "cells": [
  {
   "cell_type": "markdown",
   "metadata": {},
   "source": [
    "## Cycle Detection"
   ]
  },
  {
   "cell_type": "markdown",
   "metadata": {},
   "source": [
    "### Given a directed graph detect if there is a cycle"
   ]
  },
  {
   "cell_type": "code",
   "execution_count": 22,
   "metadata": {},
   "outputs": [],
   "source": [
    "class Graph:\n",
    "    def __init__(self, node_list):\n",
    "        self.node_list = node_list\n",
    "    \n",
    "    def add_node(self, node):\n",
    "        self.node_list.append(node)\n",
    "\n",
    "class Node:\n",
    "    def __init__(self, neighbors, data):\n",
    "        self.neighbors = neighbors\n",
    "        self.data = data\n",
    "    \n",
    "    def add_neighbor(self, node):\n",
    "        self.neighbors.append(node)"
   ]
  },
  {
   "cell_type": "code",
   "execution_count": 2,
   "metadata": {},
   "outputs": [],
   "source": [
    "node1 = Node([],1)\n",
    "node2 = Node([],2)\n",
    "node3 = Node([],3)\n",
    "node4 = Node([],4)\n",
    "node5 = Node([],5)\n",
    "\n",
    "node1.neighbors = [node2, node3]\n",
    "node2.neighbors = [node5]\n",
    "node5.neighbors = [node4]\n",
    "node4.neighbors = [node2, node3]\n",
    "\n",
    "graph = Graph([node1, node2, node3, node4, node5])"
   ]
  },
  {
   "cell_type": "code",
   "execution_count": 4,
   "metadata": {},
   "outputs": [
    {
     "data": {
      "text/plain": [
       "True"
      ]
     },
     "execution_count": 4,
     "metadata": {},
     "output_type": "execute_result"
    }
   ],
   "source": [
    "def has_cycle(graph):\n",
    "    state = {}\n",
    "    for node in graph.node_list:\n",
    "        if node not in state and has_cycle_dfs(node, state):\n",
    "            return True\n",
    "    return False\n",
    "\n",
    "def has_cycle_dfs(node, state):\n",
    "    state[node] = 'visiting'\n",
    "    for neighbor in node.neighbors:\n",
    "        if neighbor not in state and has_cycle_dfs(neighbor, state):\n",
    "            return True\n",
    "        elif state[neighbor] == 'visiting':\n",
    "            return True\n",
    "    state[node] = 'visited'\n",
    "    return False\n",
    "        \n",
    "has_cycle(graph)        "
   ]
  },
  {
   "cell_type": "markdown",
   "metadata": {},
   "source": [
    "### Course Schedule\n",
    "There are a total of n courses you have to take, labeled from 0 to n-1.\n",
    "\n",
    "Some courses may have prerequisites, for example to take course 0 you have to first take course 1, which is expressed as a pair: [0,1]\n",
    "\n",
    "Given the total number of courses and a list of prerequisite pairs, is it possible for you to finish all courses?\n",
    "\n",
    "* Input: 2, [[1,0]] \n",
    "* Output: true\n",
    "* Explanation: There are a total of 2 courses to take. To take course 1 you should have finished course 0. So it is possible."
   ]
  },
  {
   "cell_type": "code",
   "execution_count": 2,
   "metadata": {},
   "outputs": [
    {
     "data": {
      "text/plain": [
       "True"
      ]
     },
     "execution_count": 2,
     "metadata": {},
     "output_type": "execute_result"
    }
   ],
   "source": [
    "class Solution:\n",
    "    def canFinish(self, numCourses, prerequisites):\n",
    "        from collections import defaultdict\n",
    "        self.adjlist = defaultdict(list)\n",
    "        for x,y in prerequisites:\n",
    "            self.adjlist[y].append(x)\n",
    "\n",
    "        state = {}\n",
    "        for node in range(numCourses):\n",
    "            if node not in state and self.has_cycle(node, state):\n",
    "                return False\n",
    "        return True\n",
    "    \n",
    "    def has_cycle(self, node, state):\n",
    "        state[node] = 'visiting'\n",
    "        for neighbor in self.adjlist[node]:\n",
    "            if neighbor not in state and self.has_cycle(neighbor, state):\n",
    "                return True\n",
    "            elif state[neighbor] == 'visiting':\n",
    "                return True\n",
    "        state[node] = 'visited'\n",
    "        return False\n",
    "    \n",
    "obj = Solution()\n",
    "obj.canFinish(4, [[1,0],[2,0],[3,1],[3,2]])       "
   ]
  },
  {
   "cell_type": "markdown",
   "metadata": {},
   "source": [
    "### Course Schedule II\n",
    "There are a total of n courses you have to take, labeled from 0 to n-1.\n",
    "\n",
    "Some courses may have prerequisites, for example to take course 0 you have to first take course 1, which is expressed as a pair: [0,1]\n",
    "\n",
    "Given the total number of courses and a list of prerequisite pairs, return the ordering of courses you should take to finish all courses.\n",
    "* Input: 4, [[1,0],[2,0],[3,1],[3,2]]\n",
    "* Output: [0,1,2,3] or [0,2,1,3]"
   ]
  },
  {
   "cell_type": "code",
   "execution_count": 23,
   "metadata": {},
   "outputs": [
    {
     "data": {
      "text/plain": [
       "[0, 2, 1, 3]"
      ]
     },
     "execution_count": 23,
     "metadata": {},
     "output_type": "execute_result"
    }
   ],
   "source": [
    "class Solution:\n",
    "    def findOrder(self, numCourses, prerequisites):\n",
    "        from collections import defaultdict\n",
    "        self.adjlist = defaultdict(list)\n",
    "        for x,y in prerequisites:\n",
    "            self.adjlist[y].append(x)\n",
    "        \n",
    "        state = {}; result = []\n",
    "        for node in range(numCourses):\n",
    "            if node not in state and self.has_cycle(node, state, result):\n",
    "                return []\n",
    "        return result\n",
    "    \n",
    "    def has_cycle(self, node, state, result):\n",
    "        state[node] = 'visiting'\n",
    "        for neighbor in self.adjlist[node]:\n",
    "            if neighbor not in state and self.has_cycle(neighbor, state, result):\n",
    "                return True\n",
    "            elif state[neighbor] == 'visiting':\n",
    "                return True\n",
    "        state[node] = 'visited'\n",
    "        result.insert(0,node)\n",
    "        return False\n",
    "    \n",
    "obj = Solution()\n",
    "obj.findOrder(4, [[1,0],[2,0],[3,1],[3,2]])"
   ]
  },
  {
   "cell_type": "markdown",
   "metadata": {},
   "source": [
    "### Designations ordering\n",
    "Consider a vector of employees with a name and their title:\n",
    "[<John, Manager>, <Sally, CTO>, <Sam, CEO>, <Drax, Engineer>, <Bob, CFO>, <Daniel, Engineer>]\n",
    "\n",
    "And a dictionary where the keys report to the values:\n",
    "{[CTO, CEO], [Manager, CTO], [Engineer, Manager], [CFO, CEO]}\n",
    "\n",
    "Re-order the vector of employees according to the dictionary mappings. The vector of employees can be extremely big, however the dictionary only contains the title orderings.\n",
    "\n",
    "Sample output:\n",
    "[<Drax, Engineer>, <Daniel, Engineer>, <John, Manager>, <Sally, CTO>, <Bob, CFO>, <Sam, CEO>]\n",
    "\n",
    "Note that in this case, CTO and CFO both report to CEO so they are both before CEO and above the next biggest thing, which is manager. They can also be in either order in this case."
   ]
  },
  {
   "cell_type": "code",
   "execution_count": 49,
   "metadata": {},
   "outputs": [],
   "source": [
    "def ordering(title, reports_to):\n",
    "    from collections import defaultdict\n",
    "    subordinates = defaultdict(list)\n",
    "    designations = defaultdict(list)\n",
    "    heirarchy = []; state = {}; unique_positions = set(); stack = []\n",
    "    for key, val in reports_to.items():\n",
    "        subordinates[val].append(key)\n",
    "        unique_positions.add(val)\n",
    "        unique_positions.add(key)\n",
    "        \n",
    "    for name, position in title:\n",
    "        designations[position].append(name)\n",
    "    \n",
    "    for node in unique_positions:\n",
    "        if node not in state:\n",
    "            dfs(node, subordinates, state, stack)\n",
    "            \n",
    "    queue = [stack[-1]]\n",
    "    while queue:\n",
    "        node = queue.pop(0)\n",
    "        heirarchy.append(node)\n",
    "        for subordinate in subordinates[node]:\n",
    "            queue.append(subordinate)\n",
    "    \n",
    "    heirarchy = heirarchy[::-1]\n",
    "    print(heirarchy)\n",
    "    ans = []\n",
    "    for position in heirarchy:\n",
    "        for name in designations[position]:\n",
    "            ans.append((name, position))\n",
    "    \n",
    "    return ans\n",
    "        \n",
    "def dfs(node, subordinates, state, stack):\n",
    "    state[node] = 'visiting'\n",
    "    for subordinate in subordinates[node]:\n",
    "        if subordinate not in state:\n",
    "            dfs(subordinate, subordinates, state, stack)\n",
    "    \n",
    "    state[node] = 'visited'\n",
    "    stack.append(node)"
   ]
  },
  {
   "cell_type": "code",
   "execution_count": 50,
   "metadata": {},
   "outputs": [
    {
     "name": "stdout",
     "output_type": "stream",
     "text": [
      "['Engineer', 'Manager', 'CTO', 'CFO', 'CEO', 'President', 'Chairman']\n"
     ]
    },
    {
     "data": {
      "text/plain": [
       "[('Drax', 'Engineer'),\n",
       " ('Daniel', 'Engineer'),\n",
       " ('John', 'Manager'),\n",
       " ('Sally', 'CTO'),\n",
       " ('Bob', 'CFO'),\n",
       " ('Sam', 'CEO'),\n",
       " ('Kushal', 'President'),\n",
       " ('Malhar', 'Chairman')]"
      ]
     },
     "execution_count": 50,
     "metadata": {},
     "output_type": "execute_result"
    }
   ],
   "source": [
    "title = [('Malhar', 'Chairman'), ('John', 'Manager'), ('Sally', 'CTO'), ('Sam', 'CEO'), ('Drax', 'Engineer'), \n",
    "         ('Bob', 'CFO'), ('Daniel', 'Engineer'), ('Kushal', 'President')]\n",
    "\n",
    "reports_to = {'Manager':'CTO', 'Engineer':'Manager', 'CFO':'CEO', 'CEO':'President', \n",
    "              'CTO':'CEO', 'President':'Chairman'}\n",
    "ordering(title, reports_to)"
   ]
  },
  {
   "cell_type": "markdown",
   "metadata": {},
   "source": [
    "## Bipartite Graph"
   ]
  },
  {
   "cell_type": "markdown",
   "metadata": {},
   "source": [
    "### Possible Bipartion"
   ]
  },
  {
   "cell_type": "markdown",
   "metadata": {},
   "source": [
    "Given a set of N people (numbered 1, 2, ..., N), we would like to split everyone into two groups of any size.\n",
    "\n",
    "Each person may dislike some other people, and they should not go into the same group. \n",
    "\n",
    "Formally, if dislikes[i] = [a, b], it means it is not allowed to put the people numbered a and b into the same group.\n",
    "\n",
    "Return true if and only if it is possible to split everyone into two groups in this way.\n",
    "\n",
    "* Input: N = 4, dislikes = [[1,2],[1,3],[2,4]]\n",
    "* Output: true\n",
    "* Explanation: group1 [1,4], group2 [2,3]"
   ]
  },
  {
   "cell_type": "code",
   "execution_count": 17,
   "metadata": {},
   "outputs": [],
   "source": [
    "class Solution:\n",
    "    def possibleBipartition(self, N, dislikes):\n",
    "        from collections import defaultdict\n",
    "        self.adjlist = defaultdict(list)\n",
    "        for x, y in dislikes:\n",
    "            self.adjlist[x].append(y)\n",
    "            self.adjlist[y].append(x)\n",
    "        state = {}; group1 = []; group2 = []\n",
    "        for node in range(1,N+1):\n",
    "            if node not in state :\n",
    "                groups = self.get_bipartite_groups(node, state)\n",
    "                if groups is None:\n",
    "                    return []\n",
    "                group1 += groups[0]\n",
    "                group2 += groups[1]\n",
    "        return group1, group2 \n",
    "    \n",
    "    def get_bipartite_groups(self, node, state):\n",
    "        state[node] = 'visiting'; level = {node:0}; queue = [node]; even = []; odd = []\n",
    "        \n",
    "        while len(queue):\n",
    "            curr = queue.pop(0)\n",
    "            if level[curr]%2==0:\n",
    "                even.append(curr)\n",
    "            else:\n",
    "                odd.append(curr)\n",
    "            for neighbor in self.adjlist[curr]:\n",
    "                if neighbor not in state:\n",
    "                    state[neighbor] = 'visiting'\n",
    "                    level[neighbor] = level[curr] + 1\n",
    "                    queue.append(neighbor)\n",
    "                elif level[neighbor] == level[curr]:\n",
    "                    return None\n",
    "            state[curr] = 'visited'\n",
    "        return even, odd"
   ]
  },
  {
   "cell_type": "code",
   "execution_count": 20,
   "metadata": {},
   "outputs": [
    {
     "data": {
      "text/plain": [
       "([1, 4], [2, 3])"
      ]
     },
     "execution_count": 20,
     "metadata": {},
     "output_type": "execute_result"
    }
   ],
   "source": [
    "obj = Solution()\n",
    "obj.possibleBipartition(4, [[1,2],[1,3],[2,4]])"
   ]
  },
  {
   "cell_type": "markdown",
   "metadata": {},
   "source": [
    "### Is Graph Bipartite?\n",
    "Given an undirected graph, return true if and only if it is bipartite.\n",
    "\n",
    "Recall that a graph is bipartite if we can split it's set of nodes into two independent subsets A and B such that every edge in the graph has one node in A and another node in B.\n",
    "\n",
    "The graph is given in the following form: graph[i] is a list of indexes j for which the edge between nodes i and j exists.  Each node is an integer between 0 and graph.length - 1.  There are no self edges or parallel edges: graph[i] does not contain i, and it doesn't contain any element twice.\n",
    "\n",
    "* Input: [[1,3], [0,2], [1,3], [0,2]]\n",
    "* Output: true\n",
    "* Explanation: \n",
    "* We can divide the vertices into two groups: {0, 2} and {1, 3}."
   ]
  },
  {
   "cell_type": "code",
   "execution_count": 5,
   "metadata": {},
   "outputs": [
    {
     "data": {
      "text/plain": [
       "True"
      ]
     },
     "execution_count": 5,
     "metadata": {},
     "output_type": "execute_result"
    }
   ],
   "source": [
    "class Solution:\n",
    "    def isBipartite(self, graph):\n",
    "        state = {}\n",
    "        for node in range(len(graph)):\n",
    "            if node not in state and self.not_bipartite(node, state, graph):\n",
    "                return False\n",
    "        return True\n",
    "    \n",
    "    def not_bipartite(self, node, state, graph):\n",
    "        level = {node:0}; state[node] = 'visiting'; queue = [node]\n",
    "        while len(queue):\n",
    "            curr = queue.pop(0)\n",
    "            for neighbor in graph[curr]:\n",
    "                if neighbor not in state:\n",
    "                    state[neighbor] = 'visiting'\n",
    "                    level[neighbor] = level[curr]+1\n",
    "                    queue.append(neighbor)\n",
    "                elif level[neighbor] == level[curr]:\n",
    "                    return True\n",
    "            state[curr] = 'visited'\n",
    "        return False\n",
    "                \n",
    "obj = Solution()\n",
    "obj.isBipartite([[1,3], [0,2], [1,3], [0,2]])"
   ]
  },
  {
   "cell_type": "markdown",
   "metadata": {},
   "source": [
    "## Connected Components in undirected Graph"
   ]
  },
  {
   "cell_type": "markdown",
   "metadata": {},
   "source": [
    "### Given a graph, mark each connected component with a different color\n"
   ]
  },
  {
   "cell_type": "code",
   "execution_count": 23,
   "metadata": {},
   "outputs": [],
   "source": [
    "node1 = Node([],1)\n",
    "node2 = Node([],2)\n",
    "node3 = Node([],3)\n",
    "node4 = Node([],4)\n",
    "node5 = Node([],5)\n",
    "node6 = Node([],6)\n",
    "node7 = Node([],7)\n",
    "node8 = Node([],8)\n",
    "\n",
    "node1.neighbors = [node2, node3]\n",
    "node2.neighbors = [node4]\n",
    "node3.neighbors = [node4, node5, node6]\n",
    "node4.neighbors = [node6]\n",
    "node5.neighbors = [node6]\n",
    "node7.neighbors = [node8]\n",
    "\n",
    "graph = Graph([node1, node2, node3, node4, node5, node6, node7, node8])"
   ]
  },
  {
   "cell_type": "code",
   "execution_count": 28,
   "metadata": {},
   "outputs": [],
   "source": [
    "def color_graph(graph):\n",
    "    color = {}; state = {}; color_val = 0\n",
    "    for node in graph.node_list:\n",
    "        if node not in state:\n",
    "            dfs_visit(node, color, state, color_val)\n",
    "            color_val += 1\n",
    "    return color\n",
    "\n",
    "def dfs_visit(node, color, state, color_val):\n",
    "    state[node] = 'visiting'\n",
    "    color[node] = color_val\n",
    "    \n",
    "    for neighbor in node.neighbors:\n",
    "        if neighbor not in state:\n",
    "            dfs_visit(neighbor, color, state, color_val)\n",
    "    state[node] = 'visited'"
   ]
  },
  {
   "cell_type": "code",
   "execution_count": 30,
   "metadata": {},
   "outputs": [
    {
     "data": {
      "text/plain": [
       "{<__main__.Node at 0x7fa8dc21a2e8>: 0,\n",
       " <__main__.Node at 0x7fa8dc21a2b0>: 0,\n",
       " <__main__.Node at 0x7fa8dc21a358>: 0,\n",
       " <__main__.Node at 0x7fa8dc21a3c8>: 0,\n",
       " <__main__.Node at 0x7fa8dc21a320>: 0,\n",
       " <__main__.Node at 0x7fa8dc21a390>: 0,\n",
       " <__main__.Node at 0x7fa8dc21a400>: 1,\n",
       " <__main__.Node at 0x7fa8dc21a438>: 1}"
      ]
     },
     "execution_count": 30,
     "metadata": {},
     "output_type": "execute_result"
    }
   ],
   "source": [
    "color = color_graph(graph)\n",
    "color"
   ]
  },
  {
   "cell_type": "markdown",
   "metadata": {},
   "source": [
    "### Number of Connected Components in an Undirected Graph\n",
    "Given n nodes labeled from 0 to n - 1 and a list of undirected edges (each edge is a pair of nodes), write a function to find the number of connected components in an undirected graph.\n",
    "\n",
    "n = 5 and edges = [[0, 1], [1, 2], [3, 4]]\n",
    "\n",
    "     0          3\n",
    "     |          |\n",
    "     1 --- 2    4 \n",
    "\n",
    "Output: 2"
   ]
  },
  {
   "cell_type": "code",
   "execution_count": 8,
   "metadata": {},
   "outputs": [
    {
     "data": {
      "text/plain": [
       "2"
      ]
     },
     "execution_count": 8,
     "metadata": {},
     "output_type": "execute_result"
    }
   ],
   "source": [
    "class Solution:\n",
    "    def countComponents(self, n, edges):\n",
    "        from collections import defaultdict\n",
    "        self.adjlist = defaultdict(list)\n",
    "        for x,y in edges:\n",
    "            self.adjlist[x].append(y)\n",
    "            self.adjlist[y].append(x)\n",
    "        \n",
    "        state = {}; count = 0\n",
    "        for node in range(n):\n",
    "            if node not in state:\n",
    "                self.dfs_visit(node, state)\n",
    "                count += 1\n",
    "        return count\n",
    "    \n",
    "    def dfs_visit(self, node, state):\n",
    "        state[node] = 'visiting'\n",
    "        for neighbor in self.adjlist[node]:\n",
    "            if neighbor not in state:\n",
    "                self.dfs_visit(neighbor, state)\n",
    "        state[node] = 'visited'\n",
    "\n",
    "obj = Solution()\n",
    "obj.countComponents(5, [[0, 1], [1, 2], [3, 4]])"
   ]
  },
  {
   "cell_type": "markdown",
   "metadata": {},
   "source": [
    "### Number of Islands\n",
    "Given a 2d grid map of '1's (land) and '0's (water), count the number of islands. An island is surrounded by water and is formed by connecting adjacent lands horizontally or vertically. You may assume all four edges of the grid are all surrounded by water.\n",
    "\n",
    "* Input:\n",
    "11000\n",
    "11000\n",
    "00100\n",
    "00011\n",
    "\n",
    "* Output: 3"
   ]
  },
  {
   "cell_type": "code",
   "execution_count": 13,
   "metadata": {},
   "outputs": [
    {
     "data": {
      "text/plain": [
       "3"
      ]
     },
     "execution_count": 13,
     "metadata": {},
     "output_type": "execute_result"
    }
   ],
   "source": [
    "class Solution:\n",
    "    def numIslands(self, grid):\n",
    "        count = 0; state = {}\n",
    "        for i in range(len(grid)):\n",
    "            for j in range(len(grid[0])):\n",
    "                if grid[i][j] == '1' and (i,j) not in state:\n",
    "                    self.dfs_visit(i,j, state, grid)\n",
    "                    count += 1\n",
    "        return count\n",
    "    \n",
    "    def dfs_visit(self, i, j, state, grid):\n",
    "        state[(i,j)] = 'visiting'\n",
    "        for x,y in [(i+1,j), (i,j+1), (i-1,j), (i,j-1)]:\n",
    "            if 0<=x<len(grid) and 0<=y<len(grid[0]) and grid[x][y] == '1' and (x,y) not in state:\n",
    "                self.dfs_visit(x,y,state,grid)\n",
    "        state[(i,j)] = 'visisted'\n",
    "    \n",
    "obj = Solution()\n",
    "obj.numIslands([[\"1\",\"1\",\"0\",\"0\",\"0\"],[\"1\",\"1\",\"0\",\"0\",\"0\"],[\"0\",\"0\",\"1\",\"0\",\"0\"],[\"0\",\"0\",\"0\",\"1\",\"1\"]])"
   ]
  },
  {
   "cell_type": "markdown",
   "metadata": {},
   "source": [
    "### Number of islands II\n",
    "A 2d grid map of m rows and n columns is initially filled with water. We may perform an addLand operation which turns the water at position (row, col) into a land. Given a list of positions to operate, count the number of islands after each addLand operation. An island is surrounded by water and is formed by connecting adjacent lands horizontally or vertically. You may assume all four edges of the grid are all surrounded by water.\n",
    "\n",
    "Example:\n",
    "\n",
    "* Input: m = 3, n = 3, positions = [[0,0], [0,1], [1,2], [2,1]]\n",
    "* Output: [1,1,2,3]"
   ]
  },
  {
   "cell_type": "code",
   "execution_count": 38,
   "metadata": {},
   "outputs": [
    {
     "data": {
      "text/plain": [
       "[1, 1, 2, 3]"
      ]
     },
     "execution_count": 38,
     "metadata": {},
     "output_type": "execute_result"
    }
   ],
   "source": [
    "class Solution:\n",
    "    def numIslands2(self, m, n, positions):\n",
    "        uf = UnionFind(m*n); result = []\n",
    "        count = 0\n",
    "        for x,y in positions:\n",
    "            index = x*n+y\n",
    "            if uf.parent[index] != -1:\n",
    "                result.append(count)\n",
    "                continue\n",
    "            uf.parent[index] = index\n",
    "            count += 1\n",
    "            \n",
    "            for i,j in [(x+1,y), (x,y+1), (x-1,y), (x,y-1)]:\n",
    "                if 0<=i<m and 0<=j<n and uf.parent[i*n+j] != -1:\n",
    "                    neighbor = i*n+j\n",
    "                    if uf.union(neighbor, index):\n",
    "                        count -= 1\n",
    "            result.append(count)\n",
    "        return result\n",
    "                \n",
    "        \n",
    "class UnionFind:\n",
    "    def __init__(self, n):\n",
    "        self.parent = [-1]*n\n",
    "        self.rank = [0]*n\n",
    "        \n",
    "    def union(self, x, y):\n",
    "        rootx = self.find(x)\n",
    "        rooty = self.find(y)\n",
    "        if rootx == rooty:\n",
    "            return False\n",
    "        if self.rank[rootx] < self.rank[rooty]:\n",
    "            self.parent[rootx] = rooty\n",
    "        elif self.rank[rootx] > self.rank[rooty]:\n",
    "            self.parent[rooty] = rootx\n",
    "        else:\n",
    "            self.parent[rootx] = rooty\n",
    "            self.rank[rooty] += 1\n",
    "        return True\n",
    "    \n",
    "    def find(self, x):\n",
    "        while x != self.parent[x]:\n",
    "            self.parent[x] = self.parent[self.parent[x]]\n",
    "            x = self.parent[x]\n",
    "        return x\n",
    "\n",
    "obj = Solution()\n",
    "obj.numIslands2(3,3, [[0,0], [0,1], [1,2], [2,1]])"
   ]
  },
  {
   "cell_type": "markdown",
   "metadata": {},
   "source": [
    "### Max Area of Island\n",
    "Given a non-empty 2D array grid of 0's and 1's, an island is a group of 1's (representing land) connected 4-directionally (horizontal or vertical.) You may assume all four edges of the grid are surrounded by water.\n",
    "\n",
    "Find the maximum area of an island in the given 2D array. (If there is no island, the maximum area is 0.)\n",
    "\n",
    "input = [[0,0,1,0,0,0,0,1,0,0,0,0,0],\n",
    " [0,0,0,0,0,0,0,1,1,1,0,0,0],\n",
    " [0,1,1,0,1,0,0,0,0,0,0,0,0],\n",
    " [0,1,0,0,1,1,0,0,1,0,1,0,0],\n",
    " [0,1,0,0,1,1,0,0,1,1,1,0,0],\n",
    " [0,0,0,0,0,0,0,0,0,0,1,0,0],\n",
    " [0,0,0,0,0,0,0,1,1,1,0,0,0],\n",
    " [0,0,0,0,0,0,0,1,1,0,0,0,0]]\n",
    " \n",
    " output = 6"
   ]
  },
  {
   "cell_type": "code",
   "execution_count": 16,
   "metadata": {},
   "outputs": [
    {
     "data": {
      "text/plain": [
       "6"
      ]
     },
     "execution_count": 16,
     "metadata": {},
     "output_type": "execute_result"
    }
   ],
   "source": [
    "class Solution:\n",
    "    def maxAreaOfIsland(self, grid):\n",
    "        state = {}; max_area = 0\n",
    "        for i in range(len(grid)):\n",
    "            for j in range(len(grid[0])):\n",
    "                if grid[i][j] == 1 and (i,j) not in state:\n",
    "                    area = self.bfs_visit(i,j,state,grid)\n",
    "                    max_area = max(area, max_area)\n",
    "        return max_area\n",
    "    \n",
    "    def bfs_visit(self, i, j, state, grid):\n",
    "        state[(i,j)] = 'visiting'; area = 0; queue = [(i,j)]\n",
    "        while len(queue):\n",
    "            i,j = queue.pop(0)\n",
    "            area += 1\n",
    "            \n",
    "            for x,y in [(i+1,j), (i,j+1), (i-1,j), (i,j-1)]:\n",
    "                if 0<=x<len(grid) and 0<=y<len(grid[0]) and grid[x][y] == 1 and (x,y) not in state:\n",
    "                    state[(x,y)] = 'visiting'\n",
    "                    queue.append((x,y))\n",
    "            state[(i,j)] = 'visited'\n",
    "        return area\n",
    "obj = Solution()\n",
    "obj.maxAreaOfIsland([[0,0,1,0,0,0,0,1,0,0,0,0,0], \n",
    "                     [0,0,0,0,0,0,0,1,1,1,0,0,0], \n",
    "                     [0,1,1,0,1,0,0,0,0,0,0,0,0], \n",
    "                     [0,1,0,0,1,1,0,0,1,0,1,0,0], \n",
    "                     [0,1,0,0,1,1,0,0,1,1,1,0,0],\n",
    "                     [0,0,0,0,0,0,0,0,0,0,1,0,0], \n",
    "                     [0,0,0,0,0,0,0,1,1,1,0,0,0], \n",
    "                     [0,0,0,0,0,0,0,1,1,0,0,0,0]])"
   ]
  },
  {
   "cell_type": "markdown",
   "metadata": {},
   "source": [
    "### Island Perimeter\n",
    "You are given a map in form of a two-dimensional integer grid where 1 represents land and 0 represents water.\n",
    "\n",
    "Grid cells are connected horizontally/vertically (not diagonally). The grid is completely surrounded by water, and there is exactly one island (i.e., one or more connected land cells).\n",
    "\n",
    "The island doesn't have \"lakes\" (water inside that isn't connected to the water around the island). One cell is a square with side length 1. The grid is rectangular, width and height don't exceed 100. Determine the perimeter of the island.\n",
    "\n",
    "* Input:\n",
    "[[0,1,0,0],\n",
    " [1,1,1,0],\n",
    " [0,1,0,0],\n",
    " [1,1,0,0]]\n",
    "\n",
    "* Output: 16"
   ]
  },
  {
   "cell_type": "code",
   "execution_count": 19,
   "metadata": {},
   "outputs": [
    {
     "data": {
      "text/plain": [
       "16"
      ]
     },
     "execution_count": 19,
     "metadata": {},
     "output_type": "execute_result"
    }
   ],
   "source": [
    "class Solution:\n",
    "    def islandPerimeter(self, grid):\n",
    "        perimeter = 0\n",
    "        for i in range(len(grid)) :\n",
    "            for j in range(len(grid[0])) :\n",
    "                # If it is a part of island\n",
    "                if grid[i][j] :\n",
    "                    # All squares have 4 lines\n",
    "                    perimeter += 4\n",
    "\n",
    "                    # We just care about left and top grid elements, If it is existed we just count 2 out,\n",
    "                    # where 2 represents the line of overlap between the current one and the previous one.\n",
    "\n",
    "                    if i>0 and grid[i-1][j] : perimeter -= 2\n",
    "                    if j>0 and grid[i][j-1] : perimeter -= 2\n",
    "\n",
    "        return perimeter\n",
    "obj = Solution()\n",
    "obj.islandPerimeter([[0,1,0,0], [1,1,1,0], [0,1,0,0], [1,1,0,0]])"
   ]
  },
  {
   "cell_type": "markdown",
   "metadata": {},
   "source": [
    "### Walls and gates\n",
    "You are given a m x n 2D grid initialized with these three possible values.\n",
    "\n",
    "* -1 - A wall or an obstacle.\n",
    "* 0 - A gate.\n",
    "* INF - Infinity means an empty room. We use the value 231 - 1 = 2147483647 to represent INF as you may assume that the distance to a gate is less than 2147483647.\n",
    "\n",
    "Fill each empty room with the distance to its nearest gate. If it is impossible to reach a gate, it should be filled with INF."
   ]
  },
  {
   "cell_type": "code",
   "execution_count": 8,
   "metadata": {},
   "outputs": [
    {
     "data": {
      "text/plain": [
       "[[3, -1, 0, 1], [2, 2, 1, -1], [1, -1, 2, -1], [0, -1, 3, 4]]"
      ]
     },
     "execution_count": 8,
     "metadata": {},
     "output_type": "execute_result"
    }
   ],
   "source": [
    "class Solution:\n",
    "    def wallsAndGates(self, rooms):\n",
    "        queue = []; distance = 0\n",
    "        for i in range(len(rooms)):\n",
    "            for j in range(len(rooms[0])):\n",
    "                if rooms[i][j] == 0:\n",
    "                    queue.append((i,j))\n",
    "        while len(queue):\n",
    "            size = len(queue)\n",
    "            distance += 1\n",
    "            for i in range(size):\n",
    "                i, j = queue.pop(0)\n",
    "                for x,y in [(i+1,j), (i,j+1), (i-1,j), (i,j-1)]:\n",
    "                    if 0<=x<len(rooms) and 0<=y<len(rooms[0]) and rooms[x][y] == 2147483647:\n",
    "                        rooms[x][y] = distance\n",
    "                        queue.append((x,y))\n",
    "        return rooms\n",
    "        \n",
    "obj = Solution()\n",
    "obj.wallsAndGates([[2147483647,-1,0,2147483647],\n",
    "                   [2147483647,2147483647,2147483647,-1],\n",
    "                   [2147483647,-1,2147483647,-1],[0,-1,2147483647,2147483647]])"
   ]
  },
  {
   "cell_type": "markdown",
   "metadata": {},
   "source": [
    "### Number of Distinct islands\n",
    "Given a non-empty 2D array grid of 0's and 1's, an island is a group of 1's (representing land) connected 4-directionally (horizontal or vertical.) You may assume all four edges of the grid are surrounded by water.\n",
    "\n",
    "Count the number of distinct islands. An island is considered to be the same as another if and only if one island can be translated (and not rotated or reflected) to equal the other."
   ]
  },
  {
   "cell_type": "code",
   "execution_count": 28,
   "metadata": {},
   "outputs": [
    {
     "data": {
      "text/plain": [
       "1"
      ]
     },
     "execution_count": 28,
     "metadata": {},
     "output_type": "execute_result"
    }
   ],
   "source": [
    "class Solution:\n",
    "    def numDistinctIslands(self, grid):\n",
    "        state = {}; self.distinct_islands = set()\n",
    "        for i in range(len(grid)):\n",
    "            for j in range(len(grid[0])):\n",
    "                \n",
    "                if (i,j) not in state and grid[i][j] == 1:\n",
    "                    v = []\n",
    "                    self.dfs(i,j,i,j,state,v, grid)\n",
    "                    self.distinct_islands.add(''.join(v))\n",
    "        return len(self.distinct_islands)\n",
    "    \n",
    "    def dfs(self,x0,y0,i,j,state,v, grid):\n",
    "        state[i,j] = 'visiting'\n",
    "        v.append(str(i-x0)+str(j-y0))\n",
    "        \n",
    "        for x,y in [(i+1,j), (i,j+1), (i-1,j), (i,j-1)]:\n",
    "            if 0<=x<len(grid) and 0<=y<len(grid[0]) and grid[x][y] == 1 and (x,y) not in state:\n",
    "                self.dfs(x0,y0,x,y,state,v,grid)\n",
    "        state[i,j] = 'visited'\n",
    "\n",
    "obj = Solution()\n",
    "obj.numDistinctIslands([[1,1,0,0,0],[1,1,0,0,0],[0,0,0,1,1],[0,0,0,1,1]])"
   ]
  },
  {
   "cell_type": "markdown",
   "metadata": {},
   "source": [
    "### Friend Circles \n",
    "There are N students in a class. Some of them are friends, while some are not. Their friendship is transitive in nature. For example, if A is a direct friend of B, and B is a direct friend of C, then A is an indirect friend of C. And we defined a friend circle is a group of students who are direct or indirect friends.\n",
    "\n",
    "Given a N*N matrix M representing the friend relationship between students in the class. If M[i][j] = 1, then the ith and jth students are direct friends with each other, otherwise not. And you have to output the total number of friend circles among all the students.\n",
    "\n",
    "* Input: \n",
    "[[1,1,0],\n",
    " [1,1,1],\n",
    " [0,1,1]]\n",
    " \n",
    "* Output: 1\n",
    "* Explanation:The 0th and 1st students are direct friends, the 1st and 2nd students are direct friends, so the 0th and 2nd students are indirect friends. All of them are in the same friend circle, so return 1.\n"
   ]
  },
  {
   "cell_type": "code",
   "execution_count": 30,
   "metadata": {},
   "outputs": [
    {
     "data": {
      "text/plain": [
       "1"
      ]
     },
     "execution_count": 30,
     "metadata": {},
     "output_type": "execute_result"
    }
   ],
   "source": [
    "class Solution:\n",
    "    def findCircleNum(self, M):\n",
    "        state = {}; count = 0\n",
    "        for i in range(len(M)):\n",
    "            for j in range(len(M[0])):\n",
    "                if M[i][j] == 1 and i not in state:\n",
    "                    self.dfs_visit(i,state,M)\n",
    "                    count += 1\n",
    "        return count\n",
    "    \n",
    "    def dfs_visit(self, i,state,M):\n",
    "        state[i] = 'visiting'\n",
    "        for j in range(len(M[0])):\n",
    "            if M[i][j] == 1 and j not in state:\n",
    "                self.dfs_visit(j,state,M)\n",
    "        state[i] = 'visited'\n",
    "        \n",
    "obj = Solution()\n",
    "obj.findCircleNum([[1,1,0], [1,1,1], [0,1,1]])"
   ]
  },
  {
   "cell_type": "markdown",
   "metadata": {},
   "source": [
    "### Merge Accounts\n",
    "Given a list accounts, each element accounts[i] is a list of strings, where the first element accounts[i][0] is a name, and the rest of the elements are emails representing emails of the account.\n",
    "\n",
    "Now, we would like to merge these accounts. Two accounts definitely belong to the same person if there is some email that is common to both accounts. Note that even if two accounts have the same name, they may belong to different people as people could have the same name. A person can have any number of accounts initially, but all of their accounts definitely have the same name.\n",
    "\n",
    "After merging the accounts, return the accounts in the following format: the first element of each account is the name, and the rest of the elements are emails in sorted order. The accounts themselves can be returned in any order.\n",
    "\n",
    "\n",
    "* Input: accounts = [[\"John\", \"johnsmith@mail.com\", \"john00@mail.com\"], [\"John\", \"johnnybravo@mail.com\"], [\"John\", \"johnsmith@mail.com\", \"john_newyork@mail.com\"], [\"Mary\", \"mary@mail.com\"]]\n",
    "* Output: [[\"John\", 'john00@mail.com', 'john_newyork@mail.com', 'johnsmith@mail.com'],  [\"John\", \"johnnybravo@mail.com\"], [\"Mary\", \"mary@mail.com\"]]"
   ]
  },
  {
   "cell_type": "code",
   "execution_count": 35,
   "metadata": {},
   "outputs": [
    {
     "data": {
      "text/plain": [
       "[['John', 'john00@mail.com', 'john_newyork@mail.com', 'johnsmith@mail.com'],\n",
       " ['John', 'johnnybravo@mail.com'],\n",
       " ['Mary', 'mary@mail.com']]"
      ]
     },
     "execution_count": 35,
     "metadata": {},
     "output_type": "execute_result"
    }
   ],
   "source": [
    "class Solution:\n",
    "    def accountsMerge(self, accounts):\n",
    "        from collections import defaultdict\n",
    "        name_email = {}\n",
    "        graph = defaultdict(set)\n",
    "        for acc in accounts:\n",
    "            name = acc[0]\n",
    "            for email in acc[1:]:\n",
    "                graph[acc[1]].add(email)\n",
    "                graph[email].add(acc[1])\n",
    "                name_email[email] = name\n",
    "        state = {}; result = []\n",
    "        for email in graph:\n",
    "            if email not in state:\n",
    "                component = []\n",
    "                self.dfs_visit(state, email, graph, component)\n",
    "                result.append([name_email[email]] + sorted(component))\n",
    "        return result\n",
    "    \n",
    "    def dfs_visit(self, state, email, graph, comp):\n",
    "        state[email] = 'visiting'\n",
    "        for neigh in graph[email]:\n",
    "            if neigh not in state:\n",
    "                self.dfs_visit(state, neigh, graph, comp)\n",
    "        state[email] = 'visited'\n",
    "        comp.append(email)\n",
    "            \n",
    "obj = Solution()\n",
    "obj.accountsMerge([[\"John\", \"johnsmith@mail.com\", \"john00@mail.com\"], \n",
    "                   [\"John\", \"johnnybravo@mail.com\"], \n",
    "                   [\"John\", \"johnsmith@mail.com\", \"john_newyork@mail.com\"], [\"Mary\", \"mary@mail.com\"]])"
   ]
  },
  {
   "cell_type": "markdown",
   "metadata": {},
   "source": [
    "### All Paths From Source to Target\n",
    "Given a directed, acyclic graph of N nodes.  Find all possible paths from node 0 to node N-1, and return them in any order.\n",
    "\n",
    "The graph is given as follows:  the nodes are 0, 1, ..., graph.length - 1.  graph[i] is a list of all nodes j for which the edge (i, j) exists.\n",
    "\n",
    "* Input: [[1,2], [3], [3], []] \n",
    "* Output: [[0,1,3],[0,2,3]] \n",
    "* Explanation: The graph looks like this:\n",
    "\n",
    "        0--->1\n",
    "        |    |\n",
    "        v    v\n",
    "        2--->3\n",
    "\n",
    "\n",
    "* There are two paths: 0 -> 1 -> 3 and 0 -> 2 -> 3."
   ]
  },
  {
   "cell_type": "code",
   "execution_count": 3,
   "metadata": {},
   "outputs": [
    {
     "data": {
      "text/plain": [
       "[[0, 1, 3], [0, 2, 3]]"
      ]
     },
     "execution_count": 3,
     "metadata": {},
     "output_type": "execute_result"
    }
   ],
   "source": [
    "class Solution:\n",
    "    def allPathsSourceTarget(self, graph):\n",
    "        self.result = []\n",
    "        buffer = [0]\n",
    "        self.dfs_visit(graph, buffer)\n",
    "        return self.result\n",
    "        \n",
    "    def dfs_visit(self, graph, buffer):\n",
    "        if buffer[-1] == len(graph) -1:\n",
    "            self.result.append(buffer[:])\n",
    "            return\n",
    "        \n",
    "        for neigh in graph[buffer[-1]]:\n",
    "            buffer.append(neigh)\n",
    "            self.dfs_visit(graph, buffer)\n",
    "            buffer.pop()\n",
    "\n",
    "obj = Solution()\n",
    "obj.allPathsSourceTarget([[1,2], [3], [3], []])"
   ]
  },
  {
   "cell_type": "markdown",
   "metadata": {},
   "source": [
    "### All Paths from Source Lead to Destination\n",
    "Given the edges of a directed graph, and two nodes source and destination of this graph, determine whether or not all paths starting from source eventually end at destination, that is:\n",
    "\n",
    "At least one path exists from the source node to the destination node\n",
    "If a path exists from the source node to a node with no outgoing edges, then that node is equal to destination.\n",
    "The number of possible paths from source to destination is a finite number.\n",
    "Return true if and only if all roads from source lead to destination."
   ]
  },
  {
   "cell_type": "code",
   "execution_count": 9,
   "metadata": {},
   "outputs": [
    {
     "data": {
      "text/plain": [
       "True"
      ]
     },
     "execution_count": 9,
     "metadata": {},
     "output_type": "execute_result"
    }
   ],
   "source": [
    "class Solution:\n",
    "    def leadsToDestination(self, n, edges, source, destination) -> bool:\n",
    "        import collections\n",
    "        adjlist = collections.defaultdict(list)\n",
    "        for x,y in edges:\n",
    "            adjlist[x].append(y)\n",
    "            \n",
    "        state = {}; component = []\n",
    "        if self.has_cycle(source, state, component, adjlist):\n",
    "            return False\n",
    "        \n",
    "        found_dest = False\n",
    "        for node in component:\n",
    "            if len(adjlist[node]) == 0:\n",
    "                if node == destination:\n",
    "                    found_dest = True\n",
    "                else:\n",
    "                    return False\n",
    "        return found_dest\n",
    "            \n",
    "        \n",
    "    def has_cycle(self, curr, state, comp, adjlist):\n",
    "        state[curr] = 'visiting'\n",
    "        comp.append(curr)\n",
    "        \n",
    "        for neigh in adjlist[curr]:\n",
    "            if neigh not in state and self.has_cycle(neigh, state, comp, adjlist):\n",
    "                return True\n",
    "            elif state[neigh] == 'visiting':\n",
    "                return True\n",
    "        \n",
    "        state[curr] = 'visited'\n",
    "        return False\n",
    "        \n",
    "obj = Solution()\n",
    "obj.leadsToDestination(4, [[0,1],[0,2],[1,3],[2,3]], 0, 3)"
   ]
  },
  {
   "cell_type": "markdown",
   "metadata": {},
   "source": [
    "### Redundant Connection\n",
    "In this problem, a tree is an undirected graph that is connected and has no cycles.\n",
    "\n",
    "The given input is a graph that started as a tree with N nodes (with distinct values 1, 2, ..., N), with one additional edge added. The added edge has two different vertices chosen from 1 to N, and was not an edge that already existed.\n",
    "\n",
    "The resulting graph is given as a 2D-array of edges. Each element of edges is a pair [u, v] with u < v, that represents an undirected edge connecting nodes u and v.\n",
    "\n",
    "Return an edge that can be removed so that the resulting graph is a tree of N nodes. If there are multiple answers, return the answer that occurs last in the given 2D-array. The answer edge [u, v] should be in the same format, with u < v.\n",
    "\n",
    "* Input: [[1,2], [2,3], [3,4], [1,4], [1,5]]\n",
    "* Output: [1,4]\n",
    "* Explanation: The given undirected graph will be like this:\n",
    "\n",
    "            5 - 1 - 2\n",
    "                |   |\n",
    "                4 - 3"
   ]
  },
  {
   "cell_type": "code",
   "execution_count": 3,
   "metadata": {},
   "outputs": [
    {
     "data": {
      "text/plain": [
       "[1, 4]"
      ]
     },
     "execution_count": 3,
     "metadata": {},
     "output_type": "execute_result"
    }
   ],
   "source": [
    "class Solution:\n",
    "    def findRedundantConnection(self, edges):\n",
    "        uf = UnionFind(1001)\n",
    "        for x,y in edges:\n",
    "            if uf.parent[x] == -1: uf.parent[x] = x\n",
    "            if uf.parent[y] == -1: uf.parent[y] = y\n",
    "            if not uf.union(x,y):\n",
    "                return [x,y]     \n",
    "\n",
    "class UnionFind:\n",
    "    \n",
    "    def __init__(self, n):\n",
    "        self.parent = [-1]*n\n",
    "        self.rank = [0]*n\n",
    "        \n",
    "    def union(self, x, y):\n",
    "        rootx = self.find(x); rooty = self.find(y)\n",
    "        if rootx == rooty:\n",
    "            return False\n",
    "        if self.rank[rootx] < self.rank[rooty]:\n",
    "            self.parent[rootx] = rooty\n",
    "        elif self.rank[rootx] > self.rank[rooty]:\n",
    "            self.parent[rooty] = rootx\n",
    "        else:\n",
    "            self.parent[rooty] = rootx\n",
    "            self.rank[rootx] += 1\n",
    "        return True\n",
    "    \n",
    "    def find(self, x):\n",
    "        while x != self.parent[x]:\n",
    "            self.parent[x] = self.parent[self.parent[x]]\n",
    "            x = self.parent[x]\n",
    "        return x\n",
    "    \n",
    "obj = Solution()\n",
    "obj.findRedundantConnection([[1,2], [2,3], [3,4], [1,4], [1,5]])"
   ]
  },
  {
   "cell_type": "markdown",
   "metadata": {},
   "source": [
    "### Shortest Path in Binary Matrix - 8 directionally connected"
   ]
  },
  {
   "cell_type": "code",
   "execution_count": 5,
   "metadata": {},
   "outputs": [
    {
     "data": {
      "text/plain": [
       "4"
      ]
     },
     "execution_count": 5,
     "metadata": {},
     "output_type": "execute_result"
    }
   ],
   "source": [
    "class Solution:\n",
    "    def shortestPathBinaryMatrix(self, grid):\n",
    "        if not len(grid) or grid[0][0] == 1 or grid[len(grid)-1][len(grid[0])-1] == 1:\n",
    "            return -1\n",
    "        state = {}; level = {}\n",
    "        return self.bfs_visit(state, level, grid)\n",
    "    \n",
    "    def bfs_visit(self, state, level, grid):\n",
    "        queue = [(0,0)]\n",
    "        state[(0,0)] = 'visiting'; level[(0,0)] = 0\n",
    "        while len(queue):\n",
    "            i,j = queue.pop(0)\n",
    "            if (i,j) == (len(grid)-1, len(grid[0])-1):\n",
    "                return level[(i,j)] + 1\n",
    "            for x, y in [(i+1,j), (i,j+1), (i-1,j), (i,j-1), (i-1, j-1), (i-1,j+1), (i+1,j-1), (i+1, j+1)]:\n",
    "                if 0<=x<len(grid) and 0<=y<len(grid[0]) and grid[x][y] == 0 and (x,y) not in state:\n",
    "                    queue.append((x,y))\n",
    "                    state[(x,y)] = 'visiting'\n",
    "                    level[(x,y)] = level[(i,j)] + 1\n",
    "            state[(i,j)] = 'visited'\n",
    "        return -1\n",
    "\n",
    "obj = Solution()\n",
    "obj.shortestPathBinaryMatrix([[0,0,0],[1,1,0],[1,1,0]])"
   ]
  },
  {
   "cell_type": "markdown",
   "metadata": {},
   "source": [
    "### Rotten Oranges\n",
    "In a given grid, each cell can have one of three values:\n",
    "\n",
    "* the value 0 representing an empty cell;\n",
    "* the value 1 representing a fresh orange;\n",
    "* the value 2 representing a rotten orange.\n",
    "* Every minute, any fresh orange that is adjacent (4-directionally) to a rotten orange becomes rotten.\n",
    "\n",
    "Return the minimum number of minutes that must elapse until no cell has a fresh orange.  If this is impossible, return -1 instead."
   ]
  },
  {
   "cell_type": "code",
   "execution_count": 5,
   "metadata": {},
   "outputs": [
    {
     "data": {
      "text/plain": [
       "4"
      ]
     },
     "execution_count": 5,
     "metadata": {},
     "output_type": "execute_result"
    }
   ],
   "source": [
    "class Solution:\n",
    "    def orangesRotting(self, grid) -> int:\n",
    "        minutes_elapsed = 0; queue = []; ans = 0\n",
    "        for i in range(len(grid)):\n",
    "            for j in range(len(grid[0])):\n",
    "                if grid[i][j] == 2:\n",
    "                    queue.append((i,j))\n",
    "        \n",
    "        while queue:\n",
    "            size = len(queue)\n",
    "            minutes_elapsed += 1\n",
    "            for i in range(size):\n",
    "                i,j = queue.pop(0)\n",
    "                for x,y in [(i+1,j), (i,j+1), (i-1,j), (i,j-1)]:\n",
    "                    if 0<=x<len(grid) and 0<=y<len(grid[0]) and grid[x][y] == 1:\n",
    "                        ans = minutes_elapsed\n",
    "                        grid[x][y] = 2\n",
    "                        queue.append((x,y))\n",
    "        \n",
    "        for i in range(len(grid)):\n",
    "            for j in range(len(grid[0])):\n",
    "                if grid[i][j] == 1:\n",
    "                    return -1\n",
    "        return ans\n",
    "obj = Solution()\n",
    "obj.orangesRotting([[2,1,1],[1,1,0],[0,1,1]])"
   ]
  },
  {
   "cell_type": "markdown",
   "metadata": {},
   "source": [
    "### Shortest Distance from All Buildings\n",
    "You want to build a house on an empty land which reaches all buildings in the shortest amount of distance. You can only move up, down, left and right. You are given a 2D grid of values 0, 1 or 2, where:\n",
    "\n",
    "* Each 0 marks an empty land which you can pass by freely.\n",
    "* Each 1 marks a building which you cannot pass through.\n",
    "* Each 2 marks an obstacle which you cannot pass through.\n",
    "\n",
    "* Input: [[1,0,2,0,1],[0,0,0,0,0],[0,0,1,0,0]]\n",
    "\n",
    "        1 - 0 - 2 - 0 - 1\n",
    "        |   |   |   |   |\n",
    "        0 - 0 - 0 - 0 - 0\n",
    "        |   |   |   |   |\n",
    "        0 - 0 - 1 - 0 - 0\n",
    "\n",
    "Output: 7 \n",
    "\n",
    "Explanation: Given three buildings at (0,0), (0,4), (2,2), and an obstacle at (0,2),\n",
    "             the point (1,2) is an ideal empty land to build a house, as the total \n",
    "             travel distance of 3+3+1=7 is minimal. So return 7."
   ]
  },
  {
   "cell_type": "code",
   "execution_count": 16,
   "metadata": {},
   "outputs": [
    {
     "data": {
      "text/plain": [
       "7"
      ]
     },
     "execution_count": 16,
     "metadata": {},
     "output_type": "execute_result"
    }
   ],
   "source": [
    "class Solution:\n",
    "    def shortestDistance(self, grid):\n",
    "        b_reached = [[0]*len(grid[0]) for x in range(len(grid))]\n",
    "        tot_dist = [[0]*len(grid[0]) for x in range(len(grid))]\n",
    "        tot_build = 0\n",
    "        for i in range(len(grid)):\n",
    "            for j in range(len(grid[0])):\n",
    "                if grid[i][j] == 1:\n",
    "                    self.bfs(i,j,b_reached, tot_dist, grid, tot_build)\n",
    "                    tot_build += 1\n",
    "                    \n",
    "        min_dist = float('inf')\n",
    "        for i in range(len(grid)):\n",
    "            for j in range(len(grid[0])):\n",
    "                if grid[i][j] == 0 and b_reached[i][j] == tot_build:\n",
    "                    min_dist = min(min_dist, tot_dist[i][j])\n",
    "        return min_dist if min_dist != float('inf') else -1\n",
    "                \n",
    "    def bfs(self, i,j,b_reached,tot_dist, grid, tot_build):\n",
    "        queue = []; level = {}\n",
    "        queue.append((i,j))\n",
    "        level[(i,j)] = 0\n",
    "        \n",
    "        while len(queue):\n",
    "            i,j = queue.pop(0)\n",
    "            for x, y in [(i+1,j), (i,j+1), (i-1,j), (i,j-1)]:\n",
    "                if 0<=x<len(grid) and 0<=y<len(grid[0]) and (x,y) not in level and grid[x][y] == 0 \\\n",
    "                        and b_reached[x][y] == tot_build:\n",
    "                    level[(x,y)] = level[(i,j)] + 1\n",
    "                    tot_dist[x][y] += level[(x,y)]\n",
    "                    b_reached[x][y] += 1\n",
    "                    queue.append((x,y))\n",
    "\n",
    "obj = Solution()\n",
    "obj.shortestDistance([[1,0,2,0,1],[0,0,0,0,0],[0,0,1,0,0]])"
   ]
  },
  {
   "cell_type": "markdown",
   "metadata": {},
   "source": [
    "### Minimum Spanning Tree\n",
    "There are N cities numbered from 1 to N.\n",
    "\n",
    "You are given connections, where each connections[i] = [city1, city2, cost] represents the cost to connect city1 and city2 together.  (A connection is bidirectional: connecting city1 and city2 is the same as connecting city2 and city1.)\n",
    "\n",
    "Return the minimum cost so that for every pair of cities, there exists a path of connections (possibly of length 1) that connects those two cities together.  The cost is the sum of the connection costs used. If the task is impossible, return -1."
   ]
  },
  {
   "cell_type": "code",
   "execution_count": 9,
   "metadata": {},
   "outputs": [],
   "source": [
    "class Solution:\n",
    "    def minimumCost(self, N: int, connections) -> int:\n",
    "        connections.sort(key = lambda x:x[2])\n",
    "        uf = UnionFind(N+1); n = N; ans = 0\n",
    "        for x,y,cost in connections:\n",
    "            if uf.union(x, y):\n",
    "                n -= 1\n",
    "                ans += cost \n",
    "        return ans if n == 1 else -1    \n",
    "    \n",
    "class UnionFind:\n",
    "    def __init__(self, n):\n",
    "        self.parent = list(range(n))\n",
    "        self.rank = [0]*n\n",
    "        \n",
    "    def union(self, x, y):\n",
    "        rootx = self.find(x)\n",
    "        rooty = self.find(y)\n",
    "        if rootx == rooty:\n",
    "            return False\n",
    "        if self.rank[rootx] < self.rank[rooty]:\n",
    "            self.parent[rootx] = rooty\n",
    "        elif self.rank[rootx] > self.rank[rooty]:\n",
    "            self.parent[rooty] = rootx\n",
    "        else:\n",
    "            self.parent[rootx] = rooty\n",
    "            self.rank[rooty] += 1\n",
    "        return True\n",
    "    \n",
    "    def find(self, x):\n",
    "        while x != self.parent[x]:\n",
    "            self.parent[x] = self.parent[self.parent[x]]\n",
    "            x = self.parent[x]\n",
    "        return x   "
   ]
  },
  {
   "cell_type": "code",
   "execution_count": 10,
   "metadata": {},
   "outputs": [
    {
     "data": {
      "text/plain": [
       "6"
      ]
     },
     "execution_count": 10,
     "metadata": {},
     "output_type": "execute_result"
    }
   ],
   "source": [
    "sol = Solution()\n",
    "N = 3; connections = [[1,2,5],[1,3,6],[2,3,1]]\n",
    "sol.minimumCost(N, connections)"
   ]
  },
  {
   "cell_type": "markdown",
   "metadata": {},
   "source": [
    "### Graph Valid Tree\n",
    "Given n nodes labeled from 0 to n-1 and a list of undirected edges (each edge is a pair of nodes), write a function to check whether these edges make up a valid tree.\n",
    "\n",
    "* Input: n = 5, and edges = [[0,1], [0,2], [0,3], [1,4]]\n",
    "* Output: true\n",
    "___\n",
    "* Input: n = 5, and edges = [[0,1], [1,2], [2,3], [1,3], [1,4]]\n",
    "* Output: false\n",
    "\n",
    "**Note: can also be solved using DFS**"
   ]
  },
  {
   "cell_type": "code",
   "execution_count": 7,
   "metadata": {},
   "outputs": [],
   "source": [
    "class Solution:\n",
    "    def validTree(self, n: int, edges) -> bool:\n",
    "        uf = UnionFind(n)\n",
    "        for x, y in edges:\n",
    "            if not uf.union(x, y):\n",
    "                return False\n",
    "        return len(edges) == n-1\n",
    "        \n",
    "class UnionFind:\n",
    "    def __init__(self, n):\n",
    "        self.parent = list(range(n))\n",
    "        self.rank = [0]*n\n",
    "        \n",
    "    def union(self, x, y):\n",
    "        rootx = self.find(x)\n",
    "        rooty = self.find(y)\n",
    "        if rootx == rooty:\n",
    "            return False\n",
    "        if self.rank[rootx] < self.rank[rooty]:\n",
    "            self.parent[rootx] = rooty\n",
    "        elif self.rank[rootx] > self.rank[rooty]:\n",
    "            self.parent[rooty] = rootx\n",
    "        else:\n",
    "            self.parent[rootx] = rooty\n",
    "            self.rank[rooty] += 1\n",
    "        return True\n",
    "    \n",
    "    def find(self, x):\n",
    "        while x != self.parent[x]:\n",
    "            self.parent[x] = self.parent[self.parent[x]]\n",
    "            x = self.parent[x]\n",
    "        return x"
   ]
  },
  {
   "cell_type": "markdown",
   "metadata": {},
   "source": [
    "### Critical Connections in a Network\n",
    "There are n servers numbered from 0 to n-1 connected by undirected server-to-server connections forming a network where connections[i] = [a, b] represents a connection between servers a and b. Any server can reach any other server directly or indirectly through the network.\n",
    "\n",
    "A critical connection is a connection that, if removed, will make some server unable to reach some other server.\n",
    "\n",
    "Return all critical connections in the network in any order.\n",
    "\n",
    "* Input: n = 4, connections = [[0,1],[1,2],[2,0],[1,3]]\n",
    "* Output: [[1,3]]\n",
    "* Explanation: [[3,1]] is also accepted."
   ]
  },
  {
   "cell_type": "code",
   "execution_count": 14,
   "metadata": {},
   "outputs": [],
   "source": [
    "def criticalConnections(n, connections):\n",
    "    from collections import defaultdict\n",
    "    graph = defaultdict(list)\n",
    "    for x,y in connections:\n",
    "        graph[x].append(y)\n",
    "        graph[y].append(x)\n",
    "    lows = [0]*(n+1); ids = [0]*(n+1); time = 1; bridges = []\n",
    "    dfs(1,-1, lows, ids, time, graph, bridges)\n",
    "    return bridges\n",
    "\n",
    "def dfs(node, parent, lows, ids, time, graph, bridges):\n",
    "    lows[node] = ids[node] = time\n",
    "    time += 1\n",
    "\n",
    "    for neighbor in graph[node]:\n",
    "        if neighbor == parent: continue\n",
    "        if ids[neighbor] == 0:\n",
    "            dfs(neighbor, node, lows, ids, time, graph, bridges)\n",
    "            lows[node] = min(lows[neighbor], lows[node])\n",
    "            if ids[node] < lows[neighbor]:\n",
    "                bridges.append([node, neighbor])\n",
    "        else:\n",
    "            lows[node] = min(lows[node], ids[neighbor])"
   ]
  },
  {
   "cell_type": "code",
   "execution_count": 15,
   "metadata": {},
   "outputs": [
    {
     "data": {
      "text/plain": [
       "[[4, 5], [3, 4], [3, 6]]"
      ]
     },
     "execution_count": 15,
     "metadata": {},
     "output_type": "execute_result"
    }
   ],
   "source": [
    "n = 9; edges = [[1, 2], [1, 3], [2, 3], [3, 4], [3, 6], [4, 5], [6, 7], [6, 9], [7, 8], [8, 9]]\n",
    "criticalConnections(n, edges)"
   ]
  }
 ],
 "metadata": {
  "kernelspec": {
   "display_name": "Python 3",
   "language": "python",
   "name": "python3"
  },
  "language_info": {
   "codemirror_mode": {
    "name": "ipython",
    "version": 3
   },
   "file_extension": ".py",
   "mimetype": "text/x-python",
   "name": "python",
   "nbconvert_exporter": "python",
   "pygments_lexer": "ipython3",
   "version": "3.6.8"
  }
 },
 "nbformat": 4,
 "nbformat_minor": 2
}
