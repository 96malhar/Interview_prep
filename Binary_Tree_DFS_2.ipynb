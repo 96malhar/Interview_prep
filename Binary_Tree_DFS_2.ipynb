{
 "cells": [
  {
   "cell_type": "markdown",
   "metadata": {},
   "source": [
    "### Design an Expression Tree With Evaluate Function\n",
    "Given the postfix tokens of an arithmetic expression, build and return the binary expression tree that represents this expression.\n",
    "\n",
    "Postfix notation is a notation for writing arithmetic expressions in which the operands (numbers) appear before their operators. For example, the postfix tokens of the expression 4*(5-(2+7)) are represented in the array postfix = [\"4\",\"5\",\"7\",\"2\",\"+\",\"-\",\"*\"].\n",
    "\n",
    "The class Node is an interface you should use to implement the binary expression tree. The returned tree will be tested using the evaluate function, which is supposed to evaluate the tree's value. You should not remove the Node class; however, you can modify it as you wish, and you can define other classes to implement it if needed.\n",
    "\n",
    "A binary expression tree is a kind of binary tree used to represent arithmetic expressions. Each node of a binary expression tree has either zero or two children. Leaf nodes (nodes with 0 children) correspond to operands (numbers), and internal nodes (nodes with two children) correspond to the operators '+' (addition), '-' (subtraction), '*' (multiplication), and '/' (division).\n",
    "\n",
    "It's guaranteed that no subtree will yield a value that exceeds 109 in absolute value, and all the operations are valid (i.e., no division by zero).\n",
    "\n",
    "Follow up: Could you design the expression tree such that it is more modular? For example, is your design able to support additional operators without making changes to your existing evaluate implementation?"
   ]
  },
  {
   "cell_type": "code",
   "execution_count": 2,
   "metadata": {},
   "outputs": [],
   "source": [
    "class Node:\n",
    "    \n",
    "    def __init__(self, val):\n",
    "        self.left = None\n",
    "        self.right = None\n",
    "        self.val = val\n",
    "     \n",
    "\n",
    "    def evaluate(self) -> int:\n",
    "        node = self\n",
    "        if node.val.isdigit():\n",
    "            return int(node.val)\n",
    "        \n",
    "        left_val = node.left.evaluate()\n",
    "        right_val = node.right.evaluate()\n",
    "        \n",
    "        if node.val == '+':\n",
    "            return left_val + right_val\n",
    "        \n",
    "        if node.val == '-':\n",
    "            return left_val - right_val\n",
    "        \n",
    "        if node.val == '*':\n",
    "            return left_val * right_val\n",
    "        \n",
    "        if node.val == '/':\n",
    "            return left_val // right_val\n",
    "        \n",
    "\n",
    "class TreeBuilder(object):\n",
    "    \n",
    "    def buildTree(self, postfix) -> 'Node':\n",
    "        self.i = len(postfix)-1\n",
    "        return self.helper(postfix)\n",
    "    \n",
    "    def helper(self, postfix):\n",
    "        if self.i < 0:\n",
    "            return\n",
    "        \n",
    "        curr_ch = postfix[self.i]\n",
    "        node = Node(curr_ch)\n",
    "        self.i -= 1\n",
    "        \n",
    "        if curr_ch.isdigit():\n",
    "            return node\n",
    "        \n",
    "        node.right = self.helper(postfix)\n",
    "        node.left = self.helper(postfix)\n",
    "        return node"
   ]
  }
 ],
 "metadata": {
  "kernelspec": {
   "display_name": "Python 3",
   "language": "python",
   "name": "python3"
  },
  "language_info": {
   "codemirror_mode": {
    "name": "ipython",
    "version": 3
   },
   "file_extension": ".py",
   "mimetype": "text/x-python",
   "name": "python",
   "nbconvert_exporter": "python",
   "pygments_lexer": "ipython3",
   "version": "3.8.3"
  }
 },
 "nbformat": 4,
 "nbformat_minor": 4
}
