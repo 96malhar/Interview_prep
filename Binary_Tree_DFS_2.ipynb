{
 "cells": [
  {
   "cell_type": "markdown",
   "metadata": {},
   "source": [
    "## Implementation\n",
    "                     4\n",
    "                    /  \\\n",
    "                   2    6\n",
    "                  / \\   / \\\n",
    "                 1   3 5   7"
   ]
  },
  {
   "cell_type": "code",
   "execution_count": 1,
   "metadata": {},
   "outputs": [
    {
     "name": "stdout",
     "output_type": "stream",
     "text": [
      "1 2 3 4 5 6 7 "
     ]
    }
   ],
   "source": [
    "def inorder(root):\n",
    "    if not root:\n",
    "        return\n",
    "    inorder(root.left)\n",
    "    print(root.val, end = ' ')\n",
    "    inorder(root.right)\n",
    "\n",
    "def preorder(root):\n",
    "    if not root:\n",
    "        return\n",
    "    print(root.val, end = \" \")\n",
    "    preorder(root.left)\n",
    "    preorder(root.right)\n",
    "    \n",
    "class TreeNode:\n",
    "    def __init__(self, data):\n",
    "        self.val = data\n",
    "        self.left = None\n",
    "        self.right = None\n",
    "class BinaryTree:\n",
    "    def __init__(self,root):\n",
    "        self.root = root\n",
    "        \n",
    "node1 = TreeNode(1)\n",
    "node2 = TreeNode(2)\n",
    "node3 = TreeNode(3)\n",
    "node4 = TreeNode(4)\n",
    "node5 = TreeNode(5)\n",
    "node6 = TreeNode(6)\n",
    "node7 = TreeNode(7)\n",
    "\n",
    "node4.left, node4.right = node2, node6\n",
    "node2.left, node2.right = node1, node3\n",
    "node6.left, node6.right = node5, node7\n",
    "\n",
    "tree = BinaryTree(node4)\n",
    "inorder(tree.root)"
   ]
  },
  {
   "cell_type": "markdown",
   "metadata": {},
   "source": [
    "### Design an Expression Tree With Evaluate Function\n",
    "Given the postfix tokens of an arithmetic expression, build and return the binary expression tree that represents this expression.\n",
    "\n",
    "Postfix notation is a notation for writing arithmetic expressions in which the operands (numbers) appear before their operators. For example, the postfix tokens of the expression 4*(5-(2+7)) are represented in the array postfix = [\"4\",\"5\",\"7\",\"2\",\"+\",\"-\",\"*\"].\n",
    "\n",
    "The class Node is an interface you should use to implement the binary expression tree. The returned tree will be tested using the evaluate function, which is supposed to evaluate the tree's value. You should not remove the Node class; however, you can modify it as you wish, and you can define other classes to implement it if needed.\n",
    "\n",
    "A binary expression tree is a kind of binary tree used to represent arithmetic expressions. Each node of a binary expression tree has either zero or two children. Leaf nodes (nodes with 0 children) correspond to operands (numbers), and internal nodes (nodes with two children) correspond to the operators '+' (addition), '-' (subtraction), '*' (multiplication), and '/' (division).\n",
    "\n",
    "It's guaranteed that no subtree will yield a value that exceeds 109 in absolute value, and all the operations are valid (i.e., no division by zero).\n",
    "\n",
    "Follow up: Could you design the expression tree such that it is more modular? For example, is your design able to support additional operators without making changes to your existing evaluate implementation?"
   ]
  },
  {
   "cell_type": "code",
   "execution_count": 2,
   "metadata": {},
   "outputs": [],
   "source": [
    "class Node:\n",
    "    \n",
    "    def __init__(self, val):\n",
    "        self.left = None\n",
    "        self.right = None\n",
    "        self.val = val\n",
    "     \n",
    "\n",
    "    def evaluate(self) -> int:\n",
    "        node = self\n",
    "        if node.val.isdigit():\n",
    "            return int(node.val)\n",
    "        \n",
    "        left_val = node.left.evaluate()\n",
    "        right_val = node.right.evaluate()\n",
    "        \n",
    "        if node.val == '+':\n",
    "            return left_val + right_val\n",
    "        \n",
    "        if node.val == '-':\n",
    "            return left_val - right_val\n",
    "        \n",
    "        if node.val == '*':\n",
    "            return left_val * right_val\n",
    "        \n",
    "        if node.val == '/':\n",
    "            return left_val // right_val\n",
    "        \n",
    "\n",
    "class TreeBuilder(object):\n",
    "    \n",
    "    def buildTree(self, postfix) -> 'Node':\n",
    "        self.i = len(postfix)-1\n",
    "        return self.helper(postfix)\n",
    "    \n",
    "    def helper(self, postfix):\n",
    "        if self.i < 0:\n",
    "            return\n",
    "        \n",
    "        curr_ch = postfix[self.i]\n",
    "        node = Node(curr_ch)\n",
    "        self.i -= 1\n",
    "        \n",
    "        if curr_ch.isdigit():\n",
    "            return node\n",
    "        \n",
    "        node.right = self.helper(postfix)\n",
    "        node.left = self.helper(postfix)\n",
    "        return node"
   ]
  },
  {
   "cell_type": "markdown",
   "metadata": {},
   "source": [
    "### Binary Tree Tilt\n",
    "\n",
    "Given the root of a binary tree, return the sum of every tree node's tilt.\n",
    "\n",
    "The tilt of a tree node is the absolute difference between the sum of all left subtree node values and all right subtree node values. \n",
    "\n",
    "If a node does not have a left child, then the sum of the left subtree node values is treated as 0. \n",
    "\n",
    "The rule is similar if there the node does not have a right child."
   ]
  },
  {
   "cell_type": "code",
   "execution_count": 2,
   "metadata": {},
   "outputs": [
    {
     "data": {
      "text/plain": [
       "16"
      ]
     },
     "execution_count": 2,
     "metadata": {},
     "output_type": "execute_result"
    }
   ],
   "source": [
    "class Solution:\n",
    "    def findTilt(self, root: TreeNode) -> int:\n",
    "        self.res = 0\n",
    "        self.helper(root)\n",
    "        return self.res\n",
    "    \n",
    "    def helper(self, root):\n",
    "        if not root:\n",
    "            return 0\n",
    "        \n",
    "        leftsum = self.helper(root.left)\n",
    "        rightsum = self.helper(root.right)\n",
    "        \n",
    "        self.res += abs(leftsum - rightsum)\n",
    "        \n",
    "        return root.val + leftsum + rightsum\n",
    "    \n",
    "Solution().findTilt(tree.root)"
   ]
  },
  {
   "cell_type": "markdown",
   "metadata": {},
   "source": [
    "### Recover a Tree From Preorder Traversal\n",
    "\n",
    "We run a preorder depth first search on the root of a binary tree.\n",
    "\n",
    "At each node in this traversal, we output D dashes (where D is the depth of this node), then we output the value of this node.  (If the depth of a node is D, the depth of its immediate child is D+1.  The depth of the root node is 0.)\n",
    "\n",
    "If a node has only one child, that child is guaranteed to be the left child.\n",
    "\n",
    "Given the output S of this traversal, recover the tree and return its root."
   ]
  },
  {
   "cell_type": "code",
   "execution_count": 6,
   "metadata": {},
   "outputs": [
    {
     "name": "stdout",
     "output_type": "stream",
     "text": [
      "1 2 3 4 5 6 7 "
     ]
    }
   ],
   "source": [
    "class Solution:\n",
    "    def recoverFromPreorder(self, S: str) -> TreeNode:\n",
    "        stack = []\n",
    "        \n",
    "        for num, depth in self.iterator(S):\n",
    "            node = TreeNode(num)\n",
    "            while stack and stack[-1][1] >= depth:\n",
    "                stack.pop()\n",
    "                \n",
    "            if stack:\n",
    "                parent = stack[-1][0]\n",
    "                if parent.left is None:\n",
    "                    parent.left = node \n",
    "                else:\n",
    "                    parent.right = node\n",
    "\n",
    "            stack.append((node, depth))\n",
    "        \n",
    "        return stack[0][0]\n",
    "            \n",
    "            \n",
    "    def iterator(self, string):\n",
    "        i = 0\n",
    "        \n",
    "        while i < len(string):\n",
    "            depth = 0\n",
    "            \n",
    "            while i < len(string) and string[i] == '-':\n",
    "                depth += 1\n",
    "                i += 1\n",
    "            \n",
    "            start = i\n",
    "            while i < len(string) and string[i].isdigit():\n",
    "                i += 1\n",
    "            \n",
    "            num = int(string[start:i])\n",
    "            yield (num, depth)\n",
    "        \n",
    "root = Solution().recoverFromPreorder(\"1-2--3--4-5--6--7\")\n",
    "preorder(root)"
   ]
  },
  {
   "cell_type": "markdown",
   "metadata": {},
   "source": [
    "### Two Sum BSTs\n",
    "\n",
    "Given two binary search trees, return True if and only if there is a node in the first tree and a node in the second tree whose values sum up to a given integer target."
   ]
  },
  {
   "cell_type": "code",
   "execution_count": null,
   "metadata": {},
   "outputs": [],
   "source": [
    "class Solution:\n",
    "    def twoSumBSTs(self, root1: TreeNode, root2: TreeNode, target: int) -> bool:\n",
    "        iter1 = self.iterator1(root1)\n",
    "        iter2 = self.iterator2(root2)\n",
    "        \n",
    "        node1 = next(iter1)\n",
    "        node2 = next(iter2)\n",
    "        \n",
    "        while node1 and node2:\n",
    "            total = node1.val + node2.val\n",
    "            \n",
    "            if total == target:\n",
    "                return True\n",
    "            \n",
    "            elif total > target:\n",
    "                try:\n",
    "                    node2 = next(iter2)\n",
    "                except StopIteration:\n",
    "                    node2 = None\n",
    "            \n",
    "            else:\n",
    "                try:\n",
    "                    node1 = next(iter1)\n",
    "                except StopIteration:\n",
    "                    node1 = None\n",
    "        \n",
    "        return False\n",
    "    \n",
    "    def iterator1(self, root):\n",
    "        if not root:\n",
    "            return\n",
    "        yield from self.iterator1(root.left)\n",
    "        yield root\n",
    "        yield from self.iterator1(root.right)\n",
    "    \n",
    "    def iterator2(self, root):\n",
    "        if not root:\n",
    "            return\n",
    "        yield from self.iterator2(root.right)\n",
    "        yield root\n",
    "        yield from self.iterator2(root.left)"
   ]
  },
  {
   "cell_type": "markdown",
   "metadata": {},
   "source": [
    "### Balance a Binary Search Tree\n",
    "\n",
    "Given a binary search tree, return a balanced binary search tree with the same node values.\n",
    "\n",
    "A binary search tree is balanced if and only if the depth of the two subtrees of every node never differ by more than 1.\n",
    "\n",
    "If there is more than one answer, return any of them."
   ]
  },
  {
   "cell_type": "code",
   "execution_count": 2,
   "metadata": {},
   "outputs": [],
   "source": [
    "class Solution:\n",
    "    def balanceBST(self, root: TreeNode) -> TreeNode:\n",
    "        arr = []\n",
    "        for node in self.iterator(root):\n",
    "            arr.append(node)\n",
    "        return self.helper(0, len(arr)-1, arr)\n",
    "    \n",
    "    def helper(self, low, high, arr):\n",
    "        if low > high:\n",
    "            return\n",
    "        \n",
    "        mid = (low + high) // 2\n",
    "        node = arr[mid]\n",
    "        node.left = self.helper(low, mid-1, arr)\n",
    "        node.right = self.helper(mid+1, high, arr)\n",
    "        return node\n",
    "    \n",
    "    def iterator(self, root):\n",
    "        if not root:\n",
    "            return\n",
    "        \n",
    "        yield from self.iterator(root.left)\n",
    "        yield root\n",
    "        yield from self.iterator(root.right)"
   ]
  },
  {
   "cell_type": "markdown",
   "metadata": {},
   "source": [
    "### Lowest Common Ancestor of a Binary Tree II\n",
    "\n",
    "Given the root of a binary tree, return the lowest common ancestor (LCA) of two given nodes, p and q. If either node p or q does not exist in the tree, return null. All values of the nodes in the tree are unique.\n",
    "\n",
    "According to the definition of LCA on Wikipedia: \"The lowest common ancestor of two nodes p and q in a binary tree T is the lowest node that has both p and q as descendants (where we allow a node to be a descendant of itself)\". A descendant of a node x is a node y that is on the path from node x to some leaf node."
   ]
  },
  {
   "cell_type": "code",
   "execution_count": 3,
   "metadata": {},
   "outputs": [
    {
     "data": {
      "text/plain": [
       "4"
      ]
     },
     "execution_count": 3,
     "metadata": {},
     "output_type": "execute_result"
    }
   ],
   "source": [
    "class Solution:\n",
    "    def lowestCommonAncestor(self, root: 'TreeNode', p: 'TreeNode', q: 'TreeNode') -> 'TreeNode':\n",
    "        self.res = None\n",
    "        self.helper(root, p, q)\n",
    "        return self.res\n",
    "    \n",
    "    def helper(self, root, p, q):\n",
    "        if not root:\n",
    "            return 0\n",
    "        \n",
    "        count = 0\n",
    "        if root == p or root == q:\n",
    "            count = 1\n",
    "        \n",
    "        left = self.helper(root.left, p, q)\n",
    "        right = self.helper(root.right, p, q)\n",
    "        \n",
    "        total_count = count + left + right\n",
    "        if total_count == 2 and self.res is None:\n",
    "            self.res = root\n",
    "            \n",
    "        return total_count\n",
    "        \n",
    "\n",
    "Solution().lowestCommonAncestor(tree.root, node3, node7).val"
   ]
  },
  {
   "cell_type": "markdown",
   "metadata": {},
   "source": [
    "### Lowest Common Ancestor of a Binary Tree III\n",
    "Given two nodes of a binary tree p and q, return their lowest common ancestor (LCA).\n",
    "\n",
    "Each node will have a reference to its parent node. The definition for Node is below:"
   ]
  },
  {
   "cell_type": "code",
   "execution_count": 1,
   "metadata": {},
   "outputs": [],
   "source": [
    "class Solution:\n",
    "    def lowestCommonAncestor(self, p: 'Node', q: 'Node') -> 'Node':\n",
    "        seen = set()\n",
    "        while p:\n",
    "            seen.add(p)\n",
    "            p = p.parent\n",
    "        \n",
    "        while q:\n",
    "            if q in seen:\n",
    "                return q\n",
    "            q = q.parent\n",
    "        \n",
    "        return None\n",
    "        "
   ]
  }
 ],
 "metadata": {
  "kernelspec": {
   "display_name": "Python 3",
   "language": "python",
   "name": "python3"
  },
  "language_info": {
   "codemirror_mode": {
    "name": "ipython",
    "version": 3
   },
   "file_extension": ".py",
   "mimetype": "text/x-python",
   "name": "python",
   "nbconvert_exporter": "python",
   "pygments_lexer": "ipython3",
   "version": "3.8.3"
  }
 },
 "nbformat": 4,
 "nbformat_minor": 4
}
