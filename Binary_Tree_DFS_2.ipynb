{
 "cells": [
  {
   "cell_type": "markdown",
   "metadata": {},
   "source": [
    "## Implementation\n",
    "                     4\n",
    "                    /  \\\n",
    "                   2    6\n",
    "                  / \\   / \\\n",
    "                 1   3 5   7"
   ]
  },
  {
   "cell_type": "code",
   "execution_count": 5,
   "metadata": {},
   "outputs": [
    {
     "name": "stdout",
     "output_type": "stream",
     "text": [
      "1 2 3 4 5 6 7 "
     ]
    }
   ],
   "source": [
    "def inorder(root):\n",
    "    if not root:\n",
    "        return\n",
    "    inorder(root.left)\n",
    "    print(root.val, end = ' ')\n",
    "    inorder(root.right)\n",
    "\n",
    "def preorder(root):\n",
    "    if not root:\n",
    "        return\n",
    "    print(root.val, end = \" \")\n",
    "    preorder(root.left)\n",
    "    preorder(root.right)\n",
    "    \n",
    "class TreeNode:\n",
    "    def __init__(self, data):\n",
    "        self.val = data\n",
    "        self.left = None\n",
    "        self.right = None\n",
    "class BinaryTree:\n",
    "    def __init__(self,root):\n",
    "        self.root = root\n",
    "        \n",
    "node1 = TreeNode(1)\n",
    "node2 = TreeNode(2)\n",
    "node3 = TreeNode(3)\n",
    "node4 = TreeNode(4)\n",
    "node5 = TreeNode(5)\n",
    "node6 = TreeNode(6)\n",
    "node7 = TreeNode(7)\n",
    "\n",
    "node4.left, node4.right = node2, node6\n",
    "node2.left, node2.right = node1, node3\n",
    "node6.left, node6.right = node5, node7\n",
    "\n",
    "tree = BinaryTree(node4)\n",
    "inorder(tree.root)"
   ]
  },
  {
   "cell_type": "markdown",
   "metadata": {},
   "source": [
    "### Design an Expression Tree With Evaluate Function\n",
    "Given the postfix tokens of an arithmetic expression, build and return the binary expression tree that represents this expression.\n",
    "\n",
    "Postfix notation is a notation for writing arithmetic expressions in which the operands (numbers) appear before their operators. For example, the postfix tokens of the expression 4*(5-(2+7)) are represented in the array postfix = [\"4\",\"5\",\"7\",\"2\",\"+\",\"-\",\"*\"].\n",
    "\n",
    "The class Node is an interface you should use to implement the binary expression tree. The returned tree will be tested using the evaluate function, which is supposed to evaluate the tree's value. You should not remove the Node class; however, you can modify it as you wish, and you can define other classes to implement it if needed.\n",
    "\n",
    "A binary expression tree is a kind of binary tree used to represent arithmetic expressions. Each node of a binary expression tree has either zero or two children. Leaf nodes (nodes with 0 children) correspond to operands (numbers), and internal nodes (nodes with two children) correspond to the operators '+' (addition), '-' (subtraction), '*' (multiplication), and '/' (division).\n",
    "\n",
    "It's guaranteed that no subtree will yield a value that exceeds 109 in absolute value, and all the operations are valid (i.e., no division by zero).\n",
    "\n",
    "Follow up: Could you design the expression tree such that it is more modular? For example, is your design able to support additional operators without making changes to your existing evaluate implementation?"
   ]
  },
  {
   "cell_type": "code",
   "execution_count": 2,
   "metadata": {},
   "outputs": [],
   "source": [
    "class Node:\n",
    "    \n",
    "    def __init__(self, val):\n",
    "        self.left = None\n",
    "        self.right = None\n",
    "        self.val = val\n",
    "     \n",
    "\n",
    "    def evaluate(self) -> int:\n",
    "        node = self\n",
    "        if node.val.isdigit():\n",
    "            return int(node.val)\n",
    "        \n",
    "        left_val = node.left.evaluate()\n",
    "        right_val = node.right.evaluate()\n",
    "        \n",
    "        if node.val == '+':\n",
    "            return left_val + right_val\n",
    "        \n",
    "        if node.val == '-':\n",
    "            return left_val - right_val\n",
    "        \n",
    "        if node.val == '*':\n",
    "            return left_val * right_val\n",
    "        \n",
    "        if node.val == '/':\n",
    "            return left_val // right_val\n",
    "        \n",
    "\n",
    "class TreeBuilder(object):\n",
    "    \n",
    "    def buildTree(self, postfix) -> 'Node':\n",
    "        self.i = len(postfix)-1\n",
    "        return self.helper(postfix)\n",
    "    \n",
    "    def helper(self, postfix):\n",
    "        if self.i < 0:\n",
    "            return\n",
    "        \n",
    "        curr_ch = postfix[self.i]\n",
    "        node = Node(curr_ch)\n",
    "        self.i -= 1\n",
    "        \n",
    "        if curr_ch.isdigit():\n",
    "            return node\n",
    "        \n",
    "        node.right = self.helper(postfix)\n",
    "        node.left = self.helper(postfix)\n",
    "        return node"
   ]
  },
  {
   "cell_type": "markdown",
   "metadata": {},
   "source": [
    "### Binary Tree Tilt\n",
    "\n",
    "Given the root of a binary tree, return the sum of every tree node's tilt.\n",
    "\n",
    "The tilt of a tree node is the absolute difference between the sum of all left subtree node values and all right subtree node values. \n",
    "\n",
    "If a node does not have a left child, then the sum of the left subtree node values is treated as 0. \n",
    "\n",
    "The rule is similar if there the node does not have a right child."
   ]
  },
  {
   "cell_type": "code",
   "execution_count": 2,
   "metadata": {},
   "outputs": [
    {
     "data": {
      "text/plain": [
       "16"
      ]
     },
     "execution_count": 2,
     "metadata": {},
     "output_type": "execute_result"
    }
   ],
   "source": [
    "class Solution:\n",
    "    def findTilt(self, root: TreeNode) -> int:\n",
    "        self.res = 0\n",
    "        self.helper(root)\n",
    "        return self.res\n",
    "    \n",
    "    def helper(self, root):\n",
    "        if not root:\n",
    "            return 0\n",
    "        \n",
    "        leftsum = self.helper(root.left)\n",
    "        rightsum = self.helper(root.right)\n",
    "        \n",
    "        self.res += abs(leftsum - rightsum)\n",
    "        \n",
    "        return root.val + leftsum + rightsum\n",
    "    \n",
    "Solution().findTilt(tree.root)"
   ]
  },
  {
   "cell_type": "markdown",
   "metadata": {},
   "source": [
    "### Recover a Tree From Preorder Traversal\n",
    "\n",
    "We run a preorder depth first search on the root of a binary tree.\n",
    "\n",
    "At each node in this traversal, we output D dashes (where D is the depth of this node), then we output the value of this node.  (If the depth of a node is D, the depth of its immediate child is D+1.  The depth of the root node is 0.)\n",
    "\n",
    "If a node has only one child, that child is guaranteed to be the left child.\n",
    "\n",
    "Given the output S of this traversal, recover the tree and return its root."
   ]
  },
  {
   "cell_type": "code",
   "execution_count": 6,
   "metadata": {},
   "outputs": [
    {
     "name": "stdout",
     "output_type": "stream",
     "text": [
      "1 2 3 4 5 6 7 "
     ]
    }
   ],
   "source": [
    "class Solution:\n",
    "    def recoverFromPreorder(self, S: str) -> TreeNode:\n",
    "        stack = []\n",
    "        \n",
    "        for num, depth in self.iterator(S):\n",
    "            node = TreeNode(num)\n",
    "            while stack and stack[-1][1] >= depth:\n",
    "                stack.pop()\n",
    "                \n",
    "            if stack:\n",
    "                parent = stack[-1][0]\n",
    "                if parent.left is None:\n",
    "                    parent.left = node \n",
    "                else:\n",
    "                    parent.right = node\n",
    "\n",
    "            stack.append((node, depth))\n",
    "        \n",
    "        return stack[0][0]\n",
    "            \n",
    "            \n",
    "    def iterator(self, string):\n",
    "        i = 0\n",
    "        \n",
    "        while i < len(string):\n",
    "            depth = 0\n",
    "            \n",
    "            while i < len(string) and string[i] == '-':\n",
    "                depth += 1\n",
    "                i += 1\n",
    "            \n",
    "            start = i\n",
    "            while i < len(string) and string[i].isdigit():\n",
    "                i += 1\n",
    "            \n",
    "            num = int(string[start:i])\n",
    "            yield (num, depth)\n",
    "        \n",
    "root = Solution().recoverFromPreorder(\"1-2--3--4-5--6--7\")\n",
    "preorder(root)"
   ]
  }
 ],
 "metadata": {
  "kernelspec": {
   "display_name": "Python 3",
   "language": "python",
   "name": "python3"
  },
  "language_info": {
   "codemirror_mode": {
    "name": "ipython",
    "version": 3
   },
   "file_extension": ".py",
   "mimetype": "text/x-python",
   "name": "python",
   "nbconvert_exporter": "python",
   "pygments_lexer": "ipython3",
   "version": "3.8.3"
  }
 },
 "nbformat": 4,
 "nbformat_minor": 4
}
