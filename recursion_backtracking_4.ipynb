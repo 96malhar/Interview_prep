{
 "cells": [
  {
   "cell_type": "markdown",
   "metadata": {},
   "source": [
    "### Minimum Number of Days to Eat N Oranges\n",
    "\n",
    "There are n oranges in the kitchen and you decided to eat some of these oranges every day as follows:\n",
    "\n",
    "* Eat one orange.\n",
    "* If the number of remaining oranges (n) is divisible by 2 then you can eat  n/2 oranges.\n",
    "* If the number of remaining oranges (n) is divisible by 3 then you can eat  2*(n/3) oranges.\n",
    "\n",
    "You can only choose one of the actions per day.\n",
    "\n",
    "Return the minimum number of days to eat n oranges.\n",
    "\n",
    "**Note - Can also be solved using BFS**"
   ]
  },
  {
   "cell_type": "code",
   "execution_count": 1,
   "metadata": {},
   "outputs": [
    {
     "data": {
      "text/plain": [
       "8"
      ]
     },
     "execution_count": 1,
     "metadata": {},
     "output_type": "execute_result"
    }
   ],
   "source": [
    "class Solution:\n",
    "    _memo = {}\n",
    "    \n",
    "    def minDays(self, n: int) -> int:\n",
    "        self.memo = self._memo\n",
    "        return int(self.helper(n))\n",
    "    \n",
    "    def helper(self, n):\n",
    "        if n <= 1:\n",
    "            return n\n",
    "        \n",
    "        if n in self.memo:\n",
    "            return self.memo[n]\n",
    "        \n",
    "        min_days = float('inf')\n",
    "        \n",
    "        min_days = min(min_days, n%2 + 1 + self.helper(n//2))\n",
    "        min_days = min(min_days, n%3 + 1 + self.helper(n//3))\n",
    "        \n",
    "        self.memo[n] = min_days\n",
    "        return min_days\n",
    "    \n",
    "    \n",
    "Solution().minDays(132)"
   ]
  }
 ],
 "metadata": {
  "kernelspec": {
   "display_name": "Python 3",
   "language": "python",
   "name": "python3"
  },
  "language_info": {
   "codemirror_mode": {
    "name": "ipython",
    "version": 3
   },
   "file_extension": ".py",
   "mimetype": "text/x-python",
   "name": "python",
   "nbconvert_exporter": "python",
   "pygments_lexer": "ipython3",
   "version": "3.6.8"
  }
 },
 "nbformat": 4,
 "nbformat_minor": 2
}
