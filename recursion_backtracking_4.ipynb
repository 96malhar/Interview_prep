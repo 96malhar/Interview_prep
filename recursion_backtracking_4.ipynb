{
 "cells": [
  {
   "cell_type": "markdown",
   "metadata": {},
   "source": [
    "### Minimum Number of Days to Eat N Oranges\n",
    "\n",
    "There are n oranges in the kitchen and you decided to eat some of these oranges every day as follows:\n",
    "\n",
    "* Eat one orange.\n",
    "* If the number of remaining oranges (n) is divisible by 2 then you can eat  n/2 oranges.\n",
    "* If the number of remaining oranges (n) is divisible by 3 then you can eat  2*(n/3) oranges.\n",
    "\n",
    "You can only choose one of the actions per day.\n",
    "\n",
    "Return the minimum number of days to eat n oranges.\n",
    "\n",
    "**Note - Can also be solved using BFS**"
   ]
  },
  {
   "cell_type": "code",
   "execution_count": 1,
   "metadata": {},
   "outputs": [
    {
     "data": {
      "text/plain": [
       "8"
      ]
     },
     "execution_count": 1,
     "metadata": {},
     "output_type": "execute_result"
    }
   ],
   "source": [
    "class Solution:\n",
    "    _memo = {}\n",
    "    \n",
    "    def minDays(self, n: int) -> int:\n",
    "        self.memo = self._memo\n",
    "        return int(self.helper(n))\n",
    "    \n",
    "    def helper(self, n):\n",
    "        if n <= 1:\n",
    "            return n\n",
    "        \n",
    "        if n in self.memo:\n",
    "            return self.memo[n]\n",
    "        \n",
    "        min_days = float('inf')\n",
    "        \n",
    "        min_days = min(min_days, n%2 + 1 + self.helper(n//2))\n",
    "        min_days = min(min_days, n%3 + 1 + self.helper(n//3))\n",
    "        \n",
    "        self.memo[n] = min_days\n",
    "        return min_days\n",
    "    \n",
    "    \n",
    "Solution().minDays(132)"
   ]
  },
  {
   "cell_type": "markdown",
   "metadata": {},
   "source": [
    "### Number of Ways to Reorder Array to Get Same BST\n",
    "\n",
    "Given an array nums that represents a permutation of integers from 1 to n. We are going to construct a binary search tree (BST) by inserting the elements of nums in order into an initially empty BST. Find the number of different ways to reorder nums so that the constructed BST is identical to that formed from the original array nums.\n",
    "\n",
    "For example, given nums = [2,1,3], we will have 2 as the root, 1 as a left child, and 3 as a right child. The array [2,3,1] also yields the same BST but [3,2,1] yields a different BST.\n",
    "\n",
    "Return the number of ways to reorder nums such that the BST formed is identical to the original BST formed from nums.\n",
    "\n",
    "Since the answer may be very large, return it modulo 10^9 + 7."
   ]
  },
  {
   "cell_type": "code",
   "execution_count": 12,
   "metadata": {},
   "outputs": [
    {
     "data": {
      "text/plain": [
       "19"
      ]
     },
     "execution_count": 12,
     "metadata": {},
     "output_type": "execute_result"
    }
   ],
   "source": [
    "from math import factorial\n",
    "class Solution:\n",
    "    def numOfWays(self, nums) -> int:\n",
    "        num_ways = self.helper(nums)\n",
    "        return (num_ways-1) % (10**9+7)\n",
    "    \n",
    "    def helper(self, nums):\n",
    "        if len(nums) <= 1:\n",
    "            return 1\n",
    "        left = []\n",
    "        right = []\n",
    "        for val in nums[1:]:\n",
    "            res = left if val < nums[0] else right\n",
    "            res.append(val)\n",
    "        \n",
    "        m, n = len(left), len(right)\n",
    "        return self.comb(m+n, n) * self.helper(left) * self.helper(right)\n",
    "    \n",
    "    def comb(self, n, k):\n",
    "        return factorial(n) // (factorial(k) * factorial(n-k))\n",
    "\n",
    "Solution().numOfWays(nums = [3,1,2,5,4,6])"
   ]
  },
  {
   "cell_type": "markdown",
   "metadata": {},
   "source": [
    "### Count All Possible Routes\n",
    "\n",
    "You are given an array of distinct positive integers locations where locations[i] represents the position of city i. You are also given integers start, finish and fuel representing the starting city, ending city, and the initial amount of fuel you have, respectively.\n",
    "\n",
    "At each step, if you are at city i, you can pick any city j such that j != i and 0 <= j < locations.length and move to city j. Moving from city i to city j reduces the amount of fuel you have by |locations[i] - locations[j]|. Please notice that |x| denotes the absolute value of x.\n",
    "\n",
    "Notice that fuel cannot become negative at any point in time, and that you are allowed to visit any city more than once (including start and finish).\n",
    "\n",
    "Return the count of all possible routes from start to finish.\n",
    "\n",
    "Since the answer may be too large, return it modulo 10^9 + 7."
   ]
  },
  {
   "cell_type": "code",
   "execution_count": 13,
   "metadata": {},
   "outputs": [
    {
     "data": {
      "text/plain": [
       "4"
      ]
     },
     "execution_count": 13,
     "metadata": {},
     "output_type": "execute_result"
    }
   ],
   "source": [
    "class Solution:\n",
    "    def countRoutes(self, locations, start: int, finish: int, fuel: int) -> int:\n",
    "        self.memo = {}\n",
    "        self.mod = 10**9 + 7\n",
    "        return self.helper(start, finish, locations, fuel)\n",
    "    \n",
    "    def helper(self, curr, finish, locations, fuel):\n",
    "        if fuel < 0:\n",
    "            return 0\n",
    "        \n",
    "        if (curr, fuel) in self.memo:\n",
    "            return self.memo[(curr, fuel)]\n",
    "        \n",
    "        res = 1 if curr == finish else 0\n",
    "        \n",
    "        for next_i in range(len(locations)):\n",
    "            if next_i != curr:\n",
    "                update = abs(locations[next_i] - locations[curr])\n",
    "                res += self.helper(next_i, finish, locations, fuel-update)\n",
    "        \n",
    "        res = res % self.mod\n",
    "        self.memo[(curr, fuel)] = res \n",
    "        return res\n",
    "\n",
    "Solution().countRoutes(locations = [2,3,6,8,4], start = 1, finish = 3, fuel = 5)"
   ]
  },
  {
   "cell_type": "markdown",
   "metadata": {},
   "source": [
    "### Sequential Digits\n",
    "\n",
    "An integer has sequential digits if and only if each digit in the number is one more than the previous digit.\n",
    "\n",
    "Return a sorted list of all the integers in the range [low, high] inclusive that have sequential digits."
   ]
  },
  {
   "cell_type": "code",
   "execution_count": 15,
   "metadata": {},
   "outputs": [
    {
     "data": {
      "text/plain": [
       "[1234, 2345, 3456, 4567, 5678, 6789, 12345]"
      ]
     },
     "execution_count": 15,
     "metadata": {},
     "output_type": "execute_result"
    }
   ],
   "source": [
    "class Solution:\n",
    "    def sequentialDigits(self, low: int, high: int):\n",
    "        min_digits = len(str(low))\n",
    "        max_digits = len(str(high))\n",
    "        self.res = []\n",
    "        \n",
    "        for num_digits in range(min_digits, max_digits+1):\n",
    "            buffer = []\n",
    "            for num in range(1, 10):\n",
    "                self.helper(low, high, buffer+[str(num)], num_digits-1)\n",
    "        \n",
    "        return self.res\n",
    "    \n",
    "    def helper(self, low, high, buffer, num_digits):\n",
    "        number = int(''.join(buffer))\n",
    "        \n",
    "        if low <= number <= high and num_digits == 0:\n",
    "            self.res.append(number)\n",
    "            return\n",
    "        \n",
    "        last_digit = int(buffer[-1])\n",
    "        if last_digit != 9:\n",
    "            n = last_digit+1\n",
    "            self.helper(low, high, buffer+[str(n)], num_digits-1)\n",
    "            \n",
    "    \n",
    "Solution().sequentialDigits(low = 1000, high = 13000)"
   ]
  },
  {
   "cell_type": "markdown",
   "metadata": {},
   "source": [
    "### Paint Fence\n",
    "E\n",
    "There is a fence with n posts, each post can be painted with one of the k colors.\n",
    "\n",
    "You have to paint all the posts such that no more than two adjacent fence posts have the same color.\n",
    "\n",
    "Return the total number of ways you can paint the fence."
   ]
  },
  {
   "cell_type": "code",
   "execution_count": 1,
   "metadata": {},
   "outputs": [
    {
     "data": {
      "text/plain": [
       "6"
      ]
     },
     "execution_count": 1,
     "metadata": {},
     "output_type": "execute_result"
    }
   ],
   "source": [
    "class Solution:\n",
    "    def numWays(self, n: int, k: int) -> int:\n",
    "        self.memo = {}\n",
    "        if n == 0 or k == 0:\n",
    "            return 0\n",
    "        return self.helper(n, k, -1, 0)\n",
    "    \n",
    "    def helper(self, n, k, last_color, consec):\n",
    "        if n == 0:\n",
    "            return 1\n",
    "        \n",
    "        if (n, consec) in self.memo:\n",
    "            return self.memo[(n, consec)]\n",
    "        \n",
    "        res = 0\n",
    "        for color in range(k):\n",
    "            if color != last_color:\n",
    "                res += self.helper(n-1, k, color, 1)\n",
    "            elif consec < 2:\n",
    "                res += self.helper(n-1, k, color, consec+1)\n",
    "        \n",
    "        self.memo[(n, consec)] = res\n",
    "        return res\n",
    "        \n",
    "Solution().numWays(n = 3, k = 2)"
   ]
  },
  {
   "cell_type": "markdown",
   "metadata": {},
   "source": [
    "### Number of Sets of K Non-Overlapping Line Segments\n",
    "\n",
    "Given n points on a 1-D plane, where the ith point (from 0 to n-1) is at x = i, find the number of ways we can draw exactly k non-overlapping line segments such that each segment covers two or more points. The endpoints of each segment must have integral coordinates. The k line segments do not have to cover all n points, and they are allowed to share endpoints.\n",
    "\n",
    "Return the number of ways we can draw k non-overlapping line segments. Since this number can be huge, return it modulo 109 + 7."
   ]
  },
  {
   "cell_type": "code",
   "execution_count": 2,
   "metadata": {},
   "outputs": [
    {
     "data": {
      "text/plain": [
       "5"
      ]
     },
     "execution_count": 2,
     "metadata": {},
     "output_type": "execute_result"
    }
   ],
   "source": [
    "class Solution:\n",
    "    _memo = {}\n",
    "    def numberOfSets(self, n: int, k: int) -> int:\n",
    "        self.memo = self._memo\n",
    "        self.mod = (10**9) + 7\n",
    "        res = self.helper(False, n, k) \n",
    "        return res % self.mod\n",
    "    \n",
    "    def helper(self, isMiddle, n, k):\n",
    "        if k == 0:\n",
    "            return 1\n",
    "        \n",
    "        if n == 0:\n",
    "            return 0\n",
    "        \n",
    "        if (n, k, isMiddle) in self.memo:\n",
    "            return self.memo[(n, k, isMiddle)]\n",
    "        \n",
    "        res = 0\n",
    "        \n",
    "        if not isMiddle:\n",
    "            #start segment\n",
    "            res += self.helper(True, n-1, k)\n",
    "            \n",
    "            # don't start\n",
    "            res += self.helper(False, n-1, k)\n",
    "        \n",
    "        else:\n",
    "            #continue segment\n",
    "            res += self.helper(True, n-1, k)\n",
    "            \n",
    "            #end segment\n",
    "            res += self.helper(False, n, k-1)\n",
    "        \n",
    "        self.memo[(n, k, isMiddle)] = res\n",
    "        return res\n",
    "        \n",
    "        \n",
    "Solution().numberOfSets(4, 2)"
   ]
  },
  {
   "cell_type": "markdown",
   "metadata": {},
   "source": [
    "### Number of Paths with Max Score\n",
    "\n",
    "You are given a square board of characters. You can move on the board starting at the bottom right square marked with the character 'S'.\n",
    "\n",
    "You need to reach the top left square marked with the character 'E'. The rest of the squares are labeled either with a numeric character 1, 2, ..., 9 or with an obstacle 'X'. In one move you can go up, left or up-left (diagonally) only if there is no obstacle there.\n",
    "\n",
    "Return a list of two integers: the first integer is the maximum sum of numeric characters you can collect, and the second is the number of such paths that you can take to get that maximum sum, taken modulo 10^9 + 7.\n",
    "\n",
    "In case there is no path, return [0, 0]."
   ]
  },
  {
   "cell_type": "code",
   "execution_count": 3,
   "metadata": {},
   "outputs": [
    {
     "data": {
      "text/plain": [
       "[4, 2]"
      ]
     },
     "execution_count": 3,
     "metadata": {},
     "output_type": "execute_result"
    }
   ],
   "source": [
    "class Solution:\n",
    "    def pathsWithMaxScore(self, board):\n",
    "        self.memo = {}; self.mod = 10**9 + 7\n",
    "        maxsum, count = self.helper(len(board)-1, len(board[0])-1, board)\n",
    "        if maxsum == -float('inf'):\n",
    "            return [0, 0]\n",
    "        return [maxsum, count]\n",
    "    \n",
    "    def helper(self, i, j, board):\n",
    "        if (i, j) == (0, 0):\n",
    "            return (0, 1)\n",
    "        \n",
    "        if (i, j) in self.memo:\n",
    "            return self.memo[(i, j)]\n",
    "        \n",
    "        maxsum = -float('inf')\n",
    "        count = 0\n",
    "        curr_val = 0 if board[i][j] == 'S' else int(board[i][j])\n",
    "        \n",
    "        for x, y in [(i-1,j), (i,j-1), (i-1, j-1)]:\n",
    "            \n",
    "            if 0<=x<len(board) and 0<=y<len(board[0]) and board[x][y] != 'X':\n",
    "                maxsum_new, count_new = self.helper(x, y, board)\n",
    "                \n",
    "                if maxsum_new + curr_val > maxsum:\n",
    "                    maxsum = maxsum_new + curr_val\n",
    "                    count = count_new\n",
    "                    \n",
    "                elif maxsum_new + curr_val == maxsum:\n",
    "                    count += count_new\n",
    "            \n",
    "            count = count % self.mod\n",
    "        \n",
    "        self.memo[(i,j)] = (maxsum, count)\n",
    "        return (maxsum, count)\n",
    "        \n",
    "        \n",
    "Solution().pathsWithMaxScore([\"E12\",\"1X1\",\"21S\"])     "
   ]
  },
  {
   "cell_type": "markdown",
   "metadata": {},
   "source": [
    "### Number of Ways to Form a Target String Given a Dictionary\n",
    "\n",
    "You are given a list of strings of the same length words and a string target.\n",
    "\n",
    "Your task is to form target using the given words under the following rules:\n",
    "\n",
    "* target should be formed from left to right.\n",
    "* To form the ith character (0-indexed) of target, you can choose the kth character of the jth string in words if target[i] = words[j][k].\n",
    "* Once you use the kth character of the jth string of words, you can no longer use the xth character of any string in words where x <= k. In other words, all characters to the left of or at index k become unusuable for every string.\n",
    "* Repeat the process until you form the string target.\n",
    "\n",
    "Notice that you can use multiple characters from the same string in words provided the conditions above are met.\n",
    "\n",
    "Return the number of ways to form target from words. Since the answer may be too large, return it modulo 109 + 7."
   ]
  },
  {
   "cell_type": "code",
   "execution_count": 3,
   "metadata": {},
   "outputs": [
    {
     "data": {
      "text/plain": [
       "16"
      ]
     },
     "execution_count": 3,
     "metadata": {},
     "output_type": "execute_result"
    }
   ],
   "source": [
    "from collections import defaultdict, Counter\n",
    "class Solution:\n",
    "    def numWays(self, words, target: str) -> int:\n",
    "        freq = defaultdict(Counter)\n",
    "        self.mod = 10**9 + 7\n",
    "        for word in words:\n",
    "            for i, ch in enumerate(word):\n",
    "                freq[i][ch] += 1\n",
    "        \n",
    "        self.memo = {}\n",
    "        return self.helper(0, 0, freq, target)\n",
    "    \n",
    "    def helper(self, i, j, freq, target):\n",
    "        rem_ch = len(freq) - i\n",
    "        rem_ch_target = len(target) - j\n",
    "        \n",
    "        if rem_ch < rem_ch_target:\n",
    "            return 0\n",
    "        \n",
    "        if j == len(target):\n",
    "            return 1\n",
    "        \n",
    "        if i == len(freq):\n",
    "            return 0\n",
    "        \n",
    "        if (i, j) in self.memo:\n",
    "            return self.memo[(i, j)]\n",
    "\n",
    "        res = 0\n",
    "        \n",
    "        #don't take i\n",
    "        res += self.helper(i+1, j, freq, target) % self.mod\n",
    "        \n",
    "        #take i\n",
    "        curr_ch = target[j]\n",
    "        \n",
    "        fr = freq[i][curr_ch]\n",
    "        if fr > 0:\n",
    "            res += fr * self.helper(i+1, j+1, freq, target) % self.mod\n",
    "        \n",
    "        res = res % self.mod\n",
    "        self.memo[(i, j)] = res \n",
    "        return res\n",
    "        \n",
    "Solution().numWays(words = [\"abab\",\"baba\",\"abba\",\"baab\"], target = \"abba\")"
   ]
  },
  {
   "cell_type": "markdown",
   "metadata": {},
   "source": [
    "### Count Sorted Vowel Strings\n",
    "\n",
    "Given an integer n, return the number of strings of length n that consist only of vowels (a, e, i, o, u) and are lexicographically sorted.\n",
    "\n",
    "A string s is lexicographically sorted if for all valid i, s[i] is the same as or comes before s[i+1] in the alphabet."
   ]
  },
  {
   "cell_type": "code",
   "execution_count": 1,
   "metadata": {},
   "outputs": [
    {
     "data": {
      "text/plain": [
       "66045"
      ]
     },
     "execution_count": 1,
     "metadata": {},
     "output_type": "execute_result"
    }
   ],
   "source": [
    "class Solution:\n",
    "    def countVowelStrings(self, n: int) -> int:\n",
    "        self.memo = {}\n",
    "        res = 0\n",
    "        for ch in ['a', 'e', 'i', 'o', 'u']:\n",
    "            res += self.helper(n-1, ch)\n",
    "        return res\n",
    "    \n",
    "    def helper(self, n, last_ch):\n",
    "        if n == 0:\n",
    "            return 1\n",
    "        \n",
    "        if (n, last_ch) in self.memo:\n",
    "            return self.memo[(n, last_ch)]\n",
    "        \n",
    "        res = 0\n",
    "        for ch in ['a', 'e', 'i', 'o', 'u']:\n",
    "            if ch >= last_ch:\n",
    "                res += self.helper(n-1, ch)\n",
    "        \n",
    "        self.memo[(n, last_ch)] = res\n",
    "        return res\n",
    "        \n",
    "\n",
    "Solution().countVowelStrings(33)"
   ]
  },
  {
   "cell_type": "markdown",
   "metadata": {},
   "source": [
    "### Stepping Numbers\n",
    "\n",
    "A Stepping Number is an integer such that all of its adjacent digits have an absolute difference of exactly 1. For example, 321 is a Stepping Number while 421 is not.\n",
    "\n",
    "Given two integers low and high, find and return a sorted list of all the Stepping Numbers in the range [low, high] inclusive."
   ]
  },
  {
   "cell_type": "code",
   "execution_count": 6,
   "metadata": {},
   "outputs": [
    {
     "data": {
      "text/plain": [
       "[2, 3, 4, 5, 6, 7, 8, 9, 10, 12]"
      ]
     },
     "execution_count": 6,
     "metadata": {},
     "output_type": "execute_result"
    }
   ],
   "source": [
    "class Solution:\n",
    "    def countSteppingNumbers(self, low: int, high: int):\n",
    "        self.res = []\n",
    "        for num in range(1, 10):\n",
    "            self.helper(num, num, low, high)\n",
    "        if low <= 0 <= high:\n",
    "            self.res.append(0)\n",
    "        return sorted(self.res)\n",
    "    \n",
    "    def helper(self, num, last_digit, low, high):\n",
    "        if low <= num <= high:\n",
    "            self.res.append(num)\n",
    "        \n",
    "        if num > high:\n",
    "            return\n",
    "        \n",
    "        cand1 = last_digit - 1\n",
    "        cand2 = last_digit + 1\n",
    "        \n",
    "        if 0 <= cand1 <= 9:\n",
    "            self.helper(num*10+cand1, cand1, low, high)\n",
    "        \n",
    "        if 0 <= cand2 <= 9:\n",
    "            self.helper(num*10+cand2, cand2, low, high)\n",
    "        \n",
    "Solution().countSteppingNumbers(2, 15)   "
   ]
  },
  {
   "cell_type": "markdown",
   "metadata": {},
   "source": [
    "### Distribute Repeating Integers\n",
    "\n",
    "You are given an array of n integers, nums, where there are at most 50 unique values in the array. You are also given an array of m customer order quantities, quantity, where quantity[i] is the amount of integers the ith customer ordered.\n",
    "\n",
    "Determine if it is possible to distribute nums such that:\n",
    "\n",
    "* The ith customer gets exactly quantity[i] integers,\n",
    "* The integers the ith customer gets are all equal, and\n",
    "* Every customer is satisfied.\n",
    "\n",
    "Return true if it is possible to distribute nums according to the above conditions."
   ]
  },
  {
   "cell_type": "code",
   "execution_count": 3,
   "metadata": {},
   "outputs": [
    {
     "data": {
      "text/plain": [
       "True"
      ]
     },
     "execution_count": 3,
     "metadata": {},
     "output_type": "execute_result"
    }
   ],
   "source": [
    "#using DP\n",
    "\n",
    "from collections import Counter\n",
    "class Solution:\n",
    "    def canDistribute(self, nums, quantity) -> bool:\n",
    "        bitmask = 0\n",
    "        target = 2**len(quantity)-1\n",
    "        self.memo = {}\n",
    "        freq = list(Counter(nums).values())\n",
    "        return self.helper(0, freq, freq[0], quantity, bitmask, target)\n",
    "    \n",
    "    def helper(self, i, freq, curr, quantity, bitmask, target):\n",
    "        if bitmask == target:\n",
    "            return True\n",
    "        \n",
    "        if i == len(freq):\n",
    "            return False\n",
    "        \n",
    "        if (i, bitmask, curr) in self.memo:\n",
    "            return self.memo[(i, bitmask, curr)]\n",
    "        \n",
    "        for index in range(len(quantity)):\n",
    "            if bitmask >> index & 1 == 0 and quantity[index] <= curr:\n",
    "                if self.helper(i, freq, curr-quantity[index], quantity, bitmask | 1<<index, target):\n",
    "                    return True\n",
    "        \n",
    "        if i+1 < len(freq) and self.helper(i+1, freq, freq[i+1], quantity, bitmask, target):\n",
    "            return True\n",
    "        \n",
    "        self.memo[(i, bitmask, curr)] = False\n",
    "        return False\n",
    "            \n",
    "Solution().canDistribute(nums = [1,1,2,2], quantity = [2,2])"
   ]
  },
  {
   "cell_type": "code",
   "execution_count": 6,
   "metadata": {},
   "outputs": [
    {
     "data": {
      "text/plain": [
       "True"
      ]
     },
     "execution_count": 6,
     "metadata": {},
     "output_type": "execute_result"
    }
   ],
   "source": [
    "# using backtracking\n",
    "class Solution:\n",
    "    def canDistribute(self, nums, quantity) -> bool:\n",
    "        freq = list(Counter(nums).values())\n",
    "        quantity.sort(reverse=True)\n",
    "        return self.helper(0, quantity, freq)\n",
    "    \n",
    "    def helper(self, i, quantity, freq):\n",
    "        if i == len(quantity):\n",
    "            return True\n",
    "        \n",
    "        for index in range(len(freq)):\n",
    "            if quantity[i] <= freq[index]:\n",
    "                freq[index] -= quantity[i]\n",
    "                if self.helper(i+1, quantity, freq):\n",
    "                    return True\n",
    "                freq[index] += quantity[i]\n",
    "        \n",
    "        return False\n",
    "\n",
    "Solution().canDistribute(nums = [1,1,2,2], quantity = [2,2])"
   ]
  },
  {
   "cell_type": "markdown",
   "metadata": {},
   "source": [
    "### Maximum Non Negative Product in a Matrix\n",
    "\n",
    "You are given a rows x cols matrix grid. Initially, you are located at the top-left corner (0, 0), and in each step, you can only move right or down in the matrix.\n",
    "\n",
    "Among all possible paths starting from the top-left corner (0, 0) and ending in the bottom-right corner (rows - 1, cols - 1), find the path with the maximum non-negative product. The product of a path is the product of all integers in the grid cells visited along the path.\n",
    "\n",
    "Return the maximum non-negative product modulo 109 + 7. If the maximum product is negative return -1.\n",
    "\n",
    "Notice that the modulo is performed after getting the maximum product."
   ]
  },
  {
   "cell_type": "code",
   "execution_count": 2,
   "metadata": {},
   "outputs": [
    {
     "data": {
      "text/plain": [
       "8"
      ]
     },
     "execution_count": 2,
     "metadata": {},
     "output_type": "execute_result"
    }
   ],
   "source": [
    "class Solution:\n",
    "    def maxProductPath(self, grid) -> int:\n",
    "        self.memo = {}\n",
    "        res = self.helper(0, 0, grid)[0]\n",
    "        return res % (10**9 + 7) if res >= 0 else -1\n",
    "\n",
    "    def helper(self, i, j, grid):\n",
    "        \n",
    "        if [i, j] == [len(grid)-1, len(grid[0])-1]:\n",
    "            return grid[i][j], grid[i][j]\n",
    "        \n",
    "        if (i, j) in self.memo:\n",
    "            return self.memo[(i,j)]\n",
    "        \n",
    "        new_max = -float('inf')\n",
    "        new_min = float('inf')\n",
    "        curr = grid[i][j]\n",
    "        \n",
    "        for x, y in [(i+1, j), (i, j+1)]:\n",
    "            if 0<=x<len(grid) and 0<=y<len(grid[0]):\n",
    "                max_, min_ = self.helper(x, y, grid)\n",
    "                new_max = max(new_max, curr*max_, curr*min_)\n",
    "                new_min = min(new_min, curr*max_, curr*min_)\n",
    "        \n",
    "        self.memo[(i,j)] = (new_max, new_min)\n",
    "        return (new_max, new_min)\n",
    "                \n",
    "\n",
    "grid = [[1,-2,1],\n",
    "       [1,-2,1],\n",
    "       [3,-4,1]]\n",
    "\n",
    "Solution().maxProductPath(grid)"
   ]
  },
  {
   "cell_type": "markdown",
   "metadata": {},
   "source": [
    "###  Reducing Dishes\n",
    "\n",
    "A chef has collected data on the satisfaction level of his n dishes. Chef can cook any dish in 1 unit of time.\n",
    "\n",
    "Like-time coefficient of a dish is defined as the time taken to cook that dish including previous dishes multiplied by its satisfaction level  i.e.  time[i]*satisfaction[i]\n",
    "\n",
    "Return the maximum sum of Like-time coefficient that the chef can obtain after dishes preparation.\n",
    "\n",
    "Dishes can be prepared in any order and the chef can discard some dishes to get this maximum value."
   ]
  },
  {
   "cell_type": "code",
   "execution_count": 5,
   "metadata": {},
   "outputs": [
    {
     "data": {
      "text/plain": [
       "14"
      ]
     },
     "execution_count": 5,
     "metadata": {},
     "output_type": "execute_result"
    }
   ],
   "source": [
    "class Solution:\n",
    "    def maxSatisfaction(self, satisfaction) -> int:\n",
    "        satisfaction.sort()\n",
    "        self.memo = {}\n",
    "        return self.helper(0, 0, satisfaction)\n",
    "    \n",
    "    def helper(self, i, prev_time, satisfaction):\n",
    "        if i == len(satisfaction):\n",
    "            return 0\n",
    "        \n",
    "        if (i, prev_time) in self.memo:\n",
    "            return self.memo[(i, prev_time)]\n",
    "        \n",
    "        res = 0\n",
    "        \n",
    "        take = (prev_time+1) * satisfaction[i] + self.helper(i+1, prev_time+1, satisfaction)\n",
    "        \n",
    "        no_take = self.helper(i+1, prev_time, satisfaction)\n",
    "        \n",
    "        res = max(res, take, no_take)\n",
    "        self.memo[(i, prev_time)] = res\n",
    "        return res\n",
    "        \n",
    "\n",
    "Solution().maxSatisfaction(satisfaction = [-1,-8,0,5,-9])"
   ]
  },
  {
   "cell_type": "markdown",
   "metadata": {},
   "source": [
    "### Freedom Trail\n",
    "\n",
    "In the video game Fallout 4, the quest \"Road to Freedom\" requires players to reach a metal dial called the \"Freedom Trail Ring\", and use the dial to spell a specific keyword in order to open the door.\n",
    "\n",
    "Given a string ring, which represents the code engraved on the outer ring and another string key, which represents the keyword needs to be spelled. You need to find the minimum number of steps in order to spell all the characters in the keyword.\n",
    "\n",
    "Initially, the first character of the ring is aligned at 12:00 direction. You need to spell all the characters in the string key one by one by rotating the ring clockwise or anticlockwise to make each character of the string key aligned at 12:00 direction and then by pressing the center button.\n",
    "\n",
    "At the stage of rotating the ring to spell the key character key[i]:\n",
    "\n",
    "* You can rotate the ring clockwise or anticlockwise one place, which counts as 1 step. The final purpose of the rotation is to align one of the string ring's characters at the 12:00 direction, where this character must equal to the character key[i].\n",
    "* If the character key[i] has been aligned at the 12:00 direction, you need to press the center button to spell, which also counts as 1 step. After the pressing, you could begin to spell the next character in the key (next stage), otherwise, you've finished all the spelling."
   ]
  },
  {
   "cell_type": "code",
   "execution_count": 8,
   "metadata": {},
   "outputs": [
    {
     "data": {
      "text/plain": [
       "4"
      ]
     },
     "execution_count": 8,
     "metadata": {},
     "output_type": "execute_result"
    }
   ],
   "source": [
    "from collections import defaultdict\n",
    "class Solution:\n",
    "    def findRotateSteps(self, ring: str, key: str) -> int:\n",
    "        index  = defaultdict(list)\n",
    "        for i, ch in enumerate(ring):\n",
    "            index[ch].append(i)\n",
    "        \n",
    "        self.memo = {}\n",
    "        return self.helper(0, 0, ring, key, index)\n",
    "    \n",
    "    def helper(self, i, j, ring, key, index):\n",
    "        if j == len(key):\n",
    "            return 0\n",
    "        \n",
    "        if (i,j) in self.memo:\n",
    "            return self.memo[(i,j)]\n",
    "        \n",
    "        if ring[i] == key[j]:\n",
    "            res = 1 + self.helper(i, j+1, ring, key, index)\n",
    "        \n",
    "        else:\n",
    "            res = float('inf')\n",
    "            ch = key[j]\n",
    "            for next_i in index[ch]:\n",
    "                steps = min(abs(i-next_i), len(ring)-abs(i-next_i))\n",
    "                res = min(res, steps + self.helper(next_i, j, ring, key, index))\n",
    "        \n",
    "        self.memo[(i,j)] = res\n",
    "        return res\n",
    "        \n",
    "Solution().findRotateSteps(ring = \"godding\", key = \"gd\")        "
   ]
  },
  {
   "cell_type": "markdown",
   "metadata": {},
   "source": [
    "### Count Number of Teams\n",
    "\n",
    "There are n soldiers standing in a line. Each soldier is assigned a unique rating value.\n",
    "\n",
    "You have to form a team of 3 soldiers amongst them under the following rules:\n",
    "\n",
    "* Choose 3 soldiers with index (i, j, k) with rating (rating[i], rating[j], rating[k]).\n",
    "* A team is valid if:  (rating[i] < rating[j] < rating[k]) or (rating[i] > rating[j] > rating[k]) where (0 <= i < j < k < n).\n",
    "\n",
    "Return the number of teams you can form given the conditions. (soldiers can be part of multiple teams)."
   ]
  },
  {
   "cell_type": "code",
   "execution_count": 3,
   "metadata": {},
   "outputs": [
    {
     "data": {
      "text/plain": [
       "3"
      ]
     },
     "execution_count": 3,
     "metadata": {},
     "output_type": "execute_result"
    }
   ],
   "source": [
    "class Solution:\n",
    "    def numTeams(self, arr) -> int:\n",
    "        k = 3\n",
    "        self.memo = {}; ans = 0\n",
    "        \n",
    "        for i in range(len(arr)):\n",
    "            ans += self.helper(i, arr, k-1, True)\n",
    "        \n",
    "        self.memo = {}\n",
    "        for i in range(len(arr)):\n",
    "            ans += self.helper(i, arr, k-1, False)\n",
    "        \n",
    "        return ans\n",
    "    \n",
    "    def helper(self, i, arr, k, lookForIncreasing):\n",
    "        if k == 0:\n",
    "            return 1\n",
    "        \n",
    "        if i == len(arr):\n",
    "            return 0\n",
    "        \n",
    "        if (i, k) in self.memo:\n",
    "            return self.memo[(i, k)]\n",
    "        \n",
    "        res = 0\n",
    "        for j in range(i+1, len(arr)):\n",
    "            if arr[j] > arr[i] and lookForIncreasing:\n",
    "                res += self.helper(j, arr, k-1, lookForIncreasing)\n",
    "            \n",
    "            elif arr[j] < arr[i] and not lookForIncreasing:\n",
    "                res += self.helper(j, arr, k-1, lookForIncreasing)\n",
    "        \n",
    "        self.memo[(i, k)] = res\n",
    "        return res\n",
    "        \n",
    "Solution().numTeams(arr = [2,5,3,4,1])"
   ]
  },
  {
   "cell_type": "markdown",
   "metadata": {},
   "source": [
    "### Maximum Number of Achievable Transfer Requests\n",
    "\n",
    "We have n buildings numbered from 0 to n - 1. Each building has a number of employees. It's transfer season, and some employees want to change the building they reside in.\n",
    "\n",
    "You are given an array requests where requests[i] = [fromi, toi] represents an employee's request to transfer from building fromi to building toi.\n",
    "\n",
    "All buildings are full, so a list of requests is achievable only if for each building, the net change in employee transfers is zero. This means the number of employees leaving is equal to the number of employees moving in. For example if n = 3 and two employees are leaving building 0, one is leaving building 1, and one is leaving building 2, there should be two employees moving to building 0, one employee moving to building 1, and one employee moving to building 2.\n",
    "\n",
    "Return the maximum number of achievable requests."
   ]
  },
  {
   "cell_type": "code",
   "execution_count": 6,
   "metadata": {},
   "outputs": [
    {
     "data": {
      "text/plain": [
       "5"
      ]
     },
     "execution_count": 6,
     "metadata": {},
     "output_type": "execute_result"
    }
   ],
   "source": [
    "from collections import Counter\n",
    "class Solution:\n",
    "    def maximumRequests(self, n: int, requests) -> int:\n",
    "        bitmap = 0\n",
    "        balance = Counter()\n",
    "        self.memo = {}\n",
    "        \n",
    "        return self.helper(0, bitmap, balance, requests)\n",
    "    \n",
    "    def helper(self, i, bitmap, balance, requests):\n",
    "        if i == len(requests):\n",
    "            if all (value == 0 for value in balance.values()):\n",
    "                return 0\n",
    "            return -float('inf')\n",
    "        \n",
    "        if (i, bitmap) in self.memo:\n",
    "            return self.memo[(i, bitmap)]\n",
    "        \n",
    "        take = no_take = 0\n",
    "        \n",
    "        #take:\n",
    "        from_bldg, to_bldg = requests[i]\n",
    "        balance[from_bldg] -= 1\n",
    "        balance[to_bldg] += 1\n",
    "        take = 1 + self.helper(i+1, bitmap | 1<<i, balance, requests)\n",
    "        balance[from_bldg] += 1\n",
    "        balance[to_bldg] -= 1\n",
    "        \n",
    "        #no_take:\n",
    "        no_take = self.helper(i+1, bitmap, balance, requests)\n",
    "        \n",
    "        res = max(take, no_take)\n",
    "        \n",
    "        self.memo[(i,bitmap)] = res\n",
    "        return res\n",
    "       \n",
    "Solution().maximumRequests(n = 5, requests = [[0,1],[1,0],[0,1],[1,2],[2,0],[3,4]])"
   ]
  },
  {
   "cell_type": "markdown",
   "metadata": {},
   "source": [
    "### Minimum Cost to Connect Two Groups of Points\n",
    "\n",
    "You are given two groups of points where the first group has size1 points, the second group has size2 points, and size1 >= size2.\n",
    "\n",
    "The cost of the connection between any two points are given in an size1 x size2 matrix where cost[i][j] is the cost of connecting point i of the first group and point j of the second group. The groups are connected if each point in both groups is connected to one or more points in the opposite group. In other words, each point in the first group must be connected to at least one point in the second group, and each point in the second group must be connected to at least one point in the first group.\n",
    "\n",
    "Return the minimum cost it takes to connect the two groups."
   ]
  },
  {
   "cell_type": "code",
   "execution_count": 7,
   "metadata": {},
   "outputs": [
    {
     "data": {
      "text/plain": [
       "10"
      ]
     },
     "execution_count": 7,
     "metadata": {},
     "output_type": "execute_result"
    }
   ],
   "source": [
    "class Solution:\n",
    "    def connectTwoGroups(self, cost) -> int:\n",
    "        min_cost = [float('inf')] * len(cost[0])\n",
    "        for i in range(len(cost)):\n",
    "            for j in range(len(cost[0])):\n",
    "                c = cost[i][j]\n",
    "                min_cost[j] = min(min_cost[j], c)\n",
    "        \n",
    "        self.memo = {}\n",
    "        return self.helper(0, 0, cost, min_cost)\n",
    "    \n",
    "    def helper(self, i, bitmask, cost, min_cost):\n",
    "        if (i, bitmask) in self.memo:\n",
    "            return self.memo[(i, bitmask)]\n",
    "        \n",
    "        if i == len(cost):\n",
    "            res = 0\n",
    "            for j in range(len(min_cost)):\n",
    "                if bitmask >> j & 1 == 0:\n",
    "                    res += min_cost[j]\n",
    "            return res\n",
    "        \n",
    "        res = float('inf')\n",
    "        for j in range(len(cost[i])):\n",
    "            res = min(res, cost[i][j] + self.helper(i+1, bitmask | 1<<j, cost, min_cost))\n",
    "        \n",
    "        self.memo[(i, bitmask)] = res\n",
    "        return res\n",
    "       \n",
    "Solution().connectTwoGroups(cost = [[2, 5, 1], [3, 4, 7], [8, 1, 2], [6, 2, 4], [3, 8, 8]])"
   ]
  },
  {
   "cell_type": "markdown",
   "metadata": {},
   "source": [
    "### Split a String Into the Max Number of Unique Substrings\n",
    "\n",
    "Given a string s, return the maximum number of unique substrings that the given string can be split into.\n",
    "\n",
    "You can split string s into any list of non-empty substrings, where the concatenation of the substrings forms the original string. However, you must split the substrings such that all of them are unique.\n",
    "\n",
    "A substring is a contiguous sequence of characters within a string."
   ]
  },
  {
   "cell_type": "code",
   "execution_count": 8,
   "metadata": {},
   "outputs": [
    {
     "data": {
      "text/plain": [
       "5"
      ]
     },
     "execution_count": 8,
     "metadata": {},
     "output_type": "execute_result"
    }
   ],
   "source": [
    "class Solution:\n",
    "    def maxUniqueSplit(self, s: str) -> int:\n",
    "        seen = set()\n",
    "        return self.helper(0, s, seen)\n",
    "        \n",
    "    def helper(self, start, s, seen):\n",
    "        if start == len(s):\n",
    "            return 0\n",
    "        \n",
    "        res = 0\n",
    "        \n",
    "        for end in range(start+1, len(s)+1):\n",
    "            substring = s[start:end]\n",
    "            if substring not in seen:\n",
    "                seen.add(substring)\n",
    "                res = max(res, 1 + self.helper(end, s, seen))\n",
    "                seen.remove(substring)\n",
    "                \n",
    "        return res\n",
    "        \n",
    "Solution().maxUniqueSplit(s = \"ababccc\")"
   ]
  }
 ],
 "metadata": {
  "kernelspec": {
   "display_name": "Python 3",
   "language": "python",
   "name": "python3"
  },
  "language_info": {
   "codemirror_mode": {
    "name": "ipython",
    "version": 3
   },
   "file_extension": ".py",
   "mimetype": "text/x-python",
   "name": "python",
   "nbconvert_exporter": "python",
   "pygments_lexer": "ipython3",
   "version": "3.8.3"
  }
 },
 "nbformat": 4,
 "nbformat_minor": 2
}
