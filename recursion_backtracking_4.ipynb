{
 "cells": [
  {
   "cell_type": "markdown",
   "metadata": {},
   "source": [
    "### Minimum Number of Days to Eat N Oranges\n",
    "\n",
    "There are n oranges in the kitchen and you decided to eat some of these oranges every day as follows:\n",
    "\n",
    "* Eat one orange.\n",
    "* If the number of remaining oranges (n) is divisible by 2 then you can eat  n/2 oranges.\n",
    "* If the number of remaining oranges (n) is divisible by 3 then you can eat  2*(n/3) oranges.\n",
    "\n",
    "You can only choose one of the actions per day.\n",
    "\n",
    "Return the minimum number of days to eat n oranges.\n",
    "\n",
    "**Note - Can also be solved using BFS**"
   ]
  },
  {
   "cell_type": "code",
   "execution_count": 1,
   "metadata": {},
   "outputs": [
    {
     "data": {
      "text/plain": [
       "8"
      ]
     },
     "execution_count": 1,
     "metadata": {},
     "output_type": "execute_result"
    }
   ],
   "source": [
    "class Solution:\n",
    "    _memo = {}\n",
    "    \n",
    "    def minDays(self, n: int) -> int:\n",
    "        self.memo = self._memo\n",
    "        return int(self.helper(n))\n",
    "    \n",
    "    def helper(self, n):\n",
    "        if n <= 1:\n",
    "            return n\n",
    "        \n",
    "        if n in self.memo:\n",
    "            return self.memo[n]\n",
    "        \n",
    "        min_days = float('inf')\n",
    "        \n",
    "        min_days = min(min_days, n%2 + 1 + self.helper(n//2))\n",
    "        min_days = min(min_days, n%3 + 1 + self.helper(n//3))\n",
    "        \n",
    "        self.memo[n] = min_days\n",
    "        return min_days\n",
    "    \n",
    "    \n",
    "Solution().minDays(132)"
   ]
  },
  {
   "cell_type": "markdown",
   "metadata": {},
   "source": [
    "### Number of Ways to Reorder Array to Get Same BST\n",
    "\n",
    "Given an array nums that represents a permutation of integers from 1 to n. We are going to construct a binary search tree (BST) by inserting the elements of nums in order into an initially empty BST. Find the number of different ways to reorder nums so that the constructed BST is identical to that formed from the original array nums.\n",
    "\n",
    "For example, given nums = [2,1,3], we will have 2 as the root, 1 as a left child, and 3 as a right child. The array [2,3,1] also yields the same BST but [3,2,1] yields a different BST.\n",
    "\n",
    "Return the number of ways to reorder nums such that the BST formed is identical to the original BST formed from nums.\n",
    "\n",
    "Since the answer may be very large, return it modulo 10^9 + 7."
   ]
  },
  {
   "cell_type": "code",
   "execution_count": 12,
   "metadata": {},
   "outputs": [
    {
     "data": {
      "text/plain": [
       "19"
      ]
     },
     "execution_count": 12,
     "metadata": {},
     "output_type": "execute_result"
    }
   ],
   "source": [
    "from math import factorial\n",
    "class Solution:\n",
    "    def numOfWays(self, nums) -> int:\n",
    "        num_ways = self.helper(nums)\n",
    "        return (num_ways-1) % (10**9+7)\n",
    "    \n",
    "    def helper(self, nums):\n",
    "        if len(nums) <= 1:\n",
    "            return 1\n",
    "        left = []\n",
    "        right = []\n",
    "        for val in nums[1:]:\n",
    "            res = left if val < nums[0] else right\n",
    "            res.append(val)\n",
    "        \n",
    "        m, n = len(left), len(right)\n",
    "        return self.comb(m+n, n) * self.helper(left) * self.helper(right)\n",
    "    \n",
    "    def comb(self, n, k):\n",
    "        return factorial(n) // (factorial(k) * factorial(n-k))\n",
    "\n",
    "Solution().numOfWays(nums = [3,1,2,5,4,6])"
   ]
  },
  {
   "cell_type": "markdown",
   "metadata": {},
   "source": [
    "### Count All Possible Routes\n",
    "\n",
    "You are given an array of distinct positive integers locations where locations[i] represents the position of city i. You are also given integers start, finish and fuel representing the starting city, ending city, and the initial amount of fuel you have, respectively.\n",
    "\n",
    "At each step, if you are at city i, you can pick any city j such that j != i and 0 <= j < locations.length and move to city j. Moving from city i to city j reduces the amount of fuel you have by |locations[i] - locations[j]|. Please notice that |x| denotes the absolute value of x.\n",
    "\n",
    "Notice that fuel cannot become negative at any point in time, and that you are allowed to visit any city more than once (including start and finish).\n",
    "\n",
    "Return the count of all possible routes from start to finish.\n",
    "\n",
    "Since the answer may be too large, return it modulo 10^9 + 7."
   ]
  },
  {
   "cell_type": "code",
   "execution_count": 13,
   "metadata": {},
   "outputs": [
    {
     "data": {
      "text/plain": [
       "4"
      ]
     },
     "execution_count": 13,
     "metadata": {},
     "output_type": "execute_result"
    }
   ],
   "source": [
    "class Solution:\n",
    "    def countRoutes(self, locations, start: int, finish: int, fuel: int) -> int:\n",
    "        self.memo = {}\n",
    "        self.mod = 10**9 + 7\n",
    "        return self.helper(start, finish, locations, fuel)\n",
    "    \n",
    "    def helper(self, curr, finish, locations, fuel):\n",
    "        if fuel < 0:\n",
    "            return 0\n",
    "        \n",
    "        if (curr, fuel) in self.memo:\n",
    "            return self.memo[(curr, fuel)]\n",
    "        \n",
    "        res = 1 if curr == finish else 0\n",
    "        \n",
    "        for next_i in range(len(locations)):\n",
    "            if next_i != curr:\n",
    "                update = abs(locations[next_i] - locations[curr])\n",
    "                res += self.helper(next_i, finish, locations, fuel-update)\n",
    "        \n",
    "        res = res % self.mod\n",
    "        self.memo[(curr, fuel)] = res \n",
    "        return res\n",
    "\n",
    "Solution().countRoutes(locations = [2,3,6,8,4], start = 1, finish = 3, fuel = 5)"
   ]
  },
  {
   "cell_type": "markdown",
   "metadata": {},
   "source": [
    "### Sequential Digits\n",
    "\n",
    "An integer has sequential digits if and only if each digit in the number is one more than the previous digit.\n",
    "\n",
    "Return a sorted list of all the integers in the range [low, high] inclusive that have sequential digits."
   ]
  },
  {
   "cell_type": "code",
   "execution_count": 15,
   "metadata": {},
   "outputs": [
    {
     "data": {
      "text/plain": [
       "[1234, 2345, 3456, 4567, 5678, 6789, 12345]"
      ]
     },
     "execution_count": 15,
     "metadata": {},
     "output_type": "execute_result"
    }
   ],
   "source": [
    "class Solution:\n",
    "    def sequentialDigits(self, low: int, high: int):\n",
    "        min_digits = len(str(low))\n",
    "        max_digits = len(str(high))\n",
    "        self.res = []\n",
    "        \n",
    "        for num_digits in range(min_digits, max_digits+1):\n",
    "            buffer = []\n",
    "            for num in range(1, 10):\n",
    "                self.helper(low, high, buffer+[str(num)], num_digits-1)\n",
    "        \n",
    "        return self.res\n",
    "    \n",
    "    def helper(self, low, high, buffer, num_digits):\n",
    "        number = int(''.join(buffer))\n",
    "        \n",
    "        if low <= number <= high and num_digits == 0:\n",
    "            self.res.append(number)\n",
    "            return\n",
    "        \n",
    "        last_digit = int(buffer[-1])\n",
    "        if last_digit != 9:\n",
    "            n = last_digit+1\n",
    "            self.helper(low, high, buffer+[str(n)], num_digits-1)\n",
    "            \n",
    "    \n",
    "Solution().sequentialDigits(low = 1000, high = 13000)"
   ]
  },
  {
   "cell_type": "markdown",
   "metadata": {},
   "source": [
    "### Paint Fence\n",
    "E\n",
    "There is a fence with n posts, each post can be painted with one of the k colors.\n",
    "\n",
    "You have to paint all the posts such that no more than two adjacent fence posts have the same color.\n",
    "\n",
    "Return the total number of ways you can paint the fence."
   ]
  },
  {
   "cell_type": "code",
   "execution_count": 1,
   "metadata": {},
   "outputs": [
    {
     "data": {
      "text/plain": [
       "6"
      ]
     },
     "execution_count": 1,
     "metadata": {},
     "output_type": "execute_result"
    }
   ],
   "source": [
    "class Solution:\n",
    "    def numWays(self, n: int, k: int) -> int:\n",
    "        self.memo = {}\n",
    "        if n == 0 or k == 0:\n",
    "            return 0\n",
    "        return self.helper(n, k, -1, 0)\n",
    "    \n",
    "    def helper(self, n, k, last_color, consec):\n",
    "        if n == 0:\n",
    "            return 1\n",
    "        \n",
    "        if (n, consec) in self.memo:\n",
    "            return self.memo[(n, consec)]\n",
    "        \n",
    "        res = 0\n",
    "        for color in range(k):\n",
    "            if color != last_color:\n",
    "                res += self.helper(n-1, k, color, 1)\n",
    "            elif consec < 2:\n",
    "                res += self.helper(n-1, k, color, consec+1)\n",
    "        \n",
    "        self.memo[(n, consec)] = res\n",
    "        return res\n",
    "        \n",
    "Solution().numWays(n = 3, k = 2)"
   ]
  },
  {
   "cell_type": "markdown",
   "metadata": {},
   "source": [
    "### Number of Sets of K Non-Overlapping Line Segments\n",
    "\n",
    "Given n points on a 1-D plane, where the ith point (from 0 to n-1) is at x = i, find the number of ways we can draw exactly k non-overlapping line segments such that each segment covers two or more points. The endpoints of each segment must have integral coordinates. The k line segments do not have to cover all n points, and they are allowed to share endpoints.\n",
    "\n",
    "Return the number of ways we can draw k non-overlapping line segments. Since this number can be huge, return it modulo 109 + 7."
   ]
  },
  {
   "cell_type": "code",
   "execution_count": 2,
   "metadata": {},
   "outputs": [
    {
     "data": {
      "text/plain": [
       "5"
      ]
     },
     "execution_count": 2,
     "metadata": {},
     "output_type": "execute_result"
    }
   ],
   "source": [
    "class Solution:\n",
    "    _memo = {}\n",
    "    def numberOfSets(self, n: int, k: int) -> int:\n",
    "        self.memo = self._memo\n",
    "        self.mod = (10**9) + 7\n",
    "        res = self.helper(False, n, k) \n",
    "        return res % self.mod\n",
    "    \n",
    "    def helper(self, isMiddle, n, k):\n",
    "        if k == 0:\n",
    "            return 1\n",
    "        \n",
    "        if n == 0:\n",
    "            return 0\n",
    "        \n",
    "        if (n, k, isMiddle) in self.memo:\n",
    "            return self.memo[(n, k, isMiddle)]\n",
    "        \n",
    "        res = 0\n",
    "        \n",
    "        if not isMiddle:\n",
    "            #start segment\n",
    "            res += self.helper(True, n-1, k)\n",
    "            \n",
    "            # don't start\n",
    "            res += self.helper(False, n-1, k)\n",
    "        \n",
    "        else:\n",
    "            #continue segment\n",
    "            res += self.helper(True, n-1, k)\n",
    "            \n",
    "            #end segment\n",
    "            res += self.helper(False, n, k-1)\n",
    "        \n",
    "        self.memo[(n, k, isMiddle)] = res\n",
    "        return res\n",
    "        \n",
    "        \n",
    "Solution().numberOfSets(4, 2)"
   ]
  },
  {
   "cell_type": "markdown",
   "metadata": {},
   "source": [
    "### Number of Paths with Max Score\n",
    "\n",
    "You are given a square board of characters. You can move on the board starting at the bottom right square marked with the character 'S'.\n",
    "\n",
    "You need to reach the top left square marked with the character 'E'. The rest of the squares are labeled either with a numeric character 1, 2, ..., 9 or with an obstacle 'X'. In one move you can go up, left or up-left (diagonally) only if there is no obstacle there.\n",
    "\n",
    "Return a list of two integers: the first integer is the maximum sum of numeric characters you can collect, and the second is the number of such paths that you can take to get that maximum sum, taken modulo 10^9 + 7.\n",
    "\n",
    "In case there is no path, return [0, 0]."
   ]
  },
  {
   "cell_type": "code",
   "execution_count": 3,
   "metadata": {},
   "outputs": [
    {
     "data": {
      "text/plain": [
       "[4, 2]"
      ]
     },
     "execution_count": 3,
     "metadata": {},
     "output_type": "execute_result"
    }
   ],
   "source": [
    "class Solution:\n",
    "    def pathsWithMaxScore(self, board):\n",
    "        self.memo = {}; self.mod = 10**9 + 7\n",
    "        maxsum, count = self.helper(len(board)-1, len(board[0])-1, board)\n",
    "        if maxsum == -float('inf'):\n",
    "            return [0, 0]\n",
    "        return [maxsum, count]\n",
    "    \n",
    "    def helper(self, i, j, board):\n",
    "        if (i, j) == (0, 0):\n",
    "            return (0, 1)\n",
    "        \n",
    "        if (i, j) in self.memo:\n",
    "            return self.memo[(i, j)]\n",
    "        \n",
    "        maxsum = -float('inf')\n",
    "        count = 0\n",
    "        curr_val = 0 if board[i][j] == 'S' else int(board[i][j])\n",
    "        \n",
    "        for x, y in [(i-1,j), (i,j-1), (i-1, j-1)]:\n",
    "            \n",
    "            if 0<=x<len(board) and 0<=y<len(board[0]) and board[x][y] != 'X':\n",
    "                maxsum_new, count_new = self.helper(x, y, board)\n",
    "                \n",
    "                if maxsum_new + curr_val > maxsum:\n",
    "                    maxsum = maxsum_new + curr_val\n",
    "                    count = count_new\n",
    "                    \n",
    "                elif maxsum_new + curr_val == maxsum:\n",
    "                    count += count_new\n",
    "            \n",
    "            count = count % self.mod\n",
    "        \n",
    "        self.memo[(i,j)] = (maxsum, count)\n",
    "        return (maxsum, count)\n",
    "        \n",
    "        \n",
    "Solution().pathsWithMaxScore([\"E12\",\"1X1\",\"21S\"])     "
   ]
  },
  {
   "cell_type": "markdown",
   "metadata": {},
   "source": [
    "### Number of Ways to Form a Target String Given a Dictionary\n",
    "\n",
    "You are given a list of strings of the same length words and a string target.\n",
    "\n",
    "Your task is to form target using the given words under the following rules:\n",
    "\n",
    "* target should be formed from left to right.\n",
    "* To form the ith character (0-indexed) of target, you can choose the kth character of the jth string in words if target[i] = words[j][k].\n",
    "* Once you use the kth character of the jth string of words, you can no longer use the xth character of any string in words where x <= k. In other words, all characters to the left of or at index k become unusuable for every string.\n",
    "* Repeat the process until you form the string target.\n",
    "\n",
    "Notice that you can use multiple characters from the same string in words provided the conditions above are met.\n",
    "\n",
    "Return the number of ways to form target from words. Since the answer may be too large, return it modulo 109 + 7."
   ]
  },
  {
   "cell_type": "code",
   "execution_count": 3,
   "metadata": {},
   "outputs": [
    {
     "data": {
      "text/plain": [
       "16"
      ]
     },
     "execution_count": 3,
     "metadata": {},
     "output_type": "execute_result"
    }
   ],
   "source": [
    "from collections import defaultdict, Counter\n",
    "class Solution:\n",
    "    def numWays(self, words, target: str) -> int:\n",
    "        freq = defaultdict(Counter)\n",
    "        self.mod = 10**9 + 7\n",
    "        for word in words:\n",
    "            for i, ch in enumerate(word):\n",
    "                freq[i][ch] += 1\n",
    "        \n",
    "        self.memo = {}\n",
    "        return self.helper(0, 0, freq, target)\n",
    "    \n",
    "    def helper(self, i, j, freq, target):\n",
    "        rem_ch = len(freq) - i\n",
    "        rem_ch_target = len(target) - j\n",
    "        \n",
    "        if rem_ch < rem_ch_target:\n",
    "            return 0\n",
    "        \n",
    "        if j == len(target):\n",
    "            return 1\n",
    "        \n",
    "        if i == len(freq):\n",
    "            return 0\n",
    "        \n",
    "        if (i, j) in self.memo:\n",
    "            return self.memo[(i, j)]\n",
    "\n",
    "        res = 0\n",
    "        \n",
    "        #don't take i\n",
    "        res += self.helper(i+1, j, freq, target) % self.mod\n",
    "        \n",
    "        #take i\n",
    "        curr_ch = target[j]\n",
    "        \n",
    "        fr = freq[i][curr_ch]\n",
    "        if fr > 0:\n",
    "            res += fr * self.helper(i+1, j+1, freq, target) % self.mod\n",
    "        \n",
    "        res = res % self.mod\n",
    "        self.memo[(i, j)] = res \n",
    "        return res\n",
    "        \n",
    "Solution().numWays(words = [\"abab\",\"baba\",\"abba\",\"baab\"], target = \"abba\")"
   ]
  },
  {
   "cell_type": "markdown",
   "metadata": {},
   "source": [
    "### Count Sorted Vowel Strings\n",
    "\n",
    "Given an integer n, return the number of strings of length n that consist only of vowels (a, e, i, o, u) and are lexicographically sorted.\n",
    "\n",
    "A string s is lexicographically sorted if for all valid i, s[i] is the same as or comes before s[i+1] in the alphabet."
   ]
  },
  {
   "cell_type": "code",
   "execution_count": 1,
   "metadata": {},
   "outputs": [
    {
     "data": {
      "text/plain": [
       "66045"
      ]
     },
     "execution_count": 1,
     "metadata": {},
     "output_type": "execute_result"
    }
   ],
   "source": [
    "class Solution:\n",
    "    def countVowelStrings(self, n: int) -> int:\n",
    "        self.memo = {}\n",
    "        res = 0\n",
    "        for ch in ['a', 'e', 'i', 'o', 'u']:\n",
    "            res += self.helper(n-1, ch)\n",
    "        return res\n",
    "    \n",
    "    def helper(self, n, last_ch):\n",
    "        if n == 0:\n",
    "            return 1\n",
    "        \n",
    "        if (n, last_ch) in self.memo:\n",
    "            return self.memo[(n, last_ch)]\n",
    "        \n",
    "        res = 0\n",
    "        for ch in ['a', 'e', 'i', 'o', 'u']:\n",
    "            if ch >= last_ch:\n",
    "                res += self.helper(n-1, ch)\n",
    "        \n",
    "        self.memo[(n, last_ch)] = res\n",
    "        return res\n",
    "        \n",
    "\n",
    "Solution().countVowelStrings(33)"
   ]
  }
 ],
 "metadata": {
  "kernelspec": {
   "display_name": "Python 3",
   "language": "python",
   "name": "python3"
  },
  "language_info": {
   "codemirror_mode": {
    "name": "ipython",
    "version": 3
   },
   "file_extension": ".py",
   "mimetype": "text/x-python",
   "name": "python",
   "nbconvert_exporter": "python",
   "pygments_lexer": "ipython3",
   "version": "3.8.3"
  }
 },
 "nbformat": 4,
 "nbformat_minor": 2
}
