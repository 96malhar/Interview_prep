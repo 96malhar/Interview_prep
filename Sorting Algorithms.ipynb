{
 "cells": [
  {
   "cell_type": "markdown",
   "metadata": {},
   "source": [
    "## Merge Sort"
   ]
  },
  {
   "cell_type": "code",
   "execution_count": 1,
   "metadata": {},
   "outputs": [],
   "source": [
    "import random"
   ]
  },
  {
   "cell_type": "code",
   "execution_count": 17,
   "metadata": {},
   "outputs": [
    {
     "data": {
      "text/plain": [
       "3"
      ]
     },
     "execution_count": 17,
     "metadata": {},
     "output_type": "execute_result"
    }
   ],
   "source": [
    "random.randint(1,4)"
   ]
  },
  {
   "cell_type": "code",
   "execution_count": 11,
   "metadata": {},
   "outputs": [],
   "source": [
    "def merge_sort(a):\n",
    "    if not a: return\n",
    "    helper(a, 0, len(a)-1)\n",
    "    return a\n",
    "\n",
    "def helper(a, start, end):\n",
    "    if start>=end: return\n",
    "    mid = (start + end) // 2\n",
    "    helper(a, start, mid)\n",
    "    helper(a, mid+1, end)\n",
    "    merge(a, start, mid, end)\n",
    "\n",
    "def merge(a, start, mid, end):\n",
    "    result = []\n",
    "    i,j = start ,mid+1\n",
    "    while i<=mid and j<=end:\n",
    "        if a[i]<=a[j]:\n",
    "            result.append(a[i])\n",
    "            i += 1\n",
    "        else:\n",
    "            result.append(a[j])\n",
    "            j += 1\n",
    "    \n",
    "    while i<=mid:\n",
    "        result.append(a[i])\n",
    "        i += 1\n",
    "    \n",
    "    while j<=end:\n",
    "        result.append(a[j])\n",
    "        j += 1\n",
    "        \n",
    "    for k in range(len(result)):\n",
    "        a[start+k] = result[k]"
   ]
  },
  {
   "cell_type": "code",
   "execution_count": 12,
   "metadata": {},
   "outputs": [
    {
     "data": {
      "text/plain": [
       "[1, 2, 3, 5]"
      ]
     },
     "execution_count": 12,
     "metadata": {},
     "output_type": "execute_result"
    }
   ],
   "source": [
    "merge_sort([5,2,3,1])"
   ]
  },
  {
   "cell_type": "markdown",
   "metadata": {},
   "source": [
    "### Quick Sort"
   ]
  },
  {
   "cell_type": "code",
   "execution_count": 23,
   "metadata": {},
   "outputs": [],
   "source": [
    "def sortArray(nums): \n",
    "    quickSort(nums, 0, len(nums)-1)\n",
    "    return nums\n",
    "    \n",
    "def quickSort(nums, start, end):\n",
    "    if start <0 or end>=len(nums) or start>=end:\n",
    "        return\n",
    "    pivot = random.randint(start, end)\n",
    "    pos1, pos2 = partition(nums, start, end, pivot)\n",
    "    quickSort(nums, start, pos1)\n",
    "    quickSort(nums, pos2, end)\n",
    "\n",
    "def partition(nums, start, end, pivot):\n",
    "    val = nums[pivot]\n",
    "    low = mid = start-1 ; high = end+1\n",
    "    while mid+1<high:\n",
    "\n",
    "        if nums[mid+1] > val:\n",
    "            nums[mid+1], nums[high-1] = nums[high-1], nums[mid+1]\n",
    "            high -= 1\n",
    "\n",
    "        elif nums[mid+1] < val:\n",
    "            nums[mid+1], nums[low+1] = nums[low+1], nums[mid+1]\n",
    "            low += 1\n",
    "            mid+= 1\n",
    "\n",
    "        else:\n",
    "            mid += 1\n",
    "\n",
    "    return low, high"
   ]
  },
  {
   "cell_type": "code",
   "execution_count": 24,
   "metadata": {},
   "outputs": [
    {
     "data": {
      "text/plain": [
       "[1, 2, 3, 4]"
      ]
     },
     "execution_count": 24,
     "metadata": {},
     "output_type": "execute_result"
    }
   ],
   "source": [
    "sortArray([2,3,4,1])"
   ]
  }
 ],
 "metadata": {
  "kernelspec": {
   "display_name": "Python 3",
   "language": "python",
   "name": "python3"
  },
  "language_info": {
   "codemirror_mode": {
    "name": "ipython",
    "version": 3
   },
   "file_extension": ".py",
   "mimetype": "text/x-python",
   "name": "python",
   "nbconvert_exporter": "python",
   "pygments_lexer": "ipython3",
   "version": "3.6.8"
  }
 },
 "nbformat": 4,
 "nbformat_minor": 2
}
