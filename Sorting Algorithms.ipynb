{
 "cells": [
  {
   "cell_type": "markdown",
   "metadata": {},
   "source": [
    "### Merge two Sorted arrays"
   ]
  },
  {
   "cell_type": "code",
   "execution_count": 5,
   "metadata": {},
   "outputs": [
    {
     "data": {
      "text/plain": [
       "[1, 2, 2, 3, 5, 6]"
      ]
     },
     "execution_count": 5,
     "metadata": {},
     "output_type": "execute_result"
    }
   ],
   "source": [
    "def merge(nums1, m, nums2, n):\n",
    "    i = m-1; j = n-1; write = len(nums1)-1\n",
    "    while i>=0 and j>=0:\n",
    "        if nums1[i] >= nums2[j]:\n",
    "            nums1[write] = nums1[i]\n",
    "            i -= 1\n",
    "        else:\n",
    "            nums1[write] = nums2[j]\n",
    "            j -= 1\n",
    "        write-=1\n",
    "\n",
    "    while i>=0:\n",
    "        nums1[write] = nums1[i]\n",
    "        i -= 1\n",
    "        write -= 1\n",
    "\n",
    "    while j>=0:\n",
    "        nums1[write] = nums2[j]\n",
    "        j -= 1\n",
    "        write -= 1\n",
    "    return nums1\n",
    "\n",
    "nums1 = [1,2,3,0,0,0];m = 3\n",
    "nums2 = [2,5,6];n = 3\n",
    "merge(nums1, m, nums2, n)"
   ]
  },
  {
   "cell_type": "markdown",
   "metadata": {},
   "source": [
    "## Merge Sort"
   ]
  },
  {
   "cell_type": "code",
   "execution_count": 12,
   "metadata": {},
   "outputs": [],
   "source": [
    "def merge_sort(a):\n",
    "    if not a: return\n",
    "    helper(a, 0, len(a)-1)\n",
    "    return a\n",
    "\n",
    "def helper(a, start, end):\n",
    "    if start==end: return\n",
    "    mid = (start + end) // 2\n",
    "    helper(a, start, mid)\n",
    "    helper(a, mid+1, end)\n",
    "    merge(a, start, mid, end)\n",
    "\n",
    "def merge(a, start, mid, end):\n",
    "    result = []\n",
    "    i,j = start ,mid+1\n",
    "    while i<=mid and j<=end:\n",
    "        if a[i]<=a[j]:\n",
    "            result.append(a[i])\n",
    "            i += 1\n",
    "        else:\n",
    "            result.append(a[j])\n",
    "            j += 1\n",
    "    \n",
    "    result.extend(a[i:mid+1] or a[j:end+1])\n",
    "        \n",
    "    for k in range(len(result)):\n",
    "        a[start+k] = result[k]"
   ]
  },
  {
   "cell_type": "code",
   "execution_count": 13,
   "metadata": {},
   "outputs": [
    {
     "data": {
      "text/plain": [
       "[1, 2, 3, 5]"
      ]
     },
     "execution_count": 13,
     "metadata": {},
     "output_type": "execute_result"
    }
   ],
   "source": [
    "merge_sort([5,2,3,1])"
   ]
  },
  {
   "cell_type": "markdown",
   "metadata": {},
   "source": [
    "### Count of Smaller Numbers After Self\n",
    "You are given an integer array nums and you have to return a new counts array. The counts array has the property where counts[i] is the number of smaller elements to the right of nums[i].\n",
    "\n",
    "Example:\n",
    "\n",
    "* Input: [5,2,6,1]\n",
    "* Output: [2,1,1,0] \n",
    "* Explanation:\n",
    "* To the right of 5 there are 2 smaller elements (2 and 1).\n",
    "* To the right of 2 there is only 1 smaller element (1).\n",
    "* To the right of 6 there is 1 smaller element (1).\n",
    "* To the right of 1 there is 0 smaller element."
   ]
  },
  {
   "cell_type": "code",
   "execution_count": 2,
   "metadata": {},
   "outputs": [
    {
     "data": {
      "text/plain": [
       "[2, 1, 1, 0]"
      ]
     },
     "execution_count": 2,
     "metadata": {},
     "output_type": "execute_result"
    }
   ],
   "source": [
    "class Solution:\n",
    "    def countSmaller(self, nums):\n",
    "        if not nums: return\n",
    "        tup = [(n,i) for i, n in enumerate(nums)]\n",
    "        self.res = [0]*len(nums)\n",
    "        self.helper(tup, 0, len(tup)-1)\n",
    "        return self.res\n",
    "\n",
    "    def helper(self, a, start, end):\n",
    "        if start==end: return\n",
    "        mid = (start + end) // 2\n",
    "        self.helper(a, start, mid)\n",
    "        self.helper(a, mid+1, end)\n",
    "        self.merge(a, start, mid, end)\n",
    "\n",
    "    def merge(self, a, start, mid, end):\n",
    "        result = []\n",
    "        i,j = start ,mid+1\n",
    "        smaller = 0\n",
    "        while i<=mid and j<=end:\n",
    "            if a[i][0] > a[j][0]:\n",
    "                result.append(a[j])\n",
    "                smaller += 1\n",
    "                j += 1\n",
    "            else:\n",
    "                result.append(a[i])\n",
    "                self.res[a[i][1]] += smaller\n",
    "                i += 1\n",
    "\n",
    "        while i<=mid:\n",
    "            result.append(a[i])\n",
    "            self.res[a[i][1]] += smaller\n",
    "            i += 1\n",
    "        \n",
    "        result.extend(a[j:end+1])\n",
    "\n",
    "        for k in range(len(result)):\n",
    "            a[start+k] = result[k]\n",
    "            \n",
    "obj = Solution()\n",
    "obj.countSmaller([5,2,6,1])"
   ]
  },
  {
   "cell_type": "markdown",
   "metadata": {},
   "source": [
    "### Reverse Pairs\n",
    "Given an array nums, we call (i, j) an important reverse pair if i < j and nums[i] > 2*nums[j].\n",
    "\n",
    "You need to return the number of important reverse pairs in the given array.\n",
    "\n",
    "Example1:\n",
    "\n",
    "Input: [1,3,2,3,1]\n",
    "Output: 2"
   ]
  },
  {
   "cell_type": "code",
   "execution_count": 7,
   "metadata": {},
   "outputs": [
    {
     "data": {
      "text/plain": [
       "2"
      ]
     },
     "execution_count": 7,
     "metadata": {},
     "output_type": "execute_result"
    }
   ],
   "source": [
    "class Solution:\n",
    "    def reversePairs(self, nums):\n",
    "        tup = [(n,i) for i, n in enumerate(nums)]\n",
    "        self.res = 0\n",
    "        self.helper(tup, 0, len(tup)-1)\n",
    "        return self.res\n",
    "    \n",
    "    def helper(self, a, start, end):\n",
    "        if start>=end: return\n",
    "        mid = (start + end) // 2\n",
    "        self.helper(a, start, mid)\n",
    "        self.helper(a, mid+1, end)\n",
    "        self.merge(a, start, mid, end)\n",
    "\n",
    "    def merge(self, a, start, mid, end):\n",
    "        result = []\n",
    "        i,j = start ,mid+1\n",
    "        smaller = 0\n",
    "        while i<=mid and j<=end:\n",
    "            if a[i][0] > 2*a[j][0]:\n",
    "                smaller += 1\n",
    "                j += 1\n",
    "            else:\n",
    "                self.res += smaller\n",
    "                i += 1\n",
    "        while i<=mid:\n",
    "            self.res += smaller\n",
    "            i += 1\n",
    "        \n",
    "        result = sorted(a[start:end+1], key=lambda x:x[0])\n",
    "       \n",
    "        for k in range(len(result)):\n",
    "            a[start+k] = result[k]\n",
    "            \n",
    "obj = Solution()\n",
    "obj.reversePairs([1,3,2,3,1])"
   ]
  },
  {
   "cell_type": "markdown",
   "metadata": {},
   "source": [
    "### Quick Sort"
   ]
  },
  {
   "cell_type": "code",
   "execution_count": 23,
   "metadata": {},
   "outputs": [],
   "source": [
    "def sortArray(nums): \n",
    "    quickSort(nums, 0, len(nums)-1)\n",
    "    return nums\n",
    "    \n",
    "def quickSort(nums, start, end):\n",
    "    if start <0 or end>=len(nums) or start>=end:\n",
    "        return\n",
    "    pivot = random.randint(start, end)\n",
    "    pos1, pos2 = partition(nums, start, end, pivot)\n",
    "    quickSort(nums, start, pos1)\n",
    "    quickSort(nums, pos2, end)\n",
    "\n",
    "def partition(nums, start, end, pivot):\n",
    "    val = nums[pivot]\n",
    "    low = mid = start-1 ; high = end+1\n",
    "    while mid+1<high:\n",
    "\n",
    "        if nums[mid+1] > val:\n",
    "            nums[mid+1], nums[high-1] = nums[high-1], nums[mid+1]\n",
    "            high -= 1\n",
    "\n",
    "        elif nums[mid+1] < val:\n",
    "            nums[mid+1], nums[low+1] = nums[low+1], nums[mid+1]\n",
    "            low += 1\n",
    "            mid+= 1\n",
    "\n",
    "        else:\n",
    "            mid += 1\n",
    "\n",
    "    return low, high"
   ]
  },
  {
   "cell_type": "code",
   "execution_count": 24,
   "metadata": {},
   "outputs": [
    {
     "data": {
      "text/plain": [
       "[1, 2, 3, 4]"
      ]
     },
     "execution_count": 24,
     "metadata": {},
     "output_type": "execute_result"
    }
   ],
   "source": [
    "sortArray([2,3,4,1])"
   ]
  }
 ],
 "metadata": {
  "kernelspec": {
   "display_name": "Python 3",
   "language": "python",
   "name": "python3"
  },
  "language_info": {
   "codemirror_mode": {
    "name": "ipython",
    "version": 3
   },
   "file_extension": ".py",
   "mimetype": "text/x-python",
   "name": "python",
   "nbconvert_exporter": "python",
   "pygments_lexer": "ipython3",
   "version": "3.6.8"
  }
 },
 "nbformat": 4,
 "nbformat_minor": 2
}
