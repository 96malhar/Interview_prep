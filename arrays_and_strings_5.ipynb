{
 "cells": [
  {
   "cell_type": "markdown",
   "metadata": {},
   "source": [
    "### Pour Water\n",
    "We are given an elevation map, heights[i] representing the height of the terrain at that index. The width at each index is 1. After V units of water fall at index K, how much water is at each index?\n",
    "\n",
    "Water first drops at index K and rests on top of the highest terrain or water at that index. Then, it flows according to the following rules:\n",
    "\n",
    "* If the droplet would eventually fall by moving left, then move left.\n",
    "* Otherwise, if the droplet would eventually fall by moving right, then move right.\n",
    "* Otherwise, rise at it's current position.\n",
    "\n",
    "Here, \"eventually fall\" means that the droplet will eventually be at a lower level if it moves in that direction. Also, \"level\" means the height of the terrain plus any water in that column.\n",
    "\n",
    "We can assume there's infinitely high terrain on the two sides out of bounds of the array. Also, there could not be partial water being spread out evenly on more than 1 grid block - each unit of water has to be in exactly one block."
   ]
  },
  {
   "cell_type": "code",
   "execution_count": 5,
   "metadata": {},
   "outputs": [
    {
     "data": {
      "text/plain": [
       "[2, 2, 2, 3, 2, 2, 2]"
      ]
     },
     "execution_count": 5,
     "metadata": {},
     "output_type": "execute_result"
    }
   ],
   "source": [
    "class Solution:\n",
    "    def pourWater(self, heights, v: int, k: int):\n",
    "        for _ in range(v):\n",
    "            index = k\n",
    "            for i in range(k-1, -1, -1):\n",
    "                if heights[i] > heights[i+1]:\n",
    "                    break\n",
    "                elif heights[i] < heights[i+1]:\n",
    "                    index = i\n",
    "            \n",
    "            if index != k:\n",
    "                heights[index] += 1\n",
    "                continue\n",
    "            \n",
    "            index = k\n",
    "            for i in range(k+1, len(heights)):\n",
    "                if heights[i] > heights[i-1]:\n",
    "                    break\n",
    "                elif heights[i] < heights[i-1]:\n",
    "                    index = i\n",
    "            \n",
    "            if index != k:\n",
    "                heights[index] += 1\n",
    "            else:\n",
    "                heights[k] += 1\n",
    "        return heights\n",
    "                    \n",
    "heights = [2,1,1,2,1,2,2]; V = 4; K = 3     \n",
    "Solution().pourWater(heights, V, K)"
   ]
  },
  {
   "cell_type": "markdown",
   "metadata": {},
   "source": [
    "### Flip Game I\n",
    "You are playing the following Flip Game with your friend: Given a string that contains only these two characters: + and -, you and your friend take turns to flip two consecutive \"++\" into \"--\". The game ends when a person can no longer make a move and therefore the other person will be the winner.\n",
    "\n",
    "Write a function to compute all possible states of the string after one valid move."
   ]
  },
  {
   "cell_type": "code",
   "execution_count": 10,
   "metadata": {},
   "outputs": [
    {
     "data": {
      "text/plain": [
       "['--+--', '+----']"
      ]
     },
     "execution_count": 10,
     "metadata": {},
     "output_type": "execute_result"
    }
   ],
   "source": [
    "def generatePossibleNextMoves(s: str):\n",
    "    res = []\n",
    "    for i in range(1, len(s)):\n",
    "        start = i-1\n",
    "        if s[start:i+1] == '++':\n",
    "            res.append(s[:start] + '--' + s[i+1:])\n",
    "\n",
    "    return res\n",
    "\n",
    "generatePossibleNextMoves('+++--')"
   ]
  },
  {
   "cell_type": "markdown",
   "metadata": {},
   "source": [
    "###  Sort the Matrix Diagonally\n",
    "\n",
    "Given a m * n matrix mat of integers, sort it diagonally in ascending order from the top-left to the bottom-right then return the sorted array."
   ]
  },
  {
   "cell_type": "code",
   "execution_count": 15,
   "metadata": {},
   "outputs": [
    {
     "data": {
      "text/plain": [
       "[[1, 1, 1, 1], [1, 2, 2, 2], [1, 2, 3, 3]]"
      ]
     },
     "execution_count": 15,
     "metadata": {},
     "output_type": "execute_result"
    }
   ],
   "source": [
    "def diagonalSort(a):\n",
    "    from collections import defaultdict\n",
    "    hashmap = defaultdict(list)\n",
    "    for i in range(len(a)):\n",
    "        for j in range(len(a[0])):\n",
    "            hashmap[i-j].append(a[i][j])\n",
    "\n",
    "    for key in hashmap:\n",
    "        hashmap[key] = sorted(hashmap[key], reverse = True)\n",
    "\n",
    "    for i in range(len(a)):\n",
    "        for j in range(len(a[0])):\n",
    "            key = i-j\n",
    "            a[i][j] = hashmap[key].pop()\n",
    "\n",
    "    return a\n",
    "\n",
    "mat = [[3,3,1,1],[2,2,1,2],[1,1,1,2]]\n",
    "diagonalSort(mat)"
   ]
  },
  {
   "cell_type": "markdown",
   "metadata": {},
   "source": [
    "### Reverse Only Letters\n",
    "Given a string S, return the \"reversed\" string where all characters that are not a letter stay in the same place, and all letters reverse their positions."
   ]
  },
  {
   "cell_type": "code",
   "execution_count": 5,
   "metadata": {},
   "outputs": [
    {
     "data": {
      "text/plain": [
       "'Qedo1ct-eeLg=ntse-T!'"
      ]
     },
     "execution_count": 5,
     "metadata": {},
     "output_type": "execute_result"
    }
   ],
   "source": [
    "def reverseOnlyLetters(S: str) -> str:\n",
    "    s = list(S)\n",
    "    i = 0; j = len(s)-1\n",
    "    while i<j:\n",
    "        while i<j and not s[i].isalpha():\n",
    "            i += 1\n",
    "        while i<j and not s[j].isalpha():\n",
    "            j -= 1\n",
    "\n",
    "        s[i], s[j] = s[j], s[i]\n",
    "        i += 1\n",
    "        j -= 1\n",
    "    return ''.join(s)\n",
    "\n",
    "reverseOnlyLetters(\"Test1ng-Leet=code-Q!\")"
   ]
  },
  {
   "cell_type": "markdown",
   "metadata": {},
   "source": [
    "### Next Permutation\n",
    "Implement next permutation, which rearranges numbers into the lexicographically next greater permutation of numbers.\n",
    "\n",
    "If such arrangement is not possible, it must rearrange it as the lowest possible order (ie, sorted in ascending order).\n",
    "\n",
    "The replacement must be in-place and use only constant extra memory.\n",
    "\n",
    "Here are some examples. Inputs are in the left-hand column and its corresponding outputs are in the right-hand column.\n",
    "\n",
    "**Similar question**: Next element III"
   ]
  },
  {
   "cell_type": "code",
   "execution_count": 4,
   "metadata": {},
   "outputs": [
    {
     "data": {
      "text/plain": [
       "[1, 4, 3, 2, 3, 2, 1]"
      ]
     },
     "execution_count": 4,
     "metadata": {},
     "output_type": "execute_result"
    }
   ],
   "source": [
    "class Solution:\n",
    "    def nextPermutation(self, nums):\n",
    "        if not nums or len(nums) == 1:\n",
    "            return nums\n",
    "        \n",
    "        i = len(nums)-2\n",
    "        while i >= 0 and nums[i] >= nums[i+1]:\n",
    "            i -= 1\n",
    "        \n",
    "        if i>=0:\n",
    "            j = len(nums)-1\n",
    "            while j>=0 and nums[j] <= nums[i]:\n",
    "                j -= 1\n",
    "            nums[i], nums[j] = nums[j], nums[i]\n",
    "            \n",
    "        self.reverse(i+1, len(nums)-1, nums)\n",
    "        return nums\n",
    "            \n",
    "    def reverse(self, i, j, nums):\n",
    "        while i<j:\n",
    "            nums[i], nums[j] = nums[j], nums[i]\n",
    "            i += 1\n",
    "            j -= 1\n",
    "\n",
    "obj = Solution()\n",
    "obj.nextPermutation([1,4,3,2,3,1,2])"
   ]
  },
  {
   "cell_type": "markdown",
   "metadata": {},
   "source": [
    "### Previous Permutation"
   ]
  },
  {
   "cell_type": "code",
   "execution_count": 8,
   "metadata": {},
   "outputs": [
    {
     "data": {
      "text/plain": [
       "[1, 4, 3, 2, 3, 1, 2]"
      ]
     },
     "execution_count": 8,
     "metadata": {},
     "output_type": "execute_result"
    }
   ],
   "source": [
    "class Solution:\n",
    "    def prevPermutation(self, nums):\n",
    "        if not nums or len(nums) == 1:\n",
    "            return nums\n",
    "        \n",
    "        i = len(nums)-2\n",
    "        while i >= 0 and nums[i] <= nums[i+1]:\n",
    "            i -= 1\n",
    "        \n",
    "        if i>=0:\n",
    "            j = len(nums)-1\n",
    "            while j>=0 and nums[j] >= nums[i]:\n",
    "                j -= 1\n",
    "            nums[i], nums[j] = nums[j], nums[i]\n",
    "            \n",
    "        self.reverse(i+1, len(nums)-1, nums)\n",
    "        return nums\n",
    "            \n",
    "    def reverse(self, i, j, nums):\n",
    "        while i<j:\n",
    "            nums[i], nums[j] = nums[j], nums[i]\n",
    "            i += 1\n",
    "            j -= 1\n",
    "\n",
    "obj = Solution()\n",
    "obj.prevPermutation([1, 4, 3, 2, 3, 2, 1])"
   ]
  },
  {
   "cell_type": "markdown",
   "metadata": {},
   "source": [
    "### Previous Permutation With One Swap\n",
    "Given an array A of positive integers (not necessarily distinct), return the lexicographically largest permutation that is smaller than A, that can be made with one swap (A swap exchanges the positions of two numbers A[i] and A[j]).  If it cannot be done, then return the same array."
   ]
  },
  {
   "cell_type": "code",
   "execution_count": 19,
   "metadata": {},
   "outputs": [
    {
     "data": {
      "text/plain": [
       "[1, 3, 1, 3]"
      ]
     },
     "execution_count": 19,
     "metadata": {},
     "output_type": "execute_result"
    }
   ],
   "source": [
    "def prevPermOpt1(nums):\n",
    "    if not nums or len(nums) == 1:\n",
    "        return nums\n",
    "\n",
    "    i = len(nums)-2\n",
    "    while i>=0 and nums[i] <= nums[i+1]:\n",
    "        i -= 1\n",
    "\n",
    "    if i == -1:\n",
    "        return nums\n",
    "\n",
    "    j = len(nums)-1\n",
    "    while j>=0 and nums[j] >= nums[i]:\n",
    "        j -= 1\n",
    "\n",
    "    val = nums[j]\n",
    "    while j-1>=0 and nums[j-1] == val:\n",
    "        j -= 1\n",
    "\n",
    "    nums[i], nums[j] = nums[j], nums[i]\n",
    "    return nums\n",
    "\n",
    "prevPermOpt1([3,1,1,3])"
   ]
  },
  {
   "cell_type": "markdown",
   "metadata": {},
   "source": [
    "### Leftmost Column with at Least a One\n",
    "A binary matrix means that all elements are 0 or 1. For each individual row of the matrix, this row is sorted in non-decreasing order.\n",
    "\n",
    "Given a row-sorted binary matrix binaryMatrix, return leftmost column index(0-indexed) with at least a 1 in it. If such index doesn't exist, return -1.\n",
    "\n"
   ]
  },
  {
   "cell_type": "code",
   "execution_count": 4,
   "metadata": {},
   "outputs": [
    {
     "data": {
      "text/plain": [
       "1"
      ]
     },
     "execution_count": 4,
     "metadata": {},
     "output_type": "execute_result"
    }
   ],
   "source": [
    "def leftMostColumnWithOne(mat) -> int:\n",
    "    row, col = len(mat), len(mat[0])\n",
    "    r, c = 0, col-1\n",
    "    ans = -1\n",
    "\n",
    "    while r < row:\n",
    "        for i in range(c, -1, -1):\n",
    "            if mat[r][i] == 1:\n",
    "                ans = i\n",
    "                if ans == 0:\n",
    "                    return 0\n",
    "            else:\n",
    "                break\n",
    "        r += 1\n",
    "        if ans != -1:\n",
    "            c = ans - 1\n",
    "    return ans\n",
    "\n",
    "mat = [[0,0,0,1],[0,0,1,1],[0,1,1,1]]\n",
    "leftMostColumnWithOne(mat)"
   ]
  },
  {
   "cell_type": "markdown",
   "metadata": {},
   "source": [
    "### Perform String Shifts\n",
    "You are given a string s containing lowercase English letters, and a matrix shift, where shift[i] = [direction, amount]:\n",
    "\n",
    "* direction can be 0 (for left shift) or 1 (for right shift). \n",
    "* amount is the amount by which string s is to be shifted.\n",
    "* A left shift by 1 means remove the first character of s and append it to the end.\n",
    "* Similarly, a right shift by 1 means remove the last character of s and add it to the beginning.\n",
    "\n",
    "Return the final string after all operations."
   ]
  },
  {
   "cell_type": "code",
   "execution_count": 10,
   "metadata": {},
   "outputs": [
    {
     "data": {
      "text/plain": [
       "'efgabcd'"
      ]
     },
     "execution_count": 10,
     "metadata": {},
     "output_type": "execute_result"
    }
   ],
   "source": [
    "def stringShift(s: str, shift) -> str:\n",
    "    s = list(s)\n",
    "    bal = 0\n",
    "    for direc, val in shift:\n",
    "        bal += val if direc == 1 else -val\n",
    "\n",
    "    bal = (bal % len(s))\n",
    "    if bal < 0:\n",
    "        bal = len(s)-abs(bal)\n",
    "\n",
    "    s = s[::-1]\n",
    "    s[:bal] = s[:bal][::-1]\n",
    "    s[bal:] = s[bal:][::-1]\n",
    "    return ''.join(s)\n",
    "\n",
    "s = \"abcdefg\"; shift = [[1,1],[1,1],[0,2],[1,3]]\n",
    "stringShift(s, shift)"
   ]
  },
  {
   "cell_type": "markdown",
   "metadata": {},
   "source": [
    "### Diagonal Traverse II\n",
    "Given a list of lists of integers, nums, return all elements of nums in diagonal order as shown in the below images."
   ]
  },
  {
   "cell_type": "code",
   "execution_count": 3,
   "metadata": {},
   "outputs": [
    {
     "data": {
      "text/plain": [
       "[1, 4, 2, 7, 5, 3, 8, 6, 9]"
      ]
     },
     "execution_count": 3,
     "metadata": {},
     "output_type": "execute_result"
    }
   ],
   "source": [
    "def findDiagonalOrder(nums):\n",
    "    from collections import defaultdict\n",
    "    hashmap = defaultdict(list)\n",
    "    max_key = -float('inf')\n",
    "    for i in range(len(nums)):\n",
    "        for j in range(len(nums[i])):\n",
    "            key = i+j\n",
    "            max_key = max(max_key, key)\n",
    "            hashmap[key].append(nums[i][j])\n",
    "\n",
    "    ans = []\n",
    "    for key in range(0, max_key+1):\n",
    "        for num in reversed(hashmap[key]):\n",
    "            ans.append(num)\n",
    "\n",
    "    return ans\n",
    "\n",
    "nums = [[1,2,3],[4,5,6],[7,8,9]]\n",
    "findDiagonalOrder(nums)"
   ]
  },
  {
   "cell_type": "markdown",
   "metadata": {},
   "source": [
    "### Minimum Domino Rotations For Equal Row \n",
    "In a row of dominoes, A[i] and B[i] represent the top and bottom halves of the i-th domino.  (A domino is a tile with two numbers from 1 to 6 - one on each half of the tile.)\n",
    "\n",
    "We may rotate the i-th domino, so that A[i] and B[i] swap values.\n",
    "\n",
    "Return the minimum number of rotations so that all the values in A are the same, or all the values in B are the same.\n",
    "\n",
    "If it cannot be done, return -1."
   ]
  },
  {
   "cell_type": "code",
   "execution_count": 5,
   "metadata": {},
   "outputs": [
    {
     "data": {
      "text/plain": [
       "2"
      ]
     },
     "execution_count": 5,
     "metadata": {},
     "output_type": "execute_result"
    }
   ],
   "source": [
    "class Solution:\n",
    "    def minDominoRotations(self, A, B) -> int:\n",
    "        cand1, cand2 = A[0], B[0]\n",
    "        res1 = res2 = res3 = res4 = float('inf')\n",
    "        \n",
    "        res1 = self.helper(A, B, cand1)\n",
    "        res2 = self.helper(B, A, cand1)\n",
    "        \n",
    "        if cand1 != cand2:\n",
    "            res3 = self.helper(A, B, cand2)\n",
    "            res4 = self.helper(B, A, cand2)\n",
    "        \n",
    "        ans = min([res1, res2, res3, res4])\n",
    "        return ans if ans != float('inf') else -1\n",
    "    \n",
    "    def helper(self, a, b, cand):\n",
    "        res = 0\n",
    "        for i in range(len(a)):\n",
    "            if a[i] == cand:\n",
    "                continue\n",
    "            elif b[i] == cand:\n",
    "                res += 1\n",
    "            else:\n",
    "                return float('inf')\n",
    "        return res\n",
    "                \n",
    "A = [2,1,2,4,2,2]; B = [5,2,6,2,3,2]    \n",
    "Solution().minDominoRotations(A, B)"
   ]
  },
  {
   "cell_type": "markdown",
   "metadata": {},
   "source": [
    "### Find Winner on a Tic Tac Toe Game\n",
    "Tic-tac-toe is played by two players A and B on a 3 x 3 grid.\n",
    "\n",
    "Here are the rules of Tic-Tac-Toe:\n",
    "\n",
    "* Players take turns placing characters into empty squares (\" \").\n",
    "* The first player A always places \"X\" characters, while the second player B always places \"O\" characters.\n",
    "* \"X\" and \"O\" characters are always placed into empty squares, never on filled ones.\n",
    "* The game ends when there are 3 of the same (non-empty) character filling any row, column, or diagonal.\n",
    "* The game also ends if all squares are non-empty.\n",
    "* No more moves can be played if the game is over.\n",
    "\n",
    "Given an array moves where each element is another array of size 2 corresponding to the row and column of the grid where they mark their respective character in the order in which A and B play.\n",
    "\n",
    "Return the winner of the game if it exists (A or B), in case the game ends in a draw return \"Draw\", if there are still movements to play return \"Pending\".\n",
    "\n",
    "You can assume that moves is valid (It follows the rules of Tic-Tac-Toe), the grid is initially empty and A will play first."
   ]
  },
  {
   "cell_type": "code",
   "execution_count": 3,
   "metadata": {},
   "outputs": [
    {
     "data": {
      "text/plain": [
       "'B'"
      ]
     },
     "execution_count": 3,
     "metadata": {},
     "output_type": "execute_result"
    }
   ],
   "source": [
    "from collections import Counter\n",
    "def tictactoe(moves) -> str:\n",
    "    row_state = Counter()\n",
    "    col_state = Counter()\n",
    "    diag = anti_diag = 0\n",
    "\n",
    "    for i, move in enumerate(moves):\n",
    "        x, y  = move\n",
    "        val = 1 if i % 2 == 0 else -1\n",
    "        curr_player = 'A' if i % 2 == 0 else 'B'\n",
    "        row_state[x] += val\n",
    "        col_state[y] += val\n",
    "\n",
    "        if x == y:\n",
    "            diag += val\n",
    "\n",
    "        if x + y == 2:\n",
    "            anti_diag += val\n",
    "\n",
    "        if abs(row_state[x]) == 3 or abs(col_state[y]) == 3 or abs(diag) == 3 or abs(anti_diag) == 3:\n",
    "            return curr_player\n",
    "\n",
    "    return 'Pending' if len(moves) < 9 else 'Draw'\n",
    "\n",
    "moves = [[0,0],[1,1],[0,1],[0,2],[1,0],[2,0]]\n",
    "tictactoe(moves)"
   ]
  },
  {
   "cell_type": "markdown",
   "metadata": {},
   "source": [
    "### Rank Team By Votes\n",
    "In a special ranking system, each voter gives a rank from highest to lowest to all teams participated in the competition.\n",
    "\n",
    "The ordering of teams is decided by who received the most position-one votes. If two or more teams tie in the first position, we consider the second position to resolve the conflict, if they tie again, we continue this process until the ties are resolved. If two or more teams are still tied after considering all positions, we rank them alphabetically based on their team letter.\n",
    "\n",
    "Given an array of strings votes which is the votes of all voters in the ranking systems. Sort all teams according to the ranking system described above.\n",
    "\n",
    "Return a string of all teams sorted by the ranking system."
   ]
  },
  {
   "cell_type": "code",
   "execution_count": 5,
   "metadata": {},
   "outputs": [],
   "source": [
    "def rankTeams(votes) -> str:\n",
    "    # for each new letter create an array of 26 0s\n",
    "    count = defaultdict(lambda: [0] * 26)\n",
    "\n",
    "    for vote in votes:\n",
    "        for rank, c in enumerate(vote):\n",
    "            count[c][rank] -= 1\n",
    "\n",
    "    arr = list(count.items())\n",
    "    arr.sort(key=lambda x:(x[1], x[0]))\n",
    "\n",
    "    res = ''\n",
    "    for ch, l in arr:\n",
    "        res += ch\n",
    "    return res"
   ]
  },
  {
   "cell_type": "markdown",
   "metadata": {},
   "source": [
    "### Product of Last K Numbers\n",
    "Implement the class ProductOfNumbers that supports two methods:\n",
    "\n",
    "1. add(int num): Adds the number num to the back of the current list of numbers.\n",
    "2. getProduct(int k): Returns the product of the last k numbers in the current list.\n",
    "\n",
    "You can assume that always the current list has at least k numbers.\n",
    "\n",
    "At any time, the product of any contiguous sequence of numbers will fit into a single 32-bit integer without overflowing."
   ]
  },
  {
   "cell_type": "code",
   "execution_count": 7,
   "metadata": {},
   "outputs": [
    {
     "data": {
      "text/plain": [
       "50"
      ]
     },
     "execution_count": 7,
     "metadata": {},
     "output_type": "execute_result"
    }
   ],
   "source": [
    "class ProductOfNumbers:\n",
    "\n",
    "    def __init__(self):\n",
    "        self.a = [1]\n",
    "        \n",
    "\n",
    "    def add(self, num: int) -> None:\n",
    "        if num == 0:\n",
    "            self.a = [1]\n",
    "        else:\n",
    "            last_product = self.a[-1]\n",
    "            self.a.append(last_product*num)\n",
    "        \n",
    "\n",
    "    def getProduct(self, k: int) -> int:\n",
    "        if k >= len(self.a):\n",
    "            return 0\n",
    "        i = len(self.a) - k - 1\n",
    "        return self.a[-1] // self.a[i]\n",
    "\n",
    "obj = ProductOfNumbers()\n",
    "obj.add(2)\n",
    "obj.add(3)\n",
    "obj.add(0)\n",
    "obj.add(5)\n",
    "obj.add(10)\n",
    "obj.getProduct(2)"
   ]
  },
  {
   "cell_type": "markdown",
   "metadata": {},
   "source": [
    "### Find Duplicate File in System\n",
    "Given a list of directory info including directory path, and all the files with contents in this directory, you need to find out all the groups of duplicate files in the file system in terms of their paths.\n",
    "\n",
    "A group of duplicate files consists of at least two files that have exactly the same content.\n",
    "\n",
    "A single directory info string in the input list has the following format:\n",
    "\n",
    "\"root/d1/d2/.../dm f1.txt(f1_content) f2.txt(f2_content) ... fn.txt(fn_content)\"\n",
    "\n",
    "It means there are n files (f1.txt, f2.txt ... fn.txt with content f1_content, f2_content ... fn_content, respectively) in directory root/d1/d2/.../dm. Note that n >= 1 and m >= 0. If m = 0, it means the directory is just the root directory.\n",
    "\n",
    "The output is a list of group of duplicate file paths. For each group, it contains all the file paths of the files that have the same content. A file path is a string that has the following format:\n",
    "\n",
    "\"directory_path/file_name.txt\""
   ]
  },
  {
   "cell_type": "code",
   "execution_count": 6,
   "metadata": {},
   "outputs": [
    {
     "data": {
      "text/plain": [
       "[['root/a/1.txt', 'root/c/3.txt'],\n",
       " ['root/a/2.txt', 'root/c/d/4.txt', 'root/4.txt']]"
      ]
     },
     "execution_count": 6,
     "metadata": {},
     "output_type": "execute_result"
    }
   ],
   "source": [
    "from collections import defaultdict\n",
    "def findDuplicate(paths):\n",
    "    hm = defaultdict(list)\n",
    "    for path in paths:\n",
    "        split_path = path.split()\n",
    "        dir = split_path[0]\n",
    "        for file in split_path[1:]:\n",
    "            name, content = file.split('(')\n",
    "            hm[content].append(dir+'/'+name)\n",
    "\n",
    "    return [sub for sub in hm.values() if len(sub)>1]\n",
    "\n",
    "paths = [\"root/a 1.txt(abcd) 2.txt(efgh)\", \"root/c 3.txt(abcd)\", \"root/c/d 4.txt(efgh)\", \"root 4.txt(efgh)\"]\n",
    "findDuplicate(paths)"
   ]
  },
  {
   "cell_type": "markdown",
   "metadata": {},
   "source": [
    "### Longest Harmonious Subsequence\n",
    "We define a harmounious array as an array where the difference between its maximum value and its minimum value is exactly 1.\n",
    "\n",
    "Now, given an integer array, you need to find the length of its longest harmonious subsequence among all its possible subsequences."
   ]
  },
  {
   "cell_type": "code",
   "execution_count": 6,
   "metadata": {},
   "outputs": [
    {
     "data": {
      "text/plain": [
       "5"
      ]
     },
     "execution_count": 6,
     "metadata": {},
     "output_type": "execute_result"
    }
   ],
   "source": [
    "from collections import Counter\n",
    "def findLHS(nums) -> int:\n",
    "    counter = Counter(nums)\n",
    "    ans = 0\n",
    "    for num in counter:\n",
    "        length = counter[num] + counter[num+1]\n",
    "        if counter[num+1] > 0:\n",
    "            ans = max(length, ans)\n",
    "    return ans\n",
    "\n",
    "findLHS([1,3,2,2,5,2,3,7])"
   ]
  },
  {
   "cell_type": "markdown",
   "metadata": {},
   "source": [
    "### Largest Values From Labels\n",
    "We have a set of items: the i-th item has value values[i] and label labels[i].\n",
    "\n",
    "Then, we choose a subset S of these items, such that:\n",
    "\n",
    "|S| <= num_wanted\n",
    "For every label L, the number of items in S with label L is <= use_limit.\n",
    "Return the largest possible sum of the subset S."
   ]
  },
  {
   "cell_type": "code",
   "execution_count": 11,
   "metadata": {},
   "outputs": [
    {
     "data": {
      "text/plain": [
       "12"
      ]
     },
     "execution_count": 11,
     "metadata": {},
     "output_type": "execute_result"
    }
   ],
   "source": [
    "from heapq import heappush, heappop\n",
    "def largestValsFromLabels(values, labels, num_wanted: int, use_limit: int) -> int:\n",
    "    heap = []\n",
    "    for v, l in zip(values, labels):\n",
    "        heappush(heap, (-v, l))\n",
    "\n",
    "    limit_counter = Counter()\n",
    "    formed = 0\n",
    "    ans = 0\n",
    "    while formed < num_wanted:\n",
    "        if heap:\n",
    "            val, label = heappop(heap)\n",
    "            if limit_counter[label] < use_limit:\n",
    "                ans += -val\n",
    "                limit_counter[label] += 1\n",
    "                formed += 1\n",
    "        else:\n",
    "            break\n",
    "\n",
    "    return ans\n",
    "\n",
    "values = [5,4,3,2,1]; labels = [1,3,3,3,2]; num_wanted = 3; use_limit = 2\n",
    "largestValsFromLabels(values, labels, num_wanted, use_limit)"
   ]
  },
  {
   "cell_type": "markdown",
   "metadata": {},
   "source": [
    "###  Max Chunks To Make Sorted\n",
    "Given an array arr that is a permutation of [0, 1, ..., arr.length - 1], we split the array into some number of \"chunks\" (partitions), and individually sort each chunk.  After concatenating them, the result equals the sorted array.\n",
    "\n",
    "What is the most number of chunks we could have made?"
   ]
  },
  {
   "cell_type": "code",
   "execution_count": 17,
   "metadata": {},
   "outputs": [
    {
     "data": {
      "text/plain": [
       "1"
      ]
     },
     "execution_count": 17,
     "metadata": {},
     "output_type": "execute_result"
    }
   ],
   "source": [
    "def maxChunksToSorted(arr) -> int:\n",
    "    max_so_far = 0; ans = 0\n",
    "    for i in range(len(arr)):\n",
    "        max_so_far = max(max_so_far, arr[i])\n",
    "        if max_so_far == i:\n",
    "            ans += 1\n",
    "    return ans\n",
    "\n",
    "arr = [4,3,2,1,0]\n",
    "maxChunksToSorted(arr)"
   ]
  },
  {
   "cell_type": "markdown",
   "metadata": {},
   "source": [
    "###  Max Chunks To Make Sorted II\n",
    "Given an array arr of integers (not necessarily distinct), we split the array into some number of \"chunks\" (partitions), and individually sort each chunk.  After concatenating them, the result equals the sorted array.\n",
    "\n",
    "What is the most number of chunks we could have made?"
   ]
  },
  {
   "cell_type": "code",
   "execution_count": 36,
   "metadata": {},
   "outputs": [
    {
     "data": {
      "text/plain": [
       "(4, [(0, 1), (2, 2), (3, 3), (4, 4)])"
      ]
     },
     "execution_count": 36,
     "metadata": {},
     "output_type": "execute_result"
    }
   ],
   "source": [
    "def maxChunksToSorted(arr) -> int:\n",
    "    min_arr = [-1]*len(arr)\n",
    "    min_so_far = float('inf')\n",
    "    for i in range(len(arr)-1, -1, -1):\n",
    "        min_so_far = min(arr[i], min_so_far)\n",
    "        min_arr[i] = min_so_far\n",
    "\n",
    "    res = 0\n",
    "    max_so_far = -float('inf')\n",
    "    start = 0; ans = []\n",
    "    for end in range(len(arr)-1):\n",
    "        max_so_far = max(max_so_far, arr[end])\n",
    "        if max_so_far <= min_arr[end+1]:\n",
    "            ans.append((start, end))\n",
    "            start = end+1\n",
    "            res += 1\n",
    "\n",
    "    ans.append((start, end+1))\n",
    "    return res+1, ans\n",
    "\n",
    "arr = [2,1,3,4,4]\n",
    "maxChunksToSorted(arr)"
   ]
  },
  {
   "cell_type": "markdown",
   "metadata": {},
   "source": [
    "### Number of Students Doing Homework at a Given Time\n",
    "Given two integer arrays startTime and endTime and given an integer queryTime.\n",
    "\n",
    "The ith student started doing their homework at the time startTime[i] and finished it at time endTime[i].\n",
    "\n",
    "Return the number of students doing their homework at time queryTime. More formally, return the number of students where queryTime lays in the interval [startTime[i], endTime[i]] inclusive."
   ]
  },
  {
   "cell_type": "code",
   "execution_count": 41,
   "metadata": {},
   "outputs": [
    {
     "data": {
      "text/plain": [
       "5"
      ]
     },
     "execution_count": 41,
     "metadata": {},
     "output_type": "execute_result"
    }
   ],
   "source": [
    "def busyStudent(startTime, endTime, queryTime: int) -> int:\n",
    "    arr = [0]*10001\n",
    "    for time in startTime:\n",
    "        arr[time] += 1\n",
    "    for time in endTime:\n",
    "        arr[time+1] -= 1\n",
    "\n",
    "    for i in range(1, len(arr)):\n",
    "        arr[i] += arr[i-1]\n",
    "\n",
    "    return arr[queryTime]\n",
    "\n",
    "startTime = [9,8,7,6,5,4,3,2,1]; endTime = [10,10,10,10,10,10,10,10,10]; queryTime = 5\n",
    "busyStudent(startTime, endTime, queryTime)"
   ]
  },
  {
   "cell_type": "markdown",
   "metadata": {},
   "source": [
    "### Boats To Save people\n",
    "The i-th person has weight people[i], and each boat can carry a maximum weight of limit.\n",
    "\n",
    "Each boat carries at most 2 people at the same time, provided the sum of the weight of those people is at most limit.\n",
    "\n",
    "Return the minimum number of boats to carry every given person.  (It is guaranteed each person can be carried by a boat.)"
   ]
  },
  {
   "cell_type": "code",
   "execution_count": 3,
   "metadata": {},
   "outputs": [
    {
     "data": {
      "text/plain": [
       "3"
      ]
     },
     "execution_count": 3,
     "metadata": {},
     "output_type": "execute_result"
    }
   ],
   "source": [
    "def numRescueBoats(people, limit) -> int:\n",
    "    people.sort(); ans = 0\n",
    "    i = 0; j = len(people)-1\n",
    "    while i<=j:\n",
    "        total = people[i] if i == j else people[i]+people[j]\n",
    "        if total <= limit:\n",
    "            i += 1\n",
    "            j -= 1\n",
    "        else:\n",
    "            j -= 1\n",
    "        ans += 1\n",
    "    return ans\n",
    "\n",
    "people = [3,2,2,1]; limit = 3\n",
    "numRescueBoats(people, limit)"
   ]
  },
  {
   "cell_type": "markdown",
   "metadata": {},
   "source": [
    "### Minimum Number of Frogs Croaking\n",
    "Given the string croakOfFrogs, which represents a combination of the string \"croak\" from different frogs, that is, multiple frogs can croak at the same time, so multiple “croak” are mixed. Return the minimum number of different frogs to finish all the croak in the given string.\n",
    "\n",
    "A valid \"croak\" means a frog is printing 5 letters ‘c’, ’r’, ’o’, ’a’, ’k’ sequentially. The frogs have to print all five letters to finish a croak. If the given string is not a combination of valid \"croak\" return -1."
   ]
  },
  {
   "cell_type": "code",
   "execution_count": 5,
   "metadata": {},
   "outputs": [
    {
     "data": {
      "text/plain": [
       "2"
      ]
     },
     "execution_count": 5,
     "metadata": {},
     "output_type": "execute_result"
    }
   ],
   "source": [
    "from collections import Counter\n",
    "def minNumberOfFrogs(text: str) -> int:\n",
    "    if len(text) % 5 != 0:\n",
    "        return -1\n",
    "\n",
    "    ans = 0; prev = {}; s = 'croak'\n",
    "    for i in range(1, len(s)):\n",
    "        prev[s[i]] = s[i-1]\n",
    "\n",
    "    counter = Counter(); num = 0\n",
    "    for ch in text:\n",
    "        if ch not in 'croak':\n",
    "            return -1\n",
    "        counter[ch] += 1\n",
    "        if ch == 'c':\n",
    "            num += 1\n",
    "            ans = max(ans, num)\n",
    "        else: \n",
    "            if ch == 'k':\n",
    "                num -= 1\n",
    "            counter[prev[ch]] -= 1\n",
    "            if counter[prev[ch]] < 0:\n",
    "                return -1\n",
    "\n",
    "    return ans\n",
    "minNumberOfFrogs(\"crcoakroak\")"
   ]
  },
  {
   "cell_type": "markdown",
   "metadata": {},
   "source": [
    "###  Maximum Nesting Depth of Two Valid Parentheses Strings"
   ]
  },
  {
   "cell_type": "code",
   "execution_count": 9,
   "metadata": {},
   "outputs": [
    {
     "data": {
      "text/plain": [
       "[0, 0, 0, 1, 1, 0, 0, 0]"
      ]
     },
     "execution_count": 9,
     "metadata": {},
     "output_type": "execute_result"
    }
   ],
   "source": [
    "def maxDepthAfterSplit(seq: str):\n",
    "    res = [-1]*len(seq)\n",
    "    depth = -1\n",
    "\n",
    "    for i, ch in enumerate(seq):\n",
    "        if ch == '(':\n",
    "            depth += 1\n",
    "            if depth % 2 == 0:\n",
    "                res[i] = 0\n",
    "            else:\n",
    "                res[i] = 1\n",
    "        else:\n",
    "            if depth % 2 == 0:\n",
    "                res[i] = 0\n",
    "            else:\n",
    "                res[i] = 1\n",
    "            depth -= 1\n",
    "    return res\n",
    "\n",
    "seq = \"()(())()\"\n",
    "maxDepthAfterSplit(seq)"
   ]
  },
  {
   "cell_type": "markdown",
   "metadata": {},
   "source": [
    "### Lonely Pixel I\n",
    "Given a picture consisting of black and white pixels, find the number of black lonely pixels.\n",
    "\n",
    "The picture is represented by a 2D char array consisting of 'B' and 'W', which means black and white pixels respectively.\n",
    "\n",
    "A black lonely pixel is character 'B' that located at a specific position where the same row and same column don't have any other black pixels."
   ]
  },
  {
   "cell_type": "code",
   "execution_count": 14,
   "metadata": {},
   "outputs": [
    {
     "data": {
      "text/plain": [
       "3"
      ]
     },
     "execution_count": 14,
     "metadata": {},
     "output_type": "execute_result"
    }
   ],
   "source": [
    "from collections import defaultdict, Counter\n",
    "def findLonelyPixel(picture) -> int:\n",
    "    row_dict = defaultdict(list)\n",
    "    col_dict = Counter()\n",
    "    for i in range(len(picture)):\n",
    "        for j in range(len(picture[0])):\n",
    "            if picture[i][j] == 'B':\n",
    "                row_dict[i].append(j)\n",
    "                col_dict[j] += 1\n",
    "\n",
    "    ans = 0\n",
    "    for row in row_dict:\n",
    "        if len(row_dict[row]) == 1:\n",
    "            col = row_dict[row][0]\n",
    "            if col_dict[col] == 1:\n",
    "                ans += 1\n",
    "\n",
    "    return ans\n",
    "\n",
    "picture = [['W', 'W', 'B'],\n",
    " ['W', 'B', 'W'],\n",
    " ['B', 'W', 'W']]\n",
    "\n",
    "findLonelyPixel(picture)"
   ]
  },
  {
   "cell_type": "markdown",
   "metadata": {},
   "source": [
    "### String To Integer (atoi)\n",
    "Implement atoi which converts a string to an integer.\n",
    "\n",
    "The function first discards as many whitespace characters as necessary until the first non-whitespace character is found. Then, starting from this character, takes an optional initial plus or minus sign followed by as many numerical digits as possible, and interprets them as a numerical value.\n",
    "\n",
    "The string can contain additional characters after those that form the integral number, which are ignored and have no effect on the behavior of this function.\n",
    "\n",
    "If the first sequence of non-whitespace characters in str is not a valid integral number, or if no such sequence exists because either str is empty or it contains only whitespace characters, no conversion is performed.\n",
    "\n",
    "If no valid conversion could be performed, a zero value is returned.\n",
    "\n",
    "Note:\n",
    "\n",
    "* Only the space character ' ' is considered as whitespace character.\n",
    "* Assume we are dealing with an environment which could only store integers within the 32-bit signed integer range: [−231,  231 − 1]. If the numerical value is out of the range of representable values, INT_MAX (231 − 1) or INT_MIN (−231) is returned."
   ]
  },
  {
   "cell_type": "code",
   "execution_count": 6,
   "metadata": {},
   "outputs": [
    {
     "data": {
      "text/plain": [
       "-4193"
      ]
     },
     "execution_count": 6,
     "metadata": {},
     "output_type": "execute_result"
    }
   ],
   "source": [
    "def myAtoi(string) -> int:\n",
    "    string = string.strip()\n",
    "    if string == '':\n",
    "        return 0\n",
    "\n",
    "    sign = -1 if string[0] == '-' else 1\n",
    "    i = 0\n",
    "    if string[i] in ['-', '+']:\n",
    "        i += 1\n",
    "    res = 0\n",
    "    while i<len(string) and string[i].isdigit():\n",
    "        res = res*10 + ord(string[i]) - ord('0')\n",
    "        i += 1\n",
    "\n",
    "    res = res*sign\n",
    "    return max(-2**31, min(res, 2**31-1))\n",
    "\n",
    "myAtoi(\"-4193 with words\")"
   ]
  },
  {
   "cell_type": "markdown",
   "metadata": {},
   "source": [
    "### Valid Number\n",
    "Validate if a given string can be interpreted as a decimal number.\n",
    "\n",
    "Some examples:\n",
    "* \"0\" => true\n",
    "* \" 0.1 \" => true\n",
    "* \"abc\" => false\n",
    "* \"1 a\" => false\n",
    "* \"2e10\" => true\n",
    "* \" -90e3   \" => true\n",
    "* \" 1e\" => false\n",
    "* \"e3\" => false\n",
    "* \" 6e-1\" => true\n",
    "* \" 99e2.5 \" => false\n",
    "* \"53.5e93\" => true\n",
    "* \" --6 \" => false\n",
    "* \"-+3\" => false\n",
    "* \"95a54e53\" => false\n",
    "\n",
    "Note: It is intended for the problem statement to be ambiguous. You should gather all requirements up front before implementing one. However, here is a list of characters that can be in a valid decimal number:\n",
    "\n",
    "* Numbers 0-9\n",
    "* Exponent - \"e\"\n",
    "* Positive/negative sign - \"+\"/\"-\"\n",
    "* Decimal point - \".\""
   ]
  },
  {
   "cell_type": "code",
   "execution_count": 9,
   "metadata": {},
   "outputs": [
    {
     "data": {
      "text/plain": [
       "True"
      ]
     },
     "execution_count": 9,
     "metadata": {},
     "output_type": "execute_result"
    }
   ],
   "source": [
    "def isNumber(s: str) -> bool:\n",
    "    s = s.strip()\n",
    "    dot = digit = exp = False\n",
    "    for i in range(len(s)):\n",
    "\n",
    "        if s[i] in ['+', '-']:\n",
    "            if i>0 and s[i-1] != 'e':\n",
    "                return False\n",
    "\n",
    "        elif s[i] == '.':\n",
    "            if dot or exp:\n",
    "                return False\n",
    "            dot = True\n",
    "\n",
    "        elif s[i] == 'e':\n",
    "            if not digit or exp:\n",
    "                return False\n",
    "            exp = True; digit = False\n",
    "\n",
    "        elif s[i].isdigit():\n",
    "            digit = True\n",
    "\n",
    "        else:\n",
    "            return False\n",
    "    return digit\n",
    "\n",
    "isNumber('  -90.2e32 ')"
   ]
  },
  {
   "cell_type": "markdown",
   "metadata": {},
   "source": [
    "### Check If a String Can Break Another String\n",
    "\n",
    "Given two strings: s1 and s2 with the same size, check if some permutation of string s1 can break some permutation of string s2 or vice-versa (in other words s2 can break s1).\n",
    "\n",
    "A string x can break string y (both of size n) if x[i] >= y[i] (in alphabetical order) for all i between 0 and n-1.\n",
    "\n"
   ]
  },
  {
   "cell_type": "code",
   "execution_count": 2,
   "metadata": {},
   "outputs": [
    {
     "data": {
      "text/plain": [
       "True"
      ]
     },
     "execution_count": 2,
     "metadata": {},
     "output_type": "execute_result"
    }
   ],
   "source": [
    "def checkIfCanBreak(s1: str, s2: str) -> bool:\n",
    "    s1 = sorted(s1)\n",
    "    s2 = sorted(s2)\n",
    "\n",
    "    i = 0\n",
    "    while i<len(s1) and s1[i] >= s2[i]:\n",
    "        i += 1\n",
    "    if i == len(s1):\n",
    "        return True\n",
    "\n",
    "    i = 0\n",
    "    while i<len(s2) and s2[i] >= s1[i]:\n",
    "        i += 1\n",
    "    return i == len(s2)\n",
    "\n",
    "checkIfCanBreak('leetcodee', 'interview')"
   ]
  },
  {
   "cell_type": "markdown",
   "metadata": {},
   "source": [
    "###  Camelcase Matching\n",
    "A query word matches a given pattern if we can insert lowercase letters to the pattern word so that it equals the query. (We may insert each character at any position, and may insert 0 characters.)\n",
    "\n",
    "Given a list of queries, and a pattern, return an answer list of booleans, where answer[i] is true if and only if queries[i] matches the pattern."
   ]
  },
  {
   "cell_type": "code",
   "execution_count": 3,
   "metadata": {},
   "outputs": [
    {
     "data": {
      "text/plain": [
       "[True, False, True, True, False]"
      ]
     },
     "execution_count": 3,
     "metadata": {},
     "output_type": "execute_result"
    }
   ],
   "source": [
    "class Solution:\n",
    "    def camelMatch(self, queries, pattern: str):\n",
    "        res = []\n",
    "        for string in queries:\n",
    "            if self.match(string, pattern):\n",
    "                res.append(True)\n",
    "            else:\n",
    "                res.append(False)\n",
    "        return res\n",
    "    \n",
    "    def match(self, string, pattern):\n",
    "        s = 0; p = 0\n",
    "        while s<len(string) and p<len(pattern):\n",
    "            if string[s] == pattern[p]:\n",
    "                s += 1\n",
    "                p += 1\n",
    "            elif string[s] != pattern[p]:\n",
    "                if string[s].isupper():\n",
    "                    return False\n",
    "                s += 1\n",
    "            \n",
    "        for i in range(s, len(string)):\n",
    "            if string[i].isupper():\n",
    "                return False\n",
    "        return p == len(pattern)\n",
    "        \n",
    "queries = [\"FooBar\",\"FooBarTest\",\"FootBall\",\"FrameBuffer\",\"ForceFeedBack\"]; pattern = \"FB\"\n",
    "Solution().camelMatch(queries, pattern)"
   ]
  },
  {
   "cell_type": "markdown",
   "metadata": {},
   "source": [
    "### Find Two Non-overlapping Sub-arrays Each With Target Sum\n",
    "\n",
    "Given an array of integers arr and an integer target.\n",
    "\n",
    "You have to find two non-overlapping sub-arrays of arr each with sum equal target. There can be multiple answers so you have to find an answer where the sum of the lengths of the two sub-arrays is minimum.\n",
    "\n",
    "Return the minimum sum of the lengths of the two required sub-arrays, or return -1 if you cannot find such two sub-arrays."
   ]
  },
  {
   "cell_type": "code",
   "execution_count": 4,
   "metadata": {},
   "outputs": [
    {
     "data": {
      "text/plain": [
       "3"
      ]
     },
     "execution_count": 4,
     "metadata": {},
     "output_type": "execute_result"
    }
   ],
   "source": [
    "def minSumOfLengths(arr, target: int) -> int:\n",
    "    hashmap = {}\n",
    "    hashmap[0] = -1\n",
    "    presum = 0; res = []\n",
    "    for i, val in enumerate(arr):\n",
    "        presum += val\n",
    "        diff = presum - target\n",
    "        if diff in hashmap:\n",
    "            res.append((hashmap[diff]+1, i))\n",
    "        hashmap[presum] = i\n",
    "\n",
    "    ans = float('inf')\n",
    "    i = 0; j = len(res)-1\n",
    "    while i<j:\n",
    "        s1, e1 = res[i]\n",
    "        s2, e2 = res[j]\n",
    "        if s2 > e1:\n",
    "            ans = min(ans, e1-s1 + e2-s2+2)\n",
    "            if e1-s1 > e2-s2:\n",
    "                i += 1\n",
    "            else: j -= 1\n",
    "        else:\n",
    "            break\n",
    "\n",
    "    return ans if ans != float('inf') else -1\n",
    "\n",
    "arr = [3,1,1,1,5,1,2,1]; target = 3\n",
    "minSumOfLengths(arr, target)"
   ]
  }
 ],
 "metadata": {
  "kernelspec": {
   "display_name": "Python 3",
   "language": "python",
   "name": "python3"
  },
  "language_info": {
   "codemirror_mode": {
    "name": "ipython",
    "version": 3
   },
   "file_extension": ".py",
   "mimetype": "text/x-python",
   "name": "python",
   "nbconvert_exporter": "python",
   "pygments_lexer": "ipython3",
   "version": "3.6.8"
  }
 },
 "nbformat": 4,
 "nbformat_minor": 2
}
