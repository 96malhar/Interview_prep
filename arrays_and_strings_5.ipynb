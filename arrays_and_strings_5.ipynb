{
 "cells": [
  {
   "cell_type": "markdown",
   "metadata": {},
   "source": [
    "### Pour Water\n",
    "We are given an elevation map, heights[i] representing the height of the terrain at that index. The width at each index is 1. After V units of water fall at index K, how much water is at each index?\n",
    "\n",
    "Water first drops at index K and rests on top of the highest terrain or water at that index. Then, it flows according to the following rules:\n",
    "\n",
    "* If the droplet would eventually fall by moving left, then move left.\n",
    "* Otherwise, if the droplet would eventually fall by moving right, then move right.\n",
    "* Otherwise, rise at it's current position.\n",
    "\n",
    "Here, \"eventually fall\" means that the droplet will eventually be at a lower level if it moves in that direction. Also, \"level\" means the height of the terrain plus any water in that column.\n",
    "\n",
    "We can assume there's infinitely high terrain on the two sides out of bounds of the array. Also, there could not be partial water being spread out evenly on more than 1 grid block - each unit of water has to be in exactly one block."
   ]
  },
  {
   "cell_type": "code",
   "execution_count": 5,
   "metadata": {},
   "outputs": [
    {
     "data": {
      "text/plain": [
       "[2, 2, 2, 3, 2, 2, 2]"
      ]
     },
     "execution_count": 5,
     "metadata": {},
     "output_type": "execute_result"
    }
   ],
   "source": [
    "class Solution:\n",
    "    def pourWater(self, heights, v: int, k: int):\n",
    "        for _ in range(v):\n",
    "            index = k\n",
    "            for i in range(k-1, -1, -1):\n",
    "                if heights[i] > heights[i+1]:\n",
    "                    break\n",
    "                elif heights[i] < heights[i+1]:\n",
    "                    index = i\n",
    "            \n",
    "            if index != k:\n",
    "                heights[index] += 1\n",
    "                continue\n",
    "            \n",
    "            index = k\n",
    "            for i in range(k+1, len(heights)):\n",
    "                if heights[i] > heights[i-1]:\n",
    "                    break\n",
    "                elif heights[i] < heights[i-1]:\n",
    "                    index = i\n",
    "            \n",
    "            if index != k:\n",
    "                heights[index] += 1\n",
    "            else:\n",
    "                heights[k] += 1\n",
    "        return heights\n",
    "                    \n",
    "heights = [2,1,1,2,1,2,2]; V = 4; K = 3     \n",
    "Solution().pourWater(heights, V, K)"
   ]
  },
  {
   "cell_type": "markdown",
   "metadata": {},
   "source": [
    "### Flip Game I\n",
    "You are playing the following Flip Game with your friend: Given a string that contains only these two characters: + and -, you and your friend take turns to flip two consecutive \"++\" into \"--\". The game ends when a person can no longer make a move and therefore the other person will be the winner.\n",
    "\n",
    "Write a function to compute all possible states of the string after one valid move."
   ]
  },
  {
   "cell_type": "code",
   "execution_count": 10,
   "metadata": {},
   "outputs": [
    {
     "data": {
      "text/plain": [
       "['--+--', '+----']"
      ]
     },
     "execution_count": 10,
     "metadata": {},
     "output_type": "execute_result"
    }
   ],
   "source": [
    "def generatePossibleNextMoves(s: str):\n",
    "    res = []\n",
    "    for i in range(1, len(s)):\n",
    "        start = i-1\n",
    "        if s[start:i+1] == '++':\n",
    "            res.append(s[:start] + '--' + s[i+1:])\n",
    "\n",
    "    return res\n",
    "\n",
    "generatePossibleNextMoves('+++--')"
   ]
  },
  {
   "cell_type": "markdown",
   "metadata": {},
   "source": [
    "###  Sort the Matrix Diagonally\n",
    "\n",
    "Given a m * n matrix mat of integers, sort it diagonally in ascending order from the top-left to the bottom-right then return the sorted array."
   ]
  },
  {
   "cell_type": "code",
   "execution_count": 15,
   "metadata": {},
   "outputs": [
    {
     "data": {
      "text/plain": [
       "[[1, 1, 1, 1], [1, 2, 2, 2], [1, 2, 3, 3]]"
      ]
     },
     "execution_count": 15,
     "metadata": {},
     "output_type": "execute_result"
    }
   ],
   "source": [
    "def diagonalSort(a):\n",
    "    from collections import defaultdict\n",
    "    hashmap = defaultdict(list)\n",
    "    for i in range(len(a)):\n",
    "        for j in range(len(a[0])):\n",
    "            hashmap[i-j].append(a[i][j])\n",
    "\n",
    "    for key in hashmap:\n",
    "        hashmap[key] = sorted(hashmap[key], reverse = True)\n",
    "\n",
    "    for i in range(len(a)):\n",
    "        for j in range(len(a[0])):\n",
    "            key = i-j\n",
    "            a[i][j] = hashmap[key].pop()\n",
    "\n",
    "    return a\n",
    "\n",
    "mat = [[3,3,1,1],[2,2,1,2],[1,1,1,2]]\n",
    "diagonalSort(mat)"
   ]
  }
 ],
 "metadata": {
  "kernelspec": {
   "display_name": "Python 3",
   "language": "python",
   "name": "python3"
  },
  "language_info": {
   "codemirror_mode": {
    "name": "ipython",
    "version": 3
   },
   "file_extension": ".py",
   "mimetype": "text/x-python",
   "name": "python",
   "nbconvert_exporter": "python",
   "pygments_lexer": "ipython3",
   "version": "3.6.8"
  }
 },
 "nbformat": 4,
 "nbformat_minor": 2
}
