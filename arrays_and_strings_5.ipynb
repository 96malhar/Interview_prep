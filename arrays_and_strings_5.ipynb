{
 "cells": [
  {
   "cell_type": "markdown",
   "metadata": {},
   "source": [
    "### Pour Water\n",
    "We are given an elevation map, heights[i] representing the height of the terrain at that index. The width at each index is 1. After V units of water fall at index K, how much water is at each index?\n",
    "\n",
    "Water first drops at index K and rests on top of the highest terrain or water at that index. Then, it flows according to the following rules:\n",
    "\n",
    "* If the droplet would eventually fall by moving left, then move left.\n",
    "* Otherwise, if the droplet would eventually fall by moving right, then move right.\n",
    "* Otherwise, rise at it's current position.\n",
    "\n",
    "Here, \"eventually fall\" means that the droplet will eventually be at a lower level if it moves in that direction. Also, \"level\" means the height of the terrain plus any water in that column.\n",
    "\n",
    "We can assume there's infinitely high terrain on the two sides out of bounds of the array. Also, there could not be partial water being spread out evenly on more than 1 grid block - each unit of water has to be in exactly one block."
   ]
  },
  {
   "cell_type": "code",
   "execution_count": 5,
   "metadata": {},
   "outputs": [
    {
     "data": {
      "text/plain": [
       "[2, 2, 2, 3, 2, 2, 2]"
      ]
     },
     "execution_count": 5,
     "metadata": {},
     "output_type": "execute_result"
    }
   ],
   "source": [
    "class Solution:\n",
    "    def pourWater(self, heights, v: int, k: int):\n",
    "        for _ in range(v):\n",
    "            index = k\n",
    "            for i in range(k-1, -1, -1):\n",
    "                if heights[i] > heights[i+1]:\n",
    "                    break\n",
    "                elif heights[i] < heights[i+1]:\n",
    "                    index = i\n",
    "            \n",
    "            if index != k:\n",
    "                heights[index] += 1\n",
    "                continue\n",
    "            \n",
    "            index = k\n",
    "            for i in range(k+1, len(heights)):\n",
    "                if heights[i] > heights[i-1]:\n",
    "                    break\n",
    "                elif heights[i] < heights[i-1]:\n",
    "                    index = i\n",
    "            \n",
    "            if index != k:\n",
    "                heights[index] += 1\n",
    "            else:\n",
    "                heights[k] += 1\n",
    "        return heights\n",
    "                    \n",
    "heights = [2,1,1,2,1,2,2]; V = 4; K = 3     \n",
    "Solution().pourWater(heights, V, K)"
   ]
  },
  {
   "cell_type": "markdown",
   "metadata": {},
   "source": [
    "### Flip Game I\n",
    "You are playing the following Flip Game with your friend: Given a string that contains only these two characters: + and -, you and your friend take turns to flip two consecutive \"++\" into \"--\". The game ends when a person can no longer make a move and therefore the other person will be the winner.\n",
    "\n",
    "Write a function to compute all possible states of the string after one valid move."
   ]
  },
  {
   "cell_type": "code",
   "execution_count": 10,
   "metadata": {},
   "outputs": [
    {
     "data": {
      "text/plain": [
       "['--+--', '+----']"
      ]
     },
     "execution_count": 10,
     "metadata": {},
     "output_type": "execute_result"
    }
   ],
   "source": [
    "def generatePossibleNextMoves(s: str):\n",
    "    res = []\n",
    "    for i in range(1, len(s)):\n",
    "        start = i-1\n",
    "        if s[start:i+1] == '++':\n",
    "            res.append(s[:start] + '--' + s[i+1:])\n",
    "\n",
    "    return res\n",
    "\n",
    "generatePossibleNextMoves('+++--')"
   ]
  },
  {
   "cell_type": "markdown",
   "metadata": {},
   "source": [
    "###  Sort the Matrix Diagonally\n",
    "\n",
    "Given a m * n matrix mat of integers, sort it diagonally in ascending order from the top-left to the bottom-right then return the sorted array."
   ]
  },
  {
   "cell_type": "code",
   "execution_count": 15,
   "metadata": {},
   "outputs": [
    {
     "data": {
      "text/plain": [
       "[[1, 1, 1, 1], [1, 2, 2, 2], [1, 2, 3, 3]]"
      ]
     },
     "execution_count": 15,
     "metadata": {},
     "output_type": "execute_result"
    }
   ],
   "source": [
    "def diagonalSort(a):\n",
    "    from collections import defaultdict\n",
    "    hashmap = defaultdict(list)\n",
    "    for i in range(len(a)):\n",
    "        for j in range(len(a[0])):\n",
    "            hashmap[i-j].append(a[i][j])\n",
    "\n",
    "    for key in hashmap:\n",
    "        hashmap[key] = sorted(hashmap[key], reverse = True)\n",
    "\n",
    "    for i in range(len(a)):\n",
    "        for j in range(len(a[0])):\n",
    "            key = i-j\n",
    "            a[i][j] = hashmap[key].pop()\n",
    "\n",
    "    return a\n",
    "\n",
    "mat = [[3,3,1,1],[2,2,1,2],[1,1,1,2]]\n",
    "diagonalSort(mat)"
   ]
  },
  {
   "cell_type": "markdown",
   "metadata": {},
   "source": [
    "### Reverse Only Letters\n",
    "Given a string S, return the \"reversed\" string where all characters that are not a letter stay in the same place, and all letters reverse their positions."
   ]
  },
  {
   "cell_type": "code",
   "execution_count": 5,
   "metadata": {},
   "outputs": [
    {
     "data": {
      "text/plain": [
       "'Qedo1ct-eeLg=ntse-T!'"
      ]
     },
     "execution_count": 5,
     "metadata": {},
     "output_type": "execute_result"
    }
   ],
   "source": [
    "def reverseOnlyLetters(S: str) -> str:\n",
    "    s = list(S)\n",
    "    i = 0; j = len(s)-1\n",
    "    while i<j:\n",
    "        while i<j and not s[i].isalpha():\n",
    "            i += 1\n",
    "        while i<j and not s[j].isalpha():\n",
    "            j -= 1\n",
    "\n",
    "        s[i], s[j] = s[j], s[i]\n",
    "        i += 1\n",
    "        j -= 1\n",
    "    return ''.join(s)\n",
    "\n",
    "reverseOnlyLetters(\"Test1ng-Leet=code-Q!\")"
   ]
  },
  {
   "cell_type": "markdown",
   "metadata": {},
   "source": [
    "### Next Permutation\n",
    "Implement next permutation, which rearranges numbers into the lexicographically next greater permutation of numbers.\n",
    "\n",
    "If such arrangement is not possible, it must rearrange it as the lowest possible order (ie, sorted in ascending order).\n",
    "\n",
    "The replacement must be in-place and use only constant extra memory.\n",
    "\n",
    "Here are some examples. Inputs are in the left-hand column and its corresponding outputs are in the right-hand column."
   ]
  },
  {
   "cell_type": "code",
   "execution_count": 4,
   "metadata": {},
   "outputs": [
    {
     "data": {
      "text/plain": [
       "[1, 4, 3, 2, 3, 2, 1]"
      ]
     },
     "execution_count": 4,
     "metadata": {},
     "output_type": "execute_result"
    }
   ],
   "source": [
    "class Solution:\n",
    "    def nextPermutation(self, nums):\n",
    "        if not nums or len(nums) == 1:\n",
    "            return nums\n",
    "        \n",
    "        i = len(nums)-2\n",
    "        while i >= 0 and nums[i] >= nums[i+1]:\n",
    "            i -= 1\n",
    "        \n",
    "        if i>=0:\n",
    "            j = len(nums)-1\n",
    "            while j>=0 and nums[j] <= nums[i]:\n",
    "                j -= 1\n",
    "            nums[i], nums[j] = nums[j], nums[i]\n",
    "            \n",
    "        self.reverse(i+1, len(nums)-1, nums)\n",
    "        return nums\n",
    "            \n",
    "    def reverse(self, i, j, nums):\n",
    "        while i<j:\n",
    "            nums[i], nums[j] = nums[j], nums[i]\n",
    "            i += 1\n",
    "            j -= 1\n",
    "\n",
    "obj = Solution()\n",
    "obj.nextPermutation([1,4,3,2,3,1,2])"
   ]
  },
  {
   "cell_type": "markdown",
   "metadata": {},
   "source": [
    "### Previous Permutation"
   ]
  },
  {
   "cell_type": "code",
   "execution_count": 8,
   "metadata": {},
   "outputs": [
    {
     "data": {
      "text/plain": [
       "[1, 4, 3, 2, 3, 1, 2]"
      ]
     },
     "execution_count": 8,
     "metadata": {},
     "output_type": "execute_result"
    }
   ],
   "source": [
    "class Solution:\n",
    "    def prevPermutation(self, nums):\n",
    "        if not nums or len(nums) == 1:\n",
    "            return nums\n",
    "        \n",
    "        i = len(nums)-2\n",
    "        while i >= 0 and nums[i] <= nums[i+1]:\n",
    "            i -= 1\n",
    "        \n",
    "        if i>=0:\n",
    "            j = len(nums)-1\n",
    "            while j>=0 and nums[j] >= nums[i]:\n",
    "                j -= 1\n",
    "            nums[i], nums[j] = nums[j], nums[i]\n",
    "            \n",
    "        self.reverse(i+1, len(nums)-1, nums)\n",
    "        return nums\n",
    "            \n",
    "    def reverse(self, i, j, nums):\n",
    "        while i<j:\n",
    "            nums[i], nums[j] = nums[j], nums[i]\n",
    "            i += 1\n",
    "            j -= 1\n",
    "\n",
    "obj = Solution()\n",
    "obj.prevPermutation([1, 4, 3, 2, 3, 2, 1])"
   ]
  },
  {
   "cell_type": "markdown",
   "metadata": {},
   "source": [
    "### Previous Permutation With One Swap\n",
    "Given an array A of positive integers (not necessarily distinct), return the lexicographically largest permutation that is smaller than A, that can be made with one swap (A swap exchanges the positions of two numbers A[i] and A[j]).  If it cannot be done, then return the same array."
   ]
  },
  {
   "cell_type": "code",
   "execution_count": 19,
   "metadata": {},
   "outputs": [
    {
     "data": {
      "text/plain": [
       "[1, 3, 1, 3]"
      ]
     },
     "execution_count": 19,
     "metadata": {},
     "output_type": "execute_result"
    }
   ],
   "source": [
    "def prevPermOpt1(nums):\n",
    "    if not nums or len(nums) == 1:\n",
    "        return nums\n",
    "\n",
    "    i = len(nums)-2\n",
    "    while i>=0 and nums[i] <= nums[i+1]:\n",
    "        i -= 1\n",
    "\n",
    "    if i == -1:\n",
    "        return nums\n",
    "\n",
    "    j = len(nums)-1\n",
    "    while j>=0 and nums[j] >= nums[i]:\n",
    "        j -= 1\n",
    "\n",
    "    val = nums[j]\n",
    "    while j-1>=0 and nums[j-1] == val:\n",
    "        j -= 1\n",
    "\n",
    "    nums[i], nums[j] = nums[j], nums[i]\n",
    "    return nums\n",
    "\n",
    "prevPermOpt1([3,1,1,3])"
   ]
  },
  {
   "cell_type": "markdown",
   "metadata": {},
   "source": [
    "### Leftmost Column with at Least a One\n",
    "A binary matrix means that all elements are 0 or 1. For each individual row of the matrix, this row is sorted in non-decreasing order.\n",
    "\n",
    "Given a row-sorted binary matrix binaryMatrix, return leftmost column index(0-indexed) with at least a 1 in it. If such index doesn't exist, return -1.\n",
    "\n"
   ]
  },
  {
   "cell_type": "code",
   "execution_count": 4,
   "metadata": {},
   "outputs": [
    {
     "data": {
      "text/plain": [
       "1"
      ]
     },
     "execution_count": 4,
     "metadata": {},
     "output_type": "execute_result"
    }
   ],
   "source": [
    "def leftMostColumnWithOne(mat) -> int:\n",
    "    row, col = len(mat), len(mat[0])\n",
    "    r, c = 0, col-1\n",
    "    ans = -1\n",
    "\n",
    "    while r < row:\n",
    "        for i in range(c, -1, -1):\n",
    "            if mat[r][i] == 1:\n",
    "                ans = i\n",
    "                if ans == 0:\n",
    "                    return 0\n",
    "            else:\n",
    "                break\n",
    "        r += 1\n",
    "        if ans != -1:\n",
    "            c = ans - 1\n",
    "    return ans\n",
    "\n",
    "mat = [[0,0,0,1],[0,0,1,1],[0,1,1,1]]\n",
    "leftMostColumnWithOne(mat)"
   ]
  },
  {
   "cell_type": "markdown",
   "metadata": {},
   "source": [
    "### Perform String Shifts\n",
    "You are given a string s containing lowercase English letters, and a matrix shift, where shift[i] = [direction, amount]:\n",
    "\n",
    "* direction can be 0 (for left shift) or 1 (for right shift). \n",
    "* amount is the amount by which string s is to be shifted.\n",
    "* A left shift by 1 means remove the first character of s and append it to the end.\n",
    "* Similarly, a right shift by 1 means remove the last character of s and add it to the beginning.\n",
    "\n",
    "Return the final string after all operations."
   ]
  },
  {
   "cell_type": "code",
   "execution_count": 10,
   "metadata": {},
   "outputs": [
    {
     "data": {
      "text/plain": [
       "'efgabcd'"
      ]
     },
     "execution_count": 10,
     "metadata": {},
     "output_type": "execute_result"
    }
   ],
   "source": [
    "def stringShift(s: str, shift) -> str:\n",
    "    s = list(s)\n",
    "    bal = 0\n",
    "    for direc, val in shift:\n",
    "        bal += val if direc == 1 else -val\n",
    "\n",
    "    bal = (bal % len(s))\n",
    "    if bal < 0:\n",
    "        bal = len(s)-abs(bal)\n",
    "\n",
    "    s = s[::-1]\n",
    "    s[:bal] = s[:bal][::-1]\n",
    "    s[bal:] = s[bal:][::-1]\n",
    "    return ''.join(s)\n",
    "\n",
    "s = \"abcdefg\"; shift = [[1,1],[1,1],[0,2],[1,3]]\n",
    "stringShift(s, shift)"
   ]
  },
  {
   "cell_type": "markdown",
   "metadata": {},
   "source": [
    "### Diagonal Traverse II\n",
    "Given a list of lists of integers, nums, return all elements of nums in diagonal order as shown in the below images."
   ]
  },
  {
   "cell_type": "code",
   "execution_count": 3,
   "metadata": {},
   "outputs": [
    {
     "data": {
      "text/plain": [
       "[1, 4, 2, 7, 5, 3, 8, 6, 9]"
      ]
     },
     "execution_count": 3,
     "metadata": {},
     "output_type": "execute_result"
    }
   ],
   "source": [
    "def findDiagonalOrder(nums):\n",
    "    from collections import defaultdict\n",
    "    hashmap = defaultdict(list)\n",
    "    max_key = -float('inf')\n",
    "    for i in range(len(nums)):\n",
    "        for j in range(len(nums[i])):\n",
    "            key = i+j\n",
    "            max_key = max(max_key, key)\n",
    "            hashmap[key].append(nums[i][j])\n",
    "\n",
    "    ans = []\n",
    "    for key in range(0, max_key+1):\n",
    "        for num in reversed(hashmap[key]):\n",
    "            ans.append(num)\n",
    "\n",
    "    return ans\n",
    "\n",
    "nums = [[1,2,3],[4,5,6],[7,8,9]]\n",
    "findDiagonalOrder(nums)"
   ]
  },
  {
   "cell_type": "markdown",
   "metadata": {},
   "source": [
    "### Minimum Domino Rotations For Equal Row \n",
    "In a row of dominoes, A[i] and B[i] represent the top and bottom halves of the i-th domino.  (A domino is a tile with two numbers from 1 to 6 - one on each half of the tile.)\n",
    "\n",
    "We may rotate the i-th domino, so that A[i] and B[i] swap values.\n",
    "\n",
    "Return the minimum number of rotations so that all the values in A are the same, or all the values in B are the same.\n",
    "\n",
    "If it cannot be done, return -1."
   ]
  },
  {
   "cell_type": "code",
   "execution_count": 5,
   "metadata": {},
   "outputs": [
    {
     "data": {
      "text/plain": [
       "2"
      ]
     },
     "execution_count": 5,
     "metadata": {},
     "output_type": "execute_result"
    }
   ],
   "source": [
    "class Solution:\n",
    "    def minDominoRotations(self, A, B) -> int:\n",
    "        cand1, cand2 = A[0], B[0]\n",
    "        res1 = res2 = res3 = res4 = float('inf')\n",
    "        \n",
    "        res1 = self.helper(A, B, cand1)\n",
    "        res2 = self.helper(B, A, cand1)\n",
    "        \n",
    "        if cand1 != cand2:\n",
    "            res3 = self.helper(A, B, cand2)\n",
    "            res4 = self.helper(B, A, cand2)\n",
    "        \n",
    "        ans = min([res1, res2, res3, res4])\n",
    "        return ans if ans != float('inf') else -1\n",
    "    \n",
    "    def helper(self, a, b, cand):\n",
    "        res = 0\n",
    "        for i in range(len(a)):\n",
    "            if a[i] == cand:\n",
    "                continue\n",
    "            elif b[i] == cand:\n",
    "                res += 1\n",
    "            else:\n",
    "                return float('inf')\n",
    "        return res\n",
    "                \n",
    "A = [2,1,2,4,2,2]; B = [5,2,6,2,3,2]    \n",
    "Solution().minDominoRotations(A, B)"
   ]
  },
  {
   "cell_type": "markdown",
   "metadata": {},
   "source": [
    "### Find Winner on a Tic Tac Toe Game\n",
    "Tic-tac-toe is played by two players A and B on a 3 x 3 grid.\n",
    "\n",
    "Here are the rules of Tic-Tac-Toe:\n",
    "\n",
    "* Players take turns placing characters into empty squares (\" \").\n",
    "* The first player A always places \"X\" characters, while the second player B always places \"O\" characters.\n",
    "* \"X\" and \"O\" characters are always placed into empty squares, never on filled ones.\n",
    "* The game ends when there are 3 of the same (non-empty) character filling any row, column, or diagonal.\n",
    "* The game also ends if all squares are non-empty.\n",
    "* No more moves can be played if the game is over.\n",
    "\n",
    "Given an array moves where each element is another array of size 2 corresponding to the row and column of the grid where they mark their respective character in the order in which A and B play.\n",
    "\n",
    "Return the winner of the game if it exists (A or B), in case the game ends in a draw return \"Draw\", if there are still movements to play return \"Pending\".\n",
    "\n",
    "You can assume that moves is valid (It follows the rules of Tic-Tac-Toe), the grid is initially empty and A will play first."
   ]
  },
  {
   "cell_type": "code",
   "execution_count": 3,
   "metadata": {},
   "outputs": [
    {
     "data": {
      "text/plain": [
       "'B'"
      ]
     },
     "execution_count": 3,
     "metadata": {},
     "output_type": "execute_result"
    }
   ],
   "source": [
    "from collections import Counter\n",
    "def tictactoe(moves) -> str:\n",
    "    row_state = Counter()\n",
    "    col_state = Counter()\n",
    "    diag = anti_diag = 0\n",
    "\n",
    "    for i, move in enumerate(moves):\n",
    "        x, y  = move\n",
    "        val = 1 if i % 2 == 0 else -1\n",
    "        curr_player = 'A' if i % 2 == 0 else 'B'\n",
    "        row_state[x] += val\n",
    "        col_state[y] += val\n",
    "\n",
    "        if x == y:\n",
    "            diag += val\n",
    "\n",
    "        if x + y == 2:\n",
    "            anti_diag += val\n",
    "\n",
    "        if abs(row_state[x]) == 3 or abs(col_state[y]) == 3 or abs(diag) == 3 or abs(anti_diag) == 3:\n",
    "            return curr_player\n",
    "\n",
    "    return 'Pending' if len(moves) < 9 else 'Draw'\n",
    "\n",
    "moves = [[0,0],[1,1],[0,1],[0,2],[1,0],[2,0]]\n",
    "tictactoe(moves)"
   ]
  },
  {
   "cell_type": "markdown",
   "metadata": {},
   "source": [
    "### Rank Team By Votes\n",
    "In a special ranking system, each voter gives a rank from highest to lowest to all teams participated in the competition.\n",
    "\n",
    "The ordering of teams is decided by who received the most position-one votes. If two or more teams tie in the first position, we consider the second position to resolve the conflict, if they tie again, we continue this process until the ties are resolved. If two or more teams are still tied after considering all positions, we rank them alphabetically based on their team letter.\n",
    "\n",
    "Given an array of strings votes which is the votes of all voters in the ranking systems. Sort all teams according to the ranking system described above.\n",
    "\n",
    "Return a string of all teams sorted by the ranking system."
   ]
  },
  {
   "cell_type": "code",
   "execution_count": 5,
   "metadata": {},
   "outputs": [],
   "source": [
    "def rankTeams(votes) -> str:\n",
    "    # for each new letter create an array of 26 0s\n",
    "    count = defaultdict(lambda: [0] * 26)\n",
    "\n",
    "    for vote in votes:\n",
    "        for rank, c in enumerate(vote):\n",
    "            count[c][rank] -= 1\n",
    "\n",
    "    arr = list(count.items())\n",
    "    arr.sort(key=lambda x:(x[1], x[0]))\n",
    "\n",
    "    res = ''\n",
    "    for ch, l in arr:\n",
    "        res += ch\n",
    "    return res"
   ]
  }
 ],
 "metadata": {
  "kernelspec": {
   "display_name": "Python 3",
   "language": "python",
   "name": "python3"
  },
  "language_info": {
   "codemirror_mode": {
    "name": "ipython",
    "version": 3
   },
   "file_extension": ".py",
   "mimetype": "text/x-python",
   "name": "python",
   "nbconvert_exporter": "python",
   "pygments_lexer": "ipython3",
   "version": "3.6.8"
  }
 },
 "nbformat": 4,
 "nbformat_minor": 2
}
