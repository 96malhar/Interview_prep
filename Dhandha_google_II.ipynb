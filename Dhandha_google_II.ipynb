{
 "cells": [
  {
   "cell_type": "markdown",
   "metadata": {},
   "source": [
    "### Expressive Words Modified\n",
    "* get all expressive indices.\n",
    "* check if any primitive form of word is valid in dictionary"
   ]
  },
  {
   "cell_type": "code",
   "execution_count": 122,
   "metadata": {},
   "outputs": [
    {
     "data": {
      "text/plain": [
       "[[0, 3], [4, 7], [8, 11], [12, 15]]"
      ]
     },
     "execution_count": 122,
     "metadata": {},
     "output_type": "execute_result"
    }
   ],
   "source": [
    "def get_expressive_letter(word):\n",
    "    ans = []\n",
    "    i = 0\n",
    "    while i<len(word):\n",
    "        ch = word[i]\n",
    "        start = i\n",
    "        while i<len(word) and word[i] == ch:\n",
    "            i += 1\n",
    "        end = i -1\n",
    "        if end - start + 1 >= 3:\n",
    "            ans.append([start, end])\n",
    "    return ans\n",
    "get_expressive_letter('hhhheeeelllloooo')"
   ]
  },
  {
   "cell_type": "code",
   "execution_count": 121,
   "metadata": {},
   "outputs": [
    {
     "data": {
      "text/plain": [
       "True"
      ]
     },
     "execution_count": 121,
     "metadata": {},
     "output_type": "execute_result"
    }
   ],
   "source": [
    "# Solution 1\n",
    "class Solution:\n",
    "    def word_exists(self, word, dictionary):\n",
    "        self.dictionary = dictionary\n",
    "        return self.helper(0, word, '')\n",
    "    \n",
    "    def helper(self, start, word, string):\n",
    "        if start == len(word):\n",
    "            return string in self.dictionary\n",
    "        \n",
    "        ch = word[start]\n",
    "        i = start\n",
    "            \n",
    "        while i<len(word) and word[i] == ch:\n",
    "            i += 1\n",
    "        end = i-1\n",
    "        \n",
    "        if end-start+1 < 3:\n",
    "            if self.helper(i, word, string + ch*(end-start+1)):\n",
    "                return True   \n",
    "        else:\n",
    "            if self.helper(i, word, string+ch):\n",
    "                return True\n",
    "            if self.helper(i, word, string+ch+ch):\n",
    "                return True\n",
    "        \n",
    "        return False\n",
    "            \n",
    "obj = Solution()\n",
    "obj.word_exists('hhhheeeellllohhhooo', {'hheelloho'})"
   ]
  },
  {
   "cell_type": "code",
   "execution_count": 15,
   "metadata": {},
   "outputs": [
    {
     "data": {
      "text/plain": [
       "True"
      ]
     },
     "execution_count": 15,
     "metadata": {},
     "output_type": "execute_result"
    }
   ],
   "source": [
    "### Solution II\n",
    "class Solution:\n",
    "    def get_expressive_idx(self, word):\n",
    "        ans = []; i = 0\n",
    "        while i<len(word):\n",
    "            ch = word[i]\n",
    "            start = i\n",
    "            while i<len(word) and word[i] == ch:\n",
    "                i += 1\n",
    "            end = i -1\n",
    "            if end - start + 1 >= 3:\n",
    "                ans.append([start, end])\n",
    "        return ans\n",
    "    \n",
    "    def word_exists(self, word, dictionary):\n",
    "        exp_idx_list = self.get_expressive_idx(word)\n",
    "        self.dictionary = dictionary\n",
    "        return self.helper(0, 0, exp_idx_list, word, '')\n",
    "    \n",
    "    def helper(self, i, exp_i, exp_idx_list, word, string):\n",
    "        if exp_i == len(exp_idx_list):\n",
    "            string += word[i:]\n",
    "            return string in self.dictionary\n",
    "        \n",
    "        exp_start = exp_idx_list[exp_i][0]\n",
    "        exp_end = exp_idx_list[exp_i][1]\n",
    "        exp_ch = word[exp_start]\n",
    "        \n",
    "        string = string + word[i:exp_start]\n",
    "        if self.helper(exp_end+1, exp_i+1, exp_idx_list, word, string + exp_ch):\n",
    "            return True\n",
    "        if self.helper(exp_end+1, exp_i+1, exp_idx_list, word, string + exp_ch*2):\n",
    "            return True\n",
    "        \n",
    "        return False\n",
    "           \n",
    "obj = Solution()\n",
    "obj.word_exists('hhhheeeellllohhhooo', {'hheellohho'})\n",
    "obj.word_exists('malhar', {'malhar'})"
   ]
  }
 ],
 "metadata": {
  "kernelspec": {
   "display_name": "Python 3",
   "language": "python",
   "name": "python3"
  },
  "language_info": {
   "codemirror_mode": {
    "name": "ipython",
    "version": 3
   },
   "file_extension": ".py",
   "mimetype": "text/x-python",
   "name": "python",
   "nbconvert_exporter": "python",
   "pygments_lexer": "ipython3",
   "version": "3.6.8"
  }
 },
 "nbformat": 4,
 "nbformat_minor": 2
}
