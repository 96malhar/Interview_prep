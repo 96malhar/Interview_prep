{
 "cells": [
  {
   "cell_type": "markdown",
   "metadata": {},
   "source": [
    "## Intro"
   ]
  },
  {
   "cell_type": "markdown",
   "metadata": {},
   "source": [
    "### Implement a Stack using an array"
   ]
  },
  {
   "cell_type": "code",
   "execution_count": 13,
   "metadata": {},
   "outputs": [],
   "source": [
    "class Stack:\n",
    "    \n",
    "    def __init__(self,size):\n",
    "        self.size = size\n",
    "        self.a = [None]*size\n",
    "        self.top = 0\n",
    "    \n",
    "    def push(self,n):\n",
    "        if self.top == self.size:\n",
    "            print('Stack is full')\n",
    "            return\n",
    "        self.a[self.top] = n\n",
    "        self.top += 1\n",
    "    \n",
    "    def pop(self):\n",
    "        if self.top > 0:\n",
    "            self.top -= 1\n",
    "            result = self.a[self.top]\n",
    "            self.a[self.top] = None\n",
    "            return result\n",
    "        print('Stack is empty')\n",
    "        return\n",
    "    \n",
    "    def peek(self):\n",
    "        if not self.isEmpty():\n",
    "            return self.a[self.top-1]\n",
    "    \n",
    "    def isEmpty(self):\n",
    "        return self.top == 0"
   ]
  },
  {
   "cell_type": "markdown",
   "metadata": {},
   "source": [
    "### Find if a given number N exists in a stack S."
   ]
  },
  {
   "cell_type": "code",
   "execution_count": 14,
   "metadata": {},
   "outputs": [
    {
     "data": {
      "text/plain": [
       "True"
      ]
     },
     "execution_count": 14,
     "metadata": {},
     "output_type": "execute_result"
    }
   ],
   "source": [
    "def find(s, n):\n",
    "    temp = []\n",
    "    found = False\n",
    "    while len(s):\n",
    "        if s[-1] == n:\n",
    "            found = True\n",
    "            break\n",
    "        temp.append(s.pop())\n",
    "    while len(temp):\n",
    "        s.append(temp.pop())\n",
    "    return found\n",
    "\n",
    "s = [3,1,6,2,4]\n",
    "n = 1\n",
    "find(s,n)"
   ]
  },
  {
   "cell_type": "markdown",
   "metadata": {},
   "source": [
    "## Stack as a restriction"
   ]
  },
  {
   "cell_type": "markdown",
   "metadata": {},
   "source": [
    "### Implement a queue using 2 stacks"
   ]
  },
  {
   "cell_type": "code",
   "execution_count": 20,
   "metadata": {},
   "outputs": [],
   "source": [
    "class Queue:\n",
    "    \n",
    "    def __init__(self):\n",
    "        self.s1 = []\n",
    "        self.s2 = []\n",
    "    \n",
    "    def enque(self,n):\n",
    "        self.s1.append(n)\n",
    "    \n",
    "    def dequeue(self):\n",
    "        if len(self.s2) == 0:\n",
    "            self.flush_to_s2()\n",
    "        if len(self.s2) == 0:\n",
    "            print('Queue is empty')\n",
    "            return None\n",
    "        return self.s2.pop()\n",
    "    \n",
    "    def flush_to_s2(self):\n",
    "        while len(self.s1):\n",
    "            self.s2.append(self.s1.pop())"
   ]
  },
  {
   "cell_type": "code",
   "execution_count": 28,
   "metadata": {},
   "outputs": [
    {
     "name": "stdout",
     "output_type": "stream",
     "text": [
      "3\n",
      "7\n",
      "2\n",
      "Queue is empty\n",
      "None\n"
     ]
    }
   ],
   "source": [
    "queue = Queue()\n",
    "queue.enque(3)\n",
    "queue.enque(7)\n",
    "queue.enque(2)\n",
    "print(queue.dequeue())\n",
    "print(queue.dequeue())\n",
    "print(queue.dequeue())\n",
    "print(queue.dequeue())"
   ]
  },
  {
   "cell_type": "markdown",
   "metadata": {},
   "source": [
    "### Use and array to implement 2 stacks"
   ]
  },
  {
   "cell_type": "code",
   "execution_count": 67,
   "metadata": {},
   "outputs": [],
   "source": [
    "class ArrayStack:\n",
    "    def __init__(self, size):\n",
    "        self.s1 = 0\n",
    "        self.s2 = size - 1\n",
    "        self.a = [None]*size\n",
    "        \n",
    "    def push(self, stack_no, n):\n",
    "        if stack_no != 1 and stack_no != 2:\n",
    "            print('Invalid stack number')\n",
    "            return\n",
    "        if self.s1 > self.s2:\n",
    "            print('Both stacks are full')\n",
    "            return\n",
    "        if stack_no == 1:\n",
    "            self.a[self.s1] = n\n",
    "            self.s1 +=1\n",
    "        if stack_no == 2:\n",
    "            self.a[self.s2] = n\n",
    "            self.s2 -= 1\n",
    "        \n",
    "    def pop(self,stack_no):\n",
    "        if stack_no !=1 and stack_no != 2:\n",
    "            print('Invalid stack number')\n",
    "            return\n",
    "        if stack_no == 1 and self.s1 > 0:\n",
    "            self.s1 -= 1\n",
    "            result = self.a[self.s1]\n",
    "            self.a[self.s1] = None\n",
    "            return result\n",
    "        if stack_no == 2 and self.s2 < len(self.a)-1:\n",
    "            self.s2 += 1\n",
    "            result = self.a[self.s2]\n",
    "            self.a[self.s2] = None\n",
    "            return result\n",
    "        print('Stack is empty')\n",
    "        return"
   ]
  },
  {
   "cell_type": "markdown",
   "metadata": {},
   "source": [
    "## Stack with Max"
   ]
  },
  {
   "cell_type": "markdown",
   "metadata": {},
   "source": [
    "###  Implement a Stack with O(1) lookup of the maximum element in the stack."
   ]
  },
  {
   "cell_type": "code",
   "execution_count": 12,
   "metadata": {},
   "outputs": [],
   "source": [
    "class StackWithMax:\n",
    "    \n",
    "    def __init__(self):\n",
    "        self.main = []\n",
    "        self.max = []\n",
    "        \n",
    "    def push(self,n):\n",
    "        if len(self.max)==0 or n >= self.max[-1]:\n",
    "            self.max.append(n)\n",
    "        self.main.append(n)\n",
    "    \n",
    "    def pop(self):\n",
    "        if len(self.main)==0:\n",
    "            print('Stack is Empty')\n",
    "            return\n",
    "        item = self.main.pop()\n",
    "        if item == self.max[-1]:\n",
    "            self.max.pop()\n",
    "        return item\n",
    "    \n",
    "    def get_max(self):\n",
    "        if len(self.max) == 0:\n",
    "            print('Stack is Empty')\n",
    "            return\n",
    "        return self.max[-1]"
   ]
  },
  {
   "cell_type": "code",
   "execution_count": 24,
   "metadata": {},
   "outputs": [
    {
     "name": "stdout",
     "output_type": "stream",
     "text": [
      "4\n",
      "2\n"
     ]
    }
   ],
   "source": [
    "s = StackWithMax()\n",
    "s.push(2)\n",
    "s.push(1)\n",
    "s.push(4)\n",
    "s.push(0)\n",
    "print(s.get_max())\n",
    "s.pop()\n",
    "s.pop()\n",
    "print(s.get_max())"
   ]
  },
  {
   "cell_type": "markdown",
   "metadata": {},
   "source": [
    "## Expression Evaluation"
   ]
  },
  {
   "cell_type": "markdown",
   "metadata": {},
   "source": [
    "### check if parenthesis is valid or not\n",
    "Given a string containing just the characters '(', ')', '{', '}', '[' and ']', determine if the input string is valid.\n",
    "\n",
    "An input string is valid if:\n",
    "\n",
    "* Open brackets must be closed by the same type of brackets.\n",
    "* Open brackets must be closed in the correct order.\n",
    "* Note that an empty string is also considered valid.\n",
    "\n"
   ]
  },
  {
   "cell_type": "code",
   "execution_count": 3,
   "metadata": {},
   "outputs": [
    {
     "data": {
      "text/plain": [
       "True"
      ]
     },
     "execution_count": 3,
     "metadata": {},
     "output_type": "execute_result"
    }
   ],
   "source": [
    "def isValid(s):\n",
    "    stack = []\n",
    "    if not s:\n",
    "        return True\n",
    "    for char in s:\n",
    "        if char == '(' : stack.append(')')\n",
    "        elif char == '{' : stack.append('}')\n",
    "        elif char == '[' : stack.append(']')\n",
    "\n",
    "        if char == ')' or char==']' or char=='}':\n",
    "            if not len(stack) or stack[-1] != char:\n",
    "                return False\n",
    "            stack.pop()\n",
    "    if not len(stack):\n",
    "        return True\n",
    "    return False\n",
    "\n",
    "isValid('([{}])()')"
   ]
  },
  {
   "cell_type": "markdown",
   "metadata": {},
   "source": [
    "### Valid Parenthesis String\n",
    "Given a string containing only three types of characters: '(', ')' and '*', write a function to check whether this string is valid. We define the validity of a string by these rules:\n",
    "\n",
    "1. Any left parenthesis '(' must have a corresponding right parenthesis ')'.\n",
    "2. Any right parenthesis ')' must have a corresponding left parenthesis '('.\n",
    "3. Left parenthesis '(' must go before the corresponding right parenthesis ')'.\n",
    "4. '*' could be treated as a single right parenthesis ')' or a single left parenthesis '(' or an empty string.\n",
    "5. An empty string is also valid.\n",
    "\n",
    "\n",
    "* Input: \"(*))\"\n",
    "* Output: True"
   ]
  },
  {
   "cell_type": "code",
   "execution_count": 2,
   "metadata": {},
   "outputs": [
    {
     "data": {
      "text/plain": [
       "True"
      ]
     },
     "execution_count": 2,
     "metadata": {},
     "output_type": "execute_result"
    }
   ],
   "source": [
    "def checkValidString(s):\n",
    "    stack1 = []; stack2 = []\n",
    "    for i, char in enumerate(s):\n",
    "        if char == '(':\n",
    "            stack1.append(i)\n",
    "        elif char == ')':\n",
    "            if len(stack1):\n",
    "                stack1.pop()\n",
    "            elif len(stack2):\n",
    "                stack2.pop()\n",
    "            else:\n",
    "                return False\n",
    "        else:\n",
    "            stack2.append(i)\n",
    "\n",
    "    while len(stack1) and len(stack2):\n",
    "        if stack1.pop() > stack2.pop():\n",
    "            return False\n",
    "\n",
    "    return len(stack1) == 0\n",
    "\n",
    "checkValidString('(*())')"
   ]
  },
  {
   "cell_type": "markdown",
   "metadata": {},
   "source": [
    "### Longest Valid Paranthesis\n",
    "Given a string containing just the characters '(' and ')', find the length of the longest valid (well-formed) parentheses substring.\n",
    "* Input: \")()())\"\n",
    "* Output: 4\n",
    "* Explanation: The longest valid parentheses substring is \"()()\"\n"
   ]
  },
  {
   "cell_type": "code",
   "execution_count": 4,
   "metadata": {},
   "outputs": [
    {
     "data": {
      "text/plain": [
       "2"
      ]
     },
     "execution_count": 4,
     "metadata": {},
     "output_type": "execute_result"
    }
   ],
   "source": [
    "def longestValidParentheses(s):\n",
    "    stack = [-1]; ans = 0\n",
    "    for i, ch in enumerate(s):\n",
    "        if ch == '(':\n",
    "            stack.append(i)\n",
    "        else:\n",
    "            stack.pop()\n",
    "            if stack: ans = max(ans, i - stack[-1])\n",
    "            else: stack.append(i)\n",
    "    return ans\n",
    "\n",
    "s = '()(()'\n",
    "longestValidParentheses(s)"
   ]
  },
  {
   "cell_type": "markdown",
   "metadata": {},
   "source": [
    "### Find minimum number of reversals to make paranthesis balanced"
   ]
  },
  {
   "cell_type": "code",
   "execution_count": 8,
   "metadata": {},
   "outputs": [
    {
     "data": {
      "text/plain": [
       "0"
      ]
     },
     "execution_count": 8,
     "metadata": {},
     "output_type": "execute_result"
    }
   ],
   "source": [
    "def count_reversals(s):\n",
    "    import math\n",
    "    if len(s)%2 != 0:\n",
    "        return -1\n",
    "    open = 0; close = 0\n",
    "    for ch in s:\n",
    "        if ch == '(':\n",
    "            open += 1\n",
    "        else:\n",
    "            if open>0: open -= 1\n",
    "            else: close += 1\n",
    "    return math.ceil(open/2) + math.ceil(close/2)\n",
    "count_reversals(')()(())(')\n",
    "count_reversals('()')"
   ]
  },
  {
   "cell_type": "markdown",
   "metadata": {},
   "source": [
    "### Minimum Add to Make Parentheses Valid\n",
    "\n",
    "Given a string S of '(' and ')' parentheses, we add the minimum number of parentheses ( '(' or ')', and in any positions ) so that the resulting parentheses string is valid."
   ]
  },
  {
   "cell_type": "code",
   "execution_count": 2,
   "metadata": {},
   "outputs": [
    {
     "data": {
      "text/plain": [
       "3"
      ]
     },
     "execution_count": 2,
     "metadata": {},
     "output_type": "execute_result"
    }
   ],
   "source": [
    "def minAddToMakeValid(S: str):\n",
    "    open = 0; remove = 0\n",
    "    for ch in S:\n",
    "        if ch == '(':\n",
    "            open += 1\n",
    "        else:\n",
    "            if open: open -= 1\n",
    "            else: remove += 1\n",
    "    remove += open\n",
    "    return remove\n",
    "\n",
    "minAddToMakeValid('(((')"
   ]
  },
  {
   "cell_type": "markdown",
   "metadata": {},
   "source": [
    "### Minimum Insertions to Balance a Parentheses String\n",
    "\n",
    "Given a parentheses string s containing only the characters '(' and ')'. A parentheses string is balanced if:\n",
    "\n",
    "Any left parenthesis '(' must have a corresponding two consecutive right parenthesis '))'.\n",
    "Left parenthesis '(' must go before the corresponding two consecutive right parenthesis '))'.\n",
    "In other words, we treat '(' as openning parenthesis and '))' as closing parenthesis.\n",
    "\n",
    "For example, \"())\", \"())(())))\" and \"(())())))\" are balanced, \")()\", \"()))\" and \"(()))\" are not balanced.\n",
    "\n",
    "You can insert the characters '(' and ')' at any position of the string to balance it if needed.\n",
    "\n",
    "Return the minimum number of insertions needed to make s balanced."
   ]
  },
  {
   "cell_type": "code",
   "execution_count": 2,
   "metadata": {},
   "outputs": [
    {
     "data": {
      "text/plain": [
       "3"
      ]
     },
     "execution_count": 2,
     "metadata": {},
     "output_type": "execute_result"
    }
   ],
   "source": [
    "def minInsertions(s: str) -> int:\n",
    "    open = 0; add = 0; i = 0\n",
    "    while i<len(s):\n",
    "        ch = s[i]\n",
    "        if ch == '(':\n",
    "            open += 1\n",
    "            i += 1\n",
    "        else:\n",
    "            if not open:\n",
    "                if i+1 < len(s) and s[i+1] == ')':\n",
    "                    add += 1\n",
    "                    i += 2\n",
    "                else:\n",
    "                    add += 2\n",
    "                    i += 1\n",
    "            else:\n",
    "                open -= 1\n",
    "                if i+1 < len(s) and s[i+1] == ')':\n",
    "                    i += 2\n",
    "                else:\n",
    "                    add += 1\n",
    "                    i += 1\n",
    "    return add + open*2\n",
    "\n",
    "minInsertions(s = \"))())(\")"
   ]
  },
  {
   "cell_type": "markdown",
   "metadata": {},
   "source": [
    "### Remove Minimum number of paranthesis to make it valid"
   ]
  },
  {
   "cell_type": "code",
   "execution_count": 4,
   "metadata": {},
   "outputs": [
    {
     "data": {
      "text/plain": [
       "'()()()()()()'"
      ]
     },
     "execution_count": 4,
     "metadata": {},
     "output_type": "execute_result"
    }
   ],
   "source": [
    "def minRemoveToMakeValid(s: str) -> str:\n",
    "    stack = []\n",
    "    remove = set()\n",
    "    for i in range(len(s)):\n",
    "        if s[i] not in {'(', ')'}:\n",
    "            continue\n",
    "        if s[i] == '(':\n",
    "            stack.append(i)\n",
    "        else:\n",
    "            if stack: stack.pop()\n",
    "            else: remove.add(i)\n",
    "    remove = set(stack) | remove\n",
    "    result = []\n",
    "    for i in range(len(s)):\n",
    "        if i not in remove:\n",
    "            result.append(s[i])\n",
    "\n",
    "    return ''.join(result)\n",
    "s = \"()(()()()()(()\"\n",
    "# s = ')('\n",
    "minRemoveToMakeValid(s)"
   ]
  },
  {
   "cell_type": "markdown",
   "metadata": {},
   "source": [
    "### Remove Outer Most Parenthesis"
   ]
  },
  {
   "cell_type": "code",
   "execution_count": 4,
   "metadata": {},
   "outputs": [
    {
     "data": {
      "text/plain": [
       "'(())'"
      ]
     },
     "execution_count": 4,
     "metadata": {},
     "output_type": "execute_result"
    }
   ],
   "source": [
    "def removeOuterParentheses(s):\n",
    "    result = []; opened = 0\n",
    "    for char in s:\n",
    "        if char=='(' and opened>0: result.append(char)\n",
    "        if char == ')' and opened>1: result.append(char)\n",
    "        opened += 1 if char == '(' else -1\n",
    "    return ''.join(result)\n",
    "\n",
    "removeOuterParentheses('((()))')"
   ]
  },
  {
   "cell_type": "markdown",
   "metadata": {},
   "source": [
    "### Evaluate Reverse Polish Notation"
   ]
  },
  {
   "cell_type": "code",
   "execution_count": 16,
   "metadata": {},
   "outputs": [
    {
     "data": {
      "text/plain": [
       "22"
      ]
     },
     "execution_count": 16,
     "metadata": {},
     "output_type": "execute_result"
    }
   ],
   "source": [
    "def evalRPN(tokens):\n",
    "    results = []\n",
    "    operator = {'+' : lambda y,x: x+y, '-' : lambda y, x: x-y, '*': lambda y,x: x*y, '/': lambda y,x: int(x/y)}\n",
    "    for char in tokens:\n",
    "        if char in operator:\n",
    "            results.append(operator[char](results.pop(), results.pop()))\n",
    "        else:\n",
    "            results.append(int(char))\n",
    "    return results[-1]\n",
    "evalRPN([\"10\",\"6\",\"9\",\"3\",\"+\",\"-11\",\"*\",\"/\",\"*\",\"17\",\"+\",\"5\",\"+\"])"
   ]
  },
  {
   "cell_type": "markdown",
   "metadata": {},
   "source": [
    "### Given an arithmetic expression with *,/,- & + operators and single digit numbers,evaluate it and return the result.\n",
    "For example,1 + 2 / 1 + 3 * 2 ==> 9"
   ]
  },
  {
   "cell_type": "code",
   "execution_count": 21,
   "metadata": {},
   "outputs": [
    {
     "data": {
      "text/plain": [
       "-9"
      ]
     },
     "execution_count": 21,
     "metadata": {},
     "output_type": "execute_result"
    }
   ],
   "source": [
    "class Solution(object):\n",
    "    def calculate(self, expression):\n",
    "        \"\"\"\n",
    "        :type s: str\n",
    "        :rtype: int\n",
    "        \"\"\"\n",
    "\n",
    "        precedence = {'/':2, '*':2, '+':1, '-':1}\n",
    "        ops = {'/','*','+','-'}\n",
    "        operator = []\n",
    "        operand = [0]\n",
    "\n",
    "        for i, ch in enumerate(expression):\n",
    "\n",
    "            if ch.isdigit():\n",
    "                if i>0 and expression[i-1].isdigit():\n",
    "                    operand[-1] = operand[-1] * 10 + int(ch)\n",
    "                else:\n",
    "                    operand.append(int(ch))\n",
    "\n",
    "            elif ch in ops:\n",
    "                while len(operator) and operator[-1]!='(' and precedence[operator[-1]] >= precedence[ch]:\n",
    "                    self.process(operator, operand)\n",
    "                operator.append(ch)\n",
    "\n",
    "            elif ch == '(': \n",
    "                operator.append(ch); \n",
    "                if expression[i+1] == '-':\n",
    "                    operand.append(0)\n",
    "\n",
    "            elif ch == ')':\n",
    "                while operator[-1] != '(':\n",
    "                    self.process(operator, operand)\n",
    "                operator.pop()\n",
    "\n",
    "        while len(operator):\n",
    "            self.process(operator,operand)\n",
    "\n",
    "        return operand.pop()\n",
    "    \n",
    "    def process(self,operator_stack, operand_stack):\n",
    "        num2 = int(operand_stack.pop())\n",
    "        num1 = int(operand_stack.pop())\n",
    "        op = operator_stack.pop()\n",
    "\n",
    "        if op == '-': result = num1 - num2   \n",
    "        if op == '+': result = num1 + num2   \n",
    "        if op == '/': result = int(num1 / num2)   \n",
    "        if op == '*': result = num1 * num2\n",
    "\n",
    "        operand_stack.append(result)\n",
    "    \n",
    "\n",
    "Solution().calculate('(2+6* 3+5- (3*14/8+2)*5)+3')\n",
    "Solution().calculate('-(-1+12)+(4-2)')"
   ]
  },
  {
   "cell_type": "markdown",
   "metadata": {},
   "source": [
    "## Find the largest Rectangle in a histogram"
   ]
  },
  {
   "cell_type": "code",
   "execution_count": 5,
   "metadata": {},
   "outputs": [
    {
     "data": {
      "text/plain": [
       "12"
      ]
     },
     "execution_count": 5,
     "metadata": {},
     "output_type": "execute_result"
    }
   ],
   "source": [
    "def max_area(histogram):\n",
    "    stack = []; ans = 0\n",
    "    for i in range(len(histogram)):\n",
    "        while stack and histogram[stack[-1]] > histogram[i]:\n",
    "            height = histogram[stack.pop()]\n",
    "            width = i-stack[-1]-1 if stack else i\n",
    "            ans = max(ans, width*height)\n",
    "        stack.append(i)\n",
    "\n",
    "    i = len(histogram)\n",
    "    while stack:\n",
    "        height = histogram[stack.pop()]\n",
    "        width = i-stack[-1]-1 if stack else i\n",
    "        ans = max(ans, width*height)\n",
    "\n",
    "    return ans\n",
    "    \n",
    "max_area([6,2,5,4,5,1,6])"
   ]
  },
  {
   "cell_type": "markdown",
   "metadata": {},
   "source": [
    "### Sum of Subarray Minimums\n",
    "Given an array of integers A, find the sum of min(B), where B ranges over every (contiguous) subarray of A.\n",
    "\n",
    "Since the answer may be large, return the answer modulo 10^9 + 7."
   ]
  },
  {
   "cell_type": "code",
   "execution_count": 4,
   "metadata": {},
   "outputs": [
    {
     "data": {
      "text/plain": [
       "17"
      ]
     },
     "execution_count": 4,
     "metadata": {},
     "output_type": "execute_result"
    }
   ],
   "source": [
    "def sumSubarrayMins(nums) -> int:\n",
    "    stack = []; ans = 0\n",
    "    for i in range(len(nums)):\n",
    "        while stack and nums[stack[-1]] > nums[i]:\n",
    "            index = stack.pop()\n",
    "            num = nums[index]\n",
    "            right = i-index\n",
    "            left = index - stack[-1] if stack else index+1\n",
    "            ans += num*left*right\n",
    "        stack.append(i)\n",
    "\n",
    "    i = len(nums)\n",
    "    while stack:\n",
    "        index = stack.pop()\n",
    "        num = nums[index]\n",
    "        right = i-index\n",
    "        left = index - stack[-1] if stack else index+1\n",
    "        ans += num*left*right\n",
    "\n",
    "    return ans % (10**9 + 7)\n",
    "\n",
    "sumSubarrayMins([3,1,2,4])"
   ]
  },
  {
   "cell_type": "markdown",
   "metadata": {},
   "source": [
    "### 132 Pattern\n",
    "Given a sequence of n integers a1, a2, ..., an, a 132 pattern is a subsequence ai, aj, ak such that i < j < k and ai < ak < aj. Design an algorithm that takes a list of n numbers as input and checks whether there is a 132 pattern in the list."
   ]
  },
  {
   "cell_type": "code",
   "execution_count": 1,
   "metadata": {},
   "outputs": [
    {
     "data": {
      "text/plain": [
       "True"
      ]
     },
     "execution_count": 1,
     "metadata": {},
     "output_type": "execute_result"
    }
   ],
   "source": [
    "def find132pattern(nums):\n",
    "    minsofar = float('inf')\n",
    "    mins = [None]*len(nums)\n",
    "    for i in range(len(nums)):\n",
    "        minsofar = min(minsofar, nums[i])\n",
    "        mins[i] = minsofar\n",
    "    stack = []\n",
    "    for i in range(len(nums)-1, -1, -1):\n",
    "        while len(stack) and stack[-1] <= mins[i]:\n",
    "            stack.pop()\n",
    "        if len(stack) and nums[i] > stack[-1]:\n",
    "            return True\n",
    "        stack.append(nums[i])\n",
    "    return False\n",
    "\n",
    "nums = [3, 1, 4, 2]\n",
    "find132pattern(nums)"
   ]
  },
  {
   "cell_type": "markdown",
   "metadata": {},
   "source": [
    "### Daily Temperatures\n",
    "Given a list of daily temperatures T, return a list such that, for each day in the input, tells you how many days you would have to wait until a warmer temperature. If there is no future day for which this is possible, put 0 instead.\n",
    "\n",
    "For example, given the list of temperatures T = [73, 74, 75, 71, 69, 72, 76, 73], \n",
    "\n",
    "your output should be [1, 1, 4, 2, 1, 1, 0, 0]."
   ]
  },
  {
   "cell_type": "code",
   "execution_count": 3,
   "metadata": {},
   "outputs": [
    {
     "data": {
      "text/plain": [
       "[1, 1, 4, 2, 1, 1, 0, 0]"
      ]
     },
     "execution_count": 3,
     "metadata": {},
     "output_type": "execute_result"
    }
   ],
   "source": [
    "def dailyTemperatures(T):\n",
    "    ans = [0]*len(T)\n",
    "    stack = []\n",
    "    for i in range(len(T)):\n",
    "        while stack and T[stack[-1]] < T[i]:\n",
    "            index = stack.pop()\n",
    "            ans[index] = i - index\n",
    "        stack.append(i)\n",
    "    return ans\n",
    "\n",
    "T = [73, 74, 75, 71, 69, 72, 76, 73]\n",
    "dailyTemperatures(T)"
   ]
  },
  {
   "cell_type": "markdown",
   "metadata": {},
   "source": [
    "### Next Greater Element I\n",
    "You are given two arrays (without duplicates) nums1 and nums2 where nums1’s elements are subset of nums2. Find all the next greater numbers for nums1's elements in the corresponding places of nums2.\n",
    "\n",
    "The Next Greater Number of a number x in nums1 is the first greater number to its right in nums2. If it does not exist, output -1 for this number.\n",
    "\n",
    "* Input: nums1 = [4,1,2], nums2 = [1,3,4,2].\n",
    "* Output: [-1,3,-1]"
   ]
  },
  {
   "cell_type": "code",
   "execution_count": 7,
   "metadata": {},
   "outputs": [
    {
     "data": {
      "text/plain": [
       "[-1, 3, -1]"
      ]
     },
     "execution_count": 7,
     "metadata": {},
     "output_type": "execute_result"
    }
   ],
   "source": [
    "def nextGreaterElement(nums1, nums2):\n",
    "    hashmap = {}; stack = []; ans = []\n",
    "    for i in range(len(nums2)):\n",
    "        while stack and stack[-1] < nums2[i]:\n",
    "            hashmap[stack.pop()] = nums2[i]\n",
    "        stack.append(nums2[i])\n",
    "\n",
    "    for num in nums1:\n",
    "        if num not in hashmap:\n",
    "            ans.append(-1)\n",
    "        else:\n",
    "            ans.append(hashmap[num])\n",
    "    return ans\n",
    "\n",
    "nums1 = [4,1,2]; nums2 = [1,3,4,2]\n",
    "nextGreaterElement(nums1, nums2)"
   ]
  },
  {
   "cell_type": "markdown",
   "metadata": {},
   "source": [
    "### Next Greater Element II\n",
    "Given a circular array (the next element of the last element is the first element of the array), print the Next Greater Number for every element. The Next Greater Number of a number x is the first greater number to its traversing-order next in the array, which means you could search circularly to find its next greater number. If it doesn't exist, output -1 for this number.\n",
    "\n",
    "* Input: [1,2,1]\n",
    "* Output: [2,-1,2]"
   ]
  },
  {
   "cell_type": "code",
   "execution_count": 10,
   "metadata": {},
   "outputs": [
    {
     "data": {
      "text/plain": [
       "[2, -1, 2]"
      ]
     },
     "execution_count": 10,
     "metadata": {},
     "output_type": "execute_result"
    }
   ],
   "source": [
    "def nextGreaterElements(nums):\n",
    "    stack = []; ans = [-1]*len(nums)\n",
    "    for i in range(2*len(nums)):\n",
    "        j = i % len(nums)\n",
    "        while stack and nums[stack[-1]] < nums[j]:\n",
    "            ans[stack.pop()] = nums[j]\n",
    "        stack.append(j)\n",
    "    return ans\n",
    "\n",
    "nums = [1,2,1]\n",
    "nextGreaterElements(nums)"
   ]
  },
  {
   "cell_type": "markdown",
   "metadata": {},
   "source": [
    "### Online Stock Span\n",
    "Write a class StockSpanner which collects daily price quotes for some stock, and returns the span of that stock's price for the current day.\n",
    "\n",
    "The span of the stock's price today is defined as the maximum number of consecutive days (starting from today and going backwards) for which the price of the stock was less than or equal to today's price.\n",
    "\n",
    "For example, if the price of a stock over the next 7 days were [100, 80, 60, 70, 60, 75, 85], then the stock spans would be [1, 1, 1, 2, 1, 4, 6]."
   ]
  },
  {
   "cell_type": "code",
   "execution_count": 11,
   "metadata": {},
   "outputs": [],
   "source": [
    "class StockSpanner:\n",
    "    def __init__(self):\n",
    "        self.stack = []\n",
    "        \n",
    "    def next(self, price: int) -> int:\n",
    "        res = 1\n",
    "        while self.stack and self.stack[-1][0] <= price:\n",
    "            res += self.stack.pop()[1]\n",
    "        self.stack.append((price, res))\n",
    "        return res"
   ]
  },
  {
   "cell_type": "markdown",
   "metadata": {},
   "source": [
    "### Remove K digits\n",
    "Given a non-negative integer num represented as a string, remove k digits from the number so that the new number is the smallest possible."
   ]
  },
  {
   "cell_type": "code",
   "execution_count": 7,
   "metadata": {},
   "outputs": [
    {
     "data": {
      "text/plain": [
       "'1219'"
      ]
     },
     "execution_count": 7,
     "metadata": {},
     "output_type": "execute_result"
    }
   ],
   "source": [
    " def removeKdigits(num: str, k: int) -> str:\n",
    "    if k == len(num): return '0'\n",
    "    stack = []\n",
    "    for i in range(len(num)):\n",
    "        while k>0 and len(stack)>0 and int(stack[-1])>int(num[i]):\n",
    "            stack.pop()\n",
    "            k -= 1\n",
    "        stack.append(num[i])\n",
    "    while k>0:\n",
    "        stack.pop()\n",
    "        k -= 1\n",
    "\n",
    "    ans = ''\n",
    "    for n in stack:\n",
    "        if n == '0' and not ans:\n",
    "            continue\n",
    "        ans += n\n",
    "    return ans if ans else '0'\n",
    "\n",
    "num = \"1432219\"; k = 3\n",
    "removeKdigits(num, k)"
   ]
  },
  {
   "cell_type": "markdown",
   "metadata": {},
   "source": [
    "### Asteroid Collision\n",
    "We are given an array asteroids of integers representing asteroids in a row.\n",
    "\n",
    "For each asteroid, the absolute value represents its size, and the sign represents its direction (positive meaning right, negative meaning left). Each asteroid moves at the same speed.\n",
    "\n",
    "Find out the state of the asteroids after all collisions. If two asteroids meet, the smaller one will explode. If both are the same size, both will explode. Two asteroids moving in the same direction will never meet."
   ]
  },
  {
   "cell_type": "code",
   "execution_count": 7,
   "metadata": {},
   "outputs": [
    {
     "data": {
      "text/plain": [
       "[10]"
      ]
     },
     "execution_count": 7,
     "metadata": {},
     "output_type": "execute_result"
    }
   ],
   "source": [
    "def asteroidCollision(asteroids):\n",
    "    stack = []\n",
    "    for ast in asteroids:\n",
    "        if not stack or stack[-1] < 0 or ast > 0:\n",
    "            stack.append(ast)\n",
    "        else:\n",
    "            while stack and stack[-1] > 0 and abs(stack[-1]) < abs(ast):\n",
    "                stack.pop()\n",
    "            if stack and stack[-1] > 0 and abs(stack[-1]) == abs(ast):\n",
    "                stack.pop()\n",
    "            elif len(stack) == 0 or stack[-1] < 0:\n",
    "                stack.append(ast)\n",
    "    return stack\n",
    "\n",
    "asteroids = [10, 2, -5]\n",
    "asteroidCollision(asteroids)"
   ]
  },
  {
   "cell_type": "markdown",
   "metadata": {},
   "source": [
    "### Validate Stack Sequences\n",
    "Given two sequences pushed and popped with distinct values, return true if and only if this could have been the result of a sequence of push and pop operations on an initially empty stack."
   ]
  },
  {
   "cell_type": "code",
   "execution_count": 3,
   "metadata": {},
   "outputs": [
    {
     "data": {
      "text/plain": [
       "True"
      ]
     },
     "execution_count": 3,
     "metadata": {},
     "output_type": "execute_result"
    }
   ],
   "source": [
    "def validateStackSequences(pushed, popped):\n",
    "    stack = []\n",
    "    i = 0\n",
    "    for num in pushed:\n",
    "        stack.append(num)\n",
    "        while stack and stack[-1] == popped[i]:\n",
    "            stack.pop()\n",
    "            i += 1\n",
    "\n",
    "    return len(stack) == 0\n",
    "\n",
    "pushed = [1,2,3,4,5]; popped = [4,5,3,2,1]\n",
    "validateStackSequences(pushed, popped)"
   ]
  },
  {
   "cell_type": "markdown",
   "metadata": {},
   "source": [
    "### Simplify Path\n",
    "Given an absolute path for a file (Unix-style), simplify it. Or in other words, convert it to the canonical path.\n",
    "\n",
    "In a UNIX-style file system, a period . refers to the current directory. Furthermore, a double period .. moves the directory up a level.\n",
    "\n",
    "Note that the returned canonical path must always begin with a slash /, and there must be only a single slash / between two directory names. The last directory name (if it exists) must not end with a trailing /. Also, the canonical path must be the shortest string representing the absolute path."
   ]
  },
  {
   "cell_type": "code",
   "execution_count": 2,
   "metadata": {},
   "outputs": [
    {
     "data": {
      "text/plain": [
       "'/c'"
      ]
     },
     "execution_count": 2,
     "metadata": {},
     "output_type": "execute_result"
    }
   ],
   "source": [
    "def simplifyPath(path: str) -> str:\n",
    "    stack = []\n",
    "    for p in path.split(\"/\"):\n",
    "        if p == \"..\":\n",
    "            if stack:\n",
    "                stack.pop()\n",
    "        elif p and p != '.':\n",
    "            stack.append(p)\n",
    "    return '/' + '/'.join(stack)\n",
    "\n",
    "simplifyPath(\"/a/./b/../../c/\")"
   ]
  },
  {
   "cell_type": "markdown",
   "metadata": {},
   "source": [
    "### Smallest Subsequence of Distinct Characters\n",
    "Return the lexicographically smallest subsequence of text that contains all the distinct characters of text exactly once.\n",
    "\n",
    "**Same Question** : Remove Duplicate Letters"
   ]
  },
  {
   "cell_type": "code",
   "execution_count": 1,
   "metadata": {},
   "outputs": [
    {
     "data": {
      "text/plain": [
       "'adbc'"
      ]
     },
     "execution_count": 1,
     "metadata": {},
     "output_type": "execute_result"
    }
   ],
   "source": [
    "def smallestSubsequence(s: str) -> str:\n",
    "    last = {}\n",
    "    for i, ch in enumerate(s):\n",
    "        last[ch] = i\n",
    "\n",
    "    seen = set(); stack = []\n",
    "\n",
    "    for i, ch in enumerate(s):\n",
    "        if ch in seen:\n",
    "            continue\n",
    "        while stack and stack[-1] > ch and i < last[stack[-1]]:\n",
    "            del_ch = stack.pop()\n",
    "            seen.remove(del_ch)\n",
    "        stack.append(ch)\n",
    "        seen.add(ch)\n",
    "\n",
    "    return ''.join(stack)\n",
    "\n",
    "smallestSubsequence(\"cdadabcc\")"
   ]
  },
  {
   "cell_type": "markdown",
   "metadata": {},
   "source": [
    "### Make The String Great\n",
    "\n",
    "Given a string s of lower and upper case English letters.\n",
    "\n",
    "A good string is a string which doesn't have two adjacent characters s[i] and s[i + 1] where:\n",
    "\n",
    "0 <= i <= s.length - 2\n",
    "s[i] is a lower-case letter and s[i + 1] is the same letter but in upper-case or vice-versa.\n",
    "To make the string good, you can choose two adjacent characters that make the string bad and remove them. You can keep doing this until the string becomes good.\n",
    "\n",
    "Return the string after making it good. The answer is guaranteed to be unique under the given constraints.\n",
    "\n",
    "Notice that an empty string is also good."
   ]
  },
  {
   "cell_type": "code",
   "execution_count": 1,
   "metadata": {},
   "outputs": [
    {
     "data": {
      "text/plain": [
       "'leetcode'"
      ]
     },
     "execution_count": 1,
     "metadata": {},
     "output_type": "execute_result"
    }
   ],
   "source": [
    "def makeGood(s: str) -> str:\n",
    "    diff = abs(ord('a')-ord('A'))\n",
    "    stack = []\n",
    "    for ch in s:\n",
    "        if stack and abs(ord(ch)-ord(stack[-1])) == diff:\n",
    "            stack.pop()\n",
    "        else:\n",
    "            stack.append(ch)\n",
    "\n",
    "    return ''.join(stack)\n",
    "\n",
    "makeGood(s = \"leEeetcode\")"
   ]
  }
 ],
 "metadata": {
  "kernelspec": {
   "display_name": "Python 3",
   "language": "python",
   "name": "python3"
  },
  "language_info": {
   "codemirror_mode": {
    "name": "ipython",
    "version": 3
   },
   "file_extension": ".py",
   "mimetype": "text/x-python",
   "name": "python",
   "nbconvert_exporter": "python",
   "pygments_lexer": "ipython3",
   "version": "3.6.8"
  }
 },
 "nbformat": 4,
 "nbformat_minor": 2
}
