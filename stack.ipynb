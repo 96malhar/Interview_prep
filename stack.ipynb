{
 "cells": [
  {
   "cell_type": "markdown",
   "metadata": {},
   "source": [
    "## Intro"
   ]
  },
  {
   "cell_type": "markdown",
   "metadata": {},
   "source": [
    "### Implement a Stack using an array"
   ]
  },
  {
   "cell_type": "code",
   "execution_count": 13,
   "metadata": {},
   "outputs": [],
   "source": [
    "class Stack:\n",
    "    \n",
    "    def __init__(self,size):\n",
    "        self.size = size\n",
    "        self.a = [None]*size\n",
    "        self.top = 0\n",
    "    \n",
    "    def push(self,n):\n",
    "        if self.top == self.size:\n",
    "            print('Stack is full')\n",
    "            return\n",
    "        self.a[self.top] = n\n",
    "        self.top += 1\n",
    "    \n",
    "    def pop(self):\n",
    "        if self.top > 0:\n",
    "            self.top -= 1\n",
    "            result = self.a[self.top]\n",
    "            self.a[self.top] = None\n",
    "            return result\n",
    "        print('Stack is empty')\n",
    "        return\n",
    "    \n",
    "    def peek(self):\n",
    "        if not self.isEmpty():\n",
    "            return self.a[self.top-1]\n",
    "    \n",
    "    def isEmpty(self):\n",
    "        return self.top == 0"
   ]
  },
  {
   "cell_type": "markdown",
   "metadata": {},
   "source": [
    "### Find if a given number N exists in a stack S."
   ]
  },
  {
   "cell_type": "code",
   "execution_count": 14,
   "metadata": {},
   "outputs": [
    {
     "data": {
      "text/plain": [
       "True"
      ]
     },
     "execution_count": 14,
     "metadata": {},
     "output_type": "execute_result"
    }
   ],
   "source": [
    "def find(s, n):\n",
    "    temp = []\n",
    "    found = False\n",
    "    while len(s):\n",
    "        if s[-1] == n:\n",
    "            found = True\n",
    "            break\n",
    "        temp.append(s.pop())\n",
    "    while len(temp):\n",
    "        s.append(temp.pop())\n",
    "    return found\n",
    "\n",
    "s = [3,1,6,2,4]\n",
    "n = 1\n",
    "find(s,n)"
   ]
  },
  {
   "cell_type": "markdown",
   "metadata": {},
   "source": [
    "## Stack as a restriction"
   ]
  },
  {
   "cell_type": "markdown",
   "metadata": {},
   "source": [
    "### Implement a queue using 2 stacks"
   ]
  },
  {
   "cell_type": "code",
   "execution_count": 20,
   "metadata": {},
   "outputs": [],
   "source": [
    "class Queue:\n",
    "    \n",
    "    def __init__(self):\n",
    "        self.s1 = []\n",
    "        self.s2 = []\n",
    "    \n",
    "    def enque(self,n):\n",
    "        self.s1.append(n)\n",
    "    \n",
    "    def dequeue(self):\n",
    "        if len(self.s2) == 0:\n",
    "            self.flush_to_s2()\n",
    "        if len(self.s2) == 0:\n",
    "            print('Queue is empty')\n",
    "            return None\n",
    "        return self.s2.pop()\n",
    "    \n",
    "    def flush_to_s2(self):\n",
    "        while len(self.s1):\n",
    "            self.s2.append(self.s1.pop())"
   ]
  },
  {
   "cell_type": "code",
   "execution_count": 28,
   "metadata": {},
   "outputs": [
    {
     "name": "stdout",
     "output_type": "stream",
     "text": [
      "3\n",
      "7\n",
      "2\n",
      "Queue is empty\n",
      "None\n"
     ]
    }
   ],
   "source": [
    "queue = Queue()\n",
    "queue.enque(3)\n",
    "queue.enque(7)\n",
    "queue.enque(2)\n",
    "print(queue.dequeue())\n",
    "print(queue.dequeue())\n",
    "print(queue.dequeue())\n",
    "print(queue.dequeue())"
   ]
  },
  {
   "cell_type": "markdown",
   "metadata": {},
   "source": [
    "### Use and array to implement 2 stacks"
   ]
  },
  {
   "cell_type": "code",
   "execution_count": 67,
   "metadata": {},
   "outputs": [],
   "source": [
    "class ArrayStack:\n",
    "    def __init__(self, size):\n",
    "        self.s1 = 0\n",
    "        self.s2 = size - 1\n",
    "        self.a = [None]*size\n",
    "        \n",
    "    def push(self, stack_no, n):\n",
    "        if stack_no != 1 and stack_no != 2:\n",
    "            print('Invalid stack number')\n",
    "            return\n",
    "        if self.s1 > self.s2:\n",
    "            print('Both stacks are full')\n",
    "            return\n",
    "        if stack_no == 1:\n",
    "            self.a[self.s1] = n\n",
    "            self.s1 +=1\n",
    "        if stack_no == 2:\n",
    "            self.a[self.s2] = n\n",
    "            self.s2 -= 1\n",
    "        \n",
    "    def pop(self,stack_no):\n",
    "        if stack_no !=1 and stack_no != 2:\n",
    "            print('Invalid stack number')\n",
    "            return\n",
    "        if stack_no == 1 and self.s1 > 0:\n",
    "            self.s1 -= 1\n",
    "            result = self.a[self.s1]\n",
    "            self.a[self.s1] = None\n",
    "            return result\n",
    "        if stack_no == 2 and self.s2 < len(self.a)-1:\n",
    "            self.s2 += 1\n",
    "            result = self.a[self.s2]\n",
    "            self.a[self.s2] = None\n",
    "            return result\n",
    "        print('Stack is empty')\n",
    "        return"
   ]
  },
  {
   "cell_type": "markdown",
   "metadata": {},
   "source": [
    "## Stack with Max"
   ]
  },
  {
   "cell_type": "markdown",
   "metadata": {},
   "source": [
    "###  Implement a Stack with O(1) lookup of the maximum element in the stack."
   ]
  },
  {
   "cell_type": "code",
   "execution_count": 12,
   "metadata": {},
   "outputs": [],
   "source": [
    "class StackWithMax:\n",
    "    \n",
    "    def __init__(self):\n",
    "        self.main = []\n",
    "        self.max = []\n",
    "        \n",
    "    def push(self,n):\n",
    "        if len(self.max)==0 or n >= self.max[-1]:\n",
    "            self.max.append(n)\n",
    "        self.main.append(n)\n",
    "    \n",
    "    def pop(self):\n",
    "        if len(self.main)==0:\n",
    "            print('Stack is Empty')\n",
    "            return\n",
    "        item = self.main.pop()\n",
    "        if item == self.max[-1]:\n",
    "            self.max.pop()\n",
    "        return item\n",
    "    \n",
    "    def get_max(self):\n",
    "        if len(self.max) == 0:\n",
    "            print('Stack is Empty')\n",
    "            return\n",
    "        return self.max[-1]"
   ]
  },
  {
   "cell_type": "code",
   "execution_count": 24,
   "metadata": {},
   "outputs": [
    {
     "name": "stdout",
     "output_type": "stream",
     "text": [
      "4\n",
      "2\n"
     ]
    }
   ],
   "source": [
    "s = StackWithMax()\n",
    "s.push(2)\n",
    "s.push(1)\n",
    "s.push(4)\n",
    "s.push(0)\n",
    "print(s.get_max())\n",
    "s.pop()\n",
    "s.pop()\n",
    "print(s.get_max())"
   ]
  },
  {
   "cell_type": "markdown",
   "metadata": {},
   "source": [
    "## Expression Evaluation"
   ]
  },
  {
   "cell_type": "markdown",
   "metadata": {},
   "source": [
    "### check if parenthesis is valid or not\n",
    "Given a string containing just the characters '(', ')', '{', '}', '[' and ']', determine if the input string is valid.\n",
    "\n",
    "An input string is valid if:\n",
    "\n",
    "* Open brackets must be closed by the same type of brackets.\n",
    "* Open brackets must be closed in the correct order.\n",
    "* Note that an empty string is also considered valid.\n",
    "\n"
   ]
  },
  {
   "cell_type": "code",
   "execution_count": 2,
   "metadata": {},
   "outputs": [
    {
     "data": {
      "text/plain": [
       "True"
      ]
     },
     "execution_count": 2,
     "metadata": {},
     "output_type": "execute_result"
    }
   ],
   "source": [
    "def isValid(s):\n",
    "    stack = []\n",
    "    if not s:\n",
    "        return True\n",
    "    for char in s:\n",
    "        if char == '(' : stack.append(')')\n",
    "        elif char == '{' : stack.append('}')\n",
    "        elif char == '[' : stack.append(']')\n",
    "\n",
    "        if char == ')' or char==']' or char=='}':\n",
    "            if not len(stack) or stack[-1] != char:\n",
    "                return False\n",
    "            stack.pop()\n",
    "    if not len(stack):\n",
    "        return True\n",
    "    return False\n",
    "\n",
    "isValid('([{}])')"
   ]
  },
  {
   "cell_type": "markdown",
   "metadata": {},
   "source": [
    "### Given an arithmetic expression with *,/,- & + operators and single digit numbers,evaluate it and return the result.\n",
    "For example,1 + 2 / 1 + 3 * 2 ==> 9"
   ]
  },
  {
   "cell_type": "code",
   "execution_count": 4,
   "metadata": {},
   "outputs": [
    {
     "data": {
      "text/plain": [
       "-12.0"
      ]
     },
     "execution_count": 4,
     "metadata": {},
     "output_type": "execute_result"
    }
   ],
   "source": [
    "def evaluate(expression):\n",
    "    \n",
    "    precedence = {'/':2, '*':2, '+':1, '-':1}\n",
    "    ops = {'/','*','+','-'}\n",
    "    integer = {str(i) for i in range(10)}\n",
    "    operator = []\n",
    "    operand = []\n",
    "    last_integer = False\n",
    "    \n",
    "    for ch in expression:\n",
    "        \n",
    "        if ch in integer:\n",
    "            if last_integer:\n",
    "                operand[-1] = operand[-1] * 10 + int(ch)\n",
    "            else:\n",
    "                operand.append(int(ch))\n",
    "            last_integer = True\n",
    "            \n",
    "        elif ch in ops:\n",
    "            while len(operator) and operator[-1]!='(' and precedence[operator[-1]] >= precedence[ch]:\n",
    "                process(operator, operand)\n",
    "            operator.append(ch)\n",
    "            last_integer = False\n",
    "        \n",
    "        elif ch == '(': operator.append(ch); last_integer = False\n",
    "            \n",
    "        elif ch == ')':\n",
    "            while operator[-1] != '(':\n",
    "                process(operator, operand)\n",
    "            operator.pop()\n",
    "            last_integer = False\n",
    "        \n",
    "        elif ch == ' ' : last_integer = False; continue\n",
    "    \n",
    "    while len(operator):\n",
    "        process(operator,operand)\n",
    "    \n",
    "    return operand.pop()\n",
    "\n",
    "def process(operator, operand):\n",
    "    num2 = operand.pop()\n",
    "    num1 = operand.pop()\n",
    "    op = operator.pop()\n",
    "    \n",
    "    if op == '-': result = num1 - num2   \n",
    "    if op == '+': result = num1 + num2   \n",
    "    if op == '/': result = num1 / num2   \n",
    "    if op == '*': result = num1 * num2\n",
    "        \n",
    "    operand.append(result)\n",
    "    \n",
    "evaluate('( 1 + ( ( 2 + 3 ) * ( 4 * 5 ) ) )')\n",
    "evaluate('2/3')\n",
    "evaluate('100 * ( 2 + 12 ) / 14')\n",
    "evaluate('(2+6* 3+5- (3*14/7+2)*5)+3')"
   ]
  },
  {
   "cell_type": "markdown",
   "metadata": {},
   "source": [
    "## Find the largest Rectangle in a histogram"
   ]
  },
  {
   "cell_type": "code",
   "execution_count": 17,
   "metadata": {},
   "outputs": [
    {
     "data": {
      "text/plain": [
       "12"
      ]
     },
     "execution_count": 17,
     "metadata": {},
     "output_type": "execute_result"
    }
   ],
   "source": [
    "def max_area(histogram):\n",
    "    maxArea = 0\n",
    "    index = 0\n",
    "    stack = []\n",
    "    \n",
    "    while index < len(histogram):\n",
    "        while len(stack) and histogram[stack[-1]] > histogram[index]:\n",
    "            area = process(stack,histogram, index)\n",
    "            maxArea = max(area, maxArea)\n",
    "        stack.append(index)\n",
    "        index += 1\n",
    "    \n",
    "    while len(stack):\n",
    "        area = process(stack,histogram,index)\n",
    "        maxArea = max(area, maxArea)\n",
    "    return maxArea\n",
    "\n",
    "def process(stack, histogram, index):\n",
    "    top_index = stack.pop()\n",
    "    if len(stack):\n",
    "        area = histogram[top_index] * (index - stack[-1] - 1)\n",
    "    else:\n",
    "        area = histogram[top_index] * index\n",
    "    return area\n",
    "    \n",
    "max_area([6,2,5,4,5,1,6])"
   ]
  }
 ],
 "metadata": {
  "kernelspec": {
   "display_name": "Python 3",
   "language": "python",
   "name": "python3"
  },
  "language_info": {
   "codemirror_mode": {
    "name": "ipython",
    "version": 3
   },
   "file_extension": ".py",
   "mimetype": "text/x-python",
   "name": "python",
   "nbconvert_exporter": "python",
   "pygments_lexer": "ipython3",
   "version": "3.6.8"
  }
 },
 "nbformat": 4,
 "nbformat_minor": 2
}
