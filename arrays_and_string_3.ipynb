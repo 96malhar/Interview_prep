{
 "cells": [
  {
   "cell_type": "markdown",
   "metadata": {},
   "source": [
    "### Summary Ranges\n",
    "Given a sorted integer array without duplicates, return the summary of its ranges.\n",
    "\n",
    "Example 1:\n",
    "\n",
    "* Input:  [0,1,2,4,5,7]\n",
    "* Output: [\"0->2\",\"4->5\",\"7\"]\n",
    "* Explanation: 0,1,2 form a continuous range; 4,5 form a continuous range."
   ]
  },
  {
   "cell_type": "code",
   "execution_count": 3,
   "metadata": {},
   "outputs": [
    {
     "data": {
      "text/plain": [
       "['0->2', '4->5', '7']"
      ]
     },
     "execution_count": 3,
     "metadata": {},
     "output_type": "execute_result"
    }
   ],
   "source": [
    "def summaryRanges(nums):\n",
    "    if len(nums) == 0: return []\n",
    "    if len(nums) == 1: return [str(nums[0])]\n",
    "\n",
    "    ans = []; start = 0; end = 1\n",
    "    while end<len(nums):\n",
    "        if nums[end] == nums[end-1]+1:\n",
    "            end += 1\n",
    "        else:\n",
    "            add_range(nums[start], nums[end-1], ans)\n",
    "            start = end\n",
    "            end += 1\n",
    "    add_range(nums[start], nums[end-1], ans)\n",
    "    return ans\n",
    "\n",
    "def add_range(num1, num2, ans):\n",
    "    if num1 == num2:\n",
    "        string = str(num1)\n",
    "    else:\n",
    "        string = str(num1)+'->'+str(num2)\n",
    "    ans.append(string)\n",
    "    \n",
    "nums = [0,1,2,4,5,7]\n",
    "summaryRanges(nums)"
   ]
  },
  {
   "cell_type": "markdown",
   "metadata": {},
   "source": [
    "### Missing Ranges\n",
    "* Input: nums = [0, 1, 3, 50, 75], lower = 0 and upper = 99,\n",
    "* Output: [\"2\", \"4->49\", \"51->74\", \"76->99\"]\n"
   ]
  },
  {
   "cell_type": "code",
   "execution_count": 6,
   "metadata": {},
   "outputs": [
    {
     "data": {
      "text/plain": [
       "['2', '4->49', '51->74', '76->99']"
      ]
     },
     "execution_count": 6,
     "metadata": {},
     "output_type": "execute_result"
    }
   ],
   "source": [
    "def findMissingRanges(nums, lower, upper):\n",
    "    end = 1; ans = []\n",
    "\n",
    "    if len(nums) == 0:\n",
    "        add_range(lower, upper, ans, True)\n",
    "        return ans\n",
    "\n",
    "    while end<len(nums):\n",
    "        if nums[end] == nums[end-1]+1 or nums[end] == nums[end-1]:\n",
    "            end += 1\n",
    "        else:\n",
    "            add_range(nums[end-1]+1, nums[end]-1, ans, True)\n",
    "            end += 1\n",
    "\n",
    "    if nums[0]!=lower:\n",
    "        add_range(lower, nums[0]-1, ans, False)\n",
    "    if nums[-1]!=upper:\n",
    "        add_range(nums[-1]+1, upper, ans, True)\n",
    "    return ans\n",
    "\n",
    "def add_range(num1, num2, ans, right):\n",
    "    if num1 == num2:\n",
    "        string = str(num1)\n",
    "    else:\n",
    "        string = str(num1)+'->'+str(num2)\n",
    "    if right:\n",
    "        ans.append(string)\n",
    "    else:\n",
    "        ans.insert(0, string)\n",
    "\n",
    "nums = [0, 1, 3, 50, 75]; lower = 0; upper = 99\n",
    "findMissingRanges(nums, lower, upper)"
   ]
  }
 ],
 "metadata": {
  "kernelspec": {
   "display_name": "Python 3",
   "language": "python",
   "name": "python3"
  },
  "language_info": {
   "codemirror_mode": {
    "name": "ipython",
    "version": 3
   },
   "file_extension": ".py",
   "mimetype": "text/x-python",
   "name": "python",
   "nbconvert_exporter": "python",
   "pygments_lexer": "ipython3",
   "version": "3.6.8"
  }
 },
 "nbformat": 4,
 "nbformat_minor": 2
}
