{
 "cells": [
  {
   "cell_type": "markdown",
   "metadata": {},
   "source": [
    "### Summary Ranges\n",
    "Given a sorted integer array without duplicates, return the summary of its ranges.\n",
    "\n",
    "Example 1:\n",
    "\n",
    "* Input:  [0,1,2,4,5,7]\n",
    "* Output: [\"0->2\",\"4->5\",\"7\"]\n",
    "* Explanation: 0,1,2 form a continuous range; 4,5 form a continuous range."
   ]
  },
  {
   "cell_type": "code",
   "execution_count": 3,
   "metadata": {},
   "outputs": [
    {
     "data": {
      "text/plain": [
       "['0->2', '4->5', '7']"
      ]
     },
     "execution_count": 3,
     "metadata": {},
     "output_type": "execute_result"
    }
   ],
   "source": [
    "def summaryRanges(nums):\n",
    "    if len(nums) == 0: return []\n",
    "    if len(nums) == 1: return [str(nums[0])]\n",
    "\n",
    "    ans = []; start = 0; end = 1\n",
    "    while end<len(nums):\n",
    "        if nums[end] == nums[end-1]+1:\n",
    "            end += 1\n",
    "        else:\n",
    "            add_range(nums[start], nums[end-1], ans)\n",
    "            start = end\n",
    "            end += 1\n",
    "    add_range(nums[start], nums[end-1], ans)\n",
    "    return ans\n",
    "\n",
    "def add_range(num1, num2, ans):\n",
    "    if num1 == num2:\n",
    "        string = str(num1)\n",
    "    else:\n",
    "        string = str(num1)+'->'+str(num2)\n",
    "    ans.append(string)\n",
    "    \n",
    "nums = [0,1,2,4,5,7]\n",
    "summaryRanges(nums)"
   ]
  },
  {
   "cell_type": "markdown",
   "metadata": {},
   "source": [
    "### Missing Ranges\n",
    "* Input: nums = [0, 1, 3, 50, 75], lower = 0 and upper = 99,\n",
    "* Output: [\"2\", \"4->49\", \"51->74\", \"76->99\"]\n"
   ]
  },
  {
   "cell_type": "code",
   "execution_count": 6,
   "metadata": {},
   "outputs": [
    {
     "data": {
      "text/plain": [
       "['2', '4->49', '51->74', '76->99']"
      ]
     },
     "execution_count": 6,
     "metadata": {},
     "output_type": "execute_result"
    }
   ],
   "source": [
    "def findMissingRanges(nums, lower, upper):\n",
    "    end = 1; ans = []\n",
    "\n",
    "    if len(nums) == 0:\n",
    "        add_range(lower, upper, ans, True)\n",
    "        return ans\n",
    "\n",
    "    while end<len(nums):\n",
    "        if nums[end] == nums[end-1]+1 or nums[end] == nums[end-1]:\n",
    "            end += 1\n",
    "        else:\n",
    "            add_range(nums[end-1]+1, nums[end]-1, ans, True)\n",
    "            end += 1\n",
    "\n",
    "    if nums[0]!=lower:\n",
    "        add_range(lower, nums[0]-1, ans, False)\n",
    "    if nums[-1]!=upper:\n",
    "        add_range(nums[-1]+1, upper, ans, True)\n",
    "    return ans\n",
    "\n",
    "def add_range(num1, num2, ans, right):\n",
    "    if num1 == num2:\n",
    "        string = str(num1)\n",
    "    else:\n",
    "        string = str(num1)+'->'+str(num2)\n",
    "    if right:\n",
    "        ans.append(string)\n",
    "    else:\n",
    "        ans.insert(0, string)\n",
    "\n",
    "nums = [0, 1, 3, 50, 75]; lower = 0; upper = 99\n",
    "findMissingRanges(nums, lower, upper)"
   ]
  },
  {
   "cell_type": "markdown",
   "metadata": {},
   "source": [
    "###  Design Compressed String Iterator\n",
    "StringIterator iterator = new StringIterator(\"L1e2t1C1o1d1e1\");\n",
    "\n",
    "* iterator.next(); // return 'L'\n",
    "* iterator.next(); // return 'e'\n",
    "* iterator.next(); // return 'e'\n",
    "* iterator.next(); // return 't'\n",
    "* iterator.next(); // return 'C'\n",
    "* iterator.next(); // return 'o'\n",
    "* iterator.next(); // return 'd'\n",
    "* iterator.hasNext(); // return true\n",
    "* iterator.next(); // return 'e'\n",
    "* iterator.hasNext(); // return false\n",
    "* iterator.next(); // return ' '"
   ]
  },
  {
   "cell_type": "code",
   "execution_count": 10,
   "metadata": {},
   "outputs": [],
   "source": [
    "class StringIterator:\n",
    "\n",
    "    def __init__(self, compressedString: str):\n",
    "        self.arr = []\n",
    "        i = 0\n",
    "        while i<len(compressedString):\n",
    "            curr_char = compressedString[i]\n",
    "            i += 1\n",
    "            j = i\n",
    "            while i<len(compressedString) and compressedString[i].isdigit():\n",
    "                i += 1\n",
    "            freq = int(compressedString[j:i])\n",
    "            self.arr.append([curr_char, freq])\n",
    "        self.index = 0\n",
    "        \n",
    "    def next(self) -> str:\n",
    "        if self.hasNext():\n",
    "            char = self.arr[self.index][0]\n",
    "            self.arr[self.index][1] -= 1\n",
    "            if self.arr[self.index][1] == 0:\n",
    "                self.index += 1\n",
    "            return char\n",
    "        return ' '\n",
    "        \n",
    "\n",
    "    def hasNext(self) -> bool:\n",
    "        return self.index < len(self.arr)"
   ]
  },
  {
   "cell_type": "markdown",
   "metadata": {},
   "source": [
    "### Minimum Absolute difference\n",
    "Given an array of distinct integers arr, find all pairs of elements with the minimum absolute difference of any two elements. \n",
    "\n",
    "Return a list of pairs in ascending order(with respect to pairs), each pair [a, b] follows\n",
    "\n",
    "a, b are from arr\n",
    "a < b\n",
    "b - a equals to the minimum absolute difference of any two elements in arr\n",
    "\n",
    "* Input: arr = [4,2,1,3]\n",
    "* Output: [[1,2],[2,3],[3,4]]\n",
    "* Explanation: The minimum absolute difference is 1. List all pairs with difference equal to 1 in ascending order."
   ]
  },
  {
   "cell_type": "code",
   "execution_count": 11,
   "metadata": {},
   "outputs": [
    {
     "data": {
      "text/plain": [
       "[[-14, -10], [19, 23], [23, 27]]"
      ]
     },
     "execution_count": 11,
     "metadata": {},
     "output_type": "execute_result"
    }
   ],
   "source": [
    "def minimumAbsDifference(arr):\n",
    "    arr.sort(); min_diff = float('inf'); ans = []\n",
    "    prev = arr[0]\n",
    "    for num in arr[1:]:\n",
    "        if num - prev < min_diff:\n",
    "            ans = [[prev, num]]\n",
    "            min_diff = num - prev\n",
    "        elif num - prev == min_diff:\n",
    "            ans.append([prev, num])\n",
    "        prev = num\n",
    "    return ans\n",
    "\n",
    "arr = [3,8,-10,23,19,-4,-14,27]\n",
    "minimumAbsDifference(arr)"
   ]
  },
  {
   "cell_type": "markdown",
   "metadata": {},
   "source": [
    "### Most Profit Assigning Work\n",
    "We have jobs: difficulty[i] is the difficulty of the ith job, and profit[i] is the profit of the ith job. \n",
    "\n",
    "Now we have some workers. worker[i] is the ability of the ith worker, which means that this worker can only complete a job with difficulty at most worker[i]. \n",
    "* Input: difficulty = [2,4,6,8,10], profit = [10,20,30,40,50], worker = [4,5,6,7]\n",
    "* Output: 100 \n",
    "* Explanation: Workers are assigned jobs of difficulty [4,4,6,6] and they get profit of [20,20,30,30] seperately."
   ]
  },
  {
   "cell_type": "code",
   "execution_count": 2,
   "metadata": {},
   "outputs": [
    {
     "data": {
      "text/plain": [
       "100"
      ]
     },
     "execution_count": 2,
     "metadata": {},
     "output_type": "execute_result"
    }
   ],
   "source": [
    "def maxProfitAssignment(difficulty, profit, worker):\n",
    "    jobs = sorted(zip(difficulty, profit))\n",
    "    max_profit = i = best = 0\n",
    "    for ability in sorted(worker):\n",
    "        while i<len(jobs) and ability >= jobs[i][0]:\n",
    "            best = max(best, jobs[i][1])\n",
    "            i += 1\n",
    "        max_profit += best\n",
    "    return max_profit\n",
    "\n",
    "difficulty = [2,4,6,8,10]; profit = [10,20,30,40,50]; worker = [4,5,6,7]\n",
    "maxProfitAssignment(difficulty, profit, worker)"
   ]
  },
  {
   "cell_type": "markdown",
   "metadata": {},
   "source": [
    "### Monotonic array\n",
    "An array is monotonic if it is either monotone increasing or monotone decreasing.\n",
    "\n",
    "An array A is monotone increasing if for all i <= j, A[i] <= A[j].  An array A is monotone decreasing if for all i <= j, A[i] >= A[j].\n",
    "\n",
    "Return true if and only if the given array A is monotonic.\n",
    "Example 1:\n",
    "\n",
    "* Input: [1,2,2,3]\n",
    "* Output: true"
   ]
  },
  {
   "cell_type": "code",
   "execution_count": 6,
   "metadata": {},
   "outputs": [
    {
     "data": {
      "text/plain": [
       "True"
      ]
     },
     "execution_count": 6,
     "metadata": {},
     "output_type": "execute_result"
    }
   ],
   "source": [
    "def isMonotonic(a):\n",
    "    asc = True\n",
    "    desc = True\n",
    "    i = 0\n",
    "    while i<len(a)-1:\n",
    "        if a[i+1] > a[i]:\n",
    "            desc = False\n",
    "        elif a[i+1] < a[i]:\n",
    "            asc = False\n",
    "        i += 1\n",
    "    return asc or desc\n",
    "\n",
    "a = [1,2,2,3]\n",
    "isMonotonic(a)"
   ]
  },
  {
   "cell_type": "markdown",
   "metadata": {},
   "source": [
    "### Reverse String II\n",
    "Given a string and an integer k, you need to reverse the first k characters for every 2k characters counting from the start of the string. If there are less than k characters left, reverse all of them. If there are less than 2k but greater than or equal to k characters, then reverse the first k characters and left the other as original.\n",
    "* Example:\n",
    "* Input: s = \"abcdefg\", k = 2\n",
    "* Output: \"bacdfeg\""
   ]
  },
  {
   "cell_type": "code",
   "execution_count": 5,
   "metadata": {},
   "outputs": [
    {
     "data": {
      "text/plain": [
       "'bacdfeg'"
      ]
     },
     "execution_count": 5,
     "metadata": {},
     "output_type": "execute_result"
    }
   ],
   "source": [
    "def reverseStr(s, k):\n",
    "    i = 0; processed = 0; chars = list(s); remaining = len(chars)\n",
    "    while i<len(chars):\n",
    "        if remaining < k:\n",
    "            reverse(i, len(chars)-1, chars)\n",
    "            break\n",
    "        elif k<=remaining < 2*k:\n",
    "            reverse(i, i+k-1, chars)\n",
    "            break\n",
    "        reverse(i, i+k-1, chars)\n",
    "        i += (2*k)\n",
    "        processed += (2*k)\n",
    "        remaining = len(chars) - processed\n",
    "\n",
    "    return ''.join(chars)\n",
    "\n",
    "def reverse(i, j, chars):\n",
    "    while i<j:\n",
    "        chars[i], chars[j] = chars[j], chars[i]\n",
    "        i += 1\n",
    "        j -= 1\n",
    "        \n",
    "s = \"abcdefg\"; k = 2\n",
    "reverseStr(s, k)"
   ]
  },
  {
   "cell_type": "markdown",
   "metadata": {},
   "source": [
    "### Sort Diagonals of a matrix"
   ]
  },
  {
   "cell_type": "code",
   "execution_count": 27,
   "metadata": {},
   "outputs": [
    {
     "data": {
      "text/plain": [
       "[[1, 2, 3, 6], [0, 2, 7, 9], [8, 2, 5, 8], [4, 11, 4, 9]]"
      ]
     },
     "execution_count": 27,
     "metadata": {},
     "output_type": "execute_result"
    }
   ],
   "source": [
    "def sort_diagonals(a):\n",
    "    from collections import defaultdict\n",
    "    hashmap = defaultdict(list)\n",
    "    for i in range(len(a)):\n",
    "        for j in range(len(a)):\n",
    "            hashmap[i-j].append(a[i][j])\n",
    "    \n",
    "    for key, list_values in hashmap.items():\n",
    "        if key>=0:\n",
    "            row = key; col = 0\n",
    "        else:\n",
    "            col = -key; row = 0\n",
    "        for num in sorted(list_values):\n",
    "            a[row][col] = num\n",
    "            row += 1; col += 1\n",
    "    \n",
    "    return a\n",
    "\n",
    "a = [[1,4,3],[2,3,2],[4,1,2]]\n",
    "a = [[9,8,3,6], [4,2,7,9], [11,0,1,2], [4,8,2,5]]\n",
    "sort_diagonals(a)"
   ]
  },
  {
   "cell_type": "markdown",
   "metadata": {},
   "source": [
    "### Sort Borders of a matrix"
   ]
  },
  {
   "cell_type": "code",
   "execution_count": 1,
   "metadata": {},
   "outputs": [],
   "source": [
    "def sort_borders(matrix):\n",
    "    row = col = 0\n",
    "    rows = len(matrix); cols = len(matrix[0])\n",
    "    ans = [[None]*len(matrix[0]) for _ in range(len(matrix))]\n",
    "    while row<rows and col<cols:\n",
    "        border = []\n",
    "        extract_border(row, col, rows, cols, matrix, border)\n",
    "        border.sort()\n",
    "        print(border)\n",
    "        write_border(row, col, rows, cols, ans, border)\n",
    "        row += 1; col += 1; rows -= 1; cols -= 1\n",
    "    return ans\n",
    "\n",
    "def extract_border(row, col, rows, cols, matrix, border):\n",
    "    for i in range(col, cols):\n",
    "        border.append(matrix[row][i])\n",
    "    row += 1\n",
    "\n",
    "    for i in range(row, rows):\n",
    "        border.append(matrix[i][cols-1])\n",
    "    cols -= 1\n",
    "\n",
    "    if row<rows:\n",
    "        for i in range(cols-1, col-1, -1):\n",
    "            border.append(matrix[rows-1][i])\n",
    "        rows -= 1\n",
    "        \n",
    "    if col<cols:\n",
    "        for i in range(rows-1, row-1, -1):\n",
    "            border.append(matrix[i][col])\n",
    "        col += 1\n",
    "        \n",
    "def write_border(row, col, rows, cols, ans, border):\n",
    "    k = 0\n",
    "    for i in range(col, cols):\n",
    "        ans[row][i] = border[k]\n",
    "        k += 1\n",
    "    row += 1\n",
    "\n",
    "    for i in range(row, rows):\n",
    "        ans[i][cols-1] = border[k]\n",
    "        k += 1\n",
    "    cols -= 1\n",
    "\n",
    "    if row<rows:\n",
    "        for i in range(cols-1, col-1, -1):\n",
    "            ans[rows-1][i] = border[k]\n",
    "            k += 1\n",
    "        rows -= 1\n",
    "        \n",
    "    if col<cols:\n",
    "        for i in range(rows-1, row-1, -1):\n",
    "            ans[i][col] = border[k]\n",
    "            k += 1\n",
    "        col += 1"
   ]
  },
  {
   "cell_type": "code",
   "execution_count": 2,
   "metadata": {},
   "outputs": [
    {
     "name": "stdout",
     "output_type": "stream",
     "text": [
      "[2, 2, 3, 4, 4, 5, 6, 8, 8, 9, 9, 11]\n",
      "[0, 1, 2, 7]\n"
     ]
    },
    {
     "data": {
      "text/plain": [
       "[[2, 2, 3, 4], [11, 0, 1, 4], [9, 7, 2, 5], [9, 8, 8, 6]]"
      ]
     },
     "execution_count": 2,
     "metadata": {},
     "output_type": "execute_result"
    }
   ],
   "source": [
    "a = [[9,8,3,6], [4,2,7,9], [11,0,1,2], [4,8,2,5]]\n",
    "sort_borders(a)"
   ]
  },
  {
   "cell_type": "markdown",
   "metadata": {},
   "source": [
    "### Valid Word Abbreviation\n",
    "Given a non-empty string s and an abbreviation abbr, return whether the string matches with the given abbreviation.\n",
    "\n",
    "A string such as \"word\" contains only the following valid abbreviations:\n",
    "\n",
    "[\"word\", \"1ord\", \"w1rd\", \"wo1d\", \"wor1\", \"2rd\", \"w2d\", \"wo2\", \"1o1d\", \"1or1\", \"w1r1\", \"1o2\", \"2r1\", \"3d\", \"w3\", \"4\"]\n",
    "Notice that only the above abbreviations are valid abbreviations of the string \"word\". Any other string is not a valid abbreviation of \"word\"."
   ]
  },
  {
   "cell_type": "code",
   "execution_count": 5,
   "metadata": {},
   "outputs": [
    {
     "data": {
      "text/plain": [
       "True"
      ]
     },
     "execution_count": 5,
     "metadata": {},
     "output_type": "execute_result"
    }
   ],
   "source": [
    "def validWordAbbreviation(word, abbr):\n",
    "    if len(abbr) > len(word): return False\n",
    "    i = 0; j = 0\n",
    "    while i<len(abbr) and j<len(word):\n",
    "        if abbr[i].isalpha(): \n",
    "            if word[j]!=abbr[i]:\n",
    "                return False\n",
    "            i += 1; j += 1\n",
    "        elif abbr[i] == '0':\n",
    "            return False\n",
    "        else:\n",
    "            num = 0\n",
    "            while i<len(abbr) and abbr[i].isdigit():\n",
    "                num = num*10 + int(abbr[i])\n",
    "                i += 1\n",
    "            j += num\n",
    "\n",
    "    return j == len(word) and i == len(abbr)\n",
    "\n",
    "s = \"internationalization\"; abbr = \"i12iz4n\"\n",
    "validWordAbbreviation(s, abbr)"
   ]
  },
  {
   "cell_type": "markdown",
   "metadata": {},
   "source": [
    "### Longest Consecutive Sequence\n",
    "Given an unsorted array of integers, find the length of the longest consecutive elements sequence.\n",
    "\n",
    "Your algorithm should run in O(n) complexity.\n",
    "\n",
    "Example:\n",
    "\n",
    "* Input: [100, 4, 200, 1, 3, 2]\n",
    "* Output: 4\n",
    "* Explanation: The longest consecutive elements sequence is [1, 2, 3, 4]. Therefore its length is 4."
   ]
  },
  {
   "cell_type": "code",
   "execution_count": 1,
   "metadata": {},
   "outputs": [
    {
     "data": {
      "text/plain": [
       "4"
      ]
     },
     "execution_count": 1,
     "metadata": {},
     "output_type": "execute_result"
    }
   ],
   "source": [
    "def longestConsecutive(nums):\n",
    "    hashset = set(); ans = 0\n",
    "    for num in nums: hashset.add(num)\n",
    "    for num in nums:\n",
    "        if num-1 in hashset:\n",
    "            continue\n",
    "        length = 1\n",
    "        while num+1 in hashset:\n",
    "            length += 1\n",
    "            num = num+1\n",
    "        ans = max(ans, length)\n",
    "    return ans\n",
    "\n",
    "nums = [100, 4, 200, 1, 3, 2]\n",
    "longestConsecutive(nums)"
   ]
  },
  {
   "cell_type": "markdown",
   "metadata": {},
   "source": [
    "### Insert Delete GetRandom O(1) - Duplicates allowed\n",
    "\n",
    "\n",
    "\n",
    "Design a data structure that supports all following operations in average O(1) time.\n",
    "\n",
    "Note: Duplicate elements are allowed.\n",
    "* insert(val): Inserts an item val to the collection.\n",
    "* remove(val): Removes an item val from the collection if present.\n",
    "* getRandom: Returns a random element from current collection of elements. The probability of each element being returned is linearly related to the number of same value the collection contains."
   ]
  },
  {
   "cell_type": "code",
   "execution_count": 2,
   "metadata": {},
   "outputs": [],
   "source": [
    "from collections import defaultdict\n",
    "from random import choice\n",
    "class RandomizedCollection:\n",
    "\n",
    "    def __init__(self):\n",
    "        self.list = []\n",
    "        self.hashmap = defaultdict(set)\n",
    "\n",
    "    def insert(self, val: int) -> bool:\n",
    "        self.list.append(val)\n",
    "        last_index = len(self.list)-1\n",
    "        self.hashmap[val].add(last_index)\n",
    "        return len(self.hashmap[val]) == 1\n",
    "        \n",
    "\n",
    "    def remove(self, val: int) -> bool:\n",
    "        if not self.hashmap[val]: return False\n",
    "        last_element, last_index = self.list[-1], len(self.list)-1\n",
    "        idx = self.hashmap[val].pop()\n",
    "        self.list[idx] = last_element\n",
    "        self.hashmap[last_element].add(idx)\n",
    "        self.hashmap[last_element].remove(last_index)\n",
    "        self.list.pop()\n",
    "        return True\n",
    "\n",
    "    def getRandom(self) -> int:\n",
    "        return choice(self.list)"
   ]
  },
  {
   "cell_type": "code",
   "execution_count": 28,
   "metadata": {},
   "outputs": [
    {
     "data": {
      "text/plain": [
       "2"
      ]
     },
     "execution_count": 28,
     "metadata": {},
     "output_type": "execute_result"
    }
   ],
   "source": [
    "# // Init an empty collection.\n",
    "collection = RandomizedCollection()\n",
    "\n",
    "# // Inserts 1 to the collection. Returns true as the collection did not contain 1.\n",
    "collection.insert(1)\n",
    "\n",
    "# // Inserts another 1 to the collection. Returns false as the collection contained 1. Collection now contains [1,1].\n",
    "collection.insert(1)\n",
    "\n",
    "# // Inserts 2 to the collection, returns true. Collection now contains [1,1,2].\n",
    "collection.insert(2)\n",
    "\n",
    "# // getRandom should return 1 with the probability 2/3, and returns 2 with the probability 1/3.\n",
    "collection.getRandom()\n",
    "\n",
    "# // Removes 1 from the collection, returns true. Collection now contains [1,2].\n",
    "collection.remove(1)\n",
    "\n",
    "# // getRandom should return 1 and 2 both equally likely.\n",
    "collection.getRandom()"
   ]
  },
  {
   "cell_type": "markdown",
   "metadata": {},
   "source": [
    "### Design Tic Tac Toe\n",
    "Design a Tic-tac-toe game that is played between two players on a n x n grid.\n",
    "\n",
    "You may assume the following rules:\n",
    "\n",
    "A move is guaranteed to be valid and is placed on an empty block.\n",
    "Once a winning condition is reached, no more moves is allowed.\n",
    "A player who succeeds in placing n of their marks in a horizontal, vertical, or diagonal row wins the game."
   ]
  },
  {
   "cell_type": "code",
   "execution_count": 7,
   "metadata": {},
   "outputs": [],
   "source": [
    "class TicTacToe:\n",
    "\n",
    "    def __init__(self, n: int):\n",
    "        \"\"\"\n",
    "        Initialize your data structure here.\n",
    "        \"\"\"\n",
    "        self.rows = [0]*n\n",
    "        self.cols = [0]*n\n",
    "        self.diag1 = 0\n",
    "        self.diag2 = 0\n",
    "        \n",
    "        \n",
    "\n",
    "    def move(self, row: int, col: int, player: int) -> int:\n",
    "        \"\"\"\n",
    "        Player {player} makes a move at ({row}, {col}).\n",
    "        @param row The row of the board.\n",
    "        @param col The column of the board.\n",
    "        @param player The player, can be either 1 or 2.\n",
    "        @return The current winning condition, can be either:\n",
    "                0: No one wins.\n",
    "                1: Player 1 wins.\n",
    "                2: Player 2 wins.\n",
    "        \"\"\"\n",
    "        size = len(self.rows)\n",
    "        add = 1 if player == 1 else -1 \n",
    "        self.rows[row] += add\n",
    "        self.cols[col] += add\n",
    "        if row - col == 0: self.diag1 += add\n",
    "        if row + col == size - 1: self.diag2 += add\n",
    "        \n",
    "        if abs(self.rows[row]) == size or abs(self.cols[col]) == size or \\\n",
    "        abs(self.diag1) == size or abs(self.diag2) == size: return player\n",
    "        \n",
    "        return 0"
   ]
  },
  {
   "cell_type": "markdown",
   "metadata": {},
   "source": [
    "### Verifying an Alien Dictionary\n",
    "In an alien language, surprisingly they also use english lowercase letters, but possibly in a different order. The order of the alphabet is some permutation of lowercase letters.\n",
    "\n",
    "Given a sequence of words written in the alien language, and the order of the alphabet, return true if and only if the given words are sorted lexicographicaly in this alien language.\n",
    "\n",
    " \n",
    "\n",
    "Example 1:\n",
    "\n",
    "Input: words = [\"hello\",\"leetcode\"], order = \"hlabcdefgijkmnopqrstuvwxyz\"\n",
    "Output: true\n",
    "Explanation: As 'h' comes before 'l' in this language, then the sequence is sorted."
   ]
  },
  {
   "cell_type": "code",
   "execution_count": 3,
   "metadata": {},
   "outputs": [
    {
     "data": {
      "text/plain": [
       "True"
      ]
     },
     "execution_count": 3,
     "metadata": {},
     "output_type": "execute_result"
    }
   ],
   "source": [
    "class Solution:\n",
    "    def isAlienSorted(self, words, order: str) -> bool:\n",
    "        hashmap = {}\n",
    "        for i, ch in enumerate(order):\n",
    "            hashmap[ch] = i\n",
    "        \n",
    "        for i in range(1, len(words)):\n",
    "            if not self.inOrder(words[i-1], words[i], hashmap):\n",
    "                return False\n",
    "        return True\n",
    "    \n",
    "    def inOrder(self, first, second, hashmap):\n",
    "        for i in range(min(len(first), len(second))):\n",
    "            if hashmap[first[i]] < hashmap[second[i]]:\n",
    "                return True\n",
    "            if hashmap[first[i]] > hashmap[second[i]]:\n",
    "                return False\n",
    "        return len(first) < len(second)\n",
    "    \n",
    "obj = Solution()\n",
    "words = [\"hello\",\"leetcode\"]; order = \"hlabcdefgijkmnopqrstuvwxyz\"\n",
    "obj.isAlienSorted(words, order)"
   ]
  },
  {
   "cell_type": "markdown",
   "metadata": {},
   "source": [
    "### Degree of an Array\n",
    "Given a non-empty array of non-negative integers nums, the degree of this array is defined as the maximum frequency of any one of its elements.\n",
    "\n",
    "Your task is to find the smallest possible length of a (contiguous) subarray of nums, that has the same degree as nums."
   ]
  },
  {
   "cell_type": "code",
   "execution_count": 5,
   "metadata": {},
   "outputs": [
    {
     "data": {
      "text/plain": [
       "6"
      ]
     },
     "execution_count": 5,
     "metadata": {},
     "output_type": "execute_result"
    }
   ],
   "source": [
    "def findShortestSubArray(nums):\n",
    "    from collections import Counter\n",
    "    freq = Counter()\n",
    "    hashmap = {}; res = 0; degree = 0\n",
    "    for i, num in enumerate(nums):\n",
    "        if num not in hashmap: \n",
    "            hashmap[num] = i\n",
    "        freq[num] += 1\n",
    "        if freq[num] > degree:\n",
    "            degree = freq[num]\n",
    "            res = i-hashmap[num]+1\n",
    "        elif freq[num] == degree:``\n",
    "            res = min(res, i-hashmap[num]+1)\n",
    "    return res\n",
    "\n",
    "nums = [1,2,2,3,1,4,2]\n",
    "findShortestSubArray(nums)"
   ]
  },
  {
   "cell_type": "markdown",
   "metadata": {},
   "source": [
    "### Unique email address\n",
    "* Input: [\"test.email+alex@leetcode.com\",\"test.e.mail+bob.cathy@leetcode.com\",\"testemail+david@lee.tcode.com\"]\n",
    "* Output: 2\n",
    "* Explanation: \"testemail@leetcode.com\" and \"testemail@lee.tcode.com\" actually receive mails\n"
   ]
  },
  {
   "cell_type": "code",
   "execution_count": 9,
   "metadata": {},
   "outputs": [
    {
     "data": {
      "text/plain": [
       "2"
      ]
     },
     "execution_count": 9,
     "metadata": {},
     "output_type": "execute_result"
    }
   ],
   "source": [
    "def numUniqueEmails(emails):\n",
    "    seen = set()\n",
    "    for email in emails:\n",
    "        local_name, domain_name = email.split('@')\n",
    "        local_name = local_name.split('+')[0]\n",
    "        local_name = ''.join(local_name.split('.'))\n",
    "        seen.add(local_name + '@' + domain_name)\n",
    "    return len(seen)\n",
    "\n",
    "emails = [\"test.email+alex@leetcode.com\",\"test.e.mail+bob.cathy@leetcode.com\",\"testemail+david@lee.tcode.com\"]\n",
    "numUniqueEmails(emails)"
   ]
  },
  {
   "cell_type": "markdown",
   "metadata": {},
   "source": [
    "### Search Suggestions System\n",
    "\n",
    "Given an array of strings products and a string searchWord. We want to design a system that suggests at most three product names from products after each character of searchWord is typed. Suggested products should have common prefix with the searchWord. If there are more than three products with a common prefix return the three lexicographically minimums products.\n",
    "\n"
   ]
  },
  {
   "cell_type": "code",
   "execution_count": 10,
   "metadata": {},
   "outputs": [
    {
     "data": {
      "text/plain": [
       "[['mobile', 'moneypot', 'monitor'],\n",
       " ['mobile', 'moneypot', 'monitor'],\n",
       " ['mouse', 'mousepad'],\n",
       " ['mouse', 'mousepad'],\n",
       " ['mouse', 'mousepad']]"
      ]
     },
     "execution_count": 10,
     "metadata": {},
     "output_type": "execute_result"
    }
   ],
   "source": [
    "def suggestedProducts(products, searchWord: str):\n",
    "    import bisect\n",
    "    result = []\n",
    "    products.sort()\n",
    "    prefix = ''\n",
    "    for ch in searchWord:\n",
    "        prefix += ch\n",
    "        i = bisect.bisect_left(products, prefix)\n",
    "        result.append([word for word in products[i:i+3] if word.startswith(prefix)])\n",
    "    return result\n",
    "\n",
    "products = [\"mobile\",\"mouse\",\"moneypot\",\"monitor\",\"mousepad\"]; searchWord = \"mouse\"\n",
    "suggestedProducts(products, searchWord)"
   ]
  },
  {
   "cell_type": "markdown",
   "metadata": {},
   "source": [
    "### Jump Game\n",
    "Given an array of non-negative integers, you are initially positioned at the first index of the array.\n",
    "\n",
    "Each element in the array represents your maximum jump length at that position.\n",
    "\n",
    "Determine if you are able to reach the last index.\n"
   ]
  },
  {
   "cell_type": "code",
   "execution_count": 5,
   "metadata": {},
   "outputs": [
    {
     "data": {
      "text/plain": [
       "False"
      ]
     },
     "execution_count": 5,
     "metadata": {},
     "output_type": "execute_result"
    }
   ],
   "source": [
    "def canJump(nums) -> bool:\n",
    "    max_so_far = 0\n",
    "    for curr_index in range(len(nums)):\n",
    "        if curr_index > max_so_far:\n",
    "            return False\n",
    "        max_jump = nums[curr_index]\n",
    "        max_so_far = max(max_so_far, curr_index + max_jump)\n",
    "        if max_so_far == len(nums)-1:\n",
    "            return True\n",
    "    return True\n",
    "\n",
    "canJump([3,2,1,0,4])"
   ]
  },
  {
   "cell_type": "markdown",
   "metadata": {},
   "source": [
    "### Jump Game II"
   ]
  },
  {
   "cell_type": "code",
   "execution_count": 6,
   "metadata": {},
   "outputs": [
    {
     "data": {
      "text/plain": [
       "2"
      ]
     },
     "execution_count": 6,
     "metadata": {},
     "output_type": "execute_result"
    }
   ],
   "source": [
    "def jump(nums) -> int:\n",
    "    if len(nums) == 1: return 0\n",
    "    curr_end = 0; curr_farthest = 0; num_jumps = 0\n",
    "    for i in range(0,len(nums)):\n",
    "        curr_farthest = max(curr_farthest, nums[i]+i)\n",
    "        if i == curr_end:\n",
    "            curr_end = curr_farthest\n",
    "            num_jumps += 1\n",
    "            if curr_end >= len(nums)-1:\n",
    "                break\n",
    "    return num_jumps\n",
    "\n",
    "jump([2,3,1,1,4])"
   ]
  },
  {
   "cell_type": "markdown",
   "metadata": {},
   "source": [
    "### Count Servers that Communicate\n"
   ]
  },
  {
   "cell_type": "code",
   "execution_count": 3,
   "metadata": {},
   "outputs": [
    {
     "data": {
      "text/plain": [
       "4"
      ]
     },
     "execution_count": 3,
     "metadata": {},
     "output_type": "execute_result"
    }
   ],
   "source": [
    "def countServers(grid) -> int:\n",
    "    import collections\n",
    "    row = collections.Counter()\n",
    "    col = collections.Counter()\n",
    "    ans = 0\n",
    "    for i in range(len(grid)):\n",
    "        for j in range(len(grid[0])):\n",
    "            if grid[i][j]:\n",
    "                row[i] += 1\n",
    "                col[j] += 1\n",
    "\n",
    "    for i in range(len(grid)):\n",
    "        for j in range(len(grid[0])):\n",
    "            if grid[i][j] and (row[i]>1 or col[j]>1):\n",
    "                ans += 1\n",
    "\n",
    "    return ans\n",
    "grid = [[1,1,0,0],[0,0,1,0],[0,0,1,0],[0,0,0,1]]\n",
    "countServers(grid)"
   ]
  },
  {
   "cell_type": "markdown",
   "metadata": {},
   "source": [
    "### Lemonade change\n",
    "At a lemonade stand, each lemonade costs $5. \n",
    "\n",
    "Customers are standing in a queue to buy from you, and order one at a time (in the order specified by bills).\n",
    "\n",
    "Each customer will only buy one lemonade and pay with either a 5, 10, or 20 bill. You must provide the correct change to each customer, so that the net transaction is that the customer pays $5.\n",
    "\n",
    "Note that you don't have any change in hand at first.\n",
    "\n",
    "Return true if and only if you can provide every customer with correct change."
   ]
  },
  {
   "cell_type": "code",
   "execution_count": 5,
   "metadata": {},
   "outputs": [
    {
     "data": {
      "text/plain": [
       "True"
      ]
     },
     "execution_count": 5,
     "metadata": {},
     "output_type": "execute_result"
    }
   ],
   "source": [
    "def lemonadeChange(bills):\n",
    "    import collections\n",
    "    count = collections.Counter()\n",
    "    for bill in bills:\n",
    "        count[bill] += 1\n",
    "        if bill == 10:\n",
    "            if count[5] < 1:\n",
    "                return False\n",
    "            count[5] -= 1\n",
    "        if bill == 20:\n",
    "            if count[10] >= 1 and count[5] >= 1:\n",
    "                count[10] -= 1\n",
    "                count[5] -= 1\n",
    "            elif count[5] >= 3:\n",
    "                count[5] -= 3\n",
    "            else:\n",
    "                return False\n",
    "    return True\n",
    "\n",
    "lemonadeChange([5,5,5,10,20])"
   ]
  },
  {
   "cell_type": "markdown",
   "metadata": {},
   "source": [
    "### Remove Sub-Folders from the Filesystem\n",
    "Given a list of folders, remove all sub-folders in those folders and return in any order the folders after removing.\n",
    "\n",
    "If a folder[i] is located within another folder[j], it is called a sub-folder of it.\n",
    "\n",
    "The format of a path is one or more concatenated strings of the form: / followed by one or more lowercase English letters. For example, /leetcode and /leetcode/problems are valid paths while an empty string and / are not.\n",
    "\n",
    " \n",
    "\n",
    "Example 1:\n",
    "\n",
    "* Input: folder = [\"/a\",\"/a/b\",\"/c/d\",\"/c/d/e\",\"/c/f\"]\n",
    "* Output: [\"/a\",\"/c/d\",\"/c/f\"]\n",
    "* Explanation: Folders \"/a/b/\" is a subfolder of \"/a\" and \"/c/d/e\" is inside of folder \"/c/d\" in our filesystem."
   ]
  },
  {
   "cell_type": "code",
   "execution_count": 1,
   "metadata": {},
   "outputs": [
    {
     "data": {
      "text/plain": [
       "['/a', '/c/d', '/c/f']"
      ]
     },
     "execution_count": 1,
     "metadata": {},
     "output_type": "execute_result"
    }
   ],
   "source": [
    "def removeSubfolders(folder):\n",
    "    folder.sort()\n",
    "    ans = [folder[0]]\n",
    "    for string in folder[1:]:\n",
    "        last_folder = ans[-1]+'/'\n",
    "        if string[:len(last_folder)] == last_folder:\n",
    "            continue\n",
    "        ans.append(string)\n",
    "    return ans\n",
    "\n",
    "folder = [\"/a\",\"/a/b\",\"/c/d\",\"/c/d/e\",\"/c/f\"]\n",
    "removeSubfolders(folder)"
   ]
  },
  {
   "cell_type": "markdown",
   "metadata": {},
   "source": [
    "### Write a program to count the number of days between two dates.\n",
    "\n",
    "The two dates are given as strings, their format is YYYY-MM-DD as shown in the examples.\n"
   ]
  },
  {
   "cell_type": "code",
   "execution_count": 3,
   "metadata": {},
   "outputs": [
    {
     "data": {
      "text/plain": [
       "15"
      ]
     },
     "execution_count": 3,
     "metadata": {},
     "output_type": "execute_result"
    }
   ],
   "source": [
    "class Solution:\n",
    "    def daysBetweenDates(self, date1: str, date2: str) -> int:\n",
    "        days1 = self.helper(int(date1[:4]), int(date1[5:7]), int(date1[8:10]))\n",
    "        days2 = self.helper(int(date2[:4]), int(date2[5:7]), int(date2[8:10]))\n",
    "        return abs(days1 - days2)\n",
    "    \n",
    "    def helper(self, year, month, day):\n",
    "        yd = 365 * (year-1970)\n",
    "        for i in range(1970, year):\n",
    "            yd += 1 if i%4 == 0 else 0\n",
    "    \n",
    "        m = [31, 28, 31, 30, 31, 30, 31, 31, 30, 31, 30, 31]\n",
    "        md = sum(m[:month-1])\n",
    "        if month > 2 and year % 4 == 0 and year != 2100:\n",
    "            md += 1\n",
    "        \n",
    "        return yd + md + day\n",
    "\n",
    "date1 = \"2020-01-15\"; date2 = \"2019-12-31\"\n",
    "obj = Solution()\n",
    "obj.daysBetweenDates(date1, date2)"
   ]
  },
  {
   "cell_type": "markdown",
   "metadata": {},
   "source": [
    "### String Transforms Into Another String\n",
    "Given two strings str1 and str2 of the same length, determine whether you can transform str1 into str2 by doing zero or more conversions.\n",
    "\n",
    "In one conversion you can convert all occurrences of one character in str1 to any other lowercase English character.\n",
    "\n",
    "Return true if and only if you can transform str1 into str2."
   ]
  },
  {
   "cell_type": "code",
   "execution_count": 1,
   "metadata": {},
   "outputs": [
    {
     "data": {
      "text/plain": [
       "True"
      ]
     },
     "execution_count": 1,
     "metadata": {},
     "output_type": "execute_result"
    }
   ],
   "source": [
    "def canConvert(str1: str, str2: str) -> bool:\n",
    "    if str1 == str2: return True\n",
    "    m = {}\n",
    "    for x, y in zip(str1, str2):\n",
    "        if x in m and m[x]!=y:\n",
    "            return False\n",
    "        m[x] = y\n",
    "    return len(set(str2)) < 26\n",
    "\n",
    "canConvert(\"aabcc\", \"ccdee\")"
   ]
  },
  {
   "cell_type": "markdown",
   "metadata": {},
   "source": [
    "### SnapShot Array\n",
    "Implement a SnapshotArray that supports the following interface:\n",
    "\n",
    "* SnapshotArray(int length) initializes an array-like data structure with the given length.  Initially, each element equals 0.\n",
    "* void set(index, val) sets the element at the given index to be equal to val.\n",
    "* int snap() takes a snapshot of the array and returns the snap_id: the total number of times we called snap() minus 1.\n",
    "* int get(index, snap_id) returns the value at the given index, at the time we took the snapshot with the given snap_id"
   ]
  },
  {
   "cell_type": "code",
   "execution_count": 8,
   "metadata": {},
   "outputs": [],
   "source": [
    "class SnapshotArray:\n",
    "\n",
    "    def __init__(self, length: int):\n",
    "        self.id = 0\n",
    "        self.hashmap = collections.defaultdict(dict)\n",
    "        \n",
    "    def set(self, index: int, val: int) -> None:\n",
    "        self.hashmap[self.id][index] = val\n",
    "        \n",
    "    def snap(self) -> int:\n",
    "        self.id += 1\n",
    "        return self.id - 1\n",
    "        \n",
    "    def get(self, index: int, snap_id: int) -> int:\n",
    "        for ID in range(snap_id, -1, -1):\n",
    "            if index in self.hashmap[ID]:\n",
    "                return self.hashmap[ID][index]\n",
    "        return 0"
   ]
  }
 ],
 "metadata": {
  "kernelspec": {
   "display_name": "Python 3",
   "language": "python",
   "name": "python3"
  },
  "language_info": {
   "codemirror_mode": {
    "name": "ipython",
    "version": 3
   },
   "file_extension": ".py",
   "mimetype": "text/x-python",
   "name": "python",
   "nbconvert_exporter": "python",
   "pygments_lexer": "ipython3",
   "version": "3.6.8"
  }
 },
 "nbformat": 4,
 "nbformat_minor": 2
}
