{
 "cells": [
  {
   "cell_type": "markdown",
   "metadata": {},
   "source": [
    "### Summary Ranges\n",
    "Given a sorted integer array without duplicates, return the summary of its ranges.\n",
    "\n",
    "Example 1:\n",
    "\n",
    "* Input:  [0,1,2,4,5,7]\n",
    "* Output: [\"0->2\",\"4->5\",\"7\"]\n",
    "* Explanation: 0,1,2 form a continuous range; 4,5 form a continuous range."
   ]
  },
  {
   "cell_type": "code",
   "execution_count": 3,
   "metadata": {},
   "outputs": [
    {
     "data": {
      "text/plain": [
       "['0->2', '4->5', '7']"
      ]
     },
     "execution_count": 3,
     "metadata": {},
     "output_type": "execute_result"
    }
   ],
   "source": [
    "def summaryRanges(nums):\n",
    "    if len(nums) == 0: return []\n",
    "    if len(nums) == 1: return [str(nums[0])]\n",
    "\n",
    "    ans = []; start = 0; end = 1\n",
    "    while end<len(nums):\n",
    "        if nums[end] == nums[end-1]+1:\n",
    "            end += 1\n",
    "        else:\n",
    "            add_range(nums[start], nums[end-1], ans)\n",
    "            start = end\n",
    "            end += 1\n",
    "    add_range(nums[start], nums[end-1], ans)\n",
    "    return ans\n",
    "\n",
    "def add_range(num1, num2, ans):\n",
    "    if num1 == num2:\n",
    "        string = str(num1)\n",
    "    else:\n",
    "        string = str(num1)+'->'+str(num2)\n",
    "    ans.append(string)\n",
    "    \n",
    "nums = [0,1,2,4,5,7]\n",
    "summaryRanges(nums)"
   ]
  },
  {
   "cell_type": "markdown",
   "metadata": {},
   "source": [
    "### Missing Ranges\n",
    "* Input: nums = [0, 1, 3, 50, 75], lower = 0 and upper = 99,\n",
    "* Output: [\"2\", \"4->49\", \"51->74\", \"76->99\"]\n"
   ]
  },
  {
   "cell_type": "code",
   "execution_count": 6,
   "metadata": {},
   "outputs": [
    {
     "data": {
      "text/plain": [
       "['2', '4->49', '51->74', '76->99']"
      ]
     },
     "execution_count": 6,
     "metadata": {},
     "output_type": "execute_result"
    }
   ],
   "source": [
    "def findMissingRanges(nums, lower, upper):\n",
    "    end = 1; ans = []\n",
    "\n",
    "    if len(nums) == 0:\n",
    "        add_range(lower, upper, ans, True)\n",
    "        return ans\n",
    "\n",
    "    while end<len(nums):\n",
    "        if nums[end] == nums[end-1]+1 or nums[end] == nums[end-1]:\n",
    "            end += 1\n",
    "        else:\n",
    "            add_range(nums[end-1]+1, nums[end]-1, ans, True)\n",
    "            end += 1\n",
    "\n",
    "    if nums[0]!=lower:\n",
    "        add_range(lower, nums[0]-1, ans, False)\n",
    "    if nums[-1]!=upper:\n",
    "        add_range(nums[-1]+1, upper, ans, True)\n",
    "    return ans\n",
    "\n",
    "def add_range(num1, num2, ans, right):\n",
    "    if num1 == num2:\n",
    "        string = str(num1)\n",
    "    else:\n",
    "        string = str(num1)+'->'+str(num2)\n",
    "    if right:\n",
    "        ans.append(string)\n",
    "    else:\n",
    "        ans.insert(0, string)\n",
    "\n",
    "nums = [0, 1, 3, 50, 75]; lower = 0; upper = 99\n",
    "findMissingRanges(nums, lower, upper)"
   ]
  },
  {
   "cell_type": "markdown",
   "metadata": {},
   "source": [
    "### 132 Pattern\n",
    "Given a sequence of n integers a1, a2, ..., an, a 132 pattern is a subsequence ai, aj, ak such that i < j < k and ai < ak < aj. Design an algorithm that takes a list of n numbers as input and checks whether there is a 132 pattern in the list."
   ]
  },
  {
   "cell_type": "code",
   "execution_count": 13,
   "metadata": {},
   "outputs": [
    {
     "data": {
      "text/plain": [
       "True"
      ]
     },
     "execution_count": 13,
     "metadata": {},
     "output_type": "execute_result"
    }
   ],
   "source": [
    "def find132pattern(nums):\n",
    "    minsofar = float('inf')\n",
    "    mins = [None]*len(nums)\n",
    "    for i in range(len(nums)):\n",
    "        minsofar = min(minsofar, nums[i])\n",
    "        mins[i] = minsofar\n",
    "    stack = []\n",
    "    for i in range(len(nums)-1, -1, -1):\n",
    "        while len(stack) and stack[-1] <= mins[i]:\n",
    "            stack.pop()\n",
    "        if len(stack) and nums[i] > stack[-1]:\n",
    "            return True\n",
    "        stack.append(nums[i])\n",
    "    return False\n",
    "\n",
    "nums = [3, 1, 4, 2]\n",
    "find132pattern(nums)"
   ]
  },
  {
   "cell_type": "markdown",
   "metadata": {},
   "source": [
    "###  Design Compressed String Iterator\n",
    "StringIterator iterator = new StringIterator(\"L1e2t1C1o1d1e1\");\n",
    "\n",
    "* iterator.next(); // return 'L'\n",
    "* iterator.next(); // return 'e'\n",
    "* iterator.next(); // return 'e'\n",
    "* iterator.next(); // return 't'\n",
    "* iterator.next(); // return 'C'\n",
    "* iterator.next(); // return 'o'\n",
    "* iterator.next(); // return 'd'\n",
    "* iterator.hasNext(); // return true\n",
    "* iterator.next(); // return 'e'\n",
    "* iterator.hasNext(); // return false\n",
    "* iterator.next(); // return ' '"
   ]
  },
  {
   "cell_type": "code",
   "execution_count": 10,
   "metadata": {},
   "outputs": [],
   "source": [
    "class StringIterator:\n",
    "\n",
    "    def __init__(self, compressedString: str):\n",
    "        self.arr = []\n",
    "        i = 0\n",
    "        while i<len(compressedString):\n",
    "            curr_char = compressedString[i]\n",
    "            i += 1\n",
    "            j = i\n",
    "            while i<len(compressedString) and compressedString[i].isdigit():\n",
    "                i += 1\n",
    "            freq = int(compressedString[j:i])\n",
    "            self.arr.append([curr_char, freq])\n",
    "        self.index = 0\n",
    "        \n",
    "    def next(self) -> str:\n",
    "        if self.hasNext():\n",
    "            char = self.arr[self.index][0]\n",
    "            self.arr[self.index][1] -= 1\n",
    "            if self.arr[self.index][1] == 0:\n",
    "                self.index += 1\n",
    "            return char\n",
    "        return ' '\n",
    "        \n",
    "\n",
    "    def hasNext(self) -> bool:\n",
    "        return self.index < len(self.arr)"
   ]
  },
  {
   "cell_type": "markdown",
   "metadata": {},
   "source": [
    "### Minimum Absolute difference\n",
    "Given an array of distinct integers arr, find all pairs of elements with the minimum absolute difference of any two elements. \n",
    "\n",
    "Return a list of pairs in ascending order(with respect to pairs), each pair [a, b] follows\n",
    "\n",
    "a, b are from arr\n",
    "a < b\n",
    "b - a equals to the minimum absolute difference of any two elements in arr\n",
    "\n",
    "* Input: arr = [4,2,1,3]\n",
    "* Output: [[1,2],[2,3],[3,4]]\n",
    "* Explanation: The minimum absolute difference is 1. List all pairs with difference equal to 1 in ascending order."
   ]
  },
  {
   "cell_type": "code",
   "execution_count": 11,
   "metadata": {},
   "outputs": [
    {
     "data": {
      "text/plain": [
       "[[-14, -10], [19, 23], [23, 27]]"
      ]
     },
     "execution_count": 11,
     "metadata": {},
     "output_type": "execute_result"
    }
   ],
   "source": [
    "def minimumAbsDifference(arr):\n",
    "    arr.sort(); min_diff = float('inf'); ans = []\n",
    "    prev = arr[0]\n",
    "    for num in arr[1:]:\n",
    "        if num - prev < min_diff:\n",
    "            ans = [[prev, num]]\n",
    "            min_diff = num - prev\n",
    "        elif num - prev == min_diff:\n",
    "            ans.append([prev, num])\n",
    "        prev = num\n",
    "    return ans\n",
    "\n",
    "arr = [3,8,-10,23,19,-4,-14,27]\n",
    "minimumAbsDifference(arr)"
   ]
  },
  {
   "cell_type": "markdown",
   "metadata": {},
   "source": [
    "### Most Profit Assigning Work\n",
    "We have jobs: difficulty[i] is the difficulty of the ith job, and profit[i] is the profit of the ith job. \n",
    "\n",
    "Now we have some workers. worker[i] is the ability of the ith worker, which means that this worker can only complete a job with difficulty at most worker[i]. \n",
    "* Input: difficulty = [2,4,6,8,10], profit = [10,20,30,40,50], worker = [4,5,6,7]\n",
    "* Output: 100 \n",
    "* Explanation: Workers are assigned jobs of difficulty [4,4,6,6] and they get profit of [20,20,30,30] seperately."
   ]
  },
  {
   "cell_type": "code",
   "execution_count": 2,
   "metadata": {},
   "outputs": [
    {
     "data": {
      "text/plain": [
       "100"
      ]
     },
     "execution_count": 2,
     "metadata": {},
     "output_type": "execute_result"
    }
   ],
   "source": [
    "def maxProfitAssignment(difficulty, profit, worker):\n",
    "    jobs = sorted(zip(difficulty, profit))\n",
    "    max_profit = i = best = 0\n",
    "    for ability in sorted(worker):\n",
    "        while i<len(jobs) and ability >= jobs[i][0]:\n",
    "            best = max(best, jobs[i][1])\n",
    "            i += 1\n",
    "        max_profit += best\n",
    "    return max_profit\n",
    "\n",
    "difficulty = [2,4,6,8,10]; profit = [10,20,30,40,50]; worker = [4,5,6,7]\n",
    "maxProfitAssignment(difficulty, profit, worker)"
   ]
  },
  {
   "cell_type": "markdown",
   "metadata": {},
   "source": [
    "### Monotonic array\n",
    "An array is monotonic if it is either monotone increasing or monotone decreasing.\n",
    "\n",
    "An array A is monotone increasing if for all i <= j, A[i] <= A[j].  An array A is monotone decreasing if for all i <= j, A[i] >= A[j].\n",
    "\n",
    "Return true if and only if the given array A is monotonic.\n",
    "Example 1:\n",
    "\n",
    "* Input: [1,2,2,3]\n",
    "* Output: true"
   ]
  },
  {
   "cell_type": "code",
   "execution_count": 6,
   "metadata": {},
   "outputs": [
    {
     "data": {
      "text/plain": [
       "True"
      ]
     },
     "execution_count": 6,
     "metadata": {},
     "output_type": "execute_result"
    }
   ],
   "source": [
    "def isMonotonic(a):\n",
    "    asc = True\n",
    "    desc = True\n",
    "    i = 0\n",
    "    while i<len(a)-1:\n",
    "        if a[i+1] > a[i]:\n",
    "            desc = False\n",
    "        elif a[i+1] < a[i]:\n",
    "            asc = False\n",
    "        i += 1\n",
    "    return asc or desc\n",
    "\n",
    "a = [1,2,2,3]\n",
    "isMonotonic(a)"
   ]
  },
  {
   "cell_type": "markdown",
   "metadata": {},
   "source": [
    "### Reverse String II\n",
    "Given a string and an integer k, you need to reverse the first k characters for every 2k characters counting from the start of the string. If there are less than k characters left, reverse all of them. If there are less than 2k but greater than or equal to k characters, then reverse the first k characters and left the other as original.\n",
    "* Example:\n",
    "* Input: s = \"abcdefg\", k = 2\n",
    "* Output: \"bacdfeg\""
   ]
  },
  {
   "cell_type": "code",
   "execution_count": 5,
   "metadata": {},
   "outputs": [
    {
     "data": {
      "text/plain": [
       "'bacdfeg'"
      ]
     },
     "execution_count": 5,
     "metadata": {},
     "output_type": "execute_result"
    }
   ],
   "source": [
    "def reverseStr(s, k):\n",
    "    i = 0; processed = 0; chars = list(s); remaining = len(chars)\n",
    "    while i<len(chars):\n",
    "        if remaining < k:\n",
    "            reverse(i, len(chars)-1, chars)\n",
    "            break\n",
    "        elif k<=remaining < 2*k:\n",
    "            reverse(i, i+k-1, chars)\n",
    "            break\n",
    "        reverse(i, i+k-1, chars)\n",
    "        i += (2*k)\n",
    "        processed += (2*k)\n",
    "        remaining = len(chars) - processed\n",
    "\n",
    "    return ''.join(chars)\n",
    "\n",
    "def reverse(i, j, chars):\n",
    "    while i<j:\n",
    "        chars[i], chars[j] = chars[j], chars[i]\n",
    "        i += 1\n",
    "        j -= 1\n",
    "        \n",
    "s = \"abcdefg\"; k = 2\n",
    "reverseStr(s, k)"
   ]
  },
  {
   "cell_type": "markdown",
   "metadata": {},
   "source": [
    "### Sort Diagonals of a matrix"
   ]
  },
  {
   "cell_type": "code",
   "execution_count": 27,
   "metadata": {},
   "outputs": [
    {
     "data": {
      "text/plain": [
       "[[1, 2, 3, 6], [0, 2, 7, 9], [8, 2, 5, 8], [4, 11, 4, 9]]"
      ]
     },
     "execution_count": 27,
     "metadata": {},
     "output_type": "execute_result"
    }
   ],
   "source": [
    "def sort_diagonals(a):\n",
    "    from collections import defaultdict\n",
    "    hashmap = defaultdict(list)\n",
    "    for i in range(len(a)):\n",
    "        for j in range(len(a)):\n",
    "            hashmap[i-j].append(a[i][j])\n",
    "    \n",
    "    for key, list_values in hashmap.items():\n",
    "        if key>=0:\n",
    "            row = key; col = 0\n",
    "        else:\n",
    "            col = -key; row = 0\n",
    "        for num in sorted(list_values):\n",
    "            a[row][col] = num\n",
    "            row += 1; col += 1\n",
    "    \n",
    "    return a\n",
    "\n",
    "a = [[1,4,3],[2,3,2],[4,1,2]]\n",
    "a = [[9,8,3,6], [4,2,7,9], [11,0,1,2], [4,8,2,5]]\n",
    "sort_diagonals(a)"
   ]
  },
  {
   "cell_type": "markdown",
   "metadata": {},
   "source": [
    "### Sort Borders of a matrix"
   ]
  },
  {
   "cell_type": "code",
   "execution_count": 45,
   "metadata": {},
   "outputs": [],
   "source": [
    "def sort_borders(matrix):\n",
    "    row = col = 0\n",
    "    rows = len(matrix); cols = len(matrix[0])\n",
    "    ans = [[None]*len(matrix[0]) for _ in range(len(matrix))]\n",
    "    while row<rows and col<cols:\n",
    "        border = []\n",
    "        extract_border(row, col, rows, cols, matrix, border)\n",
    "        border.sort()\n",
    "        print(border)\n",
    "        write_border(row, col, rows, cols, ans, border)\n",
    "        row += 1; col += 1; rows -= 1; cols -= 1\n",
    "    return ans\n",
    "\n",
    "def extract_border(row, col, rows, cols, matrix, border):\n",
    "    for i in range(col, cols):\n",
    "        border.append(matrix[row][i])\n",
    "    row += 1\n",
    "\n",
    "    for i in range(row, rows):\n",
    "        border.append(matrix[i][cols-1])\n",
    "    cols -= 1\n",
    "\n",
    "    if row<rows:\n",
    "        for i in range(cols-1, col-1, -1):\n",
    "            border.append(matrix[rows-1][i])\n",
    "        rows -= 1\n",
    "        \n",
    "    if col<cols:\n",
    "        for i in range(rows-1, row-1, -1):\n",
    "            border.append(matrix[i][col])\n",
    "        col += 1\n",
    "        \n",
    "def write_border(row, col, rows, cols, ans, border):\n",
    "    k = 0\n",
    "    for i in range(col, cols):\n",
    "        ans[row][i] = border[k]\n",
    "        k += 1\n",
    "    row += 1\n",
    "\n",
    "    for i in range(row, rows):\n",
    "        ans[i][cols-1] = border[k]\n",
    "        k += 1\n",
    "    cols -= 1\n",
    "\n",
    "    if row<rows:\n",
    "        for i in range(cols-1, col-1, -1):\n",
    "            ans[rows-1][i] = border[k]\n",
    "            k += 1\n",
    "        rows -= 1\n",
    "        \n",
    "    if col<cols:\n",
    "        for i in range(rows-1, row-1, -1):\n",
    "            ans[i][col] = border[k]\n",
    "            k += 1\n",
    "        col += 1"
   ]
  },
  {
   "cell_type": "code",
   "execution_count": 48,
   "metadata": {},
   "outputs": [
    {
     "name": "stdout",
     "output_type": "stream",
     "text": [
      "[2, 2, 3, 4, 4, 5, 6, 8, 8, 9, 9, 11]\n",
      "[0, 1, 2, 7]\n"
     ]
    },
    {
     "data": {
      "text/plain": [
       "[[2, 2, 3, 4], [11, 0, 1, 4], [9, 7, 2, 5], [9, 8, 8, 6]]"
      ]
     },
     "execution_count": 48,
     "metadata": {},
     "output_type": "execute_result"
    }
   ],
   "source": [
    "a = [[9,8,3,6], [4,2,7,9], [11,0,1,2], [4,8,2,5]]\n",
    "sort_borders(a)"
   ]
  }
 ],
 "metadata": {
  "kernelspec": {
   "display_name": "Python 3",
   "language": "python",
   "name": "python3"
  },
  "language_info": {
   "codemirror_mode": {
    "name": "ipython",
    "version": 3
   },
   "file_extension": ".py",
   "mimetype": "text/x-python",
   "name": "python",
   "nbconvert_exporter": "python",
   "pygments_lexer": "ipython3",
   "version": "3.6.8"
  }
 },
 "nbformat": 4,
 "nbformat_minor": 2
}
