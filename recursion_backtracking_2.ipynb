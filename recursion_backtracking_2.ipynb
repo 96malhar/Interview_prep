{
 "cells": [
  {
   "cell_type": "markdown",
   "metadata": {},
   "source": [
    "### Longest Arithmetic Sequence\n",
    "Given an array A of integers, return the length of the longest arithmetic subsequence in A.\n",
    "\n",
    "Recall that a subsequence of A is a list A[i_1], A[i_2], ..., A[i_k] with 0 <= i_1 < i_2 < ... < i_k <= A.length - 1, and that a sequence B is arithmetic if B[i+1] - B[i] are all the same value (for 0 <= i < B.length - 1)."
   ]
  },
  {
   "cell_type": "code",
   "execution_count": 3,
   "metadata": {},
   "outputs": [
    {
     "data": {
      "text/plain": [
       "4"
      ]
     },
     "execution_count": 3,
     "metadata": {},
     "output_type": "execute_result"
    }
   ],
   "source": [
    "## TLE on LC\n",
    "class Solution:\n",
    "    def longestArithSeqLength(self, A) -> int:\n",
    "        self.memo = {}; max_len = 0\n",
    "        for i in range(len(A)):\n",
    "            for j in range(i+1, len(A)):\n",
    "                max_len = max(max_len, 1 + self.helper(j, A[j]-A[i], A))\n",
    "        return max_len\n",
    "    \n",
    "    def helper(self, i, diff, arr):\n",
    "        if (i, diff) in self.memo:\n",
    "            return self.memo[(i,diff)]\n",
    "        max_len = 1\n",
    "        for j in range(i+1, len(arr)):\n",
    "            if arr[j] - arr[i] == diff:\n",
    "                max_len = max(max_len, 1 + self.helper(j, diff, arr))\n",
    "        \n",
    "        self.memo[(i,diff)] = max_len\n",
    "        return max_len\n",
    "\n",
    "obj = Solution()\n",
    "obj.longestArithSeqLength([20,1,15,3,10,5,8])"
   ]
  },
  {
   "cell_type": "markdown",
   "metadata": {},
   "source": [
    "### Course Schedule III\n",
    "There are n different online courses numbered from 1 to n. Each course has some duration(course length) t and closed on dth day. A course should be taken continuously for t days and must be finished before or on the dth day. You will start at the 1st day.\n",
    "\n",
    "Given n online courses represented by pairs (t,d), your task is to find the maximal number of courses that can be taken.\n",
    "\n"
   ]
  },
  {
   "cell_type": "code",
   "execution_count": 8,
   "metadata": {},
   "outputs": [
    {
     "data": {
      "text/plain": [
       "3"
      ]
     },
     "execution_count": 8,
     "metadata": {},
     "output_type": "execute_result"
    }
   ],
   "source": [
    "### TLE on LC\n",
    "class Solution:\n",
    "    def scheduleCourse(self, courses) -> int:\n",
    "        self.memo = {}\n",
    "        courses.sort(key=lambda x:x[1])\n",
    "        return self.helper(0, 0, courses)\n",
    "    \n",
    "    def helper(self, i, curr_day, courses):\n",
    "        if i == len(courses):\n",
    "            return 0\n",
    "        \n",
    "        if (i,curr_day) in self.memo:\n",
    "            return self.memo[(i,curr_day)]\n",
    "        \n",
    "        take = 0\n",
    "        duration = courses[i][0]\n",
    "        end = courses[i][1]\n",
    "        if curr_day + duration <= end:\n",
    "            take = 1 + self.helper(i+1, curr_day + duration, courses)\n",
    "        no_take = self.helper(i+1, curr_day, courses)\n",
    "        \n",
    "        self.memo[(i,curr_day)] = max(take, no_take)\n",
    "        return max(take, no_take)\n",
    "        \n",
    "obj = Solution()\n",
    "obj.scheduleCourse([[100,200],[200,1300],[1000,1250],[2000,3200]])"
   ]
  },
  {
   "cell_type": "markdown",
   "metadata": {},
   "source": [
    "### Minesweeper\n",
    "You are given a 2D char matrix representing the game board. 'M' represents an unrevealed mine, 'E' represents an unrevealed empty square, 'B' represents a revealed blank square that has no adjacent (above, below, left, right, and all 4 diagonals) mines, digit ('1' to '8') represents how many mines are adjacent to this revealed square, and finally 'X' represents a revealed mine.\n",
    "\n",
    "Now given the next click position (row and column indices) among all the unrevealed squares ('M' or 'E'), return the board after revealing this position according to the following rules:\n",
    "\n",
    "* If a mine ('M') is revealed, then the game is over - change it to 'X'.\n",
    "* If an empty square ('E') with no adjacent mines is revealed, then change it to revealed blank ('B') and all of its adjacent unrevealed squares should be revealed recursively.\n",
    "* If an empty square ('E') with at least one adjacent mine is revealed, then change it to a digit ('1' to '8') representing the number of adjacent mines.\n",
    "* Return the board when no more squares will be revealed.\n",
    "\n",
    "**All Clicks will be on unrevealed Squares**"
   ]
  },
  {
   "cell_type": "code",
   "execution_count": 7,
   "metadata": {},
   "outputs": [
    {
     "data": {
      "text/plain": [
       "[['B', '1', 'E', '1', 'B'],\n",
       " ['B', '1', 'M', '1', 'B'],\n",
       " ['B', '1', '1', '1', 'B'],\n",
       " ['B', 'B', 'B', 'B', 'B']]"
      ]
     },
     "execution_count": 7,
     "metadata": {},
     "output_type": "execute_result"
    }
   ],
   "source": [
    "class Solution:\n",
    "    def updateBoard(self, board, click):\n",
    "        # M - unrevealed Mine\n",
    "        # E - unrevealed Empty Square\n",
    "        # B - Revealed Blank Sqaure\n",
    "        # X - revealed Mine\n",
    "        # digit - revealed Square, represents count of adjacent mines\n",
    "        \n",
    "        x, y = click\n",
    "        \n",
    "        if board[x][y] == 'M':\n",
    "            board[x][y] = 'X'\n",
    "        \n",
    "        elif board[x][y] == 'E':\n",
    "            mine_count = 0\n",
    "            directions = [(x+1, y), (x,y+1), (x-1,y), (x,y-1), (x-1,y-1), (x-1,y+1), (x+1,y-1), (x+1,y+1)]\n",
    "            \n",
    "            for i, j in directions:\n",
    "                if 0<=i<len(board) and 0<=j<len(board[0]) and board[i][j] == 'M':\n",
    "                    mine_count += 1\n",
    "                    \n",
    "            if mine_count != 0:\n",
    "                board[x][y] = str(mine_count)\n",
    "                \n",
    "            else:\n",
    "                board[x][y] = 'B'\n",
    "                for i, j in directions:\n",
    "                    if 0<=i<len(board) and 0<=j<len(board[0]):\n",
    "                        self.updateBoard(board, [i,j])\n",
    "                        \n",
    "        return board\n",
    "\n",
    "board = [[\"E\",\"E\",\"E\",\"E\",\"E\"],[\"E\",\"E\",\"M\",\"E\",\"E\"],[\"E\",\"E\",\"E\",\"E\",\"E\"],[\"E\",\"E\",\"E\",\"E\",\"E\"]]\n",
    "click = [3,0]\n",
    "obj = Solution()\n",
    "obj.updateBoard(board, click)"
   ]
  },
  {
   "cell_type": "markdown",
   "metadata": {},
   "source": [
    "### Number of Longest Increasing Subsequences\n",
    "Given an unsorted array of integers, find the number of longest increasing subsequence"
   ]
  },
  {
   "cell_type": "code",
   "execution_count": 4,
   "metadata": {},
   "outputs": [
    {
     "data": {
      "text/plain": [
       "{4: (1, 1), 3: (2, 1), 2: (2, 1), 1: (3, 2), 0: (4, 2)}"
      ]
     },
     "execution_count": 4,
     "metadata": {},
     "output_type": "execute_result"
    }
   ],
   "source": [
    "class Solution:\n",
    "    def findNumberOfLIS(self, nums) -> int:\n",
    "        self.memo = {}\n",
    "        self.max_length = 0\n",
    "        self.ans = 0\n",
    "        for i in range(len(nums)-1, -1, -1):\n",
    "            self.helper(i, nums)\n",
    "        return self.ans\n",
    "        \n",
    "            \n",
    "    def helper(self, i, nums):\n",
    "        if i in self.memo:\n",
    "            return self.memo[i][0]\n",
    "        \n",
    "        max_at_i = 1; count = 0\n",
    "        \n",
    "        for j in range(i+1, len(nums)):\n",
    "            if nums[j] > nums[i]:\n",
    "                max_at_i = max(max_at_i, 1 + self.helper(j, nums))\n",
    "        \n",
    "        for j in range(i+1, len(nums)):\n",
    "            if nums[j] > nums[i] and max_at_i == 1 + self.memo[j][0]:\n",
    "                count += self.memo[j][1]\n",
    "        \n",
    "        count = max(1, count)\n",
    "        \n",
    "        self.memo[i] = (max_at_i, count)\n",
    "        \n",
    "        if max_at_i > self.max_length:\n",
    "            self.max_length = max_at_i\n",
    "            self.ans = count\n",
    "        elif max_at_i == self.max_length:\n",
    "            self.ans += count\n",
    "        \n",
    "obj = Solution()\n",
    "nums = [1,3,5,4,7]\n",
    "obj.findNumberOfLIS(nums)\n",
    "obj.memo"
   ]
  },
  {
   "cell_type": "markdown",
   "metadata": {},
   "source": [
    "### Partition to K equal Subset Sum\n",
    "Given an array of integers nums and a positive integer k, find whether it's possible to divide this array into k non-empty subsets whose sums are all equal."
   ]
  },
  {
   "cell_type": "code",
   "execution_count": 6,
   "metadata": {},
   "outputs": [
    {
     "data": {
      "text/plain": [
       "True"
      ]
     },
     "execution_count": 6,
     "metadata": {},
     "output_type": "execute_result"
    }
   ],
   "source": [
    "class Solution:\n",
    "    def canPartitionKSubsets(self, nums, k: int) -> bool:\n",
    "        nums.sort(reverse = True)\n",
    "        total = sum(nums)\n",
    "        if total % k != 0:\n",
    "            return False\n",
    "        target = total / k\n",
    "        if nums[0] > target:\n",
    "            return False\n",
    "        self.memo = {}\n",
    "        return self.helper(nums, target, 0, 0, k)\n",
    "    \n",
    "    def helper(self, nums, target, curr_sum, hashcode, k):\n",
    "        if (k, hashcode) in self.memo:\n",
    "            return self.memo[(k, hashcode)]\n",
    "        \n",
    "        if k == 1:\n",
    "            return True\n",
    "        \n",
    "        for i in range(len(nums)):\n",
    "            if (hashcode >> i) & 1 == 0:\n",
    "                if curr_sum + nums[i] < target and self.helper(nums, target, curr_sum+nums[i], hashcode|(1<<i), k):\n",
    "                    self.memo[(k, hashcode)] = True\n",
    "                    return True\n",
    "                if curr_sum + nums[i] == target and self.helper(nums, target, 0, hashcode|(1<<i), k-1):\n",
    "                    self.memo[(k, hashcode)] = True\n",
    "                    return True\n",
    "        \n",
    "        self.memo[(k, hashcode)] = False\n",
    "        return False\n",
    "    \n",
    "nums = [4, 3, 2, 3, 5, 2, 1]; k = 4\n",
    "obj = Solution()\n",
    "obj.canPartitionKSubsets(nums, k)"
   ]
  },
  {
   "cell_type": "markdown",
   "metadata": {},
   "source": [
    "### Can I Win\n",
    "In the \"100 game,\" two players take turns adding, to a running total, any integer from 1..10. The player who first causes the running total to reach or exceed 100 wins.\n",
    "\n",
    "What if we change the game so that players cannot re-use integers?\n",
    "\n",
    "For example, two players might take turns drawing from a common pool of numbers of 1..15 without replacement until they reach a total >= 100.\n",
    "\n",
    "Given an integer maxChoosableInteger and another integer desiredTotal, determine if the first player to move can force a win, assuming both players play optimally.\n",
    "\n",
    "You can always assume that maxChoosableInteger will not be larger than 20 and desiredTotal will not be larger than 300."
   ]
  },
  {
   "cell_type": "code",
   "execution_count": 8,
   "metadata": {},
   "outputs": [
    {
     "data": {
      "text/plain": [
       "True"
      ]
     },
     "execution_count": 8,
     "metadata": {},
     "output_type": "execute_result"
    }
   ],
   "source": [
    "class Solution:\n",
    "    def canIWin(self, maxChoosableInteger: int, desiredTotal: int) -> bool:\n",
    "        maxsum = maxChoosableInteger * (maxChoosableInteger + 1) / 2\n",
    "        if maxsum < desiredTotal:\n",
    "            return False\n",
    "        self.memo = {}\n",
    "        return self.helper(maxChoosableInteger, desiredTotal, 0)\n",
    "    \n",
    "    def helper(self, max_num, total, hashcode):    \n",
    "        if hashcode in self.memo:\n",
    "            return self.memo[hashcode]\n",
    "\n",
    "        for i in range(1, max_num+1):\n",
    "            if (hashcode >> i) & 1 == 0:\n",
    "                if i>= total or not self.helper(max_num, total-i, hashcode|(1<<i)):\n",
    "                    self.memo[hashcode] = True\n",
    "                    return True\n",
    "        \n",
    "        self.memo[hashcode] = False\n",
    "        return False\n",
    "\n",
    "obj = Solution()\n",
    "obj.canIWin(10, 12)"
   ]
  },
  {
   "cell_type": "markdown",
   "metadata": {},
   "source": [
    "### Brace Expansion\n",
    "A string S represents a list of words.\n",
    "\n",
    "Each letter in the word has 1 or more options.  If there is one option, the letter is represented as is.  If there is more than one option, then curly braces delimit the options.  For example, \"{a,b,c}\" represents options [\"a\", \"b\", \"c\"].\n",
    "\n",
    "For example, \"{a,b,c}d{e,f}\" represents the list [\"ade\", \"adf\", \"bde\", \"bdf\", \"cde\", \"cdf\"].\n",
    "\n",
    "Return all words that can be formed in this manner, in lexicographical order."
   ]
  },
  {
   "cell_type": "code",
   "execution_count": 5,
   "metadata": {},
   "outputs": [
    {
     "data": {
      "text/plain": [
       "['acdf', 'acef', 'bcdf', 'bcef']"
      ]
     },
     "execution_count": 5,
     "metadata": {},
     "output_type": "execute_result"
    }
   ],
   "source": [
    "class Solution:\n",
    "    def expand(self, S: str):\n",
    "        word_list = []; cand_list = []; brace_open = False\n",
    "        for ch in S:\n",
    "            if ch.isalpha():\n",
    "                if not brace_open:\n",
    "                    word_list.append([ch])\n",
    "                else:\n",
    "                    cand_list.append(ch)\n",
    "            elif ch == '{':\n",
    "                brace_open = True\n",
    "            elif ch == '}':\n",
    "                brace_open = False\n",
    "                word_list.append(cand_list)\n",
    "                cand_list = []\n",
    "        \n",
    "        self.ans = []\n",
    "        self.helper(0, word_list, '')\n",
    "        return sorted(self.ans)\n",
    "    \n",
    "    def helper(self, i, word_list, string):\n",
    "        if len(string) == len(word_list):\n",
    "            self.ans.append(string)\n",
    "            return \n",
    "        \n",
    "        for ch in word_list[i]:\n",
    "            self.helper(i+1, word_list, string + ch)\n",
    "        \n",
    "Solution().expand(\"{a,b}c{d,e}f\")"
   ]
  },
  {
   "cell_type": "markdown",
   "metadata": {},
   "source": [
    "### Nested List Weight Sum\n",
    "Given a nested list of integers, return the sum of all integers in the list weighted by their depth.\n",
    "\n",
    "Each element is either an integer, or a list -- whose elements may also be integers or other lists."
   ]
  },
  {
   "cell_type": "code",
   "execution_count": 16,
   "metadata": {},
   "outputs": [
    {
     "data": {
      "text/plain": [
       "27"
      ]
     },
     "execution_count": 16,
     "metadata": {},
     "output_type": "execute_result"
    }
   ],
   "source": [
    "class Solution:\n",
    "    def depthSum(self, nestedList) -> int:\n",
    "        self.ans = 0\n",
    "        self.flatten(nestedList, 1)\n",
    "        return self.ans\n",
    "    \n",
    "    def flatten(self, nlist, i):\n",
    "        for elem in nlist:\n",
    "            if type(elem) == int:\n",
    "                self.ans += elem * i\n",
    "            else:\n",
    "                self.flatten(elem, i+1)\n",
    "    \n",
    "Solution().depthSum([1,[4,[6]]])"
   ]
  },
  {
   "cell_type": "markdown",
   "metadata": {},
   "source": [
    "### Nested List Weight Sum II\n",
    "Different from the previous question where weight is increasing from root to leaf, now the weight is defined from bottom up. i.e., the leaf level integers have weight 1, and the root level integers have the largest weight."
   ]
  },
  {
   "cell_type": "code",
   "execution_count": 25,
   "metadata": {},
   "outputs": [
    {
     "data": {
      "text/plain": [
       "17"
      ]
     },
     "execution_count": 25,
     "metadata": {},
     "output_type": "execute_result"
    }
   ],
   "source": [
    "def depthSumInverse(nestedList) -> int:\n",
    "    queue = [nestedList]; weighted = unweighted = 0\n",
    "    while queue:\n",
    "        size = len(queue)\n",
    "        for _ in range(size):\n",
    "            nlist = queue.pop(0)\n",
    "            for elem in nlist:\n",
    "                if type(elem) == int:\n",
    "                    unweighted += elem\n",
    "                else:\n",
    "                    queue.append(elem)\n",
    "        weighted += unweighted\n",
    "    return weighted\n",
    "\n",
    "depthSumInverse([1,[4,[6]]])"
   ]
  },
  {
   "cell_type": "markdown",
   "metadata": {},
   "source": [
    "### Remove Invalid Parenthesis\n",
    "Remove the minimum number of invalid parentheses in order to make the input string valid. Return all possible results.\n",
    "\n",
    "Note: The input string may contain letters other than the parentheses ( and )."
   ]
  },
  {
   "cell_type": "code",
   "execution_count": 6,
   "metadata": {},
   "outputs": [
    {
     "data": {
      "text/plain": [
       "['(a)()()', '(a)(())', '(a())()', '(a()())', '(a(()))']"
      ]
     },
     "execution_count": 6,
     "metadata": {},
     "output_type": "execute_result"
    }
   ],
   "source": [
    "class Solution:\n",
    "    def removeInvalidParentheses(self, s: str):\n",
    "        bal = 0; close_r = 0\n",
    "        for ch in s:\n",
    "            if ch == '(': bal += 1\n",
    "            elif ch == ')':\n",
    "                if bal > 0: bal -= 1\n",
    "                else: close_r += 1\n",
    "                    \n",
    "        open_r = bal\n",
    "        self.ans = []\n",
    "        self.helper(0, 0, open_r, close_r, s, '')\n",
    "        return self.ans\n",
    "\n",
    "    def helper(self, i, bal, open_r, close_r, s, string):\n",
    "        if bal < 0:\n",
    "            return\n",
    "        \n",
    "        if i == len(s):\n",
    "            if open_r == 0 and close_r == 0:\n",
    "                self.ans.append(string)\n",
    "            return\n",
    "        \n",
    "        if s[i] == '(':\n",
    "            j = 1\n",
    "            while i+j < len(s) and s[i+j] == '(': j += 1\n",
    "            self.helper(i+j, bal+j, open_r, close_r, s, string+'('*j)\n",
    "            if open_r > 0:\n",
    "                self.helper(i+1, bal, open_r-1, close_r, s, string)\n",
    "        \n",
    "        if s[i] == ')':\n",
    "            j = 1\n",
    "            while i+j<len(s) and s[i+j] == ')': j += 1\n",
    "            self.helper(i+j, bal-j, open_r, close_r, s, string+')'*j)\n",
    "            if close_r > 0:\n",
    "                self.helper(i+1, bal, open_r, close_r-1, s, string)\n",
    "        \n",
    "        else:\n",
    "            self.helper(i+1, bal, open_r, close_r, s, string+s[i])\n",
    "    \n",
    "s = \"(a)())()))\"\n",
    "Solution().removeInvalidParentheses(s)"
   ]
  },
  {
   "cell_type": "markdown",
   "metadata": {},
   "source": [
    "### Minimum Distance to Type a Word Using Two Fingers\n",
    "You have a keyboard layout as shown above in the XY plane, where each English uppercase letter is located at some coordinate, for example, the letter A is located at coordinate (0,0), the letter B is located at coordinate (0,1), the letter P is located at coordinate (2,3) and the letter Z is located at coordinate (4,1).\n",
    "\n",
    "Given the string word, return the minimum total distance to type such string using only two fingers. The distance between coordinates (x1,y1) and (x2,y2) is |x1 - x2| + |y1 - y2|. \n",
    "\n",
    "Note that the initial positions of your two fingers are considered free so don't count towards your total distance, also your two fingers do not have to start at the first letter or the first two letters."
   ]
  },
  {
   "cell_type": "code",
   "execution_count": 5,
   "metadata": {},
   "outputs": [
    {
     "data": {
      "text/plain": [
       "3"
      ]
     },
     "execution_count": 5,
     "metadata": {},
     "output_type": "execute_result"
    }
   ],
   "source": [
    "class Solution:\n",
    "    def minimumDistance(self, word: str) -> int:\n",
    "        self.index = {}\n",
    "        keyboard = ['ABCDEF', 'GHIJKL', 'MNOPQR', 'STUVWX', 'YZ']\n",
    "        for i in range(len(keyboard)):\n",
    "            for j in range(len(keyboard[i])):\n",
    "                self.index[keyboard[i][j]] = (i,j)\n",
    "        self.memo = {}\n",
    "        \n",
    "        return self.helper(0, None, None, word)\n",
    "    \n",
    "    def helper(self, i, p1, p2, word):\n",
    "        if i == len(word):\n",
    "            return 0\n",
    "        \n",
    "        if (i, p1, p2) in self.memo:\n",
    "            return self.memo[(i, p1, p2)]\n",
    "        \n",
    "        #Press finger 1\n",
    "        dist = self.manhattan_dist(p1, self.index[word[i]])\n",
    "        pressed_1 = dist + self.helper(i+1, self.index[word[i]], p2, word)\n",
    "        \n",
    "        #press finger 2\n",
    "        dist = self.manhattan_dist(p2, self.index[word[i]])\n",
    "        pressed_2 = dist+ self.helper(i+1, p1, self.index[word[i]], word)\n",
    "        \n",
    "        self.memo[(i,p1, p2)] = min(pressed_1, pressed_2)\n",
    "        return min(pressed_1, pressed_2)\n",
    "    \n",
    "    def manhattan_dist(self, x, y):\n",
    "        if not x or not y:\n",
    "            return 0\n",
    "        return abs(x[0]-y[0]) + abs(x[1]-y[1])\n",
    "\n",
    "obj = Solution()\n",
    "obj.minimumDistance('CAKE')        "
   ]
  },
  {
   "cell_type": "markdown",
   "metadata": {},
   "source": [
    "### Minimum Swaps To Make Sequences Increasing\n",
    "We have two integer sequences A and B of the same non-zero length.\n",
    "\n",
    "We are allowed to swap elements A[i] and B[i].  Note that both elements are in the same index position in their respective sequences.\n",
    "\n",
    "At the end of some number of swaps, A and B are both strictly increasing.  (A sequence is strictly increasing if and only if A[0] < A[1] < A[2] <..< A[A.length - 1].)\n",
    "\n",
    "Given A and B, return the minimum number of swaps to make both sequences strictly increasing.  It is guaranteed that the given input always makes it possible."
   ]
  },
  {
   "cell_type": "code",
   "execution_count": 6,
   "metadata": {},
   "outputs": [
    {
     "data": {
      "text/plain": [
       "1"
      ]
     },
     "execution_count": 6,
     "metadata": {},
     "output_type": "execute_result"
    }
   ],
   "source": [
    "class Solution:\n",
    "    def minSwap(self, A, B) -> int:\n",
    "        self.memo = {}\n",
    "        return self.helper(0, -float('inf'), -float('inf'), A, B, False)\n",
    "    \n",
    "    def helper(self, i, prev_a, prev_b, a, b, swap):\n",
    "        if i == len(a):\n",
    "            return 0\n",
    "        \n",
    "        if (i, swap) in self.memo:\n",
    "            return self.memo[(i, swap)]\n",
    "        \n",
    "        make_swap = no_swap = float('inf')\n",
    "        \n",
    "        #make_swap\n",
    "        if b[i] > prev_a and a[i] > prev_b:\n",
    "            make_swap = 1 + self.helper(i+1, b[i], a[i], a, b, True)\n",
    "        \n",
    "        #no swap\n",
    "        if a[i] > prev_a and b[i] > prev_b:\n",
    "            no_swap = self.helper(i+1, a[i], b[i], a, b, False)\n",
    "        \n",
    "        self.memo[(i, swap)] = min(make_swap, no_swap)\n",
    "        return min(make_swap, no_swap)\n",
    "\n",
    "A = [1,3,5,4]; B = [1,2,3,7]\n",
    "Solution().minSwap(A, B)"
   ]
  },
  {
   "cell_type": "markdown",
   "metadata": {},
   "source": [
    "### Cheapest Flights within K stops\n",
    "There are n cities connected by m flights. Each flight starts from city u and arrives at v with a price w.\n",
    "\n",
    "Now given all the cities and flights, together with starting city src and the destination dst, your task is to find the cheapest price from src to dst with up to k stops. If there is no such route, output -1."
   ]
  },
  {
   "cell_type": "code",
   "execution_count": 7,
   "metadata": {},
   "outputs": [
    {
     "data": {
      "text/plain": [
       "6"
      ]
     },
     "execution_count": 7,
     "metadata": {},
     "output_type": "execute_result"
    }
   ],
   "source": [
    "from collections import defaultdict\n",
    "class Solution:\n",
    "    def findCheapestPrice(self, n: int, flights, src: int, dst: int, K: int) -> int:\n",
    "        self.graph = defaultdict(list)\n",
    "        for x, y, cost in flights:\n",
    "            self.graph[x].append((y, cost))\n",
    "        self.memo = {}\n",
    "        ans = self.helper(src, dst, K+1)\n",
    "        return ans if ans!= float('inf') else -1\n",
    "    \n",
    "    def helper(self, curr_city, dst, k):\n",
    "        if k<0:\n",
    "            return float('inf')\n",
    "        if curr_city == dst:\n",
    "            return 0\n",
    "        \n",
    "        if (curr_city, k) in self.memo:\n",
    "            return self.memo[(curr_city, k)]\n",
    "        \n",
    "        min_cost = float('inf')\n",
    "        for next_city, cost in self.graph[curr_city]:\n",
    "            min_cost = min(min_cost, cost + self.helper(next_city, dst, k-1))\n",
    "        \n",
    "        self.memo[(curr_city, k)] = min_cost\n",
    "        return min_cost\n",
    "\n",
    "n = 4; flights = [[0,1,1],[0,2,5],[1,2,1],[2,3,1]]; src = 0; dst = 3; K = 1\n",
    "Solution().findCheapestPrice(n, flights, src, dst, K)"
   ]
  },
  {
   "cell_type": "markdown",
   "metadata": {},
   "source": [
    "### Campus Bikes II\n",
    "On a campus represented as a 2D grid, there are N workers and M bikes, with N <= M. Each worker and bike is a 2D coordinate on this grid.\n",
    "\n",
    "We assign one unique bike to each worker so that the sum of the Manhattan distances between each worker and their assigned bike is minimized.\n",
    "\n",
    "The Manhattan distance between two points p1 and p2 is Manhattan(p1, p2) = |p1.x - p2.x| + |p1.y - p2.y|.\n",
    "\n",
    "Return the minimum possible sum of Manhattan distances between each worker and their assigned bike."
   ]
  },
  {
   "cell_type": "code",
   "execution_count": 33,
   "metadata": {},
   "outputs": [
    {
     "data": {
      "text/plain": [
       "4"
      ]
     },
     "execution_count": 33,
     "metadata": {},
     "output_type": "execute_result"
    }
   ],
   "source": [
    "class Solution:\n",
    "    def assignBikes(self, workers, bikes) -> int:\n",
    "        self.memo = {}\n",
    "        return self.helper(0, 0, workers, bikes)\n",
    "    \n",
    "    def helper(self, i, hashcode, workers, bikes):\n",
    "        if i == len(workers):\n",
    "            return 0\n",
    "        \n",
    "        if (i, hashcode) in self.memo:\n",
    "            return self.memo[(i, hashcode)]\n",
    "        \n",
    "        min_dist = float('inf')\n",
    "        for j in range(len(bikes)):\n",
    "            if (hashcode >> j) & 1 == 0:\n",
    "                dist = self.get_dist(workers[i], bikes[j])\n",
    "                min_dist = min(min_dist, dist + self.helper(i+1, hashcode|(1<<j), workers, bikes))\n",
    "        \n",
    "        self.memo[(i, hashcode)] = min_dist\n",
    "        return min_dist\n",
    "    \n",
    "    def get_dist(self, w, b):\n",
    "        return abs(w[0]-b[0]) + abs(w[1]-b[1])\n",
    "\n",
    "workers = [[0,0],[1,1],[2,0]]; bikes = [[1,0],[2,2],[2,1]]\n",
    "Solution().assignBikes(workers, bikes)"
   ]
  },
  {
   "cell_type": "markdown",
   "metadata": {},
   "source": [
    "### Bomb Enemy\n",
    "Given a 2D grid, each cell is either a wall 'W', an enemy 'E' or empty '0' (the number zero), return the maximum enemies you can kill using one bomb.\n",
    "The bomb kills all the enemies in the same row and column from the planted point until it hits the wall since the wall is too strong to be destroyed.\n",
    "Note: You can only put the bomb at an empty cell."
   ]
  },
  {
   "cell_type": "code",
   "execution_count": 10,
   "metadata": {},
   "outputs": [
    {
     "data": {
      "text/plain": [
       "3"
      ]
     },
     "execution_count": 10,
     "metadata": {},
     "output_type": "execute_result"
    }
   ],
   "source": [
    "class Solution:\n",
    "    def maxKilledEnemies(self, grid) -> int:\n",
    "        # right, down, up, left\n",
    "        self.dir = {0:lambda x,y: (x,y+1), 1:lambda x,y: (x+1,y), 2:lambda x,y: (x-1,y), 3:lambda x,y: (x,y-1)}\n",
    "        self.memo = {}\n",
    "        \n",
    "        ans = 0\n",
    "        for i in range(len(grid)):\n",
    "            for j in range(len(grid[0])):\n",
    "                if grid[i][j] == '0':\n",
    "                    num_killed = 0\n",
    "                    for d in range(4):\n",
    "                        num_killed += self.helper(i, j, d, grid)\n",
    "                    ans = max(ans, num_killed)\n",
    "        return ans\n",
    "    \n",
    "    def helper(self, i, j, d, grid):\n",
    "        if i<0 or i>=len(grid) or j<0 or j>=len(grid[0]) or grid[i][j] == 'W':\n",
    "            return 0\n",
    "        \n",
    "        if (i, j, d) in self.memo:\n",
    "            return self.memo[(i, j, d)]\n",
    "        \n",
    "        num_killed = 0\n",
    "        nx, ny = self.dir[d](i, j)\n",
    "        \n",
    "        if grid[i][j] == 'E':\n",
    "            num_killed = 1 + self.helper(nx, ny, d, grid)\n",
    "        else:\n",
    "            num_killed = self.helper(nx, ny, d, grid)\n",
    "        \n",
    "        self.memo[(i, j, d)] = num_killed\n",
    "        return num_killed\n",
    "            \n",
    "        \n",
    "grid = [[\"0\",\"E\",\"0\",\"0\"],[\"E\",\"0\",\"W\",\"E\"],[\"0\",\"E\",\"0\",\"0\"]]\n",
    "Solution().maxKilledEnemies(grid)"
   ]
  },
  {
   "cell_type": "markdown",
   "metadata": {},
   "source": [
    "### Longest Length of Fibonacci Sequence\n",
    "A sequence X_1, X_2, ..., X_n is fibonacci-like if:\n",
    "\n",
    "* n >= 3\n",
    "* X_i + X_{i+1} = X_{i+2} for all i + 2 <= n\n",
    "\n",
    "Given a **strictly increasing** array A of positive integers forming a sequence, find the length of the longest fibonacci-like subsequence of A.  If one does not exist, return 0."
   ]
  },
  {
   "cell_type": "code",
   "execution_count": 3,
   "metadata": {},
   "outputs": [
    {
     "data": {
      "text/plain": [
       "5"
      ]
     },
     "execution_count": 3,
     "metadata": {},
     "output_type": "execute_result"
    }
   ],
   "source": [
    "class Solution:\n",
    "    def lenLongestFibSubseq(self, nums) -> int:\n",
    "        self.inverted_index = {num : i for i, num in enumerate(nums)}\n",
    "        self.memo = {}\n",
    "        ans = 0\n",
    "        for i in range(len(nums)-2):\n",
    "            for j in range(i+1, len(nums)):\n",
    "                if nums[i] + nums[j] in self.inverted_index:\n",
    "                    ans = max(ans, 2 + self.helper(i, j, nums))\n",
    "        return ans if ans >= 3 else 0\n",
    "    \n",
    "    def helper(self, i, j, nums):\n",
    "        if (i, j) in self.memo:\n",
    "            return self.memo[(i,j)]\n",
    "        \n",
    "        length = 1\n",
    "        k = self.inverted_index[nums[i]+nums[j]]\n",
    "        \n",
    "        if nums[j] + nums[k] in self.inverted_index:\n",
    "            length += self.helper(j, k, nums)\n",
    "            \n",
    "        self.memo[(i, j)] = length\n",
    "        return length\n",
    "\n",
    "nums = [1,2,3,4,5,6,7,8]\n",
    "Solution().lenLongestFibSubseq(nums)"
   ]
  },
  {
   "cell_type": "markdown",
   "metadata": {},
   "source": [
    "### Longest String Chain\n",
    "Given a list of words, each word consists of English lowercase letters.\n",
    "\n",
    "Let's say word1 is a predecessor of word2 if and only if we can add exactly one letter anywhere in word1 to make it equal to word2.  For example, \"abc\" is a predecessor of \"abac\".\n",
    "\n",
    "A word chain is a sequence of words [word_1, word_2, ..., word_k] with k >= 1, where word_1 is a predecessor of word_2, word_2 is a predecessor of word_3, and so on.\n",
    "\n",
    "Return the longest possible length of a word chain with words chosen from the given list of words."
   ]
  },
  {
   "cell_type": "code",
   "execution_count": 4,
   "metadata": {},
   "outputs": [
    {
     "data": {
      "text/plain": [
       "4"
      ]
     },
     "execution_count": 4,
     "metadata": {},
     "output_type": "execute_result"
    }
   ],
   "source": [
    "class Solution:\n",
    "    def longestStrChain(self, words) -> int:\n",
    "        self.memo = {}\n",
    "        ans = 0\n",
    "        word_set = set(words)\n",
    "        \n",
    "        for word in words:\n",
    "            ans = max(ans, self.helper(word, word_set))\n",
    "        \n",
    "        return ans\n",
    "    \n",
    "    def helper(self, word, word_set):\n",
    "        if word in self.memo:\n",
    "            return self.memo[word]\n",
    "        \n",
    "        chain_length = 1\n",
    "        for j in range(len(word)):\n",
    "            new_word = word[:j] + word[j+1:]\n",
    "            if new_word in word_set:\n",
    "                chain_length = max(chain_length, 1 + self.helper(new_word, word_set))\n",
    "        \n",
    "        self.memo[word] = chain_length\n",
    "        return chain_length\n",
    "\n",
    "Solution().longestStrChain([\"a\",\"b\",\"ba\",\"bca\",\"bda\",\"bdca\"])"
   ]
  },
  {
   "cell_type": "markdown",
   "metadata": {},
   "source": [
    "### Knight Dialer\n",
    "This time, we place our chess knight on any numbered key of a phone pad (indicated above), and the knight makes N-1 hops.  Each hop must be from one key to another numbered key.\n",
    "\n",
    "Each time it lands on a key (including the initial placement of the knight), it presses the number of that key, pressing N digits total.\n",
    "\n",
    "How many distinct numbers can you dial in this manner?\n",
    "\n",
    "Since the answer may be large, output the answer modulo 10^9 + 7."
   ]
  },
  {
   "cell_type": "code",
   "execution_count": 8,
   "metadata": {},
   "outputs": [
    {
     "data": {
      "text/plain": [
       "46"
      ]
     },
     "execution_count": 8,
     "metadata": {},
     "output_type": "execute_result"
    }
   ],
   "source": [
    "class Solution:\n",
    "    def knightDialer(self, N: int) -> int:\n",
    "        self.memo = {}; self.mod = 10**9 + 7\n",
    "        self.graph = [[4,6], [6,8], [7,9], [4,8], [3,9,0], [], [1,7,0], [2,6], [1,3], [2,4]]\n",
    "        ans = 0\n",
    "        for i in range(10):\n",
    "            ans += self.helper(i, N-1)\n",
    "        return ans % (10**9 + 7)\n",
    "    \n",
    "    def helper(self, num, num_jumps):\n",
    "        if num_jumps == 0:\n",
    "            return 1\n",
    "        \n",
    "        if (num, num_jumps) in self.memo:\n",
    "            return self.memo[(num, num_jumps)]\n",
    "        \n",
    "        total_pressed = 0\n",
    "        for new_num in self.graph[num]:\n",
    "            total_pressed += self.helper(new_num, num_jumps-1)\n",
    "        \n",
    "        self.memo[(num, num_jumps)] = total_pressed % self.mod\n",
    "        return total_pressed % self.mod\n",
    "        \n",
    "Solution().knightDialer(3)"
   ]
  },
  {
   "cell_type": "markdown",
   "metadata": {},
   "source": [
    "### Out Of Boundary paths\n",
    "There is an m by n grid with a ball. Given the start coordinate (i,j) of the ball, you can move the ball to adjacent cell or cross the grid boundary in four directions (up, down, left, right). However, you can at most move N times. Find out the number of paths to move the ball out of grid boundary. The answer may be very large, return it after mod 10^9 + 7."
   ]
  },
  {
   "cell_type": "code",
   "execution_count": 7,
   "metadata": {},
   "outputs": [
    {
     "data": {
      "text/plain": [
       "6"
      ]
     },
     "execution_count": 7,
     "metadata": {},
     "output_type": "execute_result"
    }
   ],
   "source": [
    "class Solution:\n",
    "    def findPaths(self, m: int, n: int, N: int, i: int, j: int) -> int:\n",
    "        self.mod = 10**9 + 7\n",
    "        self.memo = {}\n",
    "        return self.helper(m, n, N, i, j)\n",
    "    \n",
    "    def helper(self, m, n, N, i, j):\n",
    "        if N < 0:\n",
    "            return 0\n",
    "        \n",
    "        if i<0 or i>=m or j<0 or j>=n:\n",
    "            return 1\n",
    "        \n",
    "        if (i,j,N) in self.memo:\n",
    "            return self.memo[(i,j,N)]\n",
    "         \n",
    "        ways = 0\n",
    "        for x, y in [(i+1,j), (i,j+1), (i-1,j), (i,j-1)]:\n",
    "            ways += self.helper(m, n, N-1, x, y) % self.mod\n",
    "        \n",
    "        self.memo[(i,j,N)] = ways % self.mod\n",
    "        return ways % self.mod\n",
    "        \n",
    "m = 2; n = 2; N = 2; i = 0; j = 0\n",
    "Solution().findPaths(m, n, N, i, j)"
   ]
  },
  {
   "cell_type": "markdown",
   "metadata": {},
   "source": [
    "### Knight Probability in Chessboard\n",
    "On an NxN chessboard, a knight starts at the r-th row and c-th column and attempts to make exactly K moves. The rows and columns are 0 indexed, so the top-left square is (0, 0), and the bottom-right square is (N-1, N-1).\n",
    "\n",
    "A chess knight has 8 possible moves it can make, as illustrated below. Each move is two squares in a cardinal direction, then one square in an orthogonal direction."
   ]
  },
  {
   "cell_type": "code",
   "execution_count": 15,
   "metadata": {},
   "outputs": [
    {
     "data": {
      "text/plain": [
       "0.0625"
      ]
     },
     "execution_count": 15,
     "metadata": {},
     "output_type": "execute_result"
    }
   ],
   "source": [
    "class Solution:\n",
    "    def knightProbability(self, N: int, K: int, r: int, c: int) -> float:\n",
    "        self.dir = [(-2,1), (-1,2), (1,2), (2,1), (2,-1), (1,-2), (-1,-2), (-2,-1)]\n",
    "        self.memo = {}\n",
    "        return self.helper(N, K, r, c)\n",
    "    \n",
    "    def helper(self, N, K, i, j):\n",
    "        if i<0 or i>=N or j<0 or j>=N:\n",
    "            return 0\n",
    "        \n",
    "        if K == 0:\n",
    "            return 1\n",
    "        \n",
    "        if (i,j,K) in self.memo:\n",
    "            return self.memo[(i,j,K)]\n",
    "        \n",
    "        prob = 0\n",
    "        for d0, d1 in self.dir:\n",
    "            prob += 0.125 * self.helper(N, K-1, i+d0, j+d1)\n",
    "        \n",
    "        self.memo[(i,j,K)] = prob\n",
    "        return prob\n",
    "\n",
    "obj = Solution()\n",
    "obj.knightProbability(3, 2, 0, 0)"
   ]
  },
  {
   "cell_type": "markdown",
   "metadata": {},
   "source": [
    "### Expression Add Operators\n",
    "Given a string that contains only digits 0-9 and a target value, return all possibilities to add binary operators (not unary) +, -, or * between the digits so they evaluate to the target value."
   ]
  },
  {
   "cell_type": "code",
   "execution_count": 7,
   "metadata": {},
   "outputs": [
    {
     "data": {
      "text/plain": [
       "['1+2+3', '1*2*3']"
      ]
     },
     "execution_count": 7,
     "metadata": {},
     "output_type": "execute_result"
    }
   ],
   "source": [
    "class Solution:\n",
    "    def addOperators(self, num: str, target: int):\n",
    "        self.res = []\n",
    "        self.helper(num, target, 0, 0, '')\n",
    "        return self.res\n",
    "    \n",
    "    def helper(self, num, target, val, prev, path):\n",
    "        if not num:\n",
    "            if val == target:\n",
    "                self.res.append(path)\n",
    "            return\n",
    "        \n",
    "        for i in range(len(num)):\n",
    "            curr = num[:i+1]\n",
    "            if len(curr) > 1 and curr[0] == '0':\n",
    "                return\n",
    "            curr = int(curr)\n",
    "            \n",
    "            if path == '':\n",
    "                self.helper(num[i+1:], target, curr, curr, str(curr))\n",
    "            \n",
    "            else:\n",
    "                self.helper(num[i+1:], target, val+curr, curr, path +'+'+str(curr))\n",
    "                self.helper(num[i+1:], target, val-curr, -curr, path+'-'+str(curr))\n",
    "                self.helper(num[i+1:], target, val-prev+prev*curr, prev*curr, path+'*'+str(curr))\n",
    "    \n",
    "obj = Solution()\n",
    "num = \"123\"; target = 6\n",
    "obj.addOperators(num, target)"
   ]
  },
  {
   "cell_type": "markdown",
   "metadata": {},
   "source": [
    "### Strobogrammatic Number II\n",
    "A strobogrammatic number is a number that looks the same when rotated 180 degrees (looked at upside down).\n",
    "\n",
    "Find all strobogrammatic numbers that are of length = n."
   ]
  },
  {
   "cell_type": "code",
   "execution_count": 6,
   "metadata": {},
   "outputs": [
    {
     "data": {
      "text/plain": [
       "['101',\n",
       " '111',\n",
       " '181',\n",
       " '609',\n",
       " '619',\n",
       " '689',\n",
       " '906',\n",
       " '916',\n",
       " '986',\n",
       " '808',\n",
       " '818',\n",
       " '888']"
      ]
     },
     "execution_count": 6,
     "metadata": {},
     "output_type": "execute_result"
    }
   ],
   "source": [
    "class Solution:\n",
    "    def findStrobogrammatic(self, n: int):\n",
    "        self.res = []\n",
    "        self.pairs = [('0', '0'), ('1', '1'), ('6', '9'), ('9', '6'), ('8', '8')]\n",
    "        self.single = ['0', '1', '8']\n",
    "        self.helper([-1]*n, 0, n-1)\n",
    "        return self.res\n",
    "    \n",
    "    def helper(self, buffer, l, r):\n",
    "        if l>r:\n",
    "            num = ''.join(buffer)\n",
    "            if len(num)>1 and num[0] == '0':\n",
    "                return\n",
    "            self.res.append(num)\n",
    "            return\n",
    "        \n",
    "        if l == r:\n",
    "            for num in self.single:\n",
    "                buffer[l] = num\n",
    "                self.helper(buffer, l+1, r)\n",
    "        else:\n",
    "            for n1, n2 in self.pairs:\n",
    "                buffer[l], buffer[r] = n1, n2\n",
    "                self.helper(buffer, l+1, r-1)\n",
    "\n",
    "Solution().findStrobogrammatic(3)"
   ]
  },
  {
   "cell_type": "markdown",
   "metadata": {},
   "source": [
    "### Strobogrammatic Number III\n",
    "A strobogrammatic number is a number that looks the same when rotated 180 degrees (looked at upside down).\n",
    "\n",
    "Write a function to count the total strobogrammatic numbers that exist in the range of low <= num <= high."
   ]
  },
  {
   "cell_type": "code",
   "execution_count": 17,
   "metadata": {},
   "outputs": [
    {
     "data": {
      "text/plain": [
       "6"
      ]
     },
     "execution_count": 17,
     "metadata": {},
     "output_type": "execute_result"
    }
   ],
   "source": [
    "class Solution:\n",
    "    def strobogrammaticInRange(self, low: str, high: str) -> int:\n",
    "        self.res = []\n",
    "        self.pairs = [('0', '0'), ('1', '1'), ('6', '9'), ('9', '6'), ('8', '8')]\n",
    "        self.single = ['0', '1', '8']\n",
    "        for i in range(len(low), len(high)+1):\n",
    "            self.helper([-1]*i, 0, i-1)\n",
    "        count = 0\n",
    "        for num in self.res:\n",
    "            if int(low) <= int(num) <= int(high):\n",
    "                count += 1\n",
    "        return count\n",
    "    \n",
    "    def helper(self, buffer, l, r):\n",
    "        if l>r:\n",
    "            num = ''.join(buffer)\n",
    "            if len(num)>1 and num[0] == '0':\n",
    "                return\n",
    "            self.res.append(num)\n",
    "            return\n",
    "        \n",
    "        if l == r:\n",
    "            for num in self.single:\n",
    "                buffer[l] = num\n",
    "                self.helper(buffer, l+1, r)\n",
    "        else:\n",
    "            for n1, n2 in self.pairs:\n",
    "                buffer[l], buffer[r] = n1, n2\n",
    "                self.helper(buffer, l+1, r-1)\n",
    "    \n",
    "Solution().strobogrammaticInRange('50', '200')"
   ]
  },
  {
   "cell_type": "markdown",
   "metadata": {},
   "source": [
    "### Increasing Subsequences\n",
    "Given an integer array, your task is to find all the different possible increasing subsequences of the given array, and the length of an increasing subsequence should be at least 2."
   ]
  },
  {
   "cell_type": "code",
   "execution_count": 24,
   "metadata": {},
   "outputs": [
    {
     "data": {
      "text/plain": [
       "[(4, 7), (6, 7), (4, 6, 7, 7), (4, 6), (7, 7), (4, 7, 7), (4, 6, 7), (6, 7, 7)]"
      ]
     },
     "execution_count": 24,
     "metadata": {},
     "output_type": "execute_result"
    }
   ],
   "source": [
    "class Solution:\n",
    "    def findSubsequences(self, nums):\n",
    "        self.res = set()\n",
    "        self.helper([], 0, nums)\n",
    "        return list(self.res)\n",
    "    \n",
    "    def helper(self, buffer, start, nums):\n",
    "        if len(buffer) >= 2:\n",
    "            self.res.add(tuple(buffer[:]))\n",
    "            \n",
    "        if start == len(nums):\n",
    "            return\n",
    "        \n",
    "        for i in range(start, len(nums)):\n",
    "            if not buffer or buffer[-1] <= nums[i]:\n",
    "                buffer.append(nums[i])\n",
    "                self.helper(buffer, i+1, nums)\n",
    "                buffer.pop()\n",
    "\n",
    "obj = Solution()\n",
    "obj.findSubsequences([4, 6, 7, 7])"
   ]
  },
  {
   "cell_type": "markdown",
   "metadata": {},
   "source": [
    "### House Robber III\n",
    "The thief has found himself a new place for his thievery again. There is only one entrance to this area, called the \"root.\" Besides the root, each house has one and only one parent house. After a tour, the smart thief realized that \"all houses in this place forms a binary tree\". It will automatically contact the police if two directly-linked houses were broken into on the same night.\n",
    "\n",
    "Determine the maximum amount of money the thief can rob tonight without alerting the police."
   ]
  },
  {
   "cell_type": "code",
   "execution_count": 6,
   "metadata": {},
   "outputs": [],
   "source": [
    "class Solution:\n",
    "    def rob(self, root) -> int:\n",
    "        self.memo = {}\n",
    "        return self.helper(root, False)\n",
    "    \n",
    "    def helper(self, node, robbed_parent):\n",
    "        if not node:\n",
    "            return 0\n",
    "        \n",
    "        if (node, robbed_parent) in self.memo:\n",
    "            return self.memo[(node, robbed_parent)]\n",
    "        \n",
    "        rob = no_rob = 0\n",
    "        if not robbed_parent:\n",
    "            rob = node.val + self.helper(node.left, True) + self.helper(node.right, True)\n",
    "        no_rob = self.helper(node.left, False) + self.helper(node.right, False)\n",
    "        \n",
    "        self.memo[(node, robbed_parent)] = max(rob, no_rob)\n",
    "        return max(rob, no_rob)"
   ]
  },
  {
   "cell_type": "markdown",
   "metadata": {},
   "source": [
    "### Minimum Falling Path Sum II\n",
    "Given a square grid of integers arr, a falling path with non-zero shifts is a choice of exactly one element from each row of arr, such that no two elements chosen in adjacent rows are in the same column.\n",
    "\n",
    "Return the minimum sum of a falling path with non-zero shifts."
   ]
  },
  {
   "cell_type": "code",
   "execution_count": 19,
   "metadata": {},
   "outputs": [
    {
     "data": {
      "text/plain": [
       "13"
      ]
     },
     "execution_count": 19,
     "metadata": {},
     "output_type": "execute_result"
    }
   ],
   "source": [
    "class Solution:\n",
    "    def minFallingPathSum(self, arr) -> int:\n",
    "        self.memo = {}\n",
    "        self.min_idx = {}\n",
    "        for i in range(len(arr)):\n",
    "            self.min_idx[i] = self.get_min_idx(arr[i])\n",
    "        ans = float('inf')\n",
    "        i, j = self.min_idx[0]\n",
    "        ans = min(self.helper(0, i, arr), self.helper(0, j, arr))\n",
    "        return ans\n",
    "    \n",
    "    def helper(self, i, j, a):\n",
    "        if i == len(a)-1:\n",
    "            return a[i][j]\n",
    "        \n",
    "        if (i,j) in self.memo:\n",
    "            return self.memo[(i,j)]\n",
    "        \n",
    "        x, y = self.min_idx[i+1]\n",
    "        take_x = take_y = float('inf')\n",
    "        \n",
    "        if x != j:\n",
    "            take_x = a[i][j] + self.helper(i+1, x, a)\n",
    "        \n",
    "        if y != j:\n",
    "            take_y = a[i][j] + self.helper(i+1, y, a)\n",
    "        \n",
    "        self.memo[(i,j)] = min(take_x, take_y)\n",
    "        return min(take_x, take_y)\n",
    "    \n",
    "    \n",
    "    def get_min_idx(self, a):\n",
    "        first = float('inf'), -1\n",
    "        second = float('inf'), -1\n",
    "        for i, num in enumerate(a):\n",
    "            if num < first[0]:\n",
    "                second = first\n",
    "                first = num, i\n",
    "            elif first[0] <= num < second[0]:\n",
    "                second = num, i\n",
    "        return first[1], second[1]\n",
    "\n",
    "arr = [[1,2,3],[4,5,6],[7,8,9]]\n",
    "obj = Solution()\n",
    "obj.minFallingPathSum(arr)"
   ]
  },
  {
   "cell_type": "markdown",
   "metadata": {},
   "source": [
    "### Number of Dice Rolls With Target Sum\n",
    "You have d dice, and each die has f faces numbered 1, 2, ..., f.\n",
    "\n",
    "Return the number of possible ways (out of fd total ways) modulo 10^9 + 7 to roll the dice so the sum of the face up numbers equals target."
   ]
  },
  {
   "cell_type": "code",
   "execution_count": 7,
   "metadata": {},
   "outputs": [
    {
     "data": {
      "text/plain": [
       "222616187"
      ]
     },
     "execution_count": 7,
     "metadata": {},
     "output_type": "execute_result"
    }
   ],
   "source": [
    "class Solution:\n",
    "    def numRollsToTarget(self, d: int, f: int, target: int) -> int:\n",
    "        self.memo = {}\n",
    "        self.mod = 10**9 + 7\n",
    "        return self.helper(d, f, target)\n",
    "    \n",
    "    def helper(self, d, f, target):\n",
    "        if d == 0:\n",
    "            return target == 0\n",
    "        \n",
    "        if target < 0:\n",
    "            return 0\n",
    "        \n",
    "        if (d, target) in self.memo:\n",
    "            return self.memo[(d, target)]\n",
    "        \n",
    "        ans = 0\n",
    "        for roll in range(1, f+1):\n",
    "            ans += self.helper(d-1, f, target-roll)\n",
    "        \n",
    "        self.memo[(d, target)] = ans % self.mod\n",
    "        return self.memo[(d, target)]\n",
    "    \n",
    "d = 30; f = 30; target = 500\n",
    "Solution().numRollsToTarget(d, f, target)"
   ]
  },
  {
   "cell_type": "markdown",
   "metadata": {},
   "source": [
    "### Dice Roll Simulation\n",
    "A die simulator generates a random number from 1 to 6 for each roll. You introduced a constraint to the generator such that it cannot roll the number i more than rollMax[i] (1-indexed) consecutive times. \n",
    "\n",
    "Given an array of integers rollMax and an integer n, return the number of distinct sequences that can be obtained with exact n rolls.\n",
    "\n",
    "Two sequences are considered different if at least one element differs from each other. Since the answer may be too large, return it modulo 10^9 + 7."
   ]
  },
  {
   "cell_type": "code",
   "execution_count": 12,
   "metadata": {},
   "outputs": [
    {
     "data": {
      "text/plain": [
       "181"
      ]
     },
     "execution_count": 12,
     "metadata": {},
     "output_type": "execute_result"
    }
   ],
   "source": [
    "class Solution:\n",
    "    def dieSimulator(self, n, rollMax):\n",
    "        self.memo = {}\n",
    "        self.mod = 10**9 + 7\n",
    "        return self.helper(-1, -1, n, rollMax)\n",
    "    \n",
    "    def helper(self, last_num, freq, n, rollMax):\n",
    "        if n == 0:\n",
    "            return 1\n",
    "        \n",
    "        if (last_num, freq, n) in self.memo:\n",
    "            return self.memo[(last_num, freq, n)]\n",
    "        \n",
    "        take_same = take_diff = 0\n",
    "        \n",
    "        # Roll the same number\n",
    "        if 0<=last_num<=5 and freq < rollMax[last_num]:\n",
    "            take_same += self.helper(last_num, freq+1, n-1, rollMax)\n",
    "        \n",
    "        # Roll a different number\n",
    "        for i in range(6):\n",
    "            if i != last_num:\n",
    "                take_diff += self.helper(i, 1, n-1, rollMax)\n",
    "        \n",
    "        self.memo[(last_num, freq, n)] = (take_same + take_diff) % self.mod\n",
    "        return self.memo[(last_num, freq, n)]\n",
    "    \n",
    "n = 3; rollMax = [1,1,1,2,2,3]\n",
    "Solution().dieSimulator(n, rollMax)"
   ]
  },
  {
   "cell_type": "markdown",
   "metadata": {},
   "source": [
    "### Stone game\n",
    "Alex and Lee play a game with piles of stones.  There are an even number of piles arranged in a row, and each pile has a positive integer number of stones piles[i].\n",
    "\n",
    "The objective of the game is to end with the most stones.  The total number of stones is odd, so there are no ties.\n",
    "\n",
    "Alex and Lee take turns, with Alex starting first.  Each turn, a player takes the entire pile of stones from either the beginning or the end of the row.  This continues until there are no more piles left, at which point the person with the most stones wins.\n",
    "\n",
    "Assuming Alex and Lee play optimally, return True if and only if Alex wins the game."
   ]
  },
  {
   "cell_type": "code",
   "execution_count": 28,
   "metadata": {},
   "outputs": [
    {
     "data": {
      "text/plain": [
       "True"
      ]
     },
     "execution_count": 28,
     "metadata": {},
     "output_type": "execute_result"
    }
   ],
   "source": [
    "class Solution:\n",
    "    def stoneGame(self, piles) -> bool:\n",
    "        self.memo = {}\n",
    "        return self.helper(piles, 0, len(piles)-1, 0, 0)\n",
    "    \n",
    "    def helper(self, piles, i, j, a_total, b_total):\n",
    "        if (i,j) in self.memo:\n",
    "            return self.memo[(i,j)]\n",
    "        \n",
    "        if (j-i == 1 and a_total+piles[i] > b_total+piles[j]):\n",
    "            self.memo[(i,j)] = True\n",
    "            return True\n",
    "        \n",
    "        if j-i == 1 and a_total+piles[j] > b_total+piles[i]:\n",
    "            self.memo[(i,j)] = True\n",
    "            return True\n",
    "        \n",
    "        if not self.helper(piles, i+1, j, a_total+piles[i], b_total):\n",
    "            self.memo[(i,j)] = True\n",
    "            return True\n",
    "        \n",
    "        if not self.helper(piles, i, j-1, a_total+piles[j], b_total):\n",
    "            self.memo[(i,j)] = True\n",
    "            return True\n",
    "        \n",
    "        self.memo[(i,j)] = False\n",
    "        return False\n",
    "\n",
    "Solution().stoneGame([5,3,4,5])"
   ]
  },
  {
   "cell_type": "markdown",
   "metadata": {},
   "source": [
    "### Count Square Submatrices with All Ones\n",
    "Given a m * n matrix of ones and zeros, return how many square submatrices have all ones."
   ]
  },
  {
   "cell_type": "code",
   "execution_count": 1,
   "metadata": {},
   "outputs": [
    {
     "data": {
      "text/plain": [
       "15"
      ]
     },
     "execution_count": 1,
     "metadata": {},
     "output_type": "execute_result"
    }
   ],
   "source": [
    "class Solution:\n",
    "    def countSquares(self, matrix) -> int:\n",
    "        self.memo = {}\n",
    "        ans = 0\n",
    "        for i in range(len(matrix)):\n",
    "            for j in range(len(matrix[0])):\n",
    "                if matrix[i][j]:\n",
    "                    ans += self.helper(i, j, matrix)\n",
    "        return ans\n",
    "\n",
    "    def helper(self, i, j, matrix):\n",
    "        if i<0 or i>=len(matrix) or j<0 or j>=len(matrix[0]) or matrix[i][j] == 0:\n",
    "            return 0\n",
    "        \n",
    "        if (i, j) in self.memo:\n",
    "            return self.memo[(i, j)]\n",
    "        \n",
    "        left = self.helper(i, j-1, matrix)\n",
    "        up = self.helper(i-1, j, matrix)\n",
    "        up_left = self.helper(i-1, j-1, matrix)\n",
    "        longest_length = 1 + min(left, up, up_left)\n",
    "        \n",
    "        self.memo[(i,j)] = longest_length\n",
    "        return longest_length\n",
    "\n",
    "matrix = [\n",
    "  [0,1,1,1],\n",
    "  [1,1,1,1],\n",
    "  [0,1,1,1]\n",
    "]\n",
    "Solution().countSquares(matrix)"
   ]
  },
  {
   "cell_type": "markdown",
   "metadata": {},
   "source": [
    "### Longest Common Subsequence\n",
    "Given two strings text1 and text2, return the length of their longest common subsequence.\n",
    "\n",
    "A subsequence of a string is a new string generated from the original string with some characters(can be none) deleted without changing the relative order of the remaining characters. (eg, \"ace\" is a subsequence of \"abcde\" while \"aec\" is not). A common subsequence of two strings is a subsequence that is common to both strings.\n",
    "\n",
    "**Similar Questions**\n",
    "*  Delete Operation for Two Strings\n",
    "* Minimum ASCII Delete Sum for Two Strings\n",
    "* Uncrossed Lines"
   ]
  },
  {
   "cell_type": "code",
   "execution_count": 89,
   "metadata": {},
   "outputs": [
    {
     "data": {
      "text/plain": [
       "3"
      ]
     },
     "execution_count": 89,
     "metadata": {},
     "output_type": "execute_result"
    }
   ],
   "source": [
    "class Solution:\n",
    "    def longestCommonSubsequence(self, text1: str, text2: str) -> int:\n",
    "        self.memo = {}\n",
    "        return self.helper(0, 0, text1, text2)\n",
    "\n",
    "    def helper(self, i, j, a, b):\n",
    "        if i == len(a) or j == len(b):\n",
    "            return 0\n",
    "        \n",
    "        if (i,j) in self.memo:\n",
    "            return self.memo[(i,j)]\n",
    "        \n",
    "        if a[i] == b[j]:\n",
    "            max_length = 1 + self.helper(i+1, j+1, a, b)\n",
    "        else:\n",
    "            move_i = self.helper(i+1, j, a, b)\n",
    "            move_j = self.helper(i, j+1, a, b)\n",
    "            max_length = max(move_i, move_j)\n",
    "            \n",
    "        self.memo[(i, j)] = max_length\n",
    "        return max_length\n",
    "        \n",
    "obj = Solution()\n",
    "obj.longestCommonSubsequence('abcde', 'ace')"
   ]
  },
  {
   "cell_type": "markdown",
   "metadata": {},
   "source": [
    "### Longest Common Substring\n",
    "Given two integer arrays A and B, return the maximum length of an subarray that appears in both arrays."
   ]
  },
  {
   "cell_type": "code",
   "execution_count": 8,
   "metadata": {},
   "outputs": [
    {
     "data": {
      "text/plain": [
       "3"
      ]
     },
     "execution_count": 8,
     "metadata": {},
     "output_type": "execute_result"
    }
   ],
   "source": [
    "class Solution:\n",
    "    def findLength(self, A, B) -> int:\n",
    "        self.memo = {}\n",
    "        self.ans = 0\n",
    "        self.helper(0, 0, A, B)\n",
    "        return self.ans\n",
    "    \n",
    "    def helper(self, i, j, a, b):\n",
    "        if i == len(a) or j == len(b):\n",
    "            return 0\n",
    "        \n",
    "        if (i,j) in self.memo:\n",
    "            return self.memo[(i,j)]\n",
    "        \n",
    "        length = 0\n",
    "        if a[i] == b[j]:\n",
    "            length = 1 + self.helper(i+1, j+1, a, b)\n",
    "        move_i = self.helper(i+1, j, a, b)\n",
    "        move_j = self.helper(i, j+1, a, b)\n",
    "        \n",
    "        self.ans = max(self.ans, move_i, move_j, length)\n",
    "        self.memo[(i,j)] = length\n",
    "        return length\n",
    "    \n",
    "obj = Solution()\n",
    "A = [1,2,3,2,1]\n",
    "B = [3,2,1,4,7]\n",
    "obj.findLength(A, B)"
   ]
  },
  {
   "cell_type": "markdown",
   "metadata": {},
   "source": [
    "### Longest Palindromic Subsequence\n",
    "Given a string s, find the longest palindromic subsequence's length in s. You may assume that the maximum length of s is 1000.\n",
    "\n",
    "**Similar Question** - Valid Palindrome III"
   ]
  },
  {
   "cell_type": "code",
   "execution_count": 9,
   "metadata": {},
   "outputs": [
    {
     "data": {
      "text/plain": [
       "4"
      ]
     },
     "execution_count": 9,
     "metadata": {},
     "output_type": "execute_result"
    }
   ],
   "source": [
    "class Solution:\n",
    "    def longestPalindromeSubseq(self, s: str) -> int:\n",
    "        self.memo = {}\n",
    "        return self.helper(0, len(s)-1, s)\n",
    "    \n",
    "    def helper(self, i, j, s):\n",
    "        if i==j:\n",
    "            return 1\n",
    "        \n",
    "        if i>j:\n",
    "            return 0\n",
    "        \n",
    "        if (i,j) in self.memo:\n",
    "            return self.memo[(i,j)]\n",
    "        \n",
    "        if s[i] == s[j]:\n",
    "            max_length = 2 + self.helper(i+1, j-1, s)\n",
    "        else:\n",
    "            move_i = self.helper(i+1, j, s)\n",
    "            move_j = self.helper(i, j-1, s)\n",
    "            max_length = max(move_i, move_j)\n",
    "            \n",
    "        self.memo[(i,j)] = max_length\n",
    "        return max_length\n",
    "\n",
    "Solution().longestPalindromeSubseq(\"bbbab\")"
   ]
  },
  {
   "cell_type": "markdown",
   "metadata": {},
   "source": [
    "### Edit Distance\n",
    "Given two words word1 and word2, find the minimum number of operations required to convert word1 to word2.\n",
    "\n",
    "You have the following 3 operations permitted on a word:\n",
    "\n",
    "* Insert a character\n",
    "* Delete a character\n",
    "* Replace a character"
   ]
  },
  {
   "cell_type": "code",
   "execution_count": 92,
   "metadata": {},
   "outputs": [
    {
     "data": {
      "text/plain": [
       "3"
      ]
     },
     "execution_count": 92,
     "metadata": {},
     "output_type": "execute_result"
    }
   ],
   "source": [
    "class Solution:\n",
    "    def minDistance(self, word1: str, word2: str) -> int:\n",
    "        self.memo = {}\n",
    "        return self.helper(0, 0, word1, word2)\n",
    "    \n",
    "    def helper(self, i, j, s, t):\n",
    "        if i == len(s):\n",
    "            return len(t) - j\n",
    "        \n",
    "        if j == len(t):\n",
    "            return len(s) - i\n",
    "        \n",
    "        if (i,j) in self.memo:\n",
    "            return self.memo[(i,j)]\n",
    "        \n",
    "        if s[i] == t[j]:\n",
    "            min_ops = self.helper(i+1, j+1, s, t)\n",
    "        else:\n",
    "            insert = 1 + self.helper(i, j+1, s, t)\n",
    "            delete = 1 + self.helper(i+1, j, s, t)\n",
    "            replace = 1 + self.helper(i+1, j+1, s, t)\n",
    "            min_ops = min(insert, delete, replace)\n",
    "        \n",
    "        self.memo[(i,j)] = min_ops\n",
    "        return min_ops\n",
    "        \n",
    "        \n",
    "word1 = \"horse\"; word2 = \"ros\"\n",
    "obj = Solution()\n",
    "obj.minDistance(word1, word2)"
   ]
  },
  {
   "cell_type": "markdown",
   "metadata": {},
   "source": [
    "### Filing Book Case Shelves\n",
    "We have a sequence of books: the i-th book has thickness books[i][0] and height books[i][1].\n",
    "\n",
    "We want to place these books in order onto bookcase shelves that have total width shelf_width.\n",
    "\n",
    "We choose some of the books to place on this shelf (such that the sum of their thickness is <= shelf_width), then build another level of shelf of the bookcase so that the total height of the bookcase has increased by the maximum height of the books we just put down.  We repeat this process until there are no more books to place.\n",
    "\n",
    "Note again that at each step of the above process, the order of the books we place is the same order as the given sequence of books.  For example, if we have an ordered list of 5 books, we might place the first and second book onto the first shelf, the third book on the second shelf, and the fourth and fifth book on the last shelf.\n",
    "\n",
    "Return the minimum possible height that the total bookshelf can be after placing shelves in this manner."
   ]
  },
  {
   "cell_type": "code",
   "execution_count": 8,
   "metadata": {},
   "outputs": [
    {
     "data": {
      "text/plain": [
       "6"
      ]
     },
     "execution_count": 8,
     "metadata": {},
     "output_type": "execute_result"
    }
   ],
   "source": [
    "class Solution:\n",
    "    def minHeightShelves(self, books, shelf_width: int) -> int:\n",
    "        self.memo = {}\n",
    "        return self.helper(0, books, shelf_width, 0, shelf_width)\n",
    "    \n",
    "    def helper(self, i, books, rem_width, curr_height, total_width):\n",
    "        if i == len(books):\n",
    "            return curr_height\n",
    "        \n",
    "        if (i, rem_width) in self.memo:\n",
    "            return self.memo[(i, rem_width)]\n",
    "        \n",
    "        book_width, book_height = books[i]\n",
    "            \n",
    "        place_same = place_diff = float('inf')\n",
    "\n",
    "        if book_width <= rem_width:\n",
    "            place_same = self.helper(i+1, books, rem_width-book_width, max(curr_height, book_height), total_width)\n",
    "\n",
    "        place_diff = curr_height + self.helper(i+1, books, total_width-book_width, book_height, total_width)\n",
    "\n",
    "        total_height = min(place_same, place_diff)\n",
    "        self.memo[(i, rem_width)] = total_height\n",
    "        return total_height\n",
    "            \n",
    "\n",
    "books = [[1,1],[2,3],[2,3],[1,1],[1,1],[1,1],[1,2]]; shelf_width = 4\n",
    "Solution().minHeightShelves(books, shelf_width)"
   ]
  },
  {
   "cell_type": "markdown",
   "metadata": {},
   "source": [
    "### Partition Array for Maximum Sum\n",
    "Given an integer array A, you partition the array into (contiguous) subarrays of length at most K.  After partitioning, each subarray has their values changed to become the maximum value of that subarray.\n",
    "\n",
    "Return the largest sum of the given array after partitioning."
   ]
  },
  {
   "cell_type": "code",
   "execution_count": 6,
   "metadata": {},
   "outputs": [
    {
     "data": {
      "text/plain": [
       "84"
      ]
     },
     "execution_count": 6,
     "metadata": {},
     "output_type": "execute_result"
    }
   ],
   "source": [
    "class Solution:\n",
    "    def maxSumAfterPartitioning(self, A, K: int) -> int:\n",
    "        self.memo = {}\n",
    "        return self.helper(0, K, A, 0, 0)\n",
    "    \n",
    "    def helper(self, i, k, a, max_val, count):\n",
    "        if i == len(a):\n",
    "            return max_val*count\n",
    "        \n",
    "        if (i, count) in self.memo:\n",
    "            return self.memo[(i,count)]\n",
    "        \n",
    "        place_same = place_diff = 0\n",
    "        \n",
    "        if count<k:\n",
    "            place_same = self.helper(i+1, k, a, max(max_val, a[i]), count+1)\n",
    "        \n",
    "        place_diff = max_val*count + self.helper(i+1, k, a, a[i], 1)\n",
    "        \n",
    "        res = max(place_same, place_diff)\n",
    "        self.memo[(i, count)] = res\n",
    "        return res\n",
    "            \n",
    "A = [1,15,7,9,2,5,10]; K = 3\n",
    "obj = Solution()\n",
    "obj.maxSumAfterPartitioning(A, K)"
   ]
  },
  {
   "cell_type": "markdown",
   "metadata": {},
   "source": [
    "### Perfect Squares\n",
    "Given a positive integer n, find the least number of perfect square numbers (for example, 1, 4, 9, 16, ...) which sum to n."
   ]
  },
  {
   "cell_type": "code",
   "execution_count": 7,
   "metadata": {},
   "outputs": [
    {
     "data": {
      "text/plain": [
       "2"
      ]
     },
     "execution_count": 7,
     "metadata": {},
     "output_type": "execute_result"
    }
   ],
   "source": [
    "class Solution:\n",
    "    _memo = {}\n",
    "    \n",
    "    def numSquares(self, n: int) -> int:\n",
    "        self.memo = self._memo\n",
    "        squares = []\n",
    "        for i in range(1, n+1):\n",
    "            num = i*i\n",
    "            if num <= n:\n",
    "                squares.append(num)\n",
    "            else:\n",
    "                break\n",
    "        return self.helper(n, squares)\n",
    "        \n",
    "    def helper(self, total, squares):\n",
    "        if total == 0:\n",
    "            return 0\n",
    "        if total in self.memo:\n",
    "            return self.memo[total]\n",
    "        res = float('inf')\n",
    "        for num in squares:\n",
    "            if num <= total:\n",
    "                res = min(res, 1+self.helper(total-num, squares))\n",
    "            else:\n",
    "                break\n",
    "        self.memo[total] = res\n",
    "        return res\n",
    "\n",
    "Solution().numSquares(13)"
   ]
  },
  {
   "cell_type": "markdown",
   "metadata": {},
   "source": [
    "### Student Attendance Record II\n",
    "Given a positive integer n, return the number of all possible attendance records with length n, which will be regarded as rewardable. The answer may be very large, return it after mod 109 + 7.\n",
    "\n",
    "A student attendance record is a string that only contains the following three characters:\n",
    "\n",
    "1. 'A' : Absent.\n",
    "2. 'L' : Late.\n",
    "3. 'P' : Present.\n",
    "\n",
    "A record is regarded as rewardable if it doesn't contain more than one 'A' (absent) or more than two continuous 'L' (late)."
   ]
  },
  {
   "cell_type": "code",
   "execution_count": 7,
   "metadata": {},
   "outputs": [
    {
     "data": {
      "text/plain": [
       "94"
      ]
     },
     "execution_count": 7,
     "metadata": {},
     "output_type": "execute_result"
    }
   ],
   "source": [
    "class Solution:\n",
    "    _memo = {}\n",
    "    \n",
    "    def checkRecord(self, n: int) -> int:\n",
    "        self.memo = self._memo\n",
    "        self.mod = 10**9 + 7\n",
    "        return self.helper(n, 0, 0)\n",
    "    \n",
    "    def helper(self, n, A, L):\n",
    "        if n == 0:\n",
    "            return 1\n",
    "        \n",
    "        if (n, A, L) in self.memo:\n",
    "            return self.memo[(n, A, L)]\n",
    "        \n",
    "        present = absent = late = 0\n",
    "        \n",
    "        present = self.helper(n-1, A, 0)\n",
    "        if A < 1:\n",
    "            absent = self.helper(n-1, 1, 0)\n",
    "        \n",
    "        if L < 2:\n",
    "            late = self.helper(n-1, A, L+1)\n",
    "        \n",
    "        total_ways = (present + absent + late) % self.mod\n",
    "        self.memo[(n,A,L)] = total_ways\n",
    "        return total_ways\n",
    "        \n",
    "Solution().checkRecord(5)"
   ]
  },
  {
   "cell_type": "markdown",
   "metadata": {},
   "source": [
    "### Maximum Vacation Days\n",
    "LeetCode wants to give one of its best employees the option to travel among N cities to collect algorithm problems. But all work and no play makes Jack a dull boy, you could take vacations in some particular cities and weeks. Your job is to schedule the traveling to maximize the number of vacation days you could take, but there are certain rules and restrictions you need to follow.\n",
    "\n",
    "Rules and restrictions:\n",
    "1. You can only travel among N cities, represented by indexes from 0 to N-1. Initially, you are in the city indexed 0 on Monday.\n",
    "2. The cities are connected by flights. The flights are represented as a N*N matrix (not necessary symmetrical), called flights representing the airline status from the city i to the city j. If there is no flight from the city i to the city j, flights[i][j] = 0; Otherwise, flights[i][j] = 1. Also, flights[i][i] = 0 for all i.\n",
    "3. You totally have K weeks (each week has 7 days) to travel. You can only take flights at most once per day and can only take flights on each week's Monday morning. Since flight time is so short, we don't consider the impact of flight time.\n",
    "4. For each city, you can only have restricted vacation days in different weeks, given an N*K matrix called days representing this relationship. For the value of days[i][j], it represents the maximum days you could take vacation in the city i in the week j.\n",
    "\n",
    "You're given the flights matrix and days matrix, and you need to output the maximum vacation days you could take during K weeks."
   ]
  },
  {
   "cell_type": "code",
   "execution_count": 19,
   "metadata": {},
   "outputs": [
    {
     "data": {
      "text/plain": [
       "12"
      ]
     },
     "execution_count": 19,
     "metadata": {},
     "output_type": "execute_result"
    }
   ],
   "source": [
    "from collections import defaultdict\n",
    "class Solution:\n",
    "    def maxVacationDays(self, flights, days) -> int:\n",
    "        '''\n",
    "        flights and days are adjacency matrices\n",
    "        '''\n",
    "        flight_graph = defaultdict(list)\n",
    "        for i in range(len(flights)):\n",
    "            for j in range(len(flights)):\n",
    "                if flights[i][j]:\n",
    "                    flight_graph[i].append(j)\n",
    "        \n",
    "        self.memo = {}\n",
    "        return self.helper(0, 0, flight_graph, days, len(days[0]))\n",
    "    \n",
    "    def helper(self, city, week, flights, days, max_week):\n",
    "        if week == max_week:\n",
    "            return 0\n",
    "        \n",
    "        if (city, week) in self.memo:\n",
    "            return self.memo[(city, week)]\n",
    "        \n",
    "        take_vac = days[city][week] + self.helper(city, week+1, flights, days, max_week)\n",
    "        \n",
    "        no_vac = 0\n",
    "        for next_city in flights[city]:\n",
    "            no_vac = max(no_vac, days[next_city][week] + self.helper(next_city, week+1, flights, days, max_week))\n",
    "            \n",
    "        res = max(take_vac, no_vac)\n",
    "        self.memo[(city, week)] = res\n",
    "        return res\n",
    "\n",
    "flights = [[0,1,1],[1,0,1],[1,1,0]]; days = [[1,3,1],[6,0,3],[3,3,3]]\n",
    "obj = Solution()\n",
    "obj.maxVacationDays(flights, days)"
   ]
  },
  {
   "cell_type": "markdown",
   "metadata": {},
   "source": [
    "### Palindrome Partitioning II\n",
    "Given a string s, partition s such that every substring of the partition is a palindrome.\n",
    "\n",
    "Return the minimum cuts needed for a palindrome partitioning of s."
   ]
  },
  {
   "cell_type": "code",
   "execution_count": 31,
   "metadata": {},
   "outputs": [
    {
     "data": {
      "text/plain": [
       "1"
      ]
     },
     "execution_count": 31,
     "metadata": {},
     "output_type": "execute_result"
    }
   ],
   "source": [
    "class Solution:\n",
    "    def minCut(self, s: str) -> int:\n",
    "        self.memo = {}\n",
    "        return self.helper(s)-1\n",
    "    \n",
    "    def helper(self, s):\n",
    "        if not s:\n",
    "            return 0\n",
    "        \n",
    "        if s in self.memo:\n",
    "            return self.memo[s]\n",
    "        \n",
    "        res = float('inf')\n",
    "        for i in range(1, len(s)+1):\n",
    "            substr = s[:i]\n",
    "            if substr == substr[::-1]:\n",
    "                res = min(res, 1 + self.helper(s[i:]))\n",
    "        \n",
    "        self.memo[s] = res\n",
    "        return res\n",
    "    \n",
    "Solution().minCut('aab')"
   ]
  },
  {
   "cell_type": "markdown",
   "metadata": {},
   "source": [
    "### Interleaving String\n",
    "Given s1, s2, s3, find whether s3 is formed by the interleaving of s1 and s2."
   ]
  },
  {
   "cell_type": "code",
   "execution_count": 14,
   "metadata": {},
   "outputs": [
    {
     "data": {
      "text/plain": [
       "True"
      ]
     },
     "execution_count": 14,
     "metadata": {},
     "output_type": "execute_result"
    }
   ],
   "source": [
    "class Solution:\n",
    "    def isInterleave(self, s1: str, s2: str, s3: str) -> bool:\n",
    "        if len(s3) != len(s1) + len(s2):\n",
    "            return False\n",
    "        self.memo = {}\n",
    "        return self.helper(0, 0, 0, s1, s2, s3)\n",
    "        \n",
    "    \n",
    "    def helper(self, i1, i2, i3, s1, s2, s3):\n",
    "        if i3 == len(s3):\n",
    "            return True\n",
    "        \n",
    "        if (i1, i2) in self.memo:\n",
    "            return self.memo[(i1, i2)]\n",
    "        \n",
    "        if i1 < len(s1) and s1[i1] == s3[i3] and self.helper(i1+1, i2, i3+1, s1, s2, s3):\n",
    "            self.memo[(i1, i2)] = True\n",
    "            return True\n",
    "        \n",
    "        if i2 < len(s2) and s2[i2] == s3[i3] and self.helper(i1, i2+1, i3+1, s1, s2, s3):\n",
    "            self.memo[(i1, i2)] = True\n",
    "            return True\n",
    "        \n",
    "        self.memo[(i1, i2)] = False\n",
    "        return False\n",
    "\n",
    "s1 = \"aabcc\"; s2 = \"dbbca\"; s3 = \"aadbbcbcac\"\n",
    "Solution().isInterleave(s1, s2, s3)"
   ]
  },
  {
   "cell_type": "markdown",
   "metadata": {},
   "source": [
    "### Split Array With Same Average\n",
    "In a given integer array A, we must move every element of A to either list B or list C. (B and C initially start empty.)\n",
    "\n",
    "Return true if and only if after such a move, it is possible that the average value of B is equal to the average value of C, and B and C are both non-empty."
   ]
  },
  {
   "cell_type": "code",
   "execution_count": 9,
   "metadata": {},
   "outputs": [
    {
     "data": {
      "text/plain": [
       "True"
      ]
     },
     "execution_count": 9,
     "metadata": {},
     "output_type": "execute_result"
    }
   ],
   "source": [
    "class Solution:\n",
    "    def splitArraySameAverage(self, A) -> bool:\n",
    "        self.memo = {}\n",
    "        average = sum(A) / len(A)\n",
    "        return self.helper(0, 0, 0, average, A)\n",
    "    \n",
    "    def helper(self, i, count, total, average, a):\n",
    "        total2 = average*count\n",
    "        if abs(total-total2) < 0.0001 and count != 0 and count != len(a):\n",
    "            return True\n",
    "        \n",
    "        if (i, total) in self.memo:\n",
    "            return self.memo[(i, total)]\n",
    "        \n",
    "        if i == len(a):\n",
    "            return False\n",
    "        \n",
    "        take = self.helper(i+1, count+1, total+a[i], average, a)\n",
    "        if take:\n",
    "            return True\n",
    "        \n",
    "        no_take = self.helper(i+1, count, total, average, a)\n",
    "        if no_take:\n",
    "            return True\n",
    "        \n",
    "        self.memo[(i,total)] = False\n",
    "        return False\n",
    "\n",
    "Solution().splitArraySameAverage([1,2,3,4,5,6,7,8])"
   ]
  },
  {
   "cell_type": "markdown",
   "metadata": {},
   "source": [
    "### Super Egg Drop\n",
    "You are given K eggs, and you have access to a building with N floors from 1 to N. \n",
    "\n",
    "Each egg is identical in function, and if an egg breaks, you cannot drop it again.\n",
    "\n",
    "You know that there exists a floor F with 0 <= F <= N such that any egg dropped at a floor higher than F will break, and any egg dropped at or below floor F will not break.\n",
    "\n",
    "Each move, you may take an egg (if you have an unbroken one) and drop it from any floor X (with 1 <= X <= N). \n",
    "\n",
    "Your goal is to know with certainty what the value of F is.\n",
    "\n",
    "What is the minimum number of moves that you need to know with certainty what F is, regardless of the initial value of F?"
   ]
  },
  {
   "cell_type": "code",
   "execution_count": 1,
   "metadata": {},
   "outputs": [
    {
     "data": {
      "text/plain": [
       "4"
      ]
     },
     "execution_count": 1,
     "metadata": {},
     "output_type": "execute_result"
    }
   ],
   "source": [
    "class Solution:\n",
    "    _memo = {}\n",
    "    def superEggDrop(self, K: int, N: int) -> int:\n",
    "        self.memo = self._memo\n",
    "        return self.helper(K, N)\n",
    "    \n",
    "    def helper(self, k, n):\n",
    "        if n <= 1 or k == 1:\n",
    "            return n\n",
    "        \n",
    "        if (k, n) in self.memo:\n",
    "            return self.memo[(k,n)]\n",
    "        \n",
    "        low = 0; high = n; res = float('inf')\n",
    "        while low <= high:\n",
    "            mid = (low+high) // 2\n",
    "            broke = self.helper(k-1, mid-1)\n",
    "            no_broke = self.helper(k, n-mid)\n",
    "            res = min(res, max(broke, no_broke)+1)\n",
    "            \n",
    "            if broke == no_broke:\n",
    "                break\n",
    "            elif broke < no_broke:\n",
    "                low = mid+1\n",
    "            else:\n",
    "                high = mid-1\n",
    "        \n",
    "        self.memo[(k, n)] = res\n",
    "        return res\n",
    "    \n",
    "Solution().superEggDrop(3, 14)"
   ]
  },
  {
   "cell_type": "markdown",
   "metadata": {},
   "source": [
    "### Guess Number Higher or Lower II\n",
    "We are playing the Guess Game. The game is as follows:\n",
    "\n",
    "I pick a number from 1 to n. You have to guess which number I picked.\n",
    "\n",
    "Every time you guess wrong, I'll tell you whether the number I picked is higher or lower.\n",
    "\n",
    "However, when you guess a particular number x, and you guess wrong, you pay $x. You win the game when you guess the number I picked."
   ]
  },
  {
   "cell_type": "code",
   "execution_count": 5,
   "metadata": {},
   "outputs": [
    {
     "data": {
      "text/plain": [
       "16"
      ]
     },
     "execution_count": 5,
     "metadata": {},
     "output_type": "execute_result"
    }
   ],
   "source": [
    "class Solution:\n",
    "    _memo = {}\n",
    "    def getMoneyAmount(self, n: int) -> int:\n",
    "        self.memo = self._memo\n",
    "        return self.helper(1, n)\n",
    "    \n",
    "    def helper(self, low, high):\n",
    "        if low >= high:\n",
    "            return 0\n",
    "        \n",
    "        if (low, high) in self.memo:\n",
    "            return self.memo[(low, high)]\n",
    "        \n",
    "        ans = float('inf')\n",
    "        for i in range(low, high+1):\n",
    "            lower = self.helper(low, i-1)\n",
    "            higher = self.helper(i+1, high)\n",
    "            res = max(lower, higher) + i\n",
    "            ans = min(ans, res)\n",
    "        \n",
    "        self.memo[(low, high)] = ans\n",
    "        return ans\n",
    "            \n",
    "Solution().getMoneyAmount(10)"
   ]
  },
  {
   "cell_type": "markdown",
   "metadata": {},
   "source": [
    "### 2 Keys Keyboard\n",
    "Initially on a notepad only one character 'A' is present. You can perform two operations on this notepad for each step:\n",
    "\n",
    "Copy All: You can copy all the characters present on the notepad (partial copy is not allowed).\n",
    "Paste: You can paste the characters which are copied last time.\n",
    " \n",
    "\n",
    "Given a number n. You have to get exactly n 'A' on the notepad by performing the minimum number of steps permitted. Output the minimum number of steps to get n 'A'."
   ]
  },
  {
   "cell_type": "code",
   "execution_count": 6,
   "metadata": {},
   "outputs": [
    {
     "data": {
      "text/plain": [
       "7"
      ]
     },
     "execution_count": 6,
     "metadata": {},
     "output_type": "execute_result"
    }
   ],
   "source": [
    "class Solution:\n",
    "    _memo = {}\n",
    "    \n",
    "    def minSteps(self, n: int) -> int:\n",
    "        self.memo = self._memo\n",
    "        return self.helper(n)\n",
    "    \n",
    "    def helper(self, n):\n",
    "        if n == 1:\n",
    "            return 0\n",
    "        for i in range(n-1, 0, -1):\n",
    "            if n % i == 0:\n",
    "                ans = n//i + self.helper(i)\n",
    "                break \n",
    "        self.memo[n] = ans\n",
    "        return ans\n",
    "\n",
    "Solution().minSteps(10)"
   ]
  },
  {
   "cell_type": "markdown",
   "metadata": {},
   "source": [
    "### 4 Keys Keyboard\n",
    "Imagine you have a special keyboard with the following keys:\n",
    "\n",
    "Key 1: (A): Print one 'A' on screen.\n",
    "\n",
    "Key 2: (Ctrl-A): Select the whole screen.\n",
    "\n",
    "Key 3: (Ctrl-C): Copy selection to buffer.\n",
    "\n",
    "Key 4: (Ctrl-V): Print buffer on screen appending it after what has already been printed.\n",
    "\n",
    "Now, you can only press the keyboard for N times (with the above four keys), find out the maximum numbers of 'A' you can print on screen."
   ]
  },
  {
   "cell_type": "code",
   "execution_count": 9,
   "metadata": {},
   "outputs": [
    {
     "data": {
      "text/plain": [
       "144"
      ]
     },
     "execution_count": 9,
     "metadata": {},
     "output_type": "execute_result"
    }
   ],
   "source": [
    "class Solution:\n",
    "    _memo = {}\n",
    "    \n",
    "    def maxA(self, N: int) -> int:\n",
    "        self.memo = self._memo\n",
    "        return self.helper(N, 0, 0)\n",
    "    \n",
    "    def helper(self, n, buffer_size, num_a):\n",
    "        if n == 0:\n",
    "            return 0\n",
    "        \n",
    "        if (n, buffer_size, num_a) in self.memo:\n",
    "            return self.memo[(n, buffer_size, num_a)]\n",
    "        \n",
    "        press_a = select_copy_paste = paste = 0\n",
    "        \n",
    "        # press A\n",
    "        if buffer_size == 0:\n",
    "            press_a = 1 + self.helper(n-1, buffer_size, num_a+1)\n",
    "        \n",
    "        # Select and copy:\n",
    "        if n-3>=0 and num_a > 0:\n",
    "            select_copy_paste = num_a + self.helper(n-3, num_a, 2*num_a)\n",
    "        \n",
    "        # Paste:\n",
    "        if buffer_size > 0:\n",
    "            paste = buffer_size + self.helper(n-1, buffer_size, num_a+buffer_size)\n",
    "        \n",
    "        res = max(press_a, select_copy_paste, paste)\n",
    "        self.memo[(n, buffer_size, num_a)] = res\n",
    "        return res\n",
    "        \n",
    "Solution().maxA(17)"
   ]
  },
  {
   "cell_type": "markdown",
   "metadata": {},
   "source": [
    "### Word Pattern II\n",
    "Given a pattern and a string str, find if str follows the same pattern.\n",
    "\n",
    "Here follow means a full match, such that there is a bijection between a letter in pattern and a non-empty substring in str."
   ]
  },
  {
   "cell_type": "code",
   "execution_count": 14,
   "metadata": {},
   "outputs": [
    {
     "data": {
      "text/plain": [
       "True"
      ]
     },
     "execution_count": 14,
     "metadata": {},
     "output_type": "execute_result"
    }
   ],
   "source": [
    "class Solution:\n",
    "    def wordPatternMatch(self, pattern: str, str: str) -> bool:\n",
    "        return self.helper(pattern, str, {}, {})\n",
    "    \n",
    "    def helper(self, pattern, string, pmap, smap):\n",
    "        if not pattern and not string:\n",
    "            return True\n",
    "        \n",
    "        if not pattern or not string:\n",
    "            return False\n",
    "        \n",
    "        p = pattern[0]; added = False\n",
    "        for i in range(1, len(string)+1):\n",
    "            substring = string[:i]\n",
    "            \n",
    "            if (p in pmap and pmap[p] != substring) or (substring in smap and smap[substring] != p):\n",
    "                continue\n",
    "            \n",
    "            if p not in pmap and substring not in smap:\n",
    "                pmap[p], smap[substring], added = substring, p, True\n",
    "            \n",
    "            if self.helper(pattern[1:], string[i:], pmap, smap):\n",
    "                return True\n",
    "            \n",
    "            if added:\n",
    "                del pmap[p]\n",
    "                del smap[substring]\n",
    "                added = False\n",
    "        \n",
    "        return False\n",
    "\n",
    "pattern = \"abab\"; str = \"redblueredblue\"\n",
    "obj = Solution()\n",
    "obj.wordPatternMatch(pattern, str)"
   ]
  },
  {
   "cell_type": "markdown",
   "metadata": {},
   "source": [
    "### Flip Game II\n",
    "You are playing the following Flip Game with your friend: Given a string that contains only these two characters: + and -, you and your friend take turns to flip two consecutive \"++\" into \"--\". The game ends when a person can no longer make a move and therefore the other person will be the winner.\n",
    "\n",
    "Write a function to determine if the starting player can guarantee a win.\n",
    "\n"
   ]
  },
  {
   "cell_type": "code",
   "execution_count": 24,
   "metadata": {},
   "outputs": [
    {
     "data": {
      "text/plain": [
       "True"
      ]
     },
     "execution_count": 24,
     "metadata": {},
     "output_type": "execute_result"
    }
   ],
   "source": [
    "class Solution:\n",
    "    _memo = {}\n",
    "    def canWin(self, s: str) -> bool:\n",
    "        self.memo = self._memo\n",
    "        return self.helper(s)\n",
    "    \n",
    "    def helper(self, s):\n",
    "        if s in self.memo:\n",
    "            return self.memo[s]\n",
    "        \n",
    "        idx = self.get_idx(s)\n",
    "        if not idx:\n",
    "            self.memo[s] = False\n",
    "            return False\n",
    "        \n",
    "        for i in idx:\n",
    "            new_s = s[:i] + '--' + s[i+2:]\n",
    "            if not self.canWin(new_s):\n",
    "                self.memo[s] = True\n",
    "                return True\n",
    "            \n",
    "        self.memo[s] = False\n",
    "        return False\n",
    "        \n",
    "    def get_idx(self, s):\n",
    "        idx = []\n",
    "        for i in range(1, len(s)):\n",
    "            if s[i-1:i+1] == '++':\n",
    "                idx.append(i-1)\n",
    "        return idx\n",
    "        \n",
    "Solution().canWin('++++')"
   ]
  },
  {
   "cell_type": "markdown",
   "metadata": {},
   "source": [
    "### Restore IP Address\n",
    "Given a string containing only digits, restore it by returning all possible valid IP address combinations.\n",
    "\n",
    "A valid IP address consists of exactly four integers (each integer is between 0 and 255) separated by single points."
   ]
  },
  {
   "cell_type": "code",
   "execution_count": 1,
   "metadata": {},
   "outputs": [
    {
     "data": {
      "text/plain": [
       "['255.255.11.135', '255.255.111.35']"
      ]
     },
     "execution_count": 1,
     "metadata": {},
     "output_type": "execute_result"
    }
   ],
   "source": [
    "class Solution:\n",
    "    def restoreIpAddresses(self, s: str):\n",
    "        self.res = []\n",
    "        self.helper(s, [])\n",
    "        return self.res\n",
    "    \n",
    "    def helper(self, s, buffer):\n",
    "        if not s:\n",
    "            if len(buffer) == 4:\n",
    "                self.res.append('.'.join(buffer))\n",
    "            return\n",
    "        \n",
    "        if len(buffer) == 4:\n",
    "            return\n",
    "        \n",
    "        for i in range(1, len(s)+1):\n",
    "            sub = s[:i]\n",
    "            if 0<=int(sub)<=255 and ((int(sub) !=0 and sub[0] !='0') or (int(sub) == 0 and len(sub) == 1)):\n",
    "                buffer.append(sub)\n",
    "                self.helper(s[i:], buffer)\n",
    "                buffer.pop()\n",
    "            else:\n",
    "                return\n",
    "\n",
    "s = \"25525511135\"\n",
    "obj = Solution()\n",
    "obj.restoreIpAddresses(s)"
   ]
  },
  {
   "cell_type": "markdown",
   "metadata": {},
   "source": [
    "###  Encode String with Shortest Length\n",
    "Given a non-empty string, encode the string such that its encoded length is the shortest.\n",
    "\n",
    "The encoding rule is: k[encoded_string], where the encoded_string inside the square brackets is being repeated exactly k times.\n",
    "\n",
    "Note:\n",
    "\n",
    "* k will be a positive integer and encoded string will not be empty or have extra space.\n",
    "* You may assume that the input string contains only lowercase English letters. The string's length is at most 160.\n",
    "* If an encoding process does not make the string shorter, then do not encode it. If there are several solutions, return any of them is fine."
   ]
  },
  {
   "cell_type": "code",
   "execution_count": 6,
   "metadata": {},
   "outputs": [
    {
     "data": {
      "text/plain": [
       "'2[2[abbb]c]'"
      ]
     },
     "execution_count": 6,
     "metadata": {},
     "output_type": "execute_result"
    }
   ],
   "source": [
    "class Solution:\n",
    "    def encode(self, s: str) -> str:\n",
    "        self.memo = {}\n",
    "        return self.helper(s)\n",
    "    \n",
    "    def helper(self, s):\n",
    "        if not s: return ''\n",
    "        \n",
    "        if len(s) < 5:\n",
    "            return s\n",
    "        \n",
    "        if s in self.memo:\n",
    "            return self.memo[s]\n",
    "    \n",
    "        result = s\n",
    "        \n",
    "        # repeated\n",
    "        i = (s+s).find(s,1)\n",
    "        if i < len(s):\n",
    "            times = len(s) // i\n",
    "            result = str(times) + '[' + self.helper(s[:i]) + ']'\n",
    "            self.memo[s] = result\n",
    "            return result\n",
    "        \n",
    "        #split\n",
    "        for i in range(1, len(s)):\n",
    "            left = self.helper(s[:i])\n",
    "            right = self.helper(s[i:])\n",
    "            candidate = left+right\n",
    "            result = min(result, candidate, key=len)\n",
    "        \n",
    "        self.memo[s] = result\n",
    "        return result\n",
    "    \n",
    "s = \"abbbabbbcabbbabbbc\"\n",
    "Solution().encode(s)"
   ]
  },
  {
   "cell_type": "markdown",
   "metadata": {},
   "source": [
    "### Sum to 100\n",
    "Add the mathematical operators + or - before any of the digits in the decimal numeric string 123456789 such that the resulting mathematical expression adds up to 100. Return all possible solutions."
   ]
  },
  {
   "cell_type": "code",
   "execution_count": 35,
   "metadata": {},
   "outputs": [
    {
     "data": {
      "text/plain": [
       "[' + 1 + 2 + 3 - 4 + 5 + 6 + 78 + 9',\n",
       " ' + 1 + 2 + 34 - 5 + 67 - 8 + 9',\n",
       " ' + 1 + 23 - 4 + 5 + 6 + 78 - 9',\n",
       " ' + 1 + 23 - 4 + 56 + 7 + 8 + 9',\n",
       " ' - 1 + 2 - 3 + 4 + 5 + 6 + 78 + 9',\n",
       " ' + 12 + 3 + 4 + 5 - 6 - 7 + 89',\n",
       " ' + 12 + 3 - 4 + 5 + 67 + 8 + 9',\n",
       " ' + 12 - 3 - 4 + 5 - 6 + 7 + 89',\n",
       " ' + 123 + 4 - 5 + 67 - 89',\n",
       " ' + 123 - 4 - 5 - 6 - 7 + 8 - 9',\n",
       " ' + 123 + 45 - 67 + 8 - 9',\n",
       " ' + 123 - 45 - 67 + 89']"
      ]
     },
     "execution_count": 35,
     "metadata": {},
     "output_type": "execute_result"
    }
   ],
   "source": [
    "class Solution:\n",
    "    \n",
    "    def sum_to_X(self, x):\n",
    "        string = '123456789'\n",
    "        self.res = []\n",
    "        self.helper(string, [], x)\n",
    "        return self.res\n",
    "    \n",
    "    def helper(self, string, buffer, balance):\n",
    "        if not string:\n",
    "            if balance == 0:\n",
    "                self.res.append(''.join(buffer))\n",
    "            return\n",
    "        \n",
    "        for i in range(1, len(string)+1):\n",
    "            num = string[:i]\n",
    "            \n",
    "            # take positive\n",
    "            self.helper(string[i:], buffer + [' + '+num], balance - int(num))\n",
    "            \n",
    "            #take negative\n",
    "            self.helper(string[i:], buffer + [' - '+num], balance + int(num))\n",
    "\n",
    "    \n",
    "Solution().sum_to_X(100)  "
   ]
  },
  {
   "cell_type": "markdown",
   "metadata": {},
   "source": [
    "### Maximum Length of a Concatenated String with Unique Characters\n",
    "Given an array of strings arr. String s is a concatenation of a sub-sequence of arr which have unique characters.\n",
    "\n",
    "Return the maximum possible length of s."
   ]
  },
  {
   "cell_type": "code",
   "execution_count": 39,
   "metadata": {},
   "outputs": [
    {
     "data": {
      "text/plain": [
       "6"
      ]
     },
     "execution_count": 39,
     "metadata": {},
     "output_type": "execute_result"
    }
   ],
   "source": [
    "class Solution:\n",
    "    def maxLength(self, arr) -> int:\n",
    "        self.ans = 0\n",
    "        self.helper(arr, 0, [])\n",
    "        return self.ans\n",
    "    \n",
    "    def helper(self, arr, start, buffer):\n",
    "        string = ''.join(buffer)\n",
    "        if self.is_unique(string):\n",
    "            self.ans = max(self.ans, len(string))\n",
    "        else:\n",
    "            return\n",
    "        if start == len(arr):\n",
    "            return\n",
    "        \n",
    "        for i in range(start, len(arr)):\n",
    "            self.helper(arr, i+1, buffer+[arr[i]])\n",
    "            \n",
    "    def is_unique(self, string):\n",
    "        s = set()\n",
    "        for ch in string:\n",
    "            if ch in s:\n",
    "                return False\n",
    "            s.add(ch)\n",
    "        return True\n",
    "    \n",
    "arr = [\"cha\",\"r\",\"act\",\"ers\"]\n",
    "Solution().maxLength(arr)"
   ]
  }
 ],
 "metadata": {
  "kernelspec": {
   "display_name": "Python 3",
   "language": "python",
   "name": "python3"
  },
  "language_info": {
   "codemirror_mode": {
    "name": "ipython",
    "version": 3
   },
   "file_extension": ".py",
   "mimetype": "text/x-python",
   "name": "python",
   "nbconvert_exporter": "python",
   "pygments_lexer": "ipython3",
   "version": "3.6.8"
  }
 },
 "nbformat": 4,
 "nbformat_minor": 2
}
