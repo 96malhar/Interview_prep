{
 "cells": [
  {
   "cell_type": "markdown",
   "metadata": {},
   "source": [
    "### Longest Arithmetic Sequence\n",
    "Given an array A of integers, return the length of the longest arithmetic subsequence in A.\n",
    "\n",
    "Recall that a subsequence of A is a list A[i_1], A[i_2], ..., A[i_k] with 0 <= i_1 < i_2 < ... < i_k <= A.length - 1, and that a sequence B is arithmetic if B[i+1] - B[i] are all the same value (for 0 <= i < B.length - 1)."
   ]
  },
  {
   "cell_type": "code",
   "execution_count": 3,
   "metadata": {},
   "outputs": [
    {
     "data": {
      "text/plain": [
       "4"
      ]
     },
     "execution_count": 3,
     "metadata": {},
     "output_type": "execute_result"
    }
   ],
   "source": [
    "## TLE on LC\n",
    "class Solution:\n",
    "    def longestArithSeqLength(self, A) -> int:\n",
    "        self.memo = {}; max_len = 0\n",
    "        for i in range(len(A)):\n",
    "            for j in range(i+1, len(A)):\n",
    "                max_len = max(max_len, 1 + self.helper(j, A[j]-A[i], A))\n",
    "        return max_len\n",
    "    \n",
    "    def helper(self, i, diff, arr):\n",
    "        if (i, diff) in self.memo:\n",
    "            return self.memo[(i,diff)]\n",
    "        max_len = 1\n",
    "        for j in range(i+1, len(arr)):\n",
    "            if arr[j] - arr[i] == diff:\n",
    "                max_len = max(max_len, 1 + self.helper(j, diff, arr))\n",
    "        \n",
    "        self.memo[(i,diff)] = max_len\n",
    "        return max_len\n",
    "\n",
    "obj = Solution()\n",
    "obj.longestArithSeqLength([20,1,15,3,10,5,8])"
   ]
  },
  {
   "cell_type": "markdown",
   "metadata": {},
   "source": [
    "### Course Schedule III\n",
    "There are n different online courses numbered from 1 to n. Each course has some duration(course length) t and closed on dth day. A course should be taken continuously for t days and must be finished before or on the dth day. You will start at the 1st day.\n",
    "\n",
    "Given n online courses represented by pairs (t,d), your task is to find the maximal number of courses that can be taken.\n",
    "\n"
   ]
  },
  {
   "cell_type": "code",
   "execution_count": 7,
   "metadata": {},
   "outputs": [
    {
     "data": {
      "text/plain": [
       "3"
      ]
     },
     "execution_count": 7,
     "metadata": {},
     "output_type": "execute_result"
    }
   ],
   "source": [
    "class Solution:\n",
    "    def scheduleCourse(self, courses) -> int:\n",
    "        self.memo = {}\n",
    "        courses.sort(key=lambda x:x[1])\n",
    "        return self.helper(0, 0, courses)\n",
    "    \n",
    "    def helper(self, i, curr_day, courses):\n",
    "        if i == len(courses):\n",
    "            return 0\n",
    "        \n",
    "        if (i,curr_day) in self.memo:\n",
    "            return self.memo[(i,curr_day)]\n",
    "        \n",
    "        take = 0\n",
    "        duration = courses[i][0]\n",
    "        end = courses[i][1]\n",
    "        if curr_day + duration <= end:\n",
    "            take = 1 + self.helper(i+1, curr_day + duration, courses)\n",
    "        no_take = self.helper(i+1, curr_day, courses)\n",
    "        \n",
    "        self.memo[(i,curr_day)] = max(take, no_take)\n",
    "        return max(take, no_take)\n",
    "        \n",
    "obj = Solution()\n",
    "obj.scheduleCourse([[100,200],[200,1300],[1000,1250],[2000,3200]])"
   ]
  }
 ],
 "metadata": {
  "kernelspec": {
   "display_name": "Python 3",
   "language": "python",
   "name": "python3"
  },
  "language_info": {
   "codemirror_mode": {
    "name": "ipython",
    "version": 3
   },
   "file_extension": ".py",
   "mimetype": "text/x-python",
   "name": "python",
   "nbconvert_exporter": "python",
   "pygments_lexer": "ipython3",
   "version": "3.6.8"
  }
 },
 "nbformat": 4,
 "nbformat_minor": 2
}
