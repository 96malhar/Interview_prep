{
 "cells": [
  {
   "cell_type": "markdown",
   "metadata": {},
   "source": [
    "### Longest Arithmetic Sequence\n",
    "Given an array A of integers, return the length of the longest arithmetic subsequence in A.\n",
    "\n",
    "Recall that a subsequence of A is a list A[i_1], A[i_2], ..., A[i_k] with 0 <= i_1 < i_2 < ... < i_k <= A.length - 1, and that a sequence B is arithmetic if B[i+1] - B[i] are all the same value (for 0 <= i < B.length - 1)."
   ]
  },
  {
   "cell_type": "code",
   "execution_count": 3,
   "metadata": {},
   "outputs": [
    {
     "data": {
      "text/plain": [
       "4"
      ]
     },
     "execution_count": 3,
     "metadata": {},
     "output_type": "execute_result"
    }
   ],
   "source": [
    "## TLE on LC\n",
    "class Solution:\n",
    "    def longestArithSeqLength(self, A) -> int:\n",
    "        self.memo = {}; max_len = 0\n",
    "        for i in range(len(A)):\n",
    "            for j in range(i+1, len(A)):\n",
    "                max_len = max(max_len, 1 + self.helper(j, A[j]-A[i], A))\n",
    "        return max_len\n",
    "    \n",
    "    def helper(self, i, diff, arr):\n",
    "        if (i, diff) in self.memo:\n",
    "            return self.memo[(i,diff)]\n",
    "        max_len = 1\n",
    "        for j in range(i+1, len(arr)):\n",
    "            if arr[j] - arr[i] == diff:\n",
    "                max_len = max(max_len, 1 + self.helper(j, diff, arr))\n",
    "        \n",
    "        self.memo[(i,diff)] = max_len\n",
    "        return max_len\n",
    "\n",
    "obj = Solution()\n",
    "obj.longestArithSeqLength([20,1,15,3,10,5,8])"
   ]
  },
  {
   "cell_type": "markdown",
   "metadata": {},
   "source": [
    "### Course Schedule III\n",
    "There are n different online courses numbered from 1 to n. Each course has some duration(course length) t and closed on dth day. A course should be taken continuously for t days and must be finished before or on the dth day. You will start at the 1st day.\n",
    "\n",
    "Given n online courses represented by pairs (t,d), your task is to find the maximal number of courses that can be taken.\n",
    "\n"
   ]
  },
  {
   "cell_type": "code",
   "execution_count": 8,
   "metadata": {},
   "outputs": [
    {
     "data": {
      "text/plain": [
       "3"
      ]
     },
     "execution_count": 8,
     "metadata": {},
     "output_type": "execute_result"
    }
   ],
   "source": [
    "### TLE on LC\n",
    "class Solution:\n",
    "    def scheduleCourse(self, courses) -> int:\n",
    "        self.memo = {}\n",
    "        courses.sort(key=lambda x:x[1])\n",
    "        return self.helper(0, 0, courses)\n",
    "    \n",
    "    def helper(self, i, curr_day, courses):\n",
    "        if i == len(courses):\n",
    "            return 0\n",
    "        \n",
    "        if (i,curr_day) in self.memo:\n",
    "            return self.memo[(i,curr_day)]\n",
    "        \n",
    "        take = 0\n",
    "        duration = courses[i][0]\n",
    "        end = courses[i][1]\n",
    "        if curr_day + duration <= end:\n",
    "            take = 1 + self.helper(i+1, curr_day + duration, courses)\n",
    "        no_take = self.helper(i+1, curr_day, courses)\n",
    "        \n",
    "        self.memo[(i,curr_day)] = max(take, no_take)\n",
    "        return max(take, no_take)\n",
    "        \n",
    "obj = Solution()\n",
    "obj.scheduleCourse([[100,200],[200,1300],[1000,1250],[2000,3200]])"
   ]
  },
  {
   "cell_type": "markdown",
   "metadata": {},
   "source": [
    "### Minesweeper\n",
    "You are given a 2D char matrix representing the game board. 'M' represents an unrevealed mine, 'E' represents an unrevealed empty square, 'B' represents a revealed blank square that has no adjacent (above, below, left, right, and all 4 diagonals) mines, digit ('1' to '8') represents how many mines are adjacent to this revealed square, and finally 'X' represents a revealed mine.\n",
    "\n",
    "Now given the next click position (row and column indices) among all the unrevealed squares ('M' or 'E'), return the board after revealing this position according to the following rules:\n",
    "\n",
    "* If a mine ('M') is revealed, then the game is over - change it to 'X'.\n",
    "* If an empty square ('E') with no adjacent mines is revealed, then change it to revealed blank ('B') and all of its adjacent unrevealed squares should be revealed recursively.\n",
    "* If an empty square ('E') with at least one adjacent mine is revealed, then change it to a digit ('1' to '8') representing the number of adjacent mines.\n",
    "* Return the board when no more squares will be revealed.\n",
    "\n",
    "**All Clicks will be on unrevealed Squares**"
   ]
  },
  {
   "cell_type": "code",
   "execution_count": 7,
   "metadata": {},
   "outputs": [
    {
     "data": {
      "text/plain": [
       "[['B', '1', 'E', '1', 'B'],\n",
       " ['B', '1', 'M', '1', 'B'],\n",
       " ['B', '1', '1', '1', 'B'],\n",
       " ['B', 'B', 'B', 'B', 'B']]"
      ]
     },
     "execution_count": 7,
     "metadata": {},
     "output_type": "execute_result"
    }
   ],
   "source": [
    "class Solution:\n",
    "    def updateBoard(self, board, click):\n",
    "        # M - unrevealed Mine\n",
    "        # E - unrevealed Empty Square\n",
    "        # B - Revealed Blank Sqaure\n",
    "        # X - revealed Mine\n",
    "        # digit - revealed Square, represents count of adjacent mines\n",
    "        \n",
    "        x, y = click\n",
    "        \n",
    "        if board[x][y] == 'M':\n",
    "            board[x][y] = 'X'\n",
    "        \n",
    "        elif board[x][y] == 'E':\n",
    "            mine_count = 0\n",
    "            directions = [(x+1, y), (x,y+1), (x-1,y), (x,y-1), (x-1,y-1), (x-1,y+1), (x+1,y-1), (x+1,y+1)]\n",
    "            \n",
    "            for i, j in directions:\n",
    "                if 0<=i<len(board) and 0<=j<len(board[0]) and board[i][j] == 'M':\n",
    "                    mine_count += 1\n",
    "                    \n",
    "            if mine_count != 0:\n",
    "                board[x][y] = str(mine_count)\n",
    "                \n",
    "            else:\n",
    "                board[x][y] = 'B'\n",
    "                for i, j in directions:\n",
    "                    if 0<=i<len(board) and 0<=j<len(board[0]):\n",
    "                        self.updateBoard(board, [i,j])\n",
    "                        \n",
    "        return board\n",
    "\n",
    "board = [[\"E\",\"E\",\"E\",\"E\",\"E\"],[\"E\",\"E\",\"M\",\"E\",\"E\"],[\"E\",\"E\",\"E\",\"E\",\"E\"],[\"E\",\"E\",\"E\",\"E\",\"E\"]]\n",
    "click = [3,0]\n",
    "obj = Solution()\n",
    "obj.updateBoard(board, click)"
   ]
  },
  {
   "cell_type": "markdown",
   "metadata": {},
   "source": [
    "### Number of Longest Increasing Subsequences\n",
    "Given an unsorted array of integers, find the number of longest increasing subsequence"
   ]
  },
  {
   "cell_type": "code",
   "execution_count": 3,
   "metadata": {},
   "outputs": [
    {
     "data": {
      "text/plain": [
       "{4: (1, 1), 3: (2, 1), 2: (2, 1), 1: (3, 2), 0: (4, 2)}"
      ]
     },
     "execution_count": 3,
     "metadata": {},
     "output_type": "execute_result"
    }
   ],
   "source": [
    "class Solution:\n",
    "    def findNumberOfLIS(self, nums) -> int:\n",
    "        self.memo = {}\n",
    "        self.max_length = 0\n",
    "        self.ans = 0\n",
    "        for i in range(len(nums)-1, -1, -1):\n",
    "            self.helper(i, nums)\n",
    "        return self.ans\n",
    "        \n",
    "            \n",
    "    def helper(self, i, nums):\n",
    "        if i in self.memo:\n",
    "            return self.memo[i][0]\n",
    "        \n",
    "        max_at_i = 1; count = 0\n",
    "        \n",
    "        for j in range(i+1, len(nums)):\n",
    "            if nums[j] > nums[i]:\n",
    "                max_at_i = max(max_at_i, 1 + self.helper(j, nums))\n",
    "        \n",
    "        for j in range(i+1, len(nums)):\n",
    "            if nums[j] > nums[i] and max_at_i == 1 + self.memo[j][0]:\n",
    "                count += self.memo[j][1]\n",
    "        \n",
    "        count = max(1, count)\n",
    "        \n",
    "        self.memo[i] = (max_at_i, count)\n",
    "        \n",
    "        if max_at_i > self.max_length:\n",
    "            self.max_length = max_at_i\n",
    "            self.ans = count\n",
    "        elif max_at_i == self.max_length:\n",
    "            self.ans += count\n",
    "        \n",
    "obj = Solution()\n",
    "nums = [1,3,5,4,7]\n",
    "obj.findNumberOfLIS(nums)\n",
    "obj.memo"
   ]
  }
 ],
 "metadata": {
  "kernelspec": {
   "display_name": "Python 3",
   "language": "python",
   "name": "python3"
  },
  "language_info": {
   "codemirror_mode": {
    "name": "ipython",
    "version": 3
   },
   "file_extension": ".py",
   "mimetype": "text/x-python",
   "name": "python",
   "nbconvert_exporter": "python",
   "pygments_lexer": "ipython3",
   "version": "3.6.8"
  }
 },
 "nbformat": 4,
 "nbformat_minor": 2
}
