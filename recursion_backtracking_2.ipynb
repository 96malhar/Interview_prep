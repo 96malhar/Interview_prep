{
 "cells": [
  {
   "cell_type": "markdown",
   "metadata": {},
   "source": [
    "### Longest Arithmetic Sequence\n",
    "Given an array A of integers, return the length of the longest arithmetic subsequence in A.\n",
    "\n",
    "Recall that a subsequence of A is a list A[i_1], A[i_2], ..., A[i_k] with 0 <= i_1 < i_2 < ... < i_k <= A.length - 1, and that a sequence B is arithmetic if B[i+1] - B[i] are all the same value (for 0 <= i < B.length - 1)."
   ]
  },
  {
   "cell_type": "code",
   "execution_count": 3,
   "metadata": {},
   "outputs": [
    {
     "data": {
      "text/plain": [
       "4"
      ]
     },
     "execution_count": 3,
     "metadata": {},
     "output_type": "execute_result"
    }
   ],
   "source": [
    "## TLE on LC\n",
    "class Solution:\n",
    "    def longestArithSeqLength(self, A) -> int:\n",
    "        self.memo = {}; max_len = 0\n",
    "        for i in range(len(A)):\n",
    "            for j in range(i+1, len(A)):\n",
    "                max_len = max(max_len, 1 + self.helper(j, A[j]-A[i], A))\n",
    "        return max_len\n",
    "    \n",
    "    def helper(self, i, diff, arr):\n",
    "        if (i, diff) in self.memo:\n",
    "            return self.memo[(i,diff)]\n",
    "        max_len = 1\n",
    "        for j in range(i+1, len(arr)):\n",
    "            if arr[j] - arr[i] == diff:\n",
    "                max_len = max(max_len, 1 + self.helper(j, diff, arr))\n",
    "        \n",
    "        self.memo[(i,diff)] = max_len\n",
    "        return max_len\n",
    "\n",
    "obj = Solution()\n",
    "obj.longestArithSeqLength([20,1,15,3,10,5,8])"
   ]
  },
  {
   "cell_type": "markdown",
   "metadata": {},
   "source": [
    "### Course Schedule III\n",
    "There are n different online courses numbered from 1 to n. Each course has some duration(course length) t and closed on dth day. A course should be taken continuously for t days and must be finished before or on the dth day. You will start at the 1st day.\n",
    "\n",
    "Given n online courses represented by pairs (t,d), your task is to find the maximal number of courses that can be taken.\n",
    "\n"
   ]
  },
  {
   "cell_type": "code",
   "execution_count": 8,
   "metadata": {},
   "outputs": [
    {
     "data": {
      "text/plain": [
       "3"
      ]
     },
     "execution_count": 8,
     "metadata": {},
     "output_type": "execute_result"
    }
   ],
   "source": [
    "### TLE on LC\n",
    "class Solution:\n",
    "    def scheduleCourse(self, courses) -> int:\n",
    "        self.memo = {}\n",
    "        courses.sort(key=lambda x:x[1])\n",
    "        return self.helper(0, 0, courses)\n",
    "    \n",
    "    def helper(self, i, curr_day, courses):\n",
    "        if i == len(courses):\n",
    "            return 0\n",
    "        \n",
    "        if (i,curr_day) in self.memo:\n",
    "            return self.memo[(i,curr_day)]\n",
    "        \n",
    "        take = 0\n",
    "        duration = courses[i][0]\n",
    "        end = courses[i][1]\n",
    "        if curr_day + duration <= end:\n",
    "            take = 1 + self.helper(i+1, curr_day + duration, courses)\n",
    "        no_take = self.helper(i+1, curr_day, courses)\n",
    "        \n",
    "        self.memo[(i,curr_day)] = max(take, no_take)\n",
    "        return max(take, no_take)\n",
    "        \n",
    "obj = Solution()\n",
    "obj.scheduleCourse([[100,200],[200,1300],[1000,1250],[2000,3200]])"
   ]
  },
  {
   "cell_type": "markdown",
   "metadata": {},
   "source": [
    "### Minesweeper\n",
    "You are given a 2D char matrix representing the game board. 'M' represents an unrevealed mine, 'E' represents an unrevealed empty square, 'B' represents a revealed blank square that has no adjacent (above, below, left, right, and all 4 diagonals) mines, digit ('1' to '8') represents how many mines are adjacent to this revealed square, and finally 'X' represents a revealed mine.\n",
    "\n",
    "Now given the next click position (row and column indices) among all the unrevealed squares ('M' or 'E'), return the board after revealing this position according to the following rules:\n",
    "\n",
    "* If a mine ('M') is revealed, then the game is over - change it to 'X'.\n",
    "* If an empty square ('E') with no adjacent mines is revealed, then change it to revealed blank ('B') and all of its adjacent unrevealed squares should be revealed recursively.\n",
    "* If an empty square ('E') with at least one adjacent mine is revealed, then change it to a digit ('1' to '8') representing the number of adjacent mines.\n",
    "* Return the board when no more squares will be revealed.\n",
    "\n",
    "**All Clicks will be on unrevealed Squares**"
   ]
  },
  {
   "cell_type": "code",
   "execution_count": 7,
   "metadata": {},
   "outputs": [
    {
     "data": {
      "text/plain": [
       "[['B', '1', 'E', '1', 'B'],\n",
       " ['B', '1', 'M', '1', 'B'],\n",
       " ['B', '1', '1', '1', 'B'],\n",
       " ['B', 'B', 'B', 'B', 'B']]"
      ]
     },
     "execution_count": 7,
     "metadata": {},
     "output_type": "execute_result"
    }
   ],
   "source": [
    "class Solution:\n",
    "    def updateBoard(self, board, click):\n",
    "        # M - unrevealed Mine\n",
    "        # E - unrevealed Empty Square\n",
    "        # B - Revealed Blank Sqaure\n",
    "        # X - revealed Mine\n",
    "        # digit - revealed Square, represents count of adjacent mines\n",
    "        \n",
    "        x, y = click\n",
    "        \n",
    "        if board[x][y] == 'M':\n",
    "            board[x][y] = 'X'\n",
    "        \n",
    "        elif board[x][y] == 'E':\n",
    "            mine_count = 0\n",
    "            directions = [(x+1, y), (x,y+1), (x-1,y), (x,y-1), (x-1,y-1), (x-1,y+1), (x+1,y-1), (x+1,y+1)]\n",
    "            \n",
    "            for i, j in directions:\n",
    "                if 0<=i<len(board) and 0<=j<len(board[0]) and board[i][j] == 'M':\n",
    "                    mine_count += 1\n",
    "                    \n",
    "            if mine_count != 0:\n",
    "                board[x][y] = str(mine_count)\n",
    "                \n",
    "            else:\n",
    "                board[x][y] = 'B'\n",
    "                for i, j in directions:\n",
    "                    if 0<=i<len(board) and 0<=j<len(board[0]):\n",
    "                        self.updateBoard(board, [i,j])\n",
    "                        \n",
    "        return board\n",
    "\n",
    "board = [[\"E\",\"E\",\"E\",\"E\",\"E\"],[\"E\",\"E\",\"M\",\"E\",\"E\"],[\"E\",\"E\",\"E\",\"E\",\"E\"],[\"E\",\"E\",\"E\",\"E\",\"E\"]]\n",
    "click = [3,0]\n",
    "obj = Solution()\n",
    "obj.updateBoard(board, click)"
   ]
  },
  {
   "cell_type": "markdown",
   "metadata": {},
   "source": [
    "### Number of Longest Increasing Subsequences\n",
    "Given an unsorted array of integers, find the number of longest increasing subsequence"
   ]
  },
  {
   "cell_type": "code",
   "execution_count": 4,
   "metadata": {},
   "outputs": [
    {
     "data": {
      "text/plain": [
       "{4: (1, 1), 3: (2, 1), 2: (2, 1), 1: (3, 2), 0: (4, 2)}"
      ]
     },
     "execution_count": 4,
     "metadata": {},
     "output_type": "execute_result"
    }
   ],
   "source": [
    "class Solution:\n",
    "    def findNumberOfLIS(self, nums) -> int:\n",
    "        self.memo = {}\n",
    "        self.max_length = 0\n",
    "        self.ans = 0\n",
    "        for i in range(len(nums)-1, -1, -1):\n",
    "            self.helper(i, nums)\n",
    "        return self.ans\n",
    "        \n",
    "            \n",
    "    def helper(self, i, nums):\n",
    "        if i in self.memo:\n",
    "            return self.memo[i][0]\n",
    "        \n",
    "        max_at_i = 1; count = 0\n",
    "        \n",
    "        for j in range(i+1, len(nums)):\n",
    "            if nums[j] > nums[i]:\n",
    "                max_at_i = max(max_at_i, 1 + self.helper(j, nums))\n",
    "        \n",
    "        for j in range(i+1, len(nums)):\n",
    "            if nums[j] > nums[i] and max_at_i == 1 + self.memo[j][0]:\n",
    "                count += self.memo[j][1]\n",
    "        \n",
    "        count = max(1, count)\n",
    "        \n",
    "        self.memo[i] = (max_at_i, count)\n",
    "        \n",
    "        if max_at_i > self.max_length:\n",
    "            self.max_length = max_at_i\n",
    "            self.ans = count\n",
    "        elif max_at_i == self.max_length:\n",
    "            self.ans += count\n",
    "        \n",
    "obj = Solution()\n",
    "nums = [1,3,5,4,7]\n",
    "obj.findNumberOfLIS(nums)\n",
    "obj.memo"
   ]
  },
  {
   "cell_type": "markdown",
   "metadata": {},
   "source": [
    "### Partition to K equal Subset Sum\n",
    "Given an array of integers nums and a positive integer k, find whether it's possible to divide this array into k non-empty subsets whose sums are all equal."
   ]
  },
  {
   "cell_type": "code",
   "execution_count": 6,
   "metadata": {},
   "outputs": [
    {
     "data": {
      "text/plain": [
       "True"
      ]
     },
     "execution_count": 6,
     "metadata": {},
     "output_type": "execute_result"
    }
   ],
   "source": [
    "class Solution:\n",
    "    def canPartitionKSubsets(self, nums, k: int) -> bool:\n",
    "        nums.sort(reverse = True)\n",
    "        total = sum(nums)\n",
    "        if total % k != 0:\n",
    "            return False\n",
    "        target = total / k\n",
    "        if nums[0] > target:\n",
    "            return False\n",
    "        self.memo = {}\n",
    "        return self.helper(nums, target, 0, 0, k)\n",
    "    \n",
    "    def helper(self, nums, target, curr_sum, hashcode, k):\n",
    "        if (k, hashcode) in self.memo:\n",
    "            return self.memo[(k, hashcode)]\n",
    "        \n",
    "        if k == 1:\n",
    "            return True\n",
    "        \n",
    "        for i in range(len(nums)):\n",
    "            if (hashcode >> i) & 1 == 0:\n",
    "                if curr_sum + nums[i] < target and self.helper(nums, target, curr_sum+nums[i], hashcode|(1<<i), k):\n",
    "                    self.memo[(k, hashcode)] = True\n",
    "                    return True\n",
    "                if curr_sum + nums[i] == target and self.helper(nums, target, 0, hashcode|(1<<i), k-1):\n",
    "                    self.memo[(k, hashcode)] = True\n",
    "                    return True\n",
    "        \n",
    "        self.memo[(k, hashcode)] = False\n",
    "        return False\n",
    "    \n",
    "nums = [4, 3, 2, 3, 5, 2, 1]; k = 4\n",
    "obj = Solution()\n",
    "obj.canPartitionKSubsets(nums, k)"
   ]
  },
  {
   "cell_type": "markdown",
   "metadata": {},
   "source": [
    "### Can I Win\n",
    "In the \"100 game,\" two players take turns adding, to a running total, any integer from 1..10. The player who first causes the running total to reach or exceed 100 wins.\n",
    "\n",
    "What if we change the game so that players cannot re-use integers?\n",
    "\n",
    "For example, two players might take turns drawing from a common pool of numbers of 1..15 without replacement until they reach a total >= 100.\n",
    "\n",
    "Given an integer maxChoosableInteger and another integer desiredTotal, determine if the first player to move can force a win, assuming both players play optimally.\n",
    "\n",
    "You can always assume that maxChoosableInteger will not be larger than 20 and desiredTotal will not be larger than 300."
   ]
  },
  {
   "cell_type": "code",
   "execution_count": 8,
   "metadata": {},
   "outputs": [
    {
     "data": {
      "text/plain": [
       "True"
      ]
     },
     "execution_count": 8,
     "metadata": {},
     "output_type": "execute_result"
    }
   ],
   "source": [
    "class Solution:\n",
    "    def canIWin(self, maxChoosableInteger: int, desiredTotal: int) -> bool:\n",
    "        maxsum = maxChoosableInteger * (maxChoosableInteger + 1) / 2\n",
    "        if maxsum < desiredTotal:\n",
    "            return False\n",
    "        self.memo = {}\n",
    "        return self.helper(maxChoosableInteger, desiredTotal, 0)\n",
    "    \n",
    "    def helper(self, max_num, total, hashcode):    \n",
    "        if hashcode in self.memo:\n",
    "            return self.memo[hashcode]\n",
    "\n",
    "        for i in range(1, max_num+1):\n",
    "            if (hashcode >> i) & 1 == 0:\n",
    "                if i>= total or not self.helper(max_num, total-i, hashcode|(1<<i)):\n",
    "                    self.memo[hashcode] = True\n",
    "                    return True\n",
    "        \n",
    "        self.memo[hashcode] = False\n",
    "        return False\n",
    "\n",
    "obj = Solution()\n",
    "obj.canIWin(10, 12)"
   ]
  },
  {
   "cell_type": "markdown",
   "metadata": {},
   "source": [
    "### Brace Expansion\n",
    "A string S represents a list of words.\n",
    "\n",
    "Each letter in the word has 1 or more options.  If there is one option, the letter is represented as is.  If there is more than one option, then curly braces delimit the options.  For example, \"{a,b,c}\" represents options [\"a\", \"b\", \"c\"].\n",
    "\n",
    "For example, \"{a,b,c}d{e,f}\" represents the list [\"ade\", \"adf\", \"bde\", \"bdf\", \"cde\", \"cdf\"].\n",
    "\n",
    "Return all words that can be formed in this manner, in lexicographical order."
   ]
  },
  {
   "cell_type": "code",
   "execution_count": 5,
   "metadata": {},
   "outputs": [
    {
     "data": {
      "text/plain": [
       "['acdf', 'acef', 'bcdf', 'bcef']"
      ]
     },
     "execution_count": 5,
     "metadata": {},
     "output_type": "execute_result"
    }
   ],
   "source": [
    "class Solution:\n",
    "    def expand(self, S: str):\n",
    "        word_list = []; cand_list = []; brace_open = False\n",
    "        for ch in S:\n",
    "            if ch.isalpha():\n",
    "                if not brace_open:\n",
    "                    word_list.append([ch])\n",
    "                else:\n",
    "                    cand_list.append(ch)\n",
    "            elif ch == '{':\n",
    "                brace_open = True\n",
    "            elif ch == '}':\n",
    "                brace_open = False\n",
    "                word_list.append(cand_list)\n",
    "                cand_list = []\n",
    "        \n",
    "        self.ans = []\n",
    "        self.helper(0, word_list, '')\n",
    "        return sorted(self.ans)\n",
    "    \n",
    "    def helper(self, i, word_list, string):\n",
    "        if len(string) == len(word_list):\n",
    "            self.ans.append(string)\n",
    "            return \n",
    "        \n",
    "        for ch in word_list[i]:\n",
    "            self.helper(i+1, word_list, string + ch)\n",
    "        \n",
    "Solution().expand(\"{a,b}c{d,e}f\")"
   ]
  },
  {
   "cell_type": "markdown",
   "metadata": {},
   "source": [
    "### Nested List Weight Sum\n",
    "Given a nested list of integers, return the sum of all integers in the list weighted by their depth.\n",
    "\n",
    "Each element is either an integer, or a list -- whose elements may also be integers or other lists."
   ]
  },
  {
   "cell_type": "code",
   "execution_count": 16,
   "metadata": {},
   "outputs": [
    {
     "data": {
      "text/plain": [
       "27"
      ]
     },
     "execution_count": 16,
     "metadata": {},
     "output_type": "execute_result"
    }
   ],
   "source": [
    "class Solution:\n",
    "    def depthSum(self, nestedList) -> int:\n",
    "        self.ans = 0\n",
    "        self.flatten(nestedList, 1)\n",
    "        return self.ans\n",
    "    \n",
    "    def flatten(self, nlist, i):\n",
    "        for elem in nlist:\n",
    "            if type(elem) == int:\n",
    "                self.ans += elem * i\n",
    "            else:\n",
    "                self.flatten(elem, i+1)\n",
    "    \n",
    "Solution().depthSum([1,[4,[6]]])"
   ]
  },
  {
   "cell_type": "markdown",
   "metadata": {},
   "source": [
    "### Nested List Weight Sum II\n",
    "Different from the previous question where weight is increasing from root to leaf, now the weight is defined from bottom up. i.e., the leaf level integers have weight 1, and the root level integers have the largest weight."
   ]
  },
  {
   "cell_type": "code",
   "execution_count": 25,
   "metadata": {},
   "outputs": [
    {
     "data": {
      "text/plain": [
       "17"
      ]
     },
     "execution_count": 25,
     "metadata": {},
     "output_type": "execute_result"
    }
   ],
   "source": [
    "def depthSumInverse(nestedList) -> int:\n",
    "    queue = [nestedList]; weighted = unweighted = 0\n",
    "    while queue:\n",
    "        size = len(queue)\n",
    "        for _ in range(size):\n",
    "            nlist = queue.pop(0)\n",
    "            for elem in nlist:\n",
    "                if type(elem) == int:\n",
    "                    unweighted += elem\n",
    "                else:\n",
    "                    queue.append(elem)\n",
    "        weighted += unweighted\n",
    "    return weighted\n",
    "\n",
    "depthSumInverse([1,[4,[6]]])"
   ]
  },
  {
   "cell_type": "markdown",
   "metadata": {},
   "source": [
    "### Remove Invalid Parenthesis\n",
    "Remove the minimum number of invalid parentheses in order to make the input string valid. Return all possible results.\n",
    "\n",
    "Note: The input string may contain letters other than the parentheses ( and )."
   ]
  },
  {
   "cell_type": "code",
   "execution_count": 6,
   "metadata": {},
   "outputs": [
    {
     "data": {
      "text/plain": [
       "['(a)()()', '(a)(())', '(a())()', '(a()())', '(a(()))']"
      ]
     },
     "execution_count": 6,
     "metadata": {},
     "output_type": "execute_result"
    }
   ],
   "source": [
    "class Solution:\n",
    "    def removeInvalidParentheses(self, s: str):\n",
    "        bal = 0; close_r = 0\n",
    "        for ch in s:\n",
    "            if ch == '(': bal += 1\n",
    "            elif ch == ')':\n",
    "                if bal > 0: bal -= 1\n",
    "                else: close_r += 1\n",
    "                    \n",
    "        open_r = bal\n",
    "        self.ans = []\n",
    "        self.helper(0, 0, open_r, close_r, s, '')\n",
    "        return self.ans\n",
    "\n",
    "    def helper(self, i, bal, open_r, close_r, s, string):\n",
    "        if bal < 0:\n",
    "            return\n",
    "        \n",
    "        if i == len(s):\n",
    "            if open_r == 0 and close_r == 0:\n",
    "                self.ans.append(string)\n",
    "            return\n",
    "        \n",
    "        if s[i] == '(':\n",
    "            j = 1\n",
    "            while i+j < len(s) and s[i+j] == '(': j += 1\n",
    "            self.helper(i+j, bal+j, open_r, close_r, s, string+'('*j)\n",
    "            if open_r > 0:\n",
    "                self.helper(i+1, bal, open_r-1, close_r, s, string)\n",
    "        \n",
    "        if s[i] == ')':\n",
    "            j = 1\n",
    "            while i+j<len(s) and s[i+j] == ')': j += 1\n",
    "            self.helper(i+j, bal-j, open_r, close_r, s, string+')'*j)\n",
    "            if close_r > 0:\n",
    "                self.helper(i+1, bal, open_r, close_r-1, s, string)\n",
    "        \n",
    "        else:\n",
    "            self.helper(i+1, bal, open_r, close_r, s, string+s[i])\n",
    "    \n",
    "s = \"(a)())()))\"\n",
    "Solution().removeInvalidParentheses(s)"
   ]
  },
  {
   "cell_type": "markdown",
   "metadata": {},
   "source": [
    "### Minimum Distance to Type a Word Using Two Fingers\n",
    "You have a keyboard layout as shown above in the XY plane, where each English uppercase letter is located at some coordinate, for example, the letter A is located at coordinate (0,0), the letter B is located at coordinate (0,1), the letter P is located at coordinate (2,3) and the letter Z is located at coordinate (4,1).\n",
    "\n",
    "Given the string word, return the minimum total distance to type such string using only two fingers. The distance between coordinates (x1,y1) and (x2,y2) is |x1 - x2| + |y1 - y2|. \n",
    "\n",
    "Note that the initial positions of your two fingers are considered free so don't count towards your total distance, also your two fingers do not have to start at the first letter or the first two letters."
   ]
  },
  {
   "cell_type": "code",
   "execution_count": 5,
   "metadata": {},
   "outputs": [
    {
     "data": {
      "text/plain": [
       "3"
      ]
     },
     "execution_count": 5,
     "metadata": {},
     "output_type": "execute_result"
    }
   ],
   "source": [
    "class Solution:\n",
    "    def minimumDistance(self, word: str) -> int:\n",
    "        self.index = {}\n",
    "        keyboard = ['ABCDEF', 'GHIJKL', 'MNOPQR', 'STUVWX', 'YZ']\n",
    "        for i in range(len(keyboard)):\n",
    "            for j in range(len(keyboard[i])):\n",
    "                self.index[keyboard[i][j]] = (i,j)\n",
    "        self.memo = {}\n",
    "        \n",
    "        return self.helper(0, None, None, word)\n",
    "    \n",
    "    def helper(self, i, p1, p2, word):\n",
    "        if i == len(word):\n",
    "            return 0\n",
    "        \n",
    "        if (i, p1, p2) in self.memo:\n",
    "            return self.memo[(i, p1, p2)]\n",
    "        \n",
    "        #Press finger 1\n",
    "        dist = self.manhattan_dist(p1, self.index[word[i]])\n",
    "        pressed_1 = dist + self.helper(i+1, self.index[word[i]], p2, word)\n",
    "        \n",
    "        #press finger 2\n",
    "        dist = self.manhattan_dist(p2, self.index[word[i]])\n",
    "        pressed_2 = dist+ self.helper(i+1, p1, self.index[word[i]], word)\n",
    "        \n",
    "        self.memo[(i,p1, p2)] = min(pressed_1, pressed_2)\n",
    "        return min(pressed_1, pressed_2)\n",
    "    \n",
    "    def manhattan_dist(self, x, y):\n",
    "        if not x or not y:\n",
    "            return 0\n",
    "        return abs(x[0]-y[0]) + abs(x[1]-y[1])\n",
    "\n",
    "obj = Solution()\n",
    "obj.minimumDistance('CAKE')        "
   ]
  },
  {
   "cell_type": "markdown",
   "metadata": {},
   "source": [
    "### Minimum Swaps To Make Sequences Increasing\n",
    "We have two integer sequences A and B of the same non-zero length.\n",
    "\n",
    "We are allowed to swap elements A[i] and B[i].  Note that both elements are in the same index position in their respective sequences.\n",
    "\n",
    "At the end of some number of swaps, A and B are both strictly increasing.  (A sequence is strictly increasing if and only if A[0] < A[1] < A[2] <..< A[A.length - 1].)\n",
    "\n",
    "Given A and B, return the minimum number of swaps to make both sequences strictly increasing.  It is guaranteed that the given input always makes it possible."
   ]
  },
  {
   "cell_type": "code",
   "execution_count": 6,
   "metadata": {},
   "outputs": [
    {
     "data": {
      "text/plain": [
       "1"
      ]
     },
     "execution_count": 6,
     "metadata": {},
     "output_type": "execute_result"
    }
   ],
   "source": [
    "class Solution:\n",
    "    def minSwap(self, A, B) -> int:\n",
    "        self.memo = {}\n",
    "        return self.helper(0, -float('inf'), -float('inf'), A, B, False)\n",
    "    \n",
    "    def helper(self, i, prev_a, prev_b, a, b, swap):\n",
    "        if i == len(a):\n",
    "            return 0\n",
    "        \n",
    "        if (i, swap) in self.memo:\n",
    "            return self.memo[(i, swap)]\n",
    "        \n",
    "        make_swap = no_swap = float('inf')\n",
    "        \n",
    "        #make_swap\n",
    "        if b[i] > prev_a and a[i] > prev_b:\n",
    "            make_swap = 1 + self.helper(i+1, b[i], a[i], a, b, True)\n",
    "        \n",
    "        #no swap\n",
    "        if a[i] > prev_a and b[i] > prev_b:\n",
    "            no_swap = self.helper(i+1, a[i], b[i], a, b, False)\n",
    "        \n",
    "        self.memo[(i, swap)] = min(make_swap, no_swap)\n",
    "        return min(make_swap, no_swap)\n",
    "\n",
    "A = [1,3,5,4]; B = [1,2,3,7]\n",
    "Solution().minSwap(A, B)"
   ]
  },
  {
   "cell_type": "markdown",
   "metadata": {},
   "source": [
    "### Cheapest Flights within K stops\n",
    "There are n cities connected by m flights. Each flight starts from city u and arrives at v with a price w.\n",
    "\n",
    "Now given all the cities and flights, together with starting city src and the destination dst, your task is to find the cheapest price from src to dst with up to k stops. If there is no such route, output -1."
   ]
  },
  {
   "cell_type": "code",
   "execution_count": 7,
   "metadata": {},
   "outputs": [
    {
     "data": {
      "text/plain": [
       "6"
      ]
     },
     "execution_count": 7,
     "metadata": {},
     "output_type": "execute_result"
    }
   ],
   "source": [
    "from collections import defaultdict\n",
    "class Solution:\n",
    "    def findCheapestPrice(self, n: int, flights, src: int, dst: int, K: int) -> int:\n",
    "        self.graph = defaultdict(list)\n",
    "        for x, y, cost in flights:\n",
    "            self.graph[x].append((y, cost))\n",
    "        self.memo = {}\n",
    "        ans = self.helper(src, dst, K+1)\n",
    "        return ans if ans!= float('inf') else -1\n",
    "    \n",
    "    def helper(self, curr_city, dst, k):\n",
    "        if k<0:\n",
    "            return float('inf')\n",
    "        if curr_city == dst:\n",
    "            return 0\n",
    "        \n",
    "        if (curr_city, k) in self.memo:\n",
    "            return self.memo[(curr_city, k)]\n",
    "        \n",
    "        min_cost = float('inf')\n",
    "        for next_city, cost in self.graph[curr_city]:\n",
    "            min_cost = min(min_cost, cost + self.helper(next_city, dst, k-1))\n",
    "        \n",
    "        self.memo[(curr_city, k)] = min_cost\n",
    "        return min_cost\n",
    "\n",
    "n = 4; flights = [[0,1,1],[0,2,5],[1,2,1],[2,3,1]]; src = 0; dst = 3; K = 1\n",
    "Solution().findCheapestPrice(n, flights, src, dst, K)"
   ]
  },
  {
   "cell_type": "markdown",
   "metadata": {},
   "source": [
    "### Campus Bikes II\n",
    "On a campus represented as a 2D grid, there are N workers and M bikes, with N <= M. Each worker and bike is a 2D coordinate on this grid.\n",
    "\n",
    "We assign one unique bike to each worker so that the sum of the Manhattan distances between each worker and their assigned bike is minimized.\n",
    "\n",
    "The Manhattan distance between two points p1 and p2 is Manhattan(p1, p2) = |p1.x - p2.x| + |p1.y - p2.y|.\n",
    "\n",
    "Return the minimum possible sum of Manhattan distances between each worker and their assigned bike."
   ]
  },
  {
   "cell_type": "code",
   "execution_count": 30,
   "metadata": {},
   "outputs": [
    {
     "data": {
      "text/plain": [
       "4"
      ]
     },
     "execution_count": 30,
     "metadata": {},
     "output_type": "execute_result"
    }
   ],
   "source": [
    "class Solution:\n",
    "    def assignBikes(self, workers, bikes) -> int:\n",
    "        self.memo = {}\n",
    "        return self.helper(0, 0, workers, bikes)\n",
    "    \n",
    "    def helper(self, i, hashcode, workers, bikes):\n",
    "        if i == len(workers):\n",
    "            return 0\n",
    "        \n",
    "        if (i, hashcode) in self.memo:\n",
    "            return self.memo[(i, hashcode)]\n",
    "        \n",
    "        min_dist = float('inf')\n",
    "        for j in range(len(bikes)):\n",
    "            if (hashcode >> j) & 1 == 0:\n",
    "                dist = self.get_dist(workers[i], bikes[j])\n",
    "                min_dist = min(min_dist, dist + self.helper(i+1, hashcode|(1<<j), workers, bikes))\n",
    "        \n",
    "        self.memo[(i, hashcode)] = min_dist\n",
    "        return min_dist\n",
    "    \n",
    "    def get_dist(self, w, b):\n",
    "        return abs(w[0]-b[0]) + abs(w[1]-b[1])\n",
    "\n",
    "workers = [[0,0],[1,1],[2,0]]; bikes = [[1,0],[2,2],[2,1]]\n",
    "Solution().assignBikes(workers, bikes)"
   ]
  }
 ],
 "metadata": {
  "kernelspec": {
   "display_name": "Python 3",
   "language": "python",
   "name": "python3"
  },
  "language_info": {
   "codemirror_mode": {
    "name": "ipython",
    "version": 3
   },
   "file_extension": ".py",
   "mimetype": "text/x-python",
   "name": "python",
   "nbconvert_exporter": "python",
   "pygments_lexer": "ipython3",
   "version": "3.6.8"
  }
 },
 "nbformat": 4,
 "nbformat_minor": 2
}
