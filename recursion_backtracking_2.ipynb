{
 "cells": [
  {
   "cell_type": "markdown",
   "metadata": {},
   "source": [
    "### Longest Arithmetic Sequence\n",
    "Given an array A of integers, return the length of the longest arithmetic subsequence in A.\n",
    "\n",
    "Recall that a subsequence of A is a list A[i_1], A[i_2], ..., A[i_k] with 0 <= i_1 < i_2 < ... < i_k <= A.length - 1, and that a sequence B is arithmetic if B[i+1] - B[i] are all the same value (for 0 <= i < B.length - 1)."
   ]
  },
  {
   "cell_type": "code",
   "execution_count": 3,
   "metadata": {},
   "outputs": [
    {
     "data": {
      "text/plain": [
       "4"
      ]
     },
     "execution_count": 3,
     "metadata": {},
     "output_type": "execute_result"
    }
   ],
   "source": [
    "## TLE on LC\n",
    "class Solution:\n",
    "    def longestArithSeqLength(self, A) -> int:\n",
    "        self.memo = {}; max_len = 0\n",
    "        for i in range(len(A)):\n",
    "            for j in range(i+1, len(A)):\n",
    "                max_len = max(max_len, 1 + self.helper(j, A[j]-A[i], A))\n",
    "        return max_len\n",
    "    \n",
    "    def helper(self, i, diff, arr):\n",
    "        if (i, diff) in self.memo:\n",
    "            return self.memo[(i,diff)]\n",
    "        max_len = 1\n",
    "        for j in range(i+1, len(arr)):\n",
    "            if arr[j] - arr[i] == diff:\n",
    "                max_len = max(max_len, 1 + self.helper(j, diff, arr))\n",
    "        \n",
    "        self.memo[(i,diff)] = max_len\n",
    "        return max_len\n",
    "\n",
    "obj = Solution()\n",
    "obj.longestArithSeqLength([20,1,15,3,10,5,8])"
   ]
  },
  {
   "cell_type": "markdown",
   "metadata": {},
   "source": [
    "### Course Schedule III\n",
    "There are n different online courses numbered from 1 to n. Each course has some duration(course length) t and closed on dth day. A course should be taken continuously for t days and must be finished before or on the dth day. You will start at the 1st day.\n",
    "\n",
    "Given n online courses represented by pairs (t,d), your task is to find the maximal number of courses that can be taken.\n",
    "\n"
   ]
  },
  {
   "cell_type": "code",
   "execution_count": 8,
   "metadata": {},
   "outputs": [
    {
     "data": {
      "text/plain": [
       "3"
      ]
     },
     "execution_count": 8,
     "metadata": {},
     "output_type": "execute_result"
    }
   ],
   "source": [
    "### TLE on LC\n",
    "class Solution:\n",
    "    def scheduleCourse(self, courses) -> int:\n",
    "        self.memo = {}\n",
    "        courses.sort(key=lambda x:x[1])\n",
    "        return self.helper(0, 0, courses)\n",
    "    \n",
    "    def helper(self, i, curr_day, courses):\n",
    "        if i == len(courses):\n",
    "            return 0\n",
    "        \n",
    "        if (i,curr_day) in self.memo:\n",
    "            return self.memo[(i,curr_day)]\n",
    "        \n",
    "        take = 0\n",
    "        duration = courses[i][0]\n",
    "        end = courses[i][1]\n",
    "        if curr_day + duration <= end:\n",
    "            take = 1 + self.helper(i+1, curr_day + duration, courses)\n",
    "        no_take = self.helper(i+1, curr_day, courses)\n",
    "        \n",
    "        self.memo[(i,curr_day)] = max(take, no_take)\n",
    "        return max(take, no_take)\n",
    "        \n",
    "obj = Solution()\n",
    "obj.scheduleCourse([[100,200],[200,1300],[1000,1250],[2000,3200]])"
   ]
  },
  {
   "cell_type": "markdown",
   "metadata": {},
   "source": [
    "### Minesweeper\n",
    "You are given a 2D char matrix representing the game board. 'M' represents an unrevealed mine, 'E' represents an unrevealed empty square, 'B' represents a revealed blank square that has no adjacent (above, below, left, right, and all 4 diagonals) mines, digit ('1' to '8') represents how many mines are adjacent to this revealed square, and finally 'X' represents a revealed mine.\n",
    "\n",
    "Now given the next click position (row and column indices) among all the unrevealed squares ('M' or 'E'), return the board after revealing this position according to the following rules:\n",
    "\n",
    "* If a mine ('M') is revealed, then the game is over - change it to 'X'.\n",
    "* If an empty square ('E') with no adjacent mines is revealed, then change it to revealed blank ('B') and all of its adjacent unrevealed squares should be revealed recursively.\n",
    "* If an empty square ('E') with at least one adjacent mine is revealed, then change it to a digit ('1' to '8') representing the number of adjacent mines.\n",
    "* Return the board when no more squares will be revealed.\n",
    "\n",
    "**All Clicks will be on unrevealed Squares**"
   ]
  },
  {
   "cell_type": "code",
   "execution_count": 7,
   "metadata": {},
   "outputs": [
    {
     "data": {
      "text/plain": [
       "[['B', '1', 'E', '1', 'B'],\n",
       " ['B', '1', 'M', '1', 'B'],\n",
       " ['B', '1', '1', '1', 'B'],\n",
       " ['B', 'B', 'B', 'B', 'B']]"
      ]
     },
     "execution_count": 7,
     "metadata": {},
     "output_type": "execute_result"
    }
   ],
   "source": [
    "class Solution:\n",
    "    def updateBoard(self, board, click):\n",
    "        # M - unrevealed Mine\n",
    "        # E - unrevealed Empty Square\n",
    "        # B - Revealed Blank Sqaure\n",
    "        # X - revealed Mine\n",
    "        # digit - revealed Square, represents count of adjacent mines\n",
    "        \n",
    "        x, y = click\n",
    "        \n",
    "        if board[x][y] == 'M':\n",
    "            board[x][y] = 'X'\n",
    "        \n",
    "        elif board[x][y] == 'E':\n",
    "            mine_count = 0\n",
    "            directions = [(x+1, y), (x,y+1), (x-1,y), (x,y-1), (x-1,y-1), (x-1,y+1), (x+1,y-1), (x+1,y+1)]\n",
    "            \n",
    "            for i, j in directions:\n",
    "                if 0<=i<len(board) and 0<=j<len(board[0]) and board[i][j] == 'M':\n",
    "                    mine_count += 1\n",
    "                    \n",
    "            if mine_count != 0:\n",
    "                board[x][y] = str(mine_count)\n",
    "                \n",
    "            else:\n",
    "                board[x][y] = 'B'\n",
    "                for i, j in directions:\n",
    "                    if 0<=i<len(board) and 0<=j<len(board[0]):\n",
    "                        self.updateBoard(board, [i,j])\n",
    "                        \n",
    "        return board\n",
    "\n",
    "board = [[\"E\",\"E\",\"E\",\"E\",\"E\"],[\"E\",\"E\",\"M\",\"E\",\"E\"],[\"E\",\"E\",\"E\",\"E\",\"E\"],[\"E\",\"E\",\"E\",\"E\",\"E\"]]\n",
    "click = [3,0]\n",
    "obj = Solution()\n",
    "obj.updateBoard(board, click)"
   ]
  },
  {
   "cell_type": "markdown",
   "metadata": {},
   "source": [
    "### Number of Longest Increasing Subsequences\n",
    "Given an unsorted array of integers, find the number of longest increasing subsequence"
   ]
  },
  {
   "cell_type": "code",
   "execution_count": 4,
   "metadata": {},
   "outputs": [
    {
     "data": {
      "text/plain": [
       "{4: (1, 1), 3: (2, 1), 2: (2, 1), 1: (3, 2), 0: (4, 2)}"
      ]
     },
     "execution_count": 4,
     "metadata": {},
     "output_type": "execute_result"
    }
   ],
   "source": [
    "class Solution:\n",
    "    def findNumberOfLIS(self, nums) -> int:\n",
    "        self.memo = {}\n",
    "        self.max_length = 0\n",
    "        self.ans = 0\n",
    "        for i in range(len(nums)-1, -1, -1):\n",
    "            self.helper(i, nums)\n",
    "        return self.ans\n",
    "        \n",
    "            \n",
    "    def helper(self, i, nums):\n",
    "        if i in self.memo:\n",
    "            return self.memo[i][0]\n",
    "        \n",
    "        max_at_i = 1; count = 0\n",
    "        \n",
    "        for j in range(i+1, len(nums)):\n",
    "            if nums[j] > nums[i]:\n",
    "                max_at_i = max(max_at_i, 1 + self.helper(j, nums))\n",
    "        \n",
    "        for j in range(i+1, len(nums)):\n",
    "            if nums[j] > nums[i] and max_at_i == 1 + self.memo[j][0]:\n",
    "                count += self.memo[j][1]\n",
    "        \n",
    "        count = max(1, count)\n",
    "        \n",
    "        self.memo[i] = (max_at_i, count)\n",
    "        \n",
    "        if max_at_i > self.max_length:\n",
    "            self.max_length = max_at_i\n",
    "            self.ans = count\n",
    "        elif max_at_i == self.max_length:\n",
    "            self.ans += count\n",
    "        \n",
    "obj = Solution()\n",
    "nums = [1,3,5,4,7]\n",
    "obj.findNumberOfLIS(nums)\n",
    "obj.memo"
   ]
  },
  {
   "cell_type": "markdown",
   "metadata": {},
   "source": [
    "### Partition to K equal Subset Sum\n",
    "Given an array of integers nums and a positive integer k, find whether it's possible to divide this array into k non-empty subsets whose sums are all equal."
   ]
  },
  {
   "cell_type": "code",
   "execution_count": 6,
   "metadata": {},
   "outputs": [
    {
     "data": {
      "text/plain": [
       "True"
      ]
     },
     "execution_count": 6,
     "metadata": {},
     "output_type": "execute_result"
    }
   ],
   "source": [
    "class Solution:\n",
    "    def canPartitionKSubsets(self, nums, k: int) -> bool:\n",
    "        nums.sort(reverse = True)\n",
    "        total = sum(nums)\n",
    "        if total % k != 0:\n",
    "            return False\n",
    "        target = total / k\n",
    "        if nums[0] > target:\n",
    "            return False\n",
    "        self.memo = {}\n",
    "        return self.helper(nums, target, 0, 0, k)\n",
    "    \n",
    "    def helper(self, nums, target, curr_sum, hashcode, k):\n",
    "        if (k, hashcode) in self.memo:\n",
    "            return self.memo[(k, hashcode)]\n",
    "        \n",
    "        if k == 1:\n",
    "            return True\n",
    "        \n",
    "        for i in range(len(nums)):\n",
    "            if (hashcode >> i) & 1 == 0:\n",
    "                if curr_sum + nums[i] < target and self.helper(nums, target, curr_sum+nums[i], hashcode|(1<<i), k):\n",
    "                    self.memo[(k, hashcode)] = True\n",
    "                    return True\n",
    "                if curr_sum + nums[i] == target and self.helper(nums, target, 0, hashcode|(1<<i), k-1):\n",
    "                    self.memo[(k, hashcode)] = True\n",
    "                    return True\n",
    "        \n",
    "        self.memo[(k, hashcode)] = False\n",
    "        return False\n",
    "    \n",
    "nums = [4, 3, 2, 3, 5, 2, 1]; k = 4\n",
    "obj = Solution()\n",
    "obj.canPartitionKSubsets(nums, k)"
   ]
  },
  {
   "cell_type": "markdown",
   "metadata": {},
   "source": [
    "### Can I Win\n",
    "In the \"100 game,\" two players take turns adding, to a running total, any integer from 1..10. The player who first causes the running total to reach or exceed 100 wins.\n",
    "\n",
    "What if we change the game so that players cannot re-use integers?\n",
    "\n",
    "For example, two players might take turns drawing from a common pool of numbers of 1..15 without replacement until they reach a total >= 100.\n",
    "\n",
    "Given an integer maxChoosableInteger and another integer desiredTotal, determine if the first player to move can force a win, assuming both players play optimally.\n",
    "\n",
    "You can always assume that maxChoosableInteger will not be larger than 20 and desiredTotal will not be larger than 300."
   ]
  },
  {
   "cell_type": "code",
   "execution_count": 8,
   "metadata": {},
   "outputs": [
    {
     "data": {
      "text/plain": [
       "True"
      ]
     },
     "execution_count": 8,
     "metadata": {},
     "output_type": "execute_result"
    }
   ],
   "source": [
    "class Solution:\n",
    "    def canIWin(self, maxChoosableInteger: int, desiredTotal: int) -> bool:\n",
    "        maxsum = maxChoosableInteger * (maxChoosableInteger + 1) / 2\n",
    "        if maxsum < desiredTotal:\n",
    "            return False\n",
    "        self.memo = {}\n",
    "        return self.helper(maxChoosableInteger, desiredTotal, 0)\n",
    "    \n",
    "    def helper(self, max_num, total, hashcode):    \n",
    "        if hashcode in self.memo:\n",
    "            return self.memo[hashcode]\n",
    "\n",
    "        for i in range(1, max_num+1):\n",
    "            if (hashcode >> i) & 1 == 0:\n",
    "                if i>= total or not self.helper(max_num, total-i, hashcode|(1<<i)):\n",
    "                    self.memo[hashcode] = True\n",
    "                    return True\n",
    "        \n",
    "        self.memo[hashcode] = False\n",
    "        return False\n",
    "\n",
    "obj = Solution()\n",
    "obj.canIWin(10, 12)"
   ]
  },
  {
   "cell_type": "markdown",
   "metadata": {},
   "source": [
    "### Brace Expansion\n",
    "A string S represents a list of words.\n",
    "\n",
    "Each letter in the word has 1 or more options.  If there is one option, the letter is represented as is.  If there is more than one option, then curly braces delimit the options.  For example, \"{a,b,c}\" represents options [\"a\", \"b\", \"c\"].\n",
    "\n",
    "For example, \"{a,b,c}d{e,f}\" represents the list [\"ade\", \"adf\", \"bde\", \"bdf\", \"cde\", \"cdf\"].\n",
    "\n",
    "Return all words that can be formed in this manner, in lexicographical order."
   ]
  },
  {
   "cell_type": "code",
   "execution_count": 5,
   "metadata": {},
   "outputs": [
    {
     "data": {
      "text/plain": [
       "['acdf', 'acef', 'bcdf', 'bcef']"
      ]
     },
     "execution_count": 5,
     "metadata": {},
     "output_type": "execute_result"
    }
   ],
   "source": [
    "class Solution:\n",
    "    def expand(self, S: str):\n",
    "        word_list = []; cand_list = []; brace_open = False\n",
    "        for ch in S:\n",
    "            if ch.isalpha():\n",
    "                if not brace_open:\n",
    "                    word_list.append([ch])\n",
    "                else:\n",
    "                    cand_list.append(ch)\n",
    "            elif ch == '{':\n",
    "                brace_open = True\n",
    "            elif ch == '}':\n",
    "                brace_open = False\n",
    "                word_list.append(cand_list)\n",
    "                cand_list = []\n",
    "        \n",
    "        self.ans = []\n",
    "        self.helper(0, word_list, '')\n",
    "        return sorted(self.ans)\n",
    "    \n",
    "    def helper(self, i, word_list, string):\n",
    "        if len(string) == len(word_list):\n",
    "            self.ans.append(string)\n",
    "            return \n",
    "        \n",
    "        for ch in word_list[i]:\n",
    "            self.helper(i+1, word_list, string + ch)\n",
    "        \n",
    "Solution().expand(\"{a,b}c{d,e}f\")"
   ]
  },
  {
   "cell_type": "markdown",
   "metadata": {},
   "source": [
    "### Nested List Weight Sum\n",
    "Given a nested list of integers, return the sum of all integers in the list weighted by their depth.\n",
    "\n",
    "Each element is either an integer, or a list -- whose elements may also be integers or other lists."
   ]
  },
  {
   "cell_type": "code",
   "execution_count": 16,
   "metadata": {},
   "outputs": [
    {
     "data": {
      "text/plain": [
       "27"
      ]
     },
     "execution_count": 16,
     "metadata": {},
     "output_type": "execute_result"
    }
   ],
   "source": [
    "class Solution:\n",
    "    def depthSum(self, nestedList) -> int:\n",
    "        self.ans = 0\n",
    "        self.flatten(nestedList, 1)\n",
    "        return self.ans\n",
    "    \n",
    "    def flatten(self, nlist, i):\n",
    "        for elem in nlist:\n",
    "            if type(elem) == int:\n",
    "                self.ans += elem * i\n",
    "            else:\n",
    "                self.flatten(elem, i+1)\n",
    "    \n",
    "Solution().depthSum([1,[4,[6]]])"
   ]
  },
  {
   "cell_type": "markdown",
   "metadata": {},
   "source": [
    "### Nested List Weight Sum II\n",
    "Different from the previous question where weight is increasing from root to leaf, now the weight is defined from bottom up. i.e., the leaf level integers have weight 1, and the root level integers have the largest weight."
   ]
  },
  {
   "cell_type": "code",
   "execution_count": 25,
   "metadata": {},
   "outputs": [
    {
     "data": {
      "text/plain": [
       "17"
      ]
     },
     "execution_count": 25,
     "metadata": {},
     "output_type": "execute_result"
    }
   ],
   "source": [
    "def depthSumInverse(nestedList) -> int:\n",
    "    queue = [nestedList]; weighted = unweighted = 0\n",
    "    while queue:\n",
    "        size = len(queue)\n",
    "        for _ in range(size):\n",
    "            nlist = queue.pop(0)\n",
    "            for elem in nlist:\n",
    "                if type(elem) == int:\n",
    "                    unweighted += elem\n",
    "                else:\n",
    "                    queue.append(elem)\n",
    "        weighted += unweighted\n",
    "    return weighted\n",
    "\n",
    "depthSumInverse([1,[4,[6]]])"
   ]
  },
  {
   "cell_type": "markdown",
   "metadata": {},
   "source": [
    "### Remove Invalid Parenthesis\n",
    "Remove the minimum number of invalid parentheses in order to make the input string valid. Return all possible results.\n",
    "\n",
    "Note: The input string may contain letters other than the parentheses ( and )."
   ]
  },
  {
   "cell_type": "code",
   "execution_count": 6,
   "metadata": {},
   "outputs": [
    {
     "data": {
      "text/plain": [
       "['(a)()()', '(a)(())', '(a())()', '(a()())', '(a(()))']"
      ]
     },
     "execution_count": 6,
     "metadata": {},
     "output_type": "execute_result"
    }
   ],
   "source": [
    "class Solution:\n",
    "    def removeInvalidParentheses(self, s: str):\n",
    "        bal = 0; close_r = 0\n",
    "        for ch in s:\n",
    "            if ch == '(': bal += 1\n",
    "            elif ch == ')':\n",
    "                if bal > 0: bal -= 1\n",
    "                else: close_r += 1\n",
    "                    \n",
    "        open_r = bal\n",
    "        self.ans = []\n",
    "        self.helper(0, 0, open_r, close_r, s, '')\n",
    "        return self.ans\n",
    "\n",
    "    def helper(self, i, bal, open_r, close_r, s, string):\n",
    "        if bal < 0:\n",
    "            return\n",
    "        \n",
    "        if i == len(s):\n",
    "            if open_r == 0 and close_r == 0:\n",
    "                self.ans.append(string)\n",
    "            return\n",
    "        \n",
    "        if s[i] == '(':\n",
    "            j = 1\n",
    "            while i+j < len(s) and s[i+j] == '(': j += 1\n",
    "            self.helper(i+j, bal+j, open_r, close_r, s, string+'('*j)\n",
    "            if open_r > 0:\n",
    "                self.helper(i+1, bal, open_r-1, close_r, s, string)\n",
    "        \n",
    "        if s[i] == ')':\n",
    "            j = 1\n",
    "            while i+j<len(s) and s[i+j] == ')': j += 1\n",
    "            self.helper(i+j, bal-j, open_r, close_r, s, string+')'*j)\n",
    "            if close_r > 0:\n",
    "                self.helper(i+1, bal, open_r, close_r-1, s, string)\n",
    "        \n",
    "        else:\n",
    "            self.helper(i+1, bal, open_r, close_r, s, string+s[i])\n",
    "    \n",
    "s = \"(a)())()))\"\n",
    "Solution().removeInvalidParentheses(s)"
   ]
  },
  {
   "cell_type": "markdown",
   "metadata": {},
   "source": [
    "### Minimum Distance to Type a Word Using Two Fingers\n",
    "You have a keyboard layout as shown above in the XY plane, where each English uppercase letter is located at some coordinate, for example, the letter A is located at coordinate (0,0), the letter B is located at coordinate (0,1), the letter P is located at coordinate (2,3) and the letter Z is located at coordinate (4,1).\n",
    "\n",
    "Given the string word, return the minimum total distance to type such string using only two fingers. The distance between coordinates (x1,y1) and (x2,y2) is |x1 - x2| + |y1 - y2|. \n",
    "\n",
    "Note that the initial positions of your two fingers are considered free so don't count towards your total distance, also your two fingers do not have to start at the first letter or the first two letters."
   ]
  },
  {
   "cell_type": "code",
   "execution_count": 5,
   "metadata": {},
   "outputs": [
    {
     "data": {
      "text/plain": [
       "3"
      ]
     },
     "execution_count": 5,
     "metadata": {},
     "output_type": "execute_result"
    }
   ],
   "source": [
    "class Solution:\n",
    "    def minimumDistance(self, word: str) -> int:\n",
    "        self.index = {}\n",
    "        keyboard = ['ABCDEF', 'GHIJKL', 'MNOPQR', 'STUVWX', 'YZ']\n",
    "        for i in range(len(keyboard)):\n",
    "            for j in range(len(keyboard[i])):\n",
    "                self.index[keyboard[i][j]] = (i,j)\n",
    "        self.memo = {}\n",
    "        \n",
    "        return self.helper(0, None, None, word)\n",
    "    \n",
    "    def helper(self, i, p1, p2, word):\n",
    "        if i == len(word):\n",
    "            return 0\n",
    "        \n",
    "        if (i, p1, p2) in self.memo:\n",
    "            return self.memo[(i, p1, p2)]\n",
    "        \n",
    "        #Press finger 1\n",
    "        dist = self.manhattan_dist(p1, self.index[word[i]])\n",
    "        pressed_1 = dist + self.helper(i+1, self.index[word[i]], p2, word)\n",
    "        \n",
    "        #press finger 2\n",
    "        dist = self.manhattan_dist(p2, self.index[word[i]])\n",
    "        pressed_2 = dist+ self.helper(i+1, p1, self.index[word[i]], word)\n",
    "        \n",
    "        self.memo[(i,p1, p2)] = min(pressed_1, pressed_2)\n",
    "        return min(pressed_1, pressed_2)\n",
    "    \n",
    "    def manhattan_dist(self, x, y):\n",
    "        if not x or not y:\n",
    "            return 0\n",
    "        return abs(x[0]-y[0]) + abs(x[1]-y[1])\n",
    "\n",
    "obj = Solution()\n",
    "obj.minimumDistance('CAKE')        "
   ]
  },
  {
   "cell_type": "markdown",
   "metadata": {},
   "source": [
    "### Minimum Swaps To Make Sequences Increasing\n",
    "We have two integer sequences A and B of the same non-zero length.\n",
    "\n",
    "We are allowed to swap elements A[i] and B[i].  Note that both elements are in the same index position in their respective sequences.\n",
    "\n",
    "At the end of some number of swaps, A and B are both strictly increasing.  (A sequence is strictly increasing if and only if A[0] < A[1] < A[2] <..< A[A.length - 1].)\n",
    "\n",
    "Given A and B, return the minimum number of swaps to make both sequences strictly increasing.  It is guaranteed that the given input always makes it possible."
   ]
  },
  {
   "cell_type": "code",
   "execution_count": 6,
   "metadata": {},
   "outputs": [
    {
     "data": {
      "text/plain": [
       "1"
      ]
     },
     "execution_count": 6,
     "metadata": {},
     "output_type": "execute_result"
    }
   ],
   "source": [
    "class Solution:\n",
    "    def minSwap(self, A, B) -> int:\n",
    "        self.memo = {}\n",
    "        return self.helper(0, -float('inf'), -float('inf'), A, B, False)\n",
    "    \n",
    "    def helper(self, i, prev_a, prev_b, a, b, swap):\n",
    "        if i == len(a):\n",
    "            return 0\n",
    "        \n",
    "        if (i, swap) in self.memo:\n",
    "            return self.memo[(i, swap)]\n",
    "        \n",
    "        make_swap = no_swap = float('inf')\n",
    "        \n",
    "        #make_swap\n",
    "        if b[i] > prev_a and a[i] > prev_b:\n",
    "            make_swap = 1 + self.helper(i+1, b[i], a[i], a, b, True)\n",
    "        \n",
    "        #no swap\n",
    "        if a[i] > prev_a and b[i] > prev_b:\n",
    "            no_swap = self.helper(i+1, a[i], b[i], a, b, False)\n",
    "        \n",
    "        self.memo[(i, swap)] = min(make_swap, no_swap)\n",
    "        return min(make_swap, no_swap)\n",
    "\n",
    "A = [1,3,5,4]; B = [1,2,3,7]\n",
    "Solution().minSwap(A, B)"
   ]
  },
  {
   "cell_type": "markdown",
   "metadata": {},
   "source": [
    "### Cheapest Flights within K stops\n",
    "There are n cities connected by m flights. Each flight starts from city u and arrives at v with a price w.\n",
    "\n",
    "Now given all the cities and flights, together with starting city src and the destination dst, your task is to find the cheapest price from src to dst with up to k stops. If there is no such route, output -1."
   ]
  },
  {
   "cell_type": "code",
   "execution_count": 7,
   "metadata": {},
   "outputs": [
    {
     "data": {
      "text/plain": [
       "6"
      ]
     },
     "execution_count": 7,
     "metadata": {},
     "output_type": "execute_result"
    }
   ],
   "source": [
    "from collections import defaultdict\n",
    "class Solution:\n",
    "    def findCheapestPrice(self, n: int, flights, src: int, dst: int, K: int) -> int:\n",
    "        self.graph = defaultdict(list)\n",
    "        for x, y, cost in flights:\n",
    "            self.graph[x].append((y, cost))\n",
    "        self.memo = {}\n",
    "        ans = self.helper(src, dst, K+1)\n",
    "        return ans if ans!= float('inf') else -1\n",
    "    \n",
    "    def helper(self, curr_city, dst, k):\n",
    "        if k<0:\n",
    "            return float('inf')\n",
    "        if curr_city == dst:\n",
    "            return 0\n",
    "        \n",
    "        if (curr_city, k) in self.memo:\n",
    "            return self.memo[(curr_city, k)]\n",
    "        \n",
    "        min_cost = float('inf')\n",
    "        for next_city, cost in self.graph[curr_city]:\n",
    "            min_cost = min(min_cost, cost + self.helper(next_city, dst, k-1))\n",
    "        \n",
    "        self.memo[(curr_city, k)] = min_cost\n",
    "        return min_cost\n",
    "\n",
    "n = 4; flights = [[0,1,1],[0,2,5],[1,2,1],[2,3,1]]; src = 0; dst = 3; K = 1\n",
    "Solution().findCheapestPrice(n, flights, src, dst, K)"
   ]
  },
  {
   "cell_type": "markdown",
   "metadata": {},
   "source": [
    "### Campus Bikes II\n",
    "On a campus represented as a 2D grid, there are N workers and M bikes, with N <= M. Each worker and bike is a 2D coordinate on this grid.\n",
    "\n",
    "We assign one unique bike to each worker so that the sum of the Manhattan distances between each worker and their assigned bike is minimized.\n",
    "\n",
    "The Manhattan distance between two points p1 and p2 is Manhattan(p1, p2) = |p1.x - p2.x| + |p1.y - p2.y|.\n",
    "\n",
    "Return the minimum possible sum of Manhattan distances between each worker and their assigned bike."
   ]
  },
  {
   "cell_type": "code",
   "execution_count": 33,
   "metadata": {},
   "outputs": [
    {
     "data": {
      "text/plain": [
       "4"
      ]
     },
     "execution_count": 33,
     "metadata": {},
     "output_type": "execute_result"
    }
   ],
   "source": [
    "class Solution:\n",
    "    def assignBikes(self, workers, bikes) -> int:\n",
    "        self.memo = {}\n",
    "        return self.helper(0, 0, workers, bikes)\n",
    "    \n",
    "    def helper(self, i, hashcode, workers, bikes):\n",
    "        if i == len(workers):\n",
    "            return 0\n",
    "        \n",
    "        if (i, hashcode) in self.memo:\n",
    "            return self.memo[(i, hashcode)]\n",
    "        \n",
    "        min_dist = float('inf')\n",
    "        for j in range(len(bikes)):\n",
    "            if (hashcode >> j) & 1 == 0:\n",
    "                dist = self.get_dist(workers[i], bikes[j])\n",
    "                min_dist = min(min_dist, dist + self.helper(i+1, hashcode|(1<<j), workers, bikes))\n",
    "        \n",
    "        self.memo[(i, hashcode)] = min_dist\n",
    "        return min_dist\n",
    "    \n",
    "    def get_dist(self, w, b):\n",
    "        return abs(w[0]-b[0]) + abs(w[1]-b[1])\n",
    "\n",
    "workers = [[0,0],[1,1],[2,0]]; bikes = [[1,0],[2,2],[2,1]]\n",
    "Solution().assignBikes(workers, bikes)"
   ]
  },
  {
   "cell_type": "markdown",
   "metadata": {},
   "source": [
    "### Bomb Enemy\n",
    "Given a 2D grid, each cell is either a wall 'W', an enemy 'E' or empty '0' (the number zero), return the maximum enemies you can kill using one bomb.\n",
    "The bomb kills all the enemies in the same row and column from the planted point until it hits the wall since the wall is too strong to be destroyed.\n",
    "Note: You can only put the bomb at an empty cell."
   ]
  },
  {
   "cell_type": "code",
   "execution_count": 10,
   "metadata": {},
   "outputs": [
    {
     "data": {
      "text/plain": [
       "3"
      ]
     },
     "execution_count": 10,
     "metadata": {},
     "output_type": "execute_result"
    }
   ],
   "source": [
    "class Solution:\n",
    "    def maxKilledEnemies(self, grid) -> int:\n",
    "        # right, down, up, left\n",
    "        self.dir = {0:lambda x,y: (x,y+1), 1:lambda x,y: (x+1,y), 2:lambda x,y: (x-1,y), 3:lambda x,y: (x,y-1)}\n",
    "        self.memo = {}\n",
    "        \n",
    "        ans = 0\n",
    "        for i in range(len(grid)):\n",
    "            for j in range(len(grid[0])):\n",
    "                if grid[i][j] == '0':\n",
    "                    num_killed = 0\n",
    "                    for d in range(4):\n",
    "                        num_killed += self.helper(i, j, d, grid)\n",
    "                    ans = max(ans, num_killed)\n",
    "        return ans\n",
    "    \n",
    "    def helper(self, i, j, d, grid):\n",
    "        if i<0 or i>=len(grid) or j<0 or j>=len(grid[0]) or grid[i][j] == 'W':\n",
    "            return 0\n",
    "        \n",
    "        if (i, j, d) in self.memo:\n",
    "            return self.memo[(i, j, d)]\n",
    "        \n",
    "        num_killed = 0\n",
    "        nx, ny = self.dir[d](i, j)\n",
    "        \n",
    "        if grid[i][j] == 'E':\n",
    "            num_killed = 1 + self.helper(nx, ny, d, grid)\n",
    "        else:\n",
    "            num_killed = self.helper(nx, ny, d, grid)\n",
    "        \n",
    "        self.memo[(i, j, d)] = num_killed\n",
    "        return num_killed\n",
    "            \n",
    "        \n",
    "grid = [[\"0\",\"E\",\"0\",\"0\"],[\"E\",\"0\",\"W\",\"E\"],[\"0\",\"E\",\"0\",\"0\"]]\n",
    "Solution().maxKilledEnemies(grid)"
   ]
  },
  {
   "cell_type": "markdown",
   "metadata": {},
   "source": [
    "### Longest Length of Fibonacci Sequence\n",
    "A sequence X_1, X_2, ..., X_n is fibonacci-like if:\n",
    "\n",
    "* n >= 3\n",
    "* X_i + X_{i+1} = X_{i+2} for all i + 2 <= n\n",
    "\n",
    "Given a **strictly increasing** array A of positive integers forming a sequence, find the length of the longest fibonacci-like subsequence of A.  If one does not exist, return 0."
   ]
  },
  {
   "cell_type": "code",
   "execution_count": 29,
   "metadata": {},
   "outputs": [
    {
     "data": {
      "text/plain": [
       "5"
      ]
     },
     "execution_count": 29,
     "metadata": {},
     "output_type": "execute_result"
    }
   ],
   "source": [
    "class Solution:\n",
    "    def lenLongestFibSubseq(self, nums) -> int:\n",
    "        self.inverted_index = {num : i for i, num in enumerate(nums)}\n",
    "        self.memo = {}\n",
    "        ans = 0\n",
    "        for i in range(len(nums)-2):\n",
    "            for j in range(i+1, len(nums)-1):\n",
    "                if nums[i] + nums[j] in self.inverted_index:\n",
    "                    ans = max(ans, 2 + self.helper(i, j, nums))\n",
    "        return ans if ans >= 3 else 0\n",
    "    \n",
    "    def helper(self, i, j, nums):\n",
    "        if (i, j) in self.memo:\n",
    "            return self.memo[(i,j)]\n",
    "        \n",
    "        length = 1\n",
    "        k = self.inverted_index[nums[i]+nums[j]]\n",
    "        \n",
    "        if nums[j] + nums[k] in self.inverted_index:\n",
    "            length += self.helper(j, k, nums)\n",
    "            \n",
    "        self.memo[(i, j)] = length\n",
    "        return length\n",
    "\n",
    "nums = [1,2,3,4,5,6,7,8]\n",
    "Solution().lenLongestFibSubseq(nums)"
   ]
  },
  {
   "cell_type": "markdown",
   "metadata": {},
   "source": [
    "### Longest String Chain\n",
    "Given a list of words, each word consists of English lowercase letters.\n",
    "\n",
    "Let's say word1 is a predecessor of word2 if and only if we can add exactly one letter anywhere in word1 to make it equal to word2.  For example, \"abc\" is a predecessor of \"abac\".\n",
    "\n",
    "A word chain is a sequence of words [word_1, word_2, ..., word_k] with k >= 1, where word_1 is a predecessor of word_2, word_2 is a predecessor of word_3, and so on.\n",
    "\n",
    "Return the longest possible length of a word chain with words chosen from the given list of words."
   ]
  },
  {
   "cell_type": "code",
   "execution_count": 4,
   "metadata": {},
   "outputs": [
    {
     "data": {
      "text/plain": [
       "4"
      ]
     },
     "execution_count": 4,
     "metadata": {},
     "output_type": "execute_result"
    }
   ],
   "source": [
    "class Solution:\n",
    "    def longestStrChain(self, words) -> int:\n",
    "        self.memo = {}\n",
    "        ans = 0\n",
    "        word_set = set(words)\n",
    "        \n",
    "        for word in words:\n",
    "            ans = max(ans, self.helper(word, word_set))\n",
    "        \n",
    "        return ans\n",
    "    \n",
    "    def helper(self, word, word_set):\n",
    "        if word in self.memo:\n",
    "            return self.memo[word]\n",
    "        \n",
    "        chain_length = 1\n",
    "        for j in range(len(word)):\n",
    "            new_word = word[:j] + word[j+1:]\n",
    "            if new_word in word_set:\n",
    "                chain_length = max(chain_length, 1 + self.helper(new_word, word_set))\n",
    "        \n",
    "        self.memo[word] = chain_length\n",
    "        return chain_length\n",
    "\n",
    "Solution().longestStrChain([\"a\",\"b\",\"ba\",\"bca\",\"bda\",\"bdca\"])"
   ]
  },
  {
   "cell_type": "markdown",
   "metadata": {},
   "source": [
    "### Knight Dialer\n",
    "This time, we place our chess knight on any numbered key of a phone pad (indicated above), and the knight makes N-1 hops.  Each hop must be from one key to another numbered key.\n",
    "\n",
    "Each time it lands on a key (including the initial placement of the knight), it presses the number of that key, pressing N digits total.\n",
    "\n",
    "How many distinct numbers can you dial in this manner?\n",
    "\n",
    "Since the answer may be large, output the answer modulo 10^9 + 7."
   ]
  },
  {
   "cell_type": "code",
   "execution_count": 8,
   "metadata": {},
   "outputs": [
    {
     "data": {
      "text/plain": [
       "46"
      ]
     },
     "execution_count": 8,
     "metadata": {},
     "output_type": "execute_result"
    }
   ],
   "source": [
    "class Solution:\n",
    "    def knightDialer(self, N: int) -> int:\n",
    "        self.memo = {}; self.mod = 10**9 + 7\n",
    "        self.graph = [[4,6], [6,8], [7,9], [4,8], [3,9,0], [], [1,7,0], [2,6], [1,3], [2,4]]\n",
    "        ans = 0\n",
    "        for i in range(10):\n",
    "            ans += self.helper(i, N-1)\n",
    "        return ans % (10**9 + 7)\n",
    "    \n",
    "    def helper(self, num, num_jumps):\n",
    "        if num_jumps == 0:\n",
    "            return 1\n",
    "        \n",
    "        if (num, num_jumps) in self.memo:\n",
    "            return self.memo[(num, num_jumps)]\n",
    "        \n",
    "        total_pressed = 0\n",
    "        for new_num in self.graph[num]:\n",
    "            total_pressed += self.helper(new_num, num_jumps-1)\n",
    "        \n",
    "        self.memo[(num, num_jumps)] = total_pressed % self.mod\n",
    "        return total_pressed % self.mod\n",
    "        \n",
    "Solution().knightDialer(3)"
   ]
  },
  {
   "cell_type": "markdown",
   "metadata": {},
   "source": [
    "### Out Of Boundary paths\n",
    "There is an m by n grid with a ball. Given the start coordinate (i,j) of the ball, you can move the ball to adjacent cell or cross the grid boundary in four directions (up, down, left, right). However, you can at most move N times. Find out the number of paths to move the ball out of grid boundary. The answer may be very large, return it after mod 10^9 + 7."
   ]
  },
  {
   "cell_type": "code",
   "execution_count": 7,
   "metadata": {},
   "outputs": [
    {
     "data": {
      "text/plain": [
       "6"
      ]
     },
     "execution_count": 7,
     "metadata": {},
     "output_type": "execute_result"
    }
   ],
   "source": [
    "class Solution:\n",
    "    def findPaths(self, m: int, n: int, N: int, i: int, j: int) -> int:\n",
    "        self.mod = 10**9 + 7\n",
    "        self.memo = {}\n",
    "        return self.helper(m, n, N, i, j)\n",
    "    \n",
    "    def helper(self, m, n, N, i, j):\n",
    "        if N < 0:\n",
    "            return 0\n",
    "        \n",
    "        if i<0 or i>=m or j<0 or j>=n:\n",
    "            return 1\n",
    "        \n",
    "        if (i,j,N) in self.memo:\n",
    "            return self.memo[(i,j,N)]\n",
    "         \n",
    "        ways = 0\n",
    "        for x, y in [(i+1,j), (i,j+1), (i-1,j), (i,j-1)]:\n",
    "            ways += self.helper(m, n, N-1, x, y) % self.mod\n",
    "        \n",
    "        self.memo[(i,j,N)] = ways % self.mod\n",
    "        return ways % self.mod\n",
    "        \n",
    "m = 2; n = 2; N = 2; i = 0; j = 0\n",
    "Solution().findPaths(m, n, N, i, j)"
   ]
  },
  {
   "cell_type": "markdown",
   "metadata": {},
   "source": [
    "### Knight Probability in Chessboard\n",
    "On an NxN chessboard, a knight starts at the r-th row and c-th column and attempts to make exactly K moves. The rows and columns are 0 indexed, so the top-left square is (0, 0), and the bottom-right square is (N-1, N-1).\n",
    "\n",
    "A chess knight has 8 possible moves it can make, as illustrated below. Each move is two squares in a cardinal direction, then one square in an orthogonal direction."
   ]
  },
  {
   "cell_type": "code",
   "execution_count": 15,
   "metadata": {},
   "outputs": [
    {
     "data": {
      "text/plain": [
       "0.0625"
      ]
     },
     "execution_count": 15,
     "metadata": {},
     "output_type": "execute_result"
    }
   ],
   "source": [
    "class Solution:\n",
    "    def knightProbability(self, N: int, K: int, r: int, c: int) -> float:\n",
    "        self.dir = [(-2,1), (-1,2), (1,2), (2,1), (2,-1), (1,-2), (-1,-2), (-2,-1)]\n",
    "        self.memo = {}\n",
    "        return self.helper(N, K, r, c)\n",
    "    \n",
    "    def helper(self, N, K, i, j):\n",
    "        if i<0 or i>=N or j<0 or j>=N:\n",
    "            return 0\n",
    "        \n",
    "        if K == 0:\n",
    "            return 1\n",
    "        \n",
    "        if (i,j,K) in self.memo:\n",
    "            return self.memo[(i,j,K)]\n",
    "        \n",
    "        prob = 0\n",
    "        for d0, d1 in self.dir:\n",
    "            prob += 0.125 * self.helper(N, K-1, i+d0, j+d1)\n",
    "        \n",
    "        self.memo[(i,j,K)] = prob\n",
    "        return prob\n",
    "\n",
    "obj = Solution()\n",
    "obj.knightProbability(3, 2, 0, 0)"
   ]
  },
  {
   "cell_type": "markdown",
   "metadata": {},
   "source": [
    "### Expression Add Operators\n",
    "Given a string that contains only digits 0-9 and a target value, return all possibilities to add binary operators (not unary) +, -, or * between the digits so they evaluate to the target value."
   ]
  },
  {
   "cell_type": "code",
   "execution_count": 7,
   "metadata": {},
   "outputs": [
    {
     "data": {
      "text/plain": [
       "['1+2+3', '1*2*3']"
      ]
     },
     "execution_count": 7,
     "metadata": {},
     "output_type": "execute_result"
    }
   ],
   "source": [
    "class Solution:\n",
    "    def addOperators(self, num: str, target: int):\n",
    "        self.res = []\n",
    "        self.helper(num, target, 0, 0, '')\n",
    "        return self.res\n",
    "    \n",
    "    def helper(self, num, target, val, prev, path):\n",
    "        if not num:\n",
    "            if val == target:\n",
    "                self.res.append(path)\n",
    "            return\n",
    "        \n",
    "        for i in range(len(num)):\n",
    "            curr = num[:i+1]\n",
    "            if len(curr) > 1 and curr[0] == '0':\n",
    "                return\n",
    "            curr = int(curr)\n",
    "            \n",
    "            if path == '':\n",
    "                self.helper(num[i+1:], target, curr, curr, str(curr))\n",
    "            \n",
    "            else:\n",
    "                self.helper(num[i+1:], target, val+curr, curr, path +'+'+str(curr))\n",
    "                self.helper(num[i+1:], target, val-curr, -curr, path+'-'+str(curr))\n",
    "                self.helper(num[i+1:], target, val-prev+prev*curr, prev*curr, path+'*'+str(curr))\n",
    "    \n",
    "obj = Solution()\n",
    "num = \"123\"; target = 6\n",
    "obj.addOperators(num, target)"
   ]
  },
  {
   "cell_type": "markdown",
   "metadata": {},
   "source": [
    "### Strobogrammatic Number II\n",
    "A strobogrammatic number is a number that looks the same when rotated 180 degrees (looked at upside down).\n",
    "\n",
    "Find all strobogrammatic numbers that are of length = n."
   ]
  },
  {
   "cell_type": "code",
   "execution_count": 6,
   "metadata": {},
   "outputs": [
    {
     "data": {
      "text/plain": [
       "['101',\n",
       " '111',\n",
       " '181',\n",
       " '609',\n",
       " '619',\n",
       " '689',\n",
       " '906',\n",
       " '916',\n",
       " '986',\n",
       " '808',\n",
       " '818',\n",
       " '888']"
      ]
     },
     "execution_count": 6,
     "metadata": {},
     "output_type": "execute_result"
    }
   ],
   "source": [
    "class Solution:\n",
    "    def findStrobogrammatic(self, n: int):\n",
    "        self.res = []\n",
    "        self.pairs = [('0', '0'), ('1', '1'), ('6', '9'), ('9', '6'), ('8', '8')]\n",
    "        self.single = ['0', '1', '8']\n",
    "        self.helper([-1]*n, 0, n-1)\n",
    "        return self.res\n",
    "    \n",
    "    def helper(self, buffer, l, r):\n",
    "        if l>r:\n",
    "            num = ''.join(buffer)\n",
    "            if len(num)>1 and num[0] == '0':\n",
    "                return\n",
    "            self.res.append(num)\n",
    "            return\n",
    "        \n",
    "        if l == r:\n",
    "            for num in self.single:\n",
    "                buffer[l] = num\n",
    "                self.helper(buffer, l+1, r)\n",
    "        else:\n",
    "            for n1, n2 in self.pairs:\n",
    "                buffer[l], buffer[r] = n1, n2\n",
    "                self.helper(buffer, l+1, r-1)\n",
    "\n",
    "Solution().findStrobogrammatic(3)"
   ]
  },
  {
   "cell_type": "markdown",
   "metadata": {},
   "source": [
    "### Strobogrammatic Number III\n",
    "A strobogrammatic number is a number that looks the same when rotated 180 degrees (looked at upside down).\n",
    "\n",
    "Write a function to count the total strobogrammatic numbers that exist in the range of low <= num <= high."
   ]
  },
  {
   "cell_type": "code",
   "execution_count": 17,
   "metadata": {},
   "outputs": [
    {
     "data": {
      "text/plain": [
       "6"
      ]
     },
     "execution_count": 17,
     "metadata": {},
     "output_type": "execute_result"
    }
   ],
   "source": [
    "class Solution:\n",
    "    def strobogrammaticInRange(self, low: str, high: str) -> int:\n",
    "        self.res = []\n",
    "        self.pairs = [('0', '0'), ('1', '1'), ('6', '9'), ('9', '6'), ('8', '8')]\n",
    "        self.single = ['0', '1', '8']\n",
    "        for i in range(len(low), len(high)+1):\n",
    "            self.helper([-1]*i, 0, i-1)\n",
    "        count = 0\n",
    "        for num in self.res:\n",
    "            if int(low) <= int(num) <= int(high):\n",
    "                count += 1\n",
    "        return count\n",
    "    \n",
    "    def helper(self, buffer, l, r):\n",
    "        if l>r:\n",
    "            num = ''.join(buffer)\n",
    "            if len(num)>1 and num[0] == '0':\n",
    "                return\n",
    "            self.res.append(num)\n",
    "            return\n",
    "        \n",
    "        if l == r:\n",
    "            for num in self.single:\n",
    "                buffer[l] = num\n",
    "                self.helper(buffer, l+1, r)\n",
    "        else:\n",
    "            for n1, n2 in self.pairs:\n",
    "                buffer[l], buffer[r] = n1, n2\n",
    "                self.helper(buffer, l+1, r-1)\n",
    "    \n",
    "Solution().strobogrammaticInRange('50', '200')"
   ]
  },
  {
   "cell_type": "markdown",
   "metadata": {},
   "source": [
    "### Increasing Subsequences\n",
    "Given an integer array, your task is to find all the different possible increasing subsequences of the given array, and the length of an increasing subsequence should be at least 2."
   ]
  },
  {
   "cell_type": "code",
   "execution_count": 24,
   "metadata": {},
   "outputs": [
    {
     "data": {
      "text/plain": [
       "[(4, 7), (6, 7), (4, 6, 7, 7), (4, 6), (7, 7), (4, 7, 7), (4, 6, 7), (6, 7, 7)]"
      ]
     },
     "execution_count": 24,
     "metadata": {},
     "output_type": "execute_result"
    }
   ],
   "source": [
    "class Solution:\n",
    "    def findSubsequences(self, nums):\n",
    "        self.res = set()\n",
    "        self.helper([], 0, nums)\n",
    "        return list(self.res)\n",
    "    \n",
    "    def helper(self, buffer, start, nums):\n",
    "        if len(buffer) >= 2:\n",
    "            self.res.add(tuple(buffer[:]))\n",
    "            \n",
    "        if start == len(nums):\n",
    "            return\n",
    "        \n",
    "        for i in range(start, len(nums)):\n",
    "            if not buffer or buffer[-1] <= nums[i]:\n",
    "                buffer.append(nums[i])\n",
    "                self.helper(buffer, i+1, nums)\n",
    "                buffer.pop()\n",
    "\n",
    "obj = Solution()\n",
    "obj.findSubsequences([4, 6, 7, 7])"
   ]
  },
  {
   "cell_type": "markdown",
   "metadata": {},
   "source": [
    "### House Robber III\n",
    "The thief has found himself a new place for his thievery again. There is only one entrance to this area, called the \"root.\" Besides the root, each house has one and only one parent house. After a tour, the smart thief realized that \"all houses in this place forms a binary tree\". It will automatically contact the police if two directly-linked houses were broken into on the same night.\n",
    "\n",
    "Determine the maximum amount of money the thief can rob tonight without alerting the police."
   ]
  },
  {
   "cell_type": "code",
   "execution_count": 6,
   "metadata": {},
   "outputs": [],
   "source": [
    "class Solution:\n",
    "    def rob(self, root) -> int:\n",
    "        self.memo = {}\n",
    "        return self.helper(root, False)\n",
    "    \n",
    "    def helper(self, node, robbed_parent):\n",
    "        if not node:\n",
    "            return 0\n",
    "        \n",
    "        if (node, robbed_parent) in self.memo:\n",
    "            return self.memo[(node, robbed_parent)]\n",
    "        \n",
    "        rob = no_rob = 0\n",
    "        if not robbed_parent:\n",
    "            rob = node.val + self.helper(node.left, True) + self.helper(node.right, True)\n",
    "        no_rob = self.helper(node.left, False) + self.helper(node.right, False)\n",
    "        \n",
    "        self.memo[(node, robbed_parent)] = max(rob, no_rob)\n",
    "        return max(rob, no_rob)"
   ]
  },
  {
   "cell_type": "markdown",
   "metadata": {},
   "source": [
    "### Minimum Falling Path Sum II\n",
    "Given a square grid of integers arr, a falling path with non-zero shifts is a choice of exactly one element from each row of arr, such that no two elements chosen in adjacent rows are in the same column.\n",
    "\n",
    "Return the minimum sum of a falling path with non-zero shifts."
   ]
  },
  {
   "cell_type": "code",
   "execution_count": 19,
   "metadata": {},
   "outputs": [
    {
     "data": {
      "text/plain": [
       "13"
      ]
     },
     "execution_count": 19,
     "metadata": {},
     "output_type": "execute_result"
    }
   ],
   "source": [
    "class Solution:\n",
    "    def minFallingPathSum(self, arr) -> int:\n",
    "        self.memo = {}\n",
    "        self.min_idx = {}\n",
    "        for i in range(len(arr)):\n",
    "            self.min_idx[i] = self.get_min_idx(arr[i])\n",
    "        ans = float('inf')\n",
    "        i, j = self.min_idx[0]\n",
    "        ans = min(self.helper(0, i, arr), self.helper(0, j, arr))\n",
    "        return ans\n",
    "    \n",
    "    def helper(self, i, j, a):\n",
    "        if i == len(a)-1:\n",
    "            return a[i][j]\n",
    "        \n",
    "        if (i,j) in self.memo:\n",
    "            return self.memo[(i,j)]\n",
    "        \n",
    "        x, y = self.min_idx[i+1]\n",
    "        take_x = take_y = float('inf')\n",
    "        \n",
    "        if x != j:\n",
    "            take_x = a[i][j] + self.helper(i+1, x, a)\n",
    "        \n",
    "        if y != j:\n",
    "            take_y = a[i][j] + self.helper(i+1, y, a)\n",
    "        \n",
    "        self.memo[(i,j)] = min(take_x, take_y)\n",
    "        return min(take_x, take_y)\n",
    "    \n",
    "    \n",
    "    def get_min_idx(self, a):\n",
    "        first = float('inf'), -1\n",
    "        second = float('inf'), -1\n",
    "        for i, num in enumerate(a):\n",
    "            if num < first[0]:\n",
    "                second = first\n",
    "                first = num, i\n",
    "            elif first[0] <= num < second[0]:\n",
    "                second = num, i\n",
    "        return first[1], second[1]\n",
    "\n",
    "arr = [[1,2,3],[4,5,6],[7,8,9]]\n",
    "obj = Solution()\n",
    "obj.minFallingPathSum(arr)"
   ]
  },
  {
   "cell_type": "markdown",
   "metadata": {},
   "source": [
    "### Number of Dice Rolls With Target Sum\n",
    "You have d dice, and each die has f faces numbered 1, 2, ..., f.\n",
    "\n",
    "Return the number of possible ways (out of fd total ways) modulo 10^9 + 7 to roll the dice so the sum of the face up numbers equals target."
   ]
  },
  {
   "cell_type": "code",
   "execution_count": 7,
   "metadata": {},
   "outputs": [
    {
     "data": {
      "text/plain": [
       "222616187"
      ]
     },
     "execution_count": 7,
     "metadata": {},
     "output_type": "execute_result"
    }
   ],
   "source": [
    "class Solution:\n",
    "    def numRollsToTarget(self, d: int, f: int, target: int) -> int:\n",
    "        self.memo = {}\n",
    "        self.mod = 10**9 + 7\n",
    "        return self.helper(d, f, target)\n",
    "    \n",
    "    def helper(self, d, f, target):\n",
    "        if d == 0:\n",
    "            return target == 0\n",
    "        \n",
    "        if target < 0:\n",
    "            return 0\n",
    "        \n",
    "        if (d, target) in self.memo:\n",
    "            return self.memo[(d, target)]\n",
    "        \n",
    "        ans = 0\n",
    "        for roll in range(1, f+1):\n",
    "            ans += self.helper(d-1, f, target-roll)\n",
    "        \n",
    "        self.memo[(d, target)] = ans % self.mod\n",
    "        return self.memo[(d, target)]\n",
    "    \n",
    "d = 30; f = 30; target = 500\n",
    "Solution().numRollsToTarget(d, f, target)"
   ]
  },
  {
   "cell_type": "markdown",
   "metadata": {},
   "source": [
    "### Dice Roll Simulation\n",
    "A die simulator generates a random number from 1 to 6 for each roll. You introduced a constraint to the generator such that it cannot roll the number i more than rollMax[i] (1-indexed) consecutive times. \n",
    "\n",
    "Given an array of integers rollMax and an integer n, return the number of distinct sequences that can be obtained with exact n rolls.\n",
    "\n",
    "Two sequences are considered different if at least one element differs from each other. Since the answer may be too large, return it modulo 10^9 + 7."
   ]
  },
  {
   "cell_type": "code",
   "execution_count": 12,
   "metadata": {},
   "outputs": [
    {
     "data": {
      "text/plain": [
       "181"
      ]
     },
     "execution_count": 12,
     "metadata": {},
     "output_type": "execute_result"
    }
   ],
   "source": [
    "class Solution:\n",
    "    def dieSimulator(self, n, rollMax):\n",
    "        self.memo = {}\n",
    "        self.mod = 10**9 + 7\n",
    "        return self.helper(-1, -1, n, rollMax)\n",
    "    \n",
    "    def helper(self, last_num, freq, n, rollMax):\n",
    "        if n == 0:\n",
    "            return 1\n",
    "        \n",
    "        if (last_num, freq, n) in self.memo:\n",
    "            return self.memo[(last_num, freq, n)]\n",
    "        \n",
    "        take_same = take_diff = 0\n",
    "        \n",
    "        # Roll the same number\n",
    "        if 0<=last_num<=5 and freq < rollMax[last_num]:\n",
    "            take_same += self.helper(last_num, freq+1, n-1, rollMax)\n",
    "        \n",
    "        # Roll a different number\n",
    "        for i in range(6):\n",
    "            if i != last_num:\n",
    "                take_diff += self.helper(i, 1, n-1, rollMax)\n",
    "        \n",
    "        self.memo[(last_num, freq, n)] = (take_same + take_diff) % self.mod\n",
    "        return self.memo[(last_num, freq, n)]\n",
    "    \n",
    "n = 3; rollMax = [1,1,1,2,2,3]\n",
    "Solution().dieSimulator(n, rollMax)"
   ]
  },
  {
   "cell_type": "markdown",
   "metadata": {},
   "source": [
    "### Stone game\n",
    "Alex and Lee play a game with piles of stones.  There are an even number of piles arranged in a row, and each pile has a positive integer number of stones piles[i].\n",
    "\n",
    "The objective of the game is to end with the most stones.  The total number of stones is odd, so there are no ties.\n",
    "\n",
    "Alex and Lee take turns, with Alex starting first.  Each turn, a player takes the entire pile of stones from either the beginning or the end of the row.  This continues until there are no more piles left, at which point the person with the most stones wins.\n",
    "\n",
    "Assuming Alex and Lee play optimally, return True if and only if Alex wins the game."
   ]
  },
  {
   "cell_type": "code",
   "execution_count": 28,
   "metadata": {},
   "outputs": [
    {
     "data": {
      "text/plain": [
       "True"
      ]
     },
     "execution_count": 28,
     "metadata": {},
     "output_type": "execute_result"
    }
   ],
   "source": [
    "class Solution:\n",
    "    def stoneGame(self, piles) -> bool:\n",
    "        self.memo = {}\n",
    "        return self.helper(piles, 0, len(piles)-1, 0, 0)\n",
    "    \n",
    "    def helper(self, piles, i, j, a_total, b_total):\n",
    "        if (i,j) in self.memo:\n",
    "            return self.memo[(i,j)]\n",
    "        \n",
    "        if (j-i == 1 and a_total+piles[i] > b_total+piles[j]):\n",
    "            self.memo[(i,j)] = True\n",
    "            return True\n",
    "        \n",
    "        if j-i == 1 and a_total+piles[j] > b_total+piles[i]:\n",
    "            self.memo[(i,j)] = True\n",
    "            return True\n",
    "        \n",
    "        if not self.helper(piles, i+1, j, a_total+piles[i], b_total):\n",
    "            self.memo[(i,j)] = True\n",
    "            return True\n",
    "        \n",
    "        if not self.helper(piles, i, j-1, a_total+piles[j], b_total):\n",
    "            self.memo[(i,j)] = True\n",
    "            return True\n",
    "        \n",
    "        self.memo[(i,j)] = False\n",
    "        return False\n",
    "\n",
    "Solution().stoneGame([5,3,4,5])"
   ]
  }
 ],
 "metadata": {
  "kernelspec": {
   "display_name": "Python 3",
   "language": "python",
   "name": "python3"
  },
  "language_info": {
   "codemirror_mode": {
    "name": "ipython",
    "version": 3
   },
   "file_extension": ".py",
   "mimetype": "text/x-python",
   "name": "python",
   "nbconvert_exporter": "python",
   "pygments_lexer": "ipython3",
   "version": "3.6.8"
  }
 },
 "nbformat": 4,
 "nbformat_minor": 2
}
