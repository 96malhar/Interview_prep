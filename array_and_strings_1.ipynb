{
 "cells": [
  {
   "cell_type": "markdown",
   "metadata": {},
   "source": [
    "# Reverse Traversal"
   ]
  },
  {
   "cell_type": "markdown",
   "metadata": {},
   "source": [
    "### given an array of numbers, replace each even number with two of the same number. e.g, [1,2,5,6,8, , , ,] -> [1,2,2,5,6,6,8,8]. Assumethat the array has the exact amount of space to accommodate the result."
   ]
  },
  {
   "cell_type": "code",
   "execution_count": 4,
   "metadata": {},
   "outputs": [
    {
     "name": "stdout",
     "output_type": "stream",
     "text": [
      "[1, 2, 2, 5, 6, 6, 8, 8, 0, 0, 3]\n"
     ]
    }
   ],
   "source": [
    "def getlastnum(a):\n",
    "    i = len(a) -1\n",
    "    while a[i] == -1:\n",
    "        i -= 1\n",
    "    return i\n",
    "\n",
    "a = [1,2,5,6,8,0,3,-1,-1,-1, -1]\n",
    "end = len(a) - 1\n",
    "i = getlastnum(a)\n",
    "while i >= 0:\n",
    "    if a[i] % 2 == 0:\n",
    "        a[end] = a[i]\n",
    "        end-=1\n",
    "    a[end] = a[i]\n",
    "    end -= 1\n",
    "    i -= 1\n",
    "print(a)"
   ]
  },
  {
   "cell_type": "markdown",
   "metadata": {},
   "source": [
    "### Given a sentence, reverse the words of the sentence. For example, \"i live in a house\" becomes \"house a in live i\"."
   ]
  },
  {
   "cell_type": "code",
   "execution_count": 32,
   "metadata": {},
   "outputs": [
    {
     "name": "stdout",
     "output_type": "stream",
     "text": [
      "Malhar is name My\n",
      "17\n",
      "17\n"
     ]
    }
   ],
   "source": [
    "s = 'My name is Malhar'\n",
    "result = ''\n",
    "end = len(s)\n",
    "for i in range(len(s)-1, -1, -1):\n",
    "    if s[i] == ' ':\n",
    "        result = result + s[i+1:end] + ' '\n",
    "        end = i\n",
    "result = result + s[i:end]\n",
    "print(result)\n",
    "print(len(s))\n",
    "print(len(result))"
   ]
  },
  {
   "cell_type": "markdown",
   "metadata": {},
   "source": [
    "# Traversing from Both Ends"
   ]
  },
  {
   "cell_type": "markdown",
   "metadata": {},
   "source": [
    "### Given an array, reverse the order of its elements. For example,[3,5,2,5,2,3,9] --> [9,3,2,5,2,5,3][\"hello\", \"world\"] --> [\"world\", \"hello\"]"
   ]
  },
  {
   "cell_type": "code",
   "execution_count": 9,
   "metadata": {},
   "outputs": [
    {
     "data": {
      "text/plain": [
       "[9, 3, 2, 5, 2, 5, 3]"
      ]
     },
     "execution_count": 9,
     "metadata": {},
     "output_type": "execute_result"
    }
   ],
   "source": [
    "a = [3,5,2,5,2,3,9]\n",
    "start = 0\n",
    "end = len(a) - 1\n",
    "while start < end:\n",
    "    a[start], a[end] = a[end], a[start]\n",
    "    start += 1\n",
    "    end -= 1\n",
    "\n",
    "a"
   ]
  },
  {
   "cell_type": "markdown",
   "metadata": {},
   "source": [
    "### 2 Sum Problem: Given a sorted array of integers, find two numbers in the array that sum to aninteger X.For example, given a=[1,2,3,5,6,7] and X=11, the answer would be 5 and 6, which sum to 11."
   ]
  },
  {
   "cell_type": "code",
   "execution_count": 108,
   "metadata": {},
   "outputs": [
    {
     "name": "stdout",
     "output_type": "stream",
     "text": [
      "0 5\n",
      "1 4\n",
      "2 3\n"
     ]
    }
   ],
   "source": [
    "a = [1,2,3,5,6,7,10]\n",
    "x = 8\n",
    "start = 0\n",
    "end = len(a) - 1\n",
    "\n",
    "while start < end:\n",
    "    \n",
    "    sum1 = a[start] + a[end]\n",
    "    \n",
    "    if sum1 < x:\n",
    "        start += 1\n",
    "        \n",
    "    elif sum1 > x:\n",
    "        end -= 1\n",
    "        \n",
    "    else:\n",
    "        print(start, end)\n",
    "        start += 1\n",
    "        end -= 1"
   ]
  },
  {
   "cell_type": "markdown",
   "metadata": {},
   "source": [
    "### Given an array of integers, find the shortest subarray, that if sorted, results in theentire array being sorted.[1,2,4,5,3,5,6,7,9] --> [4,5,3] - If you sort from indices 2 to 4, the entire array is sorted.[1,3,5,2,6,4,7,8,9] --> [3,5,2,6,4] - indices 1 to 5"
   ]
  },
  {
   "cell_type": "code",
   "execution_count": 21,
   "metadata": {},
   "outputs": [
    {
     "name": "stdout",
     "output_type": "stream",
     "text": [
      "1 5\n"
     ]
    }
   ],
   "source": [
    "a = [1,3,5,7,1,2] \n",
    "i = 0\n",
    "j = len(a) - 1\n",
    "\n",
    "while i!=len(a)-1 and a[i+1] > a[i]:\n",
    "    i+=1\n",
    "\n",
    "while j!=0 and a[j-1] < a[j]:\n",
    "    j-=1\n",
    "    \n",
    "if i==len(a)-1 and j==0:\n",
    "    print(j,i)\n",
    "    \n",
    "else:\n",
    "    num_max = max(a[i:j+1])\n",
    "    num_min = min(a[i:j+1])\n",
    "\n",
    "    while i!=0 and a[i-1] > num_min:\n",
    "        i -= 1\n",
    "\n",
    "    while j!=len(a)-1 and a[j+1] < num_max:\n",
    "        j+=1\n",
    "\n",
    "    print(i,j)"
   ]
  },
  {
   "cell_type": "markdown",
   "metadata": {},
   "source": [
    "# Dutch National Flag Problem"
   ]
  },
  {
   "cell_type": "markdown",
   "metadata": {},
   "source": [
    "### Given an array with n objects colored Red, White or Blue, sort them so that objects of the same color are adjacent, with the colors in the order Red, White and Blue. Assume the colors are given as numbers - 0 (Red), 1 (White) and 2 (Blue). For example, if A = [1,0,1,2,1,0,1,2], Output = [0,0,1,1,1,1,2,2]."
   ]
  },
  {
   "cell_type": "code",
   "execution_count": 35,
   "metadata": {},
   "outputs": [
    {
     "name": "stdout",
     "output_type": "stream",
     "text": [
      "[1, 2, 2, 2]\n"
     ]
    }
   ],
   "source": [
    "nums = [2,2,2,1]\n",
    "low = -1\n",
    "mid = -1\n",
    "high = len(nums)\n",
    "while mid + 1 < high:\n",
    "    \n",
    "    if nums[mid+1] == 1:\n",
    "        mid+=1\n",
    "               \n",
    "    elif nums[mid+1] > 1:\n",
    "        nums[mid+1], nums[high-1] = nums[high-1], nums[mid+1]\n",
    "        high -= 1\n",
    "               \n",
    "    else:\n",
    "        nums[low+1], nums[mid+1] = nums[mid+1], nums[low+1]\n",
    "        mid+=1\n",
    "        low+=1\n",
    "\n",
    "print(nums)"
   ]
  },
  {
   "cell_type": "markdown",
   "metadata": {},
   "source": [
    "### Given an array nums, write a function to move all 0's to the end of it while maintaining the relative order of the non-zero elements.\n",
    "\n",
    "Example:\n",
    "\n",
    "Input: [0,1,0,3,12]\n",
    "Output: [1,3,12,0,0]"
   ]
  },
  {
   "cell_type": "code",
   "execution_count": 29,
   "metadata": {},
   "outputs": [
    {
     "name": "stdout",
     "output_type": "stream",
     "text": [
      "[1, 2, 4, 3, 5, 0, 0, 0]\n"
     ]
    }
   ],
   "source": [
    "nums = [1, 2, 0, 4, 3, 0, 5, 0]\n",
    "i = 0\n",
    "for num in nums:\n",
    "    if num!=0:\n",
    "        nums[i] = num\n",
    "        i+=1\n",
    "while i<len(nums):\n",
    "    nums[i] = 0\n",
    "    i+=1\n",
    "print(nums)"
   ]
  },
  {
   "cell_type": "markdown",
   "metadata": {},
   "source": [
    "### Given an array nums and a value val, remove all instances of that value in-place and return the new length.\n",
    "\n",
    "Do not allocate extra space for another array, you must do this by modifying the input array in-place with O(1) extra memory.\n",
    "\n",
    "example : Given nums = [0,1,2,2,3,0,4,2], val = 2,\n",
    "\n",
    "Your function should return length = 5, with the first five elements of nums containing 0, 1, 3, 0, and 4.\n",
    "\n",
    "Note that the order of those five elements can be arbitrary.\n",
    "It doesn't matter what you leave beyond the returned length."
   ]
  },
  {
   "cell_type": "code",
   "execution_count": 31,
   "metadata": {},
   "outputs": [
    {
     "name": "stdout",
     "output_type": "stream",
     "text": [
      "[1, 2, 2, 3, 4, 2, 2, 2, 2]\n"
     ]
    },
    {
     "data": {
      "text/plain": [
       "7"
      ]
     },
     "execution_count": 31,
     "metadata": {},
     "output_type": "execute_result"
    }
   ],
   "source": [
    "a = [0,1,2,2,3,0,4,2,2]\n",
    "val = 0\n",
    "i = 0\n",
    "for num in a:\n",
    "    if num != val:\n",
    "        a[i] = num\n",
    "        i += 1\n",
    "print(a)        \n",
    "i"
   ]
  },
  {
   "cell_type": "markdown",
   "metadata": {},
   "source": [
    "### Given a sorted array nums, remove the duplicates in-place such that each element appear only once and return the new length.\n",
    "\n",
    "Do not allocate extra space for another array, you must do this by modifying the input array in-place with O(1) extra memory.\n",
    "given nums = [0,0,1,1,1,2,2,3,3,4],\n",
    "\n",
    "Your function should return length = 5, with the first five elements of nums being modified to 0, 1, 2, 3, and 4 respectively.\n",
    "\n",
    "It doesn't matter what values are set beyond the returned length."
   ]
  },
  {
   "cell_type": "code",
   "execution_count": 38,
   "metadata": {},
   "outputs": [
    {
     "name": "stdout",
     "output_type": "stream",
     "text": [
      "6\n",
      "[0, 1, 2, 3, 4, 5, 2, 3, 3, 4, 4, 5]\n"
     ]
    }
   ],
   "source": [
    "a = [0,0,1,1,1,2,2,3,3,4,4,5]\n",
    "i = 0\n",
    "for num in a:\n",
    "    if i<1 or num > a[i-1]:\n",
    "        a[i] = num\n",
    "        i += 1\n",
    "print(i)\n",
    "print(a)"
   ]
  },
  {
   "cell_type": "markdown",
   "metadata": {},
   "source": [
    "### Given a sorted array nums, remove the duplicates in-place such that duplicates appeared at most twice and return the new length.\n",
    "\n",
    "Do not allocate extra space for another array, you must do this by modifying the input array in-place with O(1) extra memory.\n",
    "\n",
    "Example 1:\n",
    "\n",
    "Given nums = [1,1,1,2,2,3],\n",
    "\n",
    "Your function should return length = 5, with the first five elements of nums being 1, 1, 2, 2 and 3 respectively.\n",
    "\n",
    "It doesn't matter what you leave beyond the returned length."
   ]
  },
  {
   "cell_type": "code",
   "execution_count": 1,
   "metadata": {},
   "outputs": [
    {
     "name": "stdout",
     "output_type": "stream",
     "text": [
      "7\n",
      "[0, 0, 1, 1, 2, 3, 3, 2, 3, 3]\n"
     ]
    }
   ],
   "source": [
    "a = [0,0,0,1,1,1,1,2,3,3]\n",
    "i = 0\n",
    "for num in a:\n",
    "    if i<2 or num > a[i-2]:\n",
    "        a[i] = num\n",
    "        i += 1\n",
    "print(i)\n",
    "print(a)"
   ]
  },
  {
   "cell_type": "markdown",
   "metadata": {},
   "source": [
    "# Subarray sum Problems"
   ]
  },
  {
   "cell_type": "markdown",
   "metadata": {},
   "source": [
    "### Given an array of integers that can be both +ve and -ve, find the contiguous subarray with the largest sum.e.g, [1,2,-1,2,-3,2,-5]  -> the first 4 elements have the largest sum.\n",
    "\n",
    "Kadane's Algo"
   ]
  },
  {
   "cell_type": "code",
   "execution_count": 13,
   "metadata": {},
   "outputs": [
    {
     "name": "stdout",
     "output_type": "stream",
     "text": [
      "[-2, 1, -2, 4, 3, 5, 6, 1, 5]\n",
      "3 6\n"
     ]
    }
   ],
   "source": [
    "nums = [-2,1,-3,4,-1,2,1,-5,4]\n",
    "maxsofar = nums[0]\n",
    "for i in range(1,len(nums)):\n",
    "    nums[i] = max(nums[i], maxsofar+nums[i])\n",
    "    maxsofar = nums[i]\n",
    "    \n",
    "max_index = nums.index(max(nums))\n",
    "i = max_index\n",
    "while i !=0 and nums[i-1] > 0:\n",
    "    i -= 1\n",
    "print(nums)\n",
    "print(i,max_index)"
   ]
  },
  {
   "cell_type": "markdown",
   "metadata": {},
   "source": [
    "### Find contiguos subarray with smallest sum"
   ]
  },
  {
   "cell_type": "code",
   "execution_count": 19,
   "metadata": {},
   "outputs": [
    {
     "name": "stdout",
     "output_type": "stream",
     "text": [
      "[3, -4, -2, -5, -6, 1, -5]\n",
      "1 4\n"
     ]
    }
   ],
   "source": [
    "nums = [3, -4, 2, -3, -1, 7, -5]\n",
    "minsofar = nums[0]\n",
    "for i in range(1,len(nums)):\n",
    "    nums[i] = min(nums[i], minsofar+nums[i])\n",
    "    minsofar = nums[i]\n",
    "    \n",
    "min_index = nums.index(min(nums))\n",
    "i = min_index\n",
    "while i!=0 and nums[i-1] < 0:\n",
    "    i -= 1\n",
    "print(nums)\n",
    "print(i,min_index)"
   ]
  },
  {
   "cell_type": "markdown",
   "metadata": {},
   "source": [
    "### Given an array of positive integers, find a subarray that sums to a given number X"
   ]
  },
  {
   "cell_type": "code",
   "execution_count": 13,
   "metadata": {},
   "outputs": [
    {
     "data": {
      "text/plain": [
       "(4, 4)"
      ]
     },
     "execution_count": 13,
     "metadata": {},
     "output_type": "execute_result"
    }
   ],
   "source": [
    "def subarray_sum(nums, x):\n",
    "    \n",
    "    i,j = 0,0\n",
    "    sum = nums[i]\n",
    "    while i < len(nums):\n",
    "        \n",
    "        if i > j:\n",
    "            j = i\n",
    "            sum = nums[i]\n",
    "        \n",
    "        if sum > x:\n",
    "            sum = sum - nums[i]\n",
    "            i+=1\n",
    "            \n",
    "        elif sum < x:\n",
    "            if j+1 != len(nums):\n",
    "                j += 1\n",
    "                sum = sum + nums[j]\n",
    "            else:\n",
    "                break\n",
    "        \n",
    "        else :\n",
    "            return (i,j)\n",
    "    return (-1,-1)\n",
    "            \n",
    "nums = [15, 15, 4, 8, 9, 5, 10, 23,1,6]\n",
    "subarray_sum(nums, 9)"
   ]
  },
  {
   "cell_type": "markdown",
   "metadata": {},
   "source": [
    "### Given an array of integers, both -ve and +ve, find a contiguous subarray that sums to 0.For example: [2,4,-2,1,-3,5,-3] --> [4,-2,1,-3]"
   ]
  },
  {
   "cell_type": "code",
   "execution_count": 12,
   "metadata": {},
   "outputs": [
    {
     "data": {
      "text/plain": [
       "(2, 4)"
      ]
     },
     "execution_count": 12,
     "metadata": {},
     "output_type": "execute_result"
    }
   ],
   "source": [
    "def subarray_sum(nums):\n",
    "    hash_map = {}\n",
    "    sum = 0\n",
    "    for i, v in enumerate(nums):\n",
    "        sum += v\n",
    "        if sum == 0:\n",
    "            return(0,i)\n",
    "        if sum in hash_map:\n",
    "            return(hash_map[sum]+1, i)\n",
    "        hash_map[sum] = i\n",
    "    return (-1, -1)\n",
    "\n",
    "nums = [6, 3, -1, -3, 4, -2, 2, 4, 6, -12, -7]\n",
    "subarray_sum(nums)"
   ]
  },
  {
   "cell_type": "markdown",
   "metadata": {},
   "source": [
    "### Given an array of positive and negative integers, find a subarray whose sum equals K"
   ]
  },
  {
   "cell_type": "code",
   "execution_count": 14,
   "metadata": {},
   "outputs": [
    {
     "data": {
      "text/plain": [
       "(1, 3)"
      ]
     },
     "execution_count": 14,
     "metadata": {},
     "output_type": "execute_result"
    }
   ],
   "source": [
    "def subarray_sum(nums, x):\n",
    "    hash_map = {}\n",
    "    sum = 0\n",
    "    for i, v in enumerate(nums):\n",
    "        sum += v\n",
    "        if sum == x:\n",
    "            return(0,i)\n",
    "        if sum - x in hash_map:\n",
    "            return(hash_map[sum-x]+1, i)\n",
    "        hash_map[sum] = i\n",
    "       \n",
    "    return(-1,-1)\n",
    "nums = [24, 2, 4, 8, 9, 5, 10, 23,1,6]\n",
    "subarray_sum(nums, 14)"
   ]
  },
  {
   "cell_type": "markdown",
   "metadata": {},
   "source": [
    "### Number of Subarrays whose sum equals k"
   ]
  },
  {
   "cell_type": "code",
   "execution_count": 31,
   "metadata": {},
   "outputs": [
    {
     "data": {
      "text/plain": [
       "(3, Counter({0: 2, 10: 2, 12: 1, -10: 1}))"
      ]
     },
     "execution_count": 31,
     "metadata": {},
     "output_type": "execute_result"
    }
   ],
   "source": [
    "import collections\n",
    "def subarraySum(nums, k):\n",
    "    res, sum = 0, 0\n",
    "    counter = collections.Counter()\n",
    "    counter[0] += 1\n",
    "    for i in range(0, len(nums)):\n",
    "        sum += nums[i]\n",
    "        if sum-k in counter:\n",
    "            res += counter[sum-k]\n",
    "        counter[sum] += 1\n",
    "    return res, counter\n",
    "\n",
    "nums = [10, 2, -2, -20, 10]\n",
    "k = -10\n",
    "subarraySum(nums, k)"
   ]
  },
  {
   "cell_type": "markdown",
   "metadata": {},
   "source": [
    "### Maximum Size Subarray Sum Equals k"
   ]
  },
  {
   "cell_type": "code",
   "execution_count": 25,
   "metadata": {},
   "outputs": [
    {
     "data": {
      "text/plain": [
       "(5, (1, 5))"
      ]
     },
     "execution_count": 25,
     "metadata": {},
     "output_type": "execute_result"
    }
   ],
   "source": [
    "def maxSubArrayLen(nums, k):\n",
    "    hashmap = {}\n",
    "    max_len = 0\n",
    "    pointer = (-1,-1)\n",
    "    sum = 0\n",
    "    for i, v in enumerate(nums):\n",
    "        sum += v\n",
    "        \n",
    "        if sum == k:\n",
    "            if i+1 > max_len:\n",
    "                max_len = i+1\n",
    "                pointer = (0,i)\n",
    "                \n",
    "        if sum-k in hashmap:\n",
    "            if i - hashmap[sum-k] > max_len:\n",
    "                max_len = i - hashmap[sum-k]\n",
    "                pointer = (hashmap[sum-k]+1, i)\n",
    "                \n",
    "        if sum not in hashmap:\n",
    "            hashmap[sum] = i\n",
    "            \n",
    "    return max_len, pointer\n",
    "nums = [1,2,-3,3,-1,2,4]\n",
    "k = 3\n",
    "maxSubArrayLen(nums, k)"
   ]
  },
  {
   "cell_type": "markdown",
   "metadata": {},
   "source": [
    "### Minimum size subarray sum equals k"
   ]
  },
  {
   "cell_type": "code",
   "execution_count": 27,
   "metadata": {},
   "outputs": [
    {
     "data": {
      "text/plain": [
       "(1, (1, 1))"
      ]
     },
     "execution_count": 27,
     "metadata": {},
     "output_type": "execute_result"
    }
   ],
   "source": [
    "def minSubArrayLen(nums, k):\n",
    "    hashmap = {}\n",
    "    min_len = 9999\n",
    "    pointer = (-1,-1)\n",
    "    sum = 0\n",
    "    for i, v in enumerate(nums):\n",
    "        sum += v\n",
    "        \n",
    "        if sum == k:\n",
    "            if i+1 < min_len:\n",
    "                min_len = i+1\n",
    "                pointer = (0,i)\n",
    "            \n",
    "        if sum-k in hashmap:\n",
    "            if i - hashmap[sum-k] < min_len:\n",
    "                min_len = i - hashmap[sum-k]\n",
    "                pointer = (hashmap[sum-k]+1, i)\n",
    "    \n",
    "        hashmap[sum] = i\n",
    "        \n",
    "    return min_len, pointer\n",
    "nums = [1, -1, 5, -2,0, 3]\n",
    "nums = [0, 3,1,2,-3,3,-1,2,4]\n",
    "k = 3\n",
    "minSubArrayLen(nums, k)"
   ]
  }
 ],
 "metadata": {
  "kernelspec": {
   "display_name": "Python 3",
   "language": "python",
   "name": "python3"
  },
  "language_info": {
   "codemirror_mode": {
    "name": "ipython",
    "version": 3
   },
   "file_extension": ".py",
   "mimetype": "text/x-python",
   "name": "python",
   "nbconvert_exporter": "python",
   "pygments_lexer": "ipython3",
   "version": "3.6.8"
  }
 },
 "nbformat": 4,
 "nbformat_minor": 2
}
