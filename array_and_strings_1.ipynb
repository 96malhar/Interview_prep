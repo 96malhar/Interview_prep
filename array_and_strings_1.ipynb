{
 "cells": [
  {
   "cell_type": "markdown",
   "metadata": {},
   "source": [
    "# Reverse Traversal"
   ]
  },
  {
   "cell_type": "markdown",
   "metadata": {},
   "source": [
    "### given an array of numbers, replace each even number with two of the same number. e.g, [1,2,5,6,8, , , ,] -> [1,2,2,5,6,6,8,8]. Assumethat the array has the exact amount of space to accommodate the result."
   ]
  },
  {
   "cell_type": "code",
   "execution_count": 2,
   "metadata": {},
   "outputs": [
    {
     "data": {
      "text/plain": [
       "[1, 2, 2, 5, 6, 6, 8, 8, 0, 0, 3]"
      ]
     },
     "execution_count": 2,
     "metadata": {},
     "output_type": "execute_result"
    }
   ],
   "source": [
    "def getLastidx(a):\n",
    "    i = len(a)-1\n",
    "    while i!=0 and a[i] == -1:\n",
    "        i -= 1\n",
    "    return i\n",
    "\n",
    "def replace(a):\n",
    "    end = len(a)-1\n",
    "    last_idx = getLastidx(a)\n",
    "    for i in range(last_idx,-1,-1):\n",
    "        if a[i]%2 == 0:\n",
    "            a[end] = a[i]\n",
    "            end -= 1\n",
    "        a[end] = a[i]\n",
    "        end -= 1\n",
    "    return a\n",
    "\n",
    "a = [1,2,5,6,8,0,3,-1,-1,-1, -1]\n",
    "replace(a)"
   ]
  },
  {
   "cell_type": "markdown",
   "metadata": {},
   "source": [
    "### Given a sentence, reverse the words of the sentence. For example, \"i live in a house\" becomes \"house a in live i\"."
   ]
  },
  {
   "cell_type": "code",
   "execution_count": 6,
   "metadata": {},
   "outputs": [
    {
     "data": {
      "text/plain": [
       "'Malhar is name My'"
      ]
     },
     "execution_count": 6,
     "metadata": {},
     "output_type": "execute_result"
    }
   ],
   "source": [
    "def reverse_words(string):\n",
    "    result = ''\n",
    "    end = len(string)\n",
    "    for i in range(len(string)-1, -1, -1):\n",
    "        if string[i] == ' ':\n",
    "            result = result + string[i+1:end] + ' '\n",
    "            end = i\n",
    "    result = result + string[0:end]\n",
    "    return result\n",
    "reverse_words('My name is Malhar')"
   ]
  },
  {
   "cell_type": "markdown",
   "metadata": {},
   "source": [
    "# Traversing from Both Ends"
   ]
  },
  {
   "cell_type": "markdown",
   "metadata": {},
   "source": [
    "### Given an array, reverse the order of its elements. For example,[3,5,2,5,2,3,9] --> [9,3,2,5,2,5,3][\"hello\", \"world\"] --> [\"world\", \"hello\"]"
   ]
  },
  {
   "cell_type": "code",
   "execution_count": 8,
   "metadata": {},
   "outputs": [
    {
     "data": {
      "text/plain": [
       "[9, 3, 2, 5, 2, 5, 3]"
      ]
     },
     "execution_count": 8,
     "metadata": {},
     "output_type": "execute_result"
    }
   ],
   "source": [
    "def reverse_element(a):\n",
    "    i, j = 0, len(a)-1\n",
    "    while i<j:\n",
    "        a[i], a[j] = a[j], a[i]\n",
    "        i += 1\n",
    "        j -= 1\n",
    "    return a\n",
    "reverse_element([3,5,2,5,2,3,9])"
   ]
  },
  {
   "cell_type": "markdown",
   "metadata": {},
   "source": [
    "### 2 Sum Problem\n",
    "Given a sorted array of integers, find two numbers in the array that sum to an integer X.For example, given a=[1,2,3,5,6,7] and X=11, the answer would be 5 and 6, which sum to 11."
   ]
  },
  {
   "cell_type": "code",
   "execution_count": 9,
   "metadata": {},
   "outputs": [
    {
     "data": {
      "text/plain": [
       "(3, 4)"
      ]
     },
     "execution_count": 9,
     "metadata": {},
     "output_type": "execute_result"
    }
   ],
   "source": [
    "def twoSumSorted(a,x):\n",
    "    i, j = 0, len(a)-1\n",
    "    while i < j:\n",
    "        sum = a[i] + a[j]\n",
    "        if sum < x:\n",
    "            i += 1\n",
    "        elif sum > x:\n",
    "            j -= 1\n",
    "        else:\n",
    "            return (i,j)\n",
    "    return -1\n",
    "a = [1,2,3,5,6,7]\n",
    "twoSumSorted(a,11)"
   ]
  },
  {
   "cell_type": "markdown",
   "metadata": {},
   "source": [
    "### 2 sum less than k\n",
    "Given an array A of integers and integer K, return the maximum S such that there exists i < j with A[i] + A[j] = S and S < K. If no i, j exist satisfying this equation, return -1.\n",
    "\n",
    "Example 1:\n",
    "\n",
    "* Input: A = [34,23,1,24,75,33,54,8], K = 60\n",
    "* Output: 58\n",
    "* Explanation: We can use 34 and 24 to sum 58 which is less than 60."
   ]
  },
  {
   "cell_type": "code",
   "execution_count": 6,
   "metadata": {},
   "outputs": [
    {
     "data": {
      "text/plain": [
       "58"
      ]
     },
     "execution_count": 6,
     "metadata": {},
     "output_type": "execute_result"
    }
   ],
   "source": [
    "def twoSumLessThanK(A, k):\n",
    "    A.sort(); ans = float('-inf')\n",
    "    i = 0; j=len(A)-1\n",
    "    while i<j:\n",
    "        s = A[i] + A[j]\n",
    "        if s<k:\n",
    "            ans = max(ans,s)\n",
    "            i += 1\n",
    "        else:\n",
    "            j -= 1\n",
    "    return ans if ans != float('-inf') else -1\n",
    "\n",
    "twoSumLessThanK([34,23,1,24,75,33,54,8], 60)"
   ]
  },
  {
   "cell_type": "markdown",
   "metadata": {},
   "source": [
    "### Find the closest pair from two sorted arrays\n",
    "Given two sorted arrays and a number x, find the pair whose sum is closest to x and the pair has an element from each array.\n",
    "\n",
    "* Input:  \n",
    "    * ar1[] = {1, 4, 5, 7};\n",
    "    * ar2[] = {10, 20, 30, 40};\n",
    "    * x = 32      \n",
    "* Output:  1 and 30"
   ]
  },
  {
   "cell_type": "code",
   "execution_count": 6,
   "metadata": {},
   "outputs": [
    {
     "data": {
      "text/plain": [
       "(1, 40)"
      ]
     },
     "execution_count": 6,
     "metadata": {},
     "output_type": "execute_result"
    }
   ],
   "source": [
    "def twoSumClosest(nums1, nums2, x):\n",
    "    left = 0; right = len(nums2)-1; min_diff = float('inf'); ans = -1, -1\n",
    "    while left<len(nums1) and right>=0:\n",
    "        n1, n2 = nums1[left], nums2[right]\n",
    "        if abs(n1+n2-x) < min_diff:\n",
    "            ans = n1, n2\n",
    "            min_diff = abs(n1+n2-x)\n",
    "        if n1 + n2 > x:\n",
    "            right -= 1\n",
    "        else:\n",
    "            left += 1\n",
    "    return ans\n",
    "\n",
    "ar1 = [1, 4, 5, 7] \n",
    "ar2 = [10, 20, 30, 40] \n",
    "twoSumClosest(ar1, ar2, 41)"
   ]
  },
  {
   "cell_type": "markdown",
   "metadata": {},
   "source": [
    "### Amazon Question similar to the above problem\n",
    "* Input\n",
    "    * capacity = 10\n",
    "    * fore_app_list = [[1,3], [2,5], [3,7], [4,10]]\n",
    "    * back_app_list = [[1,2], [2,3], [3,4], [4,5]]\n",
    "* output : [[2,4], [3,2]]"
   ]
  },
  {
   "cell_type": "code",
   "execution_count": 15,
   "metadata": {},
   "outputs": [
    {
     "data": {
      "text/plain": [
       "[[3, 4]]"
      ]
     },
     "execution_count": 15,
     "metadata": {},
     "output_type": "execute_result"
    }
   ],
   "source": [
    "def optimal_pair(fore_app, back_app, capacity):\n",
    "    left = 0; right = len(back_app)-1; min_diff = float('inf')\n",
    "    while left<len(fore_app) and right >= 0:\n",
    "        id1, c1, id2, c2 = fore_app[left][0], fore_app[left][1], back_app[right][0], back_app[right][1]\n",
    "        if c1 + c2 <= capacity:\n",
    "            if capacity - c1 - c2 == min_diff:\n",
    "                ans.append([id1,id2])\n",
    "            else:\n",
    "                ans = [[id1, id2]]\n",
    "                min_diff = capacity - c1 - c2\n",
    "            left += 1\n",
    "        else:\n",
    "            right -= 1\n",
    "    return ans\n",
    "\n",
    "capacity = 10\n",
    "fore_app_list = [[1,3], [3,4]]\n",
    "back_app_list = [[1,2], [2,3], [3,4], [4,5]]\n",
    "optimal_pair(fore_app_list, back_app_list, capacity)"
   ]
  },
  {
   "cell_type": "markdown",
   "metadata": {},
   "source": [
    "### Given an array of integers, find the shortest subarray, that if sorted, results in the entire array being sorted.[1,2,4,5,3,5,6,7,9] --> [4,5,3] - If you sort from indices 2 to 4, the entire array is sorted.[1,3,5,2,6,4,7,8,9] --> [3,5,2,6,4] - indices 1 to 5"
   ]
  },
  {
   "cell_type": "code",
   "execution_count": 19,
   "metadata": {},
   "outputs": [
    {
     "data": {
      "text/plain": [
       "(2, 4)"
      ]
     },
     "execution_count": 19,
     "metadata": {},
     "output_type": "execute_result"
    }
   ],
   "source": [
    "def subarraySorted(a):\n",
    "    i, j = 0, len(a)-1\n",
    "    \n",
    "    while i!=len(a)-1 and a[i+1]>=a[i]:\n",
    "        i += 1\n",
    "    while j!=0 and a[j-1] <= a[j]:\n",
    "        j -= 1\n",
    "    if i == len(a)-1 and j == 0:\n",
    "        return('Already Sorted')\n",
    "    \n",
    "    max_ = max(a[i:j+1])\n",
    "    min_ = min(a[i:j+1])\n",
    "    \n",
    "    while i!=0 and a[i-1] > min_:\n",
    "        i -= 1\n",
    "    while j!=len(a)-1 and a[j+1] < max_:\n",
    "        j += 1\n",
    "    return (i, j)\n",
    " \n",
    "subarraySorted([1,2,4,5,3,5,6,7,9])"
   ]
  },
  {
   "cell_type": "markdown",
   "metadata": {},
   "source": [
    "# Dutch National Flag Problem"
   ]
  },
  {
   "cell_type": "markdown",
   "metadata": {},
   "source": [
    "### Given an array with n objects colored Red, White or Blue, sort them so that objects of the same color are adjacent, with the colors in the order Red, White and Blue. Assume the colors are given as numbers - 0 (Red), 1 (White) and 2 (Blue). For example, if A = [1,0,1,2,1,0,1,2], Output = [0,0,1,1,1,1,2,2]."
   ]
  },
  {
   "cell_type": "code",
   "execution_count": 121,
   "metadata": {},
   "outputs": [
    {
     "data": {
      "text/plain": [
       "[0, 0, 1, 1, 1, 1, 2, 2]"
      ]
     },
     "execution_count": 121,
     "metadata": {},
     "output_type": "execute_result"
    }
   ],
   "source": [
    "def dnf(a):\n",
    "    low, mid, high = -1, -1, len(a)\n",
    "    while mid + 1 < high:\n",
    "        \n",
    "        if a[mid+1] > 1:\n",
    "            a[mid+1], a[high-1] = a[high-1], a[mid+1]\n",
    "            high -= 1\n",
    "        \n",
    "        elif a[mid+1] < 1:\n",
    "            a[low+1], a[mid+1] = a[mid+1], a[low+1]\n",
    "            low += 1\n",
    "            mid += 1\n",
    "            \n",
    "        else:\n",
    "            mid += 1\n",
    "    return a\n",
    "dnf([1,0,1,2,1,0,1,2])            "
   ]
  },
  {
   "cell_type": "markdown",
   "metadata": {},
   "source": [
    "### Sort array by parity \n",
    "Given an array A of non-negative integers, return an array consisting of all the even elements of A, followed by all the odd elements of A.\n",
    "\n",
    "You may return any answer array that satisfies this condition.\n",
    "\n",
    "Example 1:\n",
    "\n",
    "* Input: [3,1,2,4]\n",
    "* Output: [2,4,3,1]\n",
    "* The outputs [4,2,3,1], [2,4,1,3], and [4,2,1,3] would also be accepted."
   ]
  },
  {
   "cell_type": "code",
   "execution_count": 4,
   "metadata": {},
   "outputs": [
    {
     "data": {
      "text/plain": [
       "[4, 2, 1, 3]"
      ]
     },
     "execution_count": 4,
     "metadata": {},
     "output_type": "execute_result"
    }
   ],
   "source": [
    "def sortArrayByParity(A):\n",
    "    low = -1; high = len(A)\n",
    "    while low+1<high:\n",
    "        if A[low+1]%2 == 0:\n",
    "            low += 1\n",
    "        else:\n",
    "            A[low+1], A[high-1] = A[high-1], A[low+1]\n",
    "            high-=1\n",
    "    return A\n",
    "sortArrayByParity([3,1,2,4])"
   ]
  },
  {
   "cell_type": "markdown",
   "metadata": {},
   "source": [
    "### Given an array nums, write a function to move all 0's to the end of it while maintaining the relative order of the non-zero elements.\n",
    "\n",
    "Example:\n",
    "\n",
    "Input: [0,1,0,3,12]\n",
    "Output: [1,3,12,0,0]"
   ]
  },
  {
   "cell_type": "code",
   "execution_count": 25,
   "metadata": {},
   "outputs": [
    {
     "data": {
      "text/plain": [
       "[1, 2, 4, 3, 5, 0, 0, 0]"
      ]
     },
     "execution_count": 25,
     "metadata": {},
     "output_type": "execute_result"
    }
   ],
   "source": [
    "def move_zeroes(a):\n",
    "    j = 0\n",
    "    for i in range(0,len(a)):\n",
    "        if a[i] != 0:\n",
    "            a[j] = a[i]\n",
    "            j+=1\n",
    "    while j < len(a):\n",
    "        a[j] = 0\n",
    "        j+= 1\n",
    "    return a\n",
    "move_zeroes([1, 2, 0, 4, 3, 0, 5, 0])    "
   ]
  },
  {
   "cell_type": "markdown",
   "metadata": {},
   "source": [
    "### Given an array nums and a value val, remove all instances of that value in-place and return the new length.\n",
    "\n",
    "Do not allocate extra space for another array, you must do this by modifying the input array in-place with O(1) extra memory.\n",
    "\n",
    "example : Given nums = [0,1,2,2,3,0,4,2], val = 2,\n",
    "\n",
    "Your function should return length = 5, with the first five elements of nums containing 0, 1, 3, 0, and 4.\n",
    "\n",
    "Note that the order of those five elements can be arbitrary.\n",
    "It doesn't matter what you leave beyond the returned length."
   ]
  },
  {
   "cell_type": "code",
   "execution_count": 32,
   "metadata": {},
   "outputs": [
    {
     "name": "stdout",
     "output_type": "stream",
     "text": [
      "[0, 1, 3, 0, 4]\n"
     ]
    },
    {
     "data": {
      "text/plain": [
       "5"
      ]
     },
     "execution_count": 32,
     "metadata": {},
     "output_type": "execute_result"
    }
   ],
   "source": [
    "def remove_val(a,x):\n",
    "    j = 0\n",
    "    for i in range(0,len(a)):\n",
    "        if a[i] != x:\n",
    "            a[j] = a[i]\n",
    "            j += 1\n",
    "    print(a[:j])\n",
    "    return j\n",
    "a = [0,1,2,2,3,0,4,2,2]\n",
    "remove_val(a,2)"
   ]
  },
  {
   "cell_type": "markdown",
   "metadata": {},
   "source": [
    "### Given a sorted array nums, remove the duplicates in-place such that each element appear only once and return the new length.\n",
    "\n",
    "Do not allocate extra space for another array, you must do this by modifying the input array in-place with O(1) extra memory.\n",
    "given nums = [0,0,1,1,1,2,2,3,3,4],\n",
    "\n",
    "Your function should return length = 5, with the first five elements of nums being modified to 0, 1, 2, 3, and 4 respectively.\n",
    "\n",
    "It doesn't matter what values are set beyond the returned length."
   ]
  },
  {
   "cell_type": "code",
   "execution_count": 68,
   "metadata": {},
   "outputs": [
    {
     "name": "stdout",
     "output_type": "stream",
     "text": [
      "[0, 1, 2, 3, 4, 5]\n"
     ]
    },
    {
     "data": {
      "text/plain": [
       "6"
      ]
     },
     "execution_count": 68,
     "metadata": {},
     "output_type": "execute_result"
    }
   ],
   "source": [
    "def remove_duplicates(a):\n",
    "    j = 0\n",
    "    for i in range(0,len(a)):\n",
    "        if j<1 or a[j-1]<a[i]:\n",
    "            a[j] = a[i]\n",
    "            j+=1\n",
    "    print(a[:j])\n",
    "    return j\n",
    "remove_duplicates([0,0,1,1,1,2,2,3,3,4,4,5,5])"
   ]
  },
  {
   "cell_type": "markdown",
   "metadata": {},
   "source": [
    "### Given a sorted array nums, remove the duplicates in-place such that duplicates appeared at most twice and return the new length.\n",
    "\n",
    "Do not allocate extra space for another array, you must do this by modifying the input array in-place with O(1) extra memory.\n",
    "\n",
    "Example 1:\n",
    "\n",
    "Given nums = [1,1,1,2,2,3],\n",
    "\n",
    "Your function should return length = 5, with the first five elements of nums being 1, 1, 2, 2 and 3 respectively.\n",
    "\n",
    "It doesn't matter what you leave beyond the returned length."
   ]
  },
  {
   "cell_type": "code",
   "execution_count": 81,
   "metadata": {},
   "outputs": [
    {
     "name": "stdout",
     "output_type": "stream",
     "text": [
      "[0, 0, 1, 1, 2, 2, 3, 3]\n"
     ]
    },
    {
     "data": {
      "text/plain": [
       "8"
      ]
     },
     "execution_count": 81,
     "metadata": {},
     "output_type": "execute_result"
    }
   ],
   "source": [
    "def remove_duplicates(a):\n",
    "    j = 0\n",
    "    for i in range(0,len(a)):\n",
    "        if j<2 or a[j-2] < a[i]:\n",
    "            a[j] = a[i]\n",
    "            j += 1        \n",
    "    print(a[:j])\n",
    "    return j\n",
    "remove_duplicates([0,0,0,1,1,1,1,2,2,3,3])"
   ]
  },
  {
   "cell_type": "markdown",
   "metadata": {},
   "source": [
    "# Subarray sum Problems"
   ]
  },
  {
   "cell_type": "markdown",
   "metadata": {},
   "source": [
    "### Given an array of integers that can be both +ve and -ve, find the contiguous subarray with the largest sum.e.g, [1,2,-1,2,-3,2,-5]  -> the first 4 elements have the largest sum.\n",
    "\n",
    "Kadane's Algo"
   ]
  },
  {
   "cell_type": "code",
   "execution_count": 5,
   "metadata": {},
   "outputs": [
    {
     "name": "stdout",
     "output_type": "stream",
     "text": [
      "[-2, 1, -2, 4, 3, 5, 6, 1, 5]\n"
     ]
    },
    {
     "data": {
      "text/plain": [
       "(3, 6)"
      ]
     },
     "execution_count": 5,
     "metadata": {},
     "output_type": "execute_result"
    }
   ],
   "source": [
    "def max_sum(a):\n",
    "    maxsum = a[0], 0\n",
    "    maxsofar = a[0]\n",
    "    for i in range(1,len(a)):\n",
    "        a[i] = max(a[i], maxsofar+a[i])\n",
    "        maxsofar = a[i]\n",
    "        if maxsofar > maxsum[0]:\n",
    "            maxsum = maxsofar, i\n",
    "    i = maxsum[1]\n",
    "    while i!=0 and a[i-1] > 0:\n",
    "        i-=1\n",
    "    print(a)\n",
    "    return (i,maxsum[1])\n",
    "max_sum([-2,1,-3,4,-1,2,1,-5,4])"
   ]
  },
  {
   "cell_type": "markdown",
   "metadata": {},
   "source": [
    "### Find contiguos subarray with smallest sum"
   ]
  },
  {
   "cell_type": "code",
   "execution_count": 74,
   "metadata": {},
   "outputs": [
    {
     "name": "stdout",
     "output_type": "stream",
     "text": [
      "[3, -4, -2, -5, -6, 1, -5]\n"
     ]
    },
    {
     "data": {
      "text/plain": [
       "(1, 4)"
      ]
     },
     "execution_count": 74,
     "metadata": {},
     "output_type": "execute_result"
    }
   ],
   "source": [
    "def min_sum(a):\n",
    "    minsofar = a[0]\n",
    "    for i in range(1,len(a)):\n",
    "        a[i] = min(a[i],minsofar+a[i])\n",
    "        minsofar = a[i]\n",
    "    min_index = a.index(min(a))\n",
    "    i = min_index\n",
    "    while i!=0 and a[i-1]<0:\n",
    "        i -= 1\n",
    "    print(a)\n",
    "    return (i,min_index)\n",
    "min_sum([3, -4, 2, -3, -1, 7, -5])"
   ]
  },
  {
   "cell_type": "markdown",
   "metadata": {},
   "source": [
    "### Given an array of positive integers, find a subarray that sums to a given number X"
   ]
  },
  {
   "cell_type": "code",
   "execution_count": 109,
   "metadata": {},
   "outputs": [
    {
     "data": {
      "text/plain": [
       "(2, 5)"
      ]
     },
     "execution_count": 109,
     "metadata": {},
     "output_type": "execute_result"
    }
   ],
   "source": [
    "def subarray_sum(a,x):\n",
    "    i,j = 0,0\n",
    "    sum = a[i]\n",
    "    while i<len(a):\n",
    "        if i>j:\n",
    "            j = i\n",
    "            sum = a[i]\n",
    "        if sum > x:\n",
    "            sum -= a[i]\n",
    "            i +=1\n",
    "        elif sum < x:\n",
    "            if j+1 < len(a):\n",
    "                j += 1\n",
    "                sum += a[j]\n",
    "            else:\n",
    "                break\n",
    "        else:\n",
    "            return (i,j)\n",
    "    return -1\n",
    "nums = [15, 15, 4, 8, 9, 5, 10, 23,1,6]\n",
    "subarray_sum(nums, 26)"
   ]
  },
  {
   "cell_type": "markdown",
   "metadata": {},
   "source": [
    "### Given an array of integers, both -ve and +ve, find a contiguous subarray that sums to 0.For example: [2,4,-2,1,-3,5,-3] --> [4,-2,1,-3]"
   ]
  },
  {
   "cell_type": "code",
   "execution_count": 88,
   "metadata": {},
   "outputs": [
    {
     "data": {
      "text/plain": [
       "(2, 4)"
      ]
     },
     "execution_count": 88,
     "metadata": {},
     "output_type": "execute_result"
    }
   ],
   "source": [
    "def subarray_sum(a):\n",
    "    hashmap = {}\n",
    "    sum = 0\n",
    "    for i in range(0,len(a)):\n",
    "        sum += a[i]\n",
    "        if sum == 0:\n",
    "            return(0,i)\n",
    "        if sum in hashmap:\n",
    "            return (hashmap[sum]+1,i)\n",
    "        hashmap[sum] = i\n",
    "    return (-1,-1)\n",
    "subarray_sum([6, 3, -1, -3, 4, -2, 2, 4, 6, -12, -7])"
   ]
  },
  {
   "cell_type": "markdown",
   "metadata": {},
   "source": [
    "### Given an array of positive and negative integers, find a subarray whose sum equals K"
   ]
  },
  {
   "cell_type": "code",
   "execution_count": 93,
   "metadata": {},
   "outputs": [
    {
     "data": {
      "text/plain": [
       "(1, 3)"
      ]
     },
     "execution_count": 93,
     "metadata": {},
     "output_type": "execute_result"
    }
   ],
   "source": [
    "def subarray_sum(a,x):\n",
    "    hashmap = {}\n",
    "    sum = 0\n",
    "    for i in range(0,len(a)):\n",
    "        sum += a[i]\n",
    "        if sum == x:\n",
    "            return (0,i)\n",
    "        if sum-x in hashmap:\n",
    "            return (hashmap[sum-x]+1,i)\n",
    "        hashmap[sum] = i\n",
    "    return (-1,-1)\n",
    "\n",
    "nums = [24, 2, 4, 8, 9, 5, 10, 23,1,6]\n",
    "subarray_sum(nums, 14)"
   ]
  },
  {
   "cell_type": "markdown",
   "metadata": {},
   "source": [
    "### Number of Subarrays whose sum equals k"
   ]
  },
  {
   "cell_type": "code",
   "execution_count": 4,
   "metadata": {},
   "outputs": [
    {
     "data": {
      "text/plain": [
       "3"
      ]
     },
     "execution_count": 4,
     "metadata": {},
     "output_type": "execute_result"
    }
   ],
   "source": [
    "import collections\n",
    "def count_subarray_sum(a,x):\n",
    "    counter = collections.Counter()\n",
    "    res, sum = 0,0\n",
    "    counter[0] += 1\n",
    "    for i in range(0,len(a)):\n",
    "        sum += a[i]\n",
    "        res += counter[sum-x]\n",
    "        counter[sum] += 1\n",
    "    return res\n",
    "\n",
    "nums = [10, 2, -2, -20, 10]\n",
    "k = -10\n",
    "count_subarray_sum(nums, k)"
   ]
  },
  {
   "cell_type": "markdown",
   "metadata": {},
   "source": [
    "### Maximum Size Subarray Sum Equals k"
   ]
  },
  {
   "cell_type": "code",
   "execution_count": 114,
   "metadata": {},
   "outputs": [
    {
     "data": {
      "text/plain": [
       "(5, (1, 5))"
      ]
     },
     "execution_count": 114,
     "metadata": {},
     "output_type": "execute_result"
    }
   ],
   "source": [
    "def maxSubArrayLen(a,x):\n",
    "    hashmap = {}\n",
    "    sum = 0\n",
    "    max_len = None\n",
    "    pointer = (-1,-1)\n",
    "    \n",
    "    for i in range(0,len(a)):\n",
    "        sum += a[i]\n",
    "        \n",
    "        if sum == x:\n",
    "            if max_len is None or i+1>max_len:\n",
    "                max_len = i+1\n",
    "                pointer = (0,i)\n",
    "                \n",
    "        if sum - x in hashmap:\n",
    "            if max_len is None or i-hashmap[sum-x] > max_len:\n",
    "                max_len = i - hashmap[sum-x]\n",
    "                pointer = (hashmap[sum-x]+1,i)\n",
    "                \n",
    "        if sum not in hashmap:\n",
    "            hashmap[sum] = i\n",
    "            \n",
    "    return max_len, pointer\n",
    "\n",
    "a = [1,2,-3,3,-1,2,4]\n",
    "x = 3\n",
    "maxSubArrayLen(a, x)"
   ]
  },
  {
   "cell_type": "markdown",
   "metadata": {},
   "source": [
    "### Minimum size subarray sum equals k"
   ]
  },
  {
   "cell_type": "code",
   "execution_count": 120,
   "metadata": {},
   "outputs": [
    {
     "data": {
      "text/plain": [
       "(1, (5, 5))"
      ]
     },
     "execution_count": 120,
     "metadata": {},
     "output_type": "execute_result"
    }
   ],
   "source": [
    "def minSubArrayLen(a, x):\n",
    "    hashmap = {}\n",
    "    sum = 0\n",
    "    min_len = None\n",
    "    pointer = (-1,-1)\n",
    "    \n",
    "    for i in range(0,len(a)):\n",
    "        sum += a[i]\n",
    "        \n",
    "        if sum == x:\n",
    "            if min_len is None or i+1 < min_len:\n",
    "                min_len = i+1\n",
    "                pointer = (0,i)\n",
    "                \n",
    "        if sum - x in hashmap:\n",
    "            if min_len is None or i - hashmap[sum-x] < min_len:\n",
    "                min_len = i - hashmap[sum-x]\n",
    "                pointer = (hashmap[sum-x]+1,i)\n",
    "                \n",
    "        hashmap[sum] = i\n",
    "    \n",
    "    return min_len, pointer\n",
    "\n",
    "a = [1, -1, 5, -2,0, 3]\n",
    "x = 3\n",
    "minSubArrayLen(a, x)"
   ]
  },
  {
   "cell_type": "markdown",
   "metadata": {},
   "source": [
    "### Max length of subarrays with equal number of 0s and 1s"
   ]
  },
  {
   "cell_type": "code",
   "execution_count": 5,
   "metadata": {},
   "outputs": [
    {
     "data": {
      "text/plain": [
       "(4, 0, 3)"
      ]
     },
     "execution_count": 5,
     "metadata": {},
     "output_type": "execute_result"
    }
   ],
   "source": [
    "def max_len(nums):\n",
    "    hashmap = {}\n",
    "    for i in range(len(nums)):\n",
    "        if nums[i]==0:\n",
    "            nums[i] = -1\n",
    "    max_len = -float('inf'), -1, -1\n",
    "    sum = 0\n",
    "    for i in range(len(nums)):\n",
    "        sum += nums[i]\n",
    "        if sum == 0:\n",
    "            if i+1 > max_len[0]:\n",
    "                max_len = i+1,0,i\n",
    "        if sum in hashmap:\n",
    "            if i - hashmap[sum] > max_len[0]:\n",
    "                max_len = i - hashmap[sum], hashmap[sum]+1, i\n",
    "        if sum not in hashmap:\n",
    "            hashmap[sum] = i\n",
    "    return max_len if max_len[0]!=-float('inf') else -1\n",
    "            \n",
    "max_len([1, 0, 1, 1, 1, 0, 0])\n",
    "max_len([0, 0, 1, 1, 0])"
   ]
  },
  {
   "cell_type": "markdown",
   "metadata": {},
   "source": [
    "### Count of subarrays with equal number of 0s and 1s"
   ]
  },
  {
   "cell_type": "code",
   "execution_count": 8,
   "metadata": {},
   "outputs": [
    {
     "data": {
      "text/plain": [
       "8"
      ]
     },
     "execution_count": 8,
     "metadata": {},
     "output_type": "execute_result"
    }
   ],
   "source": [
    "def count(nums):\n",
    "    from collections import Counter; res = 0; sum = 0\n",
    "    for i in range(len(nums)):\n",
    "        if nums[i]==0:\n",
    "            nums[i] = -1\n",
    "    count = Counter()\n",
    "    count[0] = 1\n",
    "    for i in range(len(nums)):\n",
    "        sum += nums[i]\n",
    "        res += count[sum]\n",
    "        count[sum] += 1\n",
    "    return res\n",
    "count([1, 0, 0, 1, 0, 1, 1])"
   ]
  },
  {
   "cell_type": "markdown",
   "metadata": {},
   "source": [
    "###  Subarray Sums Divisible by K\n",
    "Given an array A of integers, return the number of (contiguous, non-empty) subarrays that have a sum divisible by K.\n",
    "\n",
    "Example 1:\n",
    "\n",
    "* Input: A = [4,5,0,-2,-3,1], K = 5\n",
    "* Output: 7\n",
    "* Explanation: There are 7 subarrays with a sum divisible by K = 5: [4, 5, 0, -2, -3, 1], [5], [5, 0], [5, 0, -2, -3], [0], [0, -2, -3], [-2, -3]"
   ]
  },
  {
   "cell_type": "code",
   "execution_count": 11,
   "metadata": {},
   "outputs": [
    {
     "data": {
      "text/plain": [
       "7"
      ]
     },
     "execution_count": 11,
     "metadata": {},
     "output_type": "execute_result"
    }
   ],
   "source": [
    "def subarraysDivByK(A, K):\n",
    "    import collections\n",
    "    count = collections.Counter([0]); sum = 0; res = 0\n",
    "    for num in A:\n",
    "        sum  = (sum+num)%K\n",
    "        res += count[sum]\n",
    "        count[sum]+= 1\n",
    "    return res\n",
    "\n",
    "subarraysDivByK([4,5,0,-2,-3,1], K = 5)"
   ]
  }
 ],
 "metadata": {
  "kernelspec": {
   "display_name": "Python 3",
   "language": "python",
   "name": "python3"
  },
  "language_info": {
   "codemirror_mode": {
    "name": "ipython",
    "version": 3
   },
   "file_extension": ".py",
   "mimetype": "text/x-python",
   "name": "python",
   "nbconvert_exporter": "python",
   "pygments_lexer": "ipython3",
   "version": "3.6.8"
  }
 },
 "nbformat": 4,
 "nbformat_minor": 2
}
