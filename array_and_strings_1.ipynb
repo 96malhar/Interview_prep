{
 "cells": [
  {
   "cell_type": "markdown",
   "metadata": {},
   "source": [
    "## Print all substrings"
   ]
  },
  {
   "cell_type": "code",
   "execution_count": 3,
   "metadata": {},
   "outputs": [
    {
     "name": "stdout",
     "output_type": "stream",
     "text": [
      "h\n",
      "he\n",
      "hel\n",
      "hell\n",
      "hello\n",
      "e\n",
      "el\n",
      "ell\n",
      "ello\n",
      "l\n",
      "ll\n",
      "llo\n",
      "l\n",
      "lo\n",
      "o\n"
     ]
    },
    {
     "data": {
      "text/plain": [
       "15"
      ]
     },
     "execution_count": 3,
     "metadata": {},
     "output_type": "execute_result"
    }
   ],
   "source": [
    "def print_substrings(s):\n",
    "    count = 0\n",
    "    for i in range(len(s)):\n",
    "        for j in range(i+1,len(s)+1):\n",
    "            print(s[i:j])\n",
    "            count += 1\n",
    "    return count\n",
    "\n",
    "print_substrings('hello')"
   ]
  },
  {
   "cell_type": "markdown",
   "metadata": {},
   "source": [
    "### Max Cut Commanality\n",
    "Divide a string into substrings such that they have maximum common characters\n",
    "\n",
    "https://leetcode.com/discuss/interview-question/338412/Goldman-Sachs-or-Online-Assessment-2019"
   ]
  },
  {
   "cell_type": "code",
   "execution_count": 8,
   "metadata": {},
   "outputs": [
    {
     "data": {
      "text/plain": [
       "3"
      ]
     },
     "execution_count": 8,
     "metadata": {},
     "output_type": "execute_result"
    }
   ],
   "source": [
    "def max_cut(s):\n",
    "    from collections import Counter\n",
    "    ans = float('-inf')\n",
    "    for i in range(1,len(s)):\n",
    "        a,b = s[:i], s[i:]\n",
    "        common = 0\n",
    "        count = Counter(a)\n",
    "        for ch in b:\n",
    "            if count[ch]>0:\n",
    "                common += 1\n",
    "                count[ch]-=1\n",
    "        ans = max(ans, common)\n",
    "    return ans\n",
    "max_cut('abcdedeara')  \n",
    "# max_cut('aabbbbaa')"
   ]
  },
  {
   "cell_type": "markdown",
   "metadata": {},
   "source": [
    "### Game of Life \n",
    "https://leetcode.com/discuss/interview-question/338412/Goldman-Sachs-or-Online-Assessment-2019"
   ]
  },
  {
   "cell_type": "code",
   "execution_count": 22,
   "metadata": {},
   "outputs": [
    {
     "data": {
      "text/plain": [
       "[[0, 1, 1, 0], [1, 1, 0, 0]]"
      ]
     },
     "execution_count": 22,
     "metadata": {},
     "output_type": "execute_result"
    }
   ],
   "source": [
    "def gridGame(grid, k, rules):\n",
    "    alive_rules = set()\n",
    "    for i in range(len(rules)):\n",
    "        if rules[i] == 'alive':\n",
    "            alive_rules.add(i)\n",
    "    \n",
    "    for i in range(k):\n",
    "        neighbors_alive = get_state(grid)\n",
    "        for i in range(len(neighbors_alive)):\n",
    "            for j in range(len(neighbors_alive[0])):\n",
    "                if neighbors_alive[i][j] in alive_rules:\n",
    "                    grid[i][j] = 1\n",
    "                else:\n",
    "                    grid[i][j] = 0\n",
    "    return grid\n",
    "                    \n",
    "def get_state(grid):\n",
    "    neighbors_alive = [[0]*len(grid[0]) for x in range(len(grid))]\n",
    "    for i in range(len(grid)):\n",
    "        for j in range(len(grid[0])):\n",
    "            count = 0\n",
    "            for x,y in [(i+1,j), (i,j+1), (i-1,j), (i,j-1), (i-1,j-1), (i+1,j-1), (i-1,j+1), (i+1, j+1)]:\n",
    "                if 0<=x<len(grid) and 0<=y<len(grid[0]):\n",
    "                    if grid[x][y] == 1:\n",
    "                        count += 1\n",
    "            neighbors_alive[i][j] = count\n",
    "    return neighbors_alive\n",
    "\n",
    "rules = ['dead','dead','dead','alive','dead','alive','dead','dead','dead']\n",
    "grid = [[0,1,1,0], [1,1,0,0]]\n",
    "k = 2\n",
    "gridGame(grid, k, rules)                    \n",
    "        \n",
    "        "
   ]
  },
  {
   "cell_type": "markdown",
   "metadata": {},
   "source": [
    "### Tom and jerry"
   ]
  },
  {
   "cell_type": "code",
   "execution_count": 26,
   "metadata": {},
   "outputs": [
    {
     "data": {
      "text/plain": [
       "(16, 15)"
      ]
     },
     "execution_count": 26,
     "metadata": {},
     "output_type": "execute_result"
    }
   ],
   "source": [
    "def play(board):\n",
    "    tom = jerry = 0; used = set()\n",
    "    for i in range(len(board[0])):\n",
    "        tom += get_max(board, used)\n",
    "        jerry += get_max(board, used)\n",
    "    return tom, jerry\n",
    "\n",
    "def get_max(board, used):\n",
    "    if len(used)==len(board[0]):\n",
    "        return 0\n",
    "    maxval = -float('inf'), None\n",
    "    for i in range(len(board)):\n",
    "        for j in range(len(board[0])):\n",
    "            if j in used:\n",
    "                continue\n",
    "            if board[i][j]>maxval[0]:\n",
    "                maxval = board[i][j], j\n",
    "    used.add(maxval[1])\n",
    "    return maxval[0] \n",
    "\n",
    "# board = [[5,7,6,2,8,4,4,8], [2,5,4,5,9,8,4,2], [5,4,3,9,8,3,3,4], [4,9,3,4,6,7,4,9], [2,4,6,2,9,2,4,2]]\n",
    "board = [[3,7,5,3,4,5], [4,5,2,6,5,4], [7,4,9,7,8,3]]\n",
    "board = [[1,-2,3,3,5,-6,7], [7,6,5,2,3,-2,-1], [-2,1,2,1,3,-5,5]]\n",
    "play(board)"
   ]
  },
  {
   "cell_type": "markdown",
   "metadata": {},
   "source": [
    "### Count Primes\n",
    "Count the number of prime numbers less than a non-negative number, n."
   ]
  },
  {
   "cell_type": "code",
   "execution_count": 2,
   "metadata": {},
   "outputs": [
    {
     "data": {
      "text/plain": [
       "25"
      ]
     },
     "execution_count": 2,
     "metadata": {},
     "output_type": "execute_result"
    }
   ],
   "source": [
    "class Solution:\n",
    "    def countPrimes(self, n: int) -> int:\n",
    "        isPrime = [True]*n\n",
    "        res = 0\n",
    "        \n",
    "        for num in range(2, n):\n",
    "            if isPrime[num] == False:\n",
    "                continue\n",
    "            \n",
    "            isPrime[num] = True\n",
    "            res += 1\n",
    "                \n",
    "            for cand in range(2*num, n, num):\n",
    "                isPrime[cand] = False\n",
    "            \n",
    "        return res\n",
    "\n",
    "Solution().countPrimes(100)"
   ]
  },
  {
   "cell_type": "markdown",
   "metadata": {},
   "source": [
    "# Reverse Traversal"
   ]
  },
  {
   "cell_type": "markdown",
   "metadata": {},
   "source": [
    "### given an array of numbers, replace each even number with two of the same number. e.g, [1,2,5,6,8, , , ,] -> [1,2,2,5,6,6,8,8]. Assumethat the array has the exact amount of space to accommodate the result."
   ]
  },
  {
   "cell_type": "code",
   "execution_count": 2,
   "metadata": {},
   "outputs": [
    {
     "data": {
      "text/plain": [
       "[1, 2, 2, 5, 6, 6, 8, 8, 0, 0, 3]"
      ]
     },
     "execution_count": 2,
     "metadata": {},
     "output_type": "execute_result"
    }
   ],
   "source": [
    "def getLastidx(a):\n",
    "    i = len(a)-1\n",
    "    while i!=0 and a[i] == -1:\n",
    "        i -= 1\n",
    "    return i\n",
    "\n",
    "def replace(a):\n",
    "    end = len(a)-1\n",
    "    last_idx = getLastidx(a)\n",
    "    for i in range(last_idx,-1,-1):\n",
    "        if a[i]%2 == 0:\n",
    "            a[end] = a[i]\n",
    "            end -= 1\n",
    "        a[end] = a[i]\n",
    "        end -= 1\n",
    "    return a\n",
    "\n",
    "a = [1,2,5,6,8,0,3,-1,-1,-1, -1]\n",
    "replace(a)"
   ]
  },
  {
   "cell_type": "markdown",
   "metadata": {},
   "source": [
    "### Given a sentence, reverse the words of the sentence. For example, \"i live in a house\" becomes \"house a in live i\"."
   ]
  },
  {
   "cell_type": "code",
   "execution_count": 4,
   "metadata": {},
   "outputs": [
    {
     "data": {
      "text/plain": [
       "' Malhar is name My'"
      ]
     },
     "execution_count": 4,
     "metadata": {},
     "output_type": "execute_result"
    }
   ],
   "source": [
    "def reverse_words(string):\n",
    "    result = ''\n",
    "    end = len(string)\n",
    "    for i in range(len(string)-1, -1, -1):\n",
    "        if string[i] == ' ':\n",
    "            result = result + string[i+1:end] + ' '\n",
    "            end = i\n",
    "    result = result + string[0:end]\n",
    "    return result\n",
    "reverse_words('My name is Malhar ')"
   ]
  },
  {
   "cell_type": "markdown",
   "metadata": {},
   "source": [
    "# Traversing from Both Ends"
   ]
  },
  {
   "cell_type": "markdown",
   "metadata": {},
   "source": [
    "### Given an array, reverse the order of its elements. For example,[3,5,2,5,2,3,9] --> [9,3,2,5,2,5,3][\"hello\", \"world\"] --> [\"world\", \"hello\"]"
   ]
  },
  {
   "cell_type": "code",
   "execution_count": 8,
   "metadata": {},
   "outputs": [
    {
     "data": {
      "text/plain": [
       "[9, 3, 2, 5, 2, 5, 3]"
      ]
     },
     "execution_count": 8,
     "metadata": {},
     "output_type": "execute_result"
    }
   ],
   "source": [
    "def reverse_element(a):\n",
    "    i, j = 0, len(a)-1\n",
    "    while i<j:\n",
    "        a[i], a[j] = a[j], a[i]\n",
    "        i += 1\n",
    "        j -= 1\n",
    "    return a\n",
    "reverse_element([3,5,2,5,2,3,9])"
   ]
  },
  {
   "cell_type": "markdown",
   "metadata": {},
   "source": [
    "### 2 Sum Problem\n",
    "Given a sorted array of integers, find two numbers in the array that sum to an integer X.For example, given a=[1,2,3,5,6,7] and X=11, the answer would be 5 and 6, which sum to 11."
   ]
  },
  {
   "cell_type": "code",
   "execution_count": 9,
   "metadata": {},
   "outputs": [
    {
     "data": {
      "text/plain": [
       "(3, 4)"
      ]
     },
     "execution_count": 9,
     "metadata": {},
     "output_type": "execute_result"
    }
   ],
   "source": [
    "def twoSumSorted(a,x):\n",
    "    i, j = 0, len(a)-1\n",
    "    while i < j:\n",
    "        sum = a[i] + a[j]\n",
    "        if sum < x:\n",
    "            i += 1\n",
    "        elif sum > x:\n",
    "            j -= 1\n",
    "        else:\n",
    "            return (i,j)\n",
    "    return -1\n",
    "a = [1,2,3,5,6,7]\n",
    "twoSumSorted(a,11)"
   ]
  },
  {
   "cell_type": "markdown",
   "metadata": {},
   "source": [
    "### 2 sum less than k\n",
    "Given an array A of integers and integer K, return the maximum S such that there exists i < j with A[i] + A[j] = S and S < K. If no i, j exist satisfying this equation, return -1.\n",
    "\n",
    "Example 1:\n",
    "\n",
    "* Input: A = [34,23,1,24,75,33,54,8], K = 60\n",
    "* Output: 58\n",
    "* Explanation: We can use 34 and 24 to sum 58 which is less than 60."
   ]
  },
  {
   "cell_type": "code",
   "execution_count": 45,
   "metadata": {},
   "outputs": [
    {
     "data": {
      "text/plain": [
       "58"
      ]
     },
     "execution_count": 45,
     "metadata": {},
     "output_type": "execute_result"
    }
   ],
   "source": [
    "def twoSumLessThanK(A, K):\n",
    "    A.sort(); left = 0; right = len(A)-1; ans = -float('inf')\n",
    "    while left<right:\n",
    "        s = A[left] + A[right]\n",
    "        if s < K:\n",
    "            ans = max(ans, s)\n",
    "            left += 1\n",
    "        else:\n",
    "            right -= 1 \n",
    "    return ans if ans!= -float('inf') else -1\n",
    "\n",
    "twoSumLessThanK([34,23,1,24,75,33,54,8], 60)"
   ]
  },
  {
   "cell_type": "markdown",
   "metadata": {},
   "source": [
    "### FB Question 1 based on 2 sum\n",
    "For a given list of integers without duplicates and integer K, find the number of non-empty subsets S such that min(S) + max(S) = K.\n",
    "https://leetcode.com/discuss/interview-question/275785/facebook-phone-screen-count-subsets\n",
    "\n",
    "Time - O(nlogn)"
   ]
  },
  {
   "cell_type": "code",
   "execution_count": 5,
   "metadata": {},
   "outputs": [
    {
     "data": {
      "text/plain": [
       "5"
      ]
     },
     "execution_count": 5,
     "metadata": {},
     "output_type": "execute_result"
    }
   ],
   "source": [
    "def count_sub(arr, k):\n",
    "    arr.sort()\n",
    "    left = 0; right = len(arr)-1\n",
    "    ans = 0\n",
    "    while left <= right:\n",
    "        s = arr[left] + arr[right]\n",
    "        if s == k:\n",
    "            rem = right - left if right == left else right -left - 1\n",
    "            ans += 2 ** (rem)\n",
    "            left +=  1\n",
    "        elif s<k:\n",
    "            left += 1\n",
    "        elif s>k:\n",
    "            right -= 1\n",
    "    return ans\n",
    "\n",
    "count_sub([1,2,3,4,5], 5)"
   ]
  },
  {
   "cell_type": "markdown",
   "metadata": {},
   "source": [
    "### Same as above but array can have duplicates\n",
    "Time - O(n^2)"
   ]
  },
  {
   "cell_type": "code",
   "execution_count": 47,
   "metadata": {},
   "outputs": [
    {
     "data": {
      "text/plain": [
       "3"
      ]
     },
     "execution_count": 47,
     "metadata": {},
     "output_type": "execute_result"
    }
   ],
   "source": [
    "def count_sub(arr, k):\n",
    "    arr.sort()\n",
    "    ans = 0\n",
    "    for i in range(len(arr)):\n",
    "        for j in range(i, len(arr)):\n",
    "            if arr[i] + arr[j] == k:\n",
    "                width = 0 if i == j else j-i-1\n",
    "                ans += 2**width\n",
    "            elif arr[i] + arr[j] > k:\n",
    "                break\n",
    "    return ans\n",
    "\n",
    "count_sub([1,2,2], 4)"
   ]
  },
  {
   "cell_type": "markdown",
   "metadata": {},
   "source": [
    "### Number of Subsequences That Satisfy the Given Sum Condition\n",
    "Given an array of integers nums and an integer target.\n",
    "\n",
    "Return the number of non-empty subsequences of nums such that the sum of the minimum and maximum element on it is less or equal than target.\n",
    "\n",
    "Since the answer may be too large, return it modulo 10^9 + 7."
   ]
  },
  {
   "cell_type": "code",
   "execution_count": 5,
   "metadata": {},
   "outputs": [
    {
     "data": {
      "text/plain": [
       "7"
      ]
     },
     "execution_count": 5,
     "metadata": {},
     "output_type": "execute_result"
    }
   ],
   "source": [
    "def count_sub(arr, k):\n",
    "    arr.sort()\n",
    "    mod = (10**9 + 7)\n",
    "    left = 0; right = len(arr)-1\n",
    "    ans = 0\n",
    "    while left <= right:\n",
    "        s = arr[left] + arr[right]\n",
    "        if s <= k:\n",
    "            ans += (2 ** (right-left)) % mod\n",
    "            left += 1\n",
    "        else:\n",
    "            right -= 1\n",
    "    return ans % mod\n",
    "\n",
    "count_sub([3,3,3,5,6,6], 6)"
   ]
  },
  {
   "cell_type": "markdown",
   "metadata": {},
   "source": [
    "### Same as above\n",
    "Time - O(n^2)"
   ]
  },
  {
   "cell_type": "code",
   "execution_count": 6,
   "metadata": {},
   "outputs": [
    {
     "data": {
      "text/plain": [
       "7"
      ]
     },
     "execution_count": 6,
     "metadata": {},
     "output_type": "execute_result"
    }
   ],
   "source": [
    "def count_sub(arr, k):\n",
    "    arr.sort()\n",
    "    ans = 0\n",
    "    for i in range(len(arr)):\n",
    "        for j in range(i, len(arr)):\n",
    "            if arr[i] + arr[j] <= k:\n",
    "                width = 0 if i == j else j-i-1\n",
    "                ans += 2 ** width\n",
    "            else:\n",
    "                break\n",
    "    return ans\n",
    "\n",
    "count_sub([3,3,3,5,6,6], 6)"
   ]
  },
  {
   "cell_type": "markdown",
   "metadata": {},
   "source": [
    "### Find the closest pair from two sorted arrays\n",
    "Given two sorted arrays and a number x, find the pair whose sum is closest to x and the pair has an element from each array.\n",
    "\n",
    "* Input:  \n",
    "    * ar1[] = {1, 4, 5, 7};\n",
    "    * ar2[] = {10, 20, 30, 40};\n",
    "    * x = 32      \n",
    "* Output:  1 and 30"
   ]
  },
  {
   "cell_type": "code",
   "execution_count": 37,
   "metadata": {},
   "outputs": [
    {
     "data": {
      "text/plain": [
       "(1, 30)"
      ]
     },
     "execution_count": 37,
     "metadata": {},
     "output_type": "execute_result"
    }
   ],
   "source": [
    "def twoSumClosest(nums1, nums2, x):\n",
    "    left = 0; right = len(nums2)-1; min_diff = float('inf'); ans = None, None\n",
    "    while left<len(nums1) and right>=0:\n",
    "        diff = x-nums1[left]-nums2[right]\n",
    "        if diff == 0:\n",
    "            return nums1[left], nums2[right]\n",
    "        if abs(diff) < abs(min_diff):\n",
    "            ans = nums1[left], nums2[right]\n",
    "            min_diff = diff\n",
    "        if diff>0:\n",
    "            left += 1\n",
    "        else:\n",
    "            right -= 1\n",
    "    return ans\n",
    "\n",
    "ar1 = [1, 4, 5, 7] \n",
    "ar2 = [10, 20, 30, 40] \n",
    "twoSumClosest(ar1, ar2, 32)"
   ]
  },
  {
   "cell_type": "markdown",
   "metadata": {},
   "source": [
    "### Amazon Question similar to the above problem\n",
    "* Input\n",
    "    * capacity = 10\n",
    "    * fore_app_list = [[1,3], [2,5], [3,7], [4,10]]\n",
    "    * back_app_list = [[1,2], [2,3], [3,4], [4,5]]\n",
    "* output : [[2,4], [3,2]]"
   ]
  },
  {
   "cell_type": "code",
   "execution_count": 7,
   "metadata": {},
   "outputs": [
    {
     "data": {
      "text/plain": [
       "[[2, 4], [3, 2]]"
      ]
     },
     "execution_count": 7,
     "metadata": {},
     "output_type": "execute_result"
    }
   ],
   "source": [
    "def optimal_pair(fore_app, back_app, capacity):\n",
    "    left = 0; right = len(back_app)-1; min_diff = float('inf')\n",
    "    while left<len(fore_app) and right >= 0:\n",
    "        id1, c1, id2, c2 = fore_app[left][0], fore_app[left][1], back_app[right][0], back_app[right][1]\n",
    "        diff = capacity - c1 - c2\n",
    "        if diff>=0:\n",
    "            if diff == min_diff:\n",
    "                ans.append([id1, id2])\n",
    "            elif diff < min_diff:\n",
    "                ans = [[id1, id2]]\n",
    "                min_diff = diff\n",
    "            left += 1\n",
    "        else:\n",
    "            right -= 1\n",
    "    return ans\n",
    "\n",
    "capacity = 10\n",
    "fore_app_list = [[1,3], [2,5], [3,7], [4,10]]\n",
    "back_app_list = [[1,2], [2,3], [3,4], [4,5]]\n",
    "optimal_pair(fore_app_list, back_app_list, capacity)"
   ]
  },
  {
   "cell_type": "markdown",
   "metadata": {},
   "source": [
    "### K-diff Pairs in an Array\n",
    "Given an array of integers and an integer k, you need to find the number of unique k-diff pairs in the array. Here a k-diff pair is defined as an integer pair (i,j), where i and j are both numbers in the array and their absolute difference is k."
   ]
  },
  {
   "cell_type": "code",
   "execution_count": 2,
   "metadata": {},
   "outputs": [
    {
     "data": {
      "text/plain": [
       "2"
      ]
     },
     "execution_count": 2,
     "metadata": {},
     "output_type": "execute_result"
    }
   ],
   "source": [
    "from collections import Counter\n",
    "def findPairs(nums, k: int) -> int:\n",
    "    if k<0: return 0\n",
    "    hashmap = Counter(); count = 0\n",
    "    for num in nums:\n",
    "        if hashmap[num] == 0 and num-k in hashmap:\n",
    "            count += 1\n",
    "        if hashmap[num] == 0 and num+k in hashmap:\n",
    "            count += 1\n",
    "        if k == 0 and hashmap[num] == 1:\n",
    "            count += 1\n",
    "        hashmap[num]+=1\n",
    "    return count\n",
    "nums = [3, 1, 4, 1, 5]; k = 2\n",
    "findPairs(nums, k)"
   ]
  },
  {
   "cell_type": "markdown",
   "metadata": {},
   "source": [
    "### Shortest Unsorted Continous subarray\n",
    "Given an array of integers, find the shortest subarray, that if sorted, results in the entire array being sorted.[1,2,4,5,3,5,6,7,9] --> [4,5,3] - If you sort from indices 2 to 4, the entire array is sorted.[1,3,5,2,6,4,7,8,9] --> [3,5,2,6,4] - indices 1 to 5"
   ]
  },
  {
   "cell_type": "code",
   "execution_count": 13,
   "metadata": {},
   "outputs": [
    {
     "data": {
      "text/plain": [
       "(2, 4)"
      ]
     },
     "execution_count": 13,
     "metadata": {},
     "output_type": "execute_result"
    }
   ],
   "source": [
    "def subarraySorted(nums):\n",
    "    low = 0; high =len(nums)-1\n",
    "    while low+1<len(nums) and nums[low+1]>=nums[low]:\n",
    "        low += 1\n",
    "    if low+1 == len(nums):\n",
    "        return 0\n",
    "    while high-1>=0 and nums[high-1]<=nums[high]:\n",
    "        high -= 1\n",
    "\n",
    "    max_ = max(nums[low:high+1])\n",
    "    min_ = min(nums[low:high+1])\n",
    "\n",
    "    while low-1>=0 and nums[low-1]>min_:\n",
    "        low -= 1\n",
    "    while high+1<len(nums) and nums[high+1]<max_:\n",
    "        high += 1\n",
    "\n",
    "    return low, high\n",
    " \n",
    "subarraySorted([1,2,4,5,3,5,6,7,9])"
   ]
  },
  {
   "cell_type": "markdown",
   "metadata": {},
   "source": [
    "### Dutch National Flag Problem\n",
    "Given an array with n objects colored Red, White or Blue, sort them so that objects of the same color are adjacent, with the colors in the order Red, White and Blue. Assume the colors are given as numbers - 0 (Red), 1 (White) and 2 (Blue). For example, if A = [1,0,1,2,1,0,1,2], Output = [0,0,1,1,1,1,2,2]."
   ]
  },
  {
   "cell_type": "code",
   "execution_count": 121,
   "metadata": {},
   "outputs": [
    {
     "data": {
      "text/plain": [
       "[0, 0, 1, 1, 1, 1, 2, 2]"
      ]
     },
     "execution_count": 121,
     "metadata": {},
     "output_type": "execute_result"
    }
   ],
   "source": [
    "def dnf(a):\n",
    "    low, mid, high = -1, -1, len(a)\n",
    "    while mid + 1 < high:\n",
    "        \n",
    "        if a[mid+1] > 1:\n",
    "            a[mid+1], a[high-1] = a[high-1], a[mid+1]\n",
    "            high -= 1\n",
    "        \n",
    "        elif a[mid+1] < 1:\n",
    "            a[low+1], a[mid+1] = a[mid+1], a[low+1]\n",
    "            low += 1\n",
    "            mid += 1\n",
    "            \n",
    "        else:\n",
    "            mid += 1\n",
    "    return a\n",
    "dnf([1,0,1,2,1,0,1,2])            "
   ]
  },
  {
   "cell_type": "markdown",
   "metadata": {},
   "source": [
    "### Sort array by parity \n",
    "Given an array A of non-negative integers, return an array consisting of all the even elements of A, followed by all the odd elements of A.\n",
    "\n",
    "You may return any answer array that satisfies this condition.\n",
    "\n",
    "Example 1:\n",
    "\n",
    "* Input: [3,1,2,4]\n",
    "* Output: [2,4,3,1]\n",
    "* The outputs [4,2,3,1], [2,4,1,3], and [4,2,1,3] would also be accepted."
   ]
  },
  {
   "cell_type": "code",
   "execution_count": 4,
   "metadata": {},
   "outputs": [
    {
     "data": {
      "text/plain": [
       "[4, 2, 1, 3]"
      ]
     },
     "execution_count": 4,
     "metadata": {},
     "output_type": "execute_result"
    }
   ],
   "source": [
    "def sortArrayByParity(A):\n",
    "    low = -1; high = len(A)\n",
    "    while low+1<high:\n",
    "        if A[low+1]%2 == 0:\n",
    "            low += 1\n",
    "        else:\n",
    "            A[low+1], A[high-1] = A[high-1], A[low+1]\n",
    "            high-=1\n",
    "    return A\n",
    "sortArrayByParity([3,1,2,4])"
   ]
  },
  {
   "cell_type": "markdown",
   "metadata": {},
   "source": [
    "### Sort Array By Parity II\n",
    "\n",
    "Given an array A of non-negative integers, half of the integers in A are odd, and half of the integers are even.\n",
    "\n",
    "Sort the array so that whenever A[i] is odd, i is odd; and whenever A[i] is even, i is even.\n",
    "\n",
    "You may return any answer array that satisfies this condition."
   ]
  },
  {
   "cell_type": "code",
   "execution_count": 3,
   "metadata": {},
   "outputs": [
    {
     "data": {
      "text/plain": [
       "[4, 5, 2, 7]"
      ]
     },
     "execution_count": 3,
     "metadata": {},
     "output_type": "execute_result"
    }
   ],
   "source": [
    "def sortArrayByParityII(A):\n",
    "    arr = [0]*len(A)\n",
    "    even = 0\n",
    "    odd = 1\n",
    "    for n in A:\n",
    "        if n&1 == 0:\n",
    "            arr[even] = n\n",
    "            even += 2\n",
    "        else:\n",
    "            arr[odd] = n\n",
    "            odd += 2\n",
    "    return arr\n",
    "\n",
    "sortArrayByParityII([4,2,5,7])"
   ]
  },
  {
   "cell_type": "markdown",
   "metadata": {},
   "source": [
    "### Given an array nums, write a function to move all 0's to the end of it while maintaining the relative order of the non-zero elements.\n",
    "\n",
    "Example:\n",
    "\n",
    "Input: [0,1,0,3,12]\n",
    "Output: [1,3,12,0,0]"
   ]
  },
  {
   "cell_type": "code",
   "execution_count": 25,
   "metadata": {},
   "outputs": [
    {
     "data": {
      "text/plain": [
       "[1, 2, 4, 3, 5, 0, 0, 0]"
      ]
     },
     "execution_count": 25,
     "metadata": {},
     "output_type": "execute_result"
    }
   ],
   "source": [
    "def move_zeroes(a):\n",
    "    j = 0\n",
    "    for i in range(0,len(a)):\n",
    "        if a[i] != 0:\n",
    "            a[j] = a[i]\n",
    "            j+=1\n",
    "    while j < len(a):\n",
    "        a[j] = 0\n",
    "        j+= 1\n",
    "    return a\n",
    "move_zeroes([1, 2, 0, 4, 3, 0, 5, 0])    "
   ]
  },
  {
   "cell_type": "markdown",
   "metadata": {},
   "source": [
    "### Given an array nums and a value val, remove all instances of that value in-place and return the new length.\n",
    "\n",
    "Do not allocate extra space for another array, you must do this by modifying the input array in-place with O(1) extra memory.\n",
    "\n",
    "example : Given nums = [0,1,2,2,3,0,4,2], val = 2,\n",
    "\n",
    "Your function should return length = 5, with the first five elements of nums containing 0, 1, 3, 0, and 4.\n",
    "\n",
    "Note that the order of those five elements can be arbitrary.\n",
    "It doesn't matter what you leave beyond the returned length."
   ]
  },
  {
   "cell_type": "code",
   "execution_count": 32,
   "metadata": {},
   "outputs": [
    {
     "name": "stdout",
     "output_type": "stream",
     "text": [
      "[0, 1, 3, 0, 4]\n"
     ]
    },
    {
     "data": {
      "text/plain": [
       "5"
      ]
     },
     "execution_count": 32,
     "metadata": {},
     "output_type": "execute_result"
    }
   ],
   "source": [
    "def remove_val(a,x):\n",
    "    j = 0\n",
    "    for i in range(0,len(a)):\n",
    "        if a[i] != x:\n",
    "            a[j] = a[i]\n",
    "            j += 1\n",
    "    print(a[:j])\n",
    "    return j\n",
    "a = [0,1,2,2,3,0,4,2,2]\n",
    "remove_val(a,2)"
   ]
  },
  {
   "cell_type": "markdown",
   "metadata": {},
   "source": [
    "### Given a sorted array nums, remove the duplicates in-place such that each element appear only once and return the new length.\n",
    "\n",
    "Do not allocate extra space for another array, you must do this by modifying the input array in-place with O(1) extra memory.\n",
    "given nums = [0,0,1,1,1,2,2,3,3,4],\n",
    "\n",
    "Your function should return length = 5, with the first five elements of nums being modified to 0, 1, 2, 3, and 4 respectively.\n",
    "\n",
    "It doesn't matter what values are set beyond the returned length."
   ]
  },
  {
   "cell_type": "code",
   "execution_count": 68,
   "metadata": {},
   "outputs": [
    {
     "name": "stdout",
     "output_type": "stream",
     "text": [
      "[0, 1, 2, 3, 4, 5]\n"
     ]
    },
    {
     "data": {
      "text/plain": [
       "6"
      ]
     },
     "execution_count": 68,
     "metadata": {},
     "output_type": "execute_result"
    }
   ],
   "source": [
    "def remove_duplicates(a):\n",
    "    j = 0\n",
    "    for i in range(0,len(a)):\n",
    "        if j<1 or a[j-1]<a[i]:\n",
    "            a[j] = a[i]\n",
    "            j+=1\n",
    "    print(a[:j])\n",
    "    return j\n",
    "remove_duplicates([0,0,1,1,1,2,2,3,3,4,4,5,5])"
   ]
  },
  {
   "cell_type": "markdown",
   "metadata": {},
   "source": [
    "### Given a sorted array nums, remove the duplicates in-place such that duplicates appeared at most twice and return the new length.\n",
    "\n",
    "Do not allocate extra space for another array, you must do this by modifying the input array in-place with O(1) extra memory.\n",
    "\n",
    "Example 1:\n",
    "\n",
    "Given nums = [1,1,1,2,2,3],\n",
    "\n",
    "Your function should return length = 5, with the first five elements of nums being 1, 1, 2, 2 and 3 respectively.\n",
    "\n",
    "It doesn't matter what you leave beyond the returned length."
   ]
  },
  {
   "cell_type": "code",
   "execution_count": 81,
   "metadata": {},
   "outputs": [
    {
     "name": "stdout",
     "output_type": "stream",
     "text": [
      "[0, 0, 1, 1, 2, 2, 3, 3]\n"
     ]
    },
    {
     "data": {
      "text/plain": [
       "8"
      ]
     },
     "execution_count": 81,
     "metadata": {},
     "output_type": "execute_result"
    }
   ],
   "source": [
    "def remove_duplicates(a):\n",
    "    j = 0\n",
    "    for i in range(0,len(a)):\n",
    "        if j<2 or a[j-2] < a[i]:\n",
    "            a[j] = a[i]\n",
    "            j += 1        \n",
    "    print(a[:j])\n",
    "    return j\n",
    "remove_duplicates([0,0,0,1,1,1,1,2,2,3,3])"
   ]
  },
  {
   "cell_type": "markdown",
   "metadata": {},
   "source": [
    "# Subarray sum Problems"
   ]
  },
  {
   "cell_type": "markdown",
   "metadata": {},
   "source": [
    "### Maximum Subarray \n",
    "Given an array of integers that can be both +ve and -ve, find the contiguous subarray with the largest sum.e.g, [1,2,-1,2,-3,2,-5]  -> the first 4 elements have the largest sum.\n",
    "\n",
    "Kadane's Algo"
   ]
  },
  {
   "cell_type": "code",
   "execution_count": 3,
   "metadata": {},
   "outputs": [
    {
     "data": {
      "text/plain": [
       "6"
      ]
     },
     "execution_count": 3,
     "metadata": {},
     "output_type": "execute_result"
    }
   ],
   "source": [
    "def maxSubArray(nums) -> int:\n",
    "    ans = nums[0]\n",
    "    for i in range(1, len(nums)):\n",
    "        nums[i] = max(nums[i], nums[i]+nums[i-1])\n",
    "        ans = max(ans, nums[i])\n",
    "    return ans\n",
    "\n",
    "maxSubArray([-2,1,-3,4,-1,2,1,-5,4])"
   ]
  },
  {
   "cell_type": "markdown",
   "metadata": {},
   "source": [
    "### Maximum Sum Circular Subarray\n",
    "Given a circular array C of integers represented by A, find the maximum possible sum of a non-empty subarray of C.\n",
    "\n",
    "Here, a circular array means the end of the array connects to the beginning of the array.  (Formally, C[i] = A[i] when 0 <= i < A.length, and C[i+A.length] = C[i] when i >= 0.)\n",
    "\n",
    "Also, a subarray may only include each element of the fixed buffer A at most once.  (Formally, for a subarray C[i], C[i+1], ..., C[j], there does not exist i <= k1, k2 <= j with k1 % A.length = k2 % A.length.)"
   ]
  },
  {
   "cell_type": "code",
   "execution_count": 8,
   "metadata": {},
   "outputs": [
    {
     "data": {
      "text/plain": [
       "3"
      ]
     },
     "execution_count": 8,
     "metadata": {},
     "output_type": "execute_result"
    }
   ],
   "source": [
    "def maxSubarraySumCircular(A) -> int:\n",
    "    max_val = min_val = total = min_sum = max_sum = A[0]\n",
    "    for a in A[1:]:\n",
    "        max_val = max(a, max_val+a)\n",
    "        min_val = min(a, min_val+a)\n",
    "        max_sum = max(max_sum, max_val)\n",
    "        min_sum = min(min_sum, min_val)\n",
    "        total += a\n",
    "\n",
    "    return max(max_sum, total-min_sum) if max_sum > 0 else max_sum\n",
    "\n",
    "maxSubarraySumCircular([1,-2,3,-2])"
   ]
  },
  {
   "cell_type": "markdown",
   "metadata": {},
   "source": [
    "### Find contiguos subarray with smallest sum"
   ]
  },
  {
   "cell_type": "code",
   "execution_count": 74,
   "metadata": {},
   "outputs": [
    {
     "name": "stdout",
     "output_type": "stream",
     "text": [
      "[3, -4, -2, -5, -6, 1, -5]\n"
     ]
    },
    {
     "data": {
      "text/plain": [
       "(1, 4)"
      ]
     },
     "execution_count": 74,
     "metadata": {},
     "output_type": "execute_result"
    }
   ],
   "source": [
    "def min_sum(a):\n",
    "    minsofar = a[0]\n",
    "    for i in range(1,len(a)):\n",
    "        a[i] = min(a[i],minsofar+a[i])\n",
    "        minsofar = a[i]\n",
    "    min_index = a.index(min(a))\n",
    "    i = min_index\n",
    "    while i-1>=0 and a[i-1]<0:\n",
    "        i -= 1\n",
    "    print(a)\n",
    "    return (i,min_index)\n",
    "min_sum([3, -4, 2, -3, -1, 7, -5])"
   ]
  },
  {
   "cell_type": "markdown",
   "metadata": {},
   "source": [
    "### Maximum Product Subarray\n",
    "Given an integer array nums, find the contiguous subarray within an array (containing at least one number) which has the largest product."
   ]
  },
  {
   "cell_type": "code",
   "execution_count": 6,
   "metadata": {},
   "outputs": [
    {
     "data": {
      "text/plain": [
       "6"
      ]
     },
     "execution_count": 6,
     "metadata": {},
     "output_type": "execute_result"
    }
   ],
   "source": [
    " def maxProduct(nums) -> int:\n",
    "    curr_max = curr_min = final_max = nums[0]\n",
    "    for n in nums[1:]:\n",
    "        temp = curr_max\n",
    "        curr_max = max(curr_max*n, curr_min*n, n)\n",
    "        curr_min = min(temp*n, curr_min*n, n)\n",
    "        final_max = max(final_max, curr_max)\n",
    "    return final_max\n",
    "\n",
    "nums = [2,3,-2,4]\n",
    "maxProduct(nums)"
   ]
  },
  {
   "cell_type": "markdown",
   "metadata": {},
   "source": [
    "### Maximum Length of Subarray With Positive Product\n",
    "\n",
    "Given an array of integers nums, find the maximum length of a subarray where the product of all its elements is positive.\n",
    "\n",
    "A subarray of an array is a consecutive sequence of zero or more values taken out of that array.\n",
    "\n",
    "Return the maximum length of a subarray with positive product."
   ]
  },
  {
   "cell_type": "code",
   "execution_count": 2,
   "metadata": {},
   "outputs": [
    {
     "data": {
      "text/plain": [
       "3"
      ]
     },
     "execution_count": 2,
     "metadata": {},
     "output_type": "execute_result"
    }
   ],
   "source": [
    "class Solution:\n",
    "    def getMaxLen(self, nums) -> int:\n",
    "        max_pos = max_neg = res = 0\n",
    "        for num in nums:\n",
    "            \n",
    "            prev_max_pos = max_pos\n",
    "            prev_max_neg = max_neg\n",
    "            \n",
    "            if num > 0:\n",
    "                max_pos = prev_max_pos + 1\n",
    "                max_neg = 1 + prev_max_neg if prev_max_neg > 0 else 0\n",
    "                res = max(res, max_pos)\n",
    "            \n",
    "            elif num < 0:\n",
    "                max_pos = 1 + prev_max_neg if prev_max_neg > 0  else 0\n",
    "                max_neg = prev_max_pos+1\n",
    "                res = max(res, max_pos)\n",
    "            \n",
    "            else:\n",
    "                max_pos = max_neg = 0\n",
    "            \n",
    "        \n",
    "        return res\n",
    "                \n",
    "Solution().getMaxLen(nums = [0,1,-2,-3,-4])       "
   ]
  },
  {
   "cell_type": "markdown",
   "metadata": {},
   "source": [
    "### Maximum Subarray Sum with One Deletion\n",
    "\n",
    "Given an array of integers, return the maximum sum for a non-empty subarray (contiguous elements) with at most one element deletion. In other words, you want to choose a subarray and optionally delete one element from it so that there is still at least one element left and the sum of the remaining elements is maximum possible.\n",
    "\n",
    "Note that the subarray needs to be non-empty after deleting one element."
   ]
  },
  {
   "cell_type": "code",
   "execution_count": 2,
   "metadata": {},
   "outputs": [
    {
     "data": {
      "text/plain": [
       "4"
      ]
     },
     "execution_count": 2,
     "metadata": {},
     "output_type": "execute_result"
    }
   ],
   "source": [
    "def maximumSum(arr) -> int:\n",
    "    mx = mxd = res = arr[0]\n",
    "\n",
    "    for num in arr[1:]:\n",
    "        mxd = max(num, mxd+num, mx, mx+num)\n",
    "        mx = max(num, mx+num)\n",
    "        res = max(mx, mxd, res)\n",
    "\n",
    "    return res\n",
    "maximumSum([1,-2,0,3])"
   ]
  },
  {
   "cell_type": "markdown",
   "metadata": {},
   "source": [
    "### Given an array of positive integers, find a subarray that sums to a given number X"
   ]
  },
  {
   "cell_type": "code",
   "execution_count": 5,
   "metadata": {},
   "outputs": [
    {
     "data": {
      "text/plain": [
       "(4, 5)"
      ]
     },
     "execution_count": 5,
     "metadata": {},
     "output_type": "execute_result"
    }
   ],
   "source": [
    "def subarray_sum(a,x):\n",
    "    left,right = 0,0\n",
    "    sum = a[left]\n",
    "    while left<len(a):\n",
    "        if left>right:\n",
    "            right = left\n",
    "            sum = a[left]\n",
    "        elif sum > x:\n",
    "            sum -= a[left]\n",
    "            left +=1\n",
    "        elif sum < x:\n",
    "            if right+1 < len(a):\n",
    "                right += 1\n",
    "                sum += a[right]\n",
    "            else:\n",
    "                break\n",
    "        else:\n",
    "            return (left, right)\n",
    "    return -1\n",
    "nums = [15, 15, 4, 8, 9, 5, 10, 23,1,6]\n",
    "subarray_sum(nums, 14)"
   ]
  },
  {
   "cell_type": "markdown",
   "metadata": {},
   "source": [
    "### Given an array of integers, both -ve and +ve, find a contiguous subarray that sums to 0.For example: [2,4,-2,1,-3,5,-3] --> [4,-2,1,-3]"
   ]
  },
  {
   "cell_type": "code",
   "execution_count": 88,
   "metadata": {},
   "outputs": [
    {
     "data": {
      "text/plain": [
       "(2, 4)"
      ]
     },
     "execution_count": 88,
     "metadata": {},
     "output_type": "execute_result"
    }
   ],
   "source": [
    "def subarray_sum(a):\n",
    "    hashmap = {}\n",
    "    sum = 0\n",
    "    for i in range(0,len(a)):\n",
    "        sum += a[i]\n",
    "        if sum == 0:\n",
    "            return(0,i)\n",
    "        if sum in hashmap:\n",
    "            return (hashmap[sum]+1,i)\n",
    "        hashmap[sum] = i\n",
    "    return (-1,-1)\n",
    "subarray_sum([6, 3, -1, -3, 4, -2, 2, 4, 6, -12, -7])"
   ]
  },
  {
   "cell_type": "markdown",
   "metadata": {},
   "source": [
    "### Given an array of positive and negative integers, find a subarray whose sum equals K"
   ]
  },
  {
   "cell_type": "code",
   "execution_count": 93,
   "metadata": {},
   "outputs": [
    {
     "data": {
      "text/plain": [
       "(1, 3)"
      ]
     },
     "execution_count": 93,
     "metadata": {},
     "output_type": "execute_result"
    }
   ],
   "source": [
    "def subarray_sum(a,x):\n",
    "    hashmap = {}\n",
    "    sum = 0\n",
    "    for i in range(0,len(a)):\n",
    "        sum += a[i]\n",
    "        if sum == x:\n",
    "            return (0,i)\n",
    "        if sum-x in hashmap:\n",
    "            return (hashmap[sum-x]+1,i)\n",
    "        hashmap[sum] = i\n",
    "    return (-1,-1)\n",
    "\n",
    "nums = [24, 2, 4, 8, 9, 5, 10, 23,1,6]\n",
    "subarray_sum(nums, 14)"
   ]
  },
  {
   "cell_type": "markdown",
   "metadata": {},
   "source": [
    "### Number of Subarrays whose sum equals k"
   ]
  },
  {
   "cell_type": "code",
   "execution_count": 4,
   "metadata": {},
   "outputs": [
    {
     "data": {
      "text/plain": [
       "3"
      ]
     },
     "execution_count": 4,
     "metadata": {},
     "output_type": "execute_result"
    }
   ],
   "source": [
    "import collections\n",
    "def count_subarray_sum(a,x):\n",
    "    counter = collections.Counter()\n",
    "    res, sum = 0,0\n",
    "    counter[0] += 1\n",
    "    for i in range(0,len(a)):\n",
    "        sum += a[i]\n",
    "        res += counter[sum-x]\n",
    "        counter[sum] += 1\n",
    "    return res\n",
    "\n",
    "nums = [10, 2, -2, -20, 10]\n",
    "k = -10\n",
    "count_subarray_sum(nums, k)"
   ]
  },
  {
   "cell_type": "markdown",
   "metadata": {},
   "source": [
    "### Maximum Size Subarray Sum Equals k"
   ]
  },
  {
   "cell_type": "code",
   "execution_count": 114,
   "metadata": {},
   "outputs": [
    {
     "data": {
      "text/plain": [
       "(5, (1, 5))"
      ]
     },
     "execution_count": 114,
     "metadata": {},
     "output_type": "execute_result"
    }
   ],
   "source": [
    "def maxSubArrayLen(a,x):\n",
    "    hashmap = {}\n",
    "    sum = 0\n",
    "    max_len = None\n",
    "    pointer = (-1,-1)\n",
    "    \n",
    "    for i in range(0,len(a)):\n",
    "        sum += a[i]\n",
    "        \n",
    "        if sum == x:\n",
    "            if max_len is None or i+1>max_len:\n",
    "                max_len = i+1\n",
    "                pointer = (0,i)\n",
    "                \n",
    "        if sum - x in hashmap:\n",
    "            if max_len is None or i-hashmap[sum-x] > max_len:\n",
    "                max_len = i - hashmap[sum-x]\n",
    "                pointer = (hashmap[sum-x]+1,i)\n",
    "                \n",
    "        if sum not in hashmap:\n",
    "            hashmap[sum] = i\n",
    "            \n",
    "    return max_len, pointer\n",
    "\n",
    "a = [1,2,-3,3,-1,2,4]\n",
    "x = 3\n",
    "maxSubArrayLen(a, x)"
   ]
  },
  {
   "cell_type": "markdown",
   "metadata": {},
   "source": [
    "### Minimum size subarray sum equals k"
   ]
  },
  {
   "cell_type": "code",
   "execution_count": 120,
   "metadata": {},
   "outputs": [
    {
     "data": {
      "text/plain": [
       "(1, (5, 5))"
      ]
     },
     "execution_count": 120,
     "metadata": {},
     "output_type": "execute_result"
    }
   ],
   "source": [
    "def minSubArrayLen(a, x):\n",
    "    hashmap = {}\n",
    "    sum = 0\n",
    "    min_len = None\n",
    "    pointer = (-1,-1)\n",
    "    \n",
    "    for i in range(0,len(a)):\n",
    "        sum += a[i]\n",
    "        \n",
    "        if sum == x:\n",
    "            if min_len is None or i+1 < min_len:\n",
    "                min_len = i+1\n",
    "                pointer = (0,i)\n",
    "                \n",
    "        if sum - x in hashmap:\n",
    "            if min_len is None or i - hashmap[sum-x] < min_len:\n",
    "                min_len = i - hashmap[sum-x]\n",
    "                pointer = (hashmap[sum-x]+1,i)\n",
    "                \n",
    "        hashmap[sum] = i\n",
    "    \n",
    "    return min_len, pointer\n",
    "\n",
    "a = [1, -1, 5, -2,0, 3]\n",
    "x = 3\n",
    "minSubArrayLen(a, x)"
   ]
  },
  {
   "cell_type": "markdown",
   "metadata": {},
   "source": [
    "### Max length of subarrays with equal number of 0s and 1s"
   ]
  },
  {
   "cell_type": "code",
   "execution_count": 6,
   "metadata": {},
   "outputs": [
    {
     "data": {
      "text/plain": [
       "4"
      ]
     },
     "execution_count": 6,
     "metadata": {},
     "output_type": "execute_result"
    }
   ],
   "source": [
    "def max_len(nums):\n",
    "    hashmap = {0:-1}; ans = 0; sum = 0\n",
    "    for i, n in enumerate(nums):\n",
    "        sum += n if n == 1 else -1\n",
    "        if sum in hashmap:\n",
    "            ans = max(ans, i-hashmap[sum])\n",
    "        else:\n",
    "            hashmap[sum] = i\n",
    "    return ans\n",
    "            \n",
    "max_len([1, 0, 1, 1, 1, 0, 0])\n",
    "max_len([0, 0, 1, 1, 0])"
   ]
  },
  {
   "cell_type": "markdown",
   "metadata": {},
   "source": [
    "### Count of subarrays with equal number of 0s and 1s"
   ]
  },
  {
   "cell_type": "code",
   "execution_count": 6,
   "metadata": {},
   "outputs": [
    {
     "data": {
      "text/plain": [
       "10"
      ]
     },
     "execution_count": 6,
     "metadata": {},
     "output_type": "execute_result"
    }
   ],
   "source": [
    "def count_sub(nums):\n",
    "    from collections import Counter; res = 0; sum = 0\n",
    "    for i in range(len(nums)):\n",
    "        if nums[i]==0:\n",
    "            nums[i] = -1\n",
    "    count = Counter()\n",
    "    count[0] = 1\n",
    "    for i in range(len(nums)):\n",
    "        sum += nums[i]\n",
    "        res += count[sum]\n",
    "        count[sum] += 1\n",
    "    return res\n",
    "# count([1,0,1,0])\n",
    "count_sub([0,0,1,1,0,0,1,1])"
   ]
  },
  {
   "cell_type": "markdown",
   "metadata": {},
   "source": [
    "### Count Number of subbarrays having K odd numbers\n",
    "\n",
    "* Input: [1,2,3,4,5], k = 2\n",
    "* Output = 4\n",
    "* explaination:\n",
    "[1,2,3,4]\n",
    "[2,3,4,5]\n",
    "[3,4,5]"
   ]
  },
  {
   "cell_type": "code",
   "execution_count": 4,
   "metadata": {},
   "outputs": [
    {
     "data": {
      "text/plain": [
       "4"
      ]
     },
     "execution_count": 4,
     "metadata": {},
     "output_type": "execute_result"
    }
   ],
   "source": [
    "def count_subarrays(nums, k):\n",
    "    from collections import Counter\n",
    "    counter = Counter([0])\n",
    "    sum = 0; ans = 0\n",
    "    for num in nums:\n",
    "        sum += 1 if num%2!=0 else 0 \n",
    "        ans += counter[sum-k]\n",
    "        counter[sum] += 1\n",
    "    return ans\n",
    "\n",
    "nums = [1,2,3,4,5]; k =2\n",
    "count_subarrays(nums, k)"
   ]
  },
  {
   "cell_type": "markdown",
   "metadata": {},
   "source": [
    "###  Subarray Sums Divisible by K\n",
    "Given an array A of integers, return the number of (contiguous, non-empty) subarrays that have a sum divisible by K.\n",
    "\n",
    "Example 1:\n",
    "\n",
    "* Input: A = [4,5,0,-2,-3,1], K = 5\n",
    "* Output: 7\n",
    "* Explanation: There are 7 subarrays with a sum divisible by K = 5: [4, 5, 0, -2, -3, 1], [5], [5, 0], [5, 0, -2, -3], [0], [0, -2, -3], [-2, -3]"
   ]
  },
  {
   "cell_type": "code",
   "execution_count": 11,
   "metadata": {},
   "outputs": [
    {
     "data": {
      "text/plain": [
       "7"
      ]
     },
     "execution_count": 11,
     "metadata": {},
     "output_type": "execute_result"
    }
   ],
   "source": [
    "def subarraysDivByK(A, K):\n",
    "    import collections\n",
    "    count = collections.Counter([0]); sum = 0; res = 0\n",
    "    for num in A:\n",
    "        sum  = (sum+num)%K\n",
    "        res += count[sum]\n",
    "        count[sum]+= 1\n",
    "    return res\n",
    "\n",
    "subarraysDivByK([4,5,0,-2,-3,1], K = 5)"
   ]
  },
  {
   "cell_type": "markdown",
   "metadata": {},
   "source": [
    "### Squares of Sorted Array\n",
    "Given an array of integers A sorted in non-decreasing order, return an array of the squares of each number, also in sorted non-decreasing order.\n",
    "\n",
    "* Input: [-4,-1,0,3,10]\n",
    "* Output: [0,1,9,16,100]"
   ]
  },
  {
   "cell_type": "code",
   "execution_count": 2,
   "metadata": {},
   "outputs": [
    {
     "data": {
      "text/plain": [
       "[0, 1, 9, 16, 100]"
      ]
     },
     "execution_count": 2,
     "metadata": {},
     "output_type": "execute_result"
    }
   ],
   "source": [
    "def sortedSquares(A):\n",
    "    result = [0]*len(A)\n",
    "    left = 0; right = len(A)-1; write = len(A)-1\n",
    "    while left<=right:\n",
    "        leftvalue = A[left]**2\n",
    "        rightvalue = A[right]**2\n",
    "\n",
    "        if rightvalue>=leftvalue:\n",
    "            result[write] = rightvalue\n",
    "            right -= 1\n",
    "        else:\n",
    "            result[write] = leftvalue\n",
    "            left += 1\n",
    "\n",
    "        write -= 1\n",
    "    return result\n",
    "\n",
    "a = [-4,-1,0,3,10]\n",
    "sortedSquares(a)"
   ]
  },
  {
   "cell_type": "markdown",
   "metadata": {},
   "source": [
    "### 3 Sum Problem\n",
    "Given an array nums of n integers, are there elements a, b, c in nums such that a + b + c = 0? Find all unique triplets in the array which gives the sum of zero.\n",
    "\n",
    "Note: The solution set must not contain duplicate triplets.\n",
    "\n",
    "Example:\n",
    "\n",
    "Given array nums = [-1, 0, 1, 2, -1, -4],\n",
    "\n",
    "A solution set is:\n",
    "[\n",
    "  [-1, 0, 1],\n",
    "  [-1, -1, 2]\n",
    "]"
   ]
  },
  {
   "cell_type": "code",
   "execution_count": 10,
   "metadata": {},
   "outputs": [
    {
     "data": {
      "text/plain": [
       "[[-1, -1, 2], [-1, 0, 1]]"
      ]
     },
     "execution_count": 10,
     "metadata": {},
     "output_type": "execute_result"
    }
   ],
   "source": [
    "def threeSum(nums):\n",
    "    nums.sort(); result = []\n",
    "    for i in range(len(nums)):\n",
    "        if i>0 and nums[i] == nums[i-1]:\n",
    "            continue\n",
    "        if nums[i] > 0:\n",
    "            break\n",
    "        search_pair(nums, -nums[i], i+1, result)\n",
    "    return result\n",
    "\n",
    "def search_pair(a, target, left, result):\n",
    "    right = len(a)-1\n",
    "    while left<right:\n",
    "        sum = a[left] + a[right]\n",
    "        if sum == target:\n",
    "            result.append([-target, a[left], a[right]])\n",
    "            left += 1\n",
    "            right -= 1\n",
    "            while left<right and a[left] == a[left-1]:\n",
    "                left += 1\n",
    "            while left<right and a[right] == a[right+1]:\n",
    "                right -= 1\n",
    "        elif sum<target:\n",
    "            left += 1\n",
    "        else:\n",
    "            right -= 1\n",
    "            \n",
    "nums = [-1, 0, 1, 2, -1, -4]\n",
    "threeSum(nums)"
   ]
  },
  {
   "cell_type": "markdown",
   "metadata": {},
   "source": [
    "### 3 Sum Closest\n",
    "Given an array nums of n integers and an integer target, find three integers in nums such that the sum is closest to target. Return the sum of the three integers. You may assume that each input would have exactly one solution.\n",
    "\n",
    "Example:\n",
    "\n",
    "Given array nums = [-1, 2, 1, -4], and target = 1.\n",
    "\n",
    "The sum that is closest to the target is 2. (-1 + 2 + 1 = 2)."
   ]
  },
  {
   "cell_type": "code",
   "execution_count": 43,
   "metadata": {},
   "outputs": [
    {
     "data": {
      "text/plain": [
       "0"
      ]
     },
     "execution_count": 43,
     "metadata": {},
     "output_type": "execute_result"
    }
   ],
   "source": [
    "def threeSumClosest(nums, target):\n",
    "    nums.sort()\n",
    "    min_diff = float('inf')\n",
    "    for i in range(len(nums)-2):\n",
    "        left = i + 1; right = len(nums)-1\n",
    "        while left<right:\n",
    "            diff = target - nums[i] - nums[left] - nums[right]\n",
    "            if diff == 0:\n",
    "                return target - diff\n",
    "            if abs(min_diff) > abs(diff):\n",
    "                min_diff = diff\n",
    "\n",
    "            if diff > 0:\n",
    "                left += 1\n",
    "            else:\n",
    "                right -= 1\n",
    "    return target - min_diff\n",
    "\n",
    "nums = [-3, -1, 1, 2]; target=1\n",
    "threeSumClosest(nums, target)"
   ]
  },
  {
   "cell_type": "markdown",
   "metadata": {},
   "source": [
    "### 3 Sum Smaller\n",
    "Given an array of n integers nums and a target, find the number of index triplets i, j, k with 0 <= i < j < k < n that satisfy the condition nums[i] + nums[j] + nums[k] < target.\n",
    "\n",
    "Example:\n",
    "\n",
    "* Input: nums = [-2,0,1,3], and target = 2\n",
    "* Output: 2 \n",
    "* Explanation: Because there are two triplets which sums are less than 2: [-2,0,1], [-2,0,3]"
   ]
  },
  {
   "cell_type": "code",
   "execution_count": 49,
   "metadata": {},
   "outputs": [
    {
     "data": {
      "text/plain": [
       "2"
      ]
     },
     "execution_count": 49,
     "metadata": {},
     "output_type": "execute_result"
    }
   ],
   "source": [
    "def threeSumSmaller(nums, target):\n",
    "    nums.sort(); count = 0\n",
    "    for i in range(len(nums)-2):\n",
    "        left = i+1; right = len(nums)-1; new_target = target - nums[i]\n",
    "        while left<right:\n",
    "            if nums[left] + nums[right] < new_target:\n",
    "                # since arr[right] >= arr[left], therefore, we can replace arr[right] by any number between\n",
    "                # left and right to get a sum less than the target sum\n",
    "                count += right - left\n",
    "                left += 1\n",
    "            else:\n",
    "                right -= 1\n",
    "    return count\n",
    "\n",
    "nums = [-2,0,1,3]; target = 2\n",
    "threeSumSmaller(nums, target)"
   ]
  },
  {
   "cell_type": "markdown",
   "metadata": {},
   "source": [
    "### Valid Triangle Number\n",
    "\n",
    "Given an array consists of non-negative integers, your task is to count the number of triplets chosen from the array that can make triangles if we take them as side lengths of a triangle."
   ]
  },
  {
   "cell_type": "code",
   "execution_count": 1,
   "metadata": {},
   "outputs": [
    {
     "data": {
      "text/plain": [
       "3"
      ]
     },
     "execution_count": 1,
     "metadata": {},
     "output_type": "execute_result"
    }
   ],
   "source": [
    "def triangleNumber(nums) -> int:\n",
    "    nums.sort(); count = 0\n",
    "    for i in range(len(nums)-1, -1, -1):\n",
    "        left = 0; right = i-1\n",
    "        while left < right:\n",
    "            if nums[left] + nums[right] > nums[i]:\n",
    "                count += right - left\n",
    "                right -= 1\n",
    "            else:\n",
    "                left += 1\n",
    "    return count\n",
    "\n",
    "triangleNumber([2,2,3,4])"
   ]
  },
  {
   "cell_type": "markdown",
   "metadata": {},
   "source": [
    "### Print all subarrays with product less than k\n",
    "Given an array with positive numbers and a target number, find all of its subarrays (contiguous set of elements) whose product is less than the target number."
   ]
  },
  {
   "cell_type": "code",
   "execution_count": 6,
   "metadata": {},
   "outputs": [
    {
     "data": {
      "text/plain": [
       "[[10], [5], [10, 5], [2], [5, 2], [6], [2, 6], [5, 2, 6]]"
      ]
     },
     "execution_count": 6,
     "metadata": {},
     "output_type": "execute_result"
    }
   ],
   "source": [
    "def print_subarray(nums, k):\n",
    "    from collections import deque\n",
    "    result = []; product = 1; left = 0\n",
    "    for right in range(len(nums)):\n",
    "        product *= nums[right]\n",
    "        while left<=right and product >= k:\n",
    "            product /= nums[left]\n",
    "            left += 1\n",
    "        queue = deque()\n",
    "        for i in range(right, left-1,-1):\n",
    "            queue.appendleft(nums[i])\n",
    "            result.append(list(queue))\n",
    "    return result\n",
    "nums = [10, 5, 2, 6]; k = 100\n",
    "print_subarray(nums, k)"
   ]
  },
  {
   "cell_type": "markdown",
   "metadata": {},
   "source": [
    "### 4 Sum Problem\n",
    "Given an array nums of n integers and an integer target, are there elements a, b, c, and d in nums such that a + b + c + d = target? Find all unique quadruplets in the array which gives the sum of target."
   ]
  },
  {
   "cell_type": "code",
   "execution_count": 8,
   "metadata": {},
   "outputs": [
    {
     "data": {
      "text/plain": [
       "[[-2, -1, 1, 2], [-2, 0, 0, 2], [-1, 0, 0, 1]]"
      ]
     },
     "execution_count": 8,
     "metadata": {},
     "output_type": "execute_result"
    }
   ],
   "source": [
    "def fourSum(nums, target):\n",
    "    nums.sort(); result = []\n",
    "    for i in range(len(nums)):\n",
    "        if i>0 and nums[i] == nums[i-1]:\n",
    "            continue\n",
    "        for j in range(i+1, len(nums)):\n",
    "            if j>i+1 and nums[j] == nums[j-1]:\n",
    "                continue\n",
    "            search_pair(nums, i, j, target, result)\n",
    "    return result\n",
    "\n",
    "def search_pair(nums, first, second, target, result):\n",
    "    left = second+1; right = len(nums)-1\n",
    "    while left<right:\n",
    "        sum = nums[first] + nums[second] + nums[left] + nums[right]\n",
    "\n",
    "        if sum == target:\n",
    "            result.append([nums[first], nums[second], nums[left], nums[right]])\n",
    "            left += 1\n",
    "            right -= 1\n",
    "            while left<right and nums[left] == nums[left-1]:\n",
    "                left += 1\n",
    "            while left<right and nums[right] == nums[right+1]:\n",
    "                right -= 1\n",
    "\n",
    "        elif sum<target:\n",
    "            left += 1\n",
    "\n",
    "        else:\n",
    "            right -= 1\n",
    "            \n",
    "nums = [1, 0, -1, 0, -2, 2]; target = 0\n",
    "fourSum(nums, target)"
   ]
  },
  {
   "cell_type": "markdown",
   "metadata": {},
   "source": [
    "### Back Space String Compare\n",
    "Given two strings S and T, return if they are equal when both are typed into empty text editors. # means a backspace character.\n",
    "\n",
    "* Input: S = \"ab#c\", T = \"ad#c\"\n",
    "* Output: true\n",
    "* Explanation: Both S and T become \"ac\"."
   ]
  },
  {
   "cell_type": "code",
   "execution_count": 10,
   "metadata": {},
   "outputs": [
    {
     "data": {
      "text/plain": [
       "True"
      ]
     },
     "execution_count": 10,
     "metadata": {},
     "output_type": "execute_result"
    }
   ],
   "source": [
    "def backspaceCompare(S, T):\n",
    "    i = len(S)-1; j = len(T)-1; backS = 0; backT = 0\n",
    "    while True:\n",
    "        while i>=0 and (backS or S[i]=='#'):\n",
    "            backS += 1 if S[i] == '#' else -1\n",
    "            i -= 1\n",
    "\n",
    "        while j>=0 and (backT or T[j]=='#'):\n",
    "            backT += 1 if T[j] == '#' else -1\n",
    "            j -= 1\n",
    "\n",
    "        if i<0 and j<0 : return True\n",
    "        if i<0 or j<0 : return False\n",
    "        if S[i]!=T[j] : return False\n",
    "\n",
    "        i -= 1; j -= 1\n",
    "        \n",
    "str1=\"xy#z\"; str2=\"xzz#\"\n",
    "backspaceCompare(str1, str2)"
   ]
  },
  {
   "cell_type": "markdown",
   "metadata": {},
   "source": [
    "### Container with most water\n",
    "Suppose you are given an array containing non-negative numbers representing heights of a set of buildings. Now, because of differences in heights of buildings water can be trapped between them. Find the two buildings that will trap the most amount of water. Write a function that will return the maximum volume of water that will be trapped between these two buildings.\n",
    "\n",
    "* Input: [1, 3, 5, 4, 1]\n",
    "* Output: 6\n",
    "* Explanation: The maximum water will be trapped between buildings of height 3 and 4."
   ]
  },
  {
   "cell_type": "code",
   "execution_count": 2,
   "metadata": {},
   "outputs": [
    {
     "data": {
      "text/plain": [
       "6"
      ]
     },
     "execution_count": 2,
     "metadata": {},
     "output_type": "execute_result"
    }
   ],
   "source": [
    "def maxArea(height):\n",
    "    left = 0; right = len(height)-1; max_area = -float('inf')\n",
    "    while left<right:\n",
    "        if height[left] < height[right]:\n",
    "            area = (right-left) * height[left]\n",
    "            left += 1\n",
    "        else:\n",
    "            area = (right-left) * height[right]\n",
    "            right -= 1\n",
    "        max_area = max(max_area, area)\n",
    "    return max_area\n",
    "\n",
    "maxArea([1,3,5,4,1])"
   ]
  },
  {
   "cell_type": "markdown",
   "metadata": {},
   "source": [
    "### Trapping Rain Water\n",
    "Given n non-negative integers representing an elevation map where the width of each bar is 1, compute how much water it is able to trap after raining."
   ]
  },
  {
   "cell_type": "markdown",
   "metadata": {},
   "source": [
    "#### 2 Pass - O(n) Time and Space"
   ]
  },
  {
   "cell_type": "code",
   "execution_count": 13,
   "metadata": {},
   "outputs": [],
   "source": [
    "def trap1(height):\n",
    "    right_max = [0]*len(height); lmax = 0; rmax = 0\n",
    "    for i in range(len(height)-1,-1,-1):\n",
    "        rmax = max(rmax, height[i])\n",
    "        right_max[i] = rmax\n",
    "\n",
    "    ans = 0\n",
    "    for i in range(len(height)):\n",
    "        lmax = max(lmax, height[i])\n",
    "        ans += min(lmax, right_max[i]) - height[i]\n",
    "\n",
    "    return ans"
   ]
  },
  {
   "cell_type": "markdown",
   "metadata": {},
   "source": [
    "#### 1 Pass - O(n) Time and O(1) space"
   ]
  },
  {
   "cell_type": "code",
   "execution_count": 14,
   "metadata": {},
   "outputs": [],
   "source": [
    "def trap2(height):\n",
    "    left = 0; right = len(height)-1; lmax=rmax=0; ans = 0\n",
    "    while left<right:\n",
    "        lmax = max(lmax, height[left])\n",
    "        rmax = max(rmax, height[right])\n",
    "        if lmax < rmax:\n",
    "            ans += lmax - height[left]\n",
    "            left += 1\n",
    "        else:\n",
    "            ans += rmax - height[right]\n",
    "            right -= 1\n",
    "    return ans"
   ]
  },
  {
   "cell_type": "code",
   "execution_count": 17,
   "metadata": {},
   "outputs": [
    {
     "data": {
      "text/plain": [
       "6"
      ]
     },
     "execution_count": 17,
     "metadata": {},
     "output_type": "execute_result"
    }
   ],
   "source": [
    "height = [0,1,0,2,1,0,1,3,2,1,2,1]\n",
    "trap1(height)\n",
    "trap2(height)"
   ]
  },
  {
   "cell_type": "markdown",
   "metadata": {},
   "source": [
    "### Product of Array Except self\n",
    "Given an array nums of n integers where n > 1,  return an array output such that output[i] is equal to the product of all the elements of nums except nums[i].\n",
    "\n",
    "Example:\n",
    "\n",
    "* Input:  [1,2,3,4]\n",
    "* Output: [24,12,8,6]\n",
    "\n",
    "Note: Please solve it without division and in O(n)."
   ]
  },
  {
   "cell_type": "code",
   "execution_count": 12,
   "metadata": {},
   "outputs": [
    {
     "data": {
      "text/plain": [
       "[24, 12, 8, 6]"
      ]
     },
     "execution_count": 12,
     "metadata": {},
     "output_type": "execute_result"
    }
   ],
   "source": [
    "def productExceptSelf(nums):\n",
    "    right = [0]*len(nums); left_prod = right_prod = 1; ans = [0]*len(nums)\n",
    "\n",
    "    for i in range(len(nums)-1,-1,-1):\n",
    "        right[i] = right_prod\n",
    "        right_prod *= nums[i]\n",
    "\n",
    "    for i in range(len(nums)):\n",
    "        ans[i] = left_prod*right[i]\n",
    "        left_prod *= nums[i]\n",
    "\n",
    "    return ans\n",
    "\n",
    "nums = [1,2,3,4]\n",
    "productExceptSelf(nums)"
   ]
  },
  {
   "cell_type": "markdown",
   "metadata": {},
   "source": [
    "### Reorder Data in Log Files\n",
    "You have an array of logs.  Each log is a space delimited string of words.\n",
    "\n",
    "For each log, the first word in each log is an alphanumeric identifier.  Then, either:\n",
    "\n",
    "Each word after the identifier will consist only of lowercase letters, or;\n",
    "Each word after the identifier will consist only of digits.\n",
    "We will call these two varieties of logs letter-logs and digit-logs.  It is guaranteed that each log has at least one word after its identifier.\n",
    "\n",
    "Reorder the logs so that all of the letter-logs come before any digit-log.  The letter-logs are ordered lexicographically ignoring identifier, with the identifier used in case of ties.  The digit-logs should be put in their original order.\n",
    "\n",
    "Return the final order of the logs.\n",
    "\n",
    " \n",
    "\n",
    "Example 1:\n",
    "\n",
    "* Input: logs = [\"dig1 8 1 5 1\",\"let1 art can\",\"dig2 3 6\",\"let2 own kit dig\",\"let3 art zero\"]\n",
    "* Output: [\"let1 art can\",\"let3 art zero\",\"let2 own kit dig\",\"dig1 8 1 5 1\",\"dig2 3 6\"]"
   ]
  },
  {
   "cell_type": "code",
   "execution_count": 2,
   "metadata": {},
   "outputs": [
    {
     "data": {
      "text/plain": [
       "['let1 art can',\n",
       " 'let3 art zero',\n",
       " 'let2 own kit dig',\n",
       " 'dig1 8 1 5 1',\n",
       " 'dig2 3 6']"
      ]
     },
     "execution_count": 2,
     "metadata": {},
     "output_type": "execute_result"
    }
   ],
   "source": [
    "def reorderLogFiles(logs):\n",
    "    letters, digits = [], []\n",
    "    for log in logs:\n",
    "        if log.split()[1].isdigit():\n",
    "            digits.append(log)\n",
    "        else:\n",
    "            letters.append(log)\n",
    "    letters.sort(key = lambda x: (x.split(' ',1)[1], x.split(' ',1)[0]))\n",
    "    return letters + digits\n",
    "\n",
    "logs = [\"dig1 8 1 5 1\",\"let1 art can\",\"dig2 3 6\",\"let2 own kit dig\",\"let3 art zero\"]\n",
    "reorderLogFiles(logs)"
   ]
  },
  {
   "cell_type": "markdown",
   "metadata": {},
   "source": [
    "### Favourite Genres\n",
    "Given a map Map<String, List<String>> userSongs with user names as keys and a list of all the songs that the user has listened to as values.\n",
    "\n",
    "Also given a map Map<String, List<String>> songGenres, with song genre as keys and a list of all the songs within that genre as values. The song can only belong to only one genre.\n",
    "\n",
    "The task is to return a map Map<String, List<String>>, where the key is a user name and the value is a list of the user's favorite genre(s). Favorite genre is the most listened to genre. A user can have more than one favorite genre if he/she has listened to the same number of songs per each of the genres.\n",
    "    \n",
    "Input:\n",
    "userSongs = {  \n",
    "   \"David\": [\"song1\", \"song2\", \"song3\", \"song4\", \"song8\"],\n",
    "   \"Emma\":  [\"song5\", \"song6\", \"song7\"]\n",
    "},\n",
    "\n",
    "songGenres = {  \n",
    "   \"Rock\":    [\"song1\", \"song3\"],\n",
    "   \"Dubstep\": [\"song7\"],\n",
    "   \"Techno\":  [\"song2\", \"song4\"],\n",
    "   \"Pop\":     [\"song5\", \"song6\"],\n",
    "   \"Jazz\":    [\"song8\", \"song9\"]\n",
    "}\n",
    "\n",
    "Output: {  \n",
    "   \"David\": [\"Rock\", \"Techno\"],\n",
    "   \"Emma\":  [\"Pop\"]\n",
    "}\n",
    "\n",
    "Explanation:\n",
    "David has 2 Rock, 2 Techno and 1 Jazz song. So he has 2 favorite genres.\n",
    "Emma has 2 Pop and 1 Dubstep song. Pop is Emma's favorite genre."
   ]
  },
  {
   "cell_type": "markdown",
   "metadata": {},
   "source": [
    "### Problem description: \n",
    "we are given two dictionaries. \n",
    "* In the first dictionary, the key is users and the values are a list of all the books that they read. \n",
    "* In the second dictionary, they key is genres and the values are a list of all the books that fall under that genre. \n",
    "* The objective was, for each user we have to output their favourite genre in the form of a dictionary. \n",
    "    * definition of favourite: Genre which is most frequently read by the user\n",
    "    \n",
    "### Algorithm:\n",
    "* step 1: extract all unique users and genres\n",
    "* step 2: create a reverse map with keys as books and values as their corresponding genre\n",
    "* step 3: create a nested dictionary with keys as user and value as a frequency map which stores the count of the number of times a user read a particular genre.\n",
    "* Step 4: Iterate through the nested dictionary and extract the most frequent genre for each user.\n",
    "\n",
    "### Edge cases:\n",
    "1. A user can have more than one favourite genre\n",
    "2. A book may have no genre.\n",
    "3. A user may not have read any books\n",
    "\n",
    "### Complexity:\n",
    "1. Time - O(ab + bc + ac);\n",
    "    * a = # of unique genre\n",
    "    * b = # of unique books\n",
    "    * c = # of unique users\n",
    "\n",
    "2. space - O(ab + ac) (reverse map + nested dictionary)\n",
    "    * a = # of unique genres\n",
    "    * b = # of unique books\n",
    "    * c = # of unique users"
   ]
  },
  {
   "cell_type": "code",
   "execution_count": 3,
   "metadata": {},
   "outputs": [
    {
     "name": "stdout",
     "output_type": "stream",
     "text": [
      "defaultdict(<class 'collections.Counter'>, {'David': Counter({'Rock': 2, 'Techno': 2, 'Jazz': 1}), 'Emma': Counter({'Pop': 2, 'Dubstep': 1}), 'Vivek': Counter({'Jazz': 1})})\n"
     ]
    },
    {
     "data": {
      "text/plain": [
       "{'Emma': ['Pop'], 'Vivek': ['Jazz'], 'David': ['Rock', 'Techno']}"
      ]
     },
     "execution_count": 3,
     "metadata": {},
     "output_type": "execute_result"
    }
   ],
   "source": [
    "def favourite_genres(userBooks, bookGenres):\n",
    "    from collections import defaultdict, Counter\n",
    "    unique_users = set(userBooks.keys())\n",
    "    unique_genres = set(bookGenres.keys())\n",
    "    genre_dict = {}; user_dict = defaultdict(Counter); result = defaultdict(list)\n",
    "    for genre, book_list in bookGenres.items():\n",
    "        for book in book_list:\n",
    "            genre_dict[book] = genre\n",
    "            \n",
    "    for user, book_list in userBooks.items():\n",
    "        for book in book_list:\n",
    "            if book in genre_dict:\n",
    "                genre = genre_dict[book]\n",
    "                user_dict[user][genre] += 1\n",
    "    \n",
    "    print(user_dict)\n",
    "    \n",
    "    for user in unique_users:\n",
    "        max_value = -float('inf')\n",
    "        for genre, freq in user_dict[user].items():\n",
    "            if freq>max_value:\n",
    "                result[user] = [genre]\n",
    "                max_value = freq\n",
    "            elif freq == max_value:\n",
    "                result[user].append(genre)\n",
    "    \n",
    "    for user in unique_users:\n",
    "        if len(result[user]) == 0:\n",
    "            result[user] = []\n",
    "    return dict(result)\n",
    "            \n",
    "        \n",
    "        \n",
    "        \n",
    "\n",
    "userBooks = {  \n",
    "   \"David\": [\"book1\", \"book2\", \"book3\", \"book4\", \"book8\"],\n",
    "   \"Emma\":  [\"book5\", \"book6\", \"book7\", 'book0','book20','book30'],\n",
    "    'Vivek': ['book15']\n",
    "}\n",
    "             \n",
    "bookGenres = {  \n",
    "   \"Rock\":    [\"book1\", \"book3\"],\n",
    "   \"Dubstep\": [\"book7\"],\n",
    "   \"Techno\":  [\"book2\", \"book4\"],\n",
    "   \"Pop\":     [\"book5\", \"book6\"],\n",
    "   \"Jazz\":    [\"book8\", \"book9\", 'book15']\n",
    "}\n",
    "\n",
    "\n",
    "\n",
    "favourite_genres(userBooks, bookGenres)"
   ]
  }
 ],
 "metadata": {
  "kernelspec": {
   "display_name": "Python 3",
   "language": "python",
   "name": "python3"
  },
  "language_info": {
   "codemirror_mode": {
    "name": "ipython",
    "version": 3
   },
   "file_extension": ".py",
   "mimetype": "text/x-python",
   "name": "python",
   "nbconvert_exporter": "python",
   "pygments_lexer": "ipython3",
   "version": "3.8.3"
  }
 },
 "nbformat": 4,
 "nbformat_minor": 2
}
