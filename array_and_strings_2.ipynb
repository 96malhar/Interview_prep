{
 "cells": [
  {
   "cell_type": "markdown",
   "metadata": {},
   "source": [
    "## String Problems"
   ]
  },
  {
   "cell_type": "markdown",
   "metadata": {},
   "source": [
    "### The count-and-say \n",
    "1.     1\n",
    "2.     11\n",
    "3.     21\n",
    "4.     1211\n",
    "5.     111221"
   ]
  },
  {
   "cell_type": "code",
   "execution_count": 3,
   "metadata": {},
   "outputs": [
    {
     "data": {
      "text/plain": [
       "'1211'"
      ]
     },
     "execution_count": 3,
     "metadata": {},
     "output_type": "execute_result"
    }
   ],
   "source": [
    "class Solution:\n",
    "    def countAndSay(self, n: int) -> str:\n",
    "        if n == 1:\n",
    "            return '1'\n",
    "        result = '1'\n",
    "        for i in range(2,n+1):\n",
    "            temp = ''\n",
    "            j = 0\n",
    "            while j < len(result):\n",
    "                count = 0\n",
    "                char = result[j]\n",
    "                while j < len(result) and result[j] == char:\n",
    "                    count += 1\n",
    "                    j+=1\n",
    "                temp = temp + str(count) + str(char)\n",
    "            result = temp\n",
    "        return result\n",
    "\n",
    "Solution().countAndSay(4)    "
   ]
  },
  {
   "cell_type": "markdown",
   "metadata": {},
   "source": [
    "### String Compression\n",
    "Given an array of characters, compress it in-place.\n",
    "* Input:\n",
    "[\"a\",\"a\",\"b\",\"b\",\"c\",\"c\",\"c\"]\n",
    "\n",
    "* Output:\n",
    "Return 6, and the first 6 characters of the input array should be: [\"a\",\"2\",\"b\",\"2\",\"c\",\"3\"]"
   ]
  },
  {
   "cell_type": "code",
   "execution_count": 6,
   "metadata": {},
   "outputs": [
    {
     "data": {
      "text/plain": [
       "6"
      ]
     },
     "execution_count": 6,
     "metadata": {},
     "output_type": "execute_result"
    }
   ],
   "source": [
    "class Solution:\n",
    "    def compress(self, chars):\n",
    "        indexAns, index = 0, 0\n",
    "        while index < len(chars):\n",
    "            char = chars[index]\n",
    "            count = 0\n",
    "            while index < len(chars) and chars[index] == char:\n",
    "                count += 1\n",
    "                index += 1\n",
    "            chars[indexAns] = char\n",
    "            indexAns += 1\n",
    "            if count > 1:\n",
    "                count = str(count)\n",
    "                for num in count:\n",
    "                    chars[indexAns] = num\n",
    "                    indexAns += 1\n",
    "        return indexAns\n",
    "\n",
    "Solution().compress([\"a\",\"a\",\"b\",\"b\",\"c\",\"c\",\"c\"])"
   ]
  },
  {
   "cell_type": "markdown",
   "metadata": {},
   "source": [
    "## Max Diff"
   ]
  },
  {
   "cell_type": "markdown",
   "metadata": {},
   "source": [
    "### Buy and Sell stock with 1 trade. Find max profit\n",
    "For example, if A = [2,3,1,4,5,7,5,4], the max money with a single trade is 6, if you buy at 1 and sell at 7."
   ]
  },
  {
   "cell_type": "code",
   "execution_count": 13,
   "metadata": {},
   "outputs": [
    {
     "data": {
      "text/plain": [
       "6"
      ]
     },
     "execution_count": 13,
     "metadata": {},
     "output_type": "execute_result"
    }
   ],
   "source": [
    "def oneTrade(a):\n",
    "    minsofar = 99999999\n",
    "    maxdiff = 0\n",
    "    for i in range(len(a)):\n",
    "        minsofar = min(minsofar, a[i])\n",
    "        maxdiff = max(maxdiff, a[i]-minsofar)\n",
    "    return maxdiff\n",
    "\n",
    "oneTrade([2,3,1,4,5,7,5,4])"
   ]
  },
  {
   "cell_type": "markdown",
   "metadata": {},
   "source": [
    "### Buy and Sell stock with any number of trades. Find max profit.\n",
    "You may not engage in multiple transactions at the same time (i.e., you must sell the stock before you buy again).\n",
    "\n",
    "* Input: [7,1,5,3,6,4]\n",
    "* Output: 7\n",
    "* Explanation: Buy on day 2 (price = 1) and sell on day 3 (price = 5), profit = 5-1 = 4.\n",
    " Then buy on day 4 (price = 3) and sell on day 5 (price = 6), profit = 6-3 = 3."
   ]
  },
  {
   "cell_type": "code",
   "execution_count": 3,
   "metadata": {},
   "outputs": [
    {
     "data": {
      "text/plain": [
       "7"
      ]
     },
     "execution_count": 3,
     "metadata": {},
     "output_type": "execute_result"
    }
   ],
   "source": [
    "def max_profit(a):\n",
    "    if len(a) == 0:\n",
    "        return 0\n",
    "    i = 0\n",
    "    peak = a[0]\n",
    "    valley = a[0]\n",
    "    maxprofit = 0\n",
    "    \n",
    "    while i<len(a)-1:\n",
    "        while i<len(a)-1 and a[i+1]<=a[i]:\n",
    "            i += 1\n",
    "        valley = a[i]\n",
    "        while i<len(a)-1 and a[i+1] >= a[i]:\n",
    "            i += 1\n",
    "        peak = a[i]\n",
    "        \n",
    "        maxprofit += peak-valley\n",
    "    return maxprofit\n",
    "\n",
    "max_profit([7,1,5,3,6])        "
   ]
  }
 ],
 "metadata": {
  "kernelspec": {
   "display_name": "Python 3",
   "language": "python",
   "name": "python3"
  },
  "language_info": {
   "codemirror_mode": {
    "name": "ipython",
    "version": 3
   },
   "file_extension": ".py",
   "mimetype": "text/x-python",
   "name": "python",
   "nbconvert_exporter": "python",
   "pygments_lexer": "ipython3",
   "version": "3.6.8"
  }
 },
 "nbformat": 4,
 "nbformat_minor": 2
}
