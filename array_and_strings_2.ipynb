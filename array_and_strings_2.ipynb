{
 "cells": [
  {
   "cell_type": "markdown",
   "metadata": {},
   "source": [
    "## String Problems"
   ]
  },
  {
   "cell_type": "markdown",
   "metadata": {},
   "source": [
    "### The count-and-say \n",
    "1.     1\n",
    "2.     11\n",
    "3.     21\n",
    "4.     1211\n",
    "5.     111221"
   ]
  },
  {
   "cell_type": "code",
   "execution_count": 3,
   "metadata": {},
   "outputs": [
    {
     "data": {
      "text/plain": [
       "'1211'"
      ]
     },
     "execution_count": 3,
     "metadata": {},
     "output_type": "execute_result"
    }
   ],
   "source": [
    "class Solution:\n",
    "    def countAndSay(self, n: int) -> str:\n",
    "        if n == 1:\n",
    "            return '1'\n",
    "        result = '1'\n",
    "        for i in range(2,n+1):\n",
    "            temp = ''\n",
    "            j = 0\n",
    "            while j < len(result):\n",
    "                count = 0\n",
    "                char = result[j]\n",
    "                while j < len(result) and result[j] == char:\n",
    "                    count += 1\n",
    "                    j+=1\n",
    "                temp = temp + str(count) + str(char)\n",
    "            result = temp\n",
    "        return result\n",
    "\n",
    "Solution().countAndSay(4)    "
   ]
  },
  {
   "cell_type": "markdown",
   "metadata": {},
   "source": [
    "### String Compression\n",
    "Given an array of characters, compress it in-place.\n",
    "* Input:\n",
    "[\"a\",\"a\",\"b\",\"b\",\"c\",\"c\",\"c\"]\n",
    "\n",
    "* Output:\n",
    "Return 6, and the first 6 characters of the input array should be: [\"a\",\"2\",\"b\",\"2\",\"c\",\"3\"]"
   ]
  },
  {
   "cell_type": "code",
   "execution_count": 6,
   "metadata": {},
   "outputs": [
    {
     "data": {
      "text/plain": [
       "6"
      ]
     },
     "execution_count": 6,
     "metadata": {},
     "output_type": "execute_result"
    }
   ],
   "source": [
    "class Solution:\n",
    "    def compress(self, chars):\n",
    "        indexAns, index = 0, 0\n",
    "        while index < len(chars):\n",
    "            char = chars[index]\n",
    "            count = 0\n",
    "            while index < len(chars) and chars[index] == char:\n",
    "                count += 1\n",
    "                index += 1\n",
    "            chars[indexAns] = char\n",
    "            indexAns += 1\n",
    "            if count > 1:\n",
    "                count = str(count)\n",
    "                for num in count:\n",
    "                    chars[indexAns] = num\n",
    "                    indexAns += 1\n",
    "        return indexAns\n",
    "\n",
    "Solution().compress([\"a\",\"a\",\"b\",\"b\",\"c\",\"c\",\"c\"])"
   ]
  },
  {
   "cell_type": "markdown",
   "metadata": {},
   "source": [
    "## Max Diff"
   ]
  },
  {
   "cell_type": "markdown",
   "metadata": {},
   "source": [
    "### Buy and Sell stock with 1 trade. Find max profit\n",
    "For example, if A = [2,3,1,4,5,7,5,4], the max money with a single trade is 6, if you buy at 1 and sell at 7."
   ]
  },
  {
   "cell_type": "code",
   "execution_count": 13,
   "metadata": {},
   "outputs": [
    {
     "data": {
      "text/plain": [
       "6"
      ]
     },
     "execution_count": 13,
     "metadata": {},
     "output_type": "execute_result"
    }
   ],
   "source": [
    "def oneTrade(a):\n",
    "    minsofar = 99999999\n",
    "    maxdiff = 0\n",
    "    for i in range(len(a)):\n",
    "        minsofar = min(minsofar, a[i])\n",
    "        maxdiff = max(maxdiff, a[i]-minsofar)\n",
    "    return maxdiff\n",
    "\n",
    "oneTrade([2,3,1,4,5,7,5,4])"
   ]
  },
  {
   "cell_type": "markdown",
   "metadata": {},
   "source": [
    "### Buy and Sell stock with any number of trades. Find max profit.\n",
    "You may not engage in multiple transactions at the same time (i.e., you must sell the stock before you buy again).\n",
    "\n",
    "* Input: [7,1,5,3,6,4]\n",
    "* Output: 7\n",
    "* Explanation: Buy on day 2 (price = 1) and sell on day 3 (price = 5), profit = 5-1 = 4.\n",
    " Then buy on day 4 (price = 3) and sell on day 5 (price = 6), profit = 6-3 = 3."
   ]
  },
  {
   "cell_type": "code",
   "execution_count": 3,
   "metadata": {},
   "outputs": [
    {
     "data": {
      "text/plain": [
       "7"
      ]
     },
     "execution_count": 3,
     "metadata": {},
     "output_type": "execute_result"
    }
   ],
   "source": [
    "def max_profit(a):\n",
    "    if len(a) == 0:\n",
    "        return 0\n",
    "    i = 0\n",
    "    peak = a[0]\n",
    "    valley = a[0]\n",
    "    maxprofit = 0\n",
    "    \n",
    "    while i<len(a)-1:\n",
    "        while i<len(a)-1 and a[i+1]<=a[i]:\n",
    "            i += 1\n",
    "        valley = a[i]\n",
    "        while i<len(a)-1 and a[i+1] >= a[i]:\n",
    "            i += 1\n",
    "        peak = a[i]\n",
    "        \n",
    "        maxprofit += peak-valley\n",
    "    return maxprofit\n",
    "\n",
    "max_profit([7,1,5,3,6])        "
   ]
  },
  {
   "cell_type": "markdown",
   "metadata": {},
   "source": [
    "### Buy and sell stocks. Find max Profit with at most 2 trades"
   ]
  },
  {
   "cell_type": "code",
   "execution_count": 10,
   "metadata": {},
   "outputs": [
    {
     "data": {
      "text/plain": [
       "6"
      ]
     },
     "execution_count": 10,
     "metadata": {},
     "output_type": "execute_result"
    }
   ],
   "source": [
    "def twoTrade(a):\n",
    "    \n",
    "    best_till = [0]*len(a)\n",
    "    minsofar = float('inf')\n",
    "    maxdiff = 0\n",
    "    for i in range(len(a)):\n",
    "        minsofar = min(minsofar, a[i])\n",
    "        maxdiff = max(maxdiff, a[i]-minsofar)\n",
    "        best_till[i] = maxdiff\n",
    "        \n",
    "    best_from = [0] * len(a)\n",
    "    maxsofar = -float('inf')\n",
    "    maxdiff = 0\n",
    "    for i in range(len(a)-1, -1, -1):\n",
    "        maxsofar = max(maxsofar, a[i])\n",
    "        maxdiff = max(maxdiff, maxsofar - a[i])\n",
    "        best_from[i] = maxdiff\n",
    "        \n",
    "    max_2_trades = 0\n",
    "    for i in range(len(a)):\n",
    "        max_2_trades = max(max_2_trades, best_till[i] + (best_from[i+1] if i+1<len(a) else 0))\n",
    "    return max_2_trades\n",
    "    \n",
    "twoTrade([3,3,5,0,0,3,1,4])        "
   ]
  },
  {
   "cell_type": "markdown",
   "metadata": {},
   "source": [
    "### Buy and sell stocks with cooldown"
   ]
  },
  {
   "cell_type": "code",
   "execution_count": 13,
   "metadata": {},
   "outputs": [
    {
     "data": {
      "text/plain": [
       "3"
      ]
     },
     "execution_count": 13,
     "metadata": {},
     "output_type": "execute_result"
    }
   ],
   "source": [
    "def maxProfit(prices):\n",
    "    if len(prices) < 2:\n",
    "        return 0\n",
    "    sell, buy, prev_sell, prev_buy = 0, -prices[0], 0, 0\n",
    "    for price in prices:\n",
    "        prev_buy = buy\n",
    "        buy = max(prev_sell - price, prev_buy)\n",
    "        prev_sell = sell\n",
    "        sell = max(prev_buy + price, prev_sell)\n",
    "    return sell\n",
    "maxProfit([1,2,3,0,2])"
   ]
  },
  {
   "cell_type": "markdown",
   "metadata": {},
   "source": [
    "## 2D arrays"
   ]
  },
  {
   "cell_type": "markdown",
   "metadata": {},
   "source": [
    "### Rotate a 2D array by 90 degrees in clockwise direction"
   ]
  },
  {
   "cell_type": "code",
   "execution_count": 15,
   "metadata": {},
   "outputs": [],
   "source": [
    "def rotate90(a):\n",
    "    for layer in range(0,len(a)//2):\n",
    "        start = layer\n",
    "        end = len(a)-layer-1\n",
    "        for curr in range(0,end-start):\n",
    "            temp = a[start][start+curr] #save top\n",
    "            a[start][start+curr] = a[end-curr][start] #left to top\n",
    "            a[end-curr][start] = a[end][end-curr] #bottom to left\n",
    "            a[end][end-curr] = a[start+curr][end] #right to bottom\n",
    "            a[start+curr][end] = temp #top to right"
   ]
  },
  {
   "cell_type": "code",
   "execution_count": 18,
   "metadata": {},
   "outputs": [
    {
     "data": {
      "text/plain": [
       "[[13, 9, 5, 1], [14, 10, 6, 2], [15, 11, 7, 3], [16, 12, 8, 4]]"
      ]
     },
     "execution_count": 18,
     "metadata": {},
     "output_type": "execute_result"
    }
   ],
   "source": [
    "a = [[1,2,3,4], [5,6,7,8], [9,10,11,12], [13,14,15,16]]\n",
    "rotate90(a)\n",
    "a"
   ]
  },
  {
   "cell_type": "markdown",
   "metadata": {},
   "source": [
    "### Print Matrix in zig-zag fashion\n",
    "https://www.geeksforgeeks.org/print-matrix-zag-zag-fashion/"
   ]
  },
  {
   "cell_type": "code",
   "execution_count": 23,
   "metadata": {},
   "outputs": [
    {
     "name": "stdout",
     "output_type": "stream",
     "text": [
      "1 2 4 5 3 6 "
     ]
    }
   ],
   "source": [
    "def mat_zigzag(a):\n",
    "    rows = len(a)\n",
    "    columns = len(a[0])\n",
    "    solution = [[]for x in range(rows+columns-1)]\n",
    "    \n",
    "    for i in range(rows):\n",
    "        for j in range(columns):\n",
    "            sum = i+j\n",
    "            if sum%2 == 0:\n",
    "                solution[sum].insert(0,a[i][j])\n",
    "            else:\n",
    "                solution[sum].append(a[i][j])\n",
    "    for i in solution:\n",
    "        for j in i:\n",
    "            print(j, end=' ')\n",
    "\n",
    "a = [[1,2,3], [4,5,6]]\n",
    "mat_zigzag(a)"
   ]
  },
  {
   "cell_type": "markdown",
   "metadata": {},
   "source": [
    "### Given a m x n matrix, if an element is 1, set its entire row and column to 1. Do it in place, i.e, Using O(1) space \n",
    "https://www.geeksforgeeks.org/a-boolean-matrix-question/"
   ]
  },
  {
   "cell_type": "code",
   "execution_count": 34,
   "metadata": {},
   "outputs": [
    {
     "data": {
      "text/plain": [
       "[[1, 1, 1, 1], [1, 1, 1, 1], [0, 0, 1, 1]]"
      ]
     },
     "execution_count": 34,
     "metadata": {},
     "output_type": "execute_result"
    }
   ],
   "source": [
    "def modify_matrix(a):\n",
    "    row_flag = False\n",
    "    col_flag = False\n",
    "    \n",
    "    rows = len(a)\n",
    "    cols = len(a[0])\n",
    "    \n",
    "    for i in range(rows):\n",
    "        for j in range(cols):\n",
    "            if i == 0 and a[i][j] == 1:\n",
    "                row_flag = True\n",
    "            if j == 0 and a[i][j] == 1:\n",
    "                col_flag = True\n",
    "            if a[i][j] == 1:\n",
    "                a[i][0] = 1\n",
    "                a[0][j] = 1\n",
    "                \n",
    "    for i in range(1,rows):\n",
    "        for j in range(1,cols):\n",
    "            if a[i][0] == 1 or a[0][j] == 1:\n",
    "                a[i][j] = 1\n",
    "            \n",
    "    if row_flag:\n",
    "        for i in range(cols):\n",
    "            a[0][i] = 1\n",
    "    \n",
    "    if col_flag:\n",
    "        for i in range(rows):\n",
    "            a[i][0] = 1\n",
    "            \n",
    "a = [[0, 0, 0, 1], [0, 0, 1, 0], [0, 0, 0, 0]]\n",
    "modify_matrix(a)\n",
    "a          "
   ]
  },
  {
   "cell_type": "markdown",
   "metadata": {},
   "source": [
    "### Search a 2D Matrix - Write an efficient algorithm that searches for a value in an m x n matrix. This matrix has the following properties:\n",
    "\n",
    "* Integers in each row are sorted from left to right.\n",
    "* Integers in each column are sorted from top to bottom.\n",
    "\n",
    "https://www.geeksforgeeks.org/search-in-row-wise-and-column-wise-sorted-matrix/"
   ]
  },
  {
   "cell_type": "code",
   "execution_count": 1,
   "metadata": {},
   "outputs": [],
   "source": [
    "def searchMatrix(matrix, target):\n",
    "        if not len(matrix):\n",
    "            return False\n",
    "        rows = len(matrix)\n",
    "        cols = len(matrix[0])\n",
    "        i = 0; j = cols-1\n",
    "        while i<rows and j>=0:\n",
    "            if target > matrix[i][j]:\n",
    "                i += 1\n",
    "            elif target < matrix[i][j]:\n",
    "                j -= 1\n",
    "            else:\n",
    "                return True\n",
    "        return False"
   ]
  },
  {
   "cell_type": "code",
   "execution_count": 2,
   "metadata": {},
   "outputs": [
    {
     "data": {
      "text/plain": [
       "True"
      ]
     },
     "execution_count": 2,
     "metadata": {},
     "output_type": "execute_result"
    }
   ],
   "source": [
    "matrix = [[1,4,7,11,15],[2,5,8,12,19],[3,6,9,16,22],[10,13,14,17,24],[18,21,23,26,30]]\n",
    "target = 5\n",
    "searchMatrix(matrix, target)"
   ]
  },
  {
   "cell_type": "markdown",
   "metadata": {},
   "source": [
    "### Print elements of a matrix in spiral order.\n",
    "https://www.geeksforgeeks.org/print-a-given-matrix-in-spiral-form/"
   ]
  },
  {
   "cell_type": "code",
   "execution_count": 7,
   "metadata": {},
   "outputs": [
    {
     "data": {
      "text/plain": [
       "[1, 2, 3, 6, 9, 5, 4, 4, 5]"
      ]
     },
     "execution_count": 7,
     "metadata": {},
     "output_type": "execute_result"
    }
   ],
   "source": [
    "def spiral(matrix):\n",
    "    rows = len(matrix)\n",
    "    cols = len(matrix[0])\n",
    "    ans = []\n",
    "    row = 0; col = 0\n",
    "    \n",
    "    while row<rows and col < cols:\n",
    "        \n",
    "        #print first row from the remaining\n",
    "        for i in range(col,cols):\n",
    "            ans.append(matrix[row][i])\n",
    "        row += 1\n",
    "        \n",
    "        # Print last column from the remaining columns\n",
    "        for i in range(row,rows):\n",
    "            ans.append(matrix[i][cols-1])\n",
    "        cols -= 1\n",
    "        \n",
    "        # Print the last row from the remaining rows\n",
    "        if row < rows:\n",
    "            for i in range(cols-1, col-1, -1):\n",
    "                ans.append(matrix[rows-1][i])\n",
    "            rows -= 1\n",
    "        \n",
    "        if col<cols:\n",
    "            for i in range(rows-1,row-1,-1):\n",
    "                ans.append(matrix[i][col])\n",
    "            col += 1\n",
    "        \n",
    "    return ans\n",
    "\n",
    "matrix = [[1,2,3],[4,5,6],[7,8,9]]\n",
    "spiral(matrix)"
   ]
  }
 ],
 "metadata": {
  "kernelspec": {
   "display_name": "Python 3",
   "language": "python",
   "name": "python3"
  },
  "language_info": {
   "codemirror_mode": {
    "name": "ipython",
    "version": 3
   },
   "file_extension": ".py",
   "mimetype": "text/x-python",
   "name": "python",
   "nbconvert_exporter": "python",
   "pygments_lexer": "ipython3",
   "version": "3.6.8"
  }
 },
 "nbformat": 4,
 "nbformat_minor": 2
}
