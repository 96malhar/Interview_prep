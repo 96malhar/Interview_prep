{
 "cells": [
  {
   "cell_type": "markdown",
   "metadata": {},
   "source": [
    "## String Problems"
   ]
  },
  {
   "cell_type": "markdown",
   "metadata": {},
   "source": [
    "### Student Attendance Record I\n",
    "You are given a string representing an attendance record for a student. The record only contains the following three characters:\n",
    "* 'A' : Absent.\n",
    "* 'L' : Late.\n",
    "* 'P' : Present.\n",
    "\n",
    "A student could be rewarded if his attendance record doesn't contain more than one 'A' (absent) or more than two continuous 'L' (late).\n",
    "\n",
    "You need to return whether the student could be rewarded according to his attendance record.\n",
    "* Input: \"PPALLP\"\n",
    "* Output: True"
   ]
  },
  {
   "cell_type": "code",
   "execution_count": 3,
   "metadata": {},
   "outputs": [
    {
     "data": {
      "text/plain": [
       "True"
      ]
     },
     "execution_count": 3,
     "metadata": {},
     "output_type": "execute_result"
    }
   ],
   "source": [
    "def checkRecord(s):\n",
    "    count_a = 0\n",
    "    for i in range(len(s)):\n",
    "        if s[i] == 'A':\n",
    "            count_a += 1\n",
    "            if count_a > 1:\n",
    "                return False\n",
    "        if i+2 < len(s) and s[i] == 'L' and s[i+1] == 'L' and s[i+2] == 'L':\n",
    "            return False\n",
    "    return True\n",
    "checkRecord('PPALLP')"
   ]
  },
  {
   "cell_type": "markdown",
   "metadata": {},
   "source": [
    "### Palindrome Permutation \n",
    "Given a string, determine if a permutation of the string could form a palindrome."
   ]
  },
  {
   "cell_type": "code",
   "execution_count": 6,
   "metadata": {},
   "outputs": [
    {
     "data": {
      "text/plain": [
       "True"
      ]
     },
     "execution_count": 6,
     "metadata": {},
     "output_type": "execute_result"
    }
   ],
   "source": [
    "def canPermutePalindrome(s):\n",
    "    import collections\n",
    "    counter = collections.Counter(s)\n",
    "    found_odd = False\n",
    "    for key in counter:\n",
    "        if counter[key]%2!=0:\n",
    "            if found_odd:\n",
    "                return False\n",
    "            found_odd = True\n",
    "    return True\n",
    "canPermutePalindrome('carerac')"
   ]
  },
  {
   "cell_type": "markdown",
   "metadata": {},
   "source": [
    "### Longest Palindrome\n",
    "Given a string which consists of lowercase or uppercase letters, find the length of the longest palindromes that can be built with those letters.\n",
    "\n",
    "This is case sensitive, for example \"Aa\" is not considered a palindrome here."
   ]
  },
  {
   "cell_type": "code",
   "execution_count": 4,
   "metadata": {},
   "outputs": [
    {
     "data": {
      "text/plain": [
       "7"
      ]
     },
     "execution_count": 4,
     "metadata": {},
     "output_type": "execute_result"
    }
   ],
   "source": [
    "def longestPalindrome(s):\n",
    "    import collections\n",
    "    from collections import Counter\n",
    "    length = 0; counter = Counter(s)\n",
    "    found_odd = False\n",
    "    for key in counter:\n",
    "        if counter[key] % 2 == 0:\n",
    "            length += counter[key]\n",
    "        else:\n",
    "            found_odd = True\n",
    "            length += counter[key] - 1\n",
    "    if found_odd:\n",
    "        length += 1\n",
    "    return length\n",
    "\n",
    "longestPalindrome(\"abccccdd\")"
   ]
  },
  {
   "cell_type": "markdown",
   "metadata": {},
   "source": [
    "### Valid Palindrome II\n",
    "Given a non-empty string s, you may delete at most one character. Judge whether you can make it a palindrome.\n",
    "* Input: \"abca\"\n",
    "* Output: True\n",
    "* Explanation: You could delete the character 'c'."
   ]
  },
  {
   "cell_type": "code",
   "execution_count": 6,
   "metadata": {},
   "outputs": [
    {
     "data": {
      "text/plain": [
       "True"
      ]
     },
     "execution_count": 6,
     "metadata": {},
     "output_type": "execute_result"
    }
   ],
   "source": [
    "def validPalindrome(s):\n",
    "    i = 0; j = len(s)-1\n",
    "    while i<j:\n",
    "        if s[i] == s[j]:\n",
    "            i += 1\n",
    "            j -= 1\n",
    "        else:\n",
    "            return isPali(s, i, j-1) or isPali(s,i+1,j)\n",
    "    return True\n",
    "def isPali(s, i, j):\n",
    "    while i<j:\n",
    "        if s[i] != s[j]:\n",
    "            return False\n",
    "        i += 1\n",
    "        j -= 1\n",
    "    return True\n",
    "validPalindrome('abca')"
   ]
  },
  {
   "cell_type": "markdown",
   "metadata": {},
   "source": [
    "### Custom Sort String\n",
    "Sort a string according to the order defined by another string\n",
    "* Input : S = \"cba\", T = \"abcd\"\n",
    "* Output: \"cbad\"\n",
    "* Explanation: \"a\", \"b\", \"c\" appear in S, so the order of \"a\", \"b\", \"c\" should be \"c\", \"b\", and \"a\". Since \"d\" does not appear in S, it can be at any position in T. \"dcba\", \"cdba\", \"cbda\" are also valid outputs."
   ]
  },
  {
   "cell_type": "code",
   "execution_count": 3,
   "metadata": {},
   "outputs": [
    {
     "data": {
      "text/plain": [
       "'cbad'"
      ]
     },
     "execution_count": 3,
     "metadata": {},
     "output_type": "execute_result"
    }
   ],
   "source": [
    "def customSortString(S, T):\n",
    "    import collections\n",
    "    counter = collections.Counter(T)\n",
    "    result = ''\n",
    "    for ch in S:\n",
    "        result += ch*counter[ch]\n",
    "        del counter[ch]\n",
    "    for ch in counter:\n",
    "        result += ch*counter[ch]\n",
    "    return result\n",
    "\n",
    "customSortString(S='cba', T='abcd')      "
   ]
  },
  {
   "cell_type": "markdown",
   "metadata": {},
   "source": [
    "### Given 2 strings find the number of operations required to convert one of them to an anagram of anaother"
   ]
  },
  {
   "cell_type": "code",
   "execution_count": 8,
   "metadata": {},
   "outputs": [
    {
     "data": {
      "text/plain": [
       "3"
      ]
     },
     "execution_count": 8,
     "metadata": {},
     "output_type": "execute_result"
    }
   ],
   "source": [
    "def count_ops(s1, s2):\n",
    "    from collections import Counter\n",
    "    if len(s1) > len(s2):\n",
    "        s1,s2 = s2,s1\n",
    "    count = 0\n",
    "    counter = Counter(s1)\n",
    "    for ch in s2:\n",
    "        counter[ch] -= 1\n",
    "        if counter[ch] < 0:\n",
    "            count += 1\n",
    "    return count\n",
    "    \n",
    "s1 = 'pqr'\n",
    "s2 = 'cc'\n",
    "count_ops(s1, s2)"
   ]
  },
  {
   "cell_type": "markdown",
   "metadata": {},
   "source": [
    "### Group Anagrams\n",
    "Given an array of strings, group anagrams together.\n",
    "* Input: [\"eat\", \"tea\", \"tan\", \"ate\", \"nat\", \"bat\"],\n",
    "* Output:\n",
    "        [\n",
    "          [\"ate\",\"eat\",\"tea\"],\n",
    "          [\"nat\",\"tan\"],\n",
    "          [\"bat\"]\n",
    "        ]"
   ]
  },
  {
   "cell_type": "code",
   "execution_count": 3,
   "metadata": {},
   "outputs": [
    {
     "data": {
      "text/plain": [
       "[['eat', 'tea', 'ate'], ['tan', 'nat'], ['bat']]"
      ]
     },
     "execution_count": 3,
     "metadata": {},
     "output_type": "execute_result"
    }
   ],
   "source": [
    "def groupAnagrams(strs):\n",
    "    import collections\n",
    "    prime_no = [2,3,5,7,11,13,17,19,23,29,31,37,41,43,47,53,59,61,67,71,73,79,83,89,97,101]\n",
    "    hashmap = collections.defaultdict(list)\n",
    "    for string in strs:\n",
    "        prime = 1\n",
    "        for ch in string:\n",
    "            prime *= prime_no[ord(ch) - ord('a')]\n",
    "        hashmap[prime].append(string)\n",
    "    return list(hashmap.values())\n",
    "\n",
    "groupAnagrams([\"eat\", \"tea\", \"tan\", \"ate\", \"nat\", \"bat\"])"
   ]
  },
  {
   "cell_type": "markdown",
   "metadata": {},
   "source": [
    "### One Edit Distance\n",
    "Given two strings s and t, determine if they are both one edit distance apart.\n",
    "\n",
    "Note: \n",
    "\n",
    "There are 3 possiblities to satisify one edit distance apart:\n",
    "\n",
    "1. Insert a character into s to get t\n",
    "2. Delete a character from s to get t\n",
    "3. Replace a character of s to get t\n",
    "\n",
    "\n",
    "* Input: s = \"1203\", t = \"1213\"\n",
    "* Output: true\n",
    "* Explanation: We can replace '0' with '1' to get t."
   ]
  },
  {
   "cell_type": "code",
   "execution_count": 15,
   "metadata": {},
   "outputs": [
    {
     "data": {
      "text/plain": [
       "True"
      ]
     },
     "execution_count": 15,
     "metadata": {},
     "output_type": "execute_result"
    }
   ],
   "source": [
    "def isOneEditDistance(s, t):\n",
    "    if len(s)>len(t):\n",
    "        s,t = t,s\n",
    "    len1 = len(s); len2 = len(t)\n",
    "    if len2 > len1 + 1:\n",
    "        return False\n",
    "\n",
    "    for i in range(len1):\n",
    "        if s[i]!=t[i]:\n",
    "            if len1 == len2:\n",
    "                return s[i+1:] == t[i+1:]\n",
    "            else:\n",
    "                return s[i:] == t[i+1:]\n",
    "    return len2 == len1 + 1\n",
    "\n",
    "isOneEditDistance('abc', 'ac')"
   ]
  },
  {
   "cell_type": "markdown",
   "metadata": {},
   "source": [
    "### Isomorphic Strings\n",
    "Given two strings s and t, determine if they are isomorphic.\n",
    "\n",
    "Two strings are isomorphic if the characters in s can be replaced to get t.\n",
    "\n",
    "All occurrences of a character must be replaced with another character while preserving the order of characters. No two characters may map to the same character but a character may map to itself.\n",
    "\n",
    "* Input: s = \"egg\", t = \"add\"\n",
    "* Output: true"
   ]
  },
  {
   "cell_type": "code",
   "execution_count": 5,
   "metadata": {},
   "outputs": [
    {
     "data": {
      "text/plain": [
       "True"
      ]
     },
     "execution_count": 5,
     "metadata": {},
     "output_type": "execute_result"
    }
   ],
   "source": [
    "def isIsomorphic(s, t):\n",
    "    hash_s = {}; hash_t = {}\n",
    "    if len(s)!=len(t):\n",
    "        return False\n",
    "    for i in range(len(s)):\n",
    "        if hash_s.get(s[i],-1) != hash_t.get(t[i], -1):\n",
    "            return False\n",
    "        hash_s[s[i]] = hash_t[t[i]] = i\n",
    "    return True\n",
    "isIsomorphic('paper', 'title')"
   ]
  },
  {
   "cell_type": "markdown",
   "metadata": {},
   "source": [
    "### Word Pattern \n",
    "Given a pattern and a string word_str, find if word_str follows the same pattern.\n",
    "\n",
    "Here follow means a full match, such that there is a bijection between a letter in pattern and a non-empty word in str.\n",
    "\n",
    "Example 1:\n",
    "\n",
    "* Input: pattern = \"abba\", str = \"dog cat cat dog\"\n",
    "* Output: true\n"
   ]
  },
  {
   "cell_type": "code",
   "execution_count": 8,
   "metadata": {},
   "outputs": [
    {
     "data": {
      "text/plain": [
       "True"
      ]
     },
     "execution_count": 8,
     "metadata": {},
     "output_type": "execute_result"
    }
   ],
   "source": [
    "def wordPattern(pattern, word_string) -> bool:\n",
    "    word_list = word_string.split(); word_map = {}; pattern_map = {}\n",
    "    if len(word_list)!=len(pattern):\n",
    "        return False\n",
    "    for i in range(len(word_list)):\n",
    "        if word_map.get(word_list[i],-1) != pattern_map.get(pattern[i],-1):\n",
    "            return False\n",
    "        pattern_map[pattern[i]] = word_map[word_list[i]] = i\n",
    "    return True\n",
    "word_string = 'dog cat cat dog'\n",
    "pattern = 'abba'\n",
    "wordPattern(pattern, word_string)"
   ]
  },
  {
   "cell_type": "markdown",
   "metadata": {},
   "source": [
    "### The count-and-say \n",
    "1.     1\n",
    "2.     11\n",
    "3.     21\n",
    "4.     1211\n",
    "5.     111221"
   ]
  },
  {
   "cell_type": "code",
   "execution_count": 3,
   "metadata": {},
   "outputs": [
    {
     "data": {
      "text/plain": [
       "'1211'"
      ]
     },
     "execution_count": 3,
     "metadata": {},
     "output_type": "execute_result"
    }
   ],
   "source": [
    "class Solution:\n",
    "    def countAndSay(self, n: int) -> str:\n",
    "        if n == 1:\n",
    "            return '1'\n",
    "        result = '1'\n",
    "        for i in range(2,n+1):\n",
    "            temp = ''\n",
    "            j = 0\n",
    "            while j < len(result):\n",
    "                count = 0\n",
    "                char = result[j]\n",
    "                while j < len(result) and result[j] == char:\n",
    "                    count += 1\n",
    "                    j+=1\n",
    "                temp = temp + str(count) + str(char)\n",
    "            result = temp\n",
    "        return result\n",
    "\n",
    "Solution().countAndSay(4)    "
   ]
  },
  {
   "cell_type": "markdown",
   "metadata": {},
   "source": [
    "### String Compression\n",
    "Given an array of characters, compress it in-place.\n",
    "* Input:\n",
    "[\"a\",\"a\",\"b\",\"b\",\"c\",\"c\",\"c\"]\n",
    "\n",
    "* Output:\n",
    "Return 6, and the first 6 characters of the input array should be: [\"a\",\"2\",\"b\",\"2\",\"c\",\"3\"]"
   ]
  },
  {
   "cell_type": "code",
   "execution_count": 6,
   "metadata": {},
   "outputs": [
    {
     "data": {
      "text/plain": [
       "6"
      ]
     },
     "execution_count": 6,
     "metadata": {},
     "output_type": "execute_result"
    }
   ],
   "source": [
    "class Solution:\n",
    "    def compress(self, chars):\n",
    "        indexAns, index = 0, 0\n",
    "        while index < len(chars):\n",
    "            char = chars[index]\n",
    "            count = 0\n",
    "            while index < len(chars) and chars[index] == char:\n",
    "                count += 1\n",
    "                index += 1\n",
    "            chars[indexAns] = char\n",
    "            indexAns += 1\n",
    "            if count > 1:\n",
    "                count = str(count)\n",
    "                for num in count:\n",
    "                    chars[indexAns] = num\n",
    "                    indexAns += 1\n",
    "        return indexAns\n",
    "\n",
    "Solution().compress([\"a\",\"a\",\"b\",\"b\",\"c\",\"c\",\"c\"])"
   ]
  },
  {
   "cell_type": "markdown",
   "metadata": {},
   "source": [
    "### Word Distance\n",
    "Given a list of words and two words word1 and word2, return the shortest distance between these two words in the list.\n",
    "\n",
    "word1 and word2 may be the same and they represent two individual words in the list.\n",
    "\n",
    "* words = [\"practice\", \"makes\", \"perfect\", \"coding\", \"makes\"].\n",
    "* Input: word1 = \"makes\", word2 = \"makes\"\n",
    "* Output: 3\n"
   ]
  },
  {
   "cell_type": "code",
   "execution_count": 3,
   "metadata": {},
   "outputs": [
    {
     "data": {
      "text/plain": [
       "1"
      ]
     },
     "execution_count": 3,
     "metadata": {},
     "output_type": "execute_result"
    }
   ],
   "source": [
    "def shortestWordDistance(words, word1, word2):\n",
    "    i1, i2 = -1, -1\n",
    "    min_ = float('inf')\n",
    "    for i ,v in enumerate(words):\n",
    "        if v == word1 and i2!=-1:\n",
    "            min_ = min(min_, abs(i - i2))\n",
    "        if v == word2 and i1!=-1:\n",
    "            min_ = min(min_, abs(i-i1))\n",
    "        if v==word1:\n",
    "            i1 = i\n",
    "        if v == word2:\n",
    "            i2 = i             \n",
    "    return min_\n",
    "words = [\"practice\", \"makes\", \"perfect\", \"coding\", \"makes\"]\n",
    "word1 = 'practice'\n",
    "word2 = 'makes'\n",
    "shortestWordDistance(words, word1, word2)"
   ]
  },
  {
   "cell_type": "markdown",
   "metadata": {},
   "source": [
    "### Word Distance II\n",
    "Design a class which receives a list of words in the constructor, and implements a method that takes two words word1 and word2 and return the shortest distance between these two words in the list. Your method will be called **repeatedly** many times with different parameters. "
   ]
  },
  {
   "cell_type": "code",
   "execution_count": 5,
   "metadata": {},
   "outputs": [],
   "source": [
    "class WordDistance:\n",
    "\n",
    "    def __init__(self, words):\n",
    "        import collections\n",
    "        self.hash_map = collections.defaultdict(list)\n",
    "        for i, word in enumerate(words):\n",
    "            self.hash_map[word].append(i)\n",
    "\n",
    "    def shortest(self, word1, word2):\n",
    "        i,j = 0,0\n",
    "        list1, list2 = self.hash_map[word1], self.hash_map[word2]\n",
    "        mindiff = float('inf')\n",
    "        while i<len(list1) and j<len(list2):\n",
    "            mindiff = min(mindiff, abs(list1[i] - list2[j]))\n",
    "            if list1[i]<list2[j]:\n",
    "                i += 1\n",
    "            else:\n",
    "                j += 1\n",
    "        return mindiff"
   ]
  },
  {
   "cell_type": "code",
   "execution_count": 9,
   "metadata": {},
   "outputs": [
    {
     "data": {
      "text/plain": [
       "3"
      ]
     },
     "execution_count": 9,
     "metadata": {},
     "output_type": "execute_result"
    }
   ],
   "source": [
    "obj = WordDistance([\"practice\", \"makes\", \"perfect\", \"coding\", \"makes\"])\n",
    "obj.shortest('coding', 'practice')\n",
    "# obj.shortest('makes', 'coding')"
   ]
  },
  {
   "cell_type": "markdown",
   "metadata": {},
   "source": [
    "### Find the town Judge\n",
    "In a town, there are N people labelled from 1 to N.  There is a rumor that one of these people is secretly the town judge.\n",
    "\n",
    "If the town judge exists, then:\n",
    "\n",
    "The town judge trusts nobody.\n",
    "Everybody (except for the town judge) trusts the town judge.\n",
    "There is exactly one person that satisfies properties 1 and 2.\n",
    "You are given trust, an array of pairs trust[i] = [a, b] representing that the person labelled a trusts the person labelled b.\n",
    "\n",
    "If the town judge exists and can be identified, return the label of the town judge.  Otherwise, return -1.\n",
    "\n",
    "* Input: N = 3, trust = [[1,3],[2,3]]\n",
    "* Output: 3"
   ]
  },
  {
   "cell_type": "code",
   "execution_count": 2,
   "metadata": {},
   "outputs": [
    {
     "data": {
      "text/plain": [
       "3"
      ]
     },
     "execution_count": 2,
     "metadata": {},
     "output_type": "execute_result"
    }
   ],
   "source": [
    "def findJudge(N, trust):   \n",
    "    count = [0]*(N+1)\n",
    "    for i, j in trust:\n",
    "        count[i]-=1\n",
    "        count[j]+=1\n",
    "    for i in range(1,N+1):\n",
    "        if count[i] == N-1:\n",
    "            return i\n",
    "    return -1\n",
    "\n",
    "findJudge(3, [[1,3], [2,3]])"
   ]
  },
  {
   "cell_type": "markdown",
   "metadata": {},
   "source": [
    "### Find the Celebrity - Similar to the above problem"
   ]
  },
  {
   "cell_type": "code",
   "execution_count": 3,
   "metadata": {},
   "outputs": [],
   "source": [
    "def findCelebrity(self, n):\n",
    "    candidate = 0\n",
    "    for i in range(1,n):\n",
    "        if knows(candidate,i):\n",
    "            candidate = i\n",
    "    for i in range(n):\n",
    "        if i == candidate:\n",
    "            continue\n",
    "        if (knows(candidate,i)) or not knows(i,candidate):\n",
    "            return -1\n",
    "    return candidate"
   ]
  },
  {
   "cell_type": "markdown",
   "metadata": {},
   "source": [
    "### Non-decreasing Array\n",
    "Given an array with n integers, your task is to check if it could become non-decreasing by modifying at most 1 element.\n",
    "\n",
    "We define an array is non-decreasing if array[i] <= array[i + 1] holds for every i (1 <= i < n).\n",
    "* Input: [4,2,3]\n",
    "* Output: True\n",
    "* Explanation: You could modify the first 4 to 1 to get a non-decreasing array."
   ]
  },
  {
   "cell_type": "code",
   "execution_count": 2,
   "metadata": {},
   "outputs": [
    {
     "data": {
      "text/plain": [
       "True"
      ]
     },
     "execution_count": 2,
     "metadata": {},
     "output_type": "execute_result"
    }
   ],
   "source": [
    "def checkPossibility(nums):\n",
    "    count = 0; i = 0\n",
    "    while i+1 < len(nums):\n",
    "        if nums[i]>nums[i+1]:\n",
    "            count += 1\n",
    "            if i == 0:\n",
    "                nums[i] = nums[i+1]\n",
    "            elif nums[i+1]>nums[i-1]:\n",
    "                nums[i] = nums[i+1]\n",
    "            else:\n",
    "                nums[i+1] = nums[i]\n",
    "        i += 1\n",
    "        if count>1:\n",
    "            return False\n",
    "    return True\n",
    "checkPossibility([4,2,3])"
   ]
  },
  {
   "cell_type": "markdown",
   "metadata": {},
   "source": [
    "### Shortest Distance to a Character\n",
    "Given a string S and a character C, return an array of integers representing the shortest distance from the character C in the string.\n",
    "* Input: S = \"loveleetcode\", C = 'e'\n",
    "* Output: [3, 2, 1, 0, 1, 0, 0, 1, 2, 2, 1, 0]"
   ]
  },
  {
   "cell_type": "code",
   "execution_count": 9,
   "metadata": {},
   "outputs": [
    {
     "data": {
      "text/plain": [
       "[0, 1, 2, 1, 0, 1, 2, 3, 4, 5, 6, 7]"
      ]
     },
     "execution_count": 9,
     "metadata": {},
     "output_type": "execute_result"
    }
   ],
   "source": [
    "def shortestToChar(S,C):\n",
    "    ans = []\n",
    "    prev = float('-inf')\n",
    "    for i in range(len(S)):\n",
    "        if S[i] == C:\n",
    "            prev = i\n",
    "        ans.append(i-prev)\n",
    "\n",
    "    next = float('inf')\n",
    "    for i in range(len(S)-1,-1,-1):\n",
    "        if S[i] == C:\n",
    "            next = i\n",
    "        ans[i] = min(ans[i], next-i)\n",
    "    return ans\n",
    "shortestToChar('loveleetcode','l')        "
   ]
  },
  {
   "cell_type": "markdown",
   "metadata": {},
   "source": [
    "### First unique item in a data stream\n",
    "* insert(2) // 2\n",
    "* insert(2) // -1\n",
    "* insert(3) // 3\n",
    "* insert(4) // 3\n",
    "* insert(3) //4"
   ]
  },
  {
   "cell_type": "code",
   "execution_count": 12,
   "metadata": {},
   "outputs": [],
   "source": [
    "class UniqueItem:\n",
    "    def __init__(self):\n",
    "        import collections\n",
    "        self.count = collections.Counter()\n",
    "        self.q = []\n",
    "        \n",
    "    def insert(self, item):\n",
    "        self.count[item]+=1\n",
    "        self.q.append(item)\n",
    "        while len(self.q) and self.count[self.q[0]] > 1:\n",
    "            self.q.pop(0)\n",
    "    def get_unique(self):\n",
    "        return self.q[0] if len(self.q) else -1\n",
    "        "
   ]
  },
  {
   "cell_type": "code",
   "execution_count": 20,
   "metadata": {},
   "outputs": [
    {
     "data": {
      "text/plain": [
       "10"
      ]
     },
     "execution_count": 20,
     "metadata": {},
     "output_type": "execute_result"
    }
   ],
   "source": [
    "obj = UniqueItem()\n",
    "obj.insert(2)\n",
    "obj.insert(2)\n",
    "obj.insert(3)\n",
    "obj.insert(4)\n",
    "obj.insert(6)\n",
    "obj.insert(6)\n",
    "obj.insert(3)\n",
    "obj.insert(10)\n",
    "obj.insert(4)\n",
    "obj.get_unique()"
   ]
  },
  {
   "cell_type": "markdown",
   "metadata": {},
   "source": [
    "## Max Diff"
   ]
  },
  {
   "cell_type": "markdown",
   "metadata": {},
   "source": [
    "### Buy and Sell stock with 1 trade. Find max profit\n",
    "For example, if A = [2,3,1,4,5,7,5,4], the max money with a single trade is 6, if you buy at 1 and sell at 7."
   ]
  },
  {
   "cell_type": "code",
   "execution_count": 13,
   "metadata": {},
   "outputs": [
    {
     "data": {
      "text/plain": [
       "6"
      ]
     },
     "execution_count": 13,
     "metadata": {},
     "output_type": "execute_result"
    }
   ],
   "source": [
    "def oneTrade(a):\n",
    "    minsofar = 99999999\n",
    "    maxdiff = 0\n",
    "    for i in range(len(a)):\n",
    "        minsofar = min(minsofar, a[i])\n",
    "        maxdiff = max(maxdiff, a[i]-minsofar)\n",
    "    return maxdiff\n",
    "\n",
    "oneTrade([2,3,1,4,5,7,5,4])"
   ]
  },
  {
   "cell_type": "markdown",
   "metadata": {},
   "source": [
    "### Buy and Sell stock with any number of trades. Find max profit.\n",
    "You may not engage in multiple transactions at the same time (i.e., you must sell the stock before you buy again).\n",
    "\n",
    "* Input: [7,1,5,3,6,4]\n",
    "* Output: 7\n",
    "* Explanation: Buy on day 2 (price = 1) and sell on day 3 (price = 5), profit = 5-1 = 4.\n",
    " Then buy on day 4 (price = 3) and sell on day 5 (price = 6), profit = 6-3 = 3."
   ]
  },
  {
   "cell_type": "code",
   "execution_count": 3,
   "metadata": {},
   "outputs": [
    {
     "data": {
      "text/plain": [
       "7"
      ]
     },
     "execution_count": 3,
     "metadata": {},
     "output_type": "execute_result"
    }
   ],
   "source": [
    "def max_profit(a):\n",
    "    if len(a) == 0:\n",
    "        return 0\n",
    "    i = 0\n",
    "    peak = a[0]\n",
    "    valley = a[0]\n",
    "    maxprofit = 0\n",
    "    \n",
    "    while i<len(a)-1:\n",
    "        while i<len(a)-1 and a[i+1]<=a[i]:\n",
    "            i += 1\n",
    "        valley = a[i]\n",
    "        while i<len(a)-1 and a[i+1] >= a[i]:\n",
    "            i += 1\n",
    "        peak = a[i]\n",
    "        \n",
    "        maxprofit += peak-valley\n",
    "    return maxprofit\n",
    "\n",
    "max_profit([7,1,5,3,6])        "
   ]
  },
  {
   "cell_type": "markdown",
   "metadata": {},
   "source": [
    "### Buy and sell stocks. Find max Profit with at most 2 trades"
   ]
  },
  {
   "cell_type": "code",
   "execution_count": 10,
   "metadata": {},
   "outputs": [
    {
     "data": {
      "text/plain": [
       "6"
      ]
     },
     "execution_count": 10,
     "metadata": {},
     "output_type": "execute_result"
    }
   ],
   "source": [
    "def twoTrade(a):\n",
    "    \n",
    "    best_till = [0]*len(a)\n",
    "    minsofar = float('inf')\n",
    "    maxdiff = 0\n",
    "    for i in range(len(a)):\n",
    "        minsofar = min(minsofar, a[i])\n",
    "        maxdiff = max(maxdiff, a[i]-minsofar)\n",
    "        best_till[i] = maxdiff\n",
    "        \n",
    "    best_from = [0] * len(a)\n",
    "    maxsofar = -float('inf')\n",
    "    maxdiff = 0\n",
    "    for i in range(len(a)-1, -1, -1):\n",
    "        maxsofar = max(maxsofar, a[i])\n",
    "        maxdiff = max(maxdiff, maxsofar - a[i])\n",
    "        best_from[i] = maxdiff\n",
    "        \n",
    "    max_2_trades = 0\n",
    "    for i in range(len(a)):\n",
    "        max_2_trades = max(max_2_trades, best_till[i] + (best_from[i+1] if i+1<len(a) else 0))\n",
    "    return max_2_trades\n",
    "    \n",
    "twoTrade([3,3,5,0,0,3,1,4])        "
   ]
  },
  {
   "cell_type": "markdown",
   "metadata": {},
   "source": [
    "### Buy and sell stocks with cooldown"
   ]
  },
  {
   "cell_type": "code",
   "execution_count": 13,
   "metadata": {},
   "outputs": [
    {
     "data": {
      "text/plain": [
       "3"
      ]
     },
     "execution_count": 13,
     "metadata": {},
     "output_type": "execute_result"
    }
   ],
   "source": [
    "def maxProfit(prices):\n",
    "    if len(prices) < 2:\n",
    "        return 0\n",
    "    sell, buy, prev_sell, prev_buy = 0, -prices[0], 0, 0\n",
    "    for price in prices:\n",
    "        prev_buy = buy\n",
    "        buy = max(prev_sell - price, prev_buy)\n",
    "        prev_sell = sell\n",
    "        sell = max(prev_buy + price, prev_sell)\n",
    "    return sell\n",
    "maxProfit([1,2,3,0,2])"
   ]
  },
  {
   "cell_type": "markdown",
   "metadata": {},
   "source": [
    "## 2D arrays"
   ]
  },
  {
   "cell_type": "markdown",
   "metadata": {},
   "source": [
    "### Rotate a 2D array by 90 degrees in clockwise direction"
   ]
  },
  {
   "cell_type": "code",
   "execution_count": 15,
   "metadata": {},
   "outputs": [],
   "source": [
    "def rotate90(a):\n",
    "    for layer in range(0,len(a)//2):\n",
    "        start = layer\n",
    "        end = len(a)-layer-1\n",
    "        for curr in range(0,end-start):\n",
    "            temp = a[start][start+curr] #save top\n",
    "            a[start][start+curr] = a[end-curr][start] #left to top\n",
    "            a[end-curr][start] = a[end][end-curr] #bottom to left\n",
    "            a[end][end-curr] = a[start+curr][end] #right to bottom\n",
    "            a[start+curr][end] = temp #top to right"
   ]
  },
  {
   "cell_type": "code",
   "execution_count": 18,
   "metadata": {},
   "outputs": [
    {
     "data": {
      "text/plain": [
       "[[13, 9, 5, 1], [14, 10, 6, 2], [15, 11, 7, 3], [16, 12, 8, 4]]"
      ]
     },
     "execution_count": 18,
     "metadata": {},
     "output_type": "execute_result"
    }
   ],
   "source": [
    "a = [[1,2,3,4], [5,6,7,8], [9,10,11,12], [13,14,15,16]]\n",
    "rotate90(a)\n",
    "a"
   ]
  },
  {
   "cell_type": "markdown",
   "metadata": {},
   "source": [
    "### Print Matrix in zig-zag fashion\n",
    "https://www.geeksforgeeks.org/print-matrix-zag-zag-fashion/"
   ]
  },
  {
   "cell_type": "code",
   "execution_count": 23,
   "metadata": {},
   "outputs": [
    {
     "name": "stdout",
     "output_type": "stream",
     "text": [
      "1 2 4 5 3 6 "
     ]
    }
   ],
   "source": [
    "def mat_zigzag(a):\n",
    "    rows = len(a)\n",
    "    columns = len(a[0])\n",
    "    solution = [[]for x in range(rows+columns-1)]\n",
    "    \n",
    "    for i in range(rows):\n",
    "        for j in range(columns):\n",
    "            sum = i+j\n",
    "            if sum%2 == 0:\n",
    "                solution[sum].insert(0,a[i][j])\n",
    "            else:\n",
    "                solution[sum].append(a[i][j])\n",
    "    for i in solution:\n",
    "        for j in i:\n",
    "            print(j, end=' ')\n",
    "\n",
    "a = [[1,2,3], [4,5,6]]\n",
    "mat_zigzag(a)"
   ]
  },
  {
   "cell_type": "markdown",
   "metadata": {},
   "source": [
    "### Given a m x n matrix, if an element is 1, set its entire row and column to 1. Do it in place, i.e, Using O(1) space \n",
    "https://www.geeksforgeeks.org/a-boolean-matrix-question/"
   ]
  },
  {
   "cell_type": "code",
   "execution_count": 6,
   "metadata": {},
   "outputs": [
    {
     "data": {
      "text/plain": [
       "[[1, 1, 1, 1], [1, 1, 1, 1], [0, 0, 1, 1]]"
      ]
     },
     "execution_count": 6,
     "metadata": {},
     "output_type": "execute_result"
    }
   ],
   "source": [
    "def modify_matrix(a):\n",
    "    row_flag = False\n",
    "    col_flag = False\n",
    "    \n",
    "    rows = len(a)\n",
    "    cols = len(a[0])\n",
    "    \n",
    "    for i in range(rows):\n",
    "        for j in range(cols):\n",
    "            if i == 0 and a[i][j] == 1:\n",
    "                row_flag = True\n",
    "            if j == 0 and a[i][j] == 1:\n",
    "                col_flag = True\n",
    "            if a[i][j] == 1:\n",
    "                a[i][0] = 1\n",
    "                a[0][j] = 1\n",
    "                \n",
    "    for i in range(1,rows):\n",
    "        for j in range(1,cols):\n",
    "            if a[i][0] == 1 or a[0][j] == 1:\n",
    "                a[i][j] = 1\n",
    "            \n",
    "    if row_flag:\n",
    "        for i in range(cols):\n",
    "            a[0][i] = 1\n",
    "    \n",
    "    if col_flag:\n",
    "        for i in range(rows):\n",
    "            a[i][0] = 1\n",
    "            \n",
    "a = [[0, 0, 0, 1], [0, 0, 1, 0], [0, 0, 0, 0]]\n",
    "modify_matrix(a)\n",
    "a          "
   ]
  },
  {
   "cell_type": "markdown",
   "metadata": {},
   "source": [
    "### Search a 2D Matrix - Write an efficient algorithm that searches for a value in an m x n matrix. This matrix has the following properties:\n",
    "\n",
    "* Integers in each row are sorted from left to right.\n",
    "* Integers in each column are sorted from top to bottom.\n",
    "\n",
    "https://www.geeksforgeeks.org/search-in-row-wise-and-column-wise-sorted-matrix/"
   ]
  },
  {
   "cell_type": "code",
   "execution_count": 1,
   "metadata": {},
   "outputs": [],
   "source": [
    "def searchMatrix(matrix, target):\n",
    "        if not len(matrix):\n",
    "            return False\n",
    "        rows = len(matrix)\n",
    "        cols = len(matrix[0])\n",
    "        i = 0; j = cols-1\n",
    "        while i<rows and j>=0:\n",
    "            if target > matrix[i][j]:\n",
    "                i += 1\n",
    "            elif target < matrix[i][j]:\n",
    "                j -= 1\n",
    "            else:\n",
    "                return True\n",
    "        return False"
   ]
  },
  {
   "cell_type": "code",
   "execution_count": 2,
   "metadata": {},
   "outputs": [
    {
     "data": {
      "text/plain": [
       "True"
      ]
     },
     "execution_count": 2,
     "metadata": {},
     "output_type": "execute_result"
    }
   ],
   "source": [
    "matrix = [[1,4,7,11,15],[2,5,8,12,19],[3,6,9,16,22],[10,13,14,17,24],[18,21,23,26,30]]\n",
    "target = 5\n",
    "searchMatrix(matrix, target)"
   ]
  },
  {
   "cell_type": "markdown",
   "metadata": {},
   "source": [
    "### Print elements of a matrix in spiral order.\n",
    "https://www.geeksforgeeks.org/print-a-given-matrix-in-spiral-form/"
   ]
  },
  {
   "cell_type": "code",
   "execution_count": 7,
   "metadata": {},
   "outputs": [
    {
     "data": {
      "text/plain": [
       "[1, 2, 3, 6, 9, 5, 4, 4, 5]"
      ]
     },
     "execution_count": 7,
     "metadata": {},
     "output_type": "execute_result"
    }
   ],
   "source": [
    "def spiral(matrix):\n",
    "    rows = len(matrix)\n",
    "    cols = len(matrix[0])\n",
    "    ans = []\n",
    "    row = 0; col = 0\n",
    "    \n",
    "    while row<rows and col < cols:\n",
    "        \n",
    "        #print first row from the remaining\n",
    "        for i in range(col,cols):\n",
    "            ans.append(matrix[row][i])\n",
    "        row += 1\n",
    "        \n",
    "        # Print last column from the remaining columns\n",
    "        for i in range(row,rows):\n",
    "            ans.append(matrix[i][cols-1])\n",
    "        cols -= 1\n",
    "        \n",
    "        # Print the last row from the remaining rows\n",
    "        if row < rows:\n",
    "            for i in range(cols-1, col-1, -1):\n",
    "                ans.append(matrix[rows-1][i])\n",
    "            rows -= 1\n",
    "        \n",
    "        if col<cols:\n",
    "            for i in range(rows-1,row-1,-1):\n",
    "                ans.append(matrix[i][col])\n",
    "            col += 1\n",
    "        \n",
    "    return ans\n",
    "\n",
    "matrix = [[1,2,3],[4,5,6],[7,8,9]]\n",
    "spiral(matrix)"
   ]
  },
  {
   "cell_type": "markdown",
   "metadata": {},
   "source": [
    "## Special Tricks"
   ]
  },
  {
   "cell_type": "markdown",
   "metadata": {},
   "source": [
    "### Check if a String is a rotation of another.\n",
    "* For example,[\"canada\", \"dacana\"] -> true"
   ]
  },
  {
   "cell_type": "code",
   "execution_count": 1,
   "metadata": {},
   "outputs": [
    {
     "data": {
      "text/plain": [
       "True"
      ]
     },
     "execution_count": 1,
     "metadata": {},
     "output_type": "execute_result"
    }
   ],
   "source": [
    "def isRotation(a,b):\n",
    "    if len(a)!=len(b):\n",
    "        return False\n",
    "    return b in a+a\n",
    "isRotation('canada', 'dacana')"
   ]
  },
  {
   "cell_type": "markdown",
   "metadata": {},
   "source": [
    "### Repeated Substring Pattern\n",
    "Given a non-empty string check if it can be constructed by taking a substring of it and appending multiple copies of the substring together. You may assume the given string consists of lowercase English letters only and its length will not exceed 10000.\n",
    "* Input: \"abab\"\n",
    "* Output: True\n",
    "* Explanation: It's the substring \"ab\" twice."
   ]
  },
  {
   "cell_type": "code",
   "execution_count": 1,
   "metadata": {},
   "outputs": [
    {
     "data": {
      "text/plain": [
       "True"
      ]
     },
     "execution_count": 1,
     "metadata": {},
     "output_type": "execute_result"
    }
   ],
   "source": [
    "def repeatedSubstringPattern(s):\n",
    "    s1 = s+s\n",
    "    return s in s1[1:len(s1)-1]\n",
    "repeatedSubstringPattern('abcabcabcabc')"
   ]
  },
  {
   "cell_type": "markdown",
   "metadata": {},
   "source": [
    "### Given an input string , reverse the string word by word. \n",
    "\n",
    "Example:\n",
    "\n",
    "Input:  [\"t\",\"h\",\"e\",\" \",\"s\",\"k\",\"y\",\" \",\"i\",\"s\",\" \",\"b\",\"l\",\"u\",\"e\"]\n",
    "\n",
    "Output: [\"b\",\"l\",\"u\",\"e\",\" \",\"i\",\"s\",\" \",\"s\",\"k\",\"y\",\" \",\"t\",\"h\",\"e\"]\n",
    "\n",
    "Note: \n",
    "\n",
    "A word is defined as a sequence of non-space characters.\n",
    "\n",
    "The input string does not contain leading or trailing spaces.\n",
    "\n",
    "The words are always separated by a single space."
   ]
  },
  {
   "cell_type": "code",
   "execution_count": 15,
   "metadata": {},
   "outputs": [
    {
     "data": {
      "text/plain": [
       "['b', 'l', 'u', 'e', ' ', 'i', 's', ' ', 's', 'k', 'y', ' ', 't', 'h', 'e']"
      ]
     },
     "execution_count": 15,
     "metadata": {},
     "output_type": "execute_result"
    }
   ],
   "source": [
    "def reverseWords(s):\n",
    "    reverse(s,0,len(s)-1)\n",
    "    wordstart = 0\n",
    "    for i in range(len(s)):\n",
    "        if s[i] == ' ':\n",
    "            reverse(s,wordstart,i-1)\n",
    "            wordstart = i+1\n",
    "    reverse(s,wordstart, len(s)-1)\n",
    "\n",
    "def reverse(s,start,end):\n",
    "    while start<end:\n",
    "        s[start], s[end] = s[end], s[start]\n",
    "        start += 1\n",
    "        end -= 1\n",
    "\n",
    "s = [\"t\",\"h\",\"e\",\" \",\"s\",\"k\",\"y\",\" \",\"i\",\"s\",\" \",\"b\",\"l\",\"u\",\"e\"]\n",
    "reverseWords(s)\n",
    "s"
   ]
  },
  {
   "cell_type": "markdown",
   "metadata": {},
   "source": [
    "### Given a string, determine if it is a palindrome, considering only alphanumeric characters and ignoring cases.\n",
    "\n",
    "Note: For the purpose of this problem, we define empty string as valid palindrome.\n",
    "\n",
    "Example 1:\n",
    "\n",
    "Input: \"A man, a plan, a canal: Panama\"\n",
    "\n",
    "Output: true"
   ]
  },
  {
   "cell_type": "code",
   "execution_count": 16,
   "metadata": {},
   "outputs": [],
   "source": [
    "def isPalindrome(s):\n",
    "    i = 0; j = len(s)-1\n",
    "    while i < j:\n",
    "        while i<len(s) and not s[i].isalnum():\n",
    "            i += 1\n",
    "        while j>=0 and not s[j].isalnum():\n",
    "            j -= 1\n",
    "        \n",
    "        if i<j and s[i].lower()!=s[j].lower():\n",
    "            return False\n",
    "        i += 1\n",
    "        j -= 1\n",
    "    return True"
   ]
  },
  {
   "cell_type": "code",
   "execution_count": 17,
   "metadata": {},
   "outputs": [
    {
     "data": {
      "text/plain": [
       "True"
      ]
     },
     "execution_count": 17,
     "metadata": {},
     "output_type": "execute_result"
    }
   ],
   "source": [
    "s = 'A man, a plan, a canal: Panama'\n",
    "isPalindrome(s)"
   ]
  },
  {
   "cell_type": "markdown",
   "metadata": {},
   "source": [
    "### Longest Palindromic Substring\n",
    "\"abbababaab\" -> \"babab\""
   ]
  },
  {
   "cell_type": "code",
   "execution_count": 26,
   "metadata": {},
   "outputs": [],
   "source": [
    "def longestPalindrome(s):\n",
    "    result = 1,0,0\n",
    "    for i in range(len(s)):\n",
    "        len1 = expand(s,i,i)\n",
    "        len2 = expand(s,i,i+1)\n",
    "        res = len1 if len1[0] > len2[0] else len2\n",
    "        result = res if res[0]>result[0] else result\n",
    "    return s[result[1]:result[2]+1]\n",
    "        \n",
    "def expand(s,i,j):\n",
    "    while i>=0 and j<len(s) and s[i]==s[j]:\n",
    "        i -= 1\n",
    "        j += 1\n",
    "    left = i+1\n",
    "    right = j-1\n",
    "    return right-left+1, left,right"
   ]
  },
  {
   "cell_type": "code",
   "execution_count": 27,
   "metadata": {},
   "outputs": [
    {
     "data": {
      "text/plain": [
       "'babab'"
      ]
     },
     "execution_count": 27,
     "metadata": {},
     "output_type": "execute_result"
    }
   ],
   "source": [
    "longestPalindrome(\"abbababaab\")"
   ]
  },
  {
   "cell_type": "markdown",
   "metadata": {},
   "source": [
    "### Given an array, rotate the array to the right by k steps, where k is non-negative.\n",
    "\n",
    "Example 1:\n",
    "\n",
    "* Input: [1,2,3,4,5,6,7] and k = 3\n",
    "* Output: [5,6,7,1,2,3,4]"
   ]
  },
  {
   "cell_type": "code",
   "execution_count": 2,
   "metadata": {},
   "outputs": [],
   "source": [
    "class Solution:\n",
    "    def rotate(self, nums, k):\n",
    "        \"\"\"\n",
    "        Do not return anything, modify nums in-place instead.\n",
    "        \"\"\"\n",
    "        k = k % len(nums)\n",
    "        self.reverse(nums, 0, len(nums)-1)\n",
    "        self.reverse(nums,0,k-1)\n",
    "        self.reverse(nums, k, len(nums)-1)\n",
    "    \n",
    "    def reverse(self, nums, start, end):\n",
    "        while start < end:\n",
    "            nums[start],nums[end] = nums[end], nums[start]\n",
    "            start += 1\n",
    "            end -= 1"
   ]
  },
  {
   "cell_type": "code",
   "execution_count": 4,
   "metadata": {},
   "outputs": [
    {
     "data": {
      "text/plain": [
       "[6, 7, 1, 2, 3, 4, 5]"
      ]
     },
     "execution_count": 4,
     "metadata": {},
     "output_type": "execute_result"
    }
   ],
   "source": [
    "nums = [1,2,3,4,5,6,7]; k = 2\n",
    "obj = Solution()\n",
    "obj.rotate(nums, k)\n",
    "nums"
   ]
  },
  {
   "cell_type": "markdown",
   "metadata": {},
   "source": [
    "## Add/multiply without operators"
   ]
  },
  {
   "cell_type": "markdown",
   "metadata": {},
   "source": [
    "### Given two non-negative integers num1 and num2 represented as string, return the sum of num1 and num2."
   ]
  },
  {
   "cell_type": "code",
   "execution_count": 24,
   "metadata": {},
   "outputs": [
    {
     "data": {
      "text/plain": [
       "'1310'"
      ]
     },
     "execution_count": 24,
     "metadata": {},
     "output_type": "execute_result"
    }
   ],
   "source": [
    "def add(num1, num2):\n",
    "    result = ''\n",
    "    i, j = len(num1)-1, len(num2)-1\n",
    "    carry = 0\n",
    "    while i>=0 or j>=0:\n",
    "        val1, val2 = 0,0\n",
    "        if 0<=i<len(num1):\n",
    "            val1 = ord(num1[i]) - ord('0')\n",
    "            i-=1\n",
    "        if 0<=j<len(num2):\n",
    "            val2 = ord(num2[j]) - ord('0')\n",
    "            j-=1\n",
    "        sum = carry + val1 + val2\n",
    "        result = str(sum%10) + result\n",
    "        carry = sum // 10\n",
    "    if carry > 0:\n",
    "        result = str(carry)+result\n",
    "    return result\n",
    "\n",
    "add('989', '321')"
   ]
  },
  {
   "cell_type": "markdown",
   "metadata": {},
   "source": [
    "### Add to Array-Form of Integer\n",
    "For a non-negative integer X, the array-form of X is an array of its digits in left to right order.  For example, if X = 1231, then the array form is [1,2,3,1].\n",
    "\n",
    "Given the array-form A of a non-negative integer X, return the array-form of the integer X+K.\n",
    "\n",
    "* Input: A = [2,1,5], K = 806\n",
    "* Output: [1,0,2,1]\n",
    "* Explanation: 215 + 806 = 1021"
   ]
  },
  {
   "cell_type": "code",
   "execution_count": 16,
   "metadata": {},
   "outputs": [
    {
     "data": {
      "text/plain": [
       "[1, 0, 2, 1]"
      ]
     },
     "execution_count": 16,
     "metadata": {},
     "output_type": "execute_result"
    }
   ],
   "source": [
    "def addToArrayForm(A, K):\n",
    "    result = []\n",
    "    carry = 0\n",
    "    i = len(A) - 1\n",
    "    while i>=0 or K>0:\n",
    "        val1, val2 = 0, 0\n",
    "        if 0<=i<len(A):\n",
    "            val1 = A[i]\n",
    "            i -= 1\n",
    "        if K>0:\n",
    "            val2 = K%10\n",
    "            K = K//10\n",
    "        sum = carry + val1 + val2\n",
    "        result.append(sum%10)\n",
    "        carry = sum // 10\n",
    "    if carry > 0:\n",
    "        result.append(carry)\n",
    "    return result[::-1]\n",
    "\n",
    "addToArrayForm([2,1,5], 806)"
   ]
  },
  {
   "cell_type": "markdown",
   "metadata": {},
   "source": [
    "### Given two non-negative integers num1 and num2 represented as strings, return the product of num1 and num2, also represented as a string.\n",
    "Input: num1 = \"123\", num2 = \"456\"\n",
    "\n",
    "Output: \"56088\""
   ]
  },
  {
   "cell_type": "code",
   "execution_count": 19,
   "metadata": {},
   "outputs": [
    {
     "data": {
      "text/plain": [
       "'56088'"
      ]
     },
     "execution_count": 19,
     "metadata": {},
     "output_type": "execute_result"
    }
   ],
   "source": [
    "def multiply(num1, num2):\n",
    "    result = ''\n",
    "    m, n = len(num1), len(num2)\n",
    "    pos = [0]*(m+n)\n",
    "    for i in range(m-1,-1,-1):\n",
    "        for j in range(n-1,-1,-1):\n",
    "            p1, p2 = i+j, i+j+1\n",
    "            val1 = ord(num1[i]) - ord('0')\n",
    "            val2 = ord(num2[j]) - ord('0')\n",
    "            mul = val1 * val2\n",
    "            sum = mul + pos[p2]\n",
    "            \n",
    "            pos[p1] += sum//10\n",
    "            pos[p2] = sum%10\n",
    "    \n",
    "    for p in pos:\n",
    "        if p==0 and not result:\n",
    "            continue\n",
    "        result+=str(p)\n",
    "    return result if result else '0'\n",
    "            \n",
    "multiply('123', '456')"
   ]
  },
  {
   "cell_type": "code",
   "execution_count": 27,
   "metadata": {},
   "outputs": [
    {
     "data": {
      "text/plain": [
       "'56088'"
      ]
     },
     "execution_count": 27,
     "metadata": {},
     "output_type": "execute_result"
    }
   ],
   "source": [
    "# naive approach\n",
    "def multiply(num1, num2):\n",
    "    if num1 == '0' or num2 == '0':\n",
    "        return '0'\n",
    "    result = '0'\n",
    "    for j in range(len(num2)-1,-1,-1):\n",
    "        val2 = int(num2[j])\n",
    "        carry = 0\n",
    "        product = ''\n",
    "        for i in range(len(num1)-1,-1,-1):\n",
    "            val1 = int(num1[i])\n",
    "            prod = val1 * val2 + carry\n",
    "            product = str(prod%10) + product\n",
    "            carry = prod//10\n",
    "        if carry > 0:\n",
    "            product = str(carry) + product\n",
    "        product += '0' * (len(num2)-1-j)\n",
    "        result = add(result, product)\n",
    "    return result\n",
    "\n",
    "multiply('123', '456')"
   ]
  }
 ],
 "metadata": {
  "kernelspec": {
   "display_name": "Python 3",
   "language": "python",
   "name": "python3"
  },
  "language_info": {
   "codemirror_mode": {
    "name": "ipython",
    "version": 3
   },
   "file_extension": ".py",
   "mimetype": "text/x-python",
   "name": "python",
   "nbconvert_exporter": "python",
   "pygments_lexer": "ipython3",
   "version": "3.6.8"
  }
 },
 "nbformat": 4,
 "nbformat_minor": 2
}
