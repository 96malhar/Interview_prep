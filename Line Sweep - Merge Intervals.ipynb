{
 "cells": [
  {
   "cell_type": "markdown",
   "metadata": {},
   "source": [
    "### Meeting Rooms\n",
    "Given a list of time intervals, find if any of them overlap. Each interval has a start time and a stop time.\n",
    "Intervals -> [5,7], [1,3], [6,9] -> Intervals [5,7] and [6,9] overlap, so we return true"
   ]
  },
  {
   "cell_type": "code",
   "execution_count": 37,
   "metadata": {},
   "outputs": [
    {
     "data": {
      "text/plain": [
       "False"
      ]
     },
     "execution_count": 37,
     "metadata": {},
     "output_type": "execute_result"
    }
   ],
   "source": [
    "def canAttendAll(intervals):\n",
    "    start, end = 0, 1\n",
    "    intervals.sort(key=lambda x:x[start])\n",
    "    for i in range(1, len(intervals)):\n",
    "        if intervals[i][start] < intervals[i-1][end]:\n",
    "            return False\n",
    "    return True\n",
    "\n",
    "# please note the comparison above, it is \"<\" and not \"<=\"\n",
    "      # while merging we needed \"<=\" comparison, as we will be merging the two\n",
    "      # intervals having condition \"intervals[i][start] == intervals[i - 1][end]\" but\n",
    "      # such intervals don't represent conflicting appointments as one starts right\n",
    "      # after the other\n",
    "\n",
    "intervals = [[1,3],[2,6],[8,10],[15,18]]\n",
    "# intervals = [[1,2], [2,3]]\n",
    "canAttendAll(intervals)"
   ]
  },
  {
   "cell_type": "markdown",
   "metadata": {},
   "source": [
    "### Merge Overlapping intervals"
   ]
  },
  {
   "cell_type": "code",
   "execution_count": 16,
   "metadata": {},
   "outputs": [
    {
     "data": {
      "text/plain": [
       "[[1, 6], [8, 10], [15, 18]]"
      ]
     },
     "execution_count": 16,
     "metadata": {},
     "output_type": "execute_result"
    }
   ],
   "source": [
    "def merge(intervals):\n",
    "    if len(intervals)<2:\n",
    "        return intervals\n",
    "    merged = []; start, end = 0, 1\n",
    "    intervals.sort(key = lambda x:x[start])\n",
    "    s = intervals[0][start]; e = intervals[0][end]\n",
    "    for interval in intervals[1:]:\n",
    "        if interval[start]<=e:\n",
    "            e = max(e, interval[end])\n",
    "        else:\n",
    "            merged.append([s,e])\n",
    "            s = interval[start]\n",
    "            e = interval[end]\n",
    "    merged.append([s, e])\n",
    "    return merged\n",
    "        \n",
    "intervals = [[1,3],[2,6],[8,10],[15,18]]\n",
    "merge(intervals)"
   ]
  },
  {
   "cell_type": "markdown",
   "metadata": {},
   "source": [
    "### Find Intersecting Intervals"
   ]
  },
  {
   "cell_type": "code",
   "execution_count": 5,
   "metadata": {},
   "outputs": [
    {
     "data": {
      "text/plain": [
       "[[2, 6], [9, 10]]"
      ]
     },
     "execution_count": 5,
     "metadata": {},
     "output_type": "execute_result"
    }
   ],
   "source": [
    "def intersect(intervals):\n",
    "    res = []\n",
    "    intervals.sort()\n",
    "    start, end = intervals[0][0], intervals[0][1]\n",
    "    for curr_start, curr_end in intervals[1:]:\n",
    "        if curr_start < end:\n",
    "            res.append([max(start, curr_start), min(end, curr_end)])\n",
    "            end = max(end, curr_end)\n",
    "        else:\n",
    "            start, end = curr_start, curr_end\n",
    "\n",
    "    return res\n",
    "\n",
    "intersect([[1, 10], [2, 6], [9, 12], [14, 16], [16, 17]])"
   ]
  },
  {
   "cell_type": "markdown",
   "metadata": {},
   "source": [
    "### Insert Intervals\n",
    "Given a set of non-overlapping intervals, insert a new interval into the intervals (merge if necessary).\n",
    "\n",
    "You may assume that the intervals were initially sorted according to their start times.\n",
    "\n",
    "* Input: intervals = [[1,2],[3,5],[6,7],[8,10],[12,16]], newInterval = [4,8]\n",
    "* Output: [[1,2],[3,10],[12,16]]\n",
    "* Explanation: Because the new interval [4,8] overlaps with [3,5],[6,7],[8,10]."
   ]
  },
  {
   "cell_type": "code",
   "execution_count": 11,
   "metadata": {},
   "outputs": [
    {
     "data": {
      "text/plain": [
       "[[1, 2], [3, 10], [12, 16]]"
      ]
     },
     "execution_count": 11,
     "metadata": {},
     "output_type": "execute_result"
    }
   ],
   "source": [
    "def insert(intervals, newInterval):\n",
    "    merged = []; i = 0\n",
    "    start, end = 0, 1\n",
    "    while i<len(intervals) and intervals[i][end]<newInterval[start]:\n",
    "        merged.append(intervals[i])\n",
    "        i += 1\n",
    "\n",
    "    while i<len(intervals) and intervals[i][start]<=newInterval[end]:\n",
    "        newInterval[start] = min(newInterval[start], intervals[i][start])\n",
    "        newInterval[end] = max(newInterval[end], intervals[i][end])\n",
    "        i += 1\n",
    "    merged.append(newInterval)\n",
    "\n",
    "    while i<len(intervals):\n",
    "        merged.append(intervals[i])\n",
    "        i += 1\n",
    "\n",
    "    return merged\n",
    "\n",
    "intervals = [[1,2],[3,5],[6,7],[8,10],[12,16]]\n",
    "newInterval = [4,8]\n",
    "insert(intervals, newInterval)"
   ]
  },
  {
   "cell_type": "markdown",
   "metadata": {},
   "source": [
    "### Interval Intersection\n",
    "Given two lists of intervals, find the intersection of these two lists. Each list consists of disjoint intervals sorted on their start time.\n",
    "* Input: A = [[0,2],[5,10],[13,23],[24,25]], B = [[1,5],[8,12],[15,24],[25,26]]\n",
    "* Output: [[1,2],[5,5],[8,10],[15,23],[24,24],[25,25]]\n",
    "* Reminder: The inputs and the desired output are lists of Interval objects, and not arrays or lists.\n",
    "\n",
    "Similar question: **1229. Meeting Scheduler**"
   ]
  },
  {
   "cell_type": "code",
   "execution_count": 20,
   "metadata": {},
   "outputs": [
    {
     "data": {
      "text/plain": [
       "[[1, 2], [5, 5], [8, 10], [15, 23], [24, 24], [25, 25]]"
      ]
     },
     "execution_count": 20,
     "metadata": {},
     "output_type": "execute_result"
    }
   ],
   "source": [
    "def intervalIntersection(A, B):\n",
    "    i = 0; j = 0; result = []; start, end = 0, 1\n",
    "    while i<len(A) and j<len(B):\n",
    "        overlaps =  A[i][start] <= B[j][end] and B[j][start] <= A[i][end]\n",
    "        if overlaps:\n",
    "            s = max(A[i][start], B[j][start])\n",
    "            e = min(A[i][end], B[j][end])\n",
    "            result.append([s, e])\n",
    "\n",
    "        if A[i][end] < B[j][end]:\n",
    "            i += 1\n",
    "        else:\n",
    "            j += 1\n",
    "\n",
    "    return result\n",
    "\n",
    "A = [[0,2],[5,10],[13,23],[24,25]]; B = [[1,5],[8,12],[15,24],[25,26]]\n",
    "intervalIntersection(A,B)"
   ]
  },
  {
   "cell_type": "markdown",
   "metadata": {},
   "source": [
    "### Merge two list of Intervals\n",
    "Given A and B two interval lists, A has no overlap inside A and B has no overlap inside B. Write the function to merge two interval lists, output the result with no overlap. Ask for a very efficient solution\n",
    "\n",
    "A naive method can combine the two list, and sort and apply merge interval in the leetcode, but is not efficient enough.\n",
    "\n",
    "For example,\n",
    "* A: [1,5], [10,14], [16,18]\n",
    "* B: [2,6], [8,10], [11,20]\n",
    "\n",
    "output [1,6], [8, 20]"
   ]
  },
  {
   "cell_type": "code",
   "execution_count": 4,
   "metadata": {},
   "outputs": [
    {
     "data": {
      "text/plain": [
       "[[1, 6], [8, 20]]"
      ]
     },
     "execution_count": 4,
     "metadata": {},
     "output_type": "execute_result"
    }
   ],
   "source": [
    "def merge_intervals(a, b):\n",
    "    start = 0; end = 1; i = 0; j = 0; ans = []\n",
    "    if a[i][start] <= b[i][start]:\n",
    "        s, e = a[i]\n",
    "        i += 1\n",
    "    else:\n",
    "        s, e = b[j]\n",
    "        j += 1\n",
    "        \n",
    "    while i<len(a) and j<len(b):\n",
    "        if a[i][start]<=e:\n",
    "            e = max(e, a[i][end])\n",
    "            i += 1\n",
    "        elif b[j][start] <= e:\n",
    "            e = max(e, b[j][end])\n",
    "            j += 1\n",
    "        else:\n",
    "            ans.append([s,e])\n",
    "            if a[i][start] <= b[i][start]:\n",
    "                s, e = a[i]\n",
    "                i += 1\n",
    "            else:\n",
    "                s, e = b[j]\n",
    "                j += 1\n",
    "    \n",
    "    while i<len(a):\n",
    "        if a[i][start]<=e:\n",
    "            e = max(e, a[i][end])\n",
    "        else:\n",
    "            ans.append([s,e])\n",
    "            s, e = a[i]\n",
    "        i += 1\n",
    "    \n",
    "    while j<len(b):\n",
    "        if b[j][start]<=e:\n",
    "            e = max(e, b[j][end])\n",
    "        else:\n",
    "            ans.append([s,e])\n",
    "            s, e = b[j]\n",
    "        j += 1\n",
    "    \n",
    "    ans.append([s,e])\n",
    "    return ans\n",
    "    \n",
    "A = [1,5], [10,14], [16,18]\n",
    "B = [2,6], [8,10], [11,20]  \n",
    "merge_intervals(A, B)"
   ]
  },
  {
   "cell_type": "markdown",
   "metadata": {},
   "source": [
    "### Minimum Meeting Rooms\n",
    "Given an array of meeting time intervals consisting of start and end times [[s1,e1],[s2,e2],...] (si < ei), find the minimum number of conference rooms required.\n",
    "* Meetings: [[1,4], [2,5], [7,9]]\n",
    "* Output: 2"
   ]
  },
  {
   "cell_type": "code",
   "execution_count": 77,
   "metadata": {},
   "outputs": [
    {
     "data": {
      "text/plain": [
       "2"
      ]
     },
     "execution_count": 77,
     "metadata": {},
     "output_type": "execute_result"
    }
   ],
   "source": [
    "def minMeetingRooms(intervals):\n",
    "    from heapq import heappush, heappop\n",
    "    heap = []; min_rooms = 0; start = 0; end = 1\n",
    "    intervals.sort(key=lambda x:x[start])\n",
    "    for interval in intervals:\n",
    "        while len(heap) and interval[start]>=heap[0]:\n",
    "            heappop(heap)\n",
    "        heappush(heap, interval[end])\n",
    "        min_rooms = max(min_rooms, len(heap))\n",
    "    return min_rooms\n",
    "\n",
    "meetings = [[0, 30],[5, 10],[15, 20]]\n",
    "minMeetingRooms(meetings)"
   ]
  },
  {
   "cell_type": "markdown",
   "metadata": {},
   "source": [
    "### Car Pooling\n",
    "You are driving a vehicle that has capacity empty seats initially available for passengers.  The vehicle only drives east (ie. it cannot turn around and drive west.)\n",
    "\n",
    "Given a list of trips, trip[i] = [num_passengers, start_location, end_location] contains information about the i-th trip: the number of passengers that must be picked up, and the locations to pick them up and drop them off.  The locations are given as the number of kilometers due east from your vehicle's initial location.\n",
    "\n",
    "Return true if and only if it is possible to pick up and drop off all passengers for all the given trips. "
   ]
  },
  {
   "cell_type": "code",
   "execution_count": 6,
   "metadata": {},
   "outputs": [
    {
     "data": {
      "text/plain": [
       "True"
      ]
     },
     "execution_count": 6,
     "metadata": {},
     "output_type": "execute_result"
    }
   ],
   "source": [
    "from heapq import heappush, heappop\n",
    "class Solution:\n",
    "    def carPooling(self, trips, capacity: int) -> bool:\n",
    "        trips.sort(key = lambda x:x[1])\n",
    "        heap = []; in_car = 0\n",
    "        for i in range(len(trips)):\n",
    "            num = trips[i][0]; s = trips[i][1]; e = trips[i][2]\n",
    "            while heap and s >= heap[0][0]:\n",
    "                end, passengers = heappop(heap)\n",
    "                in_car -= passengers\n",
    "            heappush(heap, (e, num))\n",
    "            in_car += num\n",
    "            if in_car > capacity: return False\n",
    "        return True\n",
    "\n",
    "obj = Solution()\n",
    "trips = [[3,2,7],[3,7,9],[8,3,9]]; capacity = 11\n",
    "obj.carPooling(trips, capacity)"
   ]
  },
  {
   "cell_type": "markdown",
   "metadata": {},
   "source": [
    "### Maximum CPU Load (hard)\n",
    "We are given a list of Jobs. Each job has a Start time, an End time, and a CPU load when it is running. Our goal is to find the maximum CPU load at any time if all the jobs are running on the same machine.\n",
    "* Jobs: [[1,4,3], [2,5,4], [7,9,6]]\n",
    "* Output: 7\n",
    "* Explanation: Since [1,4,3] and [2,5,4] overlap, their maximum CPU load (3+4=7) will be when both the  jobs are running at the same time i.e., during the time interval (2,4)."
   ]
  },
  {
   "cell_type": "code",
   "execution_count": 88,
   "metadata": {},
   "outputs": [
    {
     "data": {
      "text/plain": [
       "7"
      ]
     },
     "execution_count": 88,
     "metadata": {},
     "output_type": "execute_result"
    }
   ],
   "source": [
    "def maxCPULoad(jobs):\n",
    "    from heapq import heappush, heappop\n",
    "    heap = []; max_load = 0; curr_load = 0; \n",
    "    jobs.sort(key=lambda x:x[0])\n",
    "    for job in jobs:\n",
    "        while len(heap) and job[0]>=heap[0][0]:\n",
    "            curr_load -= heappop(heap)[1]\n",
    "        heappush(heap, (job[1], job[2]))\n",
    "        curr_load += job[2]\n",
    "        max_load = max(max_load, curr_load)\n",
    "    return max_load\n",
    "\n",
    "jobs = [[1,4,3], [2,5,4], [7,9,6]] #7\n",
    "# jobs = [[6,7,10], [2,4,11], [8,12,15]] #15\n",
    "# jobs = [[1,4,2], [2,4,1], [3,6,5]] #8\n",
    "\n",
    "maxCPULoad(jobs)"
   ]
  },
  {
   "cell_type": "markdown",
   "metadata": {},
   "source": [
    "### Employee Free Time\n",
    "We are given a list schedule of employees, which represents the working time for each employee.\n",
    "\n",
    "Each employee has a list of non-overlapping Intervals, and these intervals are in sorted order.\n",
    "\n",
    "Return the list of finite intervals representing common, positive-length free time for all employees, also in sorted order.\n",
    "\n",
    "Example 1:\n",
    "\n",
    "* Input: schedule = [[[1,2],[5,6]],[[1,3]],[[4,10]]]\n",
    "* Output: [[3,4]]\n",
    "\n",
    "Explanation:\n",
    "* There are a total of three employees, and all common free time intervals would be [-inf, 1], [3, 4], [10, inf]. We discard any intervals that contain inf as they aren't finite."
   ]
  },
  {
   "cell_type": "code",
   "execution_count": 3,
   "metadata": {},
   "outputs": [
    {
     "data": {
      "text/plain": [
       "[[5, 6], [7, 9]]"
      ]
     },
     "execution_count": 3,
     "metadata": {},
     "output_type": "execute_result"
    }
   ],
   "source": [
    "def employeeFreeTime(schedule):\n",
    "    intervals = []; start = 0; end = 1; ans = []\n",
    "    for emp_schedule in schedule:\n",
    "        for interval in emp_schedule:\n",
    "            intervals.append(interval)\n",
    "    intervals.sort(key = lambda x:x[start])\n",
    "    s = intervals[0][start]; e = intervals[0][end]\n",
    "    for interval in intervals[1:]:\n",
    "        if interval[start] <= e:\n",
    "            e = max(e, interval[end])\n",
    "        else:\n",
    "            ans.append([e, interval[start]])\n",
    "            s = interval[start]\n",
    "            e = interval[end]\n",
    "    return ans\n",
    "\n",
    "schedule = [[[1,2],[5,6]],[[1,3]],[[4,10]]]\n",
    "schedule = [[[1,3],[6,7]],[[2,4]],[[2,5],[9,12]]]\n",
    "employeeFreeTime(schedule)"
   ]
  },
  {
   "cell_type": "code",
   "execution_count": 2,
   "metadata": {},
   "outputs": [],
   "source": [
    "#O(nlogk)\n",
    "class Solution:\n",
    "    def employeeFreeTime(self, schedule: '[[Interval]]') -> '[Interval]':\n",
    "        heap = []\n",
    "        for index, arr in enumerate(schedule):\n",
    "            start, end = arr[0].start, arr[0].end\n",
    "            heappush(heap, (start, end, index, 0, arr))\n",
    "        \n",
    "        res = []\n",
    "        prev_s = prev_e = None\n",
    "        while heap:\n",
    "            start, end, index, i, arr = heappop(heap)\n",
    "            if prev_s is None:\n",
    "                prev_s, prev_e = start, end\n",
    "            else:\n",
    "                if start <= prev_e:\n",
    "                    prev_e = max(prev_e, end)\n",
    "                else:\n",
    "                    interval = Interval(prev_e, start)\n",
    "                    res.append(interval)\n",
    "                    prev_s, prev_e = start, end\n",
    "            \n",
    "            if i<len(arr)-1:\n",
    "                new_start, new_end = arr[i+1].start, arr[i+1].end\n",
    "                heappush(heap, (new_start, new_end, index, i+1, arr))\n",
    "        \n",
    "        return res"
   ]
  },
  {
   "cell_type": "markdown",
   "metadata": {},
   "source": [
    "### Two city Scheduling\n",
    "There are 2N people a company is planning to interview. The cost of flying the i-th person to city A is costs[i][0], and the cost of flying the i-th person to city B is costs[i][1].\n",
    "\n",
    "Return the minimum cost to fly every person to a city such that exactly N people arrive in each city.\n",
    "\n",
    " \n",
    "\n",
    "Example 1:\n",
    "\n",
    "* Input: [[10,20],[30,200],[400,50],[30,20]]\n",
    "* Output: 110\n",
    "* Explanation: \n",
    "* The first person goes to city A for a cost of 10.\n",
    "* The second person goes to city A for a cost of 30.\n",
    "* The third person goes to city B for a cost of 50.\n",
    "* The fourth person goes to city B for a cost of 20.\n",
    "\n",
    "The total minimum cost is 10 + 30 + 50 + 20 = 110 to have half the people interviewing in each city."
   ]
  },
  {
   "cell_type": "code",
   "execution_count": 6,
   "metadata": {},
   "outputs": [
    {
     "data": {
      "text/plain": [
       "110"
      ]
     },
     "execution_count": 6,
     "metadata": {},
     "output_type": "execute_result"
    }
   ],
   "source": [
    "def twoCitySchedCost(costs):\n",
    "    costs.sort(key=lambda x:x[1]-x[0], reverse = True); cost = 0; n = len(costs)//2; count = 0; i =0\n",
    "    while i<n:\n",
    "        cost += costs[i][0]\n",
    "        i += 1\n",
    "\n",
    "    while i<len(costs):\n",
    "        cost += costs[i][1]\n",
    "        i += 1\n",
    "    return cost\n",
    "\n",
    "costs = [[10,20],[30,200],[400,50],[30,20]]\n",
    "twoCitySchedCost(costs)"
   ]
  },
  {
   "cell_type": "markdown",
   "metadata": {},
   "source": [
    "###  Non-overlapping Intervals\n",
    "Given a collection of intervals, find the minimum number of intervals you need to remove to make the rest of the intervals non-overlapping.\n",
    "* Input: [[1,2],[2,3],[3,4],[1,3]]\n",
    "* Output: 1\n",
    "* Explanation: [1,3] can be removed and the rest of intervals are non-overlapping.\n",
    "\n",
    "Similar problem: **Minimum Number of Arrows to Burst Balloons**"
   ]
  },
  {
   "cell_type": "code",
   "execution_count": 5,
   "metadata": {},
   "outputs": [
    {
     "data": {
      "text/plain": [
       "1"
      ]
     },
     "execution_count": 5,
     "metadata": {},
     "output_type": "execute_result"
    }
   ],
   "source": [
    "def eraseOverlapIntervals(intervals):\n",
    "    if not intervals: return 0\n",
    "    start=0; end=1\n",
    "    intervals.sort(key=lambda x:x[end])\n",
    "    e = intervals[0][end]; count = 1\n",
    "    for interval in intervals:\n",
    "        if interval[start] >= e:\n",
    "            count += 1\n",
    "            e = interval[end]\n",
    "    return len(intervals) - count\n",
    "\n",
    "intervals = [[1,2],[2,3],[3,4],[1,3]]\n",
    "eraseOverlapIntervals(intervals)"
   ]
  },
  {
   "cell_type": "markdown",
   "metadata": {},
   "source": [
    "### My Calendar I\n",
    "Implement a MyCalendar class to store your events. A new event can be added if adding the event will not cause a double booking.\n",
    "\n",
    "Your class will have the method, book(int start, int end). Formally, this represents a booking on the half open interval [start, end), the range of real numbers x such that start <= x < end.\n",
    "\n",
    "A double booking happens when two events have some non-empty intersection (ie., there is some time that is common to both events.)\n",
    "\n",
    "For each call to the method MyCalendar.book, return true if the event can be added to the calendar successfully without causing a double booking. Otherwise, return false and do not add the event to the calendar.\n",
    "\n",
    "Your class will be called like this: MyCalendar cal = new MyCalendar(); MyCalendar.book(start, end)"
   ]
  },
  {
   "cell_type": "code",
   "execution_count": 4,
   "metadata": {},
   "outputs": [],
   "source": [
    "class MyCalendar:\n",
    "\n",
    "    def __init__(self):\n",
    "        self.root = None   \n",
    "\n",
    "    def book(self, start: int, end: int) -> bool:\n",
    "        if self.root is None:\n",
    "            self.root = Node(start, end)\n",
    "            return True\n",
    "        return self.insert(self.root, start , end)\n",
    "    \n",
    "    def insert(self, node, start, end):\n",
    "        parent = None\n",
    "        while node:\n",
    "            parent = node\n",
    "            if parent.start < end and start < parent.end:\n",
    "                return False\n",
    "            node = node.right if start >= node.end else node.left\n",
    "        if start >= parent.end:\n",
    "            parent.right = Node(start, end)\n",
    "        else:\n",
    "            parent.left = Node(start, end)\n",
    "        return True\n",
    "    \n",
    "class Node:\n",
    "    def __init__(self, start, end):\n",
    "        self.start = start\n",
    "        self.end = end\n",
    "        self.left = None\n",
    "        self.right = None"
   ]
  },
  {
   "cell_type": "code",
   "execution_count": 16,
   "metadata": {},
   "outputs": [
    {
     "name": "stdout",
     "output_type": "stream",
     "text": [
      "True\n",
      "False\n",
      "True\n"
     ]
    }
   ],
   "source": [
    "obj = MyCalendar()\n",
    "print(obj.book(10, 20))\n",
    "print(obj.book(15, 25))`\n",
    "print(obj.book(20, 30))"
   ]
  },
  {
   "cell_type": "code",
   "execution_count": 3,
   "metadata": {},
   "outputs": [
    {
     "name": "stdout",
     "output_type": "stream",
     "text": [
      "True\n",
      "False\n",
      "True\n"
     ]
    }
   ],
   "source": [
    "### using treemap\n",
    "from sortedcontainers import SortedDict\n",
    "import bisect\n",
    "class MyCalendar:\n",
    "\n",
    "    def __init__(self):\n",
    "        self.d = SortedDict()\n",
    "\n",
    "    def book(self, start: int, end: int) -> bool:\n",
    "        keys = list(self.d.keys())\n",
    "        index = bisect.bisect_left(keys, start)\n",
    "        if 0<=index<len(keys) and keys[index] < end:\n",
    "            return False\n",
    "        if 0<=index-1<len(keys) and start < self.d[keys[index-1]]:\n",
    "            return False\n",
    "        self.d[start] = end\n",
    "        return True\n",
    "            \n",
    "obj = MyCalendar()\n",
    "print(obj.book(10, 20))\n",
    "print(obj.book(15, 25))\n",
    "print(obj.book(20, 30))"
   ]
  },
  {
   "cell_type": "markdown",
   "metadata": {},
   "source": [
    "### My Calendar II\n",
    "Implement a MyCalendarTwo class to store your events. A new event can be added if adding the event will not cause a triple booking.\n",
    "\n",
    "Your class will have one method, book(int start, int end). Formally, this represents a booking on the half open interval [start, end), the range of real numbers x such that start <= x < end.\n",
    "\n",
    "A triple booking happens when three events have some non-empty intersection (ie., there is some time that is common to all 3 events.)\n",
    "\n",
    "For each call to the method MyCalendar.book, return true if the event can be added to the calendar successfully without causing a triple booking. Otherwise, return false and do not add the event to the calendar.\n",
    "\n",
    "Your class will be called like this: MyCalendar cal = new MyCalendar(); MyCalendar.book(start, end)"
   ]
  },
  {
   "cell_type": "code",
   "execution_count": 10,
   "metadata": {},
   "outputs": [
    {
     "name": "stdout",
     "output_type": "stream",
     "text": [
      "passed!\n"
     ]
    }
   ],
   "source": [
    "class MyCalendarTwo:\n",
    "\n",
    "    def __init__(self):\n",
    "        self.intersection = []\n",
    "        self.events = []\n",
    "\n",
    "    def book(self, start: int, end: int) -> bool:\n",
    "        for s, e in self.intersection:\n",
    "            if max(s, start) < min(e, end):\n",
    "                return False\n",
    "        for s, e in self.events:\n",
    "            if max(s, start) < min(e, end):\n",
    "                si = max(s, start)\n",
    "                ei = min(e, end)\n",
    "                self.intersection.append((si, ei))\n",
    "        self.events.append((start, end))\n",
    "        return True\n",
    "\n",
    "obj = MyCalendarTwo()\n",
    "assert(obj.book(10, 20) == True)\n",
    "assert(obj.book(50, 60) == True)\n",
    "assert(obj.book(10, 40) == True)\n",
    "assert(obj.book(5, 15) == False)\n",
    "assert(obj.book(5, 10) == True)\n",
    "assert(obj.book(25, 55) == True)\n",
    "print('passed!')"
   ]
  },
  {
   "cell_type": "code",
   "execution_count": 4,
   "metadata": {},
   "outputs": [
    {
     "name": "stdout",
     "output_type": "stream",
     "text": [
      "passed!\n"
     ]
    }
   ],
   "source": [
    "### using tree map\n",
    "from sortedcontainers import SortedDict\n",
    "class MyCalendarTwo:\n",
    "\n",
    "    def __init__(self):\n",
    "        self.d = SortedDict()\n",
    "\n",
    "    def book(self, start: int, end: int) -> bool:\n",
    "        if start not in self.d:\n",
    "            self.d[start] = 1\n",
    "        else:\n",
    "            self.d[start] += 1\n",
    "        if end not in self.d:\n",
    "            self.d[end] = -1\n",
    "        else:\n",
    "            self.d[end] -= 1\n",
    "        \n",
    "        count = 0\n",
    "        for key, value in self.d.items():\n",
    "            count += value\n",
    "            if count > 2:\n",
    "                self.d[start] -= 1\n",
    "                if self.d[start] == 0:\n",
    "                    del self.d[start]\n",
    "                self.d[end] += 1\n",
    "                if self.d[end] == 0:\n",
    "                    del self.d[end]\n",
    "                return False\n",
    "        return True\n",
    "            \n",
    "obj = MyCalendarTwo()\n",
    "assert(obj.book(10, 20) == True)\n",
    "assert(obj.book(50, 60) == True)\n",
    "assert(obj.book(10, 40) == True)\n",
    "assert(obj.book(5, 15) == False)\n",
    "assert(obj.book(5, 10) == True)\n",
    "assert(obj.book(25, 55) == True)\n",
    "print('passed!')"
   ]
  },
  {
   "cell_type": "markdown",
   "metadata": {},
   "source": [
    "###  My Calendar III\n",
    "\n",
    "Implement a MyCalendarThree class to store your events. A new event can always be added.\n",
    "\n",
    "Your class will have one method, book(int start, int end). Formally, this represents a booking on the half open interval [start, end), the range of real numbers x such that start <= x < end.\n",
    "\n",
    "A K-booking happens when K events have some non-empty intersection (ie., there is some time that is common to all K events.)\n",
    "\n",
    "For each call to the method MyCalendar.book, return an integer K representing the largest integer such that there exists a K-booking in the calendar.\n",
    "\n",
    "Your class will be called like this: MyCalendarThree cal = new MyCalendarThree(); MyCalendarThree.book(start, end)"
   ]
  },
  {
   "cell_type": "code",
   "execution_count": 7,
   "metadata": {},
   "outputs": [
    {
     "name": "stdout",
     "output_type": "stream",
     "text": [
      "1\n",
      "2\n",
      "2\n"
     ]
    }
   ],
   "source": [
    "from sortedcontainers import SortedDict\n",
    "class MyCalendarThree:\n",
    "\n",
    "    def __init__(self):\n",
    "        self.d = SortedDict()\n",
    "\n",
    "    def book(self, start: int, end: int) -> bool:\n",
    "        if start not in self.d:\n",
    "            self.d[start] = 1\n",
    "        else:\n",
    "            self.d[start] += 1\n",
    "        if end not in self.d:\n",
    "            self.d[end] = -1\n",
    "        else:\n",
    "            self.d[end] -= 1\n",
    "        \n",
    "        count = 0; k = 0\n",
    "        for key, value in self.d.items():\n",
    "            count += value\n",
    "            k = max(k, count)\n",
    "        return k\n",
    "\n",
    "obj = MyCalendarThree()\n",
    "print(obj.book(10, 20))\n",
    "print(obj.book(15, 25))\n",
    "print(obj.book(20, 30))"
   ]
  },
  {
   "cell_type": "markdown",
   "metadata": {},
   "source": [
    "### Video Stitching\n",
    "You are given a series of video clips from a sporting event that lasted T seconds.  These video clips can be overlapping with each other and have varied lengths.\n",
    "\n",
    "Each video clip clips[i] is an interval: it starts at time clips[i][0] and ends at time clips[i][1].  We can cut these clips into segments freely: for example, a clip [0, 7] can be cut into segments [0, 1] + [1, 3] + [3, 7].\n",
    "\n",
    "Return the minimum number of clips needed so that we can cut the clips into segments that cover the entire sporting event ([0, T]).  If the task is impossible, return -1."
   ]
  },
  {
   "cell_type": "code",
   "execution_count": 4,
   "metadata": {},
   "outputs": [
    {
     "data": {
      "text/plain": [
       "3"
      ]
     },
     "execution_count": 4,
     "metadata": {},
     "output_type": "execute_result"
    }
   ],
   "source": [
    "def videoStitching(clips, T: int) -> int:\n",
    "    clips.sort(key=lambda x:(x[0],x[1]))\n",
    "    start = 0\n",
    "    max_end = 0\n",
    "    ans = 0\n",
    "\n",
    "    i = 0\n",
    "    while i<len(clips):\n",
    "        curr_end = 0\n",
    "        while i < len(clips) and clips[i][0] <= max_end:\n",
    "            curr_end = max(curr_end, clips[i][1])\n",
    "            i += 1\n",
    "        if curr_end == max_end:\n",
    "            return -1\n",
    "        max_end = curr_end\n",
    "        ans += 1\n",
    "        if max_end >= T:\n",
    "            return ans\n",
    "    return -1\n",
    "\n",
    "clips = [[0,2],[4,6],[8,10],[1,9],[1,5],[5,9]]; T = 10\n",
    "videoStitching(clips, T)"
   ]
  },
  {
   "cell_type": "markdown",
   "metadata": {},
   "source": [
    "### Minimum Number of Taps to Open to Water a Garden\n",
    "There is a one-dimensional garden on the x-axis. The garden starts at the point 0 and ends at the point n. (i.e The length of the garden is n).\n",
    "\n",
    "There are n + 1 taps located at points [0, 1, ..., n] in the garden.\n",
    "\n",
    "Given an integer n and an integer array ranges of length n + 1 where ranges[i] (0-indexed) means the i-th tap can water the area [i - ranges[i], i + ranges[i]] if it was open.\n",
    "\n",
    "Return the minimum number of taps that should be open to water the whole garden, If the garden cannot be watered return -1."
   ]
  },
  {
   "cell_type": "code",
   "execution_count": 9,
   "metadata": {},
   "outputs": [
    {
     "data": {
      "text/plain": [
       "3"
      ]
     },
     "execution_count": 9,
     "metadata": {},
     "output_type": "execute_result"
    }
   ],
   "source": [
    "def minTaps(n: int, ranges) -> int:\n",
    "    arr = []\n",
    "    for i in range(len(ranges)):\n",
    "        arr.append((i-ranges[i], i+ranges[i]))\n",
    "\n",
    "    arr.sort(key = lambda x:(x[0], x[1]))\n",
    "\n",
    "    start = 0\n",
    "    max_end = 0\n",
    "    ans = 0\n",
    "\n",
    "    i = 0\n",
    "    while i<len(arr):\n",
    "        curr_end = 0\n",
    "        while i < len(arr) and arr[i][0] <= max_end:\n",
    "            curr_end = max(curr_end, arr[i][1])\n",
    "            i += 1\n",
    "        if curr_end == max_end:\n",
    "            return -1\n",
    "        max_end = curr_end\n",
    "        ans += 1\n",
    "        if max_end >= n:\n",
    "            return ans\n",
    "    return -1\n",
    "\n",
    "n = 7; ranges = [1,2,1,0,2,1,0,1]\n",
    "minTaps(n, ranges)"
   ]
  },
  {
   "cell_type": "markdown",
   "metadata": {},
   "source": [
    "### Minimum Number of refuelling stops\n",
    "A car travels from a starting position to a destination which is target miles east of the starting position.\n",
    "\n",
    "Along the way, there are gas stations.  Each station[i] represents a gas station that is station[i][0] miles east of the starting position, and has station[i][1] liters of gas.\n",
    "\n",
    "The car starts with an infinite tank of gas, which initially has startFuel liters of fuel in it.  It uses 1 liter of gas per 1 mile that it drives.\n",
    "\n",
    "When the car reaches a gas station, it may stop and refuel, transferring all the gas from the station into the car.\n",
    "\n",
    "What is the least number of refueling stops the car must make in order to reach its destination?  If it cannot reach the destination, return -1.\n",
    "\n",
    "Note that if the car reaches a gas station with 0 fuel left, the car can still refuel there.  If the car reaches the destination with 0 fuel left, it is still considered to have arrived."
   ]
  },
  {
   "cell_type": "code",
   "execution_count": 5,
   "metadata": {},
   "outputs": [
    {
     "data": {
      "text/plain": [
       "2"
      ]
     },
     "execution_count": 5,
     "metadata": {},
     "output_type": "execute_result"
    }
   ],
   "source": [
    "from heapq import heappush, heappop\n",
    "def minRefuelStops(target: int, startFuel: int, stations) -> int:\n",
    "    if startFuel >= target: return 0\n",
    "    ans = 0\n",
    "    end = startFuel\n",
    "    i = 0; heap = []\n",
    "    while True:\n",
    "        while i < len(stations) and stations[i][0] <= end:\n",
    "            heappush(heap, -stations[i][1])\n",
    "            i += 1\n",
    "        if not heap: return -1\n",
    "        end += -heappop(heap)\n",
    "        ans += 1\n",
    "        if end >= target:\n",
    "            return ans\n",
    "\n",
    "target = 100; startFuel = 10; stations = [[10,60],[20,30],[30,30],[60,40]]\n",
    "minRefuelStops(target, startFuel, stations)"
   ]
  },
  {
   "cell_type": "markdown",
   "metadata": {},
   "source": [
    "### Gas Station\n",
    "There are N gas stations along a circular route, where the amount of gas at station i is gas[i].\n",
    "\n",
    "You have a car with an unlimited gas tank and it costs cost[i] of gas to travel from station i to its next station (i+1). You begin the journey with an empty tank at one of the gas stations.\n",
    "\n",
    "Return the starting gas station's index if you can travel around the circuit once in the clockwise direction, otherwise return -1."
   ]
  },
  {
   "cell_type": "code",
   "execution_count": 10,
   "metadata": {},
   "outputs": [
    {
     "data": {
      "text/plain": [
       "3"
      ]
     },
     "execution_count": 10,
     "metadata": {},
     "output_type": "execute_result"
    }
   ],
   "source": [
    "def canCompleteCircuit(gas, cost) -> int:\n",
    "    total_cost = 0\n",
    "    curr_cost = 0\n",
    "    start_index = 0\n",
    "    for i in range(len(gas)):\n",
    "        total_cost += gas[i] - cost[i]\n",
    "        curr_cost += gas[i] - cost[i]    \n",
    "        if curr_cost < 0:\n",
    "            start_index = i + 1\n",
    "            curr_cost = 0\n",
    "\n",
    "    return start_index if total_cost >= 0 else -1\n",
    "\n",
    "gas  = [1,2,3,4,5]\n",
    "cost = [3,4,5,1,2]\n",
    "canCompleteCircuit(gas, cost)"
   ]
  },
  {
   "cell_type": "markdown",
   "metadata": {},
   "source": [
    "### Maximum Length of Pair Chain\n",
    "You are given n pairs of numbers. In every pair, the first number is always smaller than the second number.\n",
    "\n",
    "Now, we define a pair (c, d) can follow another pair (a, b) if and only if b < c. Chain of pairs can be formed in this fashion.\n",
    "\n",
    "Given a set of pairs, find the length longest chain which can be formed. You needn't use up all the given pairs. You can select pairs in any order."
   ]
  },
  {
   "cell_type": "code",
   "execution_count": 5,
   "metadata": {},
   "outputs": [
    {
     "data": {
      "text/plain": [
       "2"
      ]
     },
     "execution_count": 5,
     "metadata": {},
     "output_type": "execute_result"
    }
   ],
   "source": [
    "def findLongestChain(pairs):\n",
    "    pairs.sort(key=lambda x:x[1])\n",
    "    s = pairs[0][0]\n",
    "    e = pairs[0][1]\n",
    "    length = 1\n",
    "    for pair in pairs[1:]:\n",
    "        if pair[0] > e:\n",
    "            s = pair[0]\n",
    "            e = pair[1]\n",
    "            length += 1\n",
    "    return length\n",
    "\n",
    "findLongestChain([[1,2], [2,3], [3,4]])"
   ]
  },
  {
   "cell_type": "markdown",
   "metadata": {},
   "source": [
    "### Add Bold Tag in String\n",
    "Given a string s and a list of strings dict, you need to add a closed pair of bold tag <b> and </b> to wrap the substrings in s that exist in dict. If two such substrings overlap, you need to wrap them together by only one pair of closed bold tag. Also, if two substrings wrapped by bold tags are consecutive, you need to combine them."
   ]
  },
  {
   "cell_type": "code",
   "execution_count": 5,
   "metadata": {},
   "outputs": [
    {
     "data": {
      "text/plain": [
       "'<b>aaabbc</b>c'"
      ]
     },
     "execution_count": 5,
     "metadata": {},
     "output_type": "execute_result"
    }
   ],
   "source": [
    "def addBoldTag(S: str, dict) -> str:\n",
    "    if not dict or not S: return S\n",
    "    arr = []\n",
    "    for string in dict:\n",
    "        index = 0\n",
    "        while True:\n",
    "            start = S.find(string, index)\n",
    "            if start == -1:\n",
    "                break\n",
    "            end = start + len(string)-1\n",
    "            arr.append((start, end))\n",
    "            index += 1\n",
    "\n",
    "    if not arr:\n",
    "        return S\n",
    "\n",
    "    arr.sort(key=lambda x:x[0])\n",
    "\n",
    "    intervals = []\n",
    "    start, end = arr[0][0], arr[0][1]\n",
    "    for s, e in arr[1:]:\n",
    "        if s <= end+1:\n",
    "            end = max(end, e)\n",
    "        else:\n",
    "            intervals.append((start, end))\n",
    "            start = s\n",
    "            end = e\n",
    "    intervals.append((start, end))\n",
    "\n",
    "    result = list(S)\n",
    "    for s, e in intervals:\n",
    "        result[s] = '<b>'+result[s]\n",
    "        result[e] = result[e] + '</b>'\n",
    "    return ''.join(result)\n",
    "\n",
    "s = \"aaabbcc\"\n",
    "dict = [\"aaa\",\"aab\",\"bc\"]\n",
    "addBoldTag(s, dict)"
   ]
  },
  {
   "cell_type": "markdown",
   "metadata": {},
   "source": [
    "### Teemo Attacking\n",
    "In LOL world, there is a hero called Teemo and his attacking can make his enemy Ashe be in poisoned condition. Now, given the Teemo's attacking ascending time series towards Ashe and the poisoning time duration per Teemo's attacking, you need to output the total time that Ashe is in poisoned condition.\n",
    "\n",
    "You may assume that Teemo attacks at the very beginning of a specific time point, and makes Ashe be in poisoned condition immediately."
   ]
  },
  {
   "cell_type": "code",
   "execution_count": 1,
   "metadata": {},
   "outputs": [
    {
     "data": {
      "text/plain": [
       "4"
      ]
     },
     "execution_count": 1,
     "metadata": {},
     "output_type": "execute_result"
    }
   ],
   "source": [
    "def findPoisonedDuration(timeSeries, duration):\n",
    "    if not timeSeries: return 0\n",
    "    ans = 0\n",
    "    start = timeSeries[0]; end = start + duration-1\n",
    "\n",
    "    for s in timeSeries[1:]:\n",
    "        e = s + duration -1\n",
    "        if s <= end:\n",
    "            end = max(end, e)\n",
    "        else:\n",
    "            ans += end - start + 1\n",
    "            start = s\n",
    "            end = e\n",
    "\n",
    "    ans += end - start + 1\n",
    "    return ans\n",
    "\n",
    "findPoisonedDuration([1,4], 2)"
   ]
  },
  {
   "cell_type": "markdown",
   "metadata": {},
   "source": [
    "### Remove Interval\n",
    "\n",
    "Given a sorted list of disjoint intervals, each interval intervals[i] = [a, b] represents the set of real numbers x such that a <= x < b.\n",
    "\n",
    "We remove the intersections between any interval in intervals and the interval toBeRemoved.\n",
    "\n",
    "Return a sorted list of intervals after all such removals."
   ]
  },
  {
   "cell_type": "code",
   "execution_count": 9,
   "metadata": {},
   "outputs": [
    {
     "data": {
      "text/plain": [
       "[[0, 1], [6, 7]]"
      ]
     },
     "execution_count": 9,
     "metadata": {},
     "output_type": "execute_result"
    }
   ],
   "source": [
    "class Solution:\n",
    "    def removeInterval(self, intervals, toBeRemoved):\n",
    "        ans = []; rem_start = toBeRemoved[0]; rem_end = toBeRemoved[1]\n",
    "        for start, end in intervals:\n",
    "            if start >= rem_end or rem_start >= end:\n",
    "                ans.append([start, end])\n",
    "            elif start <= rem_start and end <= rem_end:\n",
    "                ans.append([start, rem_start])\n",
    "            elif start >= rem_start and end >= rem_end:\n",
    "                ans.append([rem_end, end])\n",
    "            elif start <= rem_start and end >= rem_end:\n",
    "                ans.append([start, rem_start])\n",
    "                ans.append([rem_end, end])\n",
    "        return ans\n",
    "            \n",
    "    \n",
    "intervals = [[0,2],[3,4],[5,7]]; toBeRemoved = [1,6]       \n",
    "Solution().removeInterval(intervals, toBeRemoved)"
   ]
  },
  {
   "cell_type": "markdown",
   "metadata": {},
   "source": [
    "### Remove Covered Intervals\n",
    "\n",
    "Given a list of intervals, remove all intervals that are covered by another interval in the list. Interval [a,b) is covered by interval [c,d) if and only if c <= a and b <= d.\n",
    "\n",
    "After doing so, return the number of remaining intervals."
   ]
  },
  {
   "cell_type": "code",
   "execution_count": 3,
   "metadata": {},
   "outputs": [
    {
     "data": {
      "text/plain": [
       "2"
      ]
     },
     "execution_count": 3,
     "metadata": {},
     "output_type": "execute_result"
    }
   ],
   "source": [
    "def removeCoveredIntervals(intervals) -> int:\n",
    "    intervals.sort()\n",
    "    start = end = -1; res = 0\n",
    "    for s, e in intervals:\n",
    "        if s > start and e > end:\n",
    "            start = s\n",
    "            end = e\n",
    "            res += 1\n",
    "        else:\n",
    "            end = max(end, e)\n",
    "    return res\n",
    "\n",
    "removeCoveredIntervals(intervals = [[1,4],[3,6],[2,8]])"
   ]
  }
 ],
 "metadata": {
  "kernelspec": {
   "display_name": "Python 3",
   "language": "python",
   "name": "python3"
  },
  "language_info": {
   "codemirror_mode": {
    "name": "ipython",
    "version": 3
   },
   "file_extension": ".py",
   "mimetype": "text/x-python",
   "name": "python",
   "nbconvert_exporter": "python",
   "pygments_lexer": "ipython3",
   "version": "3.6.8"
  }
 },
 "nbformat": 4,
 "nbformat_minor": 2
}
