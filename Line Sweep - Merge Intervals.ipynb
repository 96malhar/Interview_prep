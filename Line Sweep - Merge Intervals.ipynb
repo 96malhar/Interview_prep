{
 "cells": [
  {
   "cell_type": "markdown",
   "metadata": {},
   "source": [
    "### Meeting Rooms\n",
    "Given a list of time intervals, find if any of them overlap. Each interval has a start time and a stop time.\n",
    "Intervals -> [5,7], [1,3], [6,9] -> Intervals [5,7] and [6,9] overlap, so we return true"
   ]
  },
  {
   "cell_type": "code",
   "execution_count": 37,
   "metadata": {},
   "outputs": [
    {
     "data": {
      "text/plain": [
       "False"
      ]
     },
     "execution_count": 37,
     "metadata": {},
     "output_type": "execute_result"
    }
   ],
   "source": [
    "def canAttendAll(intervals):\n",
    "    start, end = 0, 1\n",
    "    intervals.sort(key=lambda x:x[start])\n",
    "    for i in range(1, len(intervals)):\n",
    "        if intervals[i][start] < intervals[i-1][end]:\n",
    "            return False\n",
    "    return True\n",
    "\n",
    "# please note the comparison above, it is \"<\" and not \"<=\"\n",
    "      # while merging we needed \"<=\" comparison, as we will be merging the two\n",
    "      # intervals having condition \"intervals[i][start] == intervals[i - 1][end]\" but\n",
    "      # such intervals don't represent conflicting appointments as one starts right\n",
    "      # after the other\n",
    "\n",
    "intervals = [[1,3],[2,6],[8,10],[15,18]]\n",
    "# intervals = [[1,2], [2,3]]\n",
    "canAttendAll(intervals)"
   ]
  },
  {
   "cell_type": "markdown",
   "metadata": {},
   "source": [
    "### Merge Overlapping intervals"
   ]
  },
  {
   "cell_type": "code",
   "execution_count": 16,
   "metadata": {},
   "outputs": [
    {
     "data": {
      "text/plain": [
       "[[1, 6], [8, 10], [15, 18]]"
      ]
     },
     "execution_count": 16,
     "metadata": {},
     "output_type": "execute_result"
    }
   ],
   "source": [
    "def merge(intervals):\n",
    "    if len(intervals)<2:\n",
    "        return intervals\n",
    "    merged = []; start, end = 0, 1\n",
    "    intervals.sort(key = lambda x:x[start])\n",
    "    s = intervals[0][start]; e = intervals[0][end]\n",
    "    for interval in intervals[1:]:\n",
    "        if interval[start]<=e:\n",
    "            e = max(e, interval[end])\n",
    "        else:\n",
    "            merged.append([s,e])\n",
    "            s = interval[start]\n",
    "            e = interval[end]\n",
    "    merged.append([s, e])\n",
    "    return merged\n",
    "        \n",
    "intervals = [[1,3],[2,6],[8,10],[15,18]]\n",
    "merge(intervals)"
   ]
  },
  {
   "cell_type": "markdown",
   "metadata": {},
   "source": [
    "### Insert Intervals\n",
    "Given a set of non-overlapping intervals, insert a new interval into the intervals (merge if necessary).\n",
    "\n",
    "You may assume that the intervals were initially sorted according to their start times.\n",
    "\n",
    "* Input: intervals = [[1,2],[3,5],[6,7],[8,10],[12,16]], newInterval = [4,8]\n",
    "* Output: [[1,2],[3,10],[12,16]]\n",
    "* Explanation: Because the new interval [4,8] overlaps with [3,5],[6,7],[8,10]."
   ]
  },
  {
   "cell_type": "code",
   "execution_count": 11,
   "metadata": {},
   "outputs": [
    {
     "data": {
      "text/plain": [
       "[[1, 2], [3, 10], [12, 16]]"
      ]
     },
     "execution_count": 11,
     "metadata": {},
     "output_type": "execute_result"
    }
   ],
   "source": [
    "def insert(intervals, newInterval):\n",
    "    merged = []; i = 0\n",
    "    start, end = 0, 1\n",
    "    while i<len(intervals) and intervals[i][end]<newInterval[start]:\n",
    "        merged.append(intervals[i])\n",
    "        i += 1\n",
    "\n",
    "    while i<len(intervals) and intervals[i][start]<=newInterval[end]:\n",
    "        newInterval[start] = min(newInterval[start], intervals[i][start])\n",
    "        newInterval[end] = max(newInterval[end], intervals[i][end])\n",
    "        i += 1\n",
    "    merged.append(newInterval)\n",
    "\n",
    "    while i<len(intervals):\n",
    "        merged.append(intervals[i])\n",
    "        i += 1\n",
    "\n",
    "    return merged\n",
    "\n",
    "intervals = [[1,2],[3,5],[6,7],[8,10],[12,16]]\n",
    "newInterval = [4,8]\n",
    "insert(intervals, newInterval)"
   ]
  },
  {
   "cell_type": "markdown",
   "metadata": {},
   "source": [
    "### Interval Intersection\n",
    "Given two lists of intervals, find the intersection of these two lists. Each list consists of disjoint intervals sorted on their start time.\n",
    "* Input: A = [[0,2],[5,10],[13,23],[24,25]], B = [[1,5],[8,12],[15,24],[25,26]]\n",
    "* Output: [[1,2],[5,5],[8,10],[15,23],[24,24],[25,25]]\n",
    "* Reminder: The inputs and the desired output are lists of Interval objects, and not arrays or lists.\n",
    "\n",
    "Similar question: **1229. Meeting Scheduler**"
   ]
  },
  {
   "cell_type": "code",
   "execution_count": 20,
   "metadata": {},
   "outputs": [
    {
     "data": {
      "text/plain": [
       "[[1, 2], [5, 5], [8, 10], [15, 23], [24, 24], [25, 25]]"
      ]
     },
     "execution_count": 20,
     "metadata": {},
     "output_type": "execute_result"
    }
   ],
   "source": [
    "def intervalIntersection(A, B):\n",
    "    i = 0; j = 0; result = []; start, end = 0, 1\n",
    "    while i<len(A) and j<len(B):\n",
    "        overlaps =  A[i][start] <= B[j][end] and B[j][start] <= A[i][end]\n",
    "        if overlaps:\n",
    "            s = max(A[i][start], B[j][start])\n",
    "            e = min(A[i][end], B[j][end])\n",
    "            result.append([s, e])\n",
    "\n",
    "        if A[i][end] < B[j][end]:\n",
    "            i += 1\n",
    "        else:\n",
    "            j += 1\n",
    "\n",
    "    return result\n",
    "\n",
    "A = [[0,2],[5,10],[13,23],[24,25]]; B = [[1,5],[8,12],[15,24],[25,26]]\n",
    "intervalIntersection(A,B)"
   ]
  },
  {
   "cell_type": "markdown",
   "metadata": {},
   "source": [
    "### Merge two list of Intervals\n",
    "Given A and B two interval lists, A has no overlap inside A and B has no overlap inside B. Write the function to merge two interval lists, output the result with no overlap. Ask for a very efficient solution\n",
    "\n",
    "A naive method can combine the two list, and sort and apply merge interval in the leetcode, but is not efficient enough.\n",
    "\n",
    "For example,\n",
    "* A: [1,5], [10,14], [16,18]\n",
    "* B: [2,6], [8,10], [11,20]\n",
    "\n",
    "output [1,6], [8, 20]"
   ]
  },
  {
   "cell_type": "code",
   "execution_count": 4,
   "metadata": {},
   "outputs": [
    {
     "data": {
      "text/plain": [
       "[[1, 6], [8, 20]]"
      ]
     },
     "execution_count": 4,
     "metadata": {},
     "output_type": "execute_result"
    }
   ],
   "source": [
    "def merge_intervals(a, b):\n",
    "    start = 0; end = 1; i = 0; j = 0; ans = []\n",
    "    if a[i][start] <= b[i][start]:\n",
    "        s, e = a[i]\n",
    "        i += 1\n",
    "    else:\n",
    "        s, e = b[j]\n",
    "        j += 1\n",
    "        \n",
    "    while i<len(a) and j<len(b):\n",
    "        if a[i][start]<=e:\n",
    "            e = max(e, a[i][end])\n",
    "            i += 1\n",
    "        elif b[j][start] <= e:\n",
    "            e = max(e, b[j][end])\n",
    "            j += 1\n",
    "        else:\n",
    "            ans.append([s,e])\n",
    "            if a[i][start] <= b[i][start]:\n",
    "                s, e = a[i]\n",
    "                i += 1\n",
    "            else:\n",
    "                s, e = b[j]\n",
    "                j += 1\n",
    "    \n",
    "    while i<len(a):\n",
    "        if a[i][start]<=e:\n",
    "            e = max(e, a[i][end])\n",
    "        else:\n",
    "            ans.append([s,e])\n",
    "            s, e = a[i]\n",
    "        i += 1\n",
    "    \n",
    "    while j<len(b):\n",
    "        if b[j][start]<=e:\n",
    "            e = max(e, b[j][end])\n",
    "        else:\n",
    "            ans.append([s,e])\n",
    "            s, e = b[j]\n",
    "        j += 1\n",
    "    \n",
    "    ans.append([s,e])\n",
    "    return ans\n",
    "    \n",
    "A = [1,5], [10,14], [16,18]\n",
    "B = [2,6], [8,10], [11,20]  \n",
    "merge_intervals(A, B)"
   ]
  },
  {
   "cell_type": "markdown",
   "metadata": {},
   "source": [
    "### Minimum Meeting Rooms\n",
    "Given an array of meeting time intervals consisting of start and end times [[s1,e1],[s2,e2],...] (si < ei), find the minimum number of conference rooms required.\n",
    "* Meetings: [[1,4], [2,5], [7,9]]\n",
    "* Output: 2"
   ]
  },
  {
   "cell_type": "code",
   "execution_count": 77,
   "metadata": {},
   "outputs": [
    {
     "data": {
      "text/plain": [
       "2"
      ]
     },
     "execution_count": 77,
     "metadata": {},
     "output_type": "execute_result"
    }
   ],
   "source": [
    "def minMeetingRooms(intervals):\n",
    "    from heapq import heappush, heappop\n",
    "    heap = []; min_rooms = 0; start = 0; end = 1\n",
    "    intervals.sort(key=lambda x:x[start])\n",
    "    for interval in intervals:\n",
    "        while len(heap) and interval[start]>=heap[0]:\n",
    "            heappop(heap)\n",
    "        heappush(heap, interval[end])\n",
    "        min_rooms = max(min_rooms, len(heap))\n",
    "    return min_rooms\n",
    "\n",
    "meetings = [[0, 30],[5, 10],[15, 20]]\n",
    "minMeetingRooms(meetings)"
   ]
  },
  {
   "cell_type": "markdown",
   "metadata": {},
   "source": [
    "### Maximum CPU Load (hard)\n",
    "We are given a list of Jobs. Each job has a Start time, an End time, and a CPU load when it is running. Our goal is to find the maximum CPU load at any time if all the jobs are running on the same machine.\n",
    "* Jobs: [[1,4,3], [2,5,4], [7,9,6]]\n",
    "* Output: 7\n",
    "* Explanation: Since [1,4,3] and [2,5,4] overlap, their maximum CPU load (3+4=7) will be when both the  jobs are running at the same time i.e., during the time interval (2,4)."
   ]
  },
  {
   "cell_type": "code",
   "execution_count": 88,
   "metadata": {},
   "outputs": [
    {
     "data": {
      "text/plain": [
       "7"
      ]
     },
     "execution_count": 88,
     "metadata": {},
     "output_type": "execute_result"
    }
   ],
   "source": [
    "def maxCPULoad(jobs):\n",
    "    from heapq import heappush, heappop\n",
    "    heap = []; max_load = 0; curr_load = 0; \n",
    "    jobs.sort(key=lambda x:x[0])\n",
    "    for job in jobs:\n",
    "        while len(heap) and job[0]>=heap[0][0]:\n",
    "            curr_load -= heappop(heap)[1]\n",
    "        heappush(heap, (job[1], job[2]))\n",
    "        curr_load += job[2]\n",
    "        max_load = max(max_load, curr_load)\n",
    "    return max_load\n",
    "\n",
    "jobs = [[1,4,3], [2,5,4], [7,9,6]] #7\n",
    "# jobs = [[6,7,10], [2,4,11], [8,12,15]] #15\n",
    "# jobs = [[1,4,2], [2,4,1], [3,6,5]] #8\n",
    "\n",
    "maxCPULoad(jobs)"
   ]
  },
  {
   "cell_type": "markdown",
   "metadata": {},
   "source": [
    "### Employee Free Time\n",
    "We are given a list schedule of employees, which represents the working time for each employee.\n",
    "\n",
    "Each employee has a list of non-overlapping Intervals, and these intervals are in sorted order.\n",
    "\n",
    "Return the list of finite intervals representing common, positive-length free time for all employees, also in sorted order.\n",
    "\n",
    "Example 1:\n",
    "\n",
    "* Input: schedule = [[[1,2],[5,6]],[[1,3]],[[4,10]]]\n",
    "* Output: [[3,4]]\n",
    "\n",
    "Explanation:\n",
    "* There are a total of three employees, and all common free time intervals would be [-inf, 1], [3, 4], [10, inf]. We discard any intervals that contain inf as they aren't finite."
   ]
  },
  {
   "cell_type": "code",
   "execution_count": 8,
   "metadata": {},
   "outputs": [
    {
     "data": {
      "text/plain": [
       "[[5, 6], [7, 9]]"
      ]
     },
     "execution_count": 8,
     "metadata": {},
     "output_type": "execute_result"
    }
   ],
   "source": [
    "def employeeFreeTime(schedule):\n",
    "    intervals = []; start = 0; end = 1; ans = []\n",
    "    for emp_schedule in schedule:\n",
    "        for interval in emp_schedule:\n",
    "            intervals.append(interval)\n",
    "    intervals.sort(key = lambda x:x[start])\n",
    "    s = intervals[0][start]; e = intervals[0][end]\n",
    "    for interval in intervals[1:]:\n",
    "        if interval[start] <= e:\n",
    "            e = max(e, interval[end])\n",
    "        else:\n",
    "            ans.append([e, interval[start]])\n",
    "            s = interval[start]\n",
    "            e = interval[end]\n",
    "    return ans\n",
    "\n",
    "schedule = [[[1,2],[5,6]],[[1,3]],[[4,10]]]\n",
    "schedule = [[[1,3],[6,7]],[[2,4]],[[2,5],[9,12]]]\n",
    "employeeFreeTime(schedule)"
   ]
  },
  {
   "cell_type": "markdown",
   "metadata": {},
   "source": [
    "### Two city Scheduling\n",
    "There are 2N people a company is planning to interview. The cost of flying the i-th person to city A is costs[i][0], and the cost of flying the i-th person to city B is costs[i][1].\n",
    "\n",
    "Return the minimum cost to fly every person to a city such that exactly N people arrive in each city.\n",
    "\n",
    " \n",
    "\n",
    "Example 1:\n",
    "\n",
    "* Input: [[10,20],[30,200],[400,50],[30,20]]\n",
    "* Output: 110\n",
    "* Explanation: \n",
    "* The first person goes to city A for a cost of 10.\n",
    "* The second person goes to city A for a cost of 30.\n",
    "* The third person goes to city B for a cost of 50.\n",
    "* The fourth person goes to city B for a cost of 20.\n",
    "\n",
    "The total minimum cost is 10 + 30 + 50 + 20 = 110 to have half the people interviewing in each city."
   ]
  },
  {
   "cell_type": "code",
   "execution_count": 6,
   "metadata": {},
   "outputs": [
    {
     "data": {
      "text/plain": [
       "110"
      ]
     },
     "execution_count": 6,
     "metadata": {},
     "output_type": "execute_result"
    }
   ],
   "source": [
    "def twoCitySchedCost(costs):\n",
    "    costs.sort(key=lambda x:x[1]-x[0], reverse = True); cost = 0; n = len(costs)//2; count = 0; i =0\n",
    "    while i<n:\n",
    "        cost += costs[i][0]\n",
    "        i += 1\n",
    "\n",
    "    while i<len(costs):\n",
    "        cost += costs[i][1]\n",
    "        i += 1\n",
    "    return cost\n",
    "\n",
    "costs = [[10,20],[30,200],[400,50],[30,20]]\n",
    "twoCitySchedCost(costs)"
   ]
  },
  {
   "cell_type": "markdown",
   "metadata": {},
   "source": [
    "###  Non-overlapping Intervals\n",
    "Given a collection of intervals, find the minimum number of intervals you need to remove to make the rest of the intervals non-overlapping.\n",
    "* Input: [[1,2],[2,3],[3,4],[1,3]]\n",
    "* Output: 1\n",
    "* Explanation: [1,3] can be removed and the rest of intervals are non-overlapping.\n",
    "\n",
    "Similar problem: **Minimum Number of Arrows to Burst Balloons**"
   ]
  },
  {
   "cell_type": "code",
   "execution_count": 5,
   "metadata": {},
   "outputs": [
    {
     "data": {
      "text/plain": [
       "1"
      ]
     },
     "execution_count": 5,
     "metadata": {},
     "output_type": "execute_result"
    }
   ],
   "source": [
    "def eraseOverlapIntervals(intervals):\n",
    "    if not intervals: return 0\n",
    "    start=0; end=1\n",
    "    intervals.sort(key=lambda x:x[end])\n",
    "    e = intervals[0][end]; count = 1\n",
    "    for interval in intervals:\n",
    "        if interval[start] >= e:\n",
    "            count += 1\n",
    "            e = interval[end]\n",
    "    return len(intervals) - count\n",
    "\n",
    "intervals = [[1,2],[2,3],[3,4],[1,3]]\n",
    "eraseOverlapIntervals(intervals)"
   ]
  },
  {
   "cell_type": "markdown",
   "metadata": {},
   "source": [
    "### My Calendar I\n",
    "Implement a MyCalendar class to store your events. A new event can be added if adding the event will not cause a double booking.\n",
    "\n",
    "Your class will have the method, book(int start, int end). Formally, this represents a booking on the half open interval [start, end), the range of real numbers x such that start <= x < end.\n",
    "\n",
    "A double booking happens when two events have some non-empty intersection (ie., there is some time that is common to both events.)\n",
    "\n",
    "For each call to the method MyCalendar.book, return true if the event can be added to the calendar successfully without causing a double booking. Otherwise, return false and do not add the event to the calendar.\n",
    "\n",
    "Your class will be called like this: MyCalendar cal = new MyCalendar(); MyCalendar.book(start, end)"
   ]
  },
  {
   "cell_type": "code",
   "execution_count": 4,
   "metadata": {},
   "outputs": [],
   "source": [
    "class MyCalendar:\n",
    "\n",
    "    def __init__(self):\n",
    "        self.root = None   \n",
    "\n",
    "    def book(self, start: int, end: int) -> bool:\n",
    "        if self.root is None:\n",
    "            self.root = Node(start, end)\n",
    "            return True\n",
    "        return self.insert(self.root, start , end)\n",
    "    \n",
    "    def insert(self, node, start, end):\n",
    "        parent = None\n",
    "        while node:\n",
    "            parent = node\n",
    "            if parent.start < end and start < parent.end:\n",
    "                return False\n",
    "            node = node.right if start >= node.end else node.left\n",
    "        if start >= parent.end:\n",
    "            parent.right = Node(start, end)\n",
    "        else:\n",
    "            parent.left = Node(start, end)\n",
    "        return True\n",
    "    \n",
    "class Node:\n",
    "    def __init__(self, start, end):\n",
    "        self.start = start\n",
    "        self.end = end\n",
    "        self.left = None\n",
    "        self.right = None"
   ]
  },
  {
   "cell_type": "code",
   "execution_count": 16,
   "metadata": {},
   "outputs": [
    {
     "name": "stdout",
     "output_type": "stream",
     "text": [
      "True\n",
      "False\n",
      "True\n"
     ]
    }
   ],
   "source": [
    "obj = MyCalendar()\n",
    "print(obj.book(10, 20))\n",
    "print(obj.book(15, 25))\n",
    "print(obj.book(20, 30))"
   ]
  }
 ],
 "metadata": {
  "kernelspec": {
   "display_name": "Python 3",
   "language": "python",
   "name": "python3"
  },
  "language_info": {
   "codemirror_mode": {
    "name": "ipython",
    "version": 3
   },
   "file_extension": ".py",
   "mimetype": "text/x-python",
   "name": "python",
   "nbconvert_exporter": "python",
   "pygments_lexer": "ipython3",
   "version": "3.6.8"
  }
 },
 "nbformat": 4,
 "nbformat_minor": 2
}
