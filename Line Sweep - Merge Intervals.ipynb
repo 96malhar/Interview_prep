{
 "cells": [
  {
   "cell_type": "markdown",
   "metadata": {},
   "source": [
    "### Find if Intervals overlap\n",
    "Given a list of time intervals, find if any of them overlap. Each interval has a start time and a stop time.\n",
    "Intervals -> [5,7], [1,3], [6,9] -> Intervals [5,7] and [6,9] overlap, so we return true"
   ]
  },
  {
   "cell_type": "code",
   "execution_count": 16,
   "metadata": {},
   "outputs": [
    {
     "data": {
      "text/plain": [
       "True"
      ]
     },
     "execution_count": 16,
     "metadata": {},
     "output_type": "execute_result"
    }
   ],
   "source": [
    "class point:\n",
    "    def __init__(self, time, is_start):\n",
    "        self.time = time\n",
    "        self.is_start = is_start\n",
    "        \n",
    "def hasOverlap(intervals):\n",
    "    arr_points = []\n",
    "    for x,y in intervals:\n",
    "        arr_points.append(point(x,True))\n",
    "        arr_points.append(point(y,False))\n",
    "    \n",
    "    arr_points.sort(key=lambda x:x.time)\n",
    "    count = 0\n",
    "    for point_ in arr_points:\n",
    "        if point_.is_start: count += 1\n",
    "        else: count -= 1\n",
    "        if count > 1:\n",
    "            return True\n",
    "    return False\n",
    "    \n",
    "\n",
    "intervals = [[1,3],[2,6],[8,10],[15,18]]\n",
    "hasOverlap(intervals)"
   ]
  },
  {
   "cell_type": "markdown",
   "metadata": {},
   "source": [
    "### Merge Overlapping intervals"
   ]
  },
  {
   "cell_type": "code",
   "execution_count": 39,
   "metadata": {},
   "outputs": [
    {
     "data": {
      "text/plain": [
       "[[1, 6], [8, 10], [15, 18]]"
      ]
     },
     "execution_count": 39,
     "metadata": {},
     "output_type": "execute_result"
    }
   ],
   "source": [
    "def merge(intervals):\n",
    "    if len(intervals)<2:\n",
    "        return intervals\n",
    "    merged = []\n",
    "    intervals.sort(key = lambda x:x[0])\n",
    "    start = intervals[0][0]; end = intervals[0][1]\n",
    "    for interval in intervals[1:]:\n",
    "        if interval[0]<=end:\n",
    "            end = max(end, interval[1])\n",
    "        else:\n",
    "            merged.append([start,end])\n",
    "            start = interval[0]\n",
    "            end = interval[1]\n",
    "    merged.append([start, end])\n",
    "    return merged\n",
    "        \n",
    "intervals = [[1,3],[2,6],[8,10],[15,18]]\n",
    "merge(intervals)"
   ]
  },
  {
   "cell_type": "markdown",
   "metadata": {},
   "source": [
    "### Insert Intervals\n",
    "Given a set of non-overlapping intervals, insert a new interval into the intervals (merge if necessary).\n",
    "\n",
    "You may assume that the intervals were initially sorted according to their start times.\n",
    "\n",
    "* Input: intervals = [[1,2],[3,5],[6,7],[8,10],[12,16]], newInterval = [4,8]\n",
    "* Output: [[1,2],[3,10],[12,16]]\n",
    "* Explanation: Because the new interval [4,8] overlaps with [3,5],[6,7],[8,10]."
   ]
  },
  {
   "cell_type": "code",
   "execution_count": 41,
   "metadata": {},
   "outputs": [
    {
     "data": {
      "text/plain": [
       "[[1, 2], [3, 10], [12, 16]]"
      ]
     },
     "execution_count": 41,
     "metadata": {},
     "output_type": "execute_result"
    }
   ],
   "source": [
    "def insert(intervals, newInterval):\n",
    "    merged = []; i = 0\n",
    "    while i<len(intervals) and intervals[i][1]<newInterval[0]:\n",
    "        merged.append(intervals[i])\n",
    "        i += 1\n",
    "\n",
    "    while i<len(intervals) and intervals[i][0]<=newInterval[1]:\n",
    "        newInterval[0] = min(newInterval[0], intervals[i][0])\n",
    "        newInterval[1] = max(newInterval[1], intervals[i][1])\n",
    "        i += 1\n",
    "    merged.append(newInterval)\n",
    "\n",
    "    while i<len(intervals):\n",
    "        merged.append(intervals[i])\n",
    "        i += 1\n",
    "\n",
    "    return merged\n",
    "\n",
    "intervals = [[1,2],[3,5],[6,7],[8,10],[12,16]]\n",
    "newInterval = [4,8]\n",
    "insert(intervals, newInterval)"
   ]
  }
 ],
 "metadata": {
  "kernelspec": {
   "display_name": "Python 3",
   "language": "python",
   "name": "python3"
  },
  "language_info": {
   "codemirror_mode": {
    "name": "ipython",
    "version": 3
   },
   "file_extension": ".py",
   "mimetype": "text/x-python",
   "name": "python",
   "nbconvert_exporter": "python",
   "pygments_lexer": "ipython3",
   "version": "3.6.8"
  }
 },
 "nbformat": 4,
 "nbformat_minor": 2
}
