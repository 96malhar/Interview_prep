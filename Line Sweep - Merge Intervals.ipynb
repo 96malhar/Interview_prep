{
 "cells": [
  {
   "cell_type": "markdown",
   "metadata": {},
   "source": [
    "### Meeting Rooms\n",
    "Given a list of time intervals, find if any of them overlap. Each interval has a start time and a stop time.\n",
    "Intervals -> [5,7], [1,3], [6,9] -> Intervals [5,7] and [6,9] overlap, so we return true"
   ]
  },
  {
   "cell_type": "code",
   "execution_count": 37,
   "metadata": {},
   "outputs": [
    {
     "data": {
      "text/plain": [
       "False"
      ]
     },
     "execution_count": 37,
     "metadata": {},
     "output_type": "execute_result"
    }
   ],
   "source": [
    "def canAttendAll(intervals):\n",
    "    start, end = 0, 1\n",
    "    intervals.sort(key=lambda x:x[start])\n",
    "    for i in range(1, len(intervals)):\n",
    "        if intervals[i][start] < intervals[i-1][end]:\n",
    "            return False\n",
    "    return True\n",
    "\n",
    "# please note the comparison above, it is \"<\" and not \"<=\"\n",
    "      # while merging we needed \"<=\" comparison, as we will be merging the two\n",
    "      # intervals having condition \"intervals[i][start] == intervals[i - 1][end]\" but\n",
    "      # such intervals don't represent conflicting appointments as one starts right\n",
    "      # after the other\n",
    "\n",
    "intervals = [[1,3],[2,6],[8,10],[15,18]]\n",
    "# intervals = [[1,2], [2,3]]\n",
    "canAttendAll(intervals)"
   ]
  },
  {
   "cell_type": "markdown",
   "metadata": {},
   "source": [
    "### Merge Overlapping intervals"
   ]
  },
  {
   "cell_type": "code",
   "execution_count": 16,
   "metadata": {},
   "outputs": [
    {
     "data": {
      "text/plain": [
       "[[1, 6], [8, 10], [15, 18]]"
      ]
     },
     "execution_count": 16,
     "metadata": {},
     "output_type": "execute_result"
    }
   ],
   "source": [
    "def merge(intervals):\n",
    "    if len(intervals)<2:\n",
    "        return intervals\n",
    "    merged = []; start, end = 0, 1\n",
    "    intervals.sort(key = lambda x:x[start])\n",
    "    s = intervals[0][start]; e = intervals[0][end]\n",
    "    for interval in intervals[1:]:\n",
    "        if interval[start]<=e:\n",
    "            e = max(e, interval[end])\n",
    "        else:\n",
    "            merged.append([s,e])\n",
    "            s = interval[start]\n",
    "            e = interval[end]\n",
    "    merged.append([s, e])\n",
    "    return merged\n",
    "        \n",
    "intervals = [[1,3],[2,6],[8,10],[15,18]]\n",
    "merge(intervals)"
   ]
  },
  {
   "cell_type": "markdown",
   "metadata": {},
   "source": [
    "### Insert Intervals\n",
    "Given a set of non-overlapping intervals, insert a new interval into the intervals (merge if necessary).\n",
    "\n",
    "You may assume that the intervals were initially sorted according to their start times.\n",
    "\n",
    "* Input: intervals = [[1,2],[3,5],[6,7],[8,10],[12,16]], newInterval = [4,8]\n",
    "* Output: [[1,2],[3,10],[12,16]]\n",
    "* Explanation: Because the new interval [4,8] overlaps with [3,5],[6,7],[8,10]."
   ]
  },
  {
   "cell_type": "code",
   "execution_count": 11,
   "metadata": {},
   "outputs": [
    {
     "data": {
      "text/plain": [
       "[[1, 2], [3, 10], [12, 16]]"
      ]
     },
     "execution_count": 11,
     "metadata": {},
     "output_type": "execute_result"
    }
   ],
   "source": [
    "def insert(intervals, newInterval):\n",
    "    merged = []; i = 0\n",
    "    start, end = 0, 1\n",
    "    while i<len(intervals) and intervals[i][end]<newInterval[start]:\n",
    "        merged.append(intervals[i])\n",
    "        i += 1\n",
    "\n",
    "    while i<len(intervals) and intervals[i][start]<=newInterval[end]:\n",
    "        newInterval[start] = min(newInterval[start], intervals[i][start])\n",
    "        newInterval[end] = max(newInterval[end], intervals[i][end])\n",
    "        i += 1\n",
    "    merged.append(newInterval)\n",
    "\n",
    "    while i<len(intervals):\n",
    "        merged.append(intervals[i])\n",
    "        i += 1\n",
    "\n",
    "    return merged\n",
    "\n",
    "intervals = [[1,2],[3,5],[6,7],[8,10],[12,16]]\n",
    "newInterval = [4,8]\n",
    "insert(intervals, newInterval)"
   ]
  },
  {
   "cell_type": "markdown",
   "metadata": {},
   "source": [
    "### Interval Intersection\n",
    "Given two lists of intervals, find the intersection of these two lists. Each list consists of disjoint intervals sorted on their start time.\n",
    "* Input: A = [[0,2],[5,10],[13,23],[24,25]], B = [[1,5],[8,12],[15,24],[25,26]]\n",
    "* Output: [[1,2],[5,5],[8,10],[15,23],[24,24],[25,25]]\n",
    "* Reminder: The inputs and the desired output are lists of Interval objects, and not arrays or lists."
   ]
  },
  {
   "cell_type": "code",
   "execution_count": 19,
   "metadata": {},
   "outputs": [
    {
     "data": {
      "text/plain": [
       "[[1, 2], [5, 5], [8, 10], [15, 23], [24, 24], [25, 25]]"
      ]
     },
     "execution_count": 19,
     "metadata": {},
     "output_type": "execute_result"
    }
   ],
   "source": [
    "def intervalIntersection(A, B):\n",
    "    i = 0; j = 0; result = []; start, end = 0, 1\n",
    "    while i<len(A) and j<len(B):\n",
    "        a_overlaps_b = A[i][start] <= B[j][start] and B[j][start] <= A[i][end]\n",
    "        b_overlaps_a = B[j][start] <= A[i][start] and A[i][start] <= B[j][end]\n",
    "\n",
    "        if a_overlaps_b or b_overlaps_a:\n",
    "            s = max(A[i][0], B[j][0])\n",
    "            e = min(A[i][1], B[j][1])\n",
    "            result.append([s, e])\n",
    "\n",
    "        if A[i][end] < B[j][end]:\n",
    "            i += 1\n",
    "        else:\n",
    "            j += 1\n",
    "\n",
    "    return result\n",
    "\n",
    "A = [[0,2],[5,10],[13,23],[24,25]]; B = [[1,5],[8,12],[15,24],[25,26]]\n",
    "intervalIntersection(A,B)"
   ]
  },
  {
   "cell_type": "markdown",
   "metadata": {},
   "source": [
    "### Minimum Meeting Rooms\n",
    "Given an array of meeting time intervals consisting of start and end times [[s1,e1],[s2,e2],...] (si < ei), find the minimum number of conference rooms required.\n",
    "* Meetings: [[1,4], [2,5], [7,9]]\n",
    "* Output: 2"
   ]
  },
  {
   "cell_type": "code",
   "execution_count": 77,
   "metadata": {},
   "outputs": [
    {
     "data": {
      "text/plain": [
       "2"
      ]
     },
     "execution_count": 77,
     "metadata": {},
     "output_type": "execute_result"
    }
   ],
   "source": [
    "def minMeetingRooms(intervals):\n",
    "    from heapq import heappush, heappop\n",
    "    heap = []; min_rooms = 0; start = 0; end = 1\n",
    "    intervals.sort(key=lambda x:x[start])\n",
    "    for interval in intervals:\n",
    "        while len(heap) and interval[start]>=heap[0]:\n",
    "            heappop(heap)\n",
    "        heappush(heap, interval[end])\n",
    "        min_rooms = max(min_rooms, len(heap))\n",
    "    return min_rooms\n",
    "\n",
    "meetings = [[0, 30],[5, 10],[15, 20]]\n",
    "minMeetingRooms(meetings)"
   ]
  },
  {
   "cell_type": "markdown",
   "metadata": {},
   "source": [
    "### Maximum CPU Load (hard)\n",
    "We are given a list of Jobs. Each job has a Start time, an End time, and a CPU load when it is running. Our goal is to find the maximum CPU load at any time if all the jobs are running on the same machine.\n",
    "* Jobs: [[1,4,3], [2,5,4], [7,9,6]]\n",
    "* Output: 7\n",
    "* Explanation: Since [1,4,3] and [2,5,4] overlap, their maximum CPU load (3+4=7) will be when both the  jobs are running at the same time i.e., during the time interval (2,4)."
   ]
  },
  {
   "cell_type": "code",
   "execution_count": 87,
   "metadata": {},
   "outputs": [
    {
     "data": {
      "text/plain": [
       "7"
      ]
     },
     "execution_count": 87,
     "metadata": {},
     "output_type": "execute_result"
    }
   ],
   "source": [
    "def maxCPULoad(jobs):\n",
    "    from heapq import heappush, heappop\n",
    "    heap = []; max_load = 0; curr_load = 0; \n",
    "    jobs.sort(key=lambda x:x[0])\n",
    "    for job in jobs:\n",
    "        while len(heap) and job[0]>=heap[0][0]:\n",
    "            curr_load -= heappop(heap)[1]\n",
    "        heappush(heap, (job[1], job[2]))\n",
    "        curr_load += job[2]\n",
    "        max_load = max(max_load, curr_load)\n",
    "    return max_load\n",
    "\n",
    "jobs = [[1,4,3], [2,5,4], [7,9,6]] #7\n",
    "# jobs = [[6,7,10], [2,4,11], [8,12,15]] #15\n",
    "# jobs = [[1,4,2], [2,4,1], [3,6,5]] #8\n",
    "\n",
    "maxCPULoad(jobs)"
   ]
  }
 ],
 "metadata": {
  "kernelspec": {
   "display_name": "Python 3",
   "language": "python",
   "name": "python3"
  },
  "language_info": {
   "codemirror_mode": {
    "name": "ipython",
    "version": 3
   },
   "file_extension": ".py",
   "mimetype": "text/x-python",
   "name": "python",
   "nbconvert_exporter": "python",
   "pygments_lexer": "ipython3",
   "version": "3.6.8"
  }
 },
 "nbformat": 4,
 "nbformat_minor": 2
}
