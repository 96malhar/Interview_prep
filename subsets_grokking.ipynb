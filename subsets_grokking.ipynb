{
 "cells": [
  {
   "cell_type": "markdown",
   "metadata": {},
   "source": [
    "### Subsets\n",
    "Given a set of distinct integers, nums, return all possible subsets (the power set).\n",
    "\n",
    "Note: The solution set must not contain duplicate subsets."
   ]
  },
  {
   "cell_type": "code",
   "execution_count": 4,
   "metadata": {},
   "outputs": [
    {
     "data": {
      "text/plain": [
       "[[], [1], [2], [1, 2], [3], [1, 3], [2, 3], [1, 2, 3]]"
      ]
     },
     "execution_count": 4,
     "metadata": {},
     "output_type": "execute_result"
    }
   ],
   "source": [
    "def subsets(nums):\n",
    "    subsets = []\n",
    "    subsets.append([])\n",
    "    for num in nums:\n",
    "        size = len(subsets)\n",
    "        for i in range(size):\n",
    "            set = subsets[i][:]\n",
    "            set.append(num)\n",
    "            subsets.append(set)\n",
    "    return subsets\n",
    "\n",
    "nums = [1,2,3]\n",
    "subsets(nums)"
   ]
  },
  {
   "cell_type": "markdown",
   "metadata": {},
   "source": [
    "### Subsets with Duplicates"
   ]
  },
  {
   "cell_type": "code",
   "execution_count": 7,
   "metadata": {},
   "outputs": [
    {
     "data": {
      "text/plain": [
       "[[], [1], [3], [1, 3], [3, 3], [1, 3, 3]]"
      ]
     },
     "execution_count": 7,
     "metadata": {},
     "output_type": "execute_result"
    }
   ],
   "source": [
    "def subsetsWithDup(nums):\n",
    "    subsets = [[]]; nums.sort()\n",
    "    for i in range(len(nums)):\n",
    "        startIndex = 0\n",
    "        if i>0 and nums[i] == nums[i-1]:\n",
    "            startIndex = size\n",
    "        size = len(subsets)\n",
    "        for j in range(startIndex, size):\n",
    "            set = subsets[j][:]\n",
    "            set.append(nums[i])\n",
    "            subsets.append(set)\n",
    "    return subsetsWithDup\n",
    "\n",
    "nums = [3,3,1]\n",
    "subsetsWithDup(nums)"
   ]
  },
  {
   "cell_type": "markdown",
   "metadata": {},
   "source": [
    "### Permutation without duplicate\n"
   ]
  },
  {
   "cell_type": "code",
   "execution_count": 9,
   "metadata": {},
   "outputs": [
    {
     "data": {
      "text/plain": [
       "[[3, 2, 1], [2, 3, 1], [2, 1, 3], [3, 1, 2], [1, 3, 2], [1, 2, 3]]"
      ]
     },
     "execution_count": 9,
     "metadata": {},
     "output_type": "execute_result"
    }
   ],
   "source": [
    "def permute(nums):\n",
    "    ans = []\n",
    "    permutations = [[]]\n",
    "    for num in nums:\n",
    "        size = len(permutations)\n",
    "        for i in range(size):\n",
    "            old_perm = permutations.pop(0)\n",
    "            for j in range(len(old_perm)+1):\n",
    "                new_perm = old_perm[:]\n",
    "                new_perm.insert(j, num)\n",
    "                if len(new_perm) == len(nums):\n",
    "                    ans.append(new_perm[:])\n",
    "                else:\n",
    "                    permutations.append(new_perm[:])\n",
    "    return ans\n",
    "\n",
    "nums = [1,2,3]\n",
    "permute(nums)"
   ]
  },
  {
   "cell_type": "markdown",
   "metadata": {},
   "source": [
    "### Letter Case Permutation\n",
    "Given a string S, we can transform every letter individually to be lowercase or uppercase to create another string.  Return a list of all possible strings we could create.\n",
    "\n",
    "Examples:\n",
    "* Input: S = \"a1b2\"\n",
    "* Output: [\"a1b2\", \"a1B2\", \"A1b2\", \"A1B2\"]"
   ]
  },
  {
   "cell_type": "code",
   "execution_count": 10,
   "metadata": {},
   "outputs": [
    {
     "data": {
      "text/plain": [
       "['a1b2', 'A1b2', 'a1B2', 'A1B2']"
      ]
     },
     "execution_count": 10,
     "metadata": {},
     "output_type": "execute_result"
    }
   ],
   "source": [
    "def letterCasePermutation(S):\n",
    "    result = [S]\n",
    "    for i in range(len(S)):\n",
    "        if S[i].isdigit(): continue\n",
    "        size = len(result)\n",
    "        for j in range(size):\n",
    "            array = list(result[j])\n",
    "            array[i] = array[i].swapcase()\n",
    "            result.append(''.join(array))\n",
    "    return result\n",
    "\n",
    "S = 'a1b2'\n",
    "letterCasePermutation(S)"
   ]
  },
  {
   "cell_type": "markdown",
   "metadata": {},
   "source": [
    "### Generate Parenthesis\n"
   ]
  },
  {
   "cell_type": "code",
   "execution_count": 15,
   "metadata": {},
   "outputs": [
    {
     "data": {
      "text/plain": [
       "['((()))', '(()())', '(())()', '()(())', '()()()']"
      ]
     },
     "execution_count": 15,
     "metadata": {},
     "output_type": "execute_result"
    }
   ],
   "source": [
    "class Parentheses:\n",
    "    def __init__(self, string, open, close):\n",
    "        self.string = string\n",
    "        self.open = open\n",
    "        self.close = close\n",
    "        \n",
    "def generateParenthesis(n):\n",
    "    ps = Parentheses('', 0, 0); queue = [ps]; ans = []\n",
    "    while queue:\n",
    "        size = len(queue)\n",
    "        for i in range(size):\n",
    "            ps = queue.pop(0)\n",
    "            if ps.open == n and ps.close == n:\n",
    "                ans.append(ps.string)\n",
    "            else:\n",
    "                if ps.open<n:\n",
    "                    new_ps = Parentheses(ps.string + '(', ps.open+1, ps.close)\n",
    "                    queue.append(new_ps)\n",
    "                if ps.open>ps.close:\n",
    "                    new_ps = Parentheses(ps.string + ')', ps.open, ps.close+1)\n",
    "                    queue.append(new_ps)\n",
    "    return ans\n",
    "\n",
    "generateParenthesis(3)"
   ]
  }
 ],
 "metadata": {
  "kernelspec": {
   "display_name": "Python 3",
   "language": "python",
   "name": "python3"
  },
  "language_info": {
   "codemirror_mode": {
    "name": "ipython",
    "version": 3
   },
   "file_extension": ".py",
   "mimetype": "text/x-python",
   "name": "python",
   "nbconvert_exporter": "python",
   "pygments_lexer": "ipython3",
   "version": "3.6.8"
  }
 },
 "nbformat": 4,
 "nbformat_minor": 2
}
