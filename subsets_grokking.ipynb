{
 "cells": [
  {
   "cell_type": "markdown",
   "metadata": {},
   "source": [
    "### Subsets\n",
    "Given a set of distinct integers, nums, return all possible subsets (the power set).\n",
    "\n",
    "Note: The solution set must not contain duplicate subsets."
   ]
  },
  {
   "cell_type": "code",
   "execution_count": 4,
   "metadata": {},
   "outputs": [
    {
     "data": {
      "text/plain": [
       "[[], [1], [2], [1, 2], [3], [1, 3], [2, 3], [1, 2, 3]]"
      ]
     },
     "execution_count": 4,
     "metadata": {},
     "output_type": "execute_result"
    }
   ],
   "source": [
    "def subsets(nums):\n",
    "    subsets = []\n",
    "    subsets.append([])\n",
    "    for num in nums:\n",
    "        size = len(subsets)\n",
    "        for i in range(size):\n",
    "            set = subsets[i][:]\n",
    "            set.append(num)\n",
    "            subsets.append(set)\n",
    "    return subsets\n",
    "\n",
    "nums = [1,2,3]\n",
    "subsets(nums)"
   ]
  },
  {
   "cell_type": "markdown",
   "metadata": {},
   "source": [
    "### Subsets with Duplicates"
   ]
  },
  {
   "cell_type": "code",
   "execution_count": 7,
   "metadata": {},
   "outputs": [
    {
     "data": {
      "text/plain": [
       "[[], [1], [3], [1, 3], [3, 3], [1, 3, 3]]"
      ]
     },
     "execution_count": 7,
     "metadata": {},
     "output_type": "execute_result"
    }
   ],
   "source": [
    "def subsetsWithDup(nums):\n",
    "    subsets = [[]]; nums.sort()\n",
    "    for i in range(len(nums)):\n",
    "        startIndex = 0\n",
    "        if i>0 and nums[i] == nums[i-1]:\n",
    "            startIndex = size\n",
    "        size = len(subsets)\n",
    "        for j in range(startIndex, size):\n",
    "            set = subsets[j][:]\n",
    "            set.append(nums[i])\n",
    "            subsets.append(set)\n",
    "    return subsetsWithDup\n",
    "\n",
    "nums = [3,3,1]\n",
    "subsetsWithDup(nums)"
   ]
  },
  {
   "cell_type": "markdown",
   "metadata": {},
   "source": [
    "### Permutation without duplicate\n"
   ]
  },
  {
   "cell_type": "code",
   "execution_count": 9,
   "metadata": {},
   "outputs": [
    {
     "data": {
      "text/plain": [
       "[[3, 2, 1], [2, 3, 1], [2, 1, 3], [3, 1, 2], [1, 3, 2], [1, 2, 3]]"
      ]
     },
     "execution_count": 9,
     "metadata": {},
     "output_type": "execute_result"
    }
   ],
   "source": [
    "def permute(nums):\n",
    "    ans = []\n",
    "    permutations = [[]]\n",
    "    for num in nums:\n",
    "        size = len(permutations)\n",
    "        for i in range(size):\n",
    "            old_perm = permutations.pop(0)\n",
    "            for j in range(len(old_perm)+1):\n",
    "                new_perm = old_perm[:]\n",
    "                new_perm.insert(j, num)\n",
    "                if len(new_perm) == len(nums):\n",
    "                    ans.append(new_perm[:])\n",
    "                else:\n",
    "                    permutations.append(new_perm[:])\n",
    "    return ans\n",
    "\n",
    "nums = [1,2,3]\n",
    "permute(nums)"
   ]
  },
  {
   "cell_type": "markdown",
   "metadata": {},
   "source": [
    "### Letter Case Permutation\n",
    "Given a string S, we can transform every letter individually to be lowercase or uppercase to create another string.  Return a list of all possible strings we could create.\n",
    "\n",
    "Examples:\n",
    "* Input: S = \"a1b2\"\n",
    "* Output: [\"a1b2\", \"a1B2\", \"A1b2\", \"A1B2\"]"
   ]
  },
  {
   "cell_type": "code",
   "execution_count": 10,
   "metadata": {},
   "outputs": [
    {
     "data": {
      "text/plain": [
       "['a1b2', 'A1b2', 'a1B2', 'A1B2']"
      ]
     },
     "execution_count": 10,
     "metadata": {},
     "output_type": "execute_result"
    }
   ],
   "source": [
    "def letterCasePermutation(S):\n",
    "    result = [S]\n",
    "    for i in range(len(S)):\n",
    "        if S[i].isdigit(): continue\n",
    "        size = len(result)\n",
    "        for j in range(size):\n",
    "            array = list(result[j])\n",
    "            array[i] = array[i].swapcase()\n",
    "            result.append(''.join(array))\n",
    "    return result\n",
    "\n",
    "S = 'a1b2'\n",
    "letterCasePermutation(S)"
   ]
  },
  {
   "cell_type": "markdown",
   "metadata": {},
   "source": [
    "### Generate Parenthesis\n"
   ]
  },
  {
   "cell_type": "code",
   "execution_count": 3,
   "metadata": {},
   "outputs": [
    {
     "data": {
      "text/plain": [
       "['((()))', '(()())', '(())()', '()(())', '()()()']"
      ]
     },
     "execution_count": 3,
     "metadata": {},
     "output_type": "execute_result"
    }
   ],
   "source": [
    "class Parentheses:\n",
    "    def __init__(self, string, open, close):\n",
    "        self.string = string\n",
    "        self.open = open\n",
    "        self.close = close\n",
    "        \n",
    "def generateParenthesis(n):\n",
    "    ps = Parentheses('', 0, 0); queue = [ps]; ans = []\n",
    "    while queue:\n",
    "        size = len(queue)\n",
    "        for i in range(size):\n",
    "            ps = queue.pop(0)\n",
    "            if ps.open == n and ps.close == n:\n",
    "                ans.append(ps.string)\n",
    "            else:\n",
    "                if ps.open<n:\n",
    "                    new_ps = Parentheses(ps.string + '(', ps.open+1, ps.close)\n",
    "                    queue.append(new_ps)\n",
    "                if ps.open>ps.close:\n",
    "                    new_ps = Parentheses(ps.string + ')', ps.open, ps.close+1)\n",
    "                    queue.append(new_ps)\n",
    "    return ans\n",
    "\n",
    "generateParenthesis(3)"
   ]
  },
  {
   "cell_type": "markdown",
   "metadata": {},
   "source": [
    "### Generalized Abbreviation\n",
    "Write a function to generate the generalized abbreviations of a word. \n",
    "\n",
    "Note: The order of the output does not matter.\n",
    "\n",
    "Example:\n",
    "\n",
    "Input: \"word\"\n",
    "Output:\n",
    "[\"word\", \"1ord\", \"w1rd\", \"wo1d\", \"wor1\", \"2rd\", \"w2d\", \"wo2\", \"1o1d\", \"1or1\", \"w1r1\", \"1o2\", \"2r1\", \"3d\", \"w3\", \"4\"]"
   ]
  },
  {
   "cell_type": "code",
   "execution_count": 2,
   "metadata": {},
   "outputs": [
    {
     "data": {
      "text/plain": [
       "['4',\n",
       " '3d',\n",
       " '2r1',\n",
       " '2rd',\n",
       " '1o2',\n",
       " '1o1d',\n",
       " '1or1',\n",
       " '1ord',\n",
       " 'w3',\n",
       " 'w2d',\n",
       " 'w1r1',\n",
       " 'w1rd',\n",
       " 'wo2',\n",
       " 'wo1d',\n",
       " 'wor1',\n",
       " 'word']"
      ]
     },
     "execution_count": 2,
     "metadata": {},
     "output_type": "execute_result"
    }
   ],
   "source": [
    "class Solution:\n",
    "    def generateAbbreviations(self, word: str):\n",
    "        queue = [Abbreviation('', 0, 0)]; result = []\n",
    "        while queue:\n",
    "            size = len(queue)\n",
    "            for _ in range(size):\n",
    "                abb = queue.pop(0)\n",
    "                if abb.start == len(word):\n",
    "                    if abb.count != 0:\n",
    "                        abb.string += str(abb.count)\n",
    "                    result.append(abb.string)\n",
    "                \n",
    "                else:\n",
    "                    queue.append(Abbreviation(abb.string, abb.count+1, abb.start+1))\n",
    "                    if abb.count != 0:\n",
    "                        abb.string += str(abb.count)\n",
    "                    abb.string += word[abb.start]\n",
    "                    abb.count = 0; abb.start += 1\n",
    "                    queue.append(abb)\n",
    "        return result\n",
    "                \n",
    "        \n",
    "\n",
    "class Abbreviation:\n",
    "    def __init__(self, string, count, start):\n",
    "        self.string = string\n",
    "        self.count = count\n",
    "        self.start = start\n",
    "        \n",
    "\n",
    "obj = Solution()\n",
    "obj.generateAbbreviations('word')"
   ]
  },
  {
   "cell_type": "markdown",
   "metadata": {},
   "source": [
    "### Different Ways to Add Parentheses\n",
    "Given a string of numbers and operators, return all possible results from computing all the different possible ways to group numbers and operators. The valid operators are +, - and *.\n",
    "\n",
    "* Input: \"2\\*3-4\\*5\"\n",
    "* Output: [-34, -14, -10, -10, 10]\n",
    "\n",
    "Explanation: \n",
    "            * (2*(3-(4*5))) = -34 \n",
    "            * ((2*3)-(4*5)) = -14 \n",
    "            * ((2*(3-4))*5) = -10 \n",
    "            * (2*((3-4)*5)) = -10 \n",
    "            * (((2*3)-4)*5) = 10"
   ]
  },
  {
   "cell_type": "code",
   "execution_count": 2,
   "metadata": {},
   "outputs": [
    {
     "data": {
      "text/plain": [
       "[-34, -10, -14, -10, 10]"
      ]
     },
     "execution_count": 2,
     "metadata": {},
     "output_type": "execute_result"
    }
   ],
   "source": [
    "class Solution:\n",
    "    def diffWaysToCompute(self, input: str):\n",
    "        self.operator = {'+':lambda x,y:x+y, '-':lambda x,y: x-y, '*':lambda x,y: x*y}\n",
    "        self.cache = {}\n",
    "        return self.helper(input)\n",
    "    \n",
    "    def helper(self, input):\n",
    "        if input in self.cache: return self.cache[input]\n",
    "        if input.isdigit(): return [int(input)]\n",
    "        result = []\n",
    "        for i, char in enumerate(input):\n",
    "            if char in self.operator:\n",
    "                left_part = self.helper(input[:i])\n",
    "                right_part = self.helper(input[i+1:])\n",
    "                for num1 in left_part:\n",
    "                    for num2 in right_part:\n",
    "                        result.append(self.operator[char](num1, num2))\n",
    "                        \n",
    "        self.cache[input] = result\n",
    "        return result\n",
    "\n",
    "obj = Solution()\n",
    "input = \"2*3-4*5\"\n",
    "obj.diffWaysToCompute(input)"
   ]
  },
  {
   "cell_type": "markdown",
   "metadata": {},
   "source": [
    "### Unique Binary Search Trees II\n",
    "Given an integer n, generate all structurally unique BST's (binary search trees) that store values 1 ... n.\n",
    "\n",
    "Example:\n",
    "\n",
    "Input: 3\n",
    "Output:\n",
    "[\n",
    "  * [1,null,3,2],\n",
    "  * [3,2,null,1],\n",
    "  * [3,1,null,null,2],\n",
    "  * [2,1,3],\n",
    "  * [1,null,2,null,3]\n",
    "]\n",
    "\n",
    "Explanation:\n",
    "\n",
    "The above output corresponds to the 5 unique BST's shown below:\n",
    "\n",
    "           1         3     3      2      1\n",
    "            \\       /     /      / \\      \\\n",
    "             3     2     1      1   3      2\n",
    "            /     /       \\                 \\\n",
    "           2     1         2                 3"
   ]
  },
  {
   "cell_type": "code",
   "execution_count": 9,
   "metadata": {},
   "outputs": [
    {
     "data": {
      "text/plain": [
       "[<__main__.TreeNode at 0x7facdbe8cba8>,\n",
       " <__main__.TreeNode at 0x7facdbe8cd30>,\n",
       " <__main__.TreeNode at 0x7facdbe8cfd0>,\n",
       " <__main__.TreeNode at 0x7facdbe8ccf8>,\n",
       " <__main__.TreeNode at 0x7facdbe8cbe0>]"
      ]
     },
     "execution_count": 9,
     "metadata": {},
     "output_type": "execute_result"
    }
   ],
   "source": [
    "class TreeNode:\n",
    "    def __init__(self, x):\n",
    "        self.val = x\n",
    "        self.left = None\n",
    "        self.right = None\n",
    "class Solution:\n",
    "    def generateTrees(self, n: int):\n",
    "        if n<=0: return []\n",
    "        return self.helper(1, n)\n",
    "    \n",
    "    def helper(self, start, end):\n",
    "        result = []\n",
    "        if start>end:\n",
    "            result.append(None)\n",
    "            return result\n",
    "        \n",
    "        for i in range(start, end+1):\n",
    "            left_part = self.helper(start, i-1)\n",
    "            right_part = self.helper(i+1, end)\n",
    "            for left_tree in left_part:\n",
    "                for right_tree in right_part:\n",
    "                    root = TreeNode(i)\n",
    "                    root.left = left_tree\n",
    "                    root.right = right_tree\n",
    "                    result.append(root)\n",
    "        return result\n",
    "    \n",
    "obj = Solution()\n",
    "obj.generateTrees(3)"
   ]
  },
  {
   "cell_type": "markdown",
   "metadata": {},
   "source": [
    "### Unique Binary Search Trees\n",
    "Given n, how many structurally unique BST's (binary search trees) that store values 1 ... n?\n",
    "\n",
    "Example:\n",
    "\n",
    "Input: 3\n",
    "Output: 5"
   ]
  },
  {
   "cell_type": "code",
   "execution_count": 11,
   "metadata": {},
   "outputs": [
    {
     "data": {
      "text/plain": [
       "5"
      ]
     },
     "execution_count": 11,
     "metadata": {},
     "output_type": "execute_result"
    }
   ],
   "source": [
    "class Solution:\n",
    "    def numTrees(self, n: int) -> int:\n",
    "        self.cache = {}\n",
    "        return self.helper(n)\n",
    "    \n",
    "    def helper(self, n):\n",
    "        if n in self.cache:\n",
    "            return self.cache[n]\n",
    "        if n<=1: return 1\n",
    "        count = 0\n",
    "        for i in range(1, n+1):\n",
    "            count_left = self.helper(i-1)\n",
    "            count_right = self.helper(n-i)\n",
    "            count += (count_left*count_right)\n",
    "        self.cache[n] = count\n",
    "        return count\n",
    "\n",
    "obj = Solution()\n",
    "obj.numTrees(3)"
   ]
  },
  {
   "attachments": {
    "image.png": {
     "image/png": "[encoded data removed]"
    }
   },
   "cell_type": "markdown",
   "metadata": {},
   "source": [
    "### All Possible Full Binary Trees\n",
    "A full binary tree is a binary tree where each node has exactly 0 or 2 children.\n",
    "\n",
    "Return a list of all possible full binary trees with N nodes.  Each element of the answer is the root node of one possible tree.\n",
    "\n",
    "Each node of each tree in the answer must have node.val = 0.\n",
    "\n",
    "You may return the final list of trees in any order.\n",
    "\n",
    "![image.png](attachment:image.png)"
   ]
  },
  {
   "cell_type": "code",
   "execution_count": 10,
   "metadata": {},
   "outputs": [
    {
     "data": {
      "text/plain": [
       "[<__main__.TreeNode at 0x7f38817c74e0>,\n",
       " <__main__.TreeNode at 0x7f38817c7518>,\n",
       " <__main__.TreeNode at 0x7f38817c7550>,\n",
       " <__main__.TreeNode at 0x7f38817c75c0>,\n",
       " <__main__.TreeNode at 0x7f38817c75f8>]"
      ]
     },
     "execution_count": 10,
     "metadata": {},
     "output_type": "execute_result"
    }
   ],
   "source": [
    "class TreeNode:\n",
    "    def __init__(self, x):\n",
    "        self.val = x\n",
    "        self.left = None\n",
    "        self.right = None\n",
    "        \n",
    "class Solution:\n",
    "    def allPossibleFBT(self, N: int):\n",
    "        if N%2 == 0:\n",
    "            return []\n",
    "        self.cache = {}\n",
    "        return self.helper(N)\n",
    "    \n",
    "    def helper(self, n):\n",
    "        if n in self.cache:\n",
    "            return self.cache[n]\n",
    "        \n",
    "        res = []\n",
    "        if n == 1:\n",
    "            res.append(TreeNode(0))\n",
    "            return res\n",
    "        \n",
    "        for i in range(1,n,2):\n",
    "            left_tree = self.helper(i)\n",
    "            right_tree = self.helper(n-i-1)\n",
    "            for lt in left_tree:\n",
    "                for rt in right_tree:\n",
    "                    root = TreeNode(0)\n",
    "                    root.left = lt\n",
    "                    root.right = rt\n",
    "                    res.append(root)\n",
    "                    \n",
    "        self.cache[n] = res\n",
    "        return res\n",
    "    \n",
    "obj = Solution()\n",
    "obj.allPossibleFBT(7)"
   ]
  }
 ],
 "metadata": {
  "kernelspec": {
   "display_name": "Python 3",
   "language": "python",
   "name": "python3"
  },
  "language_info": {
   "codemirror_mode": {
    "name": "ipython",
    "version": 3
   },
   "file_extension": ".py",
   "mimetype": "text/x-python",
   "name": "python",
   "nbconvert_exporter": "python",
   "pygments_lexer": "ipython3",
   "version": "3.6.8"
  }
 },
 "nbformat": 4,
 "nbformat_minor": 2
}
