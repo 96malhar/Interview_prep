{
 "cells": [
  {
   "cell_type": "markdown",
   "metadata": {},
   "source": [
    "## String Search\n",
    "Find the starting index of a target string T from a string s\n",
    "Example:\n",
    "* S = 'Hello World'\n",
    "* T = 'ell'\n",
    "* Output = 1"
   ]
  },
  {
   "cell_type": "code",
   "execution_count": 14,
   "metadata": {},
   "outputs": [],
   "source": [
    "def rabin_karp(s,t):\n",
    "    if t == '':\n",
    "        return 0\n",
    "    if len(t) > len(s):\n",
    "        return -1\n",
    "    hasht = 0; hashs = 0\n",
    "    for i in range(len(t)):\n",
    "        hasht = hasht*53 + ord(t[i])\n",
    "        hashs = hashs*53 + ord(s[i])\n",
    "    \n",
    "    if hasht == hashs and t == s[0:len(t)]:\n",
    "        return 0\n",
    "    \n",
    "    xpow = 53**(len(t)-1)\n",
    "    \n",
    "    for i in range(len(t), len(s)):\n",
    "        remove = s[i-len(t)]\n",
    "        hashs = (hashs - ord(remove)*xpow)*53 + ord(s[i])\n",
    "        if hasht == hashs and t == s[i-len(t)+1:i+1]:\n",
    "            return i - len(t) + 1\n",
    "    return -1"
   ]
  },
  {
   "cell_type": "code",
   "execution_count": 15,
   "metadata": {},
   "outputs": [
    {
     "data": {
      "text/plain": [
       "2"
      ]
     },
     "execution_count": 15,
     "metadata": {},
     "output_type": "execute_result"
    }
   ],
   "source": [
    "rabin_karp('hello', 'll')"
   ]
  }
 ],
 "metadata": {
  "kernelspec": {
   "display_name": "Python 3",
   "language": "python",
   "name": "python3"
  },
  "language_info": {
   "codemirror_mode": {
    "name": "ipython",
    "version": 3
   },
   "file_extension": ".py",
   "mimetype": "text/x-python",
   "name": "python",
   "nbconvert_exporter": "python",
   "pygments_lexer": "ipython3",
   "version": "3.6.8"
  }
 },
 "nbformat": 4,
 "nbformat_minor": 2
}
