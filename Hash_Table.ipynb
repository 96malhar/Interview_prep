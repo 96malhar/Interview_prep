{
 "cells": [
  {
   "cell_type": "markdown",
   "metadata": {},
   "source": [
    "## String Search\n",
    "Find the starting index of a target string T from a string s\n",
    "Example:\n",
    "* S = 'Hello World'\n",
    "* T = 'ell'\n",
    "* Output = 1"
   ]
  },
  {
   "cell_type": "code",
   "execution_count": 1,
   "metadata": {},
   "outputs": [],
   "source": [
    "def rabin_karp(s,t):\n",
    "    if t == '':\n",
    "        return 0\n",
    "    if len(t) > len(s):\n",
    "        return -1\n",
    "    hasht = 0; hashs = 0\n",
    "    for i in range(len(t)):\n",
    "        hasht = hasht*53 + ord(t[i])\n",
    "        hashs = hashs*53 + ord(s[i])\n",
    "    \n",
    "    if hasht == hashs and t == s[0:len(t)]:\n",
    "        return 0\n",
    "    \n",
    "    xpow = 53**(len(t)-1)\n",
    "    \n",
    "    for i in range(len(t), len(s)):\n",
    "        remove = s[i-len(t)]\n",
    "        hashs = (hashs - ord(remove)*xpow)*53 + ord(s[i])\n",
    "        if hasht == hashs and t == s[i-len(t)+1:i+1]:\n",
    "            return i - len(t) + 1\n",
    "    return -1"
   ]
  },
  {
   "cell_type": "code",
   "execution_count": 2,
   "metadata": {},
   "outputs": [
    {
     "data": {
      "text/plain": [
       "2"
      ]
     },
     "execution_count": 2,
     "metadata": {},
     "output_type": "execute_result"
    }
   ],
   "source": [
    "rabin_karp('hello', 'll')"
   ]
  },
  {
   "cell_type": "markdown",
   "metadata": {},
   "source": [
    "### Design a Hash Table"
   ]
  },
  {
   "cell_type": "code",
   "execution_count": 5,
   "metadata": {},
   "outputs": [],
   "source": [
    "class HashMap:\n",
    "\n",
    "    def __init__(self):\n",
    "        \"\"\"\n",
    "        Initialize your data structure here.\n",
    "        \"\"\"\n",
    "        self.m = 100\n",
    "        self.a = [None] * self.m\n",
    "        \n",
    "\n",
    "    def put(self, key, value):\n",
    "        \"\"\"\n",
    "        value will always be non-negative.\n",
    "        \"\"\"\n",
    "        index = key%self.m\n",
    "        if self.a[index] is None:\n",
    "            self.a[index] = ListNode(key,value)\n",
    "            return\n",
    "        node = self.a[index]\n",
    "        while node.next:\n",
    "            if node.key == key:\n",
    "                node.val = value\n",
    "                return\n",
    "            node = node.next\n",
    "        if node.key == key:\n",
    "            node.val = value\n",
    "        else:\n",
    "            node.next = ListNode(key,value)\n",
    "        \n",
    "\n",
    "    def get(self, key):\n",
    "        \"\"\"\n",
    "        Returns the value to which the specified key is mapped, or -1 if this map contains no mapping for the key\n",
    "        \"\"\"\n",
    "        index = key%self.m\n",
    "        node = self.a[index]\n",
    "        while node:\n",
    "            if node.key == key:\n",
    "                return node.val\n",
    "            node = node.next\n",
    "        return -1\n",
    "        \n",
    "\n",
    "    def remove(self, key):\n",
    "        \"\"\"\n",
    "        Removes the mapping of the specified value key if this map contains a mapping for the key\n",
    "        \"\"\"\n",
    "        index = key %self.m\n",
    "        node = self.a[index]\n",
    "        if node is None:\n",
    "            return\n",
    "        if node.key == key:\n",
    "            self.a[index] = node.next\n",
    "            return\n",
    "        while node.next and node.next.key!=key:\n",
    "            node = node.next\n",
    "        if node.next is None:\n",
    "            return\n",
    "        node.next = node.next.next\n",
    "        \n",
    "        \n",
    "class ListNode:\n",
    "    def __init__(self, key, val):\n",
    "        self.key = key\n",
    "        self.val = val\n",
    "        self.next = None\n"
   ]
  },
  {
   "cell_type": "code",
   "execution_count": 13,
   "metadata": {},
   "outputs": [],
   "source": [
    "hashMap = HashMap()\n",
    "hashMap.put(1, 1)     \n",
    "hashMap.put(2, 2) "
   ]
  },
  {
   "cell_type": "code",
   "execution_count": 12,
   "metadata": {},
   "outputs": [
    {
     "data": {
      "text/plain": [
       "1"
      ]
     },
     "execution_count": 12,
     "metadata": {},
     "output_type": "execute_result"
    }
   ],
   "source": [
    "hashMap.get(1) "
   ]
  },
  {
   "cell_type": "code",
   "execution_count": 14,
   "metadata": {},
   "outputs": [
    {
     "data": {
      "text/plain": [
       "-1"
      ]
     },
     "execution_count": 14,
     "metadata": {},
     "output_type": "execute_result"
    }
   ],
   "source": [
    "hashMap.get(3)"
   ]
  },
  {
   "cell_type": "code",
   "execution_count": 15,
   "metadata": {},
   "outputs": [
    {
     "data": {
      "text/plain": [
       "1"
      ]
     },
     "execution_count": 15,
     "metadata": {},
     "output_type": "execute_result"
    }
   ],
   "source": [
    "hashMap.put(2, 1)         \n",
    "hashMap.get(2) "
   ]
  },
  {
   "cell_type": "code",
   "execution_count": 16,
   "metadata": {},
   "outputs": [
    {
     "data": {
      "text/plain": [
       "-1"
      ]
     },
     "execution_count": 16,
     "metadata": {},
     "output_type": "execute_result"
    }
   ],
   "source": [
    "hashMap.remove(2)         \n",
    "hashMap.get(2)           "
   ]
  }
 ],
 "metadata": {
  "kernelspec": {
   "display_name": "Python 3",
   "language": "python",
   "name": "python3"
  },
  "language_info": {
   "codemirror_mode": {
    "name": "ipython",
    "version": 3
   },
   "file_extension": ".py",
   "mimetype": "text/x-python",
   "name": "python",
   "nbconvert_exporter": "python",
   "pygments_lexer": "ipython3",
   "version": "3.6.8"
  }
 },
 "nbformat": 4,
 "nbformat_minor": 2
}
