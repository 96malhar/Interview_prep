{
 "cells": [
  {
   "cell_type": "markdown",
   "metadata": {},
   "source": [
    "### Build a graph"
   ]
  },
  {
   "cell_type": "code",
   "execution_count": 7,
   "metadata": {},
   "outputs": [],
   "source": [
    "class Graph:\n",
    "    def __init__(self, node_list):\n",
    "        self.node_list = node_list\n",
    "    \n",
    "    def add_node(self, node):\n",
    "        self.node_list.append(node)\n",
    "\n",
    "class Node:\n",
    "    def __init__(self, neighbors, data):\n",
    "        self.neighbors = neighbors\n",
    "        self.data = data\n",
    "    \n",
    "    def add_neighbor(self, node):\n",
    "        self.neighbors.append(node)\n",
    "        \n",
    "node1 = Node([],1)\n",
    "node2 = Node([],2)\n",
    "node3 = Node([],3)\n",
    "node4 = Node([],4)\n",
    "node5 = Node([],5)\n",
    "\n",
    "node1.neighbors = [node2, node4]\n",
    "node2.neighbors = [node3, node4, node5]\n",
    "node3.neighbors = [node5]\n",
    "\n",
    "graph = Graph([node1, node2, node3, node4, node5])"
   ]
  },
  {
   "cell_type": "markdown",
   "metadata": {},
   "source": [
    "### Topological sort"
   ]
  },
  {
   "cell_type": "code",
   "execution_count": 15,
   "metadata": {},
   "outputs": [
    {
     "data": {
      "text/plain": [
       "[1, 2, 3, 4, 5]"
      ]
     },
     "execution_count": 15,
     "metadata": {},
     "output_type": "execute_result"
    }
   ],
   "source": [
    "def topological_sort(graph):\n",
    "    indegree = {node:0 for node in graph.node_list}\n",
    "    for node in graph.node_list:\n",
    "        for neigh in node.neighbors:\n",
    "            indegree[neigh] += 1\n",
    "    sources = [node for node in graph.node_list if indegree[node]==0]\n",
    "    sorted_order = []\n",
    "    while sources:\n",
    "        node = sources.pop(0)\n",
    "        sorted_order.append(node.data)\n",
    "        for child in node.neighbors:\n",
    "            indegree[child] -= 1\n",
    "            if indegree[child] == 0:\n",
    "                sources.append(child)\n",
    "    return sorted_order if len(sorted_order) == len(graph.node_list) else []\n",
    "\n",
    "topological_sort(graph)\n",
    "    "
   ]
  },
  {
   "cell_type": "markdown",
   "metadata": {},
   "source": [
    "### Course Schedule II\n",
    "There are a total of n courses you have to take, labeled from 0 to n-1.\n",
    "\n",
    "Some courses may have prerequisites, for example to take course 0 you have to first take course 1, which is expressed as a pair: [0,1]\n",
    "\n",
    "Given the total number of courses and a list of prerequisite pairs, return the ordering of courses you should take to finish all courses.\n",
    "\n",
    "There may be multiple correct orders, you just need to return one of them. If it is impossible to finish all courses, return an empty array."
   ]
  },
  {
   "cell_type": "code",
   "execution_count": 28,
   "metadata": {},
   "outputs": [
    {
     "data": {
      "text/plain": [
       "[0, 1, 2, 3]"
      ]
     },
     "execution_count": 28,
     "metadata": {},
     "output_type": "execute_result"
    }
   ],
   "source": [
    "def findOrder(numCourses, prerequisites):\n",
    "    graph = {n:[] for n in range(numCourses)}\n",
    "    indegree = {n:0 for n in range(numCourses)}\n",
    "    ans = []\n",
    "\n",
    "    for child, parent in prerequisites:\n",
    "        graph[parent].append(child)\n",
    "        indegree[child] += 1\n",
    "\n",
    "    source = [n for n in indegree if indegree[n]==0]\n",
    "    while source:\n",
    "        course = source.pop(0)\n",
    "        ans.append(course)\n",
    "        for child in graph[course]:\n",
    "            indegree[child] -= 1\n",
    "            if indegree[child] == 0:\n",
    "                source.append(child)\n",
    "\n",
    "    return ans if len(ans) == numCourses else []\n",
    "\n",
    "findOrder(4, [[1,0],[2,0],[3,1],[3,2]])"
   ]
  },
  {
   "cell_type": "markdown",
   "metadata": {},
   "source": [
    "### Find all Topological ordering"
   ]
  },
  {
   "cell_type": "code",
   "execution_count": 128,
   "metadata": {},
   "outputs": [],
   "source": [
    "def findAllOrders(numTask, prerequisites):\n",
    "    graph = {n:[] for n in range(numTask)}\n",
    "    indegree = {n:0 for n in range(numTask)}\n",
    "    all_orders = []\n",
    "    \n",
    "    for parent, child in prerequisites:\n",
    "        graph[parent].append(child)\n",
    "        indegree[child] += 1\n",
    "    \n",
    "    source = set([i for i in indegree if indegree[i]==0])\n",
    "    helper(graph,indegree, source, [], all_orders)\n",
    "    return all_orders\n",
    "\n",
    "def helper(graph, indegree, source, sorted_order, all_orders):\n",
    "    if len(sorted_order) == len(indegree):\n",
    "        all_orders.append(sorted_order[:])\n",
    "        return\n",
    "    \n",
    "    new_source = source.copy()\n",
    "    for node in source:\n",
    "        new_source.remove(node)\n",
    "        sorted_order.append(node)\n",
    "\n",
    "        for child in graph[node]:\n",
    "            indegree[child] -= 1\n",
    "            if indegree[child] == 0:\n",
    "                new_source.add(child)\n",
    "                \n",
    "        helper(graph, indegree, new_source, sorted_order, all_orders)\n",
    "\n",
    "        sorted_order.pop()\n",
    "        new_source.add(node)\n",
    "\n",
    "        for child in graph[node]:\n",
    "            if indegree[child] == 0:\n",
    "                new_source.remove(child)\n",
    "            indegree[child] += 1"
   ]
  },
  {
   "cell_type": "code",
   "execution_count": 129,
   "metadata": {},
   "outputs": [
    {
     "data": {
      "text/plain": [
       "[[3, 1, 2, 0], [3, 2, 1, 0]]"
      ]
     },
     "execution_count": 129,
     "metadata": {},
     "output_type": "execute_result"
    }
   ],
   "source": [
    "findAllOrders(4, [[1,0],[2,0],[3,1],[3,2]])"
   ]
  },
  {
   "cell_type": "code",
   "execution_count": 130,
   "metadata": {},
   "outputs": [
    {
     "data": {
      "text/plain": [
       "[[0, 1, 3, 2, 4, 5],\n",
       " [0, 1, 3, 2, 5, 4],\n",
       " [0, 1, 3, 4, 2, 5],\n",
       " [0, 1, 4, 3, 2, 5],\n",
       " [1, 0, 3, 2, 4, 5],\n",
       " [1, 0, 3, 2, 5, 4],\n",
       " [1, 0, 3, 4, 2, 5],\n",
       " [1, 0, 4, 3, 2, 5],\n",
       " [1, 3, 0, 2, 4, 5],\n",
       " [1, 3, 0, 2, 5, 4],\n",
       " [1, 3, 0, 4, 2, 5],\n",
       " [1, 3, 2, 0, 4, 5],\n",
       " [1, 3, 2, 0, 5, 4]]"
      ]
     },
     "execution_count": 130,
     "metadata": {},
     "output_type": "execute_result"
    }
   ],
   "source": [
    "findAllOrders(6, [[2, 5], [0, 5], [0, 4], [1, 4], [3, 2], [1, 3]])"
   ]
  }
 ],
 "metadata": {
  "kernelspec": {
   "display_name": "Python 3",
   "language": "python",
   "name": "python3"
  },
  "language_info": {
   "codemirror_mode": {
    "name": "ipython",
    "version": 3
   },
   "file_extension": ".py",
   "mimetype": "text/x-python",
   "name": "python",
   "nbconvert_exporter": "python",
   "pygments_lexer": "ipython3",
   "version": "3.6.8"
  }
 },
 "nbformat": 4,
 "nbformat_minor": 2
}
