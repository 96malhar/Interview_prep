{
 "cells": [
  {
   "cell_type": "markdown",
   "metadata": {},
   "source": [
    "### Build a graph"
   ]
  },
  {
   "cell_type": "code",
   "execution_count": 7,
   "metadata": {},
   "outputs": [],
   "source": [
    "class Graph:\n",
    "    def __init__(self, node_list):\n",
    "        self.node_list = node_list\n",
    "    \n",
    "    def add_node(self, node):\n",
    "        self.node_list.append(node)\n",
    "\n",
    "class Node:\n",
    "    def __init__(self, neighbors, data):\n",
    "        self.neighbors = neighbors\n",
    "        self.data = data\n",
    "    \n",
    "    def add_neighbor(self, node):\n",
    "        self.neighbors.append(node)\n",
    "        \n",
    "node1 = Node([],1)\n",
    "node2 = Node([],2)\n",
    "node3 = Node([],3)\n",
    "node4 = Node([],4)\n",
    "node5 = Node([],5)\n",
    "\n",
    "node1.neighbors = [node2, node4]\n",
    "node2.neighbors = [node3, node4, node5]\n",
    "node3.neighbors = [node5]\n",
    "\n",
    "graph = Graph([node1, node2, node3, node4, node5])"
   ]
  },
  {
   "cell_type": "markdown",
   "metadata": {},
   "source": [
    "### Topological sort"
   ]
  },
  {
   "cell_type": "code",
   "execution_count": 15,
   "metadata": {},
   "outputs": [
    {
     "data": {
      "text/plain": [
       "[1, 2, 3, 4, 5]"
      ]
     },
     "execution_count": 15,
     "metadata": {},
     "output_type": "execute_result"
    }
   ],
   "source": [
    "def topological_sort(graph):\n",
    "    indegree = {node:0 for node in graph.node_list}\n",
    "    for node in graph.node_list:\n",
    "        for neigh in node.neighbors:\n",
    "            indegree[neigh] += 1\n",
    "    sources = [node for node in graph.node_list if indegree[node]==0]\n",
    "    sorted_order = []\n",
    "    while sources:\n",
    "        node = sources.pop(0)\n",
    "        sorted_order.append(node.data)\n",
    "        for child in node.neighbors:\n",
    "            indegree[child] -= 1\n",
    "            if indegree[child] == 0:\n",
    "                sources.append(child)\n",
    "    return sorted_order if len(sorted_order) == len(graph.node_list) else []\n",
    "\n",
    "topological_sort(graph)\n",
    "    "
   ]
  },
  {
   "cell_type": "markdown",
   "metadata": {},
   "source": [
    "### Course Schedule II\n",
    "There are a total of n courses you have to take, labeled from 0 to n-1.\n",
    "\n",
    "Some courses may have prerequisites, for example to take course 0 you have to first take course 1, which is expressed as a pair: [0,1]\n",
    "\n",
    "Given the total number of courses and a list of prerequisite pairs, return the ordering of courses you should take to finish all courses.\n",
    "\n",
    "There may be multiple correct orders, you just need to return one of them. If it is impossible to finish all courses, return an empty array."
   ]
  },
  {
   "cell_type": "code",
   "execution_count": 28,
   "metadata": {},
   "outputs": [
    {
     "data": {
      "text/plain": [
       "[0, 1, 2, 3]"
      ]
     },
     "execution_count": 28,
     "metadata": {},
     "output_type": "execute_result"
    }
   ],
   "source": [
    "def findOrder(numCourses, prerequisites):\n",
    "    graph = {n:[] for n in range(numCourses)}\n",
    "    indegree = {n:0 for n in range(numCourses)}\n",
    "    ans = []\n",
    "\n",
    "    for child, parent in prerequisites:\n",
    "        graph[parent].append(child)\n",
    "        indegree[child] += 1\n",
    "\n",
    "    source = [n for n in indegree if indegree[n]==0]\n",
    "    while source:\n",
    "        course = source.pop(0)\n",
    "        ans.append(course)\n",
    "        for child in graph[course]:\n",
    "            indegree[child] -= 1\n",
    "            if indegree[child] == 0:\n",
    "                source.append(child)\n",
    "\n",
    "    return ans if len(ans) == numCourses else []\n",
    "\n",
    "findOrder(4, [[1,0],[2,0],[3,1],[3,2]])"
   ]
  },
  {
   "cell_type": "markdown",
   "metadata": {},
   "source": [
    "### Parellel Courses\n",
    "There are N courses, labelled from 1 to N.\n",
    "\n",
    "We are given relations[i] = [X, Y], representing a prerequisite relationship between course X and course Y: course X has to be studied before course Y.\n",
    "\n",
    "In one semester you can study any number of courses as long as you have studied all the prerequisites for the course you are studying.\n",
    "\n",
    "Return the minimum number of semesters needed to study all courses.  If there is no way to study all the courses, return -1."
   ]
  },
  {
   "cell_type": "code",
   "execution_count": 3,
   "metadata": {},
   "outputs": [
    {
     "data": {
      "text/plain": [
       "2"
      ]
     },
     "execution_count": 3,
     "metadata": {},
     "output_type": "execute_result"
    }
   ],
   "source": [
    "def minimumSemesters(N: int, relations) -> int:\n",
    "    graph = {}; indegree = {}\n",
    "    for i in range(1, N+1):\n",
    "        graph[i] = []\n",
    "        indegree[i] = 0\n",
    "\n",
    "    for x, y in relations:\n",
    "        graph[x].append(y)\n",
    "        indegree[y] += 1\n",
    "\n",
    "    queue = [i for i in indegree if indegree[i] == 0]\n",
    "    sem = 0; completed = 0\n",
    "    while queue:\n",
    "        size = len(queue)\n",
    "        for _ in range(size):\n",
    "            x = queue.pop(0)\n",
    "            completed += 1\n",
    "            for y in graph[x]:\n",
    "                indegree[y] -= 1\n",
    "                if indegree[y] == 0:\n",
    "                    queue.append(y)\n",
    "        sem += 1\n",
    "\n",
    "    return sem if completed == N else -1\n",
    "\n",
    "N = 3; relations = [[1,3],[2,3]]\n",
    "minimumSemesters(N, relations)"
   ]
  },
  {
   "cell_type": "markdown",
   "metadata": {},
   "source": [
    "### Find all Topological ordering"
   ]
  },
  {
   "cell_type": "code",
   "execution_count": 128,
   "metadata": {},
   "outputs": [],
   "source": [
    "def findAllOrders(numTask, prerequisites):\n",
    "    graph = {n:[] for n in range(numTask)}\n",
    "    indegree = {n:0 for n in range(numTask)}\n",
    "    all_orders = []\n",
    "    \n",
    "    for parent, child in prerequisites:\n",
    "        graph[parent].append(child)\n",
    "        indegree[child] += 1\n",
    "    \n",
    "    source = set([i for i in indegree if indegree[i]==0])\n",
    "    helper(graph,indegree, source, [], all_orders)\n",
    "    return all_orders\n",
    "\n",
    "def helper(graph, indegree, source, sorted_order, all_orders):\n",
    "    if len(sorted_order) == len(indegree):\n",
    "        all_orders.append(sorted_order[:])\n",
    "        return\n",
    "    \n",
    "    new_source = source.copy()\n",
    "    for node in source:\n",
    "        new_source.remove(node)\n",
    "        sorted_order.append(node)\n",
    "\n",
    "        for child in graph[node]:\n",
    "            indegree[child] -= 1\n",
    "            if indegree[child] == 0:\n",
    "                new_source.add(child)\n",
    "                \n",
    "        helper(graph, indegree, new_source, sorted_order, all_orders)\n",
    "\n",
    "        sorted_order.pop()\n",
    "        new_source.add(node)\n",
    "\n",
    "        for child in graph[node]:\n",
    "            if indegree[child] == 0:\n",
    "                new_source.remove(child)\n",
    "            indegree[child] += 1"
   ]
  },
  {
   "cell_type": "code",
   "execution_count": 129,
   "metadata": {},
   "outputs": [
    {
     "data": {
      "text/plain": [
       "[[3, 1, 2, 0], [3, 2, 1, 0]]"
      ]
     },
     "execution_count": 129,
     "metadata": {},
     "output_type": "execute_result"
    }
   ],
   "source": [
    "findAllOrders(4, [[1,0],[2,0],[3,1],[3,2]])"
   ]
  },
  {
   "cell_type": "code",
   "execution_count": 130,
   "metadata": {},
   "outputs": [
    {
     "data": {
      "text/plain": [
       "[[0, 1, 3, 2, 4, 5],\n",
       " [0, 1, 3, 2, 5, 4],\n",
       " [0, 1, 3, 4, 2, 5],\n",
       " [0, 1, 4, 3, 2, 5],\n",
       " [1, 0, 3, 2, 4, 5],\n",
       " [1, 0, 3, 2, 5, 4],\n",
       " [1, 0, 3, 4, 2, 5],\n",
       " [1, 0, 4, 3, 2, 5],\n",
       " [1, 3, 0, 2, 4, 5],\n",
       " [1, 3, 0, 2, 5, 4],\n",
       " [1, 3, 0, 4, 2, 5],\n",
       " [1, 3, 2, 0, 4, 5],\n",
       " [1, 3, 2, 0, 5, 4]]"
      ]
     },
     "execution_count": 130,
     "metadata": {},
     "output_type": "execute_result"
    }
   ],
   "source": [
    "findAllOrders(6, [[2, 5], [0, 5], [0, 4], [1, 4], [3, 2], [1, 3]])"
   ]
  },
  {
   "cell_type": "markdown",
   "metadata": {},
   "source": [
    "### Alien Dictionary\n",
    "There is a new alien language which uses the latin alphabet. However, the order among letters are unknown to you. You receive a list of non-empty words from the dictionary, where words are sorted lexicographically by the rules of this new language. Derive the order of letters in this language.\n",
    "\n",
    "Example 1:\n",
    "\n",
    "Input:\n",
    "[\n",
    "  \"wrt\",\n",
    "  \"wrf\",\n",
    "  \"er\",\n",
    "  \"ett\",\n",
    "  \"rftt\"\n",
    "]\n",
    "\n",
    "Output: \"wertf\""
   ]
  },
  {
   "cell_type": "code",
   "execution_count": 2,
   "metadata": {},
   "outputs": [
    {
     "data": {
      "text/plain": [
       "''"
      ]
     },
     "execution_count": 2,
     "metadata": {},
     "output_type": "execute_result"
    }
   ],
   "source": [
    "def alienOrder(words) -> str:\n",
    "        from collections import deque\n",
    "        indegree = {}  # count of incoming edges\n",
    "        graph = {}  # adjacency list graph\n",
    "        for word in words:\n",
    "            for character in word:\n",
    "                indegree[character] = 0\n",
    "                graph[character] = []\n",
    "        \n",
    "        for i in range(len(words)-1):\n",
    "            word1, word2 = words[i], words[i+1]\n",
    "            in_order = False\n",
    "            for j in range(min(len(word1), len(word2))):\n",
    "                parent, child = word1[j], word2[j]\n",
    "                if parent != child:\n",
    "                    graph[parent].append(child)\n",
    "                    indegree[child] += 1\n",
    "                    in_order = True\n",
    "                    break\n",
    "            if not in_order and len(word1) > len(word2):\n",
    "                return ''\n",
    "        \n",
    "        sources = deque([ch for ch in indegree if indegree[ch] == 0])\n",
    "        sorted_order = []\n",
    "        while sources:\n",
    "            ch = sources.popleft()\n",
    "            sorted_order.append(ch)\n",
    "            for child in graph[ch]:\n",
    "                indegree[child] -= 1\n",
    "                if indegree[child] == 0:\n",
    "                    sources.append(child)\n",
    "        \n",
    "        return ''.join(sorted_order) if len(sorted_order) == len(indegree) else ''\n",
    "alienOrder(['abcd', 'ab'])"
   ]
  },
  {
   "cell_type": "markdown",
   "metadata": {},
   "source": [
    "\n",
    "### Sequence Reconstruction\n",
    "Check whether the original sequence org can be uniquely reconstructed from the sequences in seqs. The org sequence is a permutation of the integers from 1 to n, with 1 ≤ n ≤ 104. Reconstruction means building a shortest common supersequence of the sequences in seqs (i.e., a shortest sequence so that all sequences in seqs are subsequences of it). Determine whether there is only one sequence that can be reconstructed from seqs and it is the org sequence.\n",
    "\n",
    "Input:\n",
    "org: [4,1,5,2,6,3], seqs: [[5,2,6,3],[4,1,5,2]]\n",
    "\n",
    "Output:\n",
    "true\n"
   ]
  },
  {
   "cell_type": "code",
   "execution_count": 3,
   "metadata": {},
   "outputs": [
    {
     "data": {
      "text/plain": [
       "True"
      ]
     },
     "execution_count": 3,
     "metadata": {},
     "output_type": "execute_result"
    }
   ],
   "source": [
    "def sequenceReconstruction(org, seqs) -> bool:\n",
    "    from collections import deque\n",
    "    graph = {}; indegree = {}\n",
    "    for list in seqs:\n",
    "        for num in list:\n",
    "            graph[num] = []\n",
    "            indegree[num] = 0\n",
    "\n",
    "    for list in seqs:\n",
    "        for i in range(1, len(list)):\n",
    "            parent, child = list[i-1], list[i]\n",
    "            graph[parent].append(child)\n",
    "            indegree[child] += 1\n",
    "\n",
    "    sources = deque([num for num in indegree if indegree[num] == 0])\n",
    "    sorted_order = []\n",
    "    i = 0\n",
    "\n",
    "    while sources:\n",
    "        if len(sources)>1:\n",
    "            return False\n",
    "        if i<len(org) and org[i] != sources[0]:\n",
    "            return False\n",
    "        i += 1\n",
    "        num = sources.popleft()\n",
    "        sorted_order.append(num)\n",
    "        for child in graph[num]:\n",
    "            indegree[child] -= 1\n",
    "            if indegree[child] == 0:\n",
    "                sources.append(child)\n",
    "\n",
    "    return len(org) == len(sorted_order) and len(sorted_order) == len(indegree)\n",
    "\n",
    "org = [4,1,5,2,6,3]; seqs = [[5,2,6,3],[4,1,5,2]]\n",
    "sequenceReconstruction(org, seqs)"
   ]
  },
  {
   "cell_type": "markdown",
   "metadata": {},
   "source": [
    "### Minimum Height Trees\n",
    "For an undirected graph with tree characteristics, we can choose any node as the root. The result graph is then a rooted tree. Among all possible rooted trees, those with minimum height are called minimum height trees (MHTs). Given such a graph, write a function to find all the MHTs and return a list of their root labels.\n",
    "\n",
    "Format\n",
    "The graph contains n nodes which are labeled from 0 to n - 1. You will be given the number n and a list of undirected edges (each edge is a pair of labels).\n",
    "\n",
    "You can assume that no duplicate edges will appear in edges. Since all edges are undirected, [0, 1] is the same as [1, 0] and thus will not appear together in edges.\n",
    "\n",
    "Example 1 :\n",
    "\n",
    "Input: n = 4, edges = [[1, 0], [1, 2], [1, 3]]\n",
    "\n",
    "        0\n",
    "        |\n",
    "        1\n",
    "       / \\\n",
    "      2   3 \n",
    "\n",
    "Output: [1]"
   ]
  },
  {
   "cell_type": "code",
   "execution_count": 8,
   "metadata": {},
   "outputs": [
    {
     "data": {
      "text/plain": [
       "[1]"
      ]
     },
     "execution_count": 8,
     "metadata": {},
     "output_type": "execute_result"
    }
   ],
   "source": [
    "def findMinHeightTrees(n, edges):\n",
    "    from collections import deque\n",
    "    if n == 0: return []\n",
    "    if n == 1: return [0]\n",
    "    graph = {i:[] for i in range(n)}\n",
    "    indegree = {i:0 for i in range(n)}\n",
    "\n",
    "    for x,y in edges:\n",
    "        graph[x].append(y)\n",
    "        graph[y].append(x)\n",
    "        indegree[x] += 1\n",
    "        indegree[y] += 1\n",
    "\n",
    "    leaves = deque([i for i in indegree if indegree[i] == 1])\n",
    "    total_nodes = n\n",
    "    while total_nodes>2:\n",
    "        num_leaves = len(leaves)\n",
    "        total_nodes -= num_leaves\n",
    "        for i in range(num_leaves):\n",
    "            leaf = leaves.popleft()\n",
    "            for neigh in graph[leaf]:\n",
    "                indegree[neigh] -= 1\n",
    "                if indegree[neigh] == 1:\n",
    "                    leaves.append(neigh)\n",
    "\n",
    "    return list(leaves)\n",
    "\n",
    "n = 4; edges = [[1, 0], [1, 2], [1, 3]]\n",
    "findMinHeightTrees(n, edges)"
   ]
  }
 ],
 "metadata": {
  "kernelspec": {
   "display_name": "Python 3",
   "language": "python",
   "name": "python3"
  },
  "language_info": {
   "codemirror_mode": {
    "name": "ipython",
    "version": 3
   },
   "file_extension": ".py",
   "mimetype": "text/x-python",
   "name": "python",
   "nbconvert_exporter": "python",
   "pygments_lexer": "ipython3",
   "version": "3.6.8"
  }
 },
 "nbformat": 4,
 "nbformat_minor": 2
}
