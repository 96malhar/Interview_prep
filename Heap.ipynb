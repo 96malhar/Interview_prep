{
 "cells": [
  {
   "cell_type": "markdown",
   "metadata": {},
   "source": [
    "### Find the k smallest numbers in an array of integers."
   ]
  },
  {
   "cell_type": "code",
   "execution_count": 1,
   "metadata": {},
   "outputs": [
    {
     "data": {
      "text/plain": [
       "[5, 5, 5, 4]"
      ]
     },
     "execution_count": 1,
     "metadata": {},
     "output_type": "execute_result"
    }
   ],
   "source": [
    "import heapq\n",
    "def ksmallest(a, k):\n",
    "    if k>len(a):\n",
    "        return -1\n",
    "    heap = []\n",
    "    for i in range(len(a)):\n",
    "        if i<k:\n",
    "            heapq.heappush(heap,-a[i])\n",
    "        else:\n",
    "            if a[i]< -heap[0]:\n",
    "                heapq.heapreplace(heap,-a[i])\n",
    "    ans = []\n",
    "    while len(heap):\n",
    "        ans.append(-heapq.heappop(heap))\n",
    "    return ans\n",
    "        \n",
    "ksmallest([7,4,5,6,5,8,6,5], 4)        "
   ]
  },
  {
   "cell_type": "markdown",
   "metadata": {},
   "source": [
    "### Find the k largest numbers in an array of integers."
   ]
  },
  {
   "cell_type": "code",
   "execution_count": 2,
   "metadata": {},
   "outputs": [
    {
     "data": {
      "text/plain": [
       "[6, 6, 8, 7]"
      ]
     },
     "execution_count": 2,
     "metadata": {},
     "output_type": "execute_result"
    }
   ],
   "source": [
    "import heapq\n",
    "def klargest(a, k):\n",
    "    if k>len(a):\n",
    "        return -1\n",
    "    heap = []\n",
    "    for i in range(len(a)):\n",
    "        if i<k:\n",
    "            heapq.heappush(heap, a[i])\n",
    "        else:\n",
    "            if a[i] > heap[0]:\n",
    "                heapq.heapreplace(heap, a[i])\n",
    "    return heap\n",
    "klargest([7,4,5,6,5,8,6,5], 4)"
   ]
  },
  {
   "cell_type": "markdown",
   "metadata": {},
   "source": [
    "### Sort Characters By Frequency\n",
    "Given a string, sort it in decreasing order based on the frequency of characters.\n",
    "* Input: \"tree\"\n",
    "* Output: \"eert\""
   ]
  },
  {
   "cell_type": "code",
   "execution_count": 3,
   "metadata": {},
   "outputs": [
    {
     "data": {
      "text/plain": [
       "'eert'"
      ]
     },
     "execution_count": 3,
     "metadata": {},
     "output_type": "execute_result"
    }
   ],
   "source": [
    "def frequencySort(s):\n",
    "    import heapq, collections\n",
    "    counter = collections.Counter(s); heap = []\n",
    "    for ch, value in counter.items():\n",
    "        heapq.heappush(heap, (-value,ch))\n",
    "\n",
    "    result = ''\n",
    "    while len(heap):\n",
    "        freq, ch = heapq.heappop(heap)\n",
    "        result += ch*(-freq)\n",
    "    return result\n",
    "\n",
    "frequencySort('tree')"
   ]
  },
  {
   "cell_type": "markdown",
   "metadata": {},
   "source": [
    "### Top K Frequent Elements\n",
    "Given a non-empty array of integers, return the k most frequent elements.\n",
    "\n",
    "* Input: nums = [1,1,1,2,2,3], k = 2\n",
    "* Output: [1,2]"
   ]
  },
  {
   "cell_type": "code",
   "execution_count": 5,
   "metadata": {},
   "outputs": [
    {
     "data": {
      "text/plain": [
       "[4, 1]"
      ]
     },
     "execution_count": 5,
     "metadata": {},
     "output_type": "execute_result"
    }
   ],
   "source": [
    "def topKFrequent(nums,k):\n",
    "    import heapq, collections\n",
    "    counter = collections.Counter(nums)\n",
    "    heap = []\n",
    "    for key, val in counter.items():\n",
    "        if len(heap) < k:\n",
    "            heapq.heappush(heap, (val,key))\n",
    "        elif val > heap[0][0]:\n",
    "            heapq.heapreplace(heap, (val,key))\n",
    "    return [x[1] for x in heap]\n",
    "\n",
    "topKFrequent([1,1,1,1,1,3,3,4,4,4,4], 2)"
   ]
  },
  {
   "cell_type": "markdown",
   "metadata": {},
   "source": [
    "### Find Median in a data stream"
   ]
  },
  {
   "cell_type": "code",
   "execution_count": 5,
   "metadata": {},
   "outputs": [],
   "source": [
    "from heapq import *\n",
    "class MedianFinder:\n",
    "    def __init__(self):\n",
    "        self.lower = []\n",
    "        self.higher = []\n",
    "     \n",
    "    def addNum(self, num: int) -> None:\n",
    "        if not len(self.lower) or num < -self.lower[0]:\n",
    "            heappush(self.lower, -num)\n",
    "        else:\n",
    "            heappush(self.higher, num)\n",
    "        self.rebalance()\n",
    "    \n",
    "    def rebalance(self):\n",
    "        if len(self.lower) - len(self.higher) > 1:\n",
    "            heappush(self.higher, -heappop(self.lower))\n",
    "        elif len(self.higher) - len(self.lower) > 1:\n",
    "            heappush(self.lower, -heappop(self.higher))\n",
    "\n",
    "    def findMedian(self) -> float:\n",
    "        if len(self.higher) == len(self.lower):\n",
    "            return (self.higher[0] - self.lower[0]) / 2.0\n",
    "        return -self.lower[0] if len(self.lower) > len(self.higher) else self.higher[0]\n"
   ]
  },
  {
   "cell_type": "code",
   "execution_count": 7,
   "metadata": {},
   "outputs": [
    {
     "data": {
      "text/plain": [
       "2"
      ]
     },
     "execution_count": 7,
     "metadata": {},
     "output_type": "execute_result"
    }
   ],
   "source": [
    "obj = MedianFinder()\n",
    "obj.addNum(1)\n",
    "obj.addNum(2)\n",
    "obj.findMedian()\n",
    "obj.addNum(3)\n",
    "obj.findMedian()"
   ]
  },
  {
   "cell_type": "markdown",
   "metadata": {},
   "source": [
    "### Sort an almost sorted array (K sorted array)\n",
    "Given an array of n elements, where each element is at most k away from its target position, devise an algorithm that sorts in O(n log k) time. For example, let us consider k is 2, an element at index 7 in the sorted array, can be at indexes 5, 6, 7, 8, 9 in the given array.\n",
    "\n",
    "* Input : arr[] = {6, 5, 3, 2, 8, 10, 9}\n",
    "            k = 3 \n",
    "* Output : arr[] = {2, 3, 5, 6, 8, 9, 10}\n"
   ]
  },
  {
   "cell_type": "code",
   "execution_count": 5,
   "metadata": {},
   "outputs": [
    {
     "data": {
      "text/plain": [
       "[4, 7, 8, 9, 10, 50, 60, 70]"
      ]
     },
     "execution_count": 5,
     "metadata": {},
     "output_type": "execute_result"
    }
   ],
   "source": [
    "from heapq import heapify, heappush, heappop\n",
    "def sort_nearly(nums, k):\n",
    "    heap = []; index = 0\n",
    "    for i in range(len(nums)):\n",
    "        if i < k+1:\n",
    "            heappush(heap, nums[i])\n",
    "        else:\n",
    "            nums[index] = heappop(heap)\n",
    "            heappush(heap, nums[i])\n",
    "            index += 1\n",
    "\n",
    "    while len(heap):\n",
    "        nums[index] = heappop(heap)\n",
    "        index += 1\n",
    "    return nums\n",
    "sort_nearly([10, 9, 8, 7, 4, 70, 60, 50], 4)\n",
    "    \n",
    "    "
   ]
  },
  {
   "cell_type": "markdown",
   "metadata": {},
   "source": [
    "### Third Maximum Number\n",
    "Given a non-empty array of integers, return the third maximum number in this array. If it does not exist, return the maximum number. The time complexity must be in O(n).\n",
    "* Input: [2, 2, 3, 1]\n",
    "\n",
    "* Output: 1\n",
    "\n",
    "* Explanation: Note that the third maximum here means the third maximum distinct number.Both numbers with value 2 are both considered as second maximum."
   ]
  },
  {
   "cell_type": "code",
   "execution_count": 3,
   "metadata": {},
   "outputs": [
    {
     "data": {
      "text/plain": [
       "1"
      ]
     },
     "execution_count": 3,
     "metadata": {},
     "output_type": "execute_result"
    }
   ],
   "source": [
    "def thirdMax(nums):\n",
    "    from heapq import heappush, heapreplace\n",
    "    heap = []\n",
    "    for num in nums:\n",
    "        if len(heap)<3 and num not in heap:\n",
    "            heappush(heap, num)\n",
    "        elif len(heap)==3 and num not in heap and num>heap[0]:\n",
    "            heapreplace(heap, num)\n",
    "    return heap[0] if len(heap)>=3 else max(heap)\n",
    "thirdMax([2,2,3,1])"
   ]
  },
  {
   "cell_type": "markdown",
   "metadata": {},
   "source": [
    "### Top K frequent words\n",
    "Given a non-empty list of words, return the k most frequent elements.\n",
    "\n",
    "Your answer should be sorted by frequency from highest to lowest. If two words have the same frequency, then the word with the lower alphabetical order comes first.\n",
    "* Input: [\"i\", \"love\", \"leetcode\", \"i\", \"love\", \"coding\"], k = 2\n",
    "* Output: [\"i\", \"love\"]\n",
    "* Explanation: \"i\" and \"love\" are the two most frequent words. Note that \"i\" comes before \"love\" due to a lower alphabetical order."
   ]
  },
  {
   "cell_type": "code",
   "execution_count": 7,
   "metadata": {},
   "outputs": [
    {
     "data": {
      "text/plain": [
       "['the', 'is', 'sunny', 'day']"
      ]
     },
     "execution_count": 7,
     "metadata": {},
     "output_type": "execute_result"
    }
   ],
   "source": [
    "def topKFrequent(words, k):\n",
    "    import collections\n",
    "    from heapq import heappush, heappop\n",
    "    count = collections.Counter(words); heap = []; ans = []\n",
    "    for word, freq in count.items():\n",
    "        heappush(heap, (-freq,word))\n",
    "    while len(ans)<k:\n",
    "        ans.append(heappop(heap)[1])\n",
    "    return ans\n",
    "\n",
    "topKFrequent([\"the\", \"day\", \"is\", \"sunny\", \"the\", \"the\", \"the\", \"sunny\", \"is\", \"is\"], 4)    "
   ]
  },
  {
   "cell_type": "markdown",
   "metadata": {},
   "source": [
    "### Design a Max heap"
   ]
  },
  {
   "cell_type": "code",
   "execution_count": 73,
   "metadata": {},
   "outputs": [],
   "source": [
    "class MaxHeap:\n",
    "    \n",
    "    def __init__(self):\n",
    "        self.a = []\n",
    "        self.size = 0\n",
    "    \n",
    "    def get_left(self,i):\n",
    "        return 2*i+1\n",
    "    \n",
    "    def get_right(self,i):\n",
    "        return 2*i+2\n",
    "    \n",
    "    def get_parent(self, i):\n",
    "        return (i-1)//2\n",
    "    \n",
    "    def isValid(self,i):\n",
    "        return 0<=i<self.size\n",
    "    \n",
    "    def propogateup(self,i):\n",
    "        parent = self.get_parent(i)\n",
    "        while i>0 and self.a[parent]<self.a[i]:\n",
    "            self.a[parent], self.a[i] = self.a[i], self.a[parent]\n",
    "            i = parent\n",
    "            parent = self.get_parent(i)\n",
    "            \n",
    "    def heapify(self, i):\n",
    "        if not self.isValid(i):\n",
    "            return\n",
    "        left = self.a[self.get_left(i)] if self.isValid(self.get_left(i)) else -float('inf')\n",
    "        right = self.a[self.get_right(i)] if self.isValid(self.get_right(i)) else -float('inf')\n",
    "        maxval = max(left, right, self.a[i])\n",
    "        maxindex = i\n",
    "        if maxval == left:\n",
    "            maxindex = self.get_left(i)\n",
    "        elif maxval == right:\n",
    "            maxindex = self.get_right(i)\n",
    "        if maxindex != i:\n",
    "            self.a[maxindex], self.a[i] = self.a[i], self.a[maxindex]\n",
    "            self.heapify(maxindex)\n",
    "            \n",
    "    def get_max(self):\n",
    "        if self.size == 0:\n",
    "            return -1\n",
    "        return self.a[0]\n",
    "    \n",
    "    def insert(self,val):\n",
    "        self.a.append(val)\n",
    "        self.size += 1\n",
    "        self.propogateup(self.size-1)\n",
    "        \n",
    "    def pop(self):\n",
    "        if self.size == 0:\n",
    "            return \n",
    "        maxval = self.a[0]\n",
    "        self.a[0], self.a[self.size-1] = self.a[self.size-1], self.a[0]\n",
    "        del self.a[self.size-1]\n",
    "        self.size -= 1\n",
    "        self.heapify(0)\n",
    "        return maxval\n",
    "    \n",
    "    def delete(self,i):\n",
    "        if not self.isValid(i):\n",
    "            return \n",
    "        self.a[i], self.a[self.size-1] = self.a[self.size-1], self.a[i]\n",
    "        del self.a[self.size-1]\n",
    "        self.size -= 1\n",
    "        parent = self.get_parent(i)\n",
    "        if self.a[parent] < self.a[i]:\n",
    "            self.propogateup(i)\n",
    "        else:\n",
    "            self.heapify(i)\n",
    "         \n",
    "    def print(self):\n",
    "        return self.a\n",
    "        "
   ]
  },
  {
   "cell_type": "code",
   "execution_count": 84,
   "metadata": {},
   "outputs": [
    {
     "data": {
      "text/plain": [
       "[100, 78, 100, 2, 3, 7]"
      ]
     },
     "execution_count": 84,
     "metadata": {},
     "output_type": "execute_result"
    }
   ],
   "source": [
    "heap = MaxHeap()\n",
    "heap.insert(3)\n",
    "heap.insert(7)\n",
    "heap.insert(100)\n",
    "heap.insert(2)\n",
    "heap.insert(78)\n",
    "heap.insert(100)\n",
    "heap.print()"
   ]
  },
  {
   "cell_type": "code",
   "execution_count": 85,
   "metadata": {},
   "outputs": [
    {
     "data": {
      "text/plain": [
       "100"
      ]
     },
     "execution_count": 85,
     "metadata": {},
     "output_type": "execute_result"
    }
   ],
   "source": [
    "heap.pop()"
   ]
  },
  {
   "cell_type": "code",
   "execution_count": 86,
   "metadata": {},
   "outputs": [
    {
     "data": {
      "text/plain": [
       "100"
      ]
     },
     "execution_count": 86,
     "metadata": {},
     "output_type": "execute_result"
    }
   ],
   "source": [
    "heap.pop()"
   ]
  },
  {
   "cell_type": "code",
   "execution_count": 87,
   "metadata": {},
   "outputs": [
    {
     "data": {
      "text/plain": [
       "78"
      ]
     },
     "execution_count": 87,
     "metadata": {},
     "output_type": "execute_result"
    }
   ],
   "source": [
    "heap.pop()"
   ]
  }
 ],
 "metadata": {
  "kernelspec": {
   "display_name": "Python 3",
   "language": "python",
   "name": "python3"
  },
  "language_info": {
   "codemirror_mode": {
    "name": "ipython",
    "version": 3
   },
   "file_extension": ".py",
   "mimetype": "text/x-python",
   "name": "python",
   "nbconvert_exporter": "python",
   "pygments_lexer": "ipython3",
   "version": "3.6.8"
  }
 },
 "nbformat": 4,
 "nbformat_minor": 2
}
