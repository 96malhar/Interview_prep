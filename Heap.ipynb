{
 "cells": [
  {
   "cell_type": "markdown",
   "metadata": {},
   "source": [
    "### Find the k smallest numbers in an array of integers."
   ]
  },
  {
   "cell_type": "code",
   "execution_count": 7,
   "metadata": {},
   "outputs": [
    {
     "data": {
      "text/plain": [
       "[5, 5, 5, 4]"
      ]
     },
     "execution_count": 7,
     "metadata": {},
     "output_type": "execute_result"
    }
   ],
   "source": [
    "import heapq\n",
    "def ksmallest(a, k):\n",
    "    if k>len(a):\n",
    "        return -1\n",
    "    heap = []\n",
    "    for i in range(len(a)):\n",
    "        heapq.heappush(heap,-a[i])\n",
    "        if len(heap) > k:\n",
    "            heapq.heappop(heap)\n",
    "    ans = []\n",
    "    while len(heap):\n",
    "        ans.append(-heapq.heappop(heap))\n",
    "    return ans\n",
    "        \n",
    "ksmallest([7,4,5,6,5,8,6,5], 4)        "
   ]
  },
  {
   "cell_type": "markdown",
   "metadata": {},
   "source": [
    "### Find the k largest numbers in an array of integers."
   ]
  },
  {
   "cell_type": "code",
   "execution_count": 9,
   "metadata": {},
   "outputs": [
    {
     "data": {
      "text/plain": [
       "[6, 6, 7, 8]"
      ]
     },
     "execution_count": 9,
     "metadata": {},
     "output_type": "execute_result"
    }
   ],
   "source": [
    "import heapq\n",
    "def klargest(a, k):\n",
    "    if k>len(a):\n",
    "        return -1\n",
    "    heap = []\n",
    "    for i in range(len(a)):\n",
    "        heapq.heappush(heap, a[i])\n",
    "        if len(heap)>k:\n",
    "            heapq.heappop(heap)\n",
    "    return heap\n",
    "klargest([7,4,5,6,5,8,6,5], 4)"
   ]
  },
  {
   "cell_type": "markdown",
   "metadata": {},
   "source": [
    "### Maximum Product of Three Numbers\n",
    "Given an integer array, find three numbers whose product is maximum and output the maximum product."
   ]
  },
  {
   "cell_type": "code",
   "execution_count": 8,
   "metadata": {},
   "outputs": [
    {
     "data": {
      "text/plain": [
       "0"
      ]
     },
     "execution_count": 8,
     "metadata": {},
     "output_type": "execute_result"
    }
   ],
   "source": [
    "from heapq import nlargest, nsmallest\n",
    "class Solution:\n",
    "    def maximumProduct(self, nums) -> int:\n",
    "        largest = nlargest(3, nums)\n",
    "        smallest = nsmallest(2, nums)\n",
    "        a = largest[0]; b = largest[1]; c = largest[2]\n",
    "        d = smallest[0]; e = smallest[1]\n",
    "        return max(a*b*c, a*d*e)\n",
    "\n",
    "nums = [-1,2,0,4]\n",
    "Solution().maximumProduct(nums)"
   ]
  },
  {
   "cell_type": "markdown",
   "metadata": {},
   "source": [
    "### Sort Characters By Frequency\n",
    "Given a string, sort it in decreasing order based on the frequency of characters.\n",
    "* Input: \"tree\"\n",
    "* Output: \"eert\""
   ]
  },
  {
   "cell_type": "code",
   "execution_count": 3,
   "metadata": {},
   "outputs": [
    {
     "data": {
      "text/plain": [
       "'eert'"
      ]
     },
     "execution_count": 3,
     "metadata": {},
     "output_type": "execute_result"
    }
   ],
   "source": [
    "def frequencySort(s):\n",
    "    import heapq, collections\n",
    "    counter = collections.Counter(s); heap = []\n",
    "    for ch, value in counter.items():\n",
    "        heapq.heappush(heap, (-value,ch))\n",
    "\n",
    "    result = ''\n",
    "    while len(heap):\n",
    "        freq, ch = heapq.heappop(heap)\n",
    "        result += ch*(-freq)\n",
    "    return result\n",
    "\n",
    "frequencySort('tree')"
   ]
  },
  {
   "cell_type": "markdown",
   "metadata": {},
   "source": [
    "### Top K Frequent Elements\n",
    "Given a non-empty array of integers, return the k most frequent elements.\n",
    "\n",
    "* Input: nums = [1,1,1,2,2,3], k = 2\n",
    "* Output: [1,2]"
   ]
  },
  {
   "cell_type": "code",
   "execution_count": 14,
   "metadata": {},
   "outputs": [
    {
     "data": {
      "text/plain": [
       "[4, 1]"
      ]
     },
     "execution_count": 14,
     "metadata": {},
     "output_type": "execute_result"
    }
   ],
   "source": [
    "def topKFrequent(nums,k):\n",
    "    from heapq import heappush, heappop\n",
    "    import collections\n",
    "    heap = []\n",
    "    counter = collections.Counter(nums)\n",
    "    for num, freq in counter.items():\n",
    "        heappush(heap, (freq, num))\n",
    "        if len(heap) > k:\n",
    "            heappop(heap)\n",
    "\n",
    "    return [num for freq, num in heap]\n",
    "\n",
    "topKFrequent([1,1,1,1,1,3,3,4,4,4,4], 2)"
   ]
  },
  {
   "cell_type": "markdown",
   "metadata": {},
   "source": [
    "### Find Median in a data stream"
   ]
  },
  {
   "cell_type": "code",
   "execution_count": 11,
   "metadata": {},
   "outputs": [],
   "source": [
    "from heapq import *\n",
    "class MedianFinder:\n",
    "    def __init__(self):\n",
    "        self.max_heap = [] # stores numbers lower than median\n",
    "        self.min_heap = [] # stores numbers higher than median\n",
    "     \n",
    "    def addNum(self, num: int) -> None:\n",
    "        if not len(self.max_heap) or num <= -self.max_heap[0]:\n",
    "            heappush(self.max_heap, -num)\n",
    "        else:\n",
    "            heappush(self.min_heap, num)\n",
    "        self.rebalance()\n",
    "    \n",
    "    def rebalance(self):\n",
    "        if len(self.max_heap) - len(self.min_heap) > 1:\n",
    "            heappush(self.min_heap, -heappop(self.max_heap))\n",
    "        elif len(self.min_heap) > len(self.max_heap):\n",
    "            heappush(self.max_heap, -heappop(self.min_heap))\n",
    "\n",
    "    def findMedian(self) -> float:\n",
    "        if len(self.min_heap) == len(self.max_heap):\n",
    "            return (self.min_heap[0] - self.max_heap[0]) / 2.0\n",
    "        return -self.max_heap[0]\n"
   ]
  },
  {
   "cell_type": "code",
   "execution_count": 2,
   "metadata": {},
   "outputs": [
    {
     "data": {
      "text/plain": [
       "2"
      ]
     },
     "execution_count": 2,
     "metadata": {},
     "output_type": "execute_result"
    }
   ],
   "source": [
    "obj = MedianFinder()\n",
    "obj.addNum(1)\n",
    "obj.addNum(2)\n",
    "obj.findMedian()\n",
    "obj.addNum(3)\n",
    "obj.findMedian()"
   ]
  },
  {
   "cell_type": "markdown",
   "metadata": {},
   "source": [
    "### Sliding window Median"
   ]
  },
  {
   "cell_type": "code",
   "execution_count": 13,
   "metadata": {},
   "outputs": [],
   "source": [
    "from heapq import *\n",
    "import heapq\n",
    "class Solution:\n",
    "    def medianSlidingWindow(self, nums, k):\n",
    "        self.min_heap = []; self.max_heap = []\n",
    "        ans = []; left = 0\n",
    "        for right in range(len(nums)):\n",
    "            self.addNum(nums[right])\n",
    "            if right - left + 1 == k:\n",
    "                ans.append(self.find_median())\n",
    "                num = nums[left]\n",
    "                if num<=-self.max_heap[0]:\n",
    "                    self.remove(self.max_heap, -num)\n",
    "                else:\n",
    "                    self.remove(self.min_heap, num)\n",
    "                left += 1\n",
    "        return ans\n",
    "    \n",
    "    def addNum(self, num):\n",
    "        if not len(self.max_heap) or num<=-self.max_heap[0]:\n",
    "            heappush(self.max_heap, -num)\n",
    "        else:\n",
    "            heappush(self.min_heap, num)\n",
    "        self.rebalance()\n",
    "        \n",
    "    def rebalance(self):\n",
    "        if len(self.max_heap)-len(self.min_heap) > 1:\n",
    "            heappush(self.min_heap, -heappop(self.max_heap))\n",
    "        elif len(self.min_heap)>len(self.max_heap):\n",
    "            heappush(self.max_heap, -heappop(self.min_heap))\n",
    "    \n",
    "    def find_median(self):\n",
    "        if len(self.max_heap) == len(self.min_heap):\n",
    "            return (self.min_heap[0]-self.max_heap[0]) / 2\n",
    "        return -self.max_heap[0]\n",
    "    \n",
    "    def remove(self, heap, num):\n",
    "        index = heap.index(num)\n",
    "        heap[index] = heap[-1]\n",
    "        del heap[-1]\n",
    "        if index<len(heap):\n",
    "            heapq._siftup(heap, index)\n",
    "            heapq._siftdown(heap, 0, index)\n",
    "        self.rebalance()"
   ]
  },
  {
   "cell_type": "code",
   "execution_count": 18,
   "metadata": {},
   "outputs": [
    {
     "data": {
      "text/plain": [
       "[1.5, 0.5, 1.0, 4.0]"
      ]
     },
     "execution_count": 18,
     "metadata": {},
     "output_type": "execute_result"
    }
   ],
   "source": [
    "obj = Solution()\n",
    "nums = [1,3,-1,-3,5,3,6,7]; k = 3\n",
    "nums=[1, 2, -1, 3, 5]; k = 2\n",
    "obj.medianSlidingWindow(nums, k)"
   ]
  },
  {
   "cell_type": "markdown",
   "metadata": {},
   "source": [
    "### Maximize capital\n",
    "Given a set of investment projects with their respective profits, we need to find the most profitable projects. We are given an initial capital and are allowed to invest only in a fixed number of projects. Our goal is to choose projects that give us the maximum profit.\n",
    "\n",
    "We can start an investment project only when we have the required capital. Once a project is selected, we can assume that its profit has become our capital.\n",
    "\n",
    "Example 1:\n",
    "\n",
    "Input: \n",
    "* Project Capitals=[0,1,2], \n",
    "* Project Profits=[1,2,3], \n",
    "* Initial Capital=1, \n",
    "* Number of Projects=2\n",
    "Output: 6\n",
    "\n",
    "Explanation:\n",
    "\n",
    "With initial capital of ‘1’, we will start the second project which will give us profit of ‘2’. Once we selected our first project, our total capital will become 3 (profit + initial capital).\n",
    "With ‘3’ capital, we will select the third project, which will give us ‘3’ profit.\n",
    "After the completion of the two projects, our total capital will be 6 (1+2+3)."
   ]
  },
  {
   "cell_type": "code",
   "execution_count": 23,
   "metadata": {},
   "outputs": [
    {
     "data": {
      "text/plain": [
       "4"
      ]
     },
     "execution_count": 23,
     "metadata": {},
     "output_type": "execute_result"
    }
   ],
   "source": [
    "def find_maximum_capital(capital, profits, numberOfProjects, initialCapital):\n",
    "    minCapitalHeap = []\n",
    "    maxProfitHeap = []\n",
    "\n",
    "    # insert all project capitals to a min-heap\n",
    "    for i in range(0, len(profits)):\n",
    "        heappush(minCapitalHeap, (capital[i], i))\n",
    "\n",
    "    # let's try to find a total of 'numberOfProjects' best projects\n",
    "    availableCapital = initialCapital\n",
    "    for _ in range(numberOfProjects):\n",
    "        # find all projects that can be selected within the available capital and insert them in a max-heap\n",
    "        while minCapitalHeap and minCapitalHeap[0][0] <= availableCapital:\n",
    "            capital, i = heappop(minCapitalHeap)\n",
    "            heappush(maxProfitHeap, (-profits[i], i))\n",
    "\n",
    "        # terminate if we are not able to find any project that can be completed within the available capital\n",
    "        if not maxProfitHeap:\n",
    "            break\n",
    "\n",
    "        # select the project with the maximum profit\n",
    "        availableCapital += -heappop(maxProfitHeap)[0]\n",
    "\n",
    "    return availableCapital\n",
    "\n",
    "numberOfProjects=2; initialCapital=0; profits=[1,2,3]; capital=[0,1,1]\n",
    "find_maximum_capital(capital, profits, numberOfProjects, initialCapital)"
   ]
  },
  {
   "cell_type": "markdown",
   "metadata": {},
   "source": [
    "### Next Interval (hard)\n",
    "Given an array of intervals, find the next interval of each interval. In a list of intervals, for an interval ‘i’ its next interval ‘j’ will have the smallest ‘start’ greater than or equal to the ‘end’ of ‘i’.\n",
    "\n",
    "Write a function to return an array containing indices of the next interval of each input interval. If there is no next interval of a given interval, return -1. It is given that none of the intervals have the same start point.\n",
    "\n",
    "* Input: Intervals [[2,3], [3,4], [5,6]]\n",
    "* Output: [1, 2, -1]\n",
    "* Explanation: The next interval of [2,3] is [3,4] having index ‘1’. Similarly, the next interval of [3,4] is [5,6] having index ‘2’. There is no next interval for [5,6] hence we have ‘-1’."
   ]
  },
  {
   "cell_type": "code",
   "execution_count": 13,
   "metadata": {},
   "outputs": [
    {
     "data": {
      "text/plain": [
       "[1, 2, -1]"
      ]
     },
     "execution_count": 13,
     "metadata": {},
     "output_type": "execute_result"
    }
   ],
   "source": [
    "from heapq import *\n",
    "def findRightInterval(intervals):\n",
    "    start = 0; end = 1; ans = []\n",
    "    start_heap = []; end_heap = []\n",
    "    for i, interval in enumerate(intervals):\n",
    "        heappush(start_heap, (-interval[start], i))\n",
    "        heappush(end_heap, (-interval[end], i))\n",
    "\n",
    "    result = [-1]*len(intervals)\n",
    "    for _ in range(len(intervals)):\n",
    "        interval_end, index = heappop(end_heap)\n",
    "        if start_heap and -start_heap[0][0] >= -interval_end:\n",
    "            while start_heap and -start_heap[0][0] >= -interval_end:\n",
    "                interval_start, i = heappop(start_heap)\n",
    "            result[index] = i\n",
    "            heappush(start_heap, (interval_start, i))\n",
    "    return result\n",
    "\n",
    "intervals = [[2,3], [3,4], [5,6]]\n",
    "findRightInterval(intervals)"
   ]
  },
  {
   "cell_type": "markdown",
   "metadata": {},
   "source": [
    "### Sort an almost sorted array (K sorted array)\n",
    "Given an array of n elements, where each element is at most k away from its target position, devise an algorithm that sorts in O(n log k) time. For example, let us consider k is 2, an element at index 7 in the sorted array, can be at indexes 5, 6, 7, 8, 9 in the given array.\n",
    "\n",
    "* Input : arr[] = {6, 5, 3, 2, 8, 10, 9}\n",
    "            k = 3 \n",
    "* Output : arr[] = {2, 3, 5, 6, 8, 9, 10}\n"
   ]
  },
  {
   "cell_type": "code",
   "execution_count": 19,
   "metadata": {},
   "outputs": [
    {
     "data": {
      "text/plain": [
       "[4, 7, 8, 9, 10, 50, 60, 70]"
      ]
     },
     "execution_count": 19,
     "metadata": {},
     "output_type": "execute_result"
    }
   ],
   "source": [
    "from heapq import heapify, heappush, heappop\n",
    "def sort_nearly(nums, k):\n",
    "    heap = []; index = 0\n",
    "    for i in range(len(nums)):\n",
    "        heappush(heap, nums[i])\n",
    "        if len(heap) == k+1:\n",
    "            nums[index] = heappop(heap)\n",
    "            index += 1\n",
    "\n",
    "    while len(heap):\n",
    "        nums[index] = heappop(heap)\n",
    "        index += 1\n",
    "    return nums\n",
    "sort_nearly([10, 9, 8, 7, 4, 70, 60, 50], 4)"
   ]
  },
  {
   "cell_type": "markdown",
   "metadata": {},
   "source": [
    "### Third Maximum Number\n",
    "Given a non-empty array of integers, return the third maximum number in this array. If it does not exist, return the maximum number. The time complexity must be in O(n).\n",
    "* Input: [2, 2, 3, 1]\n",
    "\n",
    "* Output: 1\n",
    "\n",
    "* Explanation: Note that the third maximum here means the third maximum distinct number.Both numbers with value 2 are both considered as second maximum."
   ]
  },
  {
   "cell_type": "code",
   "execution_count": 3,
   "metadata": {},
   "outputs": [
    {
     "data": {
      "text/plain": [
       "1"
      ]
     },
     "execution_count": 3,
     "metadata": {},
     "output_type": "execute_result"
    }
   ],
   "source": [
    "def thirdMax(nums):\n",
    "    from heapq import heappush, heapreplace\n",
    "    heap = []\n",
    "    for num in nums:\n",
    "        if len(heap)<3 and num not in heap:\n",
    "            heappush(heap, num)\n",
    "        elif len(heap)==3 and num not in heap and num>heap[0]:\n",
    "            heapreplace(heap, num)\n",
    "    return heap[0] if len(heap)==3 else max(heap)\n",
    "thirdMax([2,2,3,1])"
   ]
  },
  {
   "cell_type": "markdown",
   "metadata": {},
   "source": [
    "### Top K frequent words\n",
    "Given a non-empty list of words, return the k most frequent elements.\n",
    "\n",
    "Your answer should be sorted by frequency from highest to lowest. If two words have the same frequency, then the word with the lower alphabetical order comes first.\n",
    "* Input: [\"i\", \"love\", \"leetcode\", \"i\", \"love\", \"coding\"], k = 2\n",
    "* Output: [\"i\", \"love\"]\n",
    "* Explanation: \"i\" and \"love\" are the two most frequent words. Note that \"i\" comes before \"love\" due to a lower alphabetical order."
   ]
  },
  {
   "cell_type": "code",
   "execution_count": 9,
   "metadata": {},
   "outputs": [
    {
     "data": {
      "text/plain": [
       "['the', 'is', 'sunny', 'day']"
      ]
     },
     "execution_count": 9,
     "metadata": {},
     "output_type": "execute_result"
    }
   ],
   "source": [
    "def topKFrequent(words, k): \n",
    "    import collections\n",
    "    count = collections.Counter(words)\n",
    "    from heapq import heappush, heapreplace, heappop\n",
    "    heap = []\n",
    "    for word, freq in count.items():\n",
    "        if len(heap)<k:\n",
    "            heappush(heap, object(word, freq))\n",
    "        elif object(word, freq) > heap[0]:\n",
    "            heapreplace(heap, object(word, freq))\n",
    "    ans = []\n",
    "    while len(heap):\n",
    "        ans.append(heappop(heap).word)\n",
    "    return ans[::-1]\n",
    "\n",
    "class object:\n",
    "    def __init__(self, word, freq):\n",
    "        self.word = word\n",
    "        self.freq = freq\n",
    "        \n",
    "    def __lt__(self, other):\n",
    "        if self.freq != other.freq:\n",
    "            return self.freq < other.freq\n",
    "        return self.word>other.word\n",
    "\n",
    "topKFrequent([\"the\", \"day\", \"is\", \"sunny\", \"the\", \"the\", \"the\", \"sunny\", \"is\", \"is\"], 4)   \n",
    "# topKFrequent(['i', 'love', 'high'], 1)"
   ]
  },
  {
   "cell_type": "markdown",
   "metadata": {},
   "source": [
    "### Minimum Cost to Connect Sticks\n",
    "You have some sticks with positive integer lengths.\n",
    "\n",
    "You can connect any two sticks of lengths X and Y into one stick by paying a cost of X + Y.  You perform this action until there is one stick remaining.\n",
    "\n",
    "Return the minimum cost of connecting all the given sticks into one stick in this way.\n",
    "\n",
    "* Input: sticks = [1,8,3,5]\n",
    "* Output: 30"
   ]
  },
  {
   "cell_type": "code",
   "execution_count": 1,
   "metadata": {},
   "outputs": [
    {
     "data": {
      "text/plain": [
       "30"
      ]
     },
     "execution_count": 1,
     "metadata": {},
     "output_type": "execute_result"
    }
   ],
   "source": [
    "def connectSticks(sticks):\n",
    "    from heapq import heappush, heappop\n",
    "    heap = []; ans = 0\n",
    "    for stick in sticks:\n",
    "        heappush(heap, stick)\n",
    "\n",
    "    while len(heap):\n",
    "        if len(heap) == 1:\n",
    "            return ans\n",
    "        minimum = heappop(heap)\n",
    "        sec_minimum = heappop(heap)\n",
    "        cost_to_merge = minimum + sec_minimum\n",
    "        ans += cost_to_merge\n",
    "        heappush(heap, cost_to_merge)\n",
    "        \n",
    "sticks = [1,3,8,5]\n",
    "connectSticks(sticks)"
   ]
  },
  {
   "cell_type": "markdown",
   "metadata": {},
   "source": [
    "### Last Stone Weight\n",
    "We have a collection of rocks, each rock has a positive integer weight.\n",
    "\n",
    "Each turn, we choose the two heaviest rocks and smash them together.  Suppose the stones have weights x and y with x <= y.  The result of this smash is:\n",
    "\n",
    "* If x == y, both stones are totally destroyed;\n",
    "* If x != y, the stone of weight x is totally destroyed, and the stone of weight y has new weight y-x. \n",
    "* At the end, there is at most 1 stone left.  Return the weight of this stone (or 0 if there are no stones left.)\n",
    "\n",
    "* Input: [2,7,4,1,8,1]\n",
    "* Output: 1\n",
    "* Explanation: \n",
    "    * We combine 7 and 8 to get 1 so the array converts to [2,4,1,1,1] then,\n",
    "    * we combine 2 and 4 to get 2 so the array converts to [2,1,1,1] then,\n",
    "    * we combine 2 and 1 to get 1 so the array converts to [1,1,1] then,\n",
    "    * we combine 1 and 1 to get 0 so the array converts to [1] then that's the value of last stone."
   ]
  },
  {
   "cell_type": "code",
   "execution_count": 4,
   "metadata": {},
   "outputs": [
    {
     "data": {
      "text/plain": [
       "1"
      ]
     },
     "execution_count": 4,
     "metadata": {},
     "output_type": "execute_result"
    }
   ],
   "source": [
    "def lastStoneWeight(stones):\n",
    "    from heapq import heappush, heappop, heapreplace\n",
    "    heap = []\n",
    "    for stone in stones:\n",
    "        heappush(heap, -stone)\n",
    "\n",
    "    while len(heap):\n",
    "        if len(heap) == 1:\n",
    "            return -heap[0]\n",
    "        largest = -heappop(heap)\n",
    "        sec_largest = -heappop(heap)\n",
    "        if largest == sec_largest:\n",
    "            continue\n",
    "        heappush(heap, sec_largest-largest)\n",
    "    return 0\n",
    "\n",
    "lastStoneWeight([2,7,4,1,8,1])"
   ]
  },
  {
   "cell_type": "markdown",
   "metadata": {},
   "source": [
    "### K Closest points to origin\n",
    "We have a list of points on the plane.  Find the K closest points to the origin (0, 0).\n",
    "\n",
    "(Here, the distance between two points on a plane is the Euclidean distance.)\n",
    "\n",
    "You may return the answer in any order.  The answer is guaranteed to be unique (except for the order that it is in.)"
   ]
  },
  {
   "cell_type": "code",
   "execution_count": 4,
   "metadata": {},
   "outputs": [
    {
     "data": {
      "text/plain": [
       "[[-2, 4], [3, 3]]"
      ]
     },
     "execution_count": 4,
     "metadata": {},
     "output_type": "execute_result"
    }
   ],
   "source": [
    "from heapq import heappush, heappop\n",
    "def kClosest(points, K):\n",
    "    heap = []\n",
    "    for x, y in points:\n",
    "        dist = x**2 + y**2\n",
    "        if len(heap) < K:\n",
    "            heappush(heap, (-dist, [x,y]))\n",
    "        elif dist < -heap[0][0]:\n",
    "            heappop(heap)\n",
    "            heappush(heap, (-dist, [x,y]))\n",
    "\n",
    "    return [list[1] for list in heap]\n",
    "\n",
    "points = [[3,3],[5,-1],[-2,4]]; K = 2\n",
    "kClosest(points, K)"
   ]
  },
  {
   "cell_type": "markdown",
   "metadata": {},
   "source": [
    "### Maximum Distinct Elements\n",
    "Given an array of numbers and a number ‘K’, we need to remove ‘K’ numbers from the array such that we are left with maximum distinct numbers."
   ]
  },
  {
   "cell_type": "code",
   "execution_count": 27,
   "metadata": {},
   "outputs": [
    {
     "name": "stdout",
     "output_type": "stream",
     "text": [
      "Maximum distinct numbers after removing K numbers: 2\n",
      "Maximum distinct numbers after removing K numbers: 2\n",
      "Maximum distinct numbers after removing K numbers: 2\n"
     ]
    },
    {
     "data": {
      "text/plain": [
       "1"
      ]
     },
     "execution_count": 27,
     "metadata": {},
     "output_type": "execute_result"
    }
   ],
   "source": [
    "def find_maximum_distinct_elements(nums, k):\n",
    "    from heapq import heappush, heappop\n",
    "    from collections import Counter\n",
    "    heap = []\n",
    "    count_distinct = 0\n",
    "    # find the frequency of each number\n",
    "    counter = Counter(nums)\n",
    "    \n",
    "    # insert all numbers with frequency greater than '1' into the min-heap\n",
    "    for num, freq in counter.items():\n",
    "        if freq == 1:\n",
    "            count_distinct += 1\n",
    "        else:\n",
    "            heappush(heap, (freq, num))\n",
    "    \n",
    "    # following a greedy approach, try removing the least frequent numbers first from the min-heap\n",
    "    while k>0 and len(heap):\n",
    "        freq, num = heappop(heap)\n",
    "        # To make an element distinct, we need to remove all its occurences except 1.\n",
    "        k -= freq-1\n",
    "        if k>=0:\n",
    "            count_distinct += 1\n",
    "    \n",
    "    # if k > 0, this means we have to remove some distinct numbers.\n",
    "    if k>0:\n",
    "        count_distinct -= k\n",
    "    return count_distinct\n",
    "\n",
    "print(\"Maximum distinct numbers after removing K numbers: \" +\n",
    "        str(find_maximum_distinct_elements([7, 3, 5, 8, 5, 3, 3], 5)))\n",
    "print(\"Maximum distinct numbers after removing K numbers: \" +\n",
    "    str(find_maximum_distinct_elements([3, 5, 12, 11, 12], 3)))\n",
    "print(\"Maximum distinct numbers after removing K numbers: \" +\n",
    "    str(find_maximum_distinct_elements([3, 3, 3, 2, 2, 2, 1, 1], 3)))\n",
    "find_maximum_distinct_elements([1,2,2,2], 1)"
   ]
  },
  {
   "cell_type": "markdown",
   "metadata": {},
   "source": [
    "### Sum of elements\n",
    "Given an array, find the sum of all numbers between the K1’th and K2’th smallest elements of that array.\n",
    "* Excluding the K1’th and K2’th smallest elements.\n"
   ]
  },
  {
   "cell_type": "code",
   "execution_count": 33,
   "metadata": {},
   "outputs": [
    {
     "name": "stdout",
     "output_type": "stream",
     "text": [
      "Sum of all numbers between k1 and k2 smallest numbers: 23\n",
      "Sum of all numbers between k1 and k2 smallest numbers: 12\n"
     ]
    }
   ],
   "source": [
    "def find_sum_of_elements(nums, k1, k2):\n",
    "    from heapq import heappush, heappop\n",
    "    heap = []\n",
    "    # Store the smallest k2-1 numbers in a max-heap.\n",
    "    for num in nums:\n",
    "        heappush(heap, -num)\n",
    "        if len(heap)>k2-1:\n",
    "            heappop(heap)\n",
    "    \n",
    "    ans = 0\n",
    "    for _ in range(k2-k1-1):\n",
    "        ans += -heappop(heap)\n",
    "    return ans\n",
    "\n",
    "print(\"Sum of all numbers between k1 and k2 smallest numbers: \" +\n",
    "        str(find_sum_of_elements([1, 3, 12, 5, 15, 11], 3, 6)))\n",
    "print(\"Sum of all numbers between k1 and k2 smallest numbers: \" +\n",
    "        str(find_sum_of_elements([3, 5, 8, 7], 1, 4)))"
   ]
  },
  {
   "cell_type": "markdown",
   "metadata": {},
   "source": [
    "### Reorganize String\n",
    "Given a string S, check if the letters can be rearranged so that two characters that are adjacent to each other are not the same.\n",
    "\n",
    "If possible, output any possible result.  If not possible, return the empty string."
   ]
  },
  {
   "cell_type": "code",
   "execution_count": 9,
   "metadata": {},
   "outputs": [
    {
     "data": {
      "text/plain": [
       "'abab'"
      ]
     },
     "execution_count": 9,
     "metadata": {},
     "output_type": "execute_result"
    }
   ],
   "source": [
    "def reorganizeString(S):\n",
    "    import collections\n",
    "    from heapq import heappush, heappop\n",
    "    heap = []; ans = []\n",
    "    counter = collections.Counter(S)\n",
    "    for ch, freq in counter.items():\n",
    "        heappush(heap, (-freq, ch))\n",
    "    prev_ch, prev_freq = None, 0\n",
    "    while heap:\n",
    "        freq, char = heappop(heap)\n",
    "        ans.append(char)\n",
    "        if prev_freq != 0:\n",
    "            heappush(heap, (prev_freq, prev_ch))\n",
    "        prev_ch = char\n",
    "        prev_freq = freq + 1\n",
    "\n",
    "    return ''.join(ans) if len(ans) == len(S) else ''\n",
    "\n",
    "reorganizeString('aabb')"
   ]
  },
  {
   "cell_type": "markdown",
   "metadata": {},
   "source": [
    "### Rearrage String K distance Apart\n",
    "Given a string and a number ‘K’, find if the string can be rearranged such that the same characters are at least ‘K’ distance apart from each other.\n",
    "* Input: \"Programming\", K=3\n",
    "* Output: \"rgmPrgmiano\" or \"gmringmrPoa\" or \"gmrPagimnor\" and a few more  \n",
    "* Explanation: All same characters are 3 distance apart."
   ]
  },
  {
   "cell_type": "code",
   "execution_count": 30,
   "metadata": {},
   "outputs": [
    {
     "data": {
      "text/plain": [
       "'programming'"
      ]
     },
     "execution_count": 30,
     "metadata": {},
     "output_type": "execute_result"
    }
   ],
   "source": [
    "def reorganizeString(s, k):\n",
    "    if k == 0 or k == 1:\n",
    "        return s\n",
    "    from collections import Counter, deque\n",
    "    from heapq import heappush, heappop\n",
    "    counter = Counter(s)\n",
    "    queue = deque(); heap = []\n",
    "    for ch, freq in counter.items():\n",
    "        heappush(heap, (-freq, ch))\n",
    "    ans = ''\n",
    "    while heap:\n",
    "        freq, ch = heappop(heap)\n",
    "        ans += ch\n",
    "        queue.append((freq+1, ch))\n",
    "        if len(queue) == k:\n",
    "            freq, ch = queue.popleft()\n",
    "            if -freq > 0:\n",
    "                heappush(heap, (freq, ch))\n",
    "    return ans if len(ans) == len(s) else ''\n",
    "\n",
    "reorganizeString('programming', 1)"
   ]
  },
  {
   "cell_type": "markdown",
   "metadata": {},
   "source": [
    "### Task Scheduler\n",
    "Given a char array representing tasks CPU need to do. It contains capital letters A to Z where different letters represent different tasks. Tasks could be done without original order. Each task could be done in one interval. For each interval, CPU could finish one task or just be idle.\n",
    "\n",
    "However, there is a non-negative cooling interval n that means between two same tasks, there must be at least n intervals that CPU are doing different tasks or just be idle.\n",
    "\n",
    "You need to return the least number of intervals the CPU will take to finish all the given tasks.\n",
    "\n",
    "* Input: tasks = [\"A\",\"A\",\"A\",\"B\",\"B\",\"B\"], n = 2\n",
    "* Output: 8\n",
    "* Explanation: A -> B -> idle -> A -> B -> idle -> A -> B."
   ]
  },
  {
   "cell_type": "code",
   "execution_count": 37,
   "metadata": {},
   "outputs": [
    {
     "data": {
      "text/plain": [
       "8"
      ]
     },
     "execution_count": 37,
     "metadata": {},
     "output_type": "execute_result"
    }
   ],
   "source": [
    "def leastInterval(tasks, n):\n",
    "    from collections import Counter, deque\n",
    "    from heapq import heappush, heappop\n",
    "    counter = Counter(tasks); queue = deque(); heap = []\n",
    "    total = len(tasks)\n",
    "    for task, freq in counter.items():\n",
    "        heappush(heap, (-freq, task))\n",
    "    ans = 0\n",
    "    while total:\n",
    "        ans += 1\n",
    "        if heap:\n",
    "            freq, ch = heappop(heap)\n",
    "            queue.append((freq+1, ch))\n",
    "            total -= 1\n",
    "        else:\n",
    "            queue.append((0, 0))\n",
    "        if len(queue) == n+1:\n",
    "            freq, ch = queue.popleft()\n",
    "            if -freq>0: heappush(heap, (freq, ch))\n",
    "    return ans\n",
    "\n",
    "tasks =[\"A\",\"A\",\"A\",\"B\",\"B\",\"B\"]; n = 2\n",
    "leastInterval(tasks, n)"
   ]
  },
  {
   "cell_type": "markdown",
   "metadata": {},
   "source": [
    "### Longest Happy String\n",
    "A string is called happy if it does not have any of the strings 'aaa', 'bbb' or 'ccc' as a substring.\n",
    "\n",
    "Given three integers a, b and c, return any string s, which satisfies following conditions:\n",
    "\n",
    "* s is happy and longest possible.\n",
    "* s contains at most a occurrences of the letter 'a', at most b occurrences of the letter 'b' and at most c occurrences of the letter 'c'.\n",
    "* s will only contain 'a', 'b' and 'c' letters.\n",
    "* If there is no such string s return the empty string \"\".\n",
    "\n",
    "**Similar Question** : String Without AAA or BBB"
   ]
  },
  {
   "cell_type": "code",
   "execution_count": 8,
   "metadata": {},
   "outputs": [
    {
     "data": {
      "text/plain": [
       "'aabacabc'"
      ]
     },
     "execution_count": 8,
     "metadata": {},
     "output_type": "execute_result"
    }
   ],
   "source": [
    "from heapq import heappush, heappop\n",
    "def longestDiverseString(a: int, b: int, c: int) -> str:\n",
    "    heap = []\n",
    "    if a > 0:\n",
    "        heappush(heap, (-a, 'a'))\n",
    "    if b > 0:\n",
    "        heappush(heap, (-b, 'b'))\n",
    "    if c > 0:\n",
    "        heappush(heap, (-c, 'c'))\n",
    "\n",
    "    in_mem = False\n",
    "    res = []\n",
    "    while heap:\n",
    "        freq, ch = heappop(heap)\n",
    "        if len(res) >=2 and res[-1] == ch and res[-2] == ch:\n",
    "            ch_mem = ch; freq_mem = freq\n",
    "            in_mem = True\n",
    "        else:\n",
    "            res.append(ch)\n",
    "            if -freq-1 > 0:\n",
    "                heappush(heap, (freq+1, ch))\n",
    "            if in_mem:\n",
    "                heappush(heap, (freq_mem, ch_mem))\n",
    "                in_mem = False\n",
    "\n",
    "    return ''.join(res)\n",
    "\n",
    "longestDiverseString(4,2,2)"
   ]
  },
  {
   "cell_type": "markdown",
   "metadata": {},
   "source": [
    "### Maximum Frequency Stack (Using heap)\n",
    "Implement FreqStack, a class which simulates the operation of a stack-like data structure.\n",
    "\n",
    "FreqStack has two functions:\n",
    "\n",
    "* push(int x), which pushes an integer x onto the stack.\n",
    "* pop(), which removes and returns the most frequent element in the stack.\n",
    "* If there is a tie for most frequent element, the element closest to the top of the stack is removed and returned."
   ]
  },
  {
   "cell_type": "code",
   "execution_count": 12,
   "metadata": {},
   "outputs": [
    {
     "name": "stdout",
     "output_type": "stream",
     "text": [
      "2\n",
      "1\n",
      "2\n"
     ]
    }
   ],
   "source": [
    "from heapq import heappush, heappop\n",
    "from collections import defaultdict\n",
    "class FreqStack:\n",
    "    def __init__(self):\n",
    "        self.sequence = 0\n",
    "        self.heap = []\n",
    "        self.freq = defaultdict(int)\n",
    "\n",
    "    def push(self, x: int) -> None:\n",
    "        self.freq[x] += 1\n",
    "        self.sequence += 1\n",
    "        heappush(self.heap, element(x, self.sequence, self.freq[x]))\n",
    "        \n",
    "    def pop(self) -> int:\n",
    "        num = heappop(self.heap).value\n",
    "        self.freq[num] -= 1\n",
    "        return num\n",
    "        \n",
    "class element:\n",
    "    def __init__(self, value, sequence, freq):\n",
    "        self.value = value\n",
    "        self.freq = freq\n",
    "        self.sequence = sequence\n",
    "    \n",
    "    def __lt__(self, other):\n",
    "        if self.freq != other.freq:\n",
    "            return self.freq > other.freq\n",
    "        return self.sequence > other.sequence\n",
    "    \n",
    "frequencyStack = FreqStack()\n",
    "frequencyStack.push(1)\n",
    "frequencyStack.push(2)\n",
    "frequencyStack.push(3)\n",
    "frequencyStack.push(2)\n",
    "frequencyStack.push(1)\n",
    "frequencyStack.push(2)\n",
    "frequencyStack.push(5)\n",
    "print(frequencyStack.pop())\n",
    "print(frequencyStack.pop())\n",
    "print(frequencyStack.pop())"
   ]
  },
  {
   "cell_type": "markdown",
   "metadata": {},
   "source": [
    "### Maximum Frequency Stack - O(1) push and pop"
   ]
  },
  {
   "cell_type": "code",
   "execution_count": 18,
   "metadata": {},
   "outputs": [
    {
     "name": "stdout",
     "output_type": "stream",
     "text": [
      "2\n",
      "1\n",
      "2\n"
     ]
    }
   ],
   "source": [
    "import collections\n",
    "class FreqStack:\n",
    "\n",
    "    def __init__(self):\n",
    "        self.freq = collections.Counter()\n",
    "        self.m = collections.defaultdict(list)\n",
    "        self.maxf = 0\n",
    "\n",
    "    def push(self, x):\n",
    "        freq, m = self.freq, self.m\n",
    "        freq[x] += 1\n",
    "        self.maxf = max(self.maxf, freq[x])\n",
    "        m[freq[x]].append(x)\n",
    "\n",
    "    def pop(self):\n",
    "        freq, m, maxf = self.freq, self.m, self.maxf\n",
    "        x = m[maxf].pop()\n",
    "        if not m[maxf]: self.maxf = maxf - 1\n",
    "        freq[x] -= 1\n",
    "        return x\n",
    "\n",
    "frequencyStack = FreqStack()\n",
    "frequencyStack.push(1)\n",
    "frequencyStack.push(2)\n",
    "frequencyStack.push(3)\n",
    "frequencyStack.push(2)\n",
    "frequencyStack.push(1)\n",
    "frequencyStack.push(2)\n",
    "frequencyStack.push(5)\n",
    "print(frequencyStack.pop())\n",
    "print(frequencyStack.pop())\n",
    "print(frequencyStack.pop())"
   ]
  },
  {
   "cell_type": "markdown",
   "metadata": {},
   "source": [
    "### Maximum Number of Events That Can Be Attended\n",
    "Given an array of events where events[i] = [startDayi, endDayi]. Every event i starts at startDayi and ends at endDayi.\n",
    "\n",
    "You can attend an event i at any day d where startTimei <= d <= endTimei. Notice that you can only attend one event at any time d.\n",
    "\n",
    "Return the maximum number of events you can attend."
   ]
  },
  {
   "cell_type": "code",
   "execution_count": 16,
   "metadata": {},
   "outputs": [
    {
     "data": {
      "text/plain": [
       "3"
      ]
     },
     "execution_count": 16,
     "metadata": {},
     "output_type": "execute_result"
    }
   ],
   "source": [
    "def maxEvents(events):\n",
    "    from heapq import heappush, heappop\n",
    "    events.sort(key=lambda x:(x[0], x[1]))\n",
    "    heap = []; i = 0; count = 0; d = 0\n",
    "    while heap or i < len(events):\n",
    "        if not heap:\n",
    "            d = events[i][0]\n",
    "        while heap and heap[0] < d:\n",
    "            heappop(heap)\n",
    "        while i<len(events) and events[i][0] == d:\n",
    "            heappush(heap, events[i][1])\n",
    "            i += 1\n",
    "        if heap:\n",
    "            heappop(heap)\n",
    "            count += 1\n",
    "            d += 1\n",
    "    return count\n",
    "\n",
    "events = [[1,2],[2,3],[3,4]]\n",
    "maxEvents(events)"
   ]
  },
  {
   "cell_type": "markdown",
   "metadata": {},
   "source": [
    "### Course Schedule III\n",
    "There are n different online courses numbered from 1 to n. Each course has some duration(course length) t and closed on dth day. A course should be taken continuously for t days and must be finished before or on the dth day. You will start at the 1st day.\n",
    "\n",
    "Given n online courses represented by pairs (t,d), your task is to find the maximal number of courses that can be taken."
   ]
  },
  {
   "cell_type": "code",
   "execution_count": 7,
   "metadata": {},
   "outputs": [
    {
     "data": {
      "text/plain": [
       "3"
      ]
     },
     "execution_count": 7,
     "metadata": {},
     "output_type": "execute_result"
    }
   ],
   "source": [
    "from heapq import heappush, heappop\n",
    "def scheduleCourse(courses) -> int:\n",
    "    pq = []; courses.sort(key = lambda x:x[1])\n",
    "    start = 0\n",
    "    for t, end in courses:\n",
    "        start += t\n",
    "        heappush(pq, -t)\n",
    "        if start > end:\n",
    "            start += heappop(pq)\n",
    "    return len(pq)\n",
    "\n",
    "courses = [[100, 200], [200, 1300], [1000, 1250], [2000, 3200]]\n",
    "scheduleCourse(courses)"
   ]
  },
  {
   "cell_type": "markdown",
   "metadata": {},
   "source": [
    "###  Reduce Array Size to The Half\n",
    "Given an array arr.  You can choose a set of integers and remove all the occurrences of these integers in the array.\n",
    "\n",
    "Return the minimum size of the set so that at least half of the integers of the array are removed.\n",
    "Array size is even"
   ]
  },
  {
   "cell_type": "code",
   "execution_count": 9,
   "metadata": {},
   "outputs": [
    {
     "data": {
      "text/plain": [
       "2"
      ]
     },
     "execution_count": 9,
     "metadata": {},
     "output_type": "execute_result"
    }
   ],
   "source": [
    "from heapq import heappush, heappop\n",
    "from collections import Counter\n",
    "class Solution:\n",
    "    def minSetSize(self, arr) -> int:\n",
    "        counter = Counter(arr)\n",
    "        heap = []\n",
    "        for key, freq in counter.items():\n",
    "            heappush(heap, (-freq, key))\n",
    "        \n",
    "        to_remove = 0\n",
    "        n = len(arr)\n",
    "        ans = 0\n",
    "        \n",
    "        while True:\n",
    "            freq, key = heappop(heap)\n",
    "            freq = -freq\n",
    "            to_remove += freq\n",
    "            ans += 1\n",
    "            if to_remove >= n//2:\n",
    "                return ans\n",
    "        \n",
    "obj = Solution()\n",
    "arr = [3,3,3,3,5,5,5,2,2,7]\n",
    "obj.minSetSize(arr)"
   ]
  },
  {
   "cell_type": "markdown",
   "metadata": {},
   "source": [
    "### Merge k sorted  lists \n",
    "Merge k sorted linked lists and return it as one sorted list. Analyze and describe its complexity."
   ]
  },
  {
   "cell_type": "code",
   "execution_count": 5,
   "metadata": {},
   "outputs": [],
   "source": [
    "class ListNode:\n",
    "    def __init__(self, x):\n",
    "        self.val = x\n",
    "        self.next = None\n",
    "\n",
    "from heapq import heappush, heappop\n",
    "class Solution:\n",
    "    def mergeKLists(self, lists) -> ListNode:\n",
    "        ll = LinkedList()\n",
    "        heap = []\n",
    "        for i in range(len(lists)):\n",
    "            if lists[i]:\n",
    "                heappush(heap, (lists[i].val, i, lists[i]))\n",
    "                \n",
    "        while heap:\n",
    "            value, index, node = heappop(heap)\n",
    "            ll.append(node)\n",
    "            if node.next: \n",
    "                heappush(heap, (node.next.val, index, node.next))\n",
    "        \n",
    "        return ll.head\n",
    "    \n",
    "class LinkedList:\n",
    "    def __init__(self):\n",
    "        self.head = None\n",
    "        self.tail = None\n",
    "    \n",
    "    def append(self, node):\n",
    "        if not self.head:\n",
    "            self.head = node\n",
    "        else:\n",
    "            self.tail.next = node\n",
    "        self.tail = node"
   ]
  },
  {
   "cell_type": "markdown",
   "metadata": {},
   "source": [
    "### Kth Smallest Element in a Sorted Matrix\n",
    "Given a n x n matrix where each of the rows and columns are sorted in ascending order, find the kth smallest element in the matrix.\n",
    "\n",
    "Note that it is the kth smallest element in the sorted order, not the kth distinct element."
   ]
  },
  {
   "cell_type": "code",
   "execution_count": 15,
   "metadata": {},
   "outputs": [
    {
     "data": {
      "text/plain": [
       "13"
      ]
     },
     "execution_count": 15,
     "metadata": {},
     "output_type": "execute_result"
    }
   ],
   "source": [
    "from heapq import heappush, heappop\n",
    "class Solution:\n",
    "    def kthSmallest(self, matrix, k: int) -> int:\n",
    "        heap = []\n",
    "        for i in range(min(k, len(matrix))):\n",
    "            heappush(heap, (matrix[i][0], 0, matrix[i]))\n",
    "        \n",
    "        count = 0\n",
    "        while heap:\n",
    "            val, i, row = heappop(heap)\n",
    "            count += 1\n",
    "            if count == k:\n",
    "                break\n",
    "            if i+1 < len(row):\n",
    "                heappush(heap, (row[i+1], i+1, row))\n",
    "        \n",
    "        return val\n",
    "\n",
    "matrix = [\n",
    "   [ 1,  5,  9],\n",
    "   [10, 11, 13],\n",
    "   [12, 13, 15]\n",
    "]\n",
    "k = 8\n",
    "\n",
    "Solution().kthSmallest(matrix, k)"
   ]
  },
  {
   "cell_type": "markdown",
   "metadata": {},
   "source": [
    "### Find K Pairs with Smallest Sums\n",
    "You are given two integer arrays nums1 and nums2 sorted in ascending order and an integer k.\n",
    "\n",
    "Define a pair (u,v) which consists of one element from the first array and one element from the second array.\n",
    "\n",
    "Find the k pairs (u1,v1),(u2,v2) ...(uk,vk) with the smallest sums."
   ]
  },
  {
   "cell_type": "code",
   "execution_count": 16,
   "metadata": {},
   "outputs": [
    {
     "data": {
      "text/plain": [
       "[[1, 2], [1, 4], [1, 6]]"
      ]
     },
     "execution_count": 16,
     "metadata": {},
     "output_type": "execute_result"
    }
   ],
   "source": [
    "from heapq import heappush, heappop\n",
    "class Solution:\n",
    "    def kSmallestPairs(self, nums1, nums2, k: int):\n",
    "        if not nums1 or not nums2:\n",
    "            return []\n",
    "        \n",
    "        heap = [(nums1[0]+nums2[0], 0, 0)]\n",
    "        res = []\n",
    "        \n",
    "        while len(res) < k and heap:\n",
    "            val, i, j = heappop(heap)\n",
    "            res.append([nums1[i], nums2[j]])\n",
    "                \n",
    "            if j+1 < len(nums2):\n",
    "                val = nums1[i] + nums2[j+1]\n",
    "                heappush(heap, (val, i, j+1))\n",
    "            \n",
    "            if j == 0 and i+1 < len(nums1):\n",
    "                val = nums1[i+1] + nums2[j]\n",
    "                heappush(heap, (val, i+1, j))\n",
    "            \n",
    "        return res\n",
    "            \n",
    "nums1 = [1,7,11]; nums2 = [2,4,6]; k = 3\n",
    "obj = Solution()\n",
    "obj.kSmallestPairs(nums1, nums2, k)"
   ]
  },
  {
   "cell_type": "markdown",
   "metadata": {},
   "source": [
    "###  Find the Kth Smallest Sum of a Matrix With Sorted Rows\n",
    "You are given an m * n matrix, mat, and an integer k, which has its rows sorted in non-decreasing order.\n",
    "\n",
    "You are allowed to choose exactly 1 element from each row to form an array. Return the Kth smallest array sum among all possible arrays."
   ]
  },
  {
   "cell_type": "code",
   "execution_count": 21,
   "metadata": {},
   "outputs": [
    {
     "data": {
      "text/plain": [
       "9"
      ]
     },
     "execution_count": 21,
     "metadata": {},
     "output_type": "execute_result"
    }
   ],
   "source": [
    "class Solution:\n",
    "    def kthSmallest(self, matrix, k: int) -> int:\n",
    "        res = matrix[0]\n",
    "        for i in range(1, len(matrix)):\n",
    "            res = self.kSmallestPairs(res, matrix[i], k)\n",
    "        return res[-1]\n",
    "    \n",
    "    def kSmallestPairs(self, nums1, nums2, k: int):\n",
    "        if not nums1 or not nums2:\n",
    "            return []\n",
    "        \n",
    "        heap = [(nums1[0]+nums2[0], 0, 0)]\n",
    "        res = []\n",
    "        \n",
    "        while len(res) < k and heap:\n",
    "            val, i, j = heappop(heap)\n",
    "            res.append(val)\n",
    "                \n",
    "            if j+1 < len(nums2):\n",
    "                val = nums1[i] + nums2[j+1]\n",
    "                heappush(heap, (val, i, j+1))\n",
    "            \n",
    "            if j == 0 and i+1 < len(nums1):\n",
    "                val = nums1[i+1] + nums2[j]\n",
    "                heappush(heap, (val, i+1, j))\n",
    "            \n",
    "        return res\n",
    "\n",
    "mat = [[1,10,10],[1,4,5],[2,3,6]]; k = 7\n",
    "Solution().kthSmallest(mat, k)"
   ]
  },
  {
   "cell_type": "markdown",
   "metadata": {},
   "source": [
    "### Find right Index\n",
    "Given an array find the right most index that is greater than the current element"
   ]
  },
  {
   "cell_type": "code",
   "execution_count": 11,
   "metadata": {},
   "outputs": [
    {
     "data": {
      "text/plain": [
       "[-1, 4, 4, 4, -1]"
      ]
     },
     "execution_count": 11,
     "metadata": {},
     "output_type": "execute_result"
    }
   ],
   "source": [
    "def find_right_index(nums):\n",
    "    from heapq import heappush, heappop\n",
    "    heap = [] #max heap\n",
    "    for i, val in enumerate(nums):\n",
    "        heappush(heap, (-val, i))\n",
    "    \n",
    "    res = [-1]*len(nums)\n",
    "    max_index = -1\n",
    "    while heap:\n",
    "        tup = heappop(heap)\n",
    "        val, curr_index = -tup[0], tup[1]\n",
    "        if max_index == -1 or curr_index > max_index or nums[max_index] == nums[curr_index]:\n",
    "            max_index = max(curr_index, max_index)\n",
    "            continue\n",
    "        res[curr_index] = max_index\n",
    "        max_index = max(curr_index, max_index)\n",
    "    return res\n",
    "            \n",
    "\n",
    "find_right_index([21,5,6,56,88,52])\n",
    "find_right_index([21,5,6,56,88,52,66])\n",
    "find_right_index([10, 5,5,4,6])"
   ]
  },
  {
   "cell_type": "markdown",
   "metadata": {},
   "source": [
    "### Avoid Flood in The City\n",
    "\n",
    "Your country has an infinite number of lakes. Initially, all the lakes are empty, but when it rains over the nth lake, the nth lake becomes full of water. If it rains over a lake which is full of water, there will be a flood. Your goal is to avoid the flood in any lake.\n",
    "\n",
    "Given an integer array rains where:\n",
    "\n",
    "* rains[i] > 0 means there will be rains over the rains[i] lake.\n",
    "* rains[i] == 0 means there are no rains this day and you can choose one lake this day and dry it.\n",
    "* Return an array ans where:\n",
    "\n",
    "    * ans.length == rains.length\n",
    "    * ans[i] == -1 if rains[i] > 0.\n",
    "    * ans[i] is the lake you choose to dry in the ith day if rains[i] == 0.\n",
    "    \n",
    "If there are multiple valid answers return any of them. If it is impossible to avoid flood return an empty array.\n",
    "\n",
    "Notice that if you chose to dry a full lake, it becomes empty, but if you chose to dry an empty lake, nothing changes. (see example 4)"
   ]
  },
  {
   "cell_type": "code",
   "execution_count": 3,
   "metadata": {},
   "outputs": [
    {
     "data": {
      "text/plain": [
       "[-1, 1, -1, 2, -1, -1]"
      ]
     },
     "execution_count": 3,
     "metadata": {},
     "output_type": "execute_result"
    }
   ],
   "source": [
    "from heapq import heappush, heappop\n",
    "class Solution:\n",
    "    def avoidFlood(self, rains):\n",
    "        heap = []; full = {}; ans = [999]*len(rains)\n",
    "        \n",
    "        for day, lake in enumerate(rains):\n",
    "            if lake == 0:\n",
    "                heappush(heap, day)\n",
    "            else:\n",
    "                if lake not in full:\n",
    "                    full[lake] = day\n",
    "                else:\n",
    "                    dry_day, found = self.get_dry_day(heap, full[lake])\n",
    "                    if not found:\n",
    "                        return []\n",
    "                    ans[dry_day] = lake\n",
    "                    full[lake] = day\n",
    "                ans[day] = -1\n",
    "        return ans\n",
    "    \n",
    "    def get_dry_day(self, heap, full_day):\n",
    "        found = False; stack = []; dry_day = -1\n",
    "        while heap and not found:\n",
    "            dry_day = heappop(heap)\n",
    "            if dry_day > full_day:\n",
    "                found = True\n",
    "            else:\n",
    "                stack.append(dry_day)\n",
    "        \n",
    "        while stack: heappush(heap, stack.pop())\n",
    "        return dry_day, found\n",
    "\n",
    "\n",
    "rains = [1,0,2,0,2,1]\n",
    "Solution().avoidFlood(rains)"
   ]
  },
  {
   "cell_type": "markdown",
   "metadata": {},
   "source": [
    "### Design a Max heap"
   ]
  },
  {
   "cell_type": "code",
   "execution_count": 20,
   "metadata": {},
   "outputs": [],
   "source": [
    "class MaxHeap:\n",
    "    \n",
    "    def __init__(self):\n",
    "        self.a = []\n",
    "        self.size = 0\n",
    "    \n",
    "    def get_left(self,i):\n",
    "        return 2*i+1\n",
    "    \n",
    "    def get_right(self,i):\n",
    "        return 2*i+2\n",
    "    \n",
    "    def get_parent(self, i):\n",
    "        return (i-1)//2\n",
    "    \n",
    "    def isValid(self,i):\n",
    "        return 0<=i<self.size\n",
    "    \n",
    "    def propogateup(self,i):\n",
    "        parent = self.get_parent(i)\n",
    "        while i>0 and self.a[parent]<self.a[i]:\n",
    "            self.a[parent], self.a[i] = self.a[i], self.a[parent]\n",
    "            i = parent\n",
    "            parent = self.get_parent(i)\n",
    "            \n",
    "    def heapify(self, i):\n",
    "        if not self.isValid(i):\n",
    "            return\n",
    "        left = self.a[self.get_left(i)] if self.isValid(self.get_left(i)) else -float('inf')\n",
    "        right = self.a[self.get_right(i)] if self.isValid(self.get_right(i)) else -float('inf')\n",
    "        maxval = max(left, right, self.a[i])\n",
    "        maxindex = i\n",
    "        if maxval == left:\n",
    "            maxindex = self.get_left(i)\n",
    "        elif maxval == right:\n",
    "            maxindex = self.get_right(i)\n",
    "        if maxindex != i:\n",
    "            self.a[maxindex], self.a[i] = self.a[i], self.a[maxindex]\n",
    "            self.heapify(maxindex)\n",
    "            \n",
    "    def get_max(self):\n",
    "        if self.size == 0:\n",
    "            return -1\n",
    "        return self.a[0]\n",
    "    \n",
    "    def insert(self,val):\n",
    "        self.a.append(val)\n",
    "        self.size += 1\n",
    "        self.propogateup(self.size-1)\n",
    "        \n",
    "    def pop(self):\n",
    "        if self.size == 0:\n",
    "            return \n",
    "        maxval = self.a[0]\n",
    "        self.a[0], self.a[self.size-1] = self.a[self.size-1], self.a[0]\n",
    "        del self.a[self.size-1]\n",
    "        self.size -= 1\n",
    "        self.heapify(0)\n",
    "        return maxval\n",
    "    \n",
    "    def delete(self,i):\n",
    "        if not self.isValid(i):\n",
    "            return \n",
    "        self.a[i], self.a[self.size-1] = self.a[self.size-1], self.a[i]\n",
    "        del self.a[self.size-1]\n",
    "        self.size -= 1\n",
    "        parent = self.get_parent(i)\n",
    "        if self.a[parent] < self.a[i]:\n",
    "            self.propogateup(i)\n",
    "        else:\n",
    "            self.heapify(i)\n",
    "         \n",
    "    def print(self):\n",
    "        return self.a\n",
    "        "
   ]
  },
  {
   "cell_type": "code",
   "execution_count": 21,
   "metadata": {},
   "outputs": [
    {
     "data": {
      "text/plain": [
       "[100, 78, 100, 2, 3, 7]"
      ]
     },
     "execution_count": 21,
     "metadata": {},
     "output_type": "execute_result"
    }
   ],
   "source": [
    "heap = MaxHeap()\n",
    "heap.insert(3)\n",
    "heap.insert(7)\n",
    "heap.insert(100)\n",
    "heap.insert(2)\n",
    "heap.insert(78)\n",
    "heap.insert(100)\n",
    "heap.print()"
   ]
  },
  {
   "cell_type": "code",
   "execution_count": 22,
   "metadata": {},
   "outputs": [
    {
     "data": {
      "text/plain": [
       "100"
      ]
     },
     "execution_count": 22,
     "metadata": {},
     "output_type": "execute_result"
    }
   ],
   "source": [
    "heap.pop()"
   ]
  },
  {
   "cell_type": "code",
   "execution_count": 23,
   "metadata": {},
   "outputs": [
    {
     "data": {
      "text/plain": [
       "100"
      ]
     },
     "execution_count": 23,
     "metadata": {},
     "output_type": "execute_result"
    }
   ],
   "source": [
    "heap.pop()"
   ]
  },
  {
   "cell_type": "code",
   "execution_count": 24,
   "metadata": {},
   "outputs": [
    {
     "data": {
      "text/plain": [
       "78"
      ]
     },
     "execution_count": 24,
     "metadata": {},
     "output_type": "execute_result"
    }
   ],
   "source": [
    "heap.pop()"
   ]
  },
  {
   "cell_type": "code",
   "execution_count": 25,
   "metadata": {},
   "outputs": [
    {
     "data": {
      "text/plain": [
       "[7, 3, 2]"
      ]
     },
     "execution_count": 25,
     "metadata": {},
     "output_type": "execute_result"
    }
   ],
   "source": [
    "heap.print()"
   ]
  },
  {
   "cell_type": "code",
   "execution_count": 26,
   "metadata": {},
   "outputs": [],
   "source": [
    "heap.delete(0)"
   ]
  },
  {
   "cell_type": "code",
   "execution_count": 27,
   "metadata": {},
   "outputs": [
    {
     "data": {
      "text/plain": [
       "3"
      ]
     },
     "execution_count": 27,
     "metadata": {},
     "output_type": "execute_result"
    }
   ],
   "source": [
    "heap.pop()"
   ]
  },
  {
   "cell_type": "code",
   "execution_count": 28,
   "metadata": {},
   "outputs": [
    {
     "data": {
      "text/plain": [
       "[2]"
      ]
     },
     "execution_count": 28,
     "metadata": {},
     "output_type": "execute_result"
    }
   ],
   "source": [
    "heap.print()"
   ]
  }
 ],
 "metadata": {
  "kernelspec": {
   "display_name": "Python 3",
   "language": "python",
   "name": "python3"
  },
  "language_info": {
   "codemirror_mode": {
    "name": "ipython",
    "version": 3
   },
   "file_extension": ".py",
   "mimetype": "text/x-python",
   "name": "python",
   "nbconvert_exporter": "python",
   "pygments_lexer": "ipython3",
   "version": "3.6.8"
  }
 },
 "nbformat": 4,
 "nbformat_minor": 2
}
