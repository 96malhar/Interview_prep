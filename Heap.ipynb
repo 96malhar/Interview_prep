{
 "cells": [
  {
   "cell_type": "markdown",
   "metadata": {},
   "source": [
    "### Find the k smallest numbers in an array of integers."
   ]
  },
  {
   "cell_type": "code",
   "execution_count": 7,
   "metadata": {},
   "outputs": [
    {
     "data": {
      "text/plain": [
       "[5, 5, 5, 4]"
      ]
     },
     "execution_count": 7,
     "metadata": {},
     "output_type": "execute_result"
    }
   ],
   "source": [
    "import heapq\n",
    "def ksmallest(a, k):\n",
    "    if k>len(a):\n",
    "        return -1\n",
    "    heap = []\n",
    "    for i in range(len(a)):\n",
    "        heapq.heappush(heap,-a[i])\n",
    "        if len(heap) > k:\n",
    "            heapq.heappop(heap)\n",
    "    ans = []\n",
    "    while len(heap):\n",
    "        ans.append(-heapq.heappop(heap))\n",
    "    return ans\n",
    "        \n",
    "ksmallest([7,4,5,6,5,8,6,5], 4)        "
   ]
  },
  {
   "cell_type": "markdown",
   "metadata": {},
   "source": [
    "### Find the k largest numbers in an array of integers."
   ]
  },
  {
   "cell_type": "code",
   "execution_count": 9,
   "metadata": {},
   "outputs": [
    {
     "data": {
      "text/plain": [
       "[6, 6, 7, 8]"
      ]
     },
     "execution_count": 9,
     "metadata": {},
     "output_type": "execute_result"
    }
   ],
   "source": [
    "import heapq\n",
    "def klargest(a, k):\n",
    "    if k>len(a):\n",
    "        return -1\n",
    "    heap = []\n",
    "    for i in range(len(a)):\n",
    "        heapq.heappush(heap, a[i])\n",
    "        if len(heap)>k:\n",
    "            heapq.heappop(heap)\n",
    "    return heap\n",
    "klargest([7,4,5,6,5,8,6,5], 4)"
   ]
  },
  {
   "cell_type": "markdown",
   "metadata": {},
   "source": [
    "### Sort Characters By Frequency\n",
    "Given a string, sort it in decreasing order based on the frequency of characters.\n",
    "* Input: \"tree\"\n",
    "* Output: \"eert\""
   ]
  },
  {
   "cell_type": "code",
   "execution_count": 3,
   "metadata": {},
   "outputs": [
    {
     "data": {
      "text/plain": [
       "'eert'"
      ]
     },
     "execution_count": 3,
     "metadata": {},
     "output_type": "execute_result"
    }
   ],
   "source": [
    "def frequencySort(s):\n",
    "    import heapq, collections\n",
    "    counter = collections.Counter(s); heap = []\n",
    "    for ch, value in counter.items():\n",
    "        heapq.heappush(heap, (-value,ch))\n",
    "\n",
    "    result = ''\n",
    "    while len(heap):\n",
    "        freq, ch = heapq.heappop(heap)\n",
    "        result += ch*(-freq)\n",
    "    return result\n",
    "\n",
    "frequencySort('tree')"
   ]
  },
  {
   "cell_type": "markdown",
   "metadata": {},
   "source": [
    "### Top K Frequent Elements\n",
    "Given a non-empty array of integers, return the k most frequent elements.\n",
    "\n",
    "* Input: nums = [1,1,1,2,2,3], k = 2\n",
    "* Output: [1,2]"
   ]
  },
  {
   "cell_type": "code",
   "execution_count": 14,
   "metadata": {},
   "outputs": [
    {
     "data": {
      "text/plain": [
       "[4, 1]"
      ]
     },
     "execution_count": 14,
     "metadata": {},
     "output_type": "execute_result"
    }
   ],
   "source": [
    "def topKFrequent(nums,k):\n",
    "    from heapq import heappush, heappop\n",
    "    import collections\n",
    "    heap = []\n",
    "    counter = collections.Counter(nums)\n",
    "    for num, freq in counter.items():\n",
    "        heappush(heap, (freq, num))\n",
    "        if len(heap) > k:\n",
    "            heappop(heap)\n",
    "\n",
    "    return [num for freq, num in heap]\n",
    "\n",
    "topKFrequent([1,1,1,1,1,3,3,4,4,4,4], 2)"
   ]
  },
  {
   "cell_type": "markdown",
   "metadata": {},
   "source": [
    "### Find Median in a data stream"
   ]
  },
  {
   "cell_type": "code",
   "execution_count": 11,
   "metadata": {},
   "outputs": [],
   "source": [
    "from heapq import *\n",
    "class MedianFinder:\n",
    "    def __init__(self):\n",
    "        self.max_heap = [] # stores numbers lower than median\n",
    "        self.min_heap = [] # stores numbers higher than median\n",
    "     \n",
    "    def addNum(self, num: int) -> None:\n",
    "        if not len(self.max_heap) or num <= -self.max_heap[0]:\n",
    "            heappush(self.max_heap, -num)\n",
    "        else:\n",
    "            heappush(self.min_heap, num)\n",
    "        self.rebalance()\n",
    "    \n",
    "    def rebalance(self):\n",
    "        if len(self.max_heap) - len(self.min_heap) > 1:\n",
    "            heappush(self.min_heap, -heappop(self.max_heap))\n",
    "        elif len(self.min_heap) > len(self.max_heap):\n",
    "            heappush(self.max_heap, -heappop(self.min_heap))\n",
    "\n",
    "    def findMedian(self) -> float:\n",
    "        if len(self.min_heap) == len(self.max_heap):\n",
    "            return (self.min_heap[0] - self.max_heap[0]) / 2.0\n",
    "        return -self.max_heap[0]\n"
   ]
  },
  {
   "cell_type": "code",
   "execution_count": 2,
   "metadata": {},
   "outputs": [
    {
     "data": {
      "text/plain": [
       "2"
      ]
     },
     "execution_count": 2,
     "metadata": {},
     "output_type": "execute_result"
    }
   ],
   "source": [
    "obj = MedianFinder()\n",
    "obj.addNum(1)\n",
    "obj.addNum(2)\n",
    "obj.findMedian()\n",
    "obj.addNum(3)\n",
    "obj.findMedian()"
   ]
  },
  {
   "cell_type": "markdown",
   "metadata": {},
   "source": [
    "### Sliding window Median"
   ]
  },
  {
   "cell_type": "code",
   "execution_count": 13,
   "metadata": {},
   "outputs": [],
   "source": [
    "from heapq import *\n",
    "import heapq\n",
    "class Solution:\n",
    "    def medianSlidingWindow(self, nums, k):\n",
    "        self.min_heap = []; self.max_heap = []\n",
    "        ans = []; left = 0\n",
    "        for right in range(len(nums)):\n",
    "            self.addNum(nums[right])\n",
    "            if right - left + 1 == k:\n",
    "                ans.append(self.find_median())\n",
    "                num = nums[left]\n",
    "                if num<=-self.max_heap[0]:\n",
    "                    self.remove(self.max_heap, -num)\n",
    "                else:\n",
    "                    self.remove(self.min_heap, num)\n",
    "                left += 1\n",
    "        return ans\n",
    "    \n",
    "    def addNum(self, num):\n",
    "        if not len(self.max_heap) or num<=-self.max_heap[0]:\n",
    "            heappush(self.max_heap, -num)\n",
    "        else:\n",
    "            heappush(self.min_heap, num)\n",
    "        self.rebalance()\n",
    "        \n",
    "    def rebalance(self):\n",
    "        if len(self.max_heap)-len(self.min_heap) > 1:\n",
    "            heappush(self.min_heap, -heappop(self.max_heap))\n",
    "        elif len(self.min_heap)>len(self.max_heap):\n",
    "            heappush(self.max_heap, -heappop(self.min_heap))\n",
    "    \n",
    "    def find_median(self):\n",
    "        if len(self.max_heap) == len(self.min_heap):\n",
    "            return (self.min_heap[0]-self.max_heap[0]) / 2\n",
    "        return -self.max_heap[0]\n",
    "    \n",
    "    def remove(self, heap, num):\n",
    "        index = heap.index(num)\n",
    "        heap[index] = heap[-1]\n",
    "        del heap[-1]\n",
    "        if index<len(heap):\n",
    "            heapq._siftup(heap, index)\n",
    "            heapq._siftdown(heap, 0, index)\n",
    "        self.rebalance()"
   ]
  },
  {
   "cell_type": "code",
   "execution_count": 18,
   "metadata": {},
   "outputs": [
    {
     "data": {
      "text/plain": [
       "[1.5, 0.5, 1.0, 4.0]"
      ]
     },
     "execution_count": 18,
     "metadata": {},
     "output_type": "execute_result"
    }
   ],
   "source": [
    "obj = Solution()\n",
    "nums = [1,3,-1,-3,5,3,6,7]; k = 3\n",
    "nums=[1, 2, -1, 3, 5]; k = 2\n",
    "obj.medianSlidingWindow(nums, k)"
   ]
  },
  {
   "cell_type": "markdown",
   "metadata": {},
   "source": [
    "### Maximize capital\n",
    "Given a set of investment projects with their respective profits, we need to find the most profitable projects. We are given an initial capital and are allowed to invest only in a fixed number of projects. Our goal is to choose projects that give us the maximum profit.\n",
    "\n",
    "We can start an investment project only when we have the required capital. Once a project is selected, we can assume that its profit has become our capital.\n",
    "\n",
    "Example 1:\n",
    "\n",
    "Input: \n",
    "* Project Capitals=[0,1,2], \n",
    "* Project Profits=[1,2,3], \n",
    "* Initial Capital=1, \n",
    "* Number of Projects=2\n",
    "Output: 6\n",
    "\n",
    "Explanation:\n",
    "\n",
    "With initial capital of ‘1’, we will start the second project which will give us profit of ‘2’. Once we selected our first project, our total capital will become 3 (profit + initial capital).\n",
    "With ‘3’ capital, we will select the third project, which will give us ‘3’ profit.\n",
    "After the completion of the two projects, our total capital will be 6 (1+2+3)."
   ]
  },
  {
   "cell_type": "code",
   "execution_count": 23,
   "metadata": {},
   "outputs": [
    {
     "data": {
      "text/plain": [
       "4"
      ]
     },
     "execution_count": 23,
     "metadata": {},
     "output_type": "execute_result"
    }
   ],
   "source": [
    "def find_maximum_capital(capital, profits, numberOfProjects, initialCapital):\n",
    "    minCapitalHeap = []\n",
    "    maxProfitHeap = []\n",
    "\n",
    "    # insert all project capitals to a min-heap\n",
    "    for i in range(0, len(profits)):\n",
    "        heappush(minCapitalHeap, (capital[i], i))\n",
    "\n",
    "    # let's try to find a total of 'numberOfProjects' best projects\n",
    "    availableCapital = initialCapital\n",
    "    for _ in range(numberOfProjects):\n",
    "        # find all projects that can be selected within the available capital and insert them in a max-heap\n",
    "        while minCapitalHeap and minCapitalHeap[0][0] <= availableCapital:\n",
    "            capital, i = heappop(minCapitalHeap)\n",
    "            heappush(maxProfitHeap, (-profits[i], i))\n",
    "\n",
    "        # terminate if we are not able to find any project that can be completed within the available capital\n",
    "        if not maxProfitHeap:\n",
    "            break\n",
    "\n",
    "        # select the project with the maximum profit\n",
    "        availableCapital += -heappop(maxProfitHeap)[0]\n",
    "\n",
    "    return availableCapital\n",
    "\n",
    "numberOfProjects=2; initialCapital=0; profits=[1,2,3]; capital=[0,1,1]\n",
    "find_maximum_capital(capital, profits, numberOfProjects, initialCapital)"
   ]
  },
  {
   "cell_type": "markdown",
   "metadata": {},
   "source": [
    "### Next Interval (hard)\n",
    "Given an array of intervals, find the next interval of each interval. In a list of intervals, for an interval ‘i’ its next interval ‘j’ will have the smallest ‘start’ greater than or equal to the ‘end’ of ‘i’.\n",
    "\n",
    "Write a function to return an array containing indices of the next interval of each input interval. If there is no next interval of a given interval, return -1. It is given that none of the intervals have the same start point.\n",
    "\n",
    "* Input: Intervals [[2,3], [3,4], [5,6]]\n",
    "* Output: [1, 2, -1]\n",
    "* Explanation: The next interval of [2,3] is [3,4] having index ‘1’. Similarly, the next interval of [3,4] is [5,6] having index ‘2’. There is no next interval for [5,6] hence we have ‘-1’."
   ]
  },
  {
   "cell_type": "code",
   "execution_count": 13,
   "metadata": {},
   "outputs": [
    {
     "data": {
      "text/plain": [
       "[1, 2, -1]"
      ]
     },
     "execution_count": 13,
     "metadata": {},
     "output_type": "execute_result"
    }
   ],
   "source": [
    "from heapq import *\n",
    "def findRightInterval(intervals):\n",
    "    start = 0; end = 1; ans = []\n",
    "    start_heap = []; end_heap = []\n",
    "    for i, interval in enumerate(intervals):\n",
    "        heappush(start_heap, (-interval[start], i))\n",
    "        heappush(end_heap, (-interval[end], i))\n",
    "\n",
    "    result = [-1]*len(intervals)\n",
    "    for _ in range(len(intervals)):\n",
    "        interval_end, index = heappop(end_heap)\n",
    "        if start_heap and -start_heap[0][0] >= -interval_end:\n",
    "            while start_heap and -start_heap[0][0] >= -interval_end:\n",
    "                interval_start, i = heappop(start_heap)\n",
    "            result[index] = i\n",
    "            heappush(start_heap, (interval_start, i))\n",
    "    return result\n",
    "\n",
    "intervals = [[2,3], [3,4], [5,6]]\n",
    "findRightInterval(intervals)"
   ]
  },
  {
   "cell_type": "markdown",
   "metadata": {},
   "source": [
    "### Sort an almost sorted array (K sorted array)\n",
    "Given an array of n elements, where each element is at most k away from its target position, devise an algorithm that sorts in O(n log k) time. For example, let us consider k is 2, an element at index 7 in the sorted array, can be at indexes 5, 6, 7, 8, 9 in the given array.\n",
    "\n",
    "* Input : arr[] = {6, 5, 3, 2, 8, 10, 9}\n",
    "            k = 3 \n",
    "* Output : arr[] = {2, 3, 5, 6, 8, 9, 10}\n"
   ]
  },
  {
   "cell_type": "code",
   "execution_count": 6,
   "metadata": {},
   "outputs": [
    {
     "data": {
      "text/plain": [
       "[4, 7, 8, 9, 10, 50, 60, 70]"
      ]
     },
     "execution_count": 6,
     "metadata": {},
     "output_type": "execute_result"
    }
   ],
   "source": [
    "from heapq import heapify, heappush, heappop\n",
    "def sort_nearly(nums, k):\n",
    "    heap = []; index = 0\n",
    "    for i in range(len(nums)):\n",
    "        if len(heap) < k+1:\n",
    "            heappush(heap, nums[i])\n",
    "        else:\n",
    "            nums[index] = heappop(heap)\n",
    "            heappush(heap, nums[i])\n",
    "            index += 1\n",
    "\n",
    "    while len(heap):\n",
    "        nums[index] = heappop(heap)\n",
    "        index += 1\n",
    "    return nums\n",
    "sort_nearly([10, 9, 8, 7, 4, 70, 60, 50], 4)\n",
    "    \n",
    "    "
   ]
  },
  {
   "cell_type": "markdown",
   "metadata": {},
   "source": [
    "### Third Maximum Number\n",
    "Given a non-empty array of integers, return the third maximum number in this array. If it does not exist, return the maximum number. The time complexity must be in O(n).\n",
    "* Input: [2, 2, 3, 1]\n",
    "\n",
    "* Output: 1\n",
    "\n",
    "* Explanation: Note that the third maximum here means the third maximum distinct number.Both numbers with value 2 are both considered as second maximum."
   ]
  },
  {
   "cell_type": "code",
   "execution_count": 3,
   "metadata": {},
   "outputs": [
    {
     "data": {
      "text/plain": [
       "1"
      ]
     },
     "execution_count": 3,
     "metadata": {},
     "output_type": "execute_result"
    }
   ],
   "source": [
    "def thirdMax(nums):\n",
    "    from heapq import heappush, heapreplace\n",
    "    heap = []\n",
    "    for num in nums:\n",
    "        if len(heap)<3 and num not in heap:\n",
    "            heappush(heap, num)\n",
    "        elif len(heap)==3 and num not in heap and num>heap[0]:\n",
    "            heapreplace(heap, num)\n",
    "    return heap[0] if len(heap)==3 else max(heap)\n",
    "thirdMax([2,2,3,1])"
   ]
  },
  {
   "cell_type": "markdown",
   "metadata": {},
   "source": [
    "### Top K frequent words\n",
    "Given a non-empty list of words, return the k most frequent elements.\n",
    "\n",
    "Your answer should be sorted by frequency from highest to lowest. If two words have the same frequency, then the word with the lower alphabetical order comes first.\n",
    "* Input: [\"i\", \"love\", \"leetcode\", \"i\", \"love\", \"coding\"], k = 2\n",
    "* Output: [\"i\", \"love\"]\n",
    "* Explanation: \"i\" and \"love\" are the two most frequent words. Note that \"i\" comes before \"love\" due to a lower alphabetical order."
   ]
  },
  {
   "cell_type": "code",
   "execution_count": 9,
   "metadata": {},
   "outputs": [
    {
     "data": {
      "text/plain": [
       "['the', 'is', 'sunny', 'day']"
      ]
     },
     "execution_count": 9,
     "metadata": {},
     "output_type": "execute_result"
    }
   ],
   "source": [
    "def topKFrequent(words, k): \n",
    "    import collections\n",
    "    count = collections.Counter(words)\n",
    "    from heapq import heappush, heapreplace, heappop\n",
    "    heap = []\n",
    "    for word, freq in count.items():\n",
    "        if len(heap)<k:\n",
    "            heappush(heap, object(word, freq))\n",
    "        elif object(word, freq) > heap[0]:\n",
    "            heapreplace(heap, object(word, freq))\n",
    "    ans = []\n",
    "    while len(heap):\n",
    "        ans.append(heappop(heap).word)\n",
    "    return ans[::-1]\n",
    "\n",
    "class object:\n",
    "    def __init__(self, word, freq):\n",
    "        self.word = word\n",
    "        self.freq = freq\n",
    "        \n",
    "    def __lt__(self, other):\n",
    "        if self.freq != other.freq:\n",
    "            return self.freq < other.freq\n",
    "        return self.word>other.word\n",
    "\n",
    "topKFrequent([\"the\", \"day\", \"is\", \"sunny\", \"the\", \"the\", \"the\", \"sunny\", \"is\", \"is\"], 4)   \n",
    "# topKFrequent(['i', 'love', 'high'], 1)"
   ]
  },
  {
   "cell_type": "markdown",
   "metadata": {},
   "source": [
    "### Minimum Cost to Connect Sticks\n",
    "You have some sticks with positive integer lengths.\n",
    "\n",
    "You can connect any two sticks of lengths X and Y into one stick by paying a cost of X + Y.  You perform this action until there is one stick remaining.\n",
    "\n",
    "Return the minimum cost of connecting all the given sticks into one stick in this way.\n",
    "\n",
    "* Input: sticks = [1,8,3,5]\n",
    "* Output: 30"
   ]
  },
  {
   "cell_type": "code",
   "execution_count": 1,
   "metadata": {},
   "outputs": [
    {
     "data": {
      "text/plain": [
       "30"
      ]
     },
     "execution_count": 1,
     "metadata": {},
     "output_type": "execute_result"
    }
   ],
   "source": [
    "def connectSticks(sticks):\n",
    "    from heapq import heappush, heappop\n",
    "    heap = []; ans = 0\n",
    "    for stick in sticks:\n",
    "        heappush(heap, stick)\n",
    "\n",
    "    while len(heap):\n",
    "        if len(heap) == 1:\n",
    "            return ans\n",
    "        minimum = heappop(heap)\n",
    "        sec_minimum = heappop(heap)\n",
    "        cost_to_merge = minimum + sec_minimum\n",
    "        ans += cost_to_merge\n",
    "        heappush(heap, cost_to_merge)\n",
    "        \n",
    "sticks = [1,3,8,5]\n",
    "connectSticks(sticks)"
   ]
  },
  {
   "cell_type": "markdown",
   "metadata": {},
   "source": [
    "### Last Stone Weight\n",
    "We have a collection of rocks, each rock has a positive integer weight.\n",
    "\n",
    "Each turn, we choose the two heaviest rocks and smash them together.  Suppose the stones have weights x and y with x <= y.  The result of this smash is:\n",
    "\n",
    "* If x == y, both stones are totally destroyed;\n",
    "* If x != y, the stone of weight x is totally destroyed, and the stone of weight y has new weight y-x. \n",
    "* At the end, there is at most 1 stone left.  Return the weight of this stone (or 0 if there are no stones left.)\n",
    "\n",
    "* Input: [2,7,4,1,8,1]\n",
    "* Output: 1\n",
    "* Explanation: \n",
    "    * We combine 7 and 8 to get 1 so the array converts to [2,4,1,1,1] then,\n",
    "    * we combine 2 and 4 to get 2 so the array converts to [2,1,1,1] then,\n",
    "    * we combine 2 and 1 to get 1 so the array converts to [1,1,1] then,\n",
    "    * we combine 1 and 1 to get 0 so the array converts to [1] then that's the value of last stone."
   ]
  },
  {
   "cell_type": "code",
   "execution_count": 4,
   "metadata": {},
   "outputs": [
    {
     "data": {
      "text/plain": [
       "1"
      ]
     },
     "execution_count": 4,
     "metadata": {},
     "output_type": "execute_result"
    }
   ],
   "source": [
    "def lastStoneWeight(stones):\n",
    "    from heapq import heappush, heappop, heapreplace\n",
    "    heap = []\n",
    "    for stone in stones:\n",
    "        heappush(heap, -stone)\n",
    "\n",
    "    while len(heap):\n",
    "        if len(heap) == 1:\n",
    "            return -heap[0]\n",
    "        largest = -heappop(heap)\n",
    "        sec_largest = -heappop(heap)\n",
    "        if largest == sec_largest:\n",
    "            continue\n",
    "        heappush(heap, sec_largest-largest)\n",
    "    return 0\n",
    "\n",
    "lastStoneWeight([2,7,4,1,8,1])"
   ]
  },
  {
   "cell_type": "markdown",
   "metadata": {},
   "source": [
    "### K Closest points to origin\n",
    "We have a list of points on the plane.  Find the K closest points to the origin (0, 0).\n",
    "\n",
    "(Here, the distance between two points on a plane is the Euclidean distance.)\n",
    "\n",
    "You may return the answer in any order.  The answer is guaranteed to be unique (except for the order that it is in.)"
   ]
  },
  {
   "cell_type": "code",
   "execution_count": 4,
   "metadata": {},
   "outputs": [
    {
     "data": {
      "text/plain": [
       "[[-2, 4], [3, 3]]"
      ]
     },
     "execution_count": 4,
     "metadata": {},
     "output_type": "execute_result"
    }
   ],
   "source": [
    "from heapq import heappush, heappop\n",
    "def kClosest(points, K):\n",
    "    heap = []\n",
    "    for x, y in points:\n",
    "        dist = x**2 + y**2\n",
    "        if len(heap) < K:\n",
    "            heappush(heap, (-dist, [x,y]))\n",
    "        elif dist < -heap[0][0]:\n",
    "            heappop(heap)\n",
    "            heappush(heap, (-dist, [x,y]))\n",
    "\n",
    "    return [list[1] for list in heap]\n",
    "\n",
    "points = [[3,3],[5,-1],[-2,4]]; K = 2\n",
    "kClosest(points, K)"
   ]
  },
  {
   "cell_type": "markdown",
   "metadata": {},
   "source": [
    "### Maximum Distinct Elements\n",
    "Given an array of numbers and a number ‘K’, we need to remove ‘K’ numbers from the array such that we are left with maximum distinct numbers."
   ]
  },
  {
   "cell_type": "code",
   "execution_count": 27,
   "metadata": {},
   "outputs": [
    {
     "name": "stdout",
     "output_type": "stream",
     "text": [
      "Maximum distinct numbers after removing K numbers: 2\n",
      "Maximum distinct numbers after removing K numbers: 2\n",
      "Maximum distinct numbers after removing K numbers: 2\n"
     ]
    },
    {
     "data": {
      "text/plain": [
       "1"
      ]
     },
     "execution_count": 27,
     "metadata": {},
     "output_type": "execute_result"
    }
   ],
   "source": [
    "def find_maximum_distinct_elements(nums, k):\n",
    "    from heapq import heappush, heappop\n",
    "    from collections import Counter\n",
    "    heap = []\n",
    "    count_distinct = 0\n",
    "    # find the frequency of each number\n",
    "    counter = Counter(nums)\n",
    "    \n",
    "    # insert all numbers with frequency greater than '1' into the min-heap\n",
    "    for num, freq in counter.items():\n",
    "        if freq == 1:\n",
    "            count_distinct += 1\n",
    "        else:\n",
    "            heappush(heap, (freq, num))\n",
    "    \n",
    "    # following a greedy approach, try removing the least frequent numbers first from the min-heap\n",
    "    while k>0 and len(heap):\n",
    "        freq, num = heappop(heap)\n",
    "        # To make an element distinct, we need to remove all its occurences except 1.\n",
    "        k -= freq-1\n",
    "        if k>=0:\n",
    "            count_distinct += 1\n",
    "    \n",
    "    # if k > 0, this means we have to remove some distinct numbers.\n",
    "    if k>0:\n",
    "        count_distinct -= k\n",
    "    return count_distinct\n",
    "\n",
    "print(\"Maximum distinct numbers after removing K numbers: \" +\n",
    "        str(find_maximum_distinct_elements([7, 3, 5, 8, 5, 3, 3], 5)))\n",
    "print(\"Maximum distinct numbers after removing K numbers: \" +\n",
    "    str(find_maximum_distinct_elements([3, 5, 12, 11, 12], 3)))\n",
    "print(\"Maximum distinct numbers after removing K numbers: \" +\n",
    "    str(find_maximum_distinct_elements([3, 3, 3, 2, 2, 2, 1, 1], 3)))\n",
    "find_maximum_distinct_elements([1,2,2,2], 1)"
   ]
  },
  {
   "cell_type": "markdown",
   "metadata": {},
   "source": [
    "### Sum of elements\n",
    "Given an array, find the sum of all numbers between the K1’th and K2’th smallest elements of that array.\n",
    "* Excluding the K1’th and K2’th smallest elements.\n"
   ]
  },
  {
   "cell_type": "code",
   "execution_count": 33,
   "metadata": {},
   "outputs": [
    {
     "name": "stdout",
     "output_type": "stream",
     "text": [
      "Sum of all numbers between k1 and k2 smallest numbers: 23\n",
      "Sum of all numbers between k1 and k2 smallest numbers: 12\n"
     ]
    }
   ],
   "source": [
    "def find_sum_of_elements(nums, k1, k2):\n",
    "    from heapq import heappush, heappop\n",
    "    heap = []\n",
    "    # Store the smallest k2-1 numbers in a max-heap.\n",
    "    for num in nums:\n",
    "        heappush(heap, -num)\n",
    "        if len(heap)>k2-1:\n",
    "            heappop(heap)\n",
    "    \n",
    "    ans = 0\n",
    "    for _ in range(k2-k1-1):\n",
    "        ans += -heappop(heap)\n",
    "    return ans\n",
    "\n",
    "print(\"Sum of all numbers between k1 and k2 smallest numbers: \" +\n",
    "        str(find_sum_of_elements([1, 3, 12, 5, 15, 11], 3, 6)))\n",
    "print(\"Sum of all numbers between k1 and k2 smallest numbers: \" +\n",
    "        str(find_sum_of_elements([3, 5, 8, 7], 1, 4)))"
   ]
  },
  {
   "cell_type": "markdown",
   "metadata": {},
   "source": [
    "### Design a Max heap"
   ]
  },
  {
   "cell_type": "code",
   "execution_count": 20,
   "metadata": {},
   "outputs": [],
   "source": [
    "class MaxHeap:\n",
    "    \n",
    "    def __init__(self):\n",
    "        self.a = []\n",
    "        self.size = 0\n",
    "    \n",
    "    def get_left(self,i):\n",
    "        return 2*i+1\n",
    "    \n",
    "    def get_right(self,i):\n",
    "        return 2*i+2\n",
    "    \n",
    "    def get_parent(self, i):\n",
    "        return (i-1)//2\n",
    "    \n",
    "    def isValid(self,i):\n",
    "        return 0<=i<self.size\n",
    "    \n",
    "    def propogateup(self,i):\n",
    "        parent = self.get_parent(i)\n",
    "        while i>0 and self.a[parent]<self.a[i]:\n",
    "            self.a[parent], self.a[i] = self.a[i], self.a[parent]\n",
    "            i = parent\n",
    "            parent = self.get_parent(i)\n",
    "            \n",
    "    def heapify(self, i):\n",
    "        if not self.isValid(i):\n",
    "            return\n",
    "        left = self.a[self.get_left(i)] if self.isValid(self.get_left(i)) else -float('inf')\n",
    "        right = self.a[self.get_right(i)] if self.isValid(self.get_right(i)) else -float('inf')\n",
    "        maxval = max(left, right, self.a[i])\n",
    "        maxindex = i\n",
    "        if maxval == left:\n",
    "            maxindex = self.get_left(i)\n",
    "        elif maxval == right:\n",
    "            maxindex = self.get_right(i)\n",
    "        if maxindex != i:\n",
    "            self.a[maxindex], self.a[i] = self.a[i], self.a[maxindex]\n",
    "            self.heapify(maxindex)\n",
    "            \n",
    "    def get_max(self):\n",
    "        if self.size == 0:\n",
    "            return -1\n",
    "        return self.a[0]\n",
    "    \n",
    "    def insert(self,val):\n",
    "        self.a.append(val)\n",
    "        self.size += 1\n",
    "        self.propogateup(self.size-1)\n",
    "        \n",
    "    def pop(self):\n",
    "        if self.size == 0:\n",
    "            return \n",
    "        maxval = self.a[0]\n",
    "        self.a[0], self.a[self.size-1] = self.a[self.size-1], self.a[0]\n",
    "        del self.a[self.size-1]\n",
    "        self.size -= 1\n",
    "        self.heapify(0)\n",
    "        return maxval\n",
    "    \n",
    "    def delete(self,i):\n",
    "        if not self.isValid(i):\n",
    "            return \n",
    "        self.a[i], self.a[self.size-1] = self.a[self.size-1], self.a[i]\n",
    "        del self.a[self.size-1]\n",
    "        self.size -= 1\n",
    "        parent = self.get_parent(i)\n",
    "        if self.a[parent] < self.a[i]:\n",
    "            self.propogateup(i)\n",
    "        else:\n",
    "            self.heapify(i)\n",
    "         \n",
    "    def print(self):\n",
    "        return self.a\n",
    "        "
   ]
  },
  {
   "cell_type": "code",
   "execution_count": 21,
   "metadata": {},
   "outputs": [
    {
     "data": {
      "text/plain": [
       "[100, 78, 100, 2, 3, 7]"
      ]
     },
     "execution_count": 21,
     "metadata": {},
     "output_type": "execute_result"
    }
   ],
   "source": [
    "heap = MaxHeap()\n",
    "heap.insert(3)\n",
    "heap.insert(7)\n",
    "heap.insert(100)\n",
    "heap.insert(2)\n",
    "heap.insert(78)\n",
    "heap.insert(100)\n",
    "heap.print()"
   ]
  },
  {
   "cell_type": "code",
   "execution_count": 22,
   "metadata": {},
   "outputs": [
    {
     "data": {
      "text/plain": [
       "100"
      ]
     },
     "execution_count": 22,
     "metadata": {},
     "output_type": "execute_result"
    }
   ],
   "source": [
    "heap.pop()"
   ]
  },
  {
   "cell_type": "code",
   "execution_count": 23,
   "metadata": {},
   "outputs": [
    {
     "data": {
      "text/plain": [
       "100"
      ]
     },
     "execution_count": 23,
     "metadata": {},
     "output_type": "execute_result"
    }
   ],
   "source": [
    "heap.pop()"
   ]
  },
  {
   "cell_type": "code",
   "execution_count": 24,
   "metadata": {},
   "outputs": [
    {
     "data": {
      "text/plain": [
       "78"
      ]
     },
     "execution_count": 24,
     "metadata": {},
     "output_type": "execute_result"
    }
   ],
   "source": [
    "heap.pop()"
   ]
  },
  {
   "cell_type": "code",
   "execution_count": 25,
   "metadata": {},
   "outputs": [
    {
     "data": {
      "text/plain": [
       "[7, 3, 2]"
      ]
     },
     "execution_count": 25,
     "metadata": {},
     "output_type": "execute_result"
    }
   ],
   "source": [
    "heap.print()"
   ]
  },
  {
   "cell_type": "code",
   "execution_count": 26,
   "metadata": {},
   "outputs": [],
   "source": [
    "heap.delete(0)"
   ]
  },
  {
   "cell_type": "code",
   "execution_count": 27,
   "metadata": {},
   "outputs": [
    {
     "data": {
      "text/plain": [
       "3"
      ]
     },
     "execution_count": 27,
     "metadata": {},
     "output_type": "execute_result"
    }
   ],
   "source": [
    "heap.pop()"
   ]
  },
  {
   "cell_type": "code",
   "execution_count": 28,
   "metadata": {},
   "outputs": [
    {
     "data": {
      "text/plain": [
       "[2]"
      ]
     },
     "execution_count": 28,
     "metadata": {},
     "output_type": "execute_result"
    }
   ],
   "source": [
    "heap.print()"
   ]
  }
 ],
 "metadata": {
  "kernelspec": {
   "display_name": "Python 3",
   "language": "python",
   "name": "python3"
  },
  "language_info": {
   "codemirror_mode": {
    "name": "ipython",
    "version": 3
   },
   "file_extension": ".py",
   "mimetype": "text/x-python",
   "name": "python",
   "nbconvert_exporter": "python",
   "pygments_lexer": "ipython3",
   "version": "3.6.8"
  }
 },
 "nbformat": 4,
 "nbformat_minor": 2
}
