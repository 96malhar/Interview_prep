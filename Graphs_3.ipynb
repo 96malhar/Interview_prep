{
 "cells": [
  {
   "cell_type": "markdown",
   "metadata": {},
   "source": [
    "### Minimum Number of Flips to Convert Binary Matrix to Zero Matrix\n",
    "Given a m x n binary matrix mat. In one step, you can choose one cell and flip it and all the four neighbours of it if they exist (Flip is changing 1 to 0 and 0 to 1). A pair of cells are called neighboors if they share one edge.\n",
    "\n",
    "Return the minimum number of steps required to convert mat to a zero matrix or -1 if you cannot.\n",
    "\n",
    "Binary matrix is a matrix with all cells equal to 0 or 1 only.\n",
    "\n",
    "Zero matrix is a matrix with all cells equal to 0."
   ]
  },
  {
   "cell_type": "code",
   "execution_count": 1,
   "metadata": {},
   "outputs": [
    {
     "data": {
      "text/plain": [
       "6"
      ]
     },
     "execution_count": 1,
     "metadata": {},
     "output_type": "execute_result"
    }
   ],
   "source": [
    "class Solution:\n",
    "    def minFlips(self, mat) -> int:\n",
    "        hashcode = 0; row = len(mat); col = len(mat[0])\n",
    "        for i in range(row):\n",
    "            for j in range(col):\n",
    "                if mat[i][j] == 1:\n",
    "                    k = i*col + j\n",
    "                    hashcode |= 1<<k\n",
    "                    \n",
    "        if hashcode == 0:\n",
    "            return 0\n",
    "        \n",
    "        queue = [hashcode]; seen = {hashcode}\n",
    "        level = 0\n",
    "        \n",
    "        while queue:\n",
    "            size = len(queue)\n",
    "            for _ in range(size):\n",
    "                hashcode = queue.pop(0)\n",
    "                if hashcode == 0:\n",
    "                    return level\n",
    "                for i in range(row):\n",
    "                    for j in range(col):\n",
    "                        new_hashcode = self.switch(i, j, row, col, hashcode)\n",
    "                        if new_hashcode not in seen:\n",
    "                            seen.add(new_hashcode)\n",
    "                            queue.append(new_hashcode)\n",
    "            level += 1\n",
    "        return -1\n",
    "        \n",
    "    def switch(self, i, j, r, c, hashcode):\n",
    "        for x, y in [(i,j), (i+1,j), (i,j+1), (i-1,j), (i,j-1)]:\n",
    "            k = x*c + y\n",
    "            if 0<=x<r and 0<=y<c:\n",
    "                hashcode ^= 1<<k\n",
    "        \n",
    "        return hashcode\n",
    "\n",
    "grid = [[1,1,1],[1,0,1],[0,0,0]]\n",
    "Solution().minFlips(grid)"
   ]
  },
  {
   "cell_type": "markdown",
   "metadata": {},
   "source": [
    "###  Shortest Path Visiting All Nodes\n",
    "An undirected, connected graph of N nodes (labeled 0, 1, 2, ..., N-1) is given as graph.\n",
    "\n",
    "graph.length = N, and j != i is in the list graph[i] exactly once, if and only if nodes i and j are connected.\n",
    "\n",
    "Return the length of the shortest path that visits every node. You may start and stop at any node, you may revisit nodes multiple times, and you may reuse edges."
   ]
  },
  {
   "cell_type": "code",
   "execution_count": 2,
   "metadata": {},
   "outputs": [
    {
     "data": {
      "text/plain": [
       "4"
      ]
     },
     "execution_count": 2,
     "metadata": {},
     "output_type": "execute_result"
    }
   ],
   "source": [
    "def shortestPathLength(graph) -> int:\n",
    "    queue = []; seen = set()\n",
    "    num_nodes = len(graph)\n",
    "    for i in range(num_nodes):\n",
    "        queue.append((i, 1<<i))\n",
    "        seen.add((i, 1<<i))\n",
    "\n",
    "    level = 0\n",
    "    while queue:\n",
    "        size = len(queue)\n",
    "        for _ in range(size):\n",
    "            node, hashcode = queue.pop(0)\n",
    "            if hashcode == 2**num_nodes-1:\n",
    "                return level\n",
    "            for i in graph[node]:\n",
    "                if (i, hashcode | 1<<i) not in seen:\n",
    "                    seen.add((i, hashcode|1<<i))\n",
    "                    queue.append((i, hashcode|1<<i))\n",
    "        level += 1\n",
    "    \n",
    "graph = [[1],[0,2,4],[1,3,4],[2],[1,2]]\n",
    "shortestPathLength(graph)"
   ]
  },
  {
   "cell_type": "markdown",
   "metadata": {},
   "source": [
    "### Bus Routes\n",
    "We have a list of bus routes. Each routes[i] is a bus route that the i-th bus repeats forever. For example if routes[0] = [1, 5, 7], this means that the first bus (0-th indexed) travels in the sequence 1->5->7->1->5->7->1->... forever.\n",
    "\n",
    "We start at bus stop S (initially not on a bus), and we want to go to bus stop T. Travelling by buses only, what is the least number of buses we must take to reach our destination? Return -1 if it is not possible."
   ]
  },
  {
   "cell_type": "code",
   "execution_count": 10,
   "metadata": {},
   "outputs": [
    {
     "data": {
      "text/plain": [
       "2"
      ]
     },
     "execution_count": 10,
     "metadata": {},
     "output_type": "execute_result"
    }
   ],
   "source": [
    "from collections import defaultdict\n",
    "class Solution:\n",
    "    def numBusesToDestination(self, routes, S: int, T: int) -> int:\n",
    "        if S == T: return 0\n",
    "        hashmap = defaultdict(set)\n",
    "        queue = []; seen = set()\n",
    "        for route_index, route in enumerate(routes):\n",
    "            for stop in route:\n",
    "                hashmap[stop].add(route_index)\n",
    "        \n",
    "        for route_index in hashmap[S]:\n",
    "            queue.append(route_index)\n",
    "            seen.add(route_index)\n",
    "        \n",
    "        num_buses = 1\n",
    "        while queue:\n",
    "            size = len(queue)\n",
    "            for _ in range(size):\n",
    "                route_index = queue.pop(0)\n",
    "                if route_index in hashmap[T]:\n",
    "                    return num_buses\n",
    "                for stop in routes[route_index]:\n",
    "                    for next_index in hashmap[stop]:\n",
    "                        if next_index not in seen:\n",
    "                            seen.add(next_index)\n",
    "                            queue.append(next_index)\n",
    "            num_buses += 1\n",
    "        return -1\n",
    "\n",
    "routes = [[1, 2, 7], [3, 6, 7]]\n",
    "S = 1\n",
    "T = 6\n",
    "Solution().numBusesToDestination(routes, S, T)"
   ]
  }
 ],
 "metadata": {
  "kernelspec": {
   "display_name": "Python 3",
   "language": "python",
   "name": "python3"
  },
  "language_info": {
   "codemirror_mode": {
    "name": "ipython",
    "version": 3
   },
   "file_extension": ".py",
   "mimetype": "text/x-python",
   "name": "python",
   "nbconvert_exporter": "python",
   "pygments_lexer": "ipython3",
   "version": "3.6.8"
  }
 },
 "nbformat": 4,
 "nbformat_minor": 2
}
