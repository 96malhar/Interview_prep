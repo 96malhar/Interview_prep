{
 "cells": [
  {
   "cell_type": "markdown",
   "metadata": {},
   "source": [
    "### Minimum Number of Flips to Convert Binary Matrix to Zero Matrix\n",
    "Given a m x n binary matrix mat. In one step, you can choose one cell and flip it and all the four neighbours of it if they exist (Flip is changing 1 to 0 and 0 to 1). A pair of cells are called neighboors if they share one edge.\n",
    "\n",
    "Return the minimum number of steps required to convert mat to a zero matrix or -1 if you cannot.\n",
    "\n",
    "Binary matrix is a matrix with all cells equal to 0 or 1 only.\n",
    "\n",
    "Zero matrix is a matrix with all cells equal to 0."
   ]
  },
  {
   "cell_type": "code",
   "execution_count": 1,
   "metadata": {},
   "outputs": [
    {
     "data": {
      "text/plain": [
       "6"
      ]
     },
     "execution_count": 1,
     "metadata": {},
     "output_type": "execute_result"
    }
   ],
   "source": [
    "class Solution:\n",
    "    def minFlips(self, mat) -> int:\n",
    "        hashcode = 0; row = len(mat); col = len(mat[0])\n",
    "        for i in range(row):\n",
    "            for j in range(col):\n",
    "                if mat[i][j] == 1:\n",
    "                    k = i*col + j\n",
    "                    hashcode |= 1<<k\n",
    "                    \n",
    "        if hashcode == 0:\n",
    "            return 0\n",
    "        \n",
    "        queue = [hashcode]; seen = {hashcode}\n",
    "        level = 0\n",
    "        \n",
    "        while queue:\n",
    "            size = len(queue)\n",
    "            for _ in range(size):\n",
    "                hashcode = queue.pop(0)\n",
    "                if hashcode == 0:\n",
    "                    return level\n",
    "                for i in range(row):\n",
    "                    for j in range(col):\n",
    "                        new_hashcode = self.switch(i, j, row, col, hashcode)\n",
    "                        if new_hashcode not in seen:\n",
    "                            seen.add(new_hashcode)\n",
    "                            queue.append(new_hashcode)\n",
    "            level += 1\n",
    "        return -1\n",
    "        \n",
    "    def switch(self, i, j, r, c, hashcode):\n",
    "        for x, y in [(i,j), (i+1,j), (i,j+1), (i-1,j), (i,j-1)]:\n",
    "            k = x*c + y\n",
    "            if 0<=x<r and 0<=y<c:\n",
    "                hashcode ^= 1<<k\n",
    "        \n",
    "        return hashcode\n",
    "\n",
    "grid = [[1,1,1],[1,0,1],[0,0,0]]\n",
    "Solution().minFlips(grid)"
   ]
  },
  {
   "cell_type": "markdown",
   "metadata": {},
   "source": [
    "###  Shortest Path Visiting All Nodes\n",
    "An undirected, connected graph of N nodes (labeled 0, 1, 2, ..., N-1) is given as graph.\n",
    "\n",
    "graph.length = N, and j != i is in the list graph[i] exactly once, if and only if nodes i and j are connected.\n",
    "\n",
    "Return the length of the shortest path that visits every node. You may start and stop at any node, you may revisit nodes multiple times, and you may reuse edges."
   ]
  },
  {
   "cell_type": "code",
   "execution_count": 2,
   "metadata": {},
   "outputs": [
    {
     "data": {
      "text/plain": [
       "4"
      ]
     },
     "execution_count": 2,
     "metadata": {},
     "output_type": "execute_result"
    }
   ],
   "source": [
    "def shortestPathLength(graph) -> int:\n",
    "    queue = []; seen = set()\n",
    "    num_nodes = len(graph)\n",
    "    for i in range(num_nodes):\n",
    "        queue.append((i, 1<<i))\n",
    "        seen.add((i, 1<<i))\n",
    "\n",
    "    level = 0\n",
    "    while queue:\n",
    "        size = len(queue)\n",
    "        for _ in range(size):\n",
    "            node, hashcode = queue.pop(0)\n",
    "            if hashcode == 2**num_nodes-1:\n",
    "                return level\n",
    "            for i in graph[node]:\n",
    "                if (i, hashcode | 1<<i) not in seen:\n",
    "                    seen.add((i, hashcode|1<<i))\n",
    "                    queue.append((i, hashcode|1<<i))\n",
    "        level += 1\n",
    "    \n",
    "graph = [[1],[0,2,4],[1,3,4],[2],[1,2]]\n",
    "shortestPathLength(graph)"
   ]
  },
  {
   "cell_type": "markdown",
   "metadata": {},
   "source": [
    "### Bus Routes\n",
    "We have a list of bus routes. Each routes[i] is a bus route that the i-th bus repeats forever. For example if routes[0] = [1, 5, 7], this means that the first bus (0-th indexed) travels in the sequence 1->5->7->1->5->7->1->... forever.\n",
    "\n",
    "We start at bus stop S (initially not on a bus), and we want to go to bus stop T. Travelling by buses only, what is the least number of buses we must take to reach our destination? Return -1 if it is not possible."
   ]
  },
  {
   "cell_type": "code",
   "execution_count": 10,
   "metadata": {},
   "outputs": [
    {
     "data": {
      "text/plain": [
       "2"
      ]
     },
     "execution_count": 10,
     "metadata": {},
     "output_type": "execute_result"
    }
   ],
   "source": [
    "from collections import defaultdict\n",
    "class Solution:\n",
    "    def numBusesToDestination(self, routes, S: int, T: int) -> int:\n",
    "        if S == T: return 0\n",
    "        hashmap = defaultdict(set)\n",
    "        queue = []; seen = set()\n",
    "        for route_index, route in enumerate(routes):\n",
    "            for stop in route:\n",
    "                hashmap[stop].add(route_index)\n",
    "        \n",
    "        for route_index in hashmap[S]:\n",
    "            queue.append(route_index)\n",
    "            seen.add(route_index)\n",
    "        \n",
    "        num_buses = 1\n",
    "        while queue:\n",
    "            size = len(queue)\n",
    "            for _ in range(size):\n",
    "                route_index = queue.pop(0)\n",
    "                if route_index in hashmap[T]:\n",
    "                    return num_buses\n",
    "                for stop in routes[route_index]:\n",
    "                    for next_index in hashmap[stop]:\n",
    "                        if next_index not in seen:\n",
    "                            seen.add(next_index)\n",
    "                            queue.append(next_index)\n",
    "            num_buses += 1\n",
    "        return -1\n",
    "\n",
    "routes = [[1, 2, 7], [3, 6, 7]]\n",
    "S = 1\n",
    "T = 6\n",
    "Solution().numBusesToDestination(routes, S, T)"
   ]
  },
  {
   "cell_type": "markdown",
   "metadata": {},
   "source": [
    "### Sliding Puzzle\n",
    "On a 2x3 board, there are 5 tiles represented by the integers 1 through 5, and an empty square represented by 0.\n",
    "\n",
    "A move consists of choosing 0 and a 4-directionally adjacent number and swapping it.\n",
    "\n",
    "The state of the board is solved if and only if the board is [[1,2,3],[4,5,0]].\n",
    "\n",
    "Given a puzzle board, return the least number of moves required so that the state of the board is solved. If it is impossible for the state of the board to be solved, return -1."
   ]
  },
  {
   "cell_type": "code",
   "execution_count": 8,
   "metadata": {},
   "outputs": [
    {
     "data": {
      "text/plain": [
       "5"
      ]
     },
     "execution_count": 8,
     "metadata": {},
     "output_type": "execute_result"
    }
   ],
   "source": [
    "class Solution:\n",
    "    def slidingPuzzle(self, board) -> int:\n",
    "        target = [1,2,3,4,5,0]\n",
    "        flat_board = []\n",
    "        for i in range(len(board)):\n",
    "            for j in range(len(board[0])):\n",
    "                flat_board.append(board[i][j])\n",
    "                if board[i][j] == 0:\n",
    "                    zero_pos = (i,j)\n",
    "        \n",
    "        queue = [(flat_board, zero_pos)]\n",
    "        seen = {tuple(flat_board)}\n",
    "        level = 0\n",
    "        \n",
    "        while queue:\n",
    "            size = len(queue)\n",
    "            for _ in range(size):\n",
    "                flat_board, zero_pos = queue.pop(0)\n",
    "                if flat_board == target:\n",
    "                    return level\n",
    "                i, j = zero_pos\n",
    "                for x,y in [(i+1,j), (i,j+1), (i-1,j), (i,j-1)]:\n",
    "                    if 0<=x<len(board) and 0<=y<len(board[0]):\n",
    "                        new_flat_board = self.swap(flat_board[:], i, j, x, y, board)\n",
    "                        if tuple(new_flat_board) not in seen:\n",
    "                            seen.add(tuple(new_flat_board))\n",
    "                            queue.append((new_flat_board, (x,y)))\n",
    "                \n",
    "            level += 1\n",
    "        return -1\n",
    "    \n",
    "    def swap(self, flat_board, i, j, x, y, board):\n",
    "        p = i*len(board[0]) + j\n",
    "        q = x*len(board[0]) + y\n",
    "        flat_board[p], flat_board[q] = flat_board[q], flat_board[p]\n",
    "        return flat_board\n",
    "\n",
    "board = [[4,1,2],[5,0,3]]   \n",
    "obj = Solution()\n",
    "obj.slidingPuzzle(board)"
   ]
  },
  {
   "cell_type": "markdown",
   "metadata": {},
   "source": [
    "### Find Eventual Safe States\n",
    "In a directed graph, we start at some node and every turn, walk along a directed edge of the graph.  If we reach a node that is terminal (that is, it has no outgoing directed edges), we stop.\n",
    "\n",
    "Now, say our starting node is eventually safe if and only if we must eventually walk to a terminal node.  More specifically, there exists a natural number K so that for any choice of where to walk, we must have stopped at a terminal node in less than K steps.\n",
    "\n",
    "Which nodes are eventually safe?  Return them as an array in sorted order.\n",
    "\n",
    "The directed graph has N nodes with labels 0, 1, ..., N-1, where N is the length of graph.  The graph is given in the following form: graph[i] is a list of labels j such that (i, j) is a directed edge of the graph."
   ]
  },
  {
   "cell_type": "code",
   "execution_count": 4,
   "metadata": {},
   "outputs": [
    {
     "data": {
      "text/plain": [
       "[2, 4, 5, 6]"
      ]
     },
     "execution_count": 4,
     "metadata": {},
     "output_type": "execute_result"
    }
   ],
   "source": [
    "class Solution:\n",
    "    def eventualSafeNodes(self, graph):\n",
    "        self.hashmap = {}\n",
    "        ans = []\n",
    "        for i in range(len(graph)):\n",
    "            if i in self.hashmap and self.hashmap[i] == 'safe':\n",
    "                ans.append(i)\n",
    "            if i not in self.hashmap:\n",
    "                if not self.is_unsafe(i, graph):\n",
    "                    ans.append(i)\n",
    "        return ans\n",
    "    \n",
    "    def is_unsafe(self, node, graph):\n",
    "        self.hashmap[node] = 'unsafe'\n",
    "        for neigh in graph[node]:\n",
    "            if neigh in self.hashmap and self.hashmap[neigh] == 'unsafe':\n",
    "                return True\n",
    "            elif neigh not in self.hashmap and self.is_unsafe(neigh, graph):\n",
    "                return True\n",
    "        \n",
    "        self.hashmap[node] = 'safe'\n",
    "        return False\n",
    "\n",
    "graph = [[1,2],[2,3],[5],[0],[5],[],[]]\n",
    "obj = Solution()\n",
    "obj.eventualSafeNodes(graph)"
   ]
  },
  {
   "cell_type": "markdown",
   "metadata": {},
   "source": [
    "### Bricks Falling When Hit\n",
    "We have a grid of 1s and 0s; the 1s in a cell represent bricks.  A brick will not drop if and only if it is directly connected to the top of the grid, or at least one of its (4-way) adjacent bricks will not drop.\n",
    "\n",
    "We will do some erasures sequentially. Each time we want to do the erasure at the location (i, j), the brick (if it exists) on that location will disappear, and then some other bricks may drop because of that erasure.\n",
    "\n",
    "Return an array representing the number of bricks that will drop after each erasure in sequence."
   ]
  },
  {
   "cell_type": "code",
   "execution_count": 2,
   "metadata": {},
   "outputs": [
    {
     "data": {
      "text/plain": [
       "[0, 0]"
      ]
     },
     "execution_count": 2,
     "metadata": {},
     "output_type": "execute_result"
    }
   ],
   "source": [
    "class Solution:\n",
    "    def hitBricks(self, grid, hits):\n",
    "        for i, j in hits:\n",
    "            grid[i][j] = 0 if grid[i][j] == 1 else -1\n",
    "        \n",
    "        for i in range(len(grid[0])):\n",
    "            if grid[0][i] == 1:\n",
    "                self.dfs(0, i, grid)\n",
    "        \n",
    "        ans = [0]*len(hits)\n",
    "        \n",
    "        for i in range(len(hits)-1, -1, -1):\n",
    "            x, y = hits[i]\n",
    "            grid[x][y] += 1\n",
    "            if grid[x][y] == 1 and self.is_connected(x, y, grid):\n",
    "                size = self.dfs(x, y, grid) - 1\n",
    "                ans[i] = size\n",
    "                \n",
    "        return ans\n",
    "    \n",
    "    def is_connected(self, i, j, grid):\n",
    "        if i == 0:\n",
    "            return True\n",
    "        for x, y in [(i+1,j), (i,j+1), (i-1,j), (i,j-1)]:\n",
    "            if 0<=x<len(grid) and 0<=y<len(grid[0]) and grid[x][y] == 2:\n",
    "                return True\n",
    "        return False\n",
    "    \n",
    "    def dfs(self, i, j, grid):\n",
    "        grid[i][j] = 2\n",
    "        ans = 1\n",
    "        for x, y in [(i+1,j), (i,j+1), (i-1,j), (i,j-1)]:\n",
    "            if 0<=x<len(grid) and 0<=y<len(grid[0]) and grid[x][y] == 1:\n",
    "                ans += self.dfs(x, y, grid)\n",
    "        return ans\n",
    "                \n",
    "obj = Solution()\n",
    "grid = [[1,0,0,0],[1,1,0,0]]\n",
    "hits = [[1,1],[1,0]]\n",
    "obj.hitBricks(grid, hits)"
   ]
  },
  {
   "cell_type": "markdown",
   "metadata": {},
   "source": [
    "### Race Car\n",
    "Your car starts at position 0 and speed +1 on an infinite number line.  (Your car can go into negative positions.)\n",
    "\n",
    "Your car drives automatically according to a sequence of instructions A (accelerate) and R (reverse).\n",
    "\n",
    "When you get an instruction \"A\", your car does the following: position += speed, speed *= 2.\n",
    "\n",
    "When you get an instruction \"R\", your car does the following: if your speed is positive then speed = -1 , otherwise speed = 1.  (Your position stays the same.)\n",
    "\n",
    "For example, after commands \"AAR\", your car goes to positions 0->1->3->3, and your speed goes to 1->2->4->-1.\n",
    "\n",
    "Now for some target position, say the length of the shortest sequence of instructions to get there."
   ]
  },
  {
   "cell_type": "code",
   "execution_count": 13,
   "metadata": {},
   "outputs": [
    {
     "data": {
      "text/plain": [
       "5"
      ]
     },
     "execution_count": 13,
     "metadata": {},
     "output_type": "execute_result"
    }
   ],
   "source": [
    "import collections\n",
    "def racecar(target: int) -> int:\n",
    "    queue = collections.deque(); seen = {(0, 1)}\n",
    "    queue.append((0,1))\n",
    "    steps = 0\n",
    "    while queue:\n",
    "        size = len(queue)\n",
    "        for _ in range(size):\n",
    "            pos, speed = queue.popleft()\n",
    "            if pos == target:\n",
    "                return steps\n",
    "\n",
    "            # A\n",
    "            new_pos = pos + speed\n",
    "            new_speed = speed*2\n",
    "            if (new_pos, new_speed) not in seen:\n",
    "                seen.add((new_pos, new_speed))\n",
    "                queue.append((new_pos, new_speed))\n",
    "\n",
    "            # R\n",
    "            new_speed = -1 if speed > 0 else 1\n",
    "            if (pos, new_speed) not in seen:\n",
    "                seen.add((pos, new_speed))\n",
    "                queue.append((pos, new_speed))\n",
    "        steps += 1\n",
    "\n",
    "racecar(6)"
   ]
  },
  {
   "cell_type": "markdown",
   "metadata": {},
   "source": [
    "### Most Stones Removed with Same Row or Column\n",
    "On a 2D plane, we place stones at some integer coordinate points.  Each coordinate point may have at most one stone.\n",
    "\n",
    "Now, a move consists of removing a stone that shares a column or row with another stone on the grid.\n",
    "\n",
    "What is the largest possible number of moves we can make?"
   ]
  },
  {
   "cell_type": "code",
   "execution_count": 7,
   "metadata": {},
   "outputs": [
    {
     "data": {
      "text/plain": [
       "5"
      ]
     },
     "execution_count": 7,
     "metadata": {},
     "output_type": "execute_result"
    }
   ],
   "source": [
    "from collections import defaultdict\n",
    "class Solution:\n",
    "    def removeStones(self, stones) -> int:\n",
    "        self.dic_row = defaultdict(list)\n",
    "        self.dic_col = defaultdict(list)\n",
    "        for x, y in stones:\n",
    "            self.dic_row[x].append((x,y))\n",
    "            self.dic_col[y].append((x,y))\n",
    "        \n",
    "        seen = set(); ans = 0\n",
    "        for x, y in stones:\n",
    "            if (x,y) not in seen:\n",
    "                size = self.get_size(x, y, seen)\n",
    "                ans += size-1\n",
    "        return ans\n",
    "    \n",
    "    def get_size(self, i, j, seen):\n",
    "        seen.add((i,j))\n",
    "        size = 1\n",
    "        \n",
    "        for x, y in self.dic_row[i]:\n",
    "            if (x,y) not in seen:\n",
    "                size += self.get_size(x, y, seen)\n",
    "        \n",
    "        for x, y in self.dic_col[j]:\n",
    "            if (x,y) not in seen:\n",
    "                size += self.get_size(x, y, seen)\n",
    "        \n",
    "        return size\n",
    "\n",
    "stones = [[0,0],[0,1],[1,0],[1,2],[2,1],[2,2]]\n",
    "Solution().removeStones(stones)"
   ]
  },
  {
   "cell_type": "markdown",
   "metadata": {},
   "source": [
    "### Alphabet Board Path\n",
    "On an alphabet board, we start at position (0, 0), corresponding to character board[0][0].\n",
    "\n",
    "Here, board = [\"abcde\", \"fghij\", \"klmno\", \"pqrst\", \"uvwxy\", \"z\"], as shown in the diagram below.\n",
    "We may make the following moves:\n",
    "\n",
    "* 'U' moves our position up one row, if the position exists on the board;\n",
    "* 'D' moves our position down one row, if the position exists on the board;\n",
    "* 'L' moves our position left one column, if the position exists on the board;\n",
    "* 'R' moves our position right one column, if the position exists on the board;\n",
    "* '!' adds the character board[r][c] at our current position (r, c) to the answer.\n",
    "* (Here, the only positions that exist on the board are positions with letters on them.)\n",
    "\n",
    "Return a sequence of moves that makes our answer equal to target in the minimum number of moves.  You may return any path that does so.\n",
    "\n",
    " "
   ]
  },
  {
   "cell_type": "code",
   "execution_count": 15,
   "metadata": {},
   "outputs": [
    {
     "data": {
      "text/plain": [
       "'DDR!UURRR!!DDD!'"
      ]
     },
     "execution_count": 15,
     "metadata": {},
     "output_type": "execute_result"
    }
   ],
   "source": [
    "def alphabetBoardPath(target: str) -> str:\n",
    "    board = ['abcde', 'fghij', 'klmno', 'pqrst', 'uvwxy', 'z']\n",
    "    inverted_index = {}\n",
    "    for i in range(len(board)):\n",
    "        for j in range(len(board[i])):\n",
    "            inverted_index[board[i][j]] = (i,j)\n",
    "\n",
    "    queue = [(0, 0, 0, '')]\n",
    "\n",
    "    while queue:\n",
    "        i, j, idx, moves = queue.pop(0)\n",
    "        if idx == len(target):\n",
    "            return moves\n",
    "\n",
    "        if target[idx] == 'z' and j != 0:\n",
    "            moves += 'L'*(j-0)\n",
    "            j = 0\n",
    "        if target[idx] != 'z' and i == 5:\n",
    "            moves += 'U'\n",
    "            i = 4\n",
    "\n",
    "        x, y = inverted_index[target[idx]]\n",
    "        if x>i:\n",
    "            moves += 'D'*(x-i)\n",
    "        elif x<i:\n",
    "            moves += 'U'*(i-x)\n",
    "\n",
    "        if y>j:\n",
    "            moves += 'R'*(y-j)\n",
    "        elif y<j:\n",
    "            moves += 'L'*(j-y)\n",
    "\n",
    "        moves += '!'\n",
    "        queue.append((x, y, idx+1, moves))\n",
    "\n",
    "alphabetBoardPath('leet')"
   ]
  },
  {
   "cell_type": "markdown",
   "metadata": {},
   "source": [
    "### Delete Tree Nodes \n",
    "A tree rooted at node 0 is given as follows:\n",
    "\n",
    "* The number of nodes is nodes;\n",
    "* The value of the i-th node is value[i];\n",
    "* The parent of the i-th node is parent[i].\n",
    "\n",
    "Remove every subtree whose sum of values of nodes is zero.\n",
    "\n",
    "After doing so, return the number of nodes remaining in the tree."
   ]
  },
  {
   "cell_type": "code",
   "execution_count": 3,
   "metadata": {},
   "outputs": [
    {
     "data": {
      "text/plain": [
       "2"
      ]
     },
     "execution_count": 3,
     "metadata": {},
     "output_type": "execute_result"
    }
   ],
   "source": [
    "import collections\n",
    "class Solution:\n",
    "    def deleteTreeNodes(self, nodes: int, parent, value) -> int:\n",
    "        graph = collections.defaultdict(list)\n",
    "        for i, num in enumerate(parent):\n",
    "            if num == -1:\n",
    "                root = i\n",
    "                continue\n",
    "            graph[num].append(i)\n",
    "        \n",
    "        return self.dfs(root, graph, value)[1]\n",
    "    \n",
    "    def dfs(self, node, graph, value):\n",
    "        val = value[node]; size = 1\n",
    "        for child in graph[node]:\n",
    "            sub_val, sub_size = self.dfs(child, graph, value)\n",
    "            val += sub_val\n",
    "            size += sub_size\n",
    "        if val == 0:\n",
    "            return 0, 0\n",
    "        return val, size\n",
    "    \n",
    "nodes = 7; parent = [-1,0,0,1,2,2,2]; value = [1,-2,4,0,-2,-1,-1]    \n",
    "obj = Solution()\n",
    "obj.deleteTreeNodes(nodes, parent, value)"
   ]
  },
  {
   "cell_type": "markdown",
   "metadata": {},
   "source": [
    "### Maximum Candies You Can Get from Boxes\n",
    "Given n boxes, each box is given in the format [status, candies, keys, containedBoxes] where:\n",
    "\n",
    "* status[i]: an integer which is 1 if box[i] is open and 0 if box[i] is closed.\n",
    "* candies[i]: an integer representing the number of candies in box[i].\n",
    "* keys[i]: an array contains the indices of the boxes you can open with the key in box[i].\n",
    "* containedBoxes[i]: an array contains the indices of the boxes found in box[i].\n",
    "\n",
    "You will start with some boxes given in initialBoxes array. You can take all the candies in any open box and you can use the keys in it to open new boxes and you also can use the boxes you find in it.\n",
    "\n",
    "Return the maximum number of candies you can get following the rules above."
   ]
  },
  {
   "cell_type": "code",
   "execution_count": 1,
   "metadata": {},
   "outputs": [
    {
     "data": {
      "text/plain": [
       "16"
      ]
     },
     "execution_count": 1,
     "metadata": {},
     "output_type": "execute_result"
    }
   ],
   "source": [
    "def maxCandies(status, candies, keys, containedBoxes, initialBoxes) -> int:\n",
    "    visited = set()\n",
    "    has_key = set()\n",
    "    boxes = set()\n",
    "\n",
    "    for box in initialBoxes:\n",
    "        boxes.add(box)\n",
    "\n",
    "    queue = []\n",
    "\n",
    "    for box in boxes.copy():\n",
    "        if status[box] == 1:\n",
    "            queue.append(box)\n",
    "            visited.add(box)\n",
    "            boxes.remove(box)\n",
    "    ans = 0\n",
    "\n",
    "    while queue:\n",
    "        size = len(queue)\n",
    "        for _ in range(size):\n",
    "            box = queue.pop(0)\n",
    "            ans += candies[box]\n",
    "\n",
    "            for key in keys[box]:\n",
    "                has_key.add(key)\n",
    "\n",
    "            for new_box in containedBoxes[box]:\n",
    "                boxes.add(new_box)\n",
    "\n",
    "        for box in boxes.copy():\n",
    "            if ((box in has_key) or (status[box]==1)) and box not in visited:\n",
    "                queue.append(box)\n",
    "                visited.add(box)\n",
    "                boxes.remove(box)\n",
    "\n",
    "    return ans\n",
    "\n",
    "status = [1,0,1,0]\n",
    "candies = [7,5,4,100]\n",
    "keys = [[],[],[1],[]]\n",
    "containedBoxes = [[1,2],[3],[],[]] \n",
    "initialBoxes = [0]\n",
    "\n",
    "maxCandies(status, candies, keys, containedBoxes, initialBoxes)"
   ]
  },
  {
   "cell_type": "markdown",
   "metadata": {},
   "source": [
    "### Shortest Path to Get All Keys\n",
    "We are given a 2-dimensional grid. \".\" is an empty cell, \"#\" is a wall, \"@\" is the starting point, (\"a\", \"b\", ...) are keys, and (\"A\", \"B\", ...) are locks.\n",
    "\n",
    "We start at the starting point, and one move consists of walking one space in one of the 4 cardinal directions.  We cannot walk outside the grid, or walk into a wall.  If we walk over a key, we pick it up.  We can't walk over a lock unless we have the corresponding key.\n",
    "\n",
    "For some 1 <= K <= 6, there is exactly one lowercase and one uppercase letter of the first K letters of the English alphabet in the grid.  This means that there is exactly one key for each lock, and one lock for each key; and also that the letters used to represent the keys and locks were chosen in the same order as the English alphabet.\n",
    "\n",
    "Return the lowest number of moves to acquire all keys.  If it's impossible, return -1."
   ]
  },
  {
   "cell_type": "code",
   "execution_count": 14,
   "metadata": {},
   "outputs": [
    {
     "data": {
      "text/plain": [
       "8"
      ]
     },
     "execution_count": 14,
     "metadata": {},
     "output_type": "execute_result"
    }
   ],
   "source": [
    "def shortestPathAllKeys(grid) -> int:\n",
    "    hashcode = 0; num_keys = 0\n",
    "    for i in range(len(grid)):\n",
    "        for j in range(len(grid[0])):\n",
    "            if grid[i][j].islower():\n",
    "                num_keys += 1\n",
    "            if grid[i][j] == '@':\n",
    "                start = i, j\n",
    "\n",
    "    seen = {(start[0], start[1], hashcode)}\n",
    "    queue = [(start[0], start[1], hashcode)]\n",
    "    ans = 0\n",
    "\n",
    "    while queue:\n",
    "        size = len(queue)\n",
    "        for _ in range(size):\n",
    "            i, j, hashcode = queue.pop(0)\n",
    "\n",
    "            if grid[i][j].isupper():\n",
    "                index = ord(grid[i][j]) - ord('A')\n",
    "                if hashcode >> index & 1 == 0:\n",
    "                    continue\n",
    "\n",
    "            elif grid[i][j].islower():\n",
    "                index = ord(grid[i][j]) - ord('a')\n",
    "                hashcode = hashcode | 1 << index\n",
    "                if hashcode == 2**num_keys-1:\n",
    "                    return ans\n",
    "\n",
    "            for x, y in [(i+1,j), (i,j+1), (i-1,j), (i,j-1)]:\n",
    "                if 0<=x<len(grid) and 0<=y<len(grid[0]) and grid[x][y] != '#' and (x,y,hashcode) not in seen:\n",
    "                    seen.add((x,y,hashcode))\n",
    "                    queue.append((x,y,hashcode))\n",
    "        ans += 1\n",
    "    return -1\n",
    "\n",
    "grid = [\"@.a.#\",\"###.#\",\"b.A.B\"]\n",
    "shortestPathAllKeys(grid)"
   ]
  },
  {
   "cell_type": "markdown",
   "metadata": {},
   "source": [
    "### Making A Large Island\n",
    "In a 2D grid of 0s and 1s, we change at most one 0 to a 1.\n",
    "\n",
    "After, what is the size of the largest island? (An island is a 4-directionally connected group of 1s)."
   ]
  },
  {
   "cell_type": "code",
   "execution_count": 1,
   "metadata": {},
   "outputs": [
    {
     "data": {
      "text/plain": [
       "3"
      ]
     },
     "execution_count": 1,
     "metadata": {},
     "output_type": "execute_result"
    }
   ],
   "source": [
    "from collections import Counter\n",
    "class Solution:\n",
    "    def largestIsland(self, grid) -> int:\n",
    "        self.id = {}; num = 0; component_size = {}\n",
    "        for i in range(len(grid)):\n",
    "            for j in range(len(grid[0])):\n",
    "                if grid[i][j] == 1 and (i,j) not in self.id:\n",
    "                    size = self.dfs(i,j,grid, num)\n",
    "                    component_size[num] = size\n",
    "                    num += 1\n",
    "        \n",
    "        if len(self.id) == 0:\n",
    "            return 1\n",
    "        \n",
    "        ans = max(component_size.values())\n",
    "        for i in range(len(grid)):\n",
    "            for j in range(len(grid[0])):\n",
    "                if grid[i][j] == 0:\n",
    "                    neigh = set()\n",
    "                    for x,y in [(i+1,j), (i,j+1), (i-1,j), (i,j-1)]:\n",
    "                        if 0<=x<len(grid) and 0<=y<len(grid[0]) and grid[x][y] == 1:\n",
    "                            neigh.add(self.id[(x,y)])\n",
    "                    size = 0\n",
    "                    for id in neigh:\n",
    "                        size += component_size[id]\n",
    "                    ans = max(ans, size+1)\n",
    "        return ans\n",
    "                             \n",
    "    def dfs(self, i, j, grid, num):\n",
    "        self.id[(i,j)] = num\n",
    "        size = 1\n",
    "        for x,y in [(i+1,j), (i,j+1), (i-1,j), (i,j-1)]:\n",
    "            if 0<=x<len(grid) and 0<=y<len(grid[0]) and grid[x][y] == 1 and (x,y) not in self.id:\n",
    "                size += self.dfs(x, y, grid, num)\n",
    "        return size\n",
    "        \n",
    "grid = [[1, 0], [0, 1]]\n",
    "Solution().largestIsland(grid)"
   ]
  },
  {
   "cell_type": "markdown",
   "metadata": {},
   "source": [
    "### Lexicographically Smallest Equivalent String\n",
    "Given strings A and B of the same length, we say A[i] and B[i] are equivalent characters. For example, if A = \"abc\" and B = \"cde\", then we have 'a' == 'c', 'b' == 'd', 'c' == 'e'.\n",
    "\n",
    "Equivalent characters follow the usual rules of any equivalence relation:\n",
    "\n",
    "* Reflexivity: 'a' == 'a'\n",
    "* Symmetry: 'a' == 'b' implies 'b' == 'a'\n",
    "* Transitivity: 'a' == 'b' and 'b' == 'c' implies 'a' == 'c'\n",
    "For example, given the equivalency information from A and B above, S = \"eed\", \"acd\", and \"aab\" are equivalent strings, and \"aab\" is the lexicographically smallest equivalent string of S.\n",
    "\n",
    "Return the lexicographically smallest equivalent string of S by using the equivalency information from A and B."
   ]
  },
  {
   "cell_type": "code",
   "execution_count": 9,
   "metadata": {},
   "outputs": [
    {
     "data": {
      "text/plain": [
       "'aauaaaaada'"
      ]
     },
     "execution_count": 9,
     "metadata": {},
     "output_type": "execute_result"
    }
   ],
   "source": [
    "from collections import defaultdict\n",
    "from heapq import heappush\n",
    "class Solution:\n",
    "    def smallestEquivalentString(self, A: str, B: str, S: str) -> str:\n",
    "        graph = defaultdict(list)\n",
    "        for ch1, ch2 in zip(A, B):\n",
    "            graph[ch1].append(ch2)\n",
    "            graph[ch2].append(ch1)\n",
    "        \n",
    "        self.seen = {} #ch: id\n",
    "        components = {} #id : comp\n",
    "        num = 0\n",
    "        for ch in graph.copy():\n",
    "            if ch not in self.seen:\n",
    "                comp = []\n",
    "                self.dfs(ch, graph, comp, num)\n",
    "                components[num] = comp\n",
    "                num += 1\n",
    "        \n",
    "        res = ''\n",
    "        for ch in S:\n",
    "            if ch in self.seen:\n",
    "                id_num = self.seen[ch]\n",
    "                new_ch = components[id_num][0]\n",
    "            else:\n",
    "                new_ch = ch\n",
    "            res += new_ch\n",
    "        \n",
    "        return res\n",
    "                \n",
    "    \n",
    "    def dfs(self, ch, graph, cc, num):\n",
    "        self.seen[ch] = num\n",
    "        heappush(cc, ch)\n",
    "        for neigh in graph[ch]:\n",
    "            if neigh not in self.seen:\n",
    "                self.dfs(neigh, graph, cc, num)\n",
    "\n",
    "A = \"leetcode\"; B = \"programs\"; S = \"sourcecode\"\n",
    "Solution().smallestEquivalentString(A, B, S)"
   ]
  },
  {
   "cell_type": "markdown",
   "metadata": {},
   "source": [
    "### Number of Closed Islands \n",
    "Given a 2D grid consists of 0s (land) and 1s (water).  An island is a maximal 4-directionally connected group of 0s and a closed island is an island totally (all left, top, right, bottom) surrounded by 1s.\n",
    "\n",
    "Return the number of closed islands.\n",
    "\n",
    "**Similar Questions**\n",
    "1. Surrounded Regions\n",
    "2. Number of Enclaves"
   ]
  },
  {
   "cell_type": "code",
   "execution_count": 11,
   "metadata": {},
   "outputs": [
    {
     "data": {
      "text/plain": [
       "2"
      ]
     },
     "execution_count": 11,
     "metadata": {},
     "output_type": "execute_result"
    }
   ],
   "source": [
    "class Solution:\n",
    "    def closedIsland(self, grid) -> int:\n",
    "        rows = len(grid); cols = len(grid[0])\n",
    "        outer = set(); inner = set()\n",
    "        count = 0\n",
    "        \n",
    "        for i in range(cols):\n",
    "            if grid[0][i] == 0 and (0, i) not in outer:\n",
    "                self.dfs(0, i, grid, outer)\n",
    "            if grid[rows-1][i] == 0 and (rows-1, i) not in outer:\n",
    "                self.dfs(rows-1, i, grid, outer)\n",
    "        \n",
    "        for i in range(rows):\n",
    "            if grid[i][0] == 0 and (i,0) not in outer:\n",
    "                self.dfs(i, 0, grid, outer)\n",
    "            if grid[i][cols-1] == 0 and (i, cols-1) not in outer:\n",
    "                self.dfs(i, cols-1, grid, outer)\n",
    "        \n",
    "        for i in range(len(grid)):\n",
    "            for j in range(len(grid[0])):\n",
    "                if grid[i][j] == 0 and (i,j) not in outer and (i,j) not in inner:\n",
    "                    count += 1\n",
    "                    self.dfs(i, j, grid, inner)\n",
    "        \n",
    "        return count\n",
    "    \n",
    "    def dfs(self, i, j, board, seen):\n",
    "        seen.add((i, j))\n",
    "        for x, y in [(i+1,j), (i,j+1), (i-1,j), (i,j-1)]:\n",
    "            if 0<=x<len(board) and 0<=y<len(board[0]) and board[x][y] == 0 and (x,y) not in seen:\n",
    "                self.dfs(x, y, board, seen)\n",
    "        \n",
    "grid = [[1,1,1,1,1,1,1,0],[1,0,0,0,0,1,1,0],[1,0,1,0,1,1,1,0],[1,0,0,0,0,1,0,1],[1,1,1,1,1,1,1,0]]\n",
    "Solution().closedIsland(grid)"
   ]
  },
  {
   "cell_type": "markdown",
   "metadata": {},
   "source": [
    "### Employee Importance\n",
    "You are given a data structure of employee information, which includes the employee's unique id, his importance value and his direct subordinates' id.\n",
    "\n",
    "For example, employee 1 is the leader of employee 2, and employee 2 is the leader of employee 3. They have importance value 15, 10 and 5, respectively. Then employee 1 has a data structure like [1, 15, [2]], and employee 2 has [2, 10, [3]], and employee 3 has [3, 5, []]. Note that although employee 3 is also a subordinate of employee 1, the relationship is not direct.\n",
    "\n",
    "Now given the employee information of a company, and an employee id, you need to return the total importance value of this employee and all his subordinates."
   ]
  },
  {
   "cell_type": "code",
   "execution_count": 6,
   "metadata": {},
   "outputs": [],
   "source": [
    "# Definition for Employee.\n",
    "class Employee:\n",
    "    def __init__(self, id: int, importance: int, subordinates):\n",
    "        self.id = id\n",
    "        self.importance = importance\n",
    "        self.subordinates = subordinates\n",
    "\n",
    "class Solution:\n",
    "    def getImportance(self, employees, id: int) -> int:\n",
    "        emap = {}\n",
    "        for emp in employees:\n",
    "            emap[emp.id] = emp\n",
    "        \n",
    "        return self.helper(id, emap)\n",
    "    \n",
    "    def helper(self, id, emap):\n",
    "        emp = emap[id]\n",
    "        importance = emp.importance\n",
    "        for sub in emp.subordinates:\n",
    "            importance += self.helper(sub, emap)\n",
    "        return importance"
   ]
  },
  {
   "cell_type": "markdown",
   "metadata": {},
   "source": [
    "### 01 Matrix\n",
    "Given a matrix consists of 0 and 1, find the distance of the nearest 0 for each cell.\n",
    "\n",
    "The distance between two adjacent cells is 1."
   ]
  },
  {
   "cell_type": "code",
   "execution_count": 10,
   "metadata": {},
   "outputs": [
    {
     "data": {
      "text/plain": [
       "[[0, 0, 0], [0, 1, 0], [1, 2, 1]]"
      ]
     },
     "execution_count": 10,
     "metadata": {},
     "output_type": "execute_result"
    }
   ],
   "source": [
    "from collections import deque\n",
    "def updateMatrix(matrix):\n",
    "    queue = deque(); visited = set()\n",
    "    for i in range(len(matrix)):\n",
    "        for j in range(len(matrix[0])):\n",
    "            if matrix[i][j] == 0:\n",
    "                queue.append((i,j))\n",
    "                visited.add((i,j))\n",
    "\n",
    "    dist = 0\n",
    "    while queue:\n",
    "        size = len(queue)\n",
    "        for _ in range(size):\n",
    "            i,j = queue.popleft()\n",
    "            matrix[i][j] = dist\n",
    "\n",
    "            for x,y in [(i+1,j), (i,j+1), (i-1,j), (i,j-1)]:\n",
    "                if 0<=x<len(matrix) and 0<=y<len(matrix[0]) and (x,y) not in visited:\n",
    "                    queue.append((x,y))\n",
    "                    visited.add((x,y))\n",
    "        dist += 1\n",
    "    return matrix\n",
    "\n",
    "matrix = [[0,0,0],[0,1,0],[1,1,1]]\n",
    "updateMatrix(matrix)"
   ]
  },
  {
   "cell_type": "markdown",
   "metadata": {},
   "source": [
    "###  As Far From Land As Possible\n",
    "Given an N x N grid containing only values 0 and 1, where 0 represents water and 1 represents land, find a water cell such that its distance to the nearest land cell is maximized and return the distance.\n",
    "\n",
    "The distance used in this problem is the Manhattan distance: the distance between two cells (x0, y0) and (x1, y1) is |x0 - x1| + |y0 - y1|.\n",
    "\n",
    "If no land or water exists in the grid, return -1."
   ]
  },
  {
   "cell_type": "code",
   "execution_count": 13,
   "metadata": {},
   "outputs": [
    {
     "data": {
      "text/plain": [
       "4"
      ]
     },
     "execution_count": 13,
     "metadata": {},
     "output_type": "execute_result"
    }
   ],
   "source": [
    "from collections import deque\n",
    "def maxDistance(grid) -> int:\n",
    "    queue = deque(); visited= set()\n",
    "    for i in range(len(grid)):\n",
    "        for j in range(len(grid[0])):\n",
    "            if grid[i][j] == 1:\n",
    "                queue.append((i,j))\n",
    "                visited.add((i,j))\n",
    "\n",
    "    level = 0; ans = -1\n",
    "    while queue:\n",
    "        size = len(queue)\n",
    "        for _ in range(size):\n",
    "            i, j = queue.popleft()\n",
    "            if grid[i][j] == 0:\n",
    "                ans = level\n",
    "            for x, y in [(i+1,j), (i,j+1), (i-1,j), (i,j-1)]:\n",
    "                if 0<=x<len(grid) and 0<=y<len(grid[0]) and grid[x][y] == 0 and (x,y) not in visited:\n",
    "                    queue.append((x, y))\n",
    "                    visited.add((x, y))\n",
    "        level += 1\n",
    "    return ans\n",
    "\n",
    "grid = [[1,0,0],[0,0,0],[0,0,0]]\n",
    "maxDistance(grid)"
   ]
  },
  {
   "cell_type": "markdown",
   "metadata": {},
   "source": [
    "### Course Schedule IV\n",
    "There are a total of n courses you have to take, labeled from 0 to n-1.\n",
    "\n",
    "Some courses may have direct prerequisites, for example, to take course 0 you have first to take course 1, which is expressed as a pair: [1,0]\n",
    "\n",
    "Given the total number of courses n, a list of direct prerequisite pairs and a list of queries pairs.\n",
    "\n",
    "You should answer for each queries[i] whether the course queries[i][0] is a prerequisite of the course queries[i][1] or not.\n",
    "\n",
    "Return a list of boolean, the answers to the given queries.\n",
    "\n",
    "Please note that if course a is a prerequisite of course b and course b is a prerequisite of course c, then, course a is a prerequisite of course c."
   ]
  },
  {
   "cell_type": "code",
   "execution_count": 6,
   "metadata": {},
   "outputs": [
    {
     "data": {
      "text/plain": [
       "[True, False, True, False]"
      ]
     },
     "execution_count": 6,
     "metadata": {},
     "output_type": "execute_result"
    }
   ],
   "source": [
    "from collections import defaultdict\n",
    "class Solution:\n",
    "    def checkIfPrerequisite(self, n: int, prerequisites, queries):\n",
    "        graph = defaultdict(list)\n",
    "        for x, y in prerequisites:\n",
    "            graph[x].append(y)\n",
    "        \n",
    "        self.memo = {}; res = []\n",
    "        for x, y in queries:\n",
    "            self.helper(x, graph)\n",
    "            if y in self.memo[x]:\n",
    "                res.append(True)\n",
    "            else:\n",
    "                res.append(False)\n",
    "        \n",
    "        return res\n",
    "    \n",
    "    def helper(self, x, graph):\n",
    "        if x in self.memo:\n",
    "            return self.memo[x]\n",
    "        children = set()\n",
    "        for y in graph[x]:\n",
    "            children = children | self.helper(y, graph) | {y}\n",
    "        \n",
    "        self.memo[x] = children\n",
    "        return children\n",
    "\n",
    "n = 5; prerequisites = [[0,1],[1,2],[2,3],[3,4]]; queries = [[0,4],[4,0],[1,3],[3,0]]\n",
    "obj = Solution()\n",
    "obj.checkIfPrerequisite(n, prerequisites, queries)"
   ]
  },
  {
   "cell_type": "markdown",
   "metadata": {},
   "source": [
    "### Satisfiability of Equality Equations\n",
    "Given an array equations of strings that represent relationships between variables, each string equations[i] has length 4 and takes one of two different forms: \"a==b\" or \"a!=b\".  Here, a and b are lowercase letters (not necessarily different) that represent one-letter variable names.\n",
    "\n",
    "Return true if and only if it is possible to assign integers to variable names so as to satisfy all the given equations."
   ]
  },
  {
   "cell_type": "code",
   "execution_count": 11,
   "metadata": {},
   "outputs": [
    {
     "data": {
      "text/plain": [
       "False"
      ]
     },
     "execution_count": 11,
     "metadata": {},
     "output_type": "execute_result"
    }
   ],
   "source": [
    "class Solution:\n",
    "    def equationsPossible(self, equations) -> bool:\n",
    "        uf = UnionFind()\n",
    "        for x, op1, op2, y in equations:\n",
    "            if op1 == '=':\n",
    "                uf.union(ord(x)-ord('a'), ord(y)-ord('a'))\n",
    "        \n",
    "        for x, op1, op2, y in equations:\n",
    "            if op1 == '!' and uf.find(ord(x)-ord('a')) == uf.find(ord(y)-ord('a')):\n",
    "                return False\n",
    "        return True\n",
    "        \n",
    "class UnionFind:\n",
    "    def __init__(self):\n",
    "        self.parent = list(range(26))\n",
    "    \n",
    "    def union(self, x, y):\n",
    "        rootx = self.find(x)\n",
    "        rooty = self.find(y)\n",
    "        if rootx == rooty:\n",
    "            return False\n",
    "        self.parent[rootx] = rooty\n",
    "        return True\n",
    "    \n",
    "    def find(self, x):\n",
    "        while x != self.parent[x]:\n",
    "            self.parent[x] = self.parent[self.parent[x]]\n",
    "            x = self.parent[x]\n",
    "        return x\n",
    "        \n",
    "equations = [\"a==b\",\"b!=c\",\"c==a\"]\n",
    "obj = Solution()\n",
    "obj.equationsPossible(equations)"
   ]
  },
  {
   "cell_type": "markdown",
   "metadata": {},
   "source": [
    "### Kth Ancestor of a Tree Node\n",
    "\n",
    "You are given a tree with n nodes numbered from 0 to n-1 in the form of a parent array where parent[i] is the parent of node i. The root of the tree is node 0.\n",
    "\n",
    "Implement the function getKthAncestor(int node, int k) to return the k-th ancestor of the given node. If there is no such ancestor, return -1.\n",
    "\n",
    "The k-th ancestor of a tree node is the k-th node in the path from that node to the root."
   ]
  },
  {
   "cell_type": "code",
   "execution_count": 10,
   "metadata": {},
   "outputs": [
    {
     "data": {
      "text/plain": [
       "0"
      ]
     },
     "execution_count": 10,
     "metadata": {},
     "output_type": "execute_result"
    }
   ],
   "source": [
    "from collections import defaultdict\n",
    "class TreeAncestor:\n",
    "\n",
    "    def __init__(self, n: int, parent):\n",
    "        graph = defaultdict(list)\n",
    "        self.ancestors = {}\n",
    "        for child, p in enumerate(parent):\n",
    "            if p == -1:\n",
    "                root = child\n",
    "            else:\n",
    "                graph[p].append(child)\n",
    "        \n",
    "        self.dfs(root, graph, [])\n",
    "    \n",
    "    def dfs(self, root, graph, currPath):\n",
    "        self.ancestors[root] = currPath\n",
    "        for child in graph[root]:\n",
    "            self.dfs(child, graph, currPath+[root])\n",
    "            \n",
    "    def getKthAncestor(self, node: int, k: int) -> int:\n",
    "        ancestor_list = self.ancestors[node]\n",
    "        if k > len(ancestor_list):\n",
    "            return -1\n",
    "        return ancestor_list[len(ancestor_list)-k]\n",
    "    \n",
    "obj = TreeAncestor(7,[-1,0,0,1,1,2,2])\n",
    "obj.getKthAncestor(6, 2)"
   ]
  },
  {
   "cell_type": "markdown",
   "metadata": {},
   "source": [
    "### Circular Array Loop\n",
    "You are given a circular array nums of positive and negative integers. If a number k at an index is positive, then move forward k steps. Conversely, if it's negative (-k), move backward k steps. Since the array is circular, you may assume that the last element's next element is the first element, and the first element's previous element is the last element.\n",
    "\n",
    "Determine if there is a loop (or a cycle) in nums. A cycle must start and end at the same index and the cycle's length > 1. Furthermore, movements in a cycle must all follow a single direction. In other words, a cycle must not consist of both forward and backward movements."
   ]
  },
  {
   "cell_type": "code",
   "execution_count": 14,
   "metadata": {},
   "outputs": [
    {
     "data": {
      "text/plain": [
       "True"
      ]
     },
     "execution_count": 14,
     "metadata": {},
     "output_type": "execute_result"
    }
   ],
   "source": [
    "class Solution:\n",
    "    def circularArrayLoop(self, nums) -> bool:\n",
    "        state = {}\n",
    "        for i in range(len(nums)):\n",
    "            if i not in state and self.helper(i, state, nums):\n",
    "                return True\n",
    "        return False\n",
    "    \n",
    "    def helper(self, i, state, nums):\n",
    "        state[i] = 'visiting'\n",
    "        if nums[i] > 0:\n",
    "            next_i = (i+nums[i]) % len(nums)\n",
    "        else:\n",
    "            next_i = (i+nums[i]+len(nums)) % len(nums)\n",
    "        if next_i == i or nums[i]*nums[next_i] < 0:\n",
    "            state[i] = 'visited'\n",
    "            return False\n",
    "        if next_i not in state and self.helper(next_i, state, nums):\n",
    "            return True\n",
    "        if state[next_i] == 'visiting':\n",
    "            return True\n",
    "        state[i] = 'visited'\n",
    "        return False\n",
    "            \n",
    "Solution().circularArrayLoop([2,-1,1,2,2])"
   ]
  },
  {
   "cell_type": "markdown",
   "metadata": {},
   "source": [
    "### Minimum Cost to Make at Least One Valid Path in a Grid\n",
    "\n",
    "Given a m x n grid. Each cell of the grid has a sign pointing to the next cell you should visit if you are currently in this cell. The sign of grid[i][j] can be:\n",
    "* 1 which means go to the cell to the right. (i.e go from grid[i][j] to grid[i][j + 1])\n",
    "* 2 which means go to the cell to the left. (i.e go from grid[i][j] to grid[i][j - 1])\n",
    "* 3 which means go to the lower cell. (i.e go from grid[i][j] to grid[i + 1][j])\n",
    "* 4 which means go to the upper cell. (i.e go from grid[i][j] to grid[i - 1][j])\n",
    "\n",
    "Notice that there could be some invalid signs on the cells of the grid which points outside the grid.\n",
    "\n",
    "You will initially start at the upper left cell (0,0). A valid path in the grid is a path which starts from the upper left cell (0,0) and ends at the bottom-right cell (m - 1, n - 1) following the signs on the grid. The valid path doesn't have to be the shortest.\n",
    "\n",
    "You can modify the sign on a cell with cost = 1. You can modify the sign on a cell one time only.\n",
    "\n",
    "Return the minimum cost to make the grid have at least one valid path."
   ]
  },
  {
   "cell_type": "code",
   "execution_count": 1,
   "metadata": {},
   "outputs": [
    {
     "data": {
      "text/plain": [
       "3"
      ]
     },
     "execution_count": 1,
     "metadata": {},
     "output_type": "execute_result"
    }
   ],
   "source": [
    "from heapq import heappush, heappop\n",
    "class Solution:\n",
    "    def minCost(self, grid) -> int:\n",
    "        move = {1:lambda x,y: (x,y+1), 2:lambda x,y: (x,y-1), 3:lambda x,y: (x+1,y), 4:lambda x,y: (x-1,y)}\n",
    "        heap = [(0,0,0)]\n",
    "        seen = set()\n",
    "        \n",
    "        while heap:\n",
    "            cost, x, y = heappop(heap)\n",
    "            if x == len(grid)-1 and y == len(grid[0])-1:\n",
    "                return cost\n",
    "            if (x,y) in seen:\n",
    "                continue\n",
    "            seen.add((x,y))\n",
    "            \n",
    "            for k in [1,2,3,4]:\n",
    "                i, j = move[k](x,y)\n",
    "                c = 1 if k != grid[x][y] else 0\n",
    "                if 0<=i<len(grid) and 0<=j<len(grid[0]) and (i,j) not in seen:\n",
    "                    heappush(heap, (cost+c, i, j))\n",
    "        \n",
    "grid = [[1,1,1,1],[2,2,2,2],[1,1,1,1],[2,2,2,2]]\n",
    "Solution().minCost(grid)"
   ]
  },
  {
   "cell_type": "markdown",
   "metadata": {},
   "source": [
    "### Cut Off Trees for Golf Event\n",
    "\n",
    "You are asked to cut off trees in a forest for a golf event. The forest is represented as a non-negative 2D map, in this map:\n",
    "\n",
    "* 0 represents the obstacle can't be reached.\n",
    "* 1 represents the ground can be walked through. The place with number bigger than 1 represents a tree can be walked through, and this positive number represents the tree's height.\n",
    "\n",
    "In one step you can walk in any of the four directions top, bottom, left and right also when standing in a point which is a tree you can decide whether or not to cut off the tree.\n",
    "\n",
    "You are asked to cut off all the trees in this forest in the order of tree's height - always cut off the tree with lowest height first. And after cutting, the original place has the tree will become a grass (value 1).\n",
    "\n",
    "You will start from the point (0, 0) and you should output the minimum steps you need to walk to cut off all the trees. If you can't cut off all the trees, output -1 in that situation.\n",
    "\n",
    "You are guaranteed that no two trees have the same height and there is at least one tree needs to be cut off."
   ]
  },
  {
   "cell_type": "code",
   "execution_count": 8,
   "metadata": {},
   "outputs": [
    {
     "data": {
      "text/plain": [
       "6"
      ]
     },
     "execution_count": 8,
     "metadata": {},
     "output_type": "execute_result"
    }
   ],
   "source": [
    "from heapq import heappush, heappop\n",
    "from collections import deque\n",
    "class Solution:\n",
    "    def cutOffTree(self, forest) -> int:\n",
    "        heap = []\n",
    "        for i in range(len(forest)):\n",
    "            for j in range(len(forest[0])):\n",
    "                if forest[i][j] > 0:\n",
    "                    heappush(heap, (forest[i][j], i, j))\n",
    "        \n",
    "        curr_x, curr_y = 0, 0\n",
    "        dist = 0\n",
    "        while heap:\n",
    "            h, x, y = heappop(heap)\n",
    "            d = self.bfs(forest, curr_x, curr_y, x, y)\n",
    "            if d == -1:\n",
    "                return -1\n",
    "            dist += d\n",
    "            curr_x, curr_y = x, y\n",
    "        return dist\n",
    "    \n",
    "    def bfs(self, grid, curr_x, curr_y, x, y):\n",
    "        queue = deque()\n",
    "        queue.append((curr_x, curr_y))\n",
    "        seen = {(curr_x, curr_y)}\n",
    "        d = 0\n",
    "        while queue:\n",
    "            size = len(queue)\n",
    "            for _ in range(size):\n",
    "                i, j = queue.popleft()\n",
    "                if i == x and j == y:\n",
    "                    return d\n",
    "                for m, n in [(i+1,j), (i,j+1), (i-1,j), (i,j-1)]:\n",
    "                    if 0<=m<len(grid) and 0<=n<len(grid[0]) and grid[m][n]>0 and (m,n) not in seen:\n",
    "                        seen.add((m, n))\n",
    "                        queue.append((m,n))\n",
    "            d += 1\n",
    "        return -1\n",
    "            \n",
    "            \n",
    "forest = [\n",
    " [1,2,3],\n",
    " [0,0,4],\n",
    " [7,6,5]\n",
    "]\n",
    "\n",
    "Solution().cutOffTree(forest)"
   ]
  }
 ],
 "metadata": {
  "kernelspec": {
   "display_name": "Python 3",
   "language": "python",
   "name": "python3"
  },
  "language_info": {
   "codemirror_mode": {
    "name": "ipython",
    "version": 3
   },
   "file_extension": ".py",
   "mimetype": "text/x-python",
   "name": "python",
   "nbconvert_exporter": "python",
   "pygments_lexer": "ipython3",
   "version": "3.6.8"
  }
 },
 "nbformat": 4,
 "nbformat_minor": 2
}
