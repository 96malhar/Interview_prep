{
 "cells": [
  {
   "cell_type": "markdown",
   "metadata": {},
   "source": [
    "### Minimum Number of Flips to Convert Binary Matrix to Zero Matrix\n",
    "Given a m x n binary matrix mat. In one step, you can choose one cell and flip it and all the four neighbours of it if they exist (Flip is changing 1 to 0 and 0 to 1). A pair of cells are called neighboors if they share one edge.\n",
    "\n",
    "Return the minimum number of steps required to convert mat to a zero matrix or -1 if you cannot.\n",
    "\n",
    "Binary matrix is a matrix with all cells equal to 0 or 1 only.\n",
    "\n",
    "Zero matrix is a matrix with all cells equal to 0."
   ]
  },
  {
   "cell_type": "code",
   "execution_count": 1,
   "metadata": {},
   "outputs": [
    {
     "data": {
      "text/plain": [
       "6"
      ]
     },
     "execution_count": 1,
     "metadata": {},
     "output_type": "execute_result"
    }
   ],
   "source": [
    "class Solution:\n",
    "    def minFlips(self, mat) -> int:\n",
    "        hashcode = 0; row = len(mat); col = len(mat[0])\n",
    "        for i in range(row):\n",
    "            for j in range(col):\n",
    "                if mat[i][j] == 1:\n",
    "                    k = i*col + j\n",
    "                    hashcode |= 1<<k\n",
    "                    \n",
    "        if hashcode == 0:\n",
    "            return 0\n",
    "        \n",
    "        queue = [hashcode]; seen = {hashcode}\n",
    "        level = 0\n",
    "        \n",
    "        while queue:\n",
    "            size = len(queue)\n",
    "            for _ in range(size):\n",
    "                hashcode = queue.pop(0)\n",
    "                if hashcode == 0:\n",
    "                    return level\n",
    "                for i in range(row):\n",
    "                    for j in range(col):\n",
    "                        new_hashcode = self.switch(i, j, row, col, hashcode)\n",
    "                        if new_hashcode not in seen:\n",
    "                            seen.add(new_hashcode)\n",
    "                            queue.append(new_hashcode)\n",
    "            level += 1\n",
    "        return -1\n",
    "        \n",
    "    def switch(self, i, j, r, c, hashcode):\n",
    "        for x, y in [(i,j), (i+1,j), (i,j+1), (i-1,j), (i,j-1)]:\n",
    "            k = x*c + y\n",
    "            if 0<=x<r and 0<=y<c:\n",
    "                hashcode ^= 1<<k\n",
    "        \n",
    "        return hashcode\n",
    "\n",
    "grid = [[1,1,1],[1,0,1],[0,0,0]]\n",
    "Solution().minFlips(grid)"
   ]
  },
  {
   "cell_type": "markdown",
   "metadata": {},
   "source": [
    "###  Shortest Path Visiting All Nodes\n",
    "An undirected, connected graph of N nodes (labeled 0, 1, 2, ..., N-1) is given as graph.\n",
    "\n",
    "graph.length = N, and j != i is in the list graph[i] exactly once, if and only if nodes i and j are connected.\n",
    "\n",
    "Return the length of the shortest path that visits every node. You may start and stop at any node, you may revisit nodes multiple times, and you may reuse edges."
   ]
  },
  {
   "cell_type": "code",
   "execution_count": 2,
   "metadata": {},
   "outputs": [
    {
     "data": {
      "text/plain": [
       "4"
      ]
     },
     "execution_count": 2,
     "metadata": {},
     "output_type": "execute_result"
    }
   ],
   "source": [
    "def shortestPathLength(graph) -> int:\n",
    "    queue = []; seen = set()\n",
    "    num_nodes = len(graph)\n",
    "    for i in range(num_nodes):\n",
    "        queue.append((i, 1<<i))\n",
    "        seen.add((i, 1<<i))\n",
    "\n",
    "    level = 0\n",
    "    while queue:\n",
    "        size = len(queue)\n",
    "        for _ in range(size):\n",
    "            node, hashcode = queue.pop(0)\n",
    "            if hashcode == 2**num_nodes-1:\n",
    "                return level\n",
    "            for i in graph[node]:\n",
    "                if (i, hashcode | 1<<i) not in seen:\n",
    "                    seen.add((i, hashcode|1<<i))\n",
    "                    queue.append((i, hashcode|1<<i))\n",
    "        level += 1\n",
    "    \n",
    "graph = [[1],[0,2,4],[1,3,4],[2],[1,2]]\n",
    "shortestPathLength(graph)"
   ]
  },
  {
   "cell_type": "markdown",
   "metadata": {},
   "source": [
    "### Bus Routes\n",
    "We have a list of bus routes. Each routes[i] is a bus route that the i-th bus repeats forever. For example if routes[0] = [1, 5, 7], this means that the first bus (0-th indexed) travels in the sequence 1->5->7->1->5->7->1->... forever.\n",
    "\n",
    "We start at bus stop S (initially not on a bus), and we want to go to bus stop T. Travelling by buses only, what is the least number of buses we must take to reach our destination? Return -1 if it is not possible."
   ]
  },
  {
   "cell_type": "code",
   "execution_count": 10,
   "metadata": {},
   "outputs": [
    {
     "data": {
      "text/plain": [
       "2"
      ]
     },
     "execution_count": 10,
     "metadata": {},
     "output_type": "execute_result"
    }
   ],
   "source": [
    "from collections import defaultdict\n",
    "class Solution:\n",
    "    def numBusesToDestination(self, routes, S: int, T: int) -> int:\n",
    "        if S == T: return 0\n",
    "        hashmap = defaultdict(set)\n",
    "        queue = []; seen = set()\n",
    "        for route_index, route in enumerate(routes):\n",
    "            for stop in route:\n",
    "                hashmap[stop].add(route_index)\n",
    "        \n",
    "        for route_index in hashmap[S]:\n",
    "            queue.append(route_index)\n",
    "            seen.add(route_index)\n",
    "        \n",
    "        num_buses = 1\n",
    "        while queue:\n",
    "            size = len(queue)\n",
    "            for _ in range(size):\n",
    "                route_index = queue.pop(0)\n",
    "                if route_index in hashmap[T]:\n",
    "                    return num_buses\n",
    "                for stop in routes[route_index]:\n",
    "                    for next_index in hashmap[stop]:\n",
    "                        if next_index not in seen:\n",
    "                            seen.add(next_index)\n",
    "                            queue.append(next_index)\n",
    "            num_buses += 1\n",
    "        return -1\n",
    "\n",
    "routes = [[1, 2, 7], [3, 6, 7]]\n",
    "S = 1\n",
    "T = 6\n",
    "Solution().numBusesToDestination(routes, S, T)"
   ]
  },
  {
   "cell_type": "markdown",
   "metadata": {},
   "source": [
    "### Sliding Puzzle\n",
    "On a 2x3 board, there are 5 tiles represented by the integers 1 through 5, and an empty square represented by 0.\n",
    "\n",
    "A move consists of choosing 0 and a 4-directionally adjacent number and swapping it.\n",
    "\n",
    "The state of the board is solved if and only if the board is [[1,2,3],[4,5,0]].\n",
    "\n",
    "Given a puzzle board, return the least number of moves required so that the state of the board is solved. If it is impossible for the state of the board to be solved, return -1."
   ]
  },
  {
   "cell_type": "code",
   "execution_count": 8,
   "metadata": {},
   "outputs": [
    {
     "data": {
      "text/plain": [
       "5"
      ]
     },
     "execution_count": 8,
     "metadata": {},
     "output_type": "execute_result"
    }
   ],
   "source": [
    "class Solution:\n",
    "    def slidingPuzzle(self, board) -> int:\n",
    "        target = [1,2,3,4,5,0]\n",
    "        flat_board = []\n",
    "        for i in range(len(board)):\n",
    "            for j in range(len(board[0])):\n",
    "                flat_board.append(board[i][j])\n",
    "                if board[i][j] == 0:\n",
    "                    zero_pos = (i,j)\n",
    "        \n",
    "        queue = [(flat_board, zero_pos)]\n",
    "        seen = {tuple(flat_board)}\n",
    "        level = 0\n",
    "        \n",
    "        while queue:\n",
    "            size = len(queue)\n",
    "            for _ in range(size):\n",
    "                flat_board, zero_pos = queue.pop(0)\n",
    "                if flat_board == target:\n",
    "                    return level\n",
    "                i, j = zero_pos\n",
    "                for x,y in [(i+1,j), (i,j+1), (i-1,j), (i,j-1)]:\n",
    "                    if 0<=x<len(board) and 0<=y<len(board[0]):\n",
    "                        new_flat_board = self.swap(flat_board[:], i, j, x, y, board)\n",
    "                        if tuple(new_flat_board) not in seen:\n",
    "                            seen.add(tuple(new_flat_board))\n",
    "                            queue.append((new_flat_board, (x,y)))\n",
    "                \n",
    "            level += 1\n",
    "        return -1\n",
    "    \n",
    "    def swap(self, flat_board, i, j, x, y, board):\n",
    "        p = i*len(board[0]) + j\n",
    "        q = x*len(board[0]) + y\n",
    "        flat_board[p], flat_board[q] = flat_board[q], flat_board[p]\n",
    "        return flat_board\n",
    "\n",
    "board = [[4,1,2],[5,0,3]]   \n",
    "obj = Solution()\n",
    "obj.slidingPuzzle(board)"
   ]
  },
  {
   "cell_type": "markdown",
   "metadata": {},
   "source": [
    "### Find Eventual Safe States\n",
    "In a directed graph, we start at some node and every turn, walk along a directed edge of the graph.  If we reach a node that is terminal (that is, it has no outgoing directed edges), we stop.\n",
    "\n",
    "Now, say our starting node is eventually safe if and only if we must eventually walk to a terminal node.  More specifically, there exists a natural number K so that for any choice of where to walk, we must have stopped at a terminal node in less than K steps.\n",
    "\n",
    "Which nodes are eventually safe?  Return them as an array in sorted order.\n",
    "\n",
    "The directed graph has N nodes with labels 0, 1, ..., N-1, where N is the length of graph.  The graph is given in the following form: graph[i] is a list of labels j such that (i, j) is a directed edge of the graph."
   ]
  },
  {
   "cell_type": "code",
   "execution_count": 4,
   "metadata": {},
   "outputs": [
    {
     "data": {
      "text/plain": [
       "[2, 4, 5, 6]"
      ]
     },
     "execution_count": 4,
     "metadata": {},
     "output_type": "execute_result"
    }
   ],
   "source": [
    "class Solution:\n",
    "    def eventualSafeNodes(self, graph):\n",
    "        self.hashmap = {}\n",
    "        ans = []\n",
    "        for i in range(len(graph)):\n",
    "            if i in self.hashmap and self.hashmap[i] == 'safe':\n",
    "                ans.append(i)\n",
    "            if i not in self.hashmap:\n",
    "                if not self.is_unsafe(i, graph):\n",
    "                    ans.append(i)\n",
    "        return ans\n",
    "    \n",
    "    def is_unsafe(self, node, graph):\n",
    "        self.hashmap[node] = 'unsafe'\n",
    "        for neigh in graph[node]:\n",
    "            if neigh in self.hashmap and self.hashmap[neigh] == 'unsafe':\n",
    "                return True\n",
    "            elif neigh not in self.hashmap and self.is_unsafe(neigh, graph):\n",
    "                return True\n",
    "        \n",
    "        self.hashmap[node] = 'safe'\n",
    "        return False\n",
    "\n",
    "graph = [[1,2],[2,3],[5],[0],[5],[],[]]\n",
    "obj = Solution()\n",
    "obj.eventualSafeNodes(graph)"
   ]
  },
  {
   "cell_type": "markdown",
   "metadata": {},
   "source": [
    "### Bricks Falling When Hit\n",
    "We have a grid of 1s and 0s; the 1s in a cell represent bricks.  A brick will not drop if and only if it is directly connected to the top of the grid, or at least one of its (4-way) adjacent bricks will not drop.\n",
    "\n",
    "We will do some erasures sequentially. Each time we want to do the erasure at the location (i, j), the brick (if it exists) on that location will disappear, and then some other bricks may drop because of that erasure.\n",
    "\n",
    "Return an array representing the number of bricks that will drop after each erasure in sequence."
   ]
  },
  {
   "cell_type": "code",
   "execution_count": 2,
   "metadata": {},
   "outputs": [
    {
     "data": {
      "text/plain": [
       "[0, 0]"
      ]
     },
     "execution_count": 2,
     "metadata": {},
     "output_type": "execute_result"
    }
   ],
   "source": [
    "class Solution:\n",
    "    def hitBricks(self, grid, hits):\n",
    "        for i, j in hits:\n",
    "            grid[i][j] = 0 if grid[i][j] == 1 else -1\n",
    "        \n",
    "        for i in range(len(grid[0])):\n",
    "            if grid[0][i] == 1:\n",
    "                self.dfs(0, i, grid)\n",
    "        \n",
    "        ans = [0]*len(hits)\n",
    "        \n",
    "        for i in range(len(hits)-1, -1, -1):\n",
    "            x, y = hits[i]\n",
    "            grid[x][y] += 1\n",
    "            if grid[x][y] == 1 and self.is_connected(x, y, grid):\n",
    "                size = self.dfs(x, y, grid) - 1\n",
    "                ans[i] = size\n",
    "                \n",
    "        return ans\n",
    "    \n",
    "    def is_connected(self, i, j, grid):\n",
    "        if i == 0:\n",
    "            return True\n",
    "        for x, y in [(i+1,j), (i,j+1), (i-1,j), (i,j-1)]:\n",
    "            if 0<=x<len(grid) and 0<=y<len(grid[0]) and grid[x][y] == 2:\n",
    "                return True\n",
    "        return False\n",
    "    \n",
    "    def dfs(self, i, j, grid):\n",
    "        grid[i][j] = 2\n",
    "        ans = 1\n",
    "        for x, y in [(i+1,j), (i,j+1), (i-1,j), (i,j-1)]:\n",
    "            if 0<=x<len(grid) and 0<=y<len(grid[0]) and grid[x][y] == 1:\n",
    "                ans += self.dfs(x, y, grid)\n",
    "        return ans\n",
    "                \n",
    "obj = Solution()\n",
    "grid = [[1,0,0,0],[1,1,0,0]]\n",
    "hits = [[1,1],[1,0]]\n",
    "obj.hitBricks(grid, hits)"
   ]
  },
  {
   "cell_type": "markdown",
   "metadata": {},
   "source": [
    "### Race Car\n",
    "Your car starts at position 0 and speed +1 on an infinite number line.  (Your car can go into negative positions.)\n",
    "\n",
    "Your car drives automatically according to a sequence of instructions A (accelerate) and R (reverse).\n",
    "\n",
    "When you get an instruction \"A\", your car does the following: position += speed, speed *= 2.\n",
    "\n",
    "When you get an instruction \"R\", your car does the following: if your speed is positive then speed = -1 , otherwise speed = 1.  (Your position stays the same.)\n",
    "\n",
    "For example, after commands \"AAR\", your car goes to positions 0->1->3->3, and your speed goes to 1->2->4->-1.\n",
    "\n",
    "Now for some target position, say the length of the shortest sequence of instructions to get there."
   ]
  },
  {
   "cell_type": "code",
   "execution_count": 13,
   "metadata": {},
   "outputs": [
    {
     "data": {
      "text/plain": [
       "5"
      ]
     },
     "execution_count": 13,
     "metadata": {},
     "output_type": "execute_result"
    }
   ],
   "source": [
    "import collections\n",
    "def racecar(target: int) -> int:\n",
    "    queue = collections.deque(); seen = {(0, 1)}\n",
    "    queue.append((0,1))\n",
    "    steps = 0\n",
    "    while queue:\n",
    "        size = len(queue)\n",
    "        for _ in range(size):\n",
    "            pos, speed = queue.popleft()\n",
    "            if pos == target:\n",
    "                return steps\n",
    "\n",
    "            # A\n",
    "            new_pos = pos + speed\n",
    "            new_speed = speed*2\n",
    "            if (new_pos, new_speed) not in seen:\n",
    "                seen.add((new_pos, new_speed))\n",
    "                queue.append((new_pos, new_speed))\n",
    "\n",
    "            # R\n",
    "            new_speed = -1 if speed > 0 else 1\n",
    "            if (pos, new_speed) not in seen:\n",
    "                seen.add((pos, new_speed))\n",
    "                queue.append((pos, new_speed))\n",
    "        steps += 1\n",
    "\n",
    "racecar(6)"
   ]
  },
  {
   "cell_type": "markdown",
   "metadata": {},
   "source": [
    "### Most Stones Removed with Same Row or Column\n",
    "On a 2D plane, we place stones at some integer coordinate points.  Each coordinate point may have at most one stone.\n",
    "\n",
    "Now, a move consists of removing a stone that shares a column or row with another stone on the grid.\n",
    "\n",
    "What is the largest possible number of moves we can make?"
   ]
  },
  {
   "cell_type": "code",
   "execution_count": 7,
   "metadata": {},
   "outputs": [
    {
     "data": {
      "text/plain": [
       "5"
      ]
     },
     "execution_count": 7,
     "metadata": {},
     "output_type": "execute_result"
    }
   ],
   "source": [
    "from collections import defaultdict\n",
    "class Solution:\n",
    "    def removeStones(self, stones) -> int:\n",
    "        self.dic_row = defaultdict(list)\n",
    "        self.dic_col = defaultdict(list)\n",
    "        for x, y in stones:\n",
    "            self.dic_row[x].append((x,y))\n",
    "            self.dic_col[y].append((x,y))\n",
    "        \n",
    "        seen = set(); ans = 0\n",
    "        for x, y in stones:\n",
    "            if (x,y) not in seen:\n",
    "                size = self.get_size(x, y, seen)\n",
    "                ans += size-1\n",
    "        return ans\n",
    "    \n",
    "    def get_size(self, i, j, seen):\n",
    "        seen.add((i,j))\n",
    "        size = 1\n",
    "        \n",
    "        for x, y in self.dic_row[i]:\n",
    "            if (x,y) not in seen:\n",
    "                size += self.get_size(x, y, seen)\n",
    "        \n",
    "        for x, y in self.dic_col[j]:\n",
    "            if (x,y) not in seen:\n",
    "                size += self.get_size(x, y, seen)\n",
    "        \n",
    "        return size\n",
    "\n",
    "stones = [[0,0],[0,1],[1,0],[1,2],[2,1],[2,2]]\n",
    "Solution().removeStones(stones)"
   ]
  }
 ],
 "metadata": {
  "kernelspec": {
   "display_name": "Python 3",
   "language": "python",
   "name": "python3"
  },
  "language_info": {
   "codemirror_mode": {
    "name": "ipython",
    "version": 3
   },
   "file_extension": ".py",
   "mimetype": "text/x-python",
   "name": "python",
   "nbconvert_exporter": "python",
   "pygments_lexer": "ipython3",
   "version": "3.6.8"
  }
 },
 "nbformat": 4,
 "nbformat_minor": 2
}
