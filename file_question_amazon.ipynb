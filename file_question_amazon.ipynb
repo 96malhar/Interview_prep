{
 "cells": [
  {
   "cell_type": "markdown",
   "metadata": {},
   "source": [
    "## Searching for files recursively"
   ]
  },
  {
   "cell_type": "code",
   "execution_count": 21,
   "metadata": {},
   "outputs": [],
   "source": [
    "class MyFile:\n",
    "    def __init__(self, name):\n",
    "        self.name = name\n",
    "        \n",
    "class Myfolder:\n",
    "    def __init__(self, name):\n",
    "        self.name = name\n",
    "        self.children = []\n",
    "        \n",
    "\n",
    "root = Myfolder('root')\n",
    "desktop = Myfolder('desktop')\n",
    "documents = Myfolder('documents')\n",
    "downloads = Myfolder('downloads')\n",
    "music = Myfolder('music')\n",
    "hidden = Myfolder('hidden')\n",
    "mia_khalifa = MyFile('mia.png')\n",
    "\n",
    "root.children.append(desktop)\n",
    "root.children.append(documents)\n",
    "root.children.append(downloads)\n",
    "root.children.append(music)\n",
    "downloads.children.append(hidden)\n",
    "hidden.children.append(mia_khalifa)\n",
    "desktop.children.append(mia_khalifa)"
   ]
  },
  {
   "cell_type": "code",
   "execution_count": 31,
   "metadata": {},
   "outputs": [],
   "source": [
    "def search_file(folder, file_name):\n",
    "    path = []\n",
    "    search_helper([folder], file_name, path)\n",
    "    return path if len(path) else -1\n",
    "\n",
    "def search_helper(curr_path, file_name, path):\n",
    "    curr_obj = curr_path[-1]\n",
    "    if type(curr_obj) == MyFile:\n",
    "        if curr_obj.name == file_name:\n",
    "            string = serialize_path(curr_path)\n",
    "            path.append(string)\n",
    "            return\n",
    "        return\n",
    "    \n",
    "    for child in curr_obj.children:\n",
    "        curr_path.append(child)\n",
    "        search_helper(curr_path, file_name, path)\n",
    "        curr_path.pop()\n",
    "        \n",
    "def serialize_path(path):\n",
    "    string = ''\n",
    "    for obj in path:\n",
    "        string += obj.name + '/'\n",
    "    return string[:-1]\n",
    "            "
   ]
  },
  {
   "cell_type": "code",
   "execution_count": 33,
   "metadata": {},
   "outputs": [
    {
     "data": {
      "text/plain": [
       "['root/desktop/mia.png', 'root/downloads/hidden/mia.png']"
      ]
     },
     "execution_count": 33,
     "metadata": {},
     "output_type": "execute_result"
    }
   ],
   "source": [
    "search_file(root, 'mia.png')"
   ]
  }
 ],
 "metadata": {
  "kernelspec": {
   "display_name": "Python 3",
   "language": "python",
   "name": "python3"
  },
  "language_info": {
   "codemirror_mode": {
    "name": "ipython",
    "version": 3
   },
   "file_extension": ".py",
   "mimetype": "text/x-python",
   "name": "python",
   "nbconvert_exporter": "python",
   "pygments_lexer": "ipython3",
   "version": "3.6.8"
  }
 },
 "nbformat": 4,
 "nbformat_minor": 2
}
