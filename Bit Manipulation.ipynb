{
 "cells": [
  {
   "cell_type": "markdown",
   "metadata": {},
   "source": [
    "### Bitwise Operators\n",
    "* bitwise AND - &\n",
    "* bitwise OR - |\n",
    "* bitwise NOT - ~\n",
    "* bitwise right shift - >>\n",
    "* bitwise left shift - <<\n",
    "* bitwise XOR - ^"
   ]
  },
  {
   "cell_type": "code",
   "execution_count": 10,
   "metadata": {},
   "outputs": [
    {
     "name": "stdout",
     "output_type": "stream",
     "text": [
      "8\n",
      "14\n",
      "5\n",
      "24\n",
      "6\n"
     ]
    }
   ],
   "source": [
    "a = 10 #1010\n",
    "b = 12 # 1100\n",
    "print(a&b)\n",
    "print(a|b)\n",
    "print(a>>1)\n",
    "print(b<<1)\n",
    "print(a^b)"
   ]
  },
  {
   "cell_type": "markdown",
   "metadata": {},
   "source": [
    "### Find Number of Bits required to represent a Number"
   ]
  },
  {
   "cell_type": "code",
   "execution_count": 24,
   "metadata": {},
   "outputs": [
    {
     "data": {
      "text/plain": [
       "4"
      ]
     },
     "execution_count": 24,
     "metadata": {},
     "output_type": "execute_result"
    }
   ],
   "source": [
    "def num_bits(val):\n",
    "    import math\n",
    "    return int(math.log2(val) + 1)\n",
    "num_bits(12)"
   ]
  },
  {
   "cell_type": "markdown",
   "metadata": {},
   "source": [
    "### Flip the bit at kth index"
   ]
  },
  {
   "cell_type": "code",
   "execution_count": 27,
   "metadata": {},
   "outputs": [
    {
     "data": {
      "text/plain": [
       "6"
      ]
     },
     "execution_count": 27,
     "metadata": {},
     "output_type": "execute_result"
    }
   ],
   "source": [
    "def flip_bits(val, k):\n",
    "    return val ^ (1<<k)\n",
    "flip_bits(14, 3)"
   ]
  },
  {
   "cell_type": "markdown",
   "metadata": {},
   "source": [
    "### Flip all bits of a number"
   ]
  },
  {
   "cell_type": "code",
   "execution_count": 31,
   "metadata": {},
   "outputs": [
    {
     "data": {
      "text/plain": [
       "11"
      ]
     },
     "execution_count": 31,
     "metadata": {},
     "output_type": "execute_result"
    }
   ],
   "source": [
    "def flip_all(val):\n",
    "    import math\n",
    "    num_bits = int(math.log2(val)+1)\n",
    "    for i in range(num_bits):\n",
    "        val = val^(1<<i)\n",
    "    return val\n",
    "flip_all(20)"
   ]
  },
  {
   "cell_type": "markdown",
   "metadata": {},
   "source": [
    "### Get bit at index k"
   ]
  },
  {
   "cell_type": "code",
   "execution_count": 50,
   "metadata": {},
   "outputs": [
    {
     "data": {
      "text/plain": [
       "1"
      ]
     },
     "execution_count": 50,
     "metadata": {},
     "output_type": "execute_result"
    }
   ],
   "source": [
    "def get_bit(val, k):\n",
    "    return (val >> k) & 1\n",
    "\n",
    "get_bit(14, 3)"
   ]
  },
  {
   "cell_type": "markdown",
   "metadata": {},
   "source": [
    "### Set Bit at given index to 0 or 1"
   ]
  },
  {
   "cell_type": "code",
   "execution_count": 53,
   "metadata": {},
   "outputs": [
    {
     "data": {
      "text/plain": [
       "14"
      ]
     },
     "execution_count": 53,
     "metadata": {},
     "output_type": "execute_result"
    }
   ],
   "source": [
    "def set_bit(num, i, val):\n",
    "    if val == 1:\n",
    "        return (1<<i) | num\n",
    "    else:\n",
    "        return ~(1<<i) & num\n",
    "\n",
    "set_bit(14, 1, 1)"
   ]
  },
  {
   "cell_type": "markdown",
   "metadata": {},
   "source": [
    "### Swap Bits between 2 indices"
   ]
  },
  {
   "cell_type": "code",
   "execution_count": 57,
   "metadata": {},
   "outputs": [
    {
     "data": {
      "text/plain": [
       "5"
      ]
     },
     "execution_count": 57,
     "metadata": {},
     "output_type": "execute_result"
    }
   ],
   "source": [
    "def swap_bits(num, i, j):\n",
    "    bit_i = (num >> i) & 1\n",
    "    bit_j = (num >> j) & 1\n",
    "    if bit_i == bit_j:\n",
    "        return num\n",
    "    mask = (1<<i) | (1<<j)\n",
    "    return num ^ mask\n",
    "\n",
    "swap_bits(5,2,0)"
   ]
  },
  {
   "cell_type": "markdown",
   "metadata": {},
   "source": [
    "### Reverse Bits"
   ]
  },
  {
   "cell_type": "code",
   "execution_count": 61,
   "metadata": {},
   "outputs": [
    {
     "data": {
      "text/plain": [
       "1342177280"
      ]
     },
     "execution_count": 61,
     "metadata": {},
     "output_type": "execute_result"
    }
   ],
   "source": [
    "def reverse_bits(num):\n",
    "    i = 0; j = 31\n",
    "    while i<j:\n",
    "        num = swap_bits(num ,i, j)\n",
    "        i += 1; j -= 1\n",
    "    return num\n",
    "\n",
    "def swap_bits(num, i, j):\n",
    "    bit_i = (num >> i) & 1\n",
    "    bit_j = (num >> j) & 1\n",
    "    if bit_i == bit_j:\n",
    "        return num\n",
    "    mask = (1<<i) | (1<<j)\n",
    "    return num ^ mask\n",
    "\n",
    "reverse_bits(10)"
   ]
  },
  {
   "cell_type": "markdown",
   "metadata": {},
   "source": [
    "### Count Number of 1 bits\n"
   ]
  },
  {
   "cell_type": "code",
   "execution_count": 64,
   "metadata": {},
   "outputs": [
    {
     "data": {
      "text/plain": [
       "1"
      ]
     },
     "execution_count": 64,
     "metadata": {},
     "output_type": "execute_result"
    }
   ],
   "source": [
    "def count_1s(num):\n",
    "    ans = 0\n",
    "    while num != 0:\n",
    "        ans += 1\n",
    "        num = num & (num-1)\n",
    "    return ans\n",
    "\n",
    "count_1s(4)"
   ]
  },
  {
   "cell_type": "markdown",
   "metadata": {},
   "source": [
    "### Hamming Distance between 2 intergers\n",
    "The Hamming distance between two integers is the number of positions at which the corresponding bits are different."
   ]
  },
  {
   "cell_type": "code",
   "execution_count": 77,
   "metadata": {},
   "outputs": [
    {
     "data": {
      "text/plain": [
       "2"
      ]
     },
     "execution_count": 77,
     "metadata": {},
     "output_type": "execute_result"
    }
   ],
   "source": [
    "def hammingDistance(x: int, y: int) -> int:\n",
    "    z = x^y\n",
    "    dist = 0\n",
    "    while z!=0:\n",
    "        dist += 1\n",
    "        z = z & (z-1)\n",
    "    return dist\n",
    "\n",
    "hammingDistance(1, 4)"
   ]
  },
  {
   "cell_type": "markdown",
   "metadata": {},
   "source": [
    "### Total Hamming Distance\n",
    "The Hamming distance between two integers is the number of positions at which the corresponding bits are different.\n",
    "\n",
    "Now your job is to find the total Hamming distance between all pairs of the given numbers."
   ]
  },
  {
   "cell_type": "code",
   "execution_count": 82,
   "metadata": {},
   "outputs": [],
   "source": [
    "def totalHammingDistance(nums) -> int:\n",
    "    n = len(nums)\n",
    "    total_dist = 0\n",
    "    for i in range(32):\n",
    "        count = 0\n",
    "        for num in nums:\n",
    "            count += (num >> i) & 1\n",
    "        total_dist += count * (n-count)\n",
    "    return total_dist"
   ]
  },
  {
   "cell_type": "markdown",
   "metadata": {},
   "source": [
    "### Counting Bits\n",
    "Given a non negative integer number num. For every numbers i in the range 0 ≤ i ≤ num calculate the number of 1's in their binary representation and return them as an array."
   ]
  },
  {
   "cell_type": "code",
   "execution_count": 69,
   "metadata": {},
   "outputs": [
    {
     "data": {
      "text/plain": [
       "[0, 1, 1, 2, 1, 2]"
      ]
     },
     "execution_count": 69,
     "metadata": {},
     "output_type": "execute_result"
    }
   ],
   "source": [
    "def countBits(num):\n",
    "    ans = [0]*(num+1)\n",
    "    for i in range(1, num+1):\n",
    "        ans[i] = ans[i&(i-1)] + 1\n",
    "    return ans\n",
    "\n",
    "countBits(5)"
   ]
  },
  {
   "cell_type": "markdown",
   "metadata": {},
   "source": [
    "### Number Complement\n",
    "Given a positive integer, output its complement number. The complement strategy is to flip the bits of its binary representation."
   ]
  },
  {
   "cell_type": "code",
   "execution_count": 73,
   "metadata": {},
   "outputs": [
    {
     "data": {
      "text/plain": [
       "2"
      ]
     },
     "execution_count": 73,
     "metadata": {},
     "output_type": "execute_result"
    }
   ],
   "source": [
    "def findComplement(num: int) -> int:\n",
    "    import math\n",
    "    num_bits = int(math.log2(num) + 1)\n",
    "    mask = (1<<num_bits) - 1\n",
    "    return num ^ mask\n",
    "\n",
    "findComplement(5)"
   ]
  },
  {
   "cell_type": "markdown",
   "metadata": {},
   "source": [
    "### Single Number\n",
    "Given a non-empty array of integers, every element appears twice except for one. Find that single one."
   ]
  },
  {
   "cell_type": "code",
   "execution_count": 89,
   "metadata": {},
   "outputs": [
    {
     "data": {
      "text/plain": [
       "5"
      ]
     },
     "execution_count": 89,
     "metadata": {},
     "output_type": "execute_result"
    }
   ],
   "source": [
    "def singleNumber(nums) -> int:\n",
    "    xor = 0\n",
    "    for num in nums:\n",
    "        xor = xor ^ num\n",
    "    return xor\n",
    "\n",
    "singleNumber([2,1,1,2,3,5,3])"
   ]
  },
  {
   "cell_type": "markdown",
   "metadata": {},
   "source": [
    "### Find the Difference\n",
    "Given two strings s and t which consist of only lowercase letters.\n",
    "\n",
    "String t is generated by random shuffling string s and then add one more letter at a random position.\n",
    "\n",
    "Find the letter that was added in t."
   ]
  },
  {
   "cell_type": "code",
   "execution_count": 1,
   "metadata": {},
   "outputs": [
    {
     "data": {
      "text/plain": [
       "'e'"
      ]
     },
     "execution_count": 1,
     "metadata": {},
     "output_type": "execute_result"
    }
   ],
   "source": [
    "def findTheDifference(s: str, t: str) -> str:\n",
    "    val = 0\n",
    "    for ch in s:\n",
    "        val ^= ord(ch)\n",
    "\n",
    "    for ch in t:\n",
    "        val ^= ord(ch)\n",
    "\n",
    "    return chr(val)\n",
    "\n",
    "findTheDifference('abcd', 'abcde')"
   ]
  },
  {
   "cell_type": "markdown",
   "metadata": {},
   "source": [
    "### Flipping an image\n",
    "Given a binary matrix A, we want to flip the image horizontally, then invert it, and return the resulting image.\n",
    "\n",
    "To flip an image horizontally means that each row of the image is reversed.  For example, flipping [1, 1, 0] horizontally results in [0, 1, 1].\n",
    "\n",
    "To invert an image means that each 0 is replaced by 1, and each 1 is replaced by 0. For example, inverting [0, 1, 1] results in [1, 0, 0]."
   ]
  },
  {
   "cell_type": "code",
   "execution_count": 3,
   "metadata": {},
   "outputs": [
    {
     "data": {
      "text/plain": [
       "[[1, 1, 0, 0], [0, 1, 1, 0], [0, 0, 0, 1], [1, 0, 1, 0]]"
      ]
     },
     "execution_count": 3,
     "metadata": {},
     "output_type": "execute_result"
    }
   ],
   "source": [
    "class Solution:\n",
    "    def flipAndInvertImage(self, grid):\n",
    "        for i in range(len(grid)):\n",
    "            self.reverse(grid[i])\n",
    "        return grid\n",
    "    \n",
    "    def reverse(self, row):\n",
    "        i = 0; j = len(row)-1\n",
    "        while i<j:\n",
    "            row[i], row[j] = row[j], row[i]\n",
    "            row[i] ^= 1; row[j] ^= 1\n",
    "            i +=1; j -= 1\n",
    "        if i == j:\n",
    "            row[i] ^= 1\n",
    "            \n",
    "grid = [[1,1,0,0],[1,0,0,1],[0,1,1,1],[1,0,1,0]]\n",
    "Solution().flipAndInvertImage(grid)"
   ]
  },
  {
   "cell_type": "markdown",
   "metadata": {},
   "source": [
    "### Encode Number\n",
    "Given a non-negative integer num, Return its encoding string.\n",
    "\n",
    "The encoding is done by converting the integer to a string using a secret function that you should deduce from the following table:\n",
    "\n"
   ]
  },
  {
   "cell_type": "code",
   "execution_count": 1,
   "metadata": {},
   "outputs": [
    {
     "data": {
      "text/plain": [
       "'1000'"
      ]
     },
     "execution_count": 1,
     "metadata": {},
     "output_type": "execute_result"
    }
   ],
   "source": [
    "def encode(num: int) -> str:\n",
    "    num += 1\n",
    "    string = ''\n",
    "    while num:\n",
    "        bit = num&1\n",
    "        string = str(bit) + string\n",
    "        num = num >> 1\n",
    "    return string[1:]\n",
    "encode(23)"
   ]
  },
  {
   "cell_type": "markdown",
   "metadata": {},
   "source": [
    "### Convert to Base -2\n",
    "\n",
    "Given a number N, return a string consisting of \"0\"s and \"1\"s that represents its value in base -2 (negative two).\n",
    "\n",
    "The returned string must have no leading zeroes, unless the string is \"0\"."
   ]
  },
  {
   "cell_type": "code",
   "execution_count": 3,
   "metadata": {},
   "outputs": [
    {
     "data": {
      "text/plain": [
       "'11100'"
      ]
     },
     "execution_count": 3,
     "metadata": {},
     "output_type": "execute_result"
    }
   ],
   "source": [
    "def baseNeg2(N: int) -> str:\n",
    "    if not N:\n",
    "        return '0'\n",
    "    res = ''\n",
    "    while N:\n",
    "        res = str(N&1) + res\n",
    "        N = -(N>>1)\n",
    "    return res\n",
    "baseNeg2(12)"
   ]
  }
 ],
 "metadata": {
  "kernelspec": {
   "display_name": "Python 3",
   "language": "python",
   "name": "python3"
  },
  "language_info": {
   "codemirror_mode": {
    "name": "ipython",
    "version": 3
   },
   "file_extension": ".py",
   "mimetype": "text/x-python",
   "name": "python",
   "nbconvert_exporter": "python",
   "pygments_lexer": "ipython3",
   "version": "3.6.8"
  }
 },
 "nbformat": 4,
 "nbformat_minor": 2
}
