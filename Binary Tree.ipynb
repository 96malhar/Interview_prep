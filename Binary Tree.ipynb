{
 "cells": [
  {
   "cell_type": "markdown",
   "metadata": {},
   "source": [
    "## Implementation"
   ]
  },
  {
   "cell_type": "markdown",
   "metadata": {},
   "source": [
    "                     4\n",
    "                    /  \\\n",
    "                   2    6\n",
    "                  / \\   / \\\n",
    "                 1   3 5   7"
   ]
  },
  {
   "cell_type": "code",
   "execution_count": 2,
   "metadata": {},
   "outputs": [],
   "source": [
    "class Node:\n",
    "    def __init__(self, data):\n",
    "        self.data = data\n",
    "        self.left = None\n",
    "        self.right = None\n",
    "class BinaryTree:\n",
    "    def __init__(self,root):\n",
    "        self.root = root\n",
    "        \n",
    "node1 = Node(1)\n",
    "node2 = Node(2)\n",
    "node3 = Node(3)\n",
    "node4 = Node(4)\n",
    "node5 = Node(5)\n",
    "node6 = Node(6)\n",
    "node7 = Node(7)\n",
    "\n",
    "node4.left, node4.right = node2, node6\n",
    "node2.left, node2.right = node1, node3\n",
    "node6.left, node6.right = node5, node7\n",
    "\n",
    "tree = BinaryTree(node4)"
   ]
  },
  {
   "cell_type": "markdown",
   "metadata": {},
   "source": [
    "## Traversal"
   ]
  },
  {
   "cell_type": "markdown",
   "metadata": {},
   "source": [
    "### Inorder Traversal"
   ]
  },
  {
   "cell_type": "code",
   "execution_count": 10,
   "metadata": {},
   "outputs": [
    {
     "name": "stdout",
     "output_type": "stream",
     "text": [
      "1 2 3 4 5 6 7 "
     ]
    }
   ],
   "source": [
    "def inorder_visit(node):\n",
    "    if node is None:\n",
    "        return\n",
    "    inorder_visit(node.left)\n",
    "    print(node.data, end = ' ')\n",
    "    inorder_visit(node.right)\n",
    "\n",
    "inorder_visit(tree.root)"
   ]
  },
  {
   "cell_type": "code",
   "execution_count": 11,
   "metadata": {},
   "outputs": [
    {
     "name": "stdout",
     "output_type": "stream",
     "text": [
      "1 2 3 4 5 6 7 "
     ]
    }
   ],
   "source": [
    "# Iterative\n",
    "def inorder_visit(node):\n",
    "    stack = []; result = []\n",
    "    while node or stack:\n",
    "        if node:\n",
    "            stack.append(node)\n",
    "            node = node.left\n",
    "        else:\n",
    "            node = stack.pop()\n",
    "            print(node.data, end=' ')\n",
    "            node = node.right\n",
    "inorder_visit(tree.root)"
   ]
  },
  {
   "cell_type": "code",
   "execution_count": 5,
   "metadata": {},
   "outputs": [
    {
     "name": "stdout",
     "output_type": "stream",
     "text": [
      "7 6 5 4 3 2 1 "
     ]
    }
   ],
   "source": [
    "def reverse_inorder(node):\n",
    "    stack = []; result = []\n",
    "    while node or stack:\n",
    "        if node:\n",
    "            stack.append(node)\n",
    "            node = node.right\n",
    "        else:\n",
    "            node = stack.pop()\n",
    "            print(node.data, end=' ')\n",
    "            node = node.left\n",
    "reverse_inorder(tree.root)"
   ]
  },
  {
   "cell_type": "markdown",
   "metadata": {},
   "source": [
    "### Preorder Traversal"
   ]
  },
  {
   "cell_type": "code",
   "execution_count": 12,
   "metadata": {},
   "outputs": [
    {
     "name": "stdout",
     "output_type": "stream",
     "text": [
      "4 2 1 3 6 5 7 "
     ]
    }
   ],
   "source": [
    "def preorder_visit(node):\n",
    "    if node is None:\n",
    "        return\n",
    "    print(node.data, end = ' ')\n",
    "    preorder_visit(node.left)\n",
    "    preorder_visit(node.right)\n",
    "\n",
    "preorder_visit(tree.root)"
   ]
  },
  {
   "cell_type": "code",
   "execution_count": 6,
   "metadata": {},
   "outputs": [
    {
     "name": "stdout",
     "output_type": "stream",
     "text": [
      "4 2 1 3 6 5 7 "
     ]
    }
   ],
   "source": [
    "# Iterative version\n",
    "def preorder(node):\n",
    "    stack = [] \n",
    "    if node: stack.append(node)\n",
    "    while stack:\n",
    "        node = stack.pop()\n",
    "        print(node.data, end = ' ')\n",
    "        if node.right: stack.append(node.right)\n",
    "        if node.left: stack.append(node.left)\n",
    "preorder(tree.root)"
   ]
  },
  {
   "cell_type": "markdown",
   "metadata": {},
   "source": [
    "### Verify Preorder serialization of Binary Tree\n",
    "          9\n",
    "        /   \\\n",
    "       3     2\n",
    "      / \\   / \\\n",
    "     4   1  n  6\n",
    "    / \\ / \\   / \\\n",
    "    n n n n  n   n\n",
    "* Input: \"9,3,4,#,#,1,#,#,2,#,6,#,#\"\n",
    "* Output: true"
   ]
  },
  {
   "cell_type": "code",
   "execution_count": 1,
   "metadata": {},
   "outputs": [
    {
     "data": {
      "text/plain": [
       "True"
      ]
     },
     "execution_count": 1,
     "metadata": {},
     "output_type": "execute_result"
    }
   ],
   "source": [
    "def isValidSerialization(preorder: str) -> bool:\n",
    "    slot = 1\n",
    "    string = preorder.split(',')\n",
    "    for ch in string:\n",
    "        slot -= 1\n",
    "        if slot<0: return False\n",
    "        if ch !='#':\n",
    "            slot += 2\n",
    "    return slot == 0\n",
    "\n",
    "preorder = '9,3,4,#,#,1,#,#,2,#,6,#,#'\n",
    "isValidSerialization(preorder)"
   ]
  },
  {
   "cell_type": "markdown",
   "metadata": {},
   "source": [
    "### Verify Preorder Sequence in Binary Search Tree\n",
    "         5\n",
    "        / \\\n",
    "       2   6\n",
    "      / \\\n",
    "     1   3\n",
    "\n",
    "* Input: [5,2,6,1,3]\n",
    "* Output: false\n",
    "\n",
    "\n",
    "* Input: [5,2,1,3,6]\n",
    "* Output: true"
   ]
  },
  {
   "cell_type": "code",
   "execution_count": 2,
   "metadata": {},
   "outputs": [
    {
     "data": {
      "text/plain": [
       "True"
      ]
     },
     "execution_count": 2,
     "metadata": {},
     "output_type": "execute_result"
    }
   ],
   "source": [
    "def verifyPreorder(preorder) -> bool:\n",
    "    stack = []; low = -float('inf')\n",
    "    for num in preorder:\n",
    "        if num<low: return False\n",
    "        while stack and stack[-1]<num:\n",
    "            low = stack.pop()\n",
    "        stack.append(num)\n",
    "    return True\n",
    "\n",
    "verifyPreorder([5,2,1,3,6])"
   ]
  },
  {
   "cell_type": "markdown",
   "metadata": {},
   "source": [
    "### Postorder Traversal"
   ]
  },
  {
   "cell_type": "code",
   "execution_count": 7,
   "metadata": {},
   "outputs": [
    {
     "name": "stdout",
     "output_type": "stream",
     "text": [
      "1 3 2 5 7 6 4 "
     ]
    }
   ],
   "source": [
    "def postorder_visit(node):\n",
    "    if node is None:\n",
    "        return\n",
    "    postorder_visit(node.left)\n",
    "    postorder_visit(node.right)\n",
    "    print(node.data, end = ' ')\n",
    "\n",
    "postorder_visit(tree.root)"
   ]
  },
  {
   "cell_type": "code",
   "execution_count": 3,
   "metadata": {},
   "outputs": [
    {
     "data": {
      "text/plain": [
       "[1, 3, 2, 5, 7, 6, 4]"
      ]
     },
     "execution_count": 3,
     "metadata": {},
     "output_type": "execute_result"
    }
   ],
   "source": [
    "### Iterative version\n",
    "def postorderTraversal(root):\n",
    "    stack =[(root, False)]; ans = []\n",
    "    while stack:\n",
    "        node, visited = stack.pop()\n",
    "        if node:\n",
    "            if visited:\n",
    "                ans.append(node.data)\n",
    "            else:\n",
    "                stack.append((node, True))\n",
    "                stack.append((node.right, False))\n",
    "                stack.append((node.left, False))\n",
    "    return ans\n",
    "\n",
    "postorderTraversal(tree.root)"
   ]
  },
  {
   "cell_type": "markdown",
   "metadata": {},
   "source": [
    "###  Binary Tree Level Order Traversal\n",
    "\n",
    "          3\n",
    "         / \\\n",
    "        9   20\n",
    "       /     \\\n",
    "      15      7\n",
    "[\n",
    "  [3],\n",
    "  [9,20],\n",
    "  [15,7]\n",
    "]"
   ]
  },
  {
   "cell_type": "code",
   "execution_count": 3,
   "metadata": {},
   "outputs": [
    {
     "data": {
      "text/plain": [
       "[[4], [2, 6], [1, 3, 5, 7]]"
      ]
     },
     "execution_count": 3,
     "metadata": {},
     "output_type": "execute_result"
    }
   ],
   "source": [
    "def levelOrder(root):\n",
    "    if root is None:\n",
    "        return []\n",
    "    queue = [root]; result = []\n",
    "    while queue:\n",
    "        length = len(queue)\n",
    "        curr_level = []\n",
    "        for i in range(length):\n",
    "            node = queue.pop(0)\n",
    "            curr_level.append(node.data)\n",
    "            if node.left:\n",
    "                queue.append(node.left)    \n",
    "            if node.right:\n",
    "                queue.append(node.right)\n",
    "        result.append(curr_level)\n",
    "\n",
    "    return result\n",
    "\n",
    "levelOrder(tree.root)"
   ]
  },
  {
   "cell_type": "markdown",
   "metadata": {},
   "source": [
    "### Zig-Zag level order traversal\n",
    "        3\n",
    "       / \\\n",
    "      9  20\n",
    "        /  \\\n",
    "       15   7\n",
    "       \n",
    "return its zigzag level order traversal as:\n",
    "[\n",
    "  [3],\n",
    "  [20,9],\n",
    "  [15,7]\n",
    "]"
   ]
  },
  {
   "cell_type": "code",
   "execution_count": 7,
   "metadata": {},
   "outputs": [
    {
     "data": {
      "text/plain": [
       "[[4], [6, 2], [1, 3, 5, 7]]"
      ]
     },
     "execution_count": 7,
     "metadata": {},
     "output_type": "execute_result"
    }
   ],
   "source": [
    "def zigzagLevelOrder(root):\n",
    "    if not root:\n",
    "        return []\n",
    "    from collections import deque\n",
    "    queue = deque(); queue.append(root); result = []; left_to_right = True\n",
    "    while queue:\n",
    "        size = len(queue)\n",
    "        curr_level = deque()\n",
    "        for _ in range(size):\n",
    "            node = queue.popleft()\n",
    "            if left_to_right:\n",
    "                curr_level.append(node.data)\n",
    "            else:\n",
    "                curr_level.appendleft(node.data)\n",
    "            if node.left: queue.append(node.left)\n",
    "            if node.right: queue.append(node.right)\n",
    "        result.append(list(curr_level))\n",
    "        left_to_right = not left_to_right\n",
    "\n",
    "    return result\n",
    "\n",
    "zigzagLevelOrder(tree.root)"
   ]
  },
  {
   "cell_type": "markdown",
   "metadata": {},
   "source": [
    "### Vertical order Traversal\n",
    "Given a binary tree, return the vertical order traversal of its nodes values.\n",
    "\n",
    "For each node at position (X, Y), its left and right children respectively will be at positions (X-1, Y-1) and (X+1, Y-1).\n",
    "\n",
    "Running a vertical line from X = -infinity to X = +infinity, whenever the vertical line touches some nodes, we report the values of the nodes in order from top to bottom (decreasing Y coordinates).\n",
    "\n",
    "If two nodes have the same position, then the value of the node that is reported first is the value that is smaller.\n",
    "\n",
    "Return an list of non-empty reports in order of X coordinate.  Every report will have a list of values of nodes."
   ]
  },
  {
   "cell_type": "code",
   "execution_count": 10,
   "metadata": {},
   "outputs": [
    {
     "data": {
      "text/plain": [
       "[[1], [2], [4, 3, 5], [6], [7]]"
      ]
     },
     "execution_count": 10,
     "metadata": {},
     "output_type": "execute_result"
    }
   ],
   "source": [
    "def verticalTraversal(root):\n",
    "    import collections\n",
    "    x_min, x_max = 0, 0\n",
    "    queue = [(root, 0)]\n",
    "    mapping = collections.defaultdict(list)\n",
    "    while queue:\n",
    "        size = len(queue)\n",
    "        temp = collections.defaultdict(list)\n",
    "        for _ in range(size):\n",
    "            node, x = queue.pop(0)\n",
    "            x_min = min(x_min, x)\n",
    "            x_max = max(x_max, x)\n",
    "            temp[x].append(node.data)\n",
    "\n",
    "            if node.left:\n",
    "                queue.append((node.left, x-1))\n",
    "            if node.right:\n",
    "                queue.append((node.right, x+1))\n",
    "\n",
    "        for key in temp:\n",
    "            mapping[key] += sorted(temp[key])\n",
    "\n",
    "    return [mapping[i] for i in range(x_min, x_max+1)]\n",
    "\n",
    "verticalTraversal(tree.root)"
   ]
  },
  {
   "cell_type": "markdown",
   "metadata": {},
   "source": [
    "### Average of Levels in Binary Tree\n",
    " \n",
    "     3\n",
    "    / \\\n",
    "    9  20\n",
    "    /  \\\n",
    "    15   7\n",
    "Output: [3, 14.5, 11]\n",
    "\n",
    "**Similar Question** : Find Largest Value in each tree row"
   ]
  },
  {
   "cell_type": "code",
   "execution_count": 11,
   "metadata": {},
   "outputs": [
    {
     "data": {
      "text/plain": [
       "[4.0, 4.0, 4.0]"
      ]
     },
     "execution_count": 11,
     "metadata": {},
     "output_type": "execute_result"
    }
   ],
   "source": [
    "def averageOfLevels(root):\n",
    "    queue = [root]; ans = []\n",
    "    while queue:\n",
    "        length = len(queue)\n",
    "        sum = 0\n",
    "        for i in range(length):\n",
    "            node = queue.pop(0)\n",
    "            sum += node.data\n",
    "            if node.left: queue.append(node.left)\n",
    "            if node.right: queue.append(node.right)\n",
    "        ans.append(sum/length)\n",
    "    return ans\n",
    "\n",
    "averageOfLevels(tree.root)"
   ]
  },
  {
   "cell_type": "markdown",
   "metadata": {},
   "source": [
    "### Maximum Width of Binary Tree\n",
    "Given a binary tree, write a function to get the maximum width of the given tree. The width of a tree is the maximum width among all levels. The binary tree has the same structure as a full binary tree, but some nodes are null.\n",
    "\n",
    "The width of one level is defined as the length between the end-nodes (the leftmost and right most non-null nodes in the level, where the null nodes between the end-nodes are also counted into the length calculation."
   ]
  },
  {
   "cell_type": "code",
   "execution_count": 5,
   "metadata": {},
   "outputs": [
    {
     "data": {
      "text/plain": [
       "4"
      ]
     },
     "execution_count": 5,
     "metadata": {},
     "output_type": "execute_result"
    }
   ],
   "source": [
    "def widthOfBinaryTree(root) -> int:\n",
    "    left = 0; right = 0; max_width = 0\n",
    "    queue = [(root, 0)]\n",
    "    while queue:\n",
    "        size = len(queue)\n",
    "        for i in range(size):\n",
    "            node, pos = queue.pop(0)\n",
    "            if i == 0: left = pos\n",
    "            if i == size-1: right = pos\n",
    "            if node.left: queue.append((node.left, pos*2))\n",
    "            if node.right: queue.append((node.right, pos*2+1))\n",
    "        max_width = max(max_width, right-left+1)\n",
    "    return max_width\n",
    "\n",
    "widthOfBinaryTree(tree.root)"
   ]
  },
  {
   "cell_type": "markdown",
   "metadata": {},
   "source": [
    "### Find Bottom Left Tree Value\n",
    "Given a binary tree, find the leftmost value in the last row of the tree."
   ]
  },
  {
   "cell_type": "code",
   "execution_count": 11,
   "metadata": {},
   "outputs": [
    {
     "data": {
      "text/plain": [
       "1"
      ]
     },
     "execution_count": 11,
     "metadata": {},
     "output_type": "execute_result"
    }
   ],
   "source": [
    "def findBottomLeftValue(root) -> int:\n",
    "    queue= [root]\n",
    "    while queue:\n",
    "        node = queue.pop(0)\n",
    "        if node.right: queue.append(node.right)\n",
    "        if node.left: queue.append(node.left)\n",
    "    return node.data\n",
    "\n",
    "findBottomLeftValue(tree.root)"
   ]
  },
  {
   "cell_type": "markdown",
   "metadata": {},
   "source": [
    "### Deepest Leaves Sum\n",
    "Given a binary tree, return the sum of values of its deepest leaves."
   ]
  },
  {
   "cell_type": "code",
   "execution_count": 13,
   "metadata": {},
   "outputs": [
    {
     "data": {
      "text/plain": [
       "16"
      ]
     },
     "execution_count": 13,
     "metadata": {},
     "output_type": "execute_result"
    }
   ],
   "source": [
    "def deepestLeavesSum(root) -> int:\n",
    "    queue = [root]\n",
    "    while queue:\n",
    "        size = len(queue)\n",
    "        s = 0\n",
    "        for _ in range(size):\n",
    "            node = queue.pop(0)\n",
    "            s += node.data\n",
    "            if node.left: queue.append(node.left)\n",
    "            if node.right: queue.append(node.right)\n",
    "    return s\n",
    "\n",
    "deepestLeavesSum(tree.root)"
   ]
  },
  {
   "cell_type": "markdown",
   "metadata": {},
   "source": [
    "### Find the height of a binary tree using BFS"
   ]
  },
  {
   "cell_type": "code",
   "execution_count": 12,
   "metadata": {},
   "outputs": [
    {
     "data": {
      "text/plain": [
       "2"
      ]
     },
     "execution_count": 12,
     "metadata": {},
     "output_type": "execute_result"
    }
   ],
   "source": [
    "def maxDepth(root):\n",
    "    if root is None:\n",
    "        return -1\n",
    "    queue = [root]; level = -1\n",
    "    while queue:\n",
    "        size = len(queue)\n",
    "        for i in range(size):\n",
    "            node = queue.pop(0)\n",
    "            if node.left: queue.append(node.left)\n",
    "            if node.right: queue.append(node.right)\n",
    "        level += 1\n",
    "    return level\n",
    "maxDepth(tree.root)"
   ]
  },
  {
   "cell_type": "markdown",
   "metadata": {},
   "source": [
    "### Distance of a node from root node"
   ]
  },
  {
   "cell_type": "code",
   "execution_count": 20,
   "metadata": {},
   "outputs": [
    {
     "data": {
      "text/plain": [
       "2"
      ]
     },
     "execution_count": 20,
     "metadata": {},
     "output_type": "execute_result"
    }
   ],
   "source": [
    "def distFromRoot(root, val):\n",
    "    if root is None:\n",
    "        return\n",
    "    queue = [root]; level = -1\n",
    "    while queue:\n",
    "        size = len(queue)\n",
    "        for i in range(size):\n",
    "            node = queue.pop(0)\n",
    "            if node.data == val:\n",
    "                return level+1\n",
    "            if node.left: queue.append(node.left)\n",
    "            if node.right: queue.append(node.right)\n",
    "        level += 1\n",
    "    return -1\n",
    "distFromRoot(tree.root, 3)"
   ]
  },
  {
   "cell_type": "markdown",
   "metadata": {},
   "source": [
    "### Find Minimum Depth of a Binary Tree using BFS\n",
    "given a binary tree, find its minimum depth.\n",
    "The minimum depth is the number of nodes along the shortest path from the root node down to the nearest leaf node.\n",
    "* Note: A leaf is a node with no children.\n",
    "\n",
    "Example:\n",
    "Given binary tree [3,9,20,null,null,15,7],\n",
    "\n",
    "        3\n",
    "       / \\\n",
    "      9  20\n",
    "        /  \\\n",
    "       15   7\n",
    "minimum Depth = 2"
   ]
  },
  {
   "cell_type": "code",
   "execution_count": 12,
   "metadata": {},
   "outputs": [
    {
     "data": {
      "text/plain": [
       "3"
      ]
     },
     "execution_count": 12,
     "metadata": {},
     "output_type": "execute_result"
    }
   ],
   "source": [
    "def minDepth(root):\n",
    "    if root is None:\n",
    "        return 0\n",
    "    queue = [root]; level = 0\n",
    "    while queue:\n",
    "        size = len(queue)\n",
    "        level += 1\n",
    "        for i in range(size):\n",
    "            node = queue.pop(0)\n",
    "            if not node.left and not node.right:\n",
    "                return level\n",
    "            if node.left: queue.append(node.left)\n",
    "            if node.right: queue.append(node.right)\n",
    "minDepth(tree.root)"
   ]
  },
  {
   "cell_type": "markdown",
   "metadata": {},
   "source": [
    "### Level Order Successor"
   ]
  },
  {
   "cell_type": "code",
   "execution_count": 19,
   "metadata": {},
   "outputs": [
    {
     "data": {
      "text/plain": [
       "2"
      ]
     },
     "execution_count": 19,
     "metadata": {},
     "output_type": "execute_result"
    }
   ],
   "source": [
    "def levelOrderSuccessor(root, key):\n",
    "    if not root: return None\n",
    "    queue = [root]\n",
    "    while queue:\n",
    "        node = queue.pop(0)\n",
    "        if node.left: queue.append(node.left)\n",
    "        if node.right: queue.append(node.right)\n",
    "        if node.data == key:\n",
    "            return queue[0].data if queue else None\n",
    "\n",
    "levelOrderSuccessor(tree.root, 4)         "
   ]
  },
  {
   "cell_type": "markdown",
   "metadata": {},
   "source": [
    "### Populating Next Right Pointer I and II\n",
    "Given a binary tree, connect each node with its level order successor. The last node of each level should point to a null node."
   ]
  },
  {
   "cell_type": "code",
   "execution_count": null,
   "metadata": {},
   "outputs": [],
   "source": [
    "class Node:\n",
    "    def __init__(self, val, left, right, next):\n",
    "        self.val = val\n",
    "        self.left = left\n",
    "        self.right = right\n",
    "        self.next = next\n",
    "        \n",
    "class Solution:\n",
    "    def connect(self, root: 'Node') -> 'Node':\n",
    "        if not root:\n",
    "            return root\n",
    "        queue = [root]\n",
    "        while queue:\n",
    "            size = len(queue)\n",
    "            for i in range(size):\n",
    "                node = queue.pop(0)\n",
    "                if i == size-1:\n",
    "                    node.next = None\n",
    "                else:\n",
    "                    node.next = queue[0]\n",
    "                if node.left: queue.append(node.left)\n",
    "                if node.right: queue.append(node.right)\n",
    "        return root"
   ]
  },
  {
   "cell_type": "markdown",
   "metadata": {},
   "source": [
    "### Binary Tree Right side View\n",
    "       1            <---\n",
    "     /   \\\n",
    "    2     3         <---\n",
    "     \\     \\\n",
    "      5     4       <---\n",
    "output = [1,3,4]"
   ]
  },
  {
   "cell_type": "code",
   "execution_count": 21,
   "metadata": {},
   "outputs": [
    {
     "data": {
      "text/plain": [
       "[4, 6, 7]"
      ]
     },
     "execution_count": 21,
     "metadata": {},
     "output_type": "execute_result"
    }
   ],
   "source": [
    "class Solution:\n",
    "    def rightSideView(self, root):\n",
    "        if not root:\n",
    "            return []\n",
    "        queue = [root]; ans = []\n",
    "        while queue:\n",
    "            size = len(queue)\n",
    "            for i in range(size):\n",
    "                node = queue.pop(0)\n",
    "                if i == size-1:\n",
    "                    ans.append(node.data)\n",
    "                if node.left:\n",
    "                    queue.append(node.left)\n",
    "                if node.right:\n",
    "                    queue.append(node.right)\n",
    "        return ans\n",
    "obj = Solution()\n",
    "obj.rightSideView(tree.root)"
   ]
  },
  {
   "cell_type": "markdown",
   "metadata": {},
   "source": [
    "### Merge 2 Binary Trees"
   ]
  },
  {
   "cell_type": "code",
   "execution_count": 5,
   "metadata": {},
   "outputs": [],
   "source": [
    "def mergeTrees(t1, t2):\n",
    "    if not t1 and not t2:\n",
    "        return\n",
    "    if t1 and t2:\n",
    "        root = TreeNode(t1.val+t2.val)\n",
    "        root.left = self.mergeTrees(t1.left, t2.left)\n",
    "        root.right = self.mergeTrees(t1.right, t2.right)\n",
    "    elif not t1:\n",
    "        root = t2\n",
    "    else:\n",
    "        root = t1\n",
    "    return root"
   ]
  },
  {
   "cell_type": "markdown",
   "metadata": {},
   "source": [
    "### Boundary of a Binary Tree"
   ]
  },
  {
   "cell_type": "code",
   "execution_count": 6,
   "metadata": {},
   "outputs": [
    {
     "data": {
      "text/plain": [
       "[4, 2, 1, 3, 5, 7, 6]"
      ]
     },
     "execution_count": 6,
     "metadata": {},
     "output_type": "execute_result"
    }
   ],
   "source": [
    "class Solution:\n",
    "    def boundaryOfBinaryTree(self, root):\n",
    "        if root is None: return []\n",
    "        if root.left is None and root.right is None: return [root.data] \n",
    "    \n",
    "        self.res = [root.data]\n",
    "        self.helpLeft(root.left)\n",
    "        self.leaves(root)\n",
    "        self.helpRight(root.right)\n",
    "\n",
    "        return self.res\n",
    "\n",
    "    def helpLeft(self, root):\n",
    "        if root is None or (root.left is None and root.right is None):\n",
    "            return \n",
    "\n",
    "        self.res.append(root.data)\n",
    "        if root.left:\n",
    "            self.helpLeft(root.left)\n",
    "        else:\n",
    "            self.helpLeft(root.right)\n",
    "\n",
    "    def helpRight(self, root):\n",
    "        if root is None or (root.left is None and root.right is None):\n",
    "            return\n",
    "\n",
    "        if root.right:\n",
    "            self.helpRight(root.right)\n",
    "        else:\n",
    "            self.helpRight(root.left)\n",
    "        self.res.append(root.data)   #append in the end, to have reverse order \n",
    "\n",
    "    def leaves(self, root):\n",
    "        if root.left is None and root.right is None:\n",
    "            self.res.append(root.data)\n",
    "            return\n",
    "        if root.left: self.leaves(root.left)\n",
    "        if root.right: self.leaves(root.right)\n",
    "            \n",
    "obj = Solution()\n",
    "obj.boundaryOfBinaryTree(tree.root)"
   ]
  },
  {
   "cell_type": "markdown",
   "metadata": {},
   "source": [
    "### Flatten Binary Tree to LinkedList\n",
    "        1\n",
    "       / \\\n",
    "      2   5\n",
    "     / \\   \\\n",
    "    3   4   6\n",
    "The flattened tree should look like:\n",
    "\n",
    "    1\n",
    "     \\\n",
    "      2\n",
    "       \\\n",
    "        3\n",
    "         \\\n",
    "          4\n",
    "           \\\n",
    "            5\n",
    "             \\\n",
    "              6\n"
   ]
  },
  {
   "cell_type": "code",
   "execution_count": 2,
   "metadata": {},
   "outputs": [],
   "source": [
    "class TreeNode:\n",
    "    def __init__(self, x):\n",
    "        self.val = x\n",
    "        self.left = None\n",
    "        self.right = None\n",
    "\n",
    "class Solution:\n",
    "    def flatten(self, root: TreeNode) -> None:\n",
    "        \"\"\"\n",
    "        Do not return anything, modify root in-place instead.\n",
    "        \"\"\"\n",
    "        if not root: return\n",
    "        self.ll = LinkedList()\n",
    "        self.dfs(root)\n",
    "        return self.ll.head\n",
    "    \n",
    "    def dfs(self, node):\n",
    "        left, right = node.left, node.right\n",
    "        self.ll.append(node)\n",
    "        if left: self.dfs(left)\n",
    "        if right: self.dfs(right)\n",
    "    \n",
    "class LinkedList:\n",
    "    def __init__(self):\n",
    "        self.head = None\n",
    "        self.tail = None\n",
    "    \n",
    "    def append(self, node):\n",
    "        if not self.head:\n",
    "            self.head = node\n",
    "        else:\n",
    "            self.tail.right = node\n",
    "        self.tail = node\n",
    "        self.tail.right = None\n",
    "        self.tail.left = None"
   ]
  },
  {
   "cell_type": "markdown",
   "metadata": {},
   "source": [
    "### Iterative dfs of the above code"
   ]
  },
  {
   "cell_type": "code",
   "execution_count": 6,
   "metadata": {},
   "outputs": [],
   "source": [
    "def flatten(self, root: TreeNode) -> None:\n",
    "    \"\"\"\n",
    "    Do not return anything, modify root in-place instead.\n",
    "    \"\"\"\n",
    "    if not root: return\n",
    "    prev = TreeNode(0); stack = [root]\n",
    "    while stack:\n",
    "        node = stack.pop()\n",
    "        prev.right = node\n",
    "        if node.right:\n",
    "            stack.append(node.right)\n",
    "            node.right = None\n",
    "        if node.left:\n",
    "            stack.append(node.left)\n",
    "            node.left = None\n",
    "        prev = node\n",
    "\n",
    "    return root"
   ]
  },
  {
   "cell_type": "markdown",
   "metadata": {},
   "source": [
    "### Convert Binary Search Tree to Sorted Doubly Linked List\n",
    "Convert a BST to a sorted circular doubly-linked list in-place. Think of the left and right pointers as synonymous to the previous and next pointers in a doubly-linked list."
   ]
  },
  {
   "cell_type": "code",
   "execution_count": 3,
   "metadata": {},
   "outputs": [],
   "source": [
    "class Solution:\n",
    "    def treeToDoublyList(self, root: 'Node') -> 'Node':\n",
    "        if not root: return\n",
    "        self.ll = LinkedList()\n",
    "        self.inorder(root)\n",
    "        self.ll.head.left = self.ll.tail\n",
    "        self.ll.tail.right = self.ll.head\n",
    "        return self.ll.head\n",
    "    \n",
    "    def inorder(self, node):\n",
    "        if not node: return\n",
    "        self.inorder(node.left)\n",
    "        self.ll.append(node)\n",
    "        self.inorder(node.right)\n",
    "\n",
    "class LinkedList:\n",
    "    def __init__(self):\n",
    "        self.head = None\n",
    "        self.tail = None\n",
    "        \n",
    "    def append(self, node):\n",
    "        if not self.head:\n",
    "            self.head = node\n",
    "        else:\n",
    "            self.tail.right = node\n",
    "            node.left = self.tail\n",
    "        self.tail = node"
   ]
  },
  {
   "cell_type": "markdown",
   "metadata": {},
   "source": [
    "## Top to Bottom\n",
    "In the Top to Bottom Approach, we evaluate the result for the current node, and then pass it on to left and right nodes to evaluate for themselves. There is usually a variable(s) that holds the result. We pass the variable(s) down to the children nodes to update. After the entire tree is traversed, the variable will hold the result. "
   ]
  },
  {
   "cell_type": "markdown",
   "metadata": {},
   "source": [
    "### Find the height of a binary tree."
   ]
  },
  {
   "cell_type": "code",
   "execution_count": 26,
   "metadata": {},
   "outputs": [
    {
     "data": {
      "text/plain": [
       "2"
      ]
     },
     "execution_count": 26,
     "metadata": {},
     "output_type": "execute_result"
    }
   ],
   "source": [
    "class Solution:\n",
    "    def maxDepth(self, root):\n",
    "        self.height = -1\n",
    "        self.helper(root, -1)\n",
    "        return self.height\n",
    "        \n",
    "    def helper(self, node, prevDepth):\n",
    "        if node is None:\n",
    "            return\n",
    "        currDepth = prevDepth + 1\n",
    "        self.height = max(self.height, currDepth)\n",
    "        self.helper(node.left, currDepth)\n",
    "        self.helper(node.right, currDepth)\n",
    "sol = Solution()\n",
    "sol.maxDepth(tree.root)"
   ]
  },
  {
   "cell_type": "markdown",
   "metadata": {},
   "source": [
    "### Binary Tree Paths\n",
    "Given a binary tree, return all root-to-leaf paths.\n",
    "\n",
    "Note: A leaf is a node with no children."
   ]
  },
  {
   "cell_type": "code",
   "execution_count": 11,
   "metadata": {},
   "outputs": [
    {
     "data": {
      "text/plain": [
       "['4->2->1', '4->2->3', '4->6->5', '4->6->7']"
      ]
     },
     "execution_count": 11,
     "metadata": {},
     "output_type": "execute_result"
    }
   ],
   "source": [
    "class Solution:\n",
    "    def binaryTreePaths(self, root):\n",
    "        if not root: return []\n",
    "        self.ans = []\n",
    "        self.helper(root, [str(root.data)])\n",
    "        return self.ans\n",
    "    \n",
    "    def helper(self, root, buffer):\n",
    "        if not root.left and not root.right:\n",
    "            self.ans.append(''.join(buffer))\n",
    "            return\n",
    "        \n",
    "        for node in [root.left, root.right]:\n",
    "            if node:\n",
    "                buffer.append('->')\n",
    "                buffer.append(str(node.data))\n",
    "                self.helper(node, buffer)\n",
    "                buffer.pop()\n",
    "                buffer.pop()\n",
    "    \n",
    "sol = Solution()\n",
    "sol.binaryTreePaths(tree.root)"
   ]
  },
  {
   "cell_type": "markdown",
   "metadata": {},
   "source": [
    "## Bottom To Top\n",
    "In the Bottom to Top Approach, we solve the problem for the left and right subtrees. We then take the two results and solve it for the entire tree.\n",
    "\n",
    "This approach is used more often than the Top to Bottom Approach."
   ]
  },
  {
   "cell_type": "markdown",
   "metadata": {},
   "source": [
    "### Find Height of Binary Tree\n"
   ]
  },
  {
   "cell_type": "code",
   "execution_count": 9,
   "metadata": {},
   "outputs": [
    {
     "data": {
      "text/plain": [
       "2"
      ]
     },
     "execution_count": 9,
     "metadata": {},
     "output_type": "execute_result"
    }
   ],
   "source": [
    "def getHeight(root):\n",
    "    if root is None:\n",
    "        return -1\n",
    "    return 1 + max(getHeight(root.left), getHeight(root.right))\n",
    "\n",
    "getHeight(tree.root)    "
   ]
  },
  {
   "cell_type": "markdown",
   "metadata": {},
   "source": [
    "### Balanced Binary Tree\n",
    "Given a binary tree, determine if it is height-balanced.\n",
    "\n",
    "For this problem, a height-balanced binary tree is defined as:\n",
    "\n",
    "a binary tree in which the depth of the two subtrees of every node never differ by more than 1."
   ]
  },
  {
   "cell_type": "code",
   "execution_count": 13,
   "metadata": {},
   "outputs": [
    {
     "data": {
      "text/plain": [
       "True"
      ]
     },
     "execution_count": 13,
     "metadata": {},
     "output_type": "execute_result"
    }
   ],
   "source": [
    "def isBalanced(root):\n",
    "    if not root:\n",
    "        return True\n",
    "    return helper(root)!=-1\n",
    "    \n",
    "def helper(root):\n",
    "    if root is None:\n",
    "        return 0\n",
    "    left = helper(root.left); right = helper(root.right)\n",
    "    if left == -1 or right == -1 or abs(left-right)>1:\n",
    "        return -1\n",
    "    return 1 + max(left, right)\n",
    "\n",
    "isBalanced(tree.root)"
   ]
  },
  {
   "cell_type": "markdown",
   "metadata": {},
   "source": [
    "### Diameter of Binary Tree\n",
    "Given a binary tree, you need to compute the length of the diameter of the tree. The diameter of a binary tree is the length of the longest path between any two nodes in a tree. This path may or may not pass through the root.\n",
    "\n",
    "Example:\n",
    "Given a binary tree \n",
    "\n",
    "                      1\n",
    "                     / \\\n",
    "                    2   3\n",
    "                   / \\     \n",
    "                  4   5    \n",
    "Return 3, which is the length of the path [4,2,1,3] or [5,2,1,3].\n",
    "\n",
    "Note: The length of path between two nodes is represented by the number of edges between them."
   ]
  },
  {
   "cell_type": "code",
   "execution_count": 15,
   "metadata": {},
   "outputs": [
    {
     "data": {
      "text/plain": [
       "4"
      ]
     },
     "execution_count": 15,
     "metadata": {},
     "output_type": "execute_result"
    }
   ],
   "source": [
    "class Solution:\n",
    "    def diameterOfBinaryTree(self, root):\n",
    "        self.diameter = 0\n",
    "        self.helper(root)\n",
    "        return self.diameter\n",
    "    \n",
    "    def helper(self, root):\n",
    "        if root is None:\n",
    "            return 0\n",
    "        left = self.helper(root.left); right = self.helper(root.right)\n",
    "        self.diameter = max(self.diameter, left+right)\n",
    "        return 1 + max(left, right)\n",
    "    \n",
    "sol = Solution()\n",
    "sol.diameterOfBinaryTree(tree.root)"
   ]
  },
  {
   "cell_type": "markdown",
   "metadata": {},
   "source": [
    "## Lowest Common Ancestor"
   ]
  },
  {
   "cell_type": "code",
   "execution_count": 21,
   "metadata": {},
   "outputs": [
    {
     "data": {
      "text/plain": [
       "4"
      ]
     },
     "execution_count": 21,
     "metadata": {},
     "output_type": "execute_result"
    }
   ],
   "source": [
    " def lowestCommonAncestor(root, p, q):\n",
    "    if root is None:\n",
    "        return None\n",
    "    if root == p or root == q:\n",
    "        return root\n",
    "    leftLCA = lowestCommonAncestor(root.left, p, q)\n",
    "    rightLCA = lowestCommonAncestor(root.right, p, q)\n",
    "    if leftLCA and rightLCA:\n",
    "        return root\n",
    "    return leftLCA if leftLCA else rightLCA\n",
    "\n",
    "lowestCommonAncestor(tree.root, node3, node6).data"
   ]
  },
  {
   "cell_type": "markdown",
   "metadata": {},
   "source": [
    "### Lowest Common Ancestor of deepest Leaves"
   ]
  },
  {
   "cell_type": "code",
   "execution_count": 7,
   "metadata": {},
   "outputs": [
    {
     "data": {
      "text/plain": [
       "4"
      ]
     },
     "execution_count": 7,
     "metadata": {},
     "output_type": "execute_result"
    }
   ],
   "source": [
    "class Solution:\n",
    "    def lcaDeepestLeaves(self, root):\n",
    "        queue = [root]\n",
    "        while queue:\n",
    "            size = len(queue)\n",
    "            for i in range(size):\n",
    "                node = queue.pop(0)\n",
    "                if i == 0: left_leaf = node\n",
    "                if i == size-1: right_leaf = node\n",
    "                if node.left: queue.append(node.left)\n",
    "                if node.right: queue.append(node.right)\n",
    "        if left_leaf.data == right_leaf.data:\n",
    "            return left_leaf\n",
    "        return self.LCA(root, left_leaf.data, right_leaf.data)\n",
    "    \n",
    "    def LCA(self, root, p, q):\n",
    "        if root is None:\n",
    "            return None\n",
    "        if root.data == p or root.data == q:\n",
    "            return root\n",
    "        left = self.LCA(root.left, p, q)\n",
    "        right = self.LCA(root.right, p, q)\n",
    "        if left and right:\n",
    "            return root\n",
    "        return left if left else right\n",
    "\n",
    "obj = Solution()\n",
    "obj.lcaDeepestLeaves(tree.root).data"
   ]
  },
  {
   "cell_type": "markdown",
   "metadata": {},
   "source": [
    "## Reconstruction"
   ]
  },
  {
   "cell_type": "markdown",
   "metadata": {},
   "source": [
    "### Given preorder and inorder traversal of a tree, construct the binary tree.\n",
    "\n",
    "Note:\n",
    "You may assume that duplicates do not exist in the tree.\n",
    "\n",
    "For example, given\n",
    "\n",
    "* preorder = [3,9,20,15,7]\n",
    "* inorder = [9,3,15,20,7]\n",
    "Return the following binary tree:\n",
    "\n",
    "        3\n",
    "       / \\\n",
    "      9  20\n",
    "        /  \\\n",
    "       15   7"
   ]
  },
  {
   "cell_type": "code",
   "execution_count": 6,
   "metadata": {},
   "outputs": [],
   "source": [
    "class TreeNode:\n",
    "    def __init__(self, x):\n",
    "        self.val = x\n",
    "        self.left = None\n",
    "        self.right = None\n",
    "\n",
    "class Solution:\n",
    "    def buildTree(self, preorder, inorder) -> TreeNode:\n",
    "        self.hashmap = {v:i for i,v in enumerate(inorder)}\n",
    "        return self.construct(0, len(inorder)-1, preorder)\n",
    "    \n",
    "    def construct(self, low, high, preorder):\n",
    "        if low > high: return None\n",
    "        root_val = preorder.pop(0)\n",
    "        k = self.hashmap[root_val]\n",
    "        root = TreeNode(root_val)\n",
    "        root.left = self.construct(low, k-1, preorder)\n",
    "        root.right = self.construct(k+1, high, preorder)\n",
    "        return root"
   ]
  },
  {
   "cell_type": "code",
   "execution_count": 10,
   "metadata": {},
   "outputs": [
    {
     "data": {
      "text/plain": [
       "3"
      ]
     },
     "execution_count": 10,
     "metadata": {},
     "output_type": "execute_result"
    }
   ],
   "source": [
    "preorder = [3,9,20,15,7]; inorder = [9,3,15,20,7]\n",
    "sol = Solution()\n",
    "sol.buildTree(preorder, inorder).val"
   ]
  },
  {
   "cell_type": "markdown",
   "metadata": {},
   "source": [
    "### Construct Binary Tree from Inorder and Postorder Traversal\n",
    "Given inorder and postorder traversal of a tree, construct the binary tree.\n",
    "\n",
    "Note:\n",
    "You may assume that duplicates do not exist in the tree.\n",
    "\n",
    "For example, given\n",
    "\n",
    "* inorder = [9,3,15,20,7]\n",
    "* postorder = [9,15,7,20,3]\n",
    "Return the following binary tree:\n",
    "\n",
    "        3\n",
    "       / \\\n",
    "      9  20\n",
    "        /  \\\n",
    "       15   7"
   ]
  },
  {
   "cell_type": "code",
   "execution_count": 5,
   "metadata": {},
   "outputs": [],
   "source": [
    "class TreeNode:\n",
    "    def __init__(self, x):\n",
    "        self.val = x\n",
    "        self.left = None\n",
    "        self.right = None\n",
    "        \n",
    "class Solution:\n",
    "    def buildTree(self, inorder, postorder) -> TreeNode:\n",
    "        self.lookup = {v:i for i,v in enumerate(inorder)}\n",
    "        # print(self.lookup)\n",
    "        return self.helper(0, len(inorder)-1, postorder)\n",
    "    \n",
    "    def helper(self, low, high, postorder):\n",
    "        if low > high:\n",
    "            return None\n",
    "        root_val = postorder.pop()\n",
    "        i = self.lookup[root_val]\n",
    "        root = TreeNode(root_val)\n",
    "        root.right = self.helper(i+1, high, postorder)\n",
    "        root.left = self.helper(low, i-1, postorder)\n",
    "        return root"
   ]
  },
  {
   "cell_type": "code",
   "execution_count": 2,
   "metadata": {},
   "outputs": [
    {
     "data": {
      "text/plain": [
       "3"
      ]
     },
     "execution_count": 2,
     "metadata": {},
     "output_type": "execute_result"
    }
   ],
   "source": [
    "inorder = [9,3,15,20,7]; postorder = [9,15,7,20,3]\n",
    "sol = Solution()\n",
    "sol.buildTree(inorder, postorder).val"
   ]
  },
  {
   "cell_type": "markdown",
   "metadata": {},
   "source": [
    "###  Construct Binary Tree from Preorder and Postorder Traversal\n",
    "Return any binary tree that matches the given preorder and postorder traversals.\n",
    "\n",
    "Values in the traversals pre and post are distinct positive integers."
   ]
  },
  {
   "cell_type": "code",
   "execution_count": 17,
   "metadata": {},
   "outputs": [
    {
     "data": {
      "text/plain": [
       "1"
      ]
     },
     "execution_count": 17,
     "metadata": {},
     "output_type": "execute_result"
    }
   ],
   "source": [
    "class TreeNode:\n",
    "    def __init__(self, x):\n",
    "        self.val = x\n",
    "        self.left = None\n",
    "        self.right = None\n",
    "        \n",
    "class Solution:\n",
    "    def constructFromPrePost(self, pre, post) -> TreeNode:\n",
    "        self.pre_i = 0; self.post_i = 0\n",
    "        return self.helper(pre, post)\n",
    "    \n",
    "    def helper(self, pre, post):\n",
    "        root = TreeNode(pre[self.pre_i])\n",
    "        self.pre_i += 1\n",
    "        \n",
    "        if root.val != post[self.post_i]:\n",
    "            root.left = self.helper(pre, post)\n",
    "        if root.val != post[self.post_i]:\n",
    "            root.right = self.helper(pre, post)\n",
    "        \n",
    "        self.post_i += 1\n",
    "        return root\n",
    "\n",
    "pre = [1,2,4,5,3,6,7]; post = [4,5,2,6,7,3,1]\n",
    "obj = Solution()\n",
    "obj.constructFromPrePost(pre, post).val"
   ]
  },
  {
   "cell_type": "markdown",
   "metadata": {},
   "source": [
    "### Return the root of the subtree whose sum is equal to given target (including the root value)"
   ]
  },
  {
   "cell_type": "code",
   "execution_count": 5,
   "metadata": {},
   "outputs": [
    {
     "data": {
      "text/plain": [
       "2"
      ]
     },
     "execution_count": 5,
     "metadata": {},
     "output_type": "execute_result"
    }
   ],
   "source": [
    "class Solution:\n",
    "    \n",
    "    def findSubTree(self, root, target):\n",
    "        self.ans = None\n",
    "        self.helper(root, target)\n",
    "        return self.ans\n",
    "    \n",
    "    def helper(self, node, target):\n",
    "        if node is None:\n",
    "            return 0\n",
    "        val = node.data + self.helper(node.left, target) + self.helper(node.right, target)\n",
    "        if val == target:\n",
    "            self.ans = node\n",
    "        return val\n",
    "    \n",
    "obj = Solution()\n",
    "obj.findSubTree(tree.root, 6).data"
   ]
  },
  {
   "cell_type": "markdown",
   "metadata": {},
   "source": [
    "### Most frequent subtree sum\n",
    "Given the root of a tree, you are asked to find the most frequent subtree sum. The subtree sum of a node is defined as the sum of all the node values formed by the subtree rooted at that node (including the node itself). So what is the most frequent subtree sum value? If there is a tie, return all the values with the highest frequency in any order.\n",
    "\n",
    "Examples 1\n",
    "Input:\n",
    "\n",
    "      5\n",
    "     /  \\\n",
    "    2   -3\n",
    "return [2, -3, 4], since all the values happen only once, return all of them in any order."
   ]
  },
  {
   "cell_type": "code",
   "execution_count": 8,
   "metadata": {},
   "outputs": [
    {
     "data": {
      "text/plain": [
       "[1, 3, 6, 5, 7, 18, 28]"
      ]
     },
     "execution_count": 8,
     "metadata": {},
     "output_type": "execute_result"
    }
   ],
   "source": [
    "import collections\n",
    "class Solution:\n",
    "    def findFrequentTreeSum(self, root):\n",
    "        self.hashmap = collections.Counter()\n",
    "        self.helper(root)\n",
    "        ans = []; max_freq = 0\n",
    "        for sum, freq in self.hashmap.items():\n",
    "            if freq > max_freq:\n",
    "                ans = [sum]\n",
    "                max_freq = freq\n",
    "            elif freq == max_freq:\n",
    "                ans.append(sum)\n",
    "        return ans\n",
    "        \n",
    "    def helper(self, root):\n",
    "        if root is None:\n",
    "            return 0\n",
    "        leftsum = self.helper(root.left)\n",
    "        rightsum = self.helper(root.right)\n",
    "        subtree_sum = leftsum + root.data + rightsum\n",
    "        self.hashmap[subtree_sum] += 1\n",
    "        return subtree_sum\n",
    "    \n",
    "obj = Solution()\n",
    "obj.findFrequentTreeSum(tree.root)"
   ]
  },
  {
   "cell_type": "markdown",
   "metadata": {},
   "source": [
    "### Print nodes in a given Range\n",
    "Given the root node of a binary search tree, return the values of all nodes with value between L and R (inclusive)."
   ]
  },
  {
   "cell_type": "code",
   "execution_count": 12,
   "metadata": {},
   "outputs": [
    {
     "data": {
      "text/plain": [
       "[4, 3]"
      ]
     },
     "execution_count": 12,
     "metadata": {},
     "output_type": "execute_result"
    }
   ],
   "source": [
    "def findRange(root, l, r):\n",
    "    ans = []\n",
    "    helper(root, l, r, ans)\n",
    "    return ans\n",
    "\n",
    "def helper(root, l, r, ans):\n",
    "    if root is None:\n",
    "        return\n",
    "    if root.data < l: helper(root.right, l, r, ans)\n",
    "    elif root.data > r: helper(root.left, l, r, ans)\n",
    "    else: \n",
    "        ans.append(root.data)\n",
    "        helper(root.right, l, r, ans)\n",
    "        helper(root.left, l, r, ans)\n",
    "\n",
    "findRange(tree.root, 2.5, 4)"
   ]
  },
  {
   "cell_type": "markdown",
   "metadata": {},
   "source": [
    "### Range sum of BST\n",
    "Given the root node of a binary search tree, return the sum of values of all nodes with value between L and R (inclusive).\n",
    "\n",
    "The binary search tree is guaranteed to have unique values.\n",
    "* Input: root = [10,5,15,3,7,null,18], L = 7, R = 15\n",
    "* Output: 32"
   ]
  },
  {
   "cell_type": "code",
   "execution_count": 16,
   "metadata": {},
   "outputs": [
    {
     "data": {
      "text/plain": [
       "15"
      ]
     },
     "execution_count": 16,
     "metadata": {},
     "output_type": "execute_result"
    }
   ],
   "source": [
    " def rangeSumBST(root, L, R):\n",
    "        if root is None:\n",
    "            return 0\n",
    "        if root.data < L:\n",
    "            return rangeSumBST(root.right, L, R)\n",
    "        elif root.data > R:\n",
    "            return rangeSumBST(root.left, L, R)\n",
    "        else:\n",
    "            return root.data + rangeSumBST(root.left, L, R) + rangeSumBST(root.right, L, R)\n",
    "\n",
    "rangeSumBST(tree.root, 1,5)"
   ]
  },
  {
   "cell_type": "markdown",
   "metadata": {},
   "source": [
    "### Maximum Level Sum of a Binary Tree\n",
    "Given the root of a binary tree, the level of its root is 1, the level of its children is 2, and so on.\n",
    "\n",
    "Return the smallest level X such that the sum of all the values of nodes at level X is maximal.\n",
    "\n"
   ]
  },
  {
   "cell_type": "code",
   "execution_count": 3,
   "metadata": {},
   "outputs": [
    {
     "data": {
      "text/plain": [
       "3"
      ]
     },
     "execution_count": 3,
     "metadata": {},
     "output_type": "execute_result"
    }
   ],
   "source": [
    "def maxLevelSum(root):\n",
    "    queue = [root]; level = 1; maxsum = -float('inf'); ans = None\n",
    "    while queue:\n",
    "        size = len(queue)\n",
    "        sum = 0\n",
    "        for i in range(len(queue)):\n",
    "            node = queue.pop(0)\n",
    "            sum += node.data\n",
    "            if node.left:\n",
    "                queue.append(node.left)\n",
    "            if node.right:\n",
    "                queue.append(node.right)\n",
    "        if sum > maxsum:\n",
    "            ans = level\n",
    "            maxsum = sum\n",
    "        level += 1\n",
    "    return ans\n",
    "\n",
    "maxLevelSum(tree.root)"
   ]
  },
  {
   "cell_type": "markdown",
   "metadata": {},
   "source": [
    "### Subtree of Another Tree\n",
    "Given two non-empty binary trees s and t, check whether tree t has exactly the same structure and node values with a subtree of s. A subtree of s is a tree consists of a node in s and all of this node's descendants. The tree s could also be considered as a subtree of itself.\n",
    "\n",
    "Given tree s:\n",
    "\n",
    "         3\n",
    "        / \\\n",
    "       4   5\n",
    "      / \\\n",
    "     1   2\n",
    "\n",
    "Given tree t:\n",
    "\n",
    "                   4 \n",
    "                  / \\\n",
    "                 1   2\n",
    "\n",
    "Return true, because t has the same structure and node values with a subtree of s."
   ]
  },
  {
   "cell_type": "code",
   "execution_count": 3,
   "metadata": {},
   "outputs": [],
   "source": [
    "class Solution:\n",
    "    def isSubtree(self, s, t) -> bool:\n",
    "        return (s is not None) and (self.isSame(s, t) or self.isSubtree(s.left, t) or self.isSubtree(s.right, t))\n",
    "    \n",
    "    def isSame(self, s, t):\n",
    "        if not s and not t:\n",
    "            return True\n",
    "        if not s or not t:\n",
    "            return False\n",
    "        return s.val == t.val and self.isSame(s.left, t.left) and self.isSame(s.right, t.right)"
   ]
  },
  {
   "cell_type": "code",
   "execution_count": 17,
   "metadata": {},
   "outputs": [],
   "source": [
    "class Solution:\n",
    "    def isSubtree(self, s, t) -> bool:\n",
    "        string1 = '-' + self.serialize(s) + '-'\n",
    "        string2 = '-' + self.serialize(t) + '-'\n",
    "        return string2 in string1\n",
    "    \n",
    "    def serialize(self, root):\n",
    "        if not root:\n",
    "            return '#'\n",
    "        left = self.serialize(root.left)\n",
    "        right = self.serialize(root.right)\n",
    "        string = str(root.val) + '-' + left + '-' + right\n",
    "        return string"
   ]
  },
  {
   "cell_type": "markdown",
   "metadata": {},
   "source": [
    "### Check binary tree for completeness\n",
    "In a complete binary tree every level, except possibly the last, is completely filled, and all nodes in the last level are as far left as possible. It can have"
   ]
  },
  {
   "cell_type": "code",
   "execution_count": 3,
   "metadata": {},
   "outputs": [
    {
     "data": {
      "text/plain": [
       "True"
      ]
     },
     "execution_count": 3,
     "metadata": {},
     "output_type": "execute_result"
    }
   ],
   "source": [
    "class Solution:\n",
    "    def isCompleteTree(self, root: Node) -> bool:\n",
    "        queue = [root]\n",
    "        while queue[0] is not None:\n",
    "            node = queue.pop(0)\n",
    "            queue.append(node.left)\n",
    "            queue.append(node.right)\n",
    "        \n",
    "        while len(queue) and queue[0] is None:\n",
    "            queue.pop(0)\n",
    "        \n",
    "        return len(queue) == 0\n",
    "\n",
    "obj = Solution()\n",
    "obj.isCompleteTree(tree.root)"
   ]
  },
  {
   "cell_type": "markdown",
   "metadata": {},
   "source": [
    "### Time Needed to Inform All Employees\n",
    "A company has n employees with a unique ID for each employee from 0 to n - 1. The head of the company has is the one with headID.\n",
    "\n",
    "Each employee has one direct manager given in the manager array where manager[i] is the direct manager of the i-th employee, manager[headID] = -1. Also it's guaranteed that the subordination relationships have a **tree structure**.\n",
    "\n",
    "The head of the company wants to inform all the employees of the company of an urgent piece of news. He will inform his direct subordinates and they will inform their subordinates and so on until all employees know about the urgent news.\n",
    "\n",
    "The i-th employee needs informTime[i] minutes to inform all of his direct subordinates (i.e After informTime[i] minutes, all his direct subordinates can start spreading the news).\n",
    "\n",
    "Return the number of minutes needed to inform all the employees about the urgent news."
   ]
  },
  {
   "cell_type": "code",
   "execution_count": 14,
   "metadata": {},
   "outputs": [
    {
     "data": {
      "text/plain": [
       "3"
      ]
     },
     "execution_count": 14,
     "metadata": {},
     "output_type": "execute_result"
    }
   ],
   "source": [
    "def numOfMinutes(n, headID, manager, informTime) -> int:\n",
    "    import collections\n",
    "    graph = collections.defaultdict(list)\n",
    "    for i, v in enumerate(manager):\n",
    "        if i == headID:\n",
    "            continue\n",
    "        graph[v].append(i)\n",
    "\n",
    "    queue = [(headID, 0)]\n",
    "    ans = 0\n",
    "    while queue:\n",
    "        node, time = queue.pop(0)\n",
    "        ans = max(ans, time)\n",
    "        for child in graph[node]:\n",
    "            queue.append((child, time+informTime[node]))\n",
    "\n",
    "    return ans\n",
    "\n",
    "n = 15; headID = 0; manager = [-1,0,0,1,1,2,2,3,3,4,4,5,5,6,6]; informTime = [1,1,1,1,1,1,1,0,0,0,0,0,0,0,0]\n",
    "numOfMinutes(n, headID, manager, informTime)"
   ]
  },
  {
   "cell_type": "markdown",
   "metadata": {},
   "source": [
    "### Tree Diameter\n",
    "Given an undirected tree, return its diameter: the number of edges in a longest path in that tree.\n",
    "\n",
    "The tree is given as an array of edges where edges[i] = [u, v] is a bidirectional edge between nodes u and v.  Each node has labels in the set {0, 1, ..., edges.length}."
   ]
  },
  {
   "cell_type": "code",
   "execution_count": 3,
   "metadata": {},
   "outputs": [
    {
     "data": {
      "text/plain": [
       "4"
      ]
     },
     "execution_count": 3,
     "metadata": {},
     "output_type": "execute_result"
    }
   ],
   "source": [
    "import collections\n",
    "class Solution:\n",
    "    def treeDiameter(self, edges) -> int:\n",
    "        if not edges: return 0\n",
    "        graph = collections.defaultdict(list)\n",
    "        for x, y in edges:\n",
    "            graph[x].append(y)\n",
    "            graph[y].append(x)\n",
    "        dist, node = self.bfs(0, graph)\n",
    "        return self.bfs(node, graph)[0]\n",
    "    \n",
    "    def bfs(self, root, graph):\n",
    "        level = 0\n",
    "        queue = [root]; visited = {root}\n",
    "        while queue:\n",
    "            size = len(queue)\n",
    "            for _ in range(size):\n",
    "                node = queue.pop(0)\n",
    "                for neigh in graph[node]:\n",
    "                    if neigh not in visited:\n",
    "                        queue.append(neigh)\n",
    "                        visited.add(neigh)\n",
    "            if queue:\n",
    "                level += 1\n",
    "        return level, node\n",
    "\n",
    "edges = [[0,1],[1,2],[2,3],[1,4],[4,5]]\n",
    "Solution().treeDiameter(edges)"
   ]
  },
  {
   "cell_type": "markdown",
   "metadata": {},
   "source": [
    "### Maximum Binary Tree\n",
    "Given an integer array with no duplicates. A maximum tree building on this array is defined as follow:\n",
    "\n",
    "* The root is the maximum number in the array.\n",
    "* The left subtree is the maximum tree constructed from left part subarray divided by the maximum number.\n",
    "* The right subtree is the maximum tree constructed from right part subarray divided by the maximum number.\n",
    "\n",
    "Construct the maximum tree by the given array and output the root node of this tree.\n",
    "\n",
    "**Note** - Can also be solved recursively"
   ]
  },
  {
   "cell_type": "code",
   "execution_count": 8,
   "metadata": {},
   "outputs": [
    {
     "data": {
      "text/plain": [
       "6"
      ]
     },
     "execution_count": 8,
     "metadata": {},
     "output_type": "execute_result"
    }
   ],
   "source": [
    "class TreeNode:\n",
    "    def __init__(self, val):\n",
    "        self.val = val\n",
    "        self.left = None\n",
    "        self.right = None\n",
    "\n",
    "def constructMaximumBinaryTree(nums):\n",
    "    stack = []\n",
    "    for num in nums:\n",
    "        node = TreeNode(num)\n",
    "        last_node = None\n",
    "        if not stack:\n",
    "            stack.append(node)\n",
    "        elif stack[-1].val > num:\n",
    "                stack[-1].right = node\n",
    "                stack.append(node)\n",
    "        else:\n",
    "            while stack and stack[-1].val < num:\n",
    "                last_node = stack.pop()\n",
    "\n",
    "            node.left = last_node\n",
    "            if stack:\n",
    "                stack[-1].right = node\n",
    "            stack.append(node)\n",
    "\n",
    "    return stack[0]\n",
    "\n",
    "nums = [3,2,1,6,0,5]\n",
    "constructMaximumBinaryTree(nums).val"
   ]
  },
  {
   "cell_type": "markdown",
   "metadata": {},
   "source": [
    "### Maximum Binary Tree II\n",
    "You are already given a maximum binary tree that is created from a certain array. Now a new value is appended to the original array. Return the updated tree."
   ]
  },
  {
   "cell_type": "code",
   "execution_count": 14,
   "metadata": {},
   "outputs": [],
   "source": [
    "class TreeNode:\n",
    "    def __init__(self, val):\n",
    "        self.val = val\n",
    "        self.left = None\n",
    "        self.right = None\n",
    "        \n",
    "def insertIntoMaxTree(root: TreeNode, val: int) -> TreeNode:\n",
    "    if not root:\n",
    "        return TreeNode(val)\n",
    "\n",
    "    if val > root.val:\n",
    "        node = TreeNode(val)\n",
    "        node.left = root\n",
    "        return node\n",
    "\n",
    "    if val < root.val:\n",
    "        root.right = self.insertIntoMaxTree(root.right, val)\n",
    "        return root"
   ]
  }
 ],
 "metadata": {
  "kernelspec": {
   "display_name": "Python 3",
   "language": "python",
   "name": "python3"
  },
  "language_info": {
   "codemirror_mode": {
    "name": "ipython",
    "version": 3
   },
   "file_extension": ".py",
   "mimetype": "text/x-python",
   "name": "python",
   "nbconvert_exporter": "python",
   "pygments_lexer": "ipython3",
   "version": "3.6.8"
  }
 },
 "nbformat": 4,
 "nbformat_minor": 2
}
