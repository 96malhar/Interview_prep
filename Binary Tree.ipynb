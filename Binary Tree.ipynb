{
 "cells": [
  {
   "cell_type": "markdown",
   "metadata": {},
   "source": [
    "## Implementation"
   ]
  },
  {
   "cell_type": "markdown",
   "metadata": {},
   "source": [
    "                     4\n",
    "                    /  \\\n",
    "                   2    6\n",
    "                  / \\   / \\\n",
    "                 1   3 5   7"
   ]
  },
  {
   "cell_type": "code",
   "execution_count": 2,
   "metadata": {},
   "outputs": [],
   "source": [
    "class Node:\n",
    "    def __init__(self, data):\n",
    "        self.data = data\n",
    "        self.left = None\n",
    "        self.right = None\n",
    "class BinaryTree:\n",
    "    def __init__(self,root):\n",
    "        self.root = root\n",
    "        \n",
    "node1 = Node(1)\n",
    "node2 = Node(2)\n",
    "node3 = Node(3)\n",
    "node4 = Node(4)\n",
    "node5 = Node(5)\n",
    "node6 = Node(6)\n",
    "node7 = Node(7)\n",
    "\n",
    "node4.left, node4.right = node2, node6\n",
    "node2.left, node2.right = node1, node3\n",
    "node6.left, node6.right = node5, node7\n",
    "\n",
    "tree = BinaryTree(node4)"
   ]
  },
  {
   "cell_type": "markdown",
   "metadata": {},
   "source": [
    "## Traversal"
   ]
  },
  {
   "cell_type": "markdown",
   "metadata": {},
   "source": [
    "### Inorder Traversal"
   ]
  },
  {
   "cell_type": "code",
   "execution_count": 10,
   "metadata": {},
   "outputs": [
    {
     "name": "stdout",
     "output_type": "stream",
     "text": [
      "1 2 3 4 5 6 7 "
     ]
    }
   ],
   "source": [
    "def inorder_visit(node):\n",
    "    if node is None:\n",
    "        return\n",
    "    inorder_visit(node.left)\n",
    "    print(node.data, end = ' ')\n",
    "    inorder_visit(node.right)\n",
    "\n",
    "inorder_visit(tree.root)"
   ]
  },
  {
   "cell_type": "code",
   "execution_count": 11,
   "metadata": {},
   "outputs": [
    {
     "name": "stdout",
     "output_type": "stream",
     "text": [
      "1 2 3 4 5 6 7 "
     ]
    }
   ],
   "source": [
    "# Iterative\n",
    "def inorder_visit(node):\n",
    "    stack = []; result = []\n",
    "    while node or stack:\n",
    "        if node:\n",
    "            stack.append(node)\n",
    "            node = node.left\n",
    "        else:\n",
    "            node = stack.pop()\n",
    "            print(node.data, end=' ')\n",
    "            node = node.right\n",
    "inorder_visit(tree.root)"
   ]
  },
  {
   "cell_type": "code",
   "execution_count": 5,
   "metadata": {},
   "outputs": [
    {
     "name": "stdout",
     "output_type": "stream",
     "text": [
      "7 6 5 4 3 2 1 "
     ]
    }
   ],
   "source": [
    "def reverse_inorder(node):\n",
    "    stack = []; result = []\n",
    "    while node or stack:\n",
    "        if node:\n",
    "            stack.append(node)\n",
    "            node = node.right\n",
    "        else:\n",
    "            node = stack.pop()\n",
    "            print(node.data, end=' ')\n",
    "            node = node.left\n",
    "reverse_inorder(tree.root)"
   ]
  },
  {
   "cell_type": "markdown",
   "metadata": {},
   "source": [
    "### Preorder Traversal"
   ]
  },
  {
   "cell_type": "code",
   "execution_count": 12,
   "metadata": {},
   "outputs": [
    {
     "name": "stdout",
     "output_type": "stream",
     "text": [
      "4 2 1 3 6 5 7 "
     ]
    }
   ],
   "source": [
    "def preorder_visit(node):\n",
    "    if node is None:\n",
    "        return\n",
    "    print(node.data, end = ' ')\n",
    "    preorder_visit(node.left)\n",
    "    preorder_visit(node.right)\n",
    "\n",
    "preorder_visit(tree.root)"
   ]
  },
  {
   "cell_type": "code",
   "execution_count": 6,
   "metadata": {},
   "outputs": [
    {
     "name": "stdout",
     "output_type": "stream",
     "text": [
      "4 2 1 3 6 5 7 "
     ]
    }
   ],
   "source": [
    "# Iterative version\n",
    "def preorder(node):\n",
    "    stack = [] \n",
    "    if node: stack.append(node)\n",
    "    while stack:\n",
    "        node = stack.pop()\n",
    "        print(node.data, end = ' ')\n",
    "        if node.right: stack.append(node.right)\n",
    "        if node.left: stack.append(node.left)\n",
    "preorder(tree.root)"
   ]
  },
  {
   "cell_type": "markdown",
   "metadata": {},
   "source": [
    "### Postorder Traversal"
   ]
  },
  {
   "cell_type": "code",
   "execution_count": 7,
   "metadata": {},
   "outputs": [
    {
     "name": "stdout",
     "output_type": "stream",
     "text": [
      "1 3 2 5 7 6 4 "
     ]
    }
   ],
   "source": [
    "def postorder_visit(node):\n",
    "    if node is None:\n",
    "        return\n",
    "    postorder_visit(node.left)\n",
    "    postorder_visit(node.right)\n",
    "    print(node.data, end = ' ')\n",
    "\n",
    "postorder_visit(tree.root)"
   ]
  },
  {
   "cell_type": "markdown",
   "metadata": {},
   "source": [
    "###  Binary Tree Level Order Traversal\n",
    "\n",
    "          3\n",
    "         / \\\n",
    "        9   20\n",
    "       /     \\\n",
    "      15      7\n",
    "[\n",
    "  [3],\n",
    "  [9,20],\n",
    "  [15,7]\n",
    "]"
   ]
  },
  {
   "cell_type": "code",
   "execution_count": 3,
   "metadata": {},
   "outputs": [
    {
     "data": {
      "text/plain": [
       "[[4], [2, 6], [1, 3, 5, 7]]"
      ]
     },
     "execution_count": 3,
     "metadata": {},
     "output_type": "execute_result"
    }
   ],
   "source": [
    "def levelOrder(root):\n",
    "    if root is None:\n",
    "        return []\n",
    "    queue = [root]; result = []\n",
    "    while queue:\n",
    "        length = len(queue)\n",
    "        curr_level = []\n",
    "        for i in range(length):\n",
    "            node = queue.pop(0)\n",
    "            curr_level.append(node.data)\n",
    "            if node.left:\n",
    "                queue.append(node.left)    \n",
    "            if node.right:\n",
    "                queue.append(node.right)\n",
    "        result.append(curr_level)\n",
    "\n",
    "    return result\n",
    "\n",
    "levelOrder(tree.root)"
   ]
  },
  {
   "cell_type": "markdown",
   "metadata": {},
   "source": [
    "### Zig-Zag level order traversal\n",
    "        3\n",
    "       / \\\n",
    "      9  20\n",
    "        /  \\\n",
    "       15   7\n",
    "       \n",
    "return its zigzag level order traversal as:\n",
    "[\n",
    "  [3],\n",
    "  [20,9],\n",
    "  [15,7]\n",
    "]"
   ]
  },
  {
   "cell_type": "code",
   "execution_count": 7,
   "metadata": {},
   "outputs": [
    {
     "data": {
      "text/plain": [
       "[[4], [6, 2], [1, 3, 5, 7]]"
      ]
     },
     "execution_count": 7,
     "metadata": {},
     "output_type": "execute_result"
    }
   ],
   "source": [
    "def zigzagLevelOrder(root):\n",
    "    if not root:\n",
    "        return []\n",
    "    from collections import deque\n",
    "    queue = deque(); queue.append(root); result = []; left_to_right = True\n",
    "    while queue:\n",
    "        size = len(queue)\n",
    "        curr_level = deque()\n",
    "        for _ in range(size):\n",
    "            node = queue.popleft()\n",
    "            if left_to_right:\n",
    "                curr_level.append(node.data)\n",
    "            else:\n",
    "                curr_level.appendleft(node.data)\n",
    "            if node.left: queue.append(node.left)\n",
    "            if node.right: queue.append(node.right)\n",
    "        result.append(list(curr_level))\n",
    "        left_to_right = not left_to_right\n",
    "\n",
    "    return result\n",
    "\n",
    "zigzagLevelOrder(tree.root)"
   ]
  },
  {
   "cell_type": "markdown",
   "metadata": {},
   "source": [
    "### Average of Levels in Binary Tree\n",
    " \n",
    "     3\n",
    "    / \\\n",
    "    9  20\n",
    "    /  \\\n",
    "    15   7\n",
    "Output: [3, 14.5, 11]"
   ]
  },
  {
   "cell_type": "code",
   "execution_count": 11,
   "metadata": {},
   "outputs": [
    {
     "data": {
      "text/plain": [
       "[4.0, 4.0, 4.0]"
      ]
     },
     "execution_count": 11,
     "metadata": {},
     "output_type": "execute_result"
    }
   ],
   "source": [
    "def averageOfLevels(root):\n",
    "    queue = [root]; ans = []\n",
    "    while queue:\n",
    "        length = len(queue)\n",
    "        sum = 0\n",
    "        for i in range(length):\n",
    "            node = queue.pop(0)\n",
    "            sum += node.data\n",
    "            if node.left: queue.append(node.left)\n",
    "            if node.right: queue.append(node.right)\n",
    "        ans.append(sum/length)\n",
    "    return ans\n",
    "\n",
    "averageOfLevels(tree.root)"
   ]
  },
  {
   "cell_type": "markdown",
   "metadata": {},
   "source": [
    "### Find the height of a binary tree using BFS"
   ]
  },
  {
   "cell_type": "code",
   "execution_count": 12,
   "metadata": {},
   "outputs": [
    {
     "data": {
      "text/plain": [
       "2"
      ]
     },
     "execution_count": 12,
     "metadata": {},
     "output_type": "execute_result"
    }
   ],
   "source": [
    "def maxDepth(root):\n",
    "    if root is None:\n",
    "        return -1\n",
    "    queue = [root]; level = -1\n",
    "    while queue:\n",
    "        size = len(queue)\n",
    "        for i in range(size):\n",
    "            node = queue.pop(0)\n",
    "            if node.left: queue.append(node.left)\n",
    "            if node.right: queue.append(node.right)\n",
    "        level += 1\n",
    "    return level\n",
    "maxDepth(tree.root)"
   ]
  },
  {
   "cell_type": "markdown",
   "metadata": {},
   "source": [
    "### Distance of a node from root node"
   ]
  },
  {
   "cell_type": "code",
   "execution_count": 20,
   "metadata": {},
   "outputs": [
    {
     "data": {
      "text/plain": [
       "2"
      ]
     },
     "execution_count": 20,
     "metadata": {},
     "output_type": "execute_result"
    }
   ],
   "source": [
    "def distFromRoot(root, val):\n",
    "    if root is None:\n",
    "        return\n",
    "    queue = [root]; level = -1\n",
    "    while queue:\n",
    "        size = len(queue)\n",
    "        for i in range(size):\n",
    "            node = queue.pop(0)\n",
    "            if node.data == val:\n",
    "                return level+1\n",
    "            if node.left: queue.append(node.left)\n",
    "            if node.right: queue.append(node.right)\n",
    "        level += 1\n",
    "    return -1\n",
    "distFromRoot(tree.root, 3)"
   ]
  },
  {
   "cell_type": "markdown",
   "metadata": {},
   "source": [
    "### Find Minimum Depth of a Binary Tree using BFS\n",
    "given a binary tree, find its minimum depth.\n",
    "The minimum depth is the number of nodes along the shortest path from the root node down to the nearest leaf node.\n",
    "* Note: A leaf is a node with no children.\n",
    "\n",
    "Example:\n",
    "Given binary tree [3,9,20,null,null,15,7],\n",
    "\n",
    "        3\n",
    "       / \\\n",
    "      9  20\n",
    "        /  \\\n",
    "       15   7\n",
    "minimum Depth = 2"
   ]
  },
  {
   "cell_type": "code",
   "execution_count": 12,
   "metadata": {},
   "outputs": [
    {
     "data": {
      "text/plain": [
       "3"
      ]
     },
     "execution_count": 12,
     "metadata": {},
     "output_type": "execute_result"
    }
   ],
   "source": [
    "def minDepth(root):\n",
    "    if root is None:\n",
    "        return 0\n",
    "    queue = [root]; level = 0\n",
    "    while queue:\n",
    "        size = len(queue)\n",
    "        level += 1\n",
    "        for i in range(size):\n",
    "            node = queue.pop(0)\n",
    "            if not node.left and not node.right:\n",
    "                return level\n",
    "            if node.left: queue.append(node.left)\n",
    "            if node.right: queue.append(node.right)\n",
    "minDepth(tree.root)"
   ]
  },
  {
   "cell_type": "markdown",
   "metadata": {},
   "source": [
    "### Level Order Successor"
   ]
  },
  {
   "cell_type": "code",
   "execution_count": 19,
   "metadata": {},
   "outputs": [
    {
     "data": {
      "text/plain": [
       "2"
      ]
     },
     "execution_count": 19,
     "metadata": {},
     "output_type": "execute_result"
    }
   ],
   "source": [
    "def levelOrderSuccessor(root, key):\n",
    "    if not root: return None\n",
    "    queue = [root]\n",
    "    while queue:\n",
    "        node = queue.pop(0)\n",
    "        if node.left: queue.append(node.left)\n",
    "        if node.right: queue.append(node.right)\n",
    "        if node.data == key:\n",
    "            return queue[0].data if queue else None\n",
    "\n",
    "levelOrderSuccessor(tree.root, 4)         "
   ]
  },
  {
   "cell_type": "markdown",
   "metadata": {},
   "source": [
    "### Populating Next Right Pointer I and II\n",
    "Given a binary tree, connect each node with its level order successor. The last node of each level should point to a null node."
   ]
  },
  {
   "cell_type": "code",
   "execution_count": null,
   "metadata": {},
   "outputs": [],
   "source": [
    "class Node:\n",
    "    def __init__(self, val, left, right, next):\n",
    "        self.val = val\n",
    "        self.left = left\n",
    "        self.right = right\n",
    "        self.next = next\n",
    "        \n",
    "class Solution:\n",
    "    def connect(self, root: 'Node') -> 'Node':\n",
    "        if not root:\n",
    "            return root\n",
    "        queue = [root]\n",
    "        while queue:\n",
    "            size = len(queue)\n",
    "            for i in range(size):\n",
    "                node = queue.pop(0)\n",
    "                if i == size-1:\n",
    "                    node.next = None\n",
    "                else:\n",
    "                    node.next = queue[0]\n",
    "                if node.left: queue.append(node.left)\n",
    "                if node.right: queue.append(node.right)\n",
    "        return root"
   ]
  },
  {
   "cell_type": "markdown",
   "metadata": {},
   "source": [
    "### Binary Tree Right side View\n",
    "       1            <---\n",
    "     /   \\\n",
    "    2     3         <---\n",
    "     \\     \\\n",
    "      5     4       <---\n",
    "output = [1,3,4]"
   ]
  },
  {
   "cell_type": "code",
   "execution_count": 21,
   "metadata": {},
   "outputs": [
    {
     "data": {
      "text/plain": [
       "[4, 6, 7]"
      ]
     },
     "execution_count": 21,
     "metadata": {},
     "output_type": "execute_result"
    }
   ],
   "source": [
    "class Solution:\n",
    "    def rightSideView(self, root):\n",
    "        if not root:\n",
    "            return []\n",
    "        queue = [root]; ans = []\n",
    "        while queue:\n",
    "            size = len(queue)\n",
    "            for i in range(size):\n",
    "                node = queue.pop(0)\n",
    "                if i == size-1:\n",
    "                    ans.append(node.data)\n",
    "                if node.left:\n",
    "                    queue.append(node.left)\n",
    "                if node.right:\n",
    "                    queue.append(node.right)\n",
    "        return ans\n",
    "obj = Solution()\n",
    "obj.rightSideView(tree.root)"
   ]
  },
  {
   "cell_type": "markdown",
   "metadata": {},
   "source": [
    "## Top to Bottom\n",
    "In the Top to Bottom Approach, we evaluate the result for the current node, and then pass it on to left and right nodes to evaluate for themselves. There is usually a variable(s) that holds the result. We pass the variable(s) down to the children nodes to update. After the entire tree is traversed, the variable will hold the result. "
   ]
  },
  {
   "cell_type": "markdown",
   "metadata": {},
   "source": [
    "### Find the height of a binary tree."
   ]
  },
  {
   "cell_type": "code",
   "execution_count": 26,
   "metadata": {},
   "outputs": [
    {
     "data": {
      "text/plain": [
       "2"
      ]
     },
     "execution_count": 26,
     "metadata": {},
     "output_type": "execute_result"
    }
   ],
   "source": [
    "class Solution:\n",
    "    def maxDepth(self, root):\n",
    "        self.height = -1\n",
    "        self.helper(root, -1)\n",
    "        return self.height\n",
    "        \n",
    "    def helper(self, node, prevDepth):\n",
    "        if node is None:\n",
    "            return\n",
    "        currDepth = prevDepth + 1\n",
    "        self.height = max(self.height, currDepth)\n",
    "        self.helper(node.left, currDepth)\n",
    "        self.helper(node.right, currDepth)\n",
    "sol = Solution()\n",
    "sol.maxDepth(tree.root)"
   ]
  },
  {
   "cell_type": "markdown",
   "metadata": {},
   "source": [
    "### Binary Tree Paths\n",
    "Given a binary tree, return all root-to-leaf paths.\n",
    "\n",
    "Note: A leaf is a node with no children."
   ]
  },
  {
   "cell_type": "code",
   "execution_count": 30,
   "metadata": {},
   "outputs": [
    {
     "data": {
      "text/plain": [
       "['4->2->1', '4->2->3', '4->6->5', '4->6->7']"
      ]
     },
     "execution_count": 30,
     "metadata": {},
     "output_type": "execute_result"
    }
   ],
   "source": [
    "class Solution:\n",
    "    def binaryTreePaths(self, root):\n",
    "        self.result = []\n",
    "        self.helper(root, '')\n",
    "        return self.result\n",
    "    \n",
    "    def helper(self, node, path):\n",
    "        if node is None:\n",
    "            return\n",
    "        \n",
    "        if node.left is None and node.right is None:\n",
    "            path += str(node.data)\n",
    "            self.result.append(path)\n",
    "            return\n",
    "        \n",
    "        path += str(node.data) + '->'\n",
    "        self.helper(node.left, path)\n",
    "        self.helper(node.right, path)\n",
    "    \n",
    "sol = Solution()\n",
    "sol.binaryTreePaths(tree.root)"
   ]
  },
  {
   "cell_type": "markdown",
   "metadata": {},
   "source": [
    "## Bottom To Top\n",
    "In the Bottom to Top Approach, we solve the problem for the left and right subtrees. We then take the two results and solve it for the entire tree.\n",
    "\n",
    "This approach is used more often than the Top to Bottom Approach."
   ]
  },
  {
   "cell_type": "markdown",
   "metadata": {},
   "source": [
    "### Find Height of Binary Tree\n"
   ]
  },
  {
   "cell_type": "code",
   "execution_count": 9,
   "metadata": {},
   "outputs": [
    {
     "data": {
      "text/plain": [
       "2"
      ]
     },
     "execution_count": 9,
     "metadata": {},
     "output_type": "execute_result"
    }
   ],
   "source": [
    "def getHeight(root):\n",
    "    if root is None:\n",
    "        return -1\n",
    "    return 1 + max(getHeight(root.left), getHeight(root.right))\n",
    "\n",
    "getHeight(tree.root)    "
   ]
  },
  {
   "cell_type": "markdown",
   "metadata": {},
   "source": [
    "### Balanced Binary Tree\n",
    "Given a binary tree, determine if it is height-balanced.\n",
    "\n",
    "For this problem, a height-balanced binary tree is defined as:\n",
    "\n",
    "a binary tree in which the depth of the two subtrees of every node never differ by more than 1."
   ]
  },
  {
   "cell_type": "code",
   "execution_count": 13,
   "metadata": {},
   "outputs": [
    {
     "data": {
      "text/plain": [
       "True"
      ]
     },
     "execution_count": 13,
     "metadata": {},
     "output_type": "execute_result"
    }
   ],
   "source": [
    "def isBalanced(root):\n",
    "    if not root:\n",
    "        return True\n",
    "    return helper(root)!=-1\n",
    "    \n",
    "def helper(root):\n",
    "    if root is None:\n",
    "        return 0\n",
    "    left = helper(root.left); right = helper(root.right)\n",
    "    if left == -1 or right == -1 or abs(left-right)>1:\n",
    "        return -1\n",
    "    return 1 + max(left, right)\n",
    "\n",
    "isBalanced(tree.root)"
   ]
  },
  {
   "cell_type": "markdown",
   "metadata": {},
   "source": [
    "### Diameter of Binary Tree\n",
    "Given a binary tree, you need to compute the length of the diameter of the tree. The diameter of a binary tree is the length of the longest path between any two nodes in a tree. This path may or may not pass through the root.\n",
    "\n",
    "Example:\n",
    "Given a binary tree \n",
    "\n",
    "                      1\n",
    "                     / \\\n",
    "                    2   3\n",
    "                   / \\     \n",
    "                  4   5    \n",
    "Return 3, which is the length of the path [4,2,1,3] or [5,2,1,3].\n",
    "\n",
    "Note: The length of path between two nodes is represented by the number of edges between them."
   ]
  },
  {
   "cell_type": "code",
   "execution_count": 15,
   "metadata": {},
   "outputs": [
    {
     "data": {
      "text/plain": [
       "4"
      ]
     },
     "execution_count": 15,
     "metadata": {},
     "output_type": "execute_result"
    }
   ],
   "source": [
    "class Solution:\n",
    "    def diameterOfBinaryTree(self, root):\n",
    "        self.diameter = 0\n",
    "        self.helper(root)\n",
    "        return self.diameter\n",
    "    \n",
    "    def helper(self, root):\n",
    "        if root is None:\n",
    "            return 0\n",
    "        left = self.helper(root.left); right = self.helper(root.right)\n",
    "        self.diameter = max(self.diameter, left+right)\n",
    "        return 1 + max(left, right)\n",
    "    \n",
    "sol = Solution()\n",
    "sol.diameterOfBinaryTree(tree.root)"
   ]
  },
  {
   "cell_type": "markdown",
   "metadata": {},
   "source": [
    "## Lowest Common Ancestor"
   ]
  },
  {
   "cell_type": "code",
   "execution_count": 21,
   "metadata": {},
   "outputs": [
    {
     "data": {
      "text/plain": [
       "4"
      ]
     },
     "execution_count": 21,
     "metadata": {},
     "output_type": "execute_result"
    }
   ],
   "source": [
    " def lowestCommonAncestor(root, p, q):\n",
    "    if root is None:\n",
    "        return None\n",
    "    if root == p or root == q:\n",
    "        return root\n",
    "    leftLCA = lowestCommonAncestor(root.left, p, q)\n",
    "    rightLCA = lowestCommonAncestor(root.right, p, q)\n",
    "    if leftLCA and rightLCA:\n",
    "        return root\n",
    "    return leftLCA if leftLCA else rightLCA\n",
    "\n",
    "lowestCommonAncestor(tree.root, node3, node6).data"
   ]
  },
  {
   "cell_type": "markdown",
   "metadata": {},
   "source": [
    "## Reconstruction"
   ]
  },
  {
   "cell_type": "markdown",
   "metadata": {},
   "source": [
    "### Given preorder and inorder traversal of a tree, construct the binary tree.\n",
    "\n",
    "Note:\n",
    "You may assume that duplicates do not exist in the tree.\n",
    "\n",
    "For example, given\n",
    "\n",
    "* preorder = [3,9,20,15,7]\n",
    "* inorder = [9,3,15,20,7]\n",
    "Return the following binary tree:\n",
    "\n",
    "        3\n",
    "       / \\\n",
    "      9  20\n",
    "        /  \\\n",
    "       15   7"
   ]
  },
  {
   "cell_type": "code",
   "execution_count": 1,
   "metadata": {},
   "outputs": [],
   "source": [
    "class TreeNode:\n",
    "    def __init__(self, x):\n",
    "        self.val = x\n",
    "        self.left = None\n",
    "        self.right = None\n",
    "\n",
    "class Solution:\n",
    "    def buildTree(self, preorder, inorder):\n",
    "        self.hashmap = {v:i for i,v in enumerate(inorder)}\n",
    "        return self.construct(preorder, 0, len(preorder)-1, inorder, 0, len(inorder)-1)\n",
    "    \n",
    "    def construct(self, preorder, preStart, preEnd, inorder, inStart, inEnd):\n",
    "        if preStart > preEnd or inStart > inEnd:\n",
    "            return\n",
    "        \n",
    "        root_val = preorder[preStart]\n",
    "        k = self.hashmap[root_val]\n",
    "        root = TreeNode(root_val)\n",
    "        root.left = self.construct(preorder, preStart+1, preStart+(k-inStart), inorder, inStart, k-1)\n",
    "        root.right = self.construct(preorder, preStart+(k-inStart)+1, preEnd, inorder, k+1, inEnd)\n",
    "        return root"
   ]
  },
  {
   "cell_type": "code",
   "execution_count": 4,
   "metadata": {},
   "outputs": [
    {
     "data": {
      "text/plain": [
       "3"
      ]
     },
     "execution_count": 4,
     "metadata": {},
     "output_type": "execute_result"
    }
   ],
   "source": [
    "preorder = [3,9,20,15,7]; inorder = [9,3,15,20,7]\n",
    "sol = Solution()\n",
    "sol.buildTree(preorder, inorder).val"
   ]
  },
  {
   "cell_type": "markdown",
   "metadata": {},
   "source": [
    "### Construct Binary Tree from Inorder and Postorder Traversal\n",
    "Given inorder and postorder traversal of a tree, construct the binary tree.\n",
    "\n",
    "Note:\n",
    "You may assume that duplicates do not exist in the tree.\n",
    "\n",
    "For example, given\n",
    "\n",
    "* inorder = [9,3,15,20,7]\n",
    "* postorder = [9,15,7,20,3]\n",
    "Return the following binary tree:\n",
    "\n",
    "        3\n",
    "       / \\\n",
    "      9  20\n",
    "        /  \\\n",
    "       15   7"
   ]
  },
  {
   "cell_type": "code",
   "execution_count": 3,
   "metadata": {},
   "outputs": [],
   "source": [
    "class TreeNode:\n",
    "    def __init__(self, x):\n",
    "        self.val = x\n",
    "        self.left = None\n",
    "        self.right = None\n",
    "\n",
    "class Solution:\n",
    "    def buildTree(self, inorder, postorder):\n",
    "        self.hashmap = {v:i for i,v in enumerate(inorder)}\n",
    "        return self.construct(inorder, 0, len(inorder)-1, postorder, 0, len(postorder)-1)\n",
    "    \n",
    "    def construct(self, inorder, inStart, inEnd, postorder, postStart, postEnd):\n",
    "        if inStart>inEnd or postStart > postEnd:\n",
    "            return\n",
    "        \n",
    "        root_val = postorder[postEnd]\n",
    "        k = self.hashmap[root_val]\n",
    "        root = TreeNode(root_val)\n",
    "        root.right = self.construct(inorder, k+1, inEnd, postorder, postEnd+(k-inEnd), postEnd-1)\n",
    "        root.left = self.construct(inorder, 0, k-1, postorder, postStart, postEnd+(k-inEnd)-1)\n",
    "        return root"
   ]
  },
  {
   "cell_type": "code",
   "execution_count": 17,
   "metadata": {},
   "outputs": [
    {
     "data": {
      "text/plain": [
       "3"
      ]
     },
     "execution_count": 17,
     "metadata": {},
     "output_type": "execute_result"
    }
   ],
   "source": [
    "inorder = [9,3,15,20,7]; postorder = [9,15,7,20,3]\n",
    "sol = Solution()\n",
    "sol.buildTree(inorder, postorder).val"
   ]
  },
  {
   "cell_type": "markdown",
   "metadata": {},
   "source": [
    "### Return the root of the subtree whose sum is equal to given target (including the root value)"
   ]
  },
  {
   "cell_type": "code",
   "execution_count": 5,
   "metadata": {},
   "outputs": [
    {
     "data": {
      "text/plain": [
       "2"
      ]
     },
     "execution_count": 5,
     "metadata": {},
     "output_type": "execute_result"
    }
   ],
   "source": [
    "class Solution:\n",
    "    \n",
    "    def findSubTree(self, root, target):\n",
    "        self.ans = None\n",
    "        self.helper(root, target)\n",
    "        return self.ans\n",
    "    \n",
    "    def helper(self, node, target):\n",
    "        if node is None:\n",
    "            return 0\n",
    "        val = node.data + self.helper(node.left, target) + self.helper(node.right, target)\n",
    "        if val == target:\n",
    "            self.ans = node\n",
    "        return val\n",
    "    \n",
    "obj = Solution()\n",
    "obj.findSubTree(tree.root, 6).data"
   ]
  },
  {
   "cell_type": "markdown",
   "metadata": {},
   "source": [
    "### Print nodes in a given Range\n",
    "Given the root node of a binary search tree, return the values of all nodes with value between L and R (inclusive)."
   ]
  },
  {
   "cell_type": "code",
   "execution_count": 12,
   "metadata": {},
   "outputs": [
    {
     "data": {
      "text/plain": [
       "[4, 3]"
      ]
     },
     "execution_count": 12,
     "metadata": {},
     "output_type": "execute_result"
    }
   ],
   "source": [
    "def findRange(root, l, r):\n",
    "    ans = []\n",
    "    helper(root, l, r, ans)\n",
    "    return ans\n",
    "\n",
    "def helper(root, l, r, ans):\n",
    "    if root is None:\n",
    "        return\n",
    "    if root.data < l: helper(root.right, l, r, ans)\n",
    "    elif root.data > r: helper(root.left, l, r, ans)\n",
    "    else: \n",
    "        ans.append(root.data)\n",
    "        helper(root.right, l, r, ans)\n",
    "        helper(root.left, l, r, ans)\n",
    "\n",
    "findRange(tree.root, 2.5, 4)"
   ]
  },
  {
   "cell_type": "markdown",
   "metadata": {},
   "source": [
    "### Range sum of BST\n",
    "Given the root node of a binary search tree, return the sum of values of all nodes with value between L and R (inclusive).\n",
    "\n",
    "The binary search tree is guaranteed to have unique values.\n",
    "* Input: root = [10,5,15,3,7,null,18], L = 7, R = 15\n",
    "* Output: 32"
   ]
  },
  {
   "cell_type": "code",
   "execution_count": 16,
   "metadata": {},
   "outputs": [
    {
     "data": {
      "text/plain": [
       "15"
      ]
     },
     "execution_count": 16,
     "metadata": {},
     "output_type": "execute_result"
    }
   ],
   "source": [
    " def rangeSumBST(root, L, R):\n",
    "        if root is None:\n",
    "            return 0\n",
    "        if root.data < L:\n",
    "            return rangeSumBST(root.right, L, R)\n",
    "        elif root.data > R:\n",
    "            return rangeSumBST(root.left, L, R)\n",
    "        else:\n",
    "            return root.data + rangeSumBST(root.left, L, R) + rangeSumBST(root.right, L, R)\n",
    "\n",
    "rangeSumBST(tree.root, 1,5)"
   ]
  },
  {
   "cell_type": "markdown",
   "metadata": {},
   "source": [
    "### Maximum Level Sum of a Binary Tree\n",
    "Given the root of a binary tree, the level of its root is 1, the level of its children is 2, and so on.\n",
    "\n",
    "Return the smallest level X such that the sum of all the values of nodes at level X is maximal.\n",
    "\n"
   ]
  },
  {
   "cell_type": "code",
   "execution_count": 3,
   "metadata": {},
   "outputs": [
    {
     "data": {
      "text/plain": [
       "3"
      ]
     },
     "execution_count": 3,
     "metadata": {},
     "output_type": "execute_result"
    }
   ],
   "source": [
    "def maxLevelSum(root):\n",
    "    queue = [root]; level = 1; maxsum = -float('inf'); ans = None\n",
    "    while queue:\n",
    "        size = len(queue)\n",
    "        sum = 0\n",
    "        for i in range(len(queue)):\n",
    "            node = queue.pop(0)\n",
    "            sum += node.data\n",
    "            if node.left:\n",
    "                queue.append(node.left)\n",
    "            if node.right:\n",
    "                queue.append(node.right)\n",
    "        if sum > maxsum:\n",
    "            ans = level\n",
    "            maxsum = sum\n",
    "        level += 1\n",
    "    return ans\n",
    "\n",
    "maxLevelSum(tree.root)"
   ]
  },
  {
   "cell_type": "markdown",
   "metadata": {},
   "source": [
    "### Subtree of Another Tree\n",
    "Given two non-empty binary trees s and t, check whether tree t has exactly the same structure and node values with a subtree of s. A subtree of s is a tree consists of a node in s and all of this node's descendants. The tree s could also be considered as a subtree of itself.\n",
    "\n",
    "Given tree s:\n",
    "\n",
    "         3\n",
    "        / \\\n",
    "       4   5\n",
    "      / \\\n",
    "     1   2\n",
    "\n",
    "Given tree t:\n",
    "\n",
    "                   4 \n",
    "                  / \\\n",
    "                 1   2\n",
    "\n",
    "Return true, because t has the same structure and node values with a subtree of s."
   ]
  },
  {
   "cell_type": "code",
   "execution_count": 2,
   "metadata": {},
   "outputs": [],
   "source": [
    "class Solution:\n",
    "    def isSubtree(self, s, t) -> bool:\n",
    "        return self.traverse(s,t)\n",
    "    \n",
    "    def traverse(self, s, t):\n",
    "        return s is not None and (self.equals(s, t) or self.traverse(s.left, t) or self.traverse(s.right, t))\n",
    "    \n",
    "    def equals(self, s, t):\n",
    "        if not s and not t:\n",
    "            return True\n",
    "        if not s or not t:\n",
    "            return False\n",
    "        if s.val!=t.val:\n",
    "            return False\n",
    "        return self.equals(s.left, t.left) and self.equals(s.right, t.right)"
   ]
  },
  {
   "cell_type": "markdown",
   "metadata": {},
   "source": [
    "### Check binary tree for completeness\n",
    "In a complete binary tree every level, except possibly the last, is completely filled, and all nodes in the last level are as far left as possible. It can have"
   ]
  },
  {
   "cell_type": "code",
   "execution_count": 3,
   "metadata": {},
   "outputs": [
    {
     "data": {
      "text/plain": [
       "True"
      ]
     },
     "execution_count": 3,
     "metadata": {},
     "output_type": "execute_result"
    }
   ],
   "source": [
    "class Solution:\n",
    "    def isCompleteTree(self, root: Node) -> bool:\n",
    "        queue = [root]\n",
    "        while queue[0] is not None:\n",
    "            node = queue.pop(0)\n",
    "            queue.append(node.left)\n",
    "            queue.append(node.right)\n",
    "        \n",
    "        while len(queue) and queue[0] is None:\n",
    "            queue.pop(0)\n",
    "        \n",
    "        return len(queue) == 0\n",
    "\n",
    "obj = Solution()\n",
    "obj.isCompleteTree(tree.root)"
   ]
  }
 ],
 "metadata": {
  "kernelspec": {
   "display_name": "Python 3",
   "language": "python",
   "name": "python3"
  },
  "language_info": {
   "codemirror_mode": {
    "name": "ipython",
    "version": 3
   },
   "file_extension": ".py",
   "mimetype": "text/x-python",
   "name": "python",
   "nbconvert_exporter": "python",
   "pygments_lexer": "ipython3",
   "version": "3.6.8"
  }
 },
 "nbformat": 4,
 "nbformat_minor": 2
}
