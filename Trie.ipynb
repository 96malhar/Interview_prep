{
 "cells": [
  {
   "cell_type": "markdown",
   "metadata": {},
   "source": [
    "## Implement Trie"
   ]
  },
  {
   "cell_type": "code",
   "execution_count": 1,
   "metadata": {},
   "outputs": [],
   "source": [
    "class TrieNode:\n",
    "    \n",
    "    def __init__(self):\n",
    "        self.map = {}\n",
    "        self.isWord = False\n",
    "        \n",
    "class Trie:\n",
    "\n",
    "    def __init__(self):\n",
    "        \"\"\"\n",
    "        Initialize your data structure here.\n",
    "        \"\"\"\n",
    "        self.root = TrieNode()\n",
    "\n",
    "    def insert(self, word):\n",
    "        \"\"\"\n",
    "        Inserts a word into the trie.\n",
    "        \"\"\"\n",
    "        current = self.root\n",
    "        for letter in word:\n",
    "            if letter not in current.map:\n",
    "                current.map[letter] = TrieNode()\n",
    "            current = current.map[letter]\n",
    "        current.isWord = True\n",
    "        \n",
    "\n",
    "    def search(self, word):\n",
    "        \"\"\"\n",
    "        Returns if the word is in the trie.\n",
    "        \"\"\"\n",
    "        current = self.root\n",
    "        for letter in word:\n",
    "            if letter not in current.map:\n",
    "                return False\n",
    "            current = current.map[letter]\n",
    "        return current.isWord\n",
    "\n",
    "    def startsWith(self, prefix):\n",
    "        \"\"\"\n",
    "        Returns if there is any word in the trie that starts with the given prefix.\n",
    "        \"\"\"\n",
    "        current = self.root\n",
    "        for letter in prefix:\n",
    "            if letter not in current.map:\n",
    "                return False\n",
    "            current = current.map[letter]\n",
    "        return True\n",
    "    \n",
    "    def delete(self, word):\n",
    "        if not word:return  \n",
    "        lastNode = self.getLastNode(word)\n",
    "        if lastNode is None: return\n",
    "        lastNode.isWord = False\n",
    "        if len(lastNode.map)>0: return\n",
    "        self.delete_helper(word)\n",
    "        \n",
    "    def getLastNode(self, word):\n",
    "        current = self.root\n",
    "        for letter in word:\n",
    "            if letter not in current.map:\n",
    "                return\n",
    "            current = current.map[letter]\n",
    "        return current\n",
    "    \n",
    "    def delete_helper(self, word):\n",
    "        node_with_mul_children = None\n",
    "        child_to_break = None\n",
    "        current = self.root\n",
    "        for i, letter in enumerate(word):\n",
    "            if letter not in current.map:\n",
    "                return\n",
    "            current = current.map[letter]\n",
    "            if len(current.map)>1 or current.isWord:\n",
    "                node_with_mul_children = current\n",
    "                child_to_break = word[i+1]\n",
    "        if node_with_mul_children is not None:\n",
    "            del node_with_mul_children.map[child_to_break]\n",
    "        else:\n",
    "            del self.root.map[word[0]]\n",
    "        \n",
    "        "
   ]
  },
  {
   "cell_type": "code",
   "execution_count": 4,
   "metadata": {},
   "outputs": [],
   "source": [
    "trie = Trie()"
   ]
  },
  {
   "cell_type": "code",
   "execution_count": 8,
   "metadata": {},
   "outputs": [
    {
     "data": {
      "text/plain": [
       "True"
      ]
     },
     "execution_count": 8,
     "metadata": {},
     "output_type": "execute_result"
    }
   ],
   "source": [
    "trie.insert(\"cat\")\n",
    "trie.insert(\"dog\")\n",
    "trie.insert(\"dot\")\n",
    "trie.insert(\"dots\")\n",
    "trie.insert(\"does\")\n",
    "trie.search(\"cat\")"
   ]
  },
  {
   "cell_type": "code",
   "execution_count": 9,
   "metadata": {},
   "outputs": [
    {
     "data": {
      "text/plain": [
       "True"
      ]
     },
     "execution_count": 9,
     "metadata": {},
     "output_type": "execute_result"
    }
   ],
   "source": [
    "trie.search(\"dog\")"
   ]
  },
  {
   "cell_type": "code",
   "execution_count": 10,
   "metadata": {},
   "outputs": [
    {
     "data": {
      "text/plain": [
       "True"
      ]
     },
     "execution_count": 10,
     "metadata": {},
     "output_type": "execute_result"
    }
   ],
   "source": [
    "trie.startsWith(\"ca\")"
   ]
  },
  {
   "cell_type": "code",
   "execution_count": 12,
   "metadata": {},
   "outputs": [
    {
     "data": {
      "text/plain": [
       "False"
      ]
     },
     "execution_count": 12,
     "metadata": {},
     "output_type": "execute_result"
    }
   ],
   "source": [
    "trie.delete('dog')\n",
    "trie.search('dog')"
   ]
  },
  {
   "cell_type": "code",
   "execution_count": 13,
   "metadata": {},
   "outputs": [
    {
     "data": {
      "text/plain": [
       "False"
      ]
     },
     "execution_count": 13,
     "metadata": {},
     "output_type": "execute_result"
    }
   ],
   "source": [
    "trie.delete('dots')\n",
    "trie.search('dots')"
   ]
  },
  {
   "cell_type": "code",
   "execution_count": 14,
   "metadata": {},
   "outputs": [
    {
     "data": {
      "text/plain": [
       "True"
      ]
     },
     "execution_count": 14,
     "metadata": {},
     "output_type": "execute_result"
    }
   ],
   "source": [
    "trie.search('dot')"
   ]
  },
  {
   "cell_type": "code",
   "execution_count": 15,
   "metadata": {},
   "outputs": [
    {
     "data": {
      "text/plain": [
       "True"
      ]
     },
     "execution_count": 15,
     "metadata": {},
     "output_type": "execute_result"
    }
   ],
   "source": [
    "trie.search('does')"
   ]
  },
  {
   "cell_type": "markdown",
   "metadata": {},
   "source": [
    "### Word Search II\n",
    "Given a 2D board and a list of words from the dictionary, find all words in the board.\n",
    "\n",
    "Each word must be constructed from letters of sequentially adjacent cell, where \"adjacent\" cells are those horizontally or vertically neighboring. The same letter cell may not be used more than once in a word.\n",
    "\n",
    "\n",
    "Example:\n",
    "\n",
    "* Input: \n",
    "board = [\n",
    "  ['o','a','a','n'],\n",
    "  ['e','t','a','e'],\n",
    "  ['i','h','k','r'],\n",
    "  ['i','f','l','v']\n",
    "]\n",
    "* words = [\"oath\",\"pea\",\"eat\",\"rain\"]\n",
    "* Output: [\"eat\",\"oath\"]"
   ]
  },
  {
   "cell_type": "code",
   "execution_count": 4,
   "metadata": {},
   "outputs": [
    {
     "data": {
      "text/plain": [
       "['oath', 'eat']"
      ]
     },
     "execution_count": 4,
     "metadata": {},
     "output_type": "execute_result"
    }
   ],
   "source": [
    "class Solution:\n",
    "    def findWords(self, board, words):\n",
    "        trie = Trie(); ans = set(); visited = set()\n",
    "        for word in words:\n",
    "            trie.insert(word)\n",
    "        for i in range(len(board)):\n",
    "            for j in range(len(board[0])):\n",
    "                self.helper(board, i, j, trie, visited, ans, '')\n",
    "        return list(ans)\n",
    "    \n",
    "    def helper(self, board, i, j, trie, visited, ans, word):\n",
    "        if i<0 or i>=len(board) or j<0 or j>=len(board[0]) or (i,j) in visited:\n",
    "            return\n",
    "        word += board[i][j]\n",
    "        \n",
    "        if not trie.startsWith(word):\n",
    "            return\n",
    "        \n",
    "        if trie.search(word):\n",
    "            ans.add(word)\n",
    "            \n",
    "        visited.add((i,j))\n",
    "        for x,y in [(i+1,j), (i,j+1), (i-1,j), (i,j-1)]:\n",
    "            self.helper(board, x, y, trie, visited, ans, word)\n",
    "        visited.remove((i,j))\n",
    "\n",
    "obj = Solution()\n",
    "board = [['o','a','a','n'], ['e','t','a','e'], ['i','h','k','r'], ['i','f','l','v']]\n",
    "words = [\"oath\",\"pea\",\"eat\",\"rain\"]\n",
    "obj.findWords(board, words)"
   ]
  },
  {
   "cell_type": "markdown",
   "metadata": {},
   "source": [
    "### Longest Word in Dictionary\n",
    "\n",
    "Given a list of strings words representing an English Dictionary, find the longest word in words that can be built one character at a time by other words in words. If there is more than one possible answer, return the longest word with the smallest lexicographical order.\n",
    "\n",
    "If there is no answer, return the empty string.\n",
    "\n",
    "* Input: words = [\"a\", \"banana\", \"app\", \"appl\", \"ap\", \"apply\", \"apple\"]\n",
    "* Output: \"apple\"\n",
    "* Explanation:  Both \"apply\" and \"apple\" can be built from other words in the dictionary. However, \"apple\" is lexicographically smaller than \"apply\"."
   ]
  },
  {
   "cell_type": "code",
   "execution_count": null,
   "metadata": {},
   "outputs": [],
   "source": [
    "class Solution:\n",
    "    def longestWord(self, words: List[str]) -> str:\n",
    "        trie = Trie()\n",
    "        trie.root.isWord = True\n",
    "        for word in words:\n",
    "            trie.insert(word)\n",
    "        self.ans = ''\n",
    "        self.helper(trie,trie.root, '')\n",
    "        return self.ans\n",
    "    \n",
    "    def helper(self, trie, node, word):\n",
    "        if not node.isWord:\n",
    "            return\n",
    "        \n",
    "        word += node.letter\n",
    "        if len(word)>len(self.ans):\n",
    "            self.ans = word\n",
    "        elif len(word) == len(self.ans):\n",
    "            self.ans = min(self.ans, word)\n",
    "        for child in node.map.values():\n",
    "            self.helper(trie, child, word)\n",
    "                   \n",
    "\n",
    "class TrieNode:\n",
    "    def __init__(self, letter):\n",
    "        self.map = {}\n",
    "        self.letter = letter\n",
    "        self.isWord = False\n",
    "\n",
    "class Trie:\n",
    "    def __init__(self):\n",
    "        self.root = TrieNode('')\n",
    "        \n",
    "    def insert(self, word):\n",
    "        current = self.root\n",
    "        for letter in word:\n",
    "            if letter not in current.map:\n",
    "                current.map[letter] = TrieNode(letter)\n",
    "            current = current.map[letter]\n",
    "        current.isWord = True"
   ]
  },
  {
   "cell_type": "markdown",
   "metadata": {},
   "source": [
    "### Add and Search Word - Data Structure Design\n",
    "Design a data structure that supports the following two operations:\n",
    "\n",
    "* void addWord(word)\n",
    "* bool search(word)\n",
    "search(word) can search a literal word or a regular expression string containing only letters a-z or .. A . means it can represent any one letter.\n",
    "\n",
    "Example:\n",
    "\n",
    "* addWord(\"bad\")\n",
    "* addWord(\"dad\")\n",
    "* addWord(\"mad\")\n",
    "* search(\"pad\") -> false\n",
    "* search(\"bad\") -> true\n",
    "* search(\".ad\") -> true\n",
    "* search(\"b..\") -> true"
   ]
  },
  {
   "cell_type": "code",
   "execution_count": null,
   "metadata": {},
   "outputs": [],
   "source": [
    "class WordDictionary:\n",
    "\n",
    "    def __init__(self):\n",
    "        \"\"\"\n",
    "        Initialize your data structure here.\n",
    "        \"\"\"\n",
    "        self.trie = Trie()\n",
    "\n",
    "    def addWord(self, word: str) -> None:\n",
    "        \"\"\"\n",
    "        Adds a word into the data structure.\n",
    "        \"\"\"\n",
    "        current = self.trie.root\n",
    "        for letter in word:\n",
    "            if letter not in current.map:\n",
    "                current.map[letter] = TrieNode()\n",
    "            current = current.map[letter]\n",
    "        current.isWord = True\n",
    "\n",
    "    def search(self, word: str) -> bool:\n",
    "        \"\"\"\n",
    "        Returns if the word is in the data structure. A word could contain the dot character '.' \n",
    "        to represent any one letter.\n",
    "        \"\"\"\n",
    "        self.res = False\n",
    "        self.dfs(self.trie.root, word)\n",
    "        return self.res\n",
    "    \n",
    "    def dfs(self, node, word):\n",
    "        if not word:\n",
    "            if node.isWord:\n",
    "                self.res = True\n",
    "            return\n",
    "        \n",
    "        if word[0] == '.':\n",
    "            for child in node.map.values():\n",
    "                self.dfs(child, word[1:])\n",
    "        else:\n",
    "            if word[0] not in node.map:\n",
    "                return\n",
    "            child = node.map[word[0]]\n",
    "            self.dfs(child, word[1:])\n",
    "        \n",
    "class TrieNode:\n",
    "    def __init__(self):\n",
    "        self.map = {}\n",
    "        self.isWord = False\n",
    "class Trie:\n",
    "    def __init__(self):\n",
    "        self.root = TrieNode()"
   ]
  },
  {
   "cell_type": "markdown",
   "metadata": {},
   "source": [
    "### Concatenated Words\n",
    "Given a list of words (without duplicates), please write a program that returns all concatenated words in the given list of words.\n",
    "A concatenated word is defined as a string that is comprised entirely of at least two shorter words in the given array.\n",
    "\n",
    "Example:\n",
    "Input: [\"cat\",\"cats\",\"catsdogcats\",\"dog\",\"dogcatsdog\",\"hippopotamuses\",\"rat\",\"ratcatdogcat\"]\n",
    "\n",
    "Output: [\"catsdogcats\",\"dogcatsdog\",\"ratcatdogcat\"]\n",
    "\n",
    "Explanation: \"catsdogcats\" can be concatenated by \"cats\", \"dog\" and \"cats\"; \n",
    " \"dogcatsdog\" can be concatenated by \"dog\", \"cats\" and \"dog\"; \n",
    "\"ratcatdogcat\" can be concatenated by \"rat\", \"cat\", \"dog\" and \"cat\".\n",
    "\n",
    "**Note: Similar to Word Break. Can also be solved using DP (refer recursion and backtracking notebook)**"
   ]
  },
  {
   "cell_type": "code",
   "execution_count": 8,
   "metadata": {},
   "outputs": [
    {
     "data": {
      "text/plain": [
       "['dogcatsdog', 'ratcatdogcat', 'catsdogcats']"
      ]
     },
     "execution_count": 8,
     "metadata": {},
     "output_type": "execute_result"
    }
   ],
   "source": [
    "class Solution:\n",
    "    def findAllConcatenatedWordsInADict(self, words):\n",
    "        trie = Trie()\n",
    "        for word in words:\n",
    "            trie.insert(word)\n",
    "        \n",
    "        self.result = set()\n",
    "        for word in words:\n",
    "            self.helper(word, 0, 0, trie)\n",
    "        return list(self.result)\n",
    "    \n",
    "    def helper(self, word, start_index, count, trie):\n",
    "        if start_index == len(word):\n",
    "            if count>1:\n",
    "                self.result.add(word)\n",
    "                return True\n",
    "            return False\n",
    "                \n",
    "        current = trie.root\n",
    "        for i in range(start_index, len(word)):\n",
    "            if word[i] not in current.map:\n",
    "                return False\n",
    "            current = current.map[word[i]]\n",
    "            if current.isWord and self.helper(word, i+1, count+1, trie):\n",
    "                return True\n",
    "            \n",
    "        return False\n",
    "    \n",
    "obj = Solution()\n",
    "words = [\"cat\",\"cats\",\"catsdogcats\",\"dog\",\"dogcatsdog\",\"hippopotamuses\",\"rat\",\"ratcatdogcat\"]\n",
    "obj.findAllConcatenatedWordsInADict(words)"
   ]
  }
 ],
 "metadata": {
  "kernelspec": {
   "display_name": "Python 3",
   "language": "python",
   "name": "python3"
  },
  "language_info": {
   "codemirror_mode": {
    "name": "ipython",
    "version": 3
   },
   "file_extension": ".py",
   "mimetype": "text/x-python",
   "name": "python",
   "nbconvert_exporter": "python",
   "pygments_lexer": "ipython3",
   "version": "3.6.8"
  }
 },
 "nbformat": 4,
 "nbformat_minor": 2
}
