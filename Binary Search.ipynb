{
 "cells": [
  {
   "cell_type": "markdown",
   "metadata": {},
   "source": [
    "## Implementation"
   ]
  },
  {
   "cell_type": "code",
   "execution_count": 1,
   "metadata": {},
   "outputs": [
    {
     "data": {
      "text/plain": [
       "3"
      ]
     },
     "execution_count": 1,
     "metadata": {},
     "output_type": "execute_result"
    }
   ],
   "source": [
    "def binary_search(nums,x):\n",
    "    low = 0\n",
    "    high = len(nums) - 1\n",
    "    while low <= high:\n",
    "        mid = (low + high) // 2\n",
    "        if nums[mid] < x:\n",
    "            low = mid + 1\n",
    "        elif nums[mid] > x:\n",
    "            high = mid - 1\n",
    "        else:\n",
    "            return mid\n",
    "    return -1       \n",
    "\n",
    "nums = [1,2,3,3,3,4,5]\n",
    "binary_search(nums,3)  "
   ]
  },
  {
   "cell_type": "markdown",
   "metadata": {},
   "source": [
    "### Order agnostic Binary Search"
   ]
  },
  {
   "cell_type": "code",
   "execution_count": 6,
   "metadata": {},
   "outputs": [
    {
     "data": {
      "text/plain": [
       "3"
      ]
     },
     "execution_count": 6,
     "metadata": {},
     "output_type": "execute_result"
    }
   ],
   "source": [
    "def binary_search(nums, x):\n",
    "    low = 0; high = len(nums)-1\n",
    "    isAscending = nums[low] < nums[high]\n",
    "    while low<=high:\n",
    "        mid = (low+high) // 2\n",
    "        if nums[mid] == x:\n",
    "            return mid\n",
    "        if isAscending:\n",
    "            if x>nums[mid]:\n",
    "                low = mid + 1\n",
    "            else:\n",
    "                high = mid-1\n",
    "        else:\n",
    "            if x>nums[mid]:\n",
    "                high = mid-1\n",
    "            else:\n",
    "                low = mid+1\n",
    "    return -1\n",
    "\n",
    "nums = [1,2,3,4,5]\n",
    "nums = [7,4,3,2]\n",
    "binary_search(nums, 2)"
   ]
  },
  {
   "cell_type": "markdown",
   "metadata": {},
   "source": [
    "### Ceiling of a Number\n",
    "Given an array of numbers sorted in an ascending order, find the ceiling of a given number ‘key’. The ceiling of the ‘key’ will be the smallest element in the given array greater than or equal to the ‘key’.\n",
    "\n",
    "Write a function to return the index of the ceiling of the ‘key’. If there isn’t any ceiling return -1.\n"
   ]
  },
  {
   "cell_type": "code",
   "execution_count": 19,
   "metadata": {},
   "outputs": [],
   "source": [
    "def binary_search(nums, key):\n",
    "    if key > nums[-1]: return -1\n",
    "    low = 0; high = len(nums)-1\n",
    "    ans = -1\n",
    "    while low<=high:\n",
    "        mid = (low + high) // 2\n",
    "        if nums[mid]>key:\n",
    "            ans = mid\n",
    "            high = mid-1\n",
    "        elif nums[mid]<key:\n",
    "            low = mid+1\n",
    "        else:\n",
    "            return mid\n",
    "    return ans\n",
    "\n",
    "assert binary_search([4, 6, 10], 6) == 1\n",
    "assert binary_search([1, 3, 8, 10, 15], 12) == 4\n",
    "assert binary_search([4, 6, 10], 17) == -1\n",
    "assert binary_search([4, 6, 10], -1) == 0"
   ]
  },
  {
   "cell_type": "markdown",
   "metadata": {},
   "source": [
    "### Find Smallest Letter Greater Than Target\n",
    "Given a list of sorted characters letters containing only lowercase letters, and given a target letter target, find the smallest element in the list that is larger than the given target.\n",
    "\n",
    "Letters also wrap around. For example, if the target is target = 'z' and letters = ['a', 'b'], the answer is 'a'.\n",
    "\n"
   ]
  },
  {
   "cell_type": "code",
   "execution_count": 39,
   "metadata": {},
   "outputs": [
    {
     "name": "stdout",
     "output_type": "stream",
     "text": [
      "passed!\n"
     ]
    }
   ],
   "source": [
    "def search_next_letter(letters, target):\n",
    "    ans_index = 0\n",
    "    low = 0; high = len(letters)-1\n",
    "    while low<=high:\n",
    "        mid = (low+high) // 2\n",
    "        if letters[mid] > target:\n",
    "            ans_index = mid\n",
    "            high = mid - 1\n",
    "        else:\n",
    "            low = mid + 1\n",
    "    return letters[ans_index]\n",
    "\n",
    "assert search_next_letter(['a', 'c', 'f', 'h'], 'f') == 'h'\n",
    "assert search_next_letter(['a', 'c', 'f', 'h'], 'b') == 'c'\n",
    "assert search_next_letter(['a', 'c', 'f', 'h'], 'm') == 'a'\n",
    "print('passed!')"
   ]
  },
  {
   "cell_type": "markdown",
   "metadata": {},
   "source": [
    "### Find First and Last Position of Element in Sorted Array\n",
    "Given an array of integers nums sorted in ascending order, find the starting and ending position of a given target value.\n",
    "\n",
    "Your algorithm's runtime complexity must be in the order of O(log n).\n",
    "\n",
    "If the target is not found in the array, return [-1, -1]."
   ]
  },
  {
   "cell_type": "code",
   "execution_count": 38,
   "metadata": {},
   "outputs": [
    {
     "name": "stdout",
     "output_type": "stream",
     "text": [
      "passed!\n"
     ]
    }
   ],
   "source": [
    "def find_range(nums, target):\n",
    "    i1 = binary_search(nums, target, findFirst = True)\n",
    "    if i1 == -1: return [-1, -1]\n",
    "    i2 = binary_search(nums, target, findFirst = False)\n",
    "    return [i1, i2]\n",
    "\n",
    "def binary_search(nums, target, findFirst):\n",
    "    low = 0; high = len(nums)-1; ans = -1\n",
    "    while low<=high:\n",
    "        mid = (low+high)//2\n",
    "        if nums[mid]>target:\n",
    "            high = mid-1\n",
    "        elif nums[mid]<target:\n",
    "            low = mid+1\n",
    "        else:\n",
    "            ans = mid\n",
    "            if findFirst:\n",
    "                high = mid-1\n",
    "            else:\n",
    "                low = mid+1\n",
    "    return ans\n",
    "\n",
    "assert find_range([4, 6, 6, 6, 9], 6) == [1, 3]\n",
    "assert find_range([1, 3, 8, 10, 15], 10) == [3, 3]\n",
    "assert find_range([1, 3, 8, 10, 15], 12) == [-1,-1]\n",
    "print('passed!')"
   ]
  },
  {
   "cell_type": "markdown",
   "metadata": {},
   "source": [
    "### Minimum Difference Element\n",
    "Given  a  sorted  array  of  Integers,  find  the  target.  If  the  target  is  not  found,return  the  element  closest  to  the  target.\n",
    "\n",
    "A  =  [1,2,4,5,7,8,9],  Target  =  6  ->  Output  Index  =  3  or  4  (since  both  5  and  7  are  equally  close)"
   ]
  },
  {
   "cell_type": "code",
   "execution_count": 12,
   "metadata": {},
   "outputs": [],
   "source": [
    "def search_closest(a,x):        \n",
    "    low = 0\n",
    "    high = len(a) - 1\n",
    "    result = None\n",
    "    while low<=high:\n",
    "        mid = (low + high) // 2\n",
    "        result = record(a,mid,x, result)\n",
    "        if a[mid] < x:\n",
    "            low = mid + 1\n",
    "        elif a[mid] > x:\n",
    "            high = mid - 1\n",
    "        else:\n",
    "            return a[mid]\n",
    "       \n",
    "    return a[result]\n",
    "\n",
    "def record(a, mid, x, result):\n",
    "    if result is None or (abs(a[mid]-x) < abs(a[result] - x)):\n",
    "        return mid\n",
    "    return result\n",
    "\n",
    "assert (search_closest([4, 6, 10], 7)) == 6\n",
    "assert (search_closest([4, 6, 10], 4)) == 4\n",
    "assert (search_closest([1, 3, 8, 10, 15], 12)) == 10\n",
    "assert (search_closest([4, 6, 10, 10], 17)) == 10"
   ]
  },
  {
   "cell_type": "markdown",
   "metadata": {},
   "source": [
    "### Search Insert Position\n",
    "You are given a sorted array A and a target T. If the target is found, return the index. If not, return the index where it would be placed if inserted in order. For example,\n",
    "\n",
    "* A = [1,2,4,5,6,8] and T = 3, return index 2\n",
    "* A = [1,2,4,5,6,8] and T = 0, return index 0 \n",
    "* A = [1,2,4,5,6,8] and T = 4, return index 2."
   ]
  },
  {
   "cell_type": "code",
   "execution_count": 4,
   "metadata": {},
   "outputs": [
    {
     "data": {
      "text/plain": [
       "2"
      ]
     },
     "execution_count": 4,
     "metadata": {},
     "output_type": "execute_result"
    }
   ],
   "source": [
    "def search_insert_left(a, x):\n",
    "    low = 0\n",
    "    high = len(a) - 1\n",
    "    while low<=high:\n",
    "        mid = (low + high) // 2\n",
    "        if a[mid] < x:\n",
    "            low = mid + 1\n",
    "        elif a[mid] >= x:\n",
    "            high = mid - 1\n",
    "    return low\n",
    "\n",
    "search_insert_left([9,9,20,20,20,20,20,30,50,50,51],20)"
   ]
  },
  {
   "cell_type": "code",
   "execution_count": 7,
   "metadata": {},
   "outputs": [
    {
     "data": {
      "text/plain": [
       "2"
      ]
     },
     "execution_count": 7,
     "metadata": {},
     "output_type": "execute_result"
    }
   ],
   "source": [
    "def search_insert_right(a, x):\n",
    "    low = 0\n",
    "    high = len(a) - 1\n",
    "    while low<=high:\n",
    "        mid = (low + high) // 2\n",
    "        if a[mid] <= x:\n",
    "            low = mid + 1\n",
    "        elif a[mid] > x:\n",
    "            high = mid - 1\n",
    "    return low\n",
    "\n",
    "search_insert_right([9,9,20,20,20,20,20,30,50,50,51],9)"
   ]
  },
  {
   "cell_type": "markdown",
   "metadata": {},
   "source": [
    "### Find peak in Mountain array\n",
    "Find the maximum value in a given Bitonic array. An array is considered bitonic if it is monotonically increasing and then monotonically decreasing. Monotonically increasing or decreasing means that for any index i in the array arr[i] != arr[i+1]"
   ]
  },
  {
   "cell_type": "code",
   "execution_count": 84,
   "metadata": {},
   "outputs": [
    {
     "name": "stdout",
     "output_type": "stream",
     "text": [
      "Passed!\n"
     ]
    }
   ],
   "source": [
    "def find_max_in_bitonic_array(A):\n",
    "    start = 0; end = len(A)-1\n",
    "    while start < end:\n",
    "        mid = (start+end) // 2\n",
    "        if A[mid] > A[mid+1]:\n",
    "            end = mid\n",
    "        else:\n",
    "            start = mid +1\n",
    "    return A[start]\n",
    "\n",
    "assert (find_max_in_bitonic_array([1, 3, 8, 12, 4, 2])) == 12\n",
    "assert (find_max_in_bitonic_array([3, 8, 3, 1])) == 8\n",
    "assert (find_max_in_bitonic_array([1, 3, 8, 12])) == 12\n",
    "assert (find_max_in_bitonic_array([10, 9, 8])) == 10\n",
    "print('Passed!')"
   ]
  },
  {
   "cell_type": "markdown",
   "metadata": {},
   "source": [
    "### Find in Mountain array\n",
    "Given a Bitonic array, find if a given ‘key’ is present in it. An array is considered bitonic if it is monotonically increasing and then monotonically decreasing. Monotonically increasing or decreasing means that for any index i in the array arr[i] != arr[i+1].\n",
    "\n",
    "Write a function to return the index of the ‘key’. If the ‘key’ is not present, return -1."
   ]
  },
  {
   "cell_type": "code",
   "execution_count": 96,
   "metadata": {},
   "outputs": [
    {
     "name": "stdout",
     "output_type": "stream",
     "text": [
      "passed!\n"
     ]
    }
   ],
   "source": [
    "def search_bitonic_array(nums, x):\n",
    "    max_index = find_max_in_bitonic_array(nums)\n",
    "    idx = binary_search(0,max_index, nums, x)\n",
    "    if idx != -1:\n",
    "        return idx\n",
    "    return binary_search(max_index+1, len(nums)-1, nums, x)\n",
    "\n",
    "def find_max_in_bitonic_array(A):\n",
    "    start = 0; end = len(A)-1\n",
    "    while start < end:\n",
    "        mid = (start+end) // 2\n",
    "        if A[mid] > A[mid+1]:\n",
    "            end = mid\n",
    "        else:\n",
    "            start = mid +1\n",
    "    return start\n",
    "\n",
    "def binary_search(low, high, nums, x):\n",
    "    isAscending = nums[low] < nums[high]\n",
    "    while low<=high:\n",
    "        mid = (low+high) // 2\n",
    "        if nums[mid] == x:\n",
    "            return mid\n",
    "        if isAscending:\n",
    "            if x>nums[mid]:\n",
    "                low = mid + 1\n",
    "            else:\n",
    "                high = mid-1\n",
    "        else:\n",
    "            if x>nums[mid]:\n",
    "                high = mid-1\n",
    "            else:\n",
    "                low = mid+1\n",
    "    return -1\n",
    "\n",
    "assert (search_bitonic_array([1, 3, 8, 4, 3], 4)) == 3\n",
    "assert (search_bitonic_array([3, 8, 3, 1], 8)) == 1\n",
    "assert (search_bitonic_array([1, 3, 8, 12], 12)) == 3\n",
    "assert (search_bitonic_array([10, 9, 8], 10)) == 0\n",
    "print('passed!')"
   ]
  },
  {
   "cell_type": "markdown",
   "metadata": {},
   "source": [
    "### Find Peak element\n",
    "A peak element is an element that is greater than its neighbors.\n",
    "\n",
    "Given an input array nums, where nums[i] ≠ nums[i+1], find a peak element and return its index.\n",
    "\n",
    "The array may contain multiple peaks, in that case return the index to any one of the peaks is fine.\n",
    "\n",
    "You may imagine that nums[-1] = nums[n] = -∞.\n",
    "* A = [1,3,4,5,2] => Peak = 5 \n",
    "* A = [5,3,1] => Peak = 5 \n",
    "* A = [1,3,5] => Peak = 5\n",
    "\n"
   ]
  },
  {
   "cell_type": "code",
   "execution_count": 58,
   "metadata": {},
   "outputs": [
    {
     "data": {
      "text/plain": [
       "1"
      ]
     },
     "execution_count": 58,
     "metadata": {},
     "output_type": "execute_result"
    }
   ],
   "source": [
    "def search_peak(a):\n",
    "    low = 0; high = len(a)-1\n",
    "    while low<=high:\n",
    "        mid = (low+high)//2\n",
    "        if (mid==0 or a[mid-1]<a[mid]) and (mid==len(a)-1 or a[mid+1]<a[mid]):\n",
    "            return mid\n",
    "        elif mid!=0 and a[mid-1] > a[mid]:\n",
    "            high = mid - 1\n",
    "        else:\n",
    "            low = mid+1\n",
    "search_peak([1,3,2,5,2])"
   ]
  },
  {
   "cell_type": "markdown",
   "metadata": {},
   "source": [
    "### Search in a rotated array\n",
    "* Suppose an array sorted in ascending order is rotated at some pivot unknown to you beforehand. (i.e., [0,1,2,4,5,6,7] might become [4,5,6,7,0,1,2]).\n",
    "* You are given a target value to search. If found in the array return its index, otherwise return -1.\n",
    "* You may assume no duplicate exists in the array.\n",
    "* Your algorithm's runtime complexity must be in the order of O(log n)."
   ]
  },
  {
   "cell_type": "code",
   "execution_count": 10,
   "metadata": {},
   "outputs": [
    {
     "name": "stdout",
     "output_type": "stream",
     "text": [
      "Passed!\n"
     ]
    },
    {
     "data": {
      "text/plain": [
       "6"
      ]
     },
     "execution_count": 10,
     "metadata": {},
     "output_type": "execute_result"
    }
   ],
   "source": [
    "def search(nums, target):\n",
    "    low = 0; high = len(nums)-1\n",
    "    while low<=high:\n",
    "        mid = (low+high)//2\n",
    "        if nums[mid] == target:\n",
    "            return mid\n",
    "        if nums[low]<=nums[mid]:\n",
    "            if nums[low]<=target<nums[mid]:\n",
    "                high = mid-1\n",
    "            else:\n",
    "                low = mid+1\n",
    "        else:\n",
    "            if nums[mid]<target<=nums[high]:\n",
    "                low = mid+1\n",
    "            else:\n",
    "                high = mid-1\n",
    "    return -1\n",
    "\n",
    "assert (search([10, 15, 1, 3, 8], 15)) == 1\n",
    "assert (search([4, 5, 7, 9, 10, -1, 2], 10)) == 4\n",
    "\n",
    "print('Passed!')\n",
    "search([2,5,6,0,0,1,2], 2)"
   ]
  },
  {
   "cell_type": "markdown",
   "metadata": {},
   "source": [
    "### Search in a rotated sorted array II\n",
    "Suppose an array sorted in ascending order is rotated at some pivot unknown to you beforehand.\n",
    "\n",
    "(i.e., [0,0,1,2,2,5,6] might become [2,5,6,0,0,1,2]).\n",
    "\n",
    "You are given a target value to search. If found in the array return true, otherwise return false."
   ]
  },
  {
   "cell_type": "code",
   "execution_count": 15,
   "metadata": {},
   "outputs": [
    {
     "data": {
      "text/plain": [
       "True"
      ]
     },
     "execution_count": 15,
     "metadata": {},
     "output_type": "execute_result"
    }
   ],
   "source": [
    "def search(nums, target):\n",
    "    low = 0; high = len(nums)-1\n",
    "    while low<=high:\n",
    "        mid = (low+high)//2\n",
    "        if nums[mid] == target:\n",
    "            return True\n",
    "        if nums[low] == nums[mid] == nums[high]:\n",
    "            low+=1\n",
    "            high -= 1\n",
    "        elif nums[low]<=nums[mid]:\n",
    "            if nums[low]<=target<nums[mid]:\n",
    "                high = mid-1\n",
    "            else:\n",
    "                low = mid+1\n",
    "        else:\n",
    "            if nums[mid]<target<=nums[high]:\n",
    "                low = mid+1\n",
    "            else:\n",
    "                high = mid-1\n",
    "    return False\n",
    "\n",
    "search([1,3,1,1,1], 3)"
   ]
  },
  {
   "cell_type": "markdown",
   "metadata": {},
   "source": [
    "### Find Minimum and maximum in a rotated array\n",
    "* [1,2,4,5,7,8] rotated by 3 gives us A = [5,7,8,1,2,4] and the smallest number is 1 and largest is 8. \n",
    "* [1,2,4,5,7,8] rotated by 1 gives us A = [8,1,2,4,5,7] and the smallest number is 1 and largest is 8."
   ]
  },
  {
   "cell_type": "code",
   "execution_count": 51,
   "metadata": {},
   "outputs": [
    {
     "data": {
      "text/plain": [
       "3"
      ]
     },
     "execution_count": 51,
     "metadata": {},
     "output_type": "execute_result"
    }
   ],
   "source": [
    "def rotated_min(nums):\n",
    "    low = 0; high = len(nums) - 1; right = nums[high]\n",
    "    \n",
    "    while low<=high:\n",
    "        mid = (low+high) // 2\n",
    "        if nums[mid] <= right and (mid==low or nums[mid-1]>nums[mid]):\n",
    "             return nums[mid]  \n",
    "#         if nums[low] == nums[mid] == nums[high]: To Handle Duplicates\n",
    "#             low += 1; high -= 1; right = nums[high]\n",
    "        elif nums[mid] > right:\n",
    "            low = mid + 1\n",
    "        else:\n",
    "            high = mid - 1\n",
    "            right = nums[high]\n",
    "            \n",
    "rotated_min([4,5,7,8,1,2])\n",
    "rotated_min([3,3,7,3])"
   ]
  },
  {
   "cell_type": "markdown",
   "metadata": {},
   "source": [
    "### Single Element in a Sorted Array\n",
    "\n",
    "You are given a sorted array consisting of only integers where every element appears exactly twice, except for one element which appears exactly once. Find this single element that appears only once.\n",
    "\n",
    "Example 1:\n",
    "\n",
    "Input: [1,1,2,3,3,4,4,8,8]\n",
    "Output: 2"
   ]
  },
  {
   "cell_type": "code",
   "execution_count": 5,
   "metadata": {},
   "outputs": [
    {
     "data": {
      "text/plain": [
       "2"
      ]
     },
     "execution_count": 5,
     "metadata": {},
     "output_type": "execute_result"
    }
   ],
   "source": [
    "def singleNonDuplicate(nums):\n",
    "    low = 0; high = len(nums)-1\n",
    "    while low<high:\n",
    "        mid = (low+high) // 2\n",
    "        if mid%2 == 1:\n",
    "            mid -= 1\n",
    "        if nums[mid] == nums[mid+1]:\n",
    "            low = mid+2\n",
    "        else:\n",
    "            high = mid\n",
    "    return nums[low]\n",
    "\n",
    "nums = [1,1,2,3,3,4,4,8,8]\n",
    "singleNonDuplicate(nums)"
   ]
  },
  {
   "cell_type": "markdown",
   "metadata": {},
   "source": [
    "### Missing Number in Sorted array\n",
    "You are given a sorted array of N integers from 1 to N with one number missing find the missing number Expected time complexity O(logn)\n",
    "\n",
    "Input : ar[] = {1, 2, 3, 4, 5, 7, 8}\n",
    "Output : 6"
   ]
  },
  {
   "cell_type": "code",
   "execution_count": 11,
   "metadata": {},
   "outputs": [
    {
     "name": "stdout",
     "output_type": "stream",
     "text": [
      "passed!\n"
     ]
    }
   ],
   "source": [
    "def missing_number(nums):\n",
    "    low = 0; high = len(nums)-1\n",
    "    while low<=high:\n",
    "        mid = (low+high) // 2\n",
    "        if nums[mid] != mid+1:\n",
    "            if mid-1>=0 and nums[mid-1] != nums[mid]-1:\n",
    "                return nums[mid]-1\n",
    "            else:\n",
    "                high = mid-1\n",
    "        else:\n",
    "            if mid+1<len(nums) and nums[mid+1] != nums[mid]+1:\n",
    "                return nums[mid]+1\n",
    "            else:\n",
    "                low = mid+1\n",
    "    return -1\n",
    "\n",
    "assert missing_number([1,3]) == 2\n",
    "assert missing_number([1, 2, 3, 4, 6, 7, 8]) == 5\n",
    "assert missing_number([1, 2, 3, 4, 5, 6, 8, 9]) == 7\n",
    "print('passed!')"
   ]
  },
  {
   "cell_type": "markdown",
   "metadata": {},
   "source": [
    "### Find sqrt(x)"
   ]
  },
  {
   "cell_type": "code",
   "execution_count": 25,
   "metadata": {},
   "outputs": [
    {
     "data": {
      "text/plain": [
       "2"
      ]
     },
     "execution_count": 25,
     "metadata": {},
     "output_type": "execute_result"
    }
   ],
   "source": [
    "def square_root(x):\n",
    "    if x==0 or x==1:\n",
    "        return x\n",
    "    low = 1; high = x; ans = None\n",
    "    while low<=high:\n",
    "        mid = (low+high)//2\n",
    "        if mid*mid == x:\n",
    "            return mid\n",
    "        elif mid*mid < x:\n",
    "            ans = mid\n",
    "            low = mid+1\n",
    "        else:\n",
    "            high = mid-1\n",
    "    return ans\n",
    "\n",
    "square_root(7)"
   ]
  },
  {
   "cell_type": "markdown",
   "metadata": {},
   "source": [
    "### Binary Search when Length is Unknown"
   ]
  },
  {
   "cell_type": "code",
   "execution_count": 4,
   "metadata": {},
   "outputs": [
    {
     "name": "stdout",
     "output_type": "stream",
     "text": [
      "Passed!!!\n"
     ]
    }
   ],
   "source": [
    "import math\n",
    "class ArrayReader:\n",
    "    def __init__(self, arr):\n",
    "        self.arr = arr\n",
    "\n",
    "    def get(self, index):\n",
    "        if index >= len(self.arr):\n",
    "            return math.inf\n",
    "        return self.arr[index]\n",
    "\n",
    "def search_in_infinite_array(reader, key):\n",
    "    # find the proper bounds first\n",
    "    start, end = 0, 1\n",
    "    while reader.get(end) < key:\n",
    "        start = end + 1\n",
    "        end *= 2\n",
    "    return binary_search(reader, key, start, end)\n",
    "\n",
    "def binary_search(reader, key, start, end):\n",
    "    while start <= end:\n",
    "        mid = (start + end) // 2\n",
    "        if key < reader.get(mid):\n",
    "            end = mid - 1\n",
    "        elif key > reader.get(mid):\n",
    "            start = mid + 1\n",
    "        else:  # found the key\n",
    "            return mid\n",
    "    return -1\n",
    "\n",
    "reader = ArrayReader([4, 6, 8, 10, 12, 14, 16, 18, 20, 22, 24, 26, 28, 30])\n",
    "assert (search_in_infinite_array(reader, 16)) == 6\n",
    "assert (search_in_infinite_array(reader, 11)) == -1\n",
    "\n",
    "reader = ArrayReader([1, 3, 8, 10, 15])\n",
    "assert (search_in_infinite_array(reader, 15)) == 4\n",
    "assert (search_in_infinite_array(reader, 200)) == -1    \n",
    "\n",
    "print('Passed!!!')"
   ]
  },
  {
   "cell_type": "markdown",
   "metadata": {},
   "source": [
    "### Find K closest elements\n",
    "Given a sorted array, two integers k and x, find the k closest elements to x in the array. The result should also be sorted in ascending order. If there is a tie, the smaller elements are always preferred.\n",
    "\n",
    "* Input: [1,2,3,4,5], k=4, x=3\n",
    "* Output: [1,2,3,4]"
   ]
  },
  {
   "cell_type": "code",
   "execution_count": 2,
   "metadata": {},
   "outputs": [
    {
     "data": {
      "text/plain": [
       "[1, 2, 3, 4]"
      ]
     },
     "execution_count": 2,
     "metadata": {},
     "output_type": "execute_result"
    }
   ],
   "source": [
    "def findClosestElements(arr, k, x):\n",
    "    import bisect\n",
    "    idx = bisect.bisect_left(arr, x)\n",
    "    low = max(0, idx-k)\n",
    "    high = min(len(arr)-1, idx+k)\n",
    "    while high-low+1 > k:\n",
    "        if x-arr[low] > arr[high]-x:\n",
    "            low += 1\n",
    "        else:\n",
    "            high -= 1\n",
    "    return arr[low:high+1]\n",
    "    \n",
    "arr = [1,2,3,4,5]; k=4; x=3\n",
    "findClosestElements(arr, k, x)"
   ]
  },
  {
   "cell_type": "markdown",
   "metadata": {},
   "source": [
    "### Shortest Distance to Target Color\n",
    "You are given an array colors, in which there are three colors: 1, 2 and 3. You are also given some queries. Each query consists of two integers i and c, return the shortest distance between the given index i and the target color c. If there is no solution return -1.\n",
    "\n",
    "Example 1:\n",
    "\n",
    "* Input: colors = [1,1,2,1,3,2,2,3,3], queries = [[1,3],[2,2],[6,1]]\n",
    "* Output: [3,0,3]\n",
    "* Explanation: \n",
    "* The nearest 3 from index 1 is at index 4 (3 steps away).\n",
    "* The nearest 2 from index 2 is at index 2 itself (0 steps away).\n",
    "* The nearest 1 from index 6 is at index 3 (3 steps away)."
   ]
  },
  {
   "cell_type": "code",
   "execution_count": 3,
   "metadata": {},
   "outputs": [
    {
     "data": {
      "text/plain": [
       "[3, 0, 3]"
      ]
     },
     "execution_count": 3,
     "metadata": {},
     "output_type": "execute_result"
    }
   ],
   "source": [
    "def shortestDistanceColor(colors, queries):\n",
    "    from collections import defaultdict\n",
    "    from bisect import bisect_left\n",
    "    hashmap = defaultdict(list); ans = []\n",
    "    for i, color in enumerate(colors):\n",
    "        hashmap[color].append(i)\n",
    "\n",
    "    for index, color in queries:\n",
    "        if color not in hashmap:\n",
    "            ans.append(-1)\n",
    "            continue\n",
    "        arr = hashmap[color]\n",
    "        pos = bisect_left(arr, index)\n",
    "        if pos == len(arr):\n",
    "            ans.append(index - arr[-1])\n",
    "        elif pos == 0:\n",
    "            ans.append(arr[0]-index)\n",
    "        else:\n",
    "            val1 = abs(index - arr[pos])\n",
    "            val2 = abs(index - arr[pos-1])\n",
    "            ans.append(min(val1, val2))\n",
    "    return ans\n",
    "\n",
    "colors = [1,1,2,1,3,2,2,3,3]; queries = [[1,3],[2,2],[6,1]]\n",
    "shortestDistanceColor(colors, queries)"
   ]
  },
  {
   "cell_type": "markdown",
   "metadata": {},
   "source": [
    "### Cut woods\n",
    "Given an int array wood representing the length of n pieces of wood and an int k. It is required to cut these pieces of wood such that more or equal to k pieces of the same length len are cut. What is the longest len you can get?\n",
    "\n",
    "Example 1:\n",
    "\n",
    "* Input: wood = [5, 9, 7], k = 3\n",
    "* Output: 5\n",
    "\n",
    "Explanation: \n",
    "\n",
    "* 5 -> 5\n",
    "* 9 -> 5 + 4\n",
    "* 7 -> 5 + 2"
   ]
  },
  {
   "cell_type": "code",
   "execution_count": 13,
   "metadata": {},
   "outputs": [
    {
     "data": {
      "text/plain": [
       "5"
      ]
     },
     "execution_count": 13,
     "metadata": {},
     "output_type": "execute_result"
    }
   ],
   "source": [
    "def cut_woods(wood, k):\n",
    "    low = 1; high = max(wood); ans = 0\n",
    "    while low<=high:\n",
    "        mid = (low+high) // 2\n",
    "        pieces = get_pieces(wood, mid)\n",
    "        if pieces >= k:\n",
    "            ans = mid\n",
    "            low = mid+1\n",
    "        else:\n",
    "            high = mid-1\n",
    "    return ans\n",
    "\n",
    "def get_pieces(wood, length):\n",
    "    pieces = 0\n",
    "    for w in wood:\n",
    "        pieces += w//length\n",
    "    return pieces\n",
    "            \n",
    "wood = [5, 9, 7]; k = 3\n",
    "cut_woods(wood, k)"
   ]
  },
  {
   "cell_type": "markdown",
   "metadata": {},
   "source": [
    "### Koko eating bananas\n",
    "Koko loves to eat bananas.  There are N piles of bananas, the i-th pile has piles[i] bananas.  The guards have gone and will come back in H hours.\n",
    "\n",
    "Koko can decide her bananas-per-hour eating speed of K.  Each hour, she chooses some pile of bananas, and eats K bananas from that pile.  If the pile has less than K bananas, she eats all of them instead, and won't eat any more bananas during this hour.\n",
    "\n",
    "Koko likes to eat slowly, but still wants to finish eating all the bananas before the guards come back.\n",
    "\n",
    "Return the minimum integer K such that she can eat all the bananas within H hours.\n",
    "\n",
    " \n",
    "\n",
    "Example 1:\n",
    "\n",
    "Input: piles = [3,6,7,11], H = 8\n",
    "Output: 4"
   ]
  },
  {
   "cell_type": "code",
   "execution_count": 2,
   "metadata": {},
   "outputs": [
    {
     "data": {
      "text/plain": [
       "4"
      ]
     },
     "execution_count": 2,
     "metadata": {},
     "output_type": "execute_result"
    }
   ],
   "source": [
    "from math import ceil\n",
    "class Solution:\n",
    "    def minEatingSpeed(self, piles, H: int) -> int:\n",
    "        max_pile = max(piles)\n",
    "        low = 1; high = max_pile\n",
    "        while low<=high:\n",
    "            mid = (low+high) // 2\n",
    "            hours_to_eat = self.get_hours(mid, piles)\n",
    "            if hours_to_eat <= H:\n",
    "                ans = mid\n",
    "                high = mid-1\n",
    "            else:\n",
    "                low = mid+1\n",
    "        return ans\n",
    "    \n",
    "    def get_hours(self, num, piles):\n",
    "        hours = 0\n",
    "        for pile in piles:\n",
    "            hours += ceil(pile/num)\n",
    "        return hours\n",
    "\n",
    "piles = [3,6,7,11]; H = 8\n",
    "obj = Solution()\n",
    "obj.minEatingSpeed(piles, H)"
   ]
  },
  {
   "cell_type": "markdown",
   "metadata": {},
   "source": [
    "###  Capacity To Ship Packages Within D Days\n",
    "\n",
    "A conveyor belt has packages that must be shipped from one port to another within D days.\n",
    "\n",
    "The i-th package on the conveyor belt has a weight of weights[i].  Each day, we load the ship with packages on the conveyor belt (in the order given by weights). We may not load more weight than the maximum weight capacity of the ship.\n",
    "\n",
    "Return the least weight capacity of the ship that will result in all the packages on the conveyor belt being shipped within D days.\n",
    "\n",
    " \n",
    "\n",
    "Example 1:\n",
    "\n",
    "* Input: weights = [1,2,3,4,5,6,7,8,9,10], D = 5\n",
    "* Output: 15\n",
    "* Explanation: A ship capacity of 15 is the minimum to ship all the packages in 5 days like this:\n",
    "* 1st day: 1, 2, 3, 4, 5\n",
    "* 2nd day: 6, 7\n",
    "* 3rd day: 8\n",
    "* 4th day: 9\n",
    "* 5th day: 10"
   ]
  },
  {
   "cell_type": "code",
   "execution_count": 4,
   "metadata": {},
   "outputs": [
    {
     "data": {
      "text/plain": [
       "15"
      ]
     },
     "execution_count": 4,
     "metadata": {},
     "output_type": "execute_result"
    }
   ],
   "source": [
    "class Solution:\n",
    "    def shipWithinDays(self, weights, D: int) -> int:\n",
    "        low = max(weights); high = sum(weights)\n",
    "        while low<=high:\n",
    "            capacity = (low+high) // 2\n",
    "            num_days = self.find_days(weights, capacity)\n",
    "            if num_days<=D:\n",
    "                ans = capacity\n",
    "                high = capacity-1\n",
    "            else:\n",
    "                low = capacity+1\n",
    "        return ans\n",
    "    \n",
    "    def find_days(self, weights, capacity):\n",
    "        num_days = 1\n",
    "        curr_weight = 0\n",
    "        for w in weights:\n",
    "            if w + curr_weight > capacity:\n",
    "                num_days += 1\n",
    "                curr_weight = w\n",
    "            else:\n",
    "                curr_weight += w\n",
    "        return num_days\n",
    "    \n",
    "weights = [1,2,3,4,5,6,7,8,9,10]; D = 5\n",
    "obj = Solution()\n",
    "obj.shipWithinDays(weights, D)"
   ]
  },
  {
   "cell_type": "markdown",
   "metadata": {},
   "source": [
    "### Minimum Number of Days to Make m Bouquets\n",
    "\n",
    "Given an integer array bloomDay, an integer m and an integer k.\n",
    "\n",
    "We need to make m bouquets. To make a bouquet, you need to use k adjacent flowers from the garden.\n",
    "\n",
    "The garden consists of n flowers, the ith flower will bloom in the bloomDay[i] and then can be used in exactly one bouquet.\n",
    "\n",
    "Return the minimum number of days you need to wait to be able to make m bouquets from the garden. If it is impossible to make m bouquets return -1."
   ]
  },
  {
   "cell_type": "code",
   "execution_count": 5,
   "metadata": {},
   "outputs": [
    {
     "data": {
      "text/plain": [
       "3"
      ]
     },
     "execution_count": 5,
     "metadata": {},
     "output_type": "execute_result"
    }
   ],
   "source": [
    "class Solution:\n",
    "    def minDays(self, bloomDay, m: int, k: int) -> int:\n",
    "        low = 1; high = max(bloomDay)\n",
    "        ans = -1\n",
    "        while low <= high:\n",
    "            mid = (low+high) // 2\n",
    "            if self.check(mid, bloomDay, m, k):\n",
    "                ans = mid\n",
    "                high = mid - 1\n",
    "            else:\n",
    "                low = mid + 1\n",
    "        \n",
    "        return ans\n",
    "    \n",
    "    def check(self, days, arr, m, k):\n",
    "        bouquets = 0\n",
    "        flowers = 0\n",
    "        \n",
    "        for d in arr:\n",
    "            flowers = flowers + 1 if d <= days else 0\n",
    "            if flowers == k:\n",
    "                bouquets += 1\n",
    "                flowers = 0\n",
    "            if bouquets == m:\n",
    "                return True\n",
    "        return False\n",
    "                \n",
    "bloomDay = [1,10,3,10,2]; m = 3; k = 1\n",
    "Solution().minDays(bloomDay, m, k)"
   ]
  },
  {
   "cell_type": "markdown",
   "metadata": {},
   "source": [
    "### First Bad Version\n",
    "You are a product manager and currently leading a team to develop a new product. Unfortunately, the latest version of your product fails the quality check. Since each version is developed based on the previous version, all the versions after a bad version are also bad.\n",
    "\n",
    "Suppose you have n versions [1, 2, ..., n] and you want to find out the first bad one, which causes all the following ones to be bad.\n",
    "\n",
    "You are given an API bool isBadVersion(version) which will return whether version is bad. Implement a function to find the first bad version. You should minimize the number of calls to the API.\n",
    "\n",
    "Example:\n",
    "\n",
    "Given n = 5, and version = 4 is the first bad version.\n",
    "\n",
    "* call isBadVersion(3) -> false\n",
    "* call isBadVersion(5) -> true\n",
    "* call isBadVersion(4) -> true\n",
    "\n",
    "Then 4 is the first bad version. \n",
    "\n",
    "**Similar Problem : 374. Guess Number Higher or Lower**"
   ]
  },
  {
   "cell_type": "code",
   "execution_count": 7,
   "metadata": {},
   "outputs": [],
   "source": [
    "def firstBadVersion(n):\n",
    "    low = 1; high = n\n",
    "    while low<high:\n",
    "        mid = (low+high)//2\n",
    "        if isBadVersion(mid):\n",
    "            high = mid\n",
    "        else:\n",
    "            low = mid+1\n",
    "    return low"
   ]
  },
  {
   "cell_type": "markdown",
   "metadata": {},
   "source": [
    "### Longest Increasing Subsequence"
   ]
  },
  {
   "cell_type": "code",
   "execution_count": 2,
   "metadata": {},
   "outputs": [
    {
     "data": {
      "text/plain": [
       "4"
      ]
     },
     "execution_count": 2,
     "metadata": {},
     "output_type": "execute_result"
    }
   ],
   "source": [
    "from bisect import bisect_left\n",
    "class Solution:\n",
    "    def lengthOfLIS(self, nums) -> int:\n",
    "        dp = []; ans = 0\n",
    "        for num in nums:\n",
    "            i = bisect_left(dp, num)\n",
    "            if i==len(dp):\n",
    "                ans += 1\n",
    "                dp.append(num)\n",
    "            else:\n",
    "                dp[i] = num\n",
    "        return ans\n",
    "\n",
    "obj = Solution()\n",
    "obj.lengthOfLIS([10,9,2,5,3,7,101,18])"
   ]
  },
  {
   "cell_type": "markdown",
   "metadata": {},
   "source": [
    "### Russian Doll Envelopes\n",
    "You have a number of envelopes with widths and heights given as a pair of integers (w, h). One envelope can fit into another if and only if both the width and height of one envelope is greater than the width and height of the other envelope.\n",
    "\n",
    "What is the maximum number of envelopes can you Russian doll? (put one inside other)"
   ]
  },
  {
   "cell_type": "code",
   "execution_count": 4,
   "metadata": {},
   "outputs": [
    {
     "data": {
      "text/plain": [
       "3"
      ]
     },
     "execution_count": 4,
     "metadata": {},
     "output_type": "execute_result"
    }
   ],
   "source": [
    "from bisect import bisect_left\n",
    "class Solution:\n",
    "    def maxEnvelopes(self, envelopes) -> int:\n",
    "        dp = []\n",
    "        envelopes.sort(key=lambda x:(x[0], -x[1]))\n",
    "        for w,h in envelopes:\n",
    "            i = bisect_left(dp, h)\n",
    "            if i == len(dp):\n",
    "                dp.append(h)\n",
    "            else:\n",
    "                dp[i] = h\n",
    "        return len(dp)\n",
    "\n",
    "obj = Solution()\n",
    "obj.maxEnvelopes([[5,4],[6,4],[6,7],[2,3]])"
   ]
  },
  {
   "cell_type": "markdown",
   "metadata": {},
   "source": [
    "### Missing Element in Sorted Array\n",
    "Given a sorted array A of unique numbers, find the K-th missing number starting from the leftmost number of the array."
   ]
  },
  {
   "cell_type": "code",
   "execution_count": 5,
   "metadata": {},
   "outputs": [
    {
     "data": {
      "text/plain": [
       "8"
      ]
     },
     "execution_count": 5,
     "metadata": {},
     "output_type": "execute_result"
    }
   ],
   "source": [
    "def missingElement(nums, k):\n",
    "    low = 0; high = len(nums)-1\n",
    "    while low<=high:\n",
    "        mid = (low+high) // 2\n",
    "        num_missing = nums[mid] - nums[0] - mid\n",
    "        if num_missing < k:\n",
    "            index = mid\n",
    "            low = mid+1\n",
    "        else:\n",
    "            high = mid - 1\n",
    "    missing = nums[index] - nums[0] - index\n",
    "    return nums[index] + k - missing\n",
    "\n",
    "A = [4,7,9,10]; K = 3\n",
    "missingElement(A, K)"
   ]
  },
  {
   "cell_type": "markdown",
   "metadata": {},
   "source": [
    "### Divide Chocolate\n",
    "You have one chocolate bar that consists of some chunks. Each chunk has its own sweetness given by the array sweetness.\n",
    "\n",
    "You want to share the chocolate with your K friends so you start cutting the chocolate bar into K+1 pieces using K cuts, each piece consists of some consecutive chunks.\n",
    "\n",
    "Being generous, you will eat the piece with the minimum total sweetness and give the other pieces to your friends.\n",
    "\n",
    "Find the maximum total sweetness of the piece you can get by cutting the chocolate bar optimally."
   ]
  },
  {
   "cell_type": "code",
   "execution_count": 23,
   "metadata": {},
   "outputs": [
    {
     "data": {
      "text/plain": [
       "6"
      ]
     },
     "execution_count": 23,
     "metadata": {},
     "output_type": "execute_result"
    }
   ],
   "source": [
    "class Solution:\n",
    "    def maximizeSweetness(self, sweetness, K: int) -> int:\n",
    "        low = min(sweetness); high = sum(sweetness)\n",
    "        while low <= high:\n",
    "            mid = (low + high) // 2\n",
    "            valid = self.isValid(mid, sweetness, K)\n",
    "            if valid:\n",
    "                ans = mid\n",
    "                low = mid + 1\n",
    "            else:\n",
    "                high = mid - 1\n",
    "        return ans\n",
    "    \n",
    "    def isValid(self, target, sweetness, K):\n",
    "        count = 0\n",
    "        sweet = 0\n",
    "        for s in sweetness:\n",
    "            sweet += s\n",
    "            if sweet >= target:\n",
    "                count += 1\n",
    "                sweet = 0\n",
    "        return count >= K+1\n",
    "sweetness = [1,2,3,4,5,6,7,8,9]; K = 5       \n",
    "obj = Solution()\n",
    "obj.maximizeSweetness(sweetness, K)"
   ]
  },
  {
   "cell_type": "markdown",
   "metadata": {},
   "source": [
    "### Split Array Largest Sum\n",
    "Given an array which consists of non-negative integers and an integer m, you can split the array into m non-empty continuous subarrays. Write an algorithm to minimize the largest sum among these m subarrays."
   ]
  },
  {
   "cell_type": "code",
   "execution_count": 8,
   "metadata": {},
   "outputs": [
    {
     "data": {
      "text/plain": [
       "18"
      ]
     },
     "execution_count": 8,
     "metadata": {},
     "output_type": "execute_result"
    }
   ],
   "source": [
    "class Solution:\n",
    "    def splitArray(self, nums, m: int) -> int:\n",
    "        low = max(nums); high = sum(nums)\n",
    "        while low <= high:\n",
    "            mid = (low+high) // 2\n",
    "            valid = self.isValid(mid, nums, m)\n",
    "            if valid:\n",
    "                ans = mid\n",
    "                high = mid - 1\n",
    "            else:\n",
    "                low = mid + 1\n",
    "        return ans\n",
    "    \n",
    "    def isValid(self, target, nums, m):\n",
    "        count = 0\n",
    "        s = 0\n",
    "        for num in nums:\n",
    "            s += num\n",
    "            if s > target:\n",
    "                s = num\n",
    "                count += 1\n",
    "                if count+1 > m:\n",
    "                    return False\n",
    "        return True\n",
    "\n",
    "nums = [7,2,5,10,8]\n",
    "m = 2\n",
    "obj = Solution()\n",
    "obj.splitArray(nums, m)"
   ]
  },
  {
   "cell_type": "markdown",
   "metadata": {},
   "source": [
    "### Online Election\n",
    "In an election, the i-th vote was cast for persons[i] at time times[i].\n",
    "\n",
    "Now, we would like to implement the following query function: TopVotedCandidate.q(int t) will return the number of the person that was leading the election at time t.  \n",
    "\n",
    "Votes cast at time t will count towards our query.  In the case of a tie, the most recent vote (among tied candidates) wins."
   ]
  },
  {
   "cell_type": "code",
   "execution_count": 4,
   "metadata": {},
   "outputs": [
    {
     "data": {
      "text/plain": [
       "1"
      ]
     },
     "execution_count": 4,
     "metadata": {},
     "output_type": "execute_result"
    }
   ],
   "source": [
    "from collections import Counter\n",
    "import bisect\n",
    "class TopVotedCandidate:\n",
    "\n",
    "    def __init__(self, persons, times):\n",
    "        self.times = times\n",
    "        leader = (None, -float('inf'))\n",
    "        counter = Counter()\n",
    "        self.d = {}\n",
    "        for i in range(len(persons)):\n",
    "            t = times[i]\n",
    "            p = persons[i]\n",
    "            counter[p] += 1\n",
    "            if counter[p] >= leader[1]:\n",
    "                leader = (p, counter[p])\n",
    "            self.d[t] = leader[0]\n",
    "        \n",
    "\n",
    "    def q(self, t: int) -> int:\n",
    "        i = bisect.bisect_right(self.times, t)\n",
    "        time = self.times[i-1]\n",
    "        return self.d[time]\n",
    "        \n",
    "\n",
    "obj = TopVotedCandidate([0,1,1,0,0,1,0], [0,5,10,15,20,25,30])\n",
    "obj.q(6)"
   ]
  },
  {
   "cell_type": "markdown",
   "metadata": {},
   "source": [
    "### Fixed Point\n",
    "Given an array A of distinct integers sorted in ascending order, return the smallest index i that satisfies A[i] == i.  Return -1 if no such i exists."
   ]
  },
  {
   "cell_type": "code",
   "execution_count": 8,
   "metadata": {},
   "outputs": [
    {
     "data": {
      "text/plain": [
       "3"
      ]
     },
     "execution_count": 8,
     "metadata": {},
     "output_type": "execute_result"
    }
   ],
   "source": [
    "def fixedPoint(A) -> int:\n",
    "    low = 0; high = len(A)-1; ans = -1\n",
    "    while low <= high:\n",
    "        mid = (low+high) // 2\n",
    "        if A[mid] == mid:\n",
    "            ans = mid\n",
    "            high = mid-1\n",
    "        elif A[mid] > mid:\n",
    "            high = mid-1\n",
    "        else:\n",
    "            low = mid+1\n",
    "    return ans\n",
    "\n",
    "fixedPoint([-10,-5,0,3,7])"
   ]
  },
  {
   "cell_type": "markdown",
   "metadata": {},
   "source": [
    "### H-index II\n",
    "Given an array of citations sorted in ascending order (each citation is a non-negative integer) of a researcher, write a function to compute the researcher's h-index.\n",
    "\n",
    "According to the definition of h-index on Wikipedia: \"A scientist has index h if h of his/her N papers have at least h citations each, and the other N − h papers have no more than h citations each.\""
   ]
  },
  {
   "cell_type": "code",
   "execution_count": 2,
   "metadata": {},
   "outputs": [
    {
     "data": {
      "text/plain": [
       "3"
      ]
     },
     "execution_count": 2,
     "metadata": {},
     "output_type": "execute_result"
    }
   ],
   "source": [
    "def hIndex(citations) -> int:\n",
    "    low = 0; high = len(citations)-1\n",
    "    ans = 0\n",
    "    while low <= high:\n",
    "        mid = (low+high) // 2\n",
    "        min_num_citations = citations[mid]\n",
    "        num_papers = len(citations) - mid\n",
    "        if min_num_citations >= num_papers:\n",
    "            ans = num_papers\n",
    "            high = mid - 1\n",
    "        else:\n",
    "            low = mid + 1\n",
    "\n",
    "    return ans\n",
    "\n",
    "hIndex([0,1,3,5,6])"
   ]
  }
 ],
 "metadata": {
  "kernelspec": {
   "display_name": "Python 3",
   "language": "python",
   "name": "python3"
  },
  "language_info": {
   "codemirror_mode": {
    "name": "ipython",
    "version": 3
   },
   "file_extension": ".py",
   "mimetype": "text/x-python",
   "name": "python",
   "nbconvert_exporter": "python",
   "pygments_lexer": "ipython3",
   "version": "3.6.8"
  }
 },
 "nbformat": 4,
 "nbformat_minor": 2
}
