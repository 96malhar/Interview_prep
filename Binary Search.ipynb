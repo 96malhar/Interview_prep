{
 "cells": [
  {
   "cell_type": "markdown",
   "metadata": {},
   "source": [
    "## Implementation"
   ]
  },
  {
   "cell_type": "code",
   "execution_count": 1,
   "metadata": {},
   "outputs": [
    {
     "data": {
      "text/plain": [
       "3"
      ]
     },
     "execution_count": 1,
     "metadata": {},
     "output_type": "execute_result"
    }
   ],
   "source": [
    "def binary_search(nums,x):\n",
    "    low = 0\n",
    "    high = len(nums) - 1\n",
    "    while low <= high:\n",
    "        mid = (low + high) // 2\n",
    "        if nums[mid] < x:\n",
    "            low = mid + 1\n",
    "        elif nums[mid] > x:\n",
    "            high = mid - 1\n",
    "        else:\n",
    "            return mid\n",
    "    return -1       \n",
    "\n",
    "nums = [1,2,3,3,3,4,5]\n",
    "binary_search(nums,3)  "
   ]
  },
  {
   "cell_type": "markdown",
   "metadata": {},
   "source": [
    "## Binary search to handle duplicates : Return the first index"
   ]
  },
  {
   "cell_type": "code",
   "execution_count": 40,
   "metadata": {},
   "outputs": [
    {
     "data": {
      "text/plain": [
       "1"
      ]
     },
     "execution_count": 40,
     "metadata": {},
     "output_type": "execute_result"
    }
   ],
   "source": [
    "def binary_search(a, x):\n",
    "    low = 0\n",
    "    high = len(a) - 1\n",
    "    while low <= high:\n",
    "        mid = (low+high) // 2\n",
    "        if a[mid] < x:\n",
    "            low = mid + 1\n",
    "        elif (a[mid] > x) or (a[mid]==x and mid>0 and a[mid-1]==x):\n",
    "            high = mid - 1\n",
    "        else:\n",
    "            return mid\n",
    "a = [2,3,3,3,4]\n",
    "binary_search(a,3)"
   ]
  },
  {
   "cell_type": "markdown",
   "metadata": {},
   "source": [
    "## Search for closest - Record and move on."
   ]
  },
  {
   "cell_type": "markdown",
   "metadata": {},
   "source": [
    "### Given  a  sorted  array  of  Integers,  find  the  target.  If  the  target  is  not  found,return  the  element  closest  to  the  target.A  =  [1,2,4,5,7,8,9],  Target  =  6  ->  Output  Index  =  3  or  4  (since  both  5  and  7  are  equally  close)"
   ]
  },
  {
   "cell_type": "code",
   "execution_count": 37,
   "metadata": {},
   "outputs": [
    {
     "data": {
      "text/plain": [
       "5"
      ]
     },
     "execution_count": 37,
     "metadata": {},
     "output_type": "execute_result"
    }
   ],
   "source": [
    "def search_closest(a,x):        \n",
    "    low = 0\n",
    "    high = len(a) - 1\n",
    "    result = None\n",
    "    while low<=high:\n",
    "        mid = (low + high) // 2\n",
    "        result = record(a,mid,x, result)\n",
    "        if a[mid] < x:\n",
    "            low = mid + 1\n",
    "        elif a[mid] > x:\n",
    "            high = mid - 1\n",
    "        else:\n",
    "            return mid\n",
    "       \n",
    "    return result\n",
    "\n",
    "def record(a, mid, x, result):\n",
    "    if result is None or (abs(a[mid]-x) < abs(a[result] - x)):\n",
    "        return mid\n",
    "    return result\n",
    "\n",
    "search_closest([10,10,20,30,50,50,51],41)"
   ]
  },
  {
   "cell_type": "markdown",
   "metadata": {},
   "source": [
    "### You are given a sorted array A and a target T. If the target is found, return the index. If not, return the index where it would be placed if inserted in order. For example,\n",
    "\n",
    "* A = [1,2,4,5,6,8] and T = 3, return index 2\n",
    "* A = [1,2,4,5,6,8] and T = 0, return index 0 \n",
    "* A = [1,2,4,5,6,8] and T = 4, return index 2."
   ]
  },
  {
   "cell_type": "code",
   "execution_count": 6,
   "metadata": {},
   "outputs": [
    {
     "data": {
      "text/plain": [
       "0"
      ]
     },
     "execution_count": 6,
     "metadata": {},
     "output_type": "execute_result"
    }
   ],
   "source": [
    "def search_insert(a, x):\n",
    "    low = 0\n",
    "    high = len(a) - 1\n",
    "    result = None\n",
    "    while low<=high:\n",
    "        mid = (low + high) // 2\n",
    "        if a[mid] < x:\n",
    "            low = mid + 1\n",
    "        elif a[mid] > x:\n",
    "            high = mid - 1\n",
    "        else:\n",
    "            return mid\n",
    "    return low\n",
    "\n",
    "search_insert([10,10,20,30,50,50,51],9)"
   ]
  },
  {
   "cell_type": "markdown",
   "metadata": {},
   "source": [
    "## Special Tricks"
   ]
  },
  {
   "cell_type": "markdown",
   "metadata": {},
   "source": [
    "### Find Minimum and maximum in a rotated array\n",
    "* [1,2,4,5,7,8] rotated by 3 gives us A = [5,7,8,1,2,4] and the smallest number is 1 and largest is 8. \n",
    "* [1,2,4,5,7,8] rotated by 1 gives us A = [8,1,2,4,5,7] and the smallest number is 1 and largest is 8."
   ]
  },
  {
   "cell_type": "code",
   "execution_count": 2,
   "metadata": {},
   "outputs": [
    {
     "data": {
      "text/plain": [
       "4"
      ]
     },
     "execution_count": 2,
     "metadata": {},
     "output_type": "execute_result"
    }
   ],
   "source": [
    "def rotated_min(a):\n",
    "    low = 0\n",
    "    high = len(a) - 1\n",
    "    right = a[len(a)-1]\n",
    "    \n",
    "    while low<=high:\n",
    "        mid = (low+high) // 2\n",
    "        if a[mid] <= right and (mid==0 or a[mid-1]>a[mid]):\n",
    "             return mid             \n",
    "        elif a[mid] > right:\n",
    "            low = mid + 1\n",
    "        else:\n",
    "            high = mid - 1\n",
    "rotated_min([4,5,7,8,1,2])"
   ]
  },
  {
   "cell_type": "code",
   "execution_count": 32,
   "metadata": {},
   "outputs": [
    {
     "data": {
      "text/plain": [
       "1"
      ]
     },
     "execution_count": 32,
     "metadata": {},
     "output_type": "execute_result"
    }
   ],
   "source": [
    "def rotated_max(a):\n",
    "    low = 0\n",
    "    high = len(a) - 1\n",
    "    right = a[high]\n",
    "    \n",
    "    while low<=high:\n",
    "        mid = (low+high) // 2\n",
    "        if a[mid] <= right and (mid==0 or a[mid]<a[mid-1]):\n",
    "            break\n",
    "        elif a[mid] > right:\n",
    "            low = mid+1\n",
    "        else:\n",
    "            high = mid - 1\n",
    "    if mid==0:\n",
    "        return len(a)-1\n",
    "    return mid-1\n",
    "    \n",
    "rotated_max([7,8,1,3,4])"
   ]
  },
  {
   "cell_type": "markdown",
   "metadata": {},
   "source": [
    "### Search in a rotated array\n",
    "search for an element x in a rotated array"
   ]
  },
  {
   "cell_type": "code",
   "execution_count": 17,
   "metadata": {},
   "outputs": [
    {
     "data": {
      "text/plain": [
       "4"
      ]
     },
     "execution_count": 17,
     "metadata": {},
     "output_type": "execute_result"
    }
   ],
   "source": [
    "def search(a, x):\n",
    "    right = a[len(a)-1]\n",
    "    min_index = rotated_min(a)\n",
    "    \n",
    "    if x<right:\n",
    "        ans = binary_search(a,min_index,len(a)-1, x)\n",
    "    elif x>right:\n",
    "        ans = binary_search(a,0, min_index-1, x)\n",
    "    else:\n",
    "        ans = len(a)-1\n",
    "    return ans\n",
    "    \n",
    "def binary_search(a,low, high,  x):\n",
    "    while low<=high:\n",
    "        mid = (low + high) // 2\n",
    "        if a[mid] > x:\n",
    "            high = mid - 1\n",
    "        elif a[mid] < x:\n",
    "            low = mid+1\n",
    "        else:\n",
    "            return mid\n",
    "    return -1\n",
    "\n",
    "search([8,1,2,4,7],7)"
   ]
  },
  {
   "cell_type": "markdown",
   "metadata": {},
   "source": [
    "### Search for a peak\n",
    "* A = [1,3,4,5,2] => Peak = 5 \n",
    "* A = [5,3,1] => Peak = 5 \n",
    "* A = [1,3,5] => Peak = 5\n",
    "\n"
   ]
  },
  {
   "cell_type": "code",
   "execution_count": 20,
   "metadata": {},
   "outputs": [
    {
     "data": {
      "text/plain": [
       "3"
      ]
     },
     "execution_count": 20,
     "metadata": {},
     "output_type": "execute_result"
    }
   ],
   "source": [
    "def search_peak(a):\n",
    "    low = 0\n",
    "    high = len(a)-1\n",
    "\n",
    "    \n",
    "    while low<=high:\n",
    "        mid = (low+high)//2\n",
    "        if (mid==0 or a[mid-1]<a[mid]) and (mid==len(a)-1 or a[mid+1]<a[mid]):\n",
    "            return mid\n",
    "        elif mid!=0 and a[mid-1] > a[mid]:\n",
    "            high = mid - 1\n",
    "        else:\n",
    "            low = mid+1\n",
    "search_peak([1,3,4,5,2])"
   ]
  },
  {
   "cell_type": "markdown",
   "metadata": {},
   "source": [
    "### Find sqrt(x)"
   ]
  },
  {
   "cell_type": "code",
   "execution_count": 30,
   "metadata": {},
   "outputs": [
    {
     "data": {
      "text/plain": [
       "0"
      ]
     },
     "execution_count": 30,
     "metadata": {},
     "output_type": "execute_result"
    }
   ],
   "source": [
    "def square_root(x):\n",
    "    if x==0 or x==1:\n",
    "        return x\n",
    "    low = 1\n",
    "    high = x\n",
    "    ans = None\n",
    "    \n",
    "    while low<=high:\n",
    "        mid = (low+high)//2\n",
    "        if mid*mid == x:\n",
    "            return mid\n",
    "        elif mid*mid < x:\n",
    "            ans = mid\n",
    "            low = mid+1\n",
    "        else:\n",
    "            high = mid-1\n",
    "    return ans\n",
    "\n",
    "square_root(0)"
   ]
  },
  {
   "cell_type": "markdown",
   "metadata": {},
   "source": [
    "### Binary Search when Length is Unknown"
   ]
  },
  {
   "cell_type": "code",
   "execution_count": 41,
   "metadata": {},
   "outputs": [
    {
     "data": {
      "text/plain": [
       "3"
      ]
     },
     "execution_count": 41,
     "metadata": {},
     "output_type": "execute_result"
    }
   ],
   "source": [
    "def findLastIndex(a,low,high):\n",
    "    while low<=high:\n",
    "        mid = (low + high) // 2\n",
    "        try:\n",
    "            temp = a[mid]\n",
    "        except:\n",
    "            high = mid - 1\n",
    "            continue\n",
    "        try:\n",
    "            temp = a[mid+1]\n",
    "        except:\n",
    "            return mid\n",
    "        low = mid+1\n",
    "\n",
    "def search_unknown_length(a,x):\n",
    "    high = 1\n",
    "    last_index = None\n",
    "    \n",
    "    while True:\n",
    "        try:\n",
    "            temp = a[high]\n",
    "        except :\n",
    "            last_index = findLastIndex(a,high//2, high)\n",
    "            break\n",
    "        high = high * 2\n",
    "        \n",
    "    return binary_search(a,x,0,last_index)\n",
    "\n",
    "def binary_search(a,x,low,high):\n",
    "    while low<=high:\n",
    "        mid = (low+high)//2\n",
    "        if a[mid]<x:\n",
    "            low = mid+1\n",
    "        elif a[mid]>x:\n",
    "            high = mid-1\n",
    "        else:\n",
    "            return mid\n",
    "    return -1\n",
    "        \n",
    "        \n",
    "search_unknown_length([3,4,5,6,7,8,9],6)"
   ]
  }
 ],
 "metadata": {
  "kernelspec": {
   "display_name": "Python 3",
   "language": "python",
   "name": "python3"
  },
  "language_info": {
   "codemirror_mode": {
    "name": "ipython",
    "version": 3
   },
   "file_extension": ".py",
   "mimetype": "text/x-python",
   "name": "python",
   "nbconvert_exporter": "python",
   "pygments_lexer": "ipython3",
   "version": "3.6.8"
  }
 },
 "nbformat": 4,
 "nbformat_minor": 2
}
