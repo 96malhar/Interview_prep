{
 "cells": [
  {
   "cell_type": "markdown",
   "metadata": {},
   "source": [
    "## Implementation"
   ]
  },
  {
   "cell_type": "code",
   "execution_count": 1,
   "metadata": {},
   "outputs": [
    {
     "data": {
      "text/plain": [
       "3"
      ]
     },
     "execution_count": 1,
     "metadata": {},
     "output_type": "execute_result"
    }
   ],
   "source": [
    "def binary_search(nums,x):\n",
    "    low = 0\n",
    "    high = len(nums) - 1\n",
    "    while low <= high:\n",
    "        mid = (low + high) // 2\n",
    "        if nums[mid] < x:\n",
    "            low = mid + 1\n",
    "        elif nums[mid] > x:\n",
    "            high = mid - 1\n",
    "        else:\n",
    "            return mid\n",
    "    return -1       \n",
    "\n",
    "nums = [1,2,3,3,3,4,5]\n",
    "binary_search(nums,3)  "
   ]
  },
  {
   "cell_type": "markdown",
   "metadata": {},
   "source": [
    "### Order agnostic Binary Search"
   ]
  },
  {
   "cell_type": "code",
   "execution_count": 11,
   "metadata": {},
   "outputs": [
    {
     "data": {
      "text/plain": [
       "1"
      ]
     },
     "execution_count": 11,
     "metadata": {},
     "output_type": "execute_result"
    }
   ],
   "source": [
    "def binary_search(nums, x):\n",
    "    low = 0; high = len(nums)-1\n",
    "    isAscending = nums[low] < nums[high]\n",
    "    while low<=high:\n",
    "        mid = (low+high) // 2\n",
    "        if nums[mid] == x:\n",
    "            return mid\n",
    "        if isAscending:\n",
    "            if x>nums[mid]:\n",
    "                low = mid + 1\n",
    "            else:\n",
    "                high = mid-1\n",
    "        else:\n",
    "            if x>nums[mid]:\n",
    "                high = mid-1\n",
    "            else:\n",
    "                low = mid+1\n",
    "    return -1\n",
    "\n",
    "nums = [1,2,3,4,5]\n",
    "# nums = [7,4,3,2]\n",
    "binary_search(nums, 2)"
   ]
  },
  {
   "cell_type": "markdown",
   "metadata": {},
   "source": [
    "### Ceiling of a Number\n",
    "Given an array of numbers sorted in an ascending order, find the ceiling of a given number ‘key’. The ceiling of the ‘key’ will be the smallest element in the given array greater than or equal to the ‘key’.\n",
    "\n",
    "Write a function to return the index of the ceiling of the ‘key’. If there isn’t any ceiling return -1.\n"
   ]
  },
  {
   "cell_type": "code",
   "execution_count": 19,
   "metadata": {},
   "outputs": [],
   "source": [
    "def binary_search(nums, key):\n",
    "    if key > nums[-1]: return -1\n",
    "    low = 0; high = len(nums)-1\n",
    "    ans = -1\n",
    "    while low<=high:\n",
    "        mid = (low + high) // 2\n",
    "        if nums[mid]>key:\n",
    "            ans = mid\n",
    "            high = mid-1\n",
    "        elif nums[mid]<key:\n",
    "            low = mid+1\n",
    "        else:\n",
    "            return mid\n",
    "    return ans\n",
    "\n",
    "assert binary_search([4, 6, 10], 6) == 1\n",
    "assert binary_search([1, 3, 8, 10, 15], 12) == 4\n",
    "assert binary_search([4, 6, 10], 17) == -1\n",
    "assert binary_search([4, 6, 10], -1) == 0"
   ]
  },
  {
   "cell_type": "markdown",
   "metadata": {},
   "source": [
    "### Find Smallest Letter Greater Than Target\n",
    "Given a list of sorted characters letters containing only lowercase letters, and given a target letter target, find the smallest element in the list that is larger than the given target.\n",
    "\n",
    "Letters also wrap around. For example, if the target is target = 'z' and letters = ['a', 'b'], the answer is 'a'.\n",
    "\n"
   ]
  },
  {
   "cell_type": "code",
   "execution_count": 39,
   "metadata": {},
   "outputs": [
    {
     "name": "stdout",
     "output_type": "stream",
     "text": [
      "passed!\n"
     ]
    }
   ],
   "source": [
    "def search_next_letter(letters, target):\n",
    "    ans_index = 0\n",
    "    low = 0; high = len(letters)-1\n",
    "    while low<=high:\n",
    "        mid = (low+high) // 2\n",
    "        if letters[mid] > target:\n",
    "            ans_index = mid\n",
    "            high = mid - 1\n",
    "        else:\n",
    "            low = mid + 1\n",
    "    return letters[ans_index]\n",
    "\n",
    "assert search_next_letter(['a', 'c', 'f', 'h'], 'f') == 'h'\n",
    "assert search_next_letter(['a', 'c', 'f', 'h'], 'b') == 'c'\n",
    "assert search_next_letter(['a', 'c', 'f', 'h'], 'm') == 'a'\n",
    "print('passed!')"
   ]
  },
  {
   "cell_type": "markdown",
   "metadata": {},
   "source": [
    "### Find First and Last Position of Element in Sorted Array\n",
    "Given an array of integers nums sorted in ascending order, find the starting and ending position of a given target value.\n",
    "\n",
    "Your algorithm's runtime complexity must be in the order of O(log n).\n",
    "\n",
    "If the target is not found in the array, return [-1, -1]."
   ]
  },
  {
   "cell_type": "code",
   "execution_count": 38,
   "metadata": {},
   "outputs": [
    {
     "name": "stdout",
     "output_type": "stream",
     "text": [
      "passed!\n"
     ]
    }
   ],
   "source": [
    "def find_range(nums, target):\n",
    "    i1 = binary_search(nums, target, findFirst = True)\n",
    "    if i1 == -1: return [-1, -1]\n",
    "    i2 = binary_search(nums, target, findFirst = False)\n",
    "    return [i1, i2]\n",
    "\n",
    "def binary_search(nums, target, findFirst):\n",
    "    low = 0; high = len(nums)-1; ans = -1\n",
    "    while low<=high:\n",
    "        mid = (low+high)//2\n",
    "        if nums[mid]>target:\n",
    "            high = mid-1\n",
    "        elif nums[mid]<target:\n",
    "            low = mid+1\n",
    "        else:\n",
    "            ans = mid\n",
    "            if findFirst:\n",
    "                high = mid-1\n",
    "            else:\n",
    "                low = mid+1\n",
    "    return ans\n",
    "\n",
    "assert find_range([4, 6, 6, 6, 9], 6) == [1, 3]\n",
    "assert find_range([1, 3, 8, 10, 15], 10) == [3, 3]\n",
    "assert find_range([1, 3, 8, 10, 15], 12) == [-1,-1]\n",
    "print('passed!')"
   ]
  },
  {
   "cell_type": "markdown",
   "metadata": {},
   "source": [
    "### Minimum Difference Element\n",
    "Given  a  sorted  array  of  Integers,  find  the  target.  If  the  target  is  not  found,return  the  element  closest  to  the  target.\n",
    "\n",
    "A  =  [1,2,4,5,7,8,9],  Target  =  6  ->  Output  Index  =  3  or  4  (since  both  5  and  7  are  equally  close)"
   ]
  },
  {
   "cell_type": "code",
   "execution_count": 49,
   "metadata": {},
   "outputs": [],
   "source": [
    "def search_closest(a,x):        \n",
    "    low = 0\n",
    "    high = len(a) - 1\n",
    "    result = None\n",
    "    while low<=high:\n",
    "        mid = (low + high) // 2\n",
    "        result = record(a,mid,x, result)\n",
    "        if a[mid] < x:\n",
    "            low = mid + 1\n",
    "        elif a[mid] > x:\n",
    "            high = mid - 1\n",
    "        else:\n",
    "            return a[mid]\n",
    "       \n",
    "    return a[result]\n",
    "\n",
    "def record(a, mid, x, result):\n",
    "    if result is None or (abs(a[mid]-x) < abs(a[result] - x)):\n",
    "        return mid\n",
    "    return result\n",
    "\n",
    "assert (search_closest([4, 6, 10], 7)) == 6\n",
    "assert (search_closest([4, 6, 10], 4)) == 4\n",
    "assert (search_closest([1, 3, 8, 10, 15], 12)) == 10\n",
    "assert (search_closest([4, 6, 10], 17)) == 10"
   ]
  },
  {
   "cell_type": "markdown",
   "metadata": {},
   "source": [
    "### Search Insert Position\n",
    "You are given a sorted array A and a target T. If the target is found, return the index. If not, return the index where it would be placed if inserted in order. For example,\n",
    "\n",
    "* A = [1,2,4,5,6,8] and T = 3, return index 2\n",
    "* A = [1,2,4,5,6,8] and T = 0, return index 0 \n",
    "* A = [1,2,4,5,6,8] and T = 4, return index 2."
   ]
  },
  {
   "cell_type": "code",
   "execution_count": 6,
   "metadata": {},
   "outputs": [
    {
     "data": {
      "text/plain": [
       "0"
      ]
     },
     "execution_count": 6,
     "metadata": {},
     "output_type": "execute_result"
    }
   ],
   "source": [
    "def search_insert(a, x):\n",
    "    low = 0\n",
    "    high = len(a) - 1\n",
    "    result = None\n",
    "    while low<=high:\n",
    "        mid = (low + high) // 2\n",
    "        if a[mid] < x:\n",
    "            low = mid + 1\n",
    "        elif a[mid] > x:\n",
    "            high = mid - 1\n",
    "        else:\n",
    "            return mid\n",
    "    return low\n",
    "\n",
    "search_insert([10,10,20,30,50,50,51],9)"
   ]
  },
  {
   "cell_type": "markdown",
   "metadata": {},
   "source": [
    "### Find peak in Mountain array\n",
    "Find the maximum value in a given Bitonic array. An array is considered bitonic if it is monotonically increasing and then monotonically decreasing. Monotonically increasing or decreasing means that for any index i in the array arr[i] != arr[i+1]"
   ]
  },
  {
   "cell_type": "code",
   "execution_count": 84,
   "metadata": {},
   "outputs": [
    {
     "name": "stdout",
     "output_type": "stream",
     "text": [
      "Passed!\n"
     ]
    }
   ],
   "source": [
    "def find_max_in_bitonic_array(A):\n",
    "    start = 0; end = len(A)-1\n",
    "    while start < end:\n",
    "        mid = (start+end) // 2\n",
    "        if A[mid] > A[mid+1]:\n",
    "            end = mid\n",
    "        else:\n",
    "            start = mid +1\n",
    "    return A[start]\n",
    "\n",
    "assert (find_max_in_bitonic_array([1, 3, 8, 12, 4, 2])) == 12\n",
    "assert (find_max_in_bitonic_array([3, 8, 3, 1])) == 8\n",
    "assert (find_max_in_bitonic_array([1, 3, 8, 12])) == 12\n",
    "assert (find_max_in_bitonic_array([10, 9, 8])) == 10\n",
    "print('Passed!')"
   ]
  },
  {
   "cell_type": "markdown",
   "metadata": {},
   "source": [
    "### Find in Mountain array\n",
    "Given a Bitonic array, find if a given ‘key’ is present in it. An array is considered bitonic if it is monotonically increasing and then monotonically decreasing. Monotonically increasing or decreasing means that for any index i in the array arr[i] != arr[i+1].\n",
    "\n",
    "Write a function to return the index of the ‘key’. If the ‘key’ is not present, return -1."
   ]
  },
  {
   "cell_type": "code",
   "execution_count": 96,
   "metadata": {},
   "outputs": [
    {
     "name": "stdout",
     "output_type": "stream",
     "text": [
      "passed!\n"
     ]
    }
   ],
   "source": [
    "def search_bitonic_array(nums, x):\n",
    "    max_index = find_max_in_bitonic_array(nums)\n",
    "    idx = binary_search(0,max_index, nums, x)\n",
    "    if idx != -1:\n",
    "        return idx\n",
    "    return binary_search(max_index+1, len(nums)-1, nums, x)\n",
    "\n",
    "def find_max_in_bitonic_array(A):\n",
    "    start = 0; end = len(A)-1\n",
    "    while start < end:\n",
    "        mid = (start+end) // 2\n",
    "        if A[mid] > A[mid+1]:\n",
    "            end = mid\n",
    "        else:\n",
    "            start = mid +1\n",
    "    return start\n",
    "\n",
    "def binary_search(low, high, nums, x):\n",
    "    isAscending = nums[low] < nums[high]\n",
    "    while low<=high:\n",
    "        mid = (low+high) // 2\n",
    "        if nums[mid] == x:\n",
    "            return mid\n",
    "        if isAscending:\n",
    "            if x>nums[mid]:\n",
    "                low = mid + 1\n",
    "            else:\n",
    "                high = mid-1\n",
    "        else:\n",
    "            if x>nums[mid]:\n",
    "                high = mid-1\n",
    "            else:\n",
    "                low = mid+1\n",
    "    return -1\n",
    "\n",
    "assert (search_bitonic_array([1, 3, 8, 4, 3], 4)) == 3\n",
    "assert (search_bitonic_array([3, 8, 3, 1], 8)) == 1\n",
    "assert (search_bitonic_array([1, 3, 8, 12], 12)) == 3\n",
    "assert (search_bitonic_array([10, 9, 8], 10)) == 0\n",
    "print('passed!')"
   ]
  },
  {
   "cell_type": "markdown",
   "metadata": {},
   "source": [
    "### Find Peak element\n",
    "A peak element is an element that is greater than its neighbors.\n",
    "\n",
    "Given an input array nums, where nums[i] ≠ nums[i+1], find a peak element and return its index.\n",
    "\n",
    "The array may contain multiple peaks, in that case return the index to any one of the peaks is fine.\n",
    "\n",
    "You may imagine that nums[-1] = nums[n] = -∞.\n",
    "* A = [1,3,4,5,2] => Peak = 5 \n",
    "* A = [5,3,1] => Peak = 5 \n",
    "* A = [1,3,5] => Peak = 5\n",
    "\n"
   ]
  },
  {
   "cell_type": "code",
   "execution_count": 58,
   "metadata": {},
   "outputs": [
    {
     "data": {
      "text/plain": [
       "1"
      ]
     },
     "execution_count": 58,
     "metadata": {},
     "output_type": "execute_result"
    }
   ],
   "source": [
    "def search_peak(a):\n",
    "    low = 0; high = len(a)-1\n",
    "    while low<=high:\n",
    "        mid = (low+high)//2\n",
    "        if (mid==0 or a[mid-1]<a[mid]) and (mid==len(a)-1 or a[mid+1]<a[mid]):\n",
    "            return mid\n",
    "        elif mid!=0 and a[mid-1] > a[mid]:\n",
    "            high = mid - 1\n",
    "        else:\n",
    "            low = mid+1\n",
    "search_peak([1,3,2,5,2])"
   ]
  },
  {
   "cell_type": "markdown",
   "metadata": {},
   "source": [
    "### Search in a rotated array\n",
    "* Suppose an array sorted in ascending order is rotated at some pivot unknown to you beforehand. (i.e., [0,1,2,4,5,6,7] might become [4,5,6,7,0,1,2]).\n",
    "* You are given a target value to search. If found in the array return its index, otherwise return -1.\n",
    "* You may assume no duplicate exists in the array.\n",
    "* Your algorithm's runtime complexity must be in the order of O(log n)."
   ]
  },
  {
   "cell_type": "code",
   "execution_count": 10,
   "metadata": {},
   "outputs": [
    {
     "name": "stdout",
     "output_type": "stream",
     "text": [
      "Passed!\n"
     ]
    },
    {
     "data": {
      "text/plain": [
       "6"
      ]
     },
     "execution_count": 10,
     "metadata": {},
     "output_type": "execute_result"
    }
   ],
   "source": [
    "def search(nums, target):\n",
    "    low = 0; high = len(nums)-1\n",
    "    while low<=high:\n",
    "        mid = (low+high)//2\n",
    "        if nums[mid] == target:\n",
    "            return mid\n",
    "        if nums[low]<=nums[mid]:\n",
    "            if nums[low]<=target<nums[mid]:\n",
    "                high = mid-1\n",
    "            else:\n",
    "                low = mid+1\n",
    "        else:\n",
    "            if nums[mid]<target<=nums[high]:\n",
    "                low = mid+1\n",
    "            else:\n",
    "                high = mid-1\n",
    "    return -1\n",
    "\n",
    "assert (search([10, 15, 1, 3, 8], 15)) == 1\n",
    "assert (search([4, 5, 7, 9, 10, -1, 2], 10)) == 4\n",
    "\n",
    "print('Passed!')\n",
    "search([2,5,6,0,0,1,2], 2)"
   ]
  },
  {
   "cell_type": "markdown",
   "metadata": {},
   "source": [
    "### Search in a rotated sorted array II\n",
    "Suppose an array sorted in ascending order is rotated at some pivot unknown to you beforehand.\n",
    "\n",
    "(i.e., [0,0,1,2,2,5,6] might become [2,5,6,0,0,1,2]).\n",
    "\n",
    "You are given a target value to search. If found in the array return true, otherwise return false."
   ]
  },
  {
   "cell_type": "code",
   "execution_count": 15,
   "metadata": {},
   "outputs": [
    {
     "data": {
      "text/plain": [
       "True"
      ]
     },
     "execution_count": 15,
     "metadata": {},
     "output_type": "execute_result"
    }
   ],
   "source": [
    "def search(nums, target):\n",
    "    low = 0; high = len(nums)-1\n",
    "    while low<=high:\n",
    "        mid = (low+high)//2\n",
    "        if nums[mid] == target:\n",
    "            return True\n",
    "        if nums[low] == nums[mid] == nums[high]:\n",
    "            low+=1\n",
    "            high -= 1\n",
    "        elif nums[low]<=nums[mid]:\n",
    "            if nums[low]<=target<nums[mid]:\n",
    "                high = mid-1\n",
    "            else:\n",
    "                low = mid+1\n",
    "        else:\n",
    "            if nums[mid]<target<=nums[high]:\n",
    "                low = mid+1\n",
    "            else:\n",
    "                high = mid-1\n",
    "    return False\n",
    "\n",
    "search([1,3,1,1,1], 3)"
   ]
  },
  {
   "cell_type": "markdown",
   "metadata": {},
   "source": [
    "### Find Minimum and maximum in a rotated array\n",
    "* [1,2,4,5,7,8] rotated by 3 gives us A = [5,7,8,1,2,4] and the smallest number is 1 and largest is 8. \n",
    "* [1,2,4,5,7,8] rotated by 1 gives us A = [8,1,2,4,5,7] and the smallest number is 1 and largest is 8."
   ]
  },
  {
   "cell_type": "code",
   "execution_count": 24,
   "metadata": {},
   "outputs": [
    {
     "data": {
      "text/plain": [
       "1"
      ]
     },
     "execution_count": 24,
     "metadata": {},
     "output_type": "execute_result"
    }
   ],
   "source": [
    "def rotated_min(a):\n",
    "    low = 0; high = len(a) - 1; right = a[high]\n",
    "    \n",
    "    while low<=high:\n",
    "        mid = (low+high) // 2\n",
    "        if a[mid] <= right and (mid==0 or a[mid-1]>a[mid]):\n",
    "             return a[mid]             \n",
    "        elif a[mid] > right:\n",
    "            low = mid + 1\n",
    "        else:\n",
    "            high = mid - 1\n",
    "rotated_min([4,5,7,8,1,2])"
   ]
  },
  {
   "cell_type": "markdown",
   "metadata": {},
   "source": [
    "### Find sqrt(x)"
   ]
  },
  {
   "cell_type": "code",
   "execution_count": 25,
   "metadata": {},
   "outputs": [
    {
     "data": {
      "text/plain": [
       "2"
      ]
     },
     "execution_count": 25,
     "metadata": {},
     "output_type": "execute_result"
    }
   ],
   "source": [
    "def square_root(x):\n",
    "    if x==0 or x==1:\n",
    "        return x\n",
    "    low = 1; high = x; ans = None\n",
    "    while low<=high:\n",
    "        mid = (low+high)//2\n",
    "        if mid*mid == x:\n",
    "            return mid\n",
    "        elif mid*mid < x:\n",
    "            ans = mid\n",
    "            low = mid+1\n",
    "        else:\n",
    "            high = mid-1\n",
    "    return ans\n",
    "\n",
    "square_root(7)"
   ]
  },
  {
   "cell_type": "markdown",
   "metadata": {},
   "source": [
    "### Binary Search when Length is Unknown"
   ]
  },
  {
   "cell_type": "code",
   "execution_count": 51,
   "metadata": {},
   "outputs": [],
   "source": [
    "import math\n",
    "class ArrayReader:\n",
    "    def __init__(self, arr):\n",
    "        self.arr = arr\n",
    "\n",
    "    def get(self, index):\n",
    "        if index >= len(self.arr):\n",
    "            return math.inf\n",
    "        return self.arr[index]\n",
    "\n",
    "def search_in_infinite_array(reader, key):\n",
    "    # find the proper bounds first\n",
    "    start, end = 0, 1\n",
    "    while reader.get(end) < key:\n",
    "        start = end + 1\n",
    "        end *= 2\n",
    "    return binary_search(reader, key, start, end)\n",
    "\n",
    "def binary_search(reader, key, start, end):\n",
    "    while start <= end:\n",
    "        mid = (start + end) // 2\n",
    "        if key < reader.get(mid):\n",
    "            end = mid - 1\n",
    "        elif key > reader.get(mid):\n",
    "            start = mid + 1\n",
    "        else:  # found the key\n",
    "            return mid\n",
    "    return -1\n",
    "\n",
    "reader = ArrayReader([4, 6, 8, 10, 12, 14, 16, 18, 20, 22, 24, 26, 28, 30])\n",
    "assert (search_in_infinite_array(reader, 16)) == 6\n",
    "assert (search_in_infinite_array(reader, 11)) == -1\n",
    "\n",
    "reader = ArrayReader([1, 3, 8, 10, 15])\n",
    "assert (search_in_infinite_array(reader, 15)) == 4\n",
    "assert (search_in_infinite_array(reader, 200)) == -1    "
   ]
  },
  {
   "cell_type": "markdown",
   "metadata": {},
   "source": [
    "### Find K closest elements\n",
    "Given a sorted array, two integers k and x, find the k closest elements to x in the array. The result should also be sorted in ascending order. If there is a tie, the smaller elements are always preferred.\n",
    "\n",
    "* Input: [1,2,3,4,5], k=4, x=3\n",
    "* Output: [1,2,3,4]"
   ]
  },
  {
   "cell_type": "code",
   "execution_count": 31,
   "metadata": {},
   "outputs": [
    {
     "data": {
      "text/plain": [
       "[1, 2, 3, 4]"
      ]
     },
     "execution_count": 31,
     "metadata": {},
     "output_type": "execute_result"
    }
   ],
   "source": [
    "def findClosestElements(arr, k, x):\n",
    "    low = 0; high = len(arr)-k\n",
    "    while low < high:\n",
    "        mid = (low+high) // 2\n",
    "        if x-arr[mid] > arr[mid+k]-x:\n",
    "            low = mid+1\n",
    "        else:\n",
    "            high = mid\n",
    "    return arr[low:low+k]\n",
    "    \n",
    "arr = [1,2,3,4,5]; k=4; x=3\n",
    "findClosestElements(arr, k, x)"
   ]
  },
  {
   "cell_type": "markdown",
   "metadata": {},
   "source": [
    "### Shortest Distance to Target Color\n",
    "You are given an array colors, in which there are three colors: 1, 2 and 3. You are also given some queries. Each query consists of two integers i and c, return the shortest distance between the given index i and the target color c. If there is no solution return -1.\n",
    "\n",
    "Example 1:\n",
    "\n",
    "* Input: colors = [1,1,2,1,3,2,2,3,3], queries = [[1,3],[2,2],[6,1]]\n",
    "* Output: [3,0,3]\n",
    "* Explanation: \n",
    "* The nearest 3 from index 1 is at index 4 (3 steps away).\n",
    "* The nearest 2 from index 2 is at index 2 itself (0 steps away).\n",
    "* The nearest 1 from index 6 is at index 3 (3 steps away)."
   ]
  },
  {
   "cell_type": "code",
   "execution_count": 3,
   "metadata": {},
   "outputs": [
    {
     "data": {
      "text/plain": [
       "[3, 0, 3]"
      ]
     },
     "execution_count": 3,
     "metadata": {},
     "output_type": "execute_result"
    }
   ],
   "source": [
    "def shortestDistanceColor(colors, queries):\n",
    "    from collections import defaultdict\n",
    "    from bisect import bisect_left\n",
    "    hashmap = defaultdict(list); ans = []\n",
    "    for i, color in enumerate(colors):\n",
    "        hashmap[color].append(i)\n",
    "\n",
    "    for index, color in queries:\n",
    "        if color not in hashmap:\n",
    "            ans.append(-1)\n",
    "            continue\n",
    "        arr = hashmap[color]\n",
    "        pos = bisect_left(arr, index)\n",
    "        if pos == len(arr):\n",
    "            ans.append(index - arr[-1])\n",
    "        elif pos == 0:\n",
    "            ans.append(arr[0]-index)\n",
    "        else:\n",
    "            val1 = abs(index - arr[pos])\n",
    "            val2 = abs(index - arr[pos-1])\n",
    "            ans.append(min(val1, val2))\n",
    "    return ans\n",
    "\n",
    "colors = [1,1,2,1,3,2,2,3,3]; queries = [[1,3],[2,2],[6,1]]\n",
    "shortestDistanceColor(colors, queries)"
   ]
  },
  {
   "cell_type": "markdown",
   "metadata": {},
   "source": [
    "### Cut woods\n",
    "Given an int array wood representing the length of n pieces of wood and an int k. It is required to cut these pieces of wood such that more or equal to k pieces of the same length len are cut. What is the longest len you can get?\n",
    "\n",
    "Example 1:\n",
    "\n",
    "* Input: wood = [5, 9, 7], k = 3\n",
    "* Output: 5\n",
    "\n",
    "Explanation: \n",
    "\n",
    "* 5 -> 5\n",
    "* 9 -> 5 + 4\n",
    "* 7 -> 5 + 2"
   ]
  },
  {
   "cell_type": "code",
   "execution_count": 13,
   "metadata": {},
   "outputs": [
    {
     "data": {
      "text/plain": [
       "5"
      ]
     },
     "execution_count": 13,
     "metadata": {},
     "output_type": "execute_result"
    }
   ],
   "source": [
    "def cut_woods(wood, k):\n",
    "    low = 1; high = max(wood); ans = 0\n",
    "    while low<=high:\n",
    "        mid = (low+high) // 2\n",
    "        pieces = get_pieces(wood, mid)\n",
    "        if pieces >= k:\n",
    "            ans = mid\n",
    "            low = mid+1\n",
    "        else:\n",
    "            high = mid-1\n",
    "    return ans\n",
    "\n",
    "def get_pieces(wood, length):\n",
    "    pieces = 0\n",
    "    for w in wood:\n",
    "        pieces += w//length\n",
    "    return pieces\n",
    "            \n",
    "wood = [5, 9, 7]; k = 3\n",
    "cut_woods(wood, k)"
   ]
  }
 ],
 "metadata": {
  "kernelspec": {
   "display_name": "Python 3",
   "language": "python",
   "name": "python3"
  },
  "language_info": {
   "codemirror_mode": {
    "name": "ipython",
    "version": 3
   },
   "file_extension": ".py",
   "mimetype": "text/x-python",
   "name": "python",
   "nbconvert_exporter": "python",
   "pygments_lexer": "ipython3",
   "version": "3.6.8"
  }
 },
 "nbformat": 4,
 "nbformat_minor": 2
}
