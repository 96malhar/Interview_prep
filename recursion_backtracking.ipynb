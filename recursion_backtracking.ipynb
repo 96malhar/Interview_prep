{
 "cells": [
  {
   "cell_type": "markdown",
   "metadata": {},
   "source": [
    "## Intro To Recursion and Memoization\n",
    "Memoization is keeping the results of expensive calculations and returning the cached result rather than continuously recalculating it."
   ]
  },
  {
   "cell_type": "markdown",
   "metadata": {},
   "source": [
    "### Find the nth number in the Fibonacci series. Fibonacci series is as follows:1,1,2,3,5,8,13,21...,"
   ]
  },
  {
   "cell_type": "code",
   "execution_count": 30,
   "metadata": {},
   "outputs": [
    {
     "data": {
      "text/plain": [
       "{3: 2, 4: 3, 5: 5}"
      ]
     },
     "execution_count": 30,
     "metadata": {},
     "output_type": "execute_result"
    }
   ],
   "source": [
    "# recursion\n",
    "def fibonacci(n):\n",
    "    if n==1 or n==2 :\n",
    "        return 1\n",
    "    return fibonacci(n-1) + fibonacci(n-2)\n",
    "\n",
    "# Memoization\n",
    "def fibonacci_memo(n):\n",
    "    if n==1 or n==2:\n",
    "        return 1\n",
    "    if n in hashmap:\n",
    "        return hashmap[n]\n",
    "    result = fibonacci_memo(n-1) + fibonacci_memo(n-2)\n",
    "    hashmap[n] = result\n",
    "    return result\n",
    "\n",
    "hashmap = dict()\n",
    "fibonacci_memo(5)\n",
    "hashmap\n"
   ]
  },
  {
   "cell_type": "markdown",
   "metadata": {},
   "source": [
    "### Power Function: Implement a function to calculate x^n. You may assume that both x and n are positive and overflow doesn't happen. Try doing it in O(log(n)) time."
   ]
  },
  {
   "cell_type": "code",
   "execution_count": 3,
   "metadata": {},
   "outputs": [
    {
     "data": {
      "text/plain": [
       "144"
      ]
     },
     "execution_count": 3,
     "metadata": {},
     "output_type": "execute_result"
    }
   ],
   "source": [
    "class Solution:\n",
    "    def myPow(self, x: float, n: int) -> float:\n",
    "        if n==0:\n",
    "            return 1\n",
    "        if n<0:\n",
    "            n = -n\n",
    "            x = 1/x\n",
    "        self.cache = {}\n",
    "        return self.helper(x, n)\n",
    "    \n",
    "    def helper(self, x, n):\n",
    "        if n in self.cache:\n",
    "            return self.cache[n]\n",
    "        if n == 1:\n",
    "            return x\n",
    "        temp = self.helper(x, n//2)\n",
    "        if n%2 == 0:\n",
    "            self.cache[n] = temp*temp\n",
    "        else:\n",
    "            self.cache[n] = x*temp*temp\n",
    "        return self.cache[n]\n",
    "obj = Solution()\n",
    "obj.myPow(12,2)"
   ]
  },
  {
   "cell_type": "markdown",
   "metadata": {},
   "source": [
    "## Permutation and Combination Using Auxillary Buffer"
   ]
  },
  {
   "cell_type": "markdown",
   "metadata": {},
   "source": [
    "### Given an array of integers, print all combinations of size X."
   ]
  },
  {
   "cell_type": "code",
   "execution_count": 1,
   "metadata": {},
   "outputs": [
    {
     "data": {
      "text/plain": [
       "[[1, 2], [1, 3], [2, 3]]"
      ]
     },
     "execution_count": 1,
     "metadata": {},
     "output_type": "execute_result"
    }
   ],
   "source": [
    "def print_combos(a,x):\n",
    "    if len(a)==0 or a is None or x>len(a):\n",
    "        return -1\n",
    "    \n",
    "    print_combos_helper(a,[],0,x)\n",
    "    \n",
    "    \n",
    "def print_combos_helper(a,buffer, start_index,x):\n",
    "    if x == len(buffer):\n",
    "        result.append(buffer[:])\n",
    "        return\n",
    "    \n",
    "    for i in range(start_index,len(a)):\n",
    "        buffer.append(a[i])\n",
    "        print_combos_helper(a,buffer, i+1, x)\n",
    "        buffer.pop()\n",
    "\n",
    "result = []\n",
    "print_combos([1,2,3],2)\n",
    "result"
   ]
  },
  {
   "cell_type": "markdown",
   "metadata": {},
   "source": [
    "### Phone Number Mnemonic Problem: Given an N digit phone number, print all the strings that can be made from that phone number.\n",
    "Since 1 and 0 don't correspond to any characters, ignore them. For example:\n",
    "\n",
    "* 213 => AD, AE, AF, BD, BE, BF, CD, CE, CF \n",
    "\n",
    "* 456 => GJM, GJN, GJO, GKM, GKN, GKO,.. etc."
   ]
  },
  {
   "cell_type": "code",
   "execution_count": 4,
   "metadata": {},
   "outputs": [
    {
     "data": {
      "text/plain": [
       "['g', 'h', 'i']"
      ]
     },
     "execution_count": 4,
     "metadata": {},
     "output_type": "execute_result"
    }
   ],
   "source": [
    "def print_words(a):\n",
    "    if len(a)==0:\n",
    "        return ''\n",
    "    print_words_helper(a, [], 0)\n",
    "\n",
    "def print_words_helper(a,buffer,a_next):\n",
    "    \n",
    "    get_letter = {'0' : '',\n",
    "                  '1' : '',\n",
    "                  '2' : 'abc',\n",
    "                  '3' : 'def',\n",
    "                  '4' : 'ghi',\n",
    "                  '5' : 'jkl',\n",
    "                  '6' : 'mno',\n",
    "                  '7' : 'pqrs',\n",
    "                  '8' : 'tuv',\n",
    "                  '9' : 'wxyz'}\n",
    "    \n",
    "    if len(a)==len(buffer) or a_next == len(a):\n",
    "        string = ''.join(buffer)\n",
    "        result.append(string)\n",
    "        return\n",
    "    \n",
    "    letters = get_letter[a[a_next]]\n",
    "    if len(letters) == 0:\n",
    "        print_words_helper(a,buffer, a_next+1)\n",
    "        \n",
    "    for letter in letters:\n",
    "        buffer.append(letter)\n",
    "        print_words_helper(a,buffer,a_next+1)\n",
    "        buffer.pop()\n",
    "    \n",
    "result = []\n",
    "print_words('14')\n",
    "\n",
    "result"
   ]
  },
  {
   "cell_type": "markdown",
   "metadata": {},
   "source": [
    "### Decode\n",
    "A message containing letters from A-Z is being encoded to numbers using the following mapping:\n",
    "\n",
    "* 'A' -> 1\n",
    "* 'B' -> 2\n",
    "...\n",
    "* 'Z' -> 26\n",
    "Given a non-empty string containing only digits, determine the total number of ways to decode it.\n",
    "\n",
    "Example 1:\n",
    "\n",
    "* Input: \"12\"\n",
    "* Output: ['AB', 'L']\n",
    "* Explanation: It could be decoded as \"AB\" (1 2) or \"L\" (12).\n",
    "\n",
    "Example 2:\n",
    "\n",
    "* Input: \"226\"\n",
    "* Output: ['BZ', 'VF', 'BBF']\n",
    "* Explanation: It could be decoded as \"BZ\" (2 26), \"VF\" (22 6), or \"BBF\" (2 2 6)."
   ]
  },
  {
   "cell_type": "code",
   "execution_count": 6,
   "metadata": {},
   "outputs": [
    {
     "data": {
      "text/plain": [
       "['TBF', 'TZ']"
      ]
     },
     "execution_count": 6,
     "metadata": {},
     "output_type": "execute_result"
    }
   ],
   "source": [
    "class Solution:\n",
    "    \n",
    "    def decode(self, s):\n",
    "        import string\n",
    "        self.mapping = {}\n",
    "        for i, char in enumerate(string.ascii_uppercase):\n",
    "            self.mapping[i+1] = char\n",
    "        self.ans = []\n",
    "        self.helper([], 0, s)\n",
    "        return self.ans\n",
    "    \n",
    "    def helper(self, buffer, pointer, s):\n",
    "        if pointer == len(s):\n",
    "            self.ans.append(''.join(buffer))\n",
    "            return\n",
    "        \n",
    "        if pointer+1 <= len(s):\n",
    "            sub1 = s[pointer:pointer+1]\n",
    "            if sub1[0]!='0' and 1<=int(sub1)<=26:\n",
    "                letter = self.mapping[int(sub1)]\n",
    "                buffer.append(letter)\n",
    "                self.helper(buffer, pointer+1,s)\n",
    "                buffer.pop()\n",
    "        \n",
    "        if pointer+2 <= len(s):\n",
    "            sub2 = s[pointer:pointer+2]\n",
    "            if sub2[0]!='0' and 1<=int(sub2)<=26:\n",
    "                letter = self.mapping[int(sub2)]\n",
    "                buffer.append(letter)\n",
    "                self.helper(buffer, pointer+2,s)\n",
    "                buffer.pop()\n",
    "            \n",
    "\n",
    "sol = Solution()\n",
    "sol.decode('2026')"
   ]
  },
  {
   "cell_type": "markdown",
   "metadata": {},
   "source": [
    "### Print all subsets of an array"
   ]
  },
  {
   "cell_type": "code",
   "execution_count": 20,
   "metadata": {},
   "outputs": [
    {
     "data": {
      "text/plain": [
       "[[], [1], [1, 4], [1, 4, 2], [1, 2], [4], [4, 2], [2]]"
      ]
     },
     "execution_count": 20,
     "metadata": {},
     "output_type": "execute_result"
    }
   ],
   "source": [
    "def print_subsets(a):\n",
    "    if len(a)==0 or a is None:\n",
    "        return -1\n",
    "    \n",
    "    print_subsets_helper(a,[],0)\n",
    "    \n",
    "    \n",
    "def print_subsets_helper(a,buffer, start_index):\n",
    "    result.append(buffer[:])\n",
    "    if len(buffer) == len(a):\n",
    "        return \n",
    "\n",
    "    for i in range(start_index,len(a)):\n",
    "        buffer.append(a[i])\n",
    "        print_subsets_helper(a,buffer, i+1)\n",
    "        buffer.pop()\n",
    "\n",
    "result = []\n",
    "print_subsets([1,4,2]) \n",
    "result"
   ]
  },
  {
   "cell_type": "markdown",
   "metadata": {},
   "source": [
    "### Print all subsets when array contains duplicates"
   ]
  },
  {
   "cell_type": "code",
   "execution_count": 18,
   "metadata": {},
   "outputs": [
    {
     "data": {
      "text/plain": [
       "[[], [1], [1, 4], [1, 4, 4], [4], [4, 4]]"
      ]
     },
     "execution_count": 18,
     "metadata": {},
     "output_type": "execute_result"
    }
   ],
   "source": [
    "def print_subsets(a):\n",
    "    if len(a)==0 or a is None:\n",
    "        return -1\n",
    "    a.sort()\n",
    "    print_subsets_helper(a,[],0)\n",
    "    \n",
    "    \n",
    "def print_subsets_helper(a,buffer, start_index):\n",
    "    result.append(buffer[:])\n",
    "    if len(buffer) == len(a):\n",
    "        return \n",
    "\n",
    "    for i in range(start_index,len(a)):\n",
    "        if i > start_index and a[i] == a[i-1]:\n",
    "            continue\n",
    "        buffer.append(a[i])\n",
    "        print_subsets_helper(a,buffer, i+1)\n",
    "        buffer.pop()\n",
    "\n",
    "result = []\n",
    "print_subsets([1,4,4]) \n",
    "result"
   ]
  },
  {
   "cell_type": "markdown",
   "metadata": {},
   "source": [
    "### Print all permutations of an array of size x"
   ]
  },
  {
   "cell_type": "code",
   "execution_count": 23,
   "metadata": {},
   "outputs": [
    {
     "data": {
      "text/plain": [
       "[[1, 2], [1, 3], [2, 1], [2, 3], [3, 1], [3, 2]]"
      ]
     },
     "execution_count": 23,
     "metadata": {},
     "output_type": "execute_result"
    }
   ],
   "source": [
    "def permutations(a,x):\n",
    "    if len(a)==0 or a is None or x==0:\n",
    "        return []\n",
    "    \n",
    "    permutations_helper(a,[],set(),x)\n",
    "\n",
    "def permutations_helper(a,buffer,in_buffer,x):\n",
    "    \n",
    "    if x==len(buffer):\n",
    "        result.append(buffer[:])\n",
    "        return\n",
    "    \n",
    "    for i in range(0,len(a)):\n",
    "        if a[i] not in in_buffer:\n",
    "            in_buffer.add(a[i])\n",
    "            buffer.append(a[i])\n",
    "            permutations_helper(a,buffer,in_buffer,x)\n",
    "            buffer.pop()\n",
    "            in_buffer.remove(a[i])\n",
    "    \n",
    "result = []\n",
    "permutations([1,2,3],2)\n",
    "result"
   ]
  },
  {
   "cell_type": "markdown",
   "metadata": {},
   "source": [
    "### Print all permutations when array contains duplicates"
   ]
  },
  {
   "cell_type": "code",
   "execution_count": 8,
   "metadata": {},
   "outputs": [
    {
     "data": {
      "text/plain": [
       "[[1, 2, 2], [2, 1, 2], [2, 2, 1]]"
      ]
     },
     "execution_count": 8,
     "metadata": {},
     "output_type": "execute_result"
    }
   ],
   "source": [
    "class Solution:\n",
    "    def permuteUnique(self, a):\n",
    "        from collections import Counter\n",
    "        self.result = []\n",
    "        return self.permute_helper(a,[], Counter(a))\n",
    "    \n",
    "    def permute_helper(self,a,buffer,hm):\n",
    "        if len(buffer) == len(a):\n",
    "            self.result.append(buffer[:])\n",
    "            return\n",
    "        \n",
    "        for x in hm:\n",
    "            if hm[x]>0:\n",
    "                hm[x] -= 1\n",
    "                buffer.append(x)\n",
    "                self.permute_helper(a,buffer,hm)\n",
    "                buffer.pop()\n",
    "                hm[x] += 1\n",
    "        return self.result\n",
    "    \n",
    "obj = Solution()\n",
    "a = [1,2,2]\n",
    "obj.permuteUnique(a)"
   ]
  },
  {
   "cell_type": "markdown",
   "metadata": {},
   "source": [
    "### Coin Change Problem: Given a set of coin denominations, print out the different waysyou can make a target amount. You can use as many coins of each denomination as you like.For example: If coins are [1,2,5] and the target is 5, output will be:\n",
    "* [1,1,1,1,1]\n",
    "* [1,1,1,2]\n",
    "* [1,2,2]\n",
    "* [5]"
   ]
  },
  {
   "cell_type": "code",
   "execution_count": 17,
   "metadata": {},
   "outputs": [
    {
     "data": {
      "text/plain": [
       "[[1, 1, 1, 1, 1], [1, 1, 1, 2], [1, 2, 2], [5]]"
      ]
     },
     "execution_count": 17,
     "metadata": {},
     "output_type": "execute_result"
    }
   ],
   "source": [
    "def coin_change(coins,x):\n",
    "    if len(coins)==0 or x<0:\n",
    "        return -1\n",
    "    buffer_stack = []; result = []\n",
    "    coin_change_helper(coins,buffer_stack,0,0,x, result)\n",
    "    return result\n",
    "\n",
    "def coin_change_helper(coins,buffer_stack,start_index,cur_sum,x, result):\n",
    "    if cur_sum > x:\n",
    "        return\n",
    "    if cur_sum == x:\n",
    "        result.append(buffer_stack[:])\n",
    "        return\n",
    "    \n",
    "    for i in range(start_index,len(coins)):\n",
    "        buffer_stack.append(coins[i])\n",
    "        coin_change_helper(coins,buffer_stack,i,cur_sum+coins[i],x, result)\n",
    "        buffer_stack.pop()\n",
    "\n",
    "coin_change([1,2,5],5)"
   ]
  },
  {
   "cell_type": "markdown",
   "metadata": {},
   "source": [
    "### Climbing Steps Problem\n",
    "Let’s say you have to climb N steps. You can jump 1 step, 3 steps or 5 steps at a time. How many ways are there to get to the top of the steps."
   ]
  },
  {
   "cell_type": "code",
   "execution_count": 4,
   "metadata": {},
   "outputs": [
    {
     "data": {
      "text/plain": [
       "[[1, 1, 1, 1, 1, 1, 1, 1],\n",
       " [1, 1, 1, 1, 1, 3],\n",
       " [1, 1, 1, 1, 3, 1],\n",
       " [1, 1, 1, 3, 1, 1],\n",
       " [1, 1, 1, 5],\n",
       " [1, 1, 3, 1, 1, 1],\n",
       " [1, 1, 3, 3],\n",
       " [1, 1, 5, 1],\n",
       " [1, 3, 1, 1, 1, 1],\n",
       " [1, 3, 1, 3],\n",
       " [1, 3, 3, 1],\n",
       " [1, 5, 1, 1],\n",
       " [3, 1, 1, 1, 1, 1],\n",
       " [3, 1, 1, 3],\n",
       " [3, 1, 3, 1],\n",
       " [3, 3, 1, 1],\n",
       " [3, 5],\n",
       " [5, 1, 1, 1],\n",
       " [5, 3]]"
      ]
     },
     "execution_count": 4,
     "metadata": {},
     "output_type": "execute_result"
    }
   ],
   "source": [
    "def climbing_steps(steps, n):\n",
    "    if len(steps)==0 or n<0:\n",
    "        return -1\n",
    "    buffer_stack = []\n",
    "    climbing_steps_helper(steps, buffer_stack,0,n)\n",
    "\n",
    "def climbing_steps_helper(steps, buffer_stack, curr_sum, n):\n",
    "    if curr_sum > n:\n",
    "        return\n",
    "    if curr_sum == n:\n",
    "        result.append(buffer_stack[:])\n",
    "        return\n",
    "    \n",
    "    for i in range(len(steps)):\n",
    "        buffer_stack.append(steps[i])\n",
    "        climbing_steps_helper(steps, buffer_stack, curr_sum+steps[i],n)\n",
    "        buffer_stack.pop()\n",
    "\n",
    "result = []\n",
    "climbing_steps([1,3,5],8)\n",
    "result"
   ]
  },
  {
   "cell_type": "markdown",
   "metadata": {},
   "source": [
    "## Backtracking"
   ]
  },
  {
   "cell_type": "markdown",
   "metadata": {},
   "source": [
    "### Maze with Down-Right Movement Find if a path exists to the bottom right of the maze from A[0][0]"
   ]
  },
  {
   "cell_type": "code",
   "execution_count": 4,
   "metadata": {},
   "outputs": [
    {
     "name": "stdout",
     "output_type": "stream",
     "text": [
      "4 4\n",
      "3 4\n",
      "3 3\n",
      "2 3\n",
      "2 2\n",
      "2 1\n",
      "2 0\n",
      "1 0\n",
      "0 0\n"
     ]
    },
    {
     "data": {
      "text/plain": [
       "True"
      ]
     },
     "execution_count": 4,
     "metadata": {},
     "output_type": "execute_result"
    }
   ],
   "source": [
    "def path_exists(a,i,j):\n",
    "    if i<0 or i>=len(a) or j<0 or j>=len(a[0]) or a[i][j] == 1:\n",
    "        return False\n",
    "    \n",
    "    if i == len(a)-1 and j == len(a[0])-1:\n",
    "        print(i,j)\n",
    "        return True\n",
    "    \n",
    "    if (i,j) in hashmap:\n",
    "        return True\n",
    "    \n",
    "    if path_exists(a,i+1,j) or path_exists(a,i,j+1):\n",
    "        hashmap[(i,j)] = True\n",
    "        print(i,j)\n",
    "        return True   \n",
    "    \n",
    "    return False\n",
    "\n",
    "maze = [[0,1,1,0,0],\n",
    "        [0,1,0,0,0],\n",
    "        [0,0,0,0,0],\n",
    "        [1,1,1,0,0],\n",
    "        [1,0,0,1,0]]\n",
    "# for memoization\n",
    "hashmap = {}\n",
    "path_exists(maze,0,0)\n",
    "    "
   ]
  },
  {
   "cell_type": "markdown",
   "metadata": {},
   "source": [
    "### Maze with all Movement Find if a path exists to the bottom right of the maze from A[0][0]"
   ]
  },
  {
   "cell_type": "code",
   "execution_count": 1,
   "metadata": {},
   "outputs": [
    {
     "name": "stdout",
     "output_type": "stream",
     "text": [
      "4 4\n",
      "3 4\n",
      "2 4\n",
      "1 4\n",
      "0 4\n",
      "0 3\n",
      "0 2\n",
      "1 2\n",
      "2 2\n",
      "2 1\n",
      "3 1\n",
      "4 1\n",
      "4 0\n",
      "3 0\n",
      "2 0\n",
      "1 0\n",
      "0 0\n"
     ]
    },
    {
     "data": {
      "text/plain": [
       "True"
      ]
     },
     "execution_count": 1,
     "metadata": {},
     "output_type": "execute_result"
    }
   ],
   "source": [
    "def path_exists_dfs(a,i,j, visited):\n",
    "    if i<0 or i>=len(a) or j<0 or j>=len(a[0]) or a[i][j] == 1 or (i,j) in visited:\n",
    "        return False\n",
    "    \n",
    "    if i == len(a)-1 and j == len(a[0])-1:\n",
    "        print(i,j)\n",
    "        return True\n",
    "    \n",
    "    visited.add((i,j))\n",
    "    \n",
    "    for x,y in [(i+1,j), (i,j+1), (i-1,j), (i,j-1)]:\n",
    "        if path_exists_dfs(a,x,y,visited):\n",
    "            print(i,j)\n",
    "            return True\n",
    "    \n",
    "    return False\n",
    "\n",
    "maze = [[0,1,0,0,0],\n",
    "        [0,1,0,1,0],\n",
    "        [0,0,0,1,0],\n",
    "        [0,0,1,1,0],\n",
    "        [0,0,0,1,0]]\n",
    "\n",
    "\n",
    "path_exists_dfs(maze,0,0,set())\n",
    "    "
   ]
  },
  {
   "cell_type": "markdown",
   "metadata": {},
   "source": [
    "### Same problem as above using BFS"
   ]
  },
  {
   "cell_type": "code",
   "execution_count": 2,
   "metadata": {},
   "outputs": [
    {
     "name": "stdout",
     "output_type": "stream",
     "text": [
      "(4, 4)\n",
      "(3, 4)\n",
      "(2, 4)\n",
      "(1, 4)\n",
      "(0, 4)\n",
      "(0, 3)\n",
      "(0, 2)\n",
      "(1, 2)\n",
      "(2, 2)\n",
      "(2, 1)\n",
      "(2, 0)\n",
      "(1, 0)\n",
      "(0, 0)\n"
     ]
    },
    {
     "data": {
      "text/plain": [
       "True"
      ]
     },
     "execution_count": 2,
     "metadata": {},
     "output_type": "execute_result"
    }
   ],
   "source": [
    "def path_exists_bfs(maze):\n",
    "    queue = []; state = {}; parent = {}\n",
    "    queue.append((0,0))\n",
    "    state[(0,0)] = 'visiting'\n",
    "    \n",
    "    while len(queue):\n",
    "        i,j = queue.pop(0)\n",
    "        if i == len(maze)-1 and j == len(maze[0])-1:\n",
    "            node = (i,j)\n",
    "            while node!=(0,0):\n",
    "                print(node)\n",
    "                node = parent[node]\n",
    "            print((0,0))\n",
    "            return True\n",
    "        for x,y in [(i+1,j), (i,j+1), (i-1,j), (i,j-1)]:\n",
    "            if (x,y) not in state and 0<=x<len(maze) and 0<=y<len(maze[0]) and maze[x][y]==0:\n",
    "                queue.append((x,y))\n",
    "                state[(x,y)] = 'visiting'\n",
    "                parent[(x,y)] = (i,j)\n",
    "        state[(i,j)] = 'visited'\n",
    "    return False  \n",
    "\n",
    "maze = [[0,1,0,0,0],\n",
    "        [0,1,0,1,0],\n",
    "        [0,0,0,1,0],\n",
    "        [0,0,1,1,0],\n",
    "        [0,0,0,1,0]]\n",
    "path_exists_bfs(maze)\n",
    "\n"
   ]
  },
  {
   "cell_type": "markdown",
   "metadata": {},
   "source": [
    "### Word Break Problem: Given a String S, which contains letters and no spaces, break it into valid words. Print out all possible word combinations. Assume you are provided a dictionary of English words. For example:\n",
    "S = \"ilikemangotango\"\n",
    "\n",
    "Output: \n",
    "\"i like mango tango\" \n",
    "\"i like man go tan go\" \n",
    "\"i like mango tan go\" \n",
    "\"i like man go tango\""
   ]
  },
  {
   "cell_type": "code",
   "execution_count": 11,
   "metadata": {},
   "outputs": [
    {
     "data": {
      "text/plain": [
       "['i love ice cream and man go',\n",
       " 'i love ice cream and mango',\n",
       " 'i love icecream and man go',\n",
       " 'i love icecream and mango']"
      ]
     },
     "execution_count": 11,
     "metadata": {},
     "output_type": "execute_result"
    }
   ],
   "source": [
    "def wordbreak(string):\n",
    "    return wordbreak_helper(string,[],[])\n",
    "\n",
    "def wordbreak_helper(string,buffer,result):\n",
    "    dictionary = {\"mobile\",\"samsung\",\"sam\",\"sung\", \n",
    "                            \"man\",\"mango\", \"icecream\",\"and\", \n",
    "                            \"go\",\"i\",\"love\",\"ice\",\"cream\"}\n",
    "    if not len(string):\n",
    "        result.append(' '.join(buffer))\n",
    "        return\n",
    "    for i in range(1,len(string)+1):\n",
    "        if string[:i] in dictionary:\n",
    "            buffer.append(string[:i])\n",
    "            wordbreak_helper(string[i:],buffer,result)\n",
    "            buffer.pop()\n",
    "    return result\n",
    "\n",
    "wordbreak('iloveicecreamandmango')"
   ]
  },
  {
   "cell_type": "markdown",
   "metadata": {},
   "source": [
    "### Same as wordBreak problem but output is True or False\n",
    "* True : String can be broken\n",
    "* False : String cannot be broken"
   ]
  },
  {
   "cell_type": "code",
   "execution_count": 19,
   "metadata": {},
   "outputs": [
    {
     "data": {
      "text/plain": [
       "True"
      ]
     },
     "execution_count": 19,
     "metadata": {},
     "output_type": "execute_result"
    }
   ],
   "source": [
    "def wordbreak(string):\n",
    "    dictionary = {\"mobile\",\"samsung\",\"sam\",\"sung\", \n",
    "                            \"man\",\"mango\", \"icecream\",\"and\", \n",
    "                            \"go\",\"i\",\"love\",\"ice\",\"cream\",\"mob\"}\n",
    "    dp = [False]*(len(string)+1)\n",
    "    dp[0] = 1\n",
    "    for i in range(len(string)):\n",
    "        for j in range(i+1,len(string)+1):\n",
    "            if dp[i] and string[i:j] in dictionary:\n",
    "                dp[j] = True\n",
    "    return dp[-1]\n",
    "wordbreak('ilove')"
   ]
  },
  {
   "cell_type": "markdown",
   "metadata": {},
   "source": [
    "### Same as above but return the number of ways the string can be broken"
   ]
  },
  {
   "cell_type": "code",
   "execution_count": 9,
   "metadata": {},
   "outputs": [
    {
     "data": {
      "text/plain": [
       "2"
      ]
     },
     "execution_count": 9,
     "metadata": {},
     "output_type": "execute_result"
    }
   ],
   "source": [
    "def wordbreak(string):\n",
    "    dictionary = {\"mobile\",\"samsung\",\"sam\",\"sung\", \n",
    "                            \"man\",\"mango\", \"icecream\",\"and\", \n",
    "                            \"go\",\"i\",\"love\",\"ice\",\"cream\",\"mob\", 'take', 'bat', 'hand', 'and', 'come', 'bath'}\n",
    "    dp = [0]*(len(string)+1)\n",
    "    dp[0] = 1\n",
    "    for i in range(len(string)):\n",
    "        for j in range(i+1,len(string)+1):\n",
    "            if dp[i] and string[i:j] in dictionary:\n",
    "                dp[j] += dp[i]\n",
    "    return dp[-1]\n",
    "wordbreak('takebathandcome')"
   ]
  },
  {
   "cell_type": "markdown",
   "metadata": {},
   "source": [
    "### Same as above but the words in the dictionary have frequencies"
   ]
  },
  {
   "cell_type": "code",
   "execution_count": 8,
   "metadata": {},
   "outputs": [
    {
     "data": {
      "text/plain": [
       "False"
      ]
     },
     "execution_count": 8,
     "metadata": {},
     "output_type": "execute_result"
    }
   ],
   "source": [
    "def can_break(string, dictionary):\n",
    "    if not string:\n",
    "        return True\n",
    "    for i in range(1, len(string)+1):\n",
    "        substring = string[:i]\n",
    "        if substring in dictionary and dictionary[substring]>0:\n",
    "            dictionary[substring] -= 1\n",
    "            if can_break(string[i:], dictionary):\n",
    "                return True\n",
    "            dictionary[substring] += 1\n",
    "    return False\n",
    "    \n",
    "dictionary = {\"abc\":3, \"ab\":2, \"abca\":1}\n",
    "can_break(\"abcabcaabbc\", dictionary)"
   ]
  },
  {
   "cell_type": "markdown",
   "metadata": {},
   "source": [
    "### Palindrome Partitioning\n",
    "Given a string s, partition s such that every substring of the partition is a palindrome.\n",
    "\n",
    "Return all possible palindrome partitioning of s.\n",
    "* Input: \"aab\"\n",
    "* Output:\n",
    "[\n",
    "  [\"aa\",\"b\"],\n",
    "  [\"a\",\"a\",\"b\"]\n",
    "]"
   ]
  },
  {
   "cell_type": "code",
   "execution_count": 2,
   "metadata": {},
   "outputs": [
    {
     "data": {
      "text/plain": [
       "[['a', 'a', 'b'], ['aa', 'b']]"
      ]
     },
     "execution_count": 2,
     "metadata": {},
     "output_type": "execute_result"
    }
   ],
   "source": [
    "class Solution:\n",
    "    def partition(self, s):\n",
    "        self.result = []\n",
    "        self.helper(s, [])\n",
    "        return self.result\n",
    "    \n",
    "    def helper(self, s, buffer):\n",
    "        if not s:\n",
    "            self.result.append(buffer[:])\n",
    "            return\n",
    "        for i in range(1,len(s)+1):\n",
    "            substring = s[:i]\n",
    "            if self.isPalindrome(substring):\n",
    "                buffer.append(substring)\n",
    "                self.helper(s[i:], buffer)\n",
    "                buffer.pop()\n",
    "    \n",
    "    def isPalindrome(self,s):\n",
    "        i = 0; j = len(s)-1\n",
    "        while i < j:\n",
    "            if s[i] != s[j]:\n",
    "                return False\n",
    "            i += 1\n",
    "            j -= 1\n",
    "        return True\n",
    "obj = Solution()\n",
    "obj.partition('aab')"
   ]
  },
  {
   "cell_type": "markdown",
   "metadata": {},
   "source": [
    "### Palindrome Permutation II\n",
    "Given a string s, return all the palindromic permutations (without duplicates) of it. Return an empty list if no palindromic permutation could be form.\n",
    "* Input: \"aabb\"\n",
    "* Output: [\"abba\", \"baab\"]"
   ]
  },
  {
   "cell_type": "code",
   "execution_count": 13,
   "metadata": {},
   "outputs": [],
   "source": [
    "class Solution:\n",
    "    def generatePalindromes(self, s):\n",
    "        import collections\n",
    "        counter = collections.Counter(s); odd = []; self.result = []\n",
    "        for key in counter:\n",
    "            if counter[key]%2!=0:\n",
    "                odd.append(key)\n",
    "        if len(odd)>1:\n",
    "            return []\n",
    "        base, mid = '', ''\n",
    "        for key in counter:\n",
    "            base += key*(counter[key]//2)\n",
    "        for key in odd:\n",
    "            mid = key\n",
    "        count = collections.Counter(base); buffer = []\n",
    "        self.helper(mid,base, count, buffer, s)\n",
    "        return self.result\n",
    "    \n",
    "    def helper(self, mid,base, count, buffer, s):\n",
    "        if len(buffer)==len(base):\n",
    "            self.result.append(''.join(buffer)+mid+''.join(buffer[::-1]))\n",
    "            return\n",
    "        \n",
    "        for x in count:\n",
    "            if count[x]>0:\n",
    "                count[x]-=1\n",
    "                buffer.append(x)\n",
    "                self.helper(mid,base, count, buffer, s)\n",
    "                buffer.pop()\n",
    "                count[x] += 1"
   ]
  },
  {
   "cell_type": "code",
   "execution_count": 16,
   "metadata": {},
   "outputs": [
    {
     "data": {
      "text/plain": [
       "['abba', 'baab']"
      ]
     },
     "execution_count": 16,
     "metadata": {},
     "output_type": "execute_result"
    }
   ],
   "source": [
    "obj = Solution()\n",
    "obj.generatePalindromes('aabb')"
   ]
  },
  {
   "cell_type": "markdown",
   "metadata": {},
   "source": [
    "### Given a 2D board and a word, find if the word exists in the grid.\n",
    "\n",
    "The word can be constructed from letters of sequentially adjacent cell, where \"adjacent\" cells are those horizontally or vertically neighboring. The same letter cell may not be used more than once.\n",
    "\n",
    "board =\n",
    "[\n",
    "  ['A','B','C','E'],\n",
    "  ['S','F','C','S'],\n",
    "  ['A','D','E','E']\n",
    "]\n",
    "\n",
    "Given word = \"ABCCED\", return true.\n",
    "Given word = \"SEE\", return true.\n",
    "Given word = \"ABCB\", return false.\n"
   ]
  },
  {
   "cell_type": "code",
   "execution_count": 12,
   "metadata": {},
   "outputs": [],
   "source": [
    "def exists(board, word):\n",
    "    visited = set()\n",
    "    \n",
    "    for i in range(len(board)):\n",
    "        for j in range(len(board[0])):\n",
    "            if word_exists(board, i, j, word,0,visited):\n",
    "                return True\n",
    "    return False\n",
    "\n",
    "def word_exists(board,i,j,word,pos, visited):\n",
    "    if pos == len(word):\n",
    "        return True\n",
    "    \n",
    "    if i<0 or i >=len(board) or j<0 or j>=len(board[0]) or (i,j) in visited or board[i][j]!=word[pos]:\n",
    "        return False\n",
    "    \n",
    "    visited.add((i,j))\n",
    "    \n",
    "    for x,y in [(i,j+1), (i+1,j), (i,j-1), (i-1,j)]:\n",
    "        if word_exists(board, x,y,word,pos+1, visited):\n",
    "            return True\n",
    "    \n",
    "    visited.remove((i,j))\n",
    "    return False"
   ]
  },
  {
   "cell_type": "code",
   "execution_count": 15,
   "metadata": {},
   "outputs": [
    {
     "name": "stdout",
     "output_type": "stream",
     "text": [
      "2 1\n",
      "2 2\n",
      "1 2\n",
      "0 2\n",
      "0 1\n",
      "0 0\n"
     ]
    },
    {
     "data": {
      "text/plain": [
       "True"
      ]
     },
     "execution_count": 15,
     "metadata": {},
     "output_type": "execute_result"
    }
   ],
   "source": [
    "board = [\n",
    "  ['A','B','C','E'],\n",
    "  ['S','F','C','S'],\n",
    "  ['A','D','E','E']\n",
    "]\n",
    "word = \"ABCCED\"\n",
    "exists(board, word)"
   ]
  },
  {
   "cell_type": "markdown",
   "metadata": {},
   "source": [
    "### Flood fill\n",
    "An image is represented by a 2-D array of integers, each integer representing the pixel value of the image (from 0 to 65535).\n",
    "\n",
    "Given a coordinate (sr, sc) representing the starting pixel (row and column) of the flood fill, and a pixel value newColor, \"flood fill\" the image.\n",
    "\n",
    "To perform a \"flood fill\", consider the starting pixel, plus any pixels connected 4-directionally to the starting pixel of the same color as the starting pixel, plus any pixels connected 4-directionally to those pixels (also with the same color as the starting pixel), and so on. Replace the color of all of the aforementioned pixels with the newColor.\n",
    "\n",
    "At the end, return the modified image.\n",
    "\n",
    "input: <br/>\n",
    "image = [[1,1,1],[1,1,0],[1,0,1]] <br/>\n",
    "sr = 1, sc = 1, newColor = 2<br/>\n",
    "Output: [[2,2,2],[2,2,0],[2,0,1]]"
   ]
  },
  {
   "cell_type": "code",
   "execution_count": 16,
   "metadata": {},
   "outputs": [],
   "source": [
    "def floodFill(image, sr, sc, newColor):\n",
    "    curColor = image[sr][sc]\n",
    "    visited = set()\n",
    "    return helper(image,sr,sc, curColor, newColor, visited)\n",
    "\n",
    "def helper(image, i,j,curColor, newColor, visited):\n",
    "    if i<0 or i>=len(image) or j<0 or j >= len(image[0]) or (i,j) in visited or image[i][j]!=curColor:\n",
    "        return \n",
    "\n",
    "    visited.add((i,j))\n",
    "    image[i][j] = newColor\n",
    "    \n",
    "    for x,y in [(i,j+1), (i+1,j), (i-1,j), (i,j-1)]:\n",
    "        helper(image,x,y,curColor, newColor, visited)\n",
    "    \n",
    "    return image"
   ]
  },
  {
   "cell_type": "code",
   "execution_count": 17,
   "metadata": {},
   "outputs": [
    {
     "data": {
      "text/plain": [
       "[[2, 2, 2], [2, 2, 0], [2, 0, 1]]"
      ]
     },
     "execution_count": 17,
     "metadata": {},
     "output_type": "execute_result"
    }
   ],
   "source": [
    "image = [[1,1,1],[1,1,0],[1,0,1]] \n",
    "sr = 1; sc = 1; newColor = 2\n",
    "floodFill(image, sr, sc, newColor)"
   ]
  },
  {
   "cell_type": "markdown",
   "metadata": {},
   "source": [
    "### Unique Paths 3\n",
    "On a 2-dimensional grid, there are 4 types of squares:\n",
    "\n",
    "1 represents the starting square.  There is exactly one starting square.<\\br>\n",
    "2 represents the ending square.  There is exactly one ending square.\n",
    "\n",
    "0 represents empty squares we can walk over.\n",
    "\n",
    "-1 represents obstacles that we cannot walk over.\n",
    "\n",
    "Return the number of 4-directional walks from the starting square to the ending square, that walk over every non-obstacle square exactly once.\n",
    "\n",
    "* Input: [[1,0,0,0],[0,0,0,0],[0,0,2,-1]]\n",
    "* Output: 2\n",
    "* Explanation: We have the following two paths: \n",
    "        1. (0,0),(0,1),(0,2),(0,3),(1,3),(1,2),(1,1),(1,0),(2,0),(2,1),(2,2)\n",
    "        2. (0,0),(1,0),(2,0),(2,1),(1,1),(0,1),(0,2),(0,3),(1,3),(1,2),(2,2)\n"
   ]
  },
  {
   "cell_type": "code",
   "execution_count": 24,
   "metadata": {},
   "outputs": [],
   "source": [
    "class Solution:\n",
    "    def uniquePathsIII(self, grid):\n",
    "        self.count = 0; self.result = 0\n",
    "        for i in range(len(grid)):\n",
    "            for j in range(len(grid[0])):\n",
    "                if grid[i][j] == 1:\n",
    "                    start = (i,j)\n",
    "                    self.count += 1\n",
    "                if grid[i][j] == 2:\n",
    "                    end = (i,j)\n",
    "                    self.count += 1\n",
    "                if grid[i][j] == 0:\n",
    "                    self.count += 1\n",
    "        buffer = [start]\n",
    "        visited = {start}\n",
    "        self.helper(end, grid, buffer, visited)\n",
    "        return self.result\n",
    "    \n",
    "    def helper(self,end, grid, buffer, visited):\n",
    "        if buffer[-1] == end:\n",
    "            if len(buffer) == self.count:\n",
    "                self.result += 1\n",
    "            return\n",
    "        \n",
    "        i,j = buffer[-1]\n",
    "        for x,y in [(i+1,j), (i,j+1), (i-1,j), (i,j-1)]:\n",
    "            if 0<=x<len(grid) and 0<=y<len(grid[0]) and grid[x][y] !=-1 and (x,y) not in visited:\n",
    "                visited.add((x,y))\n",
    "                buffer.append((x,y))\n",
    "                self.helper(end, grid, buffer, visited)\n",
    "                buffer.pop()\n",
    "                visited.remove((x,y))"
   ]
  },
  {
   "cell_type": "code",
   "execution_count": 28,
   "metadata": {},
   "outputs": [
    {
     "data": {
      "text/plain": [
       "2"
      ]
     },
     "execution_count": 28,
     "metadata": {},
     "output_type": "execute_result"
    }
   ],
   "source": [
    "sol = Solution()\n",
    "sol.uniquePathsIII([[1,0,0,0],[0,0,0,0],[0,0,2,-1]])"
   ]
  },
  {
   "cell_type": "markdown",
   "metadata": {},
   "source": [
    "### N-queen Problem"
   ]
  },
  {
   "cell_type": "code",
   "execution_count": 29,
   "metadata": {},
   "outputs": [],
   "source": [
    "class Solution:\n",
    "    def solveNQueens(self, n):\n",
    "        solution = []\n",
    "        diag1 = set(); diag2 = set(); usedCols = set(); self.result = []\n",
    "        self.helper(n,solution,diag1,diag2,usedCols,0)\n",
    "        return self.result\n",
    "    \n",
    "    def helper(self, n, solution, diag1, diag2, usedCols, row):\n",
    "        if row == n:\n",
    "            self.result.append(solution[:])\n",
    "            return \n",
    "        \n",
    "        for col in range(n):\n",
    "            if row+col not in diag1 and row-col not in diag2 and col not in usedCols:\n",
    "                diag1.add(row+col)\n",
    "                diag2.add(row-col)\n",
    "                usedCols.add(col)\n",
    "                \n",
    "                string = ['.']*n\n",
    "                string[col] = 'Q'\n",
    "                \n",
    "                solution.append(''.join(string))\n",
    "                self.helper(n, solution, diag1, diag2, usedCols, row+1)\n",
    "                solution.pop()\n",
    "                \n",
    "                diag1.remove(row+col)\n",
    "                diag2.remove(row-col)\n",
    "                usedCols.remove(col)"
   ]
  },
  {
   "cell_type": "code",
   "execution_count": 30,
   "metadata": {},
   "outputs": [
    {
     "data": {
      "text/plain": [
       "[['.Q..', '...Q', 'Q...', '..Q.'], ['..Q.', 'Q...', '...Q', '.Q..']]"
      ]
     },
     "execution_count": 30,
     "metadata": {},
     "output_type": "execute_result"
    }
   ],
   "source": [
    "obj = Solution()\n",
    "obj.solveNQueens(4)"
   ]
  }
 ],
 "metadata": {
  "kernelspec": {
   "display_name": "Python 3",
   "language": "python",
   "name": "python3"
  },
  "language_info": {
   "codemirror_mode": {
    "name": "ipython",
    "version": 3
   },
   "file_extension": ".py",
   "mimetype": "text/x-python",
   "name": "python",
   "nbconvert_exporter": "python",
   "pygments_lexer": "ipython3",
   "version": "3.6.8"
  }
 },
 "nbformat": 4,
 "nbformat_minor": 2
}
