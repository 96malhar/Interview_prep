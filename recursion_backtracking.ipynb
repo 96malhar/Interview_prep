{
 "cells": [
  {
   "cell_type": "markdown",
   "metadata": {},
   "source": [
    "## Intro To Recursion and Memoization\n",
    "Memoization is keeping the results of expensive calculations and returning the cached result rather than continuously recalculating it."
   ]
  },
  {
   "cell_type": "markdown",
   "metadata": {},
   "source": [
    "### Find the nth number in the Fibonacci series. Fibonacci series is as follows:1,1,2,3,5,8,13,21...,"
   ]
  },
  {
   "cell_type": "code",
   "execution_count": 30,
   "metadata": {},
   "outputs": [
    {
     "data": {
      "text/plain": [
       "{3: 2, 4: 3, 5: 5}"
      ]
     },
     "execution_count": 30,
     "metadata": {},
     "output_type": "execute_result"
    }
   ],
   "source": [
    "# recursion\n",
    "def fibonacci(n):\n",
    "    if n==1 or n==2 :\n",
    "        return 1\n",
    "    return fibonacci(n-1) + fibonacci(n-2)\n",
    "\n",
    "# Memoization\n",
    "def fibonacci_memo(n):\n",
    "    if n==1 or n==2:\n",
    "        return 1\n",
    "    if n in hashmap:\n",
    "        return hashmap[n]\n",
    "    result = fibonacci_memo(n-1) + fibonacci_memo(n-2)\n",
    "    hashmap[n] = result\n",
    "    return result\n",
    "\n",
    "hashmap = dict()\n",
    "fibonacci_memo(5)\n",
    "hashmap\n"
   ]
  },
  {
   "cell_type": "markdown",
   "metadata": {},
   "source": [
    "### Power Function: Implement a function to calculate x^n. You may assume that both x and n are positive and overflow doesn't happen. Try doing it in O(log(n)) time."
   ]
  },
  {
   "cell_type": "code",
   "execution_count": 52,
   "metadata": {},
   "outputs": [
    {
     "data": {
      "text/plain": [
       "{1: 3, 2: 9, 4: 81}"
      ]
     },
     "execution_count": 52,
     "metadata": {},
     "output_type": "execute_result"
    }
   ],
   "source": [
    "def power(x,n):\n",
    "    if n==0:\n",
    "        return 1\n",
    "    \n",
    "    if n < 0:\n",
    "        n = -n\n",
    "        try:\n",
    "            x = 1/x\n",
    "        except:\n",
    "            return 0\n",
    "    \n",
    "    if n in hashmap:\n",
    "        return hashmap[n]\n",
    "    \n",
    "    temp = power(x,n//2)\n",
    "    if n%2==0:\n",
    "        result = temp * temp\n",
    "        hashmap[n] = result\n",
    "        return result\n",
    "    else:\n",
    "        result = x * temp * temp\n",
    "        hashmap[n] = result\n",
    "        return result\n",
    "hashmap = dict()\n",
    "power(3,4)\n",
    "hashmap"
   ]
  },
  {
   "cell_type": "markdown",
   "metadata": {},
   "source": [
    "## Permutation and Combination Using Auxillary Buffer"
   ]
  },
  {
   "cell_type": "markdown",
   "metadata": {},
   "source": [
    "### Given an array of integers, print all combinations of size X."
   ]
  },
  {
   "cell_type": "code",
   "execution_count": 51,
   "metadata": {},
   "outputs": [
    {
     "name": "stdout",
     "output_type": "stream",
     "text": [
      "[1, 2, 4]\n",
      "[1, 2, 3]\n",
      "[1, 4, 3]\n",
      "[2, 4, 3]\n"
     ]
    }
   ],
   "source": [
    "def print_combos(a,x):\n",
    "    buffer = [None]*x\n",
    "    if len(a)==0 or a is None or x>len(a):\n",
    "        return -1\n",
    "    \n",
    "    print_combos_helper(a,buffer,0,0)\n",
    "    \n",
    "    \n",
    "def print_combos_helper(a,buffer, start_index, buffer_index):\n",
    "    if buffer_index == len(buffer):\n",
    "        print(buffer)\n",
    "        return \n",
    "    \n",
    "#     if start_index == len(a):\n",
    "#         return \n",
    "    \n",
    "    for i in range(start_index,len(a)):\n",
    "        buffer[buffer_index] = a[i]\n",
    "        print_combos_helper(a,buffer, i+1, buffer_index+1)\n",
    "\n",
    "print_combos([1,2,4,3],3) "
   ]
  },
  {
   "cell_type": "markdown",
   "metadata": {},
   "source": [
    "### Phone Number Mnemonic Problem: Given an N digit phone number, print all the strings that can be made from that phone number.\n",
    "Since 1 and 0 don't correspond to any characters, ignore them. For example:\n",
    "\n",
    "* 213 => AD, AE, AF, BD, BE, BF, CD, CE, CF \n",
    "\n",
    "* 456 => GJM, GJN, GJO, GKM, GKN, GKO,.. etc."
   ]
  },
  {
   "cell_type": "code",
   "execution_count": 7,
   "metadata": {},
   "outputs": [
    {
     "name": "stdout",
     "output_type": "stream",
     "text": [
      "ag\n",
      "ah\n",
      "ai\n",
      "bg\n",
      "bh\n",
      "bi\n",
      "cg\n",
      "ch\n",
      "ci\n"
     ]
    }
   ],
   "source": [
    "def print_words(a):\n",
    "    if len(a)==0 or a=='1' or a=='0':\n",
    "        return ''\n",
    "    buffer = [None]*len(a)\n",
    "    print_words_helper(a, buffer, 0, 0)\n",
    "\n",
    "def print_words_helper(a,buffer,a_next, buffer_index):\n",
    "    \n",
    "    get_letter = {'0' : '',\n",
    "                  '1' : '',\n",
    "                  '2' : 'abc',\n",
    "                  '3' : 'def',\n",
    "                  '4' : 'ghi',\n",
    "                  '5' : 'jkl',\n",
    "                  '6' : 'mno',\n",
    "                  '7' : 'pqrs',\n",
    "                  '8' : 'tuv',\n",
    "                  '9' : 'wxyz'}\n",
    "    \n",
    "    if buffer_index==len(buffer) or a_next == len(a):\n",
    "        print(''.join(buffer[:buffer_index]))\n",
    "        return\n",
    "    \n",
    "    letters = get_letter[a[a_next]]\n",
    "    if len(letters) == 0:\n",
    "        print_words_helper(a,buffer, a_next+1, buffer_index)\n",
    "        \n",
    "    for letter in letters:\n",
    "        buffer[buffer_index] = letter\n",
    "        print_words_helper(a,buffer,a_next+1, buffer_index+1)\n",
    "    \n",
    "print_words('24')"
   ]
  },
  {
   "cell_type": "markdown",
   "metadata": {},
   "source": [
    "### Print all subsets of an array"
   ]
  },
  {
   "cell_type": "code",
   "execution_count": 23,
   "metadata": {},
   "outputs": [
    {
     "name": "stdout",
     "output_type": "stream",
     "text": [
      "[]\n",
      "[1]\n",
      "[1, 4]\n",
      "[1, 4, 2]\n",
      "[1, 2]\n",
      "[4]\n",
      "[4, 2]\n",
      "[2]\n"
     ]
    }
   ],
   "source": [
    "def print_subsets(a):\n",
    "    buffer = [None]*len(a)\n",
    "    if len(a)==0 or a is None:\n",
    "        return -1\n",
    "    \n",
    "    print_subsets_helper(a,buffer,0,0)\n",
    "    \n",
    "    \n",
    "def print_subsets_helper(a,buffer, start_index, buffer_index):\n",
    "    print(buffer[:buffer_index])\n",
    "    if buffer_index == len(buffer):\n",
    "        return \n",
    "    \n",
    "#     if start_index == len(a):\n",
    "#         return \n",
    "    \n",
    "    for i in range(start_index,len(a)):\n",
    "        buffer[buffer_index] = a[i]\n",
    "        print_subsets_helper(a,buffer, i+1, buffer_index+1)\n",
    "\n",
    "print_subsets([1,4,2]) "
   ]
  },
  {
   "cell_type": "markdown",
   "metadata": {},
   "source": [
    "### Print all permutations of an array of size x"
   ]
  },
  {
   "cell_type": "code",
   "execution_count": 227,
   "metadata": {},
   "outputs": [
    {
     "name": "stdout",
     "output_type": "stream",
     "text": [
      "[1, 2]\n",
      "[1, 3]\n",
      "[2, 1]\n",
      "[2, 3]\n",
      "[3, 1]\n",
      "[3, 2]\n"
     ]
    }
   ],
   "source": [
    "def permutations(a,x):\n",
    "    if len(a)==0 or a is None or x==0:\n",
    "        return []\n",
    "    buffer = [None]*x\n",
    "    in_buffer = [False]*len(a)\n",
    "    \n",
    "    permutations_helper(a,buffer,in_buffer,0)\n",
    "\n",
    "def permutations_helper(a,buffer,in_buffer, buffer_index):\n",
    "    \n",
    "    if buffer_index==len(buffer):\n",
    "        print(buffer)\n",
    "        return\n",
    "    \n",
    "    for i in range(0,len(a)):\n",
    "        if not in_buffer[i]:\n",
    "            buffer[buffer_index] = a[i]\n",
    "            in_buffer[i] = True\n",
    "            permutations_helper(a,buffer,in_buffer,buffer_index+1)\n",
    "            in_buffer[i] = False\n",
    "    \n",
    "permutations([1,2,3],2)"
   ]
  },
  {
   "cell_type": "markdown",
   "metadata": {},
   "source": [
    "### Coin Change Problem: Given a set of coin denominations, print out the different waysyou can make a target amount. You can use as many coins of each denomination as you like.For example: If coins are [1,2,5] and the target is 5, output will be:\n",
    "* [1,1,1,1,1]\n",
    "* [1,1,1,2]\n",
    "* [1,2,2]\n",
    "* [5]"
   ]
  },
  {
   "cell_type": "code",
   "execution_count": 62,
   "metadata": {},
   "outputs": [
    {
     "name": "stdout",
     "output_type": "stream",
     "text": [
      "[1, 1, 1, 1, 1]\n",
      "[1, 1, 1, 2]\n",
      "[1, 2, 2]\n",
      "[5]\n"
     ]
    }
   ],
   "source": [
    "def coin_change(coins, x):\n",
    "    if len(coins) == 0 or x <= 0:\n",
    "        return -1\n",
    "    buffer_stack = []\n",
    "    coin_change_helper(coins,buffer_stack,0,x,0)\n",
    "    \n",
    "def coin_change_helper(coins, buffer_stack, start_index,x,cur_sum, ans = list()):\n",
    "    \n",
    "    if cur_sum > x:\n",
    "        return\n",
    "    if cur_sum == x:\n",
    "        print(buffer_stack)\n",
    "        return\n",
    "    \n",
    "    for i in range(start_index,len(coins)):\n",
    "        buffer_stack.append(coins[i])\n",
    "        coin_change_helper(coins,buffer_stack, i, x, cur_sum+coins[i])\n",
    "        buffer_stack.pop()\n",
    "    \n",
    "coin_change([1,2,5],5)"
   ]
  },
  {
   "cell_type": "markdown",
   "metadata": {},
   "source": [
    "## Backtracking"
   ]
  },
  {
   "cell_type": "markdown",
   "metadata": {},
   "source": [
    "### Maze with Down-Right Movement Find if a path exists to the bottom right of the maze from A[0][0]"
   ]
  },
  {
   "cell_type": "code",
   "execution_count": 69,
   "metadata": {},
   "outputs": [
    {
     "name": "stdout",
     "output_type": "stream",
     "text": [
      "4 4\n",
      "3 4\n",
      "3 3\n",
      "2 3\n",
      "2 2\n",
      "2 1\n",
      "2 0\n",
      "1 0\n",
      "0 0\n"
     ]
    },
    {
     "data": {
      "text/plain": [
       "True"
      ]
     },
     "execution_count": 69,
     "metadata": {},
     "output_type": "execute_result"
    }
   ],
   "source": [
    "def path_exists(a,i,j):\n",
    "    if i<0 or i>=len(a) or j<0 or j>=len(a[0]) or a[i][j] == 1:\n",
    "        return False\n",
    "    \n",
    "    if i == len(a)-1 and j == len(a[0])-1:\n",
    "        print(i,j)\n",
    "        return True\n",
    "    \n",
    "    if (i,j) in hashmap:\n",
    "        return True\n",
    "    \n",
    "    if path_exists(a,i+1,j) or path_exists(a,i,j+1):\n",
    "        hashmap[(i,j)] = True\n",
    "        print(i,j)\n",
    "        return True   \n",
    "    \n",
    "    return False\n",
    "\n",
    "maze = [[0,1,1,0,0],\n",
    "        [0,1,0,0,0],\n",
    "        [0,0,0,0,0],\n",
    "        [1,1,1,0,0],\n",
    "        [1,0,0,1,0]]\n",
    "# for memoization\n",
    "hashmap = {}\n",
    "path_exists(maze,0,0)\n",
    "    "
   ]
  },
  {
   "cell_type": "markdown",
   "metadata": {},
   "source": [
    "### Maze with all Movement Find if a path exists to the bottom right of the maze from A[0][0]"
   ]
  },
  {
   "cell_type": "code",
   "execution_count": 73,
   "metadata": {},
   "outputs": [
    {
     "name": "stdout",
     "output_type": "stream",
     "text": [
      "4 4\n",
      "3 4\n",
      "2 4\n",
      "1 4\n",
      "1 3\n",
      "1 2\n",
      "2 2\n",
      "2 1\n",
      "2 0\n",
      "1 0\n",
      "0 0\n"
     ]
    },
    {
     "data": {
      "text/plain": [
       "True"
      ]
     },
     "execution_count": 73,
     "metadata": {},
     "output_type": "execute_result"
    }
   ],
   "source": [
    "def path_exists(a,i,j, pathsofar):\n",
    "    if i<0 or i>=len(a) or j<0 or j>=len(a[0]) or a[i][j] == 1 or (i,j) in pathsofar:\n",
    "        return False\n",
    "    \n",
    "    if i == len(a)-1 and j == len(a[0])-1:\n",
    "        print(i,j)\n",
    "        return True\n",
    "    \n",
    "    pathsofar.add((i,j))\n",
    "    \n",
    "    for point in [(i+1,j), (i,j+1), (i-1,j), (i,j-1)]:\n",
    "        if path_exists(a,point[0],point[1],pathsofar):\n",
    "            print(i,j)\n",
    "            return True\n",
    "    \n",
    "    pathsofar.remove((i,j))\n",
    "    return False\n",
    "\n",
    "maze = [[0,1,1,0,0],\n",
    "        [0,1,0,0,0],\n",
    "        [0,0,0,1,0],\n",
    "        [1,1,1,1,0],\n",
    "        [1,0,0,1,0]]\n",
    "# for memoization\n",
    "pathsofar = set()\n",
    "path_exists(maze,0,0,pathsofar)\n",
    "    "
   ]
  },
  {
   "cell_type": "markdown",
   "metadata": {},
   "source": [
    "### Word Break Problem: Given a String S, which contains letters and no spaces, break it into valid words. Print out all possible word combinations. Assume you are provided a dictionary of English words. For example:\n",
    "S = \"ilikemangotango\"\n",
    "\n",
    "Output: \n",
    "\"i like mango tango\" \n",
    "\"i like man go tan go\" \n",
    "\"i like mango tan go\" \n",
    "\"i like man go tango\""
   ]
  },
  {
   "cell_type": "code",
   "execution_count": 78,
   "metadata": {},
   "outputs": [
    {
     "name": "stdout",
     "output_type": "stream",
     "text": [
      "i love ice cream and man go\n",
      "i love ice cream and mango\n",
      "i love icecream and man go\n",
      "i love icecream and mango\n",
      "\n",
      "i love sam sung mobile\n",
      "i love samsung mobile\n"
     ]
    }
   ],
   "source": [
    "def wordbreak(string):\n",
    "    wordbreak_helper(string,len(string),'')\n",
    "\n",
    "def wordbreak_helper(string,n,result):\n",
    "    dictionary = {\"mobile\",\"samsung\",\"sam\",\"sung\", \n",
    "                            \"man\",\"mango\", \"icecream\",\"and\", \n",
    "                            \"go\",\"i\",\"love\",\"ice\",\"cream\"}\n",
    "    for i in range(1,n+1):\n",
    "        substring = string[0:i]\n",
    "        if substring in dictionary:\n",
    "            if i == n:\n",
    "                print(result+substring)\n",
    "                return\n",
    "            wordbreak_helper(string[i:n],n-i,result+substring+' ')\n",
    "\n",
    "wordbreak('iloveicecreamandmango')\n",
    "print()\n",
    "wordbreak('ilovesamsungmobile')"
   ]
  }
 ],
 "metadata": {
  "kernelspec": {
   "display_name": "Python 3",
   "language": "python",
   "name": "python3"
  },
  "language_info": {
   "codemirror_mode": {
    "name": "ipython",
    "version": 3
   },
   "file_extension": ".py",
   "mimetype": "text/x-python",
   "name": "python",
   "nbconvert_exporter": "python",
   "pygments_lexer": "ipython3",
   "version": "3.6.8"
  }
 },
 "nbformat": 4,
 "nbformat_minor": 2
}
