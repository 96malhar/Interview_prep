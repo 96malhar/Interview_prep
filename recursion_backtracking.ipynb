{
 "cells": [
  {
   "cell_type": "markdown",
   "metadata": {},
   "source": [
    "## Intro To Recursion and Memoization\n",
    "Memoization is keeping the results of expensive calculations and returning the cached result rather than continuously recalculating it."
   ]
  },
  {
   "cell_type": "markdown",
   "metadata": {},
   "source": [
    "### Find the nth number in the Fibonacci series. Fibonacci series is as follows:1,1,2,3,5,8,13,21...,"
   ]
  },
  {
   "cell_type": "code",
   "execution_count": 30,
   "metadata": {},
   "outputs": [
    {
     "data": {
      "text/plain": [
       "{3: 2, 4: 3, 5: 5}"
      ]
     },
     "execution_count": 30,
     "metadata": {},
     "output_type": "execute_result"
    }
   ],
   "source": [
    "# recursion\n",
    "def fibonacci(n):\n",
    "    if n==1 or n==2 :\n",
    "        return 1\n",
    "    return fibonacci(n-1) + fibonacci(n-2)\n",
    "\n",
    "# Memoization\n",
    "def fibonacci_memo(n):\n",
    "    if n==1 or n==2:\n",
    "        return 1\n",
    "    if n in hashmap:\n",
    "        return hashmap[n]\n",
    "    result = fibonacci_memo(n-1) + fibonacci_memo(n-2)\n",
    "    hashmap[n] = result\n",
    "    return result\n",
    "\n",
    "hashmap = dict()\n",
    "fibonacci_memo(5)\n",
    "hashmap\n"
   ]
  },
  {
   "cell_type": "markdown",
   "metadata": {},
   "source": [
    "### Power Function: Implement a function to calculate x^n. You may assume that both x and n are positive and overflow doesn't happen. Try doing it in O(log(n)) time."
   ]
  },
  {
   "cell_type": "code",
   "execution_count": 52,
   "metadata": {},
   "outputs": [
    {
     "data": {
      "text/plain": [
       "{1: 3, 2: 9, 4: 81}"
      ]
     },
     "execution_count": 52,
     "metadata": {},
     "output_type": "execute_result"
    }
   ],
   "source": [
    "def power(x,n):\n",
    "    if n==0:\n",
    "        return 1\n",
    "    \n",
    "    if n < 0:\n",
    "        n = -n\n",
    "        try:\n",
    "            x = 1/x\n",
    "        except:\n",
    "            return 0\n",
    "    \n",
    "    if n in hashmap:\n",
    "        return hashmap[n]\n",
    "    \n",
    "    temp = power(x,n//2)\n",
    "    if n%2==0:\n",
    "        result = temp * temp\n",
    "        hashmap[n] = result\n",
    "        return result\n",
    "    else:\n",
    "        result = x * temp * temp\n",
    "        hashmap[n] = result\n",
    "        return result\n",
    "hashmap = dict()\n",
    "power(3,4)\n",
    "hashmap"
   ]
  },
  {
   "cell_type": "markdown",
   "metadata": {},
   "source": [
    "## Permutation and Combination Using Auxillary Buffer"
   ]
  },
  {
   "cell_type": "markdown",
   "metadata": {},
   "source": [
    "### Given an array of integers, print all combinations of size X."
   ]
  },
  {
   "cell_type": "code",
   "execution_count": 1,
   "metadata": {},
   "outputs": [
    {
     "data": {
      "text/plain": [
       "[[1, 2], [1, 3], [1, 3], [2, 3], [2, 3], [3, 3]]"
      ]
     },
     "execution_count": 1,
     "metadata": {},
     "output_type": "execute_result"
    }
   ],
   "source": [
    "def print_combos(a,x):\n",
    "    if len(a)==0 or a is None or x>len(a):\n",
    "        return -1\n",
    "    \n",
    "    print_combos_helper(a,[],0,x)\n",
    "    \n",
    "    \n",
    "def print_combos_helper(a,buffer, start_index,x):\n",
    "    if x == len(buffer):\n",
    "        result.append(buffer[:])\n",
    "        return\n",
    "    \n",
    "    for i in range(start_index,len(a)):\n",
    "        buffer.append(a[i])\n",
    "        print_combos_helper(a,buffer, i+1, x)\n",
    "        buffer.pop()\n",
    "\n",
    "result = []\n",
    "print_combos([1,2,3,3],2)\n",
    "result"
   ]
  },
  {
   "cell_type": "markdown",
   "metadata": {},
   "source": [
    "### Phone Number Mnemonic Problem: Given an N digit phone number, print all the strings that can be made from that phone number.\n",
    "Since 1 and 0 don't correspond to any characters, ignore them. For example:\n",
    "\n",
    "* 213 => AD, AE, AF, BD, BE, BF, CD, CE, CF \n",
    "\n",
    "* 456 => GJM, GJN, GJO, GKM, GKN, GKO,.. etc."
   ]
  },
  {
   "cell_type": "code",
   "execution_count": 4,
   "metadata": {},
   "outputs": [
    {
     "data": {
      "text/plain": [
       "['ag', 'ah', 'ai', 'bg', 'bh', 'bi', 'cg', 'ch', 'ci']"
      ]
     },
     "execution_count": 4,
     "metadata": {},
     "output_type": "execute_result"
    }
   ],
   "source": [
    "def print_words(a):\n",
    "    if len(a)==0:\n",
    "        return ''\n",
    "    print_words_helper(a, [], 0)\n",
    "\n",
    "def print_words_helper(a,buffer,a_next):\n",
    "    \n",
    "    get_letter = {'0' : '',\n",
    "                  '1' : '',\n",
    "                  '2' : 'abc',\n",
    "                  '3' : 'def',\n",
    "                  '4' : 'ghi',\n",
    "                  '5' : 'jkl',\n",
    "                  '6' : 'mno',\n",
    "                  '7' : 'pqrs',\n",
    "                  '8' : 'tuv',\n",
    "                  '9' : 'wxyz'}\n",
    "    \n",
    "    if len(a)==len(buffer) or a_next == len(a):\n",
    "        string = ''.join(buffer)\n",
    "        result.append(string)\n",
    "        return\n",
    "    \n",
    "    letters = get_letter[a[a_next]]\n",
    "    if len(letters) == 0:\n",
    "        print_words_helper(a,buffer, a_next+1)\n",
    "        \n",
    "    for letter in letters:\n",
    "        buffer.append(letter)\n",
    "        print_words_helper(a,buffer,a_next+1)\n",
    "        buffer.pop()\n",
    "    \n",
    "result = []\n",
    "print_words('24')\n",
    "\n",
    "result"
   ]
  },
  {
   "cell_type": "markdown",
   "metadata": {},
   "source": [
    "### Print all subsets of an array"
   ]
  },
  {
   "cell_type": "code",
   "execution_count": 20,
   "metadata": {},
   "outputs": [
    {
     "data": {
      "text/plain": [
       "[[], [1], [1, 4], [1, 4, 2], [1, 2], [4], [4, 2], [2]]"
      ]
     },
     "execution_count": 20,
     "metadata": {},
     "output_type": "execute_result"
    }
   ],
   "source": [
    "def print_subsets(a):\n",
    "    if len(a)==0 or a is None:\n",
    "        return -1\n",
    "    \n",
    "    print_subsets_helper(a,[],0)\n",
    "    \n",
    "    \n",
    "def print_subsets_helper(a,buffer, start_index):\n",
    "    result.append(buffer[:])\n",
    "    if len(buffer) == len(a):\n",
    "        return \n",
    "\n",
    "    for i in range(start_index,len(a)):\n",
    "        buffer.append(a[i])\n",
    "        print_subsets_helper(a,buffer, i+1)\n",
    "        buffer.pop()\n",
    "\n",
    "result = []\n",
    "print_subsets([1,4,2]) \n",
    "result"
   ]
  },
  {
   "cell_type": "markdown",
   "metadata": {},
   "source": [
    "### Print all subsets when array contains duplicates"
   ]
  },
  {
   "cell_type": "code",
   "execution_count": 18,
   "metadata": {},
   "outputs": [
    {
     "data": {
      "text/plain": [
       "[[], [1], [1, 4], [1, 4, 4], [4], [4, 4]]"
      ]
     },
     "execution_count": 18,
     "metadata": {},
     "output_type": "execute_result"
    }
   ],
   "source": [
    "def print_subsets(a):\n",
    "    if len(a)==0 or a is None:\n",
    "        return -1\n",
    "    a.sort()\n",
    "    print_subsets_helper(a,[],0)\n",
    "    \n",
    "    \n",
    "def print_subsets_helper(a,buffer, start_index):\n",
    "    result.append(buffer[:])\n",
    "    if len(buffer) == len(a):\n",
    "        return \n",
    "\n",
    "    for i in range(start_index,len(a)):\n",
    "        if i > start_index and a[i] == a[i-1]:\n",
    "            continue\n",
    "        buffer.append(a[i])\n",
    "        print_subsets_helper(a,buffer, i+1)\n",
    "        buffer.pop()\n",
    "\n",
    "result = []\n",
    "print_subsets([1,4,4]) \n",
    "result"
   ]
  },
  {
   "cell_type": "markdown",
   "metadata": {},
   "source": [
    "### Print all permutations of an array of size x"
   ]
  },
  {
   "cell_type": "code",
   "execution_count": 23,
   "metadata": {},
   "outputs": [
    {
     "data": {
      "text/plain": [
       "[[1, 2], [1, 3], [2, 1], [2, 3], [3, 1], [3, 2]]"
      ]
     },
     "execution_count": 23,
     "metadata": {},
     "output_type": "execute_result"
    }
   ],
   "source": [
    "def permutations(a,x):\n",
    "    if len(a)==0 or a is None or x==0:\n",
    "        return []\n",
    "    \n",
    "    permutations_helper(a,[],set(),x)\n",
    "\n",
    "def permutations_helper(a,buffer,in_buffer,x):\n",
    "    \n",
    "    if x==len(buffer):\n",
    "        result.append(buffer[:])\n",
    "        return\n",
    "    \n",
    "    for i in range(0,len(a)):\n",
    "        if a[i] not in in_buffer:\n",
    "            in_buffer.add(a[i])\n",
    "            buffer.append(a[i])\n",
    "            permutations_helper(a,buffer,in_buffer,x)\n",
    "            buffer.pop()\n",
    "            in_buffer.remove(a[i])\n",
    "    \n",
    "result = []\n",
    "permutations([1,2,3],2)\n",
    "result"
   ]
  },
  {
   "cell_type": "markdown",
   "metadata": {},
   "source": [
    "### Print all permutations when array contains duplicates"
   ]
  },
  {
   "cell_type": "code",
   "execution_count": 28,
   "metadata": {},
   "outputs": [
    {
     "data": {
      "text/plain": [
       "[[1, 2, 2], [2, 1, 2], [2, 2, 1]]"
      ]
     },
     "execution_count": 28,
     "metadata": {},
     "output_type": "execute_result"
    }
   ],
   "source": [
    "class Solution:\n",
    "    def permuteUnique(self, a):\n",
    "        from collections import Counter\n",
    "        self.result = []\n",
    "        return self.permute_helper(a,[], Counter(a))\n",
    "    \n",
    "    def permute_helper(self,a,buffer,hm):\n",
    "        if len(buffer) == len(a):\n",
    "            self.result.append(buffer[:])\n",
    "            return\n",
    "        \n",
    "        for x in hm:\n",
    "            if hm[x]>0:\n",
    "                hm[x] -= 1\n",
    "                buffer.append(x)\n",
    "                self.permute_helper(a,buffer,hm)\n",
    "                buffer.pop()\n",
    "                hm[x] += 1\n",
    "        return self.result\n",
    "    \n",
    "obj = Solution()\n",
    "a = [1,2,2]\n",
    "obj.permuteUnique(a)"
   ]
  },
  {
   "cell_type": "markdown",
   "metadata": {},
   "source": [
    "### Coin Change Problem: Given a set of coin denominations, print out the different waysyou can make a target amount. You can use as many coins of each denomination as you like.For example: If coins are [1,2,5] and the target is 5, output will be:\n",
    "* [1,1,1,1,1]\n",
    "* [1,1,1,2]\n",
    "* [1,2,2]\n",
    "* [5]"
   ]
  },
  {
   "cell_type": "code",
   "execution_count": 8,
   "metadata": {},
   "outputs": [
    {
     "data": {
      "text/plain": [
       "[[1, 1, 1, 1, 1], [1, 1, 1, 2], [1, 2, 2], [5]]"
      ]
     },
     "execution_count": 8,
     "metadata": {},
     "output_type": "execute_result"
    }
   ],
   "source": [
    "def coin_change(coins,x):\n",
    "    if len(coins)==0 or x<0:\n",
    "        return -1\n",
    "    buffer_stack = []\n",
    "    coin_change_helper(coins,buffer_stack,0,0,x)\n",
    "\n",
    "def coin_change_helper(coins,buffer_stack,start_index,cur_sum,x):\n",
    "    if cur_sum > x:\n",
    "        return\n",
    "    if cur_sum == x:\n",
    "        result.append(buffer_stack[:])\n",
    "        return\n",
    "    \n",
    "    for i in range(start_index,len(coins)):\n",
    "        buffer_stack.append(coins[i])\n",
    "        coin_change_helper(coins,buffer_stack,i,cur_sum+coins[i],x)\n",
    "        buffer_stack.pop()\n",
    "\n",
    "\n",
    "result = []\n",
    "coin_change([1,2,5],5)\n",
    "result"
   ]
  },
  {
   "cell_type": "markdown",
   "metadata": {},
   "source": [
    "### Climbing Steps Problem\n",
    "Let’s say you have to climb N steps. You can jump 1 step, 3 steps or 5 steps at a time. How many ways are there to get to the top of the steps."
   ]
  },
  {
   "cell_type": "code",
   "execution_count": 12,
   "metadata": {},
   "outputs": [
    {
     "data": {
      "text/plain": [
       "[[1, 1, 1, 1, 1, 1, 1, 1],\n",
       " [1, 1, 1, 1, 1, 3],\n",
       " [1, 1, 1, 1, 3, 1],\n",
       " [1, 1, 1, 3, 1, 1],\n",
       " [1, 1, 1, 5],\n",
       " [1, 1, 3, 1, 1, 1],\n",
       " [1, 1, 3, 3],\n",
       " [1, 1, 5, 1],\n",
       " [1, 3, 1, 1, 1, 1],\n",
       " [1, 3, 1, 3],\n",
       " [1, 3, 3, 1],\n",
       " [1, 5, 1, 1],\n",
       " [3, 1, 1, 1, 1, 1],\n",
       " [3, 1, 1, 3],\n",
       " [3, 1, 3, 1],\n",
       " [3, 3, 1, 1],\n",
       " [3, 5],\n",
       " [5, 1, 1, 1],\n",
       " [5, 3]]"
      ]
     },
     "execution_count": 12,
     "metadata": {},
     "output_type": "execute_result"
    }
   ],
   "source": [
    "def climbing_steps(steps, n):\n",
    "    if len(steps)==0 or n<0:\n",
    "        return -1\n",
    "    buffer_stack = []\n",
    "    climbing_steps_helper(steps, buffer_stack,0,n)\n",
    "\n",
    "def climbing_steps_helper(steps, buffer_stack, curr_sum, n):\n",
    "    if curr_sum > n:\n",
    "        return\n",
    "    if curr_sum == n:\n",
    "        result.append(buffer_stack[:])\n",
    "        return\n",
    "    \n",
    "    for i in range(len(steps)):\n",
    "        buffer_stack.append(steps[i])\n",
    "        climbing_steps_helper(steps, buffer_stack, curr_sum+steps[i],n)\n",
    "        buffer_stack.pop()\n",
    "\n",
    "result = []\n",
    "climbing_steps([1,3,5],8)\n",
    "result"
   ]
  },
  {
   "cell_type": "markdown",
   "metadata": {},
   "source": [
    "## Backtracking"
   ]
  },
  {
   "cell_type": "markdown",
   "metadata": {},
   "source": [
    "### Maze with Down-Right Movement Find if a path exists to the bottom right of the maze from A[0][0]"
   ]
  },
  {
   "cell_type": "code",
   "execution_count": 69,
   "metadata": {},
   "outputs": [
    {
     "name": "stdout",
     "output_type": "stream",
     "text": [
      "4 4\n",
      "3 4\n",
      "3 3\n",
      "2 3\n",
      "2 2\n",
      "2 1\n",
      "2 0\n",
      "1 0\n",
      "0 0\n"
     ]
    },
    {
     "data": {
      "text/plain": [
       "True"
      ]
     },
     "execution_count": 69,
     "metadata": {},
     "output_type": "execute_result"
    }
   ],
   "source": [
    "def path_exists(a,i,j):\n",
    "    if i<0 or i>=len(a) or j<0 or j>=len(a[0]) or a[i][j] == 1:\n",
    "        return False\n",
    "    \n",
    "    if i == len(a)-1 and j == len(a[0])-1:\n",
    "        print(i,j)\n",
    "        return True\n",
    "    \n",
    "    if (i,j) in hashmap:\n",
    "        return True\n",
    "    \n",
    "    if path_exists(a,i+1,j) or path_exists(a,i,j+1):\n",
    "        hashmap[(i,j)] = True\n",
    "        print(i,j)\n",
    "        return True   \n",
    "    \n",
    "    return False\n",
    "\n",
    "maze = [[0,1,1,0,0],\n",
    "        [0,1,0,0,0],\n",
    "        [0,0,0,0,0],\n",
    "        [1,1,1,0,0],\n",
    "        [1,0,0,1,0]]\n",
    "# for memoization\n",
    "hashmap = {}\n",
    "path_exists(maze,0,0)\n",
    "    "
   ]
  },
  {
   "cell_type": "markdown",
   "metadata": {},
   "source": [
    "### Maze with all Movement Find if a path exists to the bottom right of the maze from A[0][0]"
   ]
  },
  {
   "cell_type": "code",
   "execution_count": 2,
   "metadata": {},
   "outputs": [
    {
     "name": "stdout",
     "output_type": "stream",
     "text": [
      "4 4\n",
      "3 4\n",
      "2 4\n",
      "1 4\n",
      "1 3\n",
      "1 2\n",
      "2 2\n",
      "2 1\n",
      "2 0\n",
      "1 0\n",
      "0 0\n"
     ]
    },
    {
     "data": {
      "text/plain": [
       "True"
      ]
     },
     "execution_count": 2,
     "metadata": {},
     "output_type": "execute_result"
    }
   ],
   "source": [
    "def path_exists(a,i,j, pathsofar, hashset):\n",
    "    if i<0 or i>=len(a) or j<0 or j>=len(a[0]) or a[i][j] == 1 or (i,j) in pathsofar:\n",
    "        return False\n",
    "    \n",
    "    if i == len(a)-1 and j == len(a[0])-1:\n",
    "        print(i,j)\n",
    "        return True\n",
    "    \n",
    "    if (i,j) in hashset:\n",
    "        return True\n",
    "    \n",
    "    pathsofar.add((i,j))\n",
    "    \n",
    "    for x,y in [(i+1,j), (i,j+1), (i-1,j), (i,j-1)]:\n",
    "        if path_exists(a,x,y,pathsofar, hashset):\n",
    "            hashset.add((i,j))\n",
    "            print(i,j)\n",
    "            return True\n",
    "    \n",
    "    pathsofar.remove((i,j))\n",
    "    return False\n",
    "\n",
    "maze = [[0,1,1,0,0],\n",
    "        [0,1,0,0,0],\n",
    "        [0,0,0,1,0],\n",
    "        [1,1,1,1,0],\n",
    "        [1,0,0,1,0]]\n",
    "\n",
    "# for memoization\n",
    "path_exists(maze,0,0,set(), set())\n",
    "    "
   ]
  },
  {
   "cell_type": "markdown",
   "metadata": {},
   "source": [
    "### Word Break Problem: Given a String S, which contains letters and no spaces, break it into valid words. Print out all possible word combinations. Assume you are provided a dictionary of English words. For example:\n",
    "S = \"ilikemangotango\"\n",
    "\n",
    "Output: \n",
    "\"i like mango tango\" \n",
    "\"i like man go tan go\" \n",
    "\"i like mango tan go\" \n",
    "\"i like man go tango\""
   ]
  },
  {
   "cell_type": "code",
   "execution_count": 78,
   "metadata": {},
   "outputs": [
    {
     "name": "stdout",
     "output_type": "stream",
     "text": [
      "i love ice cream and man go\n",
      "i love ice cream and mango\n",
      "i love icecream and man go\n",
      "i love icecream and mango\n",
      "\n",
      "i love sam sung mobile\n",
      "i love samsung mobile\n"
     ]
    }
   ],
   "source": [
    "def wordbreak(string):\n",
    "    wordbreak_helper(string,len(string),'')\n",
    "\n",
    "def wordbreak_helper(string,n,result):\n",
    "    dictionary = {\"mobile\",\"samsung\",\"sam\",\"sung\", \n",
    "                            \"man\",\"mango\", \"icecream\",\"and\", \n",
    "                            \"go\",\"i\",\"love\",\"ice\",\"cream\"}\n",
    "    for i in range(1,n+1):\n",
    "        substring = string[0:i]\n",
    "        if substring in dictionary:\n",
    "            if i == n:\n",
    "                print(result+substring)\n",
    "                return\n",
    "            wordbreak_helper(string[i:n],n-i,result+substring+' ')\n",
    "\n",
    "wordbreak('iloveicecreamandmango')\n",
    "print()\n",
    "wordbreak('ilovesamsungmobile')"
   ]
  },
  {
   "cell_type": "markdown",
   "metadata": {},
   "source": [
    "### Same as wordBreak problem but output is True or False\n",
    "* True : String can be broken\n",
    "* False : String cannot be broken"
   ]
  },
  {
   "cell_type": "code",
   "execution_count": 17,
   "metadata": {},
   "outputs": [
    {
     "data": {
      "text/plain": [
       "True"
      ]
     },
     "execution_count": 17,
     "metadata": {},
     "output_type": "execute_result"
    }
   ],
   "source": [
    "def wordbreak(string):\n",
    "    return wordbreak_helper(string,len(string))\n",
    "\n",
    "def wordbreak_helper(string,n):\n",
    "    dictionary = {\"mobile\",\"samsung\",\"sam\",\"sung\", \n",
    "                            \"man\",\"mango\", \"icecream\",\"and\", \n",
    "                            \"go\",\"i\",\"love\",\"ice\",\"cream\",\"mob\"}\n",
    "    if n==0:\n",
    "        return True\n",
    "    \n",
    "    for i in range(1,n+1):\n",
    "        substring = string[0:i]\n",
    "        if substring in dictionary and wordbreak_helper(string[i:n],n-i):\n",
    "            return True\n",
    "    return False\n",
    "\n",
    "wordbreak('ilove')"
   ]
  },
  {
   "cell_type": "markdown",
   "metadata": {},
   "source": [
    "### Given a 2D board and a word, find if the word exists in the grid.\n",
    "\n",
    "The word can be constructed from letters of sequentially adjacent cell, where \"adjacent\" cells are those horizontally or vertically neighboring. The same letter cell may not be used more than once.\n",
    "\n",
    "board =\n",
    "[\n",
    "  ['A','B','C','E'],\n",
    "  ['S','F','C','S'],\n",
    "  ['A','D','E','E']\n",
    "]\n",
    "\n",
    "Given word = \"ABCCED\", return true.\n",
    "Given word = \"SEE\", return true.\n",
    "Given word = \"ABCB\", return false.\n"
   ]
  },
  {
   "cell_type": "code",
   "execution_count": 26,
   "metadata": {},
   "outputs": [],
   "source": [
    "def exists(board, word):\n",
    "    visited = set()\n",
    "    \n",
    "    for i in range(len(board)):\n",
    "        for j in range(len(board[0])):\n",
    "            if word_exists(board, i, j, word,0,visited):\n",
    "                return True\n",
    "    return False\n",
    "\n",
    "def word_exists(board,i,j,word,pos, visited):\n",
    "    if pos == len(word):\n",
    "        return True\n",
    "    \n",
    "    if i<0 or i >=len(board) or j<0 or j>=len(board[0]) or (i,j) in visited or board[i][j]!=word[pos]:\n",
    "        return False\n",
    "    \n",
    "    visited.add((i,j))\n",
    "    \n",
    "    for x,y in [(i,j+1), (i+1,j), (i,j-1), (i-1,j)]:\n",
    "        if word_exists(board, x,y,word,pos+1, visited):\n",
    "            print(i,j)\n",
    "            return True\n",
    "    \n",
    "    visited.remove((i,j))\n",
    "    return False"
   ]
  },
  {
   "cell_type": "code",
   "execution_count": 30,
   "metadata": {},
   "outputs": [
    {
     "name": "stdout",
     "output_type": "stream",
     "text": [
      "2 1\n",
      "2 2\n",
      "1 2\n",
      "0 2\n",
      "0 1\n",
      "0 0\n"
     ]
    },
    {
     "data": {
      "text/plain": [
       "True"
      ]
     },
     "execution_count": 30,
     "metadata": {},
     "output_type": "execute_result"
    }
   ],
   "source": [
    "board = [\n",
    "  ['A','B','C','E'],\n",
    "  ['S','F','C','S'],\n",
    "  ['A','D','E','E']\n",
    "]\n",
    "word = \"ABCCED\"\n",
    "exists(board, word)"
   ]
  },
  {
   "cell_type": "markdown",
   "metadata": {},
   "source": [
    "### Flood fill\n",
    "An image is represented by a 2-D array of integers, each integer representing the pixel value of the image (from 0 to 65535).\n",
    "\n",
    "Given a coordinate (sr, sc) representing the starting pixel (row and column) of the flood fill, and a pixel value newColor, \"flood fill\" the image.\n",
    "\n",
    "To perform a \"flood fill\", consider the starting pixel, plus any pixels connected 4-directionally to the starting pixel of the same color as the starting pixel, plus any pixels connected 4-directionally to those pixels (also with the same color as the starting pixel), and so on. Replace the color of all of the aforementioned pixels with the newColor.\n",
    "\n",
    "At the end, return the modified image.\n",
    "\n",
    "input: <br/>\n",
    "image = [[1,1,1],[1,1,0],[1,0,1]] <br/>\n",
    "sr = 1, sc = 1, newColor = 2<br/>\n",
    "Output: [[2,2,2],[2,2,0],[2,0,1]]"
   ]
  },
  {
   "cell_type": "code",
   "execution_count": 16,
   "metadata": {},
   "outputs": [],
   "source": [
    "def floodFill(image, sr, sc, newColor):\n",
    "    curColor = image[sr][sc]\n",
    "    visited = set()\n",
    "    return helper(image,sr,sc, curColor, newColor, visited)\n",
    "\n",
    "def helper(image, i,j,curColor, newColor, visited):\n",
    "    if i<0 or i>=len(image) or j<0 or j >= len(image[0]) or (i,j) in visited or image[i][j]!=curColor:\n",
    "        return \n",
    "\n",
    "    visited.add((i,j))\n",
    "    image[i][j] = newColor\n",
    "    \n",
    "    for x,y in [(i,j+1), (i+1,j), (i-1,j), (i,j-1)]:\n",
    "        helper(image,x,y,curColor, newColor, visited)\n",
    "    \n",
    "    return image"
   ]
  },
  {
   "cell_type": "code",
   "execution_count": 17,
   "metadata": {},
   "outputs": [
    {
     "data": {
      "text/plain": [
       "[[2, 2, 2], [2, 2, 0], [2, 0, 1]]"
      ]
     },
     "execution_count": 17,
     "metadata": {},
     "output_type": "execute_result"
    }
   ],
   "source": [
    "image = [[1,1,1],[1,1,0],[1,0,1]] \n",
    "sr = 1; sc = 1; newColor = 2\n",
    "floodFill(image, sr, sc, newColor)"
   ]
  }
 ],
 "metadata": {
  "kernelspec": {
   "display_name": "Python 3",
   "language": "python",
   "name": "python3"
  },
  "language_info": {
   "codemirror_mode": {
    "name": "ipython",
    "version": 3
   },
   "file_extension": ".py",
   "mimetype": "text/x-python",
   "name": "python",
   "nbconvert_exporter": "python",
   "pygments_lexer": "ipython3",
   "version": "3.6.8"
  }
 },
 "nbformat": 4,
 "nbformat_minor": 2
}
