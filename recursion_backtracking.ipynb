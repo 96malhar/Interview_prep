{
 "cells": [
  {
   "cell_type": "markdown",
   "metadata": {},
   "source": [
    "## Intro To Recursion and Memoization\n",
    "Memoization is keeping the results of expensive calculations and returning the cached result rather than continuously recalculating it."
   ]
  },
  {
   "cell_type": "markdown",
   "metadata": {},
   "source": [
    "### Find the nth number in the Fibonacci series. Fibonacci series is as follows:1,1,2,3,5,8,13,21...,"
   ]
  },
  {
   "cell_type": "code",
   "execution_count": 30,
   "metadata": {},
   "outputs": [
    {
     "data": {
      "text/plain": [
       "{3: 2, 4: 3, 5: 5}"
      ]
     },
     "execution_count": 30,
     "metadata": {},
     "output_type": "execute_result"
    }
   ],
   "source": [
    "# recursion\n",
    "def fibonacci(n):\n",
    "    if n==1 or n==2 :\n",
    "        return 1\n",
    "    return fibonacci(n-1) + fibonacci(n-2)\n",
    "\n",
    "# Memoization\n",
    "def fibonacci_memo(n):\n",
    "    if n==1 or n==2:\n",
    "        return 1\n",
    "    if n in hashmap:\n",
    "        return hashmap[n]\n",
    "    result = fibonacci_memo(n-1) + fibonacci_memo(n-2)\n",
    "    hashmap[n] = result\n",
    "    return result\n",
    "\n",
    "hashmap = dict()\n",
    "fibonacci_memo(5)\n",
    "hashmap\n"
   ]
  },
  {
   "cell_type": "markdown",
   "metadata": {},
   "source": [
    "### Power Function: Implement a function to calculate x^n. You may assume that both x and n are positive and overflow doesn't happen. Try doing it in O(log(n)) time."
   ]
  },
  {
   "cell_type": "code",
   "execution_count": 3,
   "metadata": {},
   "outputs": [
    {
     "data": {
      "text/plain": [
       "144"
      ]
     },
     "execution_count": 3,
     "metadata": {},
     "output_type": "execute_result"
    }
   ],
   "source": [
    "class Solution:\n",
    "    def myPow(self, x: float, n: int) -> float:\n",
    "        if n==0:\n",
    "            return 1\n",
    "        if n<0:\n",
    "            n = -n\n",
    "            x = 1/x\n",
    "        self.cache = {}\n",
    "        return self.helper(x, n)\n",
    "    \n",
    "    def helper(self, x, n):\n",
    "        if n in self.cache:\n",
    "            return self.cache[n]\n",
    "        if n == 1:\n",
    "            return x\n",
    "        temp = self.helper(x, n//2)\n",
    "        if n%2 == 0:\n",
    "            self.cache[n] = temp*temp\n",
    "        else:\n",
    "            self.cache[n] = x*temp*temp\n",
    "        return self.cache[n]\n",
    "obj = Solution()\n",
    "obj.myPow(12,2)"
   ]
  },
  {
   "cell_type": "markdown",
   "metadata": {},
   "source": [
    "## Permutation and Combination Using Auxillary Buffer"
   ]
  },
  {
   "cell_type": "markdown",
   "metadata": {},
   "source": [
    "### Given an array of integers, print all combinations of size X."
   ]
  },
  {
   "cell_type": "code",
   "execution_count": 1,
   "metadata": {},
   "outputs": [
    {
     "data": {
      "text/plain": [
       "[[1, 2], [1, 3], [2, 3]]"
      ]
     },
     "execution_count": 1,
     "metadata": {},
     "output_type": "execute_result"
    }
   ],
   "source": [
    "def print_combos(a,x):\n",
    "    if len(a)==0 or a is None or x>len(a):\n",
    "        return -1\n",
    "    \n",
    "    print_combos_helper(a,[],0,x)\n",
    "    \n",
    "    \n",
    "def print_combos_helper(a,buffer, start_index,x):\n",
    "    if x == len(buffer):\n",
    "        result.append(buffer[:])\n",
    "        return\n",
    "    \n",
    "    for i in range(start_index,len(a)):\n",
    "        buffer.append(a[i])\n",
    "        print_combos_helper(a,buffer, i+1, x)\n",
    "        buffer.pop()\n",
    "\n",
    "result = []\n",
    "print_combos([1,2,3],2)\n",
    "result"
   ]
  },
  {
   "cell_type": "markdown",
   "metadata": {},
   "source": [
    "### Maximum Score Words Formed by Letters\n",
    "Given a list of words, list of  single letters (might be repeating) and score of every character.\n",
    "\n",
    "Return the maximum score of any valid set of words formed by using the given letters (words[i] cannot be used two or more times).\n",
    "\n",
    "It is not necessary to use all characters in letters and each letter can only be used once. Score of letters 'a', 'b', 'c', ... ,'z' is given by score[0], score[1], ... , score[25] respectively."
   ]
  },
  {
   "cell_type": "code",
   "execution_count": 11,
   "metadata": {},
   "outputs": [
    {
     "data": {
      "text/plain": [
       "23"
      ]
     },
     "execution_count": 11,
     "metadata": {},
     "output_type": "execute_result"
    }
   ],
   "source": [
    "import collections\n",
    "class Solution:\n",
    "    def maxScoreWords(self, words, letters, score):\n",
    "        self.ans = 0\n",
    "        self.letter_count = collections.Counter(letters)\n",
    "        self.score = score\n",
    "        self.generate_subsets(words, [])\n",
    "        return self.ans\n",
    "    \n",
    "    def generate_subsets(self, words, buffer):\n",
    "        self.update_score(buffer[:])\n",
    "        if not words:\n",
    "            return\n",
    "        for i in range(len(words)):\n",
    "            buffer.append(words[i])\n",
    "            self.generate_subsets(words[i+1:], buffer)\n",
    "            buffer.pop()\n",
    "            \n",
    "    def update_score(self, buffer):\n",
    "        string = ''.join(buffer)\n",
    "        freq = collections.Counter(string)\n",
    "        score = 0\n",
    "        for letter in string:\n",
    "            if freq[letter] <= self.letter_count[letter]:\n",
    "                score += self.score[ord(letter) - ord('a')]\n",
    "            else: return\n",
    "        self.ans = max(self.ans, score)\n",
    "    \n",
    "words = [\"dog\",\"cat\",\"dad\",\"good\"] \n",
    "letters = [\"a\",\"a\",\"c\",\"d\",\"d\",\"d\",\"g\",\"o\",\"o\"]\n",
    "score = [1,0,9,5,0,0,3,0,0,0,0,0,0,0,2,0,0,0,0,0,0,0,0,0,0,0]\n",
    "obj = Solution()\n",
    "obj.maxScoreWords(words, letters, score)"
   ]
  },
  {
   "cell_type": "markdown",
   "metadata": {},
   "source": [
    "### Phone Number Mnemonic Problem: Given an N digit phone number, print all the strings that can be made from that phone number.\n",
    "Since 1 and 0 don't correspond to any characters, ignore them. For example:\n",
    "\n",
    "* 213 => AD, AE, AF, BD, BE, BF, CD, CE, CF \n",
    "\n",
    "* 456 => GJM, GJN, GJO, GKM, GKN, GKO,.. etc."
   ]
  },
  {
   "cell_type": "code",
   "execution_count": 4,
   "metadata": {},
   "outputs": [
    {
     "data": {
      "text/plain": [
       "['g', 'h', 'i']"
      ]
     },
     "execution_count": 4,
     "metadata": {},
     "output_type": "execute_result"
    }
   ],
   "source": [
    "def print_words(a):\n",
    "    if len(a)==0:\n",
    "        return ''\n",
    "    print_words_helper(a, [], 0)\n",
    "\n",
    "def print_words_helper(a,buffer,a_next):\n",
    "    \n",
    "    get_letter = {'0' : '',\n",
    "                  '1' : '',\n",
    "                  '2' : 'abc',\n",
    "                  '3' : 'def',\n",
    "                  '4' : 'ghi',\n",
    "                  '5' : 'jkl',\n",
    "                  '6' : 'mno',\n",
    "                  '7' : 'pqrs',\n",
    "                  '8' : 'tuv',\n",
    "                  '9' : 'wxyz'}\n",
    "    \n",
    "    if len(a)==len(buffer) or a_next == len(a):\n",
    "        string = ''.join(buffer)\n",
    "        result.append(string)\n",
    "        return\n",
    "    \n",
    "    letters = get_letter[a[a_next]]\n",
    "    if len(letters) == 0:\n",
    "        print_words_helper(a,buffer, a_next+1)\n",
    "        \n",
    "    for letter in letters:\n",
    "        buffer.append(letter)\n",
    "        print_words_helper(a,buffer,a_next+1)\n",
    "        buffer.pop()\n",
    "    \n",
    "result = []\n",
    "print_words('14')\n",
    "\n",
    "result"
   ]
  },
  {
   "cell_type": "markdown",
   "metadata": {},
   "source": [
    "### Decode\n",
    "A message containing letters from A-Z is being encoded to numbers using the following mapping:\n",
    "\n",
    "* 'A' -> 1\n",
    "* 'B' -> 2\n",
    "...\n",
    "* 'Z' -> 26\n",
    "Given a non-empty string containing only digits, determine the total number of ways to decode it.\n",
    "\n",
    "Example 1:\n",
    "\n",
    "* Input: \"12\"\n",
    "* Output: ['AB', 'L']\n",
    "* Explanation: It could be decoded as \"AB\" (1 2) or \"L\" (12).\n",
    "\n",
    "Example 2:\n",
    "\n",
    "* Input: \"226\"\n",
    "* Output: ['BZ', 'VF', 'BBF']\n",
    "* Explanation: It could be decoded as \"BZ\" (2 26), \"VF\" (22 6), or \"BBF\" (2 2 6)."
   ]
  },
  {
   "cell_type": "code",
   "execution_count": 32,
   "metadata": {},
   "outputs": [
    {
     "data": {
      "text/plain": [
       "['TBB', 'TV']"
      ]
     },
     "execution_count": 32,
     "metadata": {},
     "output_type": "execute_result"
    }
   ],
   "source": [
    "class Solution:\n",
    "    \n",
    "    def decode(self, s):\n",
    "        import string\n",
    "        self.mapping = {}\n",
    "        for i, char in enumerate(string.ascii_uppercase):\n",
    "            self.mapping[i+1] = char\n",
    "        self.ans = []\n",
    "        self.helper([], 0, s)\n",
    "        return self.ans\n",
    "    \n",
    "    def helper(self, buffer, pointer, s):\n",
    "        if pointer == len(s):\n",
    "            self.ans.append(''.join(buffer))\n",
    "            return\n",
    "        \n",
    "        if pointer+1 <= len(s):\n",
    "            sub1 = s[pointer:pointer+1]\n",
    "            if sub1[0]!='0' and 1<=int(sub1)<=26:\n",
    "                letter = self.mapping[int(sub1)]\n",
    "                buffer.append(letter)\n",
    "                self.helper(buffer, pointer+1,s)\n",
    "                buffer.pop()\n",
    "        \n",
    "        if pointer+2 <= len(s):\n",
    "            sub2 = s[pointer:pointer+2]\n",
    "            if sub2[0]!='0' and 1<=int(sub2)<=26:\n",
    "                letter = self.mapping[int(sub2)]\n",
    "                buffer.append(letter)\n",
    "                self.helper(buffer, pointer+2,s)\n",
    "                buffer.pop()\n",
    "            \n",
    "\n",
    "sol = Solution()\n",
    "sol.decode('2022')"
   ]
  },
  {
   "cell_type": "markdown",
   "metadata": {},
   "source": [
    "### Print all subsets of an array"
   ]
  },
  {
   "cell_type": "code",
   "execution_count": 3,
   "metadata": {},
   "outputs": [
    {
     "data": {
      "text/plain": [
       "[[], [1], [1, 4], [1, 4, 2], [1, 2], [4], [4, 2], [2]]"
      ]
     },
     "execution_count": 3,
     "metadata": {},
     "output_type": "execute_result"
    }
   ],
   "source": [
    "def print_subsets(a):\n",
    "    if len(a)==0 or a is None:\n",
    "        return -1\n",
    "    \n",
    "    print_subsets_helper(a,[],0)\n",
    "    \n",
    "    \n",
    "def print_subsets_helper(a,buffer, start_index):\n",
    "    result.append(buffer[:])\n",
    "    if len(buffer) == len(a):\n",
    "        return \n",
    "\n",
    "    for i in range(start_index,len(a)):\n",
    "        buffer.append(a[i])\n",
    "        print_subsets_helper(a,buffer, i+1)\n",
    "        buffer.pop()\n",
    "\n",
    "result = []\n",
    "print_subsets([1,4,2]) \n",
    "result"
   ]
  },
  {
   "cell_type": "markdown",
   "metadata": {},
   "source": [
    "### Print all subsets when array contains duplicates"
   ]
  },
  {
   "cell_type": "code",
   "execution_count": 18,
   "metadata": {},
   "outputs": [
    {
     "data": {
      "text/plain": [
       "[[], [1], [1, 4], [1, 4, 4], [4], [4, 4]]"
      ]
     },
     "execution_count": 18,
     "metadata": {},
     "output_type": "execute_result"
    }
   ],
   "source": [
    "def print_subsets(a):\n",
    "    if len(a)==0 or a is None:\n",
    "        return -1\n",
    "    a.sort()\n",
    "    print_subsets_helper(a,[],0)\n",
    "    \n",
    "    \n",
    "def print_subsets_helper(a,buffer, start_index):\n",
    "    result.append(buffer[:])\n",
    "    if len(buffer) == len(a):\n",
    "        return \n",
    "\n",
    "    for i in range(start_index,len(a)):\n",
    "        if i > start_index and a[i] == a[i-1]:\n",
    "            continue\n",
    "        buffer.append(a[i])\n",
    "        print_subsets_helper(a,buffer, i+1)\n",
    "        buffer.pop()\n",
    "\n",
    "result = []\n",
    "print_subsets([1,4,4]) \n",
    "result"
   ]
  },
  {
   "cell_type": "markdown",
   "metadata": {},
   "source": [
    "### Print all permutations of an array of size x"
   ]
  },
  {
   "cell_type": "code",
   "execution_count": 23,
   "metadata": {},
   "outputs": [
    {
     "data": {
      "text/plain": [
       "[[1, 2], [1, 3], [2, 1], [2, 3], [3, 1], [3, 2]]"
      ]
     },
     "execution_count": 23,
     "metadata": {},
     "output_type": "execute_result"
    }
   ],
   "source": [
    "def permutations(a,x):\n",
    "    if len(a)==0 or a is None or x==0:\n",
    "        return []\n",
    "    \n",
    "    permutations_helper(a,[],set(),x)\n",
    "\n",
    "def permutations_helper(a,buffer,in_buffer,x):\n",
    "    \n",
    "    if x==len(buffer):\n",
    "        result.append(buffer[:])\n",
    "        return\n",
    "    \n",
    "    for i in range(0,len(a)):\n",
    "        if a[i] not in in_buffer:\n",
    "            in_buffer.add(a[i])\n",
    "            buffer.append(a[i])\n",
    "            permutations_helper(a,buffer,in_buffer,x)\n",
    "            buffer.pop()\n",
    "            in_buffer.remove(a[i])\n",
    "    \n",
    "result = []\n",
    "permutations([1,2,3],2)\n",
    "result"
   ]
  },
  {
   "cell_type": "markdown",
   "metadata": {},
   "source": [
    "### Print all permutations when array contains duplicates"
   ]
  },
  {
   "cell_type": "code",
   "execution_count": 8,
   "metadata": {},
   "outputs": [
    {
     "data": {
      "text/plain": [
       "[[1, 2, 2], [2, 1, 2], [2, 2, 1]]"
      ]
     },
     "execution_count": 8,
     "metadata": {},
     "output_type": "execute_result"
    }
   ],
   "source": [
    "class Solution:\n",
    "    def permuteUnique(self, a):\n",
    "        from collections import Counter\n",
    "        self.result = []\n",
    "        return self.permute_helper(a,[], Counter(a))\n",
    "    \n",
    "    def permute_helper(self,a,buffer,hm):\n",
    "        if len(buffer) == len(a):\n",
    "            self.result.append(buffer[:])\n",
    "            return\n",
    "        \n",
    "        for x in hm:\n",
    "            if hm[x]>0:\n",
    "                hm[x] -= 1\n",
    "                buffer.append(x)\n",
    "                self.permute_helper(a,buffer,hm)\n",
    "                buffer.pop()\n",
    "                hm[x] += 1\n",
    "        return self.result\n",
    "    \n",
    "obj = Solution()\n",
    "a = [1,2,2]\n",
    "obj.permuteUnique(a)"
   ]
  },
  {
   "cell_type": "markdown",
   "metadata": {},
   "source": [
    "### Letter Case Permutation\n",
    "Given a string S, we can transform every letter individually to be lowercase or uppercase to create another string.  Return a list of all possible strings we could create.\n",
    "\n",
    "Examples:\n",
    "* Input: S = \"a1b2\"\n",
    "* Output: [\"a1b2\", \"a1B2\", \"A1b2\", \"A1B2\"]"
   ]
  },
  {
   "cell_type": "code",
   "execution_count": 7,
   "metadata": {},
   "outputs": [
    {
     "data": {
      "text/plain": [
       "['a1b2', 'a1B2', 'A1B2', 'A1b2']"
      ]
     },
     "execution_count": 7,
     "metadata": {},
     "output_type": "execute_result"
    }
   ],
   "source": [
    "class Solution:\n",
    "    def letterCasePermutation(self, S: str):\n",
    "        char_array = list(S)\n",
    "        self.ans = []\n",
    "        self.helper(char_array, 0)\n",
    "        return self.ans\n",
    "    \n",
    "    def helper(self, array, start):\n",
    "        if start == len(array):\n",
    "            self.ans.append(''.join(array))\n",
    "            return\n",
    "            \n",
    "        if array[start].isdigit():\n",
    "            self.helper(array, start+1)\n",
    "        else:\n",
    "            self.helper(array, start+1)\n",
    "            array[start] = array[start].swapcase()\n",
    "            self.helper(array, start+1)\n",
    "            \n",
    "S = 'a1b2'\n",
    "obj = Solution()\n",
    "obj.letterCasePermutation(S)"
   ]
  },
  {
   "cell_type": "markdown",
   "metadata": {},
   "source": [
    "### Generate Paranthesis"
   ]
  },
  {
   "cell_type": "code",
   "execution_count": 8,
   "metadata": {},
   "outputs": [
    {
     "data": {
      "text/plain": [
       "['((()))', '(()())', '(())()', '()(())', '()()()']"
      ]
     },
     "execution_count": 8,
     "metadata": {},
     "output_type": "execute_result"
    }
   ],
   "source": [
    "class Solution:\n",
    "    def generateParenthesis(self, n: int):\n",
    "        self.ans = []\n",
    "        buffer = ['(']; open = 1; close = 0\n",
    "        self.helper(n, buffer, open, close)\n",
    "        return self.ans\n",
    "    \n",
    "    def helper(self, n, buffer, open, close):\n",
    "        if close == n:\n",
    "            self.ans.append(''.join(buffer))\n",
    "            return\n",
    "        \n",
    "        if open<n:\n",
    "            buffer.append('(')\n",
    "            self.helper(n, buffer, open+1, close)\n",
    "            buffer.pop()\n",
    "        \n",
    "        if open>close:\n",
    "            buffer.append(')')\n",
    "            self.helper(n, buffer, open, close+1)\n",
    "            buffer.pop()\n",
    "            \n",
    "obj = Solution()\n",
    "obj.generateParenthesis(3)"
   ]
  },
  {
   "cell_type": "markdown",
   "metadata": {},
   "source": [
    "### Generalized Abbreviation\n",
    "Write a function to generate the generalized abbreviations of a word. \n",
    "\n",
    "Note: The order of the output does not matter.\n",
    "\n",
    "Example:\n",
    "\n",
    "Input: \"word\"\n",
    "Output:\n",
    "[\"word\", \"1ord\", \"w1rd\", \"wo1d\", \"wor1\", \"2rd\", \"w2d\", \"wo2\", \"1o1d\", \"1or1\", \"w1r1\", \"1o2\", \"2r1\", \"3d\", \"w3\", \"4\"]"
   ]
  },
  {
   "cell_type": "code",
   "execution_count": 1,
   "metadata": {},
   "outputs": [
    {
     "data": {
      "text/plain": [
       "['4',\n",
       " '3d',\n",
       " '2r1',\n",
       " '2rd',\n",
       " '1o2',\n",
       " '1o1d',\n",
       " '1or1',\n",
       " '1ord',\n",
       " 'w3',\n",
       " 'w2d',\n",
       " 'w1r1',\n",
       " 'w1rd',\n",
       " 'wo2',\n",
       " 'wo1d',\n",
       " 'wor1',\n",
       " 'word']"
      ]
     },
     "execution_count": 1,
     "metadata": {},
     "output_type": "execute_result"
    }
   ],
   "source": [
    "class Solution:\n",
    "    def generateAbbreviations(self, word: str):\n",
    "        self.result = []\n",
    "        self.helper('', 0, 0, word)\n",
    "        return self.result\n",
    "    \n",
    "    def helper(self, string, count, start, word):\n",
    "        if start == len(word):\n",
    "            if count > 0:\n",
    "                string += str(count)\n",
    "            self.result.append(string)\n",
    "            return\n",
    "        \n",
    "        self.helper(string, count+1, start+1, word)\n",
    "        \n",
    "        if count > 0:\n",
    "            string += str(count)\n",
    "        string += word[start]\n",
    "        self.helper(string, 0, start+1, word)\n",
    "        \n",
    "obj = Solution()\n",
    "obj.generateAbbreviations('word')"
   ]
  },
  {
   "cell_type": "markdown",
   "metadata": {},
   "source": [
    "### Coin Change Problem: Given a set of coin denominations, print out the different waysyou can make a target amount. You can use as many coins of each denomination as you like.For example: If coins are [1,2,5] and the target is 5, output will be:\n",
    "* [1,1,1,1,1]\n",
    "* [1,1,1,2]\n",
    "* [1,2,2]\n",
    "* [5]"
   ]
  },
  {
   "cell_type": "code",
   "execution_count": 17,
   "metadata": {},
   "outputs": [
    {
     "data": {
      "text/plain": [
       "[[1, 1, 1, 1, 1], [1, 1, 1, 2], [1, 2, 2], [5]]"
      ]
     },
     "execution_count": 17,
     "metadata": {},
     "output_type": "execute_result"
    }
   ],
   "source": [
    "def coin_change(coins,x):\n",
    "    if len(coins)==0 or x<0:\n",
    "        return -1\n",
    "    buffer_stack = []; result = []\n",
    "    coin_change_helper(coins,buffer_stack,0,0,x, result)\n",
    "    return result\n",
    "\n",
    "def coin_change_helper(coins,buffer_stack,start_index,cur_sum,x, result):\n",
    "    if cur_sum > x:\n",
    "        return\n",
    "    if cur_sum == x:\n",
    "        result.append(buffer_stack[:])\n",
    "        return\n",
    "    \n",
    "    for i in range(start_index,len(coins)):\n",
    "        buffer_stack.append(coins[i])\n",
    "        coin_change_helper(coins,buffer_stack,i,cur_sum+coins[i],x, result)\n",
    "        buffer_stack.pop()\n",
    "\n",
    "coin_change([1,2,5],5)"
   ]
  },
  {
   "cell_type": "markdown",
   "metadata": {},
   "source": [
    "### Climbing Steps Problem\n",
    "Let’s say you have to climb N steps. You can jump 1 step, 3 steps or 5 steps at a time. How many ways are there to get to the top of the steps."
   ]
  },
  {
   "cell_type": "code",
   "execution_count": 4,
   "metadata": {},
   "outputs": [
    {
     "data": {
      "text/plain": [
       "[[1, 1, 1, 1, 1, 1, 1, 1],\n",
       " [1, 1, 1, 1, 1, 3],\n",
       " [1, 1, 1, 1, 3, 1],\n",
       " [1, 1, 1, 3, 1, 1],\n",
       " [1, 1, 1, 5],\n",
       " [1, 1, 3, 1, 1, 1],\n",
       " [1, 1, 3, 3],\n",
       " [1, 1, 5, 1],\n",
       " [1, 3, 1, 1, 1, 1],\n",
       " [1, 3, 1, 3],\n",
       " [1, 3, 3, 1],\n",
       " [1, 5, 1, 1],\n",
       " [3, 1, 1, 1, 1, 1],\n",
       " [3, 1, 1, 3],\n",
       " [3, 1, 3, 1],\n",
       " [3, 3, 1, 1],\n",
       " [3, 5],\n",
       " [5, 1, 1, 1],\n",
       " [5, 3]]"
      ]
     },
     "execution_count": 4,
     "metadata": {},
     "output_type": "execute_result"
    }
   ],
   "source": [
    "def climbing_steps(steps, n):\n",
    "    if len(steps)==0 or n<0:\n",
    "        return -1\n",
    "    buffer_stack = []\n",
    "    climbing_steps_helper(steps, buffer_stack,0,n)\n",
    "\n",
    "def climbing_steps_helper(steps, buffer_stack, curr_sum, n):\n",
    "    if curr_sum > n:\n",
    "        return\n",
    "    \n",
    "    if curr_sum == n:\n",
    "        result.append(buffer_stack[:])\n",
    "        return\n",
    "    \n",
    "    for i in range(len(steps)):\n",
    "        buffer_stack.append(steps[i])\n",
    "        climbing_steps_helper(steps, buffer_stack, curr_sum+steps[i],n)\n",
    "        buffer_stack.pop()\n",
    "\n",
    "result = []\n",
    "climbing_steps([1,3,5],8)\n",
    "result"
   ]
  },
  {
   "cell_type": "markdown",
   "metadata": {},
   "source": [
    "## Backtracking"
   ]
  },
  {
   "cell_type": "markdown",
   "metadata": {},
   "source": [
    "### Maze with Down-Right Movement Find if a path exists to the bottom right of the maze from A[0][0]"
   ]
  },
  {
   "cell_type": "code",
   "execution_count": 4,
   "metadata": {},
   "outputs": [
    {
     "name": "stdout",
     "output_type": "stream",
     "text": [
      "4 4\n",
      "3 4\n",
      "3 3\n",
      "2 3\n",
      "2 2\n",
      "2 1\n",
      "2 0\n",
      "1 0\n",
      "0 0\n"
     ]
    },
    {
     "data": {
      "text/plain": [
       "True"
      ]
     },
     "execution_count": 4,
     "metadata": {},
     "output_type": "execute_result"
    }
   ],
   "source": [
    "def path_exists(a,i,j):\n",
    "    if i<0 or i>=len(a) or j<0 or j>=len(a[0]) or a[i][j] == 1:\n",
    "        return False\n",
    "    \n",
    "    if i == len(a)-1 and j == len(a[0])-1:\n",
    "        print(i,j)\n",
    "        return True\n",
    "    \n",
    "    if (i,j) in hashmap:\n",
    "        return True\n",
    "    \n",
    "    if path_exists(a,i+1,j) or path_exists(a,i,j+1):\n",
    "        hashmap[(i,j)] = True\n",
    "        print(i,j)\n",
    "        return True   \n",
    "    \n",
    "    return False\n",
    "\n",
    "maze = [[0,1,1,0,0],\n",
    "        [0,1,0,0,0],\n",
    "        [0,0,0,0,0],\n",
    "        [1,1,1,0,0],\n",
    "        [1,0,0,1,0]]\n",
    "# for memoization\n",
    "hashmap = {}\n",
    "path_exists(maze,0,0)\n",
    "    "
   ]
  },
  {
   "cell_type": "markdown",
   "metadata": {},
   "source": [
    "### Maze with all Movement Find if a path exists to the bottom right of the maze from A[0][0]"
   ]
  },
  {
   "cell_type": "code",
   "execution_count": 1,
   "metadata": {},
   "outputs": [
    {
     "name": "stdout",
     "output_type": "stream",
     "text": [
      "4 4\n",
      "3 4\n",
      "2 4\n",
      "1 4\n",
      "0 4\n",
      "0 3\n",
      "0 2\n",
      "1 2\n",
      "2 2\n",
      "2 1\n",
      "3 1\n",
      "4 1\n",
      "4 0\n",
      "3 0\n",
      "2 0\n",
      "1 0\n",
      "0 0\n"
     ]
    },
    {
     "data": {
      "text/plain": [
       "True"
      ]
     },
     "execution_count": 1,
     "metadata": {},
     "output_type": "execute_result"
    }
   ],
   "source": [
    "def path_exists_dfs(a,i,j, visited):\n",
    "    if i<0 or i>=len(a) or j<0 or j>=len(a[0]) or a[i][j] == 1 or (i,j) in visited:\n",
    "        return False\n",
    "    \n",
    "    if i == len(a)-1 and j == len(a[0])-1:\n",
    "        print(i,j)\n",
    "        return True\n",
    "    \n",
    "    visited.add((i,j))\n",
    "    \n",
    "    for x,y in [(i+1,j), (i,j+1), (i-1,j), (i,j-1)]:\n",
    "        if path_exists_dfs(a,x,y,visited):\n",
    "            print(i,j)\n",
    "            return True\n",
    "    \n",
    "    return False\n",
    "\n",
    "maze = [[0,1,0,0,0],\n",
    "        [0,1,0,1,0],\n",
    "        [0,0,0,1,0],\n",
    "        [0,0,1,1,0],\n",
    "        [0,0,0,1,0]]\n",
    "\n",
    "\n",
    "path_exists_dfs(maze,0,0,set())\n",
    "    "
   ]
  },
  {
   "cell_type": "markdown",
   "metadata": {},
   "source": [
    "### Same problem as above using BFS"
   ]
  },
  {
   "cell_type": "code",
   "execution_count": 2,
   "metadata": {},
   "outputs": [
    {
     "name": "stdout",
     "output_type": "stream",
     "text": [
      "(4, 4)\n",
      "(3, 4)\n",
      "(2, 4)\n",
      "(1, 4)\n",
      "(0, 4)\n",
      "(0, 3)\n",
      "(0, 2)\n",
      "(1, 2)\n",
      "(2, 2)\n",
      "(2, 1)\n",
      "(2, 0)\n",
      "(1, 0)\n",
      "(0, 0)\n"
     ]
    },
    {
     "data": {
      "text/plain": [
       "True"
      ]
     },
     "execution_count": 2,
     "metadata": {},
     "output_type": "execute_result"
    }
   ],
   "source": [
    "def path_exists_bfs(maze):\n",
    "    queue = []; state = {}; parent = {}\n",
    "    queue.append((0,0))\n",
    "    state[(0,0)] = 'visiting'\n",
    "    \n",
    "    while len(queue):\n",
    "        i,j = queue.pop(0)\n",
    "        if i == len(maze)-1 and j == len(maze[0])-1:\n",
    "            node = (i,j)\n",
    "            while node!=(0,0):\n",
    "                print(node)\n",
    "                node = parent[node]\n",
    "            print((0,0))\n",
    "            return True\n",
    "        for x,y in [(i+1,j), (i,j+1), (i-1,j), (i,j-1)]:\n",
    "            if (x,y) not in state and 0<=x<len(maze) and 0<=y<len(maze[0]) and maze[x][y]==0:\n",
    "                queue.append((x,y))\n",
    "                state[(x,y)] = 'visiting'\n",
    "                parent[(x,y)] = (i,j)\n",
    "        state[(i,j)] = 'visited'\n",
    "    return False  \n",
    "\n",
    "maze = [[0,1,0,0,0],\n",
    "        [0,1,0,1,0],\n",
    "        [0,0,0,1,0],\n",
    "        [0,0,1,1,0],\n",
    "        [0,0,0,1,0]]\n",
    "path_exists_bfs(maze)\n",
    "\n"
   ]
  },
  {
   "cell_type": "markdown",
   "metadata": {},
   "source": [
    "### Climbing Stairs\n",
    "You are climbing a stair case. It takes n steps to reach to the top.\n",
    "\n",
    "Each time you can either climb 1 or 2 steps. In how many distinct ways can you climb to the top?\n",
    "\n",
    "Note: Given n will be a positive integer."
   ]
  },
  {
   "cell_type": "code",
   "execution_count": 8,
   "metadata": {},
   "outputs": [
    {
     "data": {
      "text/plain": [
       "8"
      ]
     },
     "execution_count": 8,
     "metadata": {},
     "output_type": "execute_result"
    }
   ],
   "source": [
    "class Solution:\n",
    "    def climbStairs(self, n: int) -> int:\n",
    "        self.memo = {}\n",
    "        return self.helper(0, n)\n",
    "    \n",
    "    def helper(self, i, n):\n",
    "        if i in self.memo:\n",
    "            return self.memo[i]\n",
    "        if i == n:\n",
    "            return 1\n",
    "        \n",
    "        num_ways = 0\n",
    "        for j in [i+1, i+2]:\n",
    "            if j<=n:\n",
    "                num_ways += self.helper(j,n)\n",
    "        self.memo[i] = num_ways\n",
    "        return num_ways\n",
    "\n",
    "obj = Solution()\n",
    "obj.climbStairs(5)"
   ]
  },
  {
   "cell_type": "markdown",
   "metadata": {},
   "source": [
    "### Min Cost Climbing Stairs\n",
    "On a staircase, the i-th step has some non-negative cost cost[i] assigned (0 indexed).\n",
    "\n",
    "Once you pay the cost, you can either climb one or two steps. You need to find minimum cost to reach the top of the floor, and you can either start from the step with index 0, or the step with index 1."
   ]
  },
  {
   "cell_type": "code",
   "execution_count": 23,
   "metadata": {},
   "outputs": [
    {
     "data": {
      "text/plain": [
       "6"
      ]
     },
     "execution_count": 23,
     "metadata": {},
     "output_type": "execute_result"
    }
   ],
   "source": [
    "class Solution:\n",
    "    def minCostClimbingStairs(self, cost) -> int:\n",
    "        self.memo = {}\n",
    "        self.helper(0, cost)\n",
    "        return min(self.memo[0], self.memo[1])\n",
    "    \n",
    "    def helper(self, i, nums):\n",
    "        if i == len(nums):\n",
    "            return 0\n",
    "        \n",
    "        if i in self.memo:\n",
    "            return self.memo[i]\n",
    "        \n",
    "        take_1 = take_2 = float('inf')\n",
    "        if i+1 <= len(nums):\n",
    "            take_1 = nums[i] + self.helper(i+1, nums)\n",
    "        if i+2 <= len(nums):\n",
    "            take_2 = nums[i] + self.helper(i+2, nums)\n",
    "        \n",
    "        self.memo[i] = min(take_1, take_2)\n",
    "        return min(take_1, take_2)\n",
    "    \n",
    "obj = Solution()\n",
    "obj.minCostClimbingStairs([1, 100, 1, 1, 1, 100, 1, 1, 100, 1])"
   ]
  },
  {
   "cell_type": "markdown",
   "metadata": {},
   "source": [
    "### Unique Paths\n",
    "A robot is located at the top-left corner of a m x n grid (marked 'Start' in the diagram below).\n",
    "\n",
    "The robot can only move either down or right at any point in time. The robot is trying to reach the bottom-right corner of the grid (marked 'Finish' in the diagram below).\n",
    "\n",
    "How many possible unique paths are there?"
   ]
  },
  {
   "cell_type": "code",
   "execution_count": 23,
   "metadata": {},
   "outputs": [
    {
     "data": {
      "text/plain": [
       "28"
      ]
     },
     "execution_count": 23,
     "metadata": {},
     "output_type": "execute_result"
    }
   ],
   "source": [
    "class Solution:\n",
    "    def uniquePaths(self, m: int, n: int) -> int:\n",
    "        self.memo = {}\n",
    "        return self.helper(0, 0, m, n)\n",
    "    \n",
    "    def helper(self, i, j, m, n):\n",
    "        if (i,j) in self.memo:\n",
    "            return self.memo[(i,j)]\n",
    "        \n",
    "        if  i == m-1 and j == n-1:\n",
    "            return 1\n",
    "        \n",
    "        num_ways = 0\n",
    "        for x, y in [(i+1,j), (i,j+1)]:\n",
    "            if x<m and y<n:\n",
    "                num_ways += self.helper(x, y, m, n)\n",
    "        \n",
    "        self.memo[(i,j)] = num_ways\n",
    "        return num_ways\n",
    "\n",
    "obj = Solution()\n",
    "obj.uniquePaths(7,3)"
   ]
  },
  {
   "cell_type": "markdown",
   "metadata": {},
   "source": [
    "### Unique Paths II\n",
    "A robot is located at the top-left corner of a m x n grid (marked 'Start' in the diagram below).\n",
    "\n",
    "The robot can only move either down or right at any point in time. The robot is trying to reach the bottom-right corner of the grid (marked 'Finish' in the diagram below).\n",
    "\n",
    "Now consider if some obstacles are added to the grids. How many unique paths would there be?\n"
   ]
  },
  {
   "cell_type": "code",
   "execution_count": 31,
   "metadata": {},
   "outputs": [
    {
     "data": {
      "text/plain": [
       "2"
      ]
     },
     "execution_count": 31,
     "metadata": {},
     "output_type": "execute_result"
    }
   ],
   "source": [
    "class Solution:\n",
    "    def uniquePathsWithObstacles(self, obstacleGrid) -> int:\n",
    "        if obstacleGrid[0][0] == 1 or obstacleGrid[-1][-1] == 1:\n",
    "            return 0\n",
    "        self.memo = {}\n",
    "        return self.helper(0, 0, obstacleGrid)\n",
    "    \n",
    "    def helper(self, i, j, grid):\n",
    "        if (i,j) in self.memo:\n",
    "            return self.memo[(i,j)]\n",
    "        \n",
    "        if i == len(grid)-1 and j == len(grid[0])-1:\n",
    "            return 1\n",
    "        \n",
    "        num_ways = 0\n",
    "        for x, y in [(i+1,j), (i,j+1)]:\n",
    "            if x<len(grid) and y<len(grid[0]) and grid[x][y] == 0:\n",
    "                num_ways += self.helper(x, y, grid)\n",
    "        \n",
    "        self.memo[(i,j)] = num_ways\n",
    "        return num_ways\n",
    "    \n",
    "obj = Solution()\n",
    "grid = [[0,0,0],[0,1,0],[0,0,0]]\n",
    "obj.uniquePathsWithObstacles(grid)"
   ]
  },
  {
   "cell_type": "markdown",
   "metadata": {},
   "source": [
    "### Minimum Path Sum\n",
    "Given a m x n grid filled with non-negative numbers, find a path from top left to bottom right which minimizes the sum of all numbers along its path.\n",
    "\n",
    "Note: You can only move either down or right at any point in time.\n",
    "\n",
    "Example:\n",
    "\n",
    "Input:\n",
    "\n",
    "            [\n",
    "              [1,3,1],\n",
    "              [1,5,1],\n",
    "              [4,2,1]\n",
    "            ]\n",
    "            \n",
    "Output: 7\n",
    "Explanation: Because the path 1→3→1→1→1 minimizes the sum.\n",
    "\n",
    "**Similar questions:**\n",
    "* Triangle\n",
    "* Minimum Falling Path Sum I\n",
    "* Minimum Falling Path Sum II\n",
    "* Paint House I\n",
    "* Paint House II"
   ]
  },
  {
   "cell_type": "code",
   "execution_count": 43,
   "metadata": {},
   "outputs": [
    {
     "data": {
      "text/plain": [
       "7"
      ]
     },
     "execution_count": 43,
     "metadata": {},
     "output_type": "execute_result"
    }
   ],
   "source": [
    "class Solution:\n",
    "    def minPathSum(self, grid):\n",
    "        self.memo = {}\n",
    "        return self.helper(grid, 0, 0)\n",
    "\n",
    "    def helper(self, grid, i, j):\n",
    "        if (i, j) in self.memo:\n",
    "            return self.memo[(i, j)]\n",
    "\n",
    "        if i == len(grid) - 1 and j == len(grid[0]) - 1:\n",
    "            return grid[i][j]\n",
    "\n",
    "        min_val = float('inf')\n",
    "        for x, y in [(i + 1, j), (i, j + 1)]:\n",
    "            if x < len(grid) and y < len(grid[0]):\n",
    "                min_val = min(min_val, grid[i][j] + self.helper(grid, x, y))\n",
    "\n",
    "        self.memo[(i, j)] = min_val\n",
    "        return min_val\n",
    "\n",
    "\n",
    "grid = [[1, 3, 1], [1, 5, 1], [4, 2, 1]]\n",
    "obj = Solution()\n",
    "obj.minPathSum(grid)"
   ]
  },
  {
   "cell_type": "markdown",
   "metadata": {},
   "source": [
    "### Cherry Pickup\n",
    "In a N x N grid representing a field of cherries, each cell is one of three possible integers.\n",
    "\n",
    "* 0 means the cell is empty, so you can pass through;\n",
    "* 1 means the cell contains a cherry, that you can pick up and pass through;\n",
    "* -1 means the cell contains a thorn that blocks your way.\n",
    " \n",
    "\n",
    "Your task is to collect maximum number of cherries possible by following the rules below:\n",
    "\n",
    " \n",
    "\n",
    "* Starting at the position (0, 0) and reaching (N-1, N-1) by moving right or down through valid path cells (cells with value 0 or 1);\n",
    "* After reaching (N-1, N-1), returning to (0, 0) by moving left or up through valid path cells;\n",
    "* When passing through a path cell containing a cherry, you pick it up and the cell becomes an empty cell (0);\n",
    "* If there is no valid path between (0, 0) and (N-1, N-1), then no cherries can be collected."
   ]
  },
  {
   "cell_type": "code",
   "execution_count": 49,
   "metadata": {},
   "outputs": [
    {
     "data": {
      "text/plain": [
       "11"
      ]
     },
     "execution_count": 49,
     "metadata": {},
     "output_type": "execute_result"
    }
   ],
   "source": [
    "class Solution:\n",
    "    def cherryPickup(self, grid) -> int:\n",
    "        if grid[0][0] == -1 or grid[-1][-1] == -1:\n",
    "            return 0\n",
    "        self.memo = {}\n",
    "        return max(0, self.helper(0,0,0,0,grid))\n",
    "    \n",
    "    def helper(self,i,j,x,y,grid):\n",
    "        n = len(grid)\n",
    "        if (i,j,x,y) in self.memo:\n",
    "            return self.memo[(i,j,x,y)]\n",
    "        \n",
    "        if (i == n-1 and j == n-1):\n",
    "            return grid[-1][-1]\n",
    "        \n",
    "        if i == x and j == y:\n",
    "            cherries = grid[i][j]\n",
    "        else:\n",
    "            cherries = grid[i][j] + grid[x][y]\n",
    "        \n",
    "        max_cherries = -1\n",
    "        for p,q,r,s in [(i+1,j,x+1,y), (i+1,j,x,y+1), (i,j+1,x+1,y), (i,j+1,x,y+1)]:\n",
    "            if p<n and q<n and r<n and s<n and grid[p][q] != -1 and grid[r][s] != -1:\n",
    "                max_cherries = max(max_cherries, self.helper(p,q,r,s,grid))\n",
    "        \n",
    "        total_cherries = max_cherries + cherries\n",
    "        self.memo[(i,j,x,y)] = total_cherries if total_cherries >= cherries else -1\n",
    "        return self.memo[(i,j,x,y)]\n",
    "    \n",
    "grid = [[1,1,1,0,0],\n",
    "[0,0,1,0,1],\n",
    "[1,0,1,0,0],\n",
    "[0,0,1,0,0],\n",
    "[0,0,1,1,1]]\n",
    "\n",
    "obj = Solution()\n",
    "obj.cherryPickup(grid)"
   ]
  },
  {
   "cell_type": "markdown",
   "metadata": {},
   "source": [
    "### Dungeon Game\n",
    "The knight has an initial health point represented by a positive integer. If at any point his health point drops to 0 or below, he dies immediately.\n",
    "\n",
    "Some of the rooms are guarded by demons, so the knight loses health (negative integers) upon entering these rooms; other rooms are either empty (0's) or contain magic orbs that increase the knight's health (positive integers).\n",
    "\n",
    "In order to reach the princess as quickly as possible, the knight decides to move only rightward or downward in each step.\n",
    "\n",
    "Write a function to determine the knight's minimum initial health so that he is able to rescue the princess."
   ]
  },
  {
   "cell_type": "code",
   "execution_count": 6,
   "metadata": {},
   "outputs": [
    {
     "data": {
      "text/plain": [
       "7"
      ]
     },
     "execution_count": 6,
     "metadata": {},
     "output_type": "execute_result"
    }
   ],
   "source": [
    "class Solution:\n",
    "    def calculateMinimumHP(self, dungeon) -> int:\n",
    "        self.memo = {}\n",
    "        return self.helper(0, 0, dungeon)\n",
    "    \n",
    "    def helper(self, i, j, grid):\n",
    "        if (i,j) in self.memo:\n",
    "            return self.memo[(i,j)]\n",
    "        \n",
    "        if i == len(grid)-1 and j == len(grid[0])-1:\n",
    "            return max(1, 1-grid[-1][-1])\n",
    "        \n",
    "        min_hp = float('inf')\n",
    "        for x, y in [(i+1,j), (i,j+1)]:\n",
    "            if x<len(grid) and y<len(grid[0]):\n",
    "                min_hp = min(min_hp, max(1, self.helper(x,y,grid) - grid[i][j]))\n",
    "        \n",
    "        self.memo[(i,j)] = min_hp\n",
    "        return min_hp\n",
    "    \n",
    "obj = Solution()\n",
    "dungeon = [[-2,-3,3],[-5,-10,1],[10,30,-5]]\n",
    "obj.calculateMinimumHP(dungeon)"
   ]
  },
  {
   "cell_type": "markdown",
   "metadata": {},
   "source": [
    "### Longest Increasing Subsequence\n"
   ]
  },
  {
   "cell_type": "code",
   "execution_count": 3,
   "metadata": {},
   "outputs": [
    {
     "data": {
      "text/plain": [
       "4"
      ]
     },
     "execution_count": 3,
     "metadata": {},
     "output_type": "execute_result"
    }
   ],
   "source": [
    "class Solution:\n",
    "    def lengthOfLIS(self, nums) -> int:\n",
    "        self.memo = {}\n",
    "        if not nums: return 0\n",
    "        ans = 1\n",
    "        for i in range(len(nums)):\n",
    "            ans = max(ans, self.helper(i, nums))\n",
    "        return ans\n",
    "    \n",
    "    def helper(self, i, nums):\n",
    "        if i in self.memo:\n",
    "            return self.memo[i]\n",
    "        length = 1\n",
    "        for j in range(i+1, len(nums)):\n",
    "            if nums[j]>nums[i]:\n",
    "                length = max(length, 1 + self.helper(j, nums))\n",
    "        self.memo[i] = length\n",
    "        return length\n",
    "\n",
    "obj = Solution()\n",
    "obj.lengthOfLIS([10,9,2,5,3,7,101,18])"
   ]
  },
  {
   "cell_type": "markdown",
   "metadata": {},
   "source": [
    "### Best Team With No Conflicts\n",
    "\n",
    "You are the manager of a basketball team. For the upcoming tournament, you want to choose the team with the highest overall score. The score of the team is the sum of scores of all the players in the team.\n",
    "\n",
    "However, the basketball team is not allowed to have conflicts. A conflict exists if a younger player has a strictly higher score than an older player. A conflict does not occur between players of the same age.\n",
    "\n",
    "Given two lists, scores and ages, where each scores[i] and ages[i] represents the score and age of the ith player, respectively, return the highest overall score of all possible basketball teams."
   ]
  },
  {
   "cell_type": "code",
   "execution_count": 2,
   "metadata": {},
   "outputs": [
    {
     "data": {
      "text/plain": [
       "6"
      ]
     },
     "execution_count": 2,
     "metadata": {},
     "output_type": "execute_result"
    }
   ],
   "source": [
    "class Solution:\n",
    "    def bestTeamScore(self, scores, ages) -> int:\n",
    "        arr = list(zip(ages, scores))\n",
    "        arr.sort(key=lambda x: (x[0], x[1]))\n",
    "        self.memo = {}; ans = 0\n",
    "        for i in range(len(arr)):\n",
    "            ans = max(ans, self.helper(i, arr))\n",
    "        return ans\n",
    "            \n",
    "    \n",
    "    def helper(self, i, arr):\n",
    "        if i in self.memo:\n",
    "            return self.memo[i]\n",
    "        \n",
    "        max_score = arr[i][1]\n",
    "        for j in range(i+1, len(arr)):\n",
    "            if arr[j][1] >= arr[i][1]:\n",
    "                max_score = max(max_score, arr[i][1] + self.helper(j, arr))\n",
    "        \n",
    "        self.memo[i] = max_score\n",
    "        return max_score\n",
    "        \n",
    "        \n",
    "Solution().bestTeamScore(scores = [1,2,3,5], ages = [8,9,10,1])     "
   ]
  },
  {
   "cell_type": "markdown",
   "metadata": {},
   "source": [
    "### Maximum Height by Stacking Cuboids\n",
    "\n",
    "Given n cuboids where the dimensions of the ith cuboid is cuboids[i] = [widthi, lengthi, heighti] (0-indexed). Choose a subset of cuboids and place them on each other.\n",
    "\n",
    "You can place cuboid i on cuboid j if widthi <= widthj and lengthi <= lengthj and heighti <= heightj. You can rearrange any cuboid's dimensions by rotating it to put it on another cuboid.\n",
    "\n",
    "Return the maximum height of the stacked cuboids."
   ]
  },
  {
   "cell_type": "code",
   "execution_count": 2,
   "metadata": {},
   "outputs": [
    {
     "data": {
      "text/plain": [
       "190"
      ]
     },
     "execution_count": 2,
     "metadata": {},
     "output_type": "execute_result"
    }
   ],
   "source": [
    "class Solution:\n",
    "    def maxHeight(self, cuboids) -> int:\n",
    "        for dim in cuboids:\n",
    "            dim.sort()\n",
    "        cuboids.sort(key=lambda x : (x[2], x[0]*x[1]), reverse = True)\n",
    "        \n",
    "        self.memo = {}\n",
    "        res = 0\n",
    "        \n",
    "        for i in range(len(cuboids)):\n",
    "            res = max(res, self.helper(i, cuboids))\n",
    "        \n",
    "        return res\n",
    "    \n",
    "    def helper(self, i, cuboids):\n",
    "        if i in self.memo:\n",
    "            return self.memo[i]\n",
    "        \n",
    "        res = cuboids[i][2]\n",
    "        for j in range(i+1, len(cuboids)):\n",
    "            if cuboids[i][0] >= cuboids[j][0] and cuboids[i][1] >= cuboids[j][1]:\n",
    "                res = max(res, cuboids[i][2] + self.helper(j, cuboids))\n",
    "        \n",
    "        self.memo[i] = res\n",
    "        return res\n",
    "        \n",
    "Solution().maxHeight(cuboids = [[50,45,20],[95,37,53],[45,23,12]])"
   ]
  },
  {
   "cell_type": "markdown",
   "metadata": {},
   "source": [
    "### Longest Increasing Path in a Matrix\n",
    "Given an integer matrix, find the length of the longest increasing path.\n",
    "\n",
    "From each cell, you can either move to four directions: left, right, up or down. You may NOT move diagonally or move outside of the boundary (i.e. wrap-around is not allowed).\n"
   ]
  },
  {
   "cell_type": "code",
   "execution_count": 36,
   "metadata": {},
   "outputs": [
    {
     "data": {
      "text/plain": [
       "4"
      ]
     },
     "execution_count": 36,
     "metadata": {},
     "output_type": "execute_result"
    }
   ],
   "source": [
    "class Solution:\n",
    "    def longestIncreasingPath(self, matrix):\n",
    "        self.memo = {}; ans = 0\n",
    "        for i in range(len(matrix)):\n",
    "            for j in range(len(matrix[0])):\n",
    "                ans = max(ans, self.helper(i, j, matrix))\n",
    "        return ans\n",
    "    \n",
    "    def helper(self, i, j, matrix):\n",
    "        if (i, j) in self.memo:\n",
    "            return self.memo[(i,j)]\n",
    "        max_len = 1\n",
    "        for x, y in [(i+1, j), (i-1, j), (i, j+1), (i, j-1)]:\n",
    "            if 0<=x<len(matrix) and 0<=y<len(matrix[0]) and matrix[x][y] > matrix[i][j]:\n",
    "                max_len = max(max_len, 1 + self.helper(x, y, matrix))\n",
    "        \n",
    "        self.memo[(i,j)] = max_len\n",
    "        return max_len\n",
    "    \n",
    "matrix = [\n",
    "  [9,9,4],\n",
    "  [6,6,8],\n",
    "  [2,1,1]] \n",
    "obj = Solution()\n",
    "obj.longestIncreasingPath(matrix)"
   ]
  },
  {
   "cell_type": "markdown",
   "metadata": {},
   "source": [
    "### Frog Jump\n",
    "A frog is crossing a river. The river is divided into x units and at each unit there may or may not exist a stone. The frog can jump on a stone, but it must not jump into the water.\n",
    "\n",
    "Given a list of stones' positions (in units) in sorted ascending order, determine if the frog is able to cross the river by landing on the last stone. Initially, the frog is on the first stone and assume the first jump must be 1 unit.\n",
    "\n",
    "If the frog's last jump was k units, then its next jump must be either k - 1, k, or k + 1 units. Note that the frog can only jump in the forward direction.\n",
    "\n",
    "Note:\n",
    "\n",
    "The number of stones is ≥ 2 and is < 1,100.\n",
    "Each stone's position will be a non-negative integer < 231.\n",
    "The first stone's position is always 0.\n",
    "Example 1:\n",
    "\n",
    "[0,1,3,5,6,8,12,17]\n",
    "\n",
    "\n",
    "Return true. The frog can jump to the last stone by jumping \n",
    "1 unit to the 2nd stone, then 2 units to the 3rd stone, then \n",
    "2 units to the 4th stone, then 3 units to the 6th stone, \n",
    "4 units to the 7th stone, and 5 units to the 8th stone.\n",
    "\n",
    "**Note: can also be solved using BFS**"
   ]
  },
  {
   "cell_type": "code",
   "execution_count": 2,
   "metadata": {},
   "outputs": [
    {
     "data": {
      "text/plain": [
       "True"
      ]
     },
     "execution_count": 2,
     "metadata": {},
     "output_type": "execute_result"
    }
   ],
   "source": [
    "class Solution:\n",
    "    def canCross(self, stones) -> bool:\n",
    "        self.memo = {}\n",
    "        target = stones[-1]\n",
    "        stones = set(stones)\n",
    "        return self.helper(0, 0, stones, target)\n",
    "    \n",
    "    def helper(self, i, last_jump, stones, target):\n",
    "        if i == target:\n",
    "            return True\n",
    "        \n",
    "        if (i, last_jump) in self.memo:\n",
    "            return self.memo[(i, last_jump)]\n",
    "        \n",
    "        for new_jump in [last_jump-1, last_jump, last_jump+1]:\n",
    "            if new_jump > 0 and i + new_jump in stones:\n",
    "                if self.helper(i+new_jump, new_jump, stones, target):\n",
    "                    self.memo[(i, last_jump)] = True\n",
    "                    return True\n",
    "        \n",
    "        self.memo[(i,last_jump)] = False\n",
    "        return False    \n",
    "    \n",
    "stones = [0,1,3,5,6,8,12,17]\n",
    "obj = Solution()\n",
    "obj.canCross(stones)"
   ]
  },
  {
   "cell_type": "markdown",
   "metadata": {},
   "source": [
    "### Jump Game V\n",
    "Given an array of integers arr and an integer d. In one step you can jump from index i to index:\n",
    "\n",
    "* i + x where: i + x < arr.length and 0 < x <= d.\n",
    "* i - x where: i - x >= 0 and 0 < x <= d.\n",
    "* In addition, you can only jump from index i to index j if arr[i] > arr[j] and arr[i] > arr[k] for all indices k between i and j (More formally min(i, j) < k < max(i, j)).\n",
    "\n",
    "You can choose any index of the array and start jumping. Return the maximum number of indices you can visit.\n",
    "\n",
    "Notice that you can not jump outside of the array at any time.\n"
   ]
  },
  {
   "cell_type": "code",
   "execution_count": 15,
   "metadata": {},
   "outputs": [
    {
     "data": {
      "text/plain": [
       "4"
      ]
     },
     "execution_count": 15,
     "metadata": {},
     "output_type": "execute_result"
    }
   ],
   "source": [
    "class Solution:\n",
    "    def maxJumps(self, arr, d: int) -> int:\n",
    "        ans = 1; self.memo = {}\n",
    "        for i in range(len(arr)):\n",
    "            ans = max(ans, self.helper(i, arr, d))\n",
    "        return ans\n",
    "    \n",
    "    def helper(self, index, arr, d):\n",
    "        if index in self.memo: \n",
    "            return self.memo[index]\n",
    "        \n",
    "        max_reached = 1\n",
    "        for direction in [-1, 1]:\n",
    "            for x in range(1, d+1):\n",
    "                j = index + direction*x\n",
    "                if 0<=j<len(arr) and arr[index] > arr[j]:\n",
    "                    max_reached = max(max_reached, 1 + self.helper(j, arr, d))\n",
    "                else:\n",
    "                    break                        \n",
    "        self.memo[index] = max_reached\n",
    "        return max_reached\n",
    "    \n",
    "arr = [6,4,14,6,8,13,9,7,10,6,12]; d = 2\n",
    "obj = Solution()\n",
    "obj.maxJumps(arr, d)"
   ]
  },
  {
   "cell_type": "markdown",
   "metadata": {},
   "source": [
    "### Word Break II: \n",
    "Given a String S, which contains letters and no spaces, break it into valid words. Print out all possible word combinations. Assume you are provided a dictionary of English words. For example:\n",
    "S = \"ilikemangotango\"\n",
    "\n",
    "Output: \n",
    "\"i like mango tango\" \n",
    "\"i like man go tan go\" \n",
    "\"i like mango tan go\" \n",
    "\"i like man go tango\""
   ]
  },
  {
   "cell_type": "code",
   "execution_count": 11,
   "metadata": {},
   "outputs": [
    {
     "data": {
      "text/plain": [
       "['i love ice cream and man go',\n",
       " 'i love ice cream and mango',\n",
       " 'i love icecream and man go',\n",
       " 'i love icecream and mango']"
      ]
     },
     "execution_count": 11,
     "metadata": {},
     "output_type": "execute_result"
    }
   ],
   "source": [
    "def wordbreak(string):\n",
    "    return wordbreak_helper(string,[],[])\n",
    "\n",
    "def wordbreak_helper(string,buffer,result):\n",
    "    dictionary = {\"mobile\",\"samsung\",\"sam\",\"sung\", \n",
    "                            \"man\",\"mango\", \"icecream\",\"and\", \n",
    "                            \"go\",\"i\",\"love\",\"ice\",\"cream\"}\n",
    "    if not len(string):\n",
    "        result.append(' '.join(buffer))\n",
    "        return\n",
    "    for i in range(1,len(string)+1):\n",
    "        if string[:i] in dictionary:\n",
    "            buffer.append(string[:i])\n",
    "            wordbreak_helper(string[i:],buffer,result)\n",
    "            buffer.pop()\n",
    "    return result\n",
    "\n",
    "wordbreak('iloveicecreamandmango')"
   ]
  },
  {
   "cell_type": "code",
   "execution_count": 4,
   "metadata": {},
   "outputs": [
    {
     "data": {
      "text/plain": [
       "['i like ice cream and man go',\n",
       " 'i like ice cream and mango',\n",
       " 'i like icecream and man go',\n",
       " 'i like icecream and mango']"
      ]
     },
     "execution_count": 4,
     "metadata": {},
     "output_type": "execute_result"
    }
   ],
   "source": [
    "### DFS with Memoization\n",
    "class Solution:\n",
    "    def wordBreak(self, s: str, wordDict):\n",
    "        if not s: return []\n",
    "        dictionary = set(wordDict)\n",
    "        self.memo = {}\n",
    "        return self.helper(s, dictionary)\n",
    "    \n",
    "    def helper(self, s, dictionary):\n",
    "        if not s: return ['']\n",
    "        if s in self.memo: return self.memo[s]\n",
    "        res = []\n",
    "        for i in range(1, len(s)+1):\n",
    "            if s[:i] in dictionary:\n",
    "                rest = self.helper(s[i:], dictionary)\n",
    "                for string in rest:\n",
    "                    if len(string) > 0:\n",
    "                        new_string = s[:i] + ' ' + string\n",
    "                    else:\n",
    "                        new_string = s[:i] + ''\n",
    "                    res.append(new_string)\n",
    "        self.memo[s] = res\n",
    "        return res\n",
    "\n",
    "s = 'ilikeicecreamandmango'\n",
    "wordDict = [\"mobile\",\"samsung\",\"sam\",\"sung\", \"man\",\"mango\",\"icecream\",\"and\", \"go\",\"i\",\"like\",\"ice\",\"cream\"]\n",
    "obj = Solution()\n",
    "obj.wordBreak(s, wordDict)"
   ]
  },
  {
   "cell_type": "markdown",
   "metadata": {},
   "source": [
    "### Word Break\n",
    "Same as wordBreak problem but output is True or False\n",
    "* True : String can be broken\n",
    "* False : String cannot be broken"
   ]
  },
  {
   "cell_type": "code",
   "execution_count": 1,
   "metadata": {},
   "outputs": [
    {
     "data": {
      "text/plain": [
       "True"
      ]
     },
     "execution_count": 1,
     "metadata": {},
     "output_type": "execute_result"
    }
   ],
   "source": [
    "def wordbreak(string):\n",
    "    dictionary = {\"mobile\",\"samsung\",\"sam\",\"sung\", \n",
    "                            \"man\",\"mango\", \"icecream\",\"and\", \n",
    "                            \"go\",\"i\",\"love\",\"ice\",\"cream\",\"mob\"}\n",
    "    dp = [False]*(len(string)+1)\n",
    "    dp[0] = True\n",
    "    for i in range(len(string)):\n",
    "        for j in range(i+1,len(string)+1):\n",
    "            if dp[i] and string[i:j] in dictionary:\n",
    "                dp[j] = True\n",
    "    return dp[-1]\n",
    "wordbreak('ilove')"
   ]
  },
  {
   "cell_type": "code",
   "execution_count": 1,
   "metadata": {},
   "outputs": [
    {
     "data": {
      "text/plain": [
       "True"
      ]
     },
     "execution_count": 1,
     "metadata": {},
     "output_type": "execute_result"
    }
   ],
   "source": [
    "### DFS with memoization\n",
    "class Solution:\n",
    "    def wordBreak(self, s: str, wordDict) -> bool:\n",
    "        self.memo = {}\n",
    "        wordDict = set(wordDict)\n",
    "        return self.helper(s, wordDict)\n",
    "    \n",
    "    def helper(self, s, d):\n",
    "        if not s:\n",
    "            return True\n",
    "        \n",
    "        if s in self.memo:\n",
    "            return self.memo[s]\n",
    "        \n",
    "        for i in range(1, len(s)+1):\n",
    "            if s[:i] in d and self.helper(s[i:], d):\n",
    "                self.memo[s] = True\n",
    "                return True\n",
    "        \n",
    "        self.memo[s] = False\n",
    "        return False\n",
    "    \n",
    "s = 'ilikeicecreamandmango'\n",
    "wordDict = {\"mobile\",\"samsung\",\"sam\",\"sung\", \"man\",\"mango\",\"icecream\",\"and\", \"go\",\"i\",\"like\",\"ice\",\"cream\"}\n",
    "obj = Solution()\n",
    "obj.wordBreak(s, wordDict)"
   ]
  },
  {
   "cell_type": "markdown",
   "metadata": {},
   "source": [
    "### Same as above but return the number of ways the string can be broken"
   ]
  },
  {
   "cell_type": "code",
   "execution_count": 9,
   "metadata": {},
   "outputs": [
    {
     "data": {
      "text/plain": [
       "4"
      ]
     },
     "execution_count": 9,
     "metadata": {},
     "output_type": "execute_result"
    }
   ],
   "source": [
    "def count_wordbreak(string):\n",
    "    dictionary = {\"mobile\",\"samsung\",\"sam\",\"sung\", \"man\",\"mango\",\"icecream\",\"and\", \"go\",\"i\",\"like\",\"ice\",\"cream\"}\n",
    "    dp = [0]*(len(string)+1)\n",
    "    dp[0] = 1\n",
    "    for i in range(len(string)):\n",
    "        for j in range(i+1,len(string)+1):\n",
    "            if dp[i] and string[i:j] in dictionary:\n",
    "                dp[j] += dp[i]\n",
    "    return dp[-1]\n",
    "count_wordbreak('ilikeicecreamandmango')"
   ]
  },
  {
   "cell_type": "code",
   "execution_count": 40,
   "metadata": {},
   "outputs": [
    {
     "data": {
      "text/plain": [
       "4"
      ]
     },
     "execution_count": 40,
     "metadata": {},
     "output_type": "execute_result"
    }
   ],
   "source": [
    "### DFS with memoization\n",
    "class Solution:\n",
    "    def count_wordbreak(self, s, worddict):\n",
    "        self.memo = {}\n",
    "        return self.helper(s,worddict)\n",
    "\n",
    "    def helper(self, s, worddict):\n",
    "        if s in self.memo:\n",
    "            return self.memo[s]\n",
    "        if not s:\n",
    "            return 1\n",
    "        count = 0\n",
    "        for i in range(1, len(s)+1):\n",
    "            if s[:i] in worddict:\n",
    "                count += self.helper(s[i:], worddict)\n",
    "        self.memo[s] = count\n",
    "        return count\n",
    "\n",
    "s = 'ilikeicecreamandmango'\n",
    "worddict = {\"mobile\",\"samsung\",\"sam\",\"sung\", \"man\",\"mango\",\"icecream\",\"and\", \"go\",\"i\",\"like\",\"ice\",\"cream\"}\n",
    "obj = Solution()\n",
    "obj.count_wordbreak(s, worddict)"
   ]
  },
  {
   "cell_type": "markdown",
   "metadata": {},
   "source": [
    "### Same as above but the words in the dictionary have frequencies"
   ]
  },
  {
   "cell_type": "code",
   "execution_count": 16,
   "metadata": {},
   "outputs": [
    {
     "data": {
      "text/plain": [
       "False"
      ]
     },
     "execution_count": 16,
     "metadata": {},
     "output_type": "execute_result"
    }
   ],
   "source": [
    "def can_break(string, dictionary):\n",
    "    if not string:\n",
    "        return True\n",
    "    for i in range(1, len(string)+1):\n",
    "        substring = string[:i]\n",
    "        if substring in dictionary and dictionary[substring]>0:\n",
    "            dictionary[substring] -= 1\n",
    "            if can_break(string[i:], dictionary):\n",
    "                return True\n",
    "            dictionary[substring] += 1\n",
    "    return False\n",
    "    \n",
    "dictionary = {\"abc\":3, \"ab\":2, \"abca\":1}\n",
    "can_break(\"abcabcaabbc\", dictionary)"
   ]
  },
  {
   "cell_type": "markdown",
   "metadata": {},
   "source": [
    "### Concatenated Words\n",
    "Given a list of words (without duplicates), please write a program that returns all concatenated words in the given list of words.\n",
    "A concatenated word is defined as a string that is comprised entirely of at least two shorter words in the given array.\n",
    "\n",
    "Example:\n",
    "Input: [\"cat\",\"cats\",\"catsdogcats\",\"dog\",\"dogcatsdog\",\"hippopotamuses\",\"rat\",\"ratcatdogcat\"]\n",
    "\n",
    "Output: [\"catsdogcats\",\"dogcatsdog\",\"ratcatdogcat\"]\n",
    "\n",
    "Explanation: \"catsdogcats\" can be concatenated by \"cats\", \"dog\" and \"cats\"; \n",
    " \"dogcatsdog\" can be concatenated by \"dog\", \"cats\" and \"dog\"; \n",
    "\"ratcatdogcat\" can be concatenated by \"rat\", \"cat\", \"dog\" and \"cat\"."
   ]
  },
  {
   "cell_type": "code",
   "execution_count": 5,
   "metadata": {},
   "outputs": [
    {
     "data": {
      "text/plain": [
       "['catsdogcats', 'dogcatsdog', 'ratcatdogcat']"
      ]
     },
     "execution_count": 5,
     "metadata": {},
     "output_type": "execute_result"
    }
   ],
   "source": [
    "def findAllConcatenatedWordsInADict(words):\n",
    "    dictionary = set(words); result = []\n",
    "    for word in words:\n",
    "        if not word: continue\n",
    "        dictionary.remove(word)\n",
    "        if helper(word, dictionary):\n",
    "            result.append(word)\n",
    "        dictionary.add(word)\n",
    "    return result\n",
    "\n",
    "def helper(word, dictionary):\n",
    "    dp = [False] * (len(word)+1)\n",
    "    dp[0] = True\n",
    "    for i in range(len(word)):\n",
    "        for j in range(i+1, len(word)+1):\n",
    "            if dp[i] and word[i:j] in dictionary:\n",
    "                dp[j] = True\n",
    "                if dp[-1]: return True\n",
    "    return False\n",
    "\n",
    "words = [\"cat\",\"cats\",\"catsdogcats\",\"dog\",\"dogcatsdog\",\"hippopotamuses\",\"rat\",\"ratcatdogcat\"]\n",
    "findAllConcatenatedWordsInADict(words)"
   ]
  },
  {
   "cell_type": "code",
   "execution_count": 15,
   "metadata": {},
   "outputs": [
    {
     "data": {
      "text/plain": [
       "['catsdogcats', 'dogcatsdog', 'ratcatdogcat']"
      ]
     },
     "execution_count": 15,
     "metadata": {},
     "output_type": "execute_result"
    }
   ],
   "source": [
    "### DFS with Memoization\n",
    "class Solution:\n",
    "    def findAllConcatenatedWordsInADict(self, words):\n",
    "        dictionary = set(words)\n",
    "        ans = []\n",
    "        for word in words:\n",
    "            if not word: continue\n",
    "            self.memo = {}\n",
    "            dictionary.remove(word)\n",
    "            if self.helper(word, dictionary):\n",
    "                ans.append(word)\n",
    "            dictionary.add(word)\n",
    "        return ans\n",
    "    \n",
    "    def helper(self, word, dictionary):\n",
    "        if not word:\n",
    "            return True\n",
    "        if word in self.memo:\n",
    "            return self.memo[word]\n",
    "        for i in range(1, len(word)+1):\n",
    "            prefix = word[:i]\n",
    "            if prefix in dictionary and self.helper(word[i:], dictionary):\n",
    "                self.memo[word] = True\n",
    "                return True\n",
    "        self.memo[word] = False\n",
    "        return False\n",
    "\n",
    "obj = Solution()\n",
    "words = [\"cat\",\"cats\",\"catsdogcats\",\"dog\",\"dogcatsdog\",\"hippopotamuses\",\"rat\",\"ratcatdogcat\"]\n",
    "obj.findAllConcatenatedWordsInADict(words)"
   ]
  },
  {
   "cell_type": "markdown",
   "metadata": {},
   "source": [
    "### Palindrome Partitioning\n",
    "Given a string s, partition s such that every substring of the partition is a palindrome.\n",
    "\n",
    "Return all possible palindrome partitioning of s.\n",
    "* Input: \"aab\"\n",
    "* Output:\n",
    "[\n",
    "  [\"aa\",\"b\"],\n",
    "  [\"a\",\"a\",\"b\"]\n",
    "]"
   ]
  },
  {
   "cell_type": "code",
   "execution_count": 2,
   "metadata": {},
   "outputs": [
    {
     "data": {
      "text/plain": [
       "[['a', 'a', 'b'], ['aa', 'b']]"
      ]
     },
     "execution_count": 2,
     "metadata": {},
     "output_type": "execute_result"
    }
   ],
   "source": [
    "class Solution:\n",
    "    def partition(self, s):\n",
    "        self.result = []\n",
    "        self.helper(s, [])\n",
    "        return self.result\n",
    "    \n",
    "    def helper(self, s, buffer):\n",
    "        if not s:\n",
    "            self.result.append(buffer[:])\n",
    "            return\n",
    "        for i in range(1,len(s)+1):\n",
    "            substring = s[:i]\n",
    "            if self.isPalindrome(substring):\n",
    "                buffer.append(substring)\n",
    "                self.helper(s[i:], buffer)\n",
    "                buffer.pop()\n",
    "    \n",
    "    def isPalindrome(self,s):\n",
    "        i = 0; j = len(s)-1\n",
    "        while i < j:\n",
    "            if s[i] != s[j]:\n",
    "                return False\n",
    "            i += 1\n",
    "            j -= 1\n",
    "        return True\n",
    "obj = Solution()\n",
    "obj.partition('aab')"
   ]
  },
  {
   "cell_type": "markdown",
   "metadata": {},
   "source": [
    "### Palindrome Permutation II\n",
    "Given a string s, return all the palindromic permutations (without duplicates) of it. Return an empty list if no palindromic permutation could be form.\n",
    "* Input: \"aabb\"\n",
    "* Output: [\"abba\", \"baab\"]"
   ]
  },
  {
   "cell_type": "code",
   "execution_count": 13,
   "metadata": {},
   "outputs": [],
   "source": [
    "class Solution:\n",
    "    def generatePalindromes(self, s):\n",
    "        import collections\n",
    "        counter = collections.Counter(s); odd = []; self.result = []\n",
    "        for key in counter:\n",
    "            if counter[key]%2!=0:\n",
    "                odd.append(key)\n",
    "        if len(odd)>1:\n",
    "            return []\n",
    "        base, mid = '', ''\n",
    "        for key in counter:\n",
    "            base += key*(counter[key]//2)\n",
    "        for key in odd:\n",
    "            mid = key\n",
    "        count = collections.Counter(base); buffer = []\n",
    "        self.helper(mid,base, count, buffer, s)\n",
    "        return self.result\n",
    "    \n",
    "    def helper(self, mid,base, count, buffer, s):\n",
    "        if len(buffer)==len(base):\n",
    "            self.result.append(''.join(buffer)+mid+''.join(buffer[::-1]))\n",
    "            return\n",
    "        \n",
    "        for x in count:\n",
    "            if count[x]>0:\n",
    "                count[x]-=1\n",
    "                buffer.append(x)\n",
    "                self.helper(mid,base, count, buffer, s)\n",
    "                buffer.pop()\n",
    "                count[x] += 1"
   ]
  },
  {
   "cell_type": "code",
   "execution_count": 16,
   "metadata": {},
   "outputs": [
    {
     "data": {
      "text/plain": [
       "['abba', 'baab']"
      ]
     },
     "execution_count": 16,
     "metadata": {},
     "output_type": "execute_result"
    }
   ],
   "source": [
    "obj = Solution()\n",
    "obj.generatePalindromes('aabb')"
   ]
  },
  {
   "cell_type": "markdown",
   "metadata": {},
   "source": [
    "### Word Search\n",
    "Given a 2D board and a word, find if the word exists in the grid.\n",
    "\n",
    "The word can be constructed from letters of sequentially adjacent cell, where \"adjacent\" cells are those horizontally or vertically neighboring. The same letter cell may not be used more than once.\n",
    "\n",
    "board =\n",
    "[\n",
    "  ['A','B','C','E'],\n",
    "  ['S','F','C','S'],\n",
    "  ['A','D','E','E']\n",
    "]\n",
    "\n",
    "Given word = \"ABCCED\", return true.\n",
    "Given word = \"SEE\", return true.\n",
    "Given word = \"ABCB\", return false.\n"
   ]
  },
  {
   "cell_type": "code",
   "execution_count": 30,
   "metadata": {},
   "outputs": [],
   "source": [
    "class Solution:\n",
    "    def exist(self, board, word: str) -> bool:\n",
    "        for i in range(len(board)):\n",
    "            for j in range(len(board[0])):\n",
    "                if board[i][j] == word[0]:\n",
    "                    ch = board[i][j]; board[i][j] = '#'\n",
    "                    if self.helper(i, j, word[1:], board):\n",
    "                        print(i, j)\n",
    "                        return True\n",
    "                    board[i][j] = ch\n",
    "        return False\n",
    "    \n",
    "    def helper(self, i, j, word, board):\n",
    "        if not word:\n",
    "            return True\n",
    "        for x, y in [(i+1,j), (i,j+1), (i-1,j), (i,j-1)]:\n",
    "            if 0<=x<len(board) and 0<=y<len(board[0]) and board[x][y] == word[0]:\n",
    "                ch = board[x][y]; board[x][y] = '#'\n",
    "                if self.helper(x, y, word[1:], board):\n",
    "                    print(x, y)\n",
    "                    return True\n",
    "                board[x][y] = ch\n",
    "        return False"
   ]
  },
  {
   "cell_type": "code",
   "execution_count": 20,
   "metadata": {},
   "outputs": [
    {
     "name": "stdout",
     "output_type": "stream",
     "text": [
      "2 1\n",
      "2 2\n",
      "1 2\n",
      "0 2\n",
      "0 1\n",
      "0 0\n"
     ]
    },
    {
     "data": {
      "text/plain": [
       "True"
      ]
     },
     "execution_count": 20,
     "metadata": {},
     "output_type": "execute_result"
    }
   ],
   "source": [
    "board = [\n",
    "  ['A','B','C','E'],\n",
    "  ['S','F','C','S'],\n",
    "  ['A','D','E','E']\n",
    "]\n",
    "word = \"ABCCED\"\n",
    "obj = Solution()\n",
    "obj.exist(board, word)"
   ]
  },
  {
   "cell_type": "markdown",
   "metadata": {},
   "source": [
    "### Flood fill\n",
    "An image is represented by a 2-D array of integers, each integer representing the pixel value of the image (from 0 to 65535).\n",
    "\n",
    "Given a coordinate (sr, sc) representing the starting pixel (row and column) of the flood fill, and a pixel value newColor, \"flood fill\" the image.\n",
    "\n",
    "To perform a \"flood fill\", consider the starting pixel, plus any pixels connected 4-directionally to the starting pixel of the same color as the starting pixel, plus any pixels connected 4-directionally to those pixels (also with the same color as the starting pixel), and so on. Replace the color of all of the aforementioned pixels with the newColor.\n",
    "\n",
    "At the end, return the modified image.\n",
    "\n",
    "input: <br/>\n",
    "image = [[1,1,1],[1,1,0],[1,0,1]] <br/>\n",
    "sr = 1, sc = 1, newColor = 2<br/>\n",
    "Output: [[2,2,2],[2,2,0],[2,0,1]]"
   ]
  },
  {
   "cell_type": "code",
   "execution_count": 16,
   "metadata": {},
   "outputs": [],
   "source": [
    "def floodFill(image, sr, sc, newColor):\n",
    "    curColor = image[sr][sc]\n",
    "    visited = set()\n",
    "    return helper(image,sr,sc, curColor, newColor, visited)\n",
    "\n",
    "def helper(image, i,j,curColor, newColor, visited):\n",
    "    if i<0 or i>=len(image) or j<0 or j >= len(image[0]) or (i,j) in visited or image[i][j]!=curColor:\n",
    "        return \n",
    "\n",
    "    visited.add((i,j))\n",
    "    image[i][j] = newColor\n",
    "    \n",
    "    for x,y in [(i,j+1), (i+1,j), (i-1,j), (i,j-1)]:\n",
    "        helper(image,x,y,curColor, newColor, visited)\n",
    "    \n",
    "    return image"
   ]
  },
  {
   "cell_type": "code",
   "execution_count": 17,
   "metadata": {},
   "outputs": [
    {
     "data": {
      "text/plain": [
       "[[2, 2, 2], [2, 2, 0], [2, 0, 1]]"
      ]
     },
     "execution_count": 17,
     "metadata": {},
     "output_type": "execute_result"
    }
   ],
   "source": [
    "image = [[1,1,1],[1,1,0],[1,0,1]] \n",
    "sr = 1; sc = 1; newColor = 2\n",
    "floodFill(image, sr, sc, newColor)"
   ]
  },
  {
   "cell_type": "markdown",
   "metadata": {},
   "source": [
    "### Unique Paths III\n",
    "On a 2-dimensional grid, there are 4 types of squares:\n",
    "\n",
    "1 represents the starting square.  There is exactly one starting square\n",
    "\n",
    "2 represents the ending square.  There is exactly one ending square.\n",
    "\n",
    "0 represents empty squares we can walk over.\n",
    "\n",
    "-1 represents obstacles that we cannot walk over.\n",
    "\n",
    "Return the number of 4-directional walks from the starting square to the ending square, that walk over every non-obstacle square exactly once.\n",
    "\n",
    "* Input: [[1,0,0,0],[0,0,0,0],[0,0,2,-1]]\n",
    "* Output: 2\n",
    "* Explanation: We have the following two paths: \n",
    "        1. (0,0),(0,1),(0,2),(0,3),(1,3),(1,2),(1,1),(1,0),(2,0),(2,1),(2,2)\n",
    "        2. (0,0),(1,0),(2,0),(2,1),(1,1),(0,1),(0,2),(0,3),(1,3),(1,2),(2,2)\n"
   ]
  },
  {
   "cell_type": "code",
   "execution_count": 2,
   "metadata": {},
   "outputs": [],
   "source": [
    "class Solution:\n",
    "    def uniquePathsIII(self, grid) -> int:\n",
    "        count = 0\n",
    "        for i in range(len(grid)):\n",
    "            for j in range(len(grid[0])):\n",
    "                if grid[i][j] == 1:\n",
    "                    sx, sy = i, j\n",
    "                elif grid[i][j] == 2:\n",
    "                    dx, dy = i, j\n",
    "                if 0<=grid[i][j]<=2:\n",
    "                    count += 1\n",
    "        \n",
    "        self.memo = {}\n",
    "        self.count = count\n",
    "        hashcode = 1 << (sx*len(grid[0])+sy)\n",
    "        return self.helper(sx, sy, dx, dy, grid, hashcode, 1)\n",
    "    \n",
    "    def helper(self, i, j, dx, dy, grid, hashcode, count):\n",
    "        if i == dx and j == dy:\n",
    "            return count == self.count\n",
    "                \n",
    "        if (i, j, hashcode) in self.memo:\n",
    "            return self.memo[(i, j, hashcode)]\n",
    "        \n",
    "        ans = 0\n",
    "        for x, y in [(i+1,j), (i-1,j), (i,j-1), (i,j+1)]:\n",
    "            k = x*len(grid[0]) + y\n",
    "            if 0<=x<len(grid) and 0<=y<len(grid[0]) and grid[x][y] != -1 and hashcode >> k & 1 == 0:\n",
    "                ans += self.helper(x, y, dx, dy, grid, hashcode|1<<k, count+1)\n",
    "        \n",
    "        self.memo[(i, j, hashcode)] = ans\n",
    "        return ans"
   ]
  },
  {
   "cell_type": "code",
   "execution_count": 5,
   "metadata": {},
   "outputs": [
    {
     "data": {
      "text/plain": [
       "2"
      ]
     },
     "execution_count": 5,
     "metadata": {},
     "output_type": "execute_result"
    }
   ],
   "source": [
    "sol = Solution()\n",
    "sol.uniquePathsIII([[1,0,0,0],[0,0,0,0],[0,0,2,-1]])"
   ]
  },
  {
   "cell_type": "markdown",
   "metadata": {},
   "source": [
    "### N-queen Problem"
   ]
  },
  {
   "cell_type": "code",
   "execution_count": 29,
   "metadata": {},
   "outputs": [],
   "source": [
    "class Solution:\n",
    "    def solveNQueens(self, n):\n",
    "        solution = []\n",
    "        diag1 = set(); diag2 = set(); usedCols = set(); self.result = []\n",
    "        self.helper(n,solution,diag1,diag2,usedCols,0)\n",
    "        return self.result\n",
    "    \n",
    "    def helper(self, n, solution, diag1, diag2, usedCols, row):\n",
    "        if row == n:\n",
    "            self.result.append(solution[:])\n",
    "            return \n",
    "        \n",
    "        for col in range(n):\n",
    "            if row+col not in diag1 and row-col not in diag2 and col not in usedCols:\n",
    "                diag1.add(row+col)\n",
    "                diag2.add(row-col)\n",
    "                usedCols.add(col)\n",
    "                \n",
    "                string = ['.']*n\n",
    "                string[col] = 'Q'\n",
    "                \n",
    "                solution.append(''.join(string))\n",
    "                self.helper(n, solution, diag1, diag2, usedCols, row+1)\n",
    "                solution.pop()\n",
    "                \n",
    "                diag1.remove(row+col)\n",
    "                diag2.remove(row-col)\n",
    "                usedCols.remove(col)"
   ]
  },
  {
   "cell_type": "code",
   "execution_count": 30,
   "metadata": {},
   "outputs": [
    {
     "data": {
      "text/plain": [
       "[['.Q..', '...Q', 'Q...', '..Q.'], ['..Q.', 'Q...', '...Q', '.Q..']]"
      ]
     },
     "execution_count": 30,
     "metadata": {},
     "output_type": "execute_result"
    }
   ],
   "source": [
    "obj = Solution()\n",
    "obj.solveNQueens(4)"
   ]
  },
  {
   "cell_type": "markdown",
   "metadata": {},
   "source": [
    "### Path with Maximum Gold\n",
    "In a gold mine grid of size m * n, each cell in this mine has an integer representing the amount of gold in that cell, 0 if it is empty.\n",
    "\n",
    "Return the maximum amount of gold you can collect under the conditions:\n",
    "\n",
    "Every time you are located in a cell you will collect all the gold in that cell.\n",
    "From your position you can walk one step to the left, right, up or down.\n",
    "You can't visit the same cell more than once.\n",
    "Never visit a cell with 0 gold.\n",
    "You can start and stop collecting gold from any position in the grid that has some gold.\n",
    "\n",
    "* Input: grid = [[1,0,7],[2,0,6],[3,4,5],[0,3,0],[9,0,20]]\n",
    "* Output: 28\n",
    "* Explanation:\n",
    "\n",
    "                [[1,0,7],\n",
    "                 [2,0,6],\n",
    "                 [3,4,5],\n",
    "                 [0,3,0],\n",
    "                 [9,0,20]]\n",
    "                 \n",
    "Path to get the maximum gold, 1 -> 2 -> 3 -> 4 -> 5 -> 6 -> 7."
   ]
  },
  {
   "cell_type": "code",
   "execution_count": 7,
   "metadata": {},
   "outputs": [
    {
     "data": {
      "text/plain": [
       "(24, [(1, 2), (1, 1), (2, 1)])"
      ]
     },
     "execution_count": 7,
     "metadata": {},
     "output_type": "execute_result"
    }
   ],
   "source": [
    "class Solution:\n",
    "    def getMaximumGold(self, grid) -> int:\n",
    "        self.ans = 0, []\n",
    "        for i in range(len(grid)):\n",
    "            for j in range(len(grid[0])):\n",
    "                if grid[i][j] != 0:\n",
    "                    self.visited = {(i,j)}\n",
    "                    buffer = [(i,j)]\n",
    "                    self.dfs(i, j, grid, grid[i][j], buffer)\n",
    "        return self.ans\n",
    "    \n",
    "    def dfs(self, i, j, grid, gold_so_far, buffer):\n",
    "        if gold_so_far > self.ans[0]:\n",
    "            self.ans = gold_so_far, buffer[:]\n",
    "        \n",
    "        for x,y in [(i+1,j), (i,j+1), (i-1,j), (i,j-1)]:\n",
    "            if 0<=x<len(grid) and 0<=y<len(grid[0]) and grid[x][y]!=0 and (x,y) not in self.visited:\n",
    "                self.visited.add((x, y))\n",
    "                buffer.append((x, y))\n",
    "                self.dfs(x, y, grid, grid[x][y]+gold_so_far, buffer)\n",
    "                buffer.pop()\n",
    "                self.visited.remove((x, y))\n",
    "        \n",
    "grid = [[0,6,0],\n",
    "        [5,8,7],\n",
    "        [0,9,0]]\n",
    "obj = Solution()\n",
    "obj.getMaximumGold(grid)"
   ]
  },
  {
   "cell_type": "markdown",
   "metadata": {},
   "source": [
    "### Evaluate Division\n",
    "Equations are given in the format A / B = k, where A and B are variables represented as strings, and k is a real number (floating point number). Given some queries, return the answers. If the answer does not exist, return -1.0.\n",
    "\n",
    "Example:\n",
    "Given a / b = 2.0, b / c = 3.0.\n",
    "queries are: a / c = ?, b / a = ?, a / e = ?, a / a = ?, x / x = ? .\n",
    "return [6.0, 0.5, -1.0, 1.0, -1.0 ]."
   ]
  },
  {
   "cell_type": "code",
   "execution_count": 12,
   "metadata": {},
   "outputs": [
    {
     "data": {
      "text/plain": [
       "[6.0, 0.5, -1, 1, -1]"
      ]
     },
     "execution_count": 12,
     "metadata": {},
     "output_type": "execute_result"
    }
   ],
   "source": [
    "class Solution:\n",
    "    def calcEquation(self, equations, values, queries):\n",
    "        import collections\n",
    "        self.graph = collections.defaultdict(dict)\n",
    "        self.res = []\n",
    "        for i in range(len(equations)):\n",
    "            x, y = equations[i]\n",
    "            val = values[i]\n",
    "            self.graph[x][y] = val\n",
    "            self.graph[y][x] = 1/val\n",
    "        \n",
    "        for x, y in queries:\n",
    "            self.res.append(-1)\n",
    "            if x not in self.graph or y not in self.graph:\n",
    "                continue\n",
    "            visited = set()\n",
    "            self.dfs(x, y, 1, visited)\n",
    "        return self.res\n",
    "    \n",
    "    def dfs(self, curr_var, target_var, val, visited):\n",
    "        if curr_var == target_var:\n",
    "            self.res[-1] = val\n",
    "            return True\n",
    "        if curr_var in visited:\n",
    "            return False\n",
    "        visited.add(curr_var)\n",
    "        for key in self.graph[curr_var]:\n",
    "            if self.dfs(key, target_var, val*self.graph[curr_var][key], visited):\n",
    "                return True\n",
    "            \n",
    "obj = Solution()\n",
    "obj.calcEquation([[\"a\",\"b\"],[\"b\",\"c\"]], [2.0,3.0], [[\"a\",\"c\"],[\"b\",\"a\"],[\"a\",\"e\"],[\"a\",\"a\"],[\"x\",\"x\"]])"
   ]
  },
  {
   "cell_type": "markdown",
   "metadata": {},
   "source": [
    "### Reconstruct Itinerary\n",
    "Given a list of airline tickets represented by pairs of departure and arrival airports [from, to], reconstruct the itinerary in order. All of the tickets belong to a man who departs from JFK. Thus, the itinerary must begin with JFK.\n",
    "\n",
    "Note:\n",
    "\n",
    "* If there are multiple valid itineraries, you should return the itinerary that has the smallest lexical order when read as a single string. \n",
    "* For example, the itinerary [\"JFK\", \"LGA\"] has a smaller lexical order than [\"JFK\", \"LGB\"].\n",
    "* All airports are represented by three capital letters (IATA code).\n",
    "* You may assume all tickets form at least one valid itinerary."
   ]
  },
  {
   "cell_type": "code",
   "execution_count": 13,
   "metadata": {},
   "outputs": [
    {
     "data": {
      "text/plain": [
       "['JFK', 'ATL', 'JFK', 'SFO', 'ATL', 'SFO']"
      ]
     },
     "execution_count": 13,
     "metadata": {},
     "output_type": "execute_result"
    }
   ],
   "source": [
    "class Solution:\n",
    "    def findItinerary(self, tickets):\n",
    "        import collections\n",
    "        self.res = None\n",
    "        tickets.sort()\n",
    "        self.ticket_set = collections.Counter()\n",
    "        self.graph = collections.defaultdict(list)\n",
    "        for x, y in tickets:\n",
    "            self.graph[x].append(y)\n",
    "            self.ticket_set[(x,y)] += 1\n",
    "        self.dfs(['JFK'], len(tickets))\n",
    "        return self.res\n",
    "            \n",
    "    def dfs(self, path, num_used):\n",
    "        if num_used == 0:\n",
    "            self.res = path[:]\n",
    "            return True\n",
    "        \n",
    "        curr_city = path[-1]\n",
    "        for neigh in self.graph[curr_city]:\n",
    "            if self.ticket_set[(curr_city, neigh)]>0:\n",
    "                self.ticket_set[(curr_city, neigh)] -= 1\n",
    "                path.append(neigh)\n",
    "                if self.dfs(path, num_used-1):\n",
    "                    return True\n",
    "                path.pop()\n",
    "                self.ticket_set[(curr_city, neigh)] += 1\n",
    "        return False\n",
    "\n",
    "obj = Solution()\n",
    "obj.findItinerary([[\"JFK\",\"SFO\"],[\"JFK\",\"ATL\"],[\"SFO\",\"ATL\"],[\"ATL\",\"JFK\"],[\"ATL\",\"SFO\"]])"
   ]
  },
  {
   "cell_type": "markdown",
   "metadata": {},
   "source": [
    "### 24 game\n",
    "You have 4 cards each containing a number from 1 to 9. You need to judge whether they could operated through *, /, +, -, (, ) to get the value of 24.\n",
    "\n",
    "Example 1:\n",
    "* Input: [4, 1, 8, 7]\n",
    "* Output: True\n",
    "* Explanation: (8-4) * (7-1) = 24"
   ]
  },
  {
   "cell_type": "code",
   "execution_count": 5,
   "metadata": {},
   "outputs": [
    {
     "data": {
      "text/plain": [
       "True"
      ]
     },
     "execution_count": 5,
     "metadata": {},
     "output_type": "execute_result"
    }
   ],
   "source": [
    "class Solution:\n",
    "    def judgePoint24(self, nums) -> bool:\n",
    "        return self.helper(nums)\n",
    "    \n",
    "    def helper(self, nums):\n",
    "        if len(nums) == 1 and abs(nums[0] - 24) <= 0.01: \n",
    "            return True\n",
    "        \n",
    "        for i in range(len(nums)):\n",
    "            for j in range(i+1, len(nums)):\n",
    "                new_nums = [nums[k] for k in range(len(nums)) if k!=i and k!=j]\n",
    "                x, y = nums[i], nums[j]\n",
    "                if self.helper(new_nums + [x + y]): return True\n",
    "                if self.helper(new_nums + [x - y]): return True\n",
    "                if self.helper(new_nums + [y - x]): return True\n",
    "                if self.helper(new_nums + [x * y]): return True\n",
    "                if y!=0 and self.helper(new_nums + [x / y]): return True\n",
    "                if x!=0 and self.helper(new_nums + [y / x]): return True\n",
    "                    \n",
    "        return False\n",
    "\n",
    "obj = Solution()\n",
    "obj.judgePoint24([4,1,8,7])"
   ]
  },
  {
   "cell_type": "markdown",
   "metadata": {},
   "source": [
    "### Pacific Atlantic Water Flow\n",
    "Given an m x n matrix of non-negative integers representing the height of each unit cell in a continent, the \"Pacific ocean\" touches the left and top edges of the matrix and the \"Atlantic ocean\" touches the right and bottom edges.\n",
    "\n",
    "Water can only flow in four directions (up, down, left, or right) from a cell to another one with height equal or lower.\n",
    "\n",
    "Find the list of grid coordinates where water can flow to both the Pacific and Atlantic ocean.\n",
    "\n",
    "Given the following 5x5 matrix:\n",
    "\n",
    "      Pacific ~   ~   ~   ~   ~ \n",
    "           ~  1   2   2   3  (5) *\n",
    "           ~  3   2   3  (4) (4) *\n",
    "           ~  2   4  (5)  3   1  *\n",
    "           ~ (6) (7)  1   4   5  *\n",
    "           ~ (5)  1   1   2   4  *\n",
    "              *   *   *   *   * Atlantic\n",
    "\n",
    "Return:\n",
    "\n",
    "[[0, 4], [1, 3], [1, 4], [2, 2], [3, 0], [3, 1], [4, 0]] (positions with parentheses in above matrix)."
   ]
  },
  {
   "cell_type": "code",
   "execution_count": 59,
   "metadata": {},
   "outputs": [
    {
     "data": {
      "text/plain": [
       "[(1, 3), (3, 0), (2, 2), (3, 1), (1, 4), (0, 4), (4, 0)]"
      ]
     },
     "execution_count": 59,
     "metadata": {},
     "output_type": "execute_result"
    }
   ],
   "source": [
    "class Solution:\n",
    "    def pacificAtlantic(self, matrix):\n",
    "        if not matrix: return []\n",
    "        pacific = set(); atlantic = set()\n",
    "        \n",
    "        for i in range(len(matrix[0])):\n",
    "            self.flood(pacific, 0, i, matrix)\n",
    "            self.flood(atlantic, len(matrix)-1, i, matrix)\n",
    "        \n",
    "        for i in range(len(matrix)):\n",
    "            self.flood(pacific, i, 0, matrix)\n",
    "            self.flood(atlantic, i, len(matrix[0])-1, matrix)\n",
    "        \n",
    "        return list(pacific & atlantic)\n",
    "    \n",
    "    def flood(self, visited, i, j, matrix):\n",
    "        visited.add((i, j))\n",
    "        for x, y in [(i+1,j), (i,j+1), (i-1,j), (i,j-1)]:\n",
    "            if 0<=x<len(matrix) and 0<=y<len(matrix[0]) and (x,y) not in visited and matrix[x][y] >= matrix[i][j]:\n",
    "                self.flood(visited, x, y, matrix)\n",
    "                \n",
    "obj = Solution()\n",
    "matrix = [[1,2,2,3,5],[3,2,3,4,4],[2,4,5,3,1],[6,7,1,4,5],[5,1,1,2,4]]\n",
    "obj.pacificAtlantic(matrix)\n",
    "\n"
   ]
  },
  {
   "cell_type": "markdown",
   "metadata": {},
   "source": [
    "### Burst Balloons\n",
    "Given n balloons, indexed from 0 to n-1. Each balloon is painted with a number on it represented by array nums. You are asked to burst all the balloons. \n",
    "\n",
    "If the you burst balloon i you will get **nums[left] * nums[i] * nums[right]** coins. \n",
    "\n",
    "Here left and right are adjacent indices of i. After the burst, the left and right then becomes adjacent.\n",
    "\n",
    "Find the maximum coins you can collect by bursting the balloons wisely."
   ]
  },
  {
   "cell_type": "code",
   "execution_count": 22,
   "metadata": {},
   "outputs": [
    {
     "data": {
      "text/plain": [
       "167"
      ]
     },
     "execution_count": 22,
     "metadata": {},
     "output_type": "execute_result"
    }
   ],
   "source": [
    "class Solution:\n",
    "    def maxCoins(self, nums) -> int:\n",
    "        self.memo = {}\n",
    "        return self.helper(0, len(nums)-1, nums)\n",
    "    \n",
    "    def helper(self, start, end, nums):\n",
    "        if (start, end) in self.memo:\n",
    "            return self.memo[(start, end)]\n",
    "        if start > end:\n",
    "            return 0\n",
    "        \n",
    "        ans = 0\n",
    "        for i in range(start, end+1):\n",
    "            val = self.helper(start, i-1, nums) + \\\n",
    "                  self.get(nums, start-1)*self.get(nums,i)*self.get(nums,end+1) + \\\n",
    "                  self.helper(i+1, end, nums)\n",
    "            ans = max(ans, val)\n",
    "        \n",
    "        self.memo[(start, end)] = ans\n",
    "        return ans\n",
    "    \n",
    "    def get(self, nums, i):\n",
    "        if i == -1 or i == len(nums):\n",
    "            return 1\n",
    "        return nums[i]\n",
    "    \n",
    "obj = Solution()\n",
    "obj.maxCoins([3,1,5,8])"
   ]
  },
  {
   "cell_type": "markdown",
   "metadata": {},
   "source": [
    "### Longest Lines of Consecutive ones\n",
    "Given a 01 matrix M, find the longest line of consecutive one in the matrix. The line could be horizontal, vertical, diagonal or anti-diagonal.\n",
    "Example:\n",
    "Input:\n",
    "\n",
    "        [[0,1,1,0],\n",
    "         [0,1,1,0],\n",
    "         [0,0,0,1]]\n",
    "Output: 3"
   ]
  },
  {
   "cell_type": "code",
   "execution_count": 28,
   "metadata": {},
   "outputs": [
    {
     "data": {
      "text/plain": [
       "3"
      ]
     },
     "execution_count": 28,
     "metadata": {},
     "output_type": "execute_result"
    }
   ],
   "source": [
    "class Solution:\n",
    "    def longestLine(self, M) -> int:\n",
    "        self.memo = {}; ans = 0\n",
    "        \n",
    "        self.new_coords = {'down':lambda x,y : (x+1,y),\n",
    "                    'right':lambda x,y : (x,y+1),\n",
    "                    'diag':lambda x,y : (x+1,y+1),\n",
    "                    'anti_diag':lambda x,y : (x+1,y-1)}\n",
    "        \n",
    "        for i in range(len(M)):\n",
    "            for j in range(len(M[0])):\n",
    "                if M[i][j] == 1:\n",
    "                    for d in ['down', 'right', 'diag', 'anti_diag']:\n",
    "                        ans = max(ans, self.helper(i, j, d, M))\n",
    "        return ans\n",
    "    \n",
    "    def helper(self, i, j, d, M):\n",
    "        if i<0  or i>=len(M) or j<0 or j>=len(M[0]) or M[i][j] == 0:\n",
    "            return 0\n",
    "        \n",
    "        if (i,j,d) in self.memo:\n",
    "            return self.memo[(i,j,d)]\n",
    "        \n",
    "        length = 1\n",
    "        x,y = self.new_coords[d](i,j)\n",
    "        length += self.helper(x, y, d, M)\n",
    "        self.memo[(i,j, d)] = length\n",
    "        return length\n",
    "    \n",
    "grid = [[0,1,1,0],[0,1,1,0],[0,0,0,1]]\n",
    "obj = Solution()\n",
    "obj.longestLine(grid)"
   ]
  },
  {
   "cell_type": "code",
   "execution_count": 30,
   "metadata": {},
   "outputs": [
    {
     "data": {
      "text/plain": [
       "3"
      ]
     },
     "execution_count": 30,
     "metadata": {},
     "output_type": "execute_result"
    }
   ],
   "source": [
    "## Iterative DP\n",
    "def longestLine(M) -> int:\n",
    "    #up, left, diag, antidiag\n",
    "    import collections\n",
    "    memo = collections.defaultdict(int); ans = 0\n",
    "    for i in range(len(M)):\n",
    "        for j in range(len(M[0])):\n",
    "            if M[i][j] == 1:\n",
    "                memo[(i,j,0)] = 1 + memo[(i-1,j,0)] if i-1>=0 else 1\n",
    "                memo[(i,j,1)] = 1 + memo[(i,j-1,1)] if j-1>=0 else 1\n",
    "                memo[(i,j,2)] = 1 + memo[(i-1,j-1,2)] if i-1>=0 and j-1>=0 else 1\n",
    "                memo[(i,j,3)] = 1 + memo[(i-1,j+1,3)] if i-1>=0 and j+1<len(M[0]) else 1\n",
    "\n",
    "    return max(memo.values()) if memo else 0\n",
    "\n",
    "grid = [[0,1,1,0],[0,1,1,0],[0,0,0,1]]\n",
    "longestLine(grid)"
   ]
  },
  {
   "cell_type": "markdown",
   "metadata": {},
   "source": [
    "### Largest Plus Sign\n",
    "In a 2D grid from (0, 0) to (N-1, N-1), every cell contains a 1, except those cells in the given list mines which are 0. What is the largest axis-aligned plus sign of 1s contained in the grid? Return the order of the plus sign. If there is none, return 0.\n",
    "\n",
    "An \"axis-aligned plus sign of 1s of order k\" has some center grid[x][y] = 1 along with 4 arms of length k-1 going up, down, left, and right, and made of 1s. This is demonstrated in the diagrams below. Note that there could be 0s or 1s beyond the arms of the plus sign, only the relevant area of the plus sign is checked for 1s."
   ]
  },
  {
   "cell_type": "code",
   "execution_count": 25,
   "metadata": {},
   "outputs": [
    {
     "data": {
      "text/plain": [
       "2"
      ]
     },
     "execution_count": 25,
     "metadata": {},
     "output_type": "execute_result"
    }
   ],
   "source": [
    "def orderOfLargestPlusSign(N: int, mines) -> int:\n",
    "    ## up, left, down, right\n",
    "    import collections\n",
    "    if not mines: return (N+1) // 2\n",
    "    mines = {(x,y) for x,y in mines}\n",
    "    ans = 0\n",
    "    memo = collections.Counter()\n",
    "    for i in range(N):\n",
    "        for j in range(N):\n",
    "            if (i,j) not in mines:\n",
    "                memo[(i,j,0)] = 1 + memo[(i-1,j,0)] if i-1>=0 else 1\n",
    "                memo[(i,j,1)] = 1 + memo[(i,j-1,1)] if j-1>=0 else 1\n",
    "\n",
    "    for i in range(N-1, -1, -1):\n",
    "        for j in range(N-1, -1, -1):\n",
    "            if (i,j) not in mines:\n",
    "                memo[(i,j,2)] = 1 + memo[(i+1,j,2)] if i+1<N else 1\n",
    "                memo[(i,j,3)] = 1 + memo[(i,j+1,3)] if j+1<N else 1\n",
    "                ans = max(ans, min([memo[(i ,j, 0)], memo[(i ,j, 1)], memo[(i ,j, 2)], memo[(i ,j, 3)]]))\n",
    "\n",
    "    return ans \n",
    "\n",
    "N = 5; mines = [[4, 2]]\n",
    "orderOfLargestPlusSign(N, mines)"
   ]
  },
  {
   "cell_type": "markdown",
   "metadata": {},
   "source": [
    "### Maximal Square\n",
    "Given a 2D binary matrix filled with 0's and 1's, find the largest square containing only 1's and return its area."
   ]
  },
  {
   "cell_type": "code",
   "execution_count": 3,
   "metadata": {},
   "outputs": [
    {
     "data": {
      "text/plain": [
       "4"
      ]
     },
     "execution_count": 3,
     "metadata": {},
     "output_type": "execute_result"
    }
   ],
   "source": [
    "def maximalSquare(matrix) -> int:\n",
    "    import collections\n",
    "    memo = collections.defaultdict(int)\n",
    "    max_len = 0\n",
    "    for i in range(len(matrix)):\n",
    "        for j in range(len(matrix[0])):\n",
    "            if matrix[i][j] == '1':\n",
    "                up = memo[(i-1,j)] if i-1>=0 else 0\n",
    "                left = memo[(i,j-1)] if j-1>=0 else 0\n",
    "                up_left = memo[(i-1,j-1)] if i-1>=0 and j-1>=0 else 0\n",
    "                memo[(i,j)] = 1 + min(up, left, up_left)\n",
    "                max_len = max(max_len, memo[(i,j)])\n",
    "    return max_len ** 2\n",
    "\n",
    "maximalSquare([[\"1\",\"0\",\"1\",\"0\",\"0\"],[\"1\",\"0\",\"1\",\"1\",\"1\"],[\"1\",\"1\",\"1\",\"1\",\"1\"],[\"1\",\"0\",\"0\",\"1\",\"0\"]])"
   ]
  },
  {
   "cell_type": "code",
   "execution_count": 7,
   "metadata": {},
   "outputs": [
    {
     "data": {
      "text/plain": [
       "4"
      ]
     },
     "execution_count": 7,
     "metadata": {},
     "output_type": "execute_result"
    }
   ],
   "source": [
    "# Memoized soln\n",
    "class Solution:\n",
    "    def maximalSquare(self, matrix) -> int:\n",
    "        self.memo = {}; max_length = 0\n",
    "        for i in range(len(matrix)):\n",
    "            for j in range(len(matrix[0])):\n",
    "                if matrix[i][j] == '1':\n",
    "                    max_length = max(max_length, self.helper(i, j, matrix))\n",
    "        return max_length*max_length\n",
    "    \n",
    "    def helper(self, i, j, matrix):\n",
    "        if i<0 or i>=len(matrix) or j<0 or j>=len(matrix[0]) or matrix[i][j] == '0':\n",
    "            return 0\n",
    "        \n",
    "        if (i,j) in self.memo:\n",
    "            return self.memo[(i,j)]\n",
    "        \n",
    "        up = self.helper(i-1, j, matrix)\n",
    "        left = self.helper(i, j-1,matrix)\n",
    "        up_left = self.helper(i-1, j-1,matrix)\n",
    "        \n",
    "        self.memo[(i,j)] = 1 + min(up, left, up_left)\n",
    "        return self.memo[(i,j)]\n",
    "\n",
    "matrix = [[\"1\",\"0\",\"1\",\"0\",\"0\"],[\"1\",\"0\",\"1\",\"1\",\"1\"],[\"1\",\"1\",\"1\",\"1\",\"1\"],[\"1\",\"0\",\"0\",\"1\",\"0\"]]\n",
    "Solution().maximalSquare(matrix)"
   ]
  },
  {
   "cell_type": "markdown",
   "metadata": {},
   "source": [
    "### Number of Ways to Stay in the Same Place After Some Steps\n",
    "You have a pointer at index 0 in an array of size arrLen. At each step, you can move 1 position to the left, 1 position to the right in the array or stay in the same place  (The pointer should not be placed outside the array at any time).\n",
    "\n",
    "Given two integers steps and arrLen, return the number of ways such that your pointer still at index 0 after exactly steps steps.\n",
    "\n",
    "Since the answer may be too large, return it modulo 10^9 + 7."
   ]
  },
  {
   "cell_type": "code",
   "execution_count": 11,
   "metadata": {},
   "outputs": [
    {
     "data": {
      "text/plain": [
       "4"
      ]
     },
     "execution_count": 11,
     "metadata": {},
     "output_type": "execute_result"
    }
   ],
   "source": [
    "class Solution:\n",
    "    def numWays(self, steps: int, arrLen: int) -> int:\n",
    "        self.hashmap = {}\n",
    "        return self.helper(0, steps, arrLen) % (10**9 + 7)\n",
    "    \n",
    "    def helper(self, index, steps, n):\n",
    "        if (index, steps) in self.hashmap:\n",
    "            return self.hashmap[(index, steps)]\n",
    "        if index == 0 and steps == 0:\n",
    "            return 1\n",
    "        if index<0 or index>=n or steps < 0:\n",
    "            return 0\n",
    "        ans = 0\n",
    "        for i in [index, index+1, index-1]:\n",
    "            ans += self.helper(i, steps-1, n)\n",
    "        self.hashmap[(index, steps)] = ans\n",
    "        return ans \n",
    "\n",
    "obj = Solution()\n",
    "obj.numWays(3,2)"
   ]
  },
  {
   "cell_type": "markdown",
   "metadata": {},
   "source": [
    "### Robot Room Cleaner\n",
    "Given a robot cleaner in a room modeled as a grid.\n",
    "\n",
    "Each cell in the grid can be empty or blocked.\n",
    "\n",
    "The robot cleaner with 4 given APIs can move forward, turn left or turn right. Each turn it made is 90 degrees.\n",
    "\n",
    "When it tries to move into a blocked cell, its bumper sensor detects the obstacle and it stays on the current cell.\n",
    "\n",
    "Design an algorithm to clean the entire room using only the 4 given APIs shown below."
   ]
  },
  {
   "cell_type": "code",
   "execution_count": 5,
   "metadata": {},
   "outputs": [],
   "source": [
    "# \"\"\"\n",
    "# This is the robot's control interface.\n",
    "# You should not implement it, or speculate about its implementation\n",
    "# \"\"\"\n",
    "#class Robot:\n",
    "#    def move(self):\n",
    "#        \"\"\"\n",
    "#        Returns true if the cell in front is open and robot moves into the cell.\n",
    "#        Returns false if the cell in front is blocked and robot stays in the current cell.\n",
    "#        :rtype bool\n",
    "#        \"\"\"\n",
    "#\n",
    "#    def turnLeft(self):\n",
    "#        \"\"\"\n",
    "#        Robot will stay in the same cell after calling turnLeft/turnRight.\n",
    "#        Each turn will be 90 degrees.\n",
    "#        :rtype void\n",
    "#        \"\"\"\n",
    "#\n",
    "#    def turnRight(self):\n",
    "#        \"\"\"\n",
    "#        Robot will stay in the same cell after calling turnLeft/turnRight.\n",
    "#        Each turn will be 90 degrees.\n",
    "#        :rtype void\n",
    "#        \"\"\"\n",
    "#\n",
    "#    def clean(self):\n",
    "#        \"\"\"\n",
    "#        Clean the current cell.\n",
    "#        :rtype void\n",
    "#        \"\"\"\n",
    "\n",
    "class Solution:\n",
    "    def cleanRoom(self, robot):\n",
    "        \"\"\"\n",
    "        :type robot: Robot\n",
    "        :rtype: None\n",
    "        \"\"\"\n",
    "        self.dir = [(-1,0), (0,1), (1,0), (0,-1)] #0:up, 1:right, 2:down, 3:left\n",
    "        self.visited = set()\n",
    "        self.dfs(robot, 0, 0, 0)\n",
    "    \n",
    "    def dfs(self, robot, i, j, curr_dir):\n",
    "        self.visited.add((i,j))\n",
    "        robot.clean()\n",
    "        \n",
    "        for _ in range(4):\n",
    "            x, y = i + self.dir[curr_dir][0], j + self.dir[curr_dir][1]\n",
    "            if (x, y) not in self.visited and robot.move():\n",
    "                self.dfs(robot, x, y, curr_dir)\n",
    "                robot.turnRight()\n",
    "                robot.turnRight()\n",
    "                robot.move()\n",
    "                robot.turnRight()\n",
    "                robot.turnRight()\n",
    "                \n",
    "            robot.turnRight()\n",
    "            curr_dir  = (curr_dir + 1) % 4"
   ]
  },
  {
   "cell_type": "markdown",
   "metadata": {},
   "source": [
    "### House Robber I\n",
    "You are a professional robber planning to rob houses along a street. Each house has a certain amount of money stashed, the only constraint stopping you from robbing each of them is that adjacent houses have security system connected and it will automatically contact the police if two adjacent houses were broken into on the same night.\n",
    "\n",
    "Given a list of non-negative integers representing the amount of money of each house, determine the maximum amount of money you can rob tonight without alerting the police."
   ]
  },
  {
   "cell_type": "code",
   "execution_count": 4,
   "metadata": {},
   "outputs": [
    {
     "data": {
      "text/plain": [
       "12"
      ]
     },
     "execution_count": 4,
     "metadata": {},
     "output_type": "execute_result"
    }
   ],
   "source": [
    "class Solution:\n",
    "    def rob(self, nums) -> int:\n",
    "        self.dp = {}\n",
    "        return self.helper(0, nums)\n",
    "    \n",
    "    def helper(self, i, nums):\n",
    "        if i>=len(nums):\n",
    "            return 0\n",
    "        if i in self.dp:\n",
    "            return self.dp[i]\n",
    "        taken = nums[i] + self.helper(i+2, nums)\n",
    "        not_taken = self.helper(i+1, nums)\n",
    "        self.dp[i] = max(taken, not_taken)\n",
    "        return max(taken, not_taken)\n",
    "\n",
    "obj = Solution()\n",
    "obj.rob([2,7,9,3,1])"
   ]
  },
  {
   "cell_type": "markdown",
   "metadata": {},
   "source": [
    "### House Robber II\n",
    "Houses are in a circle. Can't rob first and last house in the same night.\n"
   ]
  },
  {
   "cell_type": "code",
   "execution_count": 17,
   "metadata": {},
   "outputs": [
    {
     "data": {
      "text/plain": [
       "4"
      ]
     },
     "execution_count": 17,
     "metadata": {},
     "output_type": "execute_result"
    }
   ],
   "source": [
    "class Solution:\n",
    "    def rob(self, nums) -> int:\n",
    "        if len(nums) == 0: return 0\n",
    "        if len(nums)<=2: return max(nums)\n",
    "        return max(self.helper(0, nums[:-1], {}), self.helper(0, nums[1:], {}))\n",
    "    \n",
    "    def helper(self, i, nums, dp):\n",
    "        if i >= len(nums):\n",
    "            return 0\n",
    "        if i in dp:\n",
    "            return dp[i]\n",
    "        taken = nums[i] + self.helper(i+2, nums, dp)\n",
    "        not_taken = self.helper(i+1, nums, dp)\n",
    "        dp[i] = max(taken, not_taken)\n",
    "        return dp[i]\n",
    "\n",
    "obj = Solution()\n",
    "obj.rob([2,3,4])"
   ]
  },
  {
   "cell_type": "markdown",
   "metadata": {},
   "source": [
    "### 0-1 KnapSack (Bounded)\n",
    "Given weights and values of n items, put these items in a knapsack of capacity W to get the maximum total value in the knapsack. Each weight (Wi) can only be used once"
   ]
  },
  {
   "cell_type": "code",
   "execution_count": 28,
   "metadata": {},
   "outputs": [
    {
     "data": {
      "text/plain": [
       "70"
      ]
     },
     "execution_count": 28,
     "metadata": {},
     "output_type": "execute_result"
    }
   ],
   "source": [
    "class Solution:\n",
    "    def knapsack(self, weights, values, capacity):\n",
    "        self.dp = {}\n",
    "        return self.helper(0, weights, values, capacity)\n",
    "    \n",
    "    def helper(self, i, weights, values, capacity):\n",
    "        if i == len(weights):\n",
    "            return 0\n",
    "        \n",
    "        if (i, capacity) in self.dp:\n",
    "            return self.dp[(i, capacity)]\n",
    "        \n",
    "        taken = 0\n",
    "        if weights[i] <= capacity:\n",
    "            taken = values[i] + self.helper(i+1, weights, values, capacity-weights[i])\n",
    "        \n",
    "        not_taken = self.helper(i+1, weights, values, capacity)\n",
    "        \n",
    "        self.dp[(i, capacity)] = max(taken, not_taken)\n",
    "        return self.dp[(i, capacity)]\n",
    "    \n",
    "values = [10, 40, 30, 10] \n",
    "weights = [5, 4, 6, 3] \n",
    "capacity = 10\n",
    "\n",
    "obj = Solution()\n",
    "obj.knapsack(weights, values, capacity)"
   ]
  },
  {
   "cell_type": "markdown",
   "metadata": {},
   "source": [
    "### 0-1 KnapSack (Bounded) with path\n",
    "Given weights and values of n items, put these items in a knapsack of capacity W to get the maximum total value in the knapsack. Each weight (Wi) can only be used once"
   ]
  },
  {
   "cell_type": "code",
   "execution_count": 30,
   "metadata": {},
   "outputs": [
    {
     "data": {
      "text/plain": [
       "(70, ['b', 'c'])"
      ]
     },
     "execution_count": 30,
     "metadata": {},
     "output_type": "execute_result"
    }
   ],
   "source": [
    "class Solution:\n",
    "    def knapsack(self, weights, values, capacity):\n",
    "        self.dp = {}\n",
    "        return self.helper(0, items, weights, values, capacity)\n",
    "    \n",
    "    def helper(self, i, items, weights, values, capacity):\n",
    "        if i == len(weights):\n",
    "            return 0, []\n",
    "        \n",
    "        if (i, capacity) in self.dp:\n",
    "            return self.dp[(i, capacity)]\n",
    "        \n",
    "        taken_val = 0\n",
    "        if weights[i] <= capacity:\n",
    "            taken_val, taken_path = self.helper(i+1, items, weights, values, capacity-weights[i])\n",
    "            taken_val += values[i]\n",
    "            taken_path = [items[i]] + taken_path\n",
    "        \n",
    "        not_taken_val, not_taken_path = self.helper(i+1, items, weights, values, capacity)\n",
    "        \n",
    "        if taken_val > not_taken_val:\n",
    "            res_val, res_path = taken_val, taken_path\n",
    "        else:\n",
    "            res_val, res_path = not_taken_val, not_taken_path\n",
    "            \n",
    "        self.dp[(i, capacity)] = (res_val, res_path)\n",
    "        return self.dp[(i, capacity)]\n",
    "    \n",
    "\n",
    "items = ['a', 'b', 'c', 'd']\n",
    "values = [10, 40, 30, 1] \n",
    "weights = [5, 4, 6, 3] \n",
    "capacity = 10\n",
    "\n",
    "obj = Solution()\n",
    "obj.knapsack(weights, values, capacity)"
   ]
  },
  {
   "cell_type": "markdown",
   "metadata": {},
   "source": [
    "### 0-1 Knapsack (Unbounded)\n",
    "Given weights and values of n items, put these items in a knapsack of capacity W to get the maximum total value in the knapsack. Each weight (Wi) can be used multiple times."
   ]
  },
  {
   "cell_type": "code",
   "execution_count": 3,
   "metadata": {},
   "outputs": [
    {
     "data": {
      "text/plain": [
       "80"
      ]
     },
     "execution_count": 3,
     "metadata": {},
     "output_type": "execute_result"
    }
   ],
   "source": [
    "class Solution:\n",
    "    def knapsack(self, weights, values, capacity):\n",
    "        self.dp = {}\n",
    "        return self.helper(weights, values, capacity)\n",
    "    \n",
    "    def helper(self, weights, values, capacity):\n",
    "        if capacity in self.dp:\n",
    "            return self.dp[capacity]\n",
    "        \n",
    "        max_val = 0\n",
    "        for i in range(len(weights)):\n",
    "            if weights[i] <= capacity:\n",
    "                val = values[i] + self.helper(weights, values, capacity-weights[i])\n",
    "                max_val = max(max_val, val)\n",
    "        \n",
    "        self.dp[capacity] = max_val\n",
    "        return max_val\n",
    "    \n",
    "values = [10, 40, 30, 20] \n",
    "weights = [5, 4, 6, 3] \n",
    "capacity = 10\n",
    "\n",
    "obj = Solution()\n",
    "obj.knapsack(weights, values, capacity)"
   ]
  },
  {
   "cell_type": "markdown",
   "metadata": {},
   "source": [
    "### Ones and Zeroes\n",
    "In the computer world, use restricted resource you have to generate maximum benefit is what we always want to pursue.\n",
    "\n",
    "For now, suppose you are a dominator of m 0s and n 1s respectively. On the other hand, there is an array with strings consisting of only 0s and 1s.\n",
    "\n",
    "Now your task is to find the maximum number of strings that you can form with given m 0s and n 1s. Each 0 and 1 can be used at most once."
   ]
  },
  {
   "cell_type": "code",
   "execution_count": 37,
   "metadata": {},
   "outputs": [
    {
     "data": {
      "text/plain": [
       "4"
      ]
     },
     "execution_count": 37,
     "metadata": {},
     "output_type": "execute_result"
    }
   ],
   "source": [
    "from collections import Counter\n",
    "class Solution:\n",
    "    def findMaxForm(self, strs, m: int, n: int) -> int:\n",
    "        self.dp = {}; self.hashmap = {}\n",
    "        for i, string in enumerate(strs):\n",
    "            counter = Counter(string)\n",
    "            self.hashmap[i] = (counter['0'], counter['1'])\n",
    "        \n",
    "        return self.helper(0, m, n, strs)\n",
    "    \n",
    "    def helper(self, i, m, n, strs):\n",
    "        if i == len(strs):\n",
    "            return 0\n",
    "        \n",
    "        if (i,m,n) in self.dp:\n",
    "            return self.dp[(i,m,n)]\n",
    "        \n",
    "        num_zero = self.hashmap[i][0]\n",
    "        num_one = self.hashmap[i][1]\n",
    "        \n",
    "        taken = 0\n",
    "        if num_zero<=m and num_one<=n:\n",
    "            taken = 1 + self.helper(i+1, m-num_zero, n-num_one, strs)\n",
    "        \n",
    "        not_taken = self.helper(i+1, m, n, strs)\n",
    "        self.dp[(i, m, n)] = max(taken, not_taken)\n",
    "        return max(taken, not_taken)\n",
    "\n",
    "Array = [\"10\", \"0001\", \"111001\", \"1\", \"0\"]; m = 5; n = 3\n",
    "obj = Solution()\n",
    "obj.findMaxForm(Array, m, n)"
   ]
  },
  {
   "cell_type": "markdown",
   "metadata": {},
   "source": [
    "### Partition Equal Subset Sum\n",
    "Given a non-empty array containing only positive integers, find if the array can be partitioned into two subsets such that the sum of elements in both subsets is equal."
   ]
  },
  {
   "cell_type": "code",
   "execution_count": 6,
   "metadata": {},
   "outputs": [
    {
     "data": {
      "text/plain": [
       "True"
      ]
     },
     "execution_count": 6,
     "metadata": {},
     "output_type": "execute_result"
    }
   ],
   "source": [
    "class Solution:\n",
    "    def canPartition(self, nums) -> bool:\n",
    "        self.memo = {}\n",
    "        nums.sort(reverse = True)\n",
    "        total = sum(nums)\n",
    "        if total % 2 != 0:\n",
    "            return False\n",
    "        return self.helper(0, 0, total, nums)\n",
    "    \n",
    "    def helper(self, i, a, b, nums):\n",
    "        if a == b:\n",
    "            return True\n",
    "        if a > b or i == len(nums):\n",
    "            return False\n",
    "        if (i, a) in self.memo:\n",
    "            return self.memo[(i,a)]\n",
    "        \n",
    "        if self.helper(i+1, a+nums[i], b-nums[i], nums) or self.helper(i+1, a, b, nums):\n",
    "            self.memo[(i, a)] = True\n",
    "            return True\n",
    "        \n",
    "        self.memo[(i, a)] = False\n",
    "        return False\n",
    "\n",
    "obj = Solution()\n",
    "obj.canPartition([1,5,11,5])"
   ]
  },
  {
   "cell_type": "markdown",
   "metadata": {},
   "source": [
    "### Subset Sum Problem\n",
    "Given a set of positive numbers, determine if a subset exists whose sum is equal to a given number ‘S’."
   ]
  },
  {
   "cell_type": "code",
   "execution_count": 28,
   "metadata": {},
   "outputs": [
    {
     "data": {
      "text/plain": [
       "(True, [34, 12, 4])"
      ]
     },
     "execution_count": 28,
     "metadata": {},
     "output_type": "execute_result"
    }
   ],
   "source": [
    "class Solution:\n",
    "    def subset_sum(self, nums, s):\n",
    "        self.memo = {}\n",
    "        nums.sort(reverse = True)\n",
    "        return self.helper(0, nums, s)\n",
    "        \n",
    "    def helper(self, i, nums, s):\n",
    "        if s == 0:\n",
    "            return True, []\n",
    "        if s < 0 or i == len(nums):\n",
    "            return False, []\n",
    "        if (i, s) in self.memo:\n",
    "            return self.memo[(i, s)]\n",
    "        \n",
    "        take_bool, take_path = self.helper(i+1, nums, s-nums[i])\n",
    "        if take_bool: \n",
    "            self.memo[(i,s)] = True, [nums[i]]+take_path\n",
    "            return self.memo[(i,s)]\n",
    "        \n",
    "        no_take_bool, no_take_path = self.helper(i+1, nums, s)\n",
    "        if no_take_bool: \n",
    "            self.memo[(i,s)] = True, no_take_path\n",
    "            return self.memo[(i,s)]\n",
    "        \n",
    "        self.memo[(i, s)] = False, []\n",
    "        return False, []\n",
    "\n",
    "obj = Solution()\n",
    "obj.subset_sum([3, 34, 4, 12, 5, 2], 50)"
   ]
  },
  {
   "cell_type": "markdown",
   "metadata": {},
   "source": [
    "### Minimum subset Sum difference\n",
    "Partition a set into two subsets such that the difference of subset sums is minimum"
   ]
  },
  {
   "cell_type": "code",
   "execution_count": 43,
   "metadata": {},
   "outputs": [
    {
     "data": {
      "text/plain": [
       "1"
      ]
     },
     "execution_count": 43,
     "metadata": {},
     "output_type": "execute_result"
    }
   ],
   "source": [
    "class Solution:\n",
    "    def lastStoneWeightII(self, stones) -> int:        \n",
    "        self.dp = {}\n",
    "        return self.helper(0, 0, sum(stones), stones)\n",
    "    \n",
    "    def helper(self, i, a, b, stones):\n",
    "        if i == len(stones):\n",
    "            return abs(a-b)\n",
    "        \n",
    "        if (i,a) in self.dp:\n",
    "            return self.dp[(i,a)]\n",
    "        \n",
    "        val = stones[i]\n",
    "        take = self.helper(i+1, a+val, b-val, stones)\n",
    "        not_take = self.helper(i+1, a, b, stones)\n",
    "        self.dp[(i,a)] = min(take, not_take)\n",
    "        return min(take, not_take)\n",
    "\n",
    "obj = Solution()\n",
    "obj.lastStoneWeightII([2,7,4,1,8,1])"
   ]
  },
  {
   "cell_type": "markdown",
   "metadata": {},
   "source": [
    "### Coin Change\n",
    "You are given coins of different denominations and a total amount of money amount. Write a function to compute the fewest number of coins that you need to make up that amount. If that amount of money cannot be made up by any combination of the coins, return -1."
   ]
  },
  {
   "cell_type": "code",
   "execution_count": 39,
   "metadata": {},
   "outputs": [
    {
     "data": {
      "text/plain": [
       "3"
      ]
     },
     "execution_count": 39,
     "metadata": {},
     "output_type": "execute_result"
    }
   ],
   "source": [
    "class Solution:\n",
    "    def coinChange(self, coins, amount: int) -> int:\n",
    "        self.dp = {}\n",
    "        ans = self.helper(coins, amount)\n",
    "        return ans if ans != float('inf') else -1\n",
    "    \n",
    "    def helper(self, coins, amount):\n",
    "        if 0 == amount:\n",
    "            return 0\n",
    "        \n",
    "        if amount in self.dp:\n",
    "            return self.dp[amount]\n",
    "        \n",
    "        min_coins = float('inf')\n",
    "        for coin in coins:\n",
    "            if coin <= amount:\n",
    "                min_coins = min(min_coins, 1 + self.helper(coins, amount-coin))\n",
    "        \n",
    "        self.dp[amount] = min_coins\n",
    "        return min_coins\n",
    "    \n",
    "\n",
    "obj = Solution()\n",
    "obj.coinChange([1,2,5], 11)"
   ]
  },
  {
   "cell_type": "markdown",
   "metadata": {},
   "source": [
    "### Coin Change II\n",
    "You are given coins of different denominations and a total amount of money. Write a function to compute the number of combinations that make up that amount. You may assume that you have infinite number of each kind of coin.\n",
    "\n",
    "* Input: amount = 5, coins = [1, 2, 5]\n",
    "* Output: 4\n",
    "* Explanation: there are four ways to make up the amount:\n",
    "* 5=5\n",
    "* 5=2+2+1\n",
    "* 5=2+1+1+1\n",
    "* 5=1+1+1+1+1"
   ]
  },
  {
   "cell_type": "code",
   "execution_count": 29,
   "metadata": {},
   "outputs": [
    {
     "data": {
      "text/plain": [
       "4"
      ]
     },
     "execution_count": 29,
     "metadata": {},
     "output_type": "execute_result"
    }
   ],
   "source": [
    "class Solution:\n",
    "    def change(self, amount: int, coins) -> int:\n",
    "        self.dp = {}\n",
    "        return self.helper(0, coins, amount)\n",
    "    \n",
    "    def helper(self, i, coins, amount):\n",
    "        if amount == 0:\n",
    "            return 1\n",
    "        \n",
    "        if i == len(coins):\n",
    "            return 0\n",
    "        \n",
    "        if (i,amount) in self.dp:\n",
    "            return self.dp[(i,amount)]\n",
    "        \n",
    "        take = 0\n",
    "        if coins[i] <= amount:\n",
    "            take = self.helper(i, coins, amount-coins[i])\n",
    "        \n",
    "        not_take = self.helper(i+1, coins, amount)\n",
    "        self.dp[(i, amount)] = take + not_take\n",
    "        return take + not_take\n",
    "\n",
    "obj = Solution()\n",
    "coins = [1,2,5]; amount = 5\n",
    "obj.change(amount, coins)"
   ]
  },
  {
   "cell_type": "markdown",
   "metadata": {},
   "source": [
    "### Coin Change 3\n",
    "Find number of ways to make a total of 'n' using exactly 'k' coins. Assume you have coins with values from 1 to n\n",
    "\n",
    "example: n = 8 k = 4\n",
    "\n",
    "Answer: 5\n",
    "\n",
    "Explanation: [1,1,1,5], [1,1,2,4], [1,1,3,3], [1,2,2,3], [2,2,2,2]"
   ]
  },
  {
   "cell_type": "code",
   "execution_count": 2,
   "metadata": {},
   "outputs": [
    {
     "data": {
      "text/plain": [
       "109809"
      ]
     },
     "execution_count": 2,
     "metadata": {},
     "output_type": "execute_result"
    }
   ],
   "source": [
    "class Solution:\n",
    "    def num_ways(self, n, k):\n",
    "        self.memo = {}\n",
    "        return self.helper(1, n, k)\n",
    "\n",
    "    def helper(self, curr_num, n, k):\n",
    "        if n == 0 and k == 0:\n",
    "            return 1\n",
    "\n",
    "        if n == 0 or k == 0:\n",
    "            return 0\n",
    "\n",
    "        if (curr_num, n, k) in self.memo:\n",
    "            return self.memo[(curr_num, n, k)]\n",
    "\n",
    "        if curr_num > n:\n",
    "            return 0\n",
    "\n",
    "        take = no_take = 0\n",
    "        if curr_num <= n:\n",
    "            take = self.helper(curr_num, n-curr_num, k-1)\n",
    "\n",
    "        no_take = self.helper(curr_num+1, n, k)\n",
    "        res = take + no_take\n",
    "        self.memo[(curr_num, n, k)] = res\n",
    "        return res\n",
    "    \n",
    "Solution().num_ways(250, 4)"
   ]
  },
  {
   "attachments": {
    "image.png": {
     "image/png": "[encoded data removed]"
    }
   },
   "cell_type": "markdown",
   "metadata": {},
   "source": [
    "### Combination Sum IV\n",
    "Given an integer array with all positive numbers and no duplicates, find the number of possible combinations that add up to a positive integer target.\n",
    "![image.png](attachment:image.png)"
   ]
  },
  {
   "cell_type": "code",
   "execution_count": 4,
   "metadata": {},
   "outputs": [
    {
     "name": "stdout",
     "output_type": "stream",
     "text": [
      "{1: 1, 2: 2, 3: 4, 4: 8, 5: 15}\n"
     ]
    }
   ],
   "source": [
    "class Solution:\n",
    "    def combinationSum4(self, nums, target: int) -> int:\n",
    "        self.dp = {}\n",
    "        return self.helper(nums, target)\n",
    "        \n",
    "    def helper(self, nums, target):\n",
    "        if target == 0:\n",
    "            return 1\n",
    "        \n",
    "        if target in self.dp:\n",
    "            return self.dp[target]\n",
    "        \n",
    "        ans = 0\n",
    "        for num in nums:\n",
    "            if num <= target:\n",
    "                ans += self.helper(nums, target-num)\n",
    "        \n",
    "        self.dp[target] = ans\n",
    "        return ans\n",
    "\n",
    "obj = Solution()\n",
    "obj.combinationSum4([1,2,3,4], 5)\n",
    "print(obj.dp)"
   ]
  },
  {
   "cell_type": "markdown",
   "metadata": {},
   "source": [
    "### Number of Ways to Generate Parantheses\n",
    "For example, given n = 3, a solution set is:\n",
    "\n",
    "        [\n",
    "          \"((()))\",\n",
    "          \"(()())\",\n",
    "          \"(())()\",\n",
    "          \"()(())\",\n",
    "          \"()()()\"\n",
    "        ]"
   ]
  },
  {
   "cell_type": "code",
   "execution_count": 10,
   "metadata": {},
   "outputs": [
    {
     "data": {
      "text/plain": [
       "6564120420"
      ]
     },
     "execution_count": 10,
     "metadata": {},
     "output_type": "execute_result"
    }
   ],
   "source": [
    "class Solution:\n",
    "    def num_ways(self, n):\n",
    "        self.dp = {}\n",
    "        return self.helper(0, 0, n)\n",
    "        \n",
    "    def helper(self, open_count, close_count, n):\n",
    "        if close_count == n:\n",
    "            return 1\n",
    "        \n",
    "        if (open_count, close_count) in self.dp:\n",
    "            return self.dp[(open_count, close_count)]\n",
    "        \n",
    "        put_open = put_close = 0\n",
    "        if open_count < n:\n",
    "            put_open = self.helper(open_count+1, close_count, n)\n",
    "        if open_count > close_count:\n",
    "            put_close = self.helper(open_count, close_count+1, n)\n",
    "        \n",
    "        self.dp[(open_count, close_count)] = put_close + put_open\n",
    "        return put_close + put_open\n",
    "\n",
    "obj = Solution()\n",
    "obj.num_ways(20) "
   ]
  },
  {
   "cell_type": "markdown",
   "metadata": {},
   "source": [
    "### Minimum Cost For Tickets\n",
    "In a country popular for train travel, you have planned some train travelling one year in advance.  The days of the year that you will travel is given as an array days.  Each day is an integer from 1 to 365.\n",
    "\n",
    "Train tickets are sold in 3 different ways:\n",
    "\n",
    "* a 1-day pass is sold for costs[0] dollars;\n",
    "* a 7-day pass is sold for costs[1] dollars;\n",
    "* a 30-day pass is sold for costs[2] dollars.\n",
    "\n",
    "The passes allow that many days of consecutive travel.  For example, if we get a 7-day pass on day 2, then we can travel for 7 days: day 2, 3, 4, 5, 6, 7, and 8.\n",
    "\n",
    "Return the minimum number of dollars you need to travel every day in the given list of days."
   ]
  },
  {
   "cell_type": "code",
   "execution_count": 57,
   "metadata": {},
   "outputs": [
    {
     "data": {
      "text/plain": [
       "11"
      ]
     },
     "execution_count": 57,
     "metadata": {},
     "output_type": "execute_result"
    }
   ],
   "source": [
    "class Solution:\n",
    "    def mincostTickets(self, days, costs) -> int:\n",
    "        self.dp = {}\n",
    "        last_day = max(days)\n",
    "        days = set(days)\n",
    "        return self.helper(0, last_day, days, costs)\n",
    "    \n",
    "    def helper(self, i, last_day, days, costs):\n",
    "        if i>last_day:\n",
    "            return 0\n",
    "        \n",
    "        if i in self.dp:\n",
    "            return self.dp[i]\n",
    "        \n",
    "        if i not in days:\n",
    "            return self.helper(i+1, last_day, days, costs)\n",
    "            \n",
    "        take_1 = costs[0] + self.helper(i+1, last_day, days, costs)\n",
    "        take_7 = costs[1] + self.helper(i+7, last_day, days, costs)\n",
    "        take_30 = costs[2] + self.helper(i+30, last_day, days, costs)\n",
    "        self.dp[i]  = min(take_1, take_7, take_30)\n",
    "        return self.dp[i]\n",
    "\n",
    "obj = Solution()\n",
    "days = [1,4,6,7,8,20]; costs = [2,7,15]\n",
    "obj.mincostTickets(days, costs)"
   ]
  },
  {
   "cell_type": "markdown",
   "metadata": {},
   "source": [
    "### Form Largest Integer With Digits That Add up to Target (Google onsite)\n",
    "\n",
    "Given an array of integers cost and an integer target. Return the maximum integer you can paint under the following rules:\n",
    "\n",
    "* The cost of painting a digit (i+1) is given by cost[i] (0 indexed).\n",
    "* The total cost used must be equal to target.\n",
    "* Integer does not have digits 0.\n",
    "\n",
    "Since the answer may be too large, return it as string.\n",
    "\n",
    "If there is no way to paint any integer given the condition, return \"0\"."
   ]
  },
  {
   "cell_type": "code",
   "execution_count": 2,
   "metadata": {},
   "outputs": [
    {
     "data": {
      "text/plain": [
       "'7772'"
      ]
     },
     "execution_count": 2,
     "metadata": {},
     "output_type": "execute_result"
    }
   ],
   "source": [
    "class Solution:\n",
    "    def largestNumber(self, cost, target: int) -> str:\n",
    "        return self.helper(cost, target, {})\n",
    "        \n",
    "    def helper(self, cost, target, dp):\n",
    "        if target == 0:\n",
    "            return ''\n",
    "\n",
    "        if target in dp:\n",
    "            return dp[target]\n",
    "\n",
    "        max_string = '0'\n",
    "        for i in range(len(cost)):\n",
    "            if cost[i] <= target:\n",
    "                string = self.helper(cost, target - cost[i], dp)\n",
    "                if string != '0':\n",
    "                    string = str(i+1) + string\n",
    "                    if int(string) > int(max_string):\n",
    "                        max_string = string\n",
    "                        \n",
    "        dp[target] = max_string\n",
    "        return max_string\n",
    "\n",
    "Solution().largestNumber(cost = [4,3,2,5,6,7,2,5,5], target = 9)       "
   ]
  },
  {
   "cell_type": "markdown",
   "metadata": {},
   "source": [
    "### Target Sum\n",
    "You are given a list of non-negative integers, a1, a2, ..., an, and a target, S. Now you have 2 symbols + and -. For each integer, you should choose one from + and - as its new symbol.\n",
    "\n",
    "Find out how many ways to assign symbols to make sum of integers equal to target S."
   ]
  },
  {
   "cell_type": "code",
   "execution_count": 9,
   "metadata": {},
   "outputs": [
    {
     "data": {
      "text/plain": [
       "2"
      ]
     },
     "execution_count": 9,
     "metadata": {},
     "output_type": "execute_result"
    }
   ],
   "source": [
    "class Solution:\n",
    "    def findTargetSumWays(self, nums, S: int) -> int:\n",
    "        self.dp = {}\n",
    "        return self.helper(0, nums, S)\n",
    "    \n",
    "    def helper(self, i, nums, s):\n",
    "        if i == len(nums):\n",
    "            if s == 0:\n",
    "                return 1\n",
    "            return 0\n",
    "        \n",
    "        if (i,s) in self.dp:\n",
    "            return self.dp[(i,s)]\n",
    "        \n",
    "        take_positive = self.helper(i+1, nums, s-nums[i])\n",
    "        take_negative = self.helper(i+1, nums, s+nums[i])\n",
    "        self.dp[(i,s)] = take_positive + take_negative\n",
    "        return self.dp[(i,s)]\n",
    "\n",
    "obj = Solution()\n",
    "nums = [1,1,0]\n",
    "s = 2\n",
    "obj.findTargetSumWays(nums, s)"
   ]
  }
 ],
 "metadata": {
  "kernelspec": {
   "display_name": "Python 3",
   "language": "python",
   "name": "python3"
  },
  "language_info": {
   "codemirror_mode": {
    "name": "ipython",
    "version": 3
   },
   "file_extension": ".py",
   "mimetype": "text/x-python",
   "name": "python",
   "nbconvert_exporter": "python",
   "pygments_lexer": "ipython3",
   "version": "3.8.3"
  }
 },
 "nbformat": 4,
 "nbformat_minor": 2
}
