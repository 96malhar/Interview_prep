{
 "cells": [
  {
   "cell_type": "markdown",
   "metadata": {},
   "source": [
    "## Intro"
   ]
  },
  {
   "cell_type": "markdown",
   "metadata": {},
   "source": [
    "### Find the Nth Fibonacci Number using Dynamic Programming : 1, 1, 2, 3, 5, 8, 13....\n",
    "Two Techniques :\n",
    "* **Recursion + Memoization (Top Down)** (Covered in Recursion)\n",
    "* **Tabulation (Bottom up)**"
   ]
  },
  {
   "cell_type": "code",
   "execution_count": 3,
   "metadata": {},
   "outputs": [
    {
     "data": {
      "text/plain": [
       "13"
      ]
     },
     "execution_count": 3,
     "metadata": {},
     "output_type": "execute_result"
    }
   ],
   "source": [
    "def fibonacci(n):\n",
    "    nMinus1, nMinus2, nth = 1, 1, 1\n",
    "    for i in range(3,n+1):\n",
    "        nth = nMinus1 + nMinus2\n",
    "        nMinus2 = nMinus1\n",
    "        nMinus1 = nth\n",
    "    return nth\n",
    "\n",
    "fibonacci(7)"
   ]
  },
  {
   "cell_type": "markdown",
   "metadata": {},
   "source": [
    "## Approaching Dynamic Programming Problems"
   ]
  },
  {
   "cell_type": "markdown",
   "metadata": {},
   "source": [
    "### Climbing Steps Problem\n",
    "Let’s say you have to climb N steps. You can jump 1 step, 3 steps or 5 steps at a time. How many ways are there to get to the top of the steps."
   ]
  },
  {
   "cell_type": "markdown",
   "metadata": {},
   "source": [
    "#### Bottom up approach"
   ]
  },
  {
   "cell_type": "code",
   "execution_count": 14,
   "metadata": {},
   "outputs": [
    {
     "data": {
      "text/plain": [
       "19"
      ]
     },
     "execution_count": 14,
     "metadata": {},
     "output_type": "execute_result"
    }
   ],
   "source": [
    "def climbing_steps(n):\n",
    "    a = [0]*(n+1)\n",
    "    a[0]=1\n",
    "    \n",
    "    for i in range(n+1):\n",
    "        if i+1 < len(a):\n",
    "            a[i+1] += a[i]\n",
    "        if i+3 < len(a):\n",
    "            a[i+3] += a[i]\n",
    "        if i+5 < len(a):\n",
    "            a[i+5] += a[i]\n",
    "    return a[n]\n",
    "\n",
    "climbing_steps(8)"
   ]
  },
  {
   "cell_type": "markdown",
   "metadata": {},
   "source": [
    "#### Top Down Approach"
   ]
  },
  {
   "cell_type": "code",
   "execution_count": 6,
   "metadata": {},
   "outputs": [
    {
     "data": {
      "text/plain": [
       "19"
      ]
     },
     "execution_count": 6,
     "metadata": {},
     "output_type": "execute_result"
    }
   ],
   "source": [
    "def climbing_steps(n):\n",
    "    a = [0]*(n+1)\n",
    "    a[0] = 1\n",
    "    \n",
    "    for i in range(1,n+1):\n",
    "        nMinus1 = 0 if i-1<0 else a[i-1]\n",
    "        nMinus3 = 0 if i-3<0 else a[i-3]\n",
    "        nMinus5 = 0 if i-5<0 else a[i-5]\n",
    "        \n",
    "        a[i] = nMinus1 + nMinus3 + nMinus5\n",
    "    return a[n]\n",
    "\n",
    "climbing_steps(8)"
   ]
  },
  {
   "cell_type": "markdown",
   "metadata": {},
   "source": [
    "### Min Cost Climbing Stairs\n",
    "* Input: cost = [1, 100, 1, 1, 1, 100, 1, 1, 100, 1]\n",
    "* Output: 6\n",
    "* Explanation: Cheapest is start on cost[0], and only step on 1s, skipping cost[3]."
   ]
  },
  {
   "cell_type": "code",
   "execution_count": 30,
   "metadata": {},
   "outputs": [
    {
     "data": {
      "text/plain": [
       "15"
      ]
     },
     "execution_count": 30,
     "metadata": {},
     "output_type": "execute_result"
    }
   ],
   "source": [
    "def minCostClimbingStairs(cost):\n",
    "    cost.append(0)\n",
    "    for i in range(len(cost)):\n",
    "        nMinus1 = 0 if i-1<0 else cost[i-1]\n",
    "        nMinus2 = 0 if i-2<0 else cost[i-2]\n",
    "        cost[i] = cost[i] + min(nMinus1, nMinus2)\n",
    "    return cost[-1]\n",
    "minCostClimbingStairs([1, 100, 1, 1, 1, 100, 1, 1, 100, 1])\n",
    "minCostClimbingStairs([10,15,20])"
   ]
  },
  {
   "cell_type": "markdown",
   "metadata": {},
   "source": [
    "### Unique Paths\n",
    "A robot is located at the top-left corner of a m x n grid (marked 'Start' in the diagram below).\n",
    "The robot can only move either down or right at any point in time. The robot is trying to reach the bottom-right corner of the grid (marked 'Finish' in the diagram below).\n",
    "\n",
    "How many possible unique paths are there?\n",
    "* Input: m = 7, n = 3\n",
    "* Output: 28"
   ]
  },
  {
   "cell_type": "code",
   "execution_count": 1,
   "metadata": {},
   "outputs": [
    {
     "data": {
      "text/plain": [
       "28"
      ]
     },
     "execution_count": 1,
     "metadata": {},
     "output_type": "execute_result"
    }
   ],
   "source": [
    "def uniquePaths(m, n):\n",
    "    dp = [[1]*n for x in range(m)]\n",
    "    for i in range(1,m):\n",
    "        for j in range(1,n):\n",
    "            dp[i][j] = dp[i-1][j] + dp[i][j-1]\n",
    "    return dp[-1][-1]\n",
    "\n",
    "uniquePaths(7,3)"
   ]
  },
  {
   "cell_type": "markdown",
   "metadata": {},
   "source": [
    "### Unique Paths 2\n",
    "Same problem as above but the grid has obstacles marked as 1"
   ]
  },
  {
   "cell_type": "code",
   "execution_count": 3,
   "metadata": {},
   "outputs": [
    {
     "data": {
      "text/plain": [
       "2"
      ]
     },
     "execution_count": 3,
     "metadata": {},
     "output_type": "execute_result"
    }
   ],
   "source": [
    "def uniquePathsWithObstacles(grid):\n",
    "    if not len(grid) or grid[0][0] or grid[-1][-1]:\n",
    "        return 0\n",
    "    dp = [[0]*(len(grid[0])) for x in range(len(grid))]\n",
    "    dp[0][0] = 1\n",
    "    for i in range(len(grid)):\n",
    "        for j in range(len(grid[0])):\n",
    "            if i == 0 and j == 0:\n",
    "                continue\n",
    "            up = 0 if i-1<0 or grid[i-1][j] else dp[i-1][j]\n",
    "            left = 0 if j-1<0 or grid[i][j-1] else dp[i][j-1]\n",
    "            dp[i][j] = up + left\n",
    "    return dp[-1][-1]\n",
    "\n",
    "uniquePathsWithObstacles([\n",
    "  [0,0,0],\n",
    "  [0,1,0],\n",
    "  [0,0,0]\n",
    "])"
   ]
  },
  {
   "cell_type": "markdown",
   "metadata": {},
   "source": [
    "### Minimum Path Sum\n",
    "Given a m x n grid filled with non-negative numbers, find a path from top left to bottom right which minimizes the sum of all numbers along its path.\n",
    "\n",
    "Note: You can only move either down or right at any point in time.\n",
    "\n",
    "Example:\n",
    "\n",
    "* Input:\n",
    "[\n",
    "  [1,3,1],\n",
    "  [1,5,1],\n",
    "  [4,2,1]\n",
    "]\n",
    "* Output: 7\n",
    "* Explanation: Because the path 1→3→1→1→1 minimizes the sum."
   ]
  },
  {
   "cell_type": "code",
   "execution_count": 2,
   "metadata": {},
   "outputs": [
    {
     "data": {
      "text/plain": [
       "7"
      ]
     },
     "execution_count": 2,
     "metadata": {},
     "output_type": "execute_result"
    }
   ],
   "source": [
    "def minPathSum(grid):\n",
    "    for i in range(len(grid)):\n",
    "        for j in range(len(grid[0])):\n",
    "            if i==0 and j == 0: continue\n",
    "            up = grid[i-1][j] if i-1>=0 else float('inf')\n",
    "            left = grid[i][j-1] if j-1>=0 else float('inf')\n",
    "            grid[i][j] = grid[i][j] + min(up,left)\n",
    "\n",
    "    return grid[-1][-1]\n",
    "\n",
    "grid =  [[1,3,1], [1,5,1], [4,2,1]]\n",
    "minPathSum(grid)"
   ]
  },
  {
   "cell_type": "markdown",
   "metadata": {},
   "source": [
    "### Decode Ways\n",
    "\n",
    "A message containing letters from A-Z is being encoded to numbers using the following mapping:\n",
    "\n",
    "* 'A' -> 1\n",
    "* 'B' -> 2\n",
    "...\n",
    "* 'Z' -> 26\n",
    "Given a non-empty string containing only digits, determine the total number of ways to decode it.\n",
    "\n",
    "Example 1:\n",
    "\n",
    "* Input: \"12\"\n",
    "* Output: 2\n",
    "* Explanation: It could be decoded as \"AB\" (1 2) or \"L\" (12).\n",
    "\n",
    "Example 2:\n",
    "\n",
    "* Input: \"226\"\n",
    "* Output: 3\n",
    "* Explanation: It could be decoded as \"BZ\" (2 26), \"VF\" (22 6), or \"BBF\" (2 2 6)."
   ]
  },
  {
   "cell_type": "code",
   "execution_count": 6,
   "metadata": {},
   "outputs": [
    {
     "data": {
      "text/plain": [
       "3"
      ]
     },
     "execution_count": 6,
     "metadata": {},
     "output_type": "execute_result"
    }
   ],
   "source": [
    "class Solution:\n",
    "    def numDecodings(self, s: str) -> int:\n",
    "        hashmap = {}\n",
    "        return self.helper(s, 0, hashmap)\n",
    "    \n",
    "    def helper(self, s, index, hashmap):\n",
    "        if index == len(s):\n",
    "            return 1\n",
    "        if index in hashmap:\n",
    "            return hashmap[index]\n",
    "        \n",
    "        ans = 0\n",
    "        for i in [1,2]:\n",
    "            if index+i <= len(s) and s[index]!='0' and 1<=int(s[index:index+i])<=26:\n",
    "                ans += self.helper(s, index+i, hashmap)\n",
    "        \n",
    "        hashmap[index] = ans\n",
    "        return ans\n",
    "    \n",
    "obj = Solution()\n",
    "obj.numDecodings('3226')"
   ]
  },
  {
   "cell_type": "markdown",
   "metadata": {},
   "source": [
    "### Longest Increasing Subsequence\n",
    "Given an array of integers, find the length of the longest increasing subsequence. \n",
    "For e.g, in [1, 3, 2, 5, 3, 5, 6], the longest increasing subsequence is [1, 2, 3, 5, 6] of length 5."
   ]
  },
  {
   "cell_type": "code",
   "execution_count": 40,
   "metadata": {},
   "outputs": [
    {
     "data": {
      "text/plain": [
       "5"
      ]
     },
     "execution_count": 40,
     "metadata": {},
     "output_type": "execute_result"
    }
   ],
   "source": [
    "## Back2backswe\n",
    "def LIS(nums):\n",
    "    if len(nums) == 0:\n",
    "        return 0\n",
    "    max_len = [1] * len(nums)\n",
    "    max_so_far = 1\n",
    "    for i in range(1,len(nums)):\n",
    "        for j in range(i):\n",
    "            if nums[i] > nums[j]:\n",
    "                max_len[i] = max(max_len[i], max_len[j]+1)\n",
    "        max_so_far = max(max_so_far, max_len[i])\n",
    "    return max_so_far\n",
    "\n",
    "LIS([1, 3, 2, 5, 3, 5, 6])  "
   ]
  },
  {
   "cell_type": "markdown",
   "metadata": {},
   "source": [
    "### Longest common substring/subarray"
   ]
  },
  {
   "cell_type": "code",
   "execution_count": 2,
   "metadata": {},
   "outputs": [
    {
     "data": {
      "text/plain": [
       "3"
      ]
     },
     "execution_count": 2,
     "metadata": {},
     "output_type": "execute_result"
    }
   ],
   "source": [
    "def findLength(A, B):\n",
    "    dp = [[0]*(len(A)+1) for x in range(len(B)+1)]\n",
    "    ans = 0\n",
    "    for i in range(len(B)+1):\n",
    "        for j in range(len(A)+1):\n",
    "            if i == 0 or j == 0:\n",
    "                continue\n",
    "            if B[i-1] == A[j-1]:\n",
    "                dp[i][j] = dp[i-1][j-1] + 1\n",
    "                ans = max(ans, dp[i][j])\n",
    "    return ans\n",
    "A = [1,2,3,2,1]\n",
    "B = [3,2,1,4,7]\n",
    "findLength(A, B)"
   ]
  },
  {
   "cell_type": "markdown",
   "metadata": {},
   "source": [
    "### Longest Commmon subsequence"
   ]
  },
  {
   "cell_type": "code",
   "execution_count": 4,
   "metadata": {},
   "outputs": [
    {
     "data": {
      "text/plain": [
       "3"
      ]
     },
     "execution_count": 4,
     "metadata": {},
     "output_type": "execute_result"
    }
   ],
   "source": [
    "def longestCommonSubsequence(text1: str, text2: str):\n",
    "    dp = [[0]*(len(text2)+1) for x in range(len(text1)+1)]\n",
    "    for i in range(len(text1)+1):\n",
    "        for j in range(len(text2)+1):\n",
    "            if i == 0 or j == 0:\n",
    "                continue\n",
    "            if text1[i-1] == text2[j-1]:\n",
    "                dp[i][j] = dp[i-1][j-1] + 1\n",
    "            else:\n",
    "                dp[i][j] = max(dp[i-1][j], dp[i][j-1])\n",
    "    return dp[-1][-1]\n",
    "\n",
    "text1 = \"abcde\"; text2 = \"ace\" \n",
    "longestCommonSubsequence(text1, text2)"
   ]
  },
  {
   "cell_type": "markdown",
   "metadata": {},
   "source": [
    "### Longest Palindromic Subsequence"
   ]
  },
  {
   "cell_type": "code",
   "execution_count": 6,
   "metadata": {},
   "outputs": [
    {
     "data": {
      "text/plain": [
       "4"
      ]
     },
     "execution_count": 6,
     "metadata": {},
     "output_type": "execute_result"
    }
   ],
   "source": [
    "def longestPalindromeSubseq(s):\n",
    "    i = 0; j = len(s)-1; pali = True\n",
    "    while i<j:\n",
    "        if s[i]!=s[j]:\n",
    "            pali = False\n",
    "            break\n",
    "        i += 1; j -= 1\n",
    "\n",
    "    if pali: return len(s)\n",
    "    dp = [[0]*(len(s)+1) for x in range(len(s)+1)]\n",
    "    for i in range(len(s)+1):\n",
    "        for j in range(len(s)+1):\n",
    "            if i == 0 or j == 0:\n",
    "                continue\n",
    "            elif s[i-1] == s[len(s)-j]:\n",
    "                dp[i][j] = dp[i-1][j-1] + 1\n",
    "            else:\n",
    "                dp[i][j] = max(dp[i-1][j], dp[i][j-1])\n",
    "    return dp[-1][-1]\n",
    "\n",
    "s = \"bbbab\"\n",
    "longestPalindromeSubseq(s)"
   ]
  },
  {
   "cell_type": "markdown",
   "metadata": {},
   "source": [
    "### Valid palindrome III\n",
    "Given a string s and an integer k, find out if the given string is a K-Palindrome or not.\n",
    "\n",
    "A string is K-Palindrome if it can be transformed into a palindrome by removing at most k characters from it.\n",
    "\n",
    "* Input: s = \"abcdeca\", k = 2\n",
    "* Output: true\n",
    "* Explanation: Remove 'b' and 'e' characters."
   ]
  },
  {
   "cell_type": "code",
   "execution_count": 2,
   "metadata": {},
   "outputs": [
    {
     "data": {
      "text/plain": [
       "True"
      ]
     },
     "execution_count": 2,
     "metadata": {},
     "output_type": "execute_result"
    }
   ],
   "source": [
    "def isValidPalindrome(s, k) -> bool:\n",
    "    dp = [[0] * (len(s)+1) for _ in range(len(s)+1)]\n",
    "    length = len(s)\n",
    "    for i in range(len(s)+1):\n",
    "        for j in range(len(s)+1):\n",
    "            if i == 0 or j == 0:\n",
    "                continue\n",
    "            if s[i-1] == s[length-j]:\n",
    "                dp[i][j] = dp[i-1][j-1] + 1\n",
    "            else:\n",
    "                dp[i][j] = max(dp[i-1][j], dp[i][j-1])\n",
    "\n",
    "    return len(s) - dp[-1][-1] <= k\n",
    "\n",
    "isValidPalindrome(\"abcdeca\", 2)"
   ]
  },
  {
   "cell_type": "markdown",
   "metadata": {},
   "source": [
    "### Given a set of coin denominations, print out the number of ways you can make a target amount. \n",
    "\n",
    "For example: If coins are [1,2,5] and the target is 5"
   ]
  },
  {
   "cell_type": "code",
   "execution_count": 5,
   "metadata": {},
   "outputs": [
    {
     "data": {
      "text/plain": [
       "6"
      ]
     },
     "execution_count": 5,
     "metadata": {},
     "output_type": "execute_result"
    }
   ],
   "source": [
    "# Back2Backswe\n",
    "def coin_change(coins, amount):\n",
    "    dp = [[0]*(amount+1) for x in range(len(coins)+1)]\n",
    "    dp[0][0] = 1\n",
    "    for i in range(1,len(coins)+1):\n",
    "        dp[i][0] = 1\n",
    "        for j in range(1,amount+1):\n",
    "            curr_coin = coins[i-1]\n",
    "            without_curr = dp[i-1][j]\n",
    "            with_curr = dp[i][j-curr_coin] if curr_coin <=j else 0\n",
    "            dp[i][j] = with_curr + without_curr\n",
    "    return dp[len(coins)][amount]\n",
    "\n",
    "coin_change([1,2,5], 6)"
   ]
  },
  {
   "cell_type": "markdown",
   "metadata": {},
   "source": [
    "### Given a set of coin denominations and a target amount, return the fewest number of coins to make change\n",
    "* Input: coins = [1, 2, 5], amount = 11\n",
    "* Output: 3 \n",
    "* Explanation: 11 = 5 + 5 + 1"
   ]
  },
  {
   "cell_type": "code",
   "execution_count": 3,
   "metadata": {},
   "outputs": [
    {
     "data": {
      "text/plain": [
       "3"
      ]
     },
     "execution_count": 3,
     "metadata": {},
     "output_type": "execute_result"
    }
   ],
   "source": [
    "# BAck2backswe\n",
    "def coin_change(coins, amount):\n",
    "    dp = [amount+1]*(amount+1)\n",
    "    dp[0] = 0\n",
    "    \n",
    "    for i in range(1,amount+1):\n",
    "        for j in range(len(coins)):\n",
    "            curr_coin = coins[j]\n",
    "            if curr_coin <= i:\n",
    "                dp[i] = min(dp[i], dp[i-curr_coin]+1)\n",
    "    return dp[amount] if dp[amount] < amount+1 else -1\n",
    "\n",
    "coin_change([1,2,5], 11)"
   ]
  },
  {
   "cell_type": "markdown",
   "metadata": {},
   "source": [
    "### 0/1 knapsack problem"
   ]
  },
  {
   "cell_type": "code",
   "execution_count": 18,
   "metadata": {},
   "outputs": [
    {
     "name": "stdout",
     "output_type": "stream",
     "text": [
      "8\n",
      "1\n"
     ]
    },
    {
     "data": {
      "text/plain": [
       "60"
      ]
     },
     "execution_count": 18,
     "metadata": {},
     "output_type": "execute_result"
    }
   ],
   "source": [
    "def knapsack(wt, val, maxwt):\n",
    "    dp = [[0]*(maxwt+1) for x in range(len(wt)+1)]\n",
    "    for i in range(1,len(wt)+1):\n",
    "        for j in range(1,maxwt+1):\n",
    "            currwt = wt[i-1]\n",
    "            currval = val[i-1]\n",
    "            without = dp[i-1][j]\n",
    "            wit = currval + dp[i-1][j-currwt] if currwt <= j else 0\n",
    "            dp[i][j] = max(wit, without)\n",
    "            \n",
    "    i, w = len(wt), maxwt\n",
    "    while i>0 and w>0:\n",
    "        if dp[i][w]!= dp[i-1][w]:\n",
    "            print(wt[i-1])\n",
    "            w -= wt[i-1]\n",
    "            i -= 1\n",
    "        else:\n",
    "            i-=1\n",
    "        \n",
    "    return dp[len(wt)][maxwt]\n",
    "\n",
    "val = [20,5,10,40,15,25] \n",
    "wt = [1,2,3,8,7,4] \n",
    "maxwt = 10\n",
    "knapsack(wt, val, maxwt)"
   ]
  },
  {
   "cell_type": "markdown",
   "metadata": {},
   "source": [
    "### Subset Sum\n",
    "Given a set of positive numbers, determine if there exists a subset whose sum is equal to a given number ‘S’.\n",
    "* Input: {1, 3, 4, 8}, S=6\n",
    "* Output: False\n",
    "* The given set does not have any subset whose sum is equal to '6'."
   ]
  },
  {
   "cell_type": "code",
   "execution_count": 45,
   "metadata": {},
   "outputs": [
    {
     "data": {
      "text/plain": [
       "True"
      ]
     },
     "execution_count": 45,
     "metadata": {},
     "output_type": "execute_result"
    }
   ],
   "source": [
    "def subset_sum(nums, T):\n",
    "    dp = [[False]*(T+1) for x in range(len(nums)+1)]\n",
    "    dp[0][0] = True\n",
    "    \n",
    "    for i in range(1,len(nums)+1):\n",
    "        dp[i][0] = True\n",
    "        for j in range(1,T+1):\n",
    "            curr_num = nums[i-1]\n",
    "            if dp[i-1][j]:\n",
    "                dp[i][j] = dp[i-1][j]\n",
    "            elif j>=curr_num:\n",
    "                dp[i][j] = dp[i-1][j-curr_num]\n",
    "    return dp[-1][-1]\n",
    "\n",
    "subset_sum([1, 3, 4, 8], 15)"
   ]
  },
  {
   "cell_type": "markdown",
   "metadata": {},
   "source": [
    "### Combination sum IV\n",
    "Given an integer array with all positive numbers and no duplicates, find the number of possible combinations that add up to a positive integer target.\n",
    "\n",
    "nums = [1, 2, 3]\n",
    "\n",
    "target = 4\n",
    "\n",
    "The possible combination ways are:\n",
    "* (1, 1, 1, 1)\n",
    "* (1, 1, 2)\n",
    "* (1, 2, 1)\n",
    "* (1, 3)\n",
    "* (2, 1, 1)\n",
    "* (2, 2)\n",
    "* (3, 1)\n",
    "\n",
    "Note that different sequences are counted as different combinations.\n",
    "\n",
    "Therefore the output is 7."
   ]
  },
  {
   "cell_type": "code",
   "execution_count": 10,
   "metadata": {},
   "outputs": [],
   "source": [
    "def combinationSum4(nums, target):\n",
    "    dp = [0]*(target+1)\n",
    "    dp[0] = 1\n",
    "    for i in range(1,len(dp)):\n",
    "        for num in nums:\n",
    "            dp[i] += (dp[i-num] if num<=i else 0)\n",
    "    return dp[-1]"
   ]
  },
  {
   "cell_type": "code",
   "execution_count": 11,
   "metadata": {},
   "outputs": [
    {
     "data": {
      "text/plain": [
       "7"
      ]
     },
     "execution_count": 11,
     "metadata": {},
     "output_type": "execute_result"
    }
   ],
   "source": [
    "combinationSum4([1,2,3], 4)"
   ]
  }
 ],
 "metadata": {
  "kernelspec": {
   "display_name": "Python 3",
   "language": "python",
   "name": "python3"
  },
  "language_info": {
   "codemirror_mode": {
    "name": "ipython",
    "version": 3
   },
   "file_extension": ".py",
   "mimetype": "text/x-python",
   "name": "python",
   "nbconvert_exporter": "python",
   "pygments_lexer": "ipython3",
   "version": "3.6.8"
  }
 },
 "nbformat": 4,
 "nbformat_minor": 2
}
