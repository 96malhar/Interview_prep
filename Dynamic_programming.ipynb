{
 "cells": [
  {
   "cell_type": "markdown",
   "metadata": {},
   "source": [
    "## Intro"
   ]
  },
  {
   "cell_type": "markdown",
   "metadata": {},
   "source": [
    "### Find the Nth Fibonacci Number using Dynamic Programming : 1, 1, 2, 3, 5, 8, 13....\n",
    "Two Techniques :\n",
    "* **Recursion + Memoization (Top Down)** (Covered in Recursion)\n",
    "* **Tabulation (Bottom up)**"
   ]
  },
  {
   "cell_type": "code",
   "execution_count": 3,
   "metadata": {},
   "outputs": [
    {
     "data": {
      "text/plain": [
       "13"
      ]
     },
     "execution_count": 3,
     "metadata": {},
     "output_type": "execute_result"
    }
   ],
   "source": [
    "def fibonacci(n):\n",
    "    nMinus1, nMinus2, nth = 1, 1, 1\n",
    "    for i in range(3,n+1):\n",
    "        nth = nMinus1 + nMinus2\n",
    "        nMinus2 = nMinus1\n",
    "        nMinus1 = nth\n",
    "    return nth\n",
    "\n",
    "fibonacci(7)"
   ]
  },
  {
   "cell_type": "markdown",
   "metadata": {},
   "source": [
    "## Approaching Dynamic Programming Problems"
   ]
  },
  {
   "cell_type": "markdown",
   "metadata": {},
   "source": [
    "### Climbing Steps Problem\n",
    "Let’s say you have to climb N steps. You can jump 1 step, 3 steps or 5 steps at a time. How many ways are there to get to the top of the steps."
   ]
  },
  {
   "cell_type": "markdown",
   "metadata": {},
   "source": [
    "#### Bottom up approach"
   ]
  },
  {
   "cell_type": "code",
   "execution_count": 14,
   "metadata": {},
   "outputs": [
    {
     "data": {
      "text/plain": [
       "19"
      ]
     },
     "execution_count": 14,
     "metadata": {},
     "output_type": "execute_result"
    }
   ],
   "source": [
    "def climbing_steps(n):\n",
    "    a = [0]*(n+1)\n",
    "    a[0]=1\n",
    "    \n",
    "    for i in range(n+1):\n",
    "        if i+1 < len(a):\n",
    "            a[i+1] += a[i]\n",
    "        if i+3 < len(a):\n",
    "            a[i+3] += a[i]\n",
    "        if i+5 < len(a):\n",
    "            a[i+5] += a[i]\n",
    "    return a[n]\n",
    "\n",
    "climbing_steps(8)"
   ]
  },
  {
   "cell_type": "markdown",
   "metadata": {},
   "source": [
    "#### Top Down Approach"
   ]
  },
  {
   "cell_type": "code",
   "execution_count": 32,
   "metadata": {},
   "outputs": [
    {
     "data": {
      "text/plain": [
       "19"
      ]
     },
     "execution_count": 32,
     "metadata": {},
     "output_type": "execute_result"
    }
   ],
   "source": [
    "def climbing_steps(n):\n",
    "    a = [0]*(n+1)\n",
    "    a[0] = 1\n",
    "    \n",
    "    for i in range(1,n+1):\n",
    "        nMinus1 = 0 if i-1<0 else a[i-1]\n",
    "        nMinus3 = 0 if i-3<0 else a[i-3]\n",
    "        nMinus5 = 0 if i-5<0 else a[i-5]\n",
    "        \n",
    "        a[i] = nMinus1 + nMinus3 + nMinus5\n",
    "    return a[n]\n",
    "\n",
    "climbing_steps(8)"
   ]
  },
  {
   "cell_type": "markdown",
   "metadata": {},
   "source": [
    "### Min Cost Climbing Stairs\n",
    "* Input: cost = [1, 100, 1, 1, 1, 100, 1, 1, 100, 1]\n",
    "* Output: 6\n",
    "* Explanation: Cheapest is start on cost[0], and only step on 1s, skipping cost[3]."
   ]
  },
  {
   "cell_type": "code",
   "execution_count": 30,
   "metadata": {},
   "outputs": [
    {
     "data": {
      "text/plain": [
       "15"
      ]
     },
     "execution_count": 30,
     "metadata": {},
     "output_type": "execute_result"
    }
   ],
   "source": [
    "def minCostClimbingStairs(cost):\n",
    "    cost.append(0)\n",
    "    for i in range(len(cost)):\n",
    "        nMinus1 = 0 if i-1<0 else cost[i-1]\n",
    "        nMinus2 = 0 if i-2<0 else cost[i-2]\n",
    "        cost[i] = cost[i] + min(nMinus1, nMinus2)\n",
    "    return cost[-1]\n",
    "minCostClimbingStairs([1, 100, 1, 1, 1, 100, 1, 1, 100, 1])\n",
    "minCostClimbingStairs([10,15,20])"
   ]
  },
  {
   "cell_type": "markdown",
   "metadata": {},
   "source": [
    "### Longest Increasing Subsequence\n",
    "Given an array of integers, find the length of the longest increasing subsequence. \n",
    "For e.g, in [1, 3, 2, 5, 3, 5, 6], the longest increasing subsequence is [1, 2, 3, 5, 6] of length 5."
   ]
  },
  {
   "cell_type": "code",
   "execution_count": 40,
   "metadata": {},
   "outputs": [
    {
     "data": {
      "text/plain": [
       "5"
      ]
     },
     "execution_count": 40,
     "metadata": {},
     "output_type": "execute_result"
    }
   ],
   "source": [
    "## Back2backswe\n",
    "def LIS(nums):\n",
    "    if len(nums) == 0:\n",
    "        return 0\n",
    "    max_len = [1] * len(nums)\n",
    "    max_so_far = 1\n",
    "    for i in range(1,len(nums)):\n",
    "        for j in range(i):\n",
    "            if nums[i] > nums[j]:\n",
    "                max_len[i] = max(max_len[i], max_len[j]+1)\n",
    "        max_so_far = max(max_so_far, max_len[i])\n",
    "    return max_so_far\n",
    "\n",
    "LIS([1, 3, 2, 5, 3, 5, 6])  "
   ]
  },
  {
   "cell_type": "markdown",
   "metadata": {},
   "source": [
    "### Given a set of coin denominations, print out the number of ways you can make a target amount. \n",
    "\n",
    "For example: If coins are [1,2,5] and the target is 5"
   ]
  },
  {
   "cell_type": "code",
   "execution_count": 5,
   "metadata": {},
   "outputs": [
    {
     "data": {
      "text/plain": [
       "6"
      ]
     },
     "execution_count": 5,
     "metadata": {},
     "output_type": "execute_result"
    }
   ],
   "source": [
    "# Back2Backswe\n",
    "def coin_change(coins, amount):\n",
    "    dp = [[0]*(amount+1) for x in range(len(coins)+1)]\n",
    "    dp[0][0] = 1\n",
    "    for i in range(1,len(coins)+1):\n",
    "        dp[i][0] = 1\n",
    "        for j in range(1,amount+1):\n",
    "            curr_coin = coins[i-1]\n",
    "            without_curr = dp[i-1][j]\n",
    "            with_curr = dp[i][j-curr_coin] if curr_coin <=j else 0\n",
    "            dp[i][j] = with_curr + without_curr\n",
    "    return dp[len(coins)][amount]\n",
    "\n",
    "coin_change([1,2,5], 6)"
   ]
  },
  {
   "cell_type": "markdown",
   "metadata": {},
   "source": [
    "### Given a set of coin denominations and a target amount, return the fewest number of coins to make change\n",
    "* Input: coins = [1, 2, 5], amount = 11\n",
    "* Output: 3 \n",
    "* Explanation: 11 = 5 + 5 + 1"
   ]
  },
  {
   "cell_type": "code",
   "execution_count": 3,
   "metadata": {},
   "outputs": [
    {
     "data": {
      "text/plain": [
       "3"
      ]
     },
     "execution_count": 3,
     "metadata": {},
     "output_type": "execute_result"
    }
   ],
   "source": [
    "# BAck2backswe\n",
    "def coin_change(coins, amount):\n",
    "    dp = [amount+1]*(amount+1)\n",
    "    dp[0] = 0\n",
    "    \n",
    "    for i in range(1,amount+1):\n",
    "        for j in range(len(coins)):\n",
    "            curr_coin = coins[j]\n",
    "            if curr_coin <= i:\n",
    "                dp[i] = min(dp[i], dp[i-curr_coin]+1)\n",
    "    return dp[amount] if dp[amount] < amount+1 else -1\n",
    "\n",
    "coin_change([1,2,5], 11)"
   ]
  },
  {
   "cell_type": "markdown",
   "metadata": {},
   "source": [
    "### 0/1 knapsack problem"
   ]
  },
  {
   "cell_type": "code",
   "execution_count": 17,
   "metadata": {},
   "outputs": [
    {
     "name": "stdout",
     "output_type": "stream",
     "text": [
      "1\n",
      "3\n"
     ]
    },
    {
     "data": {
      "text/plain": [
       "140"
      ]
     },
     "execution_count": 17,
     "metadata": {},
     "output_type": "execute_result"
    }
   ],
   "source": [
    "def knapsack(wt, val, maxwt):\n",
    "    dp = [[0]*(maxwt+1) for x in range(len(wt)+1)]\n",
    "    for i in range(1,len(wt)+1):\n",
    "        for j in range(1,maxwt+1):\n",
    "            currwt = wt[i-1]\n",
    "            currval = val[i-1]\n",
    "            without = dp[i-1][j]\n",
    "            wit = currval + dp[i-1][j-currwt] if currwt <= j else 0\n",
    "            dp[i][j] = max(wit, without)\n",
    "            \n",
    "    i, w = len(wt), maxwt\n",
    "    while i>0 and w>0:\n",
    "        if dp[i][w]!= dp[i-1][w]:\n",
    "            print(wt[i-1])\n",
    "            w -= wt[i-1]\n",
    "            i -= 1\n",
    "        else:\n",
    "            i-=1\n",
    "        \n",
    "    return dp[len(wt)][maxwt]\n",
    "\n",
    "val = [100,20,60,40] \n",
    "wt = [3,2,4,1] \n",
    "maxwt = 5\n",
    "knapsack(wt, val, maxwt)"
   ]
  }
 ],
 "metadata": {
  "kernelspec": {
   "display_name": "Python 3",
   "language": "python",
   "name": "python3"
  },
  "language_info": {
   "codemirror_mode": {
    "name": "ipython",
    "version": 3
   },
   "file_extension": ".py",
   "mimetype": "text/x-python",
   "name": "python",
   "nbconvert_exporter": "python",
   "pygments_lexer": "ipython3",
   "version": "3.6.8"
  }
 },
 "nbformat": 4,
 "nbformat_minor": 2
}
