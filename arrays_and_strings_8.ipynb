{
 "cells": [
  {
   "cell_type": "markdown",
   "metadata": {},
   "source": [
    "### Distribute Candies to People\n",
    "\n",
    "We distribute some number of candies, to a row of n = num_people people in the following way:\n",
    "\n",
    "We then give 1 candy to the first person, 2 candies to the second person, and so on until we give n candies to the last person.\n",
    "\n",
    "Then, we go back to the start of the row, giving n + 1 candies to the first person, n + 2 candies to the second person, and so on until we give 2 * n candies to the last person.\n",
    "\n",
    "This process repeats (with us giving one more candy each time, and moving to the start of the row after we reach the end) until we run out of candies.  The last person will receive all of our remaining candies (not necessarily one more than the previous gift).\n",
    "\n",
    "Return an array (of length num_people and sum candies) that represents the final distribution of candies."
   ]
  },
  {
   "cell_type": "code",
   "execution_count": 2,
   "metadata": {},
   "outputs": [
    {
     "data": {
      "text/plain": [
       "[1, 2, 3, 1]"
      ]
     },
     "execution_count": 2,
     "metadata": {},
     "output_type": "execute_result"
    }
   ],
   "source": [
    "class Solution:\n",
    "    def distributeCandies(self, candies: int, num_people: int):\n",
    "        multiplier = 0\n",
    "        additive = 1\n",
    "        i = 0\n",
    "        res = [0] * num_people\n",
    "        while True:\n",
    "            \n",
    "            while i < num_people:\n",
    "                give = min(candies, multiplier*num_people+additive)\n",
    "                res[i] += give\n",
    "                candies -= give\n",
    "                if candies == 0:\n",
    "                    return res\n",
    "                additive += 1\n",
    "                i += 1\n",
    "                \n",
    "            i = 0\n",
    "            additive = 1\n",
    "            multiplier += 1\n",
    "\n",
    "Solution().distributeCandies(7, 4)"
   ]
  },
  {
   "cell_type": "markdown",
   "metadata": {},
   "source": [
    "### Strings Differ by One Character\n",
    "\n",
    "Given a list of strings dict where all the strings are of the same length.\n",
    "\n",
    "Return True if there are 2 strings that only differ by 1 character in the same index, otherwise return False.\n",
    "\n",
    "Follow up: Could you solve this problem in O(n*m) where n is the length of dict and m is the length of each string."
   ]
  },
  {
   "cell_type": "code",
   "execution_count": 2,
   "metadata": {},
   "outputs": [
    {
     "data": {
      "text/plain": [
       "True"
      ]
     },
     "execution_count": 2,
     "metadata": {},
     "output_type": "execute_result"
    }
   ],
   "source": [
    "def differByOne(dict) -> bool:\n",
    "    hashset = set()\n",
    "    for word in dict:\n",
    "        for i in range(len(word)):\n",
    "            new_word = word[:i] + '*' + word[i+1:]\n",
    "            if new_word in hashset:\n",
    "                return True\n",
    "            hashset.add(new_word)\n",
    "    return False\n",
    "\n",
    "differByOne(dict = [\"abcd\",\"acbd\", \"aacd\"])"
   ]
  },
  {
   "cell_type": "markdown",
   "metadata": {},
   "source": [
    "### Maximum Number of Coins You Can Get\n",
    "\n",
    "There are 3n piles of coins of varying size, you and your friends will take piles of coins as follows:\n",
    "\n",
    "1. In each step, you will choose any 3 piles of coins (not necessarily consecutive).\n",
    "Of your choice, Alice will pick the pile with the maximum number of coins.\n",
    "2. You will pick the next pile with maximum number of coins.\n",
    "3. Your friend Bob will pick the last pile.\n",
    "4. Repeat until there are no more piles of coins.\n",
    "\n",
    "Given an array of integers piles where piles[i] is the number of coins in the ith pile.\n",
    "\n",
    "Return the maximum number of coins which you can have."
   ]
  },
  {
   "cell_type": "code",
   "execution_count": 3,
   "metadata": {},
   "outputs": [
    {
     "data": {
      "text/plain": [
       "9"
      ]
     },
     "execution_count": 3,
     "metadata": {},
     "output_type": "execute_result"
    }
   ],
   "source": [
    "def maxCoins(piles) -> int:\n",
    "    piles.sort()\n",
    "    bob = 0; \n",
    "    me = len(piles)-2\n",
    "    total = 0\n",
    "\n",
    "    while bob < me:\n",
    "        total += piles[me]\n",
    "        me -= 2\n",
    "        bob += 1\n",
    "\n",
    "    return total\n",
    "\n",
    "maxCoins(piles = [2,4,1,2,7,8])"
   ]
  },
  {
   "cell_type": "markdown",
   "metadata": {},
   "source": [
    "### Find And Replace in String\n",
    "\n",
    "To some string S, we will perform some replacement operations that replace groups of letters with new ones (not necessarily the same size).\n",
    "\n",
    "Each replacement operation has 3 parameters: a starting index i, a source word x and a target word y.  The rule is that if x starts at position i in the original string S, then we will replace that occurrence of x with y.  If not, we do nothing.\n",
    "\n",
    "For example, if we have S = \"abcd\" and we have some replacement operation i = 2, x = \"cd\", y = \"ffff\", then because \"cd\" starts at position 2 in the original string S, we will replace it with \"ffff\".\n",
    "\n",
    "Using another example on S = \"abcd\", if we have both the replacement operation i = 0, x = \"ab\", y = \"eee\", as well as another replacement operation i = 2, x = \"ec\", y = \"ffff\", this second operation does nothing because in the original string S[2] = 'c', which doesn't match x[0] = 'e'.\n",
    "\n",
    "All these operations occur simultaneously.  It's guaranteed that there won't be any overlap in replacement: for example, S = \"abc\", indexes = [0, 1], sources = [\"ab\",\"bc\"] is not a valid test case.\n",
    "\n"
   ]
  },
  {
   "cell_type": "code",
   "execution_count": 4,
   "metadata": {},
   "outputs": [
    {
     "data": {
      "text/plain": [
       "'eeebffff'"
      ]
     },
     "execution_count": 4,
     "metadata": {},
     "output_type": "execute_result"
    }
   ],
   "source": [
    "class Solution:\n",
    "    def findReplaceString(self, S: str, indexes, sources, targets) -> str:\n",
    "        match = {}\n",
    "        \n",
    "        for i in range(len(indexes)):\n",
    "            idx = indexes[i]\n",
    "            source_str = sources[i]\n",
    "            target_str = targets[i]\n",
    "            if S[idx:].startswith(source_str):\n",
    "                match[idx] = (source_str, target_str)\n",
    "        \n",
    "        res = \"\"\n",
    "        idx = 0\n",
    "        while idx < len(S):\n",
    "            if idx not in match:\n",
    "                res += S[idx]\n",
    "                idx += 1\n",
    "            else:\n",
    "                source_str, target_str = match[idx]\n",
    "                res += target_str\n",
    "                idx += len(source_str)\n",
    "        \n",
    "        return res\n",
    "                \n",
    "Solution().findReplaceString(S = \"abcd\", indexes = [0,2], sources = [\"a\",\"cd\"], targets = [\"eee\",\"ffff\"])     "
   ]
  },
  {
   "cell_type": "markdown",
   "metadata": {},
   "source": [
    "### Replace All ?'s to Avoid Consecutive Repeating Characters\n",
    "\n",
    "Given a string s containing only lower case English letters and the '?' character, convert all the '?' characters into lower case letters such that the final string does not contain any consecutive repeating characters. You cannot modify the non '?' characters.\n",
    "\n",
    "It is guaranteed that there are no consecutive repeating characters in the given string except for '?'.\n",
    "\n",
    "Return the final string after all the conversions (possibly zero) have been made. If there is more than one solution, return any of them. It can be shown that an answer is always possible with the given constraints.\n",
    "\n",
    " "
   ]
  },
  {
   "cell_type": "code",
   "execution_count": 6,
   "metadata": {},
   "outputs": [
    {
     "data": {
      "text/plain": [
       "'caywcipkjc'"
      ]
     },
     "execution_count": 6,
     "metadata": {},
     "output_type": "execute_result"
    }
   ],
   "source": [
    "import random\n",
    "class Solution:\n",
    "    def modifyString(self, s: str) -> str:\n",
    "        chars = list('abc')\n",
    "        stack = []\n",
    "        \n",
    "        for i, ch in enumerate(s):\n",
    "            if ch.isalpha():\n",
    "                stack.append(ch)\n",
    "            \n",
    "            else:\n",
    "                if not stack:\n",
    "                    curr = random.choice(chars)\n",
    "                    while i<len(s)-1 and s[i+1].isalpha() and s[i+1] == curr:\n",
    "                        curr = random.choice(chars)\n",
    "                    stack.append(curr)\n",
    "\n",
    "                else:\n",
    "                    prev = stack[-1]\n",
    "                    curr = random.choice(chars)\n",
    "                    while prev == curr or (i < len(s)-1 and s[i+1].isalpha() and s[i+1] == curr):\n",
    "                        curr = random.choice(chars)\n",
    "                    stack.append(curr)\n",
    "        \n",
    "        return ''.join(stack)\n",
    "                \n",
    "Solution().modifyString(s = \"??yw?ipkj?\")"
   ]
  },
  {
   "cell_type": "markdown",
   "metadata": {},
   "source": [
    "### Put Boxes Into the Warehouse II\n",
    "\n",
    "You are given two arrays of positive integers, boxes and warehouse, representing the heights of some boxes of unit width and the heights of n rooms in a warehouse respectively. The warehouse's rooms are labeled from 0 to n - 1 from left to right where warehouse[i] (0-indexed) is the height of the ith room.\n",
    "\n",
    "Boxes are put into the warehouse by the following rules:\n",
    "\n",
    "1. Boxes cannot be stacked.\n",
    "2. You can rearrange the insertion order of the boxes.\n",
    "3. Boxes can be pushed into the warehouse from either side (left or right)\n",
    "4. If the height of some room in the warehouse is less than the height of a box, then that box and all other boxes behind it will be stopped before that room.\n",
    "7. Return the maximum number of boxes you can put into the warehouse."
   ]
  },
  {
   "cell_type": "code",
   "execution_count": 7,
   "metadata": {},
   "outputs": [
    {
     "data": {
      "text/plain": [
       "4"
      ]
     },
     "execution_count": 7,
     "metadata": {},
     "output_type": "execute_result"
    }
   ],
   "source": [
    "def maxBoxesInWarehouse(boxes, warehouse) -> int:\n",
    "    boxes.sort()\n",
    "    p1 = 0; p2 = len(warehouse)-1\n",
    "    i = len(boxes)-1\n",
    "    res = 0\n",
    "\n",
    "    while p1 <= p2 and i>=0:\n",
    "        if boxes[i] <= warehouse[p1]:\n",
    "            p1 += 1\n",
    "            res += 1\n",
    "        elif boxes[i] <= warehouse[p2]:\n",
    "            p2 -= 1\n",
    "            res += 1\n",
    "        i -= 1\n",
    "\n",
    "    return res\n",
    "\n",
    "maxBoxesInWarehouse(boxes = [1,2,2,3,4], warehouse = [3,4,1,2])"
   ]
  },
  {
   "cell_type": "markdown",
   "metadata": {},
   "source": [
    "### Length of Last Word\n",
    "\n",
    "Given a string s consists of upper/lower-case alphabets and empty space characters ' ', return the length of last word (last word means the last appearing word if we loop from left to right) in the string.\n",
    "\n",
    "If the last word does not exist, return 0.\n",
    "\n",
    "Note: A word is defined as a maximal substring consisting of non-space characters only."
   ]
  },
  {
   "cell_type": "code",
   "execution_count": 11,
   "metadata": {},
   "outputs": [
    {
     "data": {
      "text/plain": [
       "5"
      ]
     },
     "execution_count": 11,
     "metadata": {},
     "output_type": "execute_result"
    }
   ],
   "source": [
    "def lengthOfLastWord(s: str) -> int:\n",
    "    i = len(s)-1\n",
    "    while i>=0 and s[i] == \" \":\n",
    "        i -= 1\n",
    "\n",
    "    end = i\n",
    "    while i>=0 and s[i].isalpha():\n",
    "        i -= 1\n",
    "    start = i+1\n",
    "\n",
    "    return end-start+1\n",
    "\n",
    "lengthOfLastWord(\"Hello World\")"
   ]
  },
  {
   "cell_type": "markdown",
   "metadata": {},
   "source": [
    "### Champagne Tower\n",
    "\n",
    "We stack glasses in a pyramid, where the first row has 1 glass, the second row has 2 glasses, and so on until the 100th row.  Each glass holds one cup of champagne.\n",
    "\n",
    "Then, some champagne is poured into the first glass at the top.  When the topmost glass is full, any excess liquid poured will fall equally to the glass immediately to the left and right of it.  When those glasses become full, any excess champagne will fall equally to the left and right of those glasses, and so on.  (A glass at the bottom row has its excess champagne fall on the floor.)\n",
    "\n",
    "For example, after one cup of champagne is poured, the top most glass is full.  After two cups of champagne are poured, the two glasses on the second row are half full.  After three cups of champagne are poured, those two cups become full - there are 3 full glasses total now.  After four cups of champagne are poured, the third row has the middle glass half full, and the two outside glasses are a quarter full, as pictured below."
   ]
  },
  {
   "cell_type": "code",
   "execution_count": 4,
   "metadata": {},
   "outputs": [
    {
     "data": {
      "text/plain": [
       "1"
      ]
     },
     "execution_count": 4,
     "metadata": {},
     "output_type": "execute_result"
    }
   ],
   "source": [
    "from collections import Counter\n",
    "class Solution:\n",
    "    def champagneTower(self, poured: int, query_row: int, query_glass: int) -> float:\n",
    "        memo = Counter()\n",
    "        memo[(0,0)] = poured\n",
    "        for row in range(query_row+1):\n",
    "            for col in range(row+1):\n",
    "                flow_through = memo[(row, col)]\n",
    "                if flow_through > 1:\n",
    "                    hold = 1\n",
    "                    bal = (flow_through - 1) / 2\n",
    "                else:\n",
    "                    hold = flow_through\n",
    "                    bal = 0\n",
    "                \n",
    "                memo[(row+1,col)] += bal\n",
    "                memo[(row+1, col+1)] += bal\n",
    "                \n",
    "                if row == query_row and col == query_glass :\n",
    "                    return hold\n",
    "\n",
    "Solution().champagneTower(poured = 100000009, query_row = 33, query_glass = 17)"
   ]
  },
  {
   "cell_type": "markdown",
   "metadata": {},
   "source": [
    "### Bag of Tokens\n",
    "\n",
    "You have an initial power of P, an initial score of 0, and a bag of tokens where tokens[i] is the value of the ith token (0-indexed).\n",
    "\n",
    "Your goal is to maximize your total score by potentially playing each token in one of two ways:\n",
    "\n",
    "* If your current power is at least tokens[i], you may play the ith token face up, losing tokens[i] power and gaining 1 score.\n",
    "* If your current score is at least 1, you may play the ith token face down, gaining tokens[i] power and losing 1 score.\n",
    "* Each token may be played at most once and in any order. You do not have to play all the tokens.\n",
    "\n",
    "Return the largest possible score you can achieve after playing any number of tokens."
   ]
  },
  {
   "cell_type": "code",
   "execution_count": 5,
   "metadata": {},
   "outputs": [
    {
     "data": {
      "text/plain": [
       "2"
      ]
     },
     "execution_count": 5,
     "metadata": {},
     "output_type": "execute_result"
    }
   ],
   "source": [
    "class Solution:\n",
    "    def bagOfTokensScore(self, tokens, P: int) -> int:\n",
    "        tokens.sort()\n",
    "        i = 0; j = len(tokens)-1\n",
    "        score = res = 0\n",
    "        \n",
    "        while i <= j:\n",
    "            if P >= tokens[i]:\n",
    "                score += 1\n",
    "                P -= tokens[i]\n",
    "                i += 1\n",
    "                res = max(res, score)\n",
    "                \n",
    "            elif score > 0:\n",
    "                score -= 1\n",
    "                P += tokens[j]\n",
    "                j -= 1\n",
    "                \n",
    "            else:\n",
    "                break\n",
    "        \n",
    "        return res\n",
    "\n",
    "Solution().bagOfTokensScore(tokens = [100,200,300,400], P = 200)"
   ]
  },
  {
   "cell_type": "markdown",
   "metadata": {},
   "source": [
    "### Mean of Array After Removing Some Elements\n",
    "\n",
    "Given an integer array arr, return the mean of the remaining integers after removing the smallest 5% and the largest 5% of the elements.\n",
    "\n",
    "Answers within 10-5 of the actual answer will be considered accepted."
   ]
  },
  {
   "cell_type": "code",
   "execution_count": 7,
   "metadata": {},
   "outputs": [
    {
     "data": {
      "text/plain": [
       "4.0"
      ]
     },
     "execution_count": 7,
     "metadata": {},
     "output_type": "execute_result"
    }
   ],
   "source": [
    "class Solution:\n",
    "    def trimMean(self, arr) -> float:\n",
    "        arr.sort()\n",
    "        remove= len(arr) // 20\n",
    "        \n",
    "        i = remove\n",
    "        j = len(arr) - 1 - remove\n",
    "        \n",
    "        return sum(arr[i:j+1]) / (j-i+1)\n",
    "        \n",
    "Solution().trimMean(arr = [6,2,7,5,1,2,0,3,10,2,5,0,5,5,0,8,7,6,8,0])"
   ]
  },
  {
   "cell_type": "markdown",
   "metadata": {},
   "source": [
    "### Count All Valid Pickup and Delivery Options\n",
    "\n",
    "Given n orders, each order consist in pickup and delivery services. \n",
    "\n",
    "Count all valid pickup/delivery possible sequences such that delivery(i) is always after of pickup(i). \n",
    "\n",
    "Since the answer may be too large, return it modulo 10^9 + 7."
   ]
  },
  {
   "cell_type": "code",
   "execution_count": 10,
   "metadata": {},
   "outputs": [
    {
     "data": {
      "text/plain": [
       "6"
      ]
     },
     "execution_count": 10,
     "metadata": {},
     "output_type": "execute_result"
    }
   ],
   "source": [
    "import math\n",
    "class Solution:\n",
    "    def countOrders(self, n: int) -> int:\n",
    "        res = 1\n",
    "        p = 10**9 + 7\n",
    "        \n",
    "        for i in range(1, 2*n, 2):\n",
    "            res *= i \n",
    "            \n",
    "        res *= math.factorial(n)\n",
    "        return res % p\n",
    "\n",
    "Solution().countOrders(2)"
   ]
  },
  {
   "cell_type": "markdown",
   "metadata": {},
   "source": [
    "### Count Substrings That Differ by One Character\n",
    "\n",
    "Given two strings s and t, find the number of ways you can choose a non-empty substring of s and replace a single character by a different character such that the resulting substring is a substring of t. In other words, find the number of substrings in s that differ from some substring in t by exactly one character.\n",
    "\n",
    "For example, the underlined substrings in \"computer\" and \"computation\" only differ by the 'e'/'a', so this is a valid way.\n",
    "\n",
    "Return the number of substrings that satisfy the condition above.\n",
    "\n",
    "A substring is a contiguous sequence of characters within a string."
   ]
  },
  {
   "cell_type": "code",
   "execution_count": 2,
   "metadata": {},
   "outputs": [
    {
     "data": {
      "text/plain": [
       "6"
      ]
     },
     "execution_count": 2,
     "metadata": {},
     "output_type": "execute_result"
    }
   ],
   "source": [
    "class Solution:\n",
    "    def countSubstrings(self, s: str, t: str) -> int:\n",
    "        res = 0\n",
    "        for i in range(len(s)):\n",
    "            for j in range(len(t)):\n",
    "                miss, pos = 0, 0\n",
    "                while i + pos < len(s) and j + pos < len(t) and miss < 2:\n",
    "                    miss += s[i + pos] != t[j + pos]\n",
    "                    res += miss == 1\n",
    "                    pos += 1\n",
    "        return res\n",
    "\n",
    "Solution().countSubstrings(s = \"aba\", t = \"baba\")"
   ]
  },
  {
   "cell_type": "markdown",
   "metadata": {},
   "source": [
    "### Check Array Formation Through Concatenation\n",
    "\n",
    "You are given an array of distinct integers arr and an array of integer arrays pieces, where the integers in pieces are distinct. Your goal is to form arr by concatenating the arrays in pieces in any order. However, you are not allowed to reorder the integers in each array pieces[i].\n",
    "\n",
    "Return true if it is possible to form the array arr from pieces. Otherwise, return false."
   ]
  },
  {
   "cell_type": "code",
   "execution_count": 2,
   "metadata": {},
   "outputs": [
    {
     "data": {
      "text/plain": [
       "True"
      ]
     },
     "execution_count": 2,
     "metadata": {},
     "output_type": "execute_result"
    }
   ],
   "source": [
    "class Solution:\n",
    "    def canFormArray(self, arr, pieces) -> bool:\n",
    "        hashmap = {}\n",
    "        \n",
    "        for i, val in enumerate(arr):\n",
    "            hashmap[val] = i\n",
    "        \n",
    "        for piece in pieces:\n",
    "            if piece[0] not in hashmap:\n",
    "                return False\n",
    "            for i in range(1, len(piece)):\n",
    "                curr = piece[i]\n",
    "                prev = piece[i-1]\n",
    "                if curr not in hashmap or prev not in hashmap:\n",
    "                    return False\n",
    "                if hashmap[curr] != hashmap[prev]+1:\n",
    "                    return False\n",
    "        \n",
    "        return True\n",
    "        \n",
    "Solution().canFormArray(arr = [91,4,64,78], pieces = [[78],[4,64],[91]])"
   ]
  },
  {
   "cell_type": "markdown",
   "metadata": {},
   "source": [
    "### People Whose List of Favorite Companies Is Not a Subset of Another List\n",
    "\n",
    "Given the array favoriteCompanies where favoriteCompanies[i] is the list of favorites companies for the ith person (indexed from 0).\n",
    "\n",
    "Return the indices of people whose list of favorite companies is not a subset of any other list of favorites companies. You must return the indices in increasing order."
   ]
  },
  {
   "cell_type": "code",
   "execution_count": 2,
   "metadata": {},
   "outputs": [
    {
     "data": {
      "text/plain": [
       "[0, 1, 4]"
      ]
     },
     "execution_count": 2,
     "metadata": {},
     "output_type": "execute_result"
    }
   ],
   "source": [
    "class Solution:\n",
    "    def peopleIndexes(self, favoriteCompanies):\n",
    "        for i in range(len(favoriteCompanies)):\n",
    "            favoriteCompanies[i] = set(favoriteCompanies[i])\n",
    "            \n",
    "        res = []    \n",
    "        for i in range(len(favoriteCompanies)):\n",
    "            subset = False\n",
    "            for j in range(len(favoriteCompanies)):\n",
    "                if i == j or len(favoriteCompanies[i]) > len(favoriteCompanies[j]):\n",
    "                    continue\n",
    "                set1, set2 = favoriteCompanies[i], favoriteCompanies[j]\n",
    "                setfinal = set1 - set2\n",
    "                if len(setfinal) == 0:\n",
    "                    subset = True\n",
    "                    break\n",
    "            \n",
    "            if not subset:\n",
    "                res.append(i)\n",
    "        \n",
    "        return res\n",
    "                \n",
    "Solution().peopleIndexes(favoriteCompanies = [[\"leetcode\",\"google\",\"facebook\"],[\"google\",\"microsoft\"],\n",
    "                                              [\"google\",\"facebook\"],[\"google\"],[\"amazon\"]])      "
   ]
  },
  {
   "cell_type": "markdown",
   "metadata": {},
   "source": [
    "### Zigzag Iterator\n",
    "\n",
    "Given two 1d vectors, implement an iterator to return their elements alternately."
   ]
  },
  {
   "cell_type": "code",
   "execution_count": 5,
   "metadata": {},
   "outputs": [
    {
     "data": {
      "text/plain": [
       "[1, 3, 2, 4, 5, 6]"
      ]
     },
     "execution_count": 5,
     "metadata": {},
     "output_type": "execute_result"
    }
   ],
   "source": [
    "from collections import deque\n",
    "class ZigzagIterator:\n",
    "    def __init__(self, v1, v2):\n",
    "        self.queue = deque()\n",
    "        for arr in [v1, v2]:\n",
    "            if len(arr) > 0:\n",
    "                self.queue.append((arr, 0))\n",
    "\n",
    "    def next(self) -> int:\n",
    "        queue = self.queue\n",
    "        arr, index = queue.popleft()\n",
    "        val = arr[index]\n",
    "        index += 1\n",
    "        if index < len(arr):\n",
    "            queue.append((arr, index))\n",
    "        return val\n",
    "        \n",
    "\n",
    "    def hasNext(self) -> bool:\n",
    "        return len(self.queue) > 0\n",
    "        \n",
    "\n",
    "v1 = [1,2]\n",
    "v2 = [3,4,5,6] \n",
    "iterator = ZigzagIterator(v1, v2)\n",
    "res = []\n",
    "\n",
    "while iterator.hasNext():\n",
    "    res.append(iterator.next())\n",
    "\n",
    "res\n"
   ]
  },
  {
   "cell_type": "markdown",
   "metadata": {},
   "source": [
    "### Determine if Two Strings Are Close\n",
    "\n",
    "Two strings are considered close if you can attain one from the other using the following operations:\n",
    "\n",
    "* Operation 1: Swap any two existing characters.\n",
    "        For example, abcde -> aecdb\n",
    "* Operation 2: Transform every occurrence of one existing character into another existing character, and do the same with the other character.\n",
    "        For example, aacabb -> bbcbaa (all a's turn into b's, and all b's turn into a's)\n",
    "    \n",
    "You can use the operations on either string as many times as necessary.\n",
    "\n",
    "Given two strings, word1 and word2, return true if word1 and word2 are close, and false otherwise."
   ]
  },
  {
   "cell_type": "code",
   "execution_count": 2,
   "metadata": {},
   "outputs": [
    {
     "data": {
      "text/plain": [
       "True"
      ]
     },
     "execution_count": 2,
     "metadata": {},
     "output_type": "execute_result"
    }
   ],
   "source": [
    "from collections import Counter\n",
    "class Solution:\n",
    "    def closeStrings(self, word1: str, word2: str) -> bool:\n",
    "        if set(word1) != set(word2):\n",
    "            return False\n",
    "        \n",
    "        arr1 = list(Counter(word1).values())\n",
    "        arr2 = list(Counter(word2).values())\n",
    "        return sorted(arr1) == sorted(arr2)\n",
    "        \n",
    "Solution().closeStrings(word1 = \"cabbba\", word2 = \"abbccc\")"
   ]
  },
  {
   "cell_type": "markdown",
   "metadata": {},
   "source": [
    "### Design an Ordered Stream\n",
    "\n",
    "There is a stream of n (id, value) pairs arriving in an arbitrary order, where id is an integer between 1 and n and value is a string. No two pairs have the same id.\n",
    "\n",
    "Design a stream that returns the values in increasing order of their IDs by returning a chunk (list) of values after each insertion. The concatenation of all the chunks should result in a list of the sorted values.\n",
    "\n",
    "Implement the OrderedStream class:\n",
    "\n",
    "* OrderedStream(int n) Constructs the stream to take n values.\n",
    "* String[] insert(int id, String value) Inserts the pair (id, value) into the stream, then returns the largest possible chunk of currently inserted values that appear next in the order."
   ]
  },
  {
   "cell_type": "code",
   "execution_count": 7,
   "metadata": {},
   "outputs": [
    {
     "name": "stdout",
     "output_type": "stream",
     "text": [
      "[]\n",
      "['ewrrre', 'abcd']\n",
      "[]\n",
      "['okpo']\n",
      "['bnbnm', 'fsdgfdfs']\n"
     ]
    }
   ],
   "source": [
    "class OrderedStream:\n",
    "\n",
    "    def __init__(self, n: int):\n",
    "        self.curr = 1\n",
    "        self.hashmap = {}\n",
    "        \n",
    "\n",
    "    def insert(self, id: int, value: str):\n",
    "        res = []\n",
    "        self.hashmap[id] = value\n",
    "        while self.curr in self.hashmap:\n",
    "            res.append(self.hashmap[self.curr])\n",
    "            del self.hashmap[self.curr]\n",
    "            self.curr += 1\n",
    "        return res\n",
    "        \n",
    "\n",
    "\n",
    "# Your OrderedStream object will be instantiated and called as such:\n",
    "# obj = OrderedStream(n)\n",
    "# param_1 = obj.insert(id,value)\n",
    "\n",
    "obj = OrderedStream(5)\n",
    "print(obj.insert(2, \"abcd\"))\n",
    "print(obj.insert(1, \"ewrrre\"))\n",
    "print(obj.insert(5, \"fsdgfdfs\"))\n",
    "print(obj.insert(3, \"okpo\"))\n",
    "print(obj.insert(4, \"bnbnm\"))\n",
    "\n"
   ]
  },
  {
   "cell_type": "markdown",
   "metadata": {},
   "source": [
    "### Minimum Deletions to Make String Balanced\n",
    "\n",
    "You are given a string s consisting only of characters 'a' and 'b'​​​​.\n",
    "\n",
    "You can delete any number of characters in s to make s balanced. s is balanced if there is no pair of indices (i,j) such that i < j and s[i] = 'b' and s[j]= 'a'.\n",
    "\n",
    "Return the minimum number of deletions needed to make s balanced."
   ]
  },
  {
   "cell_type": "code",
   "execution_count": 9,
   "metadata": {},
   "outputs": [
    {
     "data": {
      "text/plain": [
       "2"
      ]
     },
     "execution_count": 9,
     "metadata": {},
     "output_type": "execute_result"
    }
   ],
   "source": [
    "class Solution:\n",
    "    def minimumDeletions(self, s: str) -> int:\n",
    "        b = res = 0\n",
    "        for ch in s:\n",
    "            if ch == 'b':\n",
    "                b += 1\n",
    "            elif b > 0:\n",
    "                b -= 1\n",
    "                res += 1\n",
    "        \n",
    "        return res\n",
    "        \n",
    "Solution().minimumDeletions(s = \"bbaaaaabb\")"
   ]
  },
  {
   "cell_type": "markdown",
   "metadata": {},
   "source": [
    "### Maximum Repeating Substring\n",
    "\n",
    "For a string sequence, a string word is k-repeating if word concatenated k times is a substring of sequence. The word's maximum k-repeating value is the highest value k where word is k-repeating in sequence. If word is not a substring of sequence, word's maximum k-repeating value is 0.\n",
    "\n",
    "Given strings sequence and word, return the maximum k-repeating value of word in sequence."
   ]
  },
  {
   "cell_type": "code",
   "execution_count": 3,
   "metadata": {},
   "outputs": [
    {
     "data": {
      "text/plain": [
       "2"
      ]
     },
     "execution_count": 3,
     "metadata": {},
     "output_type": "execute_result"
    }
   ],
   "source": [
    "class Solution:\n",
    "    def maxRepeating(self, sequence: str, word: str) -> int:\n",
    "        start = 0\n",
    "        consec = 0\n",
    "        res = 0\n",
    "\n",
    "        while True:\n",
    "            index = sequence.find(word, start)\n",
    "            if index == -1:\n",
    "                break\n",
    "            if index == start:\n",
    "                consec += 1  \n",
    "            else:\n",
    "                consec = 1\n",
    "            \n",
    "            start = index + len(word)\n",
    "            res = max(res, consec)\n",
    "        \n",
    "        return res\n",
    "            \n",
    "Solution().maxRepeating(sequence = \"ababc\", word = \"ab\")   "
   ]
  },
  {
   "cell_type": "markdown",
   "metadata": {},
   "source": [
    "### Minimum Initial Energy to Finish Tasks\n",
    "\n",
    "\n",
    "* actuali is the actual amount of energy you spend to finish the ith task.\n",
    "* minimumi is the minimum amount of energy you require to begin the ith task.\n",
    "\n",
    "For example, if the task is [10, 12] and your current energy is 11, you cannot start this task. However, if your current energy is 13, you can complete this task, and your energy will be 3 after finishing it.\n",
    "\n",
    "You can finish the tasks in any order you like.\n",
    "\n",
    "Return the minimum initial amount of energy you will need to finish all the tasks."
   ]
  },
  {
   "cell_type": "code",
   "execution_count": 6,
   "metadata": {},
   "outputs": [
    {
     "data": {
      "text/plain": [
       "8"
      ]
     },
     "execution_count": 6,
     "metadata": {},
     "output_type": "execute_result"
    }
   ],
   "source": [
    "class Solution:\n",
    "    def minimumEffort(self, tasks) -> int:\n",
    "        tasks = sorted(tasks, key=lambda x:(x[1]-x[0]), reverse=True)\n",
    "        res = 0\n",
    "        energy = 0\n",
    "        for a, m in tasks:\n",
    "            if energy < m:\n",
    "                res += m - energy\n",
    "                energy = m\n",
    "            energy -= a\n",
    "            \n",
    "        \n",
    "        return res\n",
    "\n",
    "Solution().minimumEffort(tasks = [[1,2],[2,4],[4,8]])"
   ]
  },
  {
   "cell_type": "markdown",
   "metadata": {},
   "source": [
    "### Ways to Make a Fair Array\n",
    "\n",
    "You are given an integer array nums. You can choose exactly one index (0-indexed) and remove the element. Notice that the index of the elements may change after the removal.\n",
    "\n",
    "For example, if nums = [6,1,7,4,1]:\n",
    "\n",
    "* Choosing to remove index 1 results in nums = [6,7,4,1].\n",
    "* Choosing to remove index 2 results in nums = [6,1,4,1].\n",
    "* Choosing to remove index 4 results in nums = [6,1,7,4].\n",
    "* An array is fair if the sum of the odd-indexed values equals the sum of the even-indexed values.\n",
    "\n",
    "Return the number of indices that you could choose such that after the removal, nums is fair."
   ]
  },
  {
   "cell_type": "code",
   "execution_count": 7,
   "metadata": {},
   "outputs": [
    {
     "data": {
      "text/plain": [
       "1"
      ]
     },
     "execution_count": 7,
     "metadata": {},
     "output_type": "execute_result"
    }
   ],
   "source": [
    "class Solution:\n",
    "    def waysToMakeFair(self, nums) -> int:\n",
    "        odd_sum = 0\n",
    "        even_sum = 0\n",
    "        hm = {}\n",
    "        res = 0\n",
    "        \n",
    "        for i in range(len(nums)-1, -1, -1):\n",
    "            hm[i] = (even_sum, odd_sum)\n",
    "            if i%2 == 0:\n",
    "                even_sum += nums[i]\n",
    "            else:\n",
    "                odd_sum += nums[i]\n",
    "        \n",
    "        even_sum_left = 0\n",
    "        odd_sum_left = 0\n",
    "        \n",
    "        for i in range(len(nums)):\n",
    "            even_sum_right, odd_sum_right = hm[i]\n",
    "            if even_sum_left + odd_sum_right == even_sum_right + odd_sum_left:\n",
    "                res += 1\n",
    "            if i%2 == 0:\n",
    "                even_sum_left += nums[i]\n",
    "            else:\n",
    "                odd_sum_left += nums[i]\n",
    "        \n",
    "        return res\n",
    "        \n",
    "Solution().waysToMakeFair(nums = [2,1,6,4])"
   ]
  },
  {
   "cell_type": "markdown",
   "metadata": {},
   "source": [
    "### Smallest String With A Given Numeric Value\n",
    "\n",
    "The numeric value of a lowercase character is defined as its position (1-indexed) in the alphabet, so the numeric value of a is 1, the numeric value of b is 2, the numeric value of c is 3, and so on.\n",
    "\n",
    "The numeric value of a string consisting of lowercase characters is defined as the sum of its characters' numeric values. For example, the numeric value of the string \"abe\" is equal to 1 + 2 + 5 = 8.\n",
    "\n",
    "You are given two integers n and k. Return the lexicographically smallest string with length equal to n and numeric value equal to k.\n",
    "\n",
    "Note that a string x is lexicographically smaller than string y if x comes before y in dictionary order, that is, either x is a prefix of y, or if i is the first position such that x[i] != y[i], then x[i] comes before y[i] in alphabetic order."
   ]
  },
  {
   "cell_type": "code",
   "execution_count": 9,
   "metadata": {},
   "outputs": [
    {
     "data": {
      "text/plain": [
       "'aay'"
      ]
     },
     "execution_count": 9,
     "metadata": {},
     "output_type": "execute_result"
    }
   ],
   "source": [
    "class Solution:\n",
    "    def getSmallestString(self, n: int, k: int) -> str:\n",
    "        arr = \"abcdefghijklmnopqrstuvwxyz\"\n",
    "        string = \"\"\n",
    "        while n > 0:\n",
    "            val = min(k - n + 1, 26)\n",
    "            string += arr[val-1]\n",
    "            k -= val\n",
    "            n -= 1\n",
    "        \n",
    "        return string[::-1]\n",
    "        \n",
    "Solution().getSmallestString(3, 27)"
   ]
  },
  {
   "cell_type": "markdown",
   "metadata": {},
   "source": [
    "### Check If Two String Arrays are Equivalent\n",
    "\n",
    "Given two string arrays word1 and word2, return true if the two arrays represent the same string, and false otherwise.\n",
    "\n",
    "A string is represented by an array if the array elements concatenated in order forms the string."
   ]
  },
  {
   "cell_type": "code",
   "execution_count": 11,
   "metadata": {},
   "outputs": [
    {
     "data": {
      "text/plain": [
       "True"
      ]
     },
     "execution_count": 11,
     "metadata": {},
     "output_type": "execute_result"
    }
   ],
   "source": [
    "class Solution:\n",
    "    def arrayStringsAreEqual(self, word1, word2) -> bool:\n",
    "        idx1 = idx2 = 0\n",
    "        i = j = 0\n",
    "        \n",
    "        while idx1 < len(word1) and idx2 < len(word2):\n",
    "            w1 = word1[idx1]\n",
    "            w2 = word2[idx2]\n",
    "            \n",
    "            while i < len(w1) and j <len(w2):\n",
    "                if w1[i] != w2[j]:\n",
    "                    return False\n",
    "                i += 1\n",
    "                j += 1\n",
    "            \n",
    "            if i == len(w1):\n",
    "                i = 0\n",
    "                idx1 += 1\n",
    "            \n",
    "            if j == len(w2):\n",
    "                j = 0\n",
    "                idx2 += 1\n",
    "        \n",
    "        return idx1 == len(word1) and idx2 == len(word2)\n",
    "    \n",
    "Solution().arrayStringsAreEqual(word1  = [\"abc\", \"d\", \"defg\"], word2 = [\"abcddefg\"])"
   ]
  }
 ],
 "metadata": {
  "kernelspec": {
   "display_name": "Python 3",
   "language": "python",
   "name": "python3"
  },
  "language_info": {
   "codemirror_mode": {
    "name": "ipython",
    "version": 3
   },
   "file_extension": ".py",
   "mimetype": "text/x-python",
   "name": "python",
   "nbconvert_exporter": "python",
   "pygments_lexer": "ipython3",
   "version": "3.8.3"
  }
 },
 "nbformat": 4,
 "nbformat_minor": 2
}
