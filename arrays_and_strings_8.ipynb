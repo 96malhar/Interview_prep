{
 "cells": [
  {
   "cell_type": "markdown",
   "metadata": {},
   "source": [
    "### Distribute Candies to People\n",
    "\n",
    "We distribute some number of candies, to a row of n = num_people people in the following way:\n",
    "\n",
    "We then give 1 candy to the first person, 2 candies to the second person, and so on until we give n candies to the last person.\n",
    "\n",
    "Then, we go back to the start of the row, giving n + 1 candies to the first person, n + 2 candies to the second person, and so on until we give 2 * n candies to the last person.\n",
    "\n",
    "This process repeats (with us giving one more candy each time, and moving to the start of the row after we reach the end) until we run out of candies.  The last person will receive all of our remaining candies (not necessarily one more than the previous gift).\n",
    "\n",
    "Return an array (of length num_people and sum candies) that represents the final distribution of candies."
   ]
  },
  {
   "cell_type": "code",
   "execution_count": 2,
   "metadata": {},
   "outputs": [
    {
     "data": {
      "text/plain": [
       "[1, 2, 3, 1]"
      ]
     },
     "execution_count": 2,
     "metadata": {},
     "output_type": "execute_result"
    }
   ],
   "source": [
    "class Solution:\n",
    "    def distributeCandies(self, candies: int, num_people: int):\n",
    "        multiplier = 0\n",
    "        additive = 1\n",
    "        i = 0\n",
    "        res = [0] * num_people\n",
    "        while True:\n",
    "            \n",
    "            while i < num_people:\n",
    "                give = min(candies, multiplier*num_people+additive)\n",
    "                res[i] += give\n",
    "                candies -= give\n",
    "                if candies == 0:\n",
    "                    return res\n",
    "                additive += 1\n",
    "                i += 1\n",
    "                \n",
    "            i = 0\n",
    "            additive = 1\n",
    "            multiplier += 1\n",
    "\n",
    "Solution().distributeCandies(7, 4)"
   ]
  },
  {
   "cell_type": "markdown",
   "metadata": {},
   "source": [
    "### Strings Differ by One Character\n",
    "\n",
    "Given a list of strings dict where all the strings are of the same length.\n",
    "\n",
    "Return True if there are 2 strings that only differ by 1 character in the same index, otherwise return False.\n",
    "\n",
    "Follow up: Could you solve this problem in O(n*m) where n is the length of dict and m is the length of each string."
   ]
  },
  {
   "cell_type": "code",
   "execution_count": 2,
   "metadata": {},
   "outputs": [
    {
     "data": {
      "text/plain": [
       "True"
      ]
     },
     "execution_count": 2,
     "metadata": {},
     "output_type": "execute_result"
    }
   ],
   "source": [
    "def differByOne(dict) -> bool:\n",
    "    hashset = set()\n",
    "    for word in dict:\n",
    "        for i in range(len(word)):\n",
    "            new_word = word[:i] + '*' + word[i+1:]\n",
    "            if new_word in hashset:\n",
    "                return True\n",
    "            hashset.add(new_word)\n",
    "    return False\n",
    "\n",
    "differByOne(dict = [\"abcd\",\"acbd\", \"aacd\"])"
   ]
  },
  {
   "cell_type": "markdown",
   "metadata": {},
   "source": [
    "### Maximum Number of Coins You Can Get\n",
    "\n",
    "There are 3n piles of coins of varying size, you and your friends will take piles of coins as follows:\n",
    "\n",
    "1. In each step, you will choose any 3 piles of coins (not necessarily consecutive).\n",
    "Of your choice, Alice will pick the pile with the maximum number of coins.\n",
    "2. You will pick the next pile with maximum number of coins.\n",
    "3. Your friend Bob will pick the last pile.\n",
    "4. Repeat until there are no more piles of coins.\n",
    "\n",
    "Given an array of integers piles where piles[i] is the number of coins in the ith pile.\n",
    "\n",
    "Return the maximum number of coins which you can have."
   ]
  },
  {
   "cell_type": "code",
   "execution_count": 3,
   "metadata": {},
   "outputs": [
    {
     "data": {
      "text/plain": [
       "9"
      ]
     },
     "execution_count": 3,
     "metadata": {},
     "output_type": "execute_result"
    }
   ],
   "source": [
    "def maxCoins(piles) -> int:\n",
    "    piles.sort()\n",
    "    bob = 0; \n",
    "    me = len(piles)-2\n",
    "    total = 0\n",
    "\n",
    "    while bob < me:\n",
    "        total += piles[me]\n",
    "        me -= 2\n",
    "        bob += 1\n",
    "\n",
    "    return total\n",
    "\n",
    "maxCoins(piles = [2,4,1,2,7,8])"
   ]
  },
  {
   "cell_type": "markdown",
   "metadata": {},
   "source": [
    "### Find And Replace in String\n",
    "\n",
    "To some string S, we will perform some replacement operations that replace groups of letters with new ones (not necessarily the same size).\n",
    "\n",
    "Each replacement operation has 3 parameters: a starting index i, a source word x and a target word y.  The rule is that if x starts at position i in the original string S, then we will replace that occurrence of x with y.  If not, we do nothing.\n",
    "\n",
    "For example, if we have S = \"abcd\" and we have some replacement operation i = 2, x = \"cd\", y = \"ffff\", then because \"cd\" starts at position 2 in the original string S, we will replace it with \"ffff\".\n",
    "\n",
    "Using another example on S = \"abcd\", if we have both the replacement operation i = 0, x = \"ab\", y = \"eee\", as well as another replacement operation i = 2, x = \"ec\", y = \"ffff\", this second operation does nothing because in the original string S[2] = 'c', which doesn't match x[0] = 'e'.\n",
    "\n",
    "All these operations occur simultaneously.  It's guaranteed that there won't be any overlap in replacement: for example, S = \"abc\", indexes = [0, 1], sources = [\"ab\",\"bc\"] is not a valid test case.\n",
    "\n"
   ]
  },
  {
   "cell_type": "code",
   "execution_count": 4,
   "metadata": {},
   "outputs": [
    {
     "data": {
      "text/plain": [
       "'eeebffff'"
      ]
     },
     "execution_count": 4,
     "metadata": {},
     "output_type": "execute_result"
    }
   ],
   "source": [
    "class Solution:\n",
    "    def findReplaceString(self, S: str, indexes, sources, targets) -> str:\n",
    "        match = {}\n",
    "        \n",
    "        for i in range(len(indexes)):\n",
    "            idx = indexes[i]\n",
    "            source_str = sources[i]\n",
    "            target_str = targets[i]\n",
    "            if S[idx:].startswith(source_str):\n",
    "                match[idx] = (source_str, target_str)\n",
    "        \n",
    "        res = \"\"\n",
    "        idx = 0\n",
    "        while idx < len(S):\n",
    "            if idx not in match:\n",
    "                res += S[idx]\n",
    "                idx += 1\n",
    "            else:\n",
    "                source_str, target_str = match[idx]\n",
    "                res += target_str\n",
    "                idx += len(source_str)\n",
    "        \n",
    "        return res\n",
    "                \n",
    "Solution().findReplaceString(S = \"abcd\", indexes = [0,2], sources = [\"a\",\"cd\"], targets = [\"eee\",\"ffff\"])     "
   ]
  },
  {
   "cell_type": "markdown",
   "metadata": {},
   "source": [
    "### Replace All ?'s to Avoid Consecutive Repeating Characters\n",
    "\n",
    "Given a string s containing only lower case English letters and the '?' character, convert all the '?' characters into lower case letters such that the final string does not contain any consecutive repeating characters. You cannot modify the non '?' characters.\n",
    "\n",
    "It is guaranteed that there are no consecutive repeating characters in the given string except for '?'.\n",
    "\n",
    "Return the final string after all the conversions (possibly zero) have been made. If there is more than one solution, return any of them. It can be shown that an answer is always possible with the given constraints.\n",
    "\n",
    " "
   ]
  },
  {
   "cell_type": "code",
   "execution_count": 6,
   "metadata": {},
   "outputs": [
    {
     "data": {
      "text/plain": [
       "'caywcipkjc'"
      ]
     },
     "execution_count": 6,
     "metadata": {},
     "output_type": "execute_result"
    }
   ],
   "source": [
    "import random\n",
    "class Solution:\n",
    "    def modifyString(self, s: str) -> str:\n",
    "        chars = list('abc')\n",
    "        stack = []\n",
    "        \n",
    "        for i, ch in enumerate(s):\n",
    "            if ch.isalpha():\n",
    "                stack.append(ch)\n",
    "            \n",
    "            else:\n",
    "                if not stack:\n",
    "                    curr = random.choice(chars)\n",
    "                    while i<len(s)-1 and s[i+1].isalpha() and s[i+1] == curr:\n",
    "                        curr = random.choice(chars)\n",
    "                    stack.append(curr)\n",
    "\n",
    "                else:\n",
    "                    prev = stack[-1]\n",
    "                    curr = random.choice(chars)\n",
    "                    while prev == curr or (i < len(s)-1 and s[i+1].isalpha() and s[i+1] == curr):\n",
    "                        curr = random.choice(chars)\n",
    "                    stack.append(curr)\n",
    "        \n",
    "        return ''.join(stack)\n",
    "                \n",
    "Solution().modifyString(s = \"??yw?ipkj?\")"
   ]
  },
  {
   "cell_type": "markdown",
   "metadata": {},
   "source": [
    "### Put Boxes Into the Warehouse II\n",
    "\n",
    "You are given two arrays of positive integers, boxes and warehouse, representing the heights of some boxes of unit width and the heights of n rooms in a warehouse respectively. The warehouse's rooms are labeled from 0 to n - 1 from left to right where warehouse[i] (0-indexed) is the height of the ith room.\n",
    "\n",
    "Boxes are put into the warehouse by the following rules:\n",
    "\n",
    "1. Boxes cannot be stacked.\n",
    "2. You can rearrange the insertion order of the boxes.\n",
    "3. Boxes can be pushed into the warehouse from either side (left or right)\n",
    "4. If the height of some room in the warehouse is less than the height of a box, then that box and all other boxes behind it will be stopped before that room.\n",
    "7. Return the maximum number of boxes you can put into the warehouse."
   ]
  },
  {
   "cell_type": "code",
   "execution_count": 7,
   "metadata": {},
   "outputs": [
    {
     "data": {
      "text/plain": [
       "4"
      ]
     },
     "execution_count": 7,
     "metadata": {},
     "output_type": "execute_result"
    }
   ],
   "source": [
    "def maxBoxesInWarehouse(boxes, warehouse) -> int:\n",
    "    boxes.sort()\n",
    "    p1 = 0; p2 = len(warehouse)-1\n",
    "    i = len(boxes)-1\n",
    "    res = 0\n",
    "\n",
    "    while p1 <= p2 and i>=0:\n",
    "        if boxes[i] <= warehouse[p1]:\n",
    "            p1 += 1\n",
    "            res += 1\n",
    "        elif boxes[i] <= warehouse[p2]:\n",
    "            p2 -= 1\n",
    "            res += 1\n",
    "        i -= 1\n",
    "\n",
    "    return res\n",
    "\n",
    "maxBoxesInWarehouse(boxes = [1,2,2,3,4], warehouse = [3,4,1,2])"
   ]
  },
  {
   "cell_type": "markdown",
   "metadata": {},
   "source": [
    "### Length of Last Word\n",
    "\n",
    "Given a string s consists of upper/lower-case alphabets and empty space characters ' ', return the length of last word (last word means the last appearing word if we loop from left to right) in the string.\n",
    "\n",
    "If the last word does not exist, return 0.\n",
    "\n",
    "Note: A word is defined as a maximal substring consisting of non-space characters only."
   ]
  },
  {
   "cell_type": "code",
   "execution_count": 11,
   "metadata": {},
   "outputs": [
    {
     "data": {
      "text/plain": [
       "5"
      ]
     },
     "execution_count": 11,
     "metadata": {},
     "output_type": "execute_result"
    }
   ],
   "source": [
    "def lengthOfLastWord(s: str) -> int:\n",
    "    i = len(s)-1\n",
    "    while i>=0 and s[i] == \" \":\n",
    "        i -= 1\n",
    "\n",
    "    end = i\n",
    "    while i>=0 and s[i].isalpha():\n",
    "        i -= 1\n",
    "    start = i+1\n",
    "\n",
    "    return end-start+1\n",
    "\n",
    "lengthOfLastWord(\"Hello World\")"
   ]
  }
 ],
 "metadata": {
  "kernelspec": {
   "display_name": "Python 3",
   "language": "python",
   "name": "python3"
  },
  "language_info": {
   "codemirror_mode": {
    "name": "ipython",
    "version": 3
   },
   "file_extension": ".py",
   "mimetype": "text/x-python",
   "name": "python",
   "nbconvert_exporter": "python",
   "pygments_lexer": "ipython3",
   "version": "3.6.8"
  }
 },
 "nbformat": 4,
 "nbformat_minor": 2
}
