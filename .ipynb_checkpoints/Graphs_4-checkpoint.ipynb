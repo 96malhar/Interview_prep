{
 "cells": [
  {
   "cell_type": "markdown",
   "metadata": {},
   "source": [
    "### Shortest Path with Alternating Colors\n",
    "\n",
    "Consider a directed graph, with nodes labelled 0, 1, ..., n-1.  In this graph, each edge is either red or blue, and there could be self-edges or parallel edges.\n",
    "\n",
    "Each [i, j] in red_edges denotes a red directed edge from node i to node j.  Similarly, each [i, j] in blue_edges denotes a blue directed edge from node i to node j.\n",
    "\n",
    "Return an array answer of length n, where each answer[X] is the length of the shortest path from node 0 to node X such that the edge colors alternate along the path (or -1 if such a path doesn't exist).\n",
    "\n",
    " "
   ]
  },
  {
   "cell_type": "code",
   "execution_count": 5,
   "metadata": {},
   "outputs": [
    {
     "data": {
      "text/plain": [
       "[0, 1, 1]"
      ]
     },
     "execution_count": 5,
     "metadata": {},
     "output_type": "execute_result"
    }
   ],
   "source": [
    "from collections import defaultdict, deque\n",
    "class Solution:\n",
    "    def shortestAlternatingPaths(self, n: int, red_edges, blue_edges):\n",
    "        graph_red = defaultdict(list)\n",
    "        graph_blue = defaultdict(list)\n",
    "        \n",
    "        for x, y in red_edges:\n",
    "            graph_red[x].append(y)\n",
    "        \n",
    "        for x, y in blue_edges:\n",
    "            graph_blue[x].append(y)\n",
    "            \n",
    "        queue = deque()\n",
    "        queue.append((0, 'R'))\n",
    "        queue.append((0, 'B'))\n",
    "        seen = {(0, 'R'), (0, 'B')}\n",
    "        ans = [float('inf')]*n\n",
    "        \n",
    "        dist = 0\n",
    "        while queue:\n",
    "            size = len(queue)\n",
    "            for _ in range(size):\n",
    "                node, last_color = queue.popleft()\n",
    "                ans[node] = min(dist, ans[node])\n",
    "                \n",
    "                new_color = 'B' if 'B' != last_color else 'R'\n",
    "                graph = graph_blue if new_color == 'B' else graph_red\n",
    "                \n",
    "                for new_node in graph[node]:\n",
    "                    if (new_node, new_color) not in seen:\n",
    "                        seen.add((new_node, new_color))\n",
    "                        queue.append((new_node, new_color))\n",
    "            \n",
    "            dist += 1\n",
    "        \n",
    "        for i in range(len(ans)):\n",
    "            if ans[i] == float('inf'):\n",
    "                ans[i] = -1\n",
    "            \n",
    "        return ans\n",
    "                \n",
    "                \n",
    "Solution().shortestAlternatingPaths(n = 3, red_edges = [[0,1],[0,2]], blue_edges = [[1,0]])"
   ]
  },
  {
   "cell_type": "markdown",
   "metadata": {},
   "source": [
    "### Minimum Number of Vertices to Reach All Nodes\n",
    "\n",
    "Given a directed acyclic graph, with n vertices numbered from 0 to n-1, and an array edges where edges[i] = [fromi, toi] represents a directed edge from node fromi to node toi.\n",
    "\n",
    "Find the smallest set of vertices from which all nodes in the graph are reachable. It's guaranteed that a unique solution exists.\n",
    "\n",
    "Notice that you can return the vertices in any order."
   ]
  },
  {
   "cell_type": "code",
   "execution_count": 7,
   "metadata": {},
   "outputs": [
    {
     "data": {
      "text/plain": [
       "[0, 3]"
      ]
     },
     "execution_count": 7,
     "metadata": {},
     "output_type": "execute_result"
    }
   ],
   "source": [
    "from collections import Counter\n",
    "def findSmallestSetOfVertices(n: int, edges):\n",
    "    indegree = Counter()\n",
    "    for x, y in edges:\n",
    "        indegree[y] += 1\n",
    "\n",
    "    return [node for node in range(n) if indegree[node] == 0]\n",
    "\n",
    "findSmallestSetOfVertices(n = 6, edges = [[0,1],[0,2],[2,5],[3,4],[4,2]])"
   ]
  },
  {
   "cell_type": "markdown",
   "metadata": {},
   "source": [
    "### Detect Cycles in 2D Grid\n",
    "\n",
    "Given a 2D array of characters grid of size m x n, you need to find if there exists any cycle consisting of the same value in grid.\n",
    "\n",
    "A cycle is a path of length 4 or more in the grid that starts and ends at the same cell. From a given cell, you can move to one of the cells adjacent to it - in one of the four directions (up, down, left, or right), if it has the same value of the current cell.\n",
    "\n",
    "Also, you cannot move to the cell that you visited in your last move. For example, the cycle (1, 1) -> (1, 2) -> (1, 1) is invalid because from (1, 2) we visited (1, 1) which was the last visited cell.\n",
    "\n",
    "Return true if any cycle of the same value exists in grid, otherwise, return false."
   ]
  },
  {
   "cell_type": "code",
   "execution_count": 8,
   "metadata": {},
   "outputs": [
    {
     "data": {
      "text/plain": [
       "True"
      ]
     },
     "execution_count": 8,
     "metadata": {},
     "output_type": "execute_result"
    }
   ],
   "source": [
    "class Solution:\n",
    "    def containsCycle(self, grid) -> bool:\n",
    "        state = {}\n",
    "        for i in range(len(grid)):\n",
    "            for j in range(len(grid[0])):\n",
    "                if (i,j) not in state and self.hasCycle(i, j, grid, state, -1, -1):\n",
    "                    return True\n",
    "        \n",
    "        return False\n",
    "    \n",
    "    def hasCycle(self, i, j, grid, state, pi, pj):\n",
    "        state[(i,j)] = 'visiting'\n",
    "        \n",
    "        for x, y in [(i+1,j), (i,j+1), (i-1,j), (i,j-1)]:\n",
    "            if 0<=x<len(grid) and 0<=y<len(grid[0]) and (x,y) != (pi,pj) and grid[x][y] == grid[i][j]:\n",
    "                \n",
    "                if (x,y) not in state and self.hasCycle(x, y, grid, state, i, j):\n",
    "                    return True\n",
    "                \n",
    "                if state[(x,y)] == 'visiting':\n",
    "                    return True\n",
    "        \n",
    "        state[(i,j)] = 'visited'\n",
    "        return False\n",
    "                \n",
    "grid = [[\"c\",\"c\",\"c\",\"a\"],[\"c\",\"d\",\"c\",\"c\"],[\"c\",\"c\",\"e\",\"c\"],[\"f\",\"c\",\"c\",\"c\"]]\n",
    "Solution().containsCycle(grid)"
   ]
  },
  {
   "cell_type": "markdown",
   "metadata": {},
   "source": [
    "### Find Latest Group of Size M\n",
    "\n",
    "Given an array arr that represents a permutation of numbers from 1 to n. You have a binary string of size n that initially has all its bits set to zero.\n",
    "\n",
    "At each step i (assuming both the binary string and arr are 1-indexed) from 1 to n, the bit at position arr[i] is set to 1. You are given an integer m and you need to find the latest step at which there exists a group of ones of length m. A group of ones is a contiguous substring of 1s such that it cannot be extended in either direction.\n",
    "\n",
    "Return the latest step at which there exists a group of ones of length exactly m. If no such group exists, return -1."
   ]
  },
  {
   "cell_type": "code",
   "execution_count": 10,
   "metadata": {},
   "outputs": [
    {
     "data": {
      "text/plain": [
       "4"
      ]
     },
     "execution_count": 10,
     "metadata": {},
     "output_type": "execute_result"
    }
   ],
   "source": [
    "class Solution:\n",
    "    def findLatestStep(self, arr, m: int) -> int:\n",
    "        n = len(arr)\n",
    "        uf = UnionFind(n)\n",
    "        res = [0]*n\n",
    "        ans = -1\n",
    "        for i in range(n):\n",
    "            step = i+1\n",
    "            index = arr[i]-1\n",
    "            res[index] = 1\n",
    "            uf.size[index] = 1\n",
    "            uf.count[1] += 1\n",
    "            \n",
    "            if index-1 >= 0 and res[index-1] == 1:\n",
    "                uf.union(index-1, index)\n",
    "            \n",
    "            if index+1 < n and res[index+1] == 1:\n",
    "                uf.union(index, index+1)\n",
    "            \n",
    "            if uf.count[m] > 0:\n",
    "                ans = step\n",
    "        \n",
    "        return ans\n",
    "            \n",
    "class UnionFind:\n",
    "    def __init__(self, n):\n",
    "        self.parent = list(range(n))\n",
    "        self.size = [0]*n\n",
    "        self.count = Counter()\n",
    "        \n",
    "    def union(self, x, y):\n",
    "        rootx = self.find(x)\n",
    "        rooty = self.find(y)\n",
    "        \n",
    "        if rootx == rooty:\n",
    "            return False\n",
    "        \n",
    "        size_x = self.size[rootx]\n",
    "        size_y = self.size[rooty]\n",
    "        \n",
    "        self.count[size_x] -= 1\n",
    "        self.count[size_y] -= 1\n",
    "        \n",
    "        new_size = size_x + size_y\n",
    "        \n",
    "        self.parent[rooty] = rootx\n",
    "        self.size[rootx] = new_size\n",
    "        self.count[new_size] += 1\n",
    "        \n",
    "        return True\n",
    "    \n",
    "    def find(self, x):\n",
    "        while x != self.parent[x]:\n",
    "            self.parent[x] = self.parent[self.parent[x]]\n",
    "            x = self.parent[x]\n",
    "        return x\n",
    "\n",
    "Solution().findLatestStep(arr = [3,5,1,2,4], m = 1)"
   ]
  },
  {
   "cell_type": "markdown",
   "metadata": {},
   "source": [
    "### Largest Component Size by Common Factor\n",
    "\n",
    "Given a non-empty array of unique positive integers A, consider the following graph:\n",
    "\n",
    "* There are A.length nodes, labelled A[0] to A[A.length - 1];\n",
    "* There is an edge between A[i] and A[j] if and only if A[i] and A[j] share a common factor greater than 1.\n",
    "\n",
    "Return the size of the largest connected component in the graph."
   ]
  },
  {
   "cell_type": "code",
   "execution_count": 12,
   "metadata": {},
   "outputs": [
    {
     "data": {
      "text/plain": [
       "8"
      ]
     },
     "execution_count": 12,
     "metadata": {},
     "output_type": "execute_result"
    }
   ],
   "source": [
    "import math\n",
    "class Solution:\n",
    "    def largestComponentSize(self, A) -> int:\n",
    "        graph = defaultdict(list)\n",
    "        uf = UnionFind(len(A))\n",
    "        \n",
    "        for i, num in enumerate(A):\n",
    "            prime_factors = self.get_prime_factors(num)\n",
    "            for factor in prime_factors:\n",
    "                graph[factor].append(i)\n",
    "        \n",
    "        for factor in graph:\n",
    "            indices = graph[factor]\n",
    "            for i in range(len(indices)-1):\n",
    "                uf.union(indices[i], indices[i+1])\n",
    "        \n",
    "        counter = Counter()\n",
    "        for i in range(len(A)):\n",
    "            root = uf.find(i)\n",
    "            counter[root] += 1\n",
    "        \n",
    "        return max(counter.values())\n",
    "        \n",
    "    def get_prime_factors(self, n):\n",
    "        for i in range(2, int(math.sqrt(n))+1):\n",
    "            if n % i == 0:\n",
    "                return self.get_prime_factors(n//i) | set([i])\n",
    "        return {n}\n",
    "\n",
    "class UnionFind:\n",
    "    def __init__(self, n):\n",
    "        self.parent = list(range(n))\n",
    "    \n",
    "    def union(self, x, y):\n",
    "        rootx = self.find(x)\n",
    "        rooty = self.find(y)\n",
    "        if rootx == rooty:\n",
    "            return False\n",
    "        self.parent[rooty] = rootx\n",
    "        return True\n",
    "    \n",
    "    def find(self, x):\n",
    "        while x != self.parent[x]:\n",
    "            self.parent[x] = self.parent[self.parent[x]]\n",
    "            x = self.parent[x]\n",
    "        return x\n",
    "        \n",
    "Solution().largestComponentSize([2,3,6,7,4,12,21,39])"
   ]
  },
  {
   "cell_type": "markdown",
   "metadata": {},
   "source": [
    "### Minimum Number of Days to Disconnect Island\n",
    "\n",
    "Given a 2D grid consisting of 1s (land) and 0s (water).  An island is a maximal 4-directionally (horizontal or vertical) connected group of 1s.\n",
    "\n",
    "The grid is said to be connected if we have exactly one island, otherwise is said disconnected.\n",
    "\n",
    "In one day, we are allowed to change any single land cell (1) into a water cell (0).\n",
    "\n",
    "Return the minimum number of days to disconnect the grid."
   ]
  },
  {
   "cell_type": "code",
   "execution_count": 15,
   "metadata": {},
   "outputs": [
    {
     "data": {
      "text/plain": [
       "2"
      ]
     },
     "execution_count": 15,
     "metadata": {},
     "output_type": "execute_result"
    }
   ],
   "source": [
    "class Solution:\n",
    "    def minDays(self, grid) -> int:\n",
    "        num_cc = self.dfs(grid)\n",
    "        \n",
    "        if num_cc != 1:\n",
    "            return 0\n",
    "        \n",
    "        for i in range(len(grid)):\n",
    "            for j in range(len(grid[0])):\n",
    "                if grid[i][j] == 1:\n",
    "                    grid[i][j] = 0\n",
    "                    num_cc = self.dfs(grid)\n",
    "                    if num_cc != 1:\n",
    "                        return 1\n",
    "                    grid[i][j] = 1\n",
    "        \n",
    "        return 2\n",
    "    \n",
    "    def dfs(self, grid):\n",
    "        seen = set()\n",
    "        num_cc = 0\n",
    "        \n",
    "        for i in range(len(grid)):\n",
    "            for j in range(len(grid[0])):\n",
    "                if grid[i][j] == 1 and (i,j) not in seen:\n",
    "                    num_cc += 1\n",
    "                    self.helper(i, j, seen, grid)\n",
    "        \n",
    "        return num_cc\n",
    "    \n",
    "    def helper(self, i, j, seen, grid):\n",
    "        seen.add((i,j))\n",
    "        for x, y in [(i+1,j), (i,j+1), (i-1,j), (i,j-1)]:\n",
    "            if 0<=x<len(grid) and 0<=y<len(grid[0]) and (x, y) not in seen and grid[x][y] == 1:\n",
    "                self.helper(x, y, seen, grid)\n",
    "        \n",
    "\n",
    "Solution().minDays(grid = [[0,1,1,0],[0,1,1,0],[0,0,0,0]])"
   ]
  },
  {
   "cell_type": "markdown",
   "metadata": {},
   "source": [
    "### Remove Max Number of Edges to Keep Graph Fully Traversable\n",
    "\n",
    "Alice and Bob have an undirected graph of n nodes and 3 types of edges:\n",
    "\n",
    "* Type 1: Can be traversed by Alice only.\n",
    "* Type 2: Can be traversed by Bob only.\n",
    "* Type 3: Can by traversed by both Alice and Bob.\n",
    "\n",
    "Given an array edges where edges[i] = [typei, ui, vi] represents a bidirectional edge of type typei between nodes ui and vi, find the maximum number of edges you can remove so that after removing the edges, the graph can still be fully traversed by both Alice and Bob. The graph is fully traversed by Alice and Bob if starting from any node, they can reach all other nodes.\n",
    "\n",
    "Return the maximum number of edges you can remove, or return -1 if it's impossible for the graph to be fully traversed by Alice and Bob."
   ]
  },
  {
   "cell_type": "code",
   "execution_count": 17,
   "metadata": {},
   "outputs": [
    {
     "data": {
      "text/plain": [
       "2"
      ]
     },
     "execution_count": 17,
     "metadata": {},
     "output_type": "execute_result"
    }
   ],
   "source": [
    "class Solution:\n",
    "    def maxNumEdgesToRemove(self, n: int, edges) -> int:\n",
    "        edges.sort(key=lambda x: -x[0])\n",
    "        uf1 = UnionFind(n+1)\n",
    "        uf2 = UnionFind(n+1)\n",
    "        \n",
    "        e1 = e2 = 0\n",
    "        res = 0\n",
    "        \n",
    "        for type_, node1, node2 in edges:\n",
    "            \n",
    "            if type_ == 3:\n",
    "                val1 = uf1.union(node1, node2) \n",
    "                val2 = uf2.union(node1, node2)\n",
    "                res += val1 or val2\n",
    "                e1 += val1\n",
    "                e2 += val2\n",
    "            \n",
    "            if type_ == 1:\n",
    "                val = uf1.union(node1, node2)\n",
    "                res += val\n",
    "                e1 += val\n",
    "            \n",
    "            else:\n",
    "                val = uf2.union(node1, node2)\n",
    "                res += val\n",
    "                e2 += val\n",
    "        \n",
    "        if e1 == e2 == n-1:\n",
    "            return len(edges) - res\n",
    "        return -1\n",
    "    \n",
    "class UnionFind:\n",
    "    def __init__(self, n):\n",
    "        self.parent = list(range(n))\n",
    "    \n",
    "    def union(self, x, y):\n",
    "        rootx = self.find(x)\n",
    "        rooty = self.find(y)\n",
    "        \n",
    "        if rootx == rooty:\n",
    "            return False\n",
    "        \n",
    "        self.parent[rooty] = rootx\n",
    "        return True\n",
    "    \n",
    "    def find(self, x):\n",
    "        while x != self.parent[x]:\n",
    "            self.parent[x] = self.parent[self.parent[x]]\n",
    "            x = self.parent[x]\n",
    "        return x\n",
    "        \n",
    "Solution().maxNumEdgesToRemove(n = 4, edges = [[3,1,2],[3,2,3],[1,1,3],[1,2,4],[1,1,2],[2,3,4]])         "
   ]
  }
 ],
 "metadata": {
  "kernelspec": {
   "display_name": "Python 3",
   "language": "python",
   "name": "python3"
  },
  "language_info": {
   "codemirror_mode": {
    "name": "ipython",
    "version": 3
   },
   "file_extension": ".py",
   "mimetype": "text/x-python",
   "name": "python",
   "nbconvert_exporter": "python",
   "pygments_lexer": "ipython3",
   "version": "3.6.8"
  }
 },
 "nbformat": 4,
 "nbformat_minor": 2
}
