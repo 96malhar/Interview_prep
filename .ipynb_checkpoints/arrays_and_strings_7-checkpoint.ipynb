{
 "cells": [
  {
   "cell_type": "markdown",
   "metadata": {},
   "source": [
    "### Minimum Area Rectangle\n",
    "\n",
    "Given a set of points in the xy-plane, determine the minimum area of a rectangle formed from these points, with sides parallel to the x and y axes.\n",
    "\n",
    "If there isn't any rectangle, return 0."
   ]
  },
  {
   "cell_type": "code",
   "execution_count": 38,
   "metadata": {},
   "outputs": [
    {
     "data": {
      "text/plain": [
       "4"
      ]
     },
     "execution_count": 38,
     "metadata": {},
     "output_type": "execute_result"
    }
   ],
   "source": [
    "from collections import defaultdict\n",
    "class Solution:\n",
    "    def minAreaRect(self, points) -> int:\n",
    "        hm = defaultdict(set)\n",
    "        for x, y in points:\n",
    "            hm[x].add(y)\n",
    "        \n",
    "        ans = float('inf')\n",
    "        for x1 in hm:\n",
    "            for x2 in hm:\n",
    "                if x1 > x2:\n",
    "                    y1_list = hm[x1]\n",
    "                    y2_list = hm[x2]\n",
    "                    for y1, y2 in self.comb(y1_list & y2_list):\n",
    "                        area = abs(y1-y2) * abs(x1-x2)\n",
    "                        ans = min(ans, area)\n",
    "\n",
    "        return ans if ans != float('inf') else 0\n",
    "    \n",
    "    def comb(self, y_list):\n",
    "        y_list = sorted(list(y_list))\n",
    "        for i in range(1, len(y_list)):\n",
    "                yield y_list[i-1], y_list[i]\n",
    " \n",
    "Solution().minAreaRect([[1,1],[1,3],[3,1],[3,3],[2,2]])"
   ]
  },
  {
   "cell_type": "markdown",
   "metadata": {},
   "source": [
    "###  Gray Code\n",
    "\n",
    "The gray code is a binary numeral system where two successive values differ in only one bit.\n",
    "\n",
    "Given a non-negative integer n representing the total number of bits in the code, print the sequence of gray code. A gray code sequence must begin with 0."
   ]
  },
  {
   "cell_type": "code",
   "execution_count": 33,
   "metadata": {},
   "outputs": [
    {
     "data": {
      "text/plain": [
       "[0, 1, 3, 2, 6, 7, 5, 4]"
      ]
     },
     "execution_count": 33,
     "metadata": {},
     "output_type": "execute_result"
    }
   ],
   "source": [
    "def grayCode(n: int):\n",
    "    arr = [0]\n",
    "    for i in range(n):\n",
    "        new_arr = [x|1<<i for x in arr[::-1]]\n",
    "        arr += new_arr\n",
    "    return arr\n",
    "\n",
    "grayCode(3)"
   ]
  },
  {
   "cell_type": "markdown",
   "metadata": {},
   "source": [
    "### Design Twitter\n",
    "\n",
    "Design a simplified version of Twitter where users can post tweets, follow/unfollow another user and is able to see the 10 most recent tweets in the user's news feed. Your design should support the following methods:\n",
    "\n",
    "* postTweet(userId, tweetId): Compose a new tweet.\n",
    "* getNewsFeed(userId): Retrieve the 10 most recent tweet ids in the user's news feed. Each item in the news feed must be posted by users who the user followed or by the user herself. Tweets must be ordered from most recent to least recent.\n",
    "* follow(followerId, followeeId): Follower follows a followee.\n",
    "* unfollow(followerId, followeeId): Follower unfollows a followee."
   ]
  },
  {
   "cell_type": "code",
   "execution_count": 6,
   "metadata": {},
   "outputs": [],
   "source": [
    "from collections import defaultdict\n",
    "from heapq import heappush, heappop\n",
    "class Twitter:\n",
    "\n",
    "    def __init__(self):\n",
    "        \"\"\"\n",
    "        Initialize your data structure here.\n",
    "        \"\"\"\n",
    "        self.graph = defaultdict(set)\n",
    "        self.tweets = defaultdict(list)\n",
    "        self.time = 0\n",
    "        \n",
    "\n",
    "    def postTweet(self, userId: int, tweetId: int):\n",
    "        \"\"\"\n",
    "        Compose a new tweet.\n",
    "        \"\"\"\n",
    "        tweet_list = self.tweets[userId]\n",
    "        heappush(tweet_list, (self.time, tweetId))\n",
    "        self.time += 1\n",
    "        if len(tweet_list)>10:\n",
    "            heappop(tweet_list)\n",
    "        \n",
    "\n",
    "    def getNewsFeed(self, userId: int):\n",
    "        \"\"\"\n",
    "        Retrieve the 10 most recent tweet ids in the user's news feed. \n",
    "        Each item in the news feed must be posted by users who the user followed or by the user herself. \n",
    "        Tweets must be ordered from most recent to least recent.\n",
    "        \"\"\"\n",
    "        heap = []\n",
    "        following = self.graph[userId]\n",
    "        following.add(userId)\n",
    "        for user in following:\n",
    "            for time, tweet_id in self.tweets[user]:\n",
    "                heappush(heap, (time, tweet_id))\n",
    "                if len(heap) > 10:\n",
    "                    heappop(heap)\n",
    "        newsfeed = []\n",
    "        while heap:\n",
    "            newsfeed.append(heappop(heap)[1])\n",
    "        return newsfeed[::-1]\n",
    "            \n",
    "        \n",
    "\n",
    "    def follow(self, followerId: int, followeeId: int):\n",
    "        \"\"\"\n",
    "        Follower follows a followee. If the operation is invalid, it should be a no-op.\n",
    "        \"\"\"\n",
    "        self.graph[followerId].add(followeeId)\n",
    "        \n",
    "\n",
    "    def unfollow(self, followerId: int, followeeId: int):\n",
    "        \"\"\"\n",
    "        Follower unfollows a followee. If the operation is invalid, it should be a no-op.\n",
    "        \"\"\"\n",
    "        self.graph[followerId].discard(followeeId)\n",
    "        \n",
    "        \n",
    "\n",
    "\n",
    "# Your Twitter object will be instantiated and called as such:\n",
    "# obj = Twitter()\n",
    "# obj.postTweet(userId,tweetId)\n",
    "# param_2 = obj.getNewsFeed(userId)\n",
    "# obj.follow(followerId,followeeId)\n",
    "# obj.unfollow(followerId,followeeId)"
   ]
  },
  {
   "cell_type": "markdown",
   "metadata": {},
   "source": [
    "### Longest Well-Performing Interval\n",
    "\n",
    "We are given hours, a list of the number of hours worked per day for a given employee.\n",
    "\n",
    "A day is considered to be a tiring day if and only if the number of hours worked is (strictly) greater than 8.\n",
    "\n",
    "A well-performing interval is an interval of days for which the number of tiring days is strictly larger than the number of non-tiring days.\n",
    "\n",
    "Return the length of the longest well-performing interval."
   ]
  },
  {
   "cell_type": "code",
   "execution_count": 8,
   "metadata": {},
   "outputs": [
    {
     "data": {
      "text/plain": [
       "3"
      ]
     },
     "execution_count": 8,
     "metadata": {},
     "output_type": "execute_result"
    }
   ],
   "source": [
    "def longestWPI(hours) -> int:\n",
    "    hashmap = {}\n",
    "    ans = presum = 0\n",
    "    for i, num in enumerate(hours):\n",
    "        presum += 1 if num > 8 else - 1\n",
    "        if presum >= 1:\n",
    "            ans = i + 1\n",
    "        else:\n",
    "            if presum-1 in hashmap:\n",
    "                ans = max(ans, i-hashmap[presum-1])\n",
    "\n",
    "        if presum not in hashmap:\n",
    "            hashmap[presum] = i\n",
    "    return ans\n",
    "\n",
    "longestWPI([9,9,6,0,6,6,9])"
   ]
  },
  {
   "cell_type": "markdown",
   "metadata": {},
   "source": [
    "### Encode and Decode Strings\n",
    "\n",
    "Design an algorithm to encode a list of strings to a string. The encoded string is then sent over the network and is decoded back to the original list of strings.\n",
    "\n",
    "Machine 1 (sender) has the function:"
   ]
  },
  {
   "cell_type": "code",
   "execution_count": 12,
   "metadata": {},
   "outputs": [
    {
     "data": {
      "text/plain": [
       "['hi', 'hello', 'how', 'are']"
      ]
     },
     "execution_count": 12,
     "metadata": {},
     "output_type": "execute_result"
    }
   ],
   "source": [
    "class Codec:\n",
    "    def encode(self, strs) -> str:\n",
    "        \"\"\"Encodes a list of strings to a single string.\n",
    "        \"\"\"\n",
    "        res = []\n",
    "        for string in strs:\n",
    "            res.append(str(len(string)))\n",
    "            res.append('/')\n",
    "            res.append(string)\n",
    "        return ''.join(res)\n",
    "\n",
    "    def decode(self, s):\n",
    "        \"\"\"Decodes a single string to a list of strings.\n",
    "        \"\"\"\n",
    "        res = []\n",
    "        i = 0\n",
    "        while i<len(s):\n",
    "            slash = s.find('/', i)\n",
    "            size = int(s[i:slash])\n",
    "            i = slash + size + 1\n",
    "            res.append(s[slash+1 : i])   \n",
    "        return res\n",
    "\n",
    "obj = Codec()\n",
    "encoding = obj.encode(['hi', 'hello', 'how', 'are'])\n",
    "obj.decode(encoding)"
   ]
  },
  {
   "cell_type": "markdown",
   "metadata": {},
   "source": [
    "### Count Binary Substrings\n",
    "\n",
    "Give a string s, count the number of non-empty (contiguous) substrings that have the same number of 0's and 1's, and all the 0's and all the 1's in these substrings are grouped consecutively.\n",
    "\n",
    "Substrings that occur multiple times are counted the number of times they occur."
   ]
  },
  {
   "cell_type": "code",
   "execution_count": 14,
   "metadata": {},
   "outputs": [
    {
     "data": {
      "text/plain": [
       "6"
      ]
     },
     "execution_count": 14,
     "metadata": {},
     "output_type": "execute_result"
    }
   ],
   "source": [
    "def countBinarySubstrings(s: str) -> int:\n",
    "    zerocount = onecount = 0; res = 0\n",
    "    for i in range(len(s)):\n",
    "        if i>0 and s[i] != s[i-1]:  \n",
    "            res += min(zerocount, onecount)\n",
    "            if s[i] == '1':\n",
    "                onecount = 0\n",
    "            else:\n",
    "                zerocount = 0\n",
    "        if s[i] == '1':\n",
    "            onecount += 1\n",
    "        else:\n",
    "            zerocount += 1\n",
    "\n",
    "    res += min(zerocount, onecount)\n",
    "    return res\n",
    "\n",
    "countBinarySubstrings(\"00110011\")"
   ]
  },
  {
   "cell_type": "markdown",
   "metadata": {},
   "source": [
    "### Break a Palindrome\n",
    "\n",
    "Given a palindromic string palindrome, replace exactly one character by any lowercase English letter so that the string becomes the lexicographically smallest possible string that isn't a palindrome.\n",
    "\n",
    "After doing so, return the final string.  If there is no way to do so, return the empty string."
   ]
  },
  {
   "cell_type": "code",
   "execution_count": 16,
   "metadata": {},
   "outputs": [
    {
     "data": {
      "text/plain": [
       "'aaccba'"
      ]
     },
     "execution_count": 16,
     "metadata": {},
     "output_type": "execute_result"
    }
   ],
   "source": [
    "def breakPalindrome(palindrome: str) -> str:\n",
    "    if len(palindrome) == 1:\n",
    "        return ''\n",
    "\n",
    "    p = list(palindrome)\n",
    "    for i in range(len(p)//2):\n",
    "        if p[i] != 'a':\n",
    "            p[i] = 'a'\n",
    "            return ''.join(p)\n",
    "\n",
    "    p[-1] = 'b'\n",
    "    return ''.join(p)\n",
    "\n",
    "breakPalindrome(palindrome = \"abccba\")"
   ]
  },
  {
   "cell_type": "markdown",
   "metadata": {},
   "source": [
    "### X of a Kind in a Deck of Cards\n",
    "\n",
    "In a deck of cards, each card has an integer written on it.\n",
    "\n",
    "Return true if and only if you can choose X >= 2 such that it is possible to split the entire deck into 1 or more groups of cards, where:\n",
    "\n",
    "Each group has exactly X cards.\n",
    "All the cards in each group have the same integer."
   ]
  },
  {
   "cell_type": "code",
   "execution_count": 21,
   "metadata": {},
   "outputs": [
    {
     "data": {
      "text/plain": [
       "True"
      ]
     },
     "execution_count": 21,
     "metadata": {},
     "output_type": "execute_result"
    }
   ],
   "source": [
    "from collections import Counter\n",
    "class Solution:\n",
    "    def hasGroupsSizeX(self, deck) -> bool:\n",
    "        counter = Counter(deck)\n",
    "        arr = list(counter.values())\n",
    "        result = arr[0]\n",
    "        for i in range(1, len(arr)):\n",
    "            result = self.gcd(result, arr[i])\n",
    "            if result == 1:\n",
    "                return False\n",
    "        return result > 1\n",
    "    \n",
    "    def gcd(self, a, b):\n",
    "        if a == 0:\n",
    "            return b\n",
    "        return self.gcd(b%a, a)\n",
    "        \n",
    "Solution().hasGroupsSizeX(deck = [1,2,3,4,4,3,2,1])"
   ]
  },
  {
   "cell_type": "markdown",
   "metadata": {},
   "source": [
    "### Maximum Sum of Two Non-Overlapping Subarrays\n",
    "\n",
    "Given an array A of non-negative integers, return the maximum sum of elements in two non-overlapping (contiguous) subarrays, which have lengths L and M.  (For clarification, the L-length subarray could occur before or after the M-length subarray.)\n",
    "\n",
    "Formally, return the largest V for which V = (A[i] + A[i+1] + ... + A[i+L-1]) + (A[j] + A[j+1] + ... + A[j+M-1]) and either:\n",
    "\n",
    "* 0 <= i < i + L - 1 < j < j + M - 1 < A.length, or\n",
    "* 0 <= j < j + M - 1 < i < i + L - 1 < A.length."
   ]
  },
  {
   "cell_type": "code",
   "execution_count": 25,
   "metadata": {},
   "outputs": [
    {
     "data": {
      "text/plain": [
       "31"
      ]
     },
     "execution_count": 25,
     "metadata": {},
     "output_type": "execute_result"
    }
   ],
   "source": [
    "class Solution:\n",
    "    def maxSumTwoNoOverlap(self, A, L: int, M: int) -> int:\n",
    "        res1 = self.helper(A, L, M)\n",
    "        res2 = self.helper(A, M, L)\n",
    "        return max(res1, res2)\n",
    "        \n",
    "    def helper(self, A, L, M):\n",
    "        l_maxtill = [0]*len(A)\n",
    "        m_maxfrom = [0]*len(A)\n",
    "        \n",
    "        lmax = 0; left = 0; lsum = 0\n",
    "        for right in range(len(A)):\n",
    "            lsum += A[right]\n",
    "            if right - left + 1 == L:\n",
    "                lmax = max(lmax, lsum)\n",
    "                l_maxtill[right] = lmax\n",
    "                lsum -= A[left]\n",
    "                left += 1\n",
    "        \n",
    "        mmax = 0; right = len(A)-1; msum = 0\n",
    "        for left in range(len(A)-1, -1, -1):\n",
    "            msum += A[left]\n",
    "            if right - left + 1 == M:\n",
    "                mmax = max(mmax, msum)\n",
    "                m_maxfrom[left] = mmax\n",
    "                msum -= A[right]\n",
    "                right -= 1\n",
    "        \n",
    "        res = 0\n",
    "        for i in range(len(A)-1):\n",
    "            res = max(res, l_maxtill[i] + m_maxfrom[i+1])\n",
    "        return res\n",
    "\n",
    "Solution().maxSumTwoNoOverlap(A = [2,1,5,6,0,9,5,0,3,8], L = 4, M = 3)"
   ]
  },
  {
   "cell_type": "markdown",
   "metadata": {},
   "source": [
    "### The k Strongest Values in an Array\n",
    "Given an array of integers arr and an integer k.\n",
    "\n",
    "A value arr[i] is said to be stronger than a value arr[j] if |arr[i] - m| > |arr[j] - m| where m is the median of the array.\n",
    "\n",
    "If |arr[i] - m| == |arr[j] - m|, then arr[i] is said to be stronger than arr[j] if arr[i] > arr[j].\n",
    "\n",
    "Return a list of the strongest k values in the array. return the answer in any arbitrary order.\n",
    "\n",
    "Median is the middle value in an ordered integer list. More formally, if the length of the list is n, the median is the element in position ((n - 1) / 2) in the sorted list (0-indexed).\n",
    "\n"
   ]
  },
  {
   "cell_type": "code",
   "execution_count": 28,
   "metadata": {},
   "outputs": [
    {
     "data": {
      "text/plain": [
       "[11, 8, 6, 6, 7]"
      ]
     },
     "execution_count": 28,
     "metadata": {},
     "output_type": "execute_result"
    }
   ],
   "source": [
    "def getStrongest(arr, k: int):\n",
    "    arr.sort()\n",
    "    median = arr[(len(arr)-1)//2]\n",
    "    res = []\n",
    "    i = 0; j = len(arr)-1\n",
    "    while i<=j and k>0:\n",
    "        val1 = abs(arr[i]-median)\n",
    "        val2 = abs(arr[j]-median)\n",
    "        if val2 >= val1:\n",
    "            res.append(arr[j])\n",
    "            j -= 1\n",
    "        else:\n",
    "            res.append(arr[i])\n",
    "            i += 1\n",
    "        k -= 1\n",
    "    return res\n",
    "\n",
    "getStrongest(arr = [6,7,11,7,6,8], k = 5)"
   ]
  },
  {
   "cell_type": "markdown",
   "metadata": {},
   "source": [
    "### Sort Transformed Array\n",
    "Given a sorted array of integers nums and integer values a, b and c. Apply a quadratic function of the form f(x) = ax2 + bx + c to each element x in the array.\n",
    "\n",
    "The returned array must be in sorted order.\n",
    "\n",
    "Expected time complexity: O(n)"
   ]
  },
  {
   "cell_type": "code",
   "execution_count": 30,
   "metadata": {},
   "outputs": [
    {
     "data": {
      "text/plain": [
       "[3, 9, 15, 33]"
      ]
     },
     "execution_count": 30,
     "metadata": {},
     "output_type": "execute_result"
    }
   ],
   "source": [
    "class Solution:\n",
    "    def sortTransformedArray(self, nums, a: int, b: int, c: int):\n",
    "        res = [-1]*len(nums)\n",
    "        i = 0;j = len(nums)-1\n",
    "        \n",
    "        if a > 0:\n",
    "            index = len(nums)-1\n",
    "            while i<=j:\n",
    "                val1 = self.func(a, b, c, nums[i])\n",
    "                val2 = self.func(a, b, c, nums[j])\n",
    "                if val1 >= val2:\n",
    "                    res[index] = val1\n",
    "                    i += 1\n",
    "                else:\n",
    "                    res[index] = val2\n",
    "                    j -= 1\n",
    "                index -= 1\n",
    "        else:\n",
    "            index = 0\n",
    "            while i<=j:\n",
    "                val1 = self.func(a, b, c, nums[i])\n",
    "                val2 = self.func(a, b, c, nums[j])\n",
    "                if val1 <= val2:\n",
    "                    res[index] = val1\n",
    "                    i += 1\n",
    "                else:\n",
    "                    res[index] = val2\n",
    "                    j -= 1\n",
    "                index += 1\n",
    "            \n",
    "        return res\n",
    "    \n",
    "    def func(self, a, b, c, x):\n",
    "        return a*x*x + b*x + c\n",
    "        \n",
    "Solution().sortTransformedArray(nums = [-4,-2,2,4], a = 1, b = 3, c = 5)    "
   ]
  },
  {
   "cell_type": "markdown",
   "metadata": {},
   "source": [
    "### Find Permutation\n",
    "\n",
    "By now, you are given a secret signature consisting of character 'D' and 'I'. 'D' represents a decreasing relationship between two numbers, 'I' represents an increasing relationship between two numbers. And our secret signature was constructed by a special integer array, which contains uniquely all the different number from 1 to n (n is the length of the secret signature plus 1). For example, the secret signature \"DI\" can be constructed by array [2,1,3] or [3,1,2], but won't be constructed by array [3,2,4] or [2,1,3,4], which are both illegal constructing special string that can't represent the \"DI\" secret signature.\n",
    "\n",
    "On the other hand, now your job is to find the lexicographically smallest permutation of [1, 2, ... n] could refer to the given secret signature in the input."
   ]
  },
  {
   "cell_type": "code",
   "execution_count": 3,
   "metadata": {},
   "outputs": [
    {
     "data": {
      "text/plain": [
       "[2, 1, 4, 3, 6, 5]"
      ]
     },
     "execution_count": 3,
     "metadata": {},
     "output_type": "execute_result"
    }
   ],
   "source": [
    "class Solution:\n",
    "    def findPermutation(self, s: str):\n",
    "        n = len(s)\n",
    "        arr = [x for x in range(1, n+2)]\n",
    "        i = 0\n",
    "        while i<len(s):\n",
    "            if s[i] != 'D':\n",
    "                i += 1\n",
    "            else:\n",
    "                j = i\n",
    "                while j<len(s) and s[j] == 'D':\n",
    "                    j += 1\n",
    "                arr[i:j+1] = arr[i:j+1][::-1]\n",
    "                i = j\n",
    "        return arr\n",
    "Solution().findPermutation('DIDID')        "
   ]
  },
  {
   "cell_type": "markdown",
   "metadata": {},
   "source": [
    "### Candy\n",
    "\n",
    "There are N children standing in a line. Each child is assigned a rating value.\n",
    "\n",
    "You are giving candies to these children subjected to the following requirements:\n",
    "\n",
    "Each child must have at least one candy.\n",
    "Children with a higher rating get more candies than their neighbors.\n",
    "What is the minimum candies you must give?"
   ]
  },
  {
   "cell_type": "code",
   "execution_count": 30,
   "metadata": {},
   "outputs": [
    {
     "data": {
      "text/plain": [
       "5"
      ]
     },
     "execution_count": 30,
     "metadata": {},
     "output_type": "execute_result"
    }
   ],
   "source": [
    "def candy(ratings) -> int:\n",
    "    left = [1]*len(ratings)\n",
    "    for i in range(1, len(left)):\n",
    "        if ratings[i] > ratings[i-1]:\n",
    "            left[i] = left[i-1] + 1\n",
    "\n",
    "    right = [1]*len(ratings)\n",
    "    for i in range(len(right)-2, -1, -1):\n",
    "        if ratings[i] > ratings[i+1]:\n",
    "            right[i] = right[i+1] + 1\n",
    "\n",
    "    res = 0\n",
    "    for i in range(len(ratings)):\n",
    "        res += max(left[i], right[i])\n",
    "\n",
    "    return res\n",
    "\n",
    "candy([1,0,2])"
   ]
  },
  {
   "cell_type": "markdown",
   "metadata": {},
   "source": [
    "### Magic Squares In Grid\n",
    "\n",
    "A 3 x 3 magic square is a 3 x 3 grid filled with distinct numbers from 1 to 9 such that each row, column, and both diagonals all have the same sum.\n",
    "\n",
    "Given an grid of integers, how many 3 x 3 \"magic square\" subgrids are there?  (Each subgrid is contiguous)."
   ]
  },
  {
   "cell_type": "code",
   "execution_count": 8,
   "metadata": {},
   "outputs": [
    {
     "data": {
      "text/plain": [
       "1"
      ]
     },
     "execution_count": 8,
     "metadata": {},
     "output_type": "execute_result"
    }
   ],
   "source": [
    "from collections import Counter\n",
    "class Solution:\n",
    "    def numMagicSquaresInside(self, grid) -> int:\n",
    "        cnt = 0\n",
    "        # Construct the 3x3 square\n",
    "        for i in range(len(grid)-2):\n",
    "            for j in range(len(grid[0])-2):\n",
    "                temp_grid = [grid[i+k][j:j+3] for k in range(3)]\n",
    "                if self.isMagicSquare(temp_grid):\n",
    "                    cnt += 1\n",
    "        \n",
    "        return cnt\n",
    "    \n",
    "    def isMagicSquare(self, grid):\n",
    "        row_counter = Counter()\n",
    "        col_counter = Counter()\n",
    "        diag = anti_diag = 0\n",
    "        distinct = []\n",
    "        \n",
    "        for i in range(len(grid)):\n",
    "            for j in range(len(grid[0])):\n",
    "                val = grid[i][j]\n",
    "                distinct.append(val)\n",
    "                row_counter[i] += val\n",
    "                col_counter[j] += val\n",
    "                if i == j:\n",
    "                    diag += val\n",
    "                if i+j == 2:\n",
    "                    anti_diag += val\n",
    "        \n",
    "        x = diag\n",
    "        if sorted(distinct) != [1,2,3,4,5,6,7,8,9]:\n",
    "            return False\n",
    "        if diag != x or anti_diag != x:\n",
    "            return False\n",
    "        if not all(row_counter[row] == x for row in row_counter):\n",
    "            return False\n",
    "        return all(col_counter[col] == x for col in col_counter)\n",
    "        \n",
    "grid = [[4,3,8,4],\n",
    "        [9,5,1,9],\n",
    "        [2,7,6,2]]\n",
    "\n",
    "Solution().numMagicSquaresInside(grid)"
   ]
  },
  {
   "cell_type": "markdown",
   "metadata": {},
   "source": [
    "### Longest Continuous Increasing Subsequence\n",
    "\n",
    "Given an unsorted array of integers, find the length of longest continuous increasing subsequence (subarray)."
   ]
  },
  {
   "cell_type": "code",
   "execution_count": 10,
   "metadata": {},
   "outputs": [
    {
     "data": {
      "text/plain": [
       "3"
      ]
     },
     "execution_count": 10,
     "metadata": {},
     "output_type": "execute_result"
    }
   ],
   "source": [
    "def findLengthOfLCIS(nums) -> int:\n",
    "    if len(nums) <= 1:\n",
    "        return len(nums)\n",
    "    max_len = 1; curr_len = 1\n",
    "    for i in range(1, len(nums)):\n",
    "        if nums[i] > nums[i-1]:\n",
    "            curr_len += 1\n",
    "            max_len = max(max_len, curr_len)\n",
    "        else:\n",
    "            curr_len = 1\n",
    "    return max_len\n",
    "\n",
    "findLengthOfLCIS([1,3,5,4,7])"
   ]
  },
  {
   "cell_type": "markdown",
   "metadata": {},
   "source": [
    "### Excel Sheet Column Number\n",
    "Easy\n",
    "\n",
    "1216\n",
    "\n",
    "165\n",
    "\n",
    "Add to List\n",
    "\n",
    "Share\n",
    "Given a column title as appear in an Excel sheet, return its corresponding column number.\n",
    "\n",
    "For example:\n",
    "\n",
    "    A -> 1\n",
    "    B -> 2\n",
    "    C -> 3\n",
    "    ...\n",
    "    Z -> 26\n",
    "    AA -> 27\n",
    "    AB -> 28 \n",
    "    ..."
   ]
  },
  {
   "cell_type": "code",
   "execution_count": 15,
   "metadata": {},
   "outputs": [
    {
     "data": {
      "text/plain": [
       "52"
      ]
     },
     "execution_count": 15,
     "metadata": {},
     "output_type": "execute_result"
    }
   ],
   "source": [
    "import string\n",
    "def titleToNumber(s: str) -> int:\n",
    "    hm = {}\n",
    "    for i, ch in enumerate(string.ascii_uppercase):\n",
    "        hm[ch] = i+1\n",
    "\n",
    "    l = len(s)\n",
    "    power = l-1\n",
    "    res = 0\n",
    "    for ch in s:\n",
    "        res += (26**power)*hm[ch]\n",
    "        power -= 1\n",
    "    return res\n",
    "\n",
    "titleToNumber('AZ')"
   ]
  },
  {
   "cell_type": "markdown",
   "metadata": {},
   "source": [
    "### Longest Uncommon Subsequence II\n",
    "\n",
    "Given a list of strings, you need to find the longest uncommon subsequence among them. The longest uncommon subsequence is defined as the longest subsequence of one of these strings and this subsequence should not be any subsequence of the other strings.\n",
    "\n",
    "A subsequence is a sequence that can be derived from one sequence by deleting some characters without changing the order of the remaining elements. Trivially, any string is a subsequence of itself and an empty string is a subsequence of any string.\n",
    "\n",
    "The input will be a list of strings, and the output needs to be the length of the longest uncommon subsequence. If the longest uncommon subsequence doesn't exist, return -1."
   ]
  },
  {
   "cell_type": "code",
   "execution_count": 17,
   "metadata": {},
   "outputs": [
    {
     "data": {
      "text/plain": [
       "3"
      ]
     },
     "execution_count": 17,
     "metadata": {},
     "output_type": "execute_result"
    }
   ],
   "source": [
    "class Solution:\n",
    "    def findLUSlength(self, strs) -> int:\n",
    "        strs.sort(key=len, reverse = True)\n",
    "        for i in range(len(strs)):\n",
    "            flag = True\n",
    "            for j in range(len(strs)):\n",
    "                if i == j:\n",
    "                    continue\n",
    "                if len(strs[i]) > len(strs[j]):\n",
    "                    break\n",
    "                if self.isSub(strs[i], strs[j]):\n",
    "                    flag = False\n",
    "                    break\n",
    "            if flag:\n",
    "                return len(strs[i])\n",
    "        return -1\n",
    "    \n",
    "    def isSub(self, x, y):\n",
    "        i = j = 0\n",
    "        while i<len(x) and j<len(y):\n",
    "            if x[i] == y[j]:\n",
    "                i += 1\n",
    "            j += 1\n",
    "        return i == len(x)\n",
    "\n",
    "Solution().findLUSlength([\"aba\", \"cdc\", \"eae\"])"
   ]
  },
  {
   "cell_type": "markdown",
   "metadata": {},
   "source": [
    "### Maximum Product of Word Lengths\n",
    "\n",
    "Given a string array words, find the maximum value of length(word[i]) * length(word[j]) where the two words do not share common letters. You may assume that each word will contain only lower case letters. If no such two words exist, return 0."
   ]
  },
  {
   "cell_type": "code",
   "execution_count": 19,
   "metadata": {},
   "outputs": [
    {
     "data": {
      "text/plain": [
       "16"
      ]
     },
     "execution_count": 19,
     "metadata": {},
     "output_type": "execute_result"
    }
   ],
   "source": [
    "def maxProduct(words) -> int:\n",
    "    hm = {}; res = 0\n",
    "    for i, word in enumerate(words):\n",
    "        mask = 0\n",
    "        for ch in word:\n",
    "            index = ord(ch) - ord('a')\n",
    "            mask = mask | 1<<index\n",
    "        hm[i] = mask\n",
    "\n",
    "    for i in range(len(words)):\n",
    "        for j in range(i+1, len(words)):\n",
    "            if hm[i] & hm[j] == 0:\n",
    "                res = max(res, len(words[i] * len(words[j])))\n",
    "\n",
    "    return res\n",
    "\n",
    "maxProduct([\"abcw\",\"baz\",\"foo\",\"bar\",\"xtfn\",\"abcdef\"])"
   ]
  },
  {
   "cell_type": "markdown",
   "metadata": {},
   "source": [
    "### Can Convert String in K Moves\n",
    "\n",
    "Given two strings s and t, your goal is to convert s into t in k moves or less.\n",
    "\n",
    "During the ith (1 <= i <= k) move you can:\n",
    "\n",
    "Choose any index j (1-indexed) from s, such that 1 <= j <= s.length and j has not been chosen in any previous move, and shift the character at that index i times.\n",
    "Do nothing.\n",
    "Shifting a character means replacing it by the next letter in the alphabet (wrapping around so that 'z' becomes 'a'). Shifting a character by i means applying the shift operations i times.\n",
    "\n",
    "Remember that any index j can be picked at most once.\n",
    "\n",
    "Return true if it's possible to convert s into t in no more than k moves, otherwise return false."
   ]
  },
  {
   "cell_type": "code",
   "execution_count": 20,
   "metadata": {},
   "outputs": [
    {
     "data": {
      "text/plain": [
       "True"
      ]
     },
     "execution_count": 20,
     "metadata": {},
     "output_type": "execute_result"
    }
   ],
   "source": [
    "class Solution:\n",
    "    def canConvertString(self, s: str, t: str, k: int) -> bool:\n",
    "        if len(s) != len(t):\n",
    "            return False\n",
    "        \n",
    "        hm = {}\n",
    "        for ch1, ch2 in zip(s, t):\n",
    "            if ch1 == ch2:\n",
    "                continue\n",
    "                \n",
    "            move_no = (ord(ch2)-ord(ch1)+26) % 26\n",
    "            if move_no not in hm:\n",
    "                hm[move_no] = move_no\n",
    "            else:\n",
    "                hm[move_no] += 26\n",
    "            \n",
    "            if hm[move_no] > k:\n",
    "                return False\n",
    "        return True\n",
    "\n",
    "Solution().canConvertString(s = \"input\", t = \"ouput\", k = 9)"
   ]
  },
  {
   "cell_type": "markdown",
   "metadata": {},
   "source": [
    "### Number of Good Ways to Split a String\n",
    "\n",
    "You are given a string s, a split is called good if you can split s into 2 non-empty strings p and q where its concatenation is equal to s and the number of distinct letters in p and q are the same.\n",
    "\n",
    "Return the number of good splits you can make in s."
   ]
  },
  {
   "cell_type": "code",
   "execution_count": 25,
   "metadata": {},
   "outputs": [
    {
     "data": {
      "text/plain": [
       "2"
      ]
     },
     "execution_count": 25,
     "metadata": {},
     "output_type": "execute_result"
    }
   ],
   "source": [
    "def numSplits(s: str) -> int:\n",
    "    start = {}; unique = set()\n",
    "    for i in range(len(s)-1, -1, -1):\n",
    "        unique.add(s[i])\n",
    "        start[i] = len(unique)\n",
    "\n",
    "    count = 0\n",
    "    end = {}\n",
    "    unique = set()\n",
    "\n",
    "    for i in range(len(s)-1):\n",
    "        unique.add(s[i])\n",
    "        end[i] = len(unique)\n",
    "        if end[i] == start[i+1]:\n",
    "            count += 1\n",
    "    return count\n",
    "\n",
    "numSplits(s = \"acbadbaada\")"
   ]
  },
  {
   "cell_type": "markdown",
   "metadata": {},
   "source": [
    "### Bulls and Cows\n",
    "\n",
    "You are playing the following Bulls and Cows game with your friend: You write down a number and ask your friend to guess what the number is. Each time your friend makes a guess, you provide a hint that indicates how many digits in said guess match your secret number exactly in both digit and position (called \"bulls\") and how many digits match the secret number but locate in the wrong position (called \"cows\"). Your friend will use successive guesses and hints to eventually derive the secret number.\n",
    "\n",
    "Write a function to return a hint according to the secret number and friend's guess, use A to indicate the bulls and B to indicate the cows. \n",
    "\n",
    "Please note that both secret number and friend's guess may contain duplicate digits."
   ]
  },
  {
   "cell_type": "code",
   "execution_count": 27,
   "metadata": {},
   "outputs": [
    {
     "data": {
      "text/plain": [
       "'1A3B'"
      ]
     },
     "execution_count": 27,
     "metadata": {},
     "output_type": "execute_result"
    }
   ],
   "source": [
    "def getHint(secret: str, guess: str) -> str:\n",
    "    counter = Counter(); bulls = cows = 0\n",
    "    g = ''\n",
    "    for ch1 ,ch2 in zip(secret, guess):\n",
    "        if ch1 == ch2:\n",
    "            bulls += 1\n",
    "        else:\n",
    "            counter[ch1] += 1\n",
    "            g += ch2\n",
    "\n",
    "    for ch in g:\n",
    "        if counter[ch] > 0:\n",
    "            cows += 1\n",
    "            counter[ch] -= 1\n",
    "\n",
    "    # cows -= bulls\n",
    "    return str(bulls) + 'A' + str(cows) + 'B'\n",
    "\n",
    "getHint(secret = \"1807\", guess = \"7810\")"
   ]
  },
  {
   "cell_type": "markdown",
   "metadata": {},
   "source": [
    "### Compare Version Numbers\n",
    "\n",
    "Compare two version numbers version1 and version2.\n",
    "If version1 > version2 return 1; if version1 < version2 return -1;otherwise return 0.\n",
    "\n",
    "You may assume that the version strings are non-empty and contain only digits and the . character.\n",
    "\n",
    "The . character does not represent a decimal point and is used to separate number sequences.\n",
    "\n",
    "For instance, 2.5 is not \"two and a half\" or \"half way to version three\", it is the fifth second-level revision of the second first-level revision.\n",
    "\n",
    "You may assume the default revision number for each level of a version number to be 0. For example, version number 3.4 has a revision number of 3 and 4 for its first and second level revision number. Its third and fourth level revision number are both 0."
   ]
  },
  {
   "cell_type": "code",
   "execution_count": 2,
   "metadata": {},
   "outputs": [
    {
     "data": {
      "text/plain": [
       "1"
      ]
     },
     "execution_count": 2,
     "metadata": {},
     "output_type": "execute_result"
    }
   ],
   "source": [
    "def compareVersion(version1: str, version2: str) -> int:\n",
    "        lst1 = version1.split('.')\n",
    "        lst2 = version2.split('.')\n",
    "        \n",
    "        for i in range(len(lst1)):\n",
    "            lst1[i] = int(lst1[i])\n",
    "        \n",
    "        for i in range(len(lst2)):\n",
    "            lst2[i] = int(lst2[i])\n",
    "        \n",
    "        i = 0; j = 0\n",
    "        while i < len(lst1) or j < len(lst2):\n",
    "            val1 = lst1[i] if i < len(lst1) else 0\n",
    "            val2 = lst2[j] if j < len(lst2) else 0\n",
    "            \n",
    "            if val1 > val2:\n",
    "                return 1\n",
    "            \n",
    "            elif val2 > val1:\n",
    "                return -1\n",
    "            \n",
    "            i += 1; j += 1\n",
    "        \n",
    "        return 0\n",
    "\n",
    "compareVersion(version1 = \"1.0.1\", version2 = \"1\")"
   ]
  },
  {
   "cell_type": "markdown",
   "metadata": {},
   "source": [
    "### Bulb Switcher IV\n",
    "\n",
    "There is a room with n bulbs, numbered from 0 to n-1, arranged in a row from left to right. Initially all the bulbs are turned off.\n",
    "\n",
    "Your task is to obtain the configuration represented by target where target[i] is '1' if the i-th bulb is turned on and is '0' if it is turned off.\n",
    "\n",
    "You have a switch to flip the state of the bulb, a flip operation is defined as follows:\n",
    "\n",
    "Choose any bulb (index i) of your current configuration.\n",
    "Flip each bulb from index i to n-1.\n",
    "When any bulb is flipped it means that if it is 0 it changes to 1 and if it is 1 it changes to 0.\n",
    "\n",
    "Return the minimum number of flips required to form target."
   ]
  },
  {
   "cell_type": "code",
   "execution_count": 40,
   "metadata": {},
   "outputs": [
    {
     "data": {
      "text/plain": [
       "3"
      ]
     },
     "execution_count": 40,
     "metadata": {},
     "output_type": "execute_result"
    }
   ],
   "source": [
    "def minFlips(target: str) -> int:\n",
    "    prev = '0'; res = 0\n",
    "    for ch in target:\n",
    "        if ch != prev:\n",
    "            res += 1\n",
    "        prev = ch\n",
    "    return res\n",
    "\n",
    "minFlips(target = \"10111\")"
   ]
  },
  {
   "cell_type": "markdown",
   "metadata": {},
   "source": [
    "### Minimum Number of Increments on Subarrays to Form a Target Array\n",
    "\n",
    "Given an array of positive integers target and an array initial of same size with all zeros.\n",
    "\n",
    "Return the minimum number of operations to form a target array from initial if you are allowed to do the following operation:\n",
    "\n",
    "Choose any subarray from initial and increment each value by one.\n",
    "The answer is guaranteed to fit within the range of a 32-bit signed integer."
   ]
  },
  {
   "cell_type": "code",
   "execution_count": 46,
   "metadata": {},
   "outputs": [
    {
     "data": {
      "text/plain": [
       "7"
      ]
     },
     "execution_count": 46,
     "metadata": {},
     "output_type": "execute_result"
    }
   ],
   "source": [
    "def minNumberOperations(target) -> int:\n",
    "    pre = res = 0\n",
    "    for num in target:\n",
    "        res += max(num-pre, 0)\n",
    "        pre = num\n",
    "    return res\n",
    "\n",
    "minNumberOperations(target = [3,1,5,4,2])"
   ]
  },
  {
   "cell_type": "markdown",
   "metadata": {},
   "source": [
    "### Sparse Matrix Multiplication\n",
    "\n",
    "Given two sparse matrices A and B, return the result of AB.\n",
    "\n",
    "You may assume that A's column number is equal to B's row number."
   ]
  },
  {
   "cell_type": "code",
   "execution_count": 44,
   "metadata": {},
   "outputs": [
    {
     "data": {
      "text/plain": [
       "[[7, 0, 0], [-7, 0, 3]]"
      ]
     },
     "execution_count": 44,
     "metadata": {},
     "output_type": "execute_result"
    }
   ],
   "source": [
    "class Solution:\n",
    "    def multiply(self, A, B):\n",
    "        table_a = self.get_sparse_table(A)\n",
    "        table_b = self.get_sparse_table(B)\n",
    "        \n",
    "        res = [[0]*len(B[0]) for _ in range(len(A))]\n",
    "        for row_a in table_a:\n",
    "            for val1, col_a in table_a[row_a]:\n",
    "                for val2, col_b in table_b[col_a]:\n",
    "                    res[row_a][col_b] += val1*val2\n",
    "        \n",
    "        return res\n",
    "                    \n",
    "    def get_sparse_table(self, mat):\n",
    "        table = defaultdict(list)\n",
    "        for i in range(len(mat)):\n",
    "            for j in range(len(mat[0])):\n",
    "                if mat[i][j] != 0:\n",
    "                    table[i].append((mat[i][j], j))\n",
    "        \n",
    "        return table\n",
    "\n",
    "A = [\n",
    "  [ 1, 0, 0],\n",
    "  [-1, 0, 3]\n",
    "]\n",
    "\n",
    "B = [\n",
    "  [ 7, 0, 0 ],\n",
    "  [ 0, 0, 0 ],\n",
    "  [ 0, 0, 1 ]\n",
    "]\n",
    "\n",
    "Solution().multiply(A, B)"
   ]
  },
  {
   "cell_type": "markdown",
   "metadata": {},
   "source": [
    "### Valid Tic-Tac-Toe State\n",
    "\n",
    "A Tic-Tac-Toe board is given as a string array board. Return True if and only if it is possible to reach this board position during the course of a valid tic-tac-toe game.\n",
    "\n",
    "The board is a 3 x 3 array, and consists of characters \" \", \"X\", and \"O\".  The \" \" character represents an empty square.\n",
    "\n",
    "Here are the rules of Tic-Tac-Toe:\n",
    "\n",
    "* Players take turns placing characters into empty squares (\" \").\n",
    "* The first player always places \"X\" characters, while the second player always places \"O\" characters.\n",
    "* \"X\" and \"O\" characters are always placed into empty squares, never filled ones.\n",
    "* The game ends when there are 3 of the same (non-empty) character filling any row, column, or diagonal.\n",
    "* The game also ends if all squares are non-empty.\n",
    "* No more moves can be played if the game is over."
   ]
  },
  {
   "cell_type": "code",
   "execution_count": 45,
   "metadata": {},
   "outputs": [
    {
     "data": {
      "text/plain": [
       "True"
      ]
     },
     "execution_count": 45,
     "metadata": {},
     "output_type": "execute_result"
    }
   ],
   "source": [
    "class Solution:\n",
    "    def validTicTacToe(self, board) -> bool:\n",
    "        count_x = count_0 = 0\n",
    "        for i in range(len(board)):\n",
    "            for j in range(len(board)):\n",
    "                if board[i][j] == 'X':\n",
    "                    count_x += 1\n",
    "                elif board[i][j] == 'O':\n",
    "                    count_0 += 1\n",
    "        \n",
    "        if count_0 != count_x and count_0 != count_x-1:\n",
    "            return False\n",
    "        \n",
    "        winner = self.get_winner(board)\n",
    "        if not winner:\n",
    "            return True\n",
    "        \n",
    "        if len(winner) == 2:\n",
    "            return False\n",
    "        \n",
    "        winner = winner[0]\n",
    "        if winner == 1:\n",
    "            return count_x > count_0\n",
    "        else:\n",
    "            return count_x == count_0\n",
    "    \n",
    "    def get_winner(self, board):\n",
    "        row = Counter()\n",
    "        col = Counter()\n",
    "        diag = anti_diag = 0\n",
    "        winner = []\n",
    "        \n",
    "        for i in range(len(board)):\n",
    "            for j in range(len(board)):\n",
    "                val = 0\n",
    "                if board[i][j] == 'X':\n",
    "                    val = 1\n",
    "                elif board[i][j] == 'O':\n",
    "                    val = -1\n",
    "                    \n",
    "                row[i] += val\n",
    "                col[j] += val\n",
    "                \n",
    "                if i == j:\n",
    "                    diag += val\n",
    "                if i+j == len(board)-1:\n",
    "                    anti_diag += val\n",
    "        \n",
    "        if any(row[key]==3 for key in row) or any(col[key]==3 for key in col) or diag == 3 or anti_diag == 3:\n",
    "            winner.append(1)\n",
    "        \n",
    "        if any(row[key]==-3 for key in row) or any(col[key]==-3 for key in col) or diag == -3 or anti_diag == -3:\n",
    "            winner.append(2)\n",
    "        \n",
    "        return winner\n",
    "        \n",
    "Solution().validTicTacToe(board = [\"XOX\", \"O O\", \"XOX\"]) "
   ]
  }
 ],
 "metadata": {
  "kernelspec": {
   "display_name": "Python 3",
   "language": "python",
   "name": "python3"
  },
  "language_info": {
   "codemirror_mode": {
    "name": "ipython",
    "version": 3
   },
   "file_extension": ".py",
   "mimetype": "text/x-python",
   "name": "python",
   "nbconvert_exporter": "python",
   "pygments_lexer": "ipython3",
   "version": "3.6.8"
  }
 },
 "nbformat": 4,
 "nbformat_minor": 2
}
