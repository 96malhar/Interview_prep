{
 "cells": [
  {
   "cell_type": "markdown",
   "metadata": {},
   "source": [
    "## Intro"
   ]
  },
  {
   "cell_type": "markdown",
   "metadata": {},
   "source": [
    "### Implement a Queue using an array"
   ]
  },
  {
   "cell_type": "code",
   "execution_count": 20,
   "metadata": {},
   "outputs": [],
   "source": [
    "class Queue:\n",
    "    \n",
    "    def __init__(self, size):\n",
    "        self.a = [None]*size\n",
    "        self.length = 0\n",
    "        self.front = 0\n",
    "        self.back = 0\n",
    "        self.size = size\n",
    "        \n",
    "    def enqueue(self, n):\n",
    "        if self.length == self.size:\n",
    "            print('Queue is full')\n",
    "            return\n",
    "        self.a[self.back] = n\n",
    "        self.back = (self.back + 1) % self.size\n",
    "        self.length += 1\n",
    "    \n",
    "    def dequeue(self):\n",
    "        if self.length == 0:\n",
    "            print('Queue is empty')\n",
    "            return\n",
    "        result = self.a[self.front]\n",
    "        self.a[self.front] = None\n",
    "        self.front = (self.front + 1) % self.size\n",
    "        self.length -= 1\n",
    "        return result"
   ]
  },
  {
   "cell_type": "markdown",
   "metadata": {},
   "source": [
    "## Sliding Window"
   ]
  },
  {
   "cell_type": "markdown",
   "metadata": {},
   "source": [
    "### Sliding Windows: Given an array of integers A, find the sum of sliding windows of size N. For example: if A = [2,3,5,6,2,1]\n",
    "\n",
    "Sliding Window Sums: \n",
    "* [**2,3,5**,6,2,1] => 10 \n",
    "* [2,**3,5,6**,2,1] => 14\n",
    "* [2,3,**5,6,2**,1] => 13\n",
    "* [2,3,5,**6,2,1**] => 9"
   ]
  },
  {
   "cell_type": "code",
   "execution_count": 70,
   "metadata": {},
   "outputs": [
    {
     "data": {
      "text/plain": [
       "[16, 16, 14]"
      ]
     },
     "execution_count": 70,
     "metadata": {},
     "output_type": "execute_result"
    }
   ],
   "source": [
    "# Using a queue\n",
    "def sliding_window_sum(a,k):\n",
    "    q = []\n",
    "    result = []\n",
    "    sum = 0\n",
    "    for num in a:\n",
    "        q.append(num)\n",
    "        sum += num\n",
    "        if len(q)==k:\n",
    "            result.append(sum)\n",
    "            sum -= q.pop(0)\n",
    "    return result\n",
    "            \n",
    "a = [2,3,5,6,2,1]\n",
    "k = 4\n",
    "sliding_window_sum(a,k)"
   ]
  },
  {
   "cell_type": "code",
   "execution_count": 6,
   "metadata": {},
   "outputs": [
    {
     "data": {
      "text/plain": [
       "[16, 16, 14]"
      ]
     },
     "execution_count": 6,
     "metadata": {},
     "output_type": "execute_result"
    }
   ],
   "source": [
    "# Using 2 pointers\n",
    "def sliding_window_sum(a,k):\n",
    "    i, j = 0, 0\n",
    "    result = []\n",
    "    sum = 0\n",
    "    while j < len(a):\n",
    "        sum += a[j]\n",
    "        if j-i == k-1:\n",
    "            result.append(sum)\n",
    "            sum -= a[i]\n",
    "            i +=1\n",
    "        j += 1\n",
    "    return result\n",
    "\n",
    "a = [2,3,5,6,2,1]\n",
    "k = 1\n",
    "sliding_window_sum(a,4)"
   ]
  },
  {
   "cell_type": "markdown",
   "metadata": {},
   "source": [
    "### Minimum Size Subarray Sum > = s\n",
    "Given an array of n positive integers and a positive integer s, find the minimal length of a contiguous subarray of which the sum ≥ s. If there isn't one, return 0 instead.\n",
    "* Input: s = 7, nums = [2,3,1,2,4,3]\n",
    "* Output: 2\n",
    "* Explanation: the subarray [4,3] has the minimal length under the problem constraint."
   ]
  },
  {
   "cell_type": "code",
   "execution_count": 2,
   "metadata": {},
   "outputs": [
    {
     "data": {
      "text/plain": [
       "2"
      ]
     },
     "execution_count": 2,
     "metadata": {},
     "output_type": "execute_result"
    }
   ],
   "source": [
    "def minsubarraylen(nums, s):\n",
    "    min_len = 9999\n",
    "    sum = 0\n",
    "    i = 0\n",
    "    for j in range(len(nums)):\n",
    "        sum += nums[j]\n",
    "        while sum>=s:\n",
    "            min_len = min(min_len, j-i+1)\n",
    "            sum -= nums[i]\n",
    "            i += 1\n",
    "    return min_len if min_len!=9999 else 0\n",
    "minsubarraylen([2,3,1,2,4,3],7)"
   ]
  },
  {
   "cell_type": "markdown",
   "metadata": {},
   "source": [
    "### You  are  given  stock  prices  and  the  corresponding  day  of  each  stock  price. \n",
    "* For  example:(32,  1),  (45,  1),  (37,2),  (42,3)..\n",
    "* Here  32  is  the  price  and  1  is  the  day  of  the  price.\n",
    "* Say  you  are  given  these  prices  as  an  input  stream.  You  should  provide  a  function  forthe  user  to  input  a  stock  price  and  day. \n",
    "* Your  system  should  be  able  to  tell the  maximum  stock  price  in  the  last  3  days."
   ]
  },
  {
   "cell_type": "code",
   "execution_count": 8,
   "metadata": {},
   "outputs": [],
   "source": [
    "class Price:\n",
    "    def __init__(self,price,day):\n",
    "        self.price = price\n",
    "        self.day = day\n",
    "        \n",
    "class price_with_time:\n",
    "    \n",
    "    def __init__(self, window):\n",
    "        self.window = window\n",
    "        self.q = []\n",
    "    \n",
    "    def add_price(self, price, day):\n",
    "        while len(self.q) and self.q[0].day < day - self.window + 1:\n",
    "            self.q.pop(0)\n",
    "        node = Price(price, day)\n",
    "        self.q.append(node)\n",
    "    \n",
    "    def get_max(self):\n",
    "        max = None\n",
    "        for node in self.q:\n",
    "            if max is None or node.price > max:\n",
    "                max = node.price\n",
    "        return max   "
   ]
  },
  {
   "cell_type": "code",
   "execution_count": 12,
   "metadata": {},
   "outputs": [
    {
     "data": {
      "text/plain": [
       "42"
      ]
     },
     "execution_count": 12,
     "metadata": {},
     "output_type": "execute_result"
    }
   ],
   "source": [
    "stock_market = price_with_time(3)\n",
    "stock_market.add_price(32,1)\n",
    "stock_market.add_price(45,1)\n",
    "stock_market.add_price(37,2)\n",
    "stock_market.add_price(42,3)\n",
    "stock_market.add_price(39,4)\n",
    "stock_market.get_max()"
   ]
  },
  {
   "cell_type": "markdown",
   "metadata": {},
   "source": [
    "## Queue with Max and Min in O(1)"
   ]
  },
  {
   "cell_type": "code",
   "execution_count": 28,
   "metadata": {},
   "outputs": [],
   "source": [
    "class QueueWithMax:\n",
    "    \n",
    "    def __init__(self):\n",
    "        self.q = []\n",
    "        self.max = []\n",
    "        self.min = []\n",
    "    \n",
    "    def enqueue(self,n):\n",
    "        self.q.append(n)\n",
    "        while len(self.max) and self.max[-1] < n:\n",
    "            self.max.pop()\n",
    "        while len(self.min) and self.min[-1] > n:\n",
    "            self.min.pop()\n",
    "        self.max.append(n)\n",
    "        self.min.append(n)\n",
    "    \n",
    "    def dequeue(self):\n",
    "        if len(self.q) == 0:\n",
    "            print('Queue is empty')\n",
    "            return\n",
    "        item = self.q.pop(0)\n",
    "        if item == self.max[0]:\n",
    "            self.max.pop(0)\n",
    "        if item == self.min[0]:\n",
    "            self.min.pop(0)\n",
    "        return item\n",
    "    \n",
    "    def get_max(self):\n",
    "        if len(self.max):\n",
    "            return self.max[0]\n",
    "        print('Queue is Empty')\n",
    "        return\n",
    "    \n",
    "    def get_min(self):\n",
    "        if len(self.min):\n",
    "            return self.min[0]\n",
    "        print('Queue is Empty')\n",
    "        return"
   ]
  },
  {
   "cell_type": "markdown",
   "metadata": {},
   "source": [
    "### Maximum of Sliding Window: Given an array A and an integer K, find the maximum element in each sliding window of size K. For example:\n",
    "\n",
    "A = [4,6,5,2,4,7] and K = 3, windows are as follows:\n",
    "\n",
    "* [4,6,5,2,4,7] : Max = 6\n",
    "* [4,6,5,2,4,7] : Max = 6 \n",
    "* [4,6,5,2,4,7] : Max = 5 \n",
    "* [4,6,5,2,4,7] : Max = 7"
   ]
  },
  {
   "cell_type": "code",
   "execution_count": 31,
   "metadata": {},
   "outputs": [
    {
     "data": {
      "text/plain": [
       "[78, 90, 90, 90, 89]"
      ]
     },
     "execution_count": 31,
     "metadata": {},
     "output_type": "execute_result"
    }
   ],
   "source": [
    "def max_sliding_window(a,k):\n",
    "    q = QueueWithMax()\n",
    "    result = []\n",
    "    for num in a:\n",
    "        q.enqueue(num)\n",
    "        if len(q.q) == k:\n",
    "            result.append(q.get_max())\n",
    "            q.dequeue()\n",
    "    return result\n",
    "\n",
    "max_sliding_window([12, 1, 78, 90, 57, 89, 56], 3)        "
   ]
  }
 ],
 "metadata": {
  "kernelspec": {
   "display_name": "Python 3",
   "language": "python",
   "name": "python3"
  },
  "language_info": {
   "codemirror_mode": {
    "name": "ipython",
    "version": 3
   },
   "file_extension": ".py",
   "mimetype": "text/x-python",
   "name": "python",
   "nbconvert_exporter": "python",
   "pygments_lexer": "ipython3",
   "version": "3.6.8"
  }
 },
 "nbformat": 4,
 "nbformat_minor": 2
}
