{
 "cells": [
  {
   "cell_type": "markdown",
   "metadata": {},
   "source": [
    "## Implementation"
   ]
  },
  {
   "cell_type": "code",
   "execution_count": 2,
   "metadata": {},
   "outputs": [],
   "source": [
    "class Node:\n",
    "    \n",
    "    def __init__(self,data):\n",
    "        self.data = data\n",
    "        self.next = None\n",
    "\n",
    "class LinkedList:\n",
    "    \n",
    "    def __init__(self):\n",
    "        self.head = None\n",
    "        self.tail = None\n",
    "    \n",
    "    def traverse(self):\n",
    "        if self.head is None:\n",
    "            print('Linked List is empty')\n",
    "        else:\n",
    "            node = self.head\n",
    "            while node is not None:\n",
    "                print(node.data)\n",
    "                node = node.next\n",
    "\n",
    "    def count(self):\n",
    "        node = self.head\n",
    "        count = 0\n",
    "        while node is not None:\n",
    "            count +=1\n",
    "            node = node.next\n",
    "        return count\n",
    "    \n",
    "    def append(self,node):\n",
    "        if self.head is None:\n",
    "            self.head = node\n",
    "        else:\n",
    "            self.tail.next = node\n",
    "        self.tail = node\n",
    "    \n",
    "    def create_ll(self,a):\n",
    "        for num in a:\n",
    "            self.append(Node(num))\n",
    "    \n",
    "    def get(self,n):\n",
    "        node = self.head\n",
    "        i = 1\n",
    "        while i!=n and node is not None:\n",
    "            i += 1\n",
    "            node = node.next\n",
    "        if node is None:\n",
    "            print('Index out of bounds')\n",
    "            return\n",
    "        return node.data\n",
    "    \n",
    "    "
   ]
  },
  {
   "cell_type": "code",
   "execution_count": 3,
   "metadata": {},
   "outputs": [
    {
     "name": "stdout",
     "output_type": "stream",
     "text": [
      "1\n",
      "2\n",
      "3\n",
      "4\n"
     ]
    }
   ],
   "source": [
    "ll = LinkedList()\n",
    "ll.create_ll([1,2,3,4])\n",
    "ll.traverse()"
   ]
  },
  {
   "cell_type": "markdown",
   "metadata": {},
   "source": [
    "### You are given a Linked List with nodes that have values 0, 1 or 2. Sort the linked list. For example,\n",
    "\n",
    "* Input: 1 -> 0 -> 2 -> 1 -> 2 -> 1 \n",
    "* Output: 0 -> 1 -> 1 -> 1 -> 2 -> 2"
   ]
  },
  {
   "cell_type": "code",
   "execution_count": 4,
   "metadata": {},
   "outputs": [],
   "source": [
    "def sorted_list(ll):\n",
    "    ll0 = LinkedList()\n",
    "    ll1 = LinkedList()\n",
    "    ll2 = LinkedList()\n",
    "    \n",
    "    node = ll.head\n",
    "    while node is not None:\n",
    "        if node.data == 0:\n",
    "            ll0.append(node)\n",
    "        elif node.data == 1:\n",
    "            ll1.append(node)\n",
    "        elif node.data == 2:\n",
    "            ll2.append(node)\n",
    "        else:\n",
    "            print('Invalid value {}'.format(node.data))\n",
    "            return\n",
    "        node = node.next\n",
    "        \n",
    "    result = LinkedList()\n",
    "    \n",
    "    if ll0.head is not None:\n",
    "        result.append(ll0.head)\n",
    "        result.tail = ll0.tail\n",
    "    if ll1.head is not None:\n",
    "        result.append(ll1.head)\n",
    "        result.tail = ll1.tail\n",
    "    if ll2.head is not None:\n",
    "        result.append(ll2.head)\n",
    "        result.tail = ll2.tail\n",
    "        \n",
    "    result.tail.next = None\n",
    "    return result"
   ]
  },
  {
   "cell_type": "code",
   "execution_count": 5,
   "metadata": {},
   "outputs": [
    {
     "name": "stdout",
     "output_type": "stream",
     "text": [
      "0\n",
      "0\n",
      "1\n",
      "1\n",
      "1\n",
      "2\n",
      "2\n"
     ]
    }
   ],
   "source": [
    "ll = LinkedList()\n",
    "ll.create_ll([1,2,1,0,2,1,0])\n",
    "result = sorted_list(ll)\n",
    "result.traverse()"
   ]
  },
  {
   "cell_type": "markdown",
   "metadata": {},
   "source": [
    "### Odd Even Linked List: Given a Linked List L, separate it into 2 Linked Lists.One contains L's odd nodes and the other contains L's even nodes. For example:\n",
    "* Input: Head -> 1 -> 2 -> 3 -> 4 -> 5\n",
    "* Result 1: Head -> 1 -> 3 -> 5\n",
    "* Result 2: Head -> 2 -> 4\n",
    "* Note: Odd and Even here refer to the node's position, not value"
   ]
  },
  {
   "cell_type": "code",
   "execution_count": 7,
   "metadata": {},
   "outputs": [],
   "source": [
    "def odd_even(ll):\n",
    "    odd = LinkedList()\n",
    "    even = LinkedList()\n",
    "    \n",
    "    index = 0\n",
    "    node = ll.head\n",
    "    \n",
    "    while node is not None:\n",
    "        index += 1\n",
    "        if index%2==0:\n",
    "            even.append(node)\n",
    "        else:\n",
    "            odd.append(node)\n",
    "        node = node.next\n",
    "        \n",
    "    if odd.head is not None:\n",
    "        odd.tail.next = None\n",
    "    if even.head is not None:\n",
    "        even.tail.next = None\n",
    "    \n",
    "    return (odd, even)"
   ]
  },
  {
   "cell_type": "code",
   "execution_count": 8,
   "metadata": {},
   "outputs": [
    {
     "name": "stdout",
     "output_type": "stream",
     "text": [
      "1\n",
      "4\n",
      "3\n",
      "\n",
      "2\n",
      "7\n"
     ]
    }
   ],
   "source": [
    "ll = LinkedList()\n",
    "ll.create_ll([1,2,4,7,3])\n",
    "odd, even = odd_even(ll)\n",
    "odd.traverse()\n",
    "print()\n",
    "even.traverse()"
   ]
  },
  {
   "cell_type": "markdown",
   "metadata": {},
   "source": [
    "### Given a linked list and pointers to a node N and its previous node Prev, delete N from the linked list"
   ]
  },
  {
   "cell_type": "code",
   "execution_count": 22,
   "metadata": {},
   "outputs": [
    {
     "name": "stdout",
     "output_type": "stream",
     "text": [
      "3\n",
      "7\n",
      "1\n",
      "2\n",
      "5\n",
      "\n",
      "7\n",
      "1\n",
      "2\n",
      "5\n"
     ]
    }
   ],
   "source": [
    "def delete(ll,to_delete,prev):\n",
    "    if ll.head == to_delete:\n",
    "        ll.head = to_delete.next\n",
    "    \n",
    "    if ll.tail == to_delete:\n",
    "        ll.tail = prev\n",
    "        \n",
    "    if prev is not None:\n",
    "        prev.next = to_delete.next\n",
    "\n",
    "ll = LinkedList()\n",
    "node1, node2, node3, node4, node5 = Node(3), Node(1), Node(7), Node(2), Node(5)\n",
    "ll.append(node1) ;ll.append(node3) ;ll.append(node2) ;ll.append(node4) ;ll.append(node5)\n",
    "ll.traverse()\n",
    "print()\n",
    "        \n",
    "delete(ll,node1,None)\n",
    "ll.traverse()"
   ]
  },
  {
   "cell_type": "markdown",
   "metadata": {},
   "source": [
    "### Follow Up: Given a node N in a Linked List, can you delete it without the previous node in O(1) time?"
   ]
  },
  {
   "cell_type": "code",
   "execution_count": 31,
   "metadata": {},
   "outputs": [
    {
     "name": "stdout",
     "output_type": "stream",
     "text": [
      "3\n",
      "7\n",
      "1\n",
      "2\n",
      "5\n",
      "\n",
      "3\n",
      "1\n",
      "2\n",
      "5\n"
     ]
    }
   ],
   "source": [
    "def delete_without_prev(ll,node):\n",
    "    if node.next is None:\n",
    "        return\n",
    "    node.data = node.next.data\n",
    "    delete(ll,node.next,node)\n",
    "\n",
    "ll = LinkedList()\n",
    "node1, node2, node3, node4, node5 = Node(3), Node(1), Node(7), Node(2), Node(5)\n",
    "ll.append(node1) ;ll.append(node3) ;ll.append(node2) ;ll.append(node4) ;ll.append(node5)\n",
    "ll.traverse()\n",
    "print()\n",
    "\n",
    "delete_without_prev(ll,node3)\n",
    "ll.traverse()\n"
   ]
  }
 ],
 "metadata": {
  "kernelspec": {
   "display_name": "Python 3",
   "language": "python",
   "name": "python3"
  },
  "language_info": {
   "codemirror_mode": {
    "name": "ipython",
    "version": 3
   },
   "file_extension": ".py",
   "mimetype": "text/x-python",
   "name": "python",
   "nbconvert_exporter": "python",
   "pygments_lexer": "ipython3",
   "version": "3.6.8"
  }
 },
 "nbformat": 4,
 "nbformat_minor": 2
}
