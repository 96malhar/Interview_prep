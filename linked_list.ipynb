{
 "cells": [
  {
   "cell_type": "markdown",
   "metadata": {},
   "source": [
    "## Implementation"
   ]
  },
  {
   "cell_type": "code",
   "execution_count": 120,
   "metadata": {},
   "outputs": [],
   "source": [
    "class Node:\n",
    "    \n",
    "    def __init__(self,data):\n",
    "        self.data = data\n",
    "        self.next = None\n",
    "\n",
    "class LinkedList:\n",
    "    \n",
    "    def __init__(self):\n",
    "        self.head = None\n",
    "        self.tail = None\n",
    "    \n",
    "    def traverse(self):\n",
    "        if self.head is None:\n",
    "            print('Linked List is empty')\n",
    "        else:\n",
    "            node = self.head\n",
    "            while node is not None:\n",
    "                print(node.data)\n",
    "                node = node.next\n",
    "\n",
    "    def count(self):\n",
    "        node = self.head\n",
    "        count = 0\n",
    "        while node is not None:\n",
    "            count +=1\n",
    "            node = node.next\n",
    "        return count\n",
    "    \n",
    "    def append(self,node):\n",
    "        if self.head is None:\n",
    "            self.head = node\n",
    "        else:\n",
    "            self.tail.next = node\n",
    "        self.tail = node\n",
    "    \n",
    "    def create_ll(self,a):\n",
    "        for num in a:\n",
    "            self.append(Node(num))\n",
    "        \n",
    "    def delete_by_value(self,x):\n",
    "        if self.head is None:\n",
    "            print('List is empty')\n",
    "            return\n",
    "        if self.head.data == x:\n",
    "            self.head = self.head.next\n",
    "            return\n",
    "        \n",
    "        node = self.head\n",
    "        while node.next is not None:\n",
    "            if node.next.data == x:\n",
    "                break\n",
    "            node = node.next\n",
    "            \n",
    "        if node.next is None:\n",
    "            print('Value not found')\n",
    "            return\n",
    "        \n",
    "        if node.next.next is None:\n",
    "            ll.tail = node\n",
    "                \n",
    "        node.next = node.next.next\n",
    "    \n",
    "    def get(self,n):\n",
    "        node = self.head\n",
    "        i = 1\n",
    "        while i!=n and node is not None:\n",
    "            i += 1\n",
    "            node = node.next\n",
    "        if node is None:\n",
    "            print('Index out of bounds')\n",
    "            return\n",
    "        return node.data\n",
    "    \n",
    "    "
   ]
  },
  {
   "cell_type": "code",
   "execution_count": 98,
   "metadata": {},
   "outputs": [
    {
     "name": "stdout",
     "output_type": "stream",
     "text": [
      "1\n",
      "2\n",
      "3\n",
      "4\n"
     ]
    },
    {
     "data": {
      "text/plain": [
       "3"
      ]
     },
     "execution_count": 98,
     "metadata": {},
     "output_type": "execute_result"
    }
   ],
   "source": [
    "ll = LinkedList()\n",
    "ll.create_ll([1,2,3,4])\n",
    "ll.traverse()\n",
    "ll.get(3)"
   ]
  },
  {
   "cell_type": "markdown",
   "metadata": {},
   "source": [
    "### You are given a Linked List with nodes that have values 0, 1 or 2. Sort the linked list. For example,\n",
    "\n",
    "* Input: 1 -> 0 -> 2 -> 1 -> 2 -> 1 \n",
    "* Output: 0 -> 1 -> 1 -> 1 -> 2 -> 2"
   ]
  },
  {
   "cell_type": "code",
   "execution_count": 99,
   "metadata": {},
   "outputs": [],
   "source": [
    "def sorted_list(ll):\n",
    "    ll0 = LinkedList()\n",
    "    ll1 = LinkedList()\n",
    "    ll2 = LinkedList()\n",
    "    \n",
    "    node = ll.head\n",
    "    while node is not None:\n",
    "        if node.data == 0:\n",
    "            ll0.append(node)\n",
    "        elif node.data == 1:\n",
    "            ll1.append(node)\n",
    "        elif node.data == 2:\n",
    "            ll2.append(node)\n",
    "        else:\n",
    "            print('Invalid value {}'.format(node.data))\n",
    "            return\n",
    "        node = node.next\n",
    "        \n",
    "    result = LinkedList()\n",
    "    \n",
    "    if ll0.head is not None:\n",
    "        result.append(ll0.head)\n",
    "        result.tail = ll0.tail\n",
    "    if ll1.head is not None:\n",
    "        result.append(ll1.head)\n",
    "        result.tail = ll1.tail\n",
    "    if ll2.head is not None:\n",
    "        result.append(ll2.head)\n",
    "        result.tail = ll2.tail\n",
    "        \n",
    "    result.tail.next = None\n",
    "    return result"
   ]
  },
  {
   "cell_type": "code",
   "execution_count": 100,
   "metadata": {},
   "outputs": [
    {
     "name": "stdout",
     "output_type": "stream",
     "text": [
      "0\n",
      "0\n",
      "1\n",
      "1\n",
      "1\n",
      "2\n",
      "2\n"
     ]
    }
   ],
   "source": [
    "ll = LinkedList()\n",
    "ll.create_ll([1,2,1,0,2,1,0])\n",
    "result = sorted_list(ll)\n",
    "result.traverse()"
   ]
  },
  {
   "cell_type": "markdown",
   "metadata": {},
   "source": [
    "### Odd Even Linked List: Given a Linked List L, separate it into 2 Linked Lists.One contains L's odd nodes and the other contains L's even nodes. For example:\n",
    "* Input: Head -> 1 -> 2 -> 3 -> 4 -> 5\n",
    "* Result 1: Head -> 1 -> 3 -> 5\n",
    "* Result 2: Head -> 2 -> 4\n",
    "* Note: Odd and Even here refer to the node's position, not value"
   ]
  },
  {
   "cell_type": "code",
   "execution_count": 101,
   "metadata": {},
   "outputs": [],
   "source": [
    "def odd_even(ll):\n",
    "    odd = LinkedList()\n",
    "    even = LinkedList()\n",
    "    \n",
    "    index = 0\n",
    "    node = ll.head\n",
    "    \n",
    "    while node is not None:\n",
    "        index += 1\n",
    "        if index%2==0:\n",
    "            even.append(node)\n",
    "        else:\n",
    "            odd.append(node)\n",
    "        node = node.next\n",
    "        \n",
    "    if odd.head is not None:\n",
    "        odd.tail.next = None\n",
    "    if even.head is not None:\n",
    "        even.tail.next = None\n",
    "    \n",
    "    return (odd, even)"
   ]
  },
  {
   "cell_type": "code",
   "execution_count": 102,
   "metadata": {},
   "outputs": [
    {
     "name": "stdout",
     "output_type": "stream",
     "text": [
      "1\n",
      "4\n",
      "3\n",
      "\n",
      "2\n",
      "7\n"
     ]
    }
   ],
   "source": [
    "ll = LinkedList()\n",
    "ll.create_ll([1,2,4,7,3])\n",
    "odd, even = odd_even(ll)\n",
    "odd.traverse()\n",
    "print()\n",
    "even.traverse()"
   ]
  },
  {
   "cell_type": "markdown",
   "metadata": {},
   "source": [
    "### Given a linked list and pointers to a node N and its previous node Prev, delete N from the linked list"
   ]
  },
  {
   "cell_type": "code",
   "execution_count": 103,
   "metadata": {},
   "outputs": [
    {
     "name": "stdout",
     "output_type": "stream",
     "text": [
      "3\n",
      "7\n",
      "1\n",
      "2\n",
      "5\n",
      "\n",
      "7\n",
      "1\n",
      "2\n",
      "5\n"
     ]
    }
   ],
   "source": [
    "def delete(ll,to_delete,prev):\n",
    "    if ll.head == to_delete:\n",
    "        ll.head = to_delete.next\n",
    "    \n",
    "    if ll.tail == to_delete:\n",
    "        ll.tail = prev\n",
    "        \n",
    "    if prev is not None:\n",
    "        prev.next = to_delete.next\n",
    "\n",
    "ll = LinkedList()\n",
    "node1, node2, node3, node4, node5 = Node(3), Node(1), Node(7), Node(2), Node(5)\n",
    "ll.append(node1) ;ll.append(node3) ;ll.append(node2) ;ll.append(node4) ;ll.append(node5)\n",
    "ll.traverse()\n",
    "print()\n",
    "        \n",
    "delete(ll,node1,None)\n",
    "ll.traverse()"
   ]
  },
  {
   "cell_type": "markdown",
   "metadata": {},
   "source": [
    "### Follow Up: Given a node N in a Linked List, can you delete it without the previous node in O(1) time?"
   ]
  },
  {
   "cell_type": "code",
   "execution_count": 104,
   "metadata": {},
   "outputs": [
    {
     "name": "stdout",
     "output_type": "stream",
     "text": [
      "3\n",
      "7\n",
      "1\n",
      "2\n",
      "5\n",
      "\n",
      "3\n",
      "7\n",
      "1\n",
      "5\n"
     ]
    }
   ],
   "source": [
    "def delete_without_prev(ll,node):\n",
    "    if node.next is None:\n",
    "        return\n",
    "    node.data = node.next.data\n",
    "    delete(ll,node.next,node)\n",
    "\n",
    "ll = LinkedList()\n",
    "node1, node2, node3, node4, node5 = Node(3), Node(1), Node(7), Node(2), Node(5)\n",
    "ll.append(node1) ;ll.append(node3) ;ll.append(node2) ;ll.append(node4) ;ll.append(node5)\n",
    "ll.traverse()\n",
    "print()\n",
    "\n",
    "delete_without_prev(ll,node4)\n",
    "ll.traverse()\n"
   ]
  },
  {
   "cell_type": "markdown",
   "metadata": {},
   "source": [
    "## Slow Pointer , Fast Pointer Technique"
   ]
  },
  {
   "cell_type": "markdown",
   "metadata": {},
   "source": [
    "### Find if a Linked List has a cycle"
   ]
  },
  {
   "cell_type": "code",
   "execution_count": 105,
   "metadata": {},
   "outputs": [],
   "source": [
    "def has_cycle(ll):\n",
    "    fast, slow = ll.head, ll.head\n",
    "    while fast is not None:\n",
    "        fast = fast.next\n",
    "        if fast == slow:\n",
    "            return True\n",
    "        if fast is not None:\n",
    "            fast = fast.next\n",
    "            if fast == slow:\n",
    "                return True\n",
    "        slow = slow.next\n",
    "    return False"
   ]
  },
  {
   "cell_type": "code",
   "execution_count": 106,
   "metadata": {},
   "outputs": [
    {
     "data": {
      "text/plain": [
       "True"
      ]
     },
     "execution_count": 106,
     "metadata": {},
     "output_type": "execute_result"
    }
   ],
   "source": [
    "ll = LinkedList()\n",
    "node1, node2, node3, node4, node5 = Node(1), Node(2), Node(3), Node(4), Node(5)\n",
    "ll.append(node1) ;ll.append(node2) ;ll.append(node3) ;ll.append(node4) ;ll.append(node5)\n",
    "node5.next = node2\n",
    "\n",
    "has_cycle(ll)"
   ]
  },
  {
   "cell_type": "markdown",
   "metadata": {},
   "source": [
    "### Find the length of the cycle"
   ]
  },
  {
   "cell_type": "code",
   "execution_count": 107,
   "metadata": {},
   "outputs": [],
   "source": [
    "def find_length_cycle(ll):\n",
    "    fast, slow = ll.head, ll.head\n",
    "    while fast is not None:\n",
    "        fast = fast.next\n",
    "        if fast == slow:\n",
    "            break\n",
    "        if fast is not None:\n",
    "            fast = fast.next\n",
    "            if fast == slow:\n",
    "                break\n",
    "        slow = slow.next\n",
    "    \n",
    "    if fast is None:\n",
    "        return -1\n",
    "    \n",
    "    fast = fast.next\n",
    "    nodes_passed = 1\n",
    "    while fast != slow:\n",
    "        fast = fast.next\n",
    "        nodes_passed += 1\n",
    "    \n",
    "    return nodes_passed"
   ]
  },
  {
   "cell_type": "code",
   "execution_count": 127,
   "metadata": {},
   "outputs": [
    {
     "data": {
      "text/plain": [
       "3"
      ]
     },
     "execution_count": 127,
     "metadata": {},
     "output_type": "execute_result"
    }
   ],
   "source": [
    "ll = LinkedList()\n",
    "node1, node2, node3, node4, node5 = Node(1), Node(2), Node(3), Node(4), Node(5)\n",
    "ll.append(node1) ;ll.append(node2) ;ll.append(node3) ;ll.append(node4) ;ll.append(node5)\n",
    "node5.next = node3\n",
    "\n",
    "find_length_cycle(ll)"
   ]
  },
  {
   "cell_type": "markdown",
   "metadata": {},
   "source": [
    "### Given a Linked List with a cycle, find the node where the cycle begins."
   ]
  },
  {
   "cell_type": "code",
   "execution_count": 128,
   "metadata": {},
   "outputs": [],
   "source": [
    "def find_start(ll):\n",
    "    l = find_length_cycle(ll)\n",
    "    fast, slow = ll.head, ll.head\n",
    "    for i in range(l):\n",
    "        fast = fast.next\n",
    "    while fast != slow:\n",
    "        fast = fast.next\n",
    "        slow = slow.next\n",
    "    return slow"
   ]
  },
  {
   "cell_type": "code",
   "execution_count": 129,
   "metadata": {},
   "outputs": [
    {
     "data": {
      "text/plain": [
       "2"
      ]
     },
     "execution_count": 129,
     "metadata": {},
     "output_type": "execute_result"
    }
   ],
   "source": [
    "ll = LinkedList()\n",
    "node1, node2, node3, node4, node5 = Node(1), Node(2), Node(3), Node(4), Node(5)\n",
    "ll.append(node1) ;ll.append(node2) ;ll.append(node3) ;ll.append(node4) ;ll.append(node5)\n",
    "node5.next = node2\n",
    "find_start(ll).data"
   ]
  },
  {
   "cell_type": "markdown",
   "metadata": {},
   "source": [
    "### Find the median node of a linked list.\n",
    "For example:1 -> 2 -> 3 -> 4 -> 5      Median node is 3"
   ]
  },
  {
   "cell_type": "code",
   "execution_count": 111,
   "metadata": {},
   "outputs": [
    {
     "data": {
      "text/plain": [
       "4"
      ]
     },
     "execution_count": 111,
     "metadata": {},
     "output_type": "execute_result"
    }
   ],
   "source": [
    "def find_median(ll):\n",
    "    fast, slow = ll.head, ll.head\n",
    "    while fast.next is not None:\n",
    "        fast = fast.next\n",
    "        if fast.next is not None:\n",
    "            fast = fast.next\n",
    "            slow = slow.next\n",
    "    return slow\n",
    "\n",
    "ll = LinkedList()\n",
    "ll.create_ll([1,2,3,4,5,2,1])\n",
    "find_median(ll).data"
   ]
  },
  {
   "cell_type": "markdown",
   "metadata": {},
   "source": [
    "### Find the 3rd to last element in a given linked list."
   ]
  },
  {
   "cell_type": "code",
   "execution_count": 112,
   "metadata": {},
   "outputs": [
    {
     "data": {
      "text/plain": [
       "3"
      ]
     },
     "execution_count": 112,
     "metadata": {},
     "output_type": "execute_result"
    }
   ],
   "source": [
    "def k_tolast(ll,k):\n",
    "    fast, slow = ll.head, ll.head\n",
    "    for i in range(k-1):\n",
    "        fast = fast.next\n",
    "    while fast.next is not None:\n",
    "        fast = fast.next\n",
    "        slow = slow.next\n",
    "    return slow\n",
    "\n",
    "ll = LinkedList()\n",
    "ll.create_ll([1,2,3,4,5])\n",
    "k_tolast(ll,3).data"
   ]
  },
  {
   "cell_type": "markdown",
   "metadata": {},
   "source": [
    "## Implement LRU Cache"
   ]
  },
  {
   "cell_type": "code",
   "execution_count": 14,
   "metadata": {},
   "outputs": [],
   "source": [
    "class Node:\n",
    "    \n",
    "    def __init__(self,key,value):\n",
    "        self.key = key\n",
    "        self.value = value\n",
    "        self.next = None\n",
    "        self.prev = None\n",
    "\n",
    "class LRUCache:\n",
    "    \n",
    "    def __init__(self, capacity):\n",
    "        self.capacity = capacity\n",
    "        self.head = None\n",
    "        self.tail = None\n",
    "        self.map = {}\n",
    "        \n",
    "    def read(self,key):\n",
    "        if key not in self.map:\n",
    "            return None\n",
    "        node = self.map[key]\n",
    "        self.remove(key)\n",
    "        self.add(node.key, node.value)\n",
    "    \n",
    "    def write(self,key,value):\n",
    "        if len(self.map) == self.capacity:\n",
    "            self.remove(self.head.key)\n",
    "        self.add(key, value)\n",
    "        \n",
    "    def remove(self,key):\n",
    "        if key not in self.map:\n",
    "            return -1\n",
    "        to_remove = self.map[key]\n",
    "        del self.map[key]\n",
    "        self.remove_from_ll(to_remove)\n",
    "    \n",
    "    def add(self,key,value):\n",
    "        node = Node(key,value)\n",
    "        self.map[key] = node\n",
    "        self.append_to_ll(node)\n",
    "        \n",
    "    def append_to_ll(self, node):\n",
    "        if self.head is None:\n",
    "            self.head = node\n",
    "        else:\n",
    "            self.tail.next = node\n",
    "            node.prev = self.tail\n",
    "        self.tail = node\n",
    "    \n",
    "    def remove_from_ll(self,to_remove):\n",
    "        if to_remove.prev is not None:\n",
    "            to_remove.prev.next = to_remove.next\n",
    "        if to_remove.next is not None:\n",
    "            to_remove.next.prev = to_remove.prev\n",
    "        if self.head == to_remove:\n",
    "            self.head = to_remove.next\n",
    "        if self.tail == to_remove:\n",
    "            self.tail = to_remove.prev\n",
    "    \n",
    "    def print_cache(self):\n",
    "        if self.head is None:\n",
    "            print('Cache is empty')\n",
    "        else:\n",
    "            node = self.head\n",
    "            while node is not None:\n",
    "                print(node.value)\n",
    "                node = node.next\n",
    "        \n",
    "    "
   ]
  },
  {
   "cell_type": "code",
   "execution_count": 31,
   "metadata": {},
   "outputs": [
    {
     "name": "stdout",
     "output_type": "stream",
     "text": [
      "1\n",
      "10\n",
      "2\n"
     ]
    }
   ],
   "source": [
    "cache = LRUCache(5)\n",
    "cache.write('a', 1)\n",
    "cache.write('b',2)\n",
    "cache.write('c',10)\n",
    "cache.read('b')\n",
    "cache.print_cache()"
   ]
  },
  {
   "cell_type": "code",
   "execution_count": 32,
   "metadata": {},
   "outputs": [
    {
     "name": "stdout",
     "output_type": "stream",
     "text": [
      "1\n",
      "10\n",
      "2\n",
      "3\n"
     ]
    }
   ],
   "source": [
    "cache.write('x',3)\n",
    "cache.print_cache()"
   ]
  },
  {
   "cell_type": "code",
   "execution_count": 33,
   "metadata": {},
   "outputs": [
    {
     "name": "stdout",
     "output_type": "stream",
     "text": [
      "1\n",
      "10\n",
      "2\n",
      "3\n",
      "15\n"
     ]
    }
   ],
   "source": [
    "cache.write('k', 15)\n",
    "cache.print_cache()"
   ]
  },
  {
   "cell_type": "code",
   "execution_count": 34,
   "metadata": {},
   "outputs": [
    {
     "name": "stdout",
     "output_type": "stream",
     "text": [
      "1\n",
      "10\n",
      "3\n",
      "15\n",
      "2\n"
     ]
    }
   ],
   "source": [
    "cache.read('b')\n",
    "cache.print_cache()"
   ]
  },
  {
   "cell_type": "code",
   "execution_count": 35,
   "metadata": {},
   "outputs": [
    {
     "name": "stdout",
     "output_type": "stream",
     "text": [
      "10\n",
      "3\n",
      "15\n",
      "2\n",
      "4\n"
     ]
    }
   ],
   "source": [
    "cache.write('m', 4)\n",
    "cache.print_cache()"
   ]
  },
  {
   "cell_type": "markdown",
   "metadata": {},
   "source": [
    "## Build a word iterator"
   ]
  },
  {
   "cell_type": "code",
   "execution_count": 57,
   "metadata": {},
   "outputs": [],
   "source": [
    "class word_index:\n",
    "    \n",
    "    def __init__(self,word,index):\n",
    "        self.word = word\n",
    "        self.index = index\n",
    "    \n",
    "class word_iterator:\n",
    "    \n",
    "    def __init__(self,string):\n",
    "        self.string = string.strip()\n",
    "        self.position = 0\n",
    "        self.advance_to_next_alpha()\n",
    "    \n",
    "    def advance_to_next_alpha(self):\n",
    "        while self.position < len(self.string) and not self.string[self.position].isalpha():\n",
    "            self.position += 1\n",
    "    \n",
    "    def has_next(self):\n",
    "        return self.position < len(self.string)\n",
    "    \n",
    "    def next(self):\n",
    "        if not self.has_next():\n",
    "            return None\n",
    "        \n",
    "        start_index = self.position\n",
    "        while self.position < len(self.string) and self.string[self.position].isalpha():\n",
    "            self.position += 1\n",
    "        end_index = self.position - 1\n",
    "        self.advance_to_next_alpha()\n",
    "        return word_index(self.string[start_index:end_index+1], start_index)"
   ]
  },
  {
   "cell_type": "markdown",
   "metadata": {},
   "source": [
    "## Imlement a Double Linked List"
   ]
  },
  {
   "cell_type": "code",
   "execution_count": 72,
   "metadata": {},
   "outputs": [],
   "source": [
    "class Node:\n",
    "    def __init__(self,word,index):\n",
    "        self.word = word\n",
    "        self.index = index\n",
    "        self.prev = None\n",
    "        self.next = None\n",
    "\n",
    "class LinkedList:\n",
    "    def __init__(self):\n",
    "        self.head = None\n",
    "        self.tail = None\n",
    "        \n",
    "    def append(self,node):\n",
    "        if self.head is None:\n",
    "            self.head = node\n",
    "        else:\n",
    "            self.tail.next = node\n",
    "            node.prev = self.tail\n",
    "        self.tail = node\n",
    "    \n",
    "    def delete(self,node):\n",
    "        if node.prev is not None:\n",
    "            node.prev.next = node.next\n",
    "        if node.next is not None:\n",
    "            node.next.prev = node.prev\n",
    "        if node == self.head:\n",
    "            self.head = node.next\n",
    "        if node == self.tail:\n",
    "            self.tail = node.prev"
   ]
  },
  {
   "cell_type": "markdown",
   "metadata": {},
   "source": [
    "## Smallest Subarray Covering All Values:\n",
    "Let's say you are given a large text document Doc and you don't want to store the entire document in memory. You are also given a set S of words. You want to find the smallest substring of Doc that contains all the words in S. For example:\n",
    "\n",
    "S: **[\"and\", \"of\", \"one\"]**\n",
    "\n",
    "Doc: \"a set of words that is complete in itself, typically containing a subject and predicate, conveying a statement, question, exclamation, or command, and consisting **of a main clause and sometimes one** or more subordinate clauses\"\n",
    "\n",
    "The underlined part above is the solution. Note that the order in which the words appear doesn't matter. Also, the length of the substring is in terms of number of characters."
   ]
  },
  {
   "cell_type": "code",
   "execution_count": 73,
   "metadata": {},
   "outputs": [],
   "source": [
    "def smallest_subarray(doc, wordset):\n",
    "    result = None\n",
    "    ll = LinkedList()\n",
    "    hashmap = {}\n",
    "    iterator = word_iterator(doc)\n",
    "    while iterator.has_next():\n",
    "        wi = iterator.next()\n",
    "        word = wi.word\n",
    "        if word not in wordset:\n",
    "            continue\n",
    "            \n",
    "        if word in hashmap:\n",
    "            to_delete = hashmap[word]\n",
    "            del hashmap[word]\n",
    "            ll.delete(to_delete)\n",
    "            \n",
    "        node = Node(word, wi.index)\n",
    "        hashmap[word] = node\n",
    "        ll.append(node)\n",
    "        \n",
    "        if len(hashmap) == len(wordset):\n",
    "            start_index = ll.head.index\n",
    "            end_index = ll.tail.index + len(ll.tail.word) - 1\n",
    "            if result is None or (end_index - start_index + 1) < len(result):\n",
    "                result = doc[start_index:end_index+1]\n",
    "    return result    "
   ]
  },
  {
   "cell_type": "code",
   "execution_count": 76,
   "metadata": {},
   "outputs": [
    {
     "data": {
      "text/plain": [
       "'of a main clause and sometimes one'"
      ]
     },
     "execution_count": 76,
     "metadata": {},
     "output_type": "execute_result"
    }
   ],
   "source": [
    "doc = 'a set of words that is complete in itself, typically containing a subject and predicate, conveying a statement, question, exclamation, or command, and consisting of a main clause and sometimes one or more subordinate clauses'\n",
    "wordset = {\"and\", \"of\", \"one\"}\n",
    "smallest_subarray(doc, wordset)"
   ]
  },
  {
   "cell_type": "code",
   "execution_count": 77,
   "metadata": {},
   "outputs": [
    {
     "data": {
      "text/plain": [
       "'and one of'"
      ]
     },
     "execution_count": 77,
     "metadata": {},
     "output_type": "execute_result"
    }
   ],
   "source": [
    "doc = \"one of the car and bike and one of those\"\n",
    "wordset = {\"and\", \"of\", \"one\"}\n",
    "smallest_subarray(doc,wordset)"
   ]
  }
 ],
 "metadata": {
  "kernelspec": {
   "display_name": "Python 3",
   "language": "python",
   "name": "python3"
  },
  "language_info": {
   "codemirror_mode": {
    "name": "ipython",
    "version": 3
   },
   "file_extension": ".py",
   "mimetype": "text/x-python",
   "name": "python",
   "nbconvert_exporter": "python",
   "pygments_lexer": "ipython3",
   "version": "3.6.8"
  }
 },
 "nbformat": 4,
 "nbformat_minor": 2
}
