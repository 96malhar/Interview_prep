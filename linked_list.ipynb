{
 "cells": [
  {
   "cell_type": "markdown",
   "metadata": {},
   "source": [
    "## Implementation"
   ]
  },
  {
   "cell_type": "code",
   "execution_count": 11,
   "metadata": {},
   "outputs": [],
   "source": [
    "class Node:\n",
    "    \n",
    "    def __init__(self,data):\n",
    "        self.data = data\n",
    "        self.next = None\n",
    "\n",
    "class LinkedList:\n",
    "    \n",
    "    def __init__(self):\n",
    "        self.head = None\n",
    "        self.tail = None\n",
    "    \n",
    "    def traverse(self):\n",
    "        if self.head is None:\n",
    "            print('Linked List is empty')\n",
    "        else:\n",
    "            node = self.head\n",
    "            while node is not None:\n",
    "                print(node.data)\n",
    "                node = node.next\n",
    "\n",
    "    def count(self):\n",
    "        node = self.head\n",
    "        count = 0\n",
    "        while node is not None:\n",
    "            count +=1\n",
    "            node = node.next\n",
    "        return count\n",
    "    \n",
    "    def append(self,node):\n",
    "        if self.head is None:\n",
    "            self.head = node\n",
    "        else:\n",
    "            self.tail.next = node\n",
    "        self.tail = node\n",
    "    \n",
    "    def create_ll(self,a):\n",
    "        for num in a:\n",
    "            self.append(Node(num))\n",
    "        \n",
    "    def delete_by_value(self,x):\n",
    "        if self.head is None:\n",
    "            print('List is empty')\n",
    "            return\n",
    "        if self.head.data == x:\n",
    "            self.head = self.head.next\n",
    "            return\n",
    "        \n",
    "        node = self.head\n",
    "        while node.next is not None:\n",
    "            if node.next.data == x:\n",
    "                break\n",
    "            node = node.next\n",
    "            \n",
    "        if node.next is None:\n",
    "            print('Value not found')\n",
    "            return\n",
    "        \n",
    "        if node.next.next is None:\n",
    "            ll.tail = node\n",
    "                \n",
    "        node.next = node.next.next\n",
    "    \n",
    "    def get(self,n):\n",
    "        node = self.head\n",
    "        i = 1\n",
    "        while i!=n and node is not None:\n",
    "            i += 1\n",
    "            node = node.next\n",
    "        if node is None:\n",
    "            print('Index out of bounds')\n",
    "            return\n",
    "        return node.data\n",
    "    \n",
    "    "
   ]
  },
  {
   "cell_type": "code",
   "execution_count": 3,
   "metadata": {},
   "outputs": [
    {
     "name": "stdout",
     "output_type": "stream",
     "text": [
      "1\n",
      "2\n",
      "3\n",
      "4\n"
     ]
    },
    {
     "data": {
      "text/plain": [
       "3"
      ]
     },
     "execution_count": 3,
     "metadata": {},
     "output_type": "execute_result"
    }
   ],
   "source": [
    "ll = LinkedList()\n",
    "ll.create_ll([1,2,3,4])\n",
    "ll.traverse()\n",
    "ll.get(3)"
   ]
  },
  {
   "cell_type": "markdown",
   "metadata": {},
   "source": [
    "### You are given a Linked List with nodes that have values 0, 1 or 2. Sort the linked list. For example,\n",
    "\n",
    "* Input: 1 -> 0 -> 2 -> 1 -> 2 -> 1 \n",
    "* Output: 0 -> 1 -> 1 -> 1 -> 2 -> 2"
   ]
  },
  {
   "cell_type": "code",
   "execution_count": 4,
   "metadata": {},
   "outputs": [],
   "source": [
    "def sorted_list(ll):\n",
    "    ll0 = LinkedList()\n",
    "    ll1 = LinkedList()\n",
    "    ll2 = LinkedList()\n",
    "    \n",
    "    node = ll.head\n",
    "    while node is not None:\n",
    "        if node.data == 0:\n",
    "            ll0.append(node)\n",
    "        elif node.data == 1:\n",
    "            ll1.append(node)\n",
    "        elif node.data == 2:\n",
    "            ll2.append(node)\n",
    "        else:\n",
    "            print('Invalid value {}'.format(node.data))\n",
    "            return\n",
    "        node = node.next\n",
    "        \n",
    "    result = LinkedList()\n",
    "    \n",
    "    if ll0.head is not None:\n",
    "        result.append(ll0.head)\n",
    "        result.tail = ll0.tail\n",
    "    if ll1.head is not None:\n",
    "        result.append(ll1.head)\n",
    "        result.tail = ll1.tail\n",
    "    if ll2.head is not None:\n",
    "        result.append(ll2.head)\n",
    "        result.tail = ll2.tail\n",
    "        \n",
    "    result.tail.next = None\n",
    "    return result"
   ]
  },
  {
   "cell_type": "code",
   "execution_count": 5,
   "metadata": {},
   "outputs": [
    {
     "name": "stdout",
     "output_type": "stream",
     "text": [
      "0\n",
      "0\n",
      "1\n",
      "1\n",
      "1\n",
      "2\n",
      "2\n"
     ]
    }
   ],
   "source": [
    "ll = LinkedList()\n",
    "ll.create_ll([1,2,1,0,2,1,0])\n",
    "result = sorted_list(ll)\n",
    "result.traverse()"
   ]
  },
  {
   "cell_type": "markdown",
   "metadata": {},
   "source": [
    "### Odd Even Linked List: Given a Linked List L, separate it into 2 Linked Lists.One contains L's odd nodes and the other contains L's even nodes. For example:\n",
    "* Input: Head -> 1 -> 2 -> 3 -> 4 -> 5\n",
    "* Result 1: Head -> 1 -> 3 -> 5\n",
    "* Result 2: Head -> 2 -> 4\n",
    "* Note: Odd and Even here refer to the node's position, not value"
   ]
  },
  {
   "cell_type": "code",
   "execution_count": 6,
   "metadata": {},
   "outputs": [],
   "source": [
    "def odd_even(ll):\n",
    "    odd = LinkedList()\n",
    "    even = LinkedList()\n",
    "    \n",
    "    index = 0\n",
    "    node = ll.head\n",
    "    \n",
    "    while node is not None:\n",
    "        index += 1\n",
    "        if index%2==0:\n",
    "            even.append(node)\n",
    "        else:\n",
    "            odd.append(node)\n",
    "        node = node.next\n",
    "        \n",
    "    if odd.head is not None:\n",
    "        odd.tail.next = None\n",
    "    if even.head is not None:\n",
    "        even.tail.next = None\n",
    "    \n",
    "    return (odd, even)"
   ]
  },
  {
   "cell_type": "code",
   "execution_count": 7,
   "metadata": {},
   "outputs": [
    {
     "name": "stdout",
     "output_type": "stream",
     "text": [
      "1\n",
      "4\n",
      "3\n",
      "\n",
      "2\n",
      "7\n"
     ]
    }
   ],
   "source": [
    "ll = LinkedList()\n",
    "ll.create_ll([1,2,4,7,3])\n",
    "odd, even = odd_even(ll)\n",
    "odd.traverse()\n",
    "print()\n",
    "even.traverse()"
   ]
  },
  {
   "cell_type": "markdown",
   "metadata": {},
   "source": [
    "### Remove Duplicate from sorted list\n",
    "* Input: 1->1->2->3->3\n",
    "* Output: 1->2->3"
   ]
  },
  {
   "cell_type": "code",
   "execution_count": 2,
   "metadata": {},
   "outputs": [],
   "source": [
    "# Definition for singly-linked list.\n",
    "class ListNode:\n",
    "    def __init__(self, x):\n",
    "        self.val = x\n",
    "        self.next = None\n",
    "\n",
    "class Solution:\n",
    "    def deleteDuplicates(self, head: ListNode) -> ListNode:\n",
    "        if head is None:\n",
    "            return head\n",
    "        ll = LinkedList()\n",
    "        node = head\n",
    "        while node:\n",
    "            if ll.head is None or ll.tail.val < node.val:\n",
    "                ll.append(node)\n",
    "            node = node.next\n",
    "        ll.tail.next = None\n",
    "        return ll.head\n",
    "    \n",
    "class LinkedList:\n",
    "    def __init__(self):\n",
    "        self.head = None\n",
    "        self.tail = None\n",
    "    \n",
    "    def append(self,node):\n",
    "        if self.head is None:\n",
    "            self.head = node\n",
    "        else:\n",
    "            self.tail.next = node\n",
    "        self.tail = node"
   ]
  },
  {
   "cell_type": "markdown",
   "metadata": {},
   "source": [
    "### Add two numbers\n",
    "You are given two non-empty linked lists representing two non-negative integers. The digits are stored in reverse order and each of their nodes contain a single digit. Add the two numbers and return it as a linked list.\n",
    "\n",
    "You may assume the two numbers do not contain any leading zero, except the number 0 itself.\n",
    "\n",
    "* Input: (2 -> 4 -> 3) + (5 -> 6 -> 4)\n",
    "* Output: 7 -> 0 -> 8\n",
    "* Explanation: 342 + 465 = 807."
   ]
  },
  {
   "cell_type": "code",
   "execution_count": 1,
   "metadata": {},
   "outputs": [],
   "source": [
    "# Definition for singly-linked list.\n",
    "class ListNode:\n",
    "    def __init__(self, x):\n",
    "        self.val = x\n",
    "        self.next = None\n",
    "\n",
    "class Solution:\n",
    "    def addTwoNumbers(self, l1: ListNode, l2: ListNode) -> ListNode:\n",
    "        carry = 0\n",
    "        node1, node2 = l1, l2\n",
    "        result = LinkedList()\n",
    "        while node1 or node2:\n",
    "            val1, val2 = 0,0\n",
    "            if node1:\n",
    "                val1 = node1.val\n",
    "                node1 = node1.next\n",
    "            if node2:\n",
    "                val2 = node2.val\n",
    "                node2 = node2.next\n",
    "            sum = carry + val1 + val2\n",
    "            unit = sum%10\n",
    "            carry = sum//10\n",
    "            result.append(ListNode(unit))\n",
    "        \n",
    "        if carry > 0:\n",
    "            result.append(ListNode(carry))\n",
    "        return result.head\n",
    "        \n",
    "class LinkedList:\n",
    "    def __init__(self):\n",
    "        self.head = None\n",
    "        self.tail = None\n",
    "    \n",
    "    def append(self, node):\n",
    "        if self.head is None:\n",
    "            self.head = node\n",
    "        else:\n",
    "            self.tail.next = node\n",
    "        self.tail = node"
   ]
  },
  {
   "cell_type": "markdown",
   "metadata": {},
   "source": [
    "### Leetcode 708 - Insert into a Cyclic Sorted List\n",
    "Refer Leetcode for solution"
   ]
  },
  {
   "cell_type": "markdown",
   "metadata": {},
   "source": [
    "### Given a linked list and pointers to a node N and its previous node Prev, delete N from the linked list"
   ]
  },
  {
   "cell_type": "code",
   "execution_count": 8,
   "metadata": {},
   "outputs": [
    {
     "name": "stdout",
     "output_type": "stream",
     "text": [
      "3\n",
      "7\n",
      "1\n",
      "2\n",
      "5\n",
      "\n",
      "7\n",
      "1\n",
      "2\n",
      "5\n"
     ]
    }
   ],
   "source": [
    "def delete(ll,to_delete,prev):\n",
    "    if ll.head == to_delete:\n",
    "        ll.head = to_delete.next\n",
    "    \n",
    "    if ll.tail == to_delete:\n",
    "        ll.tail = prev\n",
    "        \n",
    "    if prev is not None:\n",
    "        prev.next = to_delete.next\n",
    "\n",
    "ll = LinkedList()\n",
    "node1, node2, node3, node4, node5 = Node(3), Node(1), Node(7), Node(2), Node(5)\n",
    "ll.append(node1) ;ll.append(node3) ;ll.append(node2) ;ll.append(node4) ;ll.append(node5)\n",
    "ll.traverse()\n",
    "print()\n",
    "        \n",
    "delete(ll,node1,None)\n",
    "ll.traverse()"
   ]
  },
  {
   "cell_type": "markdown",
   "metadata": {},
   "source": [
    "### Follow Up: Given a node N in a Linked List, can you delete it without the previous node in O(1) time?"
   ]
  },
  {
   "cell_type": "code",
   "execution_count": 9,
   "metadata": {},
   "outputs": [
    {
     "name": "stdout",
     "output_type": "stream",
     "text": [
      "3\n",
      "7\n",
      "1\n",
      "2\n",
      "5\n",
      "\n",
      "3\n",
      "7\n",
      "1\n",
      "5\n"
     ]
    }
   ],
   "source": [
    "def delete_without_prev(ll,node):\n",
    "    if node.next is None:\n",
    "        return\n",
    "    node.data = node.next.data\n",
    "    delete(ll,node.next,node)\n",
    "\n",
    "ll = LinkedList()\n",
    "node1, node2, node3, node4, node5 = Node(3), Node(1), Node(7), Node(2), Node(5)\n",
    "ll.append(node1) ;ll.append(node3) ;ll.append(node2) ;ll.append(node4) ;ll.append(node5)\n",
    "ll.traverse()\n",
    "print()\n",
    "\n",
    "delete_without_prev(ll,node4)\n",
    "ll.traverse()\n"
   ]
  },
  {
   "cell_type": "markdown",
   "metadata": {},
   "source": [
    "## Slow Pointer , Fast Pointer Technique"
   ]
  },
  {
   "cell_type": "markdown",
   "metadata": {},
   "source": [
    "### Find if a Linked List has a cycle"
   ]
  },
  {
   "cell_type": "code",
   "execution_count": 10,
   "metadata": {},
   "outputs": [],
   "source": [
    "def has_cycle(ll):\n",
    "    fast, slow = ll.head, ll.head\n",
    "    while fast is not None:\n",
    "        fast = fast.next\n",
    "        if fast == slow:\n",
    "            return True\n",
    "        if fast is not None:\n",
    "            fast = fast.next\n",
    "            if fast == slow:\n",
    "                return True\n",
    "        slow = slow.next\n",
    "    return False"
   ]
  },
  {
   "cell_type": "code",
   "execution_count": 11,
   "metadata": {},
   "outputs": [
    {
     "data": {
      "text/plain": [
       "True"
      ]
     },
     "execution_count": 11,
     "metadata": {},
     "output_type": "execute_result"
    }
   ],
   "source": [
    "ll = LinkedList()\n",
    "node1, node2, node3, node4, node5 = Node(1), Node(2), Node(3), Node(4), Node(5)\n",
    "ll.append(node1) ;ll.append(node2) ;ll.append(node3) ;ll.append(node4) ;ll.append(node5)\n",
    "node5.next = node2\n",
    "\n",
    "has_cycle(ll)"
   ]
  },
  {
   "cell_type": "markdown",
   "metadata": {},
   "source": [
    "### Find the length of the cycle"
   ]
  },
  {
   "cell_type": "code",
   "execution_count": 12,
   "metadata": {},
   "outputs": [],
   "source": [
    "def find_length_cycle(ll):\n",
    "    fast, slow = ll.head, ll.head\n",
    "    while fast is not None:\n",
    "        fast = fast.next\n",
    "        if fast == slow:\n",
    "            break\n",
    "        if fast is not None:\n",
    "            fast = fast.next\n",
    "            if fast == slow:\n",
    "                break\n",
    "        slow = slow.next\n",
    "    \n",
    "    if fast is None:\n",
    "        return -1\n",
    "    \n",
    "    fast = fast.next\n",
    "    nodes_passed = 1\n",
    "    while fast != slow:\n",
    "        fast = fast.next\n",
    "        nodes_passed += 1\n",
    "    \n",
    "    return nodes_passed"
   ]
  },
  {
   "cell_type": "code",
   "execution_count": 13,
   "metadata": {},
   "outputs": [
    {
     "data": {
      "text/plain": [
       "3"
      ]
     },
     "execution_count": 13,
     "metadata": {},
     "output_type": "execute_result"
    }
   ],
   "source": [
    "ll = LinkedList()\n",
    "node1, node2, node3, node4, node5 = Node(1), Node(2), Node(3), Node(4), Node(5)\n",
    "ll.append(node1) ;ll.append(node2) ;ll.append(node3) ;ll.append(node4) ;ll.append(node5)\n",
    "node5.next = node3\n",
    "\n",
    "find_length_cycle(ll)"
   ]
  },
  {
   "cell_type": "markdown",
   "metadata": {},
   "source": [
    "### Given a Linked List with a cycle, find the node where the cycle begins."
   ]
  },
  {
   "cell_type": "code",
   "execution_count": 14,
   "metadata": {},
   "outputs": [],
   "source": [
    "def find_start(ll):\n",
    "    l = find_length_cycle(ll)\n",
    "    fast, slow = ll.head, ll.head\n",
    "    for i in range(l):\n",
    "        fast = fast.next\n",
    "    while fast != slow:\n",
    "        fast = fast.next\n",
    "        slow = slow.next\n",
    "    return slow"
   ]
  },
  {
   "cell_type": "code",
   "execution_count": 15,
   "metadata": {},
   "outputs": [
    {
     "data": {
      "text/plain": [
       "2"
      ]
     },
     "execution_count": 15,
     "metadata": {},
     "output_type": "execute_result"
    }
   ],
   "source": [
    "ll = LinkedList()\n",
    "node1, node2, node3, node4, node5 = Node(1), Node(2), Node(3), Node(4), Node(5)\n",
    "ll.append(node1) ;ll.append(node2) ;ll.append(node3) ;ll.append(node4) ;ll.append(node5)\n",
    "node5.next = node2\n",
    "find_start(ll).data"
   ]
  },
  {
   "cell_type": "markdown",
   "metadata": {},
   "source": [
    "### Find the median node of a linked list.\n",
    "For example:1 -> 2 -> 3 -> 4 -> 5      Median node is 3"
   ]
  },
  {
   "cell_type": "code",
   "execution_count": 16,
   "metadata": {},
   "outputs": [
    {
     "data": {
      "text/plain": [
       "4"
      ]
     },
     "execution_count": 16,
     "metadata": {},
     "output_type": "execute_result"
    }
   ],
   "source": [
    "def find_median(ll):\n",
    "    fast, slow = ll.head, ll.head\n",
    "    while fast.next is not None:\n",
    "        fast = fast.next\n",
    "        if fast.next is not None:\n",
    "            fast = fast.next\n",
    "            slow = slow.next\n",
    "    return slow\n",
    "\n",
    "ll = LinkedList()\n",
    "ll.create_ll([1,2,3,4,5,2,1])\n",
    "find_median(ll).data"
   ]
  },
  {
   "cell_type": "markdown",
   "metadata": {},
   "source": [
    "### Find the 3rd to last element in a given linked list."
   ]
  },
  {
   "cell_type": "code",
   "execution_count": 12,
   "metadata": {},
   "outputs": [
    {
     "data": {
      "text/plain": [
       "3"
      ]
     },
     "execution_count": 12,
     "metadata": {},
     "output_type": "execute_result"
    }
   ],
   "source": [
    "def k_tolast(ll,k):\n",
    "    fast, slow = ll.head, ll.head\n",
    "    for i in range(k-1):\n",
    "        try:\n",
    "            fast = fast.next\n",
    "        except:\n",
    "            print('Invalid Index')\n",
    "            return\n",
    "    while fast.next is not None:\n",
    "        fast = fast.next\n",
    "        slow = slow.next\n",
    "    return slow.data\n",
    "\n",
    "ll = LinkedList()\n",
    "ll.create_ll([1,2,3,4,5])\n",
    "k_tolast(ll,3)"
   ]
  },
  {
   "cell_type": "markdown",
   "metadata": {},
   "source": [
    "## Reverse a Linked List"
   ]
  },
  {
   "cell_type": "code",
   "execution_count": 18,
   "metadata": {},
   "outputs": [
    {
     "name": "stdout",
     "output_type": "stream",
     "text": [
      "4\n",
      "3\n",
      "2\n",
      "1\n"
     ]
    }
   ],
   "source": [
    "def reverse_ll(ll):\n",
    "    ll.tail = ll.head\n",
    "    prev = None\n",
    "    curr = ll.head\n",
    "    while curr is not None:\n",
    "        next = curr.next\n",
    "        curr.next = prev\n",
    "        prev = curr\n",
    "        curr = next\n",
    "    ll.head = prev\n",
    "\n",
    "ll = LinkedList()\n",
    "ll.create_ll([1,2,3,4])\n",
    "reverse_ll(ll)\n",
    "ll.traverse()"
   ]
  },
  {
   "cell_type": "markdown",
   "metadata": {},
   "source": [
    "### Check if a Linked List is a palindrome"
   ]
  },
  {
   "cell_type": "code",
   "execution_count": 19,
   "metadata": {},
   "outputs": [],
   "source": [
    "def ispalindrome(ll):\n",
    "    median_node = find_median(ll)\n",
    "    if median_node.next is None:\n",
    "        return True\n",
    "    \n",
    "    second_head = median_node.next\n",
    "    median_node.next = None\n",
    "    new_ll = LinkedList()\n",
    "    new_ll.append(second_head)\n",
    "    \n",
    "    reverse_ll(new_ll)\n",
    "    \n",
    "    node1 = ll.head\n",
    "    node2 = new_ll.head\n",
    "    while node2 is not None:\n",
    "        if node1.data != node2.data:\n",
    "            return False\n",
    "        node1 = node1.next\n",
    "        node2 = node2.next\n",
    "    return True"
   ]
  },
  {
   "cell_type": "code",
   "execution_count": 24,
   "metadata": {},
   "outputs": [
    {
     "data": {
      "text/plain": [
       "True"
      ]
     },
     "execution_count": 24,
     "metadata": {},
     "output_type": "execute_result"
    }
   ],
   "source": [
    "ll = LinkedList()\n",
    "ll.create_ll([1,2,1,2,1])\n",
    "ispalindrome(ll)"
   ]
  },
  {
   "cell_type": "markdown",
   "metadata": {},
   "source": [
    "## Implement LRU Cache"
   ]
  },
  {
   "cell_type": "code",
   "execution_count": 3,
   "metadata": {},
   "outputs": [],
   "source": [
    "class Node:\n",
    "    \n",
    "    def __init__(self,key,value):\n",
    "        self.key = key\n",
    "        self.value = value\n",
    "        self.next = None\n",
    "        self.prev = None\n",
    "\n",
    "class LRUCache:\n",
    "\n",
    "    def __init__(self, capacity):\n",
    "        self.capacity = capacity\n",
    "        self.head = None\n",
    "        self.tail = None\n",
    "        self.map = {}\n",
    "        \n",
    "    def get(self,key):\n",
    "        if key not in self.map:\n",
    "            return -1\n",
    "        node = self.map[key]\n",
    "        self.remove_from_ll(node)\n",
    "        self.append_to_ll(node)\n",
    "        return node.value\n",
    "    \n",
    "    def put(self,key,value):\n",
    "        if key in self.map:\n",
    "            node = self.map[key]\n",
    "            node.value = value\n",
    "            self.remove_from_ll(node)\n",
    "            self.append_to_ll(node)\n",
    "        else:\n",
    "            if len(self.map) == self.capacity:\n",
    "                self.remove(self.head.key)\n",
    "            self.add(key, value)\n",
    "        \n",
    "    def remove(self,key):\n",
    "        if key not in self.map:\n",
    "            return -1\n",
    "        to_remove = self.map[key]\n",
    "        del self.map[key]\n",
    "        self.remove_from_ll(to_remove)\n",
    "    \n",
    "    def add(self,key,value):\n",
    "        node = Node(key,value)\n",
    "        self.map[key] = node\n",
    "        self.append_to_ll(node)\n",
    "        \n",
    "    def append_to_ll(self, node):\n",
    "        if self.head is None:\n",
    "            self.head = node\n",
    "        else:\n",
    "            self.tail.next = node\n",
    "            node.prev = self.tail\n",
    "        self.tail = node\n",
    "    \n",
    "    def remove_from_ll(self,to_remove):\n",
    "        if to_remove.prev is not None:\n",
    "            to_remove.prev.next = to_remove.next\n",
    "        if to_remove.next is not None:\n",
    "            to_remove.next.prev = to_remove.prev\n",
    "        if self.head == to_remove:\n",
    "            self.head = to_remove.next\n",
    "        if self.tail == to_remove:\n",
    "            self.tail = to_remove.prev\n",
    "        to_remove.next = None\n",
    "        to_remove.prev = None\n",
    "            \n",
    "    def print_cache(self):\n",
    "        if self.head is None:\n",
    "            print('Cache is empty')\n",
    "            return\n",
    "        node = self.head\n",
    "        while node is not None:\n",
    "            print(node.key)\n",
    "            node = node.next\n"
   ]
  },
  {
   "cell_type": "code",
   "execution_count": 4,
   "metadata": {},
   "outputs": [
    {
     "name": "stdout",
     "output_type": "stream",
     "text": [
      "a\n",
      "c\n",
      "b\n"
     ]
    }
   ],
   "source": [
    "cache = LRUCache(5)\n",
    "cache.put('a', 1)\n",
    "cache.put('b',2)\n",
    "cache.put('c',10)\n",
    "cache.get('b')\n",
    "cache.print_cache()"
   ]
  },
  {
   "cell_type": "code",
   "execution_count": 5,
   "metadata": {},
   "outputs": [
    {
     "name": "stdout",
     "output_type": "stream",
     "text": [
      "a\n",
      "c\n",
      "b\n",
      "x\n"
     ]
    }
   ],
   "source": [
    "cache.put('x',3)\n",
    "cache.print_cache()"
   ]
  },
  {
   "cell_type": "code",
   "execution_count": 6,
   "metadata": {},
   "outputs": [
    {
     "name": "stdout",
     "output_type": "stream",
     "text": [
      "a\n",
      "c\n",
      "b\n",
      "x\n",
      "k\n"
     ]
    }
   ],
   "source": [
    "cache.put('k', 15)\n",
    "cache.print_cache()"
   ]
  },
  {
   "cell_type": "code",
   "execution_count": 7,
   "metadata": {},
   "outputs": [
    {
     "name": "stdout",
     "output_type": "stream",
     "text": [
      "a\n",
      "c\n",
      "x\n",
      "k\n",
      "b\n"
     ]
    }
   ],
   "source": [
    "cache.get('b')\n",
    "cache.print_cache()"
   ]
  },
  {
   "cell_type": "code",
   "execution_count": 8,
   "metadata": {},
   "outputs": [
    {
     "name": "stdout",
     "output_type": "stream",
     "text": [
      "a\n",
      "c\n",
      "k\n",
      "b\n",
      "x\n"
     ]
    }
   ],
   "source": [
    "cache.put('x', 4)\n",
    "cache.print_cache()"
   ]
  },
  {
   "cell_type": "markdown",
   "metadata": {},
   "source": [
    "## Build a word iterator"
   ]
  },
  {
   "cell_type": "code",
   "execution_count": 24,
   "metadata": {},
   "outputs": [],
   "source": [
    "class word_index:\n",
    "    def __init__(self,word,index):\n",
    "        self.word = word\n",
    "        self.index = index\n",
    "    \n",
    "class word_iterator:\n",
    "    def __init__(self,string):\n",
    "        self.string = string\n",
    "        self.position = 0\n",
    "        self.get_next_alpha()\n",
    "    \n",
    "    def get_next_alpha(self):\n",
    "        while self.position < len(self.string) and not self.string[self.position].isalpha():\n",
    "            self.position += 1\n",
    "    \n",
    "    def has_next(self):\n",
    "        return self.position < len(self.string)\n",
    "    \n",
    "    def next(self):\n",
    "        if not self.has_next():\n",
    "            return None\n",
    "        start_index = self.position\n",
    "        while self.position < len(self.string) and self.string[self.position].isalpha():\n",
    "            self.position += 1\n",
    "        end_index = self.position - 1\n",
    "        self.get_next_alpha()\n",
    "        return word_index(self.string[start_index:end_index+1], start_index)"
   ]
  },
  {
   "cell_type": "markdown",
   "metadata": {},
   "source": [
    "## Implement a double Linked List"
   ]
  },
  {
   "cell_type": "code",
   "execution_count": 25,
   "metadata": {},
   "outputs": [],
   "source": [
    "class Node:\n",
    "    def __init__(self,word,index):\n",
    "        self.word = word\n",
    "        self.index = index\n",
    "        self.prev = None\n",
    "        self.next = None\n",
    "        \n",
    "class LinkedList:\n",
    "    def __init__(self):\n",
    "        self.head = None\n",
    "        self.tail = None\n",
    "    \n",
    "    def append(self,node):\n",
    "        if self.head is None:\n",
    "            self.head = node\n",
    "        else:\n",
    "            self.tail.next = node\n",
    "            node.prev = self.tail\n",
    "        self.tail = node\n",
    "        \n",
    "    def delete(self,node):\n",
    "        if node.next is not None:\n",
    "            node.next.prev = node.prev\n",
    "        if node.prev is not None:\n",
    "            node.prev.next = node.next\n",
    "        if self.head == node:\n",
    "            self.head = node.next\n",
    "        if self.tail == node:\n",
    "            self.tail = node.prev"
   ]
  },
  {
   "cell_type": "markdown",
   "metadata": {},
   "source": [
    "## Smallest Subarray Covering All Values:\n",
    "Let's say you are given a large text document Doc and you don't want to store the entire document in memory. You are also given a set S of words. You want to find the smallest substring of Doc that contains all the words in S. For example:\n",
    "\n",
    "S: **[\"and\", \"of\", \"one\"]**\n",
    "\n",
    "Doc: \"a set of words that is complete in itself, typically containing a subject and predicate, conveying a statement, question, exclamation, or command, and consisting **of a main clause and sometimes one** or more subordinate clauses\"\n",
    "\n",
    "The underlined part above is the solution. Note that the order in which the words appear doesn't matter. Also, the length of the substring is in terms of number of characters."
   ]
  },
  {
   "cell_type": "code",
   "execution_count": 34,
   "metadata": {},
   "outputs": [],
   "source": [
    "def smallest_subarray(doc, wordset):\n",
    "    result = None\n",
    "    ll = LinkedList()\n",
    "    hashmap = {}\n",
    "    iterator = word_iterator(doc)\n",
    "    while iterator.has_next():\n",
    "        wi = iterator.next()\n",
    "        word = wi.word\n",
    "        if word not in wordset:\n",
    "            continue\n",
    "        \n",
    "        if word in hashmap:\n",
    "            to_delete = hashmap[word]\n",
    "            del hashmap[word]\n",
    "            ll.delete(to_delete)\n",
    "        \n",
    "        node = Node(word, wi.index)\n",
    "        hashmap[word] = node\n",
    "        ll.append(node)\n",
    "        \n",
    "        if len(hashmap) == len(wordset):\n",
    "            start_index = ll.head.index\n",
    "            end_index = ll.tail.index + len(ll.tail.word) - 1\n",
    "            length = end_index - start_index + 1\n",
    "            if result is None or length < len(result):\n",
    "                result = doc[start_index : end_index+1]\n",
    "    return result"
   ]
  },
  {
   "cell_type": "code",
   "execution_count": 33,
   "metadata": {},
   "outputs": [
    {
     "data": {
      "text/plain": [
       "'of a main clause and sometimes one'"
      ]
     },
     "execution_count": 33,
     "metadata": {},
     "output_type": "execute_result"
    }
   ],
   "source": [
    "doc = 'a set of words that is complete in itself, typically containing a subject and predicate, conveying a statement, question, exclamation, or command, and consisting of a main clause and sometimes one or more subordinate clauses'\n",
    "wordset = {\"and\", \"of\", \"one\"}\n",
    "smallest_subarray(doc, wordset)"
   ]
  },
  {
   "cell_type": "code",
   "execution_count": 30,
   "metadata": {},
   "outputs": [
    {
     "data": {
      "text/plain": [
       "'and one of'"
      ]
     },
     "execution_count": 30,
     "metadata": {},
     "output_type": "execute_result"
    }
   ],
   "source": [
    "doc = \"one of the car and bike and one of those\"\n",
    "wordset = {\"and\", \"of\", \"one\"}\n",
    "smallest_subarray(doc,wordset)"
   ]
  },
  {
   "cell_type": "markdown",
   "metadata": {},
   "source": [
    "### Implement a data structure supporting the following operations:\n",
    "\n",
    "* Inc(Key) - Inserts a new key with value 1. Or increments an existing key by 1. Key is guaranteed to be a non-empty string.\n",
    "* Dec(Key) - If Key's value is 1, remove it from the data structure. Otherwise decrements an existing key by 1. If the key does not exist, this function does nothing. Key is guaranteed to be a non-empty string.\n",
    "* GetMaxKey() - Returns one of the keys with maximal value. If no element exists, return an empty string \"\".\n",
    "* GetMinKey() - Returns one of the keys with minimal value. If no element exists, return an empty string \"\".\n"
   ]
  },
  {
   "cell_type": "code",
   "execution_count": 45,
   "metadata": {},
   "outputs": [],
   "source": [
    "class AllOne:\n",
    "\n",
    "    def __init__(self):\n",
    "        \"\"\"\n",
    "        Initialize your data structure here.\n",
    "        \"\"\"\n",
    "        self.hashmap = {}\n",
    "        self.ll = LinkedList()\n",
    "        \n",
    "\n",
    "    def inc(self, key):\n",
    "        \"\"\"\n",
    "        Inserts a new key <Key> with value 1. Or increments an existing key by 1.\n",
    "        \"\"\"\n",
    "        if key not in self.hashmap:\n",
    "            node = Node(key, 1)\n",
    "            self.ll.insert_head(node)\n",
    "            self.hashmap[key] = node\n",
    "        else:\n",
    "            oldNode = self.hashmap[key]\n",
    "            newNode = Node(key, oldNode.freq+1)\n",
    "            self.ll.insert(newNode)\n",
    "            self.ll.remove(oldNode)\n",
    "            self.hashmap[key] = newNode\n",
    "        \n",
    "\n",
    "    def dec(self, key):\n",
    "        \"\"\"\n",
    "        Decrements an existing key by 1. If Key's value is 1, remove it from the data structure.\n",
    "        \"\"\"\n",
    "        if key not in self.hashmap:\n",
    "            return\n",
    "        oldNode = self.hashmap[key]\n",
    "        if oldNode.freq == 1:\n",
    "            self.ll.remove(oldNode)\n",
    "            del self.hashmap[key]\n",
    "        else:\n",
    "            newNode = Node(key, oldNode.freq-1)\n",
    "            self.ll.insert(newNode)\n",
    "            self.ll.remove(oldNode)\n",
    "            self.hashmap[key] = newNode \n",
    "        \n",
    "\n",
    "    def getMaxKey(self):\n",
    "        \"\"\"\n",
    "        Returns one of the keys with maximal value.\n",
    "        \"\"\"\n",
    "        return self.ll.tail.key if self.ll.tail else ''\n",
    "\n",
    "    def getMinKey(self):\n",
    "        \"\"\"\n",
    "        Returns one of the keys with Minimal value.\n",
    "        \"\"\"\n",
    "        return self.ll.head.key if self.ll.head else ''\n",
    "        \n",
    "class LinkedList:\n",
    "    \n",
    "    def __init__(self):\n",
    "        self.head = None\n",
    "        self.tail = None\n",
    "    \n",
    "    def append(self, node):\n",
    "        if self.head is None:\n",
    "            self.head = node\n",
    "        else:\n",
    "            self.tail.next = node\n",
    "            node.prev = self.tail\n",
    "        self.tail = node\n",
    "        \n",
    "    def insert_head(self,node):\n",
    "        if self.head is None:\n",
    "            self.append(node)\n",
    "            return\n",
    "        self.head.prev = node\n",
    "        node.next = self.head\n",
    "        self.head = node\n",
    "        \n",
    "    def insert(self, node):\n",
    "        if self.head is None or node.freq >= self.tail.freq:\n",
    "            self.append(node)\n",
    "        elif node.freq <= self.head.freq:\n",
    "            self.insert_head(node)\n",
    "        else:\n",
    "            curr = self.head\n",
    "            while curr.freq < node.freq:\n",
    "                curr = curr.next\n",
    "            curr.prev.next = node\n",
    "            node.prev = curr.prev\n",
    "            node.next = curr\n",
    "            curr.prev = node      \n",
    "        \n",
    "    def remove(self, node):\n",
    "        if node.prev is not None:\n",
    "            node.prev.next = node.next\n",
    "        if node.next is not None:\n",
    "            node.next.prev = node.prev\n",
    "        if node == self.head:\n",
    "            self.head = node.next\n",
    "        if node == self.tail:\n",
    "            self.tail = node.prev\n",
    "    \n",
    "    def print(self):\n",
    "        node = self.head\n",
    "        while node:\n",
    "            print(node.key, node.freq)\n",
    "            node = node.next\n",
    "        \n",
    "class Node:\n",
    "    def __init__(self, key, freq):\n",
    "        self.key = key\n",
    "        self.freq = freq\n",
    "        self.next = None\n",
    "        self.prev = None"
   ]
  },
  {
   "cell_type": "code",
   "execution_count": 46,
   "metadata": {},
   "outputs": [
    {
     "name": "stdout",
     "output_type": "stream",
     "text": [
      "leet 1\n",
      "goodbye 1\n",
      "hello 3\n"
     ]
    }
   ],
   "source": [
    "ds = AllOne()\n",
    "ds.inc('hello')\n",
    "ds.inc('goodbye')\n",
    "ds.inc('hello')\n",
    "ds.inc('hello')\n",
    "ds.inc('leet')\n",
    "ds.ll.print()"
   ]
  },
  {
   "cell_type": "code",
   "execution_count": 47,
   "metadata": {},
   "outputs": [
    {
     "name": "stdout",
     "output_type": "stream",
     "text": [
      "code 1\n",
      "leet 1\n",
      "goodbye 1\n",
      "hello 3\n"
     ]
    }
   ],
   "source": [
    "ds.inc('code')\n",
    "ds.ll.print()"
   ]
  },
  {
   "cell_type": "code",
   "execution_count": 48,
   "metadata": {},
   "outputs": [
    {
     "name": "stdout",
     "output_type": "stream",
     "text": [
      "code 1\n",
      "goodbye 1\n",
      "leet 2\n",
      "hello 3\n"
     ]
    }
   ],
   "source": [
    "ds.inc('leet')\n",
    "ds.ll.print()"
   ]
  },
  {
   "cell_type": "code",
   "execution_count": 49,
   "metadata": {},
   "outputs": [
    {
     "name": "stdout",
     "output_type": "stream",
     "text": [
      "code 1\n",
      "goodbye 1\n",
      "hello 2\n",
      "leet 2\n"
     ]
    }
   ],
   "source": [
    "ds.dec('hello')\n",
    "ds.ll.print()"
   ]
  },
  {
   "cell_type": "code",
   "execution_count": 50,
   "metadata": {},
   "outputs": [
    {
     "name": "stdout",
     "output_type": "stream",
     "text": [
      "code 1\n",
      "goodbye 1\n",
      "hello 2\n",
      "leet 3\n"
     ]
    }
   ],
   "source": [
    "ds.inc('leet')\n",
    "ds.ll.print()"
   ]
  },
  {
   "cell_type": "code",
   "execution_count": 51,
   "metadata": {},
   "outputs": [
    {
     "name": "stdout",
     "output_type": "stream",
     "text": [
      "goodbye 1\n",
      "hello 2\n",
      "leet 3\n",
      "code 3\n"
     ]
    }
   ],
   "source": [
    "ds.inc('code')\n",
    "ds.inc('code')\n",
    "ds.ll.print()"
   ]
  }
 ],
 "metadata": {
  "kernelspec": {
   "display_name": "Python 3",
   "language": "python",
   "name": "python3"
  },
  "language_info": {
   "codemirror_mode": {
    "name": "ipython",
    "version": 3
   },
   "file_extension": ".py",
   "mimetype": "text/x-python",
   "name": "python",
   "nbconvert_exporter": "python",
   "pygments_lexer": "ipython3",
   "version": "3.6.8"
  }
 },
 "nbformat": 4,
 "nbformat_minor": 2
}
