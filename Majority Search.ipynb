{
 "cells": [
  {
   "cell_type": "markdown",
   "metadata": {},
   "source": [
    "### Majority Search - Half\n",
    "Given an array of integers, find if there is an integer that occurs greater than 50% of the time."
   ]
  },
  {
   "cell_type": "code",
   "execution_count": 24,
   "metadata": {},
   "outputs": [
    {
     "name": "stdout",
     "output_type": "stream",
     "text": [
      "4\n",
      "None\n"
     ]
    }
   ],
   "source": [
    "def majorityElement(nums):\n",
    "    candidate = None; count = 0\n",
    "    for num in nums:\n",
    "        if count == 0:\n",
    "            candidate = num\n",
    "        count += 1 if num == candidate else -1\n",
    "    count = 0\n",
    "    for num in nums:\n",
    "        count += 1 if num == candidate else 0\n",
    "    return candidate if count > len(nums)//2 else None\n",
    "\n",
    "print(majorityElement([4,2,3,4,4,5,4,4,5,4,4]))\n",
    "print(majorityElement([2,4,6,6,3,6,7,9,5,3]))"
   ]
  },
  {
   "cell_type": "markdown",
   "metadata": {},
   "source": [
    "### Majority Search - n/k\n",
    "You are given an array of numbers. Find all numbers that occurs more than n/K of the time."
   ]
  },
  {
   "cell_type": "code",
   "execution_count": 5,
   "metadata": {},
   "outputs": [
    {
     "name": "stdout",
     "output_type": "stream",
     "text": [
      "[2]\n",
      "[]\n"
     ]
    }
   ],
   "source": [
    "def majorityElement(nums, k):\n",
    "    import collections\n",
    "    ctr = collections.Counter()\n",
    "    for n in nums:\n",
    "        ctr[n] += 1\n",
    "        if len(ctr) == k:\n",
    "            ctr -= collections.Counter(ctr.keys())\n",
    "    ctr = collections.Counter([n for n in nums if n in ctr])\n",
    "    return [n for n in ctr if ctr[n] > len(nums)/k]\n",
    "\n",
    "print(majorityElement([2,4,5,2,4,2,2,1,5], 3))\n",
    "print(majorityElement([2,4,5,2,4,2,6,1,5], 3))"
   ]
  }
 ],
 "metadata": {
  "kernelspec": {
   "display_name": "Python 3",
   "language": "python",
   "name": "python3"
  },
  "language_info": {
   "codemirror_mode": {
    "name": "ipython",
    "version": 3
   },
   "file_extension": ".py",
   "mimetype": "text/x-python",
   "name": "python",
   "nbconvert_exporter": "python",
   "pygments_lexer": "ipython3",
   "version": "3.6.8"
  }
 },
 "nbformat": 4,
 "nbformat_minor": 2
}
