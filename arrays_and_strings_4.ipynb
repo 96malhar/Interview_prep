{
 "cells": [
  {
   "cell_type": "markdown",
   "metadata": {},
   "source": [
    "### Intersection of Two Arrays"
   ]
  },
  {
   "cell_type": "code",
   "execution_count": 4,
   "metadata": {},
   "outputs": [
    {
     "data": {
      "text/plain": [
       "[2]"
      ]
     },
     "execution_count": 4,
     "metadata": {},
     "output_type": "execute_result"
    }
   ],
   "source": [
    "def intersection(nums1, nums2):\n",
    "    s = set()\n",
    "    ans = []\n",
    "    for num in nums1:\n",
    "        s.add(num)\n",
    "    for num in nums2:\n",
    "        if num in s:\n",
    "            ans.append(num)\n",
    "            s.remove(num)\n",
    "    return ans\n",
    "\n",
    "nums1 = [1,2,2,1]; nums2 = [2,2]\n",
    "intersection(nums1, nums2)"
   ]
  },
  {
   "cell_type": "markdown",
   "metadata": {},
   "source": [
    "### Intersection of Two Arrays II\n",
    "* Each element in the result should appear as many times as it shows in both arrays.\n",
    "* The result can be in any order."
   ]
  },
  {
   "cell_type": "code",
   "execution_count": 8,
   "metadata": {},
   "outputs": [
    {
     "data": {
      "text/plain": [
       "[2, 2]"
      ]
     },
     "execution_count": 8,
     "metadata": {},
     "output_type": "execute_result"
    }
   ],
   "source": [
    "def intersect(nums1, nums2):\n",
    "    import collections\n",
    "    count = collections.Counter(nums1); ans = []\n",
    "    for num in nums2:\n",
    "        if count[num]>0:\n",
    "            ans.append(num)\n",
    "            count[num] -=1 \n",
    "    return ans\n",
    "\n",
    "nums1 = [1,2,2,1]; nums2 = [2,2]\n",
    "intersect(nums1, nums2)"
   ]
  },
  {
   "cell_type": "markdown",
   "metadata": {},
   "source": [
    "### Intersection of Three Sorted Arrays\n",
    "Given three integer arrays arr1, arr2 and arr3 sorted in strictly increasing order, return a sorted array of only the integers that appeared in all three arrays."
   ]
  },
  {
   "cell_type": "code",
   "execution_count": 22,
   "metadata": {},
   "outputs": [
    {
     "data": {
      "text/plain": [
       "[1, 5]"
      ]
     },
     "execution_count": 22,
     "metadata": {},
     "output_type": "execute_result"
    }
   ],
   "source": [
    "def arraysIntersection(arr1, arr2, arr3):\n",
    "    i = j = k = 0\n",
    "    ans = []\n",
    "    while i<len(arr1) and j<len(arr2) and k<len(arr3):\n",
    "        min_val = min([arr1[i], arr2[j], arr3[k]])\n",
    "        if arr1[i] == arr2[j] == arr3[k]:\n",
    "            ans.append(arr1[i])\n",
    "        if arr1[i] == min_val: i += 1\n",
    "        if arr2[j] == min_val: j += 1\n",
    "        if arr3[k] == min_val: k += 1\n",
    "    return ans\n",
    "\n",
    "arr1 = [1,2,3,4,5]; arr2 = [1,2,5,7,9]; arr3 = [1,3,4,5,8]\n",
    "arraysIntersection(arr1, arr2, arr3)"
   ]
  },
  {
   "cell_type": "markdown",
   "metadata": {},
   "source": [
    "### Find common Characters\n",
    "Given an array A of strings made only from lowercase letters, return a list of all characters that show up in all strings within the list (including duplicates).  For example, if a character occurs 3 times in all strings but not 4 times, you need to include that character three times in the final answer.\n",
    "\n",
    "You may return the answer in any order."
   ]
  },
  {
   "cell_type": "code",
   "execution_count": 217,
   "metadata": {},
   "outputs": [
    {
     "data": {
      "text/plain": [
       "['e', 'l', 'l']"
      ]
     },
     "execution_count": 217,
     "metadata": {},
     "output_type": "execute_result"
    }
   ],
   "source": [
    "def commonChars(A):\n",
    "    from collections import Counter\n",
    "    result = []\n",
    "    common_count = Counter(A[0])\n",
    "    for a in A[1:]:\n",
    "        common_count &= Counter(a)\n",
    "    for char, count in common_count.items():\n",
    "        for _ in range(count):\n",
    "            result.append(char)\n",
    "    return result\n",
    "\n",
    "commonChars([\"bella\",\"label\",\"roller\"])"
   ]
  },
  {
   "cell_type": "markdown",
   "metadata": {},
   "source": [
    "## Random Sampling Problems"
   ]
  },
  {
   "cell_type": "markdown",
   "metadata": {},
   "source": [
    "### Random Pick Index\n",
    "Given an array of integers with possible duplicates, randomly output the index of a given target number. You can assume that the given target number must exist in the array.\n",
    "\n",
    "**Similar question: Linked List Random Node** "
   ]
  },
  {
   "cell_type": "code",
   "execution_count": 206,
   "metadata": {},
   "outputs": [
    {
     "data": {
      "text/plain": [
       "1"
      ]
     },
     "execution_count": 206,
     "metadata": {},
     "output_type": "execute_result"
    }
   ],
   "source": [
    "from random import randint\n",
    "class Solution:\n",
    "\n",
    "    def __init__(self, nums):\n",
    "        self.nums = nums\n",
    "        \n",
    "    def pick(self, target: int) -> int:\n",
    "        count = 0; result = None\n",
    "        for i, val in enumerate(self.nums):\n",
    "            if val == target:\n",
    "                count += 1\n",
    "                if randint(1, count) == count:\n",
    "                    result = i\n",
    "        return result\n",
    "\n",
    "obj = Solution([1,2,3,3,3])\n",
    "obj.pick(2)"
   ]
  },
  {
   "cell_type": "markdown",
   "metadata": {},
   "source": [
    "### Random Pick with Weight\n",
    "Given an array w of positive integers, where w[i] describes the weight of index i, write a function pickIndex which randomly picks an index in proportion to its weight."
   ]
  },
  {
   "cell_type": "code",
   "execution_count": 272,
   "metadata": {},
   "outputs": [
    {
     "data": {
      "text/plain": [
       "1"
      ]
     },
     "execution_count": 272,
     "metadata": {},
     "output_type": "execute_result"
    }
   ],
   "source": [
    "from random import randint\n",
    "from bisect import bisect_left\n",
    "class Solution:\n",
    "\n",
    "    def __init__(self, w):\n",
    "        self.prefix_sum = []; c_sum = 0\n",
    "        for num in w:\n",
    "            c_sum += num\n",
    "            self.prefix_sum.append(c_sum)   \n",
    "\n",
    "    def pickIndex(self) -> int:\n",
    "        val = randint(1, self.prefix_sum[-1])\n",
    "        index = bisect_left(self.prefix_sum, val)\n",
    "        return index\n",
    "\n",
    "obj = Solution([1,3])\n",
    "obj.pickIndex()"
   ]
  },
  {
   "cell_type": "markdown",
   "metadata": {},
   "source": [
    "### Random Pick with Blacklist\n",
    "Given a blacklist B containing unique integers from [0, N), write a function to return a uniform random integer from [0, N) which is NOT in B.\n",
    "\n",
    "Optimize it such that it minimizes the call to system’s Math.random()."
   ]
  },
  {
   "cell_type": "code",
   "execution_count": 325,
   "metadata": {},
   "outputs": [
    {
     "data": {
      "text/plain": [
       "5"
      ]
     },
     "execution_count": 325,
     "metadata": {},
     "output_type": "execute_result"
    }
   ],
   "source": [
    "from random import randint\n",
    "class Solution:\n",
    "\n",
    "    def __init__(self, N: int, blacklist):\n",
    "        self.b = set(blacklist)\n",
    "        self.length = N - len(blacklist)\n",
    "        self.m = {}\n",
    "        need_remap = []\n",
    "        for i in blacklist:\n",
    "            if i < self.length:\n",
    "                need_remap.append(i)\n",
    "        j = 0\n",
    "        for i in range(self.length, N):\n",
    "            if i not in self.b:\n",
    "                self.m[need_remap[j]] = i\n",
    "                j += 1\n",
    "        \n",
    "    def pick(self) -> int:\n",
    "        i = randint(0, self.length-1)\n",
    "        return i if i not in self.b else self.m[i]\n",
    "\n",
    "N = 10; blacklist = [2,7,9]\n",
    "obj = Solution(N, blacklist)\n",
    "obj.pick()"
   ]
  },
  {
   "cell_type": "markdown",
   "metadata": {},
   "source": [
    "### Split a String in Balanced Strings\n",
    "Balanced strings are those who have equal quantity of 'L' and 'R' characters.\n",
    "\n",
    "Given a balanced string s split it in the maximum amount of balanced strings.\n",
    "\n",
    "Return the maximum amount of splitted balanced strings."
   ]
  },
  {
   "cell_type": "code",
   "execution_count": 3,
   "metadata": {},
   "outputs": [
    {
     "data": {
      "text/plain": [
       "4"
      ]
     },
     "execution_count": 3,
     "metadata": {},
     "output_type": "execute_result"
    }
   ],
   "source": [
    "def balancedStringSplit(s: str) -> int:\n",
    "    count = 0; ans = 0\n",
    "    for ch in s:\n",
    "        count += 1 if ch == 'R' else -1\n",
    "        if count == 0: \n",
    "            ans += 1\n",
    "    return ans\n",
    "\n",
    "balancedStringSplit(\"RLRRLLRLRL\")"
   ]
  },
  {
   "cell_type": "markdown",
   "metadata": {},
   "source": [
    "### Assign Cookies\n",
    "Assume you are an awesome parent and want to give your children some cookies. But, you should give each child at most one cookie. Each child i has a greed factor gi, which is the minimum size of a cookie that the child will be content with; and each cookie j has a size sj. If sj >= gi, we can assign the cookie j to the child i, and the child i will be content. Your goal is to maximize the number of your content children and output the maximum number.\n",
    "\n",
    "Note:\n",
    "* You may assume the greed factor is always positive.\n",
    "* You cannot assign more than one cookie to one child."
   ]
  },
  {
   "cell_type": "code",
   "execution_count": 5,
   "metadata": {},
   "outputs": [
    {
     "data": {
      "text/plain": [
       "1"
      ]
     },
     "execution_count": 5,
     "metadata": {},
     "output_type": "execute_result"
    }
   ],
   "source": [
    "def findContentChildren(g, s) -> int:\n",
    "    g.sort(); s.sort()\n",
    "    child = cookie = 0\n",
    "    while child < len(g) and cookie < len(s):\n",
    "        if s[cookie] >= g[child]:\n",
    "            child += 1\n",
    "        cookie += 1\n",
    "    return child\n",
    "\n",
    "g = [1,2,3]\n",
    "s = [1,1]\n",
    "findContentChildren(g, s)"
   ]
  },
  {
   "cell_type": "markdown",
   "metadata": {},
   "source": [
    "### Longest Substring with At Least K Repeating Characters\n",
    "Find the length of the longest substring T of a given string (consists of lowercase letters only) such that every character in T appears no less than k times."
   ]
  },
  {
   "cell_type": "code",
   "execution_count": 20,
   "metadata": {},
   "outputs": [
    {
     "data": {
      "text/plain": [
       "3"
      ]
     },
     "execution_count": 20,
     "metadata": {},
     "output_type": "execute_result"
    }
   ],
   "source": [
    "def longestSubstring(s: str, k: int) -> int:\n",
    "    from collections import Counter\n",
    "    counter = Counter(s)\n",
    "    ans = 0\n",
    "    for ch, freq in counter.items():\n",
    "        if freq < k:\n",
    "            strs = s.split(ch)\n",
    "            for string in strs:\n",
    "                ans = max(ans, longestSubstring(string, k))\n",
    "            return ans\n",
    "    return len(s)\n",
    "\n",
    "s = \"aaabb\"; k = 3\n",
    "longestSubstring(s, k)"
   ]
  },
  {
   "cell_type": "markdown",
   "metadata": {},
   "source": [
    "### Increasing Triplet Subsequence\n",
    "Given an unsorted array return whether an increasing subsequence of length 3 exists or not in the array.\n",
    "\n",
    "Formally the function should:\n",
    "\n",
    "Return true if there exists i, j, k\n",
    "such that arr[i] < arr[j] < arr[k] given 0 ≤ i < j < k ≤ n-1 else return false."
   ]
  },
  {
   "cell_type": "code",
   "execution_count": 2,
   "metadata": {},
   "outputs": [
    {
     "data": {
      "text/plain": [
       "True"
      ]
     },
     "execution_count": 2,
     "metadata": {},
     "output_type": "execute_result"
    }
   ],
   "source": [
    "def increasingTriplet(nums) -> bool:\n",
    "        first = second = float('inf')\n",
    "        for num in nums:\n",
    "            if num <= first:\n",
    "                first = num\n",
    "            elif num <= second:\n",
    "                second = num\n",
    "            else:\n",
    "                return True\n",
    "        return False\n",
    "\n",
    "nums = [1,2,3,4,5]\n",
    "increasingTriplet(nums)"
   ]
  },
  {
   "cell_type": "markdown",
   "metadata": {},
   "source": [
    "### Check if two strings are similar - FB Question"
   ]
  },
  {
   "cell_type": "code",
   "execution_count": 17,
   "metadata": {},
   "outputs": [
    {
     "data": {
      "text/plain": [
       "True"
      ]
     },
     "execution_count": 17,
     "metadata": {},
     "output_type": "execute_result"
    }
   ],
   "source": [
    "def check_similar(str1, str2):\n",
    "    if len(str1) != len(str2):\n",
    "        return False\n",
    "    diff = 0\n",
    "    idx = []\n",
    "    for i in range(len(str1)):\n",
    "        if str1[i] != str2[i]:\n",
    "            diff += 1\n",
    "            idx.append(i)\n",
    "            if diff > 2:\n",
    "                return False\n",
    "    i,j = idx\n",
    "    return diff == 0 or (str1[i] == str2[j] and str1[j] == str2[i])\n",
    "\n",
    "check_similar('face', 'bacf')\n",
    "check_similar('rats', 'arts')"
   ]
  },
  {
   "cell_type": "markdown",
   "metadata": {},
   "source": [
    "### Sentence Similarity\n",
    "Given two sentences words1, words2 (each represented as an array of strings), and a list of similar word pairs pairs, determine if two sentences are similar.\n",
    "\n",
    "For example, \"great acting skills\" and \"fine drama talent\" are similar, if the similar word pairs are pairs = [[\"great\", \"fine\"], [\"acting\",\"drama\"], [\"skills\",\"talent\"]].\n",
    "\n",
    "Note that the similarity relation is **not transitive**. For example, if \"great\" and \"fine\" are similar, and \"fine\" and \"good\" are similar, \"great\" and \"good\" are not necessarily similar.\n",
    "\n",
    "However, similarity is symmetric. For example, \"great\" and \"fine\" being similar is the same as \"fine\" and \"great\" being similar.\n",
    "\n",
    "Also, a word is always similar with itself. For example, the sentences words1 = [\"great\"], words2 = [\"great\"], pairs = [] are similar, even though there are no specified similar word pairs.\n",
    "\n",
    "Finally, sentences can only be similar if they have the same number of words. So a sentence like words1 = [\"great\"] can never be similar to words2 = [\"doubleplus\",\"good\"]."
   ]
  },
  {
   "cell_type": "code",
   "execution_count": 8,
   "metadata": {},
   "outputs": [
    {
     "data": {
      "text/plain": [
       "True"
      ]
     },
     "execution_count": 8,
     "metadata": {},
     "output_type": "execute_result"
    }
   ],
   "source": [
    "def areSentencesSimilar(words1, words2, pairs) -> bool:\n",
    "    import collections\n",
    "    if len(words1) != len(words2):\n",
    "        return False\n",
    "\n",
    "    graph = collections.defaultdict(set)\n",
    "    for x, y in pairs:\n",
    "        graph[x].add(y)\n",
    "        graph[y].add(x)\n",
    "\n",
    "    for i in range(len(words1)):\n",
    "        w1 = words1[i]\n",
    "        w2 = words2[i]\n",
    "\n",
    "        if w2 not in graph[w1] and w1 != w2:\n",
    "            return False\n",
    "\n",
    "    return True\n",
    "\n",
    "words1 = [\"great\",\"acting\",\"skills\"]\n",
    "words2 = [\"fine\",\"drama\",\"talent\"]\n",
    "pairs = [[\"great\",\"fine\"],[\"drama\",\"acting\"],[\"skills\",\"talent\"]]\n",
    "areSentencesSimilar(words1, words2, pairs)"
   ]
  },
  {
   "cell_type": "markdown",
   "metadata": {},
   "source": [
    "### Analyze User Website Visit Pattern\n",
    "We are given some website visits: the user with name username[i] visited the website website[i] at time timestamp[i].\n",
    "\n",
    "A 3-sequence is a list of websites of length 3 sorted in ascending order by the time of their visits.  (The websites in a 3-sequence are not necessarily distinct.)\n",
    "\n",
    "Find the 3-sequence visited by the largest number of users. If there is more than one solution, return the lexicographically smallest such 3-sequence."
   ]
  },
  {
   "cell_type": "code",
   "execution_count": 12,
   "metadata": {},
   "outputs": [],
   "source": [
    "import collections\n",
    "class Solution:\n",
    "    def mostVisitedPattern(self, username, timestamp, website):\n",
    "        data = []\n",
    "        for i in range(len(username)):\n",
    "            data.append([username[i], website[i], timestamp[i]])\n",
    "        \n",
    "        data.sort(key = lambda x:x[2])\n",
    "        \n",
    "        dic = collections.defaultdict(list)\n",
    "        for name, site, ts in data:\n",
    "            dic[name].append(site)\n",
    "        \n",
    "        \n",
    "        counter = collections.Counter()\n",
    "        for user in dic:\n",
    "            if len(dic[user]) >= 3:\n",
    "                subseqs = self.generate_subs(dic[user])\n",
    "                for s in subseqs:\n",
    "                    counter[s] += 1\n",
    "        \n",
    "        freq_list = [(subseq, count) for subseq, count in counter.items()]\n",
    "        \n",
    "        freq_list.sort(key = lambda x : (-x[1], x[0]))\n",
    "        ans = freq_list[0][0]\n",
    "        return ans.split('/')\n",
    "    \n",
    "    def generate_subs(self, site_list):\n",
    "        result = set()\n",
    "        n = len(site_list)\n",
    "        for i in range(n-2):\n",
    "            for j in range(i+1, n-1):\n",
    "                for k in range(j+1, n):\n",
    "                    string = site_list[i] + '/' + site_list[j] + '/' + site_list[k]\n",
    "                    result.add(string)\n",
    "        return result"
   ]
  },
  {
   "cell_type": "code",
   "execution_count": 13,
   "metadata": {},
   "outputs": [
    {
     "data": {
      "text/plain": [
       "['home', 'about', 'career']"
      ]
     },
     "execution_count": 13,
     "metadata": {},
     "output_type": "execute_result"
    }
   ],
   "source": [
    "username = [\"joe\",\"joe\",\"joe\",\"james\",\"james\",\"james\",\"james\",\"mary\",\"mary\",\"mary\"]\n",
    "timestamp = [1,2,3,4,5,6,7,8,9,10] \n",
    "website = [\"home\",\"about\",\"career\",\"home\",\"cart\",\"maps\",\"home\",\"home\",\"about\",\"career\"]\n",
    "\n",
    "obj = Solution()\n",
    "obj.mostVisitedPattern(username, timestamp, website)"
   ]
  },
  {
   "cell_type": "markdown",
   "metadata": {},
   "source": [
    "### Battleships in a Board\n",
    "Given an 2D board, count how many battleships are in it. The battleships are represented with 'X's, empty slots are represented with '.'s. You may assume the following rules:\n",
    "* You receive a valid board, made of only battleships or empty slots.\n",
    "* Battleships can only be placed horizontally or vertically. In other words, they can only be made of the shape 1xN (1 row, N columns) or Nx1 (N rows, 1 column), where N can be of any size.\n",
    "* At least one horizontal or vertical cell separates between two battleships - there are no adjacent battleships."
   ]
  },
  {
   "cell_type": "code",
   "execution_count": 7,
   "metadata": {},
   "outputs": [
    {
     "data": {
      "text/plain": [
       "2"
      ]
     },
     "execution_count": 7,
     "metadata": {},
     "output_type": "execute_result"
    }
   ],
   "source": [
    "def countBattleships(board) -> int:\n",
    "    ans = 0\n",
    "    for i in range(len(board)):\n",
    "        for j in range(len(board[0])):\n",
    "            if board[i][j] == 'X':\n",
    "                ans += 1\n",
    "                if i-1 >= 0 and board[i-1][j] == 'X':\n",
    "                    ans -= 1\n",
    "                elif j-1 >= 0 and board[i][j-1] == 'X':\n",
    "                    ans -= 1\n",
    "    return ans\n",
    "\n",
    "board = [[\"X\",\".\",\".\",\"X\"],[\".\",\".\",\".\",\"X\"],[\".\",\".\",\".\",\"X\"]]\n",
    "countBattleships(board)"
   ]
  },
  {
   "cell_type": "markdown",
   "metadata": {},
   "source": [
    "### Flatten Nested List iterator"
   ]
  },
  {
   "cell_type": "code",
   "execution_count": 5,
   "metadata": {},
   "outputs": [
    {
     "name": "stdout",
     "output_type": "stream",
     "text": [
      "1\n",
      "2\n",
      "3\n",
      "4\n",
      "5\n",
      "5\n"
     ]
    }
   ],
   "source": [
    "class Solution():\n",
    "    def __init__(self, nested_list):\n",
    "        self.stack = [[nested_list, 0]]\n",
    "    \n",
    "    def next_(self):\n",
    "        nlist, i = self.stack[-1]\n",
    "        self.stack[-1][1] += 1\n",
    "        return nlist[i]\n",
    "        \n",
    "    def has_next(self):\n",
    "        s = self.stack\n",
    "        while s:\n",
    "            nlist, i = s[-1]\n",
    "            if i == len(nlist):\n",
    "                s.pop()\n",
    "                continue\n",
    "            if type(nlist[i]) == int:\n",
    "                return True\n",
    "            s[-1][1] += 1\n",
    "            s.append([nlist[i], 0])\n",
    "        return False\n",
    "        \n",
    "obj = Solution([[1,2],[3],[4,5, [5]]])\n",
    "while obj.has_next():\n",
    "    print(obj.next_())"
   ]
  },
  {
   "cell_type": "markdown",
   "metadata": {},
   "source": [
    "### Number of Matching subsequence\n",
    "Given string S and a dictionary of words words, find the number of words[i] that is a subsequence of S."
   ]
  },
  {
   "cell_type": "code",
   "execution_count": 7,
   "metadata": {},
   "outputs": [
    {
     "data": {
      "text/plain": [
       "3"
      ]
     },
     "execution_count": 7,
     "metadata": {},
     "output_type": "execute_result"
    }
   ],
   "source": [
    "from bisect import bisect_left\n",
    "from collections import defaultdict\n",
    "class Solution:\n",
    "    def numMatchingSubseq(self, S: str, words) -> int:\n",
    "        inverted_index = defaultdict(list)\n",
    "        count = 0\n",
    "        for i, ch in enumerate(S):\n",
    "            inverted_index[ch].append(i)\n",
    "        for word in words:\n",
    "            if self.isSubsequence(S, word, inverted_index):\n",
    "                count += 1\n",
    "        return count\n",
    "    \n",
    "    def isSubsequence(self, s, word, inverted_index):\n",
    "        i = 0\n",
    "        for ch in word:\n",
    "            if ch not in inverted_index:\n",
    "                return False\n",
    "            index_list = inverted_index[ch]\n",
    "            j = bisect_left(index_list, i)\n",
    "            if j == len(index_list):\n",
    "                return False\n",
    "            i = index_list[j] + 1\n",
    "        return True\n",
    "\n",
    "S = \"abcde\"\n",
    "words = [\"a\", \"bb\", \"acd\", \"ace\"]\n",
    "Solution().numMatchingSubseq(S, words)"
   ]
  },
  {
   "cell_type": "markdown",
   "metadata": {},
   "source": [
    "### Longest Word in Dictionary through Deleting\n",
    "Given a string and a string dictionary, find the longest string in the dictionary that can be formed by deleting some characters of the given string. If there are more than one possible results, return the longest word with the smallest lexicographical order. If there is no possible result, return the empty string."
   ]
  },
  {
   "cell_type": "code",
   "execution_count": 16,
   "metadata": {},
   "outputs": [
    {
     "data": {
      "text/plain": [
       "'apple'"
      ]
     },
     "execution_count": 16,
     "metadata": {},
     "output_type": "execute_result"
    }
   ],
   "source": [
    "from bisect import bisect_left\n",
    "from collections import defaultdict\n",
    "class Solution:\n",
    "    def findLongestWord(self, s: str, d) -> str:\n",
    "        self.inverted_index = defaultdict(list)\n",
    "        for i, ch in enumerate(s):\n",
    "            self.inverted_index[ch].append(i)\n",
    "        ans = ''\n",
    "        for word in d:\n",
    "            if self.is_subsequence(word):\n",
    "                if len(word) > len(ans):\n",
    "                    ans = word\n",
    "                elif len(word) == len(ans):\n",
    "                    ans = min(ans, word)\n",
    "        return ans\n",
    "    \n",
    "    def is_subsequence(self, word):\n",
    "        i = 0\n",
    "        for ch in word:\n",
    "            if ch not in self.inverted_index:\n",
    "                return False\n",
    "            index_list = self.inverted_index[ch]\n",
    "            j = bisect_left(index_list, i)\n",
    "            if j == len(index_list):\n",
    "                return False\n",
    "            i = index_list[j] + 1\n",
    "        return True\n",
    "\n",
    "s = \"abpcplea\"; d = [\"ale\",\"apple\",\"monkey\",\"plea\"]\n",
    "Solution().findLongestWord(s, d)"
   ]
  },
  {
   "cell_type": "markdown",
   "metadata": {},
   "source": [
    "### Shortest Way to Form String\n",
    "From any string, we can form a subsequence of that string by deleting some number of characters (possibly no deletions).\n",
    "\n",
    "Given two strings source and target, return the minimum number of subsequences of source such that their concatenation equals target. If the task is impossible, return -1."
   ]
  },
  {
   "cell_type": "code",
   "execution_count": 24,
   "metadata": {},
   "outputs": [
    {
     "data": {
      "text/plain": [
       "3"
      ]
     },
     "execution_count": 24,
     "metadata": {},
     "output_type": "execute_result"
    }
   ],
   "source": [
    "from bisect import bisect_left\n",
    "class Solution:\n",
    "    def shortestWay(self, source: str, target: str) -> int:\n",
    "        inverted_index = defaultdict(list)\n",
    "        for i, ch in enumerate(source):\n",
    "            inverted_index[ch].append(i)\n",
    "            \n",
    "        count = 1\n",
    "        i = 0\n",
    "        for ch in target:\n",
    "            if ch not in inverted_index:\n",
    "                return -1\n",
    "            index_list = inverted_index[ch]\n",
    "            j = bisect_left(index_list, i)\n",
    "            if j == len(index_list):\n",
    "                count += 1\n",
    "                i = index_list[0] + 1\n",
    "            else:\n",
    "                i = index_list[j] + 1\n",
    "        return count\n",
    "\n",
    "source = \"xyz\"; target = \"xzyxz\"\n",
    "Solution().shortestWay(source, target) #xz + y + xz"
   ]
  },
  {
   "cell_type": "markdown",
   "metadata": {},
   "source": [
    "### Add Binary Strings"
   ]
  },
  {
   "cell_type": "code",
   "execution_count": 6,
   "metadata": {},
   "outputs": [
    {
     "data": {
      "text/plain": [
       "'10101'"
      ]
     },
     "execution_count": 6,
     "metadata": {},
     "output_type": "execute_result"
    }
   ],
   "source": [
    "def addBinary(a, b: str) -> str:\n",
    "    carry = 0; ans = ''\n",
    "    i = len(a)-1; j = len(b)-1\n",
    "    while i>=0 or j>=0:\n",
    "        val1 = int(a[i]) if i>= 0 else 0\n",
    "        val2 = int(b[j]) if j>=0 else 0\n",
    "        i -= 1; j -= 1\n",
    "        result = val1 + val2 + carry\n",
    "        carry = 0\n",
    "        if result == 0:\n",
    "            ans = '0' + ans\n",
    "        elif result == 1:\n",
    "            ans = '1' + ans\n",
    "        elif result == 2:\n",
    "            ans = '0' + ans\n",
    "            carry = 1\n",
    "        else:\n",
    "            ans = '1' + ans\n",
    "            carry = 1\n",
    "    if carry > 0:\n",
    "        ans = str(carry) + ans\n",
    "    return ans\n",
    "\n",
    "a = \"1010\"; b = \"1011\"\n",
    "addBinary(a, b)"
   ]
  },
  {
   "cell_type": "markdown",
   "metadata": {},
   "source": [
    "### Campus Bikes I\n",
    "On a campus represented as a 2D grid, there are N workers and M bikes, with N <= M. Each worker and bike is a 2D coordinate on this grid.\n",
    "\n",
    "Our goal is to assign a bike to each worker. Among the available bikes and workers, we choose the (worker, bike) pair with the shortest Manhattan distance between each other, and assign the bike to that worker. (If there are multiple (worker, bike) pairs with the same shortest Manhattan distance, we choose the pair with the smallest worker index; if there are multiple ways to do that, we choose the pair with the smallest bike index). We repeat this process until there are no available workers.\n",
    "\n",
    "The Manhattan distance between two points p1 and p2 is Manhattan(p1, p2) = |p1.x - p2.x| + |p1.y - p2.y|.\n",
    "\n",
    "Return a vector ans of length N, where ans[i] is the index (0-indexed) of the bike that the i-th worker is assigned to."
   ]
  },
  {
   "cell_type": "code",
   "execution_count": 7,
   "metadata": {},
   "outputs": [
    {
     "data": {
      "text/plain": [
       "[0, 2, 1]"
      ]
     },
     "execution_count": 7,
     "metadata": {},
     "output_type": "execute_result"
    }
   ],
   "source": [
    "import collections\n",
    "class Solution:\n",
    "    def assignBikes(self, workers, bikes):\n",
    "        bikes_assigned = set()\n",
    "        max_dist = -float('inf')\n",
    "        ans = [None] * len(workers)\n",
    "        \n",
    "        buckets = collections.defaultdict(list)\n",
    "        for i, w in enumerate(workers):\n",
    "            for j, b in enumerate(bikes):\n",
    "                dist = abs(w[0]-b[0]) + abs(w[1]-b[1])\n",
    "                max_dist = max(max_dist, dist)\n",
    "                buckets[dist].append((i,j))\n",
    "        \n",
    "        for key in range(max_dist+1):\n",
    "            dist_list = buckets[key]\n",
    "            for wi, bi in dist_list:\n",
    "                if ans[wi] is None and bi not in bikes_assigned:\n",
    "                    ans[wi] = bi\n",
    "                    bikes_assigned.add(bi)\n",
    "        \n",
    "        return ans\n",
    "        \n",
    "workers = [[0,0],[1,1],[2,0]]; bikes = [[1,0],[2,2],[2,1]]     \n",
    "Solution().assignBikes(workers, bikes)"
   ]
  },
  {
   "cell_type": "markdown",
   "metadata": {},
   "source": [
    "### Maximum Swap\n",
    "Given a non-negative integer, you could swap two digits at most once to get the maximum valued number. Return the maximum valued number you could get."
   ]
  },
  {
   "cell_type": "code",
   "execution_count": 23,
   "metadata": {},
   "outputs": [
    {
     "data": {
      "text/plain": [
       "321"
      ]
     },
     "execution_count": 23,
     "metadata": {},
     "output_type": "execute_result"
    }
   ],
   "source": [
    "def maximumSwap(num):\n",
    "    str_num = str(num)\n",
    "    arr = []\n",
    "    max_num = -1; max_index = -1\n",
    "    for i in range(len(str_num)-1, -1, -1):\n",
    "        arr.append((i, max_index))\n",
    "        if int(str_num[i]) > max_num:\n",
    "            max_num = int(str_num[i])\n",
    "            max_index = i\n",
    "\n",
    "    ans = num\n",
    "    for i, j in arr[1:]:\n",
    "        ni, nj = str_num[i], str_num[j]\n",
    "        new_str = str_num[:i] + nj + str_num[i+1:j] + ni + str_num[j+1:]\n",
    "        ans = max(ans, int(new_str))\n",
    "\n",
    "    return ans\n",
    "\n",
    "maximumSwap(321)"
   ]
  },
  {
   "cell_type": "markdown",
   "metadata": {},
   "source": [
    "### Expressive Words\n",
    "Sometimes people repeat letters to represent extra feeling, such as \"hello\" -> \"heeellooo\", \"hi\" -> \"hiiii\".  In these strings like \"heeellooo\", we have groups of adjacent letters that are all the same:  \"h\", \"eee\", \"ll\", \"ooo\".\n",
    "\n",
    "Given a list of query words, return the number of words that are stretchy. "
   ]
  },
  {
   "cell_type": "code",
   "execution_count": 4,
   "metadata": {},
   "outputs": [
    {
     "data": {
      "text/plain": [
       "1"
      ]
     },
     "execution_count": 4,
     "metadata": {},
     "output_type": "execute_result"
    }
   ],
   "source": [
    "class Solution:\n",
    "    def expressiveWords(self, S: str, words) -> int:\n",
    "        s_group = self.get_group(S)\n",
    "        ans = 0\n",
    "        for word in words:\n",
    "            if self.check(s_group, word):\n",
    "                ans += 1\n",
    "        return ans\n",
    "    \n",
    "    def check(self, group, word):\n",
    "        group_idx = 0\n",
    "        i = 0\n",
    "        while i<len(word):\n",
    "            ch, g_ch, g_freq = word[i], group[group_idx][0], group[group_idx][1]\n",
    "            if ch != g_ch:\n",
    "                return False\n",
    "            start = i\n",
    "            while i<len(word) and word[i] == ch:\n",
    "                i += 1\n",
    "            freq = i-start\n",
    "            if freq > g_freq or (g_freq < 3 and g_freq != freq):\n",
    "                return False\n",
    "            group_idx += 1\n",
    "        return group_idx == len(group)\n",
    "    \n",
    "    def get_group(self, S):\n",
    "        group = []\n",
    "        i = 0\n",
    "        while i<len(S):\n",
    "            ch = S[i]\n",
    "            start = i\n",
    "            while i<len(S) and S[i] == ch:\n",
    "                i += 1\n",
    "            group.append((ch, i-start))\n",
    "        return group\n",
    "\n",
    "S = \"heeellooo\"\n",
    "words = [\"hello\", \"hi\", \"helo\"]\n",
    "Solution().expressiveWords(S, words)"
   ]
  },
  {
   "cell_type": "markdown",
   "metadata": {},
   "source": [
    "### Maximum Width Ramp\n",
    "Given an array A of integers, a ramp is a tuple (i, j) for which i < j and A[i] <= A[j].  The width of such a ramp is j - i.\n",
    "\n",
    "Find the maximum width of a ramp in A.  If one doesn't exist, return 0."
   ]
  },
  {
   "cell_type": "code",
   "execution_count": 19,
   "metadata": {},
   "outputs": [
    {
     "data": {
      "text/plain": [
       "7"
      ]
     },
     "execution_count": 19,
     "metadata": {},
     "output_type": "execute_result"
    }
   ],
   "source": [
    "def maxWidthRamp(A) -> int:\n",
    "    stack = []\n",
    "    for i, num in enumerate(A):\n",
    "        if not stack or A[stack[-1]] > num:\n",
    "            stack.append(i)\n",
    "    ans = 0\n",
    "    for j in range(len(A)-1, -1, -1):\n",
    "        while stack and A[stack[-1]] <= A[j]:\n",
    "            i = stack.pop()\n",
    "            ans = max(ans, j-i)\n",
    "    return ans\n",
    "\n",
    "maxWidthRamp([9,8,1,0,1,9,4,0,4,1])"
   ]
  }
 ],
 "metadata": {
  "kernelspec": {
   "display_name": "Python 3",
   "language": "python",
   "name": "python3"
  },
  "language_info": {
   "codemirror_mode": {
    "name": "ipython",
    "version": 3
   },
   "file_extension": ".py",
   "mimetype": "text/x-python",
   "name": "python",
   "nbconvert_exporter": "python",
   "pygments_lexer": "ipython3",
   "version": "3.6.8"
  }
 },
 "nbformat": 4,
 "nbformat_minor": 2
}
