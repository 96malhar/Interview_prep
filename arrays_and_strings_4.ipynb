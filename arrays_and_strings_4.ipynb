{
 "cells": [
  {
   "cell_type": "markdown",
   "metadata": {},
   "source": [
    "### Intersection of Two Arrays"
   ]
  },
  {
   "cell_type": "code",
   "execution_count": 4,
   "metadata": {},
   "outputs": [
    {
     "data": {
      "text/plain": [
       "[2]"
      ]
     },
     "execution_count": 4,
     "metadata": {},
     "output_type": "execute_result"
    }
   ],
   "source": [
    "def intersection(nums1, nums2):\n",
    "    s = set()\n",
    "    ans = []\n",
    "    for num in nums1:\n",
    "        s.add(num)\n",
    "    for num in nums2:\n",
    "        if num in s:\n",
    "            ans.append(num)\n",
    "            s.remove(num)\n",
    "    return ans\n",
    "\n",
    "nums1 = [1,2,2,1]; nums2 = [2,2]\n",
    "intersection(nums1, nums2)"
   ]
  },
  {
   "cell_type": "markdown",
   "metadata": {},
   "source": [
    "### Intersection of Two Arrays II\n",
    "* Each element in the result should appear as many times as it shows in both arrays.\n",
    "* The result can be in any order."
   ]
  },
  {
   "cell_type": "code",
   "execution_count": 8,
   "metadata": {},
   "outputs": [
    {
     "data": {
      "text/plain": [
       "[2, 2]"
      ]
     },
     "execution_count": 8,
     "metadata": {},
     "output_type": "execute_result"
    }
   ],
   "source": [
    "def intersect(nums1, nums2):\n",
    "    import collections\n",
    "    count = collections.Counter(nums1); ans = []\n",
    "    for num in nums2:\n",
    "        if count[num]>0:\n",
    "            ans.append(num)\n",
    "            count[num] -=1 \n",
    "    return ans\n",
    "\n",
    "nums1 = [1,2,2,1]; nums2 = [2,2]\n",
    "intersect(nums1, nums2)"
   ]
  },
  {
   "cell_type": "markdown",
   "metadata": {},
   "source": [
    "### Intersection of Three Sorted Arrays\n",
    "Given three integer arrays arr1, arr2 and arr3 sorted in strictly increasing order, return a sorted array of only the integers that appeared in all three arrays."
   ]
  },
  {
   "cell_type": "code",
   "execution_count": 22,
   "metadata": {},
   "outputs": [
    {
     "data": {
      "text/plain": [
       "[1, 5]"
      ]
     },
     "execution_count": 22,
     "metadata": {},
     "output_type": "execute_result"
    }
   ],
   "source": [
    "def arraysIntersection(arr1, arr2, arr3):\n",
    "    i = j = k = 0\n",
    "    ans = []\n",
    "    while i<len(arr1) and j<len(arr2) and k<len(arr3):\n",
    "        min_val = min([arr1[i], arr2[j], arr3[k]])\n",
    "        if arr1[i] == arr2[j] == arr3[k]:\n",
    "            ans.append(arr1[i])\n",
    "        if arr1[i] == min_val: i += 1\n",
    "        if arr2[j] == min_val: j += 1\n",
    "        if arr3[k] == min_val: k += 1\n",
    "    return ans\n",
    "\n",
    "arr1 = [1,2,3,4,5]; arr2 = [1,2,5,7,9]; arr3 = [1,3,4,5,8]\n",
    "arraysIntersection(arr1, arr2, arr3)"
   ]
  },
  {
   "cell_type": "markdown",
   "metadata": {},
   "source": [
    "### Find common Characters\n",
    "Given an array A of strings made only from lowercase letters, return a list of all characters that show up in all strings within the list (including duplicates).  For example, if a character occurs 3 times in all strings but not 4 times, you need to include that character three times in the final answer.\n",
    "\n",
    "You may return the answer in any order."
   ]
  },
  {
   "cell_type": "code",
   "execution_count": 217,
   "metadata": {},
   "outputs": [
    {
     "data": {
      "text/plain": [
       "['e', 'l', 'l']"
      ]
     },
     "execution_count": 217,
     "metadata": {},
     "output_type": "execute_result"
    }
   ],
   "source": [
    "def commonChars(A):\n",
    "    from collections import Counter\n",
    "    result = []\n",
    "    common_count = Counter(A[0])\n",
    "    for a in A[1:]:\n",
    "        common_count &= Counter(a)\n",
    "    for char, count in common_count.items():\n",
    "        for _ in range(count):\n",
    "            result.append(char)\n",
    "    return result\n",
    "\n",
    "commonChars([\"bella\",\"label\",\"roller\"])"
   ]
  },
  {
   "cell_type": "markdown",
   "metadata": {},
   "source": [
    "## Random Sampling Problems"
   ]
  },
  {
   "cell_type": "markdown",
   "metadata": {},
   "source": [
    "### Random Pick Index\n",
    "Given an array of integers with possible duplicates, randomly output the index of a given target number. You can assume that the given target number must exist in the array.\n",
    "\n",
    "**Similar question: Linked List Random Node** "
   ]
  },
  {
   "cell_type": "code",
   "execution_count": 206,
   "metadata": {},
   "outputs": [
    {
     "data": {
      "text/plain": [
       "1"
      ]
     },
     "execution_count": 206,
     "metadata": {},
     "output_type": "execute_result"
    }
   ],
   "source": [
    "from random import randint\n",
    "class Solution:\n",
    "\n",
    "    def __init__(self, nums):\n",
    "        self.nums = nums\n",
    "        \n",
    "    def pick(self, target: int) -> int:\n",
    "        count = 0; result = None\n",
    "        for i, val in enumerate(self.nums):\n",
    "            if val == target:\n",
    "                count += 1\n",
    "                if randint(1, count) == count:\n",
    "                    result = i\n",
    "        return result\n",
    "\n",
    "obj = Solution([1,2,3,3,3])\n",
    "obj.pick(2)"
   ]
  },
  {
   "cell_type": "markdown",
   "metadata": {},
   "source": [
    "### Random Pick with Weight\n",
    "Given an array w of positive integers, where w[i] describes the weight of index i, write a function pickIndex which randomly picks an index in proportion to its weight."
   ]
  },
  {
   "cell_type": "code",
   "execution_count": 272,
   "metadata": {},
   "outputs": [
    {
     "data": {
      "text/plain": [
       "1"
      ]
     },
     "execution_count": 272,
     "metadata": {},
     "output_type": "execute_result"
    }
   ],
   "source": [
    "from random import randint\n",
    "from bisect import bisect_left\n",
    "class Solution:\n",
    "\n",
    "    def __init__(self, w):\n",
    "        self.prefix_sum = []; c_sum = 0\n",
    "        for num in w:\n",
    "            c_sum += num\n",
    "            self.prefix_sum.append(c_sum)   \n",
    "\n",
    "    def pickIndex(self) -> int:\n",
    "        val = randint(1, self.prefix_sum[-1])\n",
    "        index = bisect_left(self.prefix_sum, val)\n",
    "        return index\n",
    "\n",
    "obj = Solution([1,3])\n",
    "obj.pickIndex()"
   ]
  },
  {
   "cell_type": "markdown",
   "metadata": {},
   "source": [
    "### Random Pick with Blacklist\n",
    "Given a blacklist B containing unique integers from [0, N), write a function to return a uniform random integer from [0, N) which is NOT in B.\n",
    "\n",
    "Optimize it such that it minimizes the call to system’s Math.random()."
   ]
  },
  {
   "cell_type": "code",
   "execution_count": 325,
   "metadata": {},
   "outputs": [
    {
     "data": {
      "text/plain": [
       "5"
      ]
     },
     "execution_count": 325,
     "metadata": {},
     "output_type": "execute_result"
    }
   ],
   "source": [
    "from random import randint\n",
    "class Solution:\n",
    "\n",
    "    def __init__(self, N: int, blacklist):\n",
    "        self.b = set(blacklist)\n",
    "        self.length = N - len(blacklist)\n",
    "        self.m = {}\n",
    "        need_remap = []\n",
    "        for i in blacklist:\n",
    "            if i < self.length:\n",
    "                need_remap.append(i)\n",
    "        j = 0\n",
    "        for i in range(self.length, N):\n",
    "            if i not in self.b:\n",
    "                self.m[need_remap[j]] = i\n",
    "                j += 1\n",
    "        \n",
    "    def pick(self) -> int:\n",
    "        i = randint(0, self.length-1)\n",
    "        return i if i not in self.b else self.m[i]\n",
    "\n",
    "N = 10; blacklist = [2,7,9]\n",
    "obj = Solution(N, blacklist)\n",
    "obj.pick()"
   ]
  },
  {
   "cell_type": "markdown",
   "metadata": {},
   "source": [
    "### Split a String in Balanced Strings\n",
    "Balanced strings are those who have equal quantity of 'L' and 'R' characters.\n",
    "\n",
    "Given a balanced string s split it in the maximum amount of balanced strings.\n",
    "\n",
    "Return the maximum amount of splitted balanced strings."
   ]
  },
  {
   "cell_type": "code",
   "execution_count": 3,
   "metadata": {},
   "outputs": [
    {
     "data": {
      "text/plain": [
       "4"
      ]
     },
     "execution_count": 3,
     "metadata": {},
     "output_type": "execute_result"
    }
   ],
   "source": [
    "def balancedStringSplit(s: str) -> int:\n",
    "    count = 0; ans = 0\n",
    "    for ch in s:\n",
    "        count += 1 if ch == 'R' else -1\n",
    "        if count == 0: \n",
    "            ans += 1\n",
    "    return ans\n",
    "\n",
    "balancedStringSplit(\"RLRRLLRLRL\")"
   ]
  },
  {
   "cell_type": "markdown",
   "metadata": {},
   "source": [
    "### Assign Cookies\n",
    "Assume you are an awesome parent and want to give your children some cookies. But, you should give each child at most one cookie. Each child i has a greed factor gi, which is the minimum size of a cookie that the child will be content with; and each cookie j has a size sj. If sj >= gi, we can assign the cookie j to the child i, and the child i will be content. Your goal is to maximize the number of your content children and output the maximum number.\n",
    "\n",
    "Note:\n",
    "* You may assume the greed factor is always positive.\n",
    "* You cannot assign more than one cookie to one child."
   ]
  },
  {
   "cell_type": "code",
   "execution_count": 5,
   "metadata": {},
   "outputs": [
    {
     "data": {
      "text/plain": [
       "1"
      ]
     },
     "execution_count": 5,
     "metadata": {},
     "output_type": "execute_result"
    }
   ],
   "source": [
    "def findContentChildren(g, s) -> int:\n",
    "    g.sort(); s.sort()\n",
    "    child = cookie = 0\n",
    "    while child < len(g) and cookie < len(s):\n",
    "        if s[cookie] >= g[child]:\n",
    "            child += 1\n",
    "        cookie += 1\n",
    "    return child\n",
    "\n",
    "g = [1,2,3]\n",
    "s = [1,1]\n",
    "findContentChildren(g, s)"
   ]
  },
  {
   "cell_type": "markdown",
   "metadata": {},
   "source": [
    "### Longest Substring with At Least K Repeating Characters\n",
    "Find the length of the longest substring T of a given string (consists of lowercase letters only) such that every character in T appears no less than k times."
   ]
  },
  {
   "cell_type": "code",
   "execution_count": 20,
   "metadata": {},
   "outputs": [
    {
     "data": {
      "text/plain": [
       "3"
      ]
     },
     "execution_count": 20,
     "metadata": {},
     "output_type": "execute_result"
    }
   ],
   "source": [
    "def longestSubstring(s: str, k: int) -> int:\n",
    "    from collections import Counter\n",
    "    counter = Counter(s)\n",
    "    ans = 0\n",
    "    for ch, freq in counter.items():\n",
    "        if freq < k:\n",
    "            strs = s.split(ch)\n",
    "            for string in strs:\n",
    "                ans = max(ans, longestSubstring(string, k))\n",
    "            return ans\n",
    "    return len(s)\n",
    "\n",
    "s = \"aaabb\"; k = 3\n",
    "longestSubstring(s, k)"
   ]
  },
  {
   "cell_type": "markdown",
   "metadata": {},
   "source": [
    "### Increasing Triplet Subsequence\n",
    "Given an unsorted array return whether an increasing subsequence of length 3 exists or not in the array.\n",
    "\n",
    "Formally the function should:\n",
    "\n",
    "Return true if there exists i, j, k\n",
    "such that arr[i] < arr[j] < arr[k] given 0 ≤ i < j < k ≤ n-1 else return false."
   ]
  },
  {
   "cell_type": "code",
   "execution_count": 2,
   "metadata": {},
   "outputs": [
    {
     "data": {
      "text/plain": [
       "True"
      ]
     },
     "execution_count": 2,
     "metadata": {},
     "output_type": "execute_result"
    }
   ],
   "source": [
    "def increasingTriplet(nums) -> bool:\n",
    "        first = second = float('inf')\n",
    "        for num in nums:\n",
    "            if num <= first:\n",
    "                first = num\n",
    "            elif num <= second:\n",
    "                second = num\n",
    "            else:\n",
    "                return True\n",
    "        return False\n",
    "\n",
    "nums = [1,2,3,4,5]\n",
    "increasingTriplet(nums)"
   ]
  },
  {
   "cell_type": "markdown",
   "metadata": {},
   "source": [
    "### Check if two strings are similar - FB Question"
   ]
  },
  {
   "cell_type": "code",
   "execution_count": 17,
   "metadata": {},
   "outputs": [
    {
     "data": {
      "text/plain": [
       "True"
      ]
     },
     "execution_count": 17,
     "metadata": {},
     "output_type": "execute_result"
    }
   ],
   "source": [
    "def check_similar(str1, str2):\n",
    "    if len(str1) != len(str2):\n",
    "        return False\n",
    "    diff = 0\n",
    "    idx = []\n",
    "    for i in range(len(str1)):\n",
    "        if str1[i] != str2[i]:\n",
    "            diff += 1\n",
    "            idx.append(i)\n",
    "            if diff > 2:\n",
    "                return False\n",
    "    i,j = idx\n",
    "    return diff == 0 or (str1[i] == str2[j] and str1[j] == str2[i])\n",
    "\n",
    "check_similar('face', 'bacf')\n",
    "check_similar('rats', 'arts')"
   ]
  },
  {
   "cell_type": "markdown",
   "metadata": {},
   "source": [
    "### Sentence Similarity\n",
    "Given two sentences words1, words2 (each represented as an array of strings), and a list of similar word pairs pairs, determine if two sentences are similar.\n",
    "\n",
    "For example, \"great acting skills\" and \"fine drama talent\" are similar, if the similar word pairs are pairs = [[\"great\", \"fine\"], [\"acting\",\"drama\"], [\"skills\",\"talent\"]].\n",
    "\n",
    "Note that the similarity relation is **not transitive**. For example, if \"great\" and \"fine\" are similar, and \"fine\" and \"good\" are similar, \"great\" and \"good\" are not necessarily similar.\n",
    "\n",
    "However, similarity is symmetric. For example, \"great\" and \"fine\" being similar is the same as \"fine\" and \"great\" being similar.\n",
    "\n",
    "Also, a word is always similar with itself. For example, the sentences words1 = [\"great\"], words2 = [\"great\"], pairs = [] are similar, even though there are no specified similar word pairs.\n",
    "\n",
    "Finally, sentences can only be similar if they have the same number of words. So a sentence like words1 = [\"great\"] can never be similar to words2 = [\"doubleplus\",\"good\"]."
   ]
  },
  {
   "cell_type": "code",
   "execution_count": 8,
   "metadata": {},
   "outputs": [
    {
     "data": {
      "text/plain": [
       "True"
      ]
     },
     "execution_count": 8,
     "metadata": {},
     "output_type": "execute_result"
    }
   ],
   "source": [
    "def areSentencesSimilar(words1, words2, pairs) -> bool:\n",
    "    import collections\n",
    "    if len(words1) != len(words2):\n",
    "        return False\n",
    "\n",
    "    graph = collections.defaultdict(set)\n",
    "    for x, y in pairs:\n",
    "        graph[x].add(y)\n",
    "        graph[y].add(x)\n",
    "\n",
    "    for i in range(len(words1)):\n",
    "        w1 = words1[i]\n",
    "        w2 = words2[i]\n",
    "\n",
    "        if w2 not in graph[w1] and w1 != w2:\n",
    "            return False\n",
    "\n",
    "    return True\n",
    "\n",
    "words1 = [\"great\",\"acting\",\"skills\"]\n",
    "words2 = [\"fine\",\"drama\",\"talent\"]\n",
    "pairs = [[\"great\",\"fine\"],[\"drama\",\"acting\"],[\"skills\",\"talent\"]]\n",
    "areSentencesSimilar(words1, words2, pairs)"
   ]
  }
 ],
 "metadata": {
  "kernelspec": {
   "display_name": "Python 3",
   "language": "python",
   "name": "python3"
  },
  "language_info": {
   "codemirror_mode": {
    "name": "ipython",
    "version": 3
   },
   "file_extension": ".py",
   "mimetype": "text/x-python",
   "name": "python",
   "nbconvert_exporter": "python",
   "pygments_lexer": "ipython3",
   "version": "3.6.8"
  }
 },
 "nbformat": 4,
 "nbformat_minor": 2
}
