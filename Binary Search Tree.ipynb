{
 "cells": [
  {
   "cell_type": "markdown",
   "metadata": {},
   "source": [
    "## Introduction\n",
    "                     4\n",
    "                    /  \\\n",
    "                   2    6\n",
    "                  / \\   / \\\n",
    "                 1   3 5   7"
   ]
  },
  {
   "cell_type": "code",
   "execution_count": 4,
   "metadata": {},
   "outputs": [],
   "source": [
    "class Node:\n",
    "    def __init__(self, val):\n",
    "        self.val = val\n",
    "        self.left = None\n",
    "        self.right = None\n",
    "class BinarySearchTree:\n",
    "    def __init__(self,root):\n",
    "        self.root = root\n",
    "        \n",
    "node1 = Node(1)\n",
    "node2 = Node(2)\n",
    "node3 = Node(3)\n",
    "node4 = Node(4)\n",
    "node5 = Node(5)\n",
    "node6 = Node(6)\n",
    "node7 = Node(7)\n",
    "\n",
    "node4.left, node4.right = node2, node6\n",
    "node2.left, node2.right = node1, node3\n",
    "node6.left, node6.right = node5, node7\n",
    "\n",
    "tree = BinarySearchTree(node4)"
   ]
  },
  {
   "cell_type": "code",
   "execution_count": 3,
   "metadata": {},
   "outputs": [],
   "source": [
    "def inorder_visit(node):\n",
    "    if node is None:\n",
    "        return\n",
    "    inorder_visit(node.left)\n",
    "    print(node.val, end = ' ')\n",
    "    inorder_visit(node.right)"
   ]
  },
  {
   "cell_type": "markdown",
   "metadata": {},
   "source": [
    "### Validate Binary Search Tree\n",
    "Given a binary tree, determine if it is a valid binary search tree (BST).\n",
    "\n",
    "Assume a BST is defined as follows:\n",
    "\n",
    "The left subtree of a node contains only nodes with keys less than the node's key.\n",
    "The right subtree of a node contains only nodes with keys greater than the node's key.\n",
    "Both the left and right subtrees must also be binary search trees."
   ]
  },
  {
   "cell_type": "code",
   "execution_count": 8,
   "metadata": {},
   "outputs": [
    {
     "data": {
      "text/plain": [
       "True"
      ]
     },
     "execution_count": 8,
     "metadata": {},
     "output_type": "execute_result"
    }
   ],
   "source": [
    "# inorder traversal approach\n",
    "def isValidBST(root):\n",
    "    stack = []; node = root; prev = -float('inf')\n",
    "    while node or stack:\n",
    "        if node:\n",
    "            stack.append(node)\n",
    "            node = node.left\n",
    "        else:\n",
    "            node = stack.pop()\n",
    "            if prev >= node.val:\n",
    "                return False\n",
    "            prev = node.val\n",
    "            node = node.right\n",
    "    return True\n",
    "\n",
    "isValidBST(tree.root)"
   ]
  },
  {
   "cell_type": "code",
   "execution_count": 10,
   "metadata": {},
   "outputs": [
    {
     "data": {
      "text/plain": [
       "True"
      ]
     },
     "execution_count": 10,
     "metadata": {},
     "output_type": "execute_result"
    }
   ],
   "source": [
    "# Bottom to top approach\n",
    "def isValidBST(root):\n",
    "    return helper(root) is not None\n",
    "    \n",
    "def helper(root):\n",
    "    if root is None:\n",
    "        return (float('inf'), -float('inf'))\n",
    "    left = helper(root.left)\n",
    "    right = helper(root.right)\n",
    "    if not left or not right or left[1]>=root.val or right[0]<=root.val:\n",
    "        return None\n",
    "    min = root.val if not root.left else left[0]\n",
    "    max = root.val if not root.right else right[1]\n",
    "    return (min,max)\n",
    "\n",
    "isValidBST(tree.root)"
   ]
  },
  {
   "cell_type": "markdown",
   "metadata": {},
   "source": [
    "### Largest BST Subtree\n",
    "Given a binary tree, find the largest subtree which is a Binary Search Tree (BST), where largest means subtree with largest number of nodes in it.\n",
    "\n",
    "Note:\n",
    "A subtree must include all of its descendants.\n",
    "\n",
    "Example:\n",
    "\n",
    "Input: [10,5,15,1,8,null,7]\n",
    "\n",
    "       10 \n",
    "       / \\ \n",
    "      5  15 \n",
    "     / \\   \\ \n",
    "    1   8   7\n",
    "\n",
    "Output: 3\n",
    "Explanation: The Largest BST Subtree in this case is 1--5--8.\n",
    "             The return value is the subtree's size, which is 3."
   ]
  },
  {
   "cell_type": "code",
   "execution_count": 4,
   "metadata": {},
   "outputs": [],
   "source": [
    "class Solution:\n",
    "    def largestBSTSubtree(self, root) -> int:\n",
    "        self.max = 0\n",
    "        self.helper(root)\n",
    "        return self.max\n",
    "    \n",
    "    def helper(self, root):\n",
    "        if root is None:\n",
    "            return result(0, float('inf'), -float('inf'))\n",
    "        left = self.helper(root.left)\n",
    "        right = self.helper(root.right)\n",
    "        if left.size == -1 or right.size == -1 or left.upper>=root.val or right.lower<=root.val:\n",
    "            return result(-1,0,0)\n",
    "        size = left.size + right.size + 1\n",
    "        self.max = max(self.max, size)\n",
    "        return result(size, min(root.val, left.lower), max(root.val, right.upper))\n",
    "            \n",
    "        \n",
    "class result:\n",
    "    def __init__(self, size, lower, upper):\n",
    "        self.size = size\n",
    "        self.lower = lower\n",
    "        self.upper = upper"
   ]
  },
  {
   "cell_type": "markdown",
   "metadata": {},
   "source": [
    "### Search a node in Binary Search Tree"
   ]
  },
  {
   "cell_type": "code",
   "execution_count": 5,
   "metadata": {},
   "outputs": [
    {
     "data": {
      "text/plain": [
       "6"
      ]
     },
     "execution_count": 5,
     "metadata": {},
     "output_type": "execute_result"
    }
   ],
   "source": [
    "def searchBST(root, val):\n",
    "    node = root\n",
    "    while node:\n",
    "        if node.val < val:\n",
    "            node = node.right\n",
    "        elif node.val > val:\n",
    "            node = node.left\n",
    "        else:\n",
    "            return node\n",
    "    return None\n",
    "\n",
    "searchBST(tree.root, 6).val"
   ]
  },
  {
   "cell_type": "markdown",
   "metadata": {},
   "source": [
    "### Insert a node in Binary Search Tree"
   ]
  },
  {
   "cell_type": "code",
   "execution_count": 18,
   "metadata": {},
   "outputs": [
    {
     "name": "stdout",
     "output_type": "stream",
     "text": [
      "1 2 3 4 5 6 7 100 "
     ]
    }
   ],
   "source": [
    "def insertIntoBST(root, val):\n",
    "    parent = None; node = root\n",
    "    while node:\n",
    "        parent = node\n",
    "        node = node.right if node.val<val else node.left\n",
    "    if parent is None:\n",
    "        root = Node(val)\n",
    "    elif parent.val < val:\n",
    "        parent.right = Node(val)\n",
    "    else:\n",
    "        parent.left = Node(val)\n",
    "    return root\n",
    "\n",
    "insertIntoBST(tree.root, 100)\n",
    "inorder_visit(tree.root)"
   ]
  },
  {
   "cell_type": "markdown",
   "metadata": {},
   "source": [
    "### Delete from Binary Search Tree"
   ]
  },
  {
   "cell_type": "code",
   "execution_count": 64,
   "metadata": {},
   "outputs": [],
   "source": [
    "def deleteNode(root, val):\n",
    "    parent, node = find(root, val)\n",
    "    delete(parent, node)\n",
    "    return root\n",
    "\n",
    "def find(root, val):\n",
    "    parent = None; node = root\n",
    "    while node:\n",
    "        if node.val<val: parent = node; node = node.right\n",
    "        elif node.val>val: parent = node; node = node.left\n",
    "        else: return parent, node\n",
    "    return parent, None\n",
    "\n",
    "def delete(parent, node):\n",
    "    if not node:\n",
    "        return\n",
    "    if not node.left and not node.right:\n",
    "        replace(parent, node, None)\n",
    "    elif not node.left:\n",
    "        replace(parent, node, node.right)\n",
    "    elif not node.right:\n",
    "        replace(parent, node, node.left)\n",
    "    else:\n",
    "        succ_parent = node\n",
    "        succ = node.right\n",
    "        while succ.left:\n",
    "            succ_parent = succ\n",
    "            succ = succ.left\n",
    "        node.val = succ.val\n",
    "        delete(succ_parent, succ)\n",
    "        \n",
    "def replace(parent, oldchild, newchild):\n",
    "    if not parent:\n",
    "        tree.root = newchild\n",
    "    elif parent.left == oldchild: parent.left = newchild\n",
    "    else: parent.right = newchild"
   ]
  },
  {
   "cell_type": "code",
   "execution_count": 91,
   "metadata": {},
   "outputs": [
    {
     "name": "stdout",
     "output_type": "stream",
     "text": [
      "5\n",
      "1 2 3 5 6 7 "
     ]
    }
   ],
   "source": [
    "deleteNode(tree.root, 4)\n",
    "print(tree.root.val)\n",
    "inorder_visit(tree.root)"
   ]
  },
  {
   "cell_type": "markdown",
   "metadata": {},
   "source": [
    "### Kth Smallest element in Binary Search Tree"
   ]
  },
  {
   "cell_type": "code",
   "execution_count": 71,
   "metadata": {},
   "outputs": [
    {
     "data": {
      "text/plain": [
       "4"
      ]
     },
     "execution_count": 71,
     "metadata": {},
     "output_type": "execute_result"
    }
   ],
   "source": [
    "def kthSmallest(root, k):\n",
    "    count = 0\n",
    "    stack = []; node = root\n",
    "    while node or stack:\n",
    "        if node:\n",
    "            stack.append(node)\n",
    "            node = node.left\n",
    "        else:\n",
    "            node = stack.pop()\n",
    "            count += 1\n",
    "            if count == k:\n",
    "                return node.val\n",
    "            node = node.right\n",
    "kthSmallest(tree.root, 4)"
   ]
  },
  {
   "cell_type": "markdown",
   "metadata": {},
   "source": [
    "### Second Minimum node in Binary Tree"
   ]
  },
  {
   "cell_type": "code",
   "execution_count": 77,
   "metadata": {},
   "outputs": [
    {
     "data": {
      "text/plain": [
       "2"
      ]
     },
     "execution_count": 77,
     "metadata": {},
     "output_type": "execute_result"
    }
   ],
   "source": [
    "def findSecondMinimumValue(root):\n",
    "    first = second = float('inf')\n",
    "    stack = [root]\n",
    "    while stack:\n",
    "        node = stack.pop()\n",
    "        if node.val < first:\n",
    "            second = first\n",
    "            first = node.val\n",
    "        elif first<node.val<second:\n",
    "            second = node.val\n",
    "        if node.right: stack.append(node.right)\n",
    "        if node.left: stack.append(node.left)\n",
    "    return second if second != float('inf') else -1\n",
    "\n",
    "findSecondMinimumValue(tree.root)"
   ]
  },
  {
   "cell_type": "markdown",
   "metadata": {},
   "source": [
    "## Record and move on"
   ]
  },
  {
   "cell_type": "markdown",
   "metadata": {},
   "source": [
    "### Closest Binary Search Tree Value\n",
    "Given a non-empty binary search tree and a target value, find the value in the BST that is closest to the target."
   ]
  },
  {
   "cell_type": "code",
   "execution_count": 87,
   "metadata": {},
   "outputs": [
    {
     "data": {
      "text/plain": [
       "3"
      ]
     },
     "execution_count": 87,
     "metadata": {},
     "output_type": "execute_result"
    }
   ],
   "source": [
    "def closestValue(root, target):\n",
    "    node = root; result = None\n",
    "    while node:\n",
    "        result = record(node, target, result)\n",
    "        if node.val > target:\n",
    "            node = node.left\n",
    "        elif node.val<target:\n",
    "            node = node.right\n",
    "        else:\n",
    "            return node.val\n",
    "    return result\n",
    "\n",
    "def record(node, target ,result):\n",
    "    if result is None or abs(node.val-target) < abs(result-target):\n",
    "        return node.val\n",
    "    return result\n",
    "\n",
    "closestValue(tree.root, 2.76)"
   ]
  },
  {
   "cell_type": "markdown",
   "metadata": {},
   "source": [
    "### Closest Binary Search Tree Value II\n",
    "Given a non-empty binary search tree and a target value, find k values in the BST that are closest to the target.\n",
    "\n",
    "Input: root = [4,2,5,1,3], target = 3.714286, and k = 2\n",
    "\n",
    "        4\n",
    "       / \\\n",
    "      2   5\n",
    "     / \\\n",
    "    1   3\n",
    "\n",
    "Output: [4,3]"
   ]
  },
  {
   "cell_type": "code",
   "execution_count": 94,
   "metadata": {},
   "outputs": [
    {
     "data": {
      "text/plain": [
       "[3, 4]"
      ]
     },
     "execution_count": 94,
     "metadata": {},
     "output_type": "execute_result"
    }
   ],
   "source": [
    "class Solution:\n",
    "    def closestKValues(self, root, target, k):\n",
    "        if root is None:\n",
    "            return []\n",
    "        stack = []; node = root; inorder = []\n",
    "        while node or stack:\n",
    "            if node:\n",
    "                stack.append(node)\n",
    "                node = node.left\n",
    "            else:\n",
    "                node = stack.pop()\n",
    "                inorder.append(node.val)\n",
    "                node = node.right\n",
    "        return self.closest(inorder, target, k)\n",
    "        \n",
    "    def closest(self, inorder, x, k):\n",
    "        low = 0; high = len(inorder)-k\n",
    "        while low<high:\n",
    "            mid = (low+high)//2\n",
    "            if x-inorder[mid] > inorder[mid+k]-x:\n",
    "                low = mid+1\n",
    "            else:\n",
    "                high = mid\n",
    "        return inorder[low:low+k]\n",
    "        \n",
    "sol = Solution()\n",
    "sol.closestKValues(tree.root, 3.7, 2)"
   ]
  },
  {
   "cell_type": "markdown",
   "metadata": {},
   "source": [
    "### Minimum Absolute Difference in BST\n",
    "Given a binary search tree with non-negative values, find the minimum absolute difference between values of any two nodes."
   ]
  },
  {
   "cell_type": "code",
   "execution_count": 12,
   "metadata": {},
   "outputs": [],
   "source": [
    "def getMinimumDifference(root):\n",
    "    prev = None; stack = []; node = root; ans = float('inf')\n",
    "    while node or stack:\n",
    "        if node:\n",
    "            stack.append(node)\n",
    "            node = node.left\n",
    "        else:\n",
    "            node = stack.pop()\n",
    "            if prev:\n",
    "                ans = min(ans, node.val-prev.val)\n",
    "            prev = node\n",
    "            node = node.right\n",
    "    return ans"
   ]
  },
  {
   "cell_type": "markdown",
   "metadata": {},
   "source": [
    "### Inorder Successor in BST"
   ]
  },
  {
   "cell_type": "code",
   "execution_count": 5,
   "metadata": {},
   "outputs": [
    {
     "data": {
      "text/plain": [
       "4"
      ]
     },
     "execution_count": 5,
     "metadata": {},
     "output_type": "execute_result"
    }
   ],
   "source": [
    "def inorderSuccessor(root, p):\n",
    "    if not root:\n",
    "        return None\n",
    "    if p.right:\n",
    "        succ = p.right\n",
    "        while succ.left:\n",
    "            succ = succ.left\n",
    "        return succ\n",
    "    else:\n",
    "        parent = None; node = root\n",
    "        while node:\n",
    "            if node.val > p.val:\n",
    "                parent = node\n",
    "                node = node.left\n",
    "            elif node.val < p.val:\n",
    "                node = node.right\n",
    "            else:\n",
    "                break\n",
    "        return parent\n",
    "\n",
    "inorderSuccessor(tree.root, node3).val"
   ]
  },
  {
   "cell_type": "markdown",
   "metadata": {},
   "source": [
    "### Inorder Successor II in BST\n",
    "each node has a parent attribute"
   ]
  },
  {
   "cell_type": "code",
   "execution_count": 6,
   "metadata": {},
   "outputs": [],
   "source": [
    "\"\"\"\n",
    "# Definition for a Node.\n",
    "class Node:\n",
    "    def __init__(self, val, left, right, parent):\n",
    "        self.val = val\n",
    "        self.left = left\n",
    "        self.right = right\n",
    "        self.parent = parent\n",
    "\"\"\"\n",
    "class Solution:\n",
    "    def inorderSuccessor(self, node: 'Node') -> 'Node':\n",
    "        if node is None:\n",
    "            return\n",
    "        if node.right:\n",
    "            succ = node.right\n",
    "            while succ.left:\n",
    "                succ = succ.left\n",
    "            return succ\n",
    "        else:\n",
    "            child = node; parent = child.parent\n",
    "            while parent and parent.left!=child:\n",
    "                child = parent\n",
    "                parent = parent.parent\n",
    "            return parent"
   ]
  },
  {
   "cell_type": "markdown",
   "metadata": {},
   "source": [
    "### Lowest Common Ancestor in BST\n"
   ]
  },
  {
   "cell_type": "code",
   "execution_count": 11,
   "metadata": {},
   "outputs": [
    {
     "data": {
      "text/plain": [
       "2"
      ]
     },
     "execution_count": 11,
     "metadata": {},
     "output_type": "execute_result"
    }
   ],
   "source": [
    "def lowestCommonAncestor(root, p, q):\n",
    "    node = root\n",
    "    while node:\n",
    "        if node.val > p.val and node.val > q.val:\n",
    "            node = node.left\n",
    "        elif node.val<p.val and node.val<q.val:\n",
    "            node = node.right\n",
    "        else:\n",
    "            return node\n",
    "\n",
    "lowestCommonAncestor(tree.root, node2, node3).val"
   ]
  },
  {
   "cell_type": "markdown",
   "metadata": {},
   "source": [
    "## Building Balanced BST"
   ]
  },
  {
   "cell_type": "markdown",
   "metadata": {},
   "source": [
    "### Given a sorted array, build a balanced Binary Search Tree with the elements of the array."
   ]
  },
  {
   "cell_type": "code",
   "execution_count": 11,
   "metadata": {},
   "outputs": [
    {
     "data": {
      "text/plain": [
       "4"
      ]
     },
     "execution_count": 11,
     "metadata": {},
     "output_type": "execute_result"
    }
   ],
   "source": [
    "class TreeNode:\n",
    "    def __init__(self,val):\n",
    "        self.val = val\n",
    "        self.left = None\n",
    "        self.right= None\n",
    "        \n",
    "class Solution:\n",
    "    def buildTree(self, a, start, end):\n",
    "        if start>end:\n",
    "            return\n",
    "        mid = (start+end) // 2\n",
    "        root = TreeNode(a[mid])\n",
    "        root.left = self.buildTree(a, start, mid-1)\n",
    "        root.right = self.buildTree(a, mid+1, end)\n",
    "        return root\n",
    "    \n",
    "a = [1,2,4,6,7,8]\n",
    "sol = Solution()\n",
    "root = sol.buildTree(a, 0, len(a)-1)\n",
    "root.val"
   ]
  },
  {
   "cell_type": "code",
   "execution_count": 12,
   "metadata": {},
   "outputs": [
    {
     "name": "stdout",
     "output_type": "stream",
     "text": [
      "1 2 4 6 7 8 "
     ]
    }
   ],
   "source": [
    "inorder_visit(root)"
   ]
  },
  {
   "cell_type": "markdown",
   "metadata": {},
   "source": [
    "### Given a sorted List, build a balanced Binary Search Tree with the elements of the array."
   ]
  },
  {
   "cell_type": "code",
   "execution_count": 2,
   "metadata": {},
   "outputs": [],
   "source": [
    "# Definition for singly-linked list.\n",
    "class ListNode:\n",
    "    def __init__(self, x):\n",
    "        self.val = x\n",
    "        self.next = None\n",
    "\n",
    "# Definition for a binary tree node.\n",
    "class TreeNode:\n",
    "    def __init__(self, x):\n",
    "        self.val = x\n",
    "        self.left = None\n",
    "        self.right = None\n",
    "\n",
    "class Solution:\n",
    "    def sortedListToBST(self, head: ListNode) -> TreeNode:\n",
    "        arr = []\n",
    "        node = head\n",
    "        while node:\n",
    "            arr.append(node.val)\n",
    "            node = node.next\n",
    "        return self.buildTree(arr, 0, len(arr)-1)\n",
    "    \n",
    "    def buildTree(self, a, start, end):\n",
    "        if start>end:\n",
    "            return\n",
    "        mid = (start+end) // 2\n",
    "        root = TreeNode(a[mid])\n",
    "        root.left = self.buildTree(a, start, mid-1)\n",
    "        root.right = self.buildTree(a, mid+1, end)\n",
    "        return root\n",
    "        "
   ]
  },
  {
   "cell_type": "markdown",
   "metadata": {},
   "source": [
    "### Two sum IV - Input is a BST"
   ]
  },
  {
   "cell_type": "code",
   "execution_count": 6,
   "metadata": {},
   "outputs": [
    {
     "data": {
      "text/plain": [
       "True"
      ]
     },
     "execution_count": 6,
     "metadata": {},
     "output_type": "execute_result"
    }
   ],
   "source": [
    "class Solution:\n",
    "    def findTarget(self, root, k):\n",
    "        hashset = set()\n",
    "        node = root; stack = []\n",
    "        while node or stack:\n",
    "            if node:\n",
    "                stack.append(node)\n",
    "                node = node.left\n",
    "            else:\n",
    "                node = stack.pop()\n",
    "                if k-node.val in hashset:\n",
    "                    return True\n",
    "                hashset.add(node.val)\n",
    "                node = node.right\n",
    "        return False\n",
    "obj = Solution()\n",
    "obj.findTarget(tree.root, 8)"
   ]
  },
  {
   "cell_type": "markdown",
   "metadata": {},
   "source": [
    "### Binary Search Tree Iterator"
   ]
  },
  {
   "cell_type": "code",
   "execution_count": 9,
   "metadata": {},
   "outputs": [
    {
     "name": "stdout",
     "output_type": "stream",
     "text": [
      "1\n",
      "2\n",
      "3\n",
      "True\n"
     ]
    }
   ],
   "source": [
    "class BSTIterator:\n",
    "\n",
    "    def __init__(self, root: TreeNode):\n",
    "        self.inorder = []\n",
    "        node = root; stack = []\n",
    "        while node or stack:\n",
    "            if node:\n",
    "                stack.append(node)\n",
    "                node = node.left\n",
    "            else:\n",
    "                node = stack.pop()\n",
    "                self.inorder.append(node)\n",
    "                node = node.right\n",
    "        self.pos = 0      \n",
    "\n",
    "    def next(self) -> int:\n",
    "        \"\"\"\n",
    "        @return the next smallest number\n",
    "        \"\"\"\n",
    "        self.pos += 1\n",
    "        return self.inorder[self.pos-1].val\n",
    "\n",
    "    def hasNext(self) -> bool:\n",
    "        \"\"\"\n",
    "        @return whether we have a next smallest number\n",
    "        \"\"\"\n",
    "        return self.pos < len(self.inorder)\n",
    "    \n",
    "obj = BSTIterator(tree.root)\n",
    "print(obj.next())\n",
    "print(obj.next())\n",
    "print(obj.next())\n",
    "print(obj.hasNext())"
   ]
  },
  {
   "cell_type": "markdown",
   "metadata": {},
   "source": [
    "### Cousins in a Binary tree\n",
    "two nodes are cousins if they are at the same level but don't have the same parents"
   ]
  },
  {
   "cell_type": "code",
   "execution_count": 14,
   "metadata": {},
   "outputs": [
    {
     "data": {
      "text/plain": [
       "True"
      ]
     },
     "execution_count": 14,
     "metadata": {},
     "output_type": "execute_result"
    }
   ],
   "source": [
    "class Solution:\n",
    "    def isCousins(self, root: TreeNode, x: int, y: int) -> bool:\n",
    "        queue = [root]\n",
    "        while queue:\n",
    "            found_x = found_y = False\n",
    "            size = len(queue)\n",
    "            for i in range(size):\n",
    "                node = queue.pop(0)\n",
    "                if node.val == x: found_x = True\n",
    "                if node.val == y: found_y = True\n",
    "                \n",
    "                if node.left and node.right:\n",
    "                    if node.left.val == x and node.right.val == y:\n",
    "                        return False\n",
    "                    if node.left.val == y and node.right.val == x:\n",
    "                        return False\n",
    "                if node.left:\n",
    "                    queue.append(node.left)\n",
    "                if node.right:\n",
    "                    queue.append(node.right)\n",
    "            if found_x and found_y:\n",
    "                return True\n",
    "        return False\n",
    "\n",
    "obj = Solution()\n",
    "obj.isCousins(tree.root, 3, 5)"
   ]
  },
  {
   "cell_type": "markdown",
   "metadata": {},
   "source": [
    "### Symmetric Tree\n",
    "        1\n",
    "       / \\\n",
    "      2   2\n",
    "     / \\ / \\\n",
    "    3  4 4  3\n"
   ]
  },
  {
   "cell_type": "code",
   "execution_count": 15,
   "metadata": {},
   "outputs": [],
   "source": [
    "class Solution:\n",
    "    def isSymmetric(self, root: TreeNode) -> bool:\n",
    "        root1 = root2 = root\n",
    "        queue = [root1, root2]\n",
    "        while queue:\n",
    "            node1 = queue.pop(0)\n",
    "            node2 = queue.pop(0)\n",
    "            \n",
    "            if not node1 and not node2:\n",
    "                continue\n",
    "            \n",
    "            if not node1 or not node2:\n",
    "                return False\n",
    "            \n",
    "            if node1.val!=node2.val:\n",
    "                return False\n",
    "            \n",
    "            queue.append(node1.left)\n",
    "            queue.append(node2.right)\n",
    "            queue.append(node1.right)\n",
    "            queue.append(node2.left)\n",
    "        return True"
   ]
  },
  {
   "cell_type": "markdown",
   "metadata": {},
   "source": [
    "### Same Tree"
   ]
  },
  {
   "cell_type": "code",
   "execution_count": 16,
   "metadata": {},
   "outputs": [],
   "source": [
    "class Solution:\n",
    "    def isSameTree(self, p: TreeNode, q: TreeNode) -> bool:\n",
    "        queue = [p,q]\n",
    "        while queue:\n",
    "            node1 = queue.pop(0)\n",
    "            node2 = queue.pop(0)\n",
    "            \n",
    "            if not node1 and not node2:\n",
    "                continue\n",
    "            \n",
    "            if not node1 or not node2:\n",
    "                return False\n",
    "            \n",
    "            if node1.val != node2.val:\n",
    "                return False\n",
    "            \n",
    "            queue.append(node1.left)\n",
    "            queue.append(node2.left)\n",
    "            queue.append(node1.right)\n",
    "            queue.append(node2.right)\n",
    "        return True"
   ]
  },
  {
   "cell_type": "markdown",
   "metadata": {},
   "source": [
    "### Binary Tree Right side View\n",
    "       1            <---\n",
    "     /   \\\n",
    "    2     3         <---\n",
    "     \\     \\\n",
    "      5     4       <---\n",
    "output = [1,3,4]"
   ]
  },
  {
   "cell_type": "code",
   "execution_count": 18,
   "metadata": {},
   "outputs": [
    {
     "data": {
      "text/plain": [
       "[4, 6, 7]"
      ]
     },
     "execution_count": 18,
     "metadata": {},
     "output_type": "execute_result"
    }
   ],
   "source": [
    "class Solution:\n",
    "    def rightSideView(self, root: TreeNode):\n",
    "        if not root:\n",
    "            return []\n",
    "        queue = [root]; ans = []\n",
    "        while queue:\n",
    "            rightMost = None\n",
    "            size = len(queue)\n",
    "            for i in range(size):\n",
    "                node = queue.pop(0)\n",
    "                rightMost = node.val\n",
    "                if node.left:\n",
    "                    queue.append(node.left)\n",
    "                if node.right:\n",
    "                    queue.append(node.right)\n",
    "            ans.append(rightMost)\n",
    "        return ans\n",
    "obj = Solution()\n",
    "obj.rightSideView(tree.root)"
   ]
  },
  {
   "cell_type": "markdown",
   "metadata": {},
   "source": [
    "### Invert Tree"
   ]
  },
  {
   "cell_type": "code",
   "execution_count": 24,
   "metadata": {},
   "outputs": [],
   "source": [
    "class Solution:\n",
    "    def invertTree(self, root: TreeNode) -> TreeNode:\n",
    "        if root is None:\n",
    "            return\n",
    "        queue = [root]\n",
    "        while queue:\n",
    "            size = len(queue)\n",
    "            for i in range(size):\n",
    "                node = queue.pop(0)\n",
    "                node.left, node.right = node.right, node.left\n",
    "                if node.left: queue.append(node.left)\n",
    "                if node.right: queue.append(node.right)\n",
    "        return root"
   ]
  },
  {
   "cell_type": "markdown",
   "metadata": {},
   "source": [
    "### All node at distance K in a binary Tree"
   ]
  },
  {
   "cell_type": "code",
   "execution_count": 12,
   "metadata": {},
   "outputs": [
    {
     "data": {
      "text/plain": [
       "[1, 3, 5, 7]"
      ]
     },
     "execution_count": 12,
     "metadata": {},
     "output_type": "execute_result"
    }
   ],
   "source": [
    "class Solution:\n",
    "    def distanceK(self, root, target, K):\n",
    "        \"\"\"\n",
    "        :type root: TreeNode\n",
    "        :type target: TreeNode\n",
    "        :type K: int\n",
    "        :rtype: List[int]\n",
    "        \"\"\"\n",
    "        from collections import defaultdict\n",
    "        self.graph = defaultdict(list)\n",
    "        self.buildGraph(root)\n",
    "        queue = [target]; visited = {target}; level = 0\n",
    "        while queue:\n",
    "            ans = []\n",
    "            size = len(queue)\n",
    "            for i in range(size):\n",
    "                node = queue.pop(0)\n",
    "                ans.append(node.val)\n",
    "                for neigh in self.graph[node]:\n",
    "                    if neigh not in visited:\n",
    "                        queue.append(neigh)\n",
    "                        visited.add(neigh)\n",
    "            if level == K:\n",
    "                return ans\n",
    "            level += 1\n",
    "        return []\n",
    "        \n",
    "    def buildGraph(self, root):\n",
    "        for child in [root.left, root.right]:\n",
    "            if child:\n",
    "                self.graph[root].append(child)\n",
    "                self.graph[child].append(root)\n",
    "                self.buildGraph(child)\n",
    "obj = Solution()\n",
    "obj.distanceK(tree.root, node4, 2)"
   ]
  },
  {
   "cell_type": "markdown",
   "metadata": {},
   "source": [
    "### Closest Leaf in a Binary Tree\n",
    "Given a binary tree where every node has a unique value, and a target key k, find the value of the nearest leaf node to target k in the tree.\n",
    "\n",
    "Here, nearest to a leaf means the least number of edges travelled on the binary tree to reach any leaf of the tree. Also, a node is called a leaf if it has no children."
   ]
  },
  {
   "cell_type": "code",
   "execution_count": 7,
   "metadata": {},
   "outputs": [
    {
     "data": {
      "text/plain": [
       "1"
      ]
     },
     "execution_count": 7,
     "metadata": {},
     "output_type": "execute_result"
    }
   ],
   "source": [
    "class Solution:\n",
    "    def findClosestLeaf(self, root, k) -> int:\n",
    "        import collections\n",
    "        self.graph = collections.defaultdict(list)\n",
    "        self.node = None\n",
    "        self.buildGraph(root, k)\n",
    "        visited = {self.node}; queue = [self.node]\n",
    "        while queue:\n",
    "            node = queue.pop(0)\n",
    "            if not node.left and not node.right:\n",
    "                return node.val\n",
    "            for neigh in self.graph[node]:\n",
    "                if neigh not in visited:\n",
    "                    queue.append(neigh)\n",
    "                    visited.add(neigh)\n",
    "        \n",
    "    def buildGraph(self, root, k):\n",
    "        if root.val == k:\n",
    "            self.node = root\n",
    "        for child in [root.left, root.right]:\n",
    "            if child:\n",
    "                self.graph[child].append(root)\n",
    "                self.graph[root].append(child)\n",
    "                self.buildGraph(child, k)\n",
    "\n",
    "obj = Solution()\n",
    "obj.findClosestLeaf(tree.root, 2)"
   ]
  }
 ],
 "metadata": {
  "kernelspec": {
   "display_name": "Python 3",
   "language": "python",
   "name": "python3"
  },
  "language_info": {
   "codemirror_mode": {
    "name": "ipython",
    "version": 3
   },
   "file_extension": ".py",
   "mimetype": "text/x-python",
   "name": "python",
   "nbconvert_exporter": "python",
   "pygments_lexer": "ipython3",
   "version": "3.6.8"
  }
 },
 "nbformat": 4,
 "nbformat_minor": 2
}
