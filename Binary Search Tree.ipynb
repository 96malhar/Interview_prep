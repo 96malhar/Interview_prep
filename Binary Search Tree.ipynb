{
 "cells": [
  {
   "cell_type": "markdown",
   "metadata": {},
   "source": [
    "## Introduction\n",
    "                     4\n",
    "                    /  \\\n",
    "                   2    6\n",
    "                  / \\   / \\\n",
    "                 1   3 5   7"
   ]
  },
  {
   "cell_type": "code",
   "execution_count": 1,
   "metadata": {},
   "outputs": [],
   "source": [
    "class Node:\n",
    "    def __init__(self, val):\n",
    "        self.val = val\n",
    "        self.left = None\n",
    "        self.right = None\n",
    "class BinarySearchTree:\n",
    "    def __init__(self,root):\n",
    "        self.root = root\n",
    "        \n",
    "node1 = Node(1)\n",
    "node2 = Node(2)\n",
    "node3 = Node(3)\n",
    "node4 = Node(4)\n",
    "node5 = Node(5)\n",
    "node6 = Node(6)\n",
    "node7 = Node(7)\n",
    "\n",
    "node4.left, node4.right = node2, node6\n",
    "node2.left, node2.right = node1, node3\n",
    "node6.left, node6.right = node5, node7\n",
    "\n",
    "tree = BinarySearchTree(node4)"
   ]
  },
  {
   "cell_type": "code",
   "execution_count": 17,
   "metadata": {},
   "outputs": [],
   "source": [
    "def inorder_visit(node):\n",
    "    if node is None:\n",
    "        return\n",
    "    inorder_visit(node.left)\n",
    "    print(node.val, end = ' ')\n",
    "    inorder_visit(node.right)"
   ]
  },
  {
   "cell_type": "markdown",
   "metadata": {},
   "source": [
    "### Validate Binary Search Tree\n",
    "Given a binary tree, determine if it is a valid binary search tree (BST).\n",
    "\n",
    "Assume a BST is defined as follows:\n",
    "\n",
    "The left subtree of a node contains only nodes with keys less than the node's key.\n",
    "The right subtree of a node contains only nodes with keys greater than the node's key.\n",
    "Both the left and right subtrees must also be binary search trees."
   ]
  },
  {
   "cell_type": "code",
   "execution_count": 8,
   "metadata": {},
   "outputs": [
    {
     "data": {
      "text/plain": [
       "True"
      ]
     },
     "execution_count": 8,
     "metadata": {},
     "output_type": "execute_result"
    }
   ],
   "source": [
    "# inorder traversal approach\n",
    "def isValidBST(root):\n",
    "    stack = []; node = root; prev = -float('inf')\n",
    "    while node or stack:\n",
    "        if node:\n",
    "            stack.append(node)\n",
    "            node = node.left\n",
    "        else:\n",
    "            node = stack.pop()\n",
    "            if prev >= node.val:\n",
    "                return False\n",
    "            prev = node.val\n",
    "            node = node.right\n",
    "    return True\n",
    "\n",
    "isValidBST(tree.root)"
   ]
  },
  {
   "cell_type": "code",
   "execution_count": 10,
   "metadata": {},
   "outputs": [
    {
     "data": {
      "text/plain": [
       "True"
      ]
     },
     "execution_count": 10,
     "metadata": {},
     "output_type": "execute_result"
    }
   ],
   "source": [
    "# Bottom to top approach\n",
    "def isValidBST(root):\n",
    "    return helper(root) is not None\n",
    "    \n",
    "def helper(root):\n",
    "    if root is None:\n",
    "        return (float('inf'), -float('inf'))\n",
    "    left = helper(root.left)\n",
    "    right = helper(root.right)\n",
    "    if not left or not right or left[1]>=root.val or right[0]<=root.val:\n",
    "        return None\n",
    "    min = root.val if not root.left else left[0]\n",
    "    max = root.val if not root.right else right[1]\n",
    "    return (min,max)\n",
    "\n",
    "isValidBST(tree.root)"
   ]
  },
  {
   "cell_type": "markdown",
   "metadata": {},
   "source": [
    "### Search a node in Binary Search Tree"
   ]
  },
  {
   "cell_type": "code",
   "execution_count": 5,
   "metadata": {},
   "outputs": [
    {
     "data": {
      "text/plain": [
       "6"
      ]
     },
     "execution_count": 5,
     "metadata": {},
     "output_type": "execute_result"
    }
   ],
   "source": [
    "def searchBST(root, val):\n",
    "    node = root\n",
    "    while node:\n",
    "        if node.val < val:\n",
    "            node = node.right\n",
    "        elif node.val > val:\n",
    "            node = node.left\n",
    "        else:\n",
    "            return node\n",
    "    return None\n",
    "\n",
    "searchBST(tree.root, 6).val"
   ]
  },
  {
   "cell_type": "markdown",
   "metadata": {},
   "source": [
    "### Insert a node in Binary Search Tree"
   ]
  },
  {
   "cell_type": "code",
   "execution_count": 18,
   "metadata": {},
   "outputs": [
    {
     "name": "stdout",
     "output_type": "stream",
     "text": [
      "1 2 3 4 5 6 7 100 "
     ]
    }
   ],
   "source": [
    "def insertIntoBST(root, val):\n",
    "    parent = None; node = root\n",
    "    while node:\n",
    "        parent = node\n",
    "        node = node.right if node.val<val else node.left\n",
    "    if parent is None:\n",
    "        root = Node(val)\n",
    "    elif parent.val < val:\n",
    "        parent.right = Node(val)\n",
    "    else:\n",
    "        parent.left = Node(val)\n",
    "    return root\n",
    "\n",
    "insertIntoBST(tree.root, 100)\n",
    "inorder_visit(tree.root)"
   ]
  },
  {
   "cell_type": "markdown",
   "metadata": {},
   "source": [
    "### Delete from Binary Search Tree"
   ]
  },
  {
   "cell_type": "code",
   "execution_count": 64,
   "metadata": {},
   "outputs": [],
   "source": [
    "def deleteNode(root, val):\n",
    "    parent, node = find(root, val)\n",
    "    delete(parent, node)\n",
    "    return root\n",
    "\n",
    "def find(root, val):\n",
    "    parent = None; node = root\n",
    "    while node:\n",
    "        if node.val<val: parent = node; node = node.right\n",
    "        elif node.val>val: parent = node; node = node.left\n",
    "        else: return parent, node\n",
    "    return parent, None\n",
    "\n",
    "def delete(parent, node):\n",
    "    if not node:\n",
    "        return\n",
    "    if not node.left and not node.right:\n",
    "        replace(parent, node, None)\n",
    "    elif not node.left:\n",
    "        replace(parent, node, node.right)\n",
    "    elif not node.right:\n",
    "        replace(parent, node, node.left)\n",
    "    else:\n",
    "        succ_parent = node\n",
    "        succ = node.right\n",
    "        while succ.left:\n",
    "            succ_parent = succ\n",
    "            succ = succ.left\n",
    "        node.val = succ.val\n",
    "        delete(succ_parent, succ)\n",
    "        \n",
    "def replace(parent, oldchild, newchild):\n",
    "    if not parent:\n",
    "        tree.root = newchild\n",
    "    elif parent.left == oldchild: parent.left = newchild\n",
    "    else: parent.right = newchild"
   ]
  },
  {
   "cell_type": "code",
   "execution_count": 91,
   "metadata": {},
   "outputs": [
    {
     "name": "stdout",
     "output_type": "stream",
     "text": [
      "5\n",
      "1 2 3 5 6 7 "
     ]
    }
   ],
   "source": [
    "deleteNode(tree.root, 4)\n",
    "print(tree.root.val)\n",
    "inorder_visit(tree.root)"
   ]
  },
  {
   "cell_type": "markdown",
   "metadata": {},
   "source": [
    "### Kth Smallest element in Binary Search Tree"
   ]
  },
  {
   "cell_type": "code",
   "execution_count": 71,
   "metadata": {},
   "outputs": [
    {
     "data": {
      "text/plain": [
       "4"
      ]
     },
     "execution_count": 71,
     "metadata": {},
     "output_type": "execute_result"
    }
   ],
   "source": [
    "def kthSmallest(root, k):\n",
    "    count = 0\n",
    "    stack = []; node = root\n",
    "    while node or stack:\n",
    "        if node:\n",
    "            stack.append(node)\n",
    "            node = node.left\n",
    "        else:\n",
    "            node = stack.pop()\n",
    "            count += 1\n",
    "            if count == k:\n",
    "                return node.val\n",
    "            node = node.right\n",
    "kthSmallest(tree.root, 4)"
   ]
  },
  {
   "cell_type": "markdown",
   "metadata": {},
   "source": [
    "### Second Minimum node in Binary Tree"
   ]
  },
  {
   "cell_type": "code",
   "execution_count": 77,
   "metadata": {},
   "outputs": [
    {
     "data": {
      "text/plain": [
       "2"
      ]
     },
     "execution_count": 77,
     "metadata": {},
     "output_type": "execute_result"
    }
   ],
   "source": [
    "def findSecondMinimumValue(root):\n",
    "    first = second = float('inf')\n",
    "    stack = [root]\n",
    "    while stack:\n",
    "        node = stack.pop()\n",
    "        if node.val < first:\n",
    "            second = first\n",
    "            first = node.val\n",
    "        elif first<node.val<second:\n",
    "            second = node.val\n",
    "        if node.right: stack.append(node.right)\n",
    "        if node.left: stack.append(node.left)\n",
    "    return second if second != float('inf') else -1\n",
    "\n",
    "findSecondMinimumValue(tree.root)"
   ]
  },
  {
   "cell_type": "markdown",
   "metadata": {},
   "source": [
    "## Record and move on"
   ]
  },
  {
   "cell_type": "markdown",
   "metadata": {},
   "source": [
    "### Closest Binary Search Tree Value\n",
    "Given a non-empty binary search tree and a target value, find the value in the BST that is closest to the target."
   ]
  },
  {
   "cell_type": "code",
   "execution_count": 87,
   "metadata": {},
   "outputs": [
    {
     "data": {
      "text/plain": [
       "3"
      ]
     },
     "execution_count": 87,
     "metadata": {},
     "output_type": "execute_result"
    }
   ],
   "source": [
    "def closestValue(root, target):\n",
    "    node = root; result = None\n",
    "    while node:\n",
    "        result = record(node, target, result)\n",
    "        if node.val > target:\n",
    "            node = node.left\n",
    "        elif node.val<target:\n",
    "            node = node.right\n",
    "        else:\n",
    "            return node.val\n",
    "    return result\n",
    "\n",
    "def record(node, target ,result):\n",
    "    if result is None or abs(node.val-target) < abs(result-target):\n",
    "        return node.val\n",
    "    return result\n",
    "\n",
    "closestValue(tree.root, 2.76)"
   ]
  },
  {
   "cell_type": "markdown",
   "metadata": {},
   "source": [
    "### Closest Binary Search Tree Value II\n",
    "Given a non-empty binary search tree and a target value, find k values in the BST that are closest to the target.\n",
    "\n",
    "Input: root = [4,2,5,1,3], target = 3.714286, and k = 2\n",
    "\n",
    "        4\n",
    "       / \\\n",
    "      2   5\n",
    "     / \\\n",
    "    1   3\n",
    "\n",
    "Output: [4,3]"
   ]
  },
  {
   "cell_type": "code",
   "execution_count": 94,
   "metadata": {},
   "outputs": [
    {
     "data": {
      "text/plain": [
       "[3, 4]"
      ]
     },
     "execution_count": 94,
     "metadata": {},
     "output_type": "execute_result"
    }
   ],
   "source": [
    "class Solution:\n",
    "    def closestKValues(self, root, target, k):\n",
    "        if root is None:\n",
    "            return []\n",
    "        stack = []; node = root; inorder = []\n",
    "        while node or stack:\n",
    "            if node:\n",
    "                stack.append(node)\n",
    "                node = node.left\n",
    "            else:\n",
    "                node = stack.pop()\n",
    "                inorder.append(node.val)\n",
    "                node = node.right\n",
    "        return self.closest(inorder, target, k)\n",
    "        \n",
    "    def closest(self, inorder, x, k):\n",
    "        low = 0; high = len(inorder)-k\n",
    "        while low<high:\n",
    "            mid = (low+high)//2\n",
    "            if x-inorder[mid] > inorder[mid+k]-x:\n",
    "                low = mid+1\n",
    "            else:\n",
    "                high = mid\n",
    "        return inorder[low:low+k]\n",
    "        \n",
    "sol = Solution()\n",
    "sol.closestKValues(tree.root, 3.7, 2)"
   ]
  },
  {
   "cell_type": "markdown",
   "metadata": {},
   "source": [
    "### Minimum Absolute Difference in BST\n",
    "Given a binary search tree with non-negative values, find the minimum absolute difference between values of any two nodes."
   ]
  },
  {
   "cell_type": "code",
   "execution_count": 12,
   "metadata": {},
   "outputs": [],
   "source": [
    "def getMinimumDifference(root):\n",
    "    prev = None; stack = []; node = root; ans = float('inf')\n",
    "    while node or stack:\n",
    "        if node:\n",
    "            stack.append(node)\n",
    "            node = node.left\n",
    "        else:\n",
    "            node = stack.pop()\n",
    "            if prev:\n",
    "                ans = min(ans, node.val-prev.val)\n",
    "            prev = node\n",
    "            node = node.right\n",
    "    return ans"
   ]
  },
  {
   "cell_type": "markdown",
   "metadata": {},
   "source": [
    "### Inorder Successor in BST"
   ]
  },
  {
   "cell_type": "code",
   "execution_count": 5,
   "metadata": {},
   "outputs": [
    {
     "data": {
      "text/plain": [
       "4"
      ]
     },
     "execution_count": 5,
     "metadata": {},
     "output_type": "execute_result"
    }
   ],
   "source": [
    "def inorderSuccessor(root, p):\n",
    "    if not root:\n",
    "        return None\n",
    "    if p.right:\n",
    "        succ = p.right\n",
    "        while succ.left:\n",
    "            succ = succ.left\n",
    "        return succ\n",
    "    else:\n",
    "        parent = None; node = root\n",
    "        while node:\n",
    "            if node.val > p.val:\n",
    "                parent = node\n",
    "                node = node.left\n",
    "            elif node.val < p.val:\n",
    "                node = node.right\n",
    "            else:\n",
    "                break\n",
    "        return parent\n",
    "\n",
    "inorderSuccessor(tree.root, node3).val"
   ]
  },
  {
   "cell_type": "markdown",
   "metadata": {},
   "source": [
    "### Inorder Successor II in BST\n",
    "each node has a parent attribute"
   ]
  },
  {
   "cell_type": "code",
   "execution_count": 6,
   "metadata": {},
   "outputs": [],
   "source": [
    "\"\"\"\n",
    "# Definition for a Node.\n",
    "class Node:\n",
    "    def __init__(self, val, left, right, parent):\n",
    "        self.val = val\n",
    "        self.left = left\n",
    "        self.right = right\n",
    "        self.parent = parent\n",
    "\"\"\"\n",
    "class Solution:\n",
    "    def inorderSuccessor(self, node: 'Node') -> 'Node':\n",
    "        if node is None:\n",
    "            return\n",
    "        if node.right:\n",
    "            succ = node.right\n",
    "            while succ.left:\n",
    "                succ = succ.left\n",
    "            return succ\n",
    "        else:\n",
    "            child = node; parent = child.parent\n",
    "            while parent and parent.left!=child:\n",
    "                child = parent\n",
    "                parent = parent.parent\n",
    "            return parent"
   ]
  },
  {
   "cell_type": "markdown",
   "metadata": {},
   "source": [
    "### Lowest Common Ancestor in BST\n"
   ]
  },
  {
   "cell_type": "code",
   "execution_count": 11,
   "metadata": {},
   "outputs": [
    {
     "data": {
      "text/plain": [
       "2"
      ]
     },
     "execution_count": 11,
     "metadata": {},
     "output_type": "execute_result"
    }
   ],
   "source": [
    "def lowestCommonAncestor(root, p, q):\n",
    "    node = root\n",
    "    while node:\n",
    "        if node.val > p.val and node.val > q.val:\n",
    "            node = node.left\n",
    "        elif node.val<p.val and node.val<q.val:\n",
    "            node = node.right\n",
    "        else:\n",
    "            return node\n",
    "\n",
    "lowestCommonAncestor(tree.root, node2, node3).val"
   ]
  }
 ],
 "metadata": {
  "kernelspec": {
   "display_name": "Python 3",
   "language": "python",
   "name": "python3"
  },
  "language_info": {
   "codemirror_mode": {
    "name": "ipython",
    "version": 3
   },
   "file_extension": ".py",
   "mimetype": "text/x-python",
   "name": "python",
   "nbconvert_exporter": "python",
   "pygments_lexer": "ipython3",
   "version": "3.6.8"
  }
 },
 "nbformat": 4,
 "nbformat_minor": 2
}
