{
 "cells": [
  {
   "cell_type": "markdown",
   "metadata": {},
   "source": [
    "### Sudoku Solver\n",
    "Write a program to solve a Sudoku puzzle by filling the empty cells.\n",
    "\n",
    "A sudoku solution must satisfy all of the following rules:\n",
    "\n",
    "*  Each of the digits 1-9 must occur exactly once in each row.\n",
    "* Each of the digits 1-9 must occur exactly once in each column.\n",
    "* Each of the the digits 1-9 must occur exactly once in each of the 9 3x3 sub-boxes of the grid.\n",
    "* Empty cells are indicated by the character '.'."
   ]
  },
  {
   "cell_type": "code",
   "execution_count": 2,
   "metadata": {},
   "outputs": [
    {
     "data": {
      "text/plain": [
       "[['5', '3', '4', '6', '7', '8', '9', '1', '2'],\n",
       " ['6', '7', '2', '1', '9', '5', '3', '4', '8'],\n",
       " ['1', '9', '8', '3', '4', '2', '5', '6', '7'],\n",
       " ['8', '5', '9', '7', '6', '1', '4', '2', '3'],\n",
       " ['4', '2', '6', '8', '5', '3', '7', '9', '1'],\n",
       " ['7', '1', '3', '9', '2', '4', '8', '5', '6'],\n",
       " ['9', '6', '1', '5', '3', '7', '2', '8', '4'],\n",
       " ['2', '8', '7', '4', '1', '9', '6', '3', '5'],\n",
       " ['3', '4', '5', '2', '8', '6', '1', '7', '9']]"
      ]
     },
     "execution_count": 2,
     "metadata": {},
     "output_type": "execute_result"
    }
   ],
   "source": [
    "class Solution:\n",
    "    def solveSudoku(self, board) -> None:\n",
    "        seen = set()\n",
    "        for i in range(len(board)):\n",
    "            for j in range(len(board)):\n",
    "                if board[i][j] == '.':\n",
    "                    continue\n",
    "                val = board[i][j]\n",
    "                seen.add((i, val)); seen.add((val, j)); seen.add((i//3, j//3, val))\n",
    "        \n",
    "        self.helper(0, 0, board, seen)\n",
    "    \n",
    "    def helper(self, row, col, board, seen):\n",
    "        if row == 9:\n",
    "            return True\n",
    "        \n",
    "        if col == 9:\n",
    "            return self.helper(row+1, 0, board, seen)\n",
    "        \n",
    "        if board[row][col] != '.':\n",
    "            return self.helper(row, col+1, board, seen)\n",
    "        \n",
    "        for val in range(1, 10):\n",
    "            if self.isValid(seen, row, col, str(val)):\n",
    "                n = str(val)\n",
    "                seen.add((row, n)); seen.add((n, col)); seen.add((row//3, col//3, n))\n",
    "                board[row][col] = n\n",
    "                \n",
    "                if self.helper(row, col+1, board, seen):\n",
    "                    return True\n",
    "                \n",
    "                board[row][col] = '.'\n",
    "                seen.remove((row, n)); seen.remove((n ,col)); seen.remove((row//3, col//3, n))\n",
    "                \n",
    "        return False\n",
    "    \n",
    "    def isValid(self, seen, i, j, val):\n",
    "        if (i, val) in seen or (val, j) in seen or (i//3, j//3, val) in seen:\n",
    "            return False\n",
    "        return True\n",
    "\n",
    "board = [[\"5\",\"3\",\".\",\".\",\"7\",\".\",\".\",\".\",\".\"],\n",
    "         [\"6\",\".\",\".\",\"1\",\"9\",\"5\",\".\",\".\",\".\"],\n",
    "         [\".\",\"9\",\"8\",\".\",\".\",\".\",\".\",\"6\",\".\"],\n",
    "         [\"8\",\".\",\".\",\".\",\"6\",\".\",\".\",\".\",\"3\"],\n",
    "         [\"4\",\".\",\".\",\"8\",\".\",\"3\",\".\",\".\",\"1\"],\n",
    "         [\"7\",\".\",\".\",\".\",\"2\",\".\",\".\",\".\",\"6\"],\n",
    "         [\".\",\"6\",\".\",\".\",\".\",\".\",\"2\",\"8\",\".\"],\n",
    "         [\".\",\".\",\".\",\"4\",\"1\",\"9\",\".\",\".\",\"5\"],\n",
    "         [\".\",\".\",\".\",\".\",\"8\",\".\",\".\",\"7\",\"9\"]]\n",
    "\n",
    "Solution().solveSudoku(board)\n",
    "board"
   ]
  },
  {
   "cell_type": "markdown",
   "metadata": {},
   "source": [
    "### Paint House III\n",
    "There is a row of m houses in a small city, each house must be painted with one of the n colors (labeled from 1 to n), some houses that has been painted last summer should not be painted again.\n",
    "\n",
    "A neighborhood is a maximal group of continuous houses that are painted with the same color. (For example: houses = [1,2,2,3,3,2,1,1] contains 5 neighborhoods  [{1}, {2,2}, {3,3}, {2}, {1,1}]).\n",
    "\n",
    "Given an array houses, an m * n matrix cost and an integer target where:\n",
    "\n",
    "* houses[i]: is the color of the house i, 0 if the house is not painted yet.\n",
    "* cost[i][j]: is the cost of paint the house i with the color j+1.\n",
    "\n",
    "\n",
    "Return the minimum cost of painting all the remaining houses in such a way that there are exactly target * neighborhoods, if not possible return -1."
   ]
  },
  {
   "cell_type": "code",
   "execution_count": 6,
   "metadata": {},
   "outputs": [
    {
     "data": {
      "text/plain": [
       "11"
      ]
     },
     "execution_count": 6,
     "metadata": {},
     "output_type": "execute_result"
    }
   ],
   "source": [
    "class Solution:\n",
    "    def minCost(self, houses, cost, m: int, n: int, target: int) -> int:\n",
    "        self.memo = {}\n",
    "        res = self.helper(houses, cost, m, n, target, 0, -1, 0)\n",
    "        return res if res != float('inf') else -1\n",
    "    \n",
    "    def helper(self, houses, cost, m, n, target, i, last_clr, k):\n",
    "        if i == m:\n",
    "            if k == target:\n",
    "                return 0\n",
    "            return float('inf')\n",
    "        \n",
    "        if k > target:\n",
    "            return float('inf')\n",
    "        \n",
    "        if (i, last_clr, k) in self.memo:\n",
    "            return self.memo[(i, last_clr, k)]\n",
    "        \n",
    "        res = float('inf')\n",
    "        if houses[i] != 0:\n",
    "            new_k = k if last_clr == houses[i] else k+1\n",
    "            res = self.helper(houses, cost, m, n, target, i+1, houses[i], new_k)\n",
    "\n",
    "        else:\n",
    "            for clr in range(1, n+1):\n",
    "                new_k = k if last_clr == clr else k+1\n",
    "                res = min(res, cost[i][clr-1] + self.helper(houses, cost, m, n, target, i+1, clr, new_k))\n",
    "        \n",
    "        self.memo[(i, last_clr, k)] = res\n",
    "        return res\n",
    "\n",
    "houses = [0,2,1,2,0]; cost = [[1,10],[10,1],[10,1],[1,10],[5,1]]; m = 5; n = 2; target = 3\n",
    "Solution().minCost(houses, cost, m, n, target)"
   ]
  },
  {
   "cell_type": "markdown",
   "metadata": {},
   "source": [
    "### Largest Divisible Subset\n",
    "Given a set of distinct positive integers, find the largest subset such that every pair (Si, Sj) of elements in this subset satisfies:\n",
    "\n",
    "Si % Sj = 0 or Sj % Si = 0.\n",
    "\n",
    "If there are multiple solutions, return any subset is fine."
   ]
  },
  {
   "cell_type": "code",
   "execution_count": 10,
   "metadata": {},
   "outputs": [
    {
     "data": {
      "text/plain": [
       "[1, 2]"
      ]
     },
     "execution_count": 10,
     "metadata": {},
     "output_type": "execute_result"
    }
   ],
   "source": [
    "class Solution:\n",
    "    def largestDivisibleSubset(self, nums):\n",
    "        self.memo = {}; res = []\n",
    "        nums.sort()\n",
    "        for i in range(len(nums)):\n",
    "            arr = self.helper(i, nums)\n",
    "            if len(arr) > len(res):\n",
    "                res = arr\n",
    "        return res\n",
    "    \n",
    "    def helper(self, i, nums):\n",
    "        if i in self.memo:\n",
    "            return self.memo[i]\n",
    "        \n",
    "        res = [nums[i]]\n",
    "        for j in range(i+1, len(nums)):\n",
    "            if nums[j] % nums[i] == 0:\n",
    "                arr = [nums[i]] + self.helper(j, nums)\n",
    "                if len(arr) > len(res):\n",
    "                    res = arr\n",
    "        \n",
    "        self.memo[i] = res\n",
    "        return res\n",
    "\n",
    "Solution().largestDivisibleSubset([1,2,3])"
   ]
  },
  {
   "cell_type": "markdown",
   "metadata": {},
   "source": [
    "### Number of Ways to Paint N × 3 Grid\n",
    "\n",
    "You have a grid of size n x 3 and you want to paint each cell of the grid with exactly one of the three colours: Red, Yellow or Green while making sure that no two adjacent cells have the same colour (i.e no two cells that share vertical or horizontal sides have the same colour).\n",
    "\n",
    "You are given n the number of rows of the grid.\n",
    "\n",
    "Return the number of ways you can paint this grid. As the answer may grow large, the answer must be computed modulo 10^9 + 7."
   ]
  },
  {
   "cell_type": "code",
   "execution_count": 13,
   "metadata": {},
   "outputs": [
    {
     "data": {
      "text/plain": [
       "106494"
      ]
     },
     "execution_count": 13,
     "metadata": {},
     "output_type": "execute_result"
    }
   ],
   "source": [
    "class Solution:\n",
    "    _memo = {}\n",
    "    colors = [0,1,2]; _triples = []\n",
    "    for c1 in colors:\n",
    "        for c2 in colors:\n",
    "            for c3 in colors:\n",
    "                if c1 != c2 and c2 != c3:\n",
    "                    _triples.append((c1, c2, c3))\n",
    "                        \n",
    "    def numOfWays(self, n: int) -> int:\n",
    "        self.mod = (10**9) + 7\n",
    "        self.memo = self._memo\n",
    "        triples = self._triples\n",
    "        return self.helper(n, -1, -1, -1, triples)\n",
    "    \n",
    "    def helper(self, n, c1, c2, c3, triples):\n",
    "        if n == 0:\n",
    "            return 1\n",
    "        \n",
    "        if (n, c1, c2, c3) in self.memo:\n",
    "            return self.memo[(n, c1, c2, c3)]\n",
    "        \n",
    "        res = 0\n",
    "        for nc1, nc2, nc3 in triples:\n",
    "            if nc1 != c1 and nc2 != c2 and nc3 != c3:\n",
    "                res += self.helper(n-1, nc1, nc2, nc3, triples)\n",
    "        \n",
    "        res = res % self.mod\n",
    "        self.memo[(n, c1, c2, c3)] = res\n",
    "        return res\n",
    "    \n",
    "Solution().numOfWays(7)"
   ]
  },
  {
   "cell_type": "markdown",
   "metadata": {},
   "source": [
    "### Number of Ways to Wear Different Hats to Each Other\n",
    "\n",
    "There are n people and 40 types of hats labeled from 1 to 40.\n",
    "\n",
    "Given a list of list of integers hats, where hats[i] is a list of all hats preferred by the i-th person.\n",
    "\n",
    "Return the number of ways that the n people wear different hats to each other.\n",
    "\n",
    "Since the answer may be too large, return it modulo 10^9 + 7.\n",
    "\n",
    "Constraints:\n",
    "* n == hats.length\n",
    "* 1 <= n <= 10\n",
    "* 1 <= hats[i].length <= 40\n",
    "* 1 <= hats[i][j] <= 40\n",
    "* hats[i] contains a list of unique integers."
   ]
  },
  {
   "cell_type": "code",
   "execution_count": 16,
   "metadata": {},
   "outputs": [
    {
     "data": {
      "text/plain": [
       "111"
      ]
     },
     "execution_count": 16,
     "metadata": {},
     "output_type": "execute_result"
    }
   ],
   "source": [
    "from collections import defaultdict\n",
    "class Solution:\n",
    "    def numberWays(self, hats) -> int:\n",
    "        pref = defaultdict(list)\n",
    "        for i in range(len(hats)):\n",
    "            for h in hats[i]:\n",
    "                pref[h].append(i)\n",
    "        \n",
    "        self.memo = {}; self.mod = 10**9 + 7\n",
    "        n = len(hats)\n",
    "        return self.helper(pref, (2**n)-1, 1, 0)\n",
    "    \n",
    "    def helper(self, pref, target, hat, hashcode):\n",
    "        if hashcode == target:\n",
    "            return 1\n",
    "        \n",
    "        if hat > 40:\n",
    "            return 0\n",
    "        \n",
    "        if (hat, hashcode) in self.memo:\n",
    "            return self.memo[(hat, hashcode)]\n",
    "        \n",
    "        res = self.helper(pref, target, hat+1, hashcode)\n",
    "        for i in pref[hat]:\n",
    "            if hashcode >> i & 1 == 0:\n",
    "                res += self.helper(pref, target, hat+1, hashcode|1<<i)\n",
    "        \n",
    "        res = res % self.mod\n",
    "        self.memo[(hat, hashcode)] = res\n",
    "        return res\n",
    "        \n",
    "        \n",
    "hats = [[1,2,3],[2,3,5,6],[1,3,7,9],[1,8,9],[2,5,7]]\n",
    "Solution().numberWays(hats)"
   ]
  },
  {
   "cell_type": "markdown",
   "metadata": {},
   "source": [
    "### Allocate Mailboxes\n",
    "Given the array houses and an integer k. where houses[i] is the location of the ith house along a street, your task is to allocate k mailboxes in the street.\n",
    "\n",
    "Return the minimum total distance between each house and its nearest mailbox.\n",
    "\n",
    "The answer is guaranteed to fit in a 32-bit signed integer."
   ]
  },
  {
   "cell_type": "code",
   "execution_count": 19,
   "metadata": {},
   "outputs": [
    {
     "data": {
      "text/plain": [
       "9"
      ]
     },
     "execution_count": 19,
     "metadata": {},
     "output_type": "execute_result"
    }
   ],
   "source": [
    "class Solution:\n",
    "    def minDistance(self, houses, k: int) -> int:\n",
    "        cost = {}\n",
    "        houses.sort()\n",
    "        for i in range(len(houses)):\n",
    "            for j in range(i, len(houses)):\n",
    "                total = 0\n",
    "                left = i; right = j\n",
    "                while left < right:\n",
    "                    total += houses[right] - houses[left]\n",
    "                    left += 1; right -= 1\n",
    "                cost[(i,j)] = total\n",
    "        \n",
    "        self.memo = {}\n",
    "        return self.helper(0, houses, k, cost)\n",
    "    \n",
    "    def helper(self, i, houses, k, cost):\n",
    "        if i == len(houses) and k == 0:\n",
    "            return 0\n",
    "        \n",
    "        if i == len(houses) or k == 0:\n",
    "            return float('inf')\n",
    "        \n",
    "        if (i, k) in self.memo:\n",
    "            return self.memo[(i,k)]\n",
    "        \n",
    "        res = float('inf')\n",
    "        for j in range(i, len(houses)):\n",
    "            res = min(res, cost[(i, j)] + self.helper(j+1, houses, k-1, cost))\n",
    "            \n",
    "        self.memo[(i, k)] = res\n",
    "        return res\n",
    "\n",
    "        \n",
    "houses = [2,3,5,12,18]; k = 2 \n",
    "Solution().minDistance(houses, k)"
   ]
  },
  {
   "cell_type": "markdown",
   "metadata": {},
   "source": [
    "### Smallest Sufficient Team\n",
    "\n",
    "In a project, you have a list of required skills req_skills, and a list of people.  The i-th person people[i] contains a list of skills that person has.\n",
    "\n",
    "Consider a sufficient team: a set of people such that for every required skill in req_skills, there is at least one person in the team who has that skill.  We can represent these teams by the index of each person: for example, team = [0, 1, 3] represents the people with skills people[0], people[1], and people[3].\n",
    "\n",
    "Return any sufficient team of the smallest possible size, represented by the index of each person.\n",
    "\n",
    "You may return the answer in any order.  It is guaranteed an answer exists.\n",
    "\n",
    "* 1 <= req_skills.length <= 16\n",
    "* 1 <= people.length <= 60\n",
    "* 1 <= people[i].length, req_skills[i].length, people[i][j].length <= 16\n",
    "* Elements of req_skills and people[i] are (respectively) distinct.\n",
    "* req_skills[i][j], people[i][j][k] are lowercase English letters.\n",
    "* Every skill in people[i] is a skill in req_skills.\n",
    "* It is guaranteed a sufficient team exists."
   ]
  },
  {
   "cell_type": "code",
   "execution_count": 25,
   "metadata": {},
   "outputs": [
    {
     "data": {
      "text/plain": [
       "[1, 2]"
      ]
     },
     "execution_count": 25,
     "metadata": {},
     "output_type": "execute_result"
    }
   ],
   "source": [
    "class Solution:\n",
    "    def smallestSufficientTeam(self, req_skills, people):\n",
    "        skills = {s:i for i, s in enumerate(req_skills)}\n",
    "        hashcode = 0; req_hashcode = 2**len(req_skills)-1\n",
    "        self.memo = {}\n",
    "        self.empty = [-1]*61\n",
    "        return self.helper(0, people, skills, hashcode,  req_hashcode)\n",
    "    \n",
    "    def helper(self, i, people, skills, hashcode, req_hashcode):\n",
    "        if hashcode == req_hashcode:\n",
    "            return []\n",
    "        \n",
    "        if i == len(people):\n",
    "            return self.empty\n",
    "        \n",
    "        if (i, hashcode) in self.memo:\n",
    "            return self.memo[(i, hashcode)]\n",
    "        \n",
    "        new_hash = hashcode\n",
    "        for s in people[i]:\n",
    "            new_hash = new_hash | 1 << skills[s]\n",
    "        \n",
    "        take = [i] + self.helper(i+1, people, skills, new_hash, req_hashcode)\n",
    "        no_take = self.helper(i+1, people, skills, hashcode, req_hashcode)\n",
    "        \n",
    "        if len(take) < len(no_take):\n",
    "            res = take\n",
    "        else:\n",
    "            res = no_take\n",
    "        \n",
    "        self.memo[(i, hashcode)] = res\n",
    "        return res\n",
    "\n",
    "req_skills = [\"algorithms\",\"math\",\"java\",\"reactjs\",\"csharp\",\"aws\"]\n",
    "people = [[\"algorithms\",\"math\",\"java\"],[\"algorithms\",\"math\",\"reactjs\"],\n",
    "          [\"java\",\"csharp\",\"aws\"],[\"reactjs\",\"csharp\"],[\"csharp\",\"math\"],[\"aws\",\"java\"]]\n",
    "\n",
    "Solution().smallestSufficientTeam(req_skills, people)"
   ]
  },
  {
   "cell_type": "markdown",
   "metadata": {},
   "source": [
    "### Cracking the Safe\n",
    "\n",
    "There is a box protected by a password. The password is a sequence of n digits where each digit can be one of the first k digits 0, 1, ..., k-1.\n",
    "\n",
    "While entering a password, the last n digits entered will automatically be matched against the correct password.\n",
    "\n",
    "For example, assuming the correct password is \"345\", if you type \"012345\", the box will open because the correct password matches the suffix of the entered password.\n",
    "\n",
    "Return any password of minimum length that is guaranteed to open the box at some point of entering it."
   ]
  },
  {
   "cell_type": "code",
   "execution_count": 3,
   "metadata": {},
   "outputs": [
    {
     "data": {
      "text/plain": [
       "'00102031121322330'"
      ]
     },
     "execution_count": 3,
     "metadata": {},
     "output_type": "execute_result"
    }
   ],
   "source": [
    "class Solution:\n",
    "    def crackSafe(self, n: int, k: int) -> str:\n",
    "        string = '0'*n\n",
    "        target_num = k**n\n",
    "        seen = {string}\n",
    "        res = [string]\n",
    "        self.helper(string, seen, res, target_num, k)\n",
    "        return ''.join(res)\n",
    "    \n",
    "    def helper(self, string, seen, res, target_num, k):\n",
    "        if len(res) == target_num:\n",
    "            return True\n",
    "        \n",
    "        for num in range(k):\n",
    "            new_str = string[1:] + str(num)\n",
    "            if new_str not in seen:\n",
    "                seen.add(new_str)\n",
    "                res.append(str(num))\n",
    "                \n",
    "                if self.helper(new_str, seen, res, target_num, k):\n",
    "                    return True\n",
    "                \n",
    "                res.pop()\n",
    "                seen.remove(new_str)\n",
    "        \n",
    "        return False\n",
    "        \n",
    "Solution().crackSafe(2, 4)"
   ]
  }
 ],
 "metadata": {
  "kernelspec": {
   "display_name": "Python 3",
   "language": "python",
   "name": "python3"
  },
  "language_info": {
   "codemirror_mode": {
    "name": "ipython",
    "version": 3
   },
   "file_extension": ".py",
   "mimetype": "text/x-python",
   "name": "python",
   "nbconvert_exporter": "python",
   "pygments_lexer": "ipython3",
   "version": "3.6.8"
  }
 },
 "nbformat": 4,
 "nbformat_minor": 2
}
