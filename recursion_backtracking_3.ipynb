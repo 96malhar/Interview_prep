{
 "cells": [
  {
   "cell_type": "markdown",
   "metadata": {},
   "source": [
    "### Sudoku Solver\n",
    "Write a program to solve a Sudoku puzzle by filling the empty cells.\n",
    "\n",
    "A sudoku solution must satisfy all of the following rules:\n",
    "\n",
    "*  Each of the digits 1-9 must occur exactly once in each row.\n",
    "* Each of the digits 1-9 must occur exactly once in each column.\n",
    "* Each of the the digits 1-9 must occur exactly once in each of the 9 3x3 sub-boxes of the grid.\n",
    "* Empty cells are indicated by the character '.'."
   ]
  },
  {
   "cell_type": "code",
   "execution_count": 2,
   "metadata": {},
   "outputs": [
    {
     "data": {
      "text/plain": [
       "[['5', '3', '4', '6', '7', '8', '9', '1', '2'],\n",
       " ['6', '7', '2', '1', '9', '5', '3', '4', '8'],\n",
       " ['1', '9', '8', '3', '4', '2', '5', '6', '7'],\n",
       " ['8', '5', '9', '7', '6', '1', '4', '2', '3'],\n",
       " ['4', '2', '6', '8', '5', '3', '7', '9', '1'],\n",
       " ['7', '1', '3', '9', '2', '4', '8', '5', '6'],\n",
       " ['9', '6', '1', '5', '3', '7', '2', '8', '4'],\n",
       " ['2', '8', '7', '4', '1', '9', '6', '3', '5'],\n",
       " ['3', '4', '5', '2', '8', '6', '1', '7', '9']]"
      ]
     },
     "execution_count": 2,
     "metadata": {},
     "output_type": "execute_result"
    }
   ],
   "source": [
    "class Solution:\n",
    "    def solveSudoku(self, board) -> None:\n",
    "        seen = set()\n",
    "        for i in range(len(board)):\n",
    "            for j in range(len(board)):\n",
    "                if board[i][j] == '.':\n",
    "                    continue\n",
    "                val = board[i][j]\n",
    "                seen.add((i, val)); seen.add((val, j)); seen.add((i//3, j//3, val))\n",
    "        \n",
    "        self.helper(0, 0, board, seen)\n",
    "    \n",
    "    def helper(self, row, col, board, seen):\n",
    "        if row == 9:\n",
    "            return True\n",
    "        \n",
    "        if col == 9:\n",
    "            return self.helper(row+1, 0, board, seen)\n",
    "        \n",
    "        if board[row][col] != '.':\n",
    "            return self.helper(row, col+1, board, seen)\n",
    "        \n",
    "        for val in range(1, 10):\n",
    "            if self.isValid(seen, row, col, str(val)):\n",
    "                n = str(val)\n",
    "                seen.add((row, n)); seen.add((n, col)); seen.add((row//3, col//3, n))\n",
    "                board[row][col] = n\n",
    "                \n",
    "                if self.helper(row, col+1, board, seen):\n",
    "                    return True\n",
    "                \n",
    "                board[row][col] = '.'\n",
    "                seen.remove((row, n)); seen.remove((n ,col)); seen.remove((row//3, col//3, n))\n",
    "                \n",
    "        return False\n",
    "    \n",
    "    def isValid(self, seen, i, j, val):\n",
    "        if (i, val) in seen or (val, j) in seen or (i//3, j//3, val) in seen:\n",
    "            return False\n",
    "        return True\n",
    "\n",
    "board = [[\"5\",\"3\",\".\",\".\",\"7\",\".\",\".\",\".\",\".\"],\n",
    "         [\"6\",\".\",\".\",\"1\",\"9\",\"5\",\".\",\".\",\".\"],\n",
    "         [\".\",\"9\",\"8\",\".\",\".\",\".\",\".\",\"6\",\".\"],\n",
    "         [\"8\",\".\",\".\",\".\",\"6\",\".\",\".\",\".\",\"3\"],\n",
    "         [\"4\",\".\",\".\",\"8\",\".\",\"3\",\".\",\".\",\"1\"],\n",
    "         [\"7\",\".\",\".\",\".\",\"2\",\".\",\".\",\".\",\"6\"],\n",
    "         [\".\",\"6\",\".\",\".\",\".\",\".\",\"2\",\"8\",\".\"],\n",
    "         [\".\",\".\",\".\",\"4\",\"1\",\"9\",\".\",\".\",\"5\"],\n",
    "         [\".\",\".\",\".\",\".\",\"8\",\".\",\".\",\"7\",\"9\"]]\n",
    "\n",
    "Solution().solveSudoku(board)\n",
    "board"
   ]
  },
  {
   "cell_type": "markdown",
   "metadata": {},
   "source": [
    "### Paint House III\n",
    "There is a row of m houses in a small city, each house must be painted with one of the n colors (labeled from 1 to n), some houses that has been painted last summer should not be painted again.\n",
    "\n",
    "A neighborhood is a maximal group of continuous houses that are painted with the same color. (For example: houses = [1,2,2,3,3,2,1,1] contains 5 neighborhoods  [{1}, {2,2}, {3,3}, {2}, {1,1}]).\n",
    "\n",
    "Given an array houses, an m * n matrix cost and an integer target where:\n",
    "\n",
    "* houses[i]: is the color of the house i, 0 if the house is not painted yet.\n",
    "* cost[i][j]: is the cost of paint the house i with the color j+1.\n",
    "\n",
    "\n",
    "Return the minimum cost of painting all the remaining houses in such a way that there are exactly target * neighborhoods, if not possible return -1."
   ]
  },
  {
   "cell_type": "code",
   "execution_count": 6,
   "metadata": {},
   "outputs": [
    {
     "data": {
      "text/plain": [
       "11"
      ]
     },
     "execution_count": 6,
     "metadata": {},
     "output_type": "execute_result"
    }
   ],
   "source": [
    "class Solution:\n",
    "    def minCost(self, houses, cost, m: int, n: int, target: int) -> int:\n",
    "        self.memo = {}\n",
    "        res = self.helper(houses, cost, m, n, target, 0, -1, 0)\n",
    "        return res if res != float('inf') else -1\n",
    "    \n",
    "    def helper(self, houses, cost, m, n, target, i, last_clr, k):\n",
    "        if i == m:\n",
    "            if k == target:\n",
    "                return 0\n",
    "            return float('inf')\n",
    "        \n",
    "        if k > target:\n",
    "            return float('inf')\n",
    "        \n",
    "        if (i, last_clr, k) in self.memo:\n",
    "            return self.memo[(i, last_clr, k)]\n",
    "        \n",
    "        res = float('inf')\n",
    "        if houses[i] != 0:\n",
    "            new_k = k if last_clr == houses[i] else k+1\n",
    "            res = self.helper(houses, cost, m, n, target, i+1, houses[i], new_k)\n",
    "\n",
    "        else:\n",
    "            for clr in range(1, n+1):\n",
    "                new_k = k if last_clr == clr else k+1\n",
    "                res = min(res, cost[i][clr-1] + self.helper(houses, cost, m, n, target, i+1, clr, new_k))\n",
    "        \n",
    "        self.memo[(i, last_clr, k)] = res\n",
    "        return res\n",
    "\n",
    "houses = [0,2,1,2,0]; cost = [[1,10],[10,1],[10,1],[1,10],[5,1]]; m = 5; n = 2; target = 3\n",
    "Solution().minCost(houses, cost, m, n, target)"
   ]
  },
  {
   "cell_type": "markdown",
   "metadata": {},
   "source": [
    "### Largest Divisible Subset\n",
    "Given a set of distinct positive integers, find the largest subset such that every pair (Si, Sj) of elements in this subset satisfies:\n",
    "\n",
    "Si % Sj = 0 or Sj % Si = 0.\n",
    "\n",
    "If there are multiple solutions, return any subset is fine."
   ]
  },
  {
   "cell_type": "code",
   "execution_count": 10,
   "metadata": {},
   "outputs": [
    {
     "data": {
      "text/plain": [
       "[1, 2]"
      ]
     },
     "execution_count": 10,
     "metadata": {},
     "output_type": "execute_result"
    }
   ],
   "source": [
    "class Solution:\n",
    "    def largestDivisibleSubset(self, nums):\n",
    "        self.memo = {}; res = []\n",
    "        nums.sort()\n",
    "        for i in range(len(nums)):\n",
    "            arr = self.helper(i, nums)\n",
    "            if len(arr) > len(res):\n",
    "                res = arr\n",
    "        return res\n",
    "    \n",
    "    def helper(self, i, nums):\n",
    "        if i in self.memo:\n",
    "            return self.memo[i]\n",
    "        \n",
    "        res = [nums[i]]\n",
    "        for j in range(i+1, len(nums)):\n",
    "            if nums[j] % nums[i] == 0:\n",
    "                arr = [nums[i]] + self.helper(j, nums)\n",
    "                if len(arr) > len(res):\n",
    "                    res = arr\n",
    "        \n",
    "        self.memo[i] = res\n",
    "        return res\n",
    "\n",
    "Solution().largestDivisibleSubset([1,2,3])"
   ]
  },
  {
   "cell_type": "markdown",
   "metadata": {},
   "source": [
    "### Number of Ways to Paint N × 3 Grid\n",
    "\n",
    "You have a grid of size n x 3 and you want to paint each cell of the grid with exactly one of the three colours: Red, Yellow or Green while making sure that no two adjacent cells have the same colour (i.e no two cells that share vertical or horizontal sides have the same colour).\n",
    "\n",
    "You are given n the number of rows of the grid.\n",
    "\n",
    "Return the number of ways you can paint this grid. As the answer may grow large, the answer must be computed modulo 10^9 + 7."
   ]
  },
  {
   "cell_type": "code",
   "execution_count": 13,
   "metadata": {},
   "outputs": [
    {
     "data": {
      "text/plain": [
       "106494"
      ]
     },
     "execution_count": 13,
     "metadata": {},
     "output_type": "execute_result"
    }
   ],
   "source": [
    "class Solution:\n",
    "    _memo = {}\n",
    "    colors = [0,1,2]; _triples = []\n",
    "    for c1 in colors:\n",
    "        for c2 in colors:\n",
    "            for c3 in colors:\n",
    "                if c1 != c2 and c2 != c3:\n",
    "                    _triples.append((c1, c2, c3))\n",
    "                        \n",
    "    def numOfWays(self, n: int) -> int:\n",
    "        self.mod = (10**9) + 7\n",
    "        self.memo = self._memo\n",
    "        triples = self._triples\n",
    "        return self.helper(n, -1, -1, -1, triples)\n",
    "    \n",
    "    def helper(self, n, c1, c2, c3, triples):\n",
    "        if n == 0:\n",
    "            return 1\n",
    "        \n",
    "        if (n, c1, c2, c3) in self.memo:\n",
    "            return self.memo[(n, c1, c2, c3)]\n",
    "        \n",
    "        res = 0\n",
    "        for nc1, nc2, nc3 in triples:\n",
    "            if nc1 != c1 and nc2 != c2 and nc3 != c3:\n",
    "                res += self.helper(n-1, nc1, nc2, nc3, triples)\n",
    "        \n",
    "        res = res % self.mod\n",
    "        self.memo[(n, c1, c2, c3)] = res\n",
    "        return res\n",
    "    \n",
    "Solution().numOfWays(7)"
   ]
  },
  {
   "cell_type": "markdown",
   "metadata": {},
   "source": [
    "### Number of Ways to Wear Different Hats to Each Other\n",
    "\n",
    "There are n people and 40 types of hats labeled from 1 to 40.\n",
    "\n",
    "Given a list of list of integers hats, where hats[i] is a list of all hats preferred by the i-th person.\n",
    "\n",
    "Return the number of ways that the n people wear different hats to each other.\n",
    "\n",
    "Since the answer may be too large, return it modulo 10^9 + 7.\n",
    "\n",
    "Constraints:\n",
    "* n == hats.length\n",
    "* 1 <= n <= 10\n",
    "* 1 <= hats[i].length <= 40\n",
    "* 1 <= hats[i][j] <= 40\n",
    "* hats[i] contains a list of unique integers."
   ]
  },
  {
   "cell_type": "code",
   "execution_count": 16,
   "metadata": {},
   "outputs": [
    {
     "data": {
      "text/plain": [
       "111"
      ]
     },
     "execution_count": 16,
     "metadata": {},
     "output_type": "execute_result"
    }
   ],
   "source": [
    "from collections import defaultdict\n",
    "class Solution:\n",
    "    def numberWays(self, hats) -> int:\n",
    "        pref = defaultdict(list)\n",
    "        for i in range(len(hats)):\n",
    "            for h in hats[i]:\n",
    "                pref[h].append(i)\n",
    "        \n",
    "        self.memo = {}; self.mod = 10**9 + 7\n",
    "        n = len(hats)\n",
    "        return self.helper(pref, (2**n)-1, 1, 0)\n",
    "    \n",
    "    def helper(self, pref, target, hat, hashcode):\n",
    "        if hashcode == target:\n",
    "            return 1\n",
    "        \n",
    "        if hat > 40:\n",
    "            return 0\n",
    "        \n",
    "        if (hat, hashcode) in self.memo:\n",
    "            return self.memo[(hat, hashcode)]\n",
    "        \n",
    "        res = self.helper(pref, target, hat+1, hashcode)\n",
    "        for i in pref[hat]:\n",
    "            if hashcode >> i & 1 == 0:\n",
    "                res += self.helper(pref, target, hat+1, hashcode|1<<i)\n",
    "        \n",
    "        res = res % self.mod\n",
    "        self.memo[(hat, hashcode)] = res\n",
    "        return res\n",
    "        \n",
    "        \n",
    "hats = [[1,2,3],[2,3,5,6],[1,3,7,9],[1,8,9],[2,5,7]]\n",
    "Solution().numberWays(hats)"
   ]
  },
  {
   "cell_type": "markdown",
   "metadata": {},
   "source": [
    "### Allocate Mailboxes\n",
    "Given the array houses and an integer k. where houses[i] is the location of the ith house along a street, your task is to allocate k mailboxes in the street.\n",
    "\n",
    "Return the minimum total distance between each house and its nearest mailbox.\n",
    "\n",
    "The answer is guaranteed to fit in a 32-bit signed integer."
   ]
  },
  {
   "cell_type": "code",
   "execution_count": 19,
   "metadata": {},
   "outputs": [
    {
     "data": {
      "text/plain": [
       "9"
      ]
     },
     "execution_count": 19,
     "metadata": {},
     "output_type": "execute_result"
    }
   ],
   "source": [
    "class Solution:\n",
    "    def minDistance(self, houses, k: int) -> int:\n",
    "        cost = {}\n",
    "        houses.sort()\n",
    "        for i in range(len(houses)):\n",
    "            for j in range(i, len(houses)):\n",
    "                total = 0\n",
    "                left = i; right = j\n",
    "                while left < right:\n",
    "                    total += houses[right] - houses[left]\n",
    "                    left += 1; right -= 1\n",
    "                cost[(i,j)] = total\n",
    "        \n",
    "        self.memo = {}\n",
    "        return self.helper(0, houses, k, cost)\n",
    "    \n",
    "    def helper(self, i, houses, k, cost):\n",
    "        if i == len(houses) and k == 0:\n",
    "            return 0\n",
    "        \n",
    "        if i == len(houses) or k == 0:\n",
    "            return float('inf')\n",
    "        \n",
    "        if (i, k) in self.memo:\n",
    "            return self.memo[(i,k)]\n",
    "        \n",
    "        res = float('inf')\n",
    "        for j in range(i, len(houses)):\n",
    "            res = min(res, cost[(i, j)] + self.helper(j+1, houses, k-1, cost))\n",
    "            \n",
    "        self.memo[(i, k)] = res\n",
    "        return res\n",
    "\n",
    "        \n",
    "houses = [2,3,5,12,18]; k = 2 \n",
    "Solution().minDistance(houses, k)"
   ]
  },
  {
   "cell_type": "markdown",
   "metadata": {},
   "source": [
    "### Smallest Sufficient Team\n",
    "\n",
    "In a project, you have a list of required skills req_skills, and a list of people.  The i-th person people[i] contains a list of skills that person has.\n",
    "\n",
    "Consider a sufficient team: a set of people such that for every required skill in req_skills, there is at least one person in the team who has that skill.  We can represent these teams by the index of each person: for example, team = [0, 1, 3] represents the people with skills people[0], people[1], and people[3].\n",
    "\n",
    "Return any sufficient team of the smallest possible size, represented by the index of each person.\n",
    "\n",
    "You may return the answer in any order.  It is guaranteed an answer exists.\n",
    "\n",
    "* 1 <= req_skills.length <= 16\n",
    "* 1 <= people.length <= 60\n",
    "* 1 <= people[i].length, req_skills[i].length, people[i][j].length <= 16\n",
    "* Elements of req_skills and people[i] are (respectively) distinct.\n",
    "* req_skills[i][j], people[i][j][k] are lowercase English letters.\n",
    "* Every skill in people[i] is a skill in req_skills.\n",
    "* It is guaranteed a sufficient team exists."
   ]
  },
  {
   "cell_type": "code",
   "execution_count": 25,
   "metadata": {},
   "outputs": [
    {
     "data": {
      "text/plain": [
       "[1, 2]"
      ]
     },
     "execution_count": 25,
     "metadata": {},
     "output_type": "execute_result"
    }
   ],
   "source": [
    "class Solution:\n",
    "    def smallestSufficientTeam(self, req_skills, people):\n",
    "        skills = {s:i for i, s in enumerate(req_skills)}\n",
    "        hashcode = 0; req_hashcode = 2**len(req_skills)-1\n",
    "        self.memo = {}\n",
    "        self.empty = [-1]*61\n",
    "        return self.helper(0, people, skills, hashcode,  req_hashcode)\n",
    "    \n",
    "    def helper(self, i, people, skills, hashcode, req_hashcode):\n",
    "        if hashcode == req_hashcode:\n",
    "            return []\n",
    "        \n",
    "        if i == len(people):\n",
    "            return self.empty\n",
    "        \n",
    "        if (i, hashcode) in self.memo:\n",
    "            return self.memo[(i, hashcode)]\n",
    "        \n",
    "        new_hash = hashcode\n",
    "        for s in people[i]:\n",
    "            new_hash = new_hash | 1 << skills[s]\n",
    "        \n",
    "        take = [i] + self.helper(i+1, people, skills, new_hash, req_hashcode)\n",
    "        no_take = self.helper(i+1, people, skills, hashcode, req_hashcode)\n",
    "        \n",
    "        if len(take) < len(no_take):\n",
    "            res = take\n",
    "        else:\n",
    "            res = no_take\n",
    "        \n",
    "        self.memo[(i, hashcode)] = res\n",
    "        return res\n",
    "\n",
    "req_skills = [\"algorithms\",\"math\",\"java\",\"reactjs\",\"csharp\",\"aws\"]\n",
    "people = [[\"algorithms\",\"math\",\"java\"],[\"algorithms\",\"math\",\"reactjs\"],\n",
    "          [\"java\",\"csharp\",\"aws\"],[\"reactjs\",\"csharp\"],[\"csharp\",\"math\"],[\"aws\",\"java\"]]\n",
    "\n",
    "Solution().smallestSufficientTeam(req_skills, people)"
   ]
  },
  {
   "cell_type": "markdown",
   "metadata": {},
   "source": [
    "### Cracking the Safe\n",
    "\n",
    "There is a box protected by a password. The password is a sequence of n digits where each digit can be one of the first k digits 0, 1, ..., k-1.\n",
    "\n",
    "While entering a password, the last n digits entered will automatically be matched against the correct password.\n",
    "\n",
    "For example, assuming the correct password is \"345\", if you type \"012345\", the box will open because the correct password matches the suffix of the entered password.\n",
    "\n",
    "Return any password of minimum length that is guaranteed to open the box at some point of entering it."
   ]
  },
  {
   "cell_type": "code",
   "execution_count": 3,
   "metadata": {},
   "outputs": [
    {
     "data": {
      "text/plain": [
       "'00102031121322330'"
      ]
     },
     "execution_count": 3,
     "metadata": {},
     "output_type": "execute_result"
    }
   ],
   "source": [
    "class Solution:\n",
    "    def crackSafe(self, n: int, k: int) -> str:\n",
    "        string = '0'*n\n",
    "        target_num = k**n\n",
    "        seen = {string}\n",
    "        res = [string]\n",
    "        self.helper(string, seen, res, target_num, k)\n",
    "        return ''.join(res)\n",
    "    \n",
    "    def helper(self, string, seen, res, target_num, k):\n",
    "        if len(res) == target_num:\n",
    "            return True\n",
    "        \n",
    "        for num in range(k):\n",
    "            new_str = string[1:] + str(num)\n",
    "            if new_str not in seen:\n",
    "                seen.add(new_str)\n",
    "                res.append(str(num))\n",
    "                \n",
    "                if self.helper(new_str, seen, res, target_num, k):\n",
    "                    return True\n",
    "                \n",
    "                res.pop()\n",
    "                seen.remove(new_str)\n",
    "        \n",
    "        return False\n",
    "        \n",
    "Solution().crackSafe(2, 4)"
   ]
  },
  {
   "cell_type": "markdown",
   "metadata": {},
   "source": [
    "### Rod Cutting Problem\n",
    "You are given a rod of length n meters. You want to sell the rod and earn revenue. You can cut the rod into multiple smaller pieces of sizes 11 through nn and sell them too. You are given the price of each size of the rod. Since you want to earn more, you will have to look for the optimal cuts on the rod that would earn the most revenue."
   ]
  },
  {
   "cell_type": "code",
   "execution_count": 5,
   "metadata": {},
   "outputs": [
    {
     "data": {
      "text/plain": [
       "4"
      ]
     },
     "execution_count": 5,
     "metadata": {},
     "output_type": "execute_result"
    }
   ],
   "source": [
    "class Solution:\n",
    "    def rodCutting(self, n, prices):\n",
    "        self.memo = {}\n",
    "        return self.helper(n, prices)\n",
    "    \n",
    "    def helper(self, n, prices):\n",
    "        if n == 0:\n",
    "            return 0\n",
    "        \n",
    "        if n in self.memo:\n",
    "            return self.memo[n]\n",
    "        \n",
    "        res = 0\n",
    "        for i in range(len(prices)):\n",
    "            length, price = i+1, prices[i]\n",
    "            if length <= n:\n",
    "                res = max(res, price + self.helper(n-length, prices))\n",
    "        \n",
    "        self.memo[n] = res\n",
    "        return res\n",
    "\n",
    "Solution().rodCutting(3,[1, 2, 4])"
   ]
  },
  {
   "cell_type": "markdown",
   "metadata": {},
   "source": [
    "###  Integer Break\n",
    "Given a positive integer n, break it into the sum of at least two positive integers and maximize the product of those integers. Return the maximum product you can get."
   ]
  },
  {
   "cell_type": "code",
   "execution_count": 15,
   "metadata": {},
   "outputs": [
    {
     "data": {
      "text/plain": [
       "1458"
      ]
     },
     "execution_count": 15,
     "metadata": {},
     "output_type": "execute_result"
    }
   ],
   "source": [
    "class Solution:\n",
    "    _memo = {}\n",
    "    def integerBreak(self, n: int) -> int:\n",
    "        if n <= 3:\n",
    "            return n-1\n",
    "        self.memo = self._memo\n",
    "        return self.helper(n)\n",
    "    \n",
    "    def helper(self, n):\n",
    "        if n == 0:\n",
    "            return 1\n",
    "        \n",
    "        if n in self.memo:\n",
    "            return self.memo[n]\n",
    "        \n",
    "        res = 0\n",
    "        for i in range(1, n+1):\n",
    "            if i <= n:\n",
    "                res = max(res, i*self.helper(n-i))\n",
    "            else:\n",
    "                break\n",
    "        \n",
    "        self.memo[n] = res\n",
    "        return res\n",
    "\n",
    "Solution().integerBreak(20)"
   ]
  },
  {
   "cell_type": "markdown",
   "metadata": {},
   "source": [
    "### Confusing Number II\n",
    "We can rotate digits by 180 degrees to form new digits. When 0, 1, 6, 8, 9 are rotated 180 degrees, they become 0, 1, 9, 8, 6 respectively. When 2, 3, 4, 5 and 7 are rotated 180 degrees, they become invalid.\n",
    "\n",
    "A confusing number is a number that when rotated 180 degrees becomes a different number with each digit valid.(Note that the rotated number can be greater than the original number.)\n",
    "\n",
    "Given a positive integer N, return the number of confusing numbers between 1 and N inclusive."
   ]
  },
  {
   "cell_type": "code",
   "execution_count": 2,
   "metadata": {},
   "outputs": [
    {
     "data": {
      "text/plain": [
       "22"
      ]
     },
     "execution_count": 2,
     "metadata": {},
     "output_type": "execute_result"
    }
   ],
   "source": [
    "class Solution:\n",
    "    def confusingNumberII(self, N: int) -> int:\n",
    "        self.res = 0\n",
    "        self.d = {'0':'0', '1':'1', '6':'9', '8':'8', '9':'6'}\n",
    "        for ch in ['1', '6', '8', '9']:\n",
    "            self.helper(ch, self.d[ch], N)\n",
    "        return self.res\n",
    "    \n",
    "    def helper(self, string, rotation, N):\n",
    "        if int(string) > N:\n",
    "            return\n",
    "        if string != rotation:\n",
    "            self.res += 1\n",
    "        for ch in ['0', '1', '6', '8', '9']:\n",
    "            self.helper(string+ch, self.d[ch]+rotation, N)\n",
    "    \n",
    "    \n",
    "Solution().confusingNumberII(109)"
   ]
  },
  {
   "cell_type": "markdown",
   "metadata": {},
   "source": [
    "### Regular Expression Matching\n",
    "\n",
    "Given an input string (s) and a pattern (p), implement regular expression matching with support for '.' and '*'.\n",
    "\n",
    "* '.' Matches any single character.\n",
    "* '*' Matches zero or more of the preceding element.\n",
    "The matching should cover the entire input string (not partial).\n",
    "\n",
    "Note:\n",
    "\n",
    "* s could be empty and contains only lowercase letters a-z.\n",
    "* p could be empty and contains only lowercase letters a-z, and characters like . or *."
   ]
  },
  {
   "cell_type": "code",
   "execution_count": 4,
   "metadata": {},
   "outputs": [
    {
     "data": {
      "text/plain": [
       "True"
      ]
     },
     "execution_count": 4,
     "metadata": {},
     "output_type": "execute_result"
    }
   ],
   "source": [
    "class Solution:\n",
    "    def isMatch(self, s: str, p: str) -> bool:\n",
    "        self.memo = {}\n",
    "        return self.helper(s, 0, p, 0)\n",
    "    \n",
    "    def match(self, s, i, p, j):\n",
    "        if i == len(s) or j == len(p):\n",
    "            return False\n",
    "        return p[j] == '.' or s[i] == p[j]\n",
    "    \n",
    "    def helper(self, s, i, p, j):\n",
    "        if i == len(s) and j == len(p):\n",
    "            return True\n",
    "        \n",
    "        if (i,j) in self.memo:\n",
    "            return self.memo[(i,j)]\n",
    "        \n",
    "        if j+1 < len(p) and p[j+1] == '*':\n",
    "            if self.match(s, i, p, j) and (self.helper(s, i+1, p, j) or self.helper(s, i+1, p, j+2)):\n",
    "                self.memo[(i,j)] = True\n",
    "                return True\n",
    "            if self.helper(s, i, p, j+2):\n",
    "                self.memo[(i,j)] = True\n",
    "                return True\n",
    "        \n",
    "        if self.match(s, i, p, j) and self.helper(s, i+1, p, j+1):\n",
    "            self.memo[(i,j)] = True\n",
    "            return True\n",
    "        \n",
    "        self.memo[(i,j)] = False\n",
    "        return False\n",
    "\n",
    "Solution().isMatch(s = \"aab\", p = \"c*a*b\")"
   ]
  },
  {
   "cell_type": "markdown",
   "metadata": {},
   "source": [
    "### Wildcard Matching\n",
    "\n",
    "Given an input string (s) and a pattern (p), implement wildcard pattern matching with support for '?' and '*'.\n",
    "\n",
    "* '?' Matches any single character.\n",
    "* '*' Matches any sequence of characters (including the empty sequence).\n",
    "The matching should cover the entire input string (not partial).\n",
    "\n",
    "Note:\n",
    "* s could be empty and contains only lowercase letters a-z.\n",
    "* p could be empty and contains only lowercase letters a-z, and characters like ? or *."
   ]
  },
  {
   "cell_type": "code",
   "execution_count": 5,
   "metadata": {},
   "outputs": [
    {
     "data": {
      "text/plain": [
       "True"
      ]
     },
     "execution_count": 5,
     "metadata": {},
     "output_type": "execute_result"
    }
   ],
   "source": [
    "class Solution:\n",
    "    def isMatch(self, s: str, p: str) -> bool:\n",
    "        self.memo = {}\n",
    "        return self.helper(s, 0, p, 0)\n",
    "    \n",
    "    def match(self, s, i, p, j):\n",
    "        if i == len(s) or j == len(p):\n",
    "            return False\n",
    "        return p[j] == '?' or p[j] == '*' or s[i] == p[j]\n",
    "    \n",
    "    def helper(self, s, i, p, j):\n",
    "        if i == len(s) and j == len(p):\n",
    "            return True\n",
    "        \n",
    "        if (i,j) in self.memo:\n",
    "            return self.memo[(i,j)]\n",
    "        \n",
    "        if j < len(p) and p[j] == '*':\n",
    "            if self.match(s, i, p, j) and (self.helper(s, i+1, p, j) or self.helper(s, i+1, p, j+1)):\n",
    "                self.memo[(i,j)] = True\n",
    "                return True\n",
    "            if self.helper(s, i, p, j+1):\n",
    "                self.memo[(i,j)] = True\n",
    "                return True\n",
    "            \n",
    "        if self.match(s, i, p, j) and self.helper(s, i+1, p, j+1):\n",
    "            self.memo[(i,j)] = True\n",
    "            return True\n",
    "        \n",
    "        self.memo[(i,j)] = False\n",
    "        return False\n",
    "\n",
    "Solution().isMatch(s = \"adceb\", p = \"*a*b\")"
   ]
  },
  {
   "cell_type": "markdown",
   "metadata": {},
   "source": [
    "### Factor Combinations\n",
    "\n",
    "Numbers can be regarded as product of its factors. For example,\n",
    "\n",
    "8 = 2 x 2 x 2;\n",
    "  = 2 x 4.\n",
    "Write a function that takes an integer n and return all possible combinations of its factors.\n",
    "\n",
    "Note:\n",
    "\n",
    "* You may assume that n is always positive.\n",
    "* Factors should be greater than 1 and less than n."
   ]
  },
  {
   "cell_type": "code",
   "execution_count": 9,
   "metadata": {},
   "outputs": [
    {
     "data": {
      "text/plain": [
       "[[2, 2, 2, 2, 2], [2, 2, 2, 4], [2, 2, 8], [2, 4, 4], [2, 16], [4, 8]]"
      ]
     },
     "execution_count": 9,
     "metadata": {},
     "output_type": "execute_result"
    }
   ],
   "source": [
    "class Solution:\n",
    "    def getFactors(self, n: int):\n",
    "        self.res = []\n",
    "        self.helper(n, 2, [])\n",
    "        return self.res\n",
    "    \n",
    "    def helper(self, n, start, buffer):\n",
    "        if n == 1:\n",
    "            if len(buffer) > 1:\n",
    "                self.res.append(buffer[:])\n",
    "            return\n",
    "        \n",
    "        for i in range(start, n+1):\n",
    "            if n%i == 0:\n",
    "                self.helper(n//i, i, buffer+[i])\n",
    "        \n",
    "Solution().getFactors(32)"
   ]
  },
  {
   "cell_type": "markdown",
   "metadata": {},
   "source": [
    "### Parallel Courses II\n",
    "\n",
    "Given the integer n representing the number of courses at some university labeled from 1 to n, and the array dependencies where dependencies[i] = [xi, yi]  represents a prerequisite relationship, that is, the course xi must be taken before the course yi.  Also, you are given the integer k.\n",
    "\n",
    "In one semester you can take at most k courses as long as you have taken all the prerequisites for the courses you are taking.\n",
    "\n",
    "Return the minimum number of semesters to take all courses. It is guaranteed that you can take all courses in some way.\n",
    "\n",
    "\n",
    "**Note** - **The below code prints the actual ordering of courses**"
   ]
  },
  {
   "cell_type": "code",
   "execution_count": 13,
   "metadata": {},
   "outputs": [
    {
     "data": {
      "text/plain": [
       "[(2, 3), [4], [1], [5]]"
      ]
     },
     "execution_count": 13,
     "metadata": {},
     "output_type": "execute_result"
    }
   ],
   "source": [
    "from collections import defaultdict\n",
    "import itertools\n",
    "class Solution:\n",
    "    def minNumberOfSemesters(self, n: int, dependencies, k: int) -> int:\n",
    "        indegree = {i:0 for i in range(1, n+1)}\n",
    "        self.memo = {}\n",
    "        graph = defaultdict(list)\n",
    "        for x, y in dependencies:\n",
    "            graph[x].append(y)\n",
    "            indegree[y] += 1\n",
    "        \n",
    "        return (self.helper(graph, indegree, n, k, 0, 2**n-1))\n",
    "    \n",
    "    def helper(self, graph, indegree, n, k, bitmap, target):\n",
    "        if target == bitmap:\n",
    "            return []\n",
    "        \n",
    "        if bitmap in self.memo:\n",
    "            return self.memo[bitmap]\n",
    "        \n",
    "        candidates = []\n",
    "        for i in range(1, n+1):\n",
    "            if indegree[i] == 0 and bitmap >> (i-1) & 1 == 0:\n",
    "                candidates.append(i)\n",
    "                \n",
    "        if len(candidates) <= k:\n",
    "            res = [[-1]]*20\n",
    "            new_bit = bitmap\n",
    "            for course in candidates:\n",
    "                for child in graph[course]:\n",
    "                    indegree[child] -= 1\n",
    "                new_bit = new_bit | 1 << (course-1)\n",
    "            res = min(res, [candidates] + self.helper(graph, indegree, n, k, new_bit, target), key=len)\n",
    "            for course in candidates:\n",
    "                for child in graph[course]:\n",
    "                    indegree[child] += 1\n",
    "               \n",
    "        else:\n",
    "            subsets = list(itertools.combinations(candidates, k))\n",
    "            res = [[-1]]*20\n",
    "            for s in subsets:\n",
    "                new_bit = bitmap\n",
    "                for course in s:\n",
    "                    for child in graph[course]:\n",
    "                        indegree[child] -= 1\n",
    "                    new_bit = new_bit | 1 << (course-1)\n",
    "                res = min(res, [s] + self.helper(graph, indegree, n, k, new_bit, target), key=len)\n",
    "                for course in s:\n",
    "                    for child in graph[course]:\n",
    "                        indegree[child] += 1\n",
    "        \n",
    "        self.memo[bitmap] = res\n",
    "        return res\n",
    "    \n",
    "Solution().minNumberOfSemesters(n = 5, dependencies = [[2,1],[3,1],[4,1],[1,5]], k = 2)"
   ]
  },
  {
   "cell_type": "markdown",
   "metadata": {},
   "source": [
    "### Optimal Account Balancing\n",
    "\n",
    "A group of friends went on holiday and sometimes lent each other money. For example, Alice paid for Bill's lunch for $10. Then later Chris gave Alice $5 for a taxi ride. We can model each transaction as a tuple (x, y, z) which means person x gave person y $z. Assuming Alice, Bill, and Chris are person 0, 1, and 2 respectively (0, 1, 2 are the person's ID), the transactions can be represented as [[0, 1, 10], [2, 0, 5]].\n",
    "\n",
    "Given a list of transactions between a group of people, return the minimum number of transactions required to settle the debt.\n",
    "\n",
    "Note:\n",
    "\n",
    "A transaction will be given as a tuple (x, y, z). Note that x ≠ y and z > 0.\n",
    "Person's IDs may not be linear, e.g. we could have the persons 0, 1, 2 or we could also have the persons 0, 2, 6.\n",
    "\n",
    "**Note - The below code prints the actual order of transactions**"
   ]
  },
  {
   "cell_type": "code",
   "execution_count": 17,
   "metadata": {},
   "outputs": [
    {
     "data": {
      "text/plain": [
       "[(0, 1), (1, 2)]"
      ]
     },
     "execution_count": 17,
     "metadata": {},
     "output_type": "execute_result"
    }
   ],
   "source": [
    "from collections import Counter\n",
    "class Solution:\n",
    "    def minTransfers(self, transactions) -> int:\n",
    "        counter = Counter()\n",
    "        for x, y, amt in transactions:\n",
    "            counter[x] += amt\n",
    "            counter[y] -= amt\n",
    "        self.max_arr = [-1] * 10000\n",
    "        \n",
    "        arr = list(counter.values())\n",
    "        return self.helper(arr, 0)\n",
    "    \n",
    "    def helper(self, arr, start):\n",
    "        while start < len(arr) and arr[start] == 0:\n",
    "            start += 1\n",
    "        \n",
    "        if start == len(arr):\n",
    "            return []\n",
    "        \n",
    "        res = self.max_arr\n",
    "        for i in range(start+1, len(arr)):\n",
    "            if arr[start] * arr[i] < 0:\n",
    "                arr[i] += arr[start]\n",
    "                res = min(res, [(start, i)] + self.helper(arr, start+1), key=len)\n",
    "                arr[i] -= arr[start]\n",
    "        \n",
    "        return res\n",
    "                \n",
    "Solution().minTransfers([[0,1,10], [2,0,5]])"
   ]
  },
  {
   "cell_type": "markdown",
   "metadata": {},
   "source": [
    "### Minimum Window Subsequence\n",
    "\n",
    "Given strings S and T, find the minimum (contiguous) substring W of S, so that T is a subsequence of W.\n",
    "\n",
    "If there is no such window in S that covers all characters in T, return the empty string \"\". If there are multiple such minimum-length windows, return the one with the left-most starting index."
   ]
  },
  {
   "cell_type": "code",
   "execution_count": 21,
   "metadata": {},
   "outputs": [
    {
     "data": {
      "text/plain": [
       "'bcde'"
      ]
     },
     "execution_count": 21,
     "metadata": {},
     "output_type": "execute_result"
    }
   ],
   "source": [
    "class Solution:\n",
    "    def minWindow(self, s: str, t: str) -> str:\n",
    "        ans = ''; min_len = float('inf'); self.memo = {}\n",
    "        for i, ch in enumerate(s):\n",
    "            if ch == t[0]:\n",
    "                end_index = self.helper(s, t, i+1, 1)\n",
    "                if end_index - i < min_len:\n",
    "                    ans = s[i:end_index+1]\n",
    "                    min_len = end_index - i\n",
    "        return ans\n",
    "    \n",
    "    def helper(self, s, t, i, j):\n",
    "        if j == len(t):\n",
    "            return i-1\n",
    "        \n",
    "        if (i,j) in self.memo:\n",
    "            return self.memo[(i,j)]\n",
    "        \n",
    "        curr_char = t[j]\n",
    "        next_index = s.find(curr_char, i)\n",
    "        if next_index == -1:\n",
    "            return float('inf')\n",
    "        end_index = self.helper(s, t, next_index+1, j+1)\n",
    "        \n",
    "        self.memo[(i,j)] = end_index\n",
    "        return end_index\n",
    "    \n",
    "Solution().minWindow(s = \"abcdebdde\", t = \"bde\")"
   ]
  },
  {
   "cell_type": "markdown",
   "metadata": {},
   "source": [
    "### Find the Shortest Superstring\n",
    "\n",
    "Given an array A of strings, find any smallest string that contains each string in A as a substring.\n",
    "\n",
    "We may assume that no string in A is substring of another string in A.\n",
    "\n",
    "**Similar Problem** - Travelling Salesman Problem"
   ]
  },
  {
   "cell_type": "code",
   "execution_count": 22,
   "metadata": {},
   "outputs": [
    {
     "data": {
      "text/plain": [
       "'gctaagttcatgcatc'"
      ]
     },
     "execution_count": 22,
     "metadata": {},
     "output_type": "execute_result"
    }
   ],
   "source": [
    "class Solution:\n",
    "    def shortestSuperstring(self, A) -> str:\n",
    "        dist = [[0]*len(A) for _ in range(len(A))]\n",
    "        for i in range(len(A)):\n",
    "            for j in range(len(A)):\n",
    "                dist[i][j] = self.calc_dist(A[i], A[j])\n",
    "        \n",
    "        self.memo = {}\n",
    "        ans = \"z\"*300\n",
    "        for i in range(len(A)):\n",
    "            string = A[i] + self.helper(A, i, dist, 1<<i, 2**len(A)-1)\n",
    "            ans = min(ans, string, key = len)\n",
    "        return ans\n",
    "            \n",
    "    def helper(self, A, i, dist, bitmap, target):\n",
    "        if bitmap == target:\n",
    "            return ''\n",
    "        \n",
    "        if (i, bitmap) in self.memo:\n",
    "            return self.memo[(i, bitmap)]\n",
    "        \n",
    "        res = 'z'*300\n",
    "        for j in range(len(A)):\n",
    "            if bitmap >> j & 1 == 0:\n",
    "                string = A[j][-dist[i][j]:] + self.helper(A, j, dist, bitmap | 1<<j, target)\n",
    "                res = min(res, string, key=len)\n",
    "        \n",
    "        self.memo[(i, bitmap)] = res\n",
    "        return res\n",
    "    \n",
    "    def calc_dist(self, a, b):\n",
    "        for i in range(len(a)):\n",
    "            if b.startswith(a[i:]):\n",
    "                return len(b) - (len(a) - i)\n",
    "        return len(b)\n",
    "            \n",
    "Solution().shortestSuperstring([\"catg\",\"ctaagt\",\"gcta\",\"ttca\",\"atgcatc\"])"
   ]
  },
  {
   "cell_type": "markdown",
   "metadata": {},
   "source": [
    "### Shortest Common Supersequence\n",
    "Given two strings str1 and str2, return the shortest string that has both str1 and str2 as subsequences.  If multiple answers exist, you may return any of them.\n",
    "\n",
    "(A string S is a subsequence of string T if deleting some number of characters from T (possibly 0, and the characters are chosen anywhere from T) results in the string S.)"
   ]
  },
  {
   "cell_type": "code",
   "execution_count": 23,
   "metadata": {},
   "outputs": [
    {
     "data": {
      "text/plain": [
       "'cabac'"
      ]
     },
     "execution_count": 23,
     "metadata": {},
     "output_type": "execute_result"
    }
   ],
   "source": [
    "class Solution:\n",
    "    def shortestCommonSupersequence(self, str1: str, str2: str) -> str:\n",
    "        self.memo = {}\n",
    "        lcs = self.helper(str1, str2, 0, 0)\n",
    "        res = ''; i = 0; j = 0\n",
    "        for ch in lcs:\n",
    "            while str1[i] != ch:\n",
    "                res += str1[i]\n",
    "                i += 1\n",
    "            while str2[j] != ch:\n",
    "                res += str2[j]\n",
    "                j += 1\n",
    "            res += ch; i += 1; j += 1\n",
    "        return res + str1[i:] + str2[j:]\n",
    "\n",
    "    \n",
    "    def helper(self, s1, s2, i, j):\n",
    "        if i == len(s1) or j == len(s2):\n",
    "            return ''\n",
    "        \n",
    "        if (i,j) in self.memo:\n",
    "            return self.memo[(i,j)]\n",
    "        \n",
    "        if s1[i] == s2[j]:\n",
    "            lcs = s1[i] + self.helper(s1, s2, i+1, j+1)\n",
    "        else:\n",
    "            move_i = self.helper(s1, s2, i+1, j)\n",
    "            move_j = self.helper(s1, s2, i, j+1)\n",
    "            lcs = max(move_i, move_j, key=len)\n",
    "        \n",
    "        self.memo[(i,j)] = lcs\n",
    "        return lcs\n",
    "\n",
    "Solution().shortestCommonSupersequence(str1 = \"abac\", str2 = \"cab\")"
   ]
  },
  {
   "cell_type": "markdown",
   "metadata": {},
   "source": [
    "### Remove Boxes\n",
    "\n",
    "Given several boxes with different colors represented by different positive numbers.\n",
    "You may experience several rounds to remove boxes until there is no box left. Each time you can choose some continuous boxes with the same color (composed of k boxes, k >= 1), remove them and get k*k points.\n",
    "Find the maximum points you can get."
   ]
  },
  {
   "cell_type": "code",
   "execution_count": 24,
   "metadata": {},
   "outputs": [
    {
     "data": {
      "text/plain": [
       "23"
      ]
     },
     "execution_count": 24,
     "metadata": {},
     "output_type": "execute_result"
    }
   ],
   "source": [
    "class Solution:\n",
    "    def removeBoxes(self, boxes) -> int:\n",
    "        self.memo = {}\n",
    "        return self.helper(0, len(boxes)-1, 0, boxes)\n",
    "    \n",
    "    def helper(self, left, right, k, boxes):\n",
    "        if left > right:\n",
    "            return 0\n",
    "        \n",
    "        if (left, right, k) in self.memo:\n",
    "            return self.memo[(left, right, k)]\n",
    "        \n",
    "        old_k = k\n",
    "        \n",
    "        i = left\n",
    "        while i<=right and boxes[i] == boxes[left]:\n",
    "            k += 1\n",
    "            i += 1\n",
    "        \n",
    "        res = k*k + self.helper(i, right, 0, boxes)\n",
    "        \n",
    "        for m in range(i, right+1):\n",
    "            if boxes[m] == boxes[left]:\n",
    "                res = max(res, self.helper(i, m-1, 0, boxes) + self.helper(m, right, k, boxes))\n",
    "        \n",
    "        self.memo[(left, right, old_k)] = res\n",
    "        return res\n",
    "\n",
    "Solution().removeBoxes([1,3,2,2,2,3,4,3,1])"
   ]
  },
  {
   "cell_type": "markdown",
   "metadata": {},
   "source": [
    "### Minimum Cost Tree From Leaf Values\n",
    "\n",
    "Given an array arr of positive integers, consider all binary trees such that:\n",
    "\n",
    "* Each node has either 0 or 2 children; The values of arr correspond to the values of each leaf in an in-order traversal of the tree.  (Recall that a node is a leaf if and only if it has 0 children.)\n",
    "* The value of each non-leaf node is equal to the product of the largest leaf value in its left and right subtree respectively.\n",
    "* Among all possible binary trees considered, return the smallest possible sum of the values of each non-leaf node.  It is guaranteed this sum fits into a 32-bit integer."
   ]
  },
  {
   "cell_type": "code",
   "execution_count": 26,
   "metadata": {},
   "outputs": [
    {
     "data": {
      "text/plain": [
       "32"
      ]
     },
     "execution_count": 26,
     "metadata": {},
     "output_type": "execute_result"
    }
   ],
   "source": [
    "class Solution:\n",
    "    def mctFromLeafValues(self, arr) -> int:\n",
    "        if not arr: return 0\n",
    "        self.memo = {}\n",
    "        max_arr = [[0]*len(arr) for _ in range(len(arr))]\n",
    "        for i in range(len(arr)):\n",
    "            max_val = arr[i]\n",
    "            for j in range(i+1, len(arr)):\n",
    "                max_val = max(max_val, arr[j])\n",
    "                max_arr[i][j] = max_val\n",
    "        \n",
    "        self.max_arr = max_arr\n",
    "        return self.helper(0, len(arr)-1, arr)[0]\n",
    "    \n",
    "    def helper(self, start, end, arr): \n",
    "        if start == end:\n",
    "            return (0, arr[start])\n",
    "        \n",
    "        if (start, end) in self.memo:\n",
    "            return self.memo[(start, end)]\n",
    "        \n",
    "        res = float('inf')\n",
    "        for mid in range(start, end):\n",
    "            sum1, leaf1 = self.helper(start, mid, arr)\n",
    "            sum2, leaf2 = self.helper(mid+1, end, arr)\n",
    "            res = min(res, sum1 + sum2 + leaf1*leaf2)\n",
    "        \n",
    "        leaf = self.max_arr[start][end]\n",
    "        self.memo[(start, end)] = (res, leaf)\n",
    "        return (res, leaf)\n",
    "\n",
    "Solution().mctFromLeafValues([6,4,2])"
   ]
  },
  {
   "cell_type": "markdown",
   "metadata": {},
   "source": [
    "### Android Unlock Patterns\n",
    "\n",
    "Given an Android 3x3 key lock screen and two integers m and n, where 1 ≤ m ≤ n ≤ 9, count the total number of unlock patterns of the Android lock screen, which consist of minimum of m keys and maximum n keys.\n",
    "\n",
    " \n",
    "\n",
    "Rules for a valid pattern:\n",
    "\n",
    "* Each pattern must connect at least m keys and at most n keys.\n",
    "* All the keys must be distinct.\n",
    "* If the line connecting two consecutive keys in the pattern passes through any other keys, the other keys must have previously selected in the pattern. No jumps through non selected key is allowed.\n",
    "* The order of keys used matters."
   ]
  },
  {
   "cell_type": "code",
   "execution_count": 8,
   "metadata": {},
   "outputs": [
    {
     "data": {
      "text/plain": [
       "385"
      ]
     },
     "execution_count": 8,
     "metadata": {},
     "output_type": "execute_result"
    }
   ],
   "source": [
    "class Solution:\n",
    "    def numberOfPatterns(self, m: int, n: int) -> int:\n",
    "        skip = {}\n",
    "        skip[(1,3)] = skip[(3,1)] = 2\n",
    "        skip[(1,7)] = skip[(7,1)] = 4\n",
    "        skip[(3,9)] = skip[(9,3)] = 6\n",
    "        skip[(7,9)] = skip[(9,7)] = 8\n",
    "        skip[(1,9)] = skip[(9,1)] = skip[(7,3)] = skip[(3,7)] = skip[(6,4)] = \\\n",
    "        skip[(4,6)] = skip[(2,8)] = skip[(8,2)] = 5\n",
    "        self.skip = skip\n",
    "        \n",
    "        res1 = self.helper(1, 1<<1, 1, m, n)\n",
    "        res2 = self.helper(2, 1<<2, 1, m, n)\n",
    "        res3 = self.helper(5, 1<<5, 1, m, n)\n",
    "        return (res1+res2)*4 + res3\n",
    "    \n",
    "    def helper(self, curr, seen, length, m, n):\n",
    "        count = 0\n",
    "        if m <= length <= n:\n",
    "            count = 1\n",
    "        \n",
    "        if length == n:\n",
    "            return 1\n",
    "        \n",
    "        for new in range(1, 10):\n",
    "            if seen>>new & 1 == 0 and ((curr, new) not in self.skip or seen >> self.skip[(curr, new)] & 1 == 1):\n",
    "                count += self.helper(new, seen | 1<<new, length+1, m, n)\n",
    "        \n",
    "        return count\n",
    "                \n",
    "\n",
    "Solution().numberOfPatterns(1,3)"
   ]
  },
  {
   "cell_type": "markdown",
   "metadata": {},
   "source": [
    "### Toss Strange Coins\n",
    "\n",
    "You have some coins.  The i-th coin has a probability prob[i] of facing heads when tossed.\n",
    "\n",
    "Return the probability that the number of coins facing heads equals target if you toss every coin exactly once."
   ]
  },
  {
   "cell_type": "code",
   "execution_count": 2,
   "metadata": {},
   "outputs": [
    {
     "data": {
      "text/plain": [
       "0.03125"
      ]
     },
     "execution_count": 2,
     "metadata": {},
     "output_type": "execute_result"
    }
   ],
   "source": [
    "class Solution:\n",
    "    def probabilityOfHeads(self, prob, target) -> float:\n",
    "        self.memo = {}\n",
    "        return self.helper(0, prob, target)\n",
    "    \n",
    "    def helper(self, i, prob, target):\n",
    "        if i == len(prob):\n",
    "            if target == 0:\n",
    "                return 1\n",
    "            return 0\n",
    "        \n",
    "        if (i, target) in self.memo:\n",
    "            return self.memo[(i, target)]\n",
    "        \n",
    "        heads = tails = 0\n",
    "        tails = (1-prob[i])*self.helper(i+1, prob, target)\n",
    "        \n",
    "        if target > 0:\n",
    "            heads = prob[i]*self.helper(i+1, prob, target-1)\n",
    "        \n",
    "        res = heads + tails\n",
    "        self.memo[(i, target)] = res\n",
    "        return res\n",
    "\n",
    "Solution().probabilityOfHeads(prob = [0.5,0.5,0.5,0.5,0.5], target = 0)"
   ]
  },
  {
   "cell_type": "markdown",
   "metadata": {},
   "source": [
    "### Decode Ways II\n",
    "\n",
    "A message containing letters from A-Z is being encoded to numbers using the following mapping way:\n",
    "\n",
    "'A' -> 1\n",
    "'B' -> 2\n",
    "...\n",
    "'Z' -> 26\n",
    "\n",
    "Beyond that, now the encoded string can also contain the character '*', which can be treated as one of the numbers from 1 to 9.\n",
    "\n",
    "Given the encoded message containing digits and the character '*', return the total number of ways to decode it.\n",
    "\n",
    "Also, since the answer may be very large, you should return the output mod 10^9 + 7."
   ]
  },
  {
   "cell_type": "code",
   "execution_count": 3,
   "metadata": {},
   "outputs": [
    {
     "data": {
      "text/plain": [
       "20"
      ]
     },
     "execution_count": 3,
     "metadata": {},
     "output_type": "execute_result"
    }
   ],
   "source": [
    "class Solution:\n",
    "    def numDecodings(self, s: str) -> int:\n",
    "        self.memo = {}\n",
    "        self.mod = 10**9 + 7\n",
    "        return self.helper(0, s)\n",
    "    \n",
    "    def helper(self, i, s):\n",
    "        if i == len(s):\n",
    "            return 1\n",
    "        \n",
    "        if i in self.memo:\n",
    "            return self.memo[i]\n",
    "        \n",
    "        ans = 0\n",
    "        # single digit\n",
    "        if s[i] != '0' and s[i] != '*':\n",
    "            ans += self.helper(i+1, s)\n",
    "        \n",
    "        # *\n",
    "        if s[i] == '*':\n",
    "            ans += 9*self.helper(i+1, s)\n",
    "        \n",
    "        # 2 digits\n",
    "        if i+1 < len(s) and s[i]!='*' and s[i+1]!='*' and 10<=int(s[i:i+2])<=26:\n",
    "            ans += self.helper(i+2, s)\n",
    "        \n",
    "        # *digit\n",
    "        if i+1<len(s) and s[i] == '*' and s[i+1] != '*':\n",
    "            count = 0\n",
    "            for d in '123456789':\n",
    "                if int(d+s[i+1]) <= 26:\n",
    "                    count += 1\n",
    "            if count > 0:\n",
    "                ans += count*self.helper(i+2, s)\n",
    "        \n",
    "        # digit*\n",
    "        if i+1<len(s) and s[i]!='*' and s[i]!='0' and s[i+1] == '*':\n",
    "            count = 0\n",
    "            for d in '123456789':\n",
    "                if 10<=int(s[i]+d)<=26:\n",
    "                    count += 1\n",
    "            if count > 0:\n",
    "                ans += count*self.helper(i+2, s)\n",
    "        \n",
    "        # **\n",
    "        if i+1<len(s) and s[i] == s[i+1] == '*':\n",
    "            ans += 15*self.helper(i+2, s)\n",
    "        \n",
    "        ans = ans % self.mod\n",
    "        self.memo[i] = ans\n",
    "        return ans\n",
    "            \n",
    "Solution().numDecodings('1*2')"
   ]
  },
  {
   "cell_type": "markdown",
   "metadata": {},
   "source": [
    "### Strange Printer\n",
    "There is a strange printer with the following two special requirements:\n",
    "\n",
    "* The printer can only print a sequence of the same character each time.\n",
    "* At each turn, the printer can print new characters starting from and ending at any places, and will cover the original existing characters.\n",
    "\n",
    "Given a string consists of lower English letters only, your job is to count the minimum number of turns the printer needed in order to print it."
   ]
  },
  {
   "cell_type": "code",
   "execution_count": 4,
   "metadata": {},
   "outputs": [
    {
     "data": {
      "text/plain": [
       "2"
      ]
     },
     "execution_count": 4,
     "metadata": {},
     "output_type": "execute_result"
    }
   ],
   "source": [
    "class Solution:\n",
    "    def strangePrinter(self, s: str) -> int:\n",
    "        self.memo = {}\n",
    "        return self.helper(s, 0, len(s)-1)\n",
    "    \n",
    "    def helper(self, s, i, j):\n",
    "        if i>j:\n",
    "            return 0\n",
    "        \n",
    "        if i == j:\n",
    "            return 1\n",
    "        \n",
    "        if (i,j) in self.memo:\n",
    "            return self.memo[(i,j)]\n",
    "        \n",
    "        cost = self.helper(s, i, j-1) + 1\n",
    "        for k in range(i, j):\n",
    "            if s[k] == s[j]:\n",
    "                cost = min(cost, self.helper(s, i, k-1) + self.helper(s, k, j-1))\n",
    "        \n",
    "        self.memo[(i,j)] = cost\n",
    "        return cost\n",
    "\n",
    "Solution().strangePrinter('aaabbaa')"
   ]
  },
  {
   "cell_type": "markdown",
   "metadata": {},
   "source": [
    "### Palindrome Removal\n",
    "\n",
    "Given an integer array arr, in one move you can select a palindromic subarray arr[i], arr[i+1], ..., arr[j] where i <= j, and remove that subarray from the given array. Note that after removing a subarray, the elements on the left and on the right of that subarray move to fill the gap left by the removal.\n",
    "\n",
    "Return the minimum number of moves needed to remove all numbers from the array."
   ]
  },
  {
   "cell_type": "code",
   "execution_count": 5,
   "metadata": {},
   "outputs": [
    {
     "data": {
      "text/plain": [
       "3"
      ]
     },
     "execution_count": 5,
     "metadata": {},
     "output_type": "execute_result"
    }
   ],
   "source": [
    "class Solution:\n",
    "    def minimumMoves(self, arr) -> int:\n",
    "        self.memo = {}\n",
    "        return self.helper(0, len(arr)-1, arr)\n",
    "    \n",
    "    def helper(self, i, j, arr):\n",
    "        if i>=j:\n",
    "            return 1\n",
    "        \n",
    "        if (i,j) in self.memo:\n",
    "            return self.memo[(i,j)]\n",
    "        \n",
    "        res = float('inf')\n",
    "        if arr[i] == arr[j]:\n",
    "            res = self.helper(i+1, j-1, arr)\n",
    "        for mid in range(i, j):\n",
    "            if arr[i] == arr[mid]:\n",
    "                res = min(res, self.helper(i,mid,arr) + self.helper(mid+1,j,arr))\n",
    "        self.memo[(i,j)] = res\n",
    "        return res\n",
    "\n",
    "Solution().minimumMoves(arr = [1,3,4,1,5])"
   ]
  },
  {
   "cell_type": "markdown",
   "metadata": {},
   "source": [
    "### Palindrome Partitioning III\n",
    "\n",
    "You are given a string s containing lowercase letters and an integer k. You need to :\n",
    "\n",
    "First, change some characters of s to other lowercase English letters.\n",
    "Then divide s into k non-empty disjoint substrings such that each substring is palindrome.\n",
    "Return the minimal number of characters that you need to change to divide the string.\n",
    "\n",
    " "
   ]
  },
  {
   "cell_type": "code",
   "execution_count": 6,
   "metadata": {},
   "outputs": [
    {
     "data": {
      "text/plain": [
       "0"
      ]
     },
     "execution_count": 6,
     "metadata": {},
     "output_type": "execute_result"
    }
   ],
   "source": [
    "class Solution:\n",
    "    def palindromePartition(self, s: str, k: int) -> int:\n",
    "        self.memo = {}\n",
    "        return self.helper(0, s, k)\n",
    "    \n",
    "    def helper(self, i, s, k):\n",
    "        if k == 1:\n",
    "            return self.calc_cost(s[i:])\n",
    "        \n",
    "        if k == len(s) - i:\n",
    "            return 0\n",
    "        \n",
    "        if i == len(s):\n",
    "            return float('inf')\n",
    "        \n",
    "        if (i, k) in self.memo:\n",
    "            return self.memo[(i, k)]\n",
    "        \n",
    "        cost = float('inf')\n",
    "        for j in range(i+1, len(s)+1):\n",
    "            string = s[i:j]\n",
    "            cost = min(cost, self.helper(j, s, k-1) + self.calc_cost(string))\n",
    "        \n",
    "        self.memo[(i, k)] = cost\n",
    "        return cost\n",
    "    \n",
    "    def calc_cost(self, string):\n",
    "        i = 0; j = len(string)-1; cost = 0\n",
    "        while i < j:\n",
    "            if string[i] != string[j]:\n",
    "                cost += 1\n",
    "            i += 1\n",
    "            j -= 1\n",
    "        return cost\n",
    "            \n",
    "\n",
    "Solution().palindromePartition(s = \"aabbc\", k = 3)"
   ]
  },
  {
   "cell_type": "markdown",
   "metadata": {},
   "source": [
    "### Minimize Rounding Error to Meet Target\n",
    "Given an array of prices [p1,p2...,pn] and a target, round each price pi to Roundi(pi) so that the rounded array [Round1(p1),Round2(p2)...,Roundn(pn)] sums to the given target. Each operation Roundi(pi) could be either Floor(pi) or Ceil(pi).\n",
    "\n",
    "Return the string \"-1\" if the rounded array is impossible to sum to target. Otherwise, return the smallest rounding error, which is defined as Σ |Roundi(pi) - (pi)| for i from 1 to n, as a string with three places after the decimal."
   ]
  },
  {
   "cell_type": "code",
   "execution_count": 10,
   "metadata": {},
   "outputs": [
    {
     "data": {
      "text/plain": [
       "'1.000'"
      ]
     },
     "execution_count": 10,
     "metadata": {},
     "output_type": "execute_result"
    }
   ],
   "source": [
    "import math\n",
    "class Solution:\n",
    "    def minimizeError(self, prices, target: int) -> str:\n",
    "        self.memo = {}\n",
    "        error = self.helper(0, prices, target)\n",
    "        if error == float('inf'):\n",
    "            return \"-1\"\n",
    "        error = round(error, 3)\n",
    "        return format(error, '0.3f')\n",
    "    \n",
    "    def helper(self, i, prices, target):\n",
    "        if i == len(prices):\n",
    "            if target == 0:\n",
    "                return 0\n",
    "            return float('inf')\n",
    "        \n",
    "        if (i, target) in self.memo:\n",
    "            return self.memo[(i,target)]\n",
    "        \n",
    "        take_upper = take_lower = float('inf')\n",
    "        num = float(prices[i])\n",
    "        upper = math.ceil(num)\n",
    "        lower = math.floor(num)\n",
    "        \n",
    "        if target >= upper:\n",
    "            take_upper = abs(upper-num) + self.helper(i+1, prices, target-upper)\n",
    "        \n",
    "        if target >= lower:\n",
    "            take_lower = abs(num-lower) + self.helper(i+1, prices, target-lower)\n",
    "        \n",
    "        error = min(take_upper, take_lower)\n",
    "        self.memo[(i,target)] = error\n",
    "        return error\n",
    "\n",
    "Solution().minimizeError(prices = [\"0.700\",\"2.800\",\"4.900\"], target = 8)"
   ]
  },
  {
   "cell_type": "markdown",
   "metadata": {},
   "source": [
    "### Scramble String\n",
    "\n",
    "Given a string s1, we may represent it as a binary tree by partitioning it to two non-empty substrings recursively.\n",
    "\n",
    "Below is one possible representation of s1 = \"great\":\n",
    "\n",
    "        great\n",
    "       /    \\\n",
    "      gr    eat\n",
    "     / \\    /  \\\n",
    "    g   r  e   at\n",
    "               / \\\n",
    "              a   t"
   ]
  },
  {
   "cell_type": "code",
   "execution_count": 14,
   "metadata": {},
   "outputs": [
    {
     "data": {
      "text/plain": [
       "True"
      ]
     },
     "execution_count": 14,
     "metadata": {},
     "output_type": "execute_result"
    }
   ],
   "source": [
    "class Solution:\n",
    "    def isScramble(self, s1: str, s2: str) -> bool:\n",
    "        if len(s1) != len(s2):\n",
    "            return False\n",
    "        if s1 == s2:\n",
    "            return True\n",
    "        self.memo = {}\n",
    "        return self.helper(s1, s2)\n",
    "    \n",
    "    def helper(self, s1, s2):\n",
    "        if len(s1) == 1:\n",
    "            return s1 == s2\n",
    "        \n",
    "        if (s1, s2) in self.memo:\n",
    "            return self.memo[(s1, s2)]\n",
    "        \n",
    "        if sorted(s1) != sorted(s2):\n",
    "            return False\n",
    "        \n",
    "        for i in range(1, len(s1)):\n",
    "            \n",
    "            if self.helper(s1[:i], s2[:i]) and self.helper(s1[i:], s2[i:]):\n",
    "                self.memo[(s1,s2)] = True\n",
    "                return True\n",
    "            \n",
    "            if self.helper(s1[:i], s2[-i:]) and self.helper(s1[i:], s2[:-i]):\n",
    "                self.memo[(s1, s2)] = True\n",
    "                return True\n",
    "        \n",
    "        self.memo[(s1, s2)] = False\n",
    "        return False\n",
    "\n",
    "Solution().isScramble(s1 = \"great\", s2 = \"rgeat\")"
   ]
  },
  {
   "cell_type": "markdown",
   "metadata": {},
   "source": [
    "### Count Numbers with Unique Digits\n",
    "\n",
    "Given a non-negative integer n, count all numbers with unique digits, x, where 0 ≤ x < 10n."
   ]
  },
  {
   "cell_type": "code",
   "execution_count": 20,
   "metadata": {},
   "outputs": [
    {
     "data": {
      "text/plain": [
       "91"
      ]
     },
     "execution_count": 20,
     "metadata": {},
     "output_type": "execute_result"
    }
   ],
   "source": [
    "class Solution:\n",
    "    def countNumbersWithUniqueDigits(self, n: int) -> int:\n",
    "        ans = 0\n",
    "        self.memo = {}\n",
    "        for numdigits in range(1, n+1):\n",
    "            for i in range(1, 10):\n",
    "                ans += self.helper(1<<i, numdigits-1)\n",
    "        return ans+1\n",
    "    \n",
    "    def helper(self, bit, n):\n",
    "        if n == 0:\n",
    "            return 1\n",
    "        \n",
    "        if (bit, n) in self.memo:\n",
    "            return self.memo[(bit, n)]\n",
    "        \n",
    "        count = 0\n",
    "        for i in range(10):\n",
    "            if bit >> i & 1 == 0:\n",
    "                count += self.helper(bit|1<<i, n-1)\n",
    "        \n",
    "        self.memo[(bit, n)] = count\n",
    "        return count\n",
    "                \n",
    "Solution().countNumbersWithUniqueDigits(2)"
   ]
  },
  {
   "cell_type": "markdown",
   "metadata": {},
   "source": [
    "### Count Different Palindromic Subsequences\n",
    "\n",
    "Given a string S, find the number of different non-empty palindromic subsequences in S, and return that number modulo 10^9 + 7.\n",
    "\n",
    "A subsequence of a string S is obtained by deleting 0 or more characters from S.\n",
    "\n",
    "A sequence is palindromic if it is equal to the sequence reversed.\n",
    "\n",
    "Two sequences A_1, A_2, ... and B_1, B_2, ... are different if there is some i for which A_i != B_i."
   ]
  },
  {
   "cell_type": "code",
   "execution_count": 29,
   "metadata": {},
   "outputs": [
    {
     "data": {
      "text/plain": [
       "6"
      ]
     },
     "execution_count": 29,
     "metadata": {},
     "output_type": "execute_result"
    }
   ],
   "source": [
    "class Solution:\n",
    "    def countPalindromicSubsequences(self, s: str) -> int:\n",
    "        self.memo = {}; self.mod = 10**9 + 7\n",
    "        res = 0\n",
    "        for ch in 'abcd':\n",
    "            i = s.find(ch)\n",
    "            j = s.rfind(ch)\n",
    "            res += self.helper(i, j, s)\n",
    "        return res % self.mod\n",
    "    \n",
    "    def helper(self, i, j, s):\n",
    "        if i == -1 or j == -1:\n",
    "            return 0\n",
    "        \n",
    "        if i == j:\n",
    "            return 1\n",
    "        \n",
    "        if (i,j) in self.memo:\n",
    "            return self.memo[(i,j)]\n",
    "        \n",
    "        res = 2\n",
    "        for ch in 'abcd':\n",
    "            new_i = s.find(ch, i+1, j)\n",
    "            new_j = s.rfind(ch, i+1, j)\n",
    "            res += self.helper(new_i, new_j, s) % self.mod\n",
    "        \n",
    "        res = res % self.mod\n",
    "        self.memo[(i,j)] = res\n",
    "        return res\n",
    "        \n",
    "\n",
    "Solution().countPalindromicSubsequences('bccb')"
   ]
  },
  {
   "cell_type": "markdown",
   "metadata": {},
   "source": [
    "### Count Increasing Subsequences\n",
    "https://leetcode.com/discuss/interview-question/661336/google-onsite-count-increasing-subsequences\n",
    "\n",
    "Given an array arr of size n. Find the number of triples (i, j, k) where:\n",
    "\n",
    "* i < j < k\n",
    "* arr[i] < arr[j] < arr[k]"
   ]
  },
  {
   "cell_type": "code",
   "execution_count": 7,
   "metadata": {},
   "outputs": [
    {
     "data": {
      "text/plain": [
       "5"
      ]
     },
     "execution_count": 7,
     "metadata": {},
     "output_type": "execute_result"
    }
   ],
   "source": [
    "class Soluion:\n",
    "    def count_sub(self, arr, k):\n",
    "        self.memo = {}; ans = 0\n",
    "        for i in range(len(arr)):\n",
    "            ans += self.helper(i, arr, k-1)\n",
    "        return ans\n",
    "    \n",
    "    def helper(self, i, arr, k):\n",
    "        if k == 0:\n",
    "            return 1\n",
    "        \n",
    "        if i == len(arr):\n",
    "            return 0\n",
    "        \n",
    "        if (i, k) in self.memo:\n",
    "            return self.memo[(i, k)]\n",
    "        \n",
    "        res = 0\n",
    "        for j in range(i+1, len(arr)):\n",
    "            if arr[j] > arr[i]:\n",
    "                res += self.helper(j, arr, k-1)\n",
    "        \n",
    "        self.memo[(i, k)] = res\n",
    "        return res\n",
    "\n",
    "\n",
    "obj = Soluion()\n",
    "obj.count_sub([1, 2, 3, 4, 5], 3)\n",
    "obj.count_sub([1, 2, 3, 5, 4], 3)\n",
    "obj.count_sub([5, 4, 3, 2, 1], 3)\n",
    "obj.count_sub([1, 2, 3, 4, 5], 4)"
   ]
  },
  {
   "cell_type": "markdown",
   "metadata": {},
   "source": [
    "### Stone Game IV\n",
    "\n",
    "Alice and Bob take turns playing a game, with Alice starting first.\n",
    "\n",
    "Initially, there are n stones in a pile.  On each player's turn, that player makes a move consisting of removing any non-zero square number of stones in the pile.\n",
    "\n",
    "Also, if a player cannot make a move, he/she loses the game.\n",
    "\n",
    "Given a positive integer n. Return True if and only if Alice wins the game otherwise return False, assuming both players play optimally."
   ]
  },
  {
   "cell_type": "code",
   "execution_count": 2,
   "metadata": {},
   "outputs": [
    {
     "data": {
      "text/plain": [
       "True"
      ]
     },
     "execution_count": 2,
     "metadata": {},
     "output_type": "execute_result"
    }
   ],
   "source": [
    "class Solution:\n",
    "    _memo = {}\n",
    "    def winnerSquareGame(self, n: int) -> bool:\n",
    "        self.memo = self._memo\n",
    "        return self.helper(n)\n",
    "    \n",
    "    def helper(self, n):\n",
    "        if n in self.memo:\n",
    "            return self.memo[n]\n",
    "        \n",
    "        for i in range(1, n+1):\n",
    "            num = i*i\n",
    "            if num > n:\n",
    "                break\n",
    "            if num == n or not self.helper(n-num):\n",
    "                self.memo[n] = True\n",
    "                return True\n",
    "        \n",
    "        self.memo[n] = False\n",
    "        return False\n",
    "    \n",
    "Solution().winnerSquareGame(6)"
   ]
  },
  {
   "cell_type": "markdown",
   "metadata": {},
   "source": [
    "### Stone Game V\n",
    "\n",
    "There are several stones arranged in a row, and each stone has an associated value which is an integer given in the array stoneValue.\n",
    "\n",
    "In each round of the game, Alice divides the row into two non-empty rows (i.e. left row and right row), then Bob calculates the value of each row which is the sum of the values of all the stones in this row. Bob throws away the row which has the maximum value, and Alice's score increases by the value of the remaining row. If the value of the two rows are equal, Bob lets Alice decide which row will be thrown away. The next round starts with the remaining row.\n",
    "\n",
    "The game ends when there is only one stone remaining. Alice's is initially zero.\n",
    "\n",
    "Return the maximum score that Alice can obtain."
   ]
  },
  {
   "cell_type": "code",
   "execution_count": 5,
   "metadata": {},
   "outputs": [
    {
     "data": {
      "text/plain": [
       "18"
      ]
     },
     "execution_count": 5,
     "metadata": {},
     "output_type": "execute_result"
    }
   ],
   "source": [
    "from collections import Counter\n",
    "class Solution:\n",
    "    def stoneGameV(self, stoneValue) -> int:\n",
    "        self.memo = {}\n",
    "        self.presum = Counter()\n",
    "        sum = 0\n",
    "        for i in range(len(stoneValue)):\n",
    "            sum += stoneValue[i]\n",
    "            self.presum[i] = sum\n",
    "        return self.helper(0, len(stoneValue)-1)\n",
    "    \n",
    "    def helper(self, left, right):\n",
    "        if left == right:\n",
    "            return 0\n",
    "        \n",
    "        if (left, right) in self.memo:\n",
    "            return self.memo[(left, right)]\n",
    "        \n",
    "        res = 0\n",
    "        for i in range(left, right):\n",
    "            l1 = left; r1 = i\n",
    "            l2 = i+1; r2 = right\n",
    "            \n",
    "            sum1 = self.presum[r1] - (self.presum[l1-1] if l1 >= 1 else 0)\n",
    "            sum2 = self.presum[r2] - (self.presum[l2-1] if l2 >= 1 else 0)\n",
    "            \n",
    "            if sum1 <= sum2:\n",
    "                res = max(res, sum1 + self.helper(l1, r1))\n",
    "                \n",
    "            if sum2 <= sum1:\n",
    "                res = max(res, sum2 + self.helper(l2, r2))\n",
    "            \n",
    "        self.memo[(left, right)] = res\n",
    "        return res\n",
    "                \n",
    "Solution().stoneGameV(stoneValue = [6,2,3,4,5,5])"
   ]
  },
  {
   "cell_type": "markdown",
   "metadata": {},
   "source": [
    "### Stone Game VII\n",
    "\n",
    "Alice and Bob take turns playing a game, with Alice starting first.\n",
    "\n",
    "There are n stones arranged in a row. On each player's turn, they can remove either the leftmost stone or the rightmost stone from the row and receive points equal to the sum of the remaining stones' values in the row. The winner is the one with the higher score when there are no stones left to remove.\n",
    "\n",
    "Bob found that he will always lose this game (poor Bob, he always loses), so he decided to minimize the score's difference. Alice's goal is to maximize the difference in the score.\n",
    "\n",
    "Given an array of integers stones where stones[i] represents the value of the ith stone from the left, return the difference in Alice and Bob's score if they both play optimally.\n",
    "\n",
    " "
   ]
  },
  {
   "cell_type": "code",
   "execution_count": 2,
   "metadata": {},
   "outputs": [
    {
     "data": {
      "text/plain": [
       "122"
      ]
     },
     "execution_count": 2,
     "metadata": {},
     "output_type": "execute_result"
    }
   ],
   "source": [
    "class Solution:\n",
    "    def stoneGameVII(self, stones) -> int:\n",
    "        self.memo = {}\n",
    "        total = sum(stones)\n",
    "        return self.helper(0, len(stones)-1, total, stones)\n",
    "    \n",
    "    def helper(self, i, j, total, stones):\n",
    "        if i > j:\n",
    "            return 0\n",
    "        \n",
    "        if (i, j) in self.memo:\n",
    "            return self.memo[(i, j)]\n",
    "        \n",
    "        res = -float('inf')\n",
    "        \n",
    "        res = max(res, total-stones[i] - self.helper(i+1, j, total-stones[i], stones))\n",
    "        res = max(res, total-stones[j] - self.helper(i, j-1, total-stones[j], stones))\n",
    "        \n",
    "        self.memo[(i,j)] = res\n",
    "        return res\n",
    "        \n",
    "Solution().stoneGameVII(stones = [7,90,5,1,100,10,10,2])"
   ]
  },
  {
   "cell_type": "markdown",
   "metadata": {},
   "source": [
    "### Best Time to Buy and Sell Stock IV\n",
    "\n",
    "Say you have an array for which the i-th element is the price of a given stock on day i.\n",
    "\n",
    "Design an algorithm to find the maximum profit. You may complete at most k transactions.\n",
    "\n",
    "Note:\n",
    "You may not engage in multiple transactions at the same time (ie, you must sell the stock before you buy again)."
   ]
  },
  {
   "cell_type": "code",
   "execution_count": 11,
   "metadata": {},
   "outputs": [
    {
     "data": {
      "text/plain": [
       "7"
      ]
     },
     "execution_count": 11,
     "metadata": {},
     "output_type": "execute_result"
    }
   ],
   "source": [
    "class Solution:\n",
    "    def maxProfit(self, k: int, prices) -> int:\n",
    "        self.dp = {}\n",
    "        if k >= len(prices) // 2: return self.quicksolve(prices)\n",
    "        return self.helper(0, False, prices, k)\n",
    "    \n",
    "    def helper(self, i, has_stock, prices, k):\n",
    "        if i == len(prices) or k == 0:\n",
    "            return 0\n",
    "        \n",
    "        if (i, has_stock, k) in self.dp:\n",
    "            return self.dp[(i, has_stock, k)]\n",
    "        \n",
    "        if not has_stock:\n",
    "            buy = -prices[i] + self.helper(i+1, True, prices, k)\n",
    "            no_buy = self.helper(i+1, False, prices, k)\n",
    "            self.dp[(i, has_stock, k)] = max(buy, no_buy)\n",
    "            return max(buy, no_buy)\n",
    "        else:\n",
    "            sell = prices[i] + self.helper(i+1, False, prices, k-1)\n",
    "            no_sell = self.helper(i+1, True, prices, k)\n",
    "            self.dp[(i, has_stock, k)] = max(sell, no_sell)\n",
    "            return max(sell, no_sell)\n",
    "        \n",
    "    def quicksolve(self, prices):\n",
    "        profit = 0\n",
    "        for i in range(1, len(prices)):\n",
    "            if prices[i] > prices[i-1]:\n",
    "                profit += prices[i] - prices[i-1]\n",
    "        return profit\n",
    "    \n",
    "Solution().maxProfit(2, [3,2,6,5,0,3])"
   ]
  },
  {
   "cell_type": "markdown",
   "metadata": {},
   "source": [
    "### Shopping Offers\n",
    "\n",
    "In LeetCode Store, there are some kinds of items to sell. Each item has a price.\n",
    "\n",
    "However, there are some special offers, and a special offer consists of one or more different kinds of items with a sale price.\n",
    "\n",
    "You are given the each item's price, a set of special offers, and the number we need to buy for each item. The job is to output the lowest price you have to pay for exactly certain items as given, where you could make optimal use of the special offers.\n",
    "\n",
    "Each special offer is represented in the form of an array, the last number represents the price you need to pay for this special offer, other numbers represents how many specific items you could get if you buy this offer.\n",
    "\n",
    "You could use any of special offers as many times as you want."
   ]
  },
  {
   "cell_type": "code",
   "execution_count": 16,
   "metadata": {},
   "outputs": [
    {
     "data": {
      "text/plain": [
       "11"
      ]
     },
     "execution_count": 16,
     "metadata": {},
     "output_type": "execute_result"
    }
   ],
   "source": [
    "class Solution:\n",
    "    def shoppingOffers(self, price, special, needs) -> int:\n",
    "        self.memo = {}\n",
    "        return self.helper(price, special, needs)\n",
    "    \n",
    "    def helper(self, price, special, needs):\n",
    "        if all(need == 0 for need in needs):\n",
    "            return 0\n",
    "        \n",
    "        need_tuple = tuple(needs)\n",
    "        if need_tuple in self.memo:\n",
    "            return self.memo[need_tuple]\n",
    "        \n",
    "        res = 0\n",
    "        for i in range(len(price)):\n",
    "            res += needs[i]*price[i]\n",
    "            \n",
    "        \n",
    "        for i in range(len(special)):\n",
    "            offer = special[i][:-1]\n",
    "            cost = special[i][-1]\n",
    "            if all(need >= quant for need, quant in zip(needs, offer)):\n",
    "                for i in range(len(offer)):\n",
    "                    needs[i] -= offer[i]\n",
    "                res = min(res, cost + self.helper(price, special, needs))\n",
    "                for i in range(len(offer)):\n",
    "                    needs[i] += offer[i]\n",
    "        \n",
    "        self.memo[(need_tuple)] = res\n",
    "        return res\n",
    "                \n",
    "            \n",
    "Solution().shoppingOffers([2,3,4], [[1,1,0,4],[2,2,1,9]], [1,2,1])        "
   ]
  },
  {
   "cell_type": "markdown",
   "metadata": {},
   "source": [
    "### Iterator for Combination\n",
    "\n",
    "Design an Iterator class, which has:\n",
    "\n",
    "* A constructor that takes a string characters of sorted distinct lowercase English letters and a number combinationLength as arguments.\n",
    "* A function next() that returns the next combination of length combinationLength in lexicographical order.\n",
    "* A function hasNext() that returns True if and only if there exists a next combination."
   ]
  },
  {
   "cell_type": "code",
   "execution_count": 26,
   "metadata": {},
   "outputs": [
    {
     "data": {
      "text/plain": [
       "'ac'"
      ]
     },
     "execution_count": 26,
     "metadata": {},
     "output_type": "execute_result"
    }
   ],
   "source": [
    "class CombinationIterator:\n",
    "\n",
    "    def __init__(self, characters: str, combinationLength: int):\n",
    "        self.last = None\n",
    "        self.end = characters[-combinationLength:]\n",
    "        self.gen = self.gen_comb(characters, 0, [], combinationLength)\n",
    "    \n",
    "    def gen_comb(self, char, start, buffer, length):\n",
    "        if len(buffer) == length:\n",
    "            yield ''.join(buffer)\n",
    "            return\n",
    "        \n",
    "        for i in range(start, len(char)):\n",
    "            yield from self.gen_comb(char, i+1, buffer+[char[i]], length)\n",
    "        \n",
    "    def next(self) -> str:\n",
    "        self.last = next(self.gen)\n",
    "        return self.last  \n",
    "\n",
    "    def hasNext(self) -> bool:\n",
    "        return self.last != self.end\n",
    "    \n",
    "obj = CombinationIterator('abc', 2)\n",
    "obj.next()\n",
    "obj.next()"
   ]
  },
  {
   "cell_type": "markdown",
   "metadata": {},
   "source": [
    "### The Most Similar Path in a Graph\n",
    "We have n cities and m bi-directional roads where roads[i] = [ai, bi] connects city ai with city bi. Each city has a name consisting of exactly 3 upper-case English letters given in the string array names. Starting at any city x, you can reach any city y where y != x (i.e. the cities and the roads are forming an undirected connected graph).\n",
    "\n",
    "You will be given a string array targetPath. You should find a path in the graph of the same length and with the minimum edit distance to targetPath.\n",
    "\n",
    "You need to return the order of the nodes in the path with the minimum edit distance, The path should be of the same length of targetPath and should be valid (i.e. there should be a direct road between ans[i] and ans[i + 1]). If there are multiple answers return any one of them."
   ]
  },
  {
   "cell_type": "code",
   "execution_count": 3,
   "metadata": {},
   "outputs": [
    {
     "data": {
      "text/plain": [
       "[0, 2, 4, 2]"
      ]
     },
     "execution_count": 3,
     "metadata": {},
     "output_type": "execute_result"
    }
   ],
   "source": [
    "from collections import defaultdict\n",
    "class Solution:\n",
    "    def mostSimilar(self, n: int, roads, names, targetPath):\n",
    "        self.memo = {}\n",
    "        self.graph = defaultdict(list)\n",
    "        for x,y in roads:\n",
    "            self.graph[x].append(y)\n",
    "            self.graph[y].append(x)\n",
    "        \n",
    "        res = float('inf')\n",
    "        res_path = []\n",
    "        for city in range(n):\n",
    "            dist, path = self.helper(names, targetPath, 0, city)\n",
    "            if dist < res:\n",
    "                res = dist\n",
    "                res_path = path\n",
    "        return res_path\n",
    "    \n",
    "    def helper(self, names, targetPath, i, city):\n",
    "        if (city, i) in self.memo:\n",
    "            return self.memo[(city, i)]\n",
    "        \n",
    "        if i == len(targetPath):\n",
    "            return 0, []\n",
    "        \n",
    "        res = float('inf')\n",
    "        res_path = []\n",
    "        \n",
    "        dist = 1 if names[city] != targetPath[i] else 0\n",
    "        for new_city in self.graph[city]:\n",
    "            new_dist, new_path = self.helper(names, targetPath, i+1, new_city)\n",
    "            new_dist += dist\n",
    "            if new_dist < res:\n",
    "                res = new_dist\n",
    "                res_path = [city] + new_path\n",
    "        \n",
    "        self.memo[(city, i)] = (res, res_path)\n",
    "        return res, res_path\n",
    "        \n",
    "n = 5\n",
    "roads = [[0,2],[0,3],[1,2],[1,3],[1,4],[2,4]]\n",
    "names = [\"ATL\",\"PEK\",\"LAX\",\"DXB\",\"HND\"]; targetPath = [\"ATL\",\"DXB\",\"HND\",\"LAX\"]   \n",
    "Solution().mostSimilar(n, roads, names, targetPath)"
   ]
  },
  {
   "cell_type": "markdown",
   "metadata": {},
   "source": [
    "### Profitable Schemes\n",
    "\n",
    "There is a group of G members, and a list of various crimes they could commit.\n",
    "\n",
    "The ith crime generates a profit[i] and requires group[i] members to participate in it.\n",
    "\n",
    "If a member participates in one crime, that member can't participate in another crime.\n",
    "\n",
    "Let's call a profitable scheme any subset of these crimes that generates at least P profit, and the total number of members participating in that subset of crimes is at most G.\n",
    "\n",
    "How many schemes can be chosen?  Since the answer may be very large, return it modulo 10^9 + 7."
   ]
  },
  {
   "cell_type": "code",
   "execution_count": 5,
   "metadata": {},
   "outputs": [
    {
     "data": {
      "text/plain": [
       "7"
      ]
     },
     "execution_count": 5,
     "metadata": {},
     "output_type": "execute_result"
    }
   ],
   "source": [
    "class Solution:\n",
    "    def profitableSchemes(self, G: int, P: int, group, profit) -> int:\n",
    "        self.memo = {}\n",
    "        self.mod = 10**9 + 7\n",
    "        return self.helper(G, P, group, profit, 0)\n",
    "    \n",
    "    def helper(self, g, p, group, profit, index):\n",
    "        if (g, p, index) in self.memo:\n",
    "            return self.memo[(g, p, index)]\n",
    "        \n",
    "        if g == 0:\n",
    "            return int(p==0)\n",
    "        \n",
    "        if index == len(group):\n",
    "            return int(p==0)\n",
    "        \n",
    "        take = no_take = 0\n",
    "        if g >= group[index]:\n",
    "            take = self.helper(g-group[index], max(0, p-profit[index]), group, profit, index+1) % self.mod\n",
    "        no_take = self.helper(g, p, group, profit, index+1) % self.mod\n",
    "        \n",
    "        res = (take + no_take) % self.mod\n",
    "        self.memo[(g, p, index)] = res\n",
    "        return res\n",
    "\n",
    "Solution().profitableSchemes(G = 10, P = 5, group = [2,3,5], profit = [6,7,8])"
   ]
  },
  {
   "cell_type": "markdown",
   "metadata": {},
   "source": [
    "### Minimum Cost to Cut a Stick\n",
    "\n",
    "Given a wooden stick of length n units. The stick is labelled from 0 to n. For example, a stick of length 6 is labelled as follows:\n",
    "\n",
    "\n",
    "Given an integer array cuts where cuts[i] denotes a position you should perform a cut at.\n",
    "\n",
    "You should perform the cuts in order, you can change the order of the cuts as you wish.\n",
    "\n",
    "The cost of one cut is the length of the stick to be cut, the total cost is the sum of costs of all cuts. When you cut a stick, it will be split into two smaller sticks (i.e. the sum of their lengths is the length of the stick before the cut). Please refer to the first example for a better explanation.\n",
    "\n",
    "Return the minimum total cost of the cuts."
   ]
  },
  {
   "cell_type": "code",
   "execution_count": 7,
   "metadata": {},
   "outputs": [
    {
     "data": {
      "text/plain": [
       "22"
      ]
     },
     "execution_count": 7,
     "metadata": {},
     "output_type": "execute_result"
    }
   ],
   "source": [
    "class Solution:\n",
    "    def minCost(self, n: int, cuts) -> int:\n",
    "        self.memo = {}\n",
    "        cuts.sort()\n",
    "        return self.helper(0, n, cuts)\n",
    "    \n",
    "    def helper(self, left, right, cuts):\n",
    "        if (left, right) in self.memo:\n",
    "            return self.memo[(left, right)]\n",
    "        \n",
    "        cost = float('inf')\n",
    "        for cut in cuts:\n",
    "            if left < cut < right:\n",
    "                cost = min(cost, right-left + self.helper(left, cut, cuts) + self.helper(cut, right, cuts))\n",
    "            elif cut >= right:\n",
    "                break\n",
    "        \n",
    "        if cost == float('inf'):\n",
    "            cost = 0\n",
    "        \n",
    "        self.memo[(left, right)] = cost\n",
    "        return cost\n",
    "                \n",
    "Solution().minCost(n = 9, cuts = [5,6,1,4,2])        "
   ]
  },
  {
   "cell_type": "markdown",
   "metadata": {},
   "source": [
    "### Minimum Cost to Merge Stones\n",
    "\n",
    "There are N piles of stones arranged in a row.  The i-th pile has stones[i] stones.\n",
    "\n",
    "A move consists of merging exactly K consecutive piles into one pile, and the cost of this move is equal to the total number of stones in these K piles.\n",
    "\n",
    "Find the minimum cost to merge all piles of stones into one pile.  If it is impossible, return -1."
   ]
  },
  {
   "cell_type": "code",
   "execution_count": 11,
   "metadata": {},
   "outputs": [
    {
     "data": {
      "text/plain": [
       "25"
      ]
     },
     "execution_count": 11,
     "metadata": {},
     "output_type": "execute_result"
    }
   ],
   "source": [
    "class Solution:\n",
    "    def mergeStones(self, stones, k: int) -> int:\n",
    "        self.memo = {}\n",
    "        res = self.helper(0, len(stones)-1, 1, stones, k)\n",
    "        return res if res != float('inf') else -1\n",
    "    \n",
    "    def helper(self, i, j, target, stones, k):\n",
    "        if j-i+1 < target:\n",
    "            return float('inf')\n",
    "        \n",
    "        if (i,j,target) in self.memo:\n",
    "            return self.memo[(i,j,target)]\n",
    "        \n",
    "        if i == j:\n",
    "            return 0 if target == 1 else float('inf')\n",
    "        \n",
    "        cost = float('inf')\n",
    "        if target == 1:\n",
    "            cost = sum(stones[i:j+1]) + self.helper(i, j, k, stones, k)\n",
    "            self.memo[(i,j,target)] = cost\n",
    "            return cost\n",
    "        \n",
    "        for mid in range(i, j):\n",
    "            left = self.helper(i, mid, target-1, stones, k)\n",
    "            if left == float('inf'): continue\n",
    "            right = self.helper(mid+1, j, 1, stones, k)\n",
    "            cost = min(cost, left+right)\n",
    "        \n",
    "        self.memo[(i,j,target)] = cost\n",
    "        return cost\n",
    "            \n",
    "Solution().mergeStones(stones = [3,5,1,2,6], k = 3)      "
   ]
  },
  {
   "cell_type": "markdown",
   "metadata": {},
   "source": [
    "### Get the Maximum Score\n",
    "\n",
    "You are given two sorted arrays of distinct integers nums1 and nums2.\n",
    "\n",
    "A valid path is defined as follows:\n",
    "\n",
    "* Choose array nums1 or nums2 to traverse (from index-0).\n",
    "* Traverse the current array from left to right.\n",
    "* If you are reading any value that is present in nums1 and nums2 you are allowed to change your path to the other array. (Only one repeated value is considered in the valid path).\n",
    "\n",
    "Score is defined as the sum of uniques values in a valid path.\n",
    "\n",
    "Return the maximum score you can obtain of all possible valid paths.\n",
    "\n",
    "Since the answer may be too large, return it modulo 10^9 + 7."
   ]
  },
  {
   "cell_type": "code",
   "execution_count": 12,
   "metadata": {},
   "outputs": [
    {
     "data": {
      "text/plain": [
       "30"
      ]
     },
     "execution_count": 12,
     "metadata": {},
     "output_type": "execute_result"
    }
   ],
   "source": [
    "class Solution:\n",
    "    def maxSum(self, nums1, nums2) -> int:\n",
    "        inv1 = {}; inv2 = {}; self.mod = 10**9 + 7\n",
    "        for i, val1 in enumerate(nums1):\n",
    "            inv1[val1] = i\n",
    "        \n",
    "        for i, val2 in enumerate(nums2):\n",
    "            inv2[val2] = i\n",
    "        \n",
    "        self.memo = {}\n",
    "        res1 = self.helper(0, 1, nums1, nums2, inv1, inv2)\n",
    "        res2 = self.helper(0, 2, nums1, nums2, inv1, inv2)\n",
    "        return max(res1, res2) % self.mod\n",
    "    \n",
    "    def helper(self, i, curr, nums1, nums2, inv1, inv2):\n",
    "        arr = nums1 if curr == 1 else nums2\n",
    "        if i == len(arr):\n",
    "            return 0\n",
    "        \n",
    "        if (i, curr) in self.memo:\n",
    "            return self.memo[(i, curr)]\n",
    "        \n",
    "        no_change = change = -float('inf')\n",
    "        \n",
    "        no_change = max(no_change, arr[i] + self.helper(i+1, curr, nums1, nums2, inv1, inv2))\n",
    "        \n",
    "        if curr == 1 and arr[i] in inv2:\n",
    "            res = arr[i] + self.helper(inv2[arr[i]]+1, 2, nums1, nums2, inv1, inv2)\n",
    "            change = max(change, res)\n",
    "        \n",
    "        elif curr == 2 and arr[i] in inv1:\n",
    "            res = arr[i] + self.helper(inv1[arr[i]]+1, 1, nums1, nums2, inv1, inv2)\n",
    "            change = max(change, res)\n",
    "        \n",
    "        ans = max(change, no_change)\n",
    "        self.memo[(i, curr)] = ans\n",
    "        return ans\n",
    "            \n",
    "Solution().maxSum(nums1 = [2,4,5,8,10], nums2 = [4,6,8,9])      "
   ]
  },
  {
   "cell_type": "markdown",
   "metadata": {},
   "source": [
    "### Split Array into Fibonacci Sequence\n",
    "\n",
    "Given a string S of digits, such as S = \"123456579\", we can split it into a Fibonacci-like sequence [123, 456, 579].\n",
    "\n",
    "Formally, a Fibonacci-like sequence is a list F of non-negative integers such that:\n",
    "\n",
    "0 <= F[i] <= 2^31 - 1, (that is, each integer fits a 32-bit signed integer type);\n",
    "F.length >= 3;\n",
    "and F[i] + F[i+1] = F[i+2] for all 0 <= i < F.length - 2.\n",
    "Also, note that when splitting the string into pieces, each piece must not have extra leading zeroes, except if the piece is the number 0 itself.\n",
    "\n",
    "Return any Fibonacci-like sequence split from S, or return [] if it cannot be done."
   ]
  },
  {
   "cell_type": "code",
   "execution_count": 13,
   "metadata": {},
   "outputs": [
    {
     "data": {
      "text/plain": [
       "[123, 456, 579]"
      ]
     },
     "execution_count": 13,
     "metadata": {},
     "output_type": "execute_result"
    }
   ],
   "source": [
    "class Solution:\n",
    "    def splitIntoFibonacci(self, S: str):\n",
    "        res = []\n",
    "        self.helper(0, S, res)\n",
    "        return res\n",
    "    \n",
    "    def helper(self, i, s, buffer):\n",
    "        if i == len(s):\n",
    "            return len(buffer) >= 3\n",
    "        \n",
    "        for j in range(i+1, len(s)+1):\n",
    "            num = s[i:j]\n",
    "            \n",
    "            if len(num) > 1 and num[0] == '0':\n",
    "                return False\n",
    "            \n",
    "            if int(num) > 2**31:\n",
    "                return False\n",
    "            \n",
    "            if len(buffer) >= 2 and int(num) > buffer[-1] + buffer[-2]:\n",
    "                return False\n",
    "            \n",
    "            if len(buffer) <= 1 or int(num) == buffer[-1] + buffer[-2]:\n",
    "                buffer.append(int(num))\n",
    "                if self.helper(j, s, buffer):\n",
    "                    return True\n",
    "                buffer.pop()\n",
    "                \n",
    "        return False\n",
    "             \n",
    "Solution().splitIntoFibonacci(\"123456579\")      "
   ]
  },
  {
   "cell_type": "markdown",
   "metadata": {},
   "source": [
    "### Stickers to Spell Word\n",
    "\n",
    "We are given N different types of stickers. Each sticker has a lowercase English word on it.\n",
    "\n",
    "You would like to spell out the given target string by cutting individual letters from your collection of stickers and rearranging them.\n",
    "\n",
    "You can use each sticker more than once if you want, and you have infinite quantities of each sticker.\n",
    "\n",
    "What is the minimum number of stickers that you need to spell out the target? If the task is impossible, return -1.\n"
   ]
  },
  {
   "cell_type": "code",
   "execution_count": 16,
   "metadata": {},
   "outputs": [
    {
     "data": {
      "text/plain": [
       "3"
      ]
     },
     "execution_count": 16,
     "metadata": {},
     "output_type": "execute_result"
    }
   ],
   "source": [
    "from collections import Counter\n",
    "class Solution:\n",
    "    def minStickers(self, stickers, target: str) -> int:\n",
    "        stickers = [Counter(sticker) for sticker in stickers]\n",
    "        self.memo = {}\n",
    "        res = self.helper(Counter(target), stickers)\n",
    "        return res if res != float('inf') else -1\n",
    "    \n",
    "    def helper(self, target, stickers):\n",
    "        string = ''\n",
    "        for ch, freq in target.items():\n",
    "            string += ch*freq\n",
    "        string = ''.join(sorted(string))\n",
    "        \n",
    "        if string in self.memo:\n",
    "            return self.memo[string]\n",
    "        \n",
    "        if string == '':\n",
    "            return 0\n",
    "        \n",
    "        res = float('inf')\n",
    "        for sticker in stickers:\n",
    "            if string[0] in sticker:\n",
    "                res = min(res, 1 + self.helper(target-sticker, stickers))\n",
    "        \n",
    "        self.memo[string] = res\n",
    "        return res\n",
    "\n",
    "Solution().minStickers([\"with\", \"example\", \"science\"], \"thehat\")"
   ]
  },
  {
   "cell_type": "markdown",
   "metadata": {},
   "source": [
    "### Soup Servings\n",
    "\n",
    "There are two types of soup: type A and type B. Initially we have N ml of each type of soup. There are four kinds of operations:\n",
    "\n",
    "* Serve 100 ml of soup A and 0 ml of soup B\n",
    "* Serve 75 ml of soup A and 25 ml of soup B\n",
    "* Serve 50 ml of soup A and 50 ml of soup B\n",
    "* Serve 25 ml of soup A and 75 ml of soup B\n",
    "\n",
    "When we serve some soup, we give it to someone and we no longer have it.  Each turn, we will choose from the four operations with equal probability 0.25. If the remaining volume of soup is not enough to complete the operation, we will serve as much as we can.  We stop once we no longer have some quantity of both types of soup.\n",
    "\n",
    "Note that we do not have the operation where all 100 ml's of soup B are used first.  \n",
    "\n",
    "Return the probability that soup A will be empty first, plus half the probability that A and B become empty at the same time."
   ]
  },
  {
   "cell_type": "code",
   "execution_count": 17,
   "metadata": {},
   "outputs": [
    {
     "data": {
      "text/plain": [
       "0.625"
      ]
     },
     "execution_count": 17,
     "metadata": {},
     "output_type": "execute_result"
    }
   ],
   "source": [
    "class Solution:\n",
    "    def soupServings(self, N: int) -> float:\n",
    "        self.memo = {}\n",
    "        if N >=4800:\n",
    "            return 1\n",
    "        return self.helper(N, N)\n",
    "    \n",
    "    def helper(self, a, b):\n",
    "        if a<=0 and b<=0: return 0.5\n",
    "        if a<=0 : return 1\n",
    "        if b<=0: return 0\n",
    "        \n",
    "        if (a, b) in self.memo:\n",
    "            return self.memo[(a,b)]\n",
    "        \n",
    "        prob = self.helper(a-100, b) + self.helper(a-75, b-25) + self.helper(a-50, b-50) + self.helper(a-25, b-75)\n",
    "        \n",
    "        prob *= 0.25\n",
    "        \n",
    "        self.memo[(a,b)] = prob\n",
    "        return prob\n",
    "        \n",
    "Solution().soupServings(50)"
   ]
  },
  {
   "cell_type": "markdown",
   "metadata": {},
   "source": [
    "### Largest Sum of Averages\n",
    "\n",
    "We partition a row of numbers A into at most K adjacent (non-empty) groups, then our score is the sum of the average of each group. What is the largest score we can achieve?\n",
    "\n",
    "Note that our partition must use every number in A, and that scores are not necessarily integers."
   ]
  },
  {
   "cell_type": "code",
   "execution_count": 19,
   "metadata": {},
   "outputs": [
    {
     "data": {
      "text/plain": [
       "20.0"
      ]
     },
     "execution_count": 19,
     "metadata": {},
     "output_type": "execute_result"
    }
   ],
   "source": [
    "class Solution:\n",
    "    def largestSumOfAverages(self, A, K: int) -> float:\n",
    "        self.memo = {}\n",
    "        return self.helper(0, A, K)\n",
    "    \n",
    "    def helper(self, i, arr, k):\n",
    "        if k < 0:\n",
    "            return -float('inf')\n",
    "        \n",
    "        if (i, k) in self.memo:\n",
    "            return self.memo[(i,k)]\n",
    "        \n",
    "        if i == len(arr):\n",
    "            return 0\n",
    "        \n",
    "        res = -float('inf')\n",
    "        s = 0\n",
    "        for j in range(i, len(arr)):\n",
    "            s += arr[j]\n",
    "            avg = s/(j-i+1)\n",
    "            res = max(res, avg + self.helper(j+1, arr, k-1))\n",
    "        \n",
    "        self.memo[(i,k)] = res\n",
    "        return res\n",
    "    \n",
    "Solution().largestSumOfAverages(A = [9,1,2,3,9], K = 3)"
   ]
  },
  {
   "cell_type": "markdown",
   "metadata": {},
   "source": [
    "### The k-th Lexicographical String of All Happy Strings of Length n\n",
    "\n",
    "A happy string is a string that:\n",
    "\n",
    "consists only of letters of the set ['a', 'b', 'c'].\n",
    "s[i] != s[i + 1] for all values of i from 1 to s.length - 1 (string is 1-indexed).\n",
    "For example, strings \"abc\", \"ac\", \"b\" and \"abcbabcbcb\" are all happy strings and strings \"aa\", \"baa\" and \"ababbc\" are not happy strings.\n",
    "\n",
    "Given two integers n and k, consider a list of all happy strings of length n sorted in lexicographical order.\n",
    "\n",
    "Return the kth string of this list or return an empty string if there are less than k happy strings of length n."
   ]
  },
  {
   "cell_type": "code",
   "execution_count": 20,
   "metadata": {},
   "outputs": [
    {
     "data": {
      "text/plain": [
       "'cab'"
      ]
     },
     "execution_count": 20,
     "metadata": {},
     "output_type": "execute_result"
    }
   ],
   "source": [
    "class Solution:\n",
    "    def getHappyString(self, n: int, k: int) -> str:\n",
    "        gen = self.helper(n, [])\n",
    "        for _ in range(k):\n",
    "            try:\n",
    "                string = next(gen)\n",
    "            except:\n",
    "                string = ''\n",
    "            \n",
    "            if string == '':\n",
    "                return ''\n",
    "            \n",
    "        return string\n",
    "        \n",
    "    \n",
    "    def helper(self, n, buffer):\n",
    "        if len(buffer) == n:\n",
    "            yield ''.join(buffer)\n",
    "            return\n",
    "        \n",
    "        for ch in ['a', 'b', 'c']:\n",
    "            if not buffer or buffer[-1] != ch:\n",
    "                yield from self.helper(n, buffer+[ch])\n",
    "        \n",
    "Solution().getHappyString(n = 3, k = 9)"
   ]
  },
  {
   "cell_type": "markdown",
   "metadata": {},
   "source": [
    "### Ternary Expression Parser\n",
    "\n",
    "Given a string representing arbitrarily nested ternary expressions, calculate the result of the expression. You can always assume that the given expression is valid and only consists of digits 0-9, ?, :, T and F (T and F represent True and False respectively).\n",
    "\n",
    "Note:\n",
    "\n",
    "* The length of the given string is ≤ 10000.\n",
    "* Each number will contain only one digit.\n",
    "* The conditional expressions group right-to-left (as usual in most languages).\n",
    "* The condition will always be either T or F. That is, the condition will never be a digit.\n",
    "* The result of the expression will always evaluate to either a digit 0-9, T or F."
   ]
  },
  {
   "cell_type": "code",
   "execution_count": 21,
   "metadata": {},
   "outputs": [
    {
     "data": {
      "text/plain": [
       "'F'"
      ]
     },
     "execution_count": 21,
     "metadata": {},
     "output_type": "execute_result"
    }
   ],
   "source": [
    "class Solution:\n",
    "    def parseTernary(self, expression: str) -> str:\n",
    "        return self.helper(expression, 0)[0]\n",
    "    \n",
    "    def helper(self, string, i):\n",
    "        if string[i] in ['T', 'F']:\n",
    "            first = string[i]; i+= 1\n",
    "            \n",
    "        elif string[i].isdigit():\n",
    "            first = ''\n",
    "            while i<len(string) and string[i].isdigit():\n",
    "                first += string[i]\n",
    "                i += 1\n",
    "        \n",
    "        if i == len(string) or string[i] != '?':\n",
    "            return first, i+1\n",
    "        \n",
    "        second, i = self.helper(string, i+1)\n",
    "        third, i = self.helper(string, i)\n",
    "        \n",
    "        return (second, i) if first == 'T' else (third, i)\n",
    "        \n",
    "Solution().parseTernary(\"T?T?F:5:3\")"
   ]
  },
  {
   "cell_type": "markdown",
   "metadata": {},
   "source": [
    "### Mini Parser\n",
    "\n",
    "Given a nested list of integers represented as a string, implement a parser to deserialize it.\n",
    "\n",
    "Each element is either an integer, or a list -- whose elements may also be integers or other lists.\n",
    "\n",
    "Note: You may assume that the string is well-formed:\n",
    "\n",
    "String is non-empty.\n",
    "String does not contain white spaces.\n",
    "String contains only digits 0-9, [, - ,, ]."
   ]
  },
  {
   "cell_type": "code",
   "execution_count": 22,
   "metadata": {},
   "outputs": [
    {
     "data": {
      "text/plain": [
       "[123, [456, [789]]]"
      ]
     },
     "execution_count": 22,
     "metadata": {},
     "output_type": "execute_result"
    }
   ],
   "source": [
    "class Solution:\n",
    "    def parser(self, string):\n",
    "        if string[0] != '[':\n",
    "            return int(string)\n",
    "        return self.helper(string, 1)[0]\n",
    "    \n",
    "    def helper(self, string, i):\n",
    "        my_list = []; num = ''\n",
    "        while i<len(string):\n",
    "            \n",
    "            if string[i] == '-':\n",
    "                num += '-'\n",
    "                i += 1\n",
    "            \n",
    "            if string[i].isdigit():\n",
    "                num += string[i]\n",
    "                i += 1\n",
    "            \n",
    "            elif string[i] == ',':\n",
    "                if num:\n",
    "                    my_list.append(int(num))\n",
    "                    num = ''\n",
    "                i += 1\n",
    "            \n",
    "            elif string[i] == '[':\n",
    "                new_list, i = self.helper(string, i+1)\n",
    "                my_list.append(new_list)\n",
    "            \n",
    "            else:\n",
    "                if num:\n",
    "                    my_list.append(int(num))\n",
    "                    num = ''\n",
    "                return my_list, i+1\n",
    "\n",
    "Solution().parser(string = \"[123,[456,[789]]]\")"
   ]
  },
  {
   "cell_type": "markdown",
   "metadata": {},
   "source": [
    "### String Compression II\n",
    "\n",
    "Run-length encoding is a string compression method that works by replacing consecutive identical characters (repeated 2 or more times) with the concatenation of the character and the number marking the count of the characters (length of the run). For example, to compress the string \"aabccc\" we replace \"aa\" by \"a2\" and replace \"ccc\" by \"c3\". Thus the compressed string becomes \"a2bc3\".\n",
    "\n",
    "Notice that in this problem, we are not adding '1' after single characters.\n",
    "\n",
    "Given a string s and an integer k. You need to delete at most k characters from s such that the run-length encoded version of s has minimum length.\n",
    "\n",
    "Find the minimum length of the run-length encoded version of s after deleting at most k characters."
   ]
  },
  {
   "cell_type": "code",
   "execution_count": 23,
   "metadata": {},
   "outputs": [
    {
     "data": {
      "text/plain": [
       "4"
      ]
     },
     "execution_count": 23,
     "metadata": {},
     "output_type": "execute_result"
    }
   ],
   "source": [
    "class Solution:\n",
    "    def getLengthOfOptimalCompression(self, s: str, k: int) -> int:\n",
    "        self.memo = {}\n",
    "        return self.helper(0, 0, '', s, k)\n",
    "    \n",
    "    def helper(self, i, last_count, last_ch, s, k):\n",
    "        if i == len(s):\n",
    "            length_count = len(str(last_count)) if last_count > 1 else 0\n",
    "            length_ch = len(last_ch)\n",
    "            return length_count + length_ch\n",
    "        \n",
    "        if (i, last_count, last_ch, k) in self.memo:\n",
    "            return self.memo[(i, last_count, last_ch, k)]\n",
    "        \n",
    "        delete = float('inf')\n",
    "        if k>0:\n",
    "            delete = self.helper(i+1, last_count, last_ch, s, k-1)\n",
    "        \n",
    "        if s[i] == last_ch:\n",
    "            no_delete = self.helper(i+1, last_count+1, last_ch, s, k)\n",
    "        else:\n",
    "            length_count = len(str(last_count)) if last_count > 1 else 0\n",
    "            length_ch = len(last_ch)\n",
    "            no_delete = length_count + length_ch + self.helper(i+1, 1, s[i], s, k)\n",
    "        \n",
    "        res = min(delete, no_delete)\n",
    "        self.memo[(i, last_count, last_ch, k)] = res\n",
    "        return res\n",
    "    \n",
    "Solution().getLengthOfOptimalCompression(s = \"aaabcccd\", k = 2)"
   ]
  },
  {
   "cell_type": "markdown",
   "metadata": {},
   "source": [
    "### Find the Minimum Number of Fibonacci Numbers Whose Sum Is K\n",
    "\n",
    "Given the number k, return the minimum number of Fibonacci numbers whose sum is equal to k, whether a Fibonacci number could be used multiple times.\n",
    "\n",
    "The Fibonacci numbers are defined as:\n",
    "\n",
    "* F1 = 1\n",
    "* F2 = 1\n",
    "* Fn = Fn-1 + Fn-2 , for n > 2.\n",
    "It is guaranteed that for the given constraints we can always find such fibonacci numbers that sum k."
   ]
  },
  {
   "cell_type": "code",
   "execution_count": 27,
   "metadata": {},
   "outputs": [
    {
     "data": {
      "text/plain": [
       "3"
      ]
     },
     "execution_count": 27,
     "metadata": {},
     "output_type": "execute_result"
    }
   ],
   "source": [
    "class Solution:\n",
    "    def findMinFibonacciNumbers(self, k: int) -> int:\n",
    "        if k < 2:\n",
    "            return k\n",
    "        num = 0; first = second = 1\n",
    "        while num <= k:\n",
    "            num = first + second\n",
    "            second = first\n",
    "            first = num\n",
    "        \n",
    "#         print(num, first, second)\n",
    "        \n",
    "        return self.findMinFibonacciNumbers(k-second) + 1\n",
    "Solution().findMinFibonacciNumbers(25)"
   ]
  },
  {
   "cell_type": "markdown",
   "metadata": {},
   "source": [
    "### Numbers With Same Consecutive Differences\n",
    "\n",
    "Return all non-negative integers of length N such that the absolute difference between every two consecutive digits is K.\n",
    "\n",
    "Note that every number in the answer must not have leading zeros except for the number 0 itself. For example, 01 has one leading zero and is invalid, but 0 is valid.\n",
    "\n",
    "You may return the answer in any order."
   ]
  },
  {
   "cell_type": "code",
   "execution_count": 30,
   "metadata": {},
   "outputs": [
    {
     "data": {
      "text/plain": [
       "[181, 292, 707, 818, 929]"
      ]
     },
     "execution_count": 30,
     "metadata": {},
     "output_type": "execute_result"
    }
   ],
   "source": [
    "class Solution:\n",
    "    def numsSameConsecDiff(self, N: int, K: int):\n",
    "        if N == 1:\n",
    "            return list(range(10))\n",
    "        self.res = []\n",
    "        for i in range(1, 10):\n",
    "            self.helper(str(i), N-1, K)\n",
    "        return self.res\n",
    "\n",
    "    def helper(self, string, n, k):\n",
    "        if n == 0:\n",
    "            self.res.append(int(string))\n",
    "            return\n",
    "        \n",
    "        last_num = int(string[-1])\n",
    "        cand1 = last_num + k\n",
    "        cand2 = last_num - k\n",
    "        \n",
    "        if 0<=cand1<=9:\n",
    "            self.helper(string+str(cand1), n-1, k)\n",
    "        \n",
    "        if 0<=cand2<=9 and cand2 != cand1:\n",
    "            self.helper(string+str(cand2), n-1, k)\n",
    "            \n",
    "Solution().numsSameConsecDiff(N = 3, K = 7)        "
   ]
  },
  {
   "cell_type": "markdown",
   "metadata": {},
   "source": [
    "### Zuma Game\n",
    "\n",
    "Think about Zuma Game. You have a row of balls on the table, colored red(R), yellow(Y), blue(B), green(G), and white(W). You also have several balls in your hand.\n",
    "\n",
    "Each time, you may choose a ball in your hand, and insert it into the row (including the leftmost place and rightmost place). Then, if there is a group of 3 or more balls in the same color touching, remove these balls. Keep doing this until no more balls can be removed.\n",
    "\n",
    "Find the minimal balls you have to insert to remove all the balls on the table. If you cannot remove all the balls, output -1."
   ]
  },
  {
   "cell_type": "code",
   "execution_count": 33,
   "metadata": {},
   "outputs": [
    {
     "data": {
      "text/plain": [
       "3"
      ]
     },
     "execution_count": 33,
     "metadata": {},
     "output_type": "execute_result"
    }
   ],
   "source": [
    "class Solution:\n",
    "    _memo = {}\n",
    "    def findMinStep(self, board: str, hand: str) -> int:\n",
    "        self.memo = self._memo\n",
    "        res = self.helper(board, hand)\n",
    "        return res if res != float('inf') else -1\n",
    "    \n",
    "    def helper(self, board, hand):\n",
    "        if (board, hand) in self.memo:\n",
    "            return self.memo[(board, hand)]\n",
    "        \n",
    "        board = self.process(board)\n",
    "        if not board:\n",
    "            return 0\n",
    "        \n",
    "        if not hand:\n",
    "            return float('inf')\n",
    "        \n",
    "        res = float('inf')\n",
    "        \n",
    "        for i in range(len(hand)):\n",
    "            ch = hand[i]\n",
    "            new_hand = hand[:i] + hand[i+1:]\n",
    "            for j in range(len(board)):\n",
    "                new_board = board[:j] + ch + board[j:]\n",
    "                res = min(res, 1 + self.helper(new_board, new_hand))\n",
    "        \n",
    "        self.memo[(board, hand)] = res\n",
    "        return res\n",
    "            \n",
    "    def process(self, board):\n",
    "        i = 0\n",
    "        while i < len(board):\n",
    "            start = i\n",
    "            ch = board[i]\n",
    "            while i<len(board) and board[i] == ch:\n",
    "                i += 1\n",
    "            end = i-1\n",
    "            if end - start + 1 >= 3:\n",
    "                return self.process(board[:start] + board[end+1:])\n",
    "        return board\n",
    "                \n",
    "\n",
    "Solution().findMinStep(board = \"RBYYBBRRB\", hand = \"YRBGB\")"
   ]
  },
  {
   "cell_type": "markdown",
   "metadata": {},
   "source": [
    "### Number of Atoms\n",
    "\n",
    "Given a chemical formula (given as a string), return the count of each atom.\n",
    "\n",
    "An atomic element always starts with an uppercase character, then zero or more lowercase letters, representing the name.\n",
    "\n",
    "1 or more digits representing the count of that element may follow if the count is greater than 1. If the count is 1, no digits will follow. For example, H2O and H2O2 are possible, but H1O2 is impossible.\n",
    "\n",
    "Two formulas concatenated together produce another formula. For example, H2O2He3Mg4 is also a formula.\n",
    "\n",
    "A formula placed in parentheses, and a count (optionally added) is also a formula. For example, (H2O2) and (H2O2)3 are formulas.\n",
    "\n",
    "Given a formula, output the count of all elements as a string in the following form: the first name (in sorted order), followed by its count (if that count is more than 1), followed by the second name (in sorted order), followed by its count (if that count is more than 1), and so on."
   ]
  },
  {
   "cell_type": "code",
   "execution_count": 35,
   "metadata": {},
   "outputs": [
    {
     "data": {
      "text/plain": [
       "'K4N2O14S4'"
      ]
     },
     "execution_count": 35,
     "metadata": {},
     "output_type": "execute_result"
    }
   ],
   "source": [
    "from collections import Counter\n",
    "class Solution:\n",
    "    def countOfAtoms(self, formula: str) -> str:\n",
    "        freq = self.helper(formula, len(formula)-1)\n",
    "        keys = freq.keys()\n",
    "        string = ''\n",
    "        for elem in sorted(keys):\n",
    "            string += elem + (str(freq[elem]) if freq[elem] > 1 else '')\n",
    "        return string\n",
    "    \n",
    "    def helper(self, s, i):\n",
    "        freq = Counter()\n",
    "        count = ''\n",
    "        while i>=0:\n",
    "            if s[i].isdigit():\n",
    "                count = s[i]+count\n",
    "                i -= 1\n",
    "                \n",
    "            elif s[i].islower():\n",
    "                end = i\n",
    "                while s[i].islower():\n",
    "                    i -= 1\n",
    "                elem = s[i:end+1]\n",
    "                int_count = 1 if count == '' else int(count)\n",
    "                freq[elem] += int_count\n",
    "                count = ''\n",
    "                i -= 1\n",
    "            \n",
    "            elif s[i].isupper():\n",
    "                elem = s[i]\n",
    "                int_count = 1 if count == '' else int(count)\n",
    "                freq[elem] += int_count\n",
    "                count = ''\n",
    "                i -= 1\n",
    "            \n",
    "            elif s[i] == ')':\n",
    "                new_freq, i = self.helper(s, i-1)\n",
    "                int_count = 1 if count == '' else int(count)\n",
    "                for elem in new_freq:\n",
    "                    new_freq[elem] = new_freq[elem]*int_count\n",
    "                freq += new_freq\n",
    "                count = ''\n",
    "                \n",
    "            else:\n",
    "                return freq, i-1\n",
    "            \n",
    "        return freq\n",
    "            \n",
    "Solution().countOfAtoms(\"K4(ON(SO3)2)2\")      "
   ]
  }
 ],
 "metadata": {
  "kernelspec": {
   "display_name": "Python 3",
   "language": "python",
   "name": "python3"
  },
  "language_info": {
   "codemirror_mode": {
    "name": "ipython",
    "version": 3
   },
   "file_extension": ".py",
   "mimetype": "text/x-python",
   "name": "python",
   "nbconvert_exporter": "python",
   "pygments_lexer": "ipython3",
   "version": "3.8.3"
  }
 },
 "nbformat": 4,
 "nbformat_minor": 2
}
