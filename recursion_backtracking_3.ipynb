{
 "cells": [
  {
   "cell_type": "markdown",
   "metadata": {},
   "source": [
    "### Sudoku Solver\n",
    "Write a program to solve a Sudoku puzzle by filling the empty cells.\n",
    "\n",
    "A sudoku solution must satisfy all of the following rules:\n",
    "\n",
    "*  Each of the digits 1-9 must occur exactly once in each row.\n",
    "* Each of the digits 1-9 must occur exactly once in each column.\n",
    "* Each of the the digits 1-9 must occur exactly once in each of the 9 3x3 sub-boxes of the grid.\n",
    "* Empty cells are indicated by the character '.'."
   ]
  },
  {
   "cell_type": "code",
   "execution_count": 2,
   "metadata": {},
   "outputs": [
    {
     "data": {
      "text/plain": [
       "[['5', '3', '4', '6', '7', '8', '9', '1', '2'],\n",
       " ['6', '7', '2', '1', '9', '5', '3', '4', '8'],\n",
       " ['1', '9', '8', '3', '4', '2', '5', '6', '7'],\n",
       " ['8', '5', '9', '7', '6', '1', '4', '2', '3'],\n",
       " ['4', '2', '6', '8', '5', '3', '7', '9', '1'],\n",
       " ['7', '1', '3', '9', '2', '4', '8', '5', '6'],\n",
       " ['9', '6', '1', '5', '3', '7', '2', '8', '4'],\n",
       " ['2', '8', '7', '4', '1', '9', '6', '3', '5'],\n",
       " ['3', '4', '5', '2', '8', '6', '1', '7', '9']]"
      ]
     },
     "execution_count": 2,
     "metadata": {},
     "output_type": "execute_result"
    }
   ],
   "source": [
    "class Solution:\n",
    "    def solveSudoku(self, board) -> None:\n",
    "        seen = set()\n",
    "        for i in range(len(board)):\n",
    "            for j in range(len(board)):\n",
    "                if board[i][j] == '.':\n",
    "                    continue\n",
    "                val = board[i][j]\n",
    "                seen.add((i, val)); seen.add((val, j)); seen.add((i//3, j//3, val))\n",
    "        \n",
    "        self.helper(0, 0, board, seen)\n",
    "    \n",
    "    def helper(self, row, col, board, seen):\n",
    "        if row == 9:\n",
    "            return True\n",
    "        \n",
    "        if col == 9:\n",
    "            return self.helper(row+1, 0, board, seen)\n",
    "        \n",
    "        if board[row][col] != '.':\n",
    "            return self.helper(row, col+1, board, seen)\n",
    "        \n",
    "        for val in range(1, 10):\n",
    "            if self.isValid(seen, row, col, str(val)):\n",
    "                n = str(val)\n",
    "                seen.add((row, n)); seen.add((n, col)); seen.add((row//3, col//3, n))\n",
    "                board[row][col] = n\n",
    "                \n",
    "                if self.helper(row, col+1, board, seen):\n",
    "                    return True\n",
    "                \n",
    "                board[row][col] = '.'\n",
    "                seen.remove((row, n)); seen.remove((n ,col)); seen.remove((row//3, col//3, n))\n",
    "                \n",
    "        return False\n",
    "    \n",
    "    def isValid(self, seen, i, j, val):\n",
    "        if (i, val) in seen or (val, j) in seen or (i//3, j//3, val) in seen:\n",
    "            return False\n",
    "        return True\n",
    "\n",
    "board = [[\"5\",\"3\",\".\",\".\",\"7\",\".\",\".\",\".\",\".\"],\n",
    "         [\"6\",\".\",\".\",\"1\",\"9\",\"5\",\".\",\".\",\".\"],\n",
    "         [\".\",\"9\",\"8\",\".\",\".\",\".\",\".\",\"6\",\".\"],\n",
    "         [\"8\",\".\",\".\",\".\",\"6\",\".\",\".\",\".\",\"3\"],\n",
    "         [\"4\",\".\",\".\",\"8\",\".\",\"3\",\".\",\".\",\"1\"],\n",
    "         [\"7\",\".\",\".\",\".\",\"2\",\".\",\".\",\".\",\"6\"],\n",
    "         [\".\",\"6\",\".\",\".\",\".\",\".\",\"2\",\"8\",\".\"],\n",
    "         [\".\",\".\",\".\",\"4\",\"1\",\"9\",\".\",\".\",\"5\"],\n",
    "         [\".\",\".\",\".\",\".\",\"8\",\".\",\".\",\"7\",\"9\"]]\n",
    "\n",
    "Solution().solveSudoku(board)\n",
    "board"
   ]
  },
  {
   "cell_type": "markdown",
   "metadata": {},
   "source": [
    "### Paint House III\n",
    "There is a row of m houses in a small city, each house must be painted with one of the n colors (labeled from 1 to n), some houses that has been painted last summer should not be painted again.\n",
    "\n",
    "A neighborhood is a maximal group of continuous houses that are painted with the same color. (For example: houses = [1,2,2,3,3,2,1,1] contains 5 neighborhoods  [{1}, {2,2}, {3,3}, {2}, {1,1}]).\n",
    "\n",
    "Given an array houses, an m * n matrix cost and an integer target where:\n",
    "\n",
    "* houses[i]: is the color of the house i, 0 if the house is not painted yet.\n",
    "* cost[i][j]: is the cost of paint the house i with the color j+1.\n",
    "\n",
    "\n",
    "Return the minimum cost of painting all the remaining houses in such a way that there are exactly target * neighborhoods, if not possible return -1."
   ]
  },
  {
   "cell_type": "code",
   "execution_count": 6,
   "metadata": {},
   "outputs": [
    {
     "data": {
      "text/plain": [
       "11"
      ]
     },
     "execution_count": 6,
     "metadata": {},
     "output_type": "execute_result"
    }
   ],
   "source": [
    "class Solution:\n",
    "    def minCost(self, houses, cost, m: int, n: int, target: int) -> int:\n",
    "        self.memo = {}\n",
    "        res = self.helper(houses, cost, m, n, target, 0, -1, 0)\n",
    "        return res if res != float('inf') else -1\n",
    "    \n",
    "    def helper(self, houses, cost, m, n, target, i, last_clr, k):\n",
    "        if i == m:\n",
    "            if k == target:\n",
    "                return 0\n",
    "            return float('inf')\n",
    "        \n",
    "        if k > target:\n",
    "            return float('inf')\n",
    "        \n",
    "        if (i, last_clr, k) in self.memo:\n",
    "            return self.memo[(i, last_clr, k)]\n",
    "        \n",
    "        res = float('inf')\n",
    "        if houses[i] != 0:\n",
    "            new_k = k if last_clr == houses[i] else k+1\n",
    "            res = self.helper(houses, cost, m, n, target, i+1, houses[i], new_k)\n",
    "\n",
    "        else:\n",
    "            for clr in range(1, n+1):\n",
    "                new_k = k if last_clr == clr else k+1\n",
    "                res = min(res, cost[i][clr-1] + self.helper(houses, cost, m, n, target, i+1, clr, new_k))\n",
    "        \n",
    "        self.memo[(i, last_clr, k)] = res\n",
    "        return res\n",
    "\n",
    "houses = [0,2,1,2,0]; cost = [[1,10],[10,1],[10,1],[1,10],[5,1]]; m = 5; n = 2; target = 3\n",
    "Solution().minCost(houses, cost, m, n, target)"
   ]
  },
  {
   "cell_type": "markdown",
   "metadata": {},
   "source": [
    "### Largest Divisible Subset\n",
    "Given a set of distinct positive integers, find the largest subset such that every pair (Si, Sj) of elements in this subset satisfies:\n",
    "\n",
    "Si % Sj = 0 or Sj % Si = 0.\n",
    "\n",
    "If there are multiple solutions, return any subset is fine."
   ]
  },
  {
   "cell_type": "code",
   "execution_count": 10,
   "metadata": {},
   "outputs": [
    {
     "data": {
      "text/plain": [
       "[1, 2]"
      ]
     },
     "execution_count": 10,
     "metadata": {},
     "output_type": "execute_result"
    }
   ],
   "source": [
    "class Solution:\n",
    "    def largestDivisibleSubset(self, nums):\n",
    "        self.memo = {}; res = []\n",
    "        nums.sort()\n",
    "        for i in range(len(nums)):\n",
    "            arr = self.helper(i, nums)\n",
    "            if len(arr) > len(res):\n",
    "                res = arr\n",
    "        return res\n",
    "    \n",
    "    def helper(self, i, nums):\n",
    "        if i in self.memo:\n",
    "            return self.memo[i]\n",
    "        \n",
    "        res = [nums[i]]\n",
    "        for j in range(i+1, len(nums)):\n",
    "            if nums[j] % nums[i] == 0:\n",
    "                arr = [nums[i]] + self.helper(j, nums)\n",
    "                if len(arr) > len(res):\n",
    "                    res = arr\n",
    "        \n",
    "        self.memo[i] = res\n",
    "        return res\n",
    "\n",
    "Solution().largestDivisibleSubset([1,2,3])"
   ]
  },
  {
   "cell_type": "markdown",
   "metadata": {},
   "source": [
    "### Number of Ways to Paint N × 3 Grid\n",
    "\n",
    "You have a grid of size n x 3 and you want to paint each cell of the grid with exactly one of the three colours: Red, Yellow or Green while making sure that no two adjacent cells have the same colour (i.e no two cells that share vertical or horizontal sides have the same colour).\n",
    "\n",
    "You are given n the number of rows of the grid.\n",
    "\n",
    "Return the number of ways you can paint this grid. As the answer may grow large, the answer must be computed modulo 10^9 + 7."
   ]
  },
  {
   "cell_type": "code",
   "execution_count": 13,
   "metadata": {},
   "outputs": [
    {
     "data": {
      "text/plain": [
       "106494"
      ]
     },
     "execution_count": 13,
     "metadata": {},
     "output_type": "execute_result"
    }
   ],
   "source": [
    "class Solution:\n",
    "    _memo = {}\n",
    "    colors = [0,1,2]; _triples = []\n",
    "    for c1 in colors:\n",
    "        for c2 in colors:\n",
    "            for c3 in colors:\n",
    "                if c1 != c2 and c2 != c3:\n",
    "                    _triples.append((c1, c2, c3))\n",
    "                        \n",
    "    def numOfWays(self, n: int) -> int:\n",
    "        self.mod = (10**9) + 7\n",
    "        self.memo = self._memo\n",
    "        triples = self._triples\n",
    "        return self.helper(n, -1, -1, -1, triples)\n",
    "    \n",
    "    def helper(self, n, c1, c2, c3, triples):\n",
    "        if n == 0:\n",
    "            return 1\n",
    "        \n",
    "        if (n, c1, c2, c3) in self.memo:\n",
    "            return self.memo[(n, c1, c2, c3)]\n",
    "        \n",
    "        res = 0\n",
    "        for nc1, nc2, nc3 in triples:\n",
    "            if nc1 != c1 and nc2 != c2 and nc3 != c3:\n",
    "                res += self.helper(n-1, nc1, nc2, nc3, triples)\n",
    "        \n",
    "        res = res % self.mod\n",
    "        self.memo[(n, c1, c2, c3)] = res\n",
    "        return res\n",
    "    \n",
    "Solution().numOfWays(7)"
   ]
  },
  {
   "cell_type": "markdown",
   "metadata": {},
   "source": [
    "### Number of Ways to Wear Different Hats to Each Other\n",
    "\n",
    "There are n people and 40 types of hats labeled from 1 to 40.\n",
    "\n",
    "Given a list of list of integers hats, where hats[i] is a list of all hats preferred by the i-th person.\n",
    "\n",
    "Return the number of ways that the n people wear different hats to each other.\n",
    "\n",
    "Since the answer may be too large, return it modulo 10^9 + 7.\n",
    "\n",
    "Constraints:\n",
    "* n == hats.length\n",
    "* 1 <= n <= 10\n",
    "* 1 <= hats[i].length <= 40\n",
    "* 1 <= hats[i][j] <= 40\n",
    "* hats[i] contains a list of unique integers."
   ]
  },
  {
   "cell_type": "code",
   "execution_count": 16,
   "metadata": {},
   "outputs": [
    {
     "data": {
      "text/plain": [
       "111"
      ]
     },
     "execution_count": 16,
     "metadata": {},
     "output_type": "execute_result"
    }
   ],
   "source": [
    "from collections import defaultdict\n",
    "class Solution:\n",
    "    def numberWays(self, hats) -> int:\n",
    "        pref = defaultdict(list)\n",
    "        for i in range(len(hats)):\n",
    "            for h in hats[i]:\n",
    "                pref[h].append(i)\n",
    "        \n",
    "        self.memo = {}; self.mod = 10**9 + 7\n",
    "        n = len(hats)\n",
    "        return self.helper(pref, (2**n)-1, 1, 0)\n",
    "    \n",
    "    def helper(self, pref, target, hat, hashcode):\n",
    "        if hashcode == target:\n",
    "            return 1\n",
    "        \n",
    "        if hat > 40:\n",
    "            return 0\n",
    "        \n",
    "        if (hat, hashcode) in self.memo:\n",
    "            return self.memo[(hat, hashcode)]\n",
    "        \n",
    "        res = self.helper(pref, target, hat+1, hashcode)\n",
    "        for i in pref[hat]:\n",
    "            if hashcode >> i & 1 == 0:\n",
    "                res += self.helper(pref, target, hat+1, hashcode|1<<i)\n",
    "        \n",
    "        res = res % self.mod\n",
    "        self.memo[(hat, hashcode)] = res\n",
    "        return res\n",
    "        \n",
    "        \n",
    "hats = [[1,2,3],[2,3,5,6],[1,3,7,9],[1,8,9],[2,5,7]]\n",
    "Solution().numberWays(hats)"
   ]
  },
  {
   "cell_type": "markdown",
   "metadata": {},
   "source": [
    "### Allocate Mailboxes\n",
    "Given the array houses and an integer k. where houses[i] is the location of the ith house along a street, your task is to allocate k mailboxes in the street.\n",
    "\n",
    "Return the minimum total distance between each house and its nearest mailbox.\n",
    "\n",
    "The answer is guaranteed to fit in a 32-bit signed integer."
   ]
  },
  {
   "cell_type": "code",
   "execution_count": 19,
   "metadata": {},
   "outputs": [
    {
     "data": {
      "text/plain": [
       "9"
      ]
     },
     "execution_count": 19,
     "metadata": {},
     "output_type": "execute_result"
    }
   ],
   "source": [
    "class Solution:\n",
    "    def minDistance(self, houses, k: int) -> int:\n",
    "        cost = {}\n",
    "        houses.sort()\n",
    "        for i in range(len(houses)):\n",
    "            for j in range(i, len(houses)):\n",
    "                total = 0\n",
    "                left = i; right = j\n",
    "                while left < right:\n",
    "                    total += houses[right] - houses[left]\n",
    "                    left += 1; right -= 1\n",
    "                cost[(i,j)] = total\n",
    "        \n",
    "        self.memo = {}\n",
    "        return self.helper(0, houses, k, cost)\n",
    "    \n",
    "    def helper(self, i, houses, k, cost):\n",
    "        if i == len(houses) and k == 0:\n",
    "            return 0\n",
    "        \n",
    "        if i == len(houses) or k == 0:\n",
    "            return float('inf')\n",
    "        \n",
    "        if (i, k) in self.memo:\n",
    "            return self.memo[(i,k)]\n",
    "        \n",
    "        res = float('inf')\n",
    "        for j in range(i, len(houses)):\n",
    "            res = min(res, cost[(i, j)] + self.helper(j+1, houses, k-1, cost))\n",
    "            \n",
    "        self.memo[(i, k)] = res\n",
    "        return res\n",
    "\n",
    "        \n",
    "houses = [2,3,5,12,18]; k = 2 \n",
    "Solution().minDistance(houses, k)"
   ]
  },
  {
   "cell_type": "markdown",
   "metadata": {},
   "source": [
    "### Smallest Sufficient Team\n",
    "\n",
    "In a project, you have a list of required skills req_skills, and a list of people.  The i-th person people[i] contains a list of skills that person has.\n",
    "\n",
    "Consider a sufficient team: a set of people such that for every required skill in req_skills, there is at least one person in the team who has that skill.  We can represent these teams by the index of each person: for example, team = [0, 1, 3] represents the people with skills people[0], people[1], and people[3].\n",
    "\n",
    "Return any sufficient team of the smallest possible size, represented by the index of each person.\n",
    "\n",
    "You may return the answer in any order.  It is guaranteed an answer exists.\n",
    "\n",
    "* 1 <= req_skills.length <= 16\n",
    "* 1 <= people.length <= 60\n",
    "* 1 <= people[i].length, req_skills[i].length, people[i][j].length <= 16\n",
    "* Elements of req_skills and people[i] are (respectively) distinct.\n",
    "* req_skills[i][j], people[i][j][k] are lowercase English letters.\n",
    "* Every skill in people[i] is a skill in req_skills.\n",
    "* It is guaranteed a sufficient team exists."
   ]
  },
  {
   "cell_type": "code",
   "execution_count": 25,
   "metadata": {},
   "outputs": [
    {
     "data": {
      "text/plain": [
       "[1, 2]"
      ]
     },
     "execution_count": 25,
     "metadata": {},
     "output_type": "execute_result"
    }
   ],
   "source": [
    "class Solution:\n",
    "    def smallestSufficientTeam(self, req_skills, people):\n",
    "        skills = {s:i for i, s in enumerate(req_skills)}\n",
    "        hashcode = 0; req_hashcode = 2**len(req_skills)-1\n",
    "        self.memo = {}\n",
    "        self.empty = [-1]*61\n",
    "        return self.helper(0, people, skills, hashcode,  req_hashcode)\n",
    "    \n",
    "    def helper(self, i, people, skills, hashcode, req_hashcode):\n",
    "        if hashcode == req_hashcode:\n",
    "            return []\n",
    "        \n",
    "        if i == len(people):\n",
    "            return self.empty\n",
    "        \n",
    "        if (i, hashcode) in self.memo:\n",
    "            return self.memo[(i, hashcode)]\n",
    "        \n",
    "        new_hash = hashcode\n",
    "        for s in people[i]:\n",
    "            new_hash = new_hash | 1 << skills[s]\n",
    "        \n",
    "        take = [i] + self.helper(i+1, people, skills, new_hash, req_hashcode)\n",
    "        no_take = self.helper(i+1, people, skills, hashcode, req_hashcode)\n",
    "        \n",
    "        if len(take) < len(no_take):\n",
    "            res = take\n",
    "        else:\n",
    "            res = no_take\n",
    "        \n",
    "        self.memo[(i, hashcode)] = res\n",
    "        return res\n",
    "\n",
    "req_skills = [\"algorithms\",\"math\",\"java\",\"reactjs\",\"csharp\",\"aws\"]\n",
    "people = [[\"algorithms\",\"math\",\"java\"],[\"algorithms\",\"math\",\"reactjs\"],\n",
    "          [\"java\",\"csharp\",\"aws\"],[\"reactjs\",\"csharp\"],[\"csharp\",\"math\"],[\"aws\",\"java\"]]\n",
    "\n",
    "Solution().smallestSufficientTeam(req_skills, people)"
   ]
  },
  {
   "cell_type": "markdown",
   "metadata": {},
   "source": [
    "### Cracking the Safe\n",
    "\n",
    "There is a box protected by a password. The password is a sequence of n digits where each digit can be one of the first k digits 0, 1, ..., k-1.\n",
    "\n",
    "While entering a password, the last n digits entered will automatically be matched against the correct password.\n",
    "\n",
    "For example, assuming the correct password is \"345\", if you type \"012345\", the box will open because the correct password matches the suffix of the entered password.\n",
    "\n",
    "Return any password of minimum length that is guaranteed to open the box at some point of entering it."
   ]
  },
  {
   "cell_type": "code",
   "execution_count": 3,
   "metadata": {},
   "outputs": [
    {
     "data": {
      "text/plain": [
       "'00102031121322330'"
      ]
     },
     "execution_count": 3,
     "metadata": {},
     "output_type": "execute_result"
    }
   ],
   "source": [
    "class Solution:\n",
    "    def crackSafe(self, n: int, k: int) -> str:\n",
    "        string = '0'*n\n",
    "        target_num = k**n\n",
    "        seen = {string}\n",
    "        res = [string]\n",
    "        self.helper(string, seen, res, target_num, k)\n",
    "        return ''.join(res)\n",
    "    \n",
    "    def helper(self, string, seen, res, target_num, k):\n",
    "        if len(res) == target_num:\n",
    "            return True\n",
    "        \n",
    "        for num in range(k):\n",
    "            new_str = string[1:] + str(num)\n",
    "            if new_str not in seen:\n",
    "                seen.add(new_str)\n",
    "                res.append(str(num))\n",
    "                \n",
    "                if self.helper(new_str, seen, res, target_num, k):\n",
    "                    return True\n",
    "                \n",
    "                res.pop()\n",
    "                seen.remove(new_str)\n",
    "        \n",
    "        return False\n",
    "        \n",
    "Solution().crackSafe(2, 4)"
   ]
  },
  {
   "cell_type": "markdown",
   "metadata": {},
   "source": [
    "### Rod Cutting Problem\n",
    "You are given a rod of length n meters. You want to sell the rod and earn revenue. You can cut the rod into multiple smaller pieces of sizes 11 through nn and sell them too. You are given the price of each size of the rod. Since you want to earn more, you will have to look for the optimal cuts on the rod that would earn the most revenue."
   ]
  },
  {
   "cell_type": "code",
   "execution_count": 5,
   "metadata": {},
   "outputs": [
    {
     "data": {
      "text/plain": [
       "4"
      ]
     },
     "execution_count": 5,
     "metadata": {},
     "output_type": "execute_result"
    }
   ],
   "source": [
    "class Solution:\n",
    "    def rodCutting(self, n, prices):\n",
    "        self.memo = {}\n",
    "        return self.helper(n, prices)\n",
    "    \n",
    "    def helper(self, n, prices):\n",
    "        if n == 0:\n",
    "            return 0\n",
    "        \n",
    "        if n in self.memo:\n",
    "            return self.memo[n]\n",
    "        \n",
    "        res = 0\n",
    "        for i in range(len(prices)):\n",
    "            length, price = i+1, prices[i]\n",
    "            if length <= n:\n",
    "                res = max(res, price + self.helper(n-length, prices))\n",
    "        \n",
    "        self.memo[n] = res\n",
    "        return res\n",
    "\n",
    "Solution().rodCutting(3,[1, 2, 4])"
   ]
  },
  {
   "cell_type": "markdown",
   "metadata": {},
   "source": [
    "###  Integer Break\n",
    "Given a positive integer n, break it into the sum of at least two positive integers and maximize the product of those integers. Return the maximum product you can get."
   ]
  },
  {
   "cell_type": "code",
   "execution_count": 15,
   "metadata": {},
   "outputs": [
    {
     "data": {
      "text/plain": [
       "1458"
      ]
     },
     "execution_count": 15,
     "metadata": {},
     "output_type": "execute_result"
    }
   ],
   "source": [
    "class Solution:\n",
    "    _memo = {}\n",
    "    def integerBreak(self, n: int) -> int:\n",
    "        if n <= 3:\n",
    "            return n-1\n",
    "        self.memo = self._memo\n",
    "        return self.helper(n)\n",
    "    \n",
    "    def helper(self, n):\n",
    "        if n == 0:\n",
    "            return 1\n",
    "        \n",
    "        if n in self.memo:\n",
    "            return self.memo[n]\n",
    "        \n",
    "        res = 0\n",
    "        for i in range(1, n+1):\n",
    "            if i <= n:\n",
    "                res = max(res, i*self.helper(n-i))\n",
    "            else:\n",
    "                break\n",
    "        \n",
    "        self.memo[n] = res\n",
    "        return res\n",
    "\n",
    "Solution().integerBreak(20)"
   ]
  },
  {
   "cell_type": "markdown",
   "metadata": {},
   "source": [
    "### Confusing Number II\n",
    "We can rotate digits by 180 degrees to form new digits. When 0, 1, 6, 8, 9 are rotated 180 degrees, they become 0, 1, 9, 8, 6 respectively. When 2, 3, 4, 5 and 7 are rotated 180 degrees, they become invalid.\n",
    "\n",
    "A confusing number is a number that when rotated 180 degrees becomes a different number with each digit valid.(Note that the rotated number can be greater than the original number.)\n",
    "\n",
    "Given a positive integer N, return the number of confusing numbers between 1 and N inclusive."
   ]
  },
  {
   "cell_type": "code",
   "execution_count": 2,
   "metadata": {},
   "outputs": [
    {
     "data": {
      "text/plain": [
       "22"
      ]
     },
     "execution_count": 2,
     "metadata": {},
     "output_type": "execute_result"
    }
   ],
   "source": [
    "class Solution:\n",
    "    def confusingNumberII(self, N: int) -> int:\n",
    "        self.res = 0\n",
    "        self.d = {'0':'0', '1':'1', '6':'9', '8':'8', '9':'6'}\n",
    "        for ch in ['1', '6', '8', '9']:\n",
    "            self.helper(ch, self.d[ch], N)\n",
    "        return self.res\n",
    "    \n",
    "    def helper(self, string, rotation, N):\n",
    "        if int(string) > N:\n",
    "            return\n",
    "        if string != rotation:\n",
    "            self.res += 1\n",
    "        for ch in ['0', '1', '6', '8', '9']:\n",
    "            self.helper(string+ch, self.d[ch]+rotation, N)\n",
    "    \n",
    "    \n",
    "Solution().confusingNumberII(109)"
   ]
  },
  {
   "cell_type": "markdown",
   "metadata": {},
   "source": [
    "### Regular Expression Matching\n",
    "\n",
    "Given an input string (s) and a pattern (p), implement regular expression matching with support for '.' and '*'.\n",
    "\n",
    "* '.' Matches any single character.\n",
    "* '*' Matches zero or more of the preceding element.\n",
    "The matching should cover the entire input string (not partial).\n",
    "\n",
    "Note:\n",
    "\n",
    "* s could be empty and contains only lowercase letters a-z.\n",
    "* p could be empty and contains only lowercase letters a-z, and characters like . or *."
   ]
  },
  {
   "cell_type": "code",
   "execution_count": 4,
   "metadata": {},
   "outputs": [
    {
     "data": {
      "text/plain": [
       "True"
      ]
     },
     "execution_count": 4,
     "metadata": {},
     "output_type": "execute_result"
    }
   ],
   "source": [
    "class Solution:\n",
    "    def isMatch(self, s: str, p: str) -> bool:\n",
    "        self.memo = {}\n",
    "        return self.helper(s, 0, p, 0)\n",
    "    \n",
    "    def match(self, s, i, p, j):\n",
    "        if i == len(s) or j == len(p):\n",
    "            return False\n",
    "        return p[j] == '.' or s[i] == p[j]\n",
    "    \n",
    "    def helper(self, s, i, p, j):\n",
    "        if i == len(s) and j == len(p):\n",
    "            return True\n",
    "        \n",
    "        if (i,j) in self.memo:\n",
    "            return self.memo[(i,j)]\n",
    "        \n",
    "        if j+1 < len(p) and p[j+1] == '*':\n",
    "            if self.match(s, i, p, j) and (self.helper(s, i+1, p, j) or self.helper(s, i+1, p, j+2)):\n",
    "                self.memo[(i,j)] = True\n",
    "                return True\n",
    "            if self.helper(s, i, p, j+2):\n",
    "                self.memo[(i,j)] = True\n",
    "                return True\n",
    "        \n",
    "        if self.match(s, i, p, j) and self.helper(s, i+1, p, j+1):\n",
    "            self.memo[(i,j)] = True\n",
    "            return True\n",
    "        \n",
    "        self.memo[(i,j)] = False\n",
    "        return False\n",
    "\n",
    "Solution().isMatch(s = \"aab\", p = \"c*a*b\")"
   ]
  },
  {
   "cell_type": "markdown",
   "metadata": {},
   "source": [
    "### Wildcard Matching\n",
    "\n",
    "Given an input string (s) and a pattern (p), implement wildcard pattern matching with support for '?' and '*'.\n",
    "\n",
    "* '?' Matches any single character.\n",
    "* '*' Matches any sequence of characters (including the empty sequence).\n",
    "The matching should cover the entire input string (not partial).\n",
    "\n",
    "Note:\n",
    "* s could be empty and contains only lowercase letters a-z.\n",
    "* p could be empty and contains only lowercase letters a-z, and characters like ? or *."
   ]
  },
  {
   "cell_type": "code",
   "execution_count": 5,
   "metadata": {},
   "outputs": [
    {
     "data": {
      "text/plain": [
       "True"
      ]
     },
     "execution_count": 5,
     "metadata": {},
     "output_type": "execute_result"
    }
   ],
   "source": [
    "class Solution:\n",
    "    def isMatch(self, s: str, p: str) -> bool:\n",
    "        self.memo = {}\n",
    "        return self.helper(s, 0, p, 0)\n",
    "    \n",
    "    def match(self, s, i, p, j):\n",
    "        if i == len(s) or j == len(p):\n",
    "            return False\n",
    "        return p[j] == '?' or p[j] == '*' or s[i] == p[j]\n",
    "    \n",
    "    def helper(self, s, i, p, j):\n",
    "        if i == len(s) and j == len(p):\n",
    "            return True\n",
    "        \n",
    "        if (i,j) in self.memo:\n",
    "            return self.memo[(i,j)]\n",
    "        \n",
    "        if j < len(p) and p[j] == '*':\n",
    "            if self.match(s, i, p, j) and (self.helper(s, i+1, p, j) or self.helper(s, i+1, p, j+1)):\n",
    "                self.memo[(i,j)] = True\n",
    "                return True\n",
    "            if self.helper(s, i, p, j+1):\n",
    "                self.memo[(i,j)] = True\n",
    "                return True\n",
    "            \n",
    "        if self.match(s, i, p, j) and self.helper(s, i+1, p, j+1):\n",
    "            self.memo[(i,j)] = True\n",
    "            return True\n",
    "        \n",
    "        self.memo[(i,j)] = False\n",
    "        return False\n",
    "\n",
    "Solution().isMatch(s = \"adceb\", p = \"*a*b\")"
   ]
  },
  {
   "cell_type": "markdown",
   "metadata": {},
   "source": [
    "### Factor Combinations\n",
    "\n",
    "Numbers can be regarded as product of its factors. For example,\n",
    "\n",
    "8 = 2 x 2 x 2;\n",
    "  = 2 x 4.\n",
    "Write a function that takes an integer n and return all possible combinations of its factors.\n",
    "\n",
    "Note:\n",
    "\n",
    "* You may assume that n is always positive.\n",
    "* Factors should be greater than 1 and less than n."
   ]
  },
  {
   "cell_type": "code",
   "execution_count": 9,
   "metadata": {},
   "outputs": [
    {
     "data": {
      "text/plain": [
       "[[2, 2, 2, 2, 2], [2, 2, 2, 4], [2, 2, 8], [2, 4, 4], [2, 16], [4, 8]]"
      ]
     },
     "execution_count": 9,
     "metadata": {},
     "output_type": "execute_result"
    }
   ],
   "source": [
    "class Solution:\n",
    "    def getFactors(self, n: int):\n",
    "        self.res = []\n",
    "        self.helper(n, 2, [])\n",
    "        return self.res\n",
    "    \n",
    "    def helper(self, n, start, buffer):\n",
    "        if n == 1:\n",
    "            if len(buffer) > 1:\n",
    "                self.res.append(buffer[:])\n",
    "            return\n",
    "        \n",
    "        for i in range(start, n+1):\n",
    "            if n%i == 0:\n",
    "                self.helper(n//i, i, buffer+[i])\n",
    "        \n",
    "Solution().getFactors(32)"
   ]
  },
  {
   "cell_type": "markdown",
   "metadata": {},
   "source": [
    "### Parallel Courses II\n",
    "\n",
    "Given the integer n representing the number of courses at some university labeled from 1 to n, and the array dependencies where dependencies[i] = [xi, yi]  represents a prerequisite relationship, that is, the course xi must be taken before the course yi.  Also, you are given the integer k.\n",
    "\n",
    "In one semester you can take at most k courses as long as you have taken all the prerequisites for the courses you are taking.\n",
    "\n",
    "Return the minimum number of semesters to take all courses. It is guaranteed that you can take all courses in some way.\n",
    "\n",
    "\n",
    "**Note** - **The below code prints the actual ordering of courses**"
   ]
  },
  {
   "cell_type": "code",
   "execution_count": 13,
   "metadata": {},
   "outputs": [
    {
     "data": {
      "text/plain": [
       "[(2, 3), [4], [1], [5]]"
      ]
     },
     "execution_count": 13,
     "metadata": {},
     "output_type": "execute_result"
    }
   ],
   "source": [
    "from collections import defaultdict\n",
    "import itertools\n",
    "class Solution:\n",
    "    def minNumberOfSemesters(self, n: int, dependencies, k: int) -> int:\n",
    "        indegree = {i:0 for i in range(1, n+1)}\n",
    "        self.memo = {}\n",
    "        graph = defaultdict(list)\n",
    "        for x, y in dependencies:\n",
    "            graph[x].append(y)\n",
    "            indegree[y] += 1\n",
    "        \n",
    "        return (self.helper(graph, indegree, n, k, 0, 2**n-1))\n",
    "    \n",
    "    def helper(self, graph, indegree, n, k, bitmap, target):\n",
    "        if target == bitmap:\n",
    "            return []\n",
    "        \n",
    "        if bitmap in self.memo:\n",
    "            return self.memo[bitmap]\n",
    "        \n",
    "        candidates = []\n",
    "        for i in range(1, n+1):\n",
    "            if indegree[i] == 0 and bitmap >> (i-1) & 1 == 0:\n",
    "                candidates.append(i)\n",
    "                \n",
    "        if len(candidates) <= k:\n",
    "            res = [[-1]]*20\n",
    "            new_bit = bitmap\n",
    "            for course in candidates:\n",
    "                for child in graph[course]:\n",
    "                    indegree[child] -= 1\n",
    "                new_bit = new_bit | 1 << (course-1)\n",
    "            res = min(res, [candidates] + self.helper(graph, indegree, n, k, new_bit, target), key=len)\n",
    "            for course in candidates:\n",
    "                for child in graph[course]:\n",
    "                    indegree[child] += 1\n",
    "               \n",
    "        else:\n",
    "            subsets = list(itertools.combinations(candidates, k))\n",
    "            res = [[-1]]*20\n",
    "            for s in subsets:\n",
    "                new_bit = bitmap\n",
    "                for course in s:\n",
    "                    for child in graph[course]:\n",
    "                        indegree[child] -= 1\n",
    "                    new_bit = new_bit | 1 << (course-1)\n",
    "                res = min(res, [s] + self.helper(graph, indegree, n, k, new_bit, target), key=len)\n",
    "                for course in s:\n",
    "                    for child in graph[course]:\n",
    "                        indegree[child] += 1\n",
    "        \n",
    "        self.memo[bitmap] = res\n",
    "        return res\n",
    "    \n",
    "Solution().minNumberOfSemesters(n = 5, dependencies = [[2,1],[3,1],[4,1],[1,5]], k = 2)"
   ]
  },
  {
   "cell_type": "markdown",
   "metadata": {},
   "source": [
    "### Optimal Account Balancing\n",
    "\n",
    "A group of friends went on holiday and sometimes lent each other money. For example, Alice paid for Bill's lunch for $10. Then later Chris gave Alice $5 for a taxi ride. We can model each transaction as a tuple (x, y, z) which means person x gave person y $z. Assuming Alice, Bill, and Chris are person 0, 1, and 2 respectively (0, 1, 2 are the person's ID), the transactions can be represented as [[0, 1, 10], [2, 0, 5]].\n",
    "\n",
    "Given a list of transactions between a group of people, return the minimum number of transactions required to settle the debt.\n",
    "\n",
    "Note:\n",
    "\n",
    "A transaction will be given as a tuple (x, y, z). Note that x ≠ y and z > 0.\n",
    "Person's IDs may not be linear, e.g. we could have the persons 0, 1, 2 or we could also have the persons 0, 2, 6.\n",
    "\n",
    "**Note - The below code prints the actual order of transactions**"
   ]
  },
  {
   "cell_type": "code",
   "execution_count": 17,
   "metadata": {},
   "outputs": [
    {
     "data": {
      "text/plain": [
       "[(0, 1), (1, 2)]"
      ]
     },
     "execution_count": 17,
     "metadata": {},
     "output_type": "execute_result"
    }
   ],
   "source": [
    "from collections import Counter\n",
    "class Solution:\n",
    "    def minTransfers(self, transactions) -> int:\n",
    "        counter = Counter()\n",
    "        for x, y, amt in transactions:\n",
    "            counter[x] += amt\n",
    "            counter[y] -= amt\n",
    "        self.max_arr = [-1] * 10000\n",
    "        \n",
    "        arr = list(counter.values())\n",
    "        return self.helper(arr, 0)\n",
    "    \n",
    "    def helper(self, arr, start):\n",
    "        while start < len(arr) and arr[start] == 0:\n",
    "            start += 1\n",
    "        \n",
    "        if start == len(arr):\n",
    "            return []\n",
    "        \n",
    "        res = self.max_arr\n",
    "        for i in range(start+1, len(arr)):\n",
    "            if arr[start] * arr[i] < 0:\n",
    "                arr[i] += arr[start]\n",
    "                res = min(res, [(start, i)] + self.helper(arr, start+1), key=len)\n",
    "                arr[i] -= arr[start]\n",
    "        \n",
    "        return res\n",
    "                \n",
    "Solution().minTransfers([[0,1,10], [2,0,5]])"
   ]
  },
  {
   "cell_type": "markdown",
   "metadata": {},
   "source": [
    "### Minimum Window Subsequence\n",
    "\n",
    "Given strings S and T, find the minimum (contiguous) substring W of S, so that T is a subsequence of W.\n",
    "\n",
    "If there is no such window in S that covers all characters in T, return the empty string \"\". If there are multiple such minimum-length windows, return the one with the left-most starting index."
   ]
  },
  {
   "cell_type": "code",
   "execution_count": 21,
   "metadata": {},
   "outputs": [
    {
     "data": {
      "text/plain": [
       "'bcde'"
      ]
     },
     "execution_count": 21,
     "metadata": {},
     "output_type": "execute_result"
    }
   ],
   "source": [
    "class Solution:\n",
    "    def minWindow(self, s: str, t: str) -> str:\n",
    "        ans = ''; min_len = float('inf'); self.memo = {}\n",
    "        for i, ch in enumerate(s):\n",
    "            if ch == t[0]:\n",
    "                end_index = self.helper(s, t, i+1, 1)\n",
    "                if end_index - i < min_len:\n",
    "                    ans = s[i:end_index+1]\n",
    "                    min_len = end_index - i\n",
    "        return ans\n",
    "    \n",
    "    def helper(self, s, t, i, j):\n",
    "        if j == len(t):\n",
    "            return i-1\n",
    "        \n",
    "        if (i,j) in self.memo:\n",
    "            return self.memo[(i,j)]\n",
    "        \n",
    "        curr_char = t[j]\n",
    "        next_index = s.find(curr_char, i)\n",
    "        if next_index == -1:\n",
    "            return float('inf')\n",
    "        end_index = self.helper(s, t, next_index+1, j+1)\n",
    "        \n",
    "        self.memo[(i,j)] = end_index\n",
    "        return end_index\n",
    "    \n",
    "Solution().minWindow(s = \"abcdebdde\", t = \"bde\")"
   ]
  },
  {
   "cell_type": "markdown",
   "metadata": {},
   "source": [
    "### Find the Shortest Superstring\n",
    "\n",
    "Given an array A of strings, find any smallest string that contains each string in A as a substring.\n",
    "\n",
    "We may assume that no string in A is substring of another string in A.\n",
    "\n",
    "**Similar Problem** - Travelling Salesman Problem"
   ]
  },
  {
   "cell_type": "code",
   "execution_count": 22,
   "metadata": {},
   "outputs": [
    {
     "data": {
      "text/plain": [
       "'gctaagttcatgcatc'"
      ]
     },
     "execution_count": 22,
     "metadata": {},
     "output_type": "execute_result"
    }
   ],
   "source": [
    "class Solution:\n",
    "    def shortestSuperstring(self, A) -> str:\n",
    "        dist = [[0]*len(A) for _ in range(len(A))]\n",
    "        for i in range(len(A)):\n",
    "            for j in range(len(A)):\n",
    "                dist[i][j] = self.calc_dist(A[i], A[j])\n",
    "        \n",
    "        self.memo = {}\n",
    "        ans = \"z\"*300\n",
    "        for i in range(len(A)):\n",
    "            string = A[i] + self.helper(A, i, dist, 1<<i, 2**len(A)-1)\n",
    "            ans = min(ans, string, key = len)\n",
    "        return ans\n",
    "            \n",
    "    def helper(self, A, i, dist, bitmap, target):\n",
    "        if bitmap == target:\n",
    "            return ''\n",
    "        \n",
    "        if (i, bitmap) in self.memo:\n",
    "            return self.memo[(i, bitmap)]\n",
    "        \n",
    "        res = 'z'*300\n",
    "        for j in range(len(A)):\n",
    "            if bitmap >> j & 1 == 0:\n",
    "                string = A[j][-dist[i][j]:] + self.helper(A, j, dist, bitmap | 1<<j, target)\n",
    "                res = min(res, string, key=len)\n",
    "        \n",
    "        self.memo[(i, bitmap)] = res\n",
    "        return res\n",
    "    \n",
    "    def calc_dist(self, a, b):\n",
    "        for i in range(len(a)):\n",
    "            if b.startswith(a[i:]):\n",
    "                return len(b) - (len(a) - i)\n",
    "        return len(b)\n",
    "            \n",
    "Solution().shortestSuperstring([\"catg\",\"ctaagt\",\"gcta\",\"ttca\",\"atgcatc\"])"
   ]
  },
  {
   "cell_type": "markdown",
   "metadata": {},
   "source": [
    "### Shortest Common Supersequence\n",
    "Given two strings str1 and str2, return the shortest string that has both str1 and str2 as subsequences.  If multiple answers exist, you may return any of them.\n",
    "\n",
    "(A string S is a subsequence of string T if deleting some number of characters from T (possibly 0, and the characters are chosen anywhere from T) results in the string S.)"
   ]
  },
  {
   "cell_type": "code",
   "execution_count": 23,
   "metadata": {},
   "outputs": [
    {
     "data": {
      "text/plain": [
       "'cabac'"
      ]
     },
     "execution_count": 23,
     "metadata": {},
     "output_type": "execute_result"
    }
   ],
   "source": [
    "class Solution:\n",
    "    def shortestCommonSupersequence(self, str1: str, str2: str) -> str:\n",
    "        self.memo = {}\n",
    "        lcs = self.helper(str1, str2, 0, 0)\n",
    "        res = ''; i = 0; j = 0\n",
    "        for ch in lcs:\n",
    "            while str1[i] != ch:\n",
    "                res += str1[i]\n",
    "                i += 1\n",
    "            while str2[j] != ch:\n",
    "                res += str2[j]\n",
    "                j += 1\n",
    "            res += ch; i += 1; j += 1\n",
    "        return res + str1[i:] + str2[j:]\n",
    "\n",
    "    \n",
    "    def helper(self, s1, s2, i, j):\n",
    "        if i == len(s1) or j == len(s2):\n",
    "            return ''\n",
    "        \n",
    "        if (i,j) in self.memo:\n",
    "            return self.memo[(i,j)]\n",
    "        \n",
    "        if s1[i] == s2[j]:\n",
    "            lcs = s1[i] + self.helper(s1, s2, i+1, j+1)\n",
    "        else:\n",
    "            move_i = self.helper(s1, s2, i+1, j)\n",
    "            move_j = self.helper(s1, s2, i, j+1)\n",
    "            lcs = max(move_i, move_j, key=len)\n",
    "        \n",
    "        self.memo[(i,j)] = lcs\n",
    "        return lcs\n",
    "\n",
    "Solution().shortestCommonSupersequence(str1 = \"abac\", str2 = \"cab\")"
   ]
  },
  {
   "cell_type": "markdown",
   "metadata": {},
   "source": [
    "### Remove Boxes\n",
    "\n",
    "Given several boxes with different colors represented by different positive numbers.\n",
    "You may experience several rounds to remove boxes until there is no box left. Each time you can choose some continuous boxes with the same color (composed of k boxes, k >= 1), remove them and get k*k points.\n",
    "Find the maximum points you can get."
   ]
  },
  {
   "cell_type": "code",
   "execution_count": 24,
   "metadata": {},
   "outputs": [
    {
     "data": {
      "text/plain": [
       "23"
      ]
     },
     "execution_count": 24,
     "metadata": {},
     "output_type": "execute_result"
    }
   ],
   "source": [
    "class Solution:\n",
    "    def removeBoxes(self, boxes) -> int:\n",
    "        self.memo = {}\n",
    "        return self.helper(0, len(boxes)-1, 0, boxes)\n",
    "    \n",
    "    def helper(self, left, right, k, boxes):\n",
    "        if left > right:\n",
    "            return 0\n",
    "        \n",
    "        if (left, right, k) in self.memo:\n",
    "            return self.memo[(left, right, k)]\n",
    "        \n",
    "        old_k = k\n",
    "        \n",
    "        i = left\n",
    "        while i<=right and boxes[i] == boxes[left]:\n",
    "            k += 1\n",
    "            i += 1\n",
    "        \n",
    "        res = k*k + self.helper(i, right, 0, boxes)\n",
    "        \n",
    "        for m in range(i, right+1):\n",
    "            if boxes[m] == boxes[left]:\n",
    "                res = max(res, self.helper(i, m-1, 0, boxes) + self.helper(m, right, k, boxes))\n",
    "        \n",
    "        self.memo[(left, right, old_k)] = res\n",
    "        return res\n",
    "\n",
    "Solution().removeBoxes([1,3,2,2,2,3,4,3,1])"
   ]
  },
  {
   "cell_type": "markdown",
   "metadata": {},
   "source": [
    "### Minimum Cost Tree From Leaf Values\n",
    "\n",
    "Given an array arr of positive integers, consider all binary trees such that:\n",
    "\n",
    "* Each node has either 0 or 2 children; The values of arr correspond to the values of each leaf in an in-order traversal of the tree.  (Recall that a node is a leaf if and only if it has 0 children.)\n",
    "* The value of each non-leaf node is equal to the product of the largest leaf value in its left and right subtree respectively.\n",
    "* Among all possible binary trees considered, return the smallest possible sum of the values of each non-leaf node.  It is guaranteed this sum fits into a 32-bit integer."
   ]
  },
  {
   "cell_type": "code",
   "execution_count": 26,
   "metadata": {},
   "outputs": [
    {
     "data": {
      "text/plain": [
       "32"
      ]
     },
     "execution_count": 26,
     "metadata": {},
     "output_type": "execute_result"
    }
   ],
   "source": [
    "class Solution:\n",
    "    def mctFromLeafValues(self, arr) -> int:\n",
    "        if not arr: return 0\n",
    "        self.memo = {}\n",
    "        max_arr = [[0]*len(arr) for _ in range(len(arr))]\n",
    "        for i in range(len(arr)):\n",
    "            max_val = arr[i]\n",
    "            for j in range(i+1, len(arr)):\n",
    "                max_val = max(max_val, arr[j])\n",
    "                max_arr[i][j] = max_val\n",
    "        \n",
    "        self.max_arr = max_arr\n",
    "        return self.helper(0, len(arr)-1, arr)[0]\n",
    "    \n",
    "    def helper(self, start, end, arr): \n",
    "        if start == end:\n",
    "            return (0, arr[start])\n",
    "        \n",
    "        if (start, end) in self.memo:\n",
    "            return self.memo[(start, end)]\n",
    "        \n",
    "        res = float('inf')\n",
    "        for mid in range(start, end):\n",
    "            sum1, leaf1 = self.helper(start, mid, arr)\n",
    "            sum2, leaf2 = self.helper(mid+1, end, arr)\n",
    "            res = min(res, sum1 + sum2 + leaf1*leaf2)\n",
    "        \n",
    "        leaf = self.max_arr[start][end]\n",
    "        self.memo[(start, end)] = (res, leaf)\n",
    "        return (res, leaf)\n",
    "\n",
    "Solution().mctFromLeafValues([6,4,2])"
   ]
  },
  {
   "cell_type": "markdown",
   "metadata": {},
   "source": [
    "### Android Unlock Patterns\n",
    "\n",
    "Given an Android 3x3 key lock screen and two integers m and n, where 1 ≤ m ≤ n ≤ 9, count the total number of unlock patterns of the Android lock screen, which consist of minimum of m keys and maximum n keys.\n",
    "\n",
    " \n",
    "\n",
    "Rules for a valid pattern:\n",
    "\n",
    "* Each pattern must connect at least m keys and at most n keys.\n",
    "* All the keys must be distinct.\n",
    "* If the line connecting two consecutive keys in the pattern passes through any other keys, the other keys must have previously selected in the pattern. No jumps through non selected key is allowed.\n",
    "* The order of keys used matters."
   ]
  },
  {
   "cell_type": "code",
   "execution_count": 8,
   "metadata": {},
   "outputs": [
    {
     "data": {
      "text/plain": [
       "385"
      ]
     },
     "execution_count": 8,
     "metadata": {},
     "output_type": "execute_result"
    }
   ],
   "source": [
    "class Solution:\n",
    "    def numberOfPatterns(self, m: int, n: int) -> int:\n",
    "        skip = {}\n",
    "        skip[(1,3)] = skip[(3,1)] = 2\n",
    "        skip[(1,7)] = skip[(7,1)] = 4\n",
    "        skip[(3,9)] = skip[(9,3)] = 6\n",
    "        skip[(7,9)] = skip[(9,7)] = 8\n",
    "        skip[(1,9)] = skip[(9,1)] = skip[(7,3)] = skip[(3,7)] = skip[(6,4)] = \\\n",
    "        skip[(4,6)] = skip[(2,8)] = skip[(8,2)] = 5\n",
    "        self.skip = skip\n",
    "        \n",
    "        res1 = self.helper(1, 1<<1, 1, m, n)\n",
    "        res2 = self.helper(2, 1<<2, 1, m, n)\n",
    "        res3 = self.helper(5, 1<<5, 1, m, n)\n",
    "        return (res1+res2)*4 + res3\n",
    "    \n",
    "    def helper(self, curr, seen, length, m, n):\n",
    "        count = 0\n",
    "        if m <= length <= n:\n",
    "            count = 1\n",
    "        \n",
    "        if length == n:\n",
    "            return 1\n",
    "        \n",
    "        for new in range(1, 10):\n",
    "            if seen>>new & 1 == 0 and ((curr, new) not in self.skip or seen >> self.skip[(curr, new)] & 1 == 1):\n",
    "                count += self.helper(new, seen | 1<<new, length+1, m, n)\n",
    "        \n",
    "        return count\n",
    "                \n",
    "\n",
    "Solution().numberOfPatterns(1,3)"
   ]
  },
  {
   "cell_type": "markdown",
   "metadata": {},
   "source": [
    "### Toss Strange Coins\n",
    "\n",
    "You have some coins.  The i-th coin has a probability prob[i] of facing heads when tossed.\n",
    "\n",
    "Return the probability that the number of coins facing heads equals target if you toss every coin exactly once."
   ]
  },
  {
   "cell_type": "code",
   "execution_count": 2,
   "metadata": {},
   "outputs": [
    {
     "data": {
      "text/plain": [
       "0.03125"
      ]
     },
     "execution_count": 2,
     "metadata": {},
     "output_type": "execute_result"
    }
   ],
   "source": [
    "class Solution:\n",
    "    def probabilityOfHeads(self, prob, target) -> float:\n",
    "        self.memo = {}\n",
    "        return self.helper(0, prob, target)\n",
    "    \n",
    "    def helper(self, i, prob, target):\n",
    "        if i == len(prob):\n",
    "            if target == 0:\n",
    "                return 1\n",
    "            return 0\n",
    "        \n",
    "        if (i, target) in self.memo:\n",
    "            return self.memo[(i, target)]\n",
    "        \n",
    "        heads = tails = 0\n",
    "        tails = (1-prob[i])*self.helper(i+1, prob, target)\n",
    "        \n",
    "        if target > 0:\n",
    "            heads = prob[i]*self.helper(i+1, prob, target-1)\n",
    "        \n",
    "        res = heads + tails\n",
    "        self.memo[(i, target)] = res\n",
    "        return res\n",
    "\n",
    "Solution().probabilityOfHeads(prob = [0.5,0.5,0.5,0.5,0.5], target = 0)"
   ]
  },
  {
   "cell_type": "markdown",
   "metadata": {},
   "source": [
    "### Decode Ways II\n",
    "\n",
    "A message containing letters from A-Z is being encoded to numbers using the following mapping way:\n",
    "\n",
    "'A' -> 1\n",
    "'B' -> 2\n",
    "...\n",
    "'Z' -> 26\n",
    "\n",
    "Beyond that, now the encoded string can also contain the character '*', which can be treated as one of the numbers from 1 to 9.\n",
    "\n",
    "Given the encoded message containing digits and the character '*', return the total number of ways to decode it.\n",
    "\n",
    "Also, since the answer may be very large, you should return the output mod 10^9 + 7."
   ]
  },
  {
   "cell_type": "code",
   "execution_count": 3,
   "metadata": {},
   "outputs": [
    {
     "data": {
      "text/plain": [
       "20"
      ]
     },
     "execution_count": 3,
     "metadata": {},
     "output_type": "execute_result"
    }
   ],
   "source": [
    "class Solution:\n",
    "    def numDecodings(self, s: str) -> int:\n",
    "        self.memo = {}\n",
    "        self.mod = 10**9 + 7\n",
    "        return self.helper(0, s)\n",
    "    \n",
    "    def helper(self, i, s):\n",
    "        if i == len(s):\n",
    "            return 1\n",
    "        \n",
    "        if i in self.memo:\n",
    "            return self.memo[i]\n",
    "        \n",
    "        ans = 0\n",
    "        # single digit\n",
    "        if s[i] != '0' and s[i] != '*':\n",
    "            ans += self.helper(i+1, s)\n",
    "        \n",
    "        # *\n",
    "        if s[i] == '*':\n",
    "            ans += 9*self.helper(i+1, s)\n",
    "        \n",
    "        # 2 digits\n",
    "        if i+1 < len(s) and s[i]!='*' and s[i+1]!='*' and 10<=int(s[i:i+2])<=26:\n",
    "            ans += self.helper(i+2, s)\n",
    "        \n",
    "        # *digit\n",
    "        if i+1<len(s) and s[i] == '*' and s[i+1] != '*':\n",
    "            count = 0\n",
    "            for d in '123456789':\n",
    "                if int(d+s[i+1]) <= 26:\n",
    "                    count += 1\n",
    "            if count > 0:\n",
    "                ans += count*self.helper(i+2, s)\n",
    "        \n",
    "        # digit*\n",
    "        if i+1<len(s) and s[i]!='*' and s[i]!='0' and s[i+1] == '*':\n",
    "            count = 0\n",
    "            for d in '123456789':\n",
    "                if 10<=int(s[i]+d)<=26:\n",
    "                    count += 1\n",
    "            if count > 0:\n",
    "                ans += count*self.helper(i+2, s)\n",
    "        \n",
    "        # **\n",
    "        if i+1<len(s) and s[i] == s[i+1] == '*':\n",
    "            ans += 15*self.helper(i+2, s)\n",
    "        \n",
    "        ans = ans % self.mod\n",
    "        self.memo[i] = ans\n",
    "        return ans\n",
    "            \n",
    "Solution().numDecodings('1*2')"
   ]
  },
  {
   "cell_type": "markdown",
   "metadata": {},
   "source": [
    "### Strange Printer\n",
    "There is a strange printer with the following two special requirements:\n",
    "\n",
    "* The printer can only print a sequence of the same character each time.\n",
    "* At each turn, the printer can print new characters starting from and ending at any places, and will cover the original existing characters.\n",
    "\n",
    "Given a string consists of lower English letters only, your job is to count the minimum number of turns the printer needed in order to print it."
   ]
  },
  {
   "cell_type": "code",
   "execution_count": 4,
   "metadata": {},
   "outputs": [
    {
     "data": {
      "text/plain": [
       "2"
      ]
     },
     "execution_count": 4,
     "metadata": {},
     "output_type": "execute_result"
    }
   ],
   "source": [
    "class Solution:\n",
    "    def strangePrinter(self, s: str) -> int:\n",
    "        self.memo = {}\n",
    "        return self.helper(s, 0, len(s)-1)\n",
    "    \n",
    "    def helper(self, s, i, j):\n",
    "        if i>j:\n",
    "            return 0\n",
    "        \n",
    "        if i == j:\n",
    "            return 1\n",
    "        \n",
    "        if (i,j) in self.memo:\n",
    "            return self.memo[(i,j)]\n",
    "        \n",
    "        cost = self.helper(s, i, j-1) + 1\n",
    "        for k in range(i, j):\n",
    "            if s[k] == s[j]:\n",
    "                cost = min(cost, self.helper(s, i, k-1) + self.helper(s, k, j-1))\n",
    "        \n",
    "        self.memo[(i,j)] = cost\n",
    "        return cost\n",
    "\n",
    "Solution().strangePrinter('aaabbaa')"
   ]
  },
  {
   "cell_type": "markdown",
   "metadata": {},
   "source": [
    "### Palindrome Removal\n",
    "\n",
    "Given an integer array arr, in one move you can select a palindromic subarray arr[i], arr[i+1], ..., arr[j] where i <= j, and remove that subarray from the given array. Note that after removing a subarray, the elements on the left and on the right of that subarray move to fill the gap left by the removal.\n",
    "\n",
    "Return the minimum number of moves needed to remove all numbers from the array."
   ]
  },
  {
   "cell_type": "code",
   "execution_count": 5,
   "metadata": {},
   "outputs": [
    {
     "data": {
      "text/plain": [
       "3"
      ]
     },
     "execution_count": 5,
     "metadata": {},
     "output_type": "execute_result"
    }
   ],
   "source": [
    "class Solution:\n",
    "    def minimumMoves(self, arr) -> int:\n",
    "        self.memo = {}\n",
    "        return self.helper(0, len(arr)-1, arr)\n",
    "    \n",
    "    def helper(self, i, j, arr):\n",
    "        if i>=j:\n",
    "            return 1\n",
    "        \n",
    "        if (i,j) in self.memo:\n",
    "            return self.memo[(i,j)]\n",
    "        \n",
    "        res = float('inf')\n",
    "        if arr[i] == arr[j]:\n",
    "            res = self.helper(i+1, j-1, arr)\n",
    "        for mid in range(i, j):\n",
    "            if arr[i] == arr[mid]:\n",
    "                res = min(res, self.helper(i,mid,arr) + self.helper(mid+1,j,arr))\n",
    "        self.memo[(i,j)] = res\n",
    "        return res\n",
    "\n",
    "Solution().minimumMoves(arr = [1,3,4,1,5])"
   ]
  },
  {
   "cell_type": "markdown",
   "metadata": {},
   "source": [
    "### Palindrome Partitioning III\n",
    "\n",
    "You are given a string s containing lowercase letters and an integer k. You need to :\n",
    "\n",
    "First, change some characters of s to other lowercase English letters.\n",
    "Then divide s into k non-empty disjoint substrings such that each substring is palindrome.\n",
    "Return the minimal number of characters that you need to change to divide the string.\n",
    "\n",
    " "
   ]
  },
  {
   "cell_type": "code",
   "execution_count": 6,
   "metadata": {},
   "outputs": [
    {
     "data": {
      "text/plain": [
       "0"
      ]
     },
     "execution_count": 6,
     "metadata": {},
     "output_type": "execute_result"
    }
   ],
   "source": [
    "class Solution:\n",
    "    def palindromePartition(self, s: str, k: int) -> int:\n",
    "        self.memo = {}\n",
    "        return self.helper(0, s, k)\n",
    "    \n",
    "    def helper(self, i, s, k):\n",
    "        if k == 1:\n",
    "            return self.calc_cost(s[i:])\n",
    "        \n",
    "        if k == len(s) - i:\n",
    "            return 0\n",
    "        \n",
    "        if i == len(s):\n",
    "            return float('inf')\n",
    "        \n",
    "        if (i, k) in self.memo:\n",
    "            return self.memo[(i, k)]\n",
    "        \n",
    "        cost = float('inf')\n",
    "        for j in range(i+1, len(s)+1):\n",
    "            string = s[i:j]\n",
    "            cost = min(cost, self.helper(j, s, k-1) + self.calc_cost(string))\n",
    "        \n",
    "        self.memo[(i, k)] = cost\n",
    "        return cost\n",
    "    \n",
    "    def calc_cost(self, string):\n",
    "        i = 0; j = len(string)-1; cost = 0\n",
    "        while i < j:\n",
    "            if string[i] != string[j]:\n",
    "                cost += 1\n",
    "            i += 1\n",
    "            j -= 1\n",
    "        return cost\n",
    "            \n",
    "\n",
    "Solution().palindromePartition(s = \"aabbc\", k = 3)"
   ]
  },
  {
   "cell_type": "markdown",
   "metadata": {},
   "source": [
    "### Minimize Rounding Error to Meet Target\n",
    "Given an array of prices [p1,p2...,pn] and a target, round each price pi to Roundi(pi) so that the rounded array [Round1(p1),Round2(p2)...,Roundn(pn)] sums to the given target. Each operation Roundi(pi) could be either Floor(pi) or Ceil(pi).\n",
    "\n",
    "Return the string \"-1\" if the rounded array is impossible to sum to target. Otherwise, return the smallest rounding error, which is defined as Σ |Roundi(pi) - (pi)| for i from 1 to n, as a string with three places after the decimal."
   ]
  },
  {
   "cell_type": "code",
   "execution_count": 10,
   "metadata": {},
   "outputs": [
    {
     "data": {
      "text/plain": [
       "'1.000'"
      ]
     },
     "execution_count": 10,
     "metadata": {},
     "output_type": "execute_result"
    }
   ],
   "source": [
    "import math\n",
    "class Solution:\n",
    "    def minimizeError(self, prices, target: int) -> str:\n",
    "        self.memo = {}\n",
    "        error = self.helper(0, prices, target)\n",
    "        if error == float('inf'):\n",
    "            return \"-1\"\n",
    "        error = round(error, 3)\n",
    "        return format(error, '0.3f')\n",
    "    \n",
    "    def helper(self, i, prices, target):\n",
    "        if i == len(prices):\n",
    "            if target == 0:\n",
    "                return 0\n",
    "            return float('inf')\n",
    "        \n",
    "        if (i, target) in self.memo:\n",
    "            return self.memo[(i,target)]\n",
    "        \n",
    "        take_upper = take_lower = float('inf')\n",
    "        num = float(prices[i])\n",
    "        upper = math.ceil(num)\n",
    "        lower = math.floor(num)\n",
    "        \n",
    "        if target >= upper:\n",
    "            take_upper = abs(upper-num) + self.helper(i+1, prices, target-upper)\n",
    "        \n",
    "        if target >= lower:\n",
    "            take_lower = abs(num-lower) + self.helper(i+1, prices, target-lower)\n",
    "        \n",
    "        error = min(take_upper, take_lower)\n",
    "        self.memo[(i,target)] = error\n",
    "        return error\n",
    "\n",
    "Solution().minimizeError(prices = [\"0.700\",\"2.800\",\"4.900\"], target = 8)"
   ]
  },
  {
   "cell_type": "markdown",
   "metadata": {},
   "source": [
    "### Scramble String\n",
    "\n",
    "Given a string s1, we may represent it as a binary tree by partitioning it to two non-empty substrings recursively.\n",
    "\n",
    "Below is one possible representation of s1 = \"great\":\n",
    "\n",
    "        great\n",
    "       /    \\\n",
    "      gr    eat\n",
    "     / \\    /  \\\n",
    "    g   r  e   at\n",
    "               / \\\n",
    "              a   t"
   ]
  },
  {
   "cell_type": "code",
   "execution_count": 14,
   "metadata": {},
   "outputs": [
    {
     "data": {
      "text/plain": [
       "True"
      ]
     },
     "execution_count": 14,
     "metadata": {},
     "output_type": "execute_result"
    }
   ],
   "source": [
    "class Solution:\n",
    "    def isScramble(self, s1: str, s2: str) -> bool:\n",
    "        if len(s1) != len(s2):\n",
    "            return False\n",
    "        if s1 == s2:\n",
    "            return True\n",
    "        self.memo = {}\n",
    "        return self.helper(s1, s2)\n",
    "    \n",
    "    def helper(self, s1, s2):\n",
    "        if len(s1) == 1:\n",
    "            return s1 == s2\n",
    "        \n",
    "        if (s1, s2) in self.memo:\n",
    "            return self.memo[(s1, s2)]\n",
    "        \n",
    "        if sorted(s1) != sorted(s2):\n",
    "            return False\n",
    "        \n",
    "        for i in range(1, len(s1)):\n",
    "            \n",
    "            if self.helper(s1[:i], s2[:i]) and self.helper(s1[i:], s2[i:]):\n",
    "                self.memo[(s1,s2)] = True\n",
    "                return True\n",
    "            \n",
    "            if self.helper(s1[:i], s2[-i:]) and self.helper(s1[i:], s2[:-i]):\n",
    "                self.memo[(s1, s2)] = True\n",
    "                return True\n",
    "        \n",
    "        self.memo[(s1, s2)] = False\n",
    "        return False\n",
    "\n",
    "Solution().isScramble(s1 = \"great\", s2 = \"rgeat\")"
   ]
  },
  {
   "cell_type": "markdown",
   "metadata": {},
   "source": [
    "### Count Numbers with Unique Digits\n",
    "\n",
    "Given a non-negative integer n, count all numbers with unique digits, x, where 0 ≤ x < 10n."
   ]
  },
  {
   "cell_type": "code",
   "execution_count": 20,
   "metadata": {},
   "outputs": [
    {
     "data": {
      "text/plain": [
       "91"
      ]
     },
     "execution_count": 20,
     "metadata": {},
     "output_type": "execute_result"
    }
   ],
   "source": [
    "class Solution:\n",
    "    def countNumbersWithUniqueDigits(self, n: int) -> int:\n",
    "        ans = 0\n",
    "        self.memo = {}\n",
    "        for numdigits in range(1, n+1):\n",
    "            for i in range(1, 10):\n",
    "                ans += self.helper(1<<i, numdigits-1)\n",
    "        return ans+1\n",
    "    \n",
    "    def helper(self, bit, n):\n",
    "        if n == 0:\n",
    "            return 1\n",
    "        \n",
    "        if (bit, n) in self.memo:\n",
    "            return self.memo[(bit, n)]\n",
    "        \n",
    "        count = 0\n",
    "        for i in range(10):\n",
    "            if bit >> i & 1 == 0:\n",
    "                count += self.helper(bit|1<<i, n-1)\n",
    "        \n",
    "        self.memo[(bit, n)] = count\n",
    "        return count\n",
    "                \n",
    "Solution().countNumbersWithUniqueDigits(2)"
   ]
  },
  {
   "cell_type": "markdown",
   "metadata": {},
   "source": [
    "### Count Different Palindromic Subsequences\n",
    "\n",
    "Given a string S, find the number of different non-empty palindromic subsequences in S, and return that number modulo 10^9 + 7.\n",
    "\n",
    "A subsequence of a string S is obtained by deleting 0 or more characters from S.\n",
    "\n",
    "A sequence is palindromic if it is equal to the sequence reversed.\n",
    "\n",
    "Two sequences A_1, A_2, ... and B_1, B_2, ... are different if there is some i for which A_i != B_i."
   ]
  },
  {
   "cell_type": "code",
   "execution_count": 29,
   "metadata": {},
   "outputs": [
    {
     "data": {
      "text/plain": [
       "6"
      ]
     },
     "execution_count": 29,
     "metadata": {},
     "output_type": "execute_result"
    }
   ],
   "source": [
    "class Solution:\n",
    "    def countPalindromicSubsequences(self, s: str) -> int:\n",
    "        self.memo = {}; self.mod = 10**9 + 7\n",
    "        res = 0\n",
    "        for ch in 'abcd':\n",
    "            i = s.find(ch)\n",
    "            j = s.rfind(ch)\n",
    "            res += self.helper(i, j, s)\n",
    "        return res % self.mod\n",
    "    \n",
    "    def helper(self, i, j, s):\n",
    "        if i == -1 or j == -1:\n",
    "            return 0\n",
    "        \n",
    "        if i == j:\n",
    "            return 1\n",
    "        \n",
    "        if (i,j) in self.memo:\n",
    "            return self.memo[(i,j)]\n",
    "        \n",
    "        res = 2\n",
    "        for ch in 'abcd':\n",
    "            new_i = s.find(ch, i+1, j)\n",
    "            new_j = s.rfind(ch, i+1, j)\n",
    "            res += self.helper(new_i, new_j, s) % self.mod\n",
    "        \n",
    "        res = res % self.mod\n",
    "        self.memo[(i,j)] = res\n",
    "        return res\n",
    "        \n",
    "\n",
    "Solution().countPalindromicSubsequences('bccb')"
   ]
  },
  {
   "cell_type": "markdown",
   "metadata": {},
   "source": [
    "### Count Increasing Subsequences\n",
    "https://leetcode.com/discuss/interview-question/661336/google-onsite-count-increasing-subsequences\n",
    "\n",
    "Given an array arr of size n. Find the number of triples (i, j, k) where:\n",
    "\n",
    "* i < j < k\n",
    "* arr[i] < arr[j] < arr[k]"
   ]
  },
  {
   "cell_type": "code",
   "execution_count": 7,
   "metadata": {},
   "outputs": [
    {
     "data": {
      "text/plain": [
       "5"
      ]
     },
     "execution_count": 7,
     "metadata": {},
     "output_type": "execute_result"
    }
   ],
   "source": [
    "class Soluion:\n",
    "    def count_sub(self, arr, k):\n",
    "        self.memo = {}; ans = 0\n",
    "        for i in range(len(arr)):\n",
    "            ans += self.helper(i, arr, k-1)\n",
    "        return ans\n",
    "    \n",
    "    def helper(self, i, arr, k):\n",
    "        if k == 0:\n",
    "            return 1\n",
    "        \n",
    "        if i == len(arr):\n",
    "            return 0\n",
    "        \n",
    "        if (i, k) in self.memo:\n",
    "            return self.memo[(i, k)]\n",
    "        \n",
    "        res = 0\n",
    "        for j in range(i+1, len(arr)):\n",
    "            if arr[j] > arr[i]:\n",
    "                res += self.helper(j, arr, k-1)\n",
    "        \n",
    "        self.memo[(i, k)] = res\n",
    "        return res\n",
    "\n",
    "\n",
    "obj = Soluion()\n",
    "obj.count_sub([1, 2, 3, 4, 5], 3)\n",
    "obj.count_sub([1, 2, 3, 5, 4], 3)\n",
    "obj.count_sub([5, 4, 3, 2, 1], 3)\n",
    "obj.count_sub([1, 2, 3, 4, 5], 4)"
   ]
  },
  {
   "cell_type": "markdown",
   "metadata": {},
   "source": [
    "### Stone Game IV\n",
    "\n",
    "Alice and Bob take turns playing a game, with Alice starting first.\n",
    "\n",
    "Initially, there are n stones in a pile.  On each player's turn, that player makes a move consisting of removing any non-zero square number of stones in the pile.\n",
    "\n",
    "Also, if a player cannot make a move, he/she loses the game.\n",
    "\n",
    "Given a positive integer n. Return True if and only if Alice wins the game otherwise return False, assuming both players play optimally."
   ]
  },
  {
   "cell_type": "code",
   "execution_count": 2,
   "metadata": {},
   "outputs": [
    {
     "data": {
      "text/plain": [
       "True"
      ]
     },
     "execution_count": 2,
     "metadata": {},
     "output_type": "execute_result"
    }
   ],
   "source": [
    "class Solution:\n",
    "    _memo = {}\n",
    "    def winnerSquareGame(self, n: int) -> bool:\n",
    "        self.memo = self._memo\n",
    "        return self.helper(n)\n",
    "    \n",
    "    def helper(self, n):\n",
    "        if n in self.memo:\n",
    "            return self.memo[n]\n",
    "        \n",
    "        for i in range(1, n+1):\n",
    "            num = i*i\n",
    "            if num > n:\n",
    "                break\n",
    "            if num == n or not self.helper(n-num):\n",
    "                self.memo[n] = True\n",
    "                return True\n",
    "        \n",
    "        self.memo[n] = False\n",
    "        return False\n",
    "    \n",
    "Solution().winnerSquareGame(6)"
   ]
  },
  {
   "cell_type": "markdown",
   "metadata": {},
   "source": [
    "### Best Time to Buy and Sell Stock IV\n",
    "\n",
    "Say you have an array for which the i-th element is the price of a given stock on day i.\n",
    "\n",
    "Design an algorithm to find the maximum profit. You may complete at most k transactions.\n",
    "\n",
    "Note:\n",
    "You may not engage in multiple transactions at the same time (ie, you must sell the stock before you buy again)."
   ]
  },
  {
   "cell_type": "code",
   "execution_count": 11,
   "metadata": {},
   "outputs": [
    {
     "data": {
      "text/plain": [
       "7"
      ]
     },
     "execution_count": 11,
     "metadata": {},
     "output_type": "execute_result"
    }
   ],
   "source": [
    "class Solution:\n",
    "    def maxProfit(self, k: int, prices) -> int:\n",
    "        self.dp = {}\n",
    "        if k >= len(prices) // 2: return self.quicksolve(prices)\n",
    "        return self.helper(0, False, prices, k)\n",
    "    \n",
    "    def helper(self, i, has_stock, prices, k):\n",
    "        if i == len(prices) or k == 0:\n",
    "            return 0\n",
    "        \n",
    "        if (i, has_stock, k) in self.dp:\n",
    "            return self.dp[(i, has_stock, k)]\n",
    "        \n",
    "        if not has_stock:\n",
    "            buy = -prices[i] + self.helper(i+1, True, prices, k)\n",
    "            no_buy = self.helper(i+1, False, prices, k)\n",
    "            self.dp[(i, has_stock, k)] = max(buy, no_buy)\n",
    "            return max(buy, no_buy)\n",
    "        else:\n",
    "            sell = prices[i] + self.helper(i+1, False, prices, k-1)\n",
    "            no_sell = self.helper(i+1, True, prices, k)\n",
    "            self.dp[(i, has_stock, k)] = max(sell, no_sell)\n",
    "            return max(sell, no_sell)\n",
    "        \n",
    "    def quicksolve(self, prices):\n",
    "        profit = 0\n",
    "        for i in range(1, len(prices)):\n",
    "            if prices[i] > prices[i-1]:\n",
    "                profit += prices[i] - prices[i-1]\n",
    "        return profit\n",
    "    \n",
    "Solution().maxProfit(2, [3,2,6,5,0,3])"
   ]
  },
  {
   "cell_type": "markdown",
   "metadata": {},
   "source": [
    "### Shopping Offers\n",
    "\n",
    "In LeetCode Store, there are some kinds of items to sell. Each item has a price.\n",
    "\n",
    "However, there are some special offers, and a special offer consists of one or more different kinds of items with a sale price.\n",
    "\n",
    "You are given the each item's price, a set of special offers, and the number we need to buy for each item. The job is to output the lowest price you have to pay for exactly certain items as given, where you could make optimal use of the special offers.\n",
    "\n",
    "Each special offer is represented in the form of an array, the last number represents the price you need to pay for this special offer, other numbers represents how many specific items you could get if you buy this offer.\n",
    "\n",
    "You could use any of special offers as many times as you want."
   ]
  },
  {
   "cell_type": "code",
   "execution_count": 16,
   "metadata": {},
   "outputs": [
    {
     "data": {
      "text/plain": [
       "11"
      ]
     },
     "execution_count": 16,
     "metadata": {},
     "output_type": "execute_result"
    }
   ],
   "source": [
    "class Solution:\n",
    "    def shoppingOffers(self, price, special, needs) -> int:\n",
    "        self.memo = {}\n",
    "        return self.helper(price, special, needs)\n",
    "    \n",
    "    def helper(self, price, special, needs):\n",
    "        if all(need == 0 for need in needs):\n",
    "            return 0\n",
    "        \n",
    "        need_tuple = tuple(needs)\n",
    "        if need_tuple in self.memo:\n",
    "            return self.memo[need_tuple]\n",
    "        \n",
    "        res = 0\n",
    "        for i in range(len(price)):\n",
    "            res += needs[i]*price[i]\n",
    "            \n",
    "        \n",
    "        for i in range(len(special)):\n",
    "            offer = special[i][:-1]\n",
    "            cost = special[i][-1]\n",
    "            if all(need >= quant for need, quant in zip(needs, offer)):\n",
    "                for i in range(len(offer)):\n",
    "                    needs[i] -= offer[i]\n",
    "                res = min(res, cost + self.helper(price, special, needs))\n",
    "                for i in range(len(offer)):\n",
    "                    needs[i] += offer[i]\n",
    "        \n",
    "        self.memo[(need_tuple)] = res\n",
    "        return res\n",
    "                \n",
    "            \n",
    "Solution().shoppingOffers([2,3,4], [[1,1,0,4],[2,2,1,9]], [1,2,1])        "
   ]
  },
  {
   "cell_type": "markdown",
   "metadata": {},
   "source": [
    "### Word Squares\n",
    "\n",
    "Given a set of words (without duplicates), find all word squares you can build from them.\n",
    "\n",
    "A sequence of words forms a valid word square if the kth row and column read the exact same string, where 0 ≤ k < max(numRows, numColumns).\n",
    "\n",
    "For example, the word sequence [\"ball\",\"area\",\"lead\",\"lady\"] forms a word square because each word reads the same both horizontally and vertically."
   ]
  },
  {
   "cell_type": "code",
   "execution_count": 20,
   "metadata": {},
   "outputs": [
    {
     "data": {
      "text/plain": [
       "[['wall', 'area', 'lead', 'lady'], ['ball', 'area', 'lead', 'lady']]"
      ]
     },
     "execution_count": 20,
     "metadata": {},
     "output_type": "execute_result"
    }
   ],
   "source": [
    "class TrieNode:\n",
    "    \n",
    "    def __init__(self):\n",
    "        self.map = {}\n",
    "        self.isWord = False\n",
    "        self.indices = []\n",
    "        \n",
    "class Trie:\n",
    "\n",
    "    def __init__(self):\n",
    "        self.root = TrieNode()\n",
    "\n",
    "    def insert(self, word, index):\n",
    "        current = self.root\n",
    "        for letter in word:\n",
    "            if letter not in current.map:\n",
    "                current.map[letter] = TrieNode()\n",
    "            current = current.map[letter]\n",
    "            current.indices.append(index)\n",
    "        current.isWord = True\n",
    "\n",
    "class Solution:\n",
    "    def wordSquares(self, words):\n",
    "        trie = Trie()\n",
    "        for i, word in enumerate(words):\n",
    "            trie.insert(word, i)\n",
    "        \n",
    "        self.result = []\n",
    "        for i in range(len(words)):\n",
    "            self.helper([words[i]], trie, words, 1)\n",
    "        \n",
    "        return self.result\n",
    "    \n",
    "    def helper(self, buffer, trie, words, index):\n",
    "        if index == len(words[0]):\n",
    "            self.result.append(buffer[:])\n",
    "            return\n",
    "        \n",
    "        node = trie.root\n",
    "        for word in buffer:\n",
    "            ch = word[index]\n",
    "            if ch not in node.map:\n",
    "                return\n",
    "            node = node.map[ch]\n",
    "        \n",
    "        for i in node.indices:\n",
    "            self.helper(buffer + [words[i]], trie, words, index+1)  \n",
    "        \n",
    "Solution().wordSquares([\"area\",\"lead\",\"wall\",\"lady\",\"ball\"])"
   ]
  },
  {
   "cell_type": "markdown",
   "metadata": {},
   "source": [
    "### Iterator for Combination\n",
    "\n",
    "Design an Iterator class, which has:\n",
    "\n",
    "* A constructor that takes a string characters of sorted distinct lowercase English letters and a number combinationLength as arguments.\n",
    "* A function next() that returns the next combination of length combinationLength in lexicographical order.\n",
    "* A function hasNext() that returns True if and only if there exists a next combination."
   ]
  },
  {
   "cell_type": "code",
   "execution_count": 26,
   "metadata": {},
   "outputs": [
    {
     "data": {
      "text/plain": [
       "'ac'"
      ]
     },
     "execution_count": 26,
     "metadata": {},
     "output_type": "execute_result"
    }
   ],
   "source": [
    "class CombinationIterator:\n",
    "\n",
    "    def __init__(self, characters: str, combinationLength: int):\n",
    "        self.last = None\n",
    "        self.end = characters[-combinationLength:]\n",
    "        self.gen = self.gen_comb(characters, 0, [], combinationLength)\n",
    "    \n",
    "    def gen_comb(self, char, start, buffer, length):\n",
    "        if len(buffer) == length:\n",
    "            yield ''.join(buffer)\n",
    "            return\n",
    "        \n",
    "        for i in range(start, len(char)):\n",
    "            yield from self.gen_comb(char, i+1, buffer+[char[i]], length)\n",
    "        \n",
    "    def next(self) -> str:\n",
    "        self.last = next(self.gen)\n",
    "        return self.last  \n",
    "\n",
    "    def hasNext(self) -> bool:\n",
    "        return self.last != self.end\n",
    "    \n",
    "obj = CombinationIterator('abc', 2)\n",
    "obj.next()\n",
    "obj.next()"
   ]
  }
 ],
 "metadata": {
  "kernelspec": {
   "display_name": "Python 3",
   "language": "python",
   "name": "python3"
  },
  "language_info": {
   "codemirror_mode": {
    "name": "ipython",
    "version": 3
   },
   "file_extension": ".py",
   "mimetype": "text/x-python",
   "name": "python",
   "nbconvert_exporter": "python",
   "pygments_lexer": "ipython3",
   "version": "3.6.8"
  }
 },
 "nbformat": 4,
 "nbformat_minor": 2
}
