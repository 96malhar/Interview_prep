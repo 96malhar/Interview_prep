{
 "cells": [
  {
   "cell_type": "markdown",
   "metadata": {},
   "source": [
    "## Imlementation\n",
    "                     4\n",
    "                    /  \\\n",
    "                   2    6\n",
    "                  / \\   / \\\n",
    "                 1   3 5   7"
   ]
  },
  {
   "cell_type": "code",
   "execution_count": 27,
   "metadata": {},
   "outputs": [
    {
     "name": "stdout",
     "output_type": "stream",
     "text": [
      "1 2 3 4 5 6 7 "
     ]
    }
   ],
   "source": [
    "class TreeNode:\n",
    "    def __init__(self, data):\n",
    "        self.val = data\n",
    "        self.left = None\n",
    "        self.right = None\n",
    "class BinaryTree:\n",
    "    def __init__(self,root):\n",
    "        self.root = root\n",
    "        \n",
    "node1 = TreeNode(1)\n",
    "node2 = TreeNode(2)\n",
    "node3 = TreeNode(3)\n",
    "node4 = TreeNode(4)\n",
    "node5 = TreeNode(5)\n",
    "node6 = TreeNode(6)\n",
    "node7 = TreeNode(7)\n",
    "\n",
    "node4.left, node4.right = node2, node6\n",
    "node2.left, node2.right = node1, node3\n",
    "node6.left, node6.right = node5, node7\n",
    "\n",
    "tree = BinaryTree(node4)\n",
    "inorder(tree.root)"
   ]
  },
  {
   "cell_type": "code",
   "execution_count": 26,
   "metadata": {},
   "outputs": [],
   "source": [
    "def inorder(root):\n",
    "    if not root:\n",
    "        return\n",
    "    inorder(root.left)\n",
    "    print(root.val, end = ' ')\n",
    "    inorder(root.right)"
   ]
  },
  {
   "cell_type": "markdown",
   "metadata": {},
   "source": [
    "### Sum of Left Leaves\n",
    "        3\n",
    "       / \\\n",
    "      9  20\n",
    "        /  \\\n",
    "       15   7\n",
    "\n",
    "There are two left leaves in the binary tree, with values 9 and 15 respectively. Return 24."
   ]
  },
  {
   "cell_type": "code",
   "execution_count": 10,
   "metadata": {},
   "outputs": [
    {
     "data": {
      "text/plain": [
       "6"
      ]
     },
     "execution_count": 10,
     "metadata": {},
     "output_type": "execute_result"
    }
   ],
   "source": [
    "# Via dfs\n",
    "class DFS:\n",
    "    def sumOfLeftLeaves(self, root: TreeNode) -> int:\n",
    "        if root is None: return 0\n",
    "        return self.helper(root, False)\n",
    "    \n",
    "    def helper(self, node, isLeft):\n",
    "        ans = 0\n",
    "        if node.left is None and node.right is None and isLeft:\n",
    "            return node.val\n",
    "        if node.left: \n",
    "            ans += self.helper(node.left, True)\n",
    "        if node.right: \n",
    "            ans += self.helper(node.right, False)\n",
    "        return ans\n",
    "\n",
    "# Via bfs\n",
    "class BFS:\n",
    "    def sumOfLeftLeaves(self, root: TreeNode) -> int:\n",
    "        if root is None: return 0\n",
    "        queue = [root]\n",
    "        ans = 0\n",
    "        while queue:\n",
    "            node = queue.pop(0)\n",
    "            if node.left and node.left.left is None and node.left.right is None:\n",
    "                ans += node.left.val\n",
    "            if node.left:\n",
    "                queue.append(node.left)\n",
    "            if node.right:\n",
    "                queue.append(node.right)\n",
    "        return ans\n",
    "\n",
    "# obj = DFS()\n",
    "# obj.sumOfLeftLeaves(tree.root)\n",
    "\n",
    "obj = BFS()\n",
    "obj.sumOfLeftLeaves(tree.root)"
   ]
  },
  {
   "attachments": {
    "image.png": {
     "image/png": "[encoded data removed]"
    }
   },
   "cell_type": "markdown",
   "metadata": {},
   "source": [
    "### Binary Tree pruning\n",
    "We are given the head node root of a binary tree, where additionally every node's value is either a 0 or a 1.\n",
    "Return the same tree where every subtree (of the given tree) not containing a 1 has been removed.\n",
    "(Recall that the subtree of a node X is X, plus every node that is a descendant of X.)\n",
    "![image.png](attachment:image.png)"
   ]
  },
  {
   "cell_type": "code",
   "execution_count": 7,
   "metadata": {},
   "outputs": [],
   "source": [
    "class Solution:\n",
    "    def pruneTree(self, root: TreeNode):\n",
    "        ans = self.helper(root)\n",
    "        if not ans: return None\n",
    "        return root\n",
    "    \n",
    "    def helper(self, root):\n",
    "        if root is None:\n",
    "            return False\n",
    "        left = self.helper(root.left)\n",
    "        right = self.helper(root.right)\n",
    "        if not left: root.left = None\n",
    "        if not right: root.right = None\n",
    "        if not left and not right and root.val == 0:\n",
    "            return False\n",
    "        return True"
   ]
  },
  {
   "cell_type": "markdown",
   "metadata": {},
   "source": [
    "### Maximum Average Subtree\n",
    "Given the root of a binary tree, find the maximum average value of any subtree of that tree.\n",
    "\n",
    "(A subtree of a tree is any node of that tree plus all its descendants. The average value of a tree is the sum of its values, divided by the number of nodes.)"
   ]
  },
  {
   "cell_type": "code",
   "execution_count": 8,
   "metadata": {},
   "outputs": [
    {
     "data": {
      "text/plain": [
       "7.0"
      ]
     },
     "execution_count": 8,
     "metadata": {},
     "output_type": "execute_result"
    }
   ],
   "source": [
    "class Solution:\n",
    "    def maximumAverageSubtree(self, root: TreeNode) -> float:\n",
    "        if not root: return 0\n",
    "        self.max = 0\n",
    "        self.helper(root)\n",
    "        return self.max\n",
    "    \n",
    "    def helper(self, root):\n",
    "        if root is None:\n",
    "            return (0,0)\n",
    "        left = self.helper(root.left)\n",
    "        right = self.helper(root.right)\n",
    "        total = left[1] + right[1] + root.val\n",
    "        size = left[0] + right[0] + 1\n",
    "        avg = total / size\n",
    "        self.max = max(self.max, avg)\n",
    "        return (size, total)\n",
    "    \n",
    "obj = Solution()\n",
    "obj.maximumAverageSubtree(tree.root)"
   ]
  },
  {
   "cell_type": "markdown",
   "metadata": {},
   "source": [
    "### Path Sum\n",
    "Given a binary tree and a sum, determine if the tree has a root-to-leaf path such that adding up all the values along the path equals the given sum.\n",
    "\n",
    "Note: A leaf is a node with no children.\n",
    "\n",
    "Example:\n",
    "\n",
    "Given the below binary tree and sum = 22,\n",
    "\n",
    "          5\n",
    "         / \\\n",
    "        4   8\n",
    "       /   / \\\n",
    "      11  13  4\n",
    "     /  \\      \\\n",
    "    7    2      1\n",
    "return true, as there exist a root-to-leaf path 5->4->11->2 which sum is 22."
   ]
  },
  {
   "cell_type": "code",
   "execution_count": 62,
   "metadata": {},
   "outputs": [
    {
     "data": {
      "text/plain": [
       "True"
      ]
     },
     "execution_count": 62,
     "metadata": {},
     "output_type": "execute_result"
    }
   ],
   "source": [
    "def hasPathSum(root: TreeNode, sum: int) -> bool:\n",
    "    if root is None:\n",
    "        return False\n",
    "    if root.left is None and root.right is None and root.val == sum:\n",
    "        return True\n",
    "    for node in [root.left, root.right]:\n",
    "        if hasPathSum(node, sum-root.val):\n",
    "            return True\n",
    "    return False\n",
    "\n",
    "hasPathSum(tree.root, 15)"
   ]
  },
  {
   "cell_type": "markdown",
   "metadata": {},
   "source": [
    "### Path Sum II\n",
    "Given a binary tree and a sum, find all root-to-leaf paths where each path's sum equals the given sum.\n",
    "\n",
    "Note: A leaf is a node with no children.\n",
    "\n",
    "Example:\n",
    "\n",
    "Given the below binary tree and sum = 22,\n",
    "\n",
    "          5\n",
    "         / \\\n",
    "        4   8\n",
    "       /   / \\\n",
    "      11  13  4\n",
    "     /  \\    / \\\n",
    "    7    2  5   1\n",
    "Return:\n",
    "\n",
    "[\n",
    "   [5,4,11,2],\n",
    "   [5,8,4,5]\n",
    "]"
   ]
  },
  {
   "cell_type": "code",
   "execution_count": 15,
   "metadata": {},
   "outputs": [
    {
     "data": {
      "text/plain": [
       "[[4, 6, 5]]"
      ]
     },
     "execution_count": 15,
     "metadata": {},
     "output_type": "execute_result"
    }
   ],
   "source": [
    "class Solution:\n",
    "    def pathSum(self, root: TreeNode, sum: int):\n",
    "        if not root: return []\n",
    "        self.ans = []\n",
    "        self.helper(root, [root.val], sum)\n",
    "        return self.ans\n",
    "    \n",
    "    def helper(self, root, buffer, sum):\n",
    "        if not root.left and not root.right and root.val == sum:\n",
    "            self.ans.append(buffer[:])\n",
    "            return\n",
    "        for node in [root.left, root.right]:\n",
    "            if node:\n",
    "                buffer.append(node.val)\n",
    "                self.helper(node, buffer, sum-root.val)\n",
    "                buffer.pop()\n",
    "        \n",
    "obj = Solution()\n",
    "obj.pathSum(tree.root, 15)"
   ]
  },
  {
   "cell_type": "markdown",
   "metadata": {},
   "source": [
    "### Sum of root to leaf numbers\n",
    "Given a binary tree containing digits from 0-9 only, each root-to-leaf path could represent a number.\n",
    "\n",
    "An example is the root-to-leaf path 1->2->3 which represents the number 123.\n",
    "\n",
    "Find the total sum of all root-to-leaf numbers.\n",
    "\n",
    "Input: [4,9,0,5,1]\n",
    "\n",
    "                        4\n",
    "                       / \\\n",
    "                      9   0\n",
    "                     / \\\n",
    "                    5   1\n",
    "                    \n",
    "Output: 1026\n",
    "Explanation:\n",
    "The root-to-leaf path 4->9->5 represents the number 495.\n",
    "The root-to-leaf path 4->9->1 represents the number 491.\n",
    "The root-to-leaf path 4->0 represents the number 40.\n",
    "Therefore, sum = 495 + 491 + 40 = 1026."
   ]
  },
  {
   "cell_type": "code",
   "execution_count": 4,
   "metadata": {},
   "outputs": [
    {
     "data": {
      "text/plain": [
       "1776"
      ]
     },
     "execution_count": 4,
     "metadata": {},
     "output_type": "execute_result"
    }
   ],
   "source": [
    "class Solution:\n",
    "    def sumNumbers(self, root: TreeNode) -> int:\n",
    "        if not root: return 0\n",
    "        self.ans = 0\n",
    "        self.helper(root, root.val)\n",
    "        return self.ans\n",
    "    \n",
    "    def helper(self, root, currsum):\n",
    "        if not root.left and not root.right:\n",
    "            self.ans += currsum\n",
    "            return\n",
    "        \n",
    "        for node in [root.left, root.right]:\n",
    "            if node:\n",
    "                self.helper(node, currsum*10 + node.val)\n",
    "\n",
    "obj = Solution()\n",
    "obj.sumNumbers(tree.root)"
   ]
  },
  {
   "attachments": {
    "image.png": {
     "image/png": "[encoded data removed]"
    }
   },
   "cell_type": "markdown",
   "metadata": {},
   "source": [
    "### Path with given sequence\n",
    "Given a binary tree and a number sequence, find if the sequence is present as a root-to-leaf path in the given tree.\n",
    "![image.png](attachment:image.png)"
   ]
  },
  {
   "cell_type": "code",
   "execution_count": 11,
   "metadata": {},
   "outputs": [
    {
     "data": {
      "text/plain": [
       "True"
      ]
     },
     "execution_count": 11,
     "metadata": {},
     "output_type": "execute_result"
    }
   ],
   "source": [
    "def find_path(root, sequence):\n",
    "    return helper(root, 0, sequence)\n",
    "\n",
    "def helper(root, i, arr):\n",
    "    if not root:\n",
    "        return False\n",
    "\n",
    "    if not root.left and not root.right and i == len(arr)-1 and root.val == arr[i]:\n",
    "        return True\n",
    "\n",
    "    if i == len(arr):\n",
    "        return False\n",
    "\n",
    "    if arr[i] == root.val and helper(root.left, i+1, arr):\n",
    "        return True\n",
    "\n",
    "    if arr[i] == root.val and helper(root.right, i+1, arr):\n",
    "        return True\n",
    "\n",
    "    return False\n",
    "    \n",
    "sequence = [4,6,7]\n",
    "find_path(tree.root, sequence)"
   ]
  },
  {
   "attachments": {
    "image.png": {
     "image/png": "[encoded data removed]"
    }
   },
   "cell_type": "markdown",
   "metadata": {},
   "source": [
    "### Path sum III\n",
    "Given a binary tree and a number ‘S’, find all paths in the tree such that the sum of all the node values of each path equals ‘S’. Please note that the paths can start or end at any node but all paths must follow direction from parent to child (top to bottom).\n",
    "![image.png](attachment:image.png)"
   ]
  },
  {
   "cell_type": "code",
   "execution_count": 67,
   "metadata": {},
   "outputs": [
    {
     "data": {
      "text/plain": [
       "2"
      ]
     },
     "execution_count": 67,
     "metadata": {},
     "output_type": "execute_result"
    }
   ],
   "source": [
    "class Solution:\n",
    "    def pathSum(self, root: TreeNode, sum: int) -> int:\n",
    "        if not root: return 0\n",
    "        return self.helper(root, [root.val], sum)\n",
    "\n",
    "    \n",
    "    def helper(self, root, buffer, sum):\n",
    "        pathsum = 0; count = 0\n",
    "        for i in range(len(buffer)-1,-1,-1):\n",
    "            pathsum += buffer[i]\n",
    "            if pathsum == sum:\n",
    "                count += 1\n",
    "        \n",
    "        if root.left is None and root.right is None:\n",
    "            return count\n",
    "        \n",
    "        for node in [root.left, root.right]:\n",
    "            if node:\n",
    "                buffer.append(node.val)\n",
    "                count += self.helper(node, buffer, sum)\n",
    "                buffer.pop()\n",
    "        return count\n",
    "                \n",
    "obj = Solution()\n",
    "obj.pathSum(tree.root, 3)"
   ]
  },
  {
   "cell_type": "code",
   "execution_count": 4,
   "metadata": {},
   "outputs": [
    {
     "data": {
      "text/plain": [
       "2"
      ]
     },
     "execution_count": 4,
     "metadata": {},
     "output_type": "execute_result"
    }
   ],
   "source": [
    "from collections import Counter\n",
    "class Solution:\n",
    "    def pathSum(self, root: TreeNode, sum: int) -> int:\n",
    "        self.ans = 0\n",
    "        self.counter = Counter([0])\n",
    "        self.helper(root, 0, sum)\n",
    "        return self.ans\n",
    "    \n",
    "    def helper(self, root, currsum, target):\n",
    "        if not root:\n",
    "            return\n",
    "        currsum += root.val\n",
    "        self.ans += self.counter[currsum-target]\n",
    "        self.counter[currsum] += 1\n",
    "        self.helper(root.left, currsum, target)\n",
    "        self.helper(root.right, currsum, target)\n",
    "        self.counter[currsum] -= 1\n",
    "    \n",
    "obj = Solution()\n",
    "obj.pathSum(tree.root, 3)"
   ]
  },
  {
   "attachments": {
    "image.png": {
     "image/png": "[encoded data removed]"
    }
   },
   "cell_type": "markdown",
   "metadata": {},
   "source": [
    "### Given a non-empty binary tree, find the maximum path sum.\n",
    "\n",
    "For this problem, a path is defined as any sequence of nodes from some starting node to any node in the tree along the parent-child connections. The path must contain at least one node and does not need to go through the root.\n",
    "![image.png](attachment:image.png)"
   ]
  },
  {
   "cell_type": "code",
   "execution_count": 68,
   "metadata": {},
   "outputs": [
    {
     "data": {
      "text/plain": [
       "22"
      ]
     },
     "execution_count": 68,
     "metadata": {},
     "output_type": "execute_result"
    }
   ],
   "source": [
    "class Solution:\n",
    "    def maxPathSum(self, root: TreeNode) -> int:\n",
    "        self.maxsum=-float('inf')\n",
    "        self.helper(root)\n",
    "        return self.maxsum\n",
    "    \n",
    "    def helper(self, root):\n",
    "        if not root:\n",
    "            return 0\n",
    "        leftsum = max(self.helper(root.left),0)\n",
    "        rightsum = max(self.helper(root.right),0)\n",
    "        value = root.val + leftsum + rightsum\n",
    "        self.maxsum = max(self.maxsum, value)\n",
    "        return root.val + max(leftsum, rightsum)\n",
    "    \n",
    "obj = Solution()\n",
    "obj.maxPathSum(tree.root)"
   ]
  },
  {
   "cell_type": "markdown",
   "metadata": {},
   "source": [
    "### Longest Univalue Path\n",
    "Given a binary tree, find the length of the longest path where each node in the path has the same value. This path may or may not pass through the root.\n",
    "\n",
    "The length of path between two nodes is represented by the number of edges between them.\n",
    "\n",
    " \n",
    "\n",
    "Example 1:\n",
    "\n",
    "Input:\n",
    "\n",
    "              5\n",
    "             / \\\n",
    "            4   5\n",
    "           / \\   \\\n",
    "          1   1   5"
   ]
  },
  {
   "cell_type": "code",
   "execution_count": 16,
   "metadata": {},
   "outputs": [],
   "source": [
    "class Solution:\n",
    "    def longestUnivaluePath(self, root: TreeNode) -> int:\n",
    "        self.ans = 0\n",
    "        self.helper(root)\n",
    "        return self.ans\n",
    "    \n",
    "    def helper(self, root):\n",
    "        if root is None:\n",
    "            return (0, None)\n",
    "        l_len, l_val = self.helper(root.left)\n",
    "        r_len, r_val = self.helper(root.right)\n",
    "        if l_val != root.val:\n",
    "            l_len = 0\n",
    "        if r_val != root.val:\n",
    "            r_len = 0\n",
    "        self.ans = max(self.ans, l_len + r_len)\n",
    "        return 1+max(l_len, r_len), root.val"
   ]
  },
  {
   "cell_type": "markdown",
   "metadata": {},
   "source": [
    "### Count Univalue Subtrees\n",
    "Given a binary tree, count the number of uni-value subtrees.\n",
    "\n",
    "A Uni-value subtree means all nodes of the subtree have the same value."
   ]
  },
  {
   "cell_type": "code",
   "execution_count": 18,
   "metadata": {},
   "outputs": [],
   "source": [
    "class Solution:\n",
    "    def countUnivalSubtrees(self, root) -> int:\n",
    "        self.ans = 0\n",
    "        self.helper(root)\n",
    "        return self.ans\n",
    "    \n",
    "    def helper(self, root):\n",
    "        if root is None:\n",
    "            return True, None\n",
    "        \n",
    "        left_uni, left_val = self.helper(root.left)\n",
    "        right_uni, right_val = self.helper(root.right)\n",
    "        \n",
    "        left_part = left_uni and (left_val is None or left_val == root.val)\n",
    "        right_part = right_uni and (right_val is None or right_val == root.val)\n",
    "        \n",
    "        is_uni = left_part and right_part\n",
    "        self.ans += is_uni\n",
    "        return (is_uni, root.val)"
   ]
  },
  {
   "cell_type": "markdown",
   "metadata": {},
   "source": [
    "### Binary Tree Longest Consecutive Path\n",
    "Given a binary tree, find the length of the longest consecutive sequence path.\n",
    "\n",
    "The path refers to any sequence of nodes from some starting node to any node in the tree along the parent-child connections. The longest consecutive path need to be from parent to child (cannot be the reverse).\n",
    "\n",
    "Example 1:\n",
    "\n",
    "Input:\n",
    "\n",
    "           1\n",
    "            \\\n",
    "             3\n",
    "            / \\\n",
    "           2   4\n",
    "                \\\n",
    "                 5\n",
    "\n",
    "Output: 3\n",
    "\n",
    "Explanation: Longest consecutive sequence path is 3-4-5, so return 3."
   ]
  },
  {
   "cell_type": "code",
   "execution_count": 25,
   "metadata": {},
   "outputs": [
    {
     "data": {
      "text/plain": [
       "2"
      ]
     },
     "execution_count": 25,
     "metadata": {},
     "output_type": "execute_result"
    }
   ],
   "source": [
    "class Solution:\n",
    "    def longestConsecutive(self, root: TreeNode) -> int:\n",
    "        self.ans = 0\n",
    "        self.helper(root)\n",
    "        return self.ans\n",
    "    \n",
    "    def helper(self, root):\n",
    "        if not root:\n",
    "            return 0\n",
    "        left_size = self.helper(root.left)\n",
    "        right_size = self.helper(root.right)\n",
    "        if root.left and root.left.val != root.val+1:\n",
    "            left_size = 0\n",
    "        if root.right and root.right.val != root.val + 1:\n",
    "            right_size = 0\n",
    "        self.ans = max(self.ans, max(left_size, right_size)+1)\n",
    "        return max(left_size, right_size)+1\n",
    "    \n",
    "obj = Solution()\n",
    "obj.longestConsecutive(tree.root)"
   ]
  },
  {
   "cell_type": "markdown",
   "metadata": {},
   "source": [
    "### Binary Tree Longest Consecutive Sequence II\n",
    "Given a binary tree, you need to find the length of Longest Consecutive Path in Binary Tree.\n",
    "\n",
    "Especially, this path can be either increasing or decreasing. For example, [1,2,3,4] and [4,3,2,1] are both considered valid, but the path [1,2,4,3] is not valid. On the other hand, the path can be in the child-Parent-child order, where not necessarily be parent-child order."
   ]
  },
  {
   "cell_type": "code",
   "execution_count": 23,
   "metadata": {},
   "outputs": [
    {
     "data": {
      "text/plain": [
       "3"
      ]
     },
     "execution_count": 23,
     "metadata": {},
     "output_type": "execute_result"
    }
   ],
   "source": [
    "class Solution:\n",
    "    def longestConsecutiveII(self, root: TreeNode) -> int:\n",
    "        self.ans = 0\n",
    "        self.helper(root)\n",
    "        return self.ans\n",
    "    \n",
    "    def helper(self, root):\n",
    "        if not root:\n",
    "            return 0, 0\n",
    "        \n",
    "        li, ld = self.helper(root.left)\n",
    "        ri, rd = self.helper(root.right)\n",
    "        \n",
    "        if root.left:\n",
    "            li = 0 if root.left.val != root.val + 1 else li\n",
    "            ld = 0 if root.left.val != root.val - 1 else ld\n",
    "        if root.right:\n",
    "            ri = 0 if root.right.val != root.val + 1 else ri\n",
    "            rd = 0 if root.right.val != root.val - 1 else rd\n",
    "            \n",
    "        longest_inc = max(li, ri) + 1\n",
    "        longest_dec = max(ld, rd) + 1\n",
    "        self.ans = max(self.ans, longest_inc + longest_dec - 1)\n",
    "        return longest_inc, longest_dec\n",
    "\n",
    "obj = Solution()\n",
    "obj.longestConsecutiveII(tree.root)"
   ]
  },
  {
   "cell_type": "markdown",
   "metadata": {},
   "source": [
    "### Find Duplicate Subtrees.\n",
    "Given a binary tree, return all duplicate subtrees. For each kind of duplicate subtrees, you only need to return the root node of any one of them.\n",
    "\n",
    "Two trees are duplicate if they have the same structure with same node values."
   ]
  },
  {
   "cell_type": "code",
   "execution_count": 7,
   "metadata": {},
   "outputs": [],
   "source": [
    "class Solution:\n",
    "    def findDuplicateSubtrees(self, root: TreeNode):\n",
    "        self.counter = collections.Counter(); self.ans = []\n",
    "        self.serialize(root)\n",
    "        return self.ans\n",
    "    \n",
    "    def serialize(self, root):\n",
    "        if root is None:\n",
    "            return '#'\n",
    "        left = self.serialize(root.left)\n",
    "        right = self.serialize(root.right)\n",
    "        string = str(root.val) + ' ' + left + ' ' + right\n",
    "        self.counter[string] += 1\n",
    "        if self.counter[string] == 2:\n",
    "            self.ans.append(root)\n",
    "        return string"
   ]
  },
  {
   "cell_type": "markdown",
   "metadata": {},
   "source": [
    "### Serialize and Deserialize Binary Tree\n"
   ]
  },
  {
   "cell_type": "code",
   "execution_count": 11,
   "metadata": {},
   "outputs": [
    {
     "name": "stdout",
     "output_type": "stream",
     "text": [
      "4 2 1 null null 3 null null 6 5 null null 7 null null\n"
     ]
    },
    {
     "data": {
      "text/plain": [
       "<__main__.TreeNode at 0x7f99b6d2d8d0>"
      ]
     },
     "execution_count": 11,
     "metadata": {},
     "output_type": "execute_result"
    }
   ],
   "source": [
    "class Codec:\n",
    "\n",
    "    def serialize(self, root):\n",
    "        string = []\n",
    "        self.serialize_helper(root, string)\n",
    "        return ' '.join(string)\n",
    "    \n",
    "    def serialize_helper(self, root ,string):\n",
    "        if root is None:\n",
    "            string.append('null')\n",
    "            return\n",
    "        string.append(str(root.val))\n",
    "        self.serialize_helper(root.left, string)\n",
    "        self.serialize_helper(root.right, string)\n",
    "        \n",
    "\n",
    "    def deserialize(self, data):\n",
    "        arr = data.split(' ')\n",
    "        return self.deserialize_helper(arr)\n",
    "    \n",
    "    def deserialize_helper(self, arr):\n",
    "        val = arr.pop(0)\n",
    "        if val == 'null':\n",
    "            return\n",
    "        root = TreeNode(int(val))\n",
    "        root.left = self.deserialize_helper(arr)\n",
    "        root.right = self.deserialize_helper(arr)\n",
    "        return root\n",
    "\n",
    "codec = Codec()\n",
    "serialized_string = codec.serialize(tree.root)\n",
    "print(serialized_string)\n",
    "codec.deserialize(serialized_string)"
   ]
  },
  {
   "cell_type": "markdown",
   "metadata": {},
   "source": [
    "### Serialize and Deserialize N-ary Tree\n"
   ]
  },
  {
   "cell_type": "code",
   "execution_count": 15,
   "metadata": {},
   "outputs": [],
   "source": [
    "class Codec:\n",
    "\n",
    "    def serialize(self, root):\n",
    "        string = []\n",
    "        self.serialize_helper(root, string)\n",
    "        return ' '.join(string)\n",
    "    \n",
    "    def serialize_helper(self, root, string):\n",
    "        if root is None:\n",
    "            string.append('null')\n",
    "            return\n",
    "        string.append(str(root.val))\n",
    "        string.append(str(len(root.children)))\n",
    "        for child in root.children:\n",
    "            self.serialize_helper(child, string)\n",
    "\n",
    "    def deserialize(self, data):\n",
    "        arr = data.split(' ')\n",
    "        return self.deserialize_helper(arr)\n",
    "    \n",
    "    def deserialize_helper(self, arr):\n",
    "        val = arr.pop(0)\n",
    "        if val == 'null': return\n",
    "        node = Node(int(val), [])\n",
    "        for i in range(int(arr.pop(0))):\n",
    "            node.children.append(self.deserialize_helper(arr))\n",
    "        return node"
   ]
  },
  {
   "attachments": {
    "image.png": {
     "image/png": "[encoded data removed]"
    }
   },
   "cell_type": "markdown",
   "metadata": {},
   "source": [
    "### Construct Binary Search Tree from Preorder Traversal\n",
    "![image.png](attachment:image.png)"
   ]
  },
  {
   "cell_type": "code",
   "execution_count": 17,
   "metadata": {},
   "outputs": [
    {
     "data": {
      "text/plain": [
       "<__main__.TreeNode at 0x7f99b6cba908>"
      ]
     },
     "execution_count": 17,
     "metadata": {},
     "output_type": "execute_result"
    }
   ],
   "source": [
    "class Solution:\n",
    "    def bstFromPreorder(self, preorder) -> TreeNode:\n",
    "        return self.helper(preorder, float('inf'))\n",
    "    \n",
    "    def helper(self, preorder, max_val):\n",
    "        if not preorder or preorder[0]>max_val:\n",
    "            return\n",
    "        root = TreeNode(preorder.pop(0))\n",
    "        root.left = self.helper(preorder, root.val)\n",
    "        root.right = self.helper(preorder, max_val)\n",
    "        return root\n",
    "\n",
    "obj = Solution()\n",
    "obj.bstFromPreorder([8,5,1,7,10,12])"
   ]
  },
  {
   "cell_type": "markdown",
   "metadata": {},
   "source": [
    "### Serialize and Deserialize Binary Search Tree"
   ]
  },
  {
   "cell_type": "code",
   "execution_count": 18,
   "metadata": {},
   "outputs": [
    {
     "name": "stdout",
     "output_type": "stream",
     "text": [
      "4 2 1 3 6 5 7\n"
     ]
    },
    {
     "data": {
      "text/plain": [
       "<__main__.TreeNode at 0x7f99b6cf3f60>"
      ]
     },
     "execution_count": 18,
     "metadata": {},
     "output_type": "execute_result"
    }
   ],
   "source": [
    "class Codec:\n",
    "\n",
    "    def serialize(self, root):\n",
    "        string = []\n",
    "        self.serialize_helper(root, string)\n",
    "        return ' '.join(string)\n",
    "    \n",
    "    def serialize_helper(self, root, string):\n",
    "        if not root: return\n",
    "        string.append(str(root.val))\n",
    "        self.serialize_helper(root.left, string)\n",
    "        self.serialize_helper(root.right, string)\n",
    "        \n",
    "    def deserialize(self, data):\n",
    "        if not data: return\n",
    "        preorder = data.split(' ')\n",
    "        return self.deserialize_helper(preorder, float('inf'))\n",
    "    \n",
    "    def deserialize_helper(self, preorder, max_val):\n",
    "        if not preorder or int(preorder[0])>max_val:\n",
    "            return\n",
    "        root = TreeNode(int(preorder.pop(0)))\n",
    "        root.left = self.deserialize_helper(preorder, root.val)\n",
    "        root.right = self.deserialize_helper(preorder, max_val)\n",
    "        return root\n",
    "\n",
    "codec = Codec()\n",
    "serialized_string = codec.serialize(tree.root)\n",
    "print(serialized_string)\n",
    "codec.deserialize(serialized_string)"
   ]
  },
  {
   "cell_type": "markdown",
   "metadata": {},
   "source": [
    "### Encode N-ary Tree to Binary Tree"
   ]
  },
  {
   "cell_type": "code",
   "execution_count": 5,
   "metadata": {},
   "outputs": [],
   "source": [
    "class Node:\n",
    "    def __init__(self, val=None, children=None):\n",
    "        self.val = val\n",
    "        self.children = children\n",
    "        \n",
    "class TreeNode:\n",
    "    def __init__(self, x):\n",
    "        self.val = x\n",
    "        self.left = None\n",
    "        self.right = None\n",
    "\n",
    "class Codec:\n",
    "    def encode(self, root: 'Node') -> TreeNode:\n",
    "        if not root:\n",
    "            return \n",
    "        \n",
    "        new_root = TreeNode(root.val)\n",
    "        if len(root.children) > 0:\n",
    "            new_root.left = self.encode(root.children[0])\n",
    "            \n",
    "        node = new_root.left\n",
    "        for i in range(1, len(root.children)):\n",
    "            node.right = self.encode(root.children[i])\n",
    "            node = node.right\n",
    "            \n",
    "        return new_root\n",
    "        \n",
    "    def decode(self, root: TreeNode) -> 'Node':\n",
    "        if not root:\n",
    "            return\n",
    "        new_root = Node(root.val, [])\n",
    "        node = root.left\n",
    "        while node:\n",
    "            new_root.children.append(self.decode(node))\n",
    "            node = node.right\n",
    "        return new_root"
   ]
  },
  {
   "attachments": {
    "image.png": {
     "image/png": "[encoded data removed]"
    }
   },
   "cell_type": "markdown",
   "metadata": {},
   "source": [
    "### Delete Nodes and return forest\n",
    "Given the root of a binary tree, each node in the tree has a distinct value.\n",
    "\n",
    "After deleting all nodes with a value in to_delete, we are left with a forest (a disjoint union of trees).\n",
    "\n",
    "Return the roots of the trees in the remaining forest.  You may return the result in any order.\n",
    "![image.png](attachment:image.png)"
   ]
  },
  {
   "cell_type": "code",
   "execution_count": 4,
   "metadata": {},
   "outputs": [],
   "source": [
    "# via DFS\n",
    "class Solution:\n",
    "    def delNodes(self, root: TreeNode, to_delete):\n",
    "        self.res = []\n",
    "        to_delete = set(to_delete)\n",
    "        self.helper(root, True, to_delete)\n",
    "        return self.res\n",
    "    \n",
    "    def helper(self, root, is_root, to_delete):\n",
    "        if not root:\n",
    "            return\n",
    "        if is_root and root.val not in to_delete:\n",
    "            self.res.append(root)\n",
    "        child_is_root = root.val in to_delete\n",
    "        root.left = self.helper(root.left, child_is_root, to_delete)\n",
    "        root.right = self.helper(root.right, child_is_root, to_delete)\n",
    "        return root if root.val not in to_delete else None"
   ]
  },
  {
   "cell_type": "code",
   "execution_count": 5,
   "metadata": {},
   "outputs": [],
   "source": [
    "# via BFS\n",
    "class Solution:\n",
    "    def delNodes(self, root: TreeNode, to_delete):\n",
    "        queue = [(root, False)]\n",
    "        to_delete = set(to_delete)\n",
    "        res = []\n",
    "        \n",
    "        while queue:\n",
    "            node, has_parent = queue.pop(0)\n",
    "            if not has_parent and node.val not in to_delete:\n",
    "                res.append(node)\n",
    "            \n",
    "            has_parent = not node.val in to_delete\n",
    "            if node.left:\n",
    "                queue.append((node.left, has_parent))\n",
    "                if node.left.val in to_delete:\n",
    "                    node.left = None\n",
    "            if node.right:\n",
    "                queue.append((node.right, has_parent))\n",
    "                if node.right.val in to_delete:\n",
    "                    node.right = None\n",
    "        \n",
    "        return res"
   ]
  },
  {
   "cell_type": "markdown",
   "metadata": {},
   "source": [
    "### Delete Leaves With a Given Value\n",
    "Given a binary tree root and an integer target, delete all the leaf nodes with value target.\n",
    "\n",
    "Note that once you delete a leaf node with value target, if it's parent node becomes a leaf node and has the value target, it should also be deleted (you need to continue doing that until you can't)."
   ]
  },
  {
   "cell_type": "code",
   "execution_count": 3,
   "metadata": {},
   "outputs": [
    {
     "data": {
      "text/plain": [
       "<__main__.TreeNode at 0x7f9e37347898>"
      ]
     },
     "execution_count": 3,
     "metadata": {},
     "output_type": "execute_result"
    }
   ],
   "source": [
    "class Solution:\n",
    "    def removeLeafNodes(self, root: TreeNode, target: int) -> TreeNode:\n",
    "        return self.helper(root, target)\n",
    "    \n",
    "    def helper(self, root, target):\n",
    "        if not root:\n",
    "            return\n",
    "        root.left = self.helper(root.left, target)\n",
    "        root.right = self.helper(root.right, target)\n",
    "        return None if root.left is None and root.right is None and root.val == target else root\n",
    "\n",
    "obj = Solution()\n",
    "obj.removeLeafNodes(tree.root, 1)"
   ]
  },
  {
   "cell_type": "markdown",
   "metadata": {},
   "source": [
    "### Find Leaves of Binary Tree\n",
    "Given a binary tree, collect a tree's nodes as if you were doing this: Collect and remove all leaves, repeat until the tree is empty.\n",
    "\n",
    "                  1\n",
    "                 / \\\n",
    "                2   3\n",
    "               / \\     \n",
    "              4   5    \n",
    "\n",
    "Output: [[4,5,3],[2],[1]]\n"
   ]
  },
  {
   "cell_type": "code",
   "execution_count": 4,
   "metadata": {},
   "outputs": [
    {
     "data": {
      "text/plain": [
       "[[1, 3, 5, 7], [2, 6], [4]]"
      ]
     },
     "execution_count": 4,
     "metadata": {},
     "output_type": "execute_result"
    }
   ],
   "source": [
    "class Solution:\n",
    "    def findLeaves(self, root: TreeNode):\n",
    "        self.res = []\n",
    "        self.min = float('inf'); self.max = -float('inf')\n",
    "        self.helper(root)\n",
    "        return self.res\n",
    "        \n",
    "    def helper(self, root):\n",
    "        if root is None:\n",
    "            return -1\n",
    "        left = self.helper(root.left)\n",
    "        right = self.helper(root.right)\n",
    "        height = 1 + max(left, right)\n",
    "        if height >= len(self.res):\n",
    "            self.res.append([])\n",
    "        self.res[height].append(root.val)\n",
    "        return height\n",
    "\n",
    "obj = Solution()\n",
    "obj.findLeaves(tree.root)"
   ]
  },
  {
   "cell_type": "markdown",
   "metadata": {},
   "source": [
    "###  Binary Tree Cameras\n",
    "Given a binary tree, we install cameras on the nodes of the tree. \n",
    "\n",
    "Each camera at a node can monitor its parent, itself, and its immediate children.\n",
    "\n",
    "Calculate the minimum number of cameras needed to monitor all nodes of the tree."
   ]
  },
  {
   "cell_type": "code",
   "execution_count": 8,
   "metadata": {},
   "outputs": [
    {
     "data": {
      "text/plain": [
       "2"
      ]
     },
     "execution_count": 8,
     "metadata": {},
     "output_type": "execute_result"
    }
   ],
   "source": [
    "class Solution:\n",
    "    def minCameraCover(self, root: TreeNode) -> int:\n",
    "        self.need_cam = 0\n",
    "        self.monitored = 1\n",
    "        self.has_cam = 2\n",
    "        self.camera = 0\n",
    "        \n",
    "        top_state = self.helper(root)\n",
    "        if top_state == self.need_cam:\n",
    "            return self.camera + 1\n",
    "        return self.camera\n",
    "    \n",
    "    def helper(self, root):\n",
    "        if root is None:\n",
    "            return self.monitored\n",
    "        \n",
    "        left = self.helper(root.left)\n",
    "        right = self.helper(root.right)\n",
    "        if left == self.monitored and right == self.monitored:\n",
    "            return self.need_cam\n",
    "        if left == self.need_cam or right == self.need_cam:\n",
    "            self.camera += 1\n",
    "            return self.has_cam\n",
    "        return self.monitored\n",
    "\n",
    "obj = Solution()\n",
    "obj.minCameraCover(tree.root)"
   ]
  },
  {
   "cell_type": "markdown",
   "metadata": {},
   "source": [
    "### Distribute Coins in Binary Tree\n",
    "Given the root of a binary tree with N nodes, each node in the tree has node.val coins, and there are N coins total.\n",
    "\n",
    "In one move, we may choose two adjacent nodes and move one coin from one node to another.  (The move may be from parent to child, or from child to parent.)\n",
    "\n",
    "Return the number of moves required to make every node have exactly one coin."
   ]
  },
  {
   "cell_type": "code",
   "execution_count": 12,
   "metadata": {},
   "outputs": [],
   "source": [
    "class Solution:\n",
    "    def distributeCoins(self, root: TreeNode) -> int:\n",
    "        self.ans = 0\n",
    "        self.helper(root)\n",
    "        return self.ans\n",
    "    \n",
    "    def helper(self, root):\n",
    "        if not root:\n",
    "            return 0\n",
    "        left = self.helper(root.left)\n",
    "        right = self.helper(root.right)\n",
    "        coins_to_move = root.val + left + right - 1\n",
    "        self.ans += abs(coins_to_move)\n",
    "        return coins_to_move"
   ]
  },
  {
   "cell_type": "markdown",
   "metadata": {},
   "source": [
    "### Binary Tree Coloring Game\n",
    "Two players play a turn based game on a binary tree.  We are given the root of this binary tree, and the number of nodes n in the tree.  n is odd, and each node has a distinct value from 1 to n.\n",
    "\n",
    "Initially, the first player names a value x with 1 <= x <= n, and the second player names a value y with 1 <= y <= n and y != x.  The first player colors the node with value x red, and the second player colors the node with value y blue.\n",
    "\n",
    "Then, the players take turns starting with the first player.  In each turn, that player chooses a node of their color (red if player 1, blue if player 2) and colors an uncolored neighbor of the chosen node (either the left child, right child, or parent of the chosen node.)\n",
    "\n",
    "If (and only if) a player cannot choose such a node in this way, they must pass their turn.  If both players pass their turn, the game ends, and the winner is the player that colored more nodes.\n",
    "\n",
    "You are the second player.  If it is possible to choose such a y to ensure you win the game, return true.  If it is not possible, return false."
   ]
  },
  {
   "cell_type": "code",
   "execution_count": 12,
   "metadata": {},
   "outputs": [],
   "source": [
    "class Solution:\n",
    "    def btreeGameWinningMove(self, root: TreeNode, n: int, x: int) -> bool:\n",
    "        q = [root]\n",
    "        while q:\n",
    "            node = q.pop(0)\n",
    "            if node.val == x:\n",
    "                left = self.get_size(node.left)\n",
    "                right = self.get_size(node.right)\n",
    "                break\n",
    "            if node.left: q.append(node.left)\n",
    "            if node.right: q.append(node.right)\n",
    "        \n",
    "        if left + right + 1 < n/2:\n",
    "            return True\n",
    "        if left > n/2 or right > n/2:\n",
    "            return True\n",
    "        return False\n",
    "    \n",
    "    def get_size(self, root):\n",
    "        if not root:\n",
    "            return 0\n",
    "        size = 1\n",
    "        size += self.get_size(root.left)\n",
    "        size += self.get_size(root.right)\n",
    "        return size"
   ]
  },
  {
   "cell_type": "markdown",
   "metadata": {},
   "source": [
    "### Flip Equivalent Binary Trees\n",
    "For a binary tree T, we can define a flip operation as follows: choose any node, and swap the left and right child subtrees.\n",
    "\n",
    "A binary tree X is flip equivalent to a binary tree Y if and only if we can make X equal to Y after some number of flip operations.\n",
    "\n",
    "Write a function that determines whether two binary trees are flip equivalent.  The trees are given by root nodes root1 and root2."
   ]
  },
  {
   "cell_type": "code",
   "execution_count": 5,
   "metadata": {},
   "outputs": [],
   "source": [
    "class Solution:\n",
    "    def flipEquiv(self, root1, root2) -> bool:\n",
    "        if root1 is None or root2 is None:\n",
    "            return root1 == root2\n",
    "        \n",
    "        if root1.val == root2.val:\n",
    "            if self.flipEquiv(root1.left, root2.left) and self.flipEquiv(root1.right, root2.right):\n",
    "                return True\n",
    "            if self.flipEquiv(root1.right, root2.left) and self.flipEquiv(root1.left, root2.right):\n",
    "                return True\n",
    "        return False"
   ]
  },
  {
   "cell_type": "markdown",
   "metadata": {},
   "source": [
    "### Maximum Difference Between Node and Ancestor\n",
    "Given the root of a binary tree, find the maximum value V for which there exists different nodes A and B where V = |A.val - B.val| and A is an ancestor of B.\n",
    "\n",
    "(A node A is an ancestor of B if either: any child of A is equal to B, or any child of A is an ancestor of B.)"
   ]
  },
  {
   "cell_type": "code",
   "execution_count": 8,
   "metadata": {},
   "outputs": [
    {
     "data": {
      "text/plain": [
       "3"
      ]
     },
     "execution_count": 8,
     "metadata": {},
     "output_type": "execute_result"
    }
   ],
   "source": [
    "class Solution:\n",
    "    def maxAncestorDiff(self, root: TreeNode) -> int:\n",
    "        self.ans = -float('inf')\n",
    "        self.helper(root)\n",
    "        return self.ans\n",
    "    \n",
    "    def helper(self, root):\n",
    "        if root is None:\n",
    "            return []\n",
    "        left = self.helper(root.left)\n",
    "        right = self.helper(root.right)\n",
    "        desc = left + right\n",
    "        if len(desc) == 0:\n",
    "            return [root.val, root.val]\n",
    "        max_val = max([root.val] + desc)\n",
    "        min_val = min([root.val] + desc)\n",
    "        for val in desc:\n",
    "            self.ans = max(self.ans, abs(root.val-val))\n",
    "        return [min_val, max_val]\n",
    "\n",
    "Solution().maxAncestorDiff(tree.root)"
   ]
  },
  {
   "cell_type": "markdown",
   "metadata": {},
   "source": [
    "### Smallest String Starting From Leaf \n",
    "Given the root of a binary tree, each node has a value from 0 to 25 representing the letters 'a' to 'z': a value of 0 represents 'a', a value of 1 represents 'b', and so on.\n",
    "\n",
    "Find the lexicographically smallest string that starts at a leaf of this tree and ends at the root.\n",
    "\n",
    "(As a reminder, any shorter prefix of a string is lexicographically smaller: for example, \"ab\" is lexicographically smaller than \"aba\".  A leaf of a node is a node that has no children.)"
   ]
  },
  {
   "cell_type": "code",
   "execution_count": 6,
   "metadata": {},
   "outputs": [
    {
     "data": {
      "text/plain": [
       "'bce'"
      ]
     },
     "execution_count": 6,
     "metadata": {},
     "output_type": "execute_result"
    }
   ],
   "source": [
    "class Solution:\n",
    "    def smallestFromLeaf(self, root: TreeNode) -> str:\n",
    "        self.ans = chr(127)\n",
    "        self.helper(root, [chr(97+root.val)])\n",
    "        return self.ans\n",
    "    \n",
    "    def helper(self, root, path):\n",
    "        if not root.left and not root.right:\n",
    "            string = ''.join(path)\n",
    "            self.ans = min(self.ans, string[::-1])\n",
    "            return\n",
    "        if root.left:\n",
    "            self.helper(root.left, path+[chr(97+root.left.val)])\n",
    "        if root.right:\n",
    "            self.helper(root.right, path+[chr(97+root.right.val)])\n",
    "    \n",
    "Solution().smallestFromLeaf(tree.root)"
   ]
  },
  {
   "cell_type": "markdown",
   "metadata": {},
   "source": [
    "### Flip Binary Tree To Match Preorder Traversal \n",
    "Given a binary tree with N nodes, each node has a different value from {1, ..., N}.\n",
    "\n",
    "A node in this binary tree can be flipped by swapping the left child and the right child of that node.\n",
    "\n",
    "Consider the sequence of N values reported by a preorder traversal starting from the root.  Call such a sequence of N values the voyage of the tree.\n",
    "\n",
    "(Recall that a preorder traversal of a node means we report the current node's value, then preorder-traverse the left child, then preorder-traverse the right child.)\n",
    "\n",
    "Our goal is to flip the least number of nodes in the tree so that the voyage of the tree matches the voyage we are given.\n",
    "\n",
    "If we can do so, then return a list of the values of all nodes flipped.  You may return the answer in any order.\n",
    "\n",
    "If we cannot do so, then return the list [-1]."
   ]
  },
  {
   "cell_type": "code",
   "execution_count": 7,
   "metadata": {},
   "outputs": [],
   "source": [
    "class Solution:\n",
    "    def flipMatchVoyage(self, root: TreeNode, voyage):\n",
    "        self.i = 0\n",
    "        self.res = []\n",
    "        val = self.dfs(root, voyage)\n",
    "        return self.res if val  else [-1]\n",
    "    \n",
    "    def dfs(self, root, voyage):\n",
    "        if not root:\n",
    "            return True\n",
    "        if root.val != voyage[self.i]:\n",
    "            return False\n",
    "        self.i += 1\n",
    "        if root.left and root.left.val != voyage[self.i]:\n",
    "            self.res.append(root.val)\n",
    "            root.left, root.right = root.right, root.left\n",
    "        return self.dfs(root.left, voyage) and self.dfs(root.right, voyage)        "
   ]
  },
  {
   "cell_type": "markdown",
   "metadata": {},
   "source": [
    "### Insufficient Nodes in Root to Leaf Paths\n",
    "Given the root of a binary tree, consider all root to leaf paths: paths from the root to any leaf.  (A leaf is a node with no children.)\n",
    "\n",
    "A node is insufficient if every such root to leaf path intersecting this node has sum strictly less than limit.\n",
    "\n",
    "Delete all insufficient nodes simultaneously, and return the root of the resulting binary tree."
   ]
  },
  {
   "cell_type": "code",
   "execution_count": 30,
   "metadata": {},
   "outputs": [
    {
     "name": "stdout",
     "output_type": "stream",
     "text": [
      "4 5 6 7 "
     ]
    }
   ],
   "source": [
    "class Solution:\n",
    "    def sufficientSubset(self, root: TreeNode, limit: int) -> TreeNode:\n",
    "        return self.helper(root, 0, limit)[1]\n",
    "    \n",
    "    def helper(self, root, p_sum, limit):\n",
    "        if not root:\n",
    "            return -float('inf'), None\n",
    "        \n",
    "        left_sum, root.left = self.helper(root.left, p_sum+root.val, limit)\n",
    "        right_sum, root.right = self.helper(root.right, p_sum+root.val, limit)\n",
    "        \n",
    "        if left_sum == right_sum == -float('inf'):\n",
    "            root_sum = root.val\n",
    "        else:\n",
    "            root_sum = max(left_sum, right_sum) + root.val\n",
    "        \n",
    "        if root_sum + p_sum < limit:\n",
    "            root = None\n",
    "        return root_sum, root\n",
    "\n",
    "Solution().sufficientSubset(tree.root, 10)\n",
    "inorder(tree.root)"
   ]
  }
 ],
 "metadata": {
  "kernelspec": {
   "display_name": "Python 3",
   "language": "python",
   "name": "python3"
  },
  "language_info": {
   "codemirror_mode": {
    "name": "ipython",
    "version": 3
   },
   "file_extension": ".py",
   "mimetype": "text/x-python",
   "name": "python",
   "nbconvert_exporter": "python",
   "pygments_lexer": "ipython3",
   "version": "3.6.8"
  }
 },
 "nbformat": 4,
 "nbformat_minor": 2
}
