{
 "cells": [
  {
   "cell_type": "code",
   "execution_count": 19,
   "metadata": {},
   "outputs": [],
   "source": [
    "import random\n",
    "\n",
    "def findKthLargest(nums, k):\n",
    "    target_index = len(nums) - k\n",
    "    return helper(nums, 0, len(nums)-1, target_index)\n",
    "    \n",
    "def helper(nums, start, end, target_index):\n",
    "    pivot = random.randint(start, end)\n",
    "    result = partition(nums, start, end, pivot)\n",
    "    if target_index < result:\n",
    "        return helper(nums, start, result-1, target_index)\n",
    "    elif target_index > result:\n",
    "        return helper(nums, result+1, end, target_index)\n",
    "    else:\n",
    "        return nums[result]\n",
    "\n",
    "def partition(nums, start, end, pivot):\n",
    "    nums[start], nums[pivot] = nums[pivot], nums[start]\n",
    "    less = start\n",
    "    for i in range(start+1, end+1):\n",
    "        if nums[i]<=nums[start]:\n",
    "            less += 1\n",
    "            nums[i], nums[less] = nums[less], nums[i]\n",
    "    nums[start], nums[less] = nums[less], nums[start]\n",
    "    return less"
   ]
  },
  {
   "cell_type": "code",
   "execution_count": 20,
   "metadata": {},
   "outputs": [
    {
     "data": {
      "text/plain": [
       "5"
      ]
     },
     "execution_count": 20,
     "metadata": {},
     "output_type": "execute_result"
    }
   ],
   "source": [
    "findKthLargest([3,2,1,5,6,4], 2)"
   ]
  }
 ],
 "metadata": {
  "kernelspec": {
   "display_name": "Python 3",
   "language": "python",
   "name": "python3"
  },
  "language_info": {
   "codemirror_mode": {
    "name": "ipython",
    "version": 3
   },
   "file_extension": ".py",
   "mimetype": "text/x-python",
   "name": "python",
   "nbconvert_exporter": "python",
   "pygments_lexer": "ipython3",
   "version": "3.6.8"
  }
 },
 "nbformat": 4,
 "nbformat_minor": 2
}
