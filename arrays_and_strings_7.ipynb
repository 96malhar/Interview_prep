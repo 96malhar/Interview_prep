{
 "cells": [
  {
   "cell_type": "markdown",
   "metadata": {},
   "source": [
    "### Design Twitter\n",
    "\n",
    "Design a simplified version of Twitter where users can post tweets, follow/unfollow another user and is able to see the 10 most recent tweets in the user's news feed. Your design should support the following methods:\n",
    "\n",
    "* postTweet(userId, tweetId): Compose a new tweet.\n",
    "* getNewsFeed(userId): Retrieve the 10 most recent tweet ids in the user's news feed. Each item in the news feed must be posted by users who the user followed or by the user herself. Tweets must be ordered from most recent to least recent.\n",
    "* follow(followerId, followeeId): Follower follows a followee.\n",
    "* unfollow(followerId, followeeId): Follower unfollows a followee."
   ]
  },
  {
   "cell_type": "code",
   "execution_count": 6,
   "metadata": {},
   "outputs": [],
   "source": [
    "from collections import defaultdict\n",
    "from heapq import heappush, heappop\n",
    "class Twitter:\n",
    "\n",
    "    def __init__(self):\n",
    "        \"\"\"\n",
    "        Initialize your data structure here.\n",
    "        \"\"\"\n",
    "        self.graph = defaultdict(set)\n",
    "        self.tweets = defaultdict(list)\n",
    "        self.time = 0\n",
    "        \n",
    "\n",
    "    def postTweet(self, userId: int, tweetId: int):\n",
    "        \"\"\"\n",
    "        Compose a new tweet.\n",
    "        \"\"\"\n",
    "        tweet_list = self.tweets[userId]\n",
    "        heappush(tweet_list, (self.time, tweetId))\n",
    "        self.time += 1\n",
    "        if len(tweet_list)>10:\n",
    "            heappop(tweet_list)\n",
    "        \n",
    "\n",
    "    def getNewsFeed(self, userId: int):\n",
    "        \"\"\"\n",
    "        Retrieve the 10 most recent tweet ids in the user's news feed. \n",
    "        Each item in the news feed must be posted by users who the user followed or by the user herself. \n",
    "        Tweets must be ordered from most recent to least recent.\n",
    "        \"\"\"\n",
    "        heap = []\n",
    "        following = self.graph[userId]\n",
    "        following.add(userId)\n",
    "        for user in following:\n",
    "            for time, tweet_id in self.tweets[user]:\n",
    "                heappush(heap, (time, tweet_id))\n",
    "                if len(heap) > 10:\n",
    "                    heappop(heap)\n",
    "        newsfeed = []\n",
    "        while heap:\n",
    "            newsfeed.append(heappop(heap)[1])\n",
    "        return newsfeed[::-1]\n",
    "            \n",
    "        \n",
    "\n",
    "    def follow(self, followerId: int, followeeId: int):\n",
    "        \"\"\"\n",
    "        Follower follows a followee. If the operation is invalid, it should be a no-op.\n",
    "        \"\"\"\n",
    "        self.graph[followerId].add(followeeId)\n",
    "        \n",
    "\n",
    "    def unfollow(self, followerId: int, followeeId: int):\n",
    "        \"\"\"\n",
    "        Follower unfollows a followee. If the operation is invalid, it should be a no-op.\n",
    "        \"\"\"\n",
    "        self.graph[followerId].discard(followeeId)\n",
    "        \n",
    "        \n",
    "\n",
    "\n",
    "# Your Twitter object will be instantiated and called as such:\n",
    "# obj = Twitter()\n",
    "# obj.postTweet(userId,tweetId)\n",
    "# param_2 = obj.getNewsFeed(userId)\n",
    "# obj.follow(followerId,followeeId)\n",
    "# obj.unfollow(followerId,followeeId)"
   ]
  },
  {
   "cell_type": "markdown",
   "metadata": {},
   "source": [
    "### Longest Well-Performing Interval\n",
    "\n",
    "We are given hours, a list of the number of hours worked per day for a given employee.\n",
    "\n",
    "A day is considered to be a tiring day if and only if the number of hours worked is (strictly) greater than 8.\n",
    "\n",
    "A well-performing interval is an interval of days for which the number of tiring days is strictly larger than the number of non-tiring days.\n",
    "\n",
    "Return the length of the longest well-performing interval."
   ]
  },
  {
   "cell_type": "code",
   "execution_count": 8,
   "metadata": {},
   "outputs": [
    {
     "data": {
      "text/plain": [
       "3"
      ]
     },
     "execution_count": 8,
     "metadata": {},
     "output_type": "execute_result"
    }
   ],
   "source": [
    "def longestWPI(hours) -> int:\n",
    "    hashmap = {}\n",
    "    ans = presum = 0\n",
    "    for i, num in enumerate(hours):\n",
    "        presum += 1 if num > 8 else - 1\n",
    "        if presum >= 1:\n",
    "            ans = i + 1\n",
    "        else:\n",
    "            if presum-1 in hashmap:\n",
    "                ans = max(ans, i-hashmap[presum-1])\n",
    "\n",
    "        if presum not in hashmap:\n",
    "            hashmap[presum] = i\n",
    "    return ans\n",
    "\n",
    "longestWPI([9,9,6,0,6,6,9])"
   ]
  },
  {
   "cell_type": "markdown",
   "metadata": {},
   "source": [
    "### Encode and Decode Strings\n",
    "\n",
    "Design an algorithm to encode a list of strings to a string. The encoded string is then sent over the network and is decoded back to the original list of strings.\n",
    "\n",
    "Machine 1 (sender) has the function:"
   ]
  },
  {
   "cell_type": "code",
   "execution_count": 12,
   "metadata": {},
   "outputs": [
    {
     "data": {
      "text/plain": [
       "['hi', 'hello', 'how', 'are']"
      ]
     },
     "execution_count": 12,
     "metadata": {},
     "output_type": "execute_result"
    }
   ],
   "source": [
    "class Codec:\n",
    "    def encode(self, strs) -> str:\n",
    "        \"\"\"Encodes a list of strings to a single string.\n",
    "        \"\"\"\n",
    "        res = []\n",
    "        for string in strs:\n",
    "            res.append(str(len(string)))\n",
    "            res.append('/')\n",
    "            res.append(string)\n",
    "        return ''.join(res)\n",
    "\n",
    "    def decode(self, s):\n",
    "        \"\"\"Decodes a single string to a list of strings.\n",
    "        \"\"\"\n",
    "        res = []\n",
    "        i = 0\n",
    "        while i<len(s):\n",
    "            slash = s.find('/', i)\n",
    "            size = int(s[i:slash])\n",
    "            i = slash + size + 1\n",
    "            res.append(s[slash+1 : i])   \n",
    "        return res\n",
    "\n",
    "obj = Codec()\n",
    "encoding = obj.encode(['hi', 'hello', 'how', 'are'])\n",
    "obj.decode(encoding)"
   ]
  },
  {
   "cell_type": "markdown",
   "metadata": {},
   "source": [
    "### Count Binary Substrings\n",
    "\n",
    "Give a string s, count the number of non-empty (contiguous) substrings that have the same number of 0's and 1's, and all the 0's and all the 1's in these substrings are grouped consecutively.\n",
    "\n",
    "Substrings that occur multiple times are counted the number of times they occur."
   ]
  },
  {
   "cell_type": "code",
   "execution_count": 14,
   "metadata": {},
   "outputs": [
    {
     "data": {
      "text/plain": [
       "6"
      ]
     },
     "execution_count": 14,
     "metadata": {},
     "output_type": "execute_result"
    }
   ],
   "source": [
    "def countBinarySubstrings(s: str) -> int:\n",
    "    zerocount = onecount = 0; res = 0\n",
    "    for i in range(len(s)):\n",
    "        if i>0 and s[i] != s[i-1]:  \n",
    "            res += min(zerocount, onecount)\n",
    "            if s[i] == '1':\n",
    "                onecount = 0\n",
    "            else:\n",
    "                zerocount = 0\n",
    "        if s[i] == '1':\n",
    "            onecount += 1\n",
    "        else:\n",
    "            zerocount += 1\n",
    "\n",
    "    res += min(zerocount, onecount)\n",
    "    return res\n",
    "\n",
    "countBinarySubstrings(\"00110011\")"
   ]
  },
  {
   "cell_type": "markdown",
   "metadata": {},
   "source": [
    "### Break a Palindrome\n",
    "\n",
    "Given a palindromic string palindrome, replace exactly one character by any lowercase English letter so that the string becomes the lexicographically smallest possible string that isn't a palindrome.\n",
    "\n",
    "After doing so, return the final string.  If there is no way to do so, return the empty string."
   ]
  },
  {
   "cell_type": "code",
   "execution_count": 16,
   "metadata": {},
   "outputs": [
    {
     "data": {
      "text/plain": [
       "'aaccba'"
      ]
     },
     "execution_count": 16,
     "metadata": {},
     "output_type": "execute_result"
    }
   ],
   "source": [
    "def breakPalindrome(palindrome: str) -> str:\n",
    "    if len(palindrome) == 1:\n",
    "        return ''\n",
    "\n",
    "    p = list(palindrome)\n",
    "    for i in range(len(p)//2):\n",
    "        if p[i] != 'a':\n",
    "            p[i] = 'a'\n",
    "            return ''.join(p)\n",
    "\n",
    "    p[-1] = 'b'\n",
    "    return ''.join(p)\n",
    "\n",
    "breakPalindrome(palindrome = \"abccba\")"
   ]
  },
  {
   "cell_type": "markdown",
   "metadata": {},
   "source": [
    "### X of a Kind in a Deck of Cards\n",
    "\n",
    "In a deck of cards, each card has an integer written on it.\n",
    "\n",
    "Return true if and only if you can choose X >= 2 such that it is possible to split the entire deck into 1 or more groups of cards, where:\n",
    "\n",
    "Each group has exactly X cards.\n",
    "All the cards in each group have the same integer."
   ]
  },
  {
   "cell_type": "code",
   "execution_count": 21,
   "metadata": {},
   "outputs": [
    {
     "data": {
      "text/plain": [
       "True"
      ]
     },
     "execution_count": 21,
     "metadata": {},
     "output_type": "execute_result"
    }
   ],
   "source": [
    "from collections import Counter\n",
    "class Solution:\n",
    "    def hasGroupsSizeX(self, deck) -> bool:\n",
    "        counter = Counter(deck)\n",
    "        arr = list(counter.values())\n",
    "        result = arr[0]\n",
    "        for i in range(1, len(arr)):\n",
    "            result = self.gcd(result, arr[i])\n",
    "            if result == 1:\n",
    "                return False\n",
    "        return result > 1\n",
    "    \n",
    "    def gcd(self, a, b):\n",
    "        if a == 0:\n",
    "            return b\n",
    "        return self.gcd(b%a, a)\n",
    "        \n",
    "Solution().hasGroupsSizeX(deck = [1,2,3,4,4,3,2,1])"
   ]
  },
  {
   "cell_type": "markdown",
   "metadata": {},
   "source": [
    "### Maximum Sum of Two Non-Overlapping Subarrays\n",
    "\n",
    "Given an array A of non-negative integers, return the maximum sum of elements in two non-overlapping (contiguous) subarrays, which have lengths L and M.  (For clarification, the L-length subarray could occur before or after the M-length subarray.)\n",
    "\n",
    "Formally, return the largest V for which V = (A[i] + A[i+1] + ... + A[i+L-1]) + (A[j] + A[j+1] + ... + A[j+M-1]) and either:\n",
    "\n",
    "* 0 <= i < i + L - 1 < j < j + M - 1 < A.length, or\n",
    "* 0 <= j < j + M - 1 < i < i + L - 1 < A.length."
   ]
  },
  {
   "cell_type": "code",
   "execution_count": 25,
   "metadata": {},
   "outputs": [
    {
     "data": {
      "text/plain": [
       "31"
      ]
     },
     "execution_count": 25,
     "metadata": {},
     "output_type": "execute_result"
    }
   ],
   "source": [
    "class Solution:\n",
    "    def maxSumTwoNoOverlap(self, A, L: int, M: int) -> int:\n",
    "        res1 = self.helper(A, L, M)\n",
    "        res2 = self.helper(A, M, L)\n",
    "        return max(res1, res2)\n",
    "        \n",
    "    def helper(self, A, L, M):\n",
    "        l_maxtill = [0]*len(A)\n",
    "        m_maxfrom = [0]*len(A)\n",
    "        \n",
    "        lmax = 0; left = 0; lsum = 0\n",
    "        for right in range(len(A)):\n",
    "            lsum += A[right]\n",
    "            if right - left + 1 == L:\n",
    "                lmax = max(lmax, lsum)\n",
    "                l_maxtill[right] = lmax\n",
    "                lsum -= A[left]\n",
    "                left += 1\n",
    "        \n",
    "        mmax = 0; right = len(A)-1; msum = 0\n",
    "        for left in range(len(A)-1, -1, -1):\n",
    "            msum += A[left]\n",
    "            if right - left + 1 == M:\n",
    "                mmax = max(mmax, msum)\n",
    "                m_maxfrom[left] = mmax\n",
    "                msum -= A[right]\n",
    "                right -= 1\n",
    "        \n",
    "        res = 0\n",
    "        for i in range(len(A)-1):\n",
    "            res = max(res, l_maxtill[i] + m_maxfrom[i+1])\n",
    "        return res\n",
    "\n",
    "Solution().maxSumTwoNoOverlap(A = [2,1,5,6,0,9,5,0,3,8], L = 4, M = 3)"
   ]
  },
  {
   "cell_type": "markdown",
   "metadata": {},
   "source": [
    "### Given an array of integers arr and an integer k.\n",
    "\n",
    "A value arr[i] is said to be stronger than a value arr[j] if |arr[i] - m| > |arr[j] - m| where m is the median of the array.\n",
    "\n",
    "If |arr[i] - m| == |arr[j] - m|, then arr[i] is said to be stronger than arr[j] if arr[i] > arr[j].\n",
    "\n",
    "Return a list of the strongest k values in the array. return the answer in any arbitrary order.\n",
    "\n",
    "Median is the middle value in an ordered integer list. More formally, if the length of the list is n, the median is the element in position ((n - 1) / 2) in the sorted list (0-indexed).\n",
    "\n"
   ]
  },
  {
   "cell_type": "code",
   "execution_count": 28,
   "metadata": {},
   "outputs": [
    {
     "data": {
      "text/plain": [
       "[11, 8, 6, 6, 7]"
      ]
     },
     "execution_count": 28,
     "metadata": {},
     "output_type": "execute_result"
    }
   ],
   "source": [
    "def getStrongest(arr, k: int):\n",
    "    arr.sort()\n",
    "    median = arr[(len(arr)-1)//2]\n",
    "    res = []\n",
    "    i = 0; j = len(arr)-1\n",
    "    while i<=j and k>0:\n",
    "        val1 = abs(arr[i]-median)\n",
    "        val2 = abs(arr[j]-median)\n",
    "        if val2 >= val1:\n",
    "            res.append(arr[j])\n",
    "            j -= 1\n",
    "        else:\n",
    "            res.append(arr[i])\n",
    "            i += 1\n",
    "        k -= 1\n",
    "    return res\n",
    "\n",
    "getStrongest(arr = [6,7,11,7,6,8], k = 5)"
   ]
  },
  {
   "cell_type": "markdown",
   "metadata": {},
   "source": [
    "### Sort Transformed Array\n",
    "Given a sorted array of integers nums and integer values a, b and c. Apply a quadratic function of the form f(x) = ax2 + bx + c to each element x in the array.\n",
    "\n",
    "The returned array must be in sorted order.\n",
    "\n",
    "Expected time complexity: O(n)"
   ]
  },
  {
   "cell_type": "code",
   "execution_count": 30,
   "metadata": {},
   "outputs": [
    {
     "data": {
      "text/plain": [
       "[3, 9, 15, 33]"
      ]
     },
     "execution_count": 30,
     "metadata": {},
     "output_type": "execute_result"
    }
   ],
   "source": [
    "class Solution:\n",
    "    def sortTransformedArray(self, nums, a: int, b: int, c: int):\n",
    "        res = [-1]*len(nums)\n",
    "        i = 0;j = len(nums)-1\n",
    "        \n",
    "        if a > 0:\n",
    "            index = len(nums)-1\n",
    "            while i<=j:\n",
    "                val1 = self.func(a, b, c, nums[i])\n",
    "                val2 = self.func(a, b, c, nums[j])\n",
    "                if val1 >= val2:\n",
    "                    res[index] = val1\n",
    "                    i += 1\n",
    "                else:\n",
    "                    res[index] = val2\n",
    "                    j -= 1\n",
    "                index -= 1\n",
    "        else:\n",
    "            index = 0\n",
    "            while i<=j:\n",
    "                val1 = self.func(a, b, c, nums[i])\n",
    "                val2 = self.func(a, b, c, nums[j])\n",
    "                if val1 <= val2:\n",
    "                    res[index] = val1\n",
    "                    i += 1\n",
    "                else:\n",
    "                    res[index] = val2\n",
    "                    j -= 1\n",
    "                index += 1\n",
    "            \n",
    "        return res\n",
    "    \n",
    "    def func(self, a, b, c, x):\n",
    "        return a*x*x + b*x + c\n",
    "        \n",
    "Solution().sortTransformedArray(nums = [-4,-2,2,4], a = 1, b = 3, c = 5)    "
   ]
  }
 ],
 "metadata": {
  "kernelspec": {
   "display_name": "Python 3",
   "language": "python",
   "name": "python3"
  },
  "language_info": {
   "codemirror_mode": {
    "name": "ipython",
    "version": 3
   },
   "file_extension": ".py",
   "mimetype": "text/x-python",
   "name": "python",
   "nbconvert_exporter": "python",
   "pygments_lexer": "ipython3",
   "version": "3.6.8"
  }
 },
 "nbformat": 4,
 "nbformat_minor": 2
}
