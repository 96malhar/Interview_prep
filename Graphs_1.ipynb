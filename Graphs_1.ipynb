{
 "cells": [
  {
   "cell_type": "markdown",
   "metadata": {},
   "source": [
    "## Create a Graph"
   ]
  },
  {
   "cell_type": "code",
   "execution_count": 1,
   "metadata": {},
   "outputs": [],
   "source": [
    "class Graph:\n",
    "    def __init__(self, node_list):\n",
    "        self.node_list = node_list\n",
    "    \n",
    "    def add_node(self, node):\n",
    "        self.node_list.append(node)\n",
    "\n",
    "class Node:\n",
    "    def __init__(self, neighbors, data):\n",
    "        self.neighbors = neighbors\n",
    "        self.data = data\n",
    "    \n",
    "    def add_neighbor(self, node):\n",
    "        self.neighbors.append(node)"
   ]
  },
  {
   "cell_type": "code",
   "execution_count": 2,
   "metadata": {},
   "outputs": [],
   "source": [
    "node1 = Node([],1)\n",
    "node2 = Node([],2)\n",
    "node3 = Node([],3)\n",
    "node4 = Node([],4)\n",
    "node5 = Node([],5)\n",
    "node6 = Node([],6)\n",
    "node7 = Node([],7)\n",
    "node8 = Node([],8)\n",
    "\n",
    "node1.neighbors = [node2, node3]\n",
    "node2.neighbors = [node4]\n",
    "node3.neighbors = [node4, node5, node6]\n",
    "node4.neighbors = [node6]\n",
    "node5.neighbors = [node6]\n",
    "node7.neighbors = [node8]\n",
    "\n",
    "graph = Graph([node1, node2, node3, node4, node5, node6, node7, node8])"
   ]
  },
  {
   "cell_type": "markdown",
   "metadata": {},
   "source": [
    "## Depth First Search"
   ]
  },
  {
   "cell_type": "markdown",
   "metadata": {},
   "source": [
    "### Given a graph and a target number T, find T exists in the graph"
   ]
  },
  {
   "cell_type": "code",
   "execution_count": 3,
   "metadata": {},
   "outputs": [
    {
     "data": {
      "text/plain": [
       "True"
      ]
     },
     "execution_count": 3,
     "metadata": {},
     "output_type": "execute_result"
    }
   ],
   "source": [
    "def dfs(graph, target):\n",
    "    state = {}\n",
    "    for node in graph.node_list:\n",
    "        if node not in state and dfs_visit(node, target, state):\n",
    "            return True\n",
    "    return False\n",
    "\n",
    "def dfs_visit(node, target, state):\n",
    "    state[node] = 'visiting'\n",
    "    if node.data == target:\n",
    "        return True\n",
    "    \n",
    "    for neighbor in node.neighbors:\n",
    "        if neighbor not in state and dfs_visit(neighbor, target, state):\n",
    "            return True\n",
    "    state[node] = 'visited'\n",
    "    return False\n",
    "\n",
    "dfs(graph, 5)"
   ]
  },
  {
   "cell_type": "markdown",
   "metadata": {},
   "source": [
    "### Keys and Rooms\n",
    "There are N rooms and you start in room 0.  Each room has a distinct number in 0, 1, 2, ..., N-1, and each room may have some keys to access the next room. \n",
    "\n",
    "Formally, each room i has a list of keys rooms[i], and each key rooms[i][j] is an integer in [0, 1, ..., N-1] where N = rooms.length.  A key rooms[i][j] = v opens the room with number v.\n",
    "\n",
    "Initially, all the rooms start locked (except for room 0). \n",
    "\n",
    "You can walk back and forth between rooms freely.\n",
    "\n",
    "Return true if and only if you can enter every room."
   ]
  },
  {
   "cell_type": "code",
   "execution_count": 3,
   "metadata": {},
   "outputs": [
    {
     "data": {
      "text/plain": [
       "True"
      ]
     },
     "execution_count": 3,
     "metadata": {},
     "output_type": "execute_result"
    }
   ],
   "source": [
    "class Solution:\n",
    "    def canVisitAllRooms(self, rooms) -> bool:\n",
    "        visited = set()\n",
    "        self.dfs(0, rooms, visited)\n",
    "        return len(visited) == len(rooms)\n",
    "    \n",
    "    def dfs(self, room_no, rooms, visited):\n",
    "        visited.add(room_no)\n",
    "        for key in rooms[room_no]:\n",
    "            if key not in visited:\n",
    "                self.dfs(key, rooms, visited)\n",
    "                \n",
    "obj = Solution()\n",
    "rooms = [[1],[2],[3],[]]\n",
    "# rooms = [[1,3],[3,0,1],[2],[0]]\n",
    "obj.canVisitAllRooms(rooms)"
   ]
  },
  {
   "cell_type": "markdown",
   "metadata": {},
   "source": [
    "### Clone a Graph"
   ]
  },
  {
   "cell_type": "code",
   "execution_count": 4,
   "metadata": {},
   "outputs": [
    {
     "data": {
      "text/plain": [
       "<__main__.Node at 0x7f130bf732e8>"
      ]
     },
     "execution_count": 4,
     "metadata": {},
     "output_type": "execute_result"
    }
   ],
   "source": [
    "def clone_graph(node):\n",
    "    visited = {}\n",
    "    return dfs(node, visited)\n",
    "\n",
    "def dfs(node, visited):\n",
    "    if node in visited:\n",
    "        return visited[node]\n",
    "    \n",
    "    clone_node = Node([], node.data)\n",
    "    visited[node] = clone_node\n",
    "    for neighbor in node.neighbors:\n",
    "        clone_node.neighbors.append(dfs(neighbor, visited))\n",
    "    return clone_node\n",
    "\n",
    "clone_graph(node1)"
   ]
  },
  {
   "cell_type": "markdown",
   "metadata": {},
   "source": [
    "## Breadth First Search"
   ]
  },
  {
   "cell_type": "markdown",
   "metadata": {},
   "source": [
    "### Given a graph and a target number T, find T exists in the graph"
   ]
  },
  {
   "cell_type": "code",
   "execution_count": 5,
   "metadata": {},
   "outputs": [
    {
     "data": {
      "text/plain": [
       "True"
      ]
     },
     "execution_count": 5,
     "metadata": {},
     "output_type": "execute_result"
    }
   ],
   "source": [
    "def bfs(graph, target):\n",
    "    state = {}\n",
    "    for node in graph.node_list:\n",
    "        if node not in state and bfs_visit(node, state, target):\n",
    "            return True\n",
    "    return False\n",
    "\n",
    "def bfs_visit(node, state, target):\n",
    "    queue = []\n",
    "    queue.append(node)\n",
    "    state[node] = 'visiting'\n",
    "    \n",
    "    while len(queue):\n",
    "        node = queue.pop(0)\n",
    "        if node.data == target:\n",
    "            return True\n",
    "        for neighbor in node.neighbors:\n",
    "            if neighbor not in state:\n",
    "                queue.append(neighbor)\n",
    "                state[neighbor] = 'visiting'\n",
    "        state[node] = 'visited'\n",
    "    return False\n",
    "bfs(graph, 6)      "
   ]
  },
  {
   "cell_type": "markdown",
   "metadata": {},
   "source": [
    "### Jump Game II\n",
    "Given an array of non-negative integers, you are initially positioned at the first index of the array.\n",
    "\n",
    "Each element in the array represents your maximum jump length at that position.\n",
    "\n",
    "Your goal is to reach the last index in the minimum number of jumps."
   ]
  },
  {
   "cell_type": "code",
   "execution_count": 5,
   "metadata": {},
   "outputs": [
    {
     "data": {
      "text/plain": [
       "2"
      ]
     },
     "execution_count": 5,
     "metadata": {},
     "output_type": "execute_result"
    }
   ],
   "source": [
    "def jump(nums):\n",
    "    visited = {0}; level = 0; queue = [0]\n",
    "\n",
    "    while len(queue):\n",
    "        size = len(queue)\n",
    "        for i in range(size):\n",
    "            index = queue.pop(0)\n",
    "            if index == len(nums)-1:\n",
    "                return level\n",
    "            neighbors = [index + val for val in range(nums[index], 0, -1)]\n",
    "            for neigh in neighbors:\n",
    "                if 0<=neigh<len(nums) and neigh not in visited:\n",
    "                    if neigh == len(nums)-1: return level + 1\n",
    "                    queue.append(neigh)\n",
    "                    visited.add(neigh)\n",
    "        level += 1\n",
    "\n",
    "jump([2,3,1,1,4])"
   ]
  },
  {
   "cell_type": "markdown",
   "metadata": {},
   "source": [
    "### Jump game III\n",
    "Given an array of non-negative integers arr, you are initially positioned at start index of the array. When you are at index i, you can jump to i + arr[i] or i - arr[i], check if you can reach to any index with value 0.\n",
    "\n",
    "Notice that you can not jump outside of the array at any time."
   ]
  },
  {
   "cell_type": "code",
   "execution_count": 9,
   "metadata": {},
   "outputs": [
    {
     "data": {
      "text/plain": [
       "True"
      ]
     },
     "execution_count": 9,
     "metadata": {},
     "output_type": "execute_result"
    }
   ],
   "source": [
    " def canReach(arr, start: int) -> bool:\n",
    "    queue = [start]; visited = set()\n",
    "    while queue:\n",
    "        index = queue.pop(0)\n",
    "        if arr[index] == 0:\n",
    "            return True\n",
    "        for new_index in [index+arr[index], index-arr[index]]:\n",
    "            if 0<=new_index<len(arr) and new_index not in visited:\n",
    "                if arr[index] == 0: return True\n",
    "                queue.append(new_index)\n",
    "                visited.add(new_index)\n",
    "    return False\n",
    "\n",
    "arr = [4,2,3,0,3,1,2]; start = 5\n",
    "canReach(arr, start)"
   ]
  },
  {
   "cell_type": "markdown",
   "metadata": {},
   "source": [
    "### Jump Game IV\n",
    "Given an array of integers arr, you are initially positioned at the first index of the array.\n",
    "\n",
    "In one step you can jump from index i to index:\n",
    "\n",
    "* i + 1 where: i + 1 < arr.length.\n",
    "* i - 1 where: i - 1 >= 0.\n",
    "* j where: arr[i] == arr[j] and i != j.\n",
    "Return the minimum number of steps to reach the last index of the array.\n",
    "\n",
    "Notice that you can not jump outside of the array at any time."
   ]
  },
  {
   "cell_type": "code",
   "execution_count": 11,
   "metadata": {},
   "outputs": [
    {
     "data": {
      "text/plain": [
       "3"
      ]
     },
     "execution_count": 11,
     "metadata": {},
     "output_type": "execute_result"
    }
   ],
   "source": [
    "def minJumps(arr):\n",
    "    import collections\n",
    "    hm = collections.defaultdict(list)\n",
    "    for i, val in enumerate(arr):\n",
    "        hm[val].append(i)\n",
    "\n",
    "    queue = [0]; seen = {0}; jumps = 0\n",
    "    while queue:\n",
    "        size = len(queue)\n",
    "        for _ in range(size):\n",
    "            index = queue.pop(0)\n",
    "            if index == len(arr)-1:\n",
    "                return jumps\n",
    "            for i in [index+1, index-1] + hm[arr[index]][::-1]:\n",
    "                if 0<=i<len(arr) and i not in seen:\n",
    "                    if i == len(arr)-1: return jumps + 1\n",
    "                    seen.add(i)\n",
    "                    queue.append(i)\n",
    "        jumps += 1\n",
    "\n",
    "minJumps([100,-23,-23,404,100,23,23,23,3,404])"
   ]
  },
  {
   "cell_type": "markdown",
   "metadata": {},
   "source": [
    "### Frog Jump\n",
    "A frog is crossing a river. The river is divided into x units and at each unit there may or may not exist a stone. The frog can jump on a stone, but it must not jump into the water.\n",
    "\n",
    "Given a list of stones' positions (in units) in sorted ascending order, determine if the frog is able to cross the river by landing on the last stone. Initially, the frog is on the first stone and assume the first jump must be 1 unit.\n",
    "\n",
    "If the frog's last jump was k units, then its next jump must be either k - 1, k, or k + 1 units. Note that the frog can only jump in the forward direction.\n",
    "\n",
    "Note:\n",
    "\n",
    "The number of stones is ≥ 2 and is < 1,100.\n",
    "Each stone's position will be a non-negative integer < 231.\n",
    "The first stone's position is always 0.\n",
    "Example 1:\n",
    "\n",
    "[0,1,3,5,6,8,12,17]\n",
    "\n",
    "\n",
    "Return true. The frog can jump to the last stone by jumping \n",
    "1 unit to the 2nd stone, then 2 units to the 3rd stone, then \n",
    "2 units to the 4th stone, then 3 units to the 6th stone, \n",
    "4 units to the 7th stone, and 5 units to the 8th stone.\n",
    "\n",
    "**Note: can also be solved using DFS + Memo**"
   ]
  },
  {
   "cell_type": "code",
   "execution_count": 9,
   "metadata": {},
   "outputs": [
    {
     "data": {
      "text/plain": [
       "True"
      ]
     },
     "execution_count": 9,
     "metadata": {},
     "output_type": "execute_result"
    }
   ],
   "source": [
    "def canCross(stones):\n",
    "    target = stones[-1]\n",
    "    stones = set(stones)\n",
    "    if 1 not in stones: return False\n",
    "    visited = {(1,1)}; queue = [(1,1)]\n",
    "    while queue:\n",
    "        pos, jump = queue.pop(0)\n",
    "        if pos == target: return True\n",
    "        for next_jump in [jump-1, jump, jump+1]:\n",
    "            next_pos = pos + next_jump\n",
    "            if next_pos > pos and next_pos in stones and (next_pos, next_jump) not in visited:\n",
    "                if next_pos == target: return True\n",
    "                visited.add((next_pos, next_jump))\n",
    "                queue.append((next_pos, next_jump))\n",
    "    return False\n",
    "\n",
    "canCross([0,1,3,5,6,8,12,17])"
   ]
  },
  {
   "cell_type": "markdown",
   "metadata": {},
   "source": [
    "### Word Ladder \n",
    "https://leetcode.com/problems/word-ladder/"
   ]
  },
  {
   "cell_type": "code",
   "execution_count": 9,
   "metadata": {},
   "outputs": [
    {
     "data": {
      "text/plain": [
       "5"
      ]
     },
     "execution_count": 9,
     "metadata": {},
     "output_type": "execute_result"
    }
   ],
   "source": [
    "def ladderLength(beginWord, endWord, wordList):\n",
    "    import string\n",
    "    queue = [beginWord]; wordList = set(wordList); distance = 0\n",
    "\n",
    "    while len(queue):\n",
    "        size = len(queue)\n",
    "        distance += 1\n",
    "        for _ in range(size):\n",
    "            word = queue.pop(0)\n",
    "            if word == endWord:\n",
    "                return distance\n",
    "            for i in range(len(word)):\n",
    "                for c in string.ascii_lowercase:\n",
    "                    cand = word[:i] + c + word[i+1:]\n",
    "                    if cand in wordList:\n",
    "                        queue.append(cand)\n",
    "                        wordList.remove(cand)\n",
    "    return 0\n",
    "\n",
    "beginWord = \"hit\"\n",
    "endWord = \"cog\"\n",
    "wordList = [\"hot\",\"dot\",\"dog\",\"lot\",\"log\",\"cog\"]\n",
    "ladderLength(beginWord, endWord, wordList)    "
   ]
  },
  {
   "cell_type": "markdown",
   "metadata": {},
   "source": [
    "### Shortest Path in a Grid with Obstacles Elimination\n",
    "Given a m * n grid, where each cell is either 0 (empty) or 1 (obstacle). In one step, you can move up, down, left or right from and to an empty cell.\n",
    "\n",
    "Return the minimum number of steps to walk from the upper left corner (0, 0) to the lower right corner (m-1, n-1) given that you can eliminate at most k obstacles. If it is not possible to find such walk return -1.\n",
    "\n",
    " \n",
    "\n",
    "Example 1:\n",
    "\n",
    "Input: \n",
    "grid = \n",
    "[[0,0,0],\n",
    " [1,1,0],\n",
    " [0,0,0],\n",
    " [0,1,1],\n",
    " [0,0,0]], \n",
    "k = 1\n",
    "* Output: 6\n",
    "* Explanation: \n",
    "* The shortest path without eliminating any obstacle is 10. \n",
    "* The shortest path with one obstacle elimination at position (3,2) is 6. Such path is (0,0) -> (0,1) -> (0,2) -> (1,2) -> (2,2) -> (3,2) -> (4,2)."
   ]
  },
  {
   "cell_type": "code",
   "execution_count": 9,
   "metadata": {},
   "outputs": [
    {
     "data": {
      "text/plain": [
       "6"
      ]
     },
     "execution_count": 9,
     "metadata": {},
     "output_type": "execute_result"
    }
   ],
   "source": [
    "def shortestPath(grid, k: int) -> int:\n",
    "    queue = [(0, 0, k, 0)]; visited = {(0, 0, k)}\n",
    "    while queue:\n",
    "        row, col, k, steps = queue.pop(0)\n",
    "        if row == len(grid)-1 and col == len(grid[0])-1:\n",
    "            return steps\n",
    "        for x, y in [(row+1, col), (row-1, col), (row, col+1), (row, col-1)]:\n",
    "            if 0<=x<len(grid) and 0<=y<len(grid[0]):\n",
    "                if grid[x][y] == 1 and k>0 and (x, y, k-1) not in visited:\n",
    "                    queue.append((x, y, k-1, steps+1))\n",
    "                    visited.add((x, y, k-1))\n",
    "                elif grid[x][y] == 0 and (x, y, k) not in visited:\n",
    "                    queue.append((x, y, k, steps+1))\n",
    "                    visited.add((x, y, k))\n",
    "    return -1\n",
    "\n",
    "grid = [[0,0,0], [1,1,0], [0,0,0], [0,1,1], [0,0,0]]; k = 1\n",
    "shortestPath(grid, k)"
   ]
  },
  {
   "cell_type": "markdown",
   "metadata": {},
   "source": [
    "### Open the Lock\n",
    "You have a lock in front of you with 4 circular wheels. Each wheel has 10 slots: '0', '1', '2', '3', '4', '5', '6', '7', '8', '9'. The wheels can rotate freely and wrap around: for example we can turn '9' to be '0', or '0' to be '9'. Each move consists of turning one wheel one slot.\n",
    "\n",
    "The lock initially starts at '0000', a string representing the state of the 4 wheels.\n",
    "\n",
    "You are given a list of deadends dead ends, meaning if the lock displays any of these codes, the wheels of the lock will stop turning and you will be unable to open it.\n",
    "\n",
    "Given a target representing the value of the wheels that will unlock the lock, return the minimum total number of turns required to open the lock, or -1 if it is impossible.\n",
    "\n",
    "Example 1:\n",
    "* Input: deadends = [\"0201\",\"0101\",\"0102\",\"1212\",\"2002\"], target = \"0202\"\n",
    "* Output: 6\n",
    "* Explanation:\n",
    "A sequence of valid moves would be \"0000\" -> \"1000\" -> \"1100\" -> \"1200\" -> \"1201\" -> \"1202\" -> \"0202\".\n",
    "Note that a sequence like \"0000\" -> \"0001\" -> \"0002\" -> \"0102\" -> \"0202\" would be invalid,\n",
    "because the wheels of the lock become stuck after the display becomes the dead end \"0102\"."
   ]
  },
  {
   "cell_type": "code",
   "execution_count": 11,
   "metadata": {},
   "outputs": [
    {
     "data": {
      "text/plain": [
       "6"
      ]
     },
     "execution_count": 11,
     "metadata": {},
     "output_type": "execute_result"
    }
   ],
   "source": [
    "def openLock(deadends, target: str) -> int:\n",
    "    deadends = set(deadends)\n",
    "    visited = set()\n",
    "    queue = ['0000']\n",
    "    level = 0\n",
    "    while queue:\n",
    "        size = len(queue)\n",
    "        for _ in range(size):\n",
    "            string = queue.pop(0)\n",
    "            if string in deadends:\n",
    "                continue\n",
    "            if string == target:\n",
    "                return level\n",
    "            for i in range(4):\n",
    "                digit = int(string[i])\n",
    "                for moves in [-1, 1]:\n",
    "                    new_digit = (digit + moves) % 10\n",
    "                    new_string = string[:i] + str(new_digit) + string[i+1:]\n",
    "                    if new_string not in visited:\n",
    "                        visited.add(new_string)\n",
    "                        queue.append(new_string)\n",
    "        level += 1\n",
    "    return -1    \n",
    "\n",
    "deadends = [\"0201\",\"0101\",\"0102\",\"1212\",\"2002\"]; target = \"0202\"\n",
    "openLock(deadends, target)"
   ]
  },
  {
   "cell_type": "markdown",
   "metadata": {},
   "source": [
    "### Find the City With the Smallest Number of Neighbors at a Threshold Distance\n",
    "There are n cities numbered from 0 to n-1. Given the array edges where edges[i] = [fromi, toi, weighti] represents a bidirectional and weighted edge between cities fromi and toi, and given the integer distanceThreshold.\n",
    "\n",
    "Return the city with the smallest number of cities that are reachable through some path and whose distance is at most distanceThreshold, If there are multiple such cities, return the city with the greatest number.\n",
    "\n",
    "Notice that the distance of a path connecting cities i and j is equal to the sum of the edges' weights along that path."
   ]
  },
  {
   "cell_type": "code",
   "execution_count": 9,
   "metadata": {},
   "outputs": [
    {
     "data": {
      "text/plain": [
       "3"
      ]
     },
     "execution_count": 9,
     "metadata": {},
     "output_type": "execute_result"
    }
   ],
   "source": [
    "from heapq import heappush, heappop\n",
    "import collections\n",
    "class Solution:\n",
    "    def findTheCity(self, n: int, edges, distanceThreshold: int) -> int:\n",
    "        graph = collections.defaultdict(dict)\n",
    "        ans = None; min_count = float('inf')\n",
    "        for x, y, cost in edges:\n",
    "            graph[x][y] = cost\n",
    "            graph[y][x] = cost\n",
    "        for node in range(n):\n",
    "            count = self.dijkstra(node, graph, distanceThreshold)\n",
    "            if count < min_count:\n",
    "                ans = node\n",
    "                min_count = count\n",
    "            elif count == min_count:\n",
    "                ans = max(ans, node)\n",
    "        return ans\n",
    "    \n",
    "    def dijkstra(self, node, graph, threshold):\n",
    "        heap = []; count = 0; visited = set()\n",
    "        heappush(heap, (0, node))\n",
    "        while heap:\n",
    "            dist, node = heappop(heap)\n",
    "            if node in visited: continue\n",
    "            if dist <= threshold:\n",
    "                count += 1\n",
    "            else:\n",
    "                return count\n",
    "            visited.add(node)\n",
    "            for neigh in graph[node]:\n",
    "                heappush(heap, (dist+graph[node][neigh], neigh))\n",
    "        return count\n",
    "    \n",
    "obj = Solution()\n",
    "obj.findTheCity(n = 4, edges = [[0,1,3],[1,2,1],[1,3,4],[2,3,1]], distanceThreshold = 4)"
   ]
  },
  {
   "cell_type": "markdown",
   "metadata": {},
   "source": [
    "### Cheapest Flights With K Stops\n",
    "There are n cities connected by m flights. Each fight starts from city u and arrives at v with a price w.\n",
    "\n",
    "Now given all the cities and flights, together with starting city src and the destination dst, your task is to find the cheapest price from src to dst with up to k stops. If there is no such route, output -1."
   ]
  },
  {
   "cell_type": "code",
   "execution_count": 14,
   "metadata": {},
   "outputs": [
    {
     "data": {
      "text/plain": [
       "6"
      ]
     },
     "execution_count": 14,
     "metadata": {},
     "output_type": "execute_result"
    }
   ],
   "source": [
    "def findCheapestPrice(n, flights, src, dst, K):\n",
    "    import collections\n",
    "    from heapq import heappush, heappop\n",
    "    graph = collections.defaultdict(dict)\n",
    "    for x, y, cost in flights:\n",
    "        graph[x][y] = cost\n",
    "    queue = [(0, src, 0)]; visited = set()\n",
    "    while queue:\n",
    "        cost_so_far, node, stops = heappop(queue)\n",
    "        if stops>K+1 or (node, stops) in visited:\n",
    "            continue\n",
    "        if node == dst:\n",
    "            return cost_so_far\n",
    "        visited.add((node, stops))\n",
    "        for neigh in graph[node]:\n",
    "            if (neigh, stops + 1) not in visited:\n",
    "                new_cost = cost_so_far + graph[node][neigh]\n",
    "                heappush(queue, (new_cost, neigh, stops+1))\n",
    "    return -1\n",
    "\n",
    "n = 4; flights = [[0,1,1],[0,2,5],[1,2,1],[2,3,1]]; src = 0; dst = 3; K = 1\n",
    "findCheapestPrice(n, flights, src, dst, K)"
   ]
  },
  {
   "cell_type": "markdown",
   "metadata": {},
   "source": [
    "### Network Delay Time\n",
    "There are N network nodes, labelled 1 to N.\n",
    "\n",
    "Given times, a list of travel times as directed edges times[i] = (u, v, w), where u is the source node, v is the target node, and w is the time it takes for a signal to travel from source to target.\n",
    "\n",
    "Now, we send a signal from a certain node K. How long will it take for all nodes to receive the signal? If it is impossible, return -1."
   ]
  },
  {
   "cell_type": "code",
   "execution_count": 19,
   "metadata": {},
   "outputs": [
    {
     "data": {
      "text/plain": [
       "2"
      ]
     },
     "execution_count": 19,
     "metadata": {},
     "output_type": "execute_result"
    }
   ],
   "source": [
    "from heapq import heappush, heappop\n",
    "from collections import defaultdict\n",
    "def networkDelayTime(times, N, K) -> int:\n",
    "    graph = defaultdict(dict)\n",
    "    for x, y, time in times:\n",
    "        graph[x][y] = time\n",
    "    heap = [(0, K)]; ans = 0; visited = set(); \n",
    "    while heap:\n",
    "        time, node = heappop(heap)\n",
    "        if node in visited:\n",
    "            continue\n",
    "        N -= 1\n",
    "        ans = time\n",
    "        visited.add(node)\n",
    "        for neigh, t in graph[node].items():\n",
    "            if neigh not in visited:\n",
    "                heappush(heap, (time+t, neigh))\n",
    "    return ans if N == 0 else -1\n",
    "\n",
    "times = [[2,1,1],[2,3,1],[3,4,1]]; N = 4; K = 2\n",
    "networkDelayTime(times, N, K)"
   ]
  },
  {
   "attachments": {
    "image.png": {
     "image/png": "[encoded data removed]"
    }
   },
   "cell_type": "markdown",
   "metadata": {},
   "source": [
    "### Path With Maximum Minimum Value\n",
    "Given a matrix of integers A with R rows and C columns, find the maximum score of a path starting at [0,0] and ending at [R-1,C-1].\n",
    "\n",
    "The score of a path is the minimum value in that path.  For example, the value of the path 8 →  4 →  5 →  9 is 4.\n",
    "\n",
    "A path moves some number of times from one visited cell to any neighbouring unvisited cell in one of the 4 cardinal directions (north, east, west, south).\n",
    "![image.png](attachment:image.png)"
   ]
  },
  {
   "cell_type": "code",
   "execution_count": 10,
   "metadata": {},
   "outputs": [
    {
     "data": {
      "text/plain": [
       "3"
      ]
     },
     "execution_count": 10,
     "metadata": {},
     "output_type": "execute_result"
    }
   ],
   "source": [
    "from heapq import heappush, heappop\n",
    "def maximumMinimumPath(A) -> int:\n",
    "    heap = [(-A[0][0], 0, 0)]; ans = A[0][0]; seen = {0,0}\n",
    "    while heap:\n",
    "        val, i, j = heappop(heap)\n",
    "        ans = min(ans, -val)\n",
    "        if i == len(A)-1 and j == len(A[0])-1:\n",
    "            return ans\n",
    "        for x, y in [(i+1,j), (i,j+1), (i-1,j), (i,j-1)]:\n",
    "            if 0<=x<len(A) and 0<=y<len(A[0]) and (x,y) not in seen:\n",
    "                heappush(heap, (-A[x][y], x, y))\n",
    "                seen.add((x, y))\n",
    "\n",
    "maximumMinimumPath([[3,4,6,3,4],[0,2,1,1,7],[8,8,3,2,7],[3,2,4,9,8],[4,1,2,0,0],[4,6,5,4,3]])"
   ]
  },
  {
   "cell_type": "markdown",
   "metadata": {},
   "source": [
    "### Word Ladder II\n",
    "https://leetcode.com/problems/word-ladder-ii/"
   ]
  },
  {
   "cell_type": "code",
   "execution_count": 14,
   "metadata": {},
   "outputs": [],
   "source": [
    "def findLadders(beginWord, endWord, wordList):\n",
    "    from collections import defaultdict\n",
    "    dict_ = set(wordList); level = {}; neighbors = defaultdict(list); solution = [beginWord]; result = []\n",
    "\n",
    "    bfs(beginWord, endWord, dict_, level, neighbors)\n",
    "    dfs(endWord, level, neighbors, solution, result)\n",
    "    return result\n",
    "\n",
    "def bfs(start, end, dict_, level, neighbors):\n",
    "    queue = []\n",
    "    queue.append(start)\n",
    "    level[start] = 0\n",
    "\n",
    "    while len(queue):\n",
    "        found = False\n",
    "        size = len(queue)\n",
    "        for i in range(size):\n",
    "            curr = queue.pop(0)\n",
    "            neighbors[curr] = get_neighbors(curr, dict_)\n",
    "            for neigh in neighbors[curr]:\n",
    "                if neigh not in level:\n",
    "                    level[neigh] = level[curr]+1\n",
    "                    if neigh == end:\n",
    "                        found = True\n",
    "                    else:\n",
    "                        queue.append(neigh)\n",
    "        if found:\n",
    "            return\n",
    "\n",
    "def dfs(end, level, neighbors, solution, result):\n",
    "    if solution[-1] == end:\n",
    "        result.append(solution[:])\n",
    "        return\n",
    "    \n",
    "    curr = solution[-1]\n",
    "    for neigh in neighbors[curr]:\n",
    "        if level[neigh] == level[curr]+1:\n",
    "            solution.append(neigh)\n",
    "            dfs(end, level, neighbors, solution, result)\n",
    "            solution.pop()\n",
    "\n",
    "def get_neighbors(curr, dict_):\n",
    "    import string\n",
    "    neighs = []\n",
    "    for i in range(len(curr)):\n",
    "        for c in string.ascii_lowercase:\n",
    "            cand = curr[:i] + c + curr[i+1:]\n",
    "            if cand != curr and cand in dict_:\n",
    "                neighs.append(cand)\n",
    "    return neighs"
   ]
  },
  {
   "cell_type": "code",
   "execution_count": 15,
   "metadata": {},
   "outputs": [
    {
     "data": {
      "text/plain": [
       "[['hit', 'hot', 'dot', 'dog', 'cog'], ['hit', 'hot', 'lot', 'log', 'cog']]"
      ]
     },
     "execution_count": 15,
     "metadata": {},
     "output_type": "execute_result"
    }
   ],
   "source": [
    "beginWord = \"hit\"\n",
    "endWord = \"cog\"\n",
    "wordList = [\"hot\",\"dot\",\"dog\",\"lot\",\"log\",\"cog\"]\n",
    "findLadders(beginWord, endWord, wordList)"
   ]
  },
  {
   "cell_type": "markdown",
   "metadata": {},
   "source": [
    "## Topological sorting"
   ]
  },
  {
   "cell_type": "code",
   "execution_count": 9,
   "metadata": {},
   "outputs": [],
   "source": [
    "node1 = Node([],1)\n",
    "node2 = Node([],2)\n",
    "node3 = Node([],3)\n",
    "node4 = Node([],4)\n",
    "node5 = Node([],5)\n",
    "\n",
    "node1.neighbors = [node2, node4]\n",
    "node2.neighbors = [node3, node4, node5]\n",
    "node3.neighbors = [node5]\n",
    "\n",
    "graph = Graph([node1, node2, node3, node4, node5])"
   ]
  },
  {
   "cell_type": "markdown",
   "metadata": {},
   "source": [
    "### Sort a graph in Topological order"
   ]
  },
  {
   "cell_type": "code",
   "execution_count": 10,
   "metadata": {},
   "outputs": [
    {
     "name": "stdout",
     "output_type": "stream",
     "text": [
      "1\n",
      "2\n",
      "4\n",
      "3\n",
      "5\n"
     ]
    }
   ],
   "source": [
    "def topo_sort(graph):\n",
    "    state = {}\n",
    "    stack = []\n",
    "    for node in graph.node_list:\n",
    "        if node not in state:\n",
    "            dfs_visit(node,state, stack)\n",
    "    return stack\n",
    "\n",
    "def dfs_visit(node, state, stack):\n",
    "    state[node] = 'visiting'\n",
    "    for neighbor in node.neighbors:\n",
    "        if neighbor not in state:\n",
    "            dfs_visit(neighbor, state, stack)\n",
    "    state[node] = 'visited'\n",
    "    stack.append(node)\n",
    "stack = topo_sort(graph)\n",
    "while len(stack):\n",
    "    print(stack.pop().data)"
   ]
  },
  {
   "cell_type": "markdown",
   "metadata": {},
   "source": [
    "### Minimum number of semester required to complete courses"
   ]
  },
  {
   "cell_type": "code",
   "execution_count": 12,
   "metadata": {},
   "outputs": [
    {
     "data": {
      "text/plain": [
       "(defaultdict(<function __main__.min_semesters.<locals>.<lambda>()>,\n",
       "             {<__main__.Node at 0x7f130b6ff860>: 2,\n",
       "              <__main__.Node at 0x7f130b6ffa58>: 1,\n",
       "              <__main__.Node at 0x7f130b6ff7f0>: 3,\n",
       "              <__main__.Node at 0x7f130b6ff908>: 3,\n",
       "              <__main__.Node at 0x7f130b6ff8d0>: 4}),\n",
       " 4)"
      ]
     },
     "execution_count": 12,
     "metadata": {},
     "output_type": "execute_result"
    }
   ],
   "source": [
    "def min_semesters(graph):\n",
    "    from collections import defaultdict\n",
    "    stack = topo_sort(graph)\n",
    "    sem = defaultdict(lambda: 1)\n",
    "    min_sem = float('-inf')\n",
    "    while len(stack):\n",
    "        node = stack.pop()\n",
    "        for neighbor in node.neighbors:\n",
    "            sem[neighbor] = max(sem[neighbor], sem[node]+1)\n",
    "            min_sem = max(min_sem, sem[neighbor])\n",
    "    return sem, min_sem\n",
    "sem, min_sem = min_semesters(graph)\n",
    "sem, min_sem"
   ]
  },
  {
   "cell_type": "markdown",
   "metadata": {},
   "source": [
    "### Shortest Bridge\n",
    "n a given 2D binary array A, there are two islands.  (An island is a 4-directionally connected group of 1s not connected to any other 1s.)\n",
    "\n",
    "Now, we may change 0s to 1s so as to connect the two islands together to form 1 island.\n",
    "\n",
    "Return the smallest number of 0s that must be flipped.  (It is guaranteed that the answer is at least 1.)"
   ]
  },
  {
   "cell_type": "code",
   "execution_count": 12,
   "metadata": {},
   "outputs": [
    {
     "data": {
      "text/plain": [
       "1"
      ]
     },
     "execution_count": 12,
     "metadata": {},
     "output_type": "execute_result"
    }
   ],
   "source": [
    "class Solution:\n",
    "    def shortestBridge(self, A) -> int:\n",
    "        queue = []; visited = set(); found = False\n",
    "        for i in range(len(A)):\n",
    "            if found: break\n",
    "            for j in range(len(A[0])):\n",
    "                if A[i][j] == 1:\n",
    "                    self.dfs(i, j, queue, visited, A)\n",
    "                    found = True\n",
    "                    break\n",
    "                \n",
    "        level = 0\n",
    "        while queue:\n",
    "            size = len(queue)\n",
    "            for _ in range(size):\n",
    "                i, j = queue.pop(0)\n",
    "                for x, y in [(i+1,j), (i,j+1), (i-1,j), (i,j-1)]:\n",
    "                    if 0<=x<len(A) and 0<=y<len(A[0]) and (x,y) not in visited:\n",
    "                        if A[x][y] == 1:\n",
    "                            return level\n",
    "                        visited.add((x, y))\n",
    "                        queue.append((x, y))\n",
    "            level += 1\n",
    "                    \n",
    "    def dfs(self, i, j, queue, visited, A):\n",
    "        queue.append((i,j))\n",
    "        visited.add((i,j))\n",
    "        for x, y in [(i+1,j), (i,j+1), (i-1,j), (i,j-1)]:\n",
    "            if 0<=x<len(A) and 0<=y<len(A[0]) and (x,y) not in visited and A[x][y] == 1:\n",
    "                self.dfs(x, y, queue, visited, A)\n",
    "                \n",
    "obj = Solution()\n",
    "obj.shortestBridge([[1,1,1,1,1],[1,0,0,0,1],[1,0,1,0,1],[1,0,0,0,1],[1,1,1,1,1]])"
   ]
  }
 ],
 "metadata": {
  "kernelspec": {
   "display_name": "Python 3",
   "language": "python",
   "name": "python3"
  },
  "language_info": {
   "codemirror_mode": {
    "name": "ipython",
    "version": 3
   },
   "file_extension": ".py",
   "mimetype": "text/x-python",
   "name": "python",
   "nbconvert_exporter": "python",
   "pygments_lexer": "ipython3",
   "version": "3.6.8"
  }
 },
 "nbformat": 4,
 "nbformat_minor": 2
}
