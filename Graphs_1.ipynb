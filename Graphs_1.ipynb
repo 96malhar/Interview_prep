{
 "cells": [
  {
   "cell_type": "markdown",
   "metadata": {},
   "source": [
    "## Depth First Search"
   ]
  },
  {
   "cell_type": "markdown",
   "metadata": {},
   "source": [
    "### Given a graph and a target number T, find T exists in the graph"
   ]
  },
  {
   "cell_type": "code",
   "execution_count": 35,
   "metadata": {},
   "outputs": [],
   "source": [
    "class Graph:\n",
    "    def __init__(self, node_list):\n",
    "        self.node_list = node_list\n",
    "    \n",
    "    def add_node(self, node):\n",
    "        self.node_list.append(node)\n",
    "\n",
    "class Node:\n",
    "    def __init__(self, neighbors, data):\n",
    "        self.neighbors = neighbors\n",
    "        self.data = data\n",
    "        self.state = 'unvisited'\n",
    "    \n",
    "    def add_neighbor(self, node):\n",
    "        self.neighbors.append(node)"
   ]
  },
  {
   "cell_type": "code",
   "execution_count": 60,
   "metadata": {},
   "outputs": [],
   "source": [
    "node1 = Node([],1)\n",
    "node2 = Node([],2)\n",
    "node3 = Node([],3)\n",
    "node4 = Node([],4)\n",
    "node5 = Node([],5)\n",
    "node6 = Node([],6)\n",
    "node7 = Node([],7)\n",
    "node8 = Node([],8)\n",
    "\n",
    "node1.neighbors = [node2, node3]\n",
    "node2.neighbors = [node4]\n",
    "node3.neighbors = [node4, node5]\n",
    "node4.neighbors = [node6]\n",
    "node5.neighbors = [node6]\n",
    "node7.neighbors = [node8]\n",
    "\n",
    "graph = Graph([node1, node2, node3, node4, node5, node6, node7, node8])"
   ]
  },
  {
   "cell_type": "code",
   "execution_count": 61,
   "metadata": {},
   "outputs": [
    {
     "data": {
      "text/plain": [
       "True"
      ]
     },
     "execution_count": 61,
     "metadata": {},
     "output_type": "execute_result"
    }
   ],
   "source": [
    "def dfs(graph, target):\n",
    "    for node in graph.node_list:\n",
    "        if node.state == 'unvisited' and dfs_visit(node, target):\n",
    "            return True\n",
    "    return False\n",
    "\n",
    "def dfs_visit(node, target):\n",
    "    node.state = 'visiting'\n",
    "    if node.data == target:\n",
    "        return True\n",
    "    \n",
    "    for neighbor in node.neighbors:\n",
    "        if neighbor.state == 'unvisited' and dfs_visit(neighbor, target):\n",
    "            return True\n",
    "    node.state = 'visited'\n",
    "    return False\n",
    "\n",
    "dfs(graph, 8)"
   ]
  }
 ],
 "metadata": {
  "kernelspec": {
   "display_name": "Python 3",
   "language": "python",
   "name": "python3"
  },
  "language_info": {
   "codemirror_mode": {
    "name": "ipython",
    "version": 3
   },
   "file_extension": ".py",
   "mimetype": "text/x-python",
   "name": "python",
   "nbconvert_exporter": "python",
   "pygments_lexer": "ipython3",
   "version": "3.6.8"
  }
 },
 "nbformat": 4,
 "nbformat_minor": 2
}
