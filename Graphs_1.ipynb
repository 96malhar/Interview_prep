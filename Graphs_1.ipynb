{
 "cells": [
  {
   "cell_type": "markdown",
   "metadata": {},
   "source": [
    "## Create a Graph"
   ]
  },
  {
   "cell_type": "code",
   "execution_count": 1,
   "metadata": {},
   "outputs": [],
   "source": [
    "class Graph:\n",
    "    def __init__(self, node_list):\n",
    "        self.node_list = node_list\n",
    "    \n",
    "    def add_node(self, node):\n",
    "        self.node_list.append(node)\n",
    "\n",
    "class Node:\n",
    "    def __init__(self, neighbors, data):\n",
    "        self.neighbors = neighbors\n",
    "        self.data = data\n",
    "    \n",
    "    def add_neighbor(self, node):\n",
    "        self.neighbors.append(node)"
   ]
  },
  {
   "cell_type": "code",
   "execution_count": 2,
   "metadata": {},
   "outputs": [],
   "source": [
    "node1 = Node([],1)\n",
    "node2 = Node([],2)\n",
    "node3 = Node([],3)\n",
    "node4 = Node([],4)\n",
    "node5 = Node([],5)\n",
    "node6 = Node([],6)\n",
    "node7 = Node([],7)\n",
    "node8 = Node([],8)\n",
    "\n",
    "node1.neighbors = [node2, node3]\n",
    "node2.neighbors = [node4]\n",
    "node3.neighbors = [node4, node5, node6]\n",
    "node4.neighbors = [node6]\n",
    "node5.neighbors = [node6]\n",
    "node7.neighbors = [node8]\n",
    "\n",
    "graph = Graph([node1, node2, node3, node4, node5, node6, node7, node8])"
   ]
  },
  {
   "cell_type": "markdown",
   "metadata": {},
   "source": [
    "## Depth First Search"
   ]
  },
  {
   "cell_type": "markdown",
   "metadata": {},
   "source": [
    "### Given a graph and a target number T, find T exists in the graph"
   ]
  },
  {
   "cell_type": "code",
   "execution_count": 3,
   "metadata": {},
   "outputs": [
    {
     "data": {
      "text/plain": [
       "True"
      ]
     },
     "execution_count": 3,
     "metadata": {},
     "output_type": "execute_result"
    }
   ],
   "source": [
    "def dfs(graph, target):\n",
    "    state = {}\n",
    "    for node in graph.node_list:\n",
    "        if node not in state and dfs_visit(node, target, state):\n",
    "            return True\n",
    "    return False\n",
    "\n",
    "def dfs_visit(node, target, state):\n",
    "    state[node] = 'visiting'\n",
    "    if node.data == target:\n",
    "        return True\n",
    "    \n",
    "    for neighbor in node.neighbors:\n",
    "        if neighbor not in state and dfs_visit(neighbor, target, state):\n",
    "            return True\n",
    "    state[node] = 'visited'\n",
    "    return False\n",
    "\n",
    "dfs(graph, 5)"
   ]
  },
  {
   "cell_type": "markdown",
   "metadata": {},
   "source": [
    "### Keys and Rooms\n",
    "There are N rooms and you start in room 0.  Each room has a distinct number in 0, 1, 2, ..., N-1, and each room may have some keys to access the next room. \n",
    "\n",
    "Formally, each room i has a list of keys rooms[i], and each key rooms[i][j] is an integer in [0, 1, ..., N-1] where N = rooms.length.  A key rooms[i][j] = v opens the room with number v.\n",
    "\n",
    "Initially, all the rooms start locked (except for room 0). \n",
    "\n",
    "You can walk back and forth between rooms freely.\n",
    "\n",
    "Return true if and only if you can enter every room."
   ]
  },
  {
   "cell_type": "code",
   "execution_count": 3,
   "metadata": {},
   "outputs": [
    {
     "data": {
      "text/plain": [
       "True"
      ]
     },
     "execution_count": 3,
     "metadata": {},
     "output_type": "execute_result"
    }
   ],
   "source": [
    "class Solution:\n",
    "    def canVisitAllRooms(self, rooms) -> bool:\n",
    "        visited = set()\n",
    "        self.dfs(0, rooms, visited)\n",
    "        return len(visited) == len(rooms)\n",
    "    \n",
    "    def dfs(self, room_no, rooms, visited):\n",
    "        visited.add(room_no)\n",
    "        for key in rooms[room_no]:\n",
    "            if key not in visited:\n",
    "                self.dfs(key, rooms, visited)\n",
    "                \n",
    "obj = Solution()\n",
    "rooms = [[1],[2],[3],[]]\n",
    "# rooms = [[1,3],[3,0,1],[2],[0]]\n",
    "obj.canVisitAllRooms(rooms)"
   ]
  },
  {
   "cell_type": "markdown",
   "metadata": {},
   "source": [
    "### Clone a Graph"
   ]
  },
  {
   "cell_type": "code",
   "execution_count": 4,
   "metadata": {},
   "outputs": [
    {
     "data": {
      "text/plain": [
       "<__main__.Node at 0x7f130bf732e8>"
      ]
     },
     "execution_count": 4,
     "metadata": {},
     "output_type": "execute_result"
    }
   ],
   "source": [
    "def clone_graph(node):\n",
    "    visited = {}\n",
    "    return dfs(node, visited)\n",
    "\n",
    "def dfs(node, visited):\n",
    "    if node in visited:\n",
    "        return visited[node]\n",
    "    \n",
    "    clone_node = Node([], node.data)\n",
    "    visited[node] = clone_node\n",
    "    for neighbor in node.neighbors:\n",
    "        clone_node.neighbors.append(dfs(neighbor, visited))\n",
    "    return clone_node\n",
    "\n",
    "clone_graph(node1)"
   ]
  },
  {
   "cell_type": "markdown",
   "metadata": {},
   "source": [
    "## Breadth First Search"
   ]
  },
  {
   "cell_type": "markdown",
   "metadata": {},
   "source": [
    "### Given a graph and a target number T, find T exists in the graph"
   ]
  },
  {
   "cell_type": "code",
   "execution_count": 5,
   "metadata": {},
   "outputs": [
    {
     "data": {
      "text/plain": [
       "True"
      ]
     },
     "execution_count": 5,
     "metadata": {},
     "output_type": "execute_result"
    }
   ],
   "source": [
    "def bfs(graph, target):\n",
    "    state = {}\n",
    "    for node in graph.node_list:\n",
    "        if node not in state and bfs_visit(node, state, target):\n",
    "            return True\n",
    "    return False\n",
    "\n",
    "def bfs_visit(node, state, target):\n",
    "    queue = []\n",
    "    queue.append(node)\n",
    "    state[node] = 'visiting'\n",
    "    \n",
    "    while len(queue):\n",
    "        node = queue.pop(0)\n",
    "        if node.data == target:\n",
    "            return True\n",
    "        for neighbor in node.neighbors:\n",
    "            if neighbor not in state:\n",
    "                queue.append(neighbor)\n",
    "                state[neighbor] = 'visiting'\n",
    "        state[node] = 'visited'\n",
    "    return False\n",
    "bfs(graph, 6)      "
   ]
  },
  {
   "cell_type": "markdown",
   "metadata": {},
   "source": [
    "### Word Ladder \n",
    "https://leetcode.com/problems/word-ladder/"
   ]
  },
  {
   "cell_type": "code",
   "execution_count": 9,
   "metadata": {},
   "outputs": [
    {
     "data": {
      "text/plain": [
       "5"
      ]
     },
     "execution_count": 9,
     "metadata": {},
     "output_type": "execute_result"
    }
   ],
   "source": [
    "def ladderLength(beginWord, endWord, wordList):\n",
    "    import string\n",
    "    queue = [beginWord]; wordList = set(wordList); distance = 0\n",
    "\n",
    "    while len(queue):\n",
    "        size = len(queue)\n",
    "        distance += 1\n",
    "        for _ in range(size):\n",
    "            word = queue.pop(0)\n",
    "            if word == endWord:\n",
    "                return distance\n",
    "            for i in range(len(word)):\n",
    "                for c in string.ascii_lowercase:\n",
    "                    cand = word[:i] + c + word[i+1:]\n",
    "                    if cand in wordList:\n",
    "                        queue.append(cand)\n",
    "                        wordList.remove(cand)\n",
    "    return 0\n",
    "\n",
    "beginWord = \"hit\"\n",
    "endWord = \"cog\"\n",
    "wordList = [\"hot\",\"dot\",\"dog\",\"lot\",\"log\",\"cog\"]\n",
    "ladderLength(beginWord, endWord, wordList)    "
   ]
  },
  {
   "cell_type": "markdown",
   "metadata": {},
   "source": [
    "### Word Ladder II\n",
    "https://leetcode.com/problems/word-ladder-ii/"
   ]
  },
  {
   "cell_type": "code",
   "execution_count": 14,
   "metadata": {},
   "outputs": [],
   "source": [
    "def findLadders(beginWord, endWord, wordList):\n",
    "    from collections import defaultdict\n",
    "    dict_ = set(wordList); level = {}; neighbors = defaultdict(list); solution = [beginWord]; result = []\n",
    "\n",
    "    bfs(beginWord, endWord, dict_, level, neighbors)\n",
    "    dfs(endWord, level, neighbors, solution, result)\n",
    "    return result\n",
    "\n",
    "def bfs(start, end, dict_, level, neighbors):\n",
    "    queue = []\n",
    "    queue.append(start)\n",
    "    level[start] = 0\n",
    "\n",
    "    while len(queue):\n",
    "        found = False\n",
    "        size = len(queue)\n",
    "        for i in range(size):\n",
    "            curr = queue.pop(0)\n",
    "            neighbors[curr] = get_neighbors(curr, dict_)\n",
    "            for neigh in neighbors[curr]:\n",
    "                if neigh not in level:\n",
    "                    level[neigh] = level[curr]+1\n",
    "                    if neigh == end:\n",
    "                        found = True\n",
    "                    else:\n",
    "                        queue.append(neigh)\n",
    "        if found:\n",
    "            return\n",
    "\n",
    "def dfs(end, level, neighbors, solution, result):\n",
    "    if solution[-1] == end:\n",
    "        result.append(solution[:])\n",
    "        return\n",
    "    \n",
    "    curr = solution[-1]\n",
    "    for neigh in neighbors[curr]:\n",
    "        if level[neigh] == level[curr]+1:\n",
    "            solution.append(neigh)\n",
    "            dfs(end, level, neighbors, solution, result)\n",
    "            solution.pop()\n",
    "\n",
    "def get_neighbors(curr, dict_):\n",
    "    import string\n",
    "    neighs = []\n",
    "    for i in range(len(curr)):\n",
    "        for c in string.ascii_lowercase:\n",
    "            cand = curr[:i] + c + curr[i+1:]\n",
    "            if cand != curr and cand in dict_:\n",
    "                neighs.append(cand)\n",
    "    return neighs"
   ]
  },
  {
   "cell_type": "code",
   "execution_count": 15,
   "metadata": {},
   "outputs": [
    {
     "data": {
      "text/plain": [
       "[['hit', 'hot', 'dot', 'dog', 'cog'], ['hit', 'hot', 'lot', 'log', 'cog']]"
      ]
     },
     "execution_count": 15,
     "metadata": {},
     "output_type": "execute_result"
    }
   ],
   "source": [
    "beginWord = \"hit\"\n",
    "endWord = \"cog\"\n",
    "wordList = [\"hot\",\"dot\",\"dog\",\"lot\",\"log\",\"cog\"]\n",
    "findLadders(beginWord, endWord, wordList)"
   ]
  },
  {
   "cell_type": "markdown",
   "metadata": {},
   "source": [
    "## Topological sorting"
   ]
  },
  {
   "cell_type": "code",
   "execution_count": 9,
   "metadata": {},
   "outputs": [],
   "source": [
    "node1 = Node([],1)\n",
    "node2 = Node([],2)\n",
    "node3 = Node([],3)\n",
    "node4 = Node([],4)\n",
    "node5 = Node([],5)\n",
    "\n",
    "node1.neighbors = [node2, node4]\n",
    "node2.neighbors = [node3, node4, node5]\n",
    "node3.neighbors = [node5]\n",
    "\n",
    "graph = Graph([node1, node2, node3, node4, node5])"
   ]
  },
  {
   "cell_type": "markdown",
   "metadata": {},
   "source": [
    "### Sort a graph in Topological order"
   ]
  },
  {
   "cell_type": "code",
   "execution_count": 10,
   "metadata": {},
   "outputs": [
    {
     "name": "stdout",
     "output_type": "stream",
     "text": [
      "1\n",
      "2\n",
      "4\n",
      "3\n",
      "5\n"
     ]
    }
   ],
   "source": [
    "def topo_sort(graph):\n",
    "    state = {}\n",
    "    stack = []\n",
    "    for node in graph.node_list:\n",
    "        if node not in state:\n",
    "            dfs_visit(node,state, stack)\n",
    "    return stack\n",
    "\n",
    "def dfs_visit(node, state, stack):\n",
    "    state[node] = 'visiting'\n",
    "    for neighbor in node.neighbors:\n",
    "        if neighbor not in state:\n",
    "            dfs_visit(neighbor, state, stack)\n",
    "    state[node] = 'visited'\n",
    "    stack.append(node)\n",
    "stack = topo_sort(graph)\n",
    "while len(stack):\n",
    "    print(stack.pop().data)"
   ]
  },
  {
   "cell_type": "markdown",
   "metadata": {},
   "source": [
    "### Minimum number of semester required to complete courses"
   ]
  },
  {
   "cell_type": "code",
   "execution_count": 12,
   "metadata": {},
   "outputs": [
    {
     "data": {
      "text/plain": [
       "(defaultdict(<function __main__.min_semesters.<locals>.<lambda>()>,\n",
       "             {<__main__.Node at 0x7f130b6ff860>: 2,\n",
       "              <__main__.Node at 0x7f130b6ffa58>: 1,\n",
       "              <__main__.Node at 0x7f130b6ff7f0>: 3,\n",
       "              <__main__.Node at 0x7f130b6ff908>: 3,\n",
       "              <__main__.Node at 0x7f130b6ff8d0>: 4}),\n",
       " 4)"
      ]
     },
     "execution_count": 12,
     "metadata": {},
     "output_type": "execute_result"
    }
   ],
   "source": [
    "def min_semesters(graph):\n",
    "    from collections import defaultdict\n",
    "    stack = topo_sort(graph)\n",
    "    sem = defaultdict(lambda: 1)\n",
    "    min_sem = float('-inf')\n",
    "    while len(stack):\n",
    "        node = stack.pop()\n",
    "        for neighbor in node.neighbors:\n",
    "            sem[neighbor] = max(sem[neighbor], sem[node]+1)\n",
    "            min_sem = max(min_sem, sem[neighbor])\n",
    "    return sem, min_sem\n",
    "sem, min_sem = min_semesters(graph)\n",
    "sem, min_sem"
   ]
  }
 ],
 "metadata": {
  "kernelspec": {
   "display_name": "Python 3",
   "language": "python",
   "name": "python3"
  },
  "language_info": {
   "codemirror_mode": {
    "name": "ipython",
    "version": 3
   },
   "file_extension": ".py",
   "mimetype": "text/x-python",
   "name": "python",
   "nbconvert_exporter": "python",
   "pygments_lexer": "ipython3",
   "version": "3.6.8"
  }
 },
 "nbformat": 4,
 "nbformat_minor": 2
}
