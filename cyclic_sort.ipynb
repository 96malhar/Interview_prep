{
 "cells": [
  {
   "cell_type": "markdown",
   "metadata": {},
   "source": [
    "### Cyclic Sort\n",
    "We are given an array containing ‘n’ objects. Each object, when created, was assigned a unique number from 1 to ‘n’ based on their creation sequence. This means that the object with sequence number ‘3’ was created just before the object with sequence number ‘4’.\n",
    "\n",
    "Write a function to sort the objects in-place on their creation sequence number in O(n)O(n) and without any extra space. For simplicity, let’s assume we are passed an integer array containing only the sequence numbers, though each number is actually an object.\n",
    "\n",
    "Example 1:\n",
    "\n",
    "* Input: [3, 1, 5, 4, 2]\n",
    "* Output: [1, 2, 3, 4, 5]"
   ]
  },
  {
   "cell_type": "code",
   "execution_count": 67,
   "metadata": {},
   "outputs": [
    {
     "data": {
      "text/plain": [
       "[1, 2, 3, 4, 5]"
      ]
     },
     "execution_count": 67,
     "metadata": {},
     "output_type": "execute_result"
    }
   ],
   "source": [
    "def cyclic_sort(nums):\n",
    "    i = 0\n",
    "    while i<len(nums):\n",
    "        j = nums[i]-1\n",
    "        if nums[i]!=nums[j]:\n",
    "            nums[i], nums[j] = nums[j], nums[i]\n",
    "        else:\n",
    "            i += 1\n",
    "    return nums\n",
    "\n",
    "nums =  [3, 1, 5, 4, 2]\n",
    "cyclic_sort(nums)"
   ]
  },
  {
   "cell_type": "markdown",
   "metadata": {},
   "source": [
    "### Missing Number\n",
    "Given an array containing n distinct numbers taken from 0, 1, 2, ..., n, find the one that is missing from the array.\n",
    "\n",
    "* Input: [3,0,1]\n",
    "* Output: 2"
   ]
  },
  {
   "cell_type": "code",
   "execution_count": 68,
   "metadata": {},
   "outputs": [
    {
     "data": {
      "text/plain": [
       "7"
      ]
     },
     "execution_count": 68,
     "metadata": {},
     "output_type": "execute_result"
    }
   ],
   "source": [
    "def missingNumber(nums):\n",
    "    i = 0; n = len(nums)\n",
    "    while i<n:\n",
    "        j = nums[i]\n",
    "        if j<n and nums[i]!=nums[j]:\n",
    "            nums[i], nums[j] = nums[j], nums[i]\n",
    "        else:\n",
    "            i += 1\n",
    "\n",
    "    for i in range(n):\n",
    "        if i != nums[i]:\n",
    "            return i\n",
    "    return n\n",
    "\n",
    "nums = [8, 3, 5, 2, 4, 6, 0, 1]\n",
    "missingNumber(nums)"
   ]
  },
  {
   "cell_type": "markdown",
   "metadata": {},
   "source": [
    "### Find all missing numbers\n",
    "We are given an unsorted array containing numbers taken from the range 1 to ‘n’. The array can have duplicates, which means some numbers will be missing. Find all those missing numbers.\n",
    "* Input: [2, 3, 1, 8, 2, 3, 5, 1]\n",
    "* Output: 4, 6, 7\n",
    "* Explanation: The array should have all numbers from 1 to 8, due to duplicates 4, 6, and 7 are missing."
   ]
  },
  {
   "cell_type": "code",
   "execution_count": 69,
   "metadata": {},
   "outputs": [
    {
     "data": {
      "text/plain": [
       "[4, 6, 7]"
      ]
     },
     "execution_count": 69,
     "metadata": {},
     "output_type": "execute_result"
    }
   ],
   "source": [
    "def find_missing_numbers(nums):\n",
    "    i = 0\n",
    "    while i < len(nums):\n",
    "        j = nums[i] - 1\n",
    "        if nums[i] != nums[j]:\n",
    "            nums[i], nums[j] = nums[j], nums[i]  # swap\n",
    "        else:\n",
    "            i += 1\n",
    "\n",
    "    missingNumbers = []\n",
    "\n",
    "    for i in range(len(nums)):\n",
    "        if nums[i] != i + 1:\n",
    "            missingNumbers.append(i + 1)\n",
    "\n",
    "    return missingNumbers\n",
    "\n",
    "nums = [2, 3, 1, 8, 2, 3, 5, 1]\n",
    "find_missing_numbers(nums)"
   ]
  },
  {
   "cell_type": "markdown",
   "metadata": {},
   "source": [
    "### Find the duplicate number\n",
    "We are given an unsorted array containing ‘n+1’ numbers taken from the range 1 to ‘n’. The array has only one duplicate but it can be repeated multiple times. Find that duplicate number without using any extra space. You are, however, allowed to modify the input array.\n",
    "\n",
    "* Input: [1, 4, 4, 3, 2]\n",
    "* Output: 4"
   ]
  },
  {
   "cell_type": "code",
   "execution_count": 70,
   "metadata": {},
   "outputs": [
    {
     "data": {
      "text/plain": [
       "3"
      ]
     },
     "execution_count": 70,
     "metadata": {},
     "output_type": "execute_result"
    }
   ],
   "source": [
    "def findDuplicate(nums):\n",
    "    i = 0\n",
    "    while i<len(nums):\n",
    "        if nums[i]!=i+1:\n",
    "            j = nums[i] - 1\n",
    "            if nums[i] != nums[j]:\n",
    "                nums[i], nums[j] = nums[j], nums[i]\n",
    "            else:\n",
    "                return nums[i]\n",
    "        else:\n",
    "            i += 1\n",
    "    return -1\n",
    "\n",
    "nums = [1, 3, 4, 3, 2]\n",
    "findDuplicate(nums)"
   ]
  },
  {
   "cell_type": "markdown",
   "metadata": {},
   "source": [
    "### Find all duplicate numbers\n",
    "We are given an unsorted array containing ‘n’ numbers taken from the range 1 to ‘n’. The array has some duplicates, find all the duplicate numbers without using any extra space.\n",
    "* Input: [3, 4, 4, 5, 5]\n",
    "* Output: [4, 5]"
   ]
  },
  {
   "cell_type": "code",
   "execution_count": 71,
   "metadata": {},
   "outputs": [
    {
     "data": {
      "text/plain": [
       "[5, 4]"
      ]
     },
     "execution_count": 71,
     "metadata": {},
     "output_type": "execute_result"
    }
   ],
   "source": [
    "def find_all_duplicates(nums):\n",
    "    i = 0\n",
    "    while i < len(nums):\n",
    "        j = nums[i] - 1\n",
    "        if nums[i] != nums[j]:\n",
    "            nums[i], nums[j] = nums[j], nums[i]  # swap\n",
    "        else:\n",
    "            i += 1\n",
    "\n",
    "    duplicateNumbers = []\n",
    "    for i in range(len(nums)):\n",
    "        if nums[i] != i + 1:\n",
    "            duplicateNumbers.append(nums[i])\n",
    "\n",
    "    return duplicateNumbers\n",
    "\n",
    "nums = [3, 4, 4, 5, 5]\n",
    "find_all_duplicates(nums)"
   ]
  },
  {
   "cell_type": "markdown",
   "metadata": {},
   "source": [
    "### Set mismatch\n",
    "We are given an unsorted array containing ‘n’ numbers taken from the range 1 to ‘n’. The array originally contained all the numbers from 1 to ‘n’, but due to a data error, one of the numbers got duplicated which also resulted in one number going missing. Find both these numbers.\n",
    "\n",
    "* Input: nums = [1,2,2,4]\n",
    "* Output: [2,3]"
   ]
  },
  {
   "cell_type": "code",
   "execution_count": 78,
   "metadata": {},
   "outputs": [
    {
     "data": {
      "text/plain": [
       "[3, 5]"
      ]
     },
     "execution_count": 78,
     "metadata": {},
     "output_type": "execute_result"
    }
   ],
   "source": [
    "def find_corrupt_numbers(nums):\n",
    "    i = 0\n",
    "    while i < len(nums):\n",
    "        j = nums[i] - 1\n",
    "        if nums[i] != nums[j]:\n",
    "            nums[i], nums[j] = nums[j], nums[i]  # swap\n",
    "        else:\n",
    "            i += 1\n",
    "\n",
    "    for i in range(len(nums)):\n",
    "        if nums[i] != i + 1:\n",
    "            return [nums[i], i + 1]\n",
    "\n",
    "    return [-1, -1]\n",
    "\n",
    "nums = [3, 1, 2, 3, 6, 4]\n",
    "find_corrupt_numbers(nums)"
   ]
  },
  {
   "cell_type": "markdown",
   "metadata": {},
   "source": [
    "### First Missing Positive\n",
    "Given an unsorted integer array, find the smallest missing positive integer.\n",
    "\n",
    "* Input: [1,2,0]\n",
    "* Output: 3\n",
    "\n",
    "* Input: [3,4,-1,1]\n",
    "* Output: 2\n",
    "\n",
    "* Input: [7,8,9,11,12]\n",
    "* Output: 1"
   ]
  },
  {
   "cell_type": "code",
   "execution_count": 16,
   "metadata": {},
   "outputs": [
    {
     "data": {
      "text/plain": [
       "1"
      ]
     },
     "execution_count": 16,
     "metadata": {},
     "output_type": "execute_result"
    }
   ],
   "source": [
    "def firstMissingPositive(nums) -> int:\n",
    "    i = 0; n = len(nums)\n",
    "    while i<len(nums):\n",
    "        j = nums[i]-1\n",
    "        if j>=0 and j<n and nums[j] != nums[i]:\n",
    "            nums[j], nums[i] = nums[i], nums[j]\n",
    "        else:\n",
    "            i += 1\n",
    "\n",
    "    for i in range(len(nums)):\n",
    "        if nums[i]!=i+1:\n",
    "            return i+1\n",
    "    return len(nums)+1\n",
    "\n",
    "nums = [1,2,0]\n",
    "nums = [7,8,9,11,12]\n",
    "firstMissingPositive(nums)"
   ]
  },
  {
   "cell_type": "markdown",
   "metadata": {},
   "source": [
    "### First K missing positive numbers"
   ]
  },
  {
   "cell_type": "code",
   "execution_count": 29,
   "metadata": {},
   "outputs": [
    {
     "data": {
      "text/plain": [
       "[1, 2, 6]"
      ]
     },
     "execution_count": 29,
     "metadata": {},
     "output_type": "execute_result"
    }
   ],
   "source": [
    "def first_k_missing_positive(nums, k):\n",
    "    i,n = 0, len(nums); missing_numbers = []; extra_num = set()\n",
    "    while i<len(nums):\n",
    "        j = nums[i]-1\n",
    "        if j>=0 and j<n and nums[i]!=nums[j]:\n",
    "            nums[j], nums[i] = nums[i], nums[j]\n",
    "        else:\n",
    "            i += 1   \n",
    "            \n",
    "    for i in range(len(nums)):\n",
    "        if len(missing_numbers)<k:\n",
    "            if nums[i]!=i+1:\n",
    "                missing_numbers.append(i+1)\n",
    "                extra_num.add(nums[i])\n",
    "    \n",
    "    i = 1\n",
    "    while len(missing_numbers)<k:\n",
    "        candidate = n+i\n",
    "        if candidate not in extra_num:\n",
    "            missing_numbers.append(candidate)\n",
    "        i += 1\n",
    "                        \n",
    "    return missing_numbers\n",
    "\n",
    "nums = [3, -1, 4, 5, 5]; k = 3\n",
    "\n",
    "first_k_missing_positive(nums, k)"
   ]
  },
  {
   "cell_type": "markdown",
   "metadata": {},
   "source": [
    "### Shuffle String\n",
    "Given a string s and an integer array indices of the same length.\n",
    "\n",
    "The string s will be shuffled such that the character at the ith position moves to indices[i] in the shuffled string.\n",
    "\n",
    "Return the shuffled string."
   ]
  },
  {
   "cell_type": "code",
   "execution_count": 3,
   "metadata": {},
   "outputs": [
    {
     "data": {
      "text/plain": [
       "'leetcode'"
      ]
     },
     "execution_count": 3,
     "metadata": {},
     "output_type": "execute_result"
    }
   ],
   "source": [
    "def restoreString(s: str, indices) -> str:\n",
    "    s = list(s)\n",
    "    i = 0\n",
    "    while i<len(s):\n",
    "        j = indices[i]\n",
    "        if indices[i] != indices[j]:\n",
    "            s[i], s[j] = s[j], s[i]\n",
    "            indices[i], indices[j] = indices[j], indices[i]\n",
    "        else:\n",
    "            i += 1\n",
    "    return ''.join(s)\n",
    "\n",
    "restoreString(s = \"codeleet\", indices = [4,5,6,7,0,2,1,3])"
   ]
  }
 ],
 "metadata": {
  "kernelspec": {
   "display_name": "Python 3",
   "language": "python",
   "name": "python3"
  },
  "language_info": {
   "codemirror_mode": {
    "name": "ipython",
    "version": 3
   },
   "file_extension": ".py",
   "mimetype": "text/x-python",
   "name": "python",
   "nbconvert_exporter": "python",
   "pygments_lexer": "ipython3",
   "version": "3.6.8"
  }
 },
 "nbformat": 4,
 "nbformat_minor": 2
}
