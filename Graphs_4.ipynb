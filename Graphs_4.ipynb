{
 "cells": [
  {
   "cell_type": "markdown",
   "metadata": {},
   "source": [
    "### Shortest Path with Alternating Colors\n",
    "\n",
    "Consider a directed graph, with nodes labelled 0, 1, ..., n-1.  In this graph, each edge is either red or blue, and there could be self-edges or parallel edges.\n",
    "\n",
    "Each [i, j] in red_edges denotes a red directed edge from node i to node j.  Similarly, each [i, j] in blue_edges denotes a blue directed edge from node i to node j.\n",
    "\n",
    "Return an array answer of length n, where each answer[X] is the length of the shortest path from node 0 to node X such that the edge colors alternate along the path (or -1 if such a path doesn't exist).\n",
    "\n",
    " "
   ]
  },
  {
   "cell_type": "code",
   "execution_count": 5,
   "metadata": {},
   "outputs": [
    {
     "data": {
      "text/plain": [
       "[0, 1, 1]"
      ]
     },
     "execution_count": 5,
     "metadata": {},
     "output_type": "execute_result"
    }
   ],
   "source": [
    "from collections import defaultdict, deque\n",
    "class Solution:\n",
    "    def shortestAlternatingPaths(self, n: int, red_edges, blue_edges):\n",
    "        graph_red = defaultdict(list)\n",
    "        graph_blue = defaultdict(list)\n",
    "        \n",
    "        for x, y in red_edges:\n",
    "            graph_red[x].append(y)\n",
    "        \n",
    "        for x, y in blue_edges:\n",
    "            graph_blue[x].append(y)\n",
    "            \n",
    "        queue = deque()\n",
    "        queue.append((0, 'R'))\n",
    "        queue.append((0, 'B'))\n",
    "        seen = {(0, 'R'), (0, 'B')}\n",
    "        ans = [float('inf')]*n\n",
    "        \n",
    "        dist = 0\n",
    "        while queue:\n",
    "            size = len(queue)\n",
    "            for _ in range(size):\n",
    "                node, last_color = queue.popleft()\n",
    "                ans[node] = min(dist, ans[node])\n",
    "                \n",
    "                new_color = 'B' if 'B' != last_color else 'R'\n",
    "                graph = graph_blue if new_color == 'B' else graph_red\n",
    "                \n",
    "                for new_node in graph[node]:\n",
    "                    if (new_node, new_color) not in seen:\n",
    "                        seen.add((new_node, new_color))\n",
    "                        queue.append((new_node, new_color))\n",
    "            \n",
    "            dist += 1\n",
    "        \n",
    "        for i in range(len(ans)):\n",
    "            if ans[i] == float('inf'):\n",
    "                ans[i] = -1\n",
    "            \n",
    "        return ans\n",
    "                \n",
    "                \n",
    "Solution().shortestAlternatingPaths(n = 3, red_edges = [[0,1],[0,2]], blue_edges = [[1,0]])"
   ]
  },
  {
   "cell_type": "markdown",
   "metadata": {},
   "source": [
    "### Minimum Number of Vertices to Reach All Nodes\n",
    "\n",
    "Given a directed acyclic graph, with n vertices numbered from 0 to n-1, and an array edges where edges[i] = [fromi, toi] represents a directed edge from node fromi to node toi.\n",
    "\n",
    "Find the smallest set of vertices from which all nodes in the graph are reachable. It's guaranteed that a unique solution exists.\n",
    "\n",
    "Notice that you can return the vertices in any order."
   ]
  },
  {
   "cell_type": "code",
   "execution_count": 7,
   "metadata": {},
   "outputs": [
    {
     "data": {
      "text/plain": [
       "[0, 3]"
      ]
     },
     "execution_count": 7,
     "metadata": {},
     "output_type": "execute_result"
    }
   ],
   "source": [
    "from collections import Counter\n",
    "def findSmallestSetOfVertices(n: int, edges):\n",
    "    indegree = Counter()\n",
    "    for x, y in edges:\n",
    "        indegree[y] += 1\n",
    "\n",
    "    return [node for node in range(n) if indegree[node] == 0]\n",
    "\n",
    "findSmallestSetOfVertices(n = 6, edges = [[0,1],[0,2],[2,5],[3,4],[4,2]])"
   ]
  },
  {
   "cell_type": "markdown",
   "metadata": {},
   "source": [
    "### Detect Cycles in 2D Grid\n",
    "\n",
    "Given a 2D array of characters grid of size m x n, you need to find if there exists any cycle consisting of the same value in grid.\n",
    "\n",
    "A cycle is a path of length 4 or more in the grid that starts and ends at the same cell. From a given cell, you can move to one of the cells adjacent to it - in one of the four directions (up, down, left, or right), if it has the same value of the current cell.\n",
    "\n",
    "Also, you cannot move to the cell that you visited in your last move. For example, the cycle (1, 1) -> (1, 2) -> (1, 1) is invalid because from (1, 2) we visited (1, 1) which was the last visited cell.\n",
    "\n",
    "Return true if any cycle of the same value exists in grid, otherwise, return false."
   ]
  },
  {
   "cell_type": "code",
   "execution_count": 8,
   "metadata": {},
   "outputs": [
    {
     "data": {
      "text/plain": [
       "True"
      ]
     },
     "execution_count": 8,
     "metadata": {},
     "output_type": "execute_result"
    }
   ],
   "source": [
    "class Solution:\n",
    "    def containsCycle(self, grid) -> bool:\n",
    "        state = {}\n",
    "        for i in range(len(grid)):\n",
    "            for j in range(len(grid[0])):\n",
    "                if (i,j) not in state and self.hasCycle(i, j, grid, state, -1, -1):\n",
    "                    return True\n",
    "        \n",
    "        return False\n",
    "    \n",
    "    def hasCycle(self, i, j, grid, state, pi, pj):\n",
    "        state[(i,j)] = 'visiting'\n",
    "        \n",
    "        for x, y in [(i+1,j), (i,j+1), (i-1,j), (i,j-1)]:\n",
    "            if 0<=x<len(grid) and 0<=y<len(grid[0]) and (x,y) != (pi,pj) and grid[x][y] == grid[i][j]:\n",
    "                \n",
    "                if (x,y) not in state and self.hasCycle(x, y, grid, state, i, j):\n",
    "                    return True\n",
    "                \n",
    "                if state[(x,y)] == 'visiting':\n",
    "                    return True\n",
    "        \n",
    "        state[(i,j)] = 'visited'\n",
    "        return False\n",
    "                \n",
    "grid = [[\"c\",\"c\",\"c\",\"a\"],[\"c\",\"d\",\"c\",\"c\"],[\"c\",\"c\",\"e\",\"c\"],[\"f\",\"c\",\"c\",\"c\"]]\n",
    "Solution().containsCycle(grid)"
   ]
  },
  {
   "cell_type": "markdown",
   "metadata": {},
   "source": [
    "### Find Latest Group of Size M\n",
    "\n",
    "Given an array arr that represents a permutation of numbers from 1 to n. You have a binary string of size n that initially has all its bits set to zero.\n",
    "\n",
    "At each step i (assuming both the binary string and arr are 1-indexed) from 1 to n, the bit at position arr[i] is set to 1. You are given an integer m and you need to find the latest step at which there exists a group of ones of length m. A group of ones is a contiguous substring of 1s such that it cannot be extended in either direction.\n",
    "\n",
    "Return the latest step at which there exists a group of ones of length exactly m. If no such group exists, return -1."
   ]
  },
  {
   "cell_type": "code",
   "execution_count": 10,
   "metadata": {},
   "outputs": [
    {
     "data": {
      "text/plain": [
       "4"
      ]
     },
     "execution_count": 10,
     "metadata": {},
     "output_type": "execute_result"
    }
   ],
   "source": [
    "class Solution:\n",
    "    def findLatestStep(self, arr, m: int) -> int:\n",
    "        n = len(arr)\n",
    "        uf = UnionFind(n)\n",
    "        res = [0]*n\n",
    "        ans = -1\n",
    "        for i in range(n):\n",
    "            step = i+1\n",
    "            index = arr[i]-1\n",
    "            res[index] = 1\n",
    "            uf.size[index] = 1\n",
    "            uf.count[1] += 1\n",
    "            \n",
    "            if index-1 >= 0 and res[index-1] == 1:\n",
    "                uf.union(index-1, index)\n",
    "            \n",
    "            if index+1 < n and res[index+1] == 1:\n",
    "                uf.union(index, index+1)\n",
    "            \n",
    "            if uf.count[m] > 0:\n",
    "                ans = step\n",
    "        \n",
    "        return ans\n",
    "            \n",
    "class UnionFind:\n",
    "    def __init__(self, n):\n",
    "        self.parent = list(range(n))\n",
    "        self.size = [0]*n\n",
    "        self.count = Counter()\n",
    "        \n",
    "    def union(self, x, y):\n",
    "        rootx = self.find(x)\n",
    "        rooty = self.find(y)\n",
    "        \n",
    "        if rootx == rooty:\n",
    "            return False\n",
    "        \n",
    "        size_x = self.size[rootx]\n",
    "        size_y = self.size[rooty]\n",
    "        \n",
    "        self.count[size_x] -= 1\n",
    "        self.count[size_y] -= 1\n",
    "        \n",
    "        new_size = size_x + size_y\n",
    "        \n",
    "        self.parent[rooty] = rootx\n",
    "        self.size[rootx] = new_size\n",
    "        self.count[new_size] += 1\n",
    "        \n",
    "        return True\n",
    "    \n",
    "    def find(self, x):\n",
    "        while x != self.parent[x]:\n",
    "            self.parent[x] = self.parent[self.parent[x]]\n",
    "            x = self.parent[x]\n",
    "        return x\n",
    "\n",
    "Solution().findLatestStep(arr = [3,5,1,2,4], m = 1)"
   ]
  },
  {
   "cell_type": "markdown",
   "metadata": {},
   "source": [
    "### Largest Component Size by Common Factor\n",
    "\n",
    "Given a non-empty array of unique positive integers A, consider the following graph:\n",
    "\n",
    "* There are A.length nodes, labelled A[0] to A[A.length - 1];\n",
    "* There is an edge between A[i] and A[j] if and only if A[i] and A[j] share a common factor greater than 1.\n",
    "\n",
    "Return the size of the largest connected component in the graph."
   ]
  },
  {
   "cell_type": "code",
   "execution_count": 12,
   "metadata": {},
   "outputs": [
    {
     "data": {
      "text/plain": [
       "8"
      ]
     },
     "execution_count": 12,
     "metadata": {},
     "output_type": "execute_result"
    }
   ],
   "source": [
    "import math\n",
    "class Solution:\n",
    "    def largestComponentSize(self, A) -> int:\n",
    "        graph = defaultdict(list)\n",
    "        uf = UnionFind(len(A))\n",
    "        \n",
    "        for i, num in enumerate(A):\n",
    "            prime_factors = self.get_prime_factors(num)\n",
    "            for factor in prime_factors:\n",
    "                graph[factor].append(i)\n",
    "        \n",
    "        for factor in graph:\n",
    "            indices = graph[factor]\n",
    "            for i in range(len(indices)-1):\n",
    "                uf.union(indices[i], indices[i+1])\n",
    "        \n",
    "        counter = Counter()\n",
    "        for i in range(len(A)):\n",
    "            root = uf.find(i)\n",
    "            counter[root] += 1\n",
    "        \n",
    "        return max(counter.values())\n",
    "        \n",
    "    def get_prime_factors(self, n):\n",
    "        for i in range(2, int(math.sqrt(n))+1):\n",
    "            if n % i == 0:\n",
    "                return self.get_prime_factors(n//i) | set([i])\n",
    "        return {n}\n",
    "\n",
    "class UnionFind:\n",
    "    def __init__(self, n):\n",
    "        self.parent = list(range(n))\n",
    "    \n",
    "    def union(self, x, y):\n",
    "        rootx = self.find(x)\n",
    "        rooty = self.find(y)\n",
    "        if rootx == rooty:\n",
    "            return False\n",
    "        self.parent[rooty] = rootx\n",
    "        return True\n",
    "    \n",
    "    def find(self, x):\n",
    "        while x != self.parent[x]:\n",
    "            self.parent[x] = self.parent[self.parent[x]]\n",
    "            x = self.parent[x]\n",
    "        return x\n",
    "        \n",
    "Solution().largestComponentSize([2,3,6,7,4,12,21,39])"
   ]
  },
  {
   "cell_type": "markdown",
   "metadata": {},
   "source": [
    "### Minimum Number of Days to Disconnect Island\n",
    "\n",
    "Given a 2D grid consisting of 1s (land) and 0s (water).  An island is a maximal 4-directionally (horizontal or vertical) connected group of 1s.\n",
    "\n",
    "The grid is said to be connected if we have exactly one island, otherwise is said disconnected.\n",
    "\n",
    "In one day, we are allowed to change any single land cell (1) into a water cell (0).\n",
    "\n",
    "Return the minimum number of days to disconnect the grid."
   ]
  },
  {
   "cell_type": "code",
   "execution_count": 15,
   "metadata": {},
   "outputs": [
    {
     "data": {
      "text/plain": [
       "2"
      ]
     },
     "execution_count": 15,
     "metadata": {},
     "output_type": "execute_result"
    }
   ],
   "source": [
    "class Solution:\n",
    "    def minDays(self, grid) -> int:\n",
    "        num_cc = self.dfs(grid)\n",
    "        \n",
    "        if num_cc != 1:\n",
    "            return 0\n",
    "        \n",
    "        for i in range(len(grid)):\n",
    "            for j in range(len(grid[0])):\n",
    "                if grid[i][j] == 1:\n",
    "                    grid[i][j] = 0\n",
    "                    num_cc = self.dfs(grid)\n",
    "                    if num_cc != 1:\n",
    "                        return 1\n",
    "                    grid[i][j] = 1\n",
    "        \n",
    "        return 2\n",
    "    \n",
    "    def dfs(self, grid):\n",
    "        seen = set()\n",
    "        num_cc = 0\n",
    "        \n",
    "        for i in range(len(grid)):\n",
    "            for j in range(len(grid[0])):\n",
    "                if grid[i][j] == 1 and (i,j) not in seen:\n",
    "                    num_cc += 1\n",
    "                    self.helper(i, j, seen, grid)\n",
    "        \n",
    "        return num_cc\n",
    "    \n",
    "    def helper(self, i, j, seen, grid):\n",
    "        seen.add((i,j))\n",
    "        for x, y in [(i+1,j), (i,j+1), (i-1,j), (i,j-1)]:\n",
    "            if 0<=x<len(grid) and 0<=y<len(grid[0]) and (x, y) not in seen and grid[x][y] == 1:\n",
    "                self.helper(x, y, seen, grid)\n",
    "        \n",
    "\n",
    "Solution().minDays(grid = [[0,1,1,0],[0,1,1,0],[0,0,0,0]])"
   ]
  },
  {
   "cell_type": "markdown",
   "metadata": {},
   "source": [
    "### Remove Max Number of Edges to Keep Graph Fully Traversable\n",
    "\n",
    "Alice and Bob have an undirected graph of n nodes and 3 types of edges:\n",
    "\n",
    "* Type 1: Can be traversed by Alice only.\n",
    "* Type 2: Can be traversed by Bob only.\n",
    "* Type 3: Can by traversed by both Alice and Bob.\n",
    "\n",
    "Given an array edges where edges[i] = [typei, ui, vi] represents a bidirectional edge of type typei between nodes ui and vi, find the maximum number of edges you can remove so that after removing the edges, the graph can still be fully traversed by both Alice and Bob. The graph is fully traversed by Alice and Bob if starting from any node, they can reach all other nodes.\n",
    "\n",
    "Return the maximum number of edges you can remove, or return -1 if it's impossible for the graph to be fully traversed by Alice and Bob."
   ]
  },
  {
   "cell_type": "code",
   "execution_count": 17,
   "metadata": {},
   "outputs": [
    {
     "data": {
      "text/plain": [
       "2"
      ]
     },
     "execution_count": 17,
     "metadata": {},
     "output_type": "execute_result"
    }
   ],
   "source": [
    "class Solution:\n",
    "    def maxNumEdgesToRemove(self, n: int, edges) -> int:\n",
    "        edges.sort(key=lambda x: -x[0])\n",
    "        uf1 = UnionFind(n+1)\n",
    "        uf2 = UnionFind(n+1)\n",
    "        \n",
    "        e1 = e2 = 0\n",
    "        res = 0\n",
    "        \n",
    "        for type_, node1, node2 in edges:\n",
    "            \n",
    "            if type_ == 3:\n",
    "                val1 = uf1.union(node1, node2) \n",
    "                val2 = uf2.union(node1, node2)\n",
    "                res += val1 or val2\n",
    "                e1 += val1\n",
    "                e2 += val2\n",
    "            \n",
    "            if type_ == 1:\n",
    "                val = uf1.union(node1, node2)\n",
    "                res += val\n",
    "                e1 += val\n",
    "            \n",
    "            else:\n",
    "                val = uf2.union(node1, node2)\n",
    "                res += val\n",
    "                e2 += val\n",
    "        \n",
    "        if e1 == e2 == n-1:\n",
    "            return len(edges) - res\n",
    "        return -1\n",
    "    \n",
    "class UnionFind:\n",
    "    def __init__(self, n):\n",
    "        self.parent = list(range(n))\n",
    "    \n",
    "    def union(self, x, y):\n",
    "        rootx = self.find(x)\n",
    "        rooty = self.find(y)\n",
    "        \n",
    "        if rootx == rooty:\n",
    "            return False\n",
    "        \n",
    "        self.parent[rooty] = rootx\n",
    "        return True\n",
    "    \n",
    "    def find(self, x):\n",
    "        while x != self.parent[x]:\n",
    "            self.parent[x] = self.parent[self.parent[x]]\n",
    "            x = self.parent[x]\n",
    "        return x\n",
    "        \n",
    "Solution().maxNumEdgesToRemove(n = 4, edges = [[3,1,2],[3,2,3],[1,1,3],[1,2,4],[1,1,2],[2,3,4]])         "
   ]
  },
  {
   "cell_type": "markdown",
   "metadata": {},
   "source": [
    "### Path With Minimum Effort\n",
    "\n",
    "You are a hiker preparing for an upcoming hike. You are given heights, a 2D array of size rows x columns, where heights[row][col] represents the height of cell (row, col). You are situated in the top-left cell, (0, 0), and you hope to travel to the bottom-right cell, (rows-1, columns-1) (i.e., 0-indexed). You can move up, down, left, or right, and you wish to find a route that requires the minimum effort.\n",
    "\n",
    "A route's effort is the maximum absolute difference in heights between two consecutive cells of the route.\n",
    "\n",
    "Return the minimum effort required to travel from the top-left cell to the bottom-right cell."
   ]
  },
  {
   "cell_type": "code",
   "execution_count": 4,
   "metadata": {},
   "outputs": [
    {
     "data": {
      "text/plain": [
       "2"
      ]
     },
     "execution_count": 4,
     "metadata": {},
     "output_type": "execute_result"
    }
   ],
   "source": [
    "from heapq import heappush, heappop\n",
    "class Solution:\n",
    "    def minimumEffortPath(self, heights) -> int:\n",
    "        heap = []\n",
    "        heappush(heap, (0, 0, 0))\n",
    "        seen = set()\n",
    "        \n",
    "        while heap:\n",
    "            dist, i, j = heappop(heap)\n",
    "            if (i,j) in seen:\n",
    "                continue\n",
    "            \n",
    "            seen.add((i,j))\n",
    "            \n",
    "            if i == len(heights)-1 and j == len(heights[0])-1:\n",
    "                return dist\n",
    "            \n",
    "            curr_val = heights[i][j]\n",
    "            \n",
    "            for x, y in [(i+1,j), (i,j+1), (i-1,j), (i,j-1)]:\n",
    "                if 0<=x<len(heights) and 0<=y<len(heights[0]) and (x,y) not in seen:\n",
    "                    new_dist = abs(curr_val - heights[x][y])\n",
    "                    heappush(heap, (max(dist, new_dist), x, y))\n",
    "        \n",
    "Solution().minimumEffortPath(heights = [[1,2,2],[3,8,2],[5,3,5]])        "
   ]
  },
  {
   "cell_type": "markdown",
   "metadata": {},
   "source": [
    "### Couples Holding Hands\n",
    "\n",
    "N couples sit in 2N seats arranged in a row and want to hold hands. We want to know the minimum number of swaps so that every couple is sitting side by side. A swap consists of choosing any two people, then they stand up and switch seats.\n",
    "\n",
    "The people and seats are represented by an integer from 0 to 2N-1, the couples are numbered in order, the first couple being (0, 1), the second couple being (2, 3), and so on with the last couple being (2N-2, 2N-1).\n",
    "\n",
    "The couples' initial seating is given by row[i] being the value of the person who is initially sitting in the i-th seat."
   ]
  },
  {
   "cell_type": "code",
   "execution_count": 3,
   "metadata": {},
   "outputs": [
    {
     "data": {
      "text/plain": [
       "1"
      ]
     },
     "execution_count": 3,
     "metadata": {},
     "output_type": "execute_result"
    }
   ],
   "source": [
    "from collections import defaultdict\n",
    "class Solution:\n",
    "    def minSwapsCouples(self, row) -> int:\n",
    "        graph = defaultdict(list)\n",
    "        for i in range(0, len(row), 2):\n",
    "            couple_id1 = row[i]//2\n",
    "            couple_id2 = row[i+1]//2\n",
    "            graph[couple_id1].append(couple_id2)\n",
    "            graph[couple_id2].append(couple_id1)\n",
    "        \n",
    "        res = 0\n",
    "        seen = set()\n",
    "        for couple_id in graph:\n",
    "            if couple_id not in seen:\n",
    "                cc = self.dfs(couple_id, graph, seen)\n",
    "                res += cc-1\n",
    "        \n",
    "        return res\n",
    "    \n",
    "    def dfs(self, couple_id, graph, seen):\n",
    "        seen.add(couple_id)\n",
    "        cc = 1\n",
    "        for neighbor in graph[couple_id]:\n",
    "            if neighbor not in seen:\n",
    "                cc += self.dfs(neighbor, graph, seen)\n",
    "        \n",
    "        return cc\n",
    "                \n",
    "            \n",
    "Solution().minSwapsCouples(row = [0, 2, 1, 3])      "
   ]
  },
  {
   "cell_type": "markdown",
   "metadata": {},
   "source": [
    "### Graph Connectivity With Threshold\n",
    "\n",
    "We have n cities labeled from 1 to n. Two different cities with labels x and y are directly connected by a bidirectional road if and only if x and y share a common divisor strictly greater than some threshold. More formally, cities with labels x and y have a road between them if there exists an integer z such that all of the following are true:\n",
    "\n",
    "* x % z == 0,\n",
    "* y % z == 0, and\n",
    "* z > threshold.\n",
    "\n",
    "Given the two integers, n and threshold, and an array of queries, you must determine for each queries[i] = [ai, bi] if cities ai and bi are connected (i.e. there is some path between them).\n",
    "\n",
    "Return an array answer, where answer.length == queries.length and answer[i] is true if for the ith query, there is a path between ai and bi, or answer[i] is false if there is no path."
   ]
  },
  {
   "cell_type": "code",
   "execution_count": 6,
   "metadata": {},
   "outputs": [
    {
     "data": {
      "text/plain": [
       "[False, False, True]"
      ]
     },
     "execution_count": 6,
     "metadata": {},
     "output_type": "execute_result"
    }
   ],
   "source": [
    "class Solution:\n",
    "    def areConnected(self, n: int, threshold: int, queries):\n",
    "        uf = UnionFind(n+1)\n",
    "        res = []\n",
    "        \n",
    "        for num in range(1, n+1):\n",
    "            if num <= threshold:\n",
    "                continue\n",
    "            for neighbor in range(2*num, n+1, num):\n",
    "                uf.union(num, neighbor)\n",
    "        \n",
    "        for x, y in queries:\n",
    "            res.append(uf.find(x) == uf.find(y))\n",
    "        \n",
    "        return res\n",
    "        \n",
    "\n",
    "class UnionFind:\n",
    "    \n",
    "    def __init__(self, n):\n",
    "        self.parent = list(range(n))\n",
    "        self.rank = [0]*n\n",
    "    \n",
    "    def union(self, x, y):\n",
    "        rootx = self.find(x)\n",
    "        rooty = self.find(y)\n",
    "        \n",
    "        if rootx == rooty:\n",
    "            return False\n",
    "        \n",
    "        if self.rank[rootx] > self.rank[rooty]:\n",
    "            self.parent[rooty] = rootx\n",
    "        else:\n",
    "            self.parent[rootx] = rooty\n",
    "            if self.rank[rootx] == self.parent[rooty]:\n",
    "                self.rank[rooty] += 1\n",
    "                \n",
    "        return True\n",
    "    \n",
    "    def find(self, x):\n",
    "        while x != self.parent[x]:\n",
    "            self.parent[x] = self.parent[self.parent[x]]\n",
    "            x = self.parent[x]\n",
    "        return x\n",
    "        \n",
    "Solution().areConnected(n = 6, threshold = 2, queries = [[1,4],[2,5],[3,6]])"
   ]
  },
  {
   "cell_type": "markdown",
   "metadata": {},
   "source": [
    "### Lexicographically Smallest String After Applying Operations\n",
    "\n",
    "You are given a string s of even length consisting of digits from 0 to 9, and two integers a and b.\n",
    "\n",
    "You can apply either of the following two operations any number of times and in any order on s:\n",
    "\n",
    "* Add a to all odd indices of s (0-indexed). Digits post 9 are cycled back to 0. For example, if s = \"3456\" and a = 5, s becomes \"3951\".\n",
    "* Rotate s to the right by b positions. For example, if s = \"3456\" and b = 1, s becomes \"6345\".\n",
    "\n",
    "Return the lexicographically smallest string you can obtain by applying the above operations any number of times on s."
   ]
  },
  {
   "cell_type": "code",
   "execution_count": 8,
   "metadata": {},
   "outputs": [
    {
     "data": {
      "text/plain": [
       "'2050'"
      ]
     },
     "execution_count": 8,
     "metadata": {},
     "output_type": "execute_result"
    }
   ],
   "source": [
    "class Solution:\n",
    "    def findLexSmallestString(self, s: str, a: int, b: int) -> str:\n",
    "        self.res = \"9\"*1000\n",
    "        self.dfs(s, a, b, set())\n",
    "        return self.res\n",
    "    \n",
    "    def dfs(self, s, a, b, seen):\n",
    "        seen.add(s)\n",
    "        self.res = min(self.res, s)\n",
    "        \n",
    "        cand1 = self.rotate(s, b)\n",
    "        cand2 = self.add(s, a)\n",
    "        \n",
    "        if cand1 not in seen:\n",
    "            self.dfs(cand1, a, b, seen)\n",
    "        \n",
    "        if cand2 not in seen:\n",
    "            self.dfs(cand2, a, b, seen)\n",
    "        \n",
    "    def rotate(self, s, b):\n",
    "        s = list(s)\n",
    "        s = s[::-1]\n",
    "        s[:b] = s[:b][::-1]\n",
    "        s[b:] = s[b:][::-1]\n",
    "        return ''.join(s)\n",
    "    \n",
    "    def add(self, s, a):\n",
    "        string = ''\n",
    "        for i, ch in enumerate(s):\n",
    "            if i % 2 == 0:\n",
    "                string += ch\n",
    "            else:\n",
    "                val = int(ch) + a\n",
    "                string += str(val)[-1]\n",
    "        return string\n",
    "    \n",
    "Solution().findLexSmallestString(s = \"5525\", a = 9, b = 2)"
   ]
  },
  {
   "cell_type": "markdown",
   "metadata": {},
   "source": [
    "### Frog Position After T Seconds\n",
    "\n",
    "Given an undirected tree consisting of n vertices numbered from 1 to n. A frog starts jumping from the vertex 1. In one second, the frog jumps from its current vertex to another unvisited vertex if they are directly connected. The frog can not jump back to a visited vertex. In case the frog can jump to several vertices it jumps randomly to one of them with the same probability, otherwise, when the frog can not jump to any unvisited vertex it jumps forever on the same vertex. \n",
    "\n",
    "The edges of the undirected tree are given in the array edges, where edges[i] = [fromi, toi] means that exists an edge connecting directly the vertices fromi and toi.\n",
    "\n",
    "Return the probability that after t seconds the frog is on the vertex target."
   ]
  },
  {
   "cell_type": "code",
   "execution_count": 4,
   "metadata": {},
   "outputs": [
    {
     "data": {
      "text/plain": [
       "0.16666666666666666"
      ]
     },
     "execution_count": 4,
     "metadata": {},
     "output_type": "execute_result"
    }
   ],
   "source": [
    "from collections import defaultdict\n",
    "class Solution:\n",
    "    def frogPosition(self, n: int, edges, t: int, target: int) -> float:\n",
    "        adjlist = defaultdict(list)\n",
    "        \n",
    "        for x, y in edges:\n",
    "            adjlist[x].append(y)\n",
    "            adjlist[y].append(x)\n",
    "            \n",
    "        adjlist[1].append(0)\n",
    "        \n",
    "        return self.helper(1, adjlist, t, target, 0)\n",
    "    \n",
    "    def helper(self, curr_node, adjlist, t, target, parent):\n",
    "        if t == 0:\n",
    "            return int(curr_node == target)\n",
    "        \n",
    "        # reached a leaf node\n",
    "        if len(adjlist[curr_node]) == 1:\n",
    "            return int(curr_node == target)\n",
    "        \n",
    "        base_prob = 1 / (len(adjlist[curr_node]) - 1)\n",
    "        \n",
    "        for next_node in adjlist[curr_node]:\n",
    "            if next_node == parent:\n",
    "                continue  \n",
    "            prob = base_prob * self.helper(next_node, adjlist, t-1, target, curr_node)\n",
    "            \n",
    "            if prob > 0:\n",
    "                return prob\n",
    "        \n",
    "        return prob\n",
    "            \n",
    "\n",
    "Solution().frogPosition(n = 7, edges = [[1,2],[1,3],[1,7],[2,4],[2,6],[3,5]], t = 2, target = 4)"
   ]
  },
  {
   "cell_type": "markdown",
   "metadata": {},
   "source": [
    "### Minimum Moves to Move a Box to Their Target Location\n",
    "\n",
    "Storekeeper is a game in which the player pushes boxes around in a warehouse trying to get them to target locations.\n",
    "\n",
    "The game is represented by a grid of size m x n, where each element is a wall, floor, or a box.\n",
    "\n",
    "Your task is move the box 'B' to the target position 'T' under the following rules:\n",
    "\n",
    "* Player is represented by character 'S' and can move up, down, left, right in the grid if it is a floor (empy cell).\n",
    "* Floor is represented by character '.' that means free cell to walk.\n",
    "* Wall is represented by character '#' that means obstacle  (impossible to walk there). \n",
    "* There is only one box 'B' and one target cell 'T' in the grid.\n",
    "* The box can be moved to an adjacent free cell by standing next to the box and then moving in the direction of the box. This is a push.\n",
    "* The player cannot walk through the box.\n",
    "\n",
    "Return the minimum number of pushes to move the box to the target. If there is no way to reach the target, return -1."
   ]
  },
  {
   "cell_type": "code",
   "execution_count": 5,
   "metadata": {},
   "outputs": [
    {
     "data": {
      "text/plain": [
       "3"
      ]
     },
     "execution_count": 5,
     "metadata": {},
     "output_type": "execute_result"
    }
   ],
   "source": [
    "from collections import deque\n",
    "class Solution:\n",
    "    def minPushBox(self, grid) -> int:\n",
    "        for i in range(len(grid)):\n",
    "            for j in range(len(grid[0])):\n",
    "                val = grid[i][j]\n",
    "                if val == 'S':\n",
    "                    mx, my = i, j\n",
    "                elif val == 'T':\n",
    "                    tx, ty = i, j\n",
    "                elif val == 'B':\n",
    "                    bx, by = i, j\n",
    "        \n",
    "        queue = deque()\n",
    "        queue.append((bx, by, mx, my, 0))\n",
    "        seen = set()\n",
    "        \n",
    "        seen.add((bx, by, mx, my))\n",
    "        \n",
    "        while queue:\n",
    "            bx, by, mx, my, count = queue.popleft()\n",
    "            if bx == tx and by == ty:\n",
    "                return count\n",
    "            \n",
    "            #left\n",
    "            if self.isValid(bx, by-1, grid) and self.canReach(bx, by+1, mx, my, bx, by, grid, set()):\n",
    "                if (bx, by-1, bx, by) not in seen:\n",
    "                    queue.append((bx, by-1, bx, by, count+1))\n",
    "                    seen.add((bx, by-1, bx, by))\n",
    "            \n",
    "            #up\n",
    "            if self.isValid(bx-1, by, grid) and self.canReach(bx+1, by, mx, my, bx, by, grid, set()):\n",
    "                if (bx-1, by, bx, by) not in seen:\n",
    "                    queue.append((bx-1, by, bx, by, count+1))\n",
    "                    seen.add((bx-1, by, bx, by))\n",
    "            #right\n",
    "            if self.isValid(bx, by+1, grid) and self.canReach(bx, by-1, mx, my, bx, by, grid, set()):\n",
    "                if (bx, by+1, bx, by) not in seen:\n",
    "                    queue.append((bx, by+1, bx, by, count+1))\n",
    "                    seen.add((bx, by+1, bx, by))\n",
    "            \n",
    "            #down\n",
    "            if self.isValid(bx+1, by, grid) and self.canReach(bx-1, by, mx, my, bx, by, grid, set()):\n",
    "                if (bx+1, by, bx, by) not in seen:\n",
    "                    queue.append((bx+1, by, bx, by, count+1))\n",
    "                    seen.add((bx+1, by, bx, by))\n",
    "        \n",
    "        return -1\n",
    "    \n",
    "    def isValid(self, i, j, grid):\n",
    "        return 0<=i<len(grid) and 0<=j<len(grid[0]) and grid[i][j] != '#'\n",
    "    \n",
    "    def canReach(self, tx, ty, mx, my, bx, by, grid, seen):\n",
    "        queue = deque()\n",
    "        queue.append((mx, my))\n",
    "        seen.add((mx, my))\n",
    "        \n",
    "        while queue:\n",
    "            mx, my = queue.popleft()\n",
    "            if [mx, my] == [tx, ty]:\n",
    "                return True\n",
    "            \n",
    "            for i, j in [(mx+1, my), (mx-1, my), (mx, my-1), (mx, my+1)]:\n",
    "                if self.isValid(i, j, grid) and [i,j] != [bx, by] and (i,j) not in seen:\n",
    "                    queue.append((i, j))\n",
    "                    seen.add((i, j))\n",
    "        \n",
    "        return False\n",
    "            \n",
    "            \n",
    "grid = [[\"#\",\"#\",\"#\",\"#\",\"#\",\"#\"],\n",
    "       [\"#\",\"T\",\"#\",\"#\",\"#\",\"#\"],\n",
    "       [\"#\",\".\",\".\",\"B\",\".\",\"#\"],\n",
    "       [\"#\",\".\",\"#\",\"#\",\".\",\"#\"],\n",
    "       [\"#\",\".\",\".\",\".\",\"S\",\"#\"],\n",
    "       [\"#\",\"#\",\"#\",\"#\",\"#\",\"#\"]]     \n",
    "\n",
    "Solution().minPushBox(grid)"
   ]
  },
  {
   "cell_type": "markdown",
   "metadata": {},
   "source": [
    "### Minimum Jumps to Reach Home\n",
    "\n",
    "A certain bug's home is on the x-axis at position x. Help them get there from position 0.\n",
    "\n",
    "The bug jumps according to the following rules:\n",
    "\n",
    "* It can jump exactly a positions forward (to the right).\n",
    "* It can jump exactly b positions backward (to the left).\n",
    "* It cannot jump backward twice in a row.\n",
    "* It cannot jump to any forbidden positions.\n",
    "* The bug may jump forward beyond its home, but it cannot jump to positions numbered with negative integers.\n",
    "\n",
    "Given an array of integers forbidden, where forbidden[i] means that the bug cannot jump to the position forbidden[i], and integers a, b, and x, return the minimum number of jumps needed for the bug to reach its home. If there is no possible sequence of jumps that lands the bug on position x, return -1."
   ]
  },
  {
   "cell_type": "code",
   "execution_count": 2,
   "metadata": {},
   "outputs": [
    {
     "data": {
      "text/plain": [
       "3"
      ]
     },
     "execution_count": 2,
     "metadata": {},
     "output_type": "execute_result"
    }
   ],
   "source": [
    "from collections import deque\n",
    "class Solution:\n",
    "    def minimumJumps(self, forbidden, a: int, b: int, x: int) -> int:\n",
    "        forb_set = set(forbidden)\n",
    "        seen = set()\n",
    "        queue = deque()\n",
    "        queue.append((0, False))\n",
    "        seen.add((0, False))\n",
    "        maxPos = max(forbidden) + a + b + x\n",
    "        \n",
    "        ans = 0\n",
    "        \n",
    "        while queue:\n",
    "            size = len(queue)\n",
    "            for _ in range(size):\n",
    "                pos, isBack = queue.popleft()\n",
    "                \n",
    "                if pos == x:\n",
    "                    return ans\n",
    "                \n",
    "                if pos+a <= maxPos and (pos+a, False) not in seen and pos + a not in forb_set:\n",
    "                    seen.add((pos+a, False))\n",
    "                    queue.append((pos+a, False))\n",
    "                \n",
    "                if pos-b >= 0 and not isBack and (pos-b, True) not in seen and pos-b not in forb_set:\n",
    "                    seen.add((pos-b, True))\n",
    "                    queue.append((pos-b, True))\n",
    "            \n",
    "            ans += 1\n",
    "        \n",
    "        return -1\n",
    "     \n",
    "Solution().minimumJumps(forbidden = [14,4,18,1,15], a = 3, b = 15, x = 9)"
   ]
  },
  {
   "cell_type": "markdown",
   "metadata": {},
   "source": [
    "### Maximal Network Rank\n",
    "\n",
    "There is an infrastructure of n cities with some number of roads connecting these cities. Each roads[i] = [ai, bi] indicates that there is a bidirectional road between cities ai and bi.\n",
    "\n",
    "The network rank of two different cities is defined as the total number of directly connected roads to either city. If a road is directly connected to both cities, it is only counted once.\n",
    "\n",
    "The maximal network rank of the infrastructure is the maximum network rank of all pairs of different cities.\n",
    "\n",
    "Given the integer n and the array roads, return the maximal network rank of the entire infrastructure."
   ]
  },
  {
   "cell_type": "code",
   "execution_count": 4,
   "metadata": {},
   "outputs": [
    {
     "data": {
      "text/plain": [
       "5"
      ]
     },
     "execution_count": 4,
     "metadata": {},
     "output_type": "execute_result"
    }
   ],
   "source": [
    "from collections import defaultdict\n",
    "class Solution:\n",
    "    def maximalNetworkRank(self, n: int, roads) -> int:\n",
    "        graph = defaultdict(set)\n",
    "        for x, y in roads:\n",
    "            graph[x].add(y)\n",
    "            graph[y].add(x)\n",
    "        \n",
    "        res = -float('inf')\n",
    "        for city1 in range(n):\n",
    "            for city2 in range(city1+1, n):\n",
    "                rank1 = len(graph[city1])\n",
    "                rank2 = len(graph[city2]) - (1 if city1 in graph[city2] else 0)\n",
    "                total_rank = rank1 + rank2\n",
    "                res = max(res, total_rank)\n",
    "        \n",
    "        return res\n",
    " \n",
    "Solution().maximalNetworkRank(n = 8, roads = [[0,1],[1,2],[2,3],[2,4],[5,6],[5,7]])"
   ]
  },
  {
   "cell_type": "markdown",
   "metadata": {},
   "source": [
    "### The Earliest Moment When Everyone Become Friends\n",
    "\n",
    "In a social group, there are N people, with unique integer ids from 0 to N-1.\n",
    "\n",
    "We have a list of logs, where each logs[i] = [timestamp, id_A, id_B] contains a non-negative integer timestamp, and the ids of two different people.\n",
    "\n",
    "Each log represents the time in which two different people became friends.  Friendship is symmetric: if A is friends with B, then B is friends with A.\n",
    "\n",
    "Let's say that person A is acquainted with person B if A is friends with B, or A is a friend of someone acquainted with B.\n",
    "\n",
    "Return the earliest time for which every person became acquainted with every other person. Return -1 if there is no such earliest time.\n",
    "\n",
    " "
   ]
  },
  {
   "cell_type": "code",
   "execution_count": 5,
   "metadata": {},
   "outputs": [
    {
     "data": {
      "text/plain": [
       "20190301"
      ]
     },
     "execution_count": 5,
     "metadata": {},
     "output_type": "execute_result"
    }
   ],
   "source": [
    "class Solution:\n",
    "    def earliestAcq(self, logs, N: int) -> int:\n",
    "        logs.sort()\n",
    "        uf = UnionFind(N)\n",
    "        edges = 0\n",
    "        \n",
    "        for ts, x, y in logs:\n",
    "            if uf.union(x, y):\n",
    "                edges += 1\n",
    "                if edges == N - 1:\n",
    "                    return ts\n",
    "        return -1\n",
    "    \n",
    "class UnionFind:\n",
    "    \n",
    "    def __init__(self, n):\n",
    "        self.parent = list(range(n))\n",
    "        self.rank = [0] * n\n",
    "    \n",
    "    def union(self, x, y):\n",
    "        rootx = self.find(x)\n",
    "        rooty = self.find(y)\n",
    "        \n",
    "        if rootx == rooty:\n",
    "            return False\n",
    "        \n",
    "        if self.rank[rootx] > self.rank[rooty]:\n",
    "            self.parent[rooty] = rootx\n",
    "        \n",
    "        else:\n",
    "            self.parent[rootx] = rooty\n",
    "            if self.rank[rootx] == self.rank[rooty]:\n",
    "                self.rank[rooty] += 1\n",
    "        \n",
    "        return True\n",
    "    \n",
    "    def find(self, x):\n",
    "        while x != self.parent[x]:\n",
    "            self.parent[x] = self.parent[self.parent[x]]\n",
    "            x = self.parent[x]\n",
    "        return x\n",
    "    \n",
    "    \n",
    "Solution().earliestAcq(logs = [[20190101,0,1],[20190104,3,4],[20190107,2,3],\n",
    "                               [20190211,1,5],[20190224,2,4],[20190301,0,3],[20190312,1,2],[20190322,4,5]], N = 6)       "
   ]
  },
  {
   "cell_type": "markdown",
   "metadata": {},
   "source": [
    "### Min Cost to Connect All Points\n",
    "\n",
    "You are given an array points representing integer coordinates of some points on a 2D-plane, where points[i] = [xi, yi].\n",
    "\n",
    "The cost of connecting two points [xi, yi] and [xj, yj] is the manhattan distance between them: |xi - xj| + |yi - yj|, where |val| denotes the absolute value of val.\n",
    "\n",
    "Return the minimum cost to make all points connected. All points are connected if there is exactly one simple path between any two points."
   ]
  },
  {
   "cell_type": "code",
   "execution_count": 9,
   "metadata": {},
   "outputs": [
    {
     "data": {
      "text/plain": [
       "18"
      ]
     },
     "execution_count": 9,
     "metadata": {},
     "output_type": "execute_result"
    }
   ],
   "source": [
    "from heapq import heapify, heappop\n",
    "class Solution:\n",
    "    def minCostConnectPoints(self, points) -> int:\n",
    "        heap = []\n",
    "        for i in range(len(points)):\n",
    "            for j in range(i+1, len(points)):\n",
    "                x1, y1 = points[i]\n",
    "                x2, y2 = points[j]\n",
    "            \n",
    "                dist = abs(x1-x2) + abs(y1-y2)\n",
    "                heap.append((dist, i, j))\n",
    "        \n",
    "        heapify(heap)\n",
    "        uf = UnionFind(len(points))\n",
    "        res = 0\n",
    "        num_edges = 0\n",
    "        \n",
    "        while heap:\n",
    "            dist, x, y = heappop(heap)\n",
    "            if uf.union(x, y):\n",
    "                res += dist\n",
    "                num_edges += 1\n",
    "            if num_edges == len(points)-1:\n",
    "                break\n",
    "                \n",
    "        return res\n",
    "    \n",
    "class UnionFind:\n",
    "    def __init__(self, n):\n",
    "        self.parent = list(range(n))\n",
    "        self.rank = [0]*n\n",
    "        \n",
    "    def union(self, x, y):\n",
    "        root_x = self.find(x)\n",
    "        root_y = self.find(y)\n",
    "        \n",
    "        if root_x == root_y:\n",
    "            return False\n",
    "        \n",
    "        if self.rank[root_x] > self.rank[root_y]:\n",
    "            self.parent[root_y] = root_x\n",
    "        \n",
    "        else:\n",
    "            self.parent[root_x] = root_y\n",
    "            if self.rank[root_x] == self.rank[root_y]:\n",
    "                self.rank[root_y] += 1\n",
    "        \n",
    "        return True\n",
    "    \n",
    "    def find(self, x):\n",
    "        while x != self.parent[x]:\n",
    "            self.parent[x] = self.parent[self.parent[x]]\n",
    "            x = self.parent[x]\n",
    "        return x\n",
    "                \n",
    "        \n",
    "Solution().minCostConnectPoints(points = [[3,12],[-2,5],[-4,1]])      "
   ]
  },
  {
   "cell_type": "markdown",
   "metadata": {},
   "source": [
    "### Throne Inheritance\n",
    "\n",
    "A kingdom consists of a king, his children, his grandchildren, and so on. Every once in a while, someone in the family dies or a child is born.\n",
    "\n",
    "The kingdom has a well-defined order of inheritance that consists of the king as the first member.\n",
    "\n",
    "Let's define the recursive function Successor(x, curOrder), which given a person x and the inheritance order so far, returns who should be the next person after x in the order of inheritance."
   ]
  },
  {
   "cell_type": "code",
   "execution_count": 3,
   "metadata": {},
   "outputs": [],
   "source": [
    "class ThroneInheritance:\n",
    "\n",
    "    def __init__(self, kingName: str):\n",
    "        self.children = defaultdict(list)\n",
    "        self.dead = set()\n",
    "        self.king = kingName\n",
    "        \n",
    "    def birth(self, parentName: str, childName: str) -> None:\n",
    "        self.children[parentName].append(childName)\n",
    "        \n",
    "    def death(self, name: str) -> None:\n",
    "        self.dead.add(name)\n",
    "        \n",
    "    def getInheritanceOrder(self):\n",
    "        self.order = []\n",
    "        self.helper(self.king)\n",
    "        return self.order\n",
    "    \n",
    "    def helper(self, king):\n",
    "        if king not in self.dead:\n",
    "            self.order.append(king)\n",
    "        for child in self.children[king]:\n",
    "            self.helper(child)\n",
    "\n",
    "\n",
    "# Your ThroneInheritance object will be instantiated and called as such:\n",
    "# obj = ThroneInheritance(kingName)\n",
    "# obj.birth(parentName,childName)\n",
    "# obj.death(name)\n",
    "# param_3 = obj.getInheritanceOrder()"
   ]
  },
  {
   "cell_type": "markdown",
   "metadata": {},
   "source": [
    "### Checking Existence of Edge Length Limited Paths\n",
    "\n",
    "An undirected graph of n nodes is defined by edgeList, where edgeList[i] = [ui, vi, disi] denotes an edge between nodes ui and vi with distance disi. Note that there may be multiple edges between two nodes.\n",
    "\n",
    "Given an array queries, where queries[j] = [pj, qj, limitj], your task is to determine for each queries[j] whether there is a path between pj and qj such that each edge on the path has a distance strictly less than limitj .\n",
    "\n",
    "Return a boolean array answer, where answer.length == queries.length and the jth value of answer is true if there is a path for queries[j] is true, and false otherwise."
   ]
  },
  {
   "cell_type": "code",
   "execution_count": 1,
   "metadata": {},
   "outputs": [
    {
     "data": {
      "text/plain": [
       "[False, True]"
      ]
     },
     "execution_count": 1,
     "metadata": {},
     "output_type": "execute_result"
    }
   ],
   "source": [
    "class Solution:\n",
    "    def distanceLimitedPathsExist(self, n: int, edgeList, queries):\n",
    "        q = []\n",
    "        for i in range(len(queries)):\n",
    "            x, y, limit = queries[i]\n",
    "            q.append((i, x, y, limit))\n",
    "        queries = q\n",
    "        \n",
    "        queries.sort(key = lambda x : x[-1])\n",
    "        edgeList.sort(key = lambda x : x[-1])\n",
    "        uf = UnionFind(n)\n",
    "        \n",
    "        i = 0; j = 0\n",
    "        ans = [False]*len(queries)\n",
    "        \n",
    "        while i < len(queries):\n",
    "            limit = queries[i][-1]\n",
    "            index = queries[i][0]\n",
    "            while j < len(edgeList) and edgeList[j][-1] < limit:\n",
    "                x, y, dist = edgeList[j]\n",
    "                uf.union(x, y)\n",
    "                j += 1\n",
    "                \n",
    "            ans[index] = uf.isConnected(queries[i][1], queries[i][2])\n",
    "            i += 1\n",
    "        \n",
    "        return ans\n",
    "            \n",
    "class UnionFind:\n",
    "    def __init__(self, n):\n",
    "        self.parent = list(range(n))\n",
    "        self.rank = [0]*n\n",
    "    \n",
    "    def isConnected(self, x, y):\n",
    "        return self.find(x) == self.find(y)\n",
    "        \n",
    "    def union(self, x, y):\n",
    "        rootx = self.find(x)\n",
    "        rooty = self.find(y)\n",
    "        \n",
    "        if rootx == rooty:\n",
    "            return False\n",
    "        \n",
    "        if self.rank[rootx] > self.rank[rooty]:\n",
    "            self.parent[rooty] = rootx\n",
    "        \n",
    "        else:\n",
    "            self.parent[rootx] = rooty\n",
    "            if self.rank[rootx] == self.rank[rooty]:\n",
    "                self.rank[rooty] += 1\n",
    "        \n",
    "        return True\n",
    "    \n",
    "    def find(self, x):\n",
    "        while x != self.parent[x]:\n",
    "            self.parent[x] = self.parent[self.parent[x]]\n",
    "            x = self.parent[x]\n",
    "        return x\n",
    "\n",
    "Solution().distanceLimitedPathsExist(n = 3, edgeList = [[0,1,2],[1,2,4],[2,0,8],[1,0,16]], queries = [[0,1,2],[0,2,5]])"
   ]
  }
 ],
 "metadata": {
  "kernelspec": {
   "display_name": "Python 3",
   "language": "python",
   "name": "python3"
  },
  "language_info": {
   "codemirror_mode": {
    "name": "ipython",
    "version": 3
   },
   "file_extension": ".py",
   "mimetype": "text/x-python",
   "name": "python",
   "nbconvert_exporter": "python",
   "pygments_lexer": "ipython3",
   "version": "3.8.3"
  }
 },
 "nbformat": 4,
 "nbformat_minor": 2
}
