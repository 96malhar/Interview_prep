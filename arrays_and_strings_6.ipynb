{
 "cells": [
  {
   "cell_type": "markdown",
   "metadata": {},
   "source": [
    "### Range Sum Query 2D - Immutable\n",
    "\n",
    "Given a 2D matrix matrix, find the sum of the elements inside the rectangle defined by its upper left corner (row1, col1) and lower right corner (row2, col2)."
   ]
  },
  {
   "cell_type": "code",
   "execution_count": 7,
   "metadata": {},
   "outputs": [
    {
     "data": {
      "text/plain": [
       "8"
      ]
     },
     "execution_count": 7,
     "metadata": {},
     "output_type": "execute_result"
    }
   ],
   "source": [
    "class NumMatrix:\n",
    "\n",
    "    def __init__(self, matrix):\n",
    "        dp = [[0]*len(matrix[0]) for _ in range(len(matrix))]\n",
    "        for i in range(len(matrix)):\n",
    "            for j in range(len(matrix[0])):\n",
    "                up = dp[i-1][j] if i>=1 else 0\n",
    "                left = dp[i][j-1] if j>=1 else 0\n",
    "                up_left = dp[i-1][j-1] if i>=1 and j>=1 else 0\n",
    "                dp[i][j] = matrix[i][j] + up + left - up_left\n",
    "                \n",
    "        self.dp = dp\n",
    "        \n",
    "    def sumRegion(self, row1: int, col1: int, row2: int, col2: int) -> int:\n",
    "        dp = self.dp\n",
    "        val1 = dp[row1-1][col2] if row1 >= 1 else 0\n",
    "        val2 = dp[row2][col1-1] if col1 >= 1 else 0\n",
    "        val3 = dp[row1-1][col1-1] if row1>=1 and col1>=1 else 0\n",
    "        return dp[row2][col2] - val1 - val2 + val3\n",
    "        \n",
    "\n",
    "matrix = [[3,0,1,4,2],[5,6,3,2,1],[1,2,0,1,5],[4,1,0,1,7],[1,0,3,0,5]]\n",
    "obj = NumMatrix(matrix)\n",
    "obj.sumRegion(2,1,4,3)"
   ]
  },
  {
   "cell_type": "markdown",
   "metadata": {},
   "source": [
    "### Number of Submatrices That Sum to Target\n",
    "\n",
    "Given a matrix, and a target, return the number of non-empty submatrices that sum to target.\n",
    "\n",
    "A submatrix x1, y1, x2, y2 is the set of all cells matrix[x][y] with x1 <= x <= x2 and y1 <= y <= y2.\n",
    "\n",
    "Two submatrices (x1, y1, x2, y2) and (x1', y1', x2', y2') are different if they have some coordinate that is different: for example, if x1 != x1'."
   ]
  },
  {
   "cell_type": "code",
   "execution_count": 10,
   "metadata": {},
   "outputs": [
    {
     "data": {
      "text/plain": [
       "4"
      ]
     },
     "execution_count": 10,
     "metadata": {},
     "output_type": "execute_result"
    }
   ],
   "source": [
    "from collections import Counter\n",
    "class Solution:\n",
    "    def numSubmatrixSumTarget(self, matrix, target: int) -> int:\n",
    "        dp = [[0]*len(matrix[0]) for _ in range(len(matrix))]\n",
    "        for i in range(len(matrix)):\n",
    "            for j in range(len(matrix[0])):\n",
    "                up = dp[i-1][j] if i>=1 else 0\n",
    "                left = dp[i][j-1] if j>=1 else 0\n",
    "                up_left = dp[i-1][j-1] if i>=1 and j>=1 else 0\n",
    "                dp[i][j] = matrix[i][j] + up + left - up_left\n",
    "        \n",
    "        res = 0\n",
    "        for r1 in range(len(matrix)):\n",
    "            for r2 in range(r1, len(matrix)):\n",
    "                counter = Counter([0])\n",
    "                for col in range(len(matrix[0])):\n",
    "                    curr_sum = dp[r2][col] - (dp[r1-1][col] if r1>=1 else 0)\n",
    "                    res += counter[curr_sum-target]\n",
    "                    counter[curr_sum] += 1\n",
    "        \n",
    "        return res\n",
    "    \n",
    "matrix = [[0,1,0],[1,1,1],[0,1,0]]\n",
    "target = 0\n",
    "obj = Solution()\n",
    "obj.numSubmatrixSumTarget(matrix, target)"
   ]
  },
  {
   "cell_type": "markdown",
   "metadata": {},
   "source": [
    "### Max Sum of Rectangle No Larger Than K\n",
    "\n",
    "Given a non-empty 2D matrix matrix and an integer k, find the max sum of a rectangle in the matrix such that its sum is no larger than k."
   ]
  },
  {
   "cell_type": "code",
   "execution_count": 12,
   "metadata": {},
   "outputs": [
    {
     "data": {
      "text/plain": [
       "2"
      ]
     },
     "execution_count": 12,
     "metadata": {},
     "output_type": "execute_result"
    }
   ],
   "source": [
    "import bisect\n",
    "class Solution:\n",
    "    def maxSumSubmatrix(self, matrix, k: int) -> int:\n",
    "        dp = [[0]*len(matrix[0]) for _ in range(len(matrix))]\n",
    "\n",
    "        for i in range(len(matrix)):\n",
    "            for j in range(len(matrix[0])):\n",
    "                up = dp[i-1][j] if i>=1 else 0\n",
    "                left = dp[i][j-1] if j>=1 else 0\n",
    "                up_left = dp[i-1][j-1] if i>=1 and j>=1 else 0\n",
    "                dp[i][j] = up + left + matrix[i][j] - up_left\n",
    "        \n",
    "        res = -float('inf')\n",
    "        for r1 in range(len(matrix)):\n",
    "            for r2 in range(r1, len(matrix)):\n",
    "                prefix_sums = [0, float('inf')]\n",
    "                max_sum = float('-inf')\n",
    "                for col in range(len(matrix[0])):\n",
    "                    curr_sum = dp[r2][col] - (dp[r1-1][col] if r1>=1 else 0)\n",
    "                    i = bisect.bisect_left(prefix_sums, curr_sum - k)\n",
    "                    max_sum = max(max_sum, curr_sum - prefix_sums[i])\n",
    "                    bisect.insort(prefix_sums, curr_sum)\n",
    "                \n",
    "                res = max(res, max_sum)\n",
    "        \n",
    "        return res\n",
    "    \n",
    "Solution().maxSumSubmatrix([[1,0,1],[0,-2,3]], 2)"
   ]
  },
  {
   "cell_type": "markdown",
   "metadata": {},
   "source": [
    "### Maximum Side Length of a Square with Sum Less than or Equal to Threshold\n",
    "\n",
    "Given a m x n matrix mat and an integer threshold. Return the maximum side-length of a square with a sum less than or equal to threshold or return 0 if there is no such square."
   ]
  },
  {
   "cell_type": "code",
   "execution_count": 14,
   "metadata": {},
   "outputs": [
    {
     "data": {
      "text/plain": [
       "2"
      ]
     },
     "execution_count": 14,
     "metadata": {},
     "output_type": "execute_result"
    }
   ],
   "source": [
    "class Solution:\n",
    "    def maxSideLength(self, matrix, threshold: int) -> int:\n",
    "        dp = [[0]*len(matrix[0]) for _ in range(len(matrix))]\n",
    "        for i in range(len(matrix)):\n",
    "            for j in range(len(matrix[0])):\n",
    "                up = dp[i-1][j] if i>=1 else 0\n",
    "                left = dp[i][j-1] if j>=1 else 0\n",
    "                up_left = dp[i-1][j-1] if i>=1 and j>=1 else 0\n",
    "                dp[i][j] = matrix[i][j] + up + left - up_left\n",
    "        \n",
    "        maxside = 0\n",
    "        for r2 in range(len(matrix)):\n",
    "            for c2 in range(len(matrix[0])):\n",
    "                if min(r2, c2) >= maxside:\n",
    "                    r1, c1 = r2-maxside, c2-maxside\n",
    "                    up = dp[r1-1][c2] if r1>=1 else 0\n",
    "                    left = dp[r2][c1-1] if c1 >= 1 else 0\n",
    "                    up_left = dp[r1-1][c1-1] if r1>=1 and c1 >= 1 else 0\n",
    "                    total = dp[r2][c2] - up - left + up_left\n",
    "                    if total <= threshold:\n",
    "                        maxside += 1\n",
    "        \n",
    "        return maxside\n",
    "\n",
    "mat = [[1,1,3,2,4,3,2],[1,1,3,2,4,3,2],[1,1,3,2,4,3,2]]; threshold = 4\n",
    "Solution().maxSideLength(mat, threshold)"
   ]
  },
  {
   "cell_type": "markdown",
   "metadata": {},
   "source": [
    "### Maximum sum rectangle in a 2D matrix\n",
    "https://www.geeksforgeeks.org/maximum-sum-rectangle-in-a-2d-matrix-dp-27/"
   ]
  },
  {
   "cell_type": "code",
   "execution_count": 3,
   "metadata": {},
   "outputs": [
    {
     "data": {
      "text/plain": [
       "(29, (1, 1), (3, 3))"
      ]
     },
     "execution_count": 3,
     "metadata": {},
     "output_type": "execute_result"
    }
   ],
   "source": [
    "class Solution:\n",
    "    def max_sum_rectangle(self, matrix):\n",
    "        dp = [[0]*len(matrix[0]) for _ in range(len(matrix))]\n",
    "        for i in range(len(matrix)):\n",
    "            for j in range(len(matrix[0])):\n",
    "                up = dp[i-1][j] if i>=1 else 0\n",
    "                left = dp[i][j-1] if j>=1 else 0\n",
    "                up_left = dp[i-1][j-1] if i>=1 and j>=1 else 0\n",
    "                dp[i][j] = matrix[i][j] + up + left - up_left\n",
    "\n",
    "        res = -float('inf')\n",
    "        for r1 in range(len(matrix)):\n",
    "            for r2 in range(r1, len(matrix)):\n",
    "                prev = dp[r2][0] - (dp[r1-1][0] if r1>=1 else 0)\n",
    "                arr = [prev]\n",
    "                for c in range(1, len(matrix[0])):\n",
    "                    presum = dp[r2][c] - (dp[r1-1][c] if r1>=1 else 0)\n",
    "                    elem = presum - prev\n",
    "                    arr.append(elem)\n",
    "                    prev = presum\n",
    "\n",
    "                maxsum, c1, c2 = self.kadane(arr)\n",
    "                if maxsum > res:\n",
    "                    res = maxsum\n",
    "                    topleft = r1, c1\n",
    "                    bottomright = r2, c2\n",
    "\n",
    "        return res, topleft, bottomright\n",
    "\n",
    "    def kadane(self, arr):\n",
    "        maxsum = arr[0]\n",
    "        for i in range(1, len(arr)):\n",
    "            arr[i] = max(arr[i], arr[i]+arr[i-1])\n",
    "            maxsum = max(maxsum, arr[i])\n",
    "\n",
    "        index = arr.index(maxsum)\n",
    "        if maxsum <= 0:\n",
    "            return maxsum, index, index\n",
    "        i = index\n",
    "        while i>=0 and arr[i] > 0:\n",
    "            i -= 1\n",
    "        return maxsum, i+1, index\n",
    "                \n",
    "m = [[1, 2, -1, -4, -20], \n",
    "     [-8, -3, 4, 2, 1],  \n",
    "     [3, 8, 10, 1, 3],  \n",
    "     [-4, -1, 1, 7, -6]]  \n",
    "\n",
    "Solution().max_sum_rectangle(m)"
   ]
  },
  {
   "cell_type": "markdown",
   "metadata": {},
   "source": [
    "### RLE Iterator\n",
    "\n",
    "Write an iterator that iterates through a run-length encoded sequence.\n",
    "\n",
    "The iterator is initialized by RLEIterator(int[] A), where A is a run-length encoding of some sequence.  More specifically, for all even i, A[i] tells us the number of times that the non-negative integer value A[i+1] is repeated in the sequence.\n",
    "\n",
    "The iterator supports one function: next(int n), which exhausts the next n elements (n >= 1) and returns the last element exhausted in this way.  If there is no element left to exhaust, next returns -1 instead.\n",
    "\n",
    "For example, we start with A = [3,8,0,9,2,5], which is a run-length encoding of the sequence [8,8,8,5,5].  This is because the sequence can be read as \"three eights, zero nines, two fives\"."
   ]
  },
  {
   "cell_type": "code",
   "execution_count": 18,
   "metadata": {},
   "outputs": [
    {
     "data": {
      "text/plain": [
       "5"
      ]
     },
     "execution_count": 18,
     "metadata": {},
     "output_type": "execute_result"
    }
   ],
   "source": [
    "class RLEIterator:\n",
    "\n",
    "    def __init__(self, A):\n",
    "        self.i = 0\n",
    "        self.A = A\n",
    "        \n",
    "    def next(self, n: int) -> int:\n",
    "        while n>0 and self.i<len(self.A):\n",
    "            if n > self.A[self.i]:\n",
    "                n -= self.A[self.i]\n",
    "                self.i += 2\n",
    "            else:\n",
    "                self.A[self.i] -= n\n",
    "                return self.A[self.i+1]\n",
    "        return -1\n",
    "        \n",
    "obj = RLEIterator([3,8,0,9,2,5])\n",
    "obj.next(4)"
   ]
  }
 ],
 "metadata": {
  "kernelspec": {
   "display_name": "Python 3",
   "language": "python",
   "name": "python3"
  },
  "language_info": {
   "codemirror_mode": {
    "name": "ipython",
    "version": 3
   },
   "file_extension": ".py",
   "mimetype": "text/x-python",
   "name": "python",
   "nbconvert_exporter": "python",
   "pygments_lexer": "ipython3",
   "version": "3.6.8"
  }
 },
 "nbformat": 4,
 "nbformat_minor": 2
}
