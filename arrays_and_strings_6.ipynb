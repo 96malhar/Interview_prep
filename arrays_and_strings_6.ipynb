{
 "cells": [
  {
   "cell_type": "markdown",
   "metadata": {},
   "source": [
    "### Range Sum Query 2D - Immutable\n",
    "\n",
    "Given a 2D matrix matrix, find the sum of the elements inside the rectangle defined by its upper left corner (row1, col1) and lower right corner (row2, col2)."
   ]
  },
  {
   "cell_type": "code",
   "execution_count": 7,
   "metadata": {},
   "outputs": [
    {
     "data": {
      "text/plain": [
       "8"
      ]
     },
     "execution_count": 7,
     "metadata": {},
     "output_type": "execute_result"
    }
   ],
   "source": [
    "class NumMatrix:\n",
    "\n",
    "    def __init__(self, matrix):\n",
    "        dp = [[0]*len(matrix[0]) for _ in range(len(matrix))]\n",
    "        for i in range(len(matrix)):\n",
    "            for j in range(len(matrix[0])):\n",
    "                up = dp[i-1][j] if i>=1 else 0\n",
    "                left = dp[i][j-1] if j>=1 else 0\n",
    "                up_left = dp[i-1][j-1] if i>=1 and j>=1 else 0\n",
    "                dp[i][j] = matrix[i][j] + up + left - up_left\n",
    "                \n",
    "        self.dp = dp\n",
    "        \n",
    "    def sumRegion(self, row1: int, col1: int, row2: int, col2: int) -> int:\n",
    "        dp = self.dp\n",
    "        val1 = dp[row1-1][col2] if row1 >= 1 else 0\n",
    "        val2 = dp[row2][col1-1] if col1 >= 1 else 0\n",
    "        val3 = dp[row1-1][col1-1] if row1>=1 and col1>=1 else 0\n",
    "        return dp[row2][col2] - val1 - val2 + val3\n",
    "        \n",
    "\n",
    "matrix = [[3,0,1,4,2],[5,6,3,2,1],[1,2,0,1,5],[4,1,0,1,7],[1,0,3,0,5]]\n",
    "obj = NumMatrix(matrix)\n",
    "obj.sumRegion(2,1,4,3)"
   ]
  },
  {
   "cell_type": "markdown",
   "metadata": {},
   "source": [
    "### Number of Submatrices That Sum to Target\n",
    "\n",
    "Given a matrix, and a target, return the number of non-empty submatrices that sum to target.\n",
    "\n",
    "A submatrix x1, y1, x2, y2 is the set of all cells matrix[x][y] with x1 <= x <= x2 and y1 <= y <= y2.\n",
    "\n",
    "Two submatrices (x1, y1, x2, y2) and (x1', y1', x2', y2') are different if they have some coordinate that is different: for example, if x1 != x1'."
   ]
  },
  {
   "cell_type": "code",
   "execution_count": 5,
   "metadata": {},
   "outputs": [
    {
     "data": {
      "text/plain": [
       "4"
      ]
     },
     "execution_count": 5,
     "metadata": {},
     "output_type": "execute_result"
    }
   ],
   "source": [
    "from collections import Counter\n",
    "class Solution:\n",
    "    def numSubmatrixSumTarget(self, matrix, target: int) -> int:\n",
    "        dp = [[0]*len(matrix[0]) for _ in range(len(matrix))]\n",
    "        dp[0] = matrix[0][:]\n",
    "        for i in range(1, len(matrix)):\n",
    "            for j in range(len(matrix[0])):\n",
    "                dp[i][j] = matrix[i][j] + dp[i-1][j]\n",
    "        \n",
    "        res = 0\n",
    "        for r1 in range(len(dp)):\n",
    "            for r2 in range(r1, len(dp)):\n",
    "                counter = Counter([0]); presum = 0\n",
    "                for col in range(len(matrix[0])):\n",
    "                    num = dp[r2][col] - (dp[r1-1][col] if r1>=1 else 0)\n",
    "                    presum += num\n",
    "                    res += counter[presum-target]\n",
    "                    counter[presum] += 1\n",
    "        \n",
    "        return res\n",
    "    \n",
    "matrix = [[0,1,0],[1,1,1],[0,1,0]]\n",
    "target = 0\n",
    "obj = Solution()\n",
    "obj.numSubmatrixSumTarget(matrix, target)"
   ]
  },
  {
   "cell_type": "markdown",
   "metadata": {},
   "source": [
    "### Max Sum of Rectangle No Larger Than K\n",
    "\n",
    "Given a non-empty 2D matrix matrix and an integer k, find the max sum of a rectangle in the matrix such that its sum is no larger than k."
   ]
  },
  {
   "cell_type": "code",
   "execution_count": 7,
   "metadata": {},
   "outputs": [
    {
     "data": {
      "text/plain": [
       "2"
      ]
     },
     "execution_count": 7,
     "metadata": {},
     "output_type": "execute_result"
    }
   ],
   "source": [
    "import bisect\n",
    "class Solution:\n",
    "    def maxSumSubmatrix(self, matrix, k: int) -> int:\n",
    "        dp = [[0]*len(matrix[0]) for _ in range(len(matrix))]\n",
    "        dp[0] = matrix[0][:]\n",
    "        for i in range(1, len(matrix)):\n",
    "            for j in range(len(matrix[0])):\n",
    "                dp[i][j] = matrix[i][j] + dp[i-1][j]\n",
    "        \n",
    "        res = -float('inf')\n",
    "        for r1 in range(len(matrix)):\n",
    "            for r2 in range(r1, len(matrix)):\n",
    "                prefix_sums = [0, float('inf')]\n",
    "                max_sum = float('-inf')\n",
    "                presum = 0\n",
    "                for col in range(len(matrix[0])):\n",
    "                    num = dp[r2][col] - (dp[r1-1][col] if r1>=1 else 0)\n",
    "                    presum += num\n",
    "                    i = bisect.bisect_left(prefix_sums, presum - k)\n",
    "                    max_sum = max(max_sum, presum - prefix_sums[i])\n",
    "                    bisect.insort(prefix_sums, presum)\n",
    "                \n",
    "                res = max(res, max_sum)\n",
    "        \n",
    "        return res\n",
    "    \n",
    "Solution().maxSumSubmatrix([[1,0,1],[0,-2,3]], 2)"
   ]
  },
  {
   "cell_type": "markdown",
   "metadata": {},
   "source": [
    "### Maximum Side Length of a Square with Sum Less than or Equal to Threshold\n",
    "\n",
    "Given a m x n matrix mat and an integer threshold. Return the maximum side-length of a square with a sum less than or equal to threshold or return 0 if there is no such square."
   ]
  },
  {
   "cell_type": "code",
   "execution_count": 14,
   "metadata": {},
   "outputs": [
    {
     "data": {
      "text/plain": [
       "2"
      ]
     },
     "execution_count": 14,
     "metadata": {},
     "output_type": "execute_result"
    }
   ],
   "source": [
    "class Solution:\n",
    "    def maxSideLength(self, matrix, threshold: int) -> int:\n",
    "        dp = [[0]*len(matrix[0]) for _ in range(len(matrix))]\n",
    "        for i in range(len(matrix)):\n",
    "            for j in range(len(matrix[0])):\n",
    "                up = dp[i-1][j] if i>=1 else 0\n",
    "                left = dp[i][j-1] if j>=1 else 0\n",
    "                up_left = dp[i-1][j-1] if i>=1 and j>=1 else 0\n",
    "                dp[i][j] = matrix[i][j] + up + left - up_left\n",
    "        \n",
    "        maxside = 0\n",
    "        for r2 in range(len(matrix)):\n",
    "            for c2 in range(len(matrix[0])):\n",
    "                if min(r2, c2) >= maxside:\n",
    "                    r1, c1 = r2-maxside, c2-maxside\n",
    "                    up = dp[r1-1][c2] if r1>=1 else 0\n",
    "                    left = dp[r2][c1-1] if c1 >= 1 else 0\n",
    "                    up_left = dp[r1-1][c1-1] if r1>=1 and c1 >= 1 else 0\n",
    "                    total = dp[r2][c2] - up - left + up_left\n",
    "                    if total <= threshold:\n",
    "                        maxside += 1\n",
    "        \n",
    "        return maxside\n",
    "\n",
    "mat = [[1,1,3,2,4,3,2],[1,1,3,2,4,3,2],[1,1,3,2,4,3,2]]; threshold = 4\n",
    "Solution().maxSideLength(mat, threshold)"
   ]
  },
  {
   "cell_type": "markdown",
   "metadata": {},
   "source": [
    "### Count Submatrices With All Ones\n",
    "\n",
    "Given a rows * columns matrix mat of ones and zeros, return how many submatrices have all ones."
   ]
  },
  {
   "cell_type": "code",
   "execution_count": 11,
   "metadata": {},
   "outputs": [
    {
     "data": {
      "text/plain": [
       "24"
      ]
     },
     "execution_count": 11,
     "metadata": {},
     "output_type": "execute_result"
    }
   ],
   "source": [
    "class Solution:\n",
    "    def numSubmat(self, matrix) -> int:\n",
    "        dp = [[0]*len(matrix[0]) for _ in range(len(matrix))]\n",
    "        dp[0] = matrix[0][:]\n",
    "        for i in range(1, len(matrix)):\n",
    "            for j in range(len(matrix[0])):\n",
    "                dp[i][j] = matrix[i][j] + dp[i-1][j]\n",
    "\n",
    "        res = 0\n",
    "        for r1 in range(len(matrix)):\n",
    "            for r2 in range(r1, len(matrix)):\n",
    "                target = r2-r1+1; length = 0\n",
    "                for col in range(len(matrix[0])):\n",
    "                    curr_sum = dp[r2][col] - (dp[r1-1][col] if r1>=1 else 0)\n",
    "                    length = 0 if curr_sum != target else length+1\n",
    "                    res += length\n",
    "        return res\n",
    "    \n",
    "matrix = [[0,1,1,0],\n",
    "              [0,1,1,1],\n",
    "              [1,1,1,0]]\n",
    "\n",
    "Solution().numSubmat(matrix)"
   ]
  },
  {
   "cell_type": "markdown",
   "metadata": {},
   "source": [
    "### Maximum sum rectangle in a 2D matrix\n",
    "https://www.geeksforgeeks.org/maximum-sum-rectangle-in-a-2d-matrix-dp-27/"
   ]
  },
  {
   "cell_type": "code",
   "execution_count": 6,
   "metadata": {},
   "outputs": [
    {
     "data": {
      "text/plain": [
       "(29, (1, 1), (3, 3))"
      ]
     },
     "execution_count": 6,
     "metadata": {},
     "output_type": "execute_result"
    }
   ],
   "source": [
    "class Solution:\n",
    "    def max_sum_rectangle(self, matrix):\n",
    "        dp = [[0]*len(matrix[0]) for _ in range(len(matrix))]\n",
    "        dp[0] = matrix[0][:]\n",
    "        for i in range(1, len(matrix)):\n",
    "            for j in range(len(matrix[0])):\n",
    "                dp[i][j] = matrix[i][j] + dp[i-1][j]\n",
    "\n",
    "        res = -float('inf')\n",
    "        for r1 in range(len(dp)):\n",
    "            for r2 in range(r1, len(dp)):\n",
    "                arr = []\n",
    "                for c in range(len(dp[0])):\n",
    "                    elem = dp[r2][c] - (dp[r1-1][c] if r1>=1 else 0)\n",
    "                    arr.append(elem)\n",
    "\n",
    "                maxsum, c1, c2 = self.kadane(arr)\n",
    "                if maxsum > res:\n",
    "                    res = maxsum\n",
    "                    topleft = r1, c1\n",
    "                    bottomright = r2, c2\n",
    "\n",
    "        return res, topleft, bottomright\n",
    "\n",
    "    def kadane(self, arr):\n",
    "        maxsum = arr[0]\n",
    "        for i in range(1, len(arr)):\n",
    "            arr[i] = max(arr[i], arr[i]+arr[i-1])\n",
    "            maxsum = max(maxsum, arr[i])\n",
    "\n",
    "        index = arr.index(maxsum)\n",
    "        if maxsum <= 0:\n",
    "            return maxsum, index, index\n",
    "        i = index\n",
    "        while i>=0 and arr[i] > 0:\n",
    "            i -= 1\n",
    "        return maxsum, i+1, index\n",
    "                \n",
    "m = [[1, 2, -1, -4, -20], \n",
    "     [-8, -3, 4, 2, 1],  \n",
    "     [3, 8, 10, 1, 3],  \n",
    "     [-4, -1, 1, 7, -6]]  \n",
    "\n",
    "Solution().max_sum_rectangle(m)"
   ]
  },
  {
   "cell_type": "markdown",
   "metadata": {},
   "source": [
    "### RLE Iterator\n",
    "\n",
    "Write an iterator that iterates through a run-length encoded sequence.\n",
    "\n",
    "The iterator is initialized by RLEIterator(int[] A), where A is a run-length encoding of some sequence.  More specifically, for all even i, A[i] tells us the number of times that the non-negative integer value A[i+1] is repeated in the sequence.\n",
    "\n",
    "The iterator supports one function: next(int n), which exhausts the next n elements (n >= 1) and returns the last element exhausted in this way.  If there is no element left to exhaust, next returns -1 instead.\n",
    "\n",
    "For example, we start with A = [3,8,0,9,2,5], which is a run-length encoding of the sequence [8,8,8,5,5].  This is because the sequence can be read as \"three eights, zero nines, two fives\"."
   ]
  },
  {
   "cell_type": "code",
   "execution_count": 18,
   "metadata": {},
   "outputs": [
    {
     "data": {
      "text/plain": [
       "5"
      ]
     },
     "execution_count": 18,
     "metadata": {},
     "output_type": "execute_result"
    }
   ],
   "source": [
    "class RLEIterator:\n",
    "\n",
    "    def __init__(self, A):\n",
    "        self.i = 0\n",
    "        self.A = A\n",
    "        \n",
    "    def next(self, n: int) -> int:\n",
    "        while n>0 and self.i<len(self.A):\n",
    "            if n > self.A[self.i]:\n",
    "                n -= self.A[self.i]\n",
    "                self.i += 2\n",
    "            else:\n",
    "                self.A[self.i] -= n\n",
    "                return self.A[self.i+1]\n",
    "        return -1\n",
    "        \n",
    "obj = RLEIterator([3,8,0,9,2,5])\n",
    "obj.next(4)"
   ]
  },
  {
   "cell_type": "markdown",
   "metadata": {},
   "source": [
    "### Shuffle an Array\n",
    "\n",
    "Shuffle a set of numbers without duplicates."
   ]
  },
  {
   "cell_type": "code",
   "execution_count": 39,
   "metadata": {},
   "outputs": [
    {
     "data": {
      "text/plain": [
       "[2, 6, 4, 3, 1, 5]"
      ]
     },
     "execution_count": 39,
     "metadata": {},
     "output_type": "execute_result"
    }
   ],
   "source": [
    "import random\n",
    "class Solution:\n",
    "    def __init__(self, nums):\n",
    "        self.array = nums\n",
    "        self.original = nums[:]\n",
    "\n",
    "    def reset(self):\n",
    "        self.array = self.original[:]\n",
    "        return self.array\n",
    "\n",
    "    def shuffle(self):\n",
    "        for i in range(len(self.array)):\n",
    "            swap_idx = random.randrange(i, len(self.array))\n",
    "            self.array[i], self.array[swap_idx] = self.array[swap_idx], self.array[i]\n",
    "        return self.array\n",
    "    \n",
    "obj = Solution([1,2,3,4,5,6])\n",
    "obj.shuffle()\n",
    "# obj.reset()"
   ]
  },
  {
   "cell_type": "markdown",
   "metadata": {},
   "source": [
    "### Angle Between Hands of a Clock\n",
    "\n",
    "Given two numbers, hour and minutes. Return the smaller angle (in degrees) formed between the hour and the minute hand."
   ]
  },
  {
   "cell_type": "code",
   "execution_count": 1,
   "metadata": {},
   "outputs": [
    {
     "data": {
      "text/plain": [
       "165.0"
      ]
     },
     "execution_count": 1,
     "metadata": {},
     "output_type": "execute_result"
    }
   ],
   "source": [
    "def angleClock(hour: int, minutes: int) -> float:\n",
    "    m = (hour*5) % 60\n",
    "    inc = minutes * 5 / 60\n",
    "    m += inc\n",
    "    angle = 360 * abs(minutes-m) / 60\n",
    "    return min(angle, 360-angle)\n",
    "\n",
    "angleClock(12, 30)"
   ]
  },
  {
   "cell_type": "markdown",
   "metadata": {},
   "source": [
    "### Word Subsets\n",
    "\n",
    "We are given two arrays A and B of words.  Each word is a string of lowercase letters.\n",
    "\n",
    "Now, say that word b is a subset of word a if every letter in b occurs in a, including multiplicity.  For example, \"wrr\" is a subset of \"warrior\", but is not a subset of \"world\".\n",
    "\n",
    "Now say a word a from A is universal if for every b in B, b is a subset of a. \n",
    "\n",
    "Return a list of all universal words in A.  You can return the words in any order."
   ]
  },
  {
   "cell_type": "code",
   "execution_count": 3,
   "metadata": {},
   "outputs": [
    {
     "data": {
      "text/plain": [
       "['facebook', 'leetcode']"
      ]
     },
     "execution_count": 3,
     "metadata": {},
     "output_type": "execute_result"
    }
   ],
   "source": [
    "from collections import Counter\n",
    "class Solution:\n",
    "    def wordSubsets(self, A, B):\n",
    "        arr = [0]*26\n",
    "        for string in B:\n",
    "            counter = Counter(string)\n",
    "            for ch, freq in counter.items():\n",
    "                index = ord(ch)-97\n",
    "                arr[index] = max(arr[index], freq)\n",
    "        \n",
    "        ans = []\n",
    "        for string in A:\n",
    "            counter = Counter(string)\n",
    "            flag = True\n",
    "            for i in range(26):\n",
    "                if arr[i] > counter[chr(97+i)]:\n",
    "                    flag = False\n",
    "                    break\n",
    "            if flag:\n",
    "                ans.append(string)\n",
    "        \n",
    "        return ans\n",
    "                \n",
    "A = [\"amazon\",\"apple\",\"facebook\",\"google\",\"leetcode\"]; B = [\"ec\",\"oc\",\"ceo\"]\n",
    "Solution().wordSubsets(A, B)"
   ]
  },
  {
   "cell_type": "markdown",
   "metadata": {},
   "source": [
    "### Can Make Palindrome from Substring\n",
    "\n",
    "Given a string s, we make queries on substrings of s.\n",
    "\n",
    "For each query queries[i] = [left, right, k], we may rearrange the substring s[left], ..., s[right], and then choose up to k of them to replace with any lowercase English letter. \n",
    "\n",
    "If the substring is possible to be a palindrome string after the operations above, the result of the query is true. Otherwise, the result is false.\n",
    "\n",
    "Return an array answer[], where answer[i] is the result of the i-th query queries[i].\n",
    "\n",
    "Note that: Each letter is counted individually for replacement so if for example s[left..right] = \"aaa\", and k = 2, we can only replace two of the letters.  (Also, note that the initial string s is never modified by any query.)\n",
    "\n",
    " "
   ]
  },
  {
   "cell_type": "code",
   "execution_count": 14,
   "metadata": {},
   "outputs": [
    {
     "data": {
      "text/plain": [
       "[True, False, False, True, True]"
      ]
     },
     "execution_count": 14,
     "metadata": {},
     "output_type": "execute_result"
    }
   ],
   "source": [
    "class Solution:\n",
    "    def canMakePaliQueries(self, s: str, queries):\n",
    "        arr = [0]*26\n",
    "        arr[ord(s[0])-97]+=1\n",
    "        dp = []\n",
    "        dp.append(arr)\n",
    "        for i, ch in enumerate(s[1:]):\n",
    "            arr = dp[-1][:]\n",
    "            arr[(ord(ch))-97] += 1\n",
    "            dp.append(arr)\n",
    "        \n",
    "        ans = []\n",
    "        for left, right, k in queries:\n",
    "            arr1 = dp[right]\n",
    "            arr2 = dp[left-1] if left >= 1 else None\n",
    "            \n",
    "            num_odd = 0\n",
    "            for i in range(len(arr1)):\n",
    "                freq = arr1[i] - (arr2[i] if arr2 else 0)\n",
    "                num_odd += freq & 1\n",
    "            if num_odd // 2 <= k:\n",
    "                ans.append(True)\n",
    "            else:\n",
    "                ans.append(False)\n",
    "        return ans\n",
    "        \n",
    "s = \"abcda\"; queries = [[3,3,0],[1,2,0],[0,3,1],[0,3,2],[0,4,1]]        \n",
    "Solution().canMakePaliQueries(s, queries)"
   ]
  },
  {
   "cell_type": "markdown",
   "metadata": {},
   "source": [
    "### Largest 1-Bordered Square\n",
    "\n",
    "Given a 2D grid of 0s and 1s, return the number of elements in the largest square subgrid that has all 1s on its border, or 0 if such a subgrid doesn't exist in the grid."
   ]
  },
  {
   "cell_type": "code",
   "execution_count": 21,
   "metadata": {},
   "outputs": [
    {
     "data": {
      "text/plain": [
       "9"
      ]
     },
     "execution_count": 21,
     "metadata": {},
     "output_type": "execute_result"
    }
   ],
   "source": [
    "from collections import defaultdict\n",
    "class Solution:\n",
    "    def largest1BorderedSquare(self, grid) -> int:\n",
    "        top = defaultdict(int)\n",
    "        left = defaultdict(int)\n",
    "        ans = 0\n",
    "        for i in range(len(grid)):\n",
    "            for j in range(len(grid[0])):\n",
    "                if grid[i][j]:\n",
    "                    top[(i,j)] = 1 + (top[(i-1, j)] if i>=1 else 0)\n",
    "                    left[(i,j)] = 1 + (left[(i,j-1)] if j>=1 else 0)\n",
    "                    min_length = min(top[(i,j)], left[(i,j)])\n",
    "                    if min_length**2 > ans:\n",
    "                        while True:\n",
    "                            x, y = i-min_length+1, j\n",
    "                            m, n = i, j-min_length+1\n",
    "                            if left[(x,y)] >= min_length and top[(m,n)] >= min_length:\n",
    "                                break\n",
    "                            min_length -= 1\n",
    "                        ans = max(ans, min_length**2)\n",
    "        \n",
    "        return ans\n",
    "\n",
    "grid = [[1,1,1],[1,0,1],[1,1,1]]\n",
    "Solution().largest1BorderedSquare(grid)"
   ]
  },
  {
   "cell_type": "markdown",
   "metadata": {},
   "source": [
    "### Design a File Sharing System\n",
    "\n",
    "We will use a file-sharing system to share a very large file which consists of m small chunks with IDs from 1 to m.\n",
    "\n",
    "When users join the system, the system should assign a unique ID to them. The unique ID should be used once for each user, but when a user leaves the system, the ID can be reused again.\n",
    "\n",
    "Users can request a certain chunk of the file, the system should return a list of IDs of all the users who own this chunk. If the user receive a non-empty list of IDs, they receive the requested chunk successfully.\n",
    "\n",
    "\n",
    "Implement the FileSharing class:\n",
    "\n",
    "* FileSharing(int m) Initializes the object with a file of m chunks.\n",
    "* int join(int[] ownedChunks): A new user joined the system owning some chunks of the file, the system should assign an id to the user which is the smallest positive integer not taken by any other user. Return the assigned id.\n",
    "* void leave(int userID): The user with userID will leave the system, you cannot take file chunks from them anymore.\n",
    "* int[] request(int userID, int chunkID): The user userID requested the file chunk with chunkID. Return a list of the IDs of all users that own this chunk sorted in ascending order.\n",
    " "
   ]
  },
  {
   "cell_type": "code",
   "execution_count": 23,
   "metadata": {},
   "outputs": [],
   "source": [
    "class FileSharing:\n",
    "\n",
    "    def __init__(self, m: int):\n",
    "        self.available_ids = []\n",
    "        self.chunks_owned = {}\n",
    "        self.curr_id = 1\n",
    "        heapify(self.available_ids)\n",
    "        \n",
    "\n",
    "    def join(self, ownedChunks) -> int:\n",
    "        if len(self.available_ids) == 0:\n",
    "            userID = self.curr_id\n",
    "            self.curr_id += 1\n",
    "        else:\n",
    "            userID = heappop(self.available_ids)\n",
    "        self.chunks_owned[userID] = set()\n",
    "        for chunk in ownedChunks:\n",
    "            self.chunks_owned[userID].add(chunk)\n",
    "        return userID\n",
    "        \n",
    "    def leave(self, userID: int) -> None:\n",
    "        del self.chunks_owned[userID]\n",
    "        heappush(self.available_ids, userID)\n",
    "        \n",
    "    def request(self, userID: int, chunkID: int):\n",
    "        user_list = []\n",
    "        for user, chunkset in self.chunks_owned.items():\n",
    "            if chunkID in chunkset:\n",
    "                user_list.append(user)\n",
    "        \n",
    "        if user_list:\n",
    "            self.chunks_owned[userID].add(chunkID)\n",
    "        return sorted(user_list)\n"
   ]
  },
  {
   "cell_type": "markdown",
   "metadata": {},
   "source": [
    "### Invalid Transactions\n",
    "\n",
    "A transaction is possibly invalid if:\n",
    "\n",
    "* the amount exceeds $1000\n",
    "* if it occurs within (and including) 60 minutes of another transaction with the same name in a different city.\n",
    "Each transaction string transactions[i] consists of comma separated values representing the name, time (in minutes), amount, and city of the transaction.\n",
    "\n",
    "Given a list of transactions, return a list of transactions that are possibly invalid.  You may return the answer in any order."
   ]
  },
  {
   "cell_type": "code",
   "execution_count": 25,
   "metadata": {},
   "outputs": [
    {
     "data": {
      "text/plain": [
       "['alice,20,800,mtv', 'alice,50,100,beijing']"
      ]
     },
     "execution_count": 25,
     "metadata": {},
     "output_type": "execute_result"
    }
   ],
   "source": [
    "class Solution:\n",
    "    def invalidTransactions(self, transactions):\n",
    "        t_list = []; index = set(); hm = defaultdict(list)\n",
    "        for i in range(len(transactions)):\n",
    "            name, time, amount, city = transactions[i].split(',')\n",
    "            t = Transaction(name, int(time), int(amount), city, i)\n",
    "            hm[name].append(t)\n",
    "        \n",
    "        for name, t_list in hm.items():\n",
    "            for t in t_list:\n",
    "                if t.amount > 1000:\n",
    "                    index.add(t.index)\n",
    "                for new_t in t_list:\n",
    "                    if t.city != new_t.city and abs(new_t.time - t.time) <= 60:\n",
    "                        index.add(t.index)\n",
    "                        index.add(new_t.index)\n",
    "        \n",
    "        return [transactions[i] for i in index]\n",
    "            \n",
    "class Transaction:\n",
    "    def __init__(self, name, time, amount, city, index):\n",
    "        self.name = name\n",
    "        self.time = time\n",
    "        self.amount = amount\n",
    "        self.city = city\n",
    "        self.index = index\n",
    "\n",
    "transactions = [\"alice,20,800,mtv\",\"alice,50,100,beijing\"]\n",
    "Solution().invalidTransactions(transactions)"
   ]
  },
  {
   "cell_type": "markdown",
   "metadata": {},
   "source": [
    "### Design Underground System\n",
    "\n",
    "Implement the class UndergroundSystem that supports three methods:\n",
    "\n",
    "1. checkIn(int id, string stationName, int t)\n",
    "A customer with id card equal to id, gets in the station stationName at time t.\n",
    "A customer can only be checked into one place at a time.\n",
    "\n",
    "2. checkOut(int id, string stationName, int t)\n",
    "A customer with id card equal to id, gets out from the station stationName at time t.\n",
    "\n",
    "3. getAverageTime(string startStation, string endStation) \n",
    "Returns the average time to travel between the startStation and the endStation.\n",
    "The average time is computed from all the previous traveling from startStation to endStation that happened directly.\n",
    "\n",
    "Call to getAverageTime is always valid.\n",
    "You can assume all calls to checkIn and checkOut methods are consistent. That is, if a customer gets in at time t1 at some station, then it gets out at time t2 with t2 > t1. All events happen in chronological order."
   ]
  },
  {
   "cell_type": "code",
   "execution_count": 29,
   "metadata": {},
   "outputs": [],
   "source": [
    "class UndergroundSystem:\n",
    "\n",
    "    def __init__(self):\n",
    "        self.avg = {}\n",
    "        self.check_in = {}\n",
    "\n",
    "    def checkIn(self, id: int, stationName: str, t: int) -> None:\n",
    "        self.check_in[id] = (stationName, t)\n",
    "\n",
    "    def checkOut(self, id: int, stationName: str, t: int) -> None:\n",
    "        station_in, t_in = self.check_in[id]\n",
    "        station_out, t_out = stationName, t\n",
    "        del self.check_in[id]\n",
    "        if (station_in, station_out) not in self.avg:\n",
    "            self.avg[(station_in, station_out)] = ((t_out-t_in), 1)\n",
    "        else:\n",
    "            prev_avg, prev_count = self.avg[(station_in, station_out)]\n",
    "            new_avg = (prev_avg*prev_count + (t_out-t_in)) / (prev_count+1)\n",
    "            new_count = prev_count+1\n",
    "            self.avg[(station_in, station_out)] = (new_avg, new_count)\n",
    "        \n",
    "\n",
    "    def getAverageTime(self, startStation: str, endStation: str) -> float:\n",
    "        return self.avg[(startStation, endStation)][0]"
   ]
  },
  {
   "cell_type": "markdown",
   "metadata": {},
   "source": [
    "### Hand of Straights\n",
    "\n",
    "Alice has a hand of cards, given as an array of integers.\n",
    "\n",
    "Now she wants to rearrange the cards into groups so that each group is size W, and consists of W consecutive cards.\n",
    "\n",
    "Return true if and only if she can.\n",
    "\n",
    "**Same Question: 1296. Divide Array in Sets of K Consecutive Numbers**"
   ]
  },
  {
   "cell_type": "code",
   "execution_count": 33,
   "metadata": {},
   "outputs": [
    {
     "data": {
      "text/plain": [
       "(True, [[1, 2, 3], [2, 3, 4], [6, 7, 8]])"
      ]
     },
     "execution_count": 33,
     "metadata": {},
     "output_type": "execute_result"
    }
   ],
   "source": [
    "from collections import Counter\n",
    "def isNStraightHand(hand, W: int) -> bool:\n",
    "    counter = Counter(hand)\n",
    "    hand.sort()\n",
    "    i = 0\n",
    "    res = []\n",
    "    while i < len(hand):\n",
    "        start = hand[i]\n",
    "        arr = []\n",
    "        for _ in range(W):\n",
    "            if start not in counter:\n",
    "                return False\n",
    "            arr.append(start)\n",
    "            counter[start] -= 1\n",
    "            if counter[start] == 0:\n",
    "                del counter[start]\n",
    "            start += 1\n",
    "        res.append(arr)\n",
    "        while i < len(hand) and hand[i] not in counter:\n",
    "            i += 1\n",
    "    return True, res\n",
    "\n",
    "hand = [1,2,3,6,2,3,4,7,8]; W = 3\n",
    "isNStraightHand(hand, W)"
   ]
  },
  {
   "cell_type": "markdown",
   "metadata": {},
   "source": [
    "### Split Array into Consecutive Subsequences\n",
    "\n",
    "Given an array nums sorted in ascending order, return true if and only if you can split it into 1 or more subsequences such that each subsequence consists of consecutive integers and has length at least 3."
   ]
  },
  {
   "cell_type": "code",
   "execution_count": 36,
   "metadata": {},
   "outputs": [
    {
     "data": {
      "text/plain": [
       "True"
      ]
     },
     "execution_count": 36,
     "metadata": {},
     "output_type": "execute_result"
    }
   ],
   "source": [
    "from collections import Counter\n",
    "def isPossible(nums) -> bool:\n",
    "    counter = Counter(nums)\n",
    "    tails = Counter()\n",
    "    for x in nums:\n",
    "        if counter[x] == 0:\n",
    "            continue\n",
    "        if tails[x-1] > 0:\n",
    "            tails[x-1] -= 1\n",
    "            tails[x] += 1\n",
    "        elif counter[x+1] > 0 and counter[x+2] > 0:\n",
    "            counter[x+1] -= 1\n",
    "            counter[x+2] -= 1\n",
    "            tails[x+2] += 1\n",
    "        else:\n",
    "            return False\n",
    "        counter[x] -=  1\n",
    "    return True\n",
    "\n",
    "isPossible([1,2,3,3,4,4,5,5])"
   ]
  },
  {
   "cell_type": "markdown",
   "metadata": {},
   "source": [
    "### Last Moment Before All Ants Fall Out of a Plank\n",
    "\n",
    "We have a wooden plank of the length n units. Some ants are walking on the plank, each ant moves with speed 1 unit per second. Some of the ants move to the left, the other move to the right.\n",
    "\n",
    "When two ants moving in two different directions meet at some point, they change their directions and continue moving again. Assume changing directions doesn't take any additional time.\n",
    "\n",
    "When an ant reaches one end of the plank at a time t, it falls out of the plank imediately.\n",
    "\n",
    "Given an integer n and two integer arrays left and right, the positions of the ants moving to the left and the right. Return the moment when the last ant(s) fall out of the plank."
   ]
  },
  {
   "cell_type": "code",
   "execution_count": 1,
   "metadata": {},
   "outputs": [
    {
     "data": {
      "text/plain": [
       "4"
      ]
     },
     "execution_count": 1,
     "metadata": {},
     "output_type": "execute_result"
    }
   ],
   "source": [
    "def getLastMoment(n: int, left, right) -> int:\n",
    "    ans1 = ans2 = 0\n",
    "    if left:\n",
    "        ans1 = max(left)\n",
    "    if right:\n",
    "        ans2 = n - min(right)\n",
    "    return max(ans1, ans2)\n",
    "\n",
    "getLastMoment(n = 4, left = [4,3], right = [0,1])"
   ]
  },
  {
   "cell_type": "markdown",
   "metadata": {},
   "source": [
    "### Minimum Time Visiting All Points\n",
    "On a plane there are n points with integer coordinates points[i] = [xi, yi]. Your task is to find the minimum time in seconds to visit all points.\n",
    "\n",
    "You can move according to the next rules:\n",
    "\n",
    "In one second always you can either move vertically, horizontally by one unit or diagonally (it means to move one unit vertically and one unit horizontally in one second).\n",
    "You have to visit the points in the same order as they appear in the array.\n"
   ]
  },
  {
   "cell_type": "code",
   "execution_count": 3,
   "metadata": {},
   "outputs": [
    {
     "data": {
      "text/plain": [
       "7"
      ]
     },
     "execution_count": 3,
     "metadata": {},
     "output_type": "execute_result"
    }
   ],
   "source": [
    "def minTimeToVisitAllPoints(points) -> int:\n",
    "    prevx, prevy = points[0]\n",
    "    time = 0\n",
    "    for x, y in points[1:]:\n",
    "        time += max(abs(x-prevx), abs(y-prevy))\n",
    "        prevx, prevy = x, y\n",
    "    return time\n",
    "minTimeToVisitAllPoints([[1,1],[3,4],[-1,0]])"
   ]
  },
  {
   "cell_type": "markdown",
   "metadata": {},
   "source": [
    "### Longest Turbulent Subarray\n",
    "\n",
    "A subarray A[i], A[i+1], ..., A[j] of A is said to be turbulent if and only if:\n",
    "\n",
    "* For i <= k < j, A[k] > A[k+1] when k is odd, and A[k] < A[k+1] when k is even;\n",
    "* OR, for i <= k < j, A[k] > A[k+1] when k is even, and A[k] < A[k+1] when k is odd.\n",
    "* That is, the subarray is turbulent if the comparison sign flips between each adjacent pair of elements in the subarray.\n",
    "\n",
    "Return the length of a maximum size turbulent subarray of A."
   ]
  },
  {
   "cell_type": "code",
   "execution_count": 4,
   "metadata": {},
   "outputs": [
    {
     "data": {
      "text/plain": [
       "5"
      ]
     },
     "execution_count": 4,
     "metadata": {},
     "output_type": "execute_result"
    }
   ],
   "source": [
    "def maxTurbulenceSize(A) -> int:\n",
    "    inc = dec = res = 1\n",
    "    for i in range(1, len(A)):\n",
    "        if A[i] > A[i-1]:\n",
    "            inc = dec+1\n",
    "            dec = 1\n",
    "        elif A[i] < A[i-1]:\n",
    "            dec = inc+1\n",
    "            inc = 1\n",
    "        else:\n",
    "            inc = 1\n",
    "            dec = 1\n",
    "        res = max(res, inc, dec)\n",
    "    return res\n",
    "\n",
    "maxTurbulenceSize([9,4,2,10,7,8,8,1,9])"
   ]
  },
  {
   "cell_type": "markdown",
   "metadata": {},
   "source": [
    "### Rank Transform of an Array\n",
    "\n",
    "Given an array of integers arr, replace each element with its rank.\n",
    "\n",
    "The rank represents how large the element is. The rank has the following rules:\n",
    "\n",
    "Rank is an integer starting from 1.\n",
    "The larger the element, the larger the rank. If two elements are equal, their rank must be the same.\n",
    "Rank should be as small as possible."
   ]
  },
  {
   "cell_type": "code",
   "execution_count": 5,
   "metadata": {},
   "outputs": [
    {
     "data": {
      "text/plain": [
       "[4, 1, 2, 3]"
      ]
     },
     "execution_count": 5,
     "metadata": {},
     "output_type": "execute_result"
    }
   ],
   "source": [
    "def arrayRankTransform(arr):\n",
    "    rank = {}\n",
    "    last_rank = 0\n",
    "    for num in sorted(arr):\n",
    "        if num not in rank:\n",
    "            rank[num] = last_rank + 1\n",
    "            last_rank += 1\n",
    "\n",
    "    return [rank[num] for num in arr]\n",
    "\n",
    "arrayRankTransform([40,10,20,30])"
   ]
  },
  {
   "cell_type": "markdown",
   "metadata": {},
   "source": [
    "### Alphabet Board Path\n",
    "On an alphabet board, we start at position (0, 0), corresponding to character board[0][0].\n",
    "\n",
    "Here, board = [\"abcde\", \"fghij\", \"klmno\", \"pqrst\", \"uvwxy\", \"z\"], as shown in the diagram below.\n",
    "\n",
    "\n",
    "We may make the following moves:\n",
    "\n",
    "* 'U' moves our position up one row, if the position exists on the board;\n",
    "* 'D' moves our position down one row, if the position exists on the board;\n",
    "* 'L' moves our position left one column, if the position exists on the board;\n",
    "* 'R' moves our position right one column, if the position exists on the board;\n",
    "* '!' adds the character board[r][c] at our current position (r, c) to the answer.\n",
    "\n",
    "(Here, the only positions that exist on the board are positions with letters on them.)\n",
    "\n",
    "Return a sequence of moves that makes our answer equal to target in the minimum number of moves.  You may return any path that does so."
   ]
  },
  {
   "cell_type": "code",
   "execution_count": 7,
   "metadata": {},
   "outputs": [
    {
     "data": {
      "text/plain": [
       "'RR!RRDD!LUU!R!'"
      ]
     },
     "execution_count": 7,
     "metadata": {},
     "output_type": "execute_result"
    }
   ],
   "source": [
    "class Solution:\n",
    "    def alphabetBoardPath(self, target: str) -> str:\n",
    "        board = ['abcde', 'fghij', 'klmno', 'pqrst', 'uvwxy', 'z']\n",
    "        self.inverted_index = {}\n",
    "        for i in range(len(board)):\n",
    "            for j in range(len(board[i])):\n",
    "                self.inverted_index[board[i][j]] = (i,j)\n",
    "        \n",
    "        i = 0; string = ''; x, y = 0, 0\n",
    "        while i< len(target):\n",
    "            string += self.helper(x, y, target[i])\n",
    "            x, y = self.inverted_index[target[i]]\n",
    "            i += 1\n",
    "        return string\n",
    "    \n",
    "    def helper(self, x, y, ch):\n",
    "        string = ''\n",
    "        \n",
    "        if ch != 'z' and x == 5:\n",
    "            string += 'U'\n",
    "            x = 4\n",
    "            \n",
    "        tx, ty = self.inverted_index[ch]\n",
    "        horizontal = ty - y\n",
    "        vertical = tx - x\n",
    "        \n",
    "        if horizontal >= 0:\n",
    "            string += 'R'*abs(horizontal)\n",
    "        else:\n",
    "            string += 'L'*abs(horizontal)\n",
    "        \n",
    "        if vertical >=0:\n",
    "            string += 'D'*abs(vertical)\n",
    "        else:\n",
    "            string += 'U'*abs(vertical)\n",
    "\n",
    "        string += '!'\n",
    "        return string\n",
    "        \n",
    "Solution().alphabetBoardPath(target = \"code\")       "
   ]
  },
  {
   "cell_type": "markdown",
   "metadata": {},
   "source": [
    "### Design Hit Counter\n",
    "\n",
    "Design a hit counter which counts the number of hits received in the past 5 minutes.\n",
    "\n",
    "Each function accepts a timestamp parameter (in seconds granularity) and you may assume that calls are being made to the system in chronological order (ie, the timestamp is monotonically increasing). You may assume that the earliest timestamp starts at 1.\n",
    "\n",
    "It is possible that several hits arrive roughly at the same time."
   ]
  },
  {
   "cell_type": "code",
   "execution_count": 10,
   "metadata": {},
   "outputs": [],
   "source": [
    "class HitCounter:\n",
    "\n",
    "    def __init__(self):\n",
    "        \"\"\"\n",
    "        Initialize your data structure here.\n",
    "        \"\"\"\n",
    "        self.time = [0]*300\n",
    "        self.hits = [0]*300        \n",
    "\n",
    "    def hit(self, timestamp: int) -> None:\n",
    "        \"\"\"\n",
    "        Record a hit.\n",
    "        @param timestamp - The current timestamp (in seconds granularity).\n",
    "        \"\"\"\n",
    "        index = timestamp % 300\n",
    "        if self.time[index] != timestamp:\n",
    "            self.hits[index] = 1\n",
    "            self.time[index] = timestamp\n",
    "        else:\n",
    "            self.hits[index] += 1\n",
    "        \n",
    "\n",
    "    def getHits(self, timestamp: int) -> int:\n",
    "        \"\"\"\n",
    "        Return the number of hits in the past 5 minutes.\n",
    "        @param timestamp - The current timestamp (in seconds granularity).\n",
    "        \"\"\"\n",
    "        total = 0\n",
    "        for i in range(300):\n",
    "            if timestamp - self.time[i] < 300:\n",
    "                total += self.hits[i]\n",
    "        return total\n",
    "            \n",
    "\n",
    "# Your HitCounter object will be instantiated and called as such:\n",
    "# obj = HitCounter()\n",
    "# obj.hit(timestamp)\n",
    "# param_2 = obj.getHits(timestamp)"
   ]
  },
  {
   "cell_type": "markdown",
   "metadata": {},
   "source": [
    "### Logger Rate Limiter\n",
    "\n",
    "Design a logger system that receive stream of messages along with its timestamps, each message should be printed if and only if it is not printed in the last 10 seconds.\n",
    "\n",
    "Given a message and a timestamp (in seconds granularity), return true if the message should be printed in the given timestamp, otherwise returns false.\n",
    "\n",
    "It is possible that several messages arrive roughly at the same time."
   ]
  },
  {
   "cell_type": "code",
   "execution_count": 16,
   "metadata": {},
   "outputs": [],
   "source": [
    "class Logger:\n",
    "\n",
    "    def __init__(self):\n",
    "        self.queue = deque()\n",
    "        self.s = set()\n",
    "        \n",
    "    def shouldPrintMessage(self, timestamp: int, message: str) -> bool:\n",
    "        queue = self.queue\n",
    "        s = self.s\n",
    "        while queue:\n",
    "            msg, ts = queue[0]\n",
    "            if timestamp - ts >= 10:\n",
    "                queue.popleft()\n",
    "                s.remove(msg)\n",
    "            else:\n",
    "                break\n",
    "        \n",
    "        if message in s:\n",
    "            return False\n",
    "        \n",
    "        queue.append((message, timestamp))\n",
    "        s.add(message)\n",
    "        return True\n",
    "\n",
    "# Your Logger object will be instantiated and called as such:\n",
    "# obj = Logger()\n",
    "# param_1 = obj.shouldPrintMessage(timestamp,message)"
   ]
  },
  {
   "cell_type": "markdown",
   "metadata": {},
   "source": [
    "### Valid Square\n",
    "\n",
    "Given the coordinates of four points in 2D space, return whether the four points could construct a square.\n",
    "\n",
    "The coordinate (x,y) of a point is represented by an integer array with two integers."
   ]
  },
  {
   "cell_type": "code",
   "execution_count": 24,
   "metadata": {},
   "outputs": [
    {
     "data": {
      "text/plain": [
       "True"
      ]
     },
     "execution_count": 24,
     "metadata": {},
     "output_type": "execute_result"
    }
   ],
   "source": [
    "from collections import Counter\n",
    "class Solution:\n",
    "    def validSquare(self, p1, p2, p3, p4) -> bool:\n",
    "        d = Counter()\n",
    "        l = [p1, p2, p3, p4]\n",
    "        for i in range(len(l)):\n",
    "            for j in range(i+1, len(l)):\n",
    "                dist = self.get_dist(l[i], l[j])\n",
    "                d[dist] += 1\n",
    "        \n",
    "        keys = d.keys()\n",
    "        return len(keys) == 2 and min(keys) > 0 and d[min(keys)] == 4\n",
    "            \n",
    "    \n",
    "    def get_dist(self, p1, p2):\n",
    "        x1, y1 = p1\n",
    "        x2, y2 = p2\n",
    "        return (x1-x2)**2 + (y1-y2)**2\n",
    "\n",
    "Solution().validSquare(p1 = [0,0], p2 = [1,1], p3 = [1,0], p4 = [0,1])        "
   ]
  },
  {
   "cell_type": "markdown",
   "metadata": {},
   "source": [
    "### Car Fleet\n",
    "\n",
    "N cars are going to the same destination along a one lane road.  The destination is target miles away.\n",
    "\n",
    "Each car i has a constant speed speed[i] (in miles per hour), and initial position position[i] miles towards the target along the road.\n",
    "\n",
    "A car can never pass another car ahead of it, but it can catch up to it, and drive bumper to bumper at the same speed.\n",
    "\n",
    "The distance between these two cars is ignored - they are assumed to have the same position.\n",
    "\n",
    "A car fleet is some non-empty set of cars driving at the same position and same speed.  Note that a single car is also a car fleet.\n",
    "\n",
    "If a car catches up to a car fleet right at the destination point, it will still be considered as one car fleet.\n",
    "\n",
    "\n",
    "How many car fleets will arrive at the destination?"
   ]
  },
  {
   "cell_type": "code",
   "execution_count": 28,
   "metadata": {},
   "outputs": [
    {
     "data": {
      "text/plain": [
       "3"
      ]
     },
     "execution_count": 28,
     "metadata": {},
     "output_type": "execute_result"
    }
   ],
   "source": [
    "def carFleet(target: int, position, speed) -> int:\n",
    "    arr = []\n",
    "    for pos, s in zip(position, speed):\n",
    "        arr.append((target-pos, s))\n",
    "    arr.sort(key=lambda x:-x[0])\n",
    "\n",
    "    ahead = None; res = 0\n",
    "    for dist, speed in arr[::-1]:\n",
    "        time = dist / speed\n",
    "        if ahead is None or time > ahead:\n",
    "            res += 1\n",
    "            ahead = time\n",
    "\n",
    "    return res\n",
    "\n",
    "carFleet(target = 12, position = [10,8,0,5,3], speed = [2,4,1,1,3])"
   ]
  },
  {
   "cell_type": "markdown",
   "metadata": {},
   "source": [
    "### Largest Number\n",
    "\n",
    "Given a list of non negative integers, arrange them such that they form the largest number."
   ]
  },
  {
   "cell_type": "code",
   "execution_count": 35,
   "metadata": {},
   "outputs": [
    {
     "data": {
      "text/plain": [
       "'9534330'"
      ]
     },
     "execution_count": 35,
     "metadata": {},
     "output_type": "execute_result"
    }
   ],
   "source": [
    "from heapq import heappush, heappop\n",
    "class Solution:\n",
    "    def largestNumber(self, nums) -> str:\n",
    "        heap  = []\n",
    "        for num in nums:\n",
    "            heappush(heap, Node(str(num)))\n",
    "        \n",
    "        res = ''\n",
    "        while heap:\n",
    "            res += heappop(heap).string\n",
    "        \n",
    "        return '0' if res[0] == '0' else res\n",
    "            \n",
    "class Node:\n",
    "    def __init__(self, string):\n",
    "        self.string = string\n",
    "    \n",
    "    def __lt__(self, other):\n",
    "        return self.string + other.string > other.string + self.string\n",
    "    \n",
    "Solution().largestNumber([3,30,34,5,9])"
   ]
  },
  {
   "cell_type": "markdown",
   "metadata": {},
   "source": [
    "### Valid Word Square\n",
    "Given a sequence of words, check whether it forms a valid word square.\n",
    "\n",
    "A sequence of words forms a valid word square if the kth row and column read the exact same string, where 0 ≤ k < max(numRows, numColumns).\n",
    "\n",
    "Note:\n",
    "* The number of words given is at least 1 and does not exceed 500.\n",
    "* Word length will be at least 1 and does not exceed 500.\n",
    "* Each word contains only lowercase English alphabet a-z."
   ]
  },
  {
   "cell_type": "code",
   "execution_count": 36,
   "metadata": {},
   "outputs": [
    {
     "data": {
      "text/plain": [
       "True"
      ]
     },
     "execution_count": 36,
     "metadata": {},
     "output_type": "execute_result"
    }
   ],
   "source": [
    "def validWordSquare(words) -> bool:\n",
    "    for i in range(len(words)):\n",
    "        for j in range(len(words[i])):\n",
    "            try:\n",
    "                ch1 = words[i][j]\n",
    "                ch2 = words[j][i]\n",
    "                if ch1 != ch2:\n",
    "                    return False\n",
    "            except:\n",
    "                return False\n",
    "    return True\n",
    "\n",
    "words = [\n",
    "  \"abcd\",\n",
    "  \"bnrt\",\n",
    "  \"crmy\",\n",
    "  \"dtye\"\n",
    "]\n",
    "\n",
    "validWordSquare(words)"
   ]
  },
  {
   "cell_type": "markdown",
   "metadata": {},
   "source": [
    "### Distribute Candies\n",
    "\n",
    "Given an integer array with even length, where different numbers in this array represent different kinds of candies. Each number means one candy of the corresponding kind. You need to distribute these candies equally in number to brother and sister. Return the maximum number of kinds of candies the sister could gain."
   ]
  },
  {
   "cell_type": "code",
   "execution_count": 38,
   "metadata": {},
   "outputs": [
    {
     "data": {
      "text/plain": [
       "3"
      ]
     },
     "execution_count": 38,
     "metadata": {},
     "output_type": "execute_result"
    }
   ],
   "source": [
    "def distributeCandies(candies) -> int:\n",
    "    num_kind = len(set(candies))\n",
    "    her_share = len(candies) // 2\n",
    "    return min(num_kind, her_share)\n",
    "\n",
    "distributeCandies([1,1,2,2,3,3])"
   ]
  },
  {
   "cell_type": "markdown",
   "metadata": {},
   "source": [
    "### Maximum Number of Non-Overlapping Substrings\n",
    "\n",
    "Given a string s of lowercase letters, you need to find the maximum number of non-empty substrings of s that meet the following conditions:\n",
    "\n",
    "* The substrings do not overlap, that is for any two substrings s[i..j] and s[k..l], either j < k or i > l is true.\n",
    "* A substring that contains a certain character c must also contain all occurrences of c.\n",
    "\n",
    "Find the maximum number of substrings that meet the above conditions. If there are multiple solutions with the same number of substrings, return the one with minimum total length. It can be shown that there exists a unique solution of minimum total length.\n",
    "\n",
    "Notice that you can return the substrings in any order."
   ]
  },
  {
   "cell_type": "code",
   "execution_count": 40,
   "metadata": {},
   "outputs": [
    {
     "data": {
      "text/plain": [
       "['e', 'f', 'ccc']"
      ]
     },
     "execution_count": 40,
     "metadata": {},
     "output_type": "execute_result"
    }
   ],
   "source": [
    "def maxNumOfSubstrings(s: str):\n",
    "    fst = {}; lst = {}\n",
    "    for i, ch in enumerate(s):\n",
    "        if ch not in fst:\n",
    "            fst[ch] = i\n",
    "        lst[ch] = i\n",
    "\n",
    "    intervals = []\n",
    "    for c in set(s):\n",
    "        start, end = fst[c], lst[c]\n",
    "        i = start\n",
    "        while i <= end:\n",
    "            start = min(start, fst[s[i]])\n",
    "            end = max(end, lst[s[i]])\n",
    "            i += 1\n",
    "        if start == fst[c]:\n",
    "            intervals.append((start, end))\n",
    "\n",
    "\n",
    "    intervals.sort(key=lambda x:x[1])\n",
    "    start, end = intervals[0]\n",
    "    ans = [s[start:end+1]]\n",
    "    prev = end\n",
    "    for start, end in intervals:\n",
    "        if start > prev:\n",
    "            ans.append(s[start:end + 1])\n",
    "            prev = end\n",
    "\n",
    "    return ans\n",
    "\n",
    "maxNumOfSubstrings(s = \"adefaddaccc\")"
   ]
  }
 ],
 "metadata": {
  "kernelspec": {
   "display_name": "Python 3",
   "language": "python",
   "name": "python3"
  },
  "language_info": {
   "codemirror_mode": {
    "name": "ipython",
    "version": 3
   },
   "file_extension": ".py",
   "mimetype": "text/x-python",
   "name": "python",
   "nbconvert_exporter": "python",
   "pygments_lexer": "ipython3",
   "version": "3.6.8"
  }
 },
 "nbformat": 4,
 "nbformat_minor": 2
}
