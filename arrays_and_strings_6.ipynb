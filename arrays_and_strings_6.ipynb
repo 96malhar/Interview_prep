{
 "cells": [
  {
   "cell_type": "markdown",
   "metadata": {},
   "source": [
    "### Range Sum Query 2D - Immutable\n",
    "\n",
    "Given a 2D matrix matrix, find the sum of the elements inside the rectangle defined by its upper left corner (row1, col1) and lower right corner (row2, col2)."
   ]
  },
  {
   "cell_type": "code",
   "execution_count": 7,
   "metadata": {},
   "outputs": [
    {
     "data": {
      "text/plain": [
       "8"
      ]
     },
     "execution_count": 7,
     "metadata": {},
     "output_type": "execute_result"
    }
   ],
   "source": [
    "class NumMatrix:\n",
    "\n",
    "    def __init__(self, matrix):\n",
    "        dp = [[0]*len(matrix[0]) for _ in range(len(matrix))]\n",
    "        for i in range(len(matrix)):\n",
    "            for j in range(len(matrix[0])):\n",
    "                up = dp[i-1][j] if i>=1 else 0\n",
    "                left = dp[i][j-1] if j>=1 else 0\n",
    "                up_left = dp[i-1][j-1] if i>=1 and j>=1 else 0\n",
    "                dp[i][j] = matrix[i][j] + up + left - up_left\n",
    "                \n",
    "        self.dp = dp\n",
    "        \n",
    "    def sumRegion(self, row1: int, col1: int, row2: int, col2: int) -> int:\n",
    "        dp = self.dp\n",
    "        val1 = dp[row1-1][col2] if row1 >= 1 else 0\n",
    "        val2 = dp[row2][col1-1] if col1 >= 1 else 0\n",
    "        val3 = dp[row1-1][col1-1] if row1>=1 and col1>=1 else 0\n",
    "        return dp[row2][col2] - val1 - val2 + val3\n",
    "        \n",
    "\n",
    "matrix = [[3,0,1,4,2],[5,6,3,2,1],[1,2,0,1,5],[4,1,0,1,7],[1,0,3,0,5]]\n",
    "obj = NumMatrix(matrix)\n",
    "obj.sumRegion(2,1,4,3)"
   ]
  },
  {
   "cell_type": "markdown",
   "metadata": {},
   "source": [
    "### Number of Submatrices That Sum to Target\n",
    "\n",
    "Given a matrix, and a target, return the number of non-empty submatrices that sum to target.\n",
    "\n",
    "A submatrix x1, y1, x2, y2 is the set of all cells matrix[x][y] with x1 <= x <= x2 and y1 <= y <= y2.\n",
    "\n",
    "Two submatrices (x1, y1, x2, y2) and (x1', y1', x2', y2') are different if they have some coordinate that is different: for example, if x1 != x1'."
   ]
  },
  {
   "cell_type": "code",
   "execution_count": 5,
   "metadata": {},
   "outputs": [
    {
     "data": {
      "text/plain": [
       "4"
      ]
     },
     "execution_count": 5,
     "metadata": {},
     "output_type": "execute_result"
    }
   ],
   "source": [
    "from collections import Counter\n",
    "class Solution:\n",
    "    def numSubmatrixSumTarget(self, matrix, target: int) -> int:\n",
    "        dp = [[0]*len(matrix[0]) for _ in range(len(matrix))]\n",
    "        dp[0] = matrix[0][:]\n",
    "        for i in range(1, len(matrix)):\n",
    "            for j in range(len(matrix[0])):\n",
    "                dp[i][j] = matrix[i][j] + dp[i-1][j]\n",
    "        \n",
    "        res = 0\n",
    "        for r1 in range(len(dp)):\n",
    "            for r2 in range(r1, len(dp)):\n",
    "                counter = Counter([0]); presum = 0\n",
    "                for col in range(len(matrix[0])):\n",
    "                    num = dp[r2][col] - (dp[r1-1][col] if r1>=1 else 0)\n",
    "                    presum += num\n",
    "                    res += counter[presum-target]\n",
    "                    counter[presum] += 1\n",
    "        \n",
    "        return res\n",
    "    \n",
    "matrix = [[0,1,0],[1,1,1],[0,1,0]]\n",
    "target = 0\n",
    "obj = Solution()\n",
    "obj.numSubmatrixSumTarget(matrix, target)"
   ]
  },
  {
   "cell_type": "markdown",
   "metadata": {},
   "source": [
    "### Max Sum of Rectangle No Larger Than K\n",
    "\n",
    "Given a non-empty 2D matrix matrix and an integer k, find the max sum of a rectangle in the matrix such that its sum is no larger than k."
   ]
  },
  {
   "cell_type": "code",
   "execution_count": 7,
   "metadata": {},
   "outputs": [
    {
     "data": {
      "text/plain": [
       "2"
      ]
     },
     "execution_count": 7,
     "metadata": {},
     "output_type": "execute_result"
    }
   ],
   "source": [
    "import bisect\n",
    "class Solution:\n",
    "    def maxSumSubmatrix(self, matrix, k: int) -> int:\n",
    "        dp = [[0]*len(matrix[0]) for _ in range(len(matrix))]\n",
    "        dp[0] = matrix[0][:]\n",
    "        for i in range(1, len(matrix)):\n",
    "            for j in range(len(matrix[0])):\n",
    "                dp[i][j] = matrix[i][j] + dp[i-1][j]\n",
    "        \n",
    "        res = -float('inf')\n",
    "        for r1 in range(len(matrix)):\n",
    "            for r2 in range(r1, len(matrix)):\n",
    "                prefix_sums = [0, float('inf')]\n",
    "                max_sum = float('-inf')\n",
    "                presum = 0\n",
    "                for col in range(len(matrix[0])):\n",
    "                    num = dp[r2][col] - (dp[r1-1][col] if r1>=1 else 0)\n",
    "                    presum += num\n",
    "                    i = bisect.bisect_left(prefix_sums, presum - k)\n",
    "                    max_sum = max(max_sum, presum - prefix_sums[i])\n",
    "                    bisect.insort(prefix_sums, presum)\n",
    "                \n",
    "                res = max(res, max_sum)\n",
    "        \n",
    "        return res\n",
    "    \n",
    "Solution().maxSumSubmatrix([[1,0,1],[0,-2,3]], 2)"
   ]
  },
  {
   "cell_type": "markdown",
   "metadata": {},
   "source": [
    "### Maximum Side Length of a Square with Sum Less than or Equal to Threshold\n",
    "\n",
    "Given a m x n matrix mat and an integer threshold. Return the maximum side-length of a square with a sum less than or equal to threshold or return 0 if there is no such square."
   ]
  },
  {
   "cell_type": "code",
   "execution_count": 14,
   "metadata": {},
   "outputs": [
    {
     "data": {
      "text/plain": [
       "2"
      ]
     },
     "execution_count": 14,
     "metadata": {},
     "output_type": "execute_result"
    }
   ],
   "source": [
    "class Solution:\n",
    "    def maxSideLength(self, matrix, threshold: int) -> int:\n",
    "        dp = [[0]*len(matrix[0]) for _ in range(len(matrix))]\n",
    "        for i in range(len(matrix)):\n",
    "            for j in range(len(matrix[0])):\n",
    "                up = dp[i-1][j] if i>=1 else 0\n",
    "                left = dp[i][j-1] if j>=1 else 0\n",
    "                up_left = dp[i-1][j-1] if i>=1 and j>=1 else 0\n",
    "                dp[i][j] = matrix[i][j] + up + left - up_left\n",
    "        \n",
    "        maxside = 0\n",
    "        for r2 in range(len(matrix)):\n",
    "            for c2 in range(len(matrix[0])):\n",
    "                if min(r2, c2) >= maxside:\n",
    "                    r1, c1 = r2-maxside, c2-maxside\n",
    "                    up = dp[r1-1][c2] if r1>=1 else 0\n",
    "                    left = dp[r2][c1-1] if c1 >= 1 else 0\n",
    "                    up_left = dp[r1-1][c1-1] if r1>=1 and c1 >= 1 else 0\n",
    "                    total = dp[r2][c2] - up - left + up_left\n",
    "                    if total <= threshold:\n",
    "                        maxside += 1\n",
    "        \n",
    "        return maxside\n",
    "\n",
    "mat = [[1,1,3,2,4,3,2],[1,1,3,2,4,3,2],[1,1,3,2,4,3,2]]; threshold = 4\n",
    "Solution().maxSideLength(mat, threshold)"
   ]
  },
  {
   "cell_type": "markdown",
   "metadata": {},
   "source": [
    "### Count Submatrices With All Ones\n",
    "\n",
    "Given a rows * columns matrix mat of ones and zeros, return how many submatrices have all ones."
   ]
  },
  {
   "cell_type": "code",
   "execution_count": 11,
   "metadata": {},
   "outputs": [
    {
     "data": {
      "text/plain": [
       "24"
      ]
     },
     "execution_count": 11,
     "metadata": {},
     "output_type": "execute_result"
    }
   ],
   "source": [
    "class Solution:\n",
    "    def numSubmat(self, matrix) -> int:\n",
    "        dp = [[0]*len(matrix[0]) for _ in range(len(matrix))]\n",
    "        dp[0] = matrix[0][:]\n",
    "        for i in range(1, len(matrix)):\n",
    "            for j in range(len(matrix[0])):\n",
    "                dp[i][j] = matrix[i][j] + dp[i-1][j]\n",
    "\n",
    "        res = 0\n",
    "        for r1 in range(len(matrix)):\n",
    "            for r2 in range(r1, len(matrix)):\n",
    "                target = r2-r1+1; length = 0\n",
    "                for col in range(len(matrix[0])):\n",
    "                    curr_sum = dp[r2][col] - (dp[r1-1][col] if r1>=1 else 0)\n",
    "                    length = 0 if curr_sum != target else length+1\n",
    "                    res += length\n",
    "        return res\n",
    "    \n",
    "matrix = [[0,1,1,0],\n",
    "              [0,1,1,1],\n",
    "              [1,1,1,0]]\n",
    "\n",
    "Solution().numSubmat(matrix)"
   ]
  },
  {
   "cell_type": "markdown",
   "metadata": {},
   "source": [
    "### Maximum sum rectangle in a 2D matrix\n",
    "https://www.geeksforgeeks.org/maximum-sum-rectangle-in-a-2d-matrix-dp-27/"
   ]
  },
  {
   "cell_type": "code",
   "execution_count": 6,
   "metadata": {},
   "outputs": [
    {
     "data": {
      "text/plain": [
       "(29, (1, 1), (3, 3))"
      ]
     },
     "execution_count": 6,
     "metadata": {},
     "output_type": "execute_result"
    }
   ],
   "source": [
    "class Solution:\n",
    "    def max_sum_rectangle(self, matrix):\n",
    "        dp = [[0]*len(matrix[0]) for _ in range(len(matrix))]\n",
    "        dp[0] = matrix[0][:]\n",
    "        for i in range(1, len(matrix)):\n",
    "            for j in range(len(matrix[0])):\n",
    "                dp[i][j] = matrix[i][j] + dp[i-1][j]\n",
    "\n",
    "        res = -float('inf')\n",
    "        for r1 in range(len(dp)):\n",
    "            for r2 in range(r1, len(dp)):\n",
    "                arr = []\n",
    "                for c in range(len(dp[0])):\n",
    "                    elem = dp[r2][c] - (dp[r1-1][c] if r1>=1 else 0)\n",
    "                    arr.append(elem)\n",
    "\n",
    "                maxsum, c1, c2 = self.kadane(arr)\n",
    "                if maxsum > res:\n",
    "                    res = maxsum\n",
    "                    topleft = r1, c1\n",
    "                    bottomright = r2, c2\n",
    "\n",
    "        return res, topleft, bottomright\n",
    "\n",
    "    def kadane(self, arr):\n",
    "        maxsum = arr[0]\n",
    "        for i in range(1, len(arr)):\n",
    "            arr[i] = max(arr[i], arr[i]+arr[i-1])\n",
    "            maxsum = max(maxsum, arr[i])\n",
    "\n",
    "        index = arr.index(maxsum)\n",
    "        if maxsum <= 0:\n",
    "            return maxsum, index, index\n",
    "        i = index\n",
    "        while i>=0 and arr[i] > 0:\n",
    "            i -= 1\n",
    "        return maxsum, i+1, index\n",
    "                \n",
    "m = [[1, 2, -1, -4, -20], \n",
    "     [-8, -3, 4, 2, 1],  \n",
    "     [3, 8, 10, 1, 3],  \n",
    "     [-4, -1, 1, 7, -6]]  \n",
    "\n",
    "Solution().max_sum_rectangle(m)"
   ]
  },
  {
   "cell_type": "markdown",
   "metadata": {},
   "source": [
    "### RLE Iterator\n",
    "\n",
    "Write an iterator that iterates through a run-length encoded sequence.\n",
    "\n",
    "The iterator is initialized by RLEIterator(int[] A), where A is a run-length encoding of some sequence.  More specifically, for all even i, A[i] tells us the number of times that the non-negative integer value A[i+1] is repeated in the sequence.\n",
    "\n",
    "The iterator supports one function: next(int n), which exhausts the next n elements (n >= 1) and returns the last element exhausted in this way.  If there is no element left to exhaust, next returns -1 instead.\n",
    "\n",
    "For example, we start with A = [3,8,0,9,2,5], which is a run-length encoding of the sequence [8,8,8,5,5].  This is because the sequence can be read as \"three eights, zero nines, two fives\"."
   ]
  },
  {
   "cell_type": "code",
   "execution_count": 18,
   "metadata": {},
   "outputs": [
    {
     "data": {
      "text/plain": [
       "5"
      ]
     },
     "execution_count": 18,
     "metadata": {},
     "output_type": "execute_result"
    }
   ],
   "source": [
    "class RLEIterator:\n",
    "\n",
    "    def __init__(self, A):\n",
    "        self.i = 0\n",
    "        self.A = A\n",
    "        \n",
    "    def next(self, n: int) -> int:\n",
    "        while n>0 and self.i<len(self.A):\n",
    "            if n > self.A[self.i]:\n",
    "                n -= self.A[self.i]\n",
    "                self.i += 2\n",
    "            else:\n",
    "                self.A[self.i] -= n\n",
    "                return self.A[self.i+1]\n",
    "        return -1\n",
    "        \n",
    "obj = RLEIterator([3,8,0,9,2,5])\n",
    "obj.next(4)"
   ]
  },
  {
   "cell_type": "markdown",
   "metadata": {},
   "source": [
    "### Shuffle an Array\n",
    "\n",
    "Shuffle a set of numbers without duplicates."
   ]
  },
  {
   "cell_type": "code",
   "execution_count": 39,
   "metadata": {},
   "outputs": [
    {
     "data": {
      "text/plain": [
       "[2, 6, 4, 3, 1, 5]"
      ]
     },
     "execution_count": 39,
     "metadata": {},
     "output_type": "execute_result"
    }
   ],
   "source": [
    "import random\n",
    "class Solution:\n",
    "    def __init__(self, nums):\n",
    "        self.array = nums\n",
    "        self.original = nums[:]\n",
    "\n",
    "    def reset(self):\n",
    "        self.array = self.original[:]\n",
    "        return self.array\n",
    "\n",
    "    def shuffle(self):\n",
    "        for i in range(len(self.array)):\n",
    "            swap_idx = random.randrange(i, len(self.array))\n",
    "            self.array[i], self.array[swap_idx] = self.array[swap_idx], self.array[i]\n",
    "        return self.array\n",
    "    \n",
    "obj = Solution([1,2,3,4,5,6])\n",
    "obj.shuffle()\n",
    "# obj.reset()"
   ]
  },
  {
   "cell_type": "markdown",
   "metadata": {},
   "source": [
    "### Angle Between Hands of a Clock\n",
    "\n",
    "Given two numbers, hour and minutes. Return the smaller angle (in degrees) formed between the hour and the minute hand."
   ]
  },
  {
   "cell_type": "code",
   "execution_count": 1,
   "metadata": {},
   "outputs": [
    {
     "data": {
      "text/plain": [
       "165.0"
      ]
     },
     "execution_count": 1,
     "metadata": {},
     "output_type": "execute_result"
    }
   ],
   "source": [
    "def angleClock(hour: int, minutes: int) -> float:\n",
    "    m = (hour*5) % 60\n",
    "    inc = minutes * 5 / 60\n",
    "    m += inc\n",
    "    angle = 360 * abs(minutes-m) / 60\n",
    "    return min(angle, 360-angle)\n",
    "\n",
    "angleClock(12, 30)"
   ]
  },
  {
   "cell_type": "markdown",
   "metadata": {},
   "source": [
    "### Word Subsets\n",
    "\n",
    "We are given two arrays A and B of words.  Each word is a string of lowercase letters.\n",
    "\n",
    "Now, say that word b is a subset of word a if every letter in b occurs in a, including multiplicity.  For example, \"wrr\" is a subset of \"warrior\", but is not a subset of \"world\".\n",
    "\n",
    "Now say a word a from A is universal if for every b in B, b is a subset of a. \n",
    "\n",
    "Return a list of all universal words in A.  You can return the words in any order."
   ]
  },
  {
   "cell_type": "code",
   "execution_count": 3,
   "metadata": {},
   "outputs": [
    {
     "data": {
      "text/plain": [
       "['facebook', 'leetcode']"
      ]
     },
     "execution_count": 3,
     "metadata": {},
     "output_type": "execute_result"
    }
   ],
   "source": [
    "from collections import Counter\n",
    "class Solution:\n",
    "    def wordSubsets(self, A, B):\n",
    "        arr = [0]*26\n",
    "        for string in B:\n",
    "            counter = Counter(string)\n",
    "            for ch, freq in counter.items():\n",
    "                index = ord(ch)-97\n",
    "                arr[index] = max(arr[index], freq)\n",
    "        \n",
    "        ans = []\n",
    "        for string in A:\n",
    "            counter = Counter(string)\n",
    "            flag = True\n",
    "            for i in range(26):\n",
    "                if arr[i] > counter[chr(97+i)]:\n",
    "                    flag = False\n",
    "                    break\n",
    "            if flag:\n",
    "                ans.append(string)\n",
    "        \n",
    "        return ans\n",
    "                \n",
    "A = [\"amazon\",\"apple\",\"facebook\",\"google\",\"leetcode\"]; B = [\"ec\",\"oc\",\"ceo\"]\n",
    "Solution().wordSubsets(A, B)"
   ]
  },
  {
   "cell_type": "markdown",
   "metadata": {},
   "source": [
    "### Can Make Palindrome from Substring\n",
    "\n",
    "Given a string s, we make queries on substrings of s.\n",
    "\n",
    "For each query queries[i] = [left, right, k], we may rearrange the substring s[left], ..., s[right], and then choose up to k of them to replace with any lowercase English letter. \n",
    "\n",
    "If the substring is possible to be a palindrome string after the operations above, the result of the query is true. Otherwise, the result is false.\n",
    "\n",
    "Return an array answer[], where answer[i] is the result of the i-th query queries[i].\n",
    "\n",
    "Note that: Each letter is counted individually for replacement so if for example s[left..right] = \"aaa\", and k = 2, we can only replace two of the letters.  (Also, note that the initial string s is never modified by any query.)\n",
    "\n",
    " "
   ]
  },
  {
   "cell_type": "code",
   "execution_count": 14,
   "metadata": {},
   "outputs": [
    {
     "data": {
      "text/plain": [
       "[True, False, False, True, True]"
      ]
     },
     "execution_count": 14,
     "metadata": {},
     "output_type": "execute_result"
    }
   ],
   "source": [
    "class Solution:\n",
    "    def canMakePaliQueries(self, s: str, queries):\n",
    "        arr = [0]*26\n",
    "        arr[ord(s[0])-97]+=1\n",
    "        dp = []\n",
    "        dp.append(arr)\n",
    "        for i, ch in enumerate(s[1:]):\n",
    "            arr = dp[-1][:]\n",
    "            arr[(ord(ch))-97] += 1\n",
    "            dp.append(arr)\n",
    "        \n",
    "        ans = []\n",
    "        for left, right, k in queries:\n",
    "            arr1 = dp[right]\n",
    "            arr2 = dp[left-1] if left >= 1 else None\n",
    "            \n",
    "            num_odd = 0\n",
    "            for i in range(len(arr1)):\n",
    "                freq = arr1[i] - (arr2[i] if arr2 else 0)\n",
    "                num_odd += freq & 1\n",
    "            if num_odd // 2 <= k:\n",
    "                ans.append(True)\n",
    "            else:\n",
    "                ans.append(False)\n",
    "        return ans\n",
    "        \n",
    "s = \"abcda\"; queries = [[3,3,0],[1,2,0],[0,3,1],[0,3,2],[0,4,1]]        \n",
    "Solution().canMakePaliQueries(s, queries)"
   ]
  },
  {
   "cell_type": "markdown",
   "metadata": {},
   "source": [
    "### Largest 1-Bordered Square\n",
    "\n",
    "Given a 2D grid of 0s and 1s, return the number of elements in the largest square subgrid that has all 1s on its border, or 0 if such a subgrid doesn't exist in the grid."
   ]
  },
  {
   "cell_type": "code",
   "execution_count": 21,
   "metadata": {},
   "outputs": [
    {
     "data": {
      "text/plain": [
       "9"
      ]
     },
     "execution_count": 21,
     "metadata": {},
     "output_type": "execute_result"
    }
   ],
   "source": [
    "from collections import defaultdict\n",
    "class Solution:\n",
    "    def largest1BorderedSquare(self, grid) -> int:\n",
    "        top = defaultdict(int)\n",
    "        left = defaultdict(int)\n",
    "        ans = 0\n",
    "        for i in range(len(grid)):\n",
    "            for j in range(len(grid[0])):\n",
    "                if grid[i][j]:\n",
    "                    top[(i,j)] = 1 + (top[(i-1, j)] if i>=1 else 0)\n",
    "                    left[(i,j)] = 1 + (left[(i,j-1)] if j>=1 else 0)\n",
    "                    min_length = min(top[(i,j)], left[(i,j)])\n",
    "                    if min_length**2 > ans:\n",
    "                        while True:\n",
    "                            x, y = i-min_length+1, j\n",
    "                            m, n = i, j-min_length+1\n",
    "                            if left[(x,y)] >= min_length and top[(m,n)] >= min_length:\n",
    "                                break\n",
    "                            min_length -= 1\n",
    "                        ans = max(ans, min_length**2)\n",
    "        \n",
    "        return ans\n",
    "\n",
    "grid = [[1,1,1],[1,0,1],[1,1,1]]\n",
    "Solution().largest1BorderedSquare(grid)"
   ]
  },
  {
   "cell_type": "markdown",
   "metadata": {},
   "source": [
    "### Design a File Sharing System\n",
    "\n",
    "We will use a file-sharing system to share a very large file which consists of m small chunks with IDs from 1 to m.\n",
    "\n",
    "When users join the system, the system should assign a unique ID to them. The unique ID should be used once for each user, but when a user leaves the system, the ID can be reused again.\n",
    "\n",
    "Users can request a certain chunk of the file, the system should return a list of IDs of all the users who own this chunk. If the user receive a non-empty list of IDs, they receive the requested chunk successfully.\n",
    "\n",
    "\n",
    "Implement the FileSharing class:\n",
    "\n",
    "* FileSharing(int m) Initializes the object with a file of m chunks.\n",
    "* int join(int[] ownedChunks): A new user joined the system owning some chunks of the file, the system should assign an id to the user which is the smallest positive integer not taken by any other user. Return the assigned id.\n",
    "* void leave(int userID): The user with userID will leave the system, you cannot take file chunks from them anymore.\n",
    "* int[] request(int userID, int chunkID): The user userID requested the file chunk with chunkID. Return a list of the IDs of all users that own this chunk sorted in ascending order.\n",
    " "
   ]
  },
  {
   "cell_type": "code",
   "execution_count": 23,
   "metadata": {},
   "outputs": [],
   "source": [
    "class FileSharing:\n",
    "\n",
    "    def __init__(self, m: int):\n",
    "        self.available_ids = []\n",
    "        self.chunks_owned = {}\n",
    "        self.curr_id = 1\n",
    "        heapify(self.available_ids)\n",
    "        \n",
    "\n",
    "    def join(self, ownedChunks) -> int:\n",
    "        if len(self.available_ids) == 0:\n",
    "            userID = self.curr_id\n",
    "            self.curr_id += 1\n",
    "        else:\n",
    "            userID = heappop(self.available_ids)\n",
    "        self.chunks_owned[userID] = set()\n",
    "        for chunk in ownedChunks:\n",
    "            self.chunks_owned[userID].add(chunk)\n",
    "        return userID\n",
    "        \n",
    "    def leave(self, userID: int) -> None:\n",
    "        del self.chunks_owned[userID]\n",
    "        heappush(self.available_ids, userID)\n",
    "        \n",
    "    def request(self, userID: int, chunkID: int):\n",
    "        user_list = []\n",
    "        for user, chunkset in self.chunks_owned.items():\n",
    "            if chunkID in chunkset:\n",
    "                user_list.append(user)\n",
    "        \n",
    "        if user_list:\n",
    "            self.chunks_owned[userID].add(chunkID)\n",
    "        return sorted(user_list)\n"
   ]
  },
  {
   "cell_type": "markdown",
   "metadata": {},
   "source": [
    "### Invalid Transactions\n",
    "\n",
    "A transaction is possibly invalid if:\n",
    "\n",
    "* the amount exceeds $1000\n",
    "* if it occurs within (and including) 60 minutes of another transaction with the same name in a different city.\n",
    "Each transaction string transactions[i] consists of comma separated values representing the name, time (in minutes), amount, and city of the transaction.\n",
    "\n",
    "Given a list of transactions, return a list of transactions that are possibly invalid.  You may return the answer in any order."
   ]
  },
  {
   "cell_type": "code",
   "execution_count": 25,
   "metadata": {},
   "outputs": [
    {
     "data": {
      "text/plain": [
       "['alice,20,800,mtv', 'alice,50,100,beijing']"
      ]
     },
     "execution_count": 25,
     "metadata": {},
     "output_type": "execute_result"
    }
   ],
   "source": [
    "class Solution:\n",
    "    def invalidTransactions(self, transactions):\n",
    "        t_list = []; index = set(); hm = defaultdict(list)\n",
    "        for i in range(len(transactions)):\n",
    "            name, time, amount, city = transactions[i].split(',')\n",
    "            t = Transaction(name, int(time), int(amount), city, i)\n",
    "            hm[name].append(t)\n",
    "        \n",
    "        for name, t_list in hm.items():\n",
    "            for t in t_list:\n",
    "                if t.amount > 1000:\n",
    "                    index.add(t.index)\n",
    "                for new_t in t_list:\n",
    "                    if t.city != new_t.city and abs(new_t.time - t.time) <= 60:\n",
    "                        index.add(t.index)\n",
    "                        index.add(new_t.index)\n",
    "        \n",
    "        return [transactions[i] for i in index]\n",
    "            \n",
    "class Transaction:\n",
    "    def __init__(self, name, time, amount, city, index):\n",
    "        self.name = name\n",
    "        self.time = time\n",
    "        self.amount = amount\n",
    "        self.city = city\n",
    "        self.index = index\n",
    "\n",
    "transactions = [\"alice,20,800,mtv\",\"alice,50,100,beijing\"]\n",
    "Solution().invalidTransactions(transactions)"
   ]
  },
  {
   "cell_type": "markdown",
   "metadata": {},
   "source": [
    "### Design Underground System\n",
    "\n",
    "Implement the class UndergroundSystem that supports three methods:\n",
    "\n",
    "1. checkIn(int id, string stationName, int t)\n",
    "A customer with id card equal to id, gets in the station stationName at time t.\n",
    "A customer can only be checked into one place at a time.\n",
    "\n",
    "2. checkOut(int id, string stationName, int t)\n",
    "A customer with id card equal to id, gets out from the station stationName at time t.\n",
    "\n",
    "3. getAverageTime(string startStation, string endStation) \n",
    "Returns the average time to travel between the startStation and the endStation.\n",
    "The average time is computed from all the previous traveling from startStation to endStation that happened directly.\n",
    "\n",
    "Call to getAverageTime is always valid.\n",
    "You can assume all calls to checkIn and checkOut methods are consistent. That is, if a customer gets in at time t1 at some station, then it gets out at time t2 with t2 > t1. All events happen in chronological order."
   ]
  },
  {
   "cell_type": "code",
   "execution_count": 29,
   "metadata": {},
   "outputs": [],
   "source": [
    "class UndergroundSystem:\n",
    "\n",
    "    def __init__(self):\n",
    "        self.avg = {}\n",
    "        self.check_in = {}\n",
    "\n",
    "    def checkIn(self, id: int, stationName: str, t: int) -> None:\n",
    "        self.check_in[id] = (stationName, t)\n",
    "\n",
    "    def checkOut(self, id: int, stationName: str, t: int) -> None:\n",
    "        station_in, t_in = self.check_in[id]\n",
    "        station_out, t_out = stationName, t\n",
    "        del self.check_in[id]\n",
    "        if (station_in, station_out) not in self.avg:\n",
    "            self.avg[(station_in, station_out)] = ((t_out-t_in), 1)\n",
    "        else:\n",
    "            prev_avg, prev_count = self.avg[(station_in, station_out)]\n",
    "            new_avg = (prev_avg*prev_count + (t_out-t_in)) / (prev_count+1)\n",
    "            new_count = prev_count+1\n",
    "            self.avg[(station_in, station_out)] = (new_avg, new_count)\n",
    "        \n",
    "\n",
    "    def getAverageTime(self, startStation: str, endStation: str) -> float:\n",
    "        return self.avg[(startStation, endStation)][0]"
   ]
  },
  {
   "cell_type": "markdown",
   "metadata": {},
   "source": [
    "### Hand of Straights\n",
    "\n",
    "Alice has a hand of cards, given as an array of integers.\n",
    "\n",
    "Now she wants to rearrange the cards into groups so that each group is size W, and consists of W consecutive cards.\n",
    "\n",
    "Return true if and only if she can.\n",
    "\n",
    "**Same Question: 1296. Divide Array in Sets of K Consecutive Numbers**"
   ]
  },
  {
   "cell_type": "code",
   "execution_count": 33,
   "metadata": {},
   "outputs": [
    {
     "data": {
      "text/plain": [
       "(True, [[1, 2, 3], [2, 3, 4], [6, 7, 8]])"
      ]
     },
     "execution_count": 33,
     "metadata": {},
     "output_type": "execute_result"
    }
   ],
   "source": [
    "from collections import Counter\n",
    "def isNStraightHand(hand, W: int) -> bool:\n",
    "    counter = Counter(hand)\n",
    "    hand.sort()\n",
    "    i = 0\n",
    "    res = []\n",
    "    while i < len(hand):\n",
    "        start = hand[i]\n",
    "        arr = []\n",
    "        for _ in range(W):\n",
    "            if start not in counter:\n",
    "                return False\n",
    "            arr.append(start)\n",
    "            counter[start] -= 1\n",
    "            if counter[start] == 0:\n",
    "                del counter[start]\n",
    "            start += 1\n",
    "        res.append(arr)\n",
    "        while i < len(hand) and hand[i] not in counter:\n",
    "            i += 1\n",
    "    return True, res\n",
    "\n",
    "hand = [1,2,3,6,2,3,4,7,8]; W = 3\n",
    "isNStraightHand(hand, W)"
   ]
  },
  {
   "cell_type": "markdown",
   "metadata": {},
   "source": [
    "### Split Array into Consecutive Subsequences\n",
    "\n",
    "Given an array nums sorted in ascending order, return true if and only if you can split it into 1 or more subsequences such that each subsequence consists of consecutive integers and has length at least 3."
   ]
  },
  {
   "cell_type": "code",
   "execution_count": 36,
   "metadata": {},
   "outputs": [
    {
     "data": {
      "text/plain": [
       "True"
      ]
     },
     "execution_count": 36,
     "metadata": {},
     "output_type": "execute_result"
    }
   ],
   "source": [
    "from collections import Counter\n",
    "def isPossible(nums) -> bool:\n",
    "    counter = Counter(nums)\n",
    "    tails = Counter()\n",
    "    for x in nums:\n",
    "        if counter[x] == 0:\n",
    "            continue\n",
    "        if tails[x-1] > 0:\n",
    "            tails[x-1] -= 1\n",
    "            tails[x] += 1\n",
    "        elif counter[x+1] > 0 and counter[x+2] > 0:\n",
    "            counter[x+1] -= 1\n",
    "            counter[x+2] -= 1\n",
    "            tails[x+2] += 1\n",
    "        else:\n",
    "            return False\n",
    "        counter[x] -=  1\n",
    "    return True\n",
    "\n",
    "isPossible([1,2,3,3,4,4,5,5])"
   ]
  }
 ],
 "metadata": {
  "kernelspec": {
   "display_name": "Python 3",
   "language": "python",
   "name": "python3"
  },
  "language_info": {
   "codemirror_mode": {
    "name": "ipython",
    "version": 3
   },
   "file_extension": ".py",
   "mimetype": "text/x-python",
   "name": "python",
   "nbconvert_exporter": "python",
   "pygments_lexer": "ipython3",
   "version": "3.6.8"
  }
 },
 "nbformat": 4,
 "nbformat_minor": 2
}
