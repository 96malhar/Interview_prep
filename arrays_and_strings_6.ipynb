{
 "cells": [
  {
   "cell_type": "markdown",
   "metadata": {},
   "source": [
    "### Maximum sum rectangle in a 2D matrix\n",
    "https://www.geeksforgeeks.org/maximum-sum-rectangle-in-a-2d-matrix-dp-27/"
   ]
  },
  {
   "cell_type": "code",
   "execution_count": 3,
   "metadata": {},
   "outputs": [
    {
     "data": {
      "text/plain": [
       "(29, (1, 1), (3, 3))"
      ]
     },
     "execution_count": 3,
     "metadata": {},
     "output_type": "execute_result"
    }
   ],
   "source": [
    "class Solution:\n",
    "    def max_sum_rectangle(self, matrix):\n",
    "        dp = [[0]*len(matrix[0]) for _ in range(len(matrix))]\n",
    "        for i in range(len(matrix)):\n",
    "            for j in range(len(matrix[0])):\n",
    "                up = dp[i-1][j] if i>=1 else 0\n",
    "                left = dp[i][j-1] if j>=1 else 0\n",
    "                up_left = dp[i-1][j-1] if i>=1 and j>=1 else 0\n",
    "                dp[i][j] = matrix[i][j] + up + left - up_left\n",
    "\n",
    "        res = -float('inf')\n",
    "        for r1 in range(len(matrix)):\n",
    "            for r2 in range(r1, len(matrix)):\n",
    "                prev = dp[r2][0] - (dp[r1-1][0] if r1>=1 else 0)\n",
    "                arr = [prev]\n",
    "                for c in range(1, len(matrix[0])):\n",
    "                    presum = dp[r2][c] - (dp[r1-1][c] if r1>=1 else 0)\n",
    "                    elem = presum - prev\n",
    "                    arr.append(elem)\n",
    "                    prev = presum\n",
    "\n",
    "                maxsum, c1, c2 = self.kadane(arr)\n",
    "                if maxsum > res:\n",
    "                    res = maxsum\n",
    "                    topleft = r1, c1\n",
    "                    bottomright = r2, c2\n",
    "\n",
    "        return res, topleft, bottomright\n",
    "\n",
    "    def kadane(self, arr):\n",
    "        maxsum = arr[0]\n",
    "        for i in range(1, len(arr)):\n",
    "            arr[i] = max(arr[i], arr[i]+arr[i-1])\n",
    "            maxsum = max(maxsum, arr[i])\n",
    "\n",
    "        index = arr.index(maxsum)\n",
    "        if maxsum <= 0:\n",
    "            return maxsum, index, index\n",
    "        i = index\n",
    "        while i>=0 and arr[i] > 0:\n",
    "            i -= 1\n",
    "        return maxsum, i+1, index\n",
    "                \n",
    "m = [[1, 2, -1, -4, -20], \n",
    "     [-8, -3, 4, 2, 1],  \n",
    "     [3, 8, 10, 1, 3],  \n",
    "     [-4, -1, 1, 7, -6]]  \n",
    "\n",
    "Solution().max_sum_rectangle(m)"
   ]
  }
 ],
 "metadata": {
  "kernelspec": {
   "display_name": "Python 3",
   "language": "python",
   "name": "python3"
  },
  "language_info": {
   "codemirror_mode": {
    "name": "ipython",
    "version": 3
   },
   "file_extension": ".py",
   "mimetype": "text/x-python",
   "name": "python",
   "nbconvert_exporter": "python",
   "pygments_lexer": "ipython3",
   "version": "3.6.8"
  }
 },
 "nbformat": 4,
 "nbformat_minor": 2
}
