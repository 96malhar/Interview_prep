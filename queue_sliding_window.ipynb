{
 "cells": [
  {
   "cell_type": "markdown",
   "metadata": {},
   "source": [
    "## Intro"
   ]
  },
  {
   "cell_type": "markdown",
   "metadata": {},
   "source": [
    "### Implement a Queue using an array"
   ]
  },
  {
   "cell_type": "code",
   "execution_count": 1,
   "metadata": {},
   "outputs": [],
   "source": [
    "class Queue:\n",
    "    \n",
    "    def __init__(self, size):\n",
    "        self.a = [None]*size\n",
    "        self.length = 0\n",
    "        self.front = 0\n",
    "        self.back = 0\n",
    "        self.size = size\n",
    "        \n",
    "    def enqueue(self, n):\n",
    "        if self.length == self.size:\n",
    "            print('Queue is full')\n",
    "            return\n",
    "        self.a[self.back] = n\n",
    "        self.back = (self.back + 1) % self.size\n",
    "        self.length += 1\n",
    "    \n",
    "    def dequeue(self):\n",
    "        if self.length == 0:\n",
    "            print('Queue is empty')\n",
    "            return\n",
    "        result = self.a[self.front]\n",
    "        self.a[self.front] = None\n",
    "        self.front = (self.front + 1) % self.size\n",
    "        self.length -= 1\n",
    "        return result"
   ]
  },
  {
   "cell_type": "markdown",
   "metadata": {},
   "source": [
    "## Sliding Window"
   ]
  },
  {
   "cell_type": "markdown",
   "metadata": {},
   "source": [
    "### Sliding Windows: Given an array of integers A, find the sum of sliding windows of size N. For example: if A = [2,3,5,6,2,1]\n",
    "\n",
    "Sliding Window Sums: \n",
    "* [**2,3,5**,6,2,1] => 10 \n",
    "* [2,**3,5,6**,2,1] => 14\n",
    "* [2,3,**5,6,2**,1] => 13\n",
    "* [2,3,5,**6,2,1**] => 9"
   ]
  },
  {
   "cell_type": "code",
   "execution_count": 2,
   "metadata": {},
   "outputs": [
    {
     "data": {
      "text/plain": [
       "[16, 16, 14]"
      ]
     },
     "execution_count": 2,
     "metadata": {},
     "output_type": "execute_result"
    }
   ],
   "source": [
    "# Using a queue\n",
    "def sliding_window_sum(a,k):\n",
    "    q = []\n",
    "    result = []\n",
    "    sum = 0\n",
    "    for num in a:\n",
    "        q.append(num)\n",
    "        sum += num\n",
    "        if len(q)==k:\n",
    "            result.append(sum)\n",
    "            sum -= q.pop(0)\n",
    "    return result\n",
    "            \n",
    "a = [2,3,5,6,2,1]\n",
    "k = 4\n",
    "sliding_window_sum(a,k)"
   ]
  },
  {
   "cell_type": "code",
   "execution_count": 6,
   "metadata": {},
   "outputs": [
    {
     "data": {
      "text/plain": [
       "[10, 14, 13, 9]"
      ]
     },
     "execution_count": 6,
     "metadata": {},
     "output_type": "execute_result"
    }
   ],
   "source": [
    "# Using 2 pointers\n",
    "def sliding_window_sum(a,k):\n",
    "    start = 0; result = []; total = 0\n",
    "    for end in range(len(a)):\n",
    "        total += a[end]\n",
    "        if end - start + 1 == k:\n",
    "            result.append(total)\n",
    "            total -= a[start]\n",
    "            start += 1\n",
    "    return result\n",
    "    \n",
    "a = [2,3,5,6,2,1]\n",
    "k = 3\n",
    "sliding_window_sum(a,k)"
   ]
  },
  {
   "cell_type": "markdown",
   "metadata": {},
   "source": [
    "### Moving Averages\n",
    "Given a stream of integers and a window size, calculate the moving average of all integers in the sliding window.\n",
    "\n",
    "Example:\n",
    "\n",
    "* MovingAverage m = new MovingAverage(3);\n",
    "* m.next(1) = 1\n",
    "* m.next(10) = (1 + 10) / 2\n",
    "* m.next(3) = (1 + 10 + 3) / 3\n",
    "* m.next(5) = (10 + 3 + 5) / 3"
   ]
  },
  {
   "cell_type": "code",
   "execution_count": 4,
   "metadata": {},
   "outputs": [],
   "source": [
    "class MovingAverage:\n",
    "    def __init__(self, size: int):\n",
    "        \"\"\"\n",
    "        Initialize your data structure here.\n",
    "        \"\"\"\n",
    "        from collections import deque\n",
    "        self.queue = deque()\n",
    "        self.size = size\n",
    "        self.sum = 0\n",
    "        \n",
    "    def next(self, val: int) -> float:\n",
    "        if len(self.queue) == self.size:\n",
    "            self.sum -= self.queue.popleft()\n",
    "        self.queue.append(val)\n",
    "        self.sum += val\n",
    "        return self.sum/len(self.queue)"
   ]
  },
  {
   "cell_type": "markdown",
   "metadata": {},
   "source": [
    "### Stock Prices\n",
    "You  are  given  stock  prices  and  the  corresponding  day  of  each  stock  price. \n",
    "* For  example:(32,  1),  (45,  1),  (37,2),  (42,3)..\n",
    "* Here  32  is  the  price  and  1  is  the  day  of  the  price.\n",
    "* Say  you  are  given  these  prices  as  an  input  stream.  You  should  provide  a  function  forthe  user  to  input  a  stock  price  and  day. \n",
    "* Your  system  should  be  able  to  tell the  maximum  stock  price  in  the  last  3  days."
   ]
  },
  {
   "cell_type": "code",
   "execution_count": 4,
   "metadata": {},
   "outputs": [],
   "source": [
    "class Price:\n",
    "    def __init__(self,price,day):\n",
    "        self.price = price\n",
    "        self.day = day\n",
    "        \n",
    "class price_with_time:\n",
    "    \n",
    "    def __init__(self, window):\n",
    "        self.window = window\n",
    "        self.q = []\n",
    "    \n",
    "    def add_price(self, price, day):\n",
    "        while len(self.q) and self.q[0].day < day - self.window + 1:\n",
    "            self.q.pop(0)\n",
    "        node = Price(price, day)\n",
    "        self.q.append(node)\n",
    "    \n",
    "    def get_max(self):\n",
    "        max = None\n",
    "        for node in self.q:\n",
    "            if max is None or node.price > max:\n",
    "                max = node.price\n",
    "        return max   "
   ]
  },
  {
   "cell_type": "code",
   "execution_count": 5,
   "metadata": {},
   "outputs": [
    {
     "data": {
      "text/plain": [
       "42"
      ]
     },
     "execution_count": 5,
     "metadata": {},
     "output_type": "execute_result"
    }
   ],
   "source": [
    "stock_market = price_with_time(3)\n",
    "stock_market.add_price(32,1)\n",
    "stock_market.add_price(45,1)\n",
    "stock_market.add_price(37,2)\n",
    "stock_market.add_price(42,3)\n",
    "stock_market.add_price(39,4)\n",
    "stock_market.get_max()"
   ]
  },
  {
   "cell_type": "markdown",
   "metadata": {},
   "source": [
    "## Queue with Max and Min in O(1)"
   ]
  },
  {
   "cell_type": "code",
   "execution_count": 6,
   "metadata": {},
   "outputs": [],
   "source": [
    "class QueueWithMax:\n",
    "    \n",
    "    def __init__(self):\n",
    "        self.q = []\n",
    "        self.max = []\n",
    "        self.min = []\n",
    "    \n",
    "    def enqueue(self,n):\n",
    "        self.q.append(n)\n",
    "        while len(self.max) and self.max[-1] < n:\n",
    "            self.max.pop()\n",
    "        while len(self.min) and self.min[-1] > n:\n",
    "            self.min.pop()\n",
    "        self.max.append(n)\n",
    "        self.min.append(n)\n",
    "    \n",
    "    def dequeue(self):\n",
    "        if len(self.q) == 0:\n",
    "            print('Queue is empty')\n",
    "            return\n",
    "        item = self.q.pop(0)\n",
    "        if item == self.max[0]:\n",
    "            self.max.pop(0)\n",
    "        if item == self.min[0]:\n",
    "            self.min.pop(0)\n",
    "        return item\n",
    "    \n",
    "    def get_max(self):\n",
    "        if len(self.max):\n",
    "            return self.max[0]\n",
    "        print('Queue is Empty')\n",
    "        return\n",
    "    \n",
    "    def get_min(self):\n",
    "        if len(self.min):\n",
    "            return self.min[0]\n",
    "        print('Queue is Empty')\n",
    "        return"
   ]
  },
  {
   "cell_type": "markdown",
   "metadata": {},
   "source": [
    "### Sliding Window Maximum: \n",
    "Given an array A and an integer K, find the maximum element in each sliding window of size K. For example:\n",
    "\n",
    "A = [4,6,5,2,4,7] and K = 3, windows are as follows:\n",
    "\n",
    "* [4,6,5,2,4,7] : Max = 6\n",
    "* [4,6,5,2,4,7] : Max = 6 \n",
    "* [4,6,5,2,4,7] : Max = 5 \n",
    "* [4,6,5,2,4,7] : Max = 7"
   ]
  },
  {
   "cell_type": "code",
   "execution_count": 3,
   "metadata": {},
   "outputs": [
    {
     "data": {
      "text/plain": [
       "[78, 90, 90, 90, 89]"
      ]
     },
     "execution_count": 3,
     "metadata": {},
     "output_type": "execute_result"
    }
   ],
   "source": [
    "from collections import deque\n",
    "def max_sliding_window(nums,k):\n",
    "    queue = deque()\n",
    "    ans = []\n",
    "    left = 0\n",
    "    for right in range(len(nums)):\n",
    "        while queue and queue[-1] < nums[right]:\n",
    "            queue.pop()\n",
    "        queue.append(nums[right])\n",
    "\n",
    "        if right - left + 1 == k:\n",
    "            ans.append(queue[0])\n",
    "            if nums[left] == queue[0]:\n",
    "                queue.popleft()\n",
    "            left += 1\n",
    "    return ans\n",
    "\n",
    "max_sliding_window([12, 1, 78, 90, 57, 89, 56], 3)        "
   ]
  },
  {
   "cell_type": "markdown",
   "metadata": {},
   "source": [
    "## LeetCode problems"
   ]
  },
  {
   "cell_type": "markdown",
   "metadata": {},
   "source": [
    "### Minimum Window Substring\n",
    "Given a string S and a string T, find the minimum window in S which will contain all the characters in T in complexity O(n).\n",
    "* Input: S = \"ADOBECODEBANC\", T = \"ABC\"\n",
    "* Output: \"BANC\""
   ]
  },
  {
   "cell_type": "code",
   "execution_count": 18,
   "metadata": {},
   "outputs": [],
   "source": [
    "def minWindow(s,t):\n",
    "    from collections import Counter\n",
    "    ans = float('inf'),None, None\n",
    "    target_freq = Counter(t)\n",
    "    window_freq = Counter()\n",
    "    left = 0\n",
    "    formed = 0\n",
    "    required = len(target_freq)\n",
    "    \n",
    "    for right, char in enumerate(s):\n",
    "        window_freq[char]+=1\n",
    "        if window_freq[char] == target_freq[char]:\n",
    "            formed += 1\n",
    "        while left <= right and formed == required:\n",
    "            if right-left+1 < ans[0]:\n",
    "                ans = (right-left+1, left, right)\n",
    "            char = s[left]\n",
    "            if window_freq[char] == target_freq[char]:\n",
    "                formed -= 1\n",
    "            window_freq[char] -= 1\n",
    "            left += 1\n",
    "    return '' if ans[0] == float('inf') else s[ans[1]:ans[2]+1]"
   ]
  },
  {
   "cell_type": "code",
   "execution_count": 22,
   "metadata": {},
   "outputs": [
    {
     "data": {
      "text/plain": [
       "'BANC'"
      ]
     },
     "execution_count": 22,
     "metadata": {},
     "output_type": "execute_result"
    }
   ],
   "source": [
    "minWindow('ADOBECODEBANC', 'ABC')"
   ]
  },
  {
   "cell_type": "markdown",
   "metadata": {},
   "source": [
    "### Count Number of Substrings that contain A, B and C"
   ]
  },
  {
   "cell_type": "code",
   "execution_count": 1,
   "metadata": {},
   "outputs": [
    {
     "data": {
      "text/plain": [
       "10"
      ]
     },
     "execution_count": 1,
     "metadata": {},
     "output_type": "execute_result"
    }
   ],
   "source": [
    "def count_substr(s):\n",
    "    from collections import Counter\n",
    "    counter = Counter(); start = 0; formed = False; ans = 0\n",
    "    for end in range(len(s)):\n",
    "        counter[s[end]] += 1\n",
    "        if 'A' in counter and 'B' in counter and 'C' in counter:\n",
    "            formed = True\n",
    "        while start <= end and formed:\n",
    "            ans += len(s) - end\n",
    "            counter[s[start]] -= 1\n",
    "            if counter[s[start]] == 0:\n",
    "                del counter[s[start]]\n",
    "            if 'A' not in counter or 'B' not in counter or 'C' not in counter:\n",
    "                formed = False\n",
    "            start += 1\n",
    "    return ans\n",
    "\n",
    "count_substr('ABCABC')"
   ]
  },
  {
   "cell_type": "markdown",
   "metadata": {},
   "source": [
    "### Minimum Window Subsequence\n",
    "* Input: S = \"abcdebdde\", T = \"bde\"\n",
    "* Output: \"bcde\""
   ]
  },
  {
   "cell_type": "code",
   "execution_count": 10,
   "metadata": {},
   "outputs": [
    {
     "data": {
      "text/plain": [
       "'cdebd'"
      ]
     },
     "execution_count": 10,
     "metadata": {},
     "output_type": "execute_result"
    }
   ],
   "source": [
    "def minSubsSeq(a, b):\n",
    "    result = float('inf'), None, None\n",
    "    for i in range(len(a)-len(b)+1):\n",
    "        pos = 0\n",
    "        if a[i] == b[pos]:\n",
    "            for j in range(i,len(a)):\n",
    "                if a[j] == b[pos]:\n",
    "                    pos += 1\n",
    "                if pos == len(b):\n",
    "                    break\n",
    "            if pos == len(b):\n",
    "                if j-i+1 < result[0]:\n",
    "                        result = j-i+1, i, j\n",
    "#     return result[0]\n",
    "    return a[result[1]:result[2]+1] if result[0]!=float('inf') else''\n",
    "a = \"abcdebdde\"\n",
    "b = \"cbd\"\n",
    "minSubsSeq(a,b)"
   ]
  },
  {
   "cell_type": "markdown",
   "metadata": {},
   "source": [
    "### Permutations in a String\n",
    "Given two strings s1 and s2, write a function to return true if s2 contains the permutation of s1. In other words, one of the first string's permutations is the substring of the second string.\n",
    "* Input: s1 = \"ab\" s2 = \"eidbaooo\"\n",
    "* Output: True\n",
    "* Explanation: s2 contains one permutation of s1 (\"ba\")."
   ]
  },
  {
   "cell_type": "code",
   "execution_count": 11,
   "metadata": {},
   "outputs": [],
   "source": [
    "def checkInclusion(s1, s2):\n",
    "    if len(s1) > len(s2):\n",
    "        return False\n",
    "    from collections import Counter\n",
    "    freq, window_freq = Counter(s1), Counter(); formed = 0; required = len(freq); left = 0\n",
    "    for right, char in enumerate(s2):\n",
    "        window_freq[char]+=1\n",
    "        if window_freq[char] == freq[char]:\n",
    "            formed+=1\n",
    "        if right -left +1 == len(s1):\n",
    "            if formed == required:\n",
    "                return True\n",
    "            if freq[s2[left]] == window_freq[s2[left]]:\n",
    "                formed -=1\n",
    "            window_freq[s2[left]] -= 1\n",
    "            left += 1\n",
    "    return False"
   ]
  },
  {
   "cell_type": "code",
   "execution_count": 12,
   "metadata": {},
   "outputs": [
    {
     "data": {
      "text/plain": [
       "True"
      ]
     },
     "execution_count": 12,
     "metadata": {},
     "output_type": "execute_result"
    }
   ],
   "source": [
    "s1 = \"ab\"\n",
    "s2 = \"eidbaooo\"\n",
    "checkInclusion(s1,s2)"
   ]
  },
  {
   "cell_type": "markdown",
   "metadata": {},
   "source": [
    "### Find all Anagrams in a string\n",
    "Given a string s and a non-empty string p, find all the start indices of p's anagrams in s.\n",
    "* Input: s: \"cbaebabacd\" p: \"abc\"\n",
    "\n",
    "* Output: [0, 6]"
   ]
  },
  {
   "cell_type": "code",
   "execution_count": 13,
   "metadata": {},
   "outputs": [],
   "source": [
    " def findAnagrams(s, p):\n",
    "    from collections import Counter\n",
    "    freq = Counter(p); window_freq = Counter(); required = len(freq); formed = 0; ans = []; left = 0\n",
    "    for right, char in enumerate(s):\n",
    "        window_freq[char] += 1\n",
    "        if window_freq[char] == freq[char]:\n",
    "            formed+=1\n",
    "        if right- left + 1 == len(p):\n",
    "            if formed == required:\n",
    "                ans.append(left)\n",
    "            if window_freq[s[left]] == freq[s[left]]:\n",
    "                formed -=1\n",
    "            window_freq[s[left]] -= 1\n",
    "            left += 1        \n",
    "            \n",
    "    return ans"
   ]
  },
  {
   "cell_type": "code",
   "execution_count": 14,
   "metadata": {},
   "outputs": [
    {
     "data": {
      "text/plain": [
       "[0, 1, 2]"
      ]
     },
     "execution_count": 14,
     "metadata": {},
     "output_type": "execute_result"
    }
   ],
   "source": [
    "s = \"abab\"\n",
    "p = \"ab\"\n",
    "findAnagrams(s,p)"
   ]
  },
  {
   "cell_type": "markdown",
   "metadata": {},
   "source": [
    "### Substring with Concatenation of All Words\n",
    "You are given a string, s, and a list of words, words, that are all of the same length. Find all starting indices of substring(s) in s that is a concatenation of each word in words exactly once and without any intervening characters.\n",
    "* s = \"barfoothefoobarman\",\n",
    "* words = [\"foo\",\"bar\"]\n",
    "* Output: [0,9]\n",
    "* Explanation: Substrings starting at index 0 and 9 are \"barfoor\" and \"foobar\" respectively."
   ]
  },
  {
   "cell_type": "code",
   "execution_count": 4,
   "metadata": {},
   "outputs": [
    {
     "data": {
      "text/plain": [
       "[0, 3]"
      ]
     },
     "execution_count": 4,
     "metadata": {},
     "output_type": "execute_result"
    }
   ],
   "source": [
    "def findSubstring(s, words):\n",
    "    if not s or not words:\n",
    "        return []\n",
    "    from collections import Counter\n",
    "    wordBag = Counter(words)   # count the freq of each word\n",
    "    wordLen, numWords = len(words[0]), len(words)\n",
    "    totalLen, res = wordLen*numWords, []\n",
    "    required = len(wordBag)\n",
    "    for i in range(len(s)-totalLen+1):   # scan through s\n",
    "        # For each i, determine if s[i:i+totalLen] is valid\n",
    "        seen = Counter(); formed = 0   # reset for each i\n",
    "        for j in range(i, i+totalLen, wordLen):\n",
    "            currWord = s[j:j+wordLen]\n",
    "            if currWord not in wordBag:\n",
    "                break\n",
    "            seen[currWord] += 1\n",
    "            if seen[currWord] > wordBag[currWord]:\n",
    "                break\n",
    "            if seen[currWord] == wordBag[currWord]:\n",
    "                formed += 1\n",
    "        if formed == required:\n",
    "            res.append(i)   # store result\n",
    "    return res\n",
    "\n",
    "String=\"catfoxcat\"; Words=[\"cat\", \"fox\"]\n",
    "findSubstring(String, Words)"
   ]
  },
  {
   "cell_type": "markdown",
   "metadata": {},
   "source": [
    "### Minimum Size Subarray Sum > = s\n",
    "Given an array of n positive integers and a positive integer s, find the minimal length of a contiguous subarray of which the sum ≥ s. If there isn't one, return 0 instead.\n",
    "* Input: s = 7, nums = [2,3,1,2,4,3]\n",
    "* Output: 2\n",
    "* Explanation: the subarray [4,3] has the minimal length under the problem constraint."
   ]
  },
  {
   "cell_type": "code",
   "execution_count": 10,
   "metadata": {},
   "outputs": [
    {
     "data": {
      "text/plain": [
       "2"
      ]
     },
     "execution_count": 10,
     "metadata": {},
     "output_type": "execute_result"
    }
   ],
   "source": [
    "def minsubarraylen(nums, s):\n",
    "    min_len = float('inf'); sum = 0; start = 0\n",
    "    for end in range(len(nums)):\n",
    "        sum += nums[end]\n",
    "        while sum>=s:\n",
    "            min_len = min(min_len, end-start+1)\n",
    "            sum -= nums[start]\n",
    "            start += 1 \n",
    "    return min_len if min_len!=float('inf') else 0\n",
    "minsubarraylen([2,3,1,2,4,3],7)"
   ]
  },
  {
   "cell_type": "markdown",
   "metadata": {},
   "source": [
    "### Shortest Subarray with Sum at Least K\n",
    "Return the length of the shortest, non-empty, contiguous subarray of A with sum at least K.\n",
    "\n",
    "If there is no non-empty subarray with sum at least K, return -1."
   ]
  },
  {
   "cell_type": "code",
   "execution_count": 2,
   "metadata": {},
   "outputs": [
    {
     "data": {
      "text/plain": [
       "3"
      ]
     },
     "execution_count": 2,
     "metadata": {},
     "output_type": "execute_result"
    }
   ],
   "source": [
    "from collections import deque\n",
    "def shortestSubarray(A, k: int) -> int:\n",
    "    p = [0]*(len(A)+1)\n",
    "    for i in range(1, len(p)):\n",
    "        p[i] = A[i-1] + p[i-1]\n",
    "\n",
    "    q = deque(); res = float('inf')\n",
    "    for i in range(len(p)):\n",
    "        while q and p[i] - p[q[0]] >= k:\n",
    "            res = min(res, i - q.popleft())\n",
    "        while q and p[i] <= p[q[-1]]:\n",
    "            q.pop()\n",
    "        q.append(i)\n",
    "\n",
    "    return res if res != float('inf') else -1\n",
    "\n",
    "A = [2,-1,2]; K = 3\n",
    "shortestSubarray(A, K)"
   ]
  },
  {
   "cell_type": "markdown",
   "metadata": {},
   "source": [
    "### Longest Substring Without Repeating Characters\n",
    "* Input: \"abcabcbb\"\n",
    "* Output: 3 \n",
    "* Explanation: The answer is \"abc\", with the length of 3. "
   ]
  },
  {
   "cell_type": "code",
   "execution_count": 12,
   "metadata": {},
   "outputs": [
    {
     "data": {
      "text/plain": [
       "4"
      ]
     },
     "execution_count": 12,
     "metadata": {},
     "output_type": "execute_result"
    }
   ],
   "source": [
    "def lengthOfLongestSubstring(s):\n",
    "    from collections import Counter\n",
    "    start = 0; maxlength = 1; count = Counter()\n",
    "\n",
    "    for end in range(len(s)):\n",
    "        count[s[end]] += 1\n",
    "        while count[s[end]]>1:\n",
    "            count[s[start]] -= 1\n",
    "            start+=1\n",
    "        maxlength = max(maxlength, end-start+1)\n",
    "    return maxlength\n",
    "\n",
    "lengthOfLongestSubstring('abcdbbc')"
   ]
  },
  {
   "cell_type": "markdown",
   "metadata": {},
   "source": [
    "### Given an array V and an integer k. V is filled with 0s and 1s wich represent non-working and working days respectively. Find the largest sub-array that contain at most k working days. Write a function that return the size of the previous sub-array. O(n) expected time complexity.\n",
    "\n",
    "Example 1:\n",
    "\n",
    "input \n",
    "V = [0,0,1,0,1,1,0,1] ; k = 2\n",
    "\n",
    "output 5 // start at index 0 and end at 4 -> [0,0,1,0,1]"
   ]
  },
  {
   "cell_type": "code",
   "execution_count": 17,
   "metadata": {},
   "outputs": [],
   "source": [
    "def workingDays(a,k):\n",
    "    left = 0; sum = 0\n",
    "    result = 0,-1,-1\n",
    "    for right in range(len(a)):\n",
    "        sum += a[right]\n",
    "        while sum>k:\n",
    "            sum -= a[left]\n",
    "            left += 1\n",
    "        if right-left+1 > result[0]:\n",
    "            result = right-left+1, left, right\n",
    "    return a[result[1]:result[2]+1]"
   ]
  },
  {
   "cell_type": "code",
   "execution_count": 18,
   "metadata": {},
   "outputs": [
    {
     "data": {
      "text/plain": [
       "[0, 0, 1, 0, 1, 1, 0]"
      ]
     },
     "execution_count": 18,
     "metadata": {},
     "output_type": "execute_result"
    }
   ],
   "source": [
    "workingDays([0,0,1,0,1,1,0,1] ,3)"
   ]
  },
  {
   "cell_type": "code",
   "execution_count": 19,
   "metadata": {},
   "outputs": [
    {
     "data": {
      "text/plain": [
       "[1, 1, 1, 0]"
      ]
     },
     "execution_count": 19,
     "metadata": {},
     "output_type": "execute_result"
    }
   ],
   "source": [
    "workingDays([1,1,1,0,1,1,1] ,k = 3)"
   ]
  },
  {
   "cell_type": "markdown",
   "metadata": {},
   "source": [
    "### Valid Mountain Array\n",
    "Given an array A of integers, return true if and only if it is a valid mountain array.\n",
    "\n",
    "Recall that A is a mountain array if and only if:\n",
    "\n",
    "* A.length >= 3\n",
    "\n",
    "* There exists some i with 0 < i < A.length - 1 such that:\n",
    "\n",
    "    * A[0] < A[1] < ... A[i-1] < A[i]\n",
    "\n",
    "    * A[i] > A[i+1] > ... > A[A.length - 1]"
   ]
  },
  {
   "cell_type": "code",
   "execution_count": 20,
   "metadata": {},
   "outputs": [],
   "source": [
    "def isMountain(a):\n",
    "    i = 0\n",
    "    while i<len(a)-1 and a[i+1]>a[i]:\n",
    "        i += 1\n",
    "    if i == 0 or i == len(a)-1:\n",
    "        return False\n",
    "    while i<len(a)-1 and a[i+1]<a[i]:\n",
    "        i += 1\n",
    "    return i == len(a)-1"
   ]
  },
  {
   "cell_type": "markdown",
   "metadata": {},
   "source": [
    "### Longest Mountain in an array"
   ]
  },
  {
   "cell_type": "code",
   "execution_count": 21,
   "metadata": {},
   "outputs": [
    {
     "data": {
      "text/plain": [
       "5"
      ]
     },
     "execution_count": 21,
     "metadata": {},
     "output_type": "execute_result"
    }
   ],
   "source": [
    "def longestMountain(a):\n",
    "    max_ = 0; i=0;j=0; n = len(a)\n",
    "    while j < n-1:\n",
    "        peak = False\n",
    "        trough = False\n",
    "        while j<n-1 and a[j+1]>a[j]:\n",
    "            j += 1\n",
    "            peak = True\n",
    "        if not peak:\n",
    "            j += 1\n",
    "            i = j\n",
    "            continue\n",
    "        while j<n-1 and a[j]>a[j+1]:\n",
    "            j += 1\n",
    "            trough = True\n",
    "        if peak and trough:\n",
    "            max_ = max(max_, j-i+1)\n",
    "        i = j\n",
    "    return max_\n",
    "longestMountain([2,1,4,7,3,2,5])"
   ]
  },
  {
   "cell_type": "markdown",
   "metadata": {},
   "source": [
    "### Longest Substring with At Most K Distinct Characters\n",
    "Given a string, find the length of the longest substring T that contains at most k distinct characters.\n",
    "\n",
    "Example 1:\n",
    "\n",
    "* Input: s = \"eceba\", k = 2\n",
    "* Output: 3\n",
    "* Explanation: T is \"ece\" which its length is 3."
   ]
  },
  {
   "cell_type": "code",
   "execution_count": 11,
   "metadata": {},
   "outputs": [
    {
     "data": {
      "text/plain": [
       "3"
      ]
     },
     "execution_count": 11,
     "metadata": {},
     "output_type": "execute_result"
    }
   ],
   "source": [
    "def lengthOfLongestSubstringKDistinct(s, k):\n",
    "    from collections import Counter\n",
    "    count = Counter(); start = 0; max_length = 0\n",
    "    for end in range(len(s)):\n",
    "        count[s[end]] += 1\n",
    "        while len(count)>k:\n",
    "            count[s[start]] -= 1\n",
    "            if count[s[start]] == 0:\n",
    "                del count[s[start]]\n",
    "            start += 1\n",
    "        max_length = max(max_length, end-start+1)\n",
    "    return max_length\n",
    "\n",
    "lengthOfLongestSubstringKDistinct('eceba', 2)"
   ]
  },
  {
   "cell_type": "markdown",
   "metadata": {},
   "source": [
    "### Subarrays with K Different Integers\n",
    "Given an array A of positive integers, call a (contiguous, not necessarily distinct) subarray of A good if the number of different integers in that subarray is exactly K.\n",
    "\n",
    "(For example, [1,2,3,1,2] has 3 different integers: 1, 2, and 3.)\n",
    "\n",
    "Return the number of good subarrays of A.\n",
    "\n",
    "* Input: A = [1,2,1,3,4], K = 3\n",
    "* Output: 3\n",
    "* Explanation: Subarrays formed with exactly 3 different integers: [1,2,1,3], [2,1,3], [1,3,4].\n"
   ]
  },
  {
   "cell_type": "code",
   "execution_count": 23,
   "metadata": {},
   "outputs": [
    {
     "data": {
      "text/plain": [
       "3"
      ]
     },
     "execution_count": 23,
     "metadata": {},
     "output_type": "execute_result"
    }
   ],
   "source": [
    "def subarraysWithKDistinct(A, K):\n",
    "    return countAtMostK(A,K) - countAtMostK(A,K-1)\n",
    "    \n",
    "def countAtMostK(A, k):\n",
    "    from collections import Counter\n",
    "    count = Counter(); result = 0; left = 0\n",
    "    for right in range(len(A)):\n",
    "        count[A[right]] += 1\n",
    "        while len(count) > k:\n",
    "            count[A[left]] -= 1\n",
    "            if count[A[left]] == 0:\n",
    "                del count[A[left]]\n",
    "            left += 1\n",
    "        result += right - left + 1\n",
    "    return result\n",
    "\n",
    "subarraysWithKDistinct([1,2,1,3,4], 3)"
   ]
  },
  {
   "cell_type": "markdown",
   "metadata": {},
   "source": [
    "### Longest Repeating Character Replacement\n",
    "Given a string that consists of only uppercase English letters, you can replace any letter in the string with another letter at most k times. Find the length of a longest substring containing all repeating letters you can get after performing the above operations.\n",
    "\n",
    "Input:\n",
    "\n",
    "s = \"ABAB\", k = 2\n",
    "\n",
    "Output:\n",
    "4\n",
    "\n",
    "Explanation:\n",
    "Replace the two 'A's with two 'B's or vice versa."
   ]
  },
  {
   "cell_type": "code",
   "execution_count": 1,
   "metadata": {},
   "outputs": [
    {
     "data": {
      "text/plain": [
       "4"
      ]
     },
     "execution_count": 1,
     "metadata": {},
     "output_type": "execute_result"
    }
   ],
   "source": [
    "def characterReplacement(s, k):\n",
    "    from collections import Counter\n",
    "    count = Counter(); result = 0; max_count = 0; start = 0\n",
    "    for end in range(len(s)):\n",
    "        count[s[end]] += 1\n",
    "        max_count = max(max_count, count[s[end]])\n",
    "        while end - start + 1 - max_count > k:\n",
    "            count[s[start]] -= 1\n",
    "            start += 1\n",
    "        result = max(result, end-start+1)\n",
    "    return result\n",
    "\n",
    "characterReplacement('ACBQB', 2)\n",
    "characterReplacement('ABCA', 2)"
   ]
  },
  {
   "cell_type": "markdown",
   "metadata": {},
   "source": [
    "### Max Consecutive Ones III\n",
    "Given an array A of 0s and 1s, we may change up to K values from 0 to 1.\n",
    "\n",
    "Return the length of the longest (contiguous) subarray that contains only 1s. \n",
    "\n",
    " \n",
    "\n",
    "Example 1:\n",
    "\n",
    "* Input: A = [1,1,1,0,0,0,1,1,1,1,0], K = 2\n",
    "* Output: 6\n",
    "* Explanation: [1,1,1,0,0,1,1,1,1,1,1]\n",
    "* Bolded numbers were flipped from 0 to 1.  The longest subarray is underlined.\n",
    "\n",
    "**Similar Problem : Longest Subarray of 1's After Deleting One Element**"
   ]
  },
  {
   "cell_type": "code",
   "execution_count": 25,
   "metadata": {},
   "outputs": [
    {
     "data": {
      "text/plain": [
       "6"
      ]
     },
     "execution_count": 25,
     "metadata": {},
     "output_type": "execute_result"
    }
   ],
   "source": [
    "def longestOnes(nums, K):\n",
    "    left = 0; sum = 0; result = 0\n",
    "    for right in range(len(nums)):\n",
    "        sum += nums[right]\n",
    "        while right-left+1-sum>K:\n",
    "            sum -= nums[left]\n",
    "            left += 1\n",
    "        result = max(result, right-left+1)\n",
    "    return result\n",
    "\n",
    "longestOnes([1,1,1,0,0,0,1,1,1,1,0], 2)"
   ]
  },
  {
   "cell_type": "markdown",
   "metadata": {},
   "source": [
    "### Find K-Length Substrings With No Repeated Characters\n",
    "Given a string S, return the number of substrings of length K with no repeated characters.\n",
    "Example \n",
    "* Input: S = \"havefunonleetcode\", K = 5\n",
    "* Output: 6\n",
    "* Explanation: There are 6 substrings they are : 'havef','avefu','vefun','efuno','etcod','tcode'."
   ]
  },
  {
   "cell_type": "code",
   "execution_count": 27,
   "metadata": {},
   "outputs": [
    {
     "data": {
      "text/plain": [
       "6"
      ]
     },
     "execution_count": 27,
     "metadata": {},
     "output_type": "execute_result"
    }
   ],
   "source": [
    "def numKLenSubstrNoRepeats(S, k):\n",
    "    from collections import Counter\n",
    "    left = 0; ans = 0; count = Counter()\n",
    "    for right in range(len(S)):\n",
    "        count[S[right]] += 1\n",
    "        if right - left + 1 == k:\n",
    "            if len(count) == k:\n",
    "                ans += 1\n",
    "            count[S[left]] -= 1\n",
    "            if count[S[left]] == 0:\n",
    "                del count[S[left]]\n",
    "            left += 1\n",
    "\n",
    "    return ans\n",
    "\n",
    "numKLenSubstrNoRepeats(\"havefunonleetcode\", k = 5)"
   ]
  },
  {
   "cell_type": "markdown",
   "metadata": {},
   "source": [
    "### Number of subarrays having product less than K\n",
    "Given an Array of positive numbers, calculate the number of possible contigous subarrays having product lesser than a given number K."
   ]
  },
  {
   "cell_type": "code",
   "execution_count": 1,
   "metadata": {},
   "outputs": [
    {
     "data": {
      "text/plain": [
       "1"
      ]
     },
     "execution_count": 1,
     "metadata": {},
     "output_type": "execute_result"
    }
   ],
   "source": [
    "def count(nums, k):\n",
    "    product = 1; left = 0; ans = 0\n",
    "    for right in range(len(nums)):\n",
    "        product *= nums[right]\n",
    "        while left<=right and product>=k:\n",
    "            product /= nums[left]\n",
    "            left += 1\n",
    "        ans += right -left + 1\n",
    "    return ans\n",
    "\n",
    "# count([10, 4, 3, 6]  ,0)\n",
    "count([100,200],101)"
   ]
  },
  {
   "cell_type": "markdown",
   "metadata": {},
   "source": [
    "### Count subarrays with all elements greater than K\n",
    "* Input: a[] = {3, 4, 5, 6, 7, 2, 10, 11}, K = 5\n",
    "* Output: 6\n",
    "* The possible subarrays are {6}, {7}, {6, 7}, {10}, {11} and {10, 11}."
   ]
  },
  {
   "cell_type": "code",
   "execution_count": 10,
   "metadata": {},
   "outputs": [
    {
     "data": {
      "text/plain": [
       "6"
      ]
     },
     "execution_count": 10,
     "metadata": {},
     "output_type": "execute_result"
    }
   ],
   "source": [
    "def count_subarray(nums, k):\n",
    "    count = 0; left = 0; right = 0\n",
    "    while right<len(nums):\n",
    "        if nums[right]>k:\n",
    "            count += right-left+1\n",
    "            right += 1\n",
    "        else:\n",
    "            right += 1\n",
    "            left = right\n",
    "    return count\n",
    "count_subarray([3, 4, 5, 6, 7, 2, 10, 11], 5)"
   ]
  },
  {
   "cell_type": "markdown",
   "metadata": {},
   "source": [
    "### Maximum Points You Can Obtain from Cards\n",
    "There are several cards arranged in a row, and each card has an associated number of points The points are given in the integer array cardPoints.\n",
    "\n",
    "In one step, you can take one card from the beginning or from the end of the row. You have to take exactly k cards.\n",
    "\n",
    "Your score is the sum of the points of the cards you have taken.\n",
    "\n",
    "Given the integer array cardPoints and the integer k, return the maximum score you can obtain.\n",
    "\n"
   ]
  },
  {
   "cell_type": "code",
   "execution_count": 1,
   "metadata": {},
   "outputs": [
    {
     "data": {
      "text/plain": [
       "12"
      ]
     },
     "execution_count": 1,
     "metadata": {},
     "output_type": "execute_result"
    }
   ],
   "source": [
    "def maxScore(cardPoints, k: int) -> int:\n",
    "    n = len(cardPoints)\n",
    "    if k == n:\n",
    "        return sum(cardPoints)\n",
    "\n",
    "    arr1 = cardPoints[:k]\n",
    "    arr2 = cardPoints[n-k:]\n",
    "\n",
    "    arr = arr2 + arr1\n",
    "\n",
    "    start = 0; ans = -float('inf'); s = 0\n",
    "    for end in range(len(arr)):\n",
    "        s += arr[end]\n",
    "        if end - start + 1 == k:\n",
    "            ans = max(ans, s)\n",
    "            s -= arr[start]\n",
    "            start += 1\n",
    "\n",
    "    return ans\n",
    "\n",
    "cardPoints = [1,2,3,4,5,6,1]; k = 3\n",
    "maxScore(cardPoints, k)"
   ]
  },
  {
   "cell_type": "markdown",
   "metadata": {},
   "source": [
    "### Minimum Swaps to Group All 1's Together\n",
    "Given a binary array data, return the minimum number of swaps required to group all 1’s present in the array together in any place in the array."
   ]
  },
  {
   "cell_type": "code",
   "execution_count": 4,
   "metadata": {},
   "outputs": [
    {
     "data": {
      "text/plain": [
       "3"
      ]
     },
     "execution_count": 4,
     "metadata": {},
     "output_type": "execute_result"
    }
   ],
   "source": [
    "def minSwaps(data) -> int:\n",
    "    num_1 = 0\n",
    "    for num in data:\n",
    "        num_1 += num\n",
    "\n",
    "    left = 0; pre_sum = 0; max_pre_sum = 0\n",
    "    for right in range(len(data)):\n",
    "        pre_sum += data[right]\n",
    "        if right - left + 1 == num_1:\n",
    "            max_pre_sum = max(max_pre_sum, pre_sum)\n",
    "            pre_sum -= data[left]\n",
    "            left += 1\n",
    "\n",
    "    return num_1 - max_pre_sum\n",
    "\n",
    "data = [1,0,1,0,1,0,0,1,1,0,1]\n",
    "minSwaps(data)"
   ]
  },
  {
   "cell_type": "markdown",
   "metadata": {},
   "source": [
    "### Longest Continuous Subarray With Absolute Diff Less Than or Equal to Limit\n",
    "Given an array of integers nums and an integer limit, return the size of the longest continuous subarray such that the absolute difference between any two elements is less than or equal to limit.\n",
    "\n",
    "In case there is no subarray satisfying the given condition return 0."
   ]
  },
  {
   "cell_type": "code",
   "execution_count": 5,
   "metadata": {},
   "outputs": [
    {
     "data": {
      "text/plain": [
       "2"
      ]
     },
     "execution_count": 5,
     "metadata": {},
     "output_type": "execute_result"
    }
   ],
   "source": [
    "from collections import deque\n",
    "def longestSubarray(nums, limit: int) -> int:\n",
    "    ans = 0\n",
    "    max_queue = deque()\n",
    "    min_queue = deque()\n",
    "\n",
    "    left = 0\n",
    "    for right in range(len(nums)):\n",
    "\n",
    "        while max_queue and max_queue[-1] < nums[right]: \n",
    "            max_queue.pop()\n",
    "        while min_queue and min_queue[-1] > nums[right]:\n",
    "            min_queue.pop()\n",
    "\n",
    "        max_queue.append(nums[right])\n",
    "        min_queue.append(nums[right])\n",
    "\n",
    "        while left <= right and max_queue[0] - min_queue[0] > limit:\n",
    "            left_val = nums[left]\n",
    "            left += 1\n",
    "            if left_val == max_queue[0]:\n",
    "                max_queue.popleft()\n",
    "            if left_val == min_queue[0]:\n",
    "                min_queue.popleft()\n",
    "\n",
    "        ans = max(ans, right-left+1)\n",
    "\n",
    "    return ans\n",
    "\n",
    "nums = [8,2,4,7]; limit = 4\n",
    "longestSubarray(nums, limit)"
   ]
  },
  {
   "cell_type": "markdown",
   "metadata": {},
   "source": [
    "### Maximum Number of Vowels in a Substring of Given Length\n",
    "\n",
    "Given a string s and an integer k.\n",
    "\n",
    "Return the maximum number of vowel letters in any substring of s with length k.\n",
    "\n",
    "Vowel letters in English are (a, e, i, o, u)."
   ]
  },
  {
   "cell_type": "code",
   "execution_count": 2,
   "metadata": {},
   "outputs": [
    {
     "data": {
      "text/plain": [
       "3"
      ]
     },
     "execution_count": 2,
     "metadata": {},
     "output_type": "execute_result"
    }
   ],
   "source": [
    "def maxVowels(string: str, k: int) -> int:\n",
    "    vowels = max_vowels = 0\n",
    "    left = 0; s = {'a', 'e', 'i', 'o', 'u'}\n",
    "    for right, ch in enumerate(string):\n",
    "        vowels += 1 if ch in s else 0\n",
    "        if right - left + 1 == k:\n",
    "            max_vowels = max(max_vowels, vowels)\n",
    "            vowels -= 1 if string[left] in s else 0\n",
    "            left += 1\n",
    "\n",
    "    return max_vowels\n",
    "\n",
    "maxVowels(\"abciiidef\", k = 3)"
   ]
  },
  {
   "cell_type": "markdown",
   "metadata": {},
   "source": [
    "### Grumpy Bookstore Owner\n",
    "\n",
    "Today, the bookstore owner has a store open for customers.length minutes.  Every minute, some number of customers (customers[i]) enter the store, and all those customers leave after the end of that minute.\n",
    "\n",
    "On some minutes, the bookstore owner is grumpy.  If the bookstore owner is grumpy on the i-th minute, grumpy[i] = 1, otherwise grumpy[i] = 0.  When the bookstore owner is grumpy, the customers of that minute are not satisfied, otherwise they are satisfied.\n",
    "\n",
    "The bookstore owner knows a secret technique to keep themselves not grumpy for X minutes straight, but can only use it once.\n",
    "\n",
    "Return the maximum number of customers that can be satisfied throughout the day."
   ]
  },
  {
   "cell_type": "code",
   "execution_count": 3,
   "metadata": {},
   "outputs": [
    {
     "data": {
      "text/plain": [
       "16"
      ]
     },
     "execution_count": 3,
     "metadata": {},
     "output_type": "execute_result"
    }
   ],
   "source": [
    "def maxSatisfied(customers, grumpy, X: int) -> int:\n",
    "    satisfied = max_satisfied = window_sat = 0\n",
    "    left = 0\n",
    "    for right in range(len(customers)):\n",
    "        g, c = grumpy[right], customers[right]\n",
    "        satisfied += (1-g)*c\n",
    "        window_sat += g*c\n",
    "        if right - left + 1 == X:\n",
    "            max_satisfied = max(max_satisfied, window_sat)\n",
    "            window_sat -= grumpy[left] * customers[left]\n",
    "            left += 1\n",
    "\n",
    "    return satisfied + max_satisfied\n",
    "\n",
    "customers = [1,0,1,2,1,1,7,5]; grumpy = [0,1,0,1,0,1,0,1]; X = 3\n",
    "maxSatisfied(customers, grumpy, X)"
   ]
  },
  {
   "cell_type": "markdown",
   "metadata": {},
   "source": [
    "### Get Equal Substrings Within Budget\n",
    "\n",
    "You are given two strings s and t of the same length. You want to change s to t. Changing the i-th character of s to i-th character of t costs |s[i] - t[i]| that is, the absolute difference between the ASCII values of the characters.\n",
    "\n",
    "You are also given an integer maxCost.\n",
    "\n",
    "Return the maximum length of a substring of s that can be changed to be the same as the corresponding substring of twith a cost less than or equal to maxCost.\n",
    "\n",
    "If there is no substring from s that can be changed to its corresponding substring from t, return 0."
   ]
  },
  {
   "cell_type": "code",
   "execution_count": 6,
   "metadata": {},
   "outputs": [
    {
     "data": {
      "text/plain": [
       "3"
      ]
     },
     "execution_count": 6,
     "metadata": {},
     "output_type": "execute_result"
    }
   ],
   "source": [
    "def equalSubstring(s: str, t: str, maxCost: int) -> int:\n",
    "    cost = 0\n",
    "    ans = 0\n",
    "    left = 0\n",
    "    for right in range(len(s)):\n",
    "        cost += abs(ord(s[right]) - ord(t[right]))\n",
    "        while cost > maxCost:\n",
    "            cost -= abs(ord(s[left]) - ord(t[left]))\n",
    "            left += 1\n",
    "        ans = max(ans, right-left+1)\n",
    "    return ans\n",
    "\n",
    "equalSubstring(s = \"abcd\", t = \"bcdf\", maxCost = 3)"
   ]
  },
  {
   "cell_type": "markdown",
   "metadata": {},
   "source": [
    "###  Replace the Substring for Balanced String\n",
    "\n",
    "You are given a string containing only 4 kinds of characters 'Q', 'W', 'E' and 'R'.\n",
    "\n",
    "A string is said to be balanced if each of its characters appears n/4 times where n is the length of the string.\n",
    "\n",
    "Return the minimum length of the substring that can be replaced with any other string of the same length to make the original string s balanced.\n",
    "\n",
    "**Similar Question** : Minimum Window Substring"
   ]
  },
  {
   "cell_type": "code",
   "execution_count": 8,
   "metadata": {},
   "outputs": [
    {
     "data": {
      "text/plain": [
       "2"
      ]
     },
     "execution_count": 8,
     "metadata": {},
     "output_type": "execute_result"
    }
   ],
   "source": [
    "from collections import Counter\n",
    "class Solution:\n",
    "    def balancedString(self, s: str) -> int:\n",
    "        avg = len(s)//4\n",
    "        counter = Counter(s); flag = False\n",
    "        string = ''\n",
    "        for ch, freq in counter.items():\n",
    "            if freq > avg:\n",
    "                string += ch*(freq-avg)       \n",
    "        if not string:\n",
    "            return 0\n",
    "        return self.helper(s, string)\n",
    "    \n",
    "    def helper(self, s, t):\n",
    "        target_freq = Counter(t)\n",
    "        window_freq = Counter()\n",
    "        required = len(target_freq)\n",
    "        formed = 0\n",
    "        left = 0; ans = float('inf')\n",
    "        \n",
    "        for right, ch in enumerate(s):\n",
    "            window_freq[ch] += 1\n",
    "            if window_freq[ch] == target_freq[ch]:\n",
    "                formed += 1\n",
    "            while required == formed:\n",
    "                ans = min(ans, right-left+1)\n",
    "                char = s[left]\n",
    "                if window_freq[char] == target_freq[char]:\n",
    "                    formed -= 1\n",
    "                window_freq[char] -= 1\n",
    "                left += 1\n",
    "        return ans\n",
    "        \n",
    "\n",
    "Solution().balancedString(s = \"QQQW\")"
   ]
  }
 ],
 "metadata": {
  "kernelspec": {
   "display_name": "Python 3",
   "language": "python",
   "name": "python3"
  },
  "language_info": {
   "codemirror_mode": {
    "name": "ipython",
    "version": 3
   },
   "file_extension": ".py",
   "mimetype": "text/x-python",
   "name": "python",
   "nbconvert_exporter": "python",
   "pygments_lexer": "ipython3",
   "version": "3.6.8"
  }
 },
 "nbformat": 4,
 "nbformat_minor": 2
}
