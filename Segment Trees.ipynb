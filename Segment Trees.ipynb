{
 "cells": [
  {
   "cell_type": "markdown",
   "metadata": {},
   "source": [
    "### Range Sum Query - Immutable\n",
    "Given an integer array nums, find the sum of the elements between indices i and j (i ≤ j), inclusive.\n",
    "\n",
    "Example:\n",
    "Given nums = [-2, 0, 3, -5, 2, -1]\n",
    "\n",
    "* sumRange(0, 2) -> 1\n",
    "* sumRange(2, 5) -> -1\n",
    "* sumRange(0, 5) -> -3"
   ]
  },
  {
   "cell_type": "code",
   "execution_count": 8,
   "metadata": {},
   "outputs": [],
   "source": [
    "class NumArray:\n",
    "\n",
    "    def __init__(self, nums):\n",
    "        self.arr = []\n",
    "        sum = 0\n",
    "        for num in nums:\n",
    "            sum += num\n",
    "            self.arr.append(sum)\n",
    "        \n",
    "\n",
    "    def sumRange(self, i: int, j: int) -> int:\n",
    "        if i == 0:\n",
    "            return self.arr[j]\n",
    "        \n",
    "        return self.arr[j] - self.arr[i-1]\n",
    "\n",
    "obj = NumArray([-2,0,3,-5,2,-1])\n",
    "assert obj.sumRange(0,2) == 1\n",
    "assert obj.sumRange(2,5) == -1\n",
    "assert obj.sumRange(0,5) == -3"
   ]
  },
  {
   "cell_type": "markdown",
   "metadata": {},
   "source": [
    "### Range Sum Query - Mutable\n",
    "Given an integer array nums, find the sum of the elements between indices i and j (i ≤ j), inclusive.\n",
    "\n",
    "The update(i, val) function modifies nums by updating the element at index i to val.\n",
    "\n",
    "Example:\n",
    "\n",
    "Given nums = [1, 3, 5]\n",
    "\n",
    "* sumRange(0, 2) -> 9\n",
    "* update(1, 2)\n",
    "* sumRange(0, 2) -> 8\n"
   ]
  },
  {
   "cell_type": "code",
   "execution_count": 12,
   "metadata": {},
   "outputs": [],
   "source": [
    "class NumArray:\n",
    "\n",
    "    def __init__(self, nums):\n",
    "        self.root = self.buildTree(nums, 0, len(nums)-1)\n",
    "    \n",
    "    def buildTree(self, nums, l, r):\n",
    "        if l>r: return None\n",
    "        if l == r:\n",
    "            node = TreeNode(l,r)\n",
    "            node.total = nums[l]\n",
    "            return node\n",
    "        root = TreeNode(l,r)\n",
    "        mid = (l+r)//2\n",
    "        root.left = self.buildTree(nums, l, mid)\n",
    "        root.right = self.buildTree(nums, mid+1, r)\n",
    "        root.total = root.left.total + root.right.total\n",
    "        return root\n",
    "        \n",
    "\n",
    "    def update(self, i: int, val: int) -> None:\n",
    "        self.updateHelper(self.root, i, val)\n",
    "    \n",
    "    def updateHelper(self, root, i, val):\n",
    "        if root.start == root.end:\n",
    "            root.total = val\n",
    "            return\n",
    "        mid = (root.start + root.end) // 2\n",
    "        if i<=mid:\n",
    "            self.updateHelper(root.left, i, val)\n",
    "        else:\n",
    "            self.updateHelper(root.right, i, val)\n",
    "        root.total = root.left.total + root.right.total\n",
    "        \n",
    "\n",
    "    def sumRange(self, i: int, j: int) -> int:\n",
    "        return self.sumRangeHelper(self.root, i, j)\n",
    "    \n",
    "    def sumRangeHelper(self, root, i, j):\n",
    "        if root.start==i and root.end==j:\n",
    "            return root.total\n",
    "        mid = (root.start + root.end) // 2\n",
    "        if j<=mid:\n",
    "            return self.sumRangeHelper(root.left, i, j)\n",
    "        elif i>=mid+1:\n",
    "            return self.sumRangeHelper(root.right, i, j)\n",
    "        else:\n",
    "            return self.sumRangeHelper(root.left, i, mid) + self.sumRangeHelper(root.right, mid+1, j)\n",
    "\n",
    "class TreeNode:\n",
    "    def __init__(self, start, end):\n",
    "        self.start = start\n",
    "        self.end = end\n",
    "        self.total = 0\n",
    "        self.left = None\n",
    "        self.right = None"
   ]
  },
  {
   "cell_type": "code",
   "execution_count": 17,
   "metadata": {},
   "outputs": [
    {
     "data": {
      "text/plain": [
       "9"
      ]
     },
     "execution_count": 17,
     "metadata": {},
     "output_type": "execute_result"
    }
   ],
   "source": [
    "obj = NumArray([1,3,5])\n",
    "obj.sumRange(0,2)"
   ]
  }
 ],
 "metadata": {
  "kernelspec": {
   "display_name": "Python 3",
   "language": "python",
   "name": "python3"
  },
  "language_info": {
   "codemirror_mode": {
    "name": "ipython",
    "version": 3
   },
   "file_extension": ".py",
   "mimetype": "text/x-python",
   "name": "python",
   "nbconvert_exporter": "python",
   "pygments_lexer": "ipython3",
   "version": "3.6.8"
  }
 },
 "nbformat": 4,
 "nbformat_minor": 2
}
